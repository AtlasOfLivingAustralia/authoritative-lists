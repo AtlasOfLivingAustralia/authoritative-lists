{
 "cells": [
  {
   "cell_type": "markdown",
   "source": [
    "# Report SDS Metadata and record counts\n",
    "\n",
    "This notebook d\n",
    "\n",
    "\n"
   ],
   "metadata": {
    "collapsed": false,
    "pycharm": {
     "name": "#%% md\n"
    }
   }
  },
  {
   "cell_type": "code",
   "execution_count": 1,
   "outputs": [],
   "source": [
    "##############################################################################################\n",
    "#\n",
    "# SDS List Information Report\n",
    "# Extract SDS Information for each state\n",
    "# Output report\n",
    "# Output information files to : ..\\authoritative-lists\\analysis\\reports\n",
    "##############################################################################################\n",
    "#\n",
    "import sys\n",
    "import os\n",
    "import urllib.request\n",
    "import json\n",
    "import certifi\n",
    "import ssl\n",
    "import datetime\n",
    "import pandas as pd\n",
    "\n",
    "projectdir = \"/Users/oco115/PycharmProjects/authoritative-lists/\"\n",
    "outdir = projectdir + \"Monitoring/\"\n",
    "sys.path.append(os.path.abspath(projectdir + \"source-code/includes\"))\n",
    "import list_functions as lf\n",
    "import configuration as cfg\n",
    "monthStr = datetime.datetime.now().strftime('%Y%m%d')\n"
   ],
   "metadata": {
    "collapsed": false,
    "pycharm": {
     "name": "#%%\n"
    }
   }
  },
  {
   "cell_type": "markdown",
   "source": [
    "### Download from URL function definition"
   ],
   "metadata": {
    "collapsed": false,
    "pycharm": {
     "name": "#%% md\n"
    }
   }
  },
  {
   "cell_type": "code",
   "execution_count": 28,
   "outputs": [],
   "source": [
    "def download_url(url: str):\n",
    "    print(\"download from: \", url)\n",
    "    with urllib.request.urlopen(url, context=ssl.create_default_context(cafile=certifi.where())) as url:\n",
    "        if url.status == 200:\n",
    "            data = json.loads(url.read().decode())\n",
    "            data = pd.json_normalize(data)\n",
    "\n",
    "        else:\n",
    "            # Handle the error\n",
    "            print('Error in download_ala_list:', url.status)\n",
    "    return data"
   ],
   "metadata": {
    "collapsed": false,
    "pycharm": {
     "name": "#%%\n"
    }
   }
  },
  {
   "cell_type": "code",
   "execution_count": null,
   "outputs": [],
   "source": [
    "# Need State and List UID\n",
    "# Generalised count\n",
    "urlgen = 'https://api.ala.org.au/occurrences/occurrences/search?q=species_list_uid%3Adr2627&fq=sensitive%3Ageneralised&im=false'\n",
    "data = download_url(urlgen)\n",
    "genCt = data['totalRecords'][0]\n",
    "\n",
    "# Already Generalised\n",
    "urlagen = 'https://api.ala.org.au/occurrences/occurrences/search?q=species_list_uid%3Adr2627&fq=sensitive%3AalreadyGeneralised&im=false'\n",
    "data = download_url(urlagen)\n",
    "aGenCt = data['totalRecords'][0]\n",
    "\n",
    "# Not supplied\n",
    "urlns = 'https://api.ala.org.au/occurrences/occurrences/search?q=species_list_uid%3Adr2627&&fq=-sensitive%3A*'\n",
    "data = download_url(urlns)\n",
    "nsCt = data['totalRecords'][0]\n",
    "\n",
    "totCt= genCt + aGenCt\n",
    "\n",
    "# Returns pecies in the Species list\n",
    "# urlgen = 'https://api.ala.org.au/specieslist/ws/queryListItemOrKVP?druid=dr2627&fields=fields%3Dspecies'"
   ],
   "metadata": {
    "collapsed": false,
    "pycharm": {
     "name": "#%%\n"
    }
   }
  },
  {
   "cell_type": "code",
   "execution_count": 50,
   "outputs": [
    {
     "name": "stdout",
     "output_type": "stream",
     "text": [
      "download from:  https://api.ala.org.au/occurrences/explore/groups?q=q%3Dspecies_list_uid%253Adr2627&fq=fq%3Dsensitive\n"
     ]
    }
   ],
   "source": [
    "\n",
    "# species group count\n",
    "urlsct = 'https://api.ala.org.au/occurrences/explore/groups?q=q%3Dspecies_list_uid%253Adr2627&fq=fq%3Dsensitive%253AalreadyGeneralised%26im%3Dfalse'\n",
    "sdata = download_url(urlsct)\n",
    "spCt = sdata['speciesCount'][0]"
   ],
   "metadata": {
    "collapsed": false,
    "pycharm": {
     "name": "#%%\n"
    }
   }
  },
  {
   "cell_type": "code",
   "execution_count": 51,
   "outputs": [
    {
     "data": {
      "text/plain": "              name  count  speciesCount  level\n0      ALL_SPECIES   8789            81      0\n1          Animals     68            55      1\n2          Mammals      6             5      2\n3            Birds     48            37      2\n4         Reptiles      6             6      2\n5       Amphibians      0             0      2\n6           Fishes      4             3      2\n7         Molluscs      0             0      2\n8       Arthropods      0             0      2\n9      Crustaceans      0             0      3\n10         Insects      0             0      3\n11          Plants   8721            26      1\n12      Bryophytes      0             0      2\n13     Gymnosperms      3             1      2\n14  FernsAndAllies      0             0      2\n15     Angiosperms   8718            25      2\n16        Monocots      3             3      3\n17          Dicots   8715            22      3\n18           Fungi      0             0      1\n19       Chromista      0             0      1\n20        Protozoa      0             0      1\n21        Bacteria      0             0      1\n22           Algae      0             0      1",
      "text/html": "<div>\n<style scoped>\n    .dataframe tbody tr th:only-of-type {\n        vertical-align: middle;\n    }\n\n    .dataframe tbody tr th {\n        vertical-align: top;\n    }\n\n    .dataframe thead th {\n        text-align: right;\n    }\n</style>\n<table border=\"1\" class=\"dataframe\">\n  <thead>\n    <tr style=\"text-align: right;\">\n      <th></th>\n      <th>name</th>\n      <th>count</th>\n      <th>speciesCount</th>\n      <th>level</th>\n    </tr>\n  </thead>\n  <tbody>\n    <tr>\n      <th>0</th>\n      <td>ALL_SPECIES</td>\n      <td>8789</td>\n      <td>81</td>\n      <td>0</td>\n    </tr>\n    <tr>\n      <th>1</th>\n      <td>Animals</td>\n      <td>68</td>\n      <td>55</td>\n      <td>1</td>\n    </tr>\n    <tr>\n      <th>2</th>\n      <td>Mammals</td>\n      <td>6</td>\n      <td>5</td>\n      <td>2</td>\n    </tr>\n    <tr>\n      <th>3</th>\n      <td>Birds</td>\n      <td>48</td>\n      <td>37</td>\n      <td>2</td>\n    </tr>\n    <tr>\n      <th>4</th>\n      <td>Reptiles</td>\n      <td>6</td>\n      <td>6</td>\n      <td>2</td>\n    </tr>\n    <tr>\n      <th>5</th>\n      <td>Amphibians</td>\n      <td>0</td>\n      <td>0</td>\n      <td>2</td>\n    </tr>\n    <tr>\n      <th>6</th>\n      <td>Fishes</td>\n      <td>4</td>\n      <td>3</td>\n      <td>2</td>\n    </tr>\n    <tr>\n      <th>7</th>\n      <td>Molluscs</td>\n      <td>0</td>\n      <td>0</td>\n      <td>2</td>\n    </tr>\n    <tr>\n      <th>8</th>\n      <td>Arthropods</td>\n      <td>0</td>\n      <td>0</td>\n      <td>2</td>\n    </tr>\n    <tr>\n      <th>9</th>\n      <td>Crustaceans</td>\n      <td>0</td>\n      <td>0</td>\n      <td>3</td>\n    </tr>\n    <tr>\n      <th>10</th>\n      <td>Insects</td>\n      <td>0</td>\n      <td>0</td>\n      <td>3</td>\n    </tr>\n    <tr>\n      <th>11</th>\n      <td>Plants</td>\n      <td>8721</td>\n      <td>26</td>\n      <td>1</td>\n    </tr>\n    <tr>\n      <th>12</th>\n      <td>Bryophytes</td>\n      <td>0</td>\n      <td>0</td>\n      <td>2</td>\n    </tr>\n    <tr>\n      <th>13</th>\n      <td>Gymnosperms</td>\n      <td>3</td>\n      <td>1</td>\n      <td>2</td>\n    </tr>\n    <tr>\n      <th>14</th>\n      <td>FernsAndAllies</td>\n      <td>0</td>\n      <td>0</td>\n      <td>2</td>\n    </tr>\n    <tr>\n      <th>15</th>\n      <td>Angiosperms</td>\n      <td>8718</td>\n      <td>25</td>\n      <td>2</td>\n    </tr>\n    <tr>\n      <th>16</th>\n      <td>Monocots</td>\n      <td>3</td>\n      <td>3</td>\n      <td>3</td>\n    </tr>\n    <tr>\n      <th>17</th>\n      <td>Dicots</td>\n      <td>8715</td>\n      <td>22</td>\n      <td>3</td>\n    </tr>\n    <tr>\n      <th>18</th>\n      <td>Fungi</td>\n      <td>0</td>\n      <td>0</td>\n      <td>1</td>\n    </tr>\n    <tr>\n      <th>19</th>\n      <td>Chromista</td>\n      <td>0</td>\n      <td>0</td>\n      <td>1</td>\n    </tr>\n    <tr>\n      <th>20</th>\n      <td>Protozoa</td>\n      <td>0</td>\n      <td>0</td>\n      <td>1</td>\n    </tr>\n    <tr>\n      <th>21</th>\n      <td>Bacteria</td>\n      <td>0</td>\n      <td>0</td>\n      <td>1</td>\n    </tr>\n    <tr>\n      <th>22</th>\n      <td>Algae</td>\n      <td>0</td>\n      <td>0</td>\n      <td>1</td>\n    </tr>\n  </tbody>\n</table>\n</div>"
     },
     "execution_count": 51,
     "metadata": {},
     "output_type": "execute_result"
    }
   ],
   "source": [
    "# Species data count info\n",
    "sdata"
   ],
   "metadata": {
    "collapsed": false,
    "pycharm": {
     "name": "#%%\n"
    }
   }
  },
  {
   "cell_type": "code",
   "execution_count": 44,
   "outputs": [
    {
     "data": {
      "text/plain": "  State  ListID  Generalised  Already Generalised   Not Supplied  \\\n0   ACT  dr2627       125215                70871         740199   \n\n   Total Occurrences  Total Species  \n0             196086         139037  ",
      "text/html": "<div>\n<style scoped>\n    .dataframe tbody tr th:only-of-type {\n        vertical-align: middle;\n    }\n\n    .dataframe tbody tr th {\n        vertical-align: top;\n    }\n\n    .dataframe thead th {\n        text-align: right;\n    }\n</style>\n<table border=\"1\" class=\"dataframe\">\n  <thead>\n    <tr style=\"text-align: right;\">\n      <th></th>\n      <th>State</th>\n      <th>ListID</th>\n      <th>Generalised</th>\n      <th>Already Generalised</th>\n      <th>Not Supplied</th>\n      <th>Total Occurrences</th>\n      <th>Total Species</th>\n    </tr>\n  </thead>\n  <tbody>\n    <tr>\n      <th>0</th>\n      <td>ACT</td>\n      <td>dr2627</td>\n      <td>125215</td>\n      <td>70871</td>\n      <td>740199</td>\n      <td>196086</td>\n      <td>139037</td>\n    </tr>\n  </tbody>\n</table>\n</div>"
     },
     "execution_count": 44,
     "metadata": {},
     "output_type": "execute_result"
    }
   ],
   "source": [
    "# Summary data for list\n",
    "cols = ['State', 'ListID', 'Generalised', 'Already Generalised', ' Not Supplied', 'Total Occurrences', 'Total Species']\n",
    "values = [['ACT', 'dr2627', genCt, aGenCt, nsCt, totCt, spCt]]\n",
    "summarydf = pd.DataFrame(columns=cols)\n",
    "# summarydf = pd.DataFrame(values, columns=cols)\n",
    "summarydf = summarydf.append(pd.DataFrame(values, columns=column_headers), ignore_index=True)\n",
    "summarydf"
   ],
   "metadata": {
    "collapsed": false,
    "pycharm": {
     "name": "#%%\n"
    }
   }
  },
  {
   "cell_type": "markdown",
   "source": [],
   "metadata": {
    "collapsed": false,
    "pycharm": {
     "name": "#%% md\n"
    }
   }
  }
 ],
 "metadata": {
  "kernelspec": {
   "display_name": "Python 3",
   "language": "python",
   "name": "python3"
  },
  "language_info": {
   "codemirror_mode": {
    "name": "ipython",
    "version": 2
   },
   "file_extension": ".py",
   "mimetype": "text/x-python",
   "name": "python",
   "nbconvert_exporter": "python",
   "pygments_lexer": "ipython2",
   "version": "2.7.6"
  }
 },
 "nbformat": 4,
 "nbformat_minor": 0
}