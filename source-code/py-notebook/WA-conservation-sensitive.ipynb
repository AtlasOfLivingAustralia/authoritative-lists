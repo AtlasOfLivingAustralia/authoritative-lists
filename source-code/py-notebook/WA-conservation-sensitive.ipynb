{
 "cells": [
  {
   "cell_type": "markdown",
   "source": [
    "\n",
    "# WA Conservation & Sensitive Lists\n",
    "\n",
    "## List Identifiers\n",
    "* Conservation list: __[dr2201](https://lists.ala.org.au/speciesListItem/list/dr2201)__\n",
    "* Sensitive list: __[dr467](https://lists.ala.org.au/speciesListItem/list/dr467)__\n",
    "\n",
    "## Documentation\n",
    "* __[Home Page](https://www.dpaw.wa.gov.au/plants-and-animals/threatened-species-and-communities)__\n",
    "\n",
    "## Downloads\n",
    "* __[Fauna](https://www.dpaw.wa.gov.au/images/documents/plants-animals/threatened-species/Listings/Threatened%20and%20Priority%20Fauna%20List.xlsx)__\n",
    "* __[Flora](https://www.dpaw.wa.gov.au/images/documents/plants-animals/threatened-species/Listings/Threatened%20and%20Priority%20Flora%20List%205%20December%202018.xlsx)__\n",
    "\n",
    "**Note:**\n",
    "* WA uses the same data files for both conservation and sensitive lists.\n",
    "* Fauna and Flora are in separate files and have different formats.\n",
    "* Files are processed separately and then concatenated into a single file.\n"
   ],
   "metadata": {
    "collapsed": false,
    "pycharm": {
     "name": "#%% md\n"
    }
   }
  },
  {
   "cell_type": "markdown",
   "source": [
    "Import libraries\n",
    "Set project directories\n",
    "Set Excel file locations"
   ],
   "metadata": {
    "collapsed": false,
    "pycharm": {
     "name": "#%% md\n"
    }
   }
  },
  {
   "cell_type": "code",
   "execution_count": null,
   "outputs": [],
   "source": [
    "import pandas as pd\n",
    "import numpy as np"
   ],
   "metadata": {
    "collapsed": false,
    "pycharm": {
     "name": "#%%\n"
    }
   }
  },
  {
   "cell_type": "code",
   "execution_count": 9,
   "outputs": [],
   "source": [
    "projectdir = \"/Users/oco115/PycharmProjects/auth-lists-updates/WA-2022-10/\"\n",
    "basedir = \"/Users/oco115/PycharmProjects/authoritative-lists/WA-2022-10/\"\n",
    "# faunafile = \"https://www.dpaw.wa.gov.au/images/Threatened%20and%20Priority%20Fauna%20List%207%20October%202022.xlsx\"\n",
    "# florafile = \"https://www.dpaw.wa.gov.au/images/Threatened%20and%20Priority%20Flora%20List%206%20October%202022.xlsx\"\n",
    "\n",
    "faunafile = projectdir + \"source-data/Threatened and Priority Fauna List 7 October 2022-fixed.xlsx\"\n",
    "florafile = projectdir + \"source-data/Threatened and Priority Flora List 6 October 2022-fixed.xlsx\"\n",
    "\n"
   ],
   "metadata": {
    "collapsed": false,
    "pycharm": {
     "name": "#%%\n"
    }
   }
  },
  {
   "cell_type": "markdown",
   "source": [
    "## Process Fauna"
   ],
   "metadata": {
    "collapsed": false,
    "pycharm": {
     "name": "#%% md\n"
    }
   }
  },
  {
   "cell_type": "code",
   "execution_count": null,
   "outputs": [],
   "source": [
    "print('Process Fauna')\n",
    "print(\"Loading WA Fauna List\")\n",
    "fauna = pd.read_excel(faunafile,skiprows=0)\n",
    "print(\"Finished Fauna download\")\n",
    "fauna"
   ],
   "metadata": {
    "collapsed": false,
    "pycharm": {
     "name": "#%%\n"
    }
   }
  },
  {
   "cell_type": "code",
   "execution_count": 11,
   "outputs": [
    {
     "data": {
      "text/plain": "Index(['Scientific name', 'Common name', 'Class', 'WA listing',\n       'National listing', 'Kimberley', 'Pilbara', 'Goldfields', 'Midwest',\n       'Wheatbelt', 'South Coast', 'Swan', 'South West', 'Warren',\n       'WA listing.1', 'Notes'],\n      dtype='object')"
     },
     "execution_count": 11,
     "metadata": {},
     "output_type": "execute_result"
    }
   ],
   "source": [
    "fauna.columns"
   ],
   "metadata": {
    "collapsed": false,
    "pycharm": {
     "name": "#%%\n"
    }
   }
  },
  {
   "cell_type": "markdown",
   "source": [
    "Map DWC terms"
   ],
   "metadata": {
    "collapsed": false,
    "pycharm": {
     "name": "#%% md\n"
    }
   }
  },
  {
   "cell_type": "code",
   "execution_count": null,
   "outputs": [],
   "source": [
    "fauna = fauna.rename(columns=\n",
    "{\n",
    "        'Scientific name': 'scientificName',\n",
    "        'Common name': 'vernacularName',\n",
    "        'Class': 'class',\n",
    "        'WA listing': 'sourceStatus',\n",
    "        'National listing': 'epbc status',\n",
    "        'WA listing note': 'wa listing note',\n",
    "        'Notes': 'taxonRemarks',\n",
    "        'Kimberley': 'KIMB',\n",
    "        'Pilbara': 'PILB',\n",
    "        'Goldfields': 'GOLD',\n",
    "        'Midwest': 'MWST',\n",
    "        'Wheatbelt': 'WHTB',\n",
    "        'South Coast': 'SCST',\n",
    "        'Swan': 'SWAN',\n",
    "        'South West': 'SWST',\n",
    "        'Warren': 'WARR'\n",
    "    })\n",
    "fauna.columns"
   ],
   "metadata": {
    "collapsed": false,
    "pycharm": {
     "name": "#%%\n"
    }
   }
  },
  {
   "cell_type": "markdown",
   "source": [
    "Build 'DBCA Region' field. Original data has a column for each locality with 'X' marked in cells where the species is found"
   ],
   "metadata": {
    "collapsed": false,
    "pycharm": {
     "name": "#%% md\n"
    }
   }
  },
  {
   "cell_type": "code",
   "execution_count": null,
   "outputs": [],
   "source": [
    "df = fauna[['KIMB', 'PILB', 'GOLD','MWST', 'WHTB', 'SCST', 'SWAN', 'SWST', 'WARR']].copy()\n",
    "v = np.where(df == \"X\")\n",
    "fauna['dbca region'] = (pd.DataFrame(df.columns[v[1]], index=df.index[v[0]], columns=['result']).groupby(level=0).agg(','.join).reindex(df.index))\n",
    "# drop location columns\n",
    "fauna = fauna.drop(['KIMB',\n",
    "                    'PILB',\n",
    "                    'GOLD',\n",
    "                    'MWST',\n",
    "                    'WHTB',\n",
    "                    'SCST',\n",
    "                    'SWAN',\n",
    "                    'SWST',\n",
    "                    'WARR'\n",
    "                    ], axis=1)"
   ],
   "metadata": {
    "collapsed": false,
    "pycharm": {
     "name": "#%%\n"
    }
   }
  },
  {
   "cell_type": "markdown",
   "source": [
    "Create status transforming sourceStatus codes"
   ],
   "metadata": {
    "collapsed": false,
    "pycharm": {
     "name": "#%% md\n"
    }
   }
  },
  {
   "cell_type": "code",
   "execution_count": null,
   "outputs": [],
   "source": [
    "print('Transforming fauna')\n",
    "fauna['status'] = fauna['sourceStatus'].replace(['P1', 'P2', 'P3', 'P4', 'VU', 'MI', 'CR', 'EN',\n",
    "                                                'OS', 'EX', 'EW', 'CD',\n",
    "                                                'MI (& VU or CR at subsp. level)',\n",
    "                                                'VU (& MI at sp. level)',\n",
    "                                                'CR (& MI at sp. level)',\n",
    "                                                'MI & P4'],\n",
    "                                                ['P1 - Poorly known species', 'P2 - Poorly known species',\n",
    "                                                'P3 - Poorly known species', 'P4 - Poorly known species',\n",
    "                                                'Vulnerable', 'Migratory', 'Critically Endangered', 'Endangered',\n",
    "                                                'Other specially protected fauna', 'Extinct', 'Extinct in Wild',\n",
    "                                                'Special Conservation Interest', 'Migratory', 'Vulnerable',\n",
    "                                                'Critically Endangered', 'Migratory & P4'\n",
    "                                                ])"
   ],
   "metadata": {
    "collapsed": false,
    "pycharm": {
     "name": "#%%\n"
    }
   }
  },
  {
   "cell_type": "markdown",
   "source": [
    "## Process Flora"
   ],
   "metadata": {
    "collapsed": false,
    "pycharm": {
     "name": "#%% md\n"
    }
   }
  },
  {
   "cell_type": "code",
   "execution_count": null,
   "outputs": [],
   "source": [
    "print('Processing Flora')\n",
    "print(\"Loading WA Flora List\")\n",
    "flora = pd.read_excel(florafile,skiprows=0)\n",
    "print(\"Finished Flora download\")\n",
    "flora"
   ],
   "metadata": {
    "collapsed": false,
    "pycharm": {
     "name": "#%%\n"
    }
   }
  },
  {
   "cell_type": "code",
   "execution_count": 32,
   "outputs": [
    {
     "data": {
      "text/plain": "Index(['Name ID', 'Taxon', ' WA Status', 'WA Rank', 'WA IUCN Criteria', 'EPBC',\n       'DBCA Region', 'DBCA District', 'Distribution', 'Flowering Period',\n       'Recovery Plan', 'Notes'],\n      dtype='object')"
     },
     "execution_count": 32,
     "metadata": {},
     "output_type": "execute_result"
    }
   ],
   "source": [
    "flora.columns\n"
   ],
   "metadata": {
    "collapsed": false,
    "pycharm": {
     "name": "#%%\n"
    }
   }
  },
  {
   "cell_type": "markdown",
   "source": [
    "### Transform flora\n",
    "**Data Transformations**\n",
    "**STATUS**\tConservation status of taxon - refer to definitions.\n",
    "- \tT -\tThreatened Flora (Declared Rare Flora - Extant)\n",
    "- \tX -\tPresumed Extinct (Declared Rare Flora - Extinct)\n",
    "-\t1 -\tPriority One - Poorly known Species\n",
    "- \t2 -\tPriority Two - Poorly known Species\n",
    "- \t3 -\tPriority Three - Poorly known Species\n",
    "- \t4 -\tPriority Four - Rare, Near Threatened and other species in need of monitoring\n",
    "\n",
    "**RANK** The threat category the taxon is recognised as in Western Australia (see definitions)\n",
    "-\tCR - Critically Endangered\n",
    "-\tEN - Endangered- \tVU\tVulnerable\n",
    "-\tEX - Extinct\n",
    "\n",
    "**EPBC** The category that the taxon is listed under the Commonwealth's Environmental Protection and Biodiversity Conservation Act 1999. Note this list is maintained by the Commonwealth and the official list should be sourced at the Commonwealth's website\n",
    "- \tCR - Critically Endangered\n",
    "- \tE  - Endangered\n",
    "- \tV  - Vulnerable\n",
    "- \tX  - Extinct\n"
   ],
   "metadata": {
    "collapsed": false,
    "pycharm": {
     "name": "#%% md\n"
    }
   }
  },
  {
   "cell_type": "code",
   "execution_count": null,
   "outputs": [],
   "source": [
    "print('Transforming flora')\n",
    "flora = flora.drop(['Flowering Period',\n",
    "                    'WA IUCN Criteria',\n",
    "                    'Recovery Plan'\n",
    "                    ], axis=1)\n",
    "\n",
    "flora = flora.rename(columns=\n",
    "                     {'Name ID': 'taxonId',\n",
    "                      'Taxon': 'scientificName',\n",
    "                      ' WA Status': 'sourceStatus',\n",
    "                      'WA Rank': 'wa rank',\n",
    "                      'DBCA Region': 'dbca region',\n",
    "                      'DBCA District': 'dbca district',\n",
    "                      'Distribution': 'verbatimLocality',\n",
    "                      'EPBC': 'epbc status',\n",
    "                      'Notes': 'taxonRemarks'\n",
    "                      })\n",
    "flora['status'] = flora['sourceStatus'].replace(['T', 'X', 1, 2, 3, 4],\n",
    "                                                ['Threatened Flora', 'Presumed Extinct',\n",
    "                                                 'P1 - Poorly known species', 'P2 - Poorly known species',\n",
    "                                                 'P3 - Poorly known species', 'P4 - Poorly known species'])"
   ],
   "metadata": {
    "collapsed": false,
    "pycharm": {
     "name": "#%%\n"
    }
   }
  },
  {
   "cell_type": "code",
   "execution_count": 34,
   "outputs": [
    {
     "data": {
      "text/plain": "Index(['taxonId', 'scientificName', 'sourceStatus', 'wa rank', 'epbc status',\n       'dbca region', 'dbca district', 'verbatimLocality', 'taxonRemarks',\n       'status'],\n      dtype='object')"
     },
     "execution_count": 34,
     "metadata": {},
     "output_type": "execute_result"
    }
   ],
   "source": [
    "flora.columns"
   ],
   "metadata": {
    "collapsed": false,
    "pycharm": {
     "name": "#%%\n"
    }
   }
  },
  {
   "cell_type": "markdown",
   "source": [
    "Concatenate dataframes"
   ],
   "metadata": {
    "collapsed": false,
    "pycharm": {
     "name": "#%% md\n"
    }
   }
  },
  {
   "cell_type": "code",
   "execution_count": null,
   "outputs": [],
   "source": [
    "dfsightings = pd.DataFrame()\n",
    "dfsightings = pd.concat([fauna, dfsightings], axis=0, ignore_index=True, sort=False)\n",
    "dfsightings['verbatimLocality'] = \"\"\n",
    "dfsightings['sensitivityZoneId'] = \"WA\"\n",
    "dfsightings = pd.concat([flora, dfsightings], axis=0, ignore_index=True, sort=False)"
   ],
   "metadata": {
    "collapsed": false,
    "pycharm": {
     "name": "#%%\n"
    }
   }
  },
  {
   "cell_type": "code",
   "execution_count": 36,
   "outputs": [
    {
     "data": {
      "text/plain": "Index(['taxonId', 'scientificName', 'sourceStatus', 'wa rank', 'epbc status',\n       'dbca region', 'dbca district', 'verbatimLocality', 'taxonRemarks',\n       'status', 'vernacularName', 'class', 'WA listing.1',\n       'sensitivityZoneId'],\n      dtype='object')"
     },
     "execution_count": 36,
     "metadata": {},
     "output_type": "execute_result"
    }
   ],
   "source": [
    "dfsightings.columns"
   ],
   "metadata": {
    "collapsed": false,
    "pycharm": {
     "name": "#%%\n"
    }
   }
  },
  {
   "cell_type": "markdown",
   "source": [
    "Write dataframe to both conservation and sensitive CSV files - UTF-8 encoding"
   ],
   "metadata": {
    "collapsed": false,
    "pycharm": {
     "name": "#%% md\n"
    }
   }
  },
  {
   "cell_type": "code",
   "execution_count": null,
   "outputs": [],
   "source": [
    "print('writing conservation and sensitive lists')\n",
    "dfsightings.to_csv(projectdir + \"current-lists/conservation-lists/WA-conservation-2022-10.csv\", encoding=\"UTF-8\",index=False)\n",
    "dfsightings.to_csv(projectdir + \"current-lists/sensitive-lists/WA-sensitive-2022-10.csv\", encoding=\"UTF-8\", index=False)\n",
    "print('Completed writing')"
   ],
   "metadata": {
    "collapsed": false,
    "pycharm": {
     "name": "#%%\n"
    }
   }
  },
  {
   "cell_type": "code",
   "execution_count": null,
   "outputs": [],
   "source": [
    "# Required for previous versions of files\n",
    "# update the encoding on the final file / conservation is same as sensitive\n",
    "# fileurl = \"/Users/new330/IdeaProjects/authoritative-lists/current-lists/sensitive-lists/WA-sensitive.csv\"\n",
    "# wa = pd.read_csv(fileurl,encoding='cp1252')\n",
    "# wa.to_csv(fileurl, encoding=\"UTF-8\",index=False)\n",
    "# wa.to_csv(\"/Users/new330/IdeaProjects/authoritative-lists/current-lists/conservation-lists/WA-conservation.csv\", encoding=\"UTF-8\",index=False)\n",
    "#\n",
    "# wa = wa.WATaxonId.astype(int)\n",
    "# wa"
   ],
   "metadata": {
    "collapsed": false,
    "pycharm": {
     "name": "#%%\n"
    }
   }
  }
 ],
 "metadata": {
  "kernelspec": {
   "display_name": "Python 3",
   "language": "python",
   "name": "python3"
  },
  "language_info": {
   "codemirror_mode": {
    "name": "ipython",
    "version": 2
   },
   "file_extension": ".py",
   "mimetype": "text/x-python",
   "name": "python",
   "nbconvert_exporter": "python",
   "pygments_lexer": "ipython2",
   "version": "2.7.6"
  }
 },
 "nbformat": 4,
 "nbformat_minor": 0
}