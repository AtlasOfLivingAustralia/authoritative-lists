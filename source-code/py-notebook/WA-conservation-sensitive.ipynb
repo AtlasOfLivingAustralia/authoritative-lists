{
 "cells": [
  {
   "cell_type": "markdown",
   "source": [
    "\n",
    "# WA Conservation & Sensitive Lists\n",
    "\n",
    "### List Identifiers\n",
    "* Conservation list: __[dr2201](https://lists.ala.org.au/speciesListItem/list/dr2201)__ (and [dr2201 in test](https://lists-test.ala.org.au/speciesListItem/list/dr2201))\n",
    "* Sensitive list: __[dr467](https://lists.ala.org.au/speciesListItem/list/dr467)__ (and [dr18406 in test](https://lists-test.ala.org.au/speciesListItem/list/dr18406))\n",
    "\n",
    "### Source Data\n",
    "\n",
    "* __[WA Dept of Biodiversity, Conservation and Attractions, Parks and Wildlife, Threatened Species Information](https://www.dpaw.wa.gov.au/plants-and-animals/threatened-species-and-communities)__\n",
    "* __[Threatened and Priority Fauna List 7 October 2022.xlsx](https://www.dpaw.wa.gov.au/images/Threatened%20and%20Priority%20Fauna%20List%207%20October%202022.xlsx)__\n",
    "* __[Threatened and Priority Flora List 6 October 2022.xlsx](https://www.dpaw.wa.gov.au/images/documents/plants-animals/threatened-species/Listings/Threatened%20and%20Priority%20Flora%20List_6%20October%202022.xlsx)__\n",
    "* __[Conservation Codes Listing](https://www.dpaw.wa.gov.au/images/Conservation%20codes%20for%20Western%20Australian%20Flora%20and%20Fauna%20179KB.pdf)__\n",
    "\n",
    "**Metadata Description**\n",
    "The Biodiversity Conservation Act 2016 provides for the listing of threatened native plants (flora), threatened native animals (fauna) and threatened ecological communities that need protection as critically endangered, endangered or vulnerable species or ecological communities because they are under identifiable threat of extinction (species) or collapse (ecological communities).\n",
    "\n",
    "The Western Australian Threatened Species Scientific Committee and the Threatened Ecological Communities Scientific Committee review nominations to list, delist or change the threat status of threatened species and ecological communities, and use the International Union for Conservation of Nature Red List criteria for assigning species and communities to threat categories.\n",
    "\n",
    "This list is a concatenation of the WA flora and fauna state lists which have been downloaded from https://www.dpaw.wa.gov.au/images/documents/plants-animals/threatened-species/Listings/Threatened%20and%20Priority%20Flora%20List_6%20October%202022.xlsx and https://www.dpaw.wa.gov.au/images/Threatened%20and%20Priority%20Fauna%20List%207%20October%202022.xlsx and parsed for use in the Atlas of Living Australia.\n",
    "\n",
    "**Metadata URL**\n",
    "https://www.dpaw.wa.gov.au/plants-and-animals/threatened-species-and-communities\n",
    "\n",
    "**Note:**\n",
    "* WA uses the same data files for both conservation and sensitive lists.\n",
    "* Fauna and Flora are in separate files and have different formats. The files are processed separately and then concatenated into a single file.\n",
    "\n",
    "## 1. Prep\n",
    "Import libraries\n",
    "Set project directories\n",
    "Download files if necessary"
   ],
   "metadata": {
    "collapsed": false,
    "pycharm": {
     "name": "#%% md\n"
    }
   }
  },
  {
   "cell_type": "code",
   "execution_count": 18,
   "outputs": [],
   "source": [
    "import pandas as pd\n",
    "import numpy as np\n",
    "import requests\n",
    "\n",
    "# projectDir = \"/Users/new330/IdeaProjects/authoritative-lists/\"\n",
    "projectDir = \"/Users/oco115/PycharmProjects/authoritative-lists/\"\n",
    "sourceDataDir = projectDir + \"source-data/WA/\"\n",
    "processedDataDir = projectDir + \"current-lists/\"\n",
    "statusDir = projectDir + \"source-data/status-codes/\"\n",
    "\n",
    "faunafilename = sourceDataDir + \"Threatened and Priority Fauna List 7 October2022.csv\"\n",
    "florafilename = sourceDataDir + \"Threatened and Priority Flora List 6 October2022.csv\""
   ],
   "metadata": {
    "collapsed": false,
    "pycharm": {
     "name": "#%%\n"
    }
   }
  },
  {
   "cell_type": "code",
   "execution_count": 19,
   "outputs": [
    {
     "name": "stdout",
     "output_type": "stream",
     "text": [
      "Downloading fauna file to:/Users/oco115/PycharmProjects/authoritative-lists/source-data/WA/Threatened and Priority Fauna List 7 October2022.csv\n",
      "Downloading flora file to:/Users/oco115/PycharmProjects/authoritative-lists/source-data/WA/Threatened and Priority Flora List 6 October2022.csv\n"
     ]
    }
   ],
   "source": [
    "# %%script echo skipping # comment this line to download the files and save locally\n",
    "\n",
    "print(\"Downloading fauna file to:\" + faunafilename)\n",
    "faunaurl = \"https://www.dpaw.wa.gov.au/images/Threatened%20and%20Priority%20Fauna%20List%207%20October%202022.xlsx\"\n",
    "c = requests.get(faunaurl).content\n",
    "fauna = pd.read_excel(c)\n",
    "fauna.to_csv(faunafilename)\n",
    "\n",
    "print(\"Downloading flora file to:\" + florafilename)\n",
    "floraurl = \"https://www.dpaw.wa.gov.au/images/documents/plants-animals/threatened-species/Listings/Threatened%20and%20Priority%20Flora%20List_6%20October%202022.xlsx\"\n",
    "c = requests.get(floraurl).content\n",
    "flora = pd.read_excel(c, dtype=str)\n",
    "flora.to_csv(florafilename)"
   ],
   "metadata": {
    "collapsed": false,
    "pycharm": {
     "name": "#%%\n"
    }
   }
  },
  {
   "cell_type": "markdown",
   "source": [
    "## 2. WA Fauna"
   ],
   "metadata": {
    "collapsed": false,
    "pycharm": {
     "name": "#%% md\n"
    }
   }
  },
  {
   "cell_type": "code",
   "execution_count": 20,
   "outputs": [
    {
     "data": {
      "text/plain": "  Unnamed: 0          Scientific name                 Common name  \\\n0          0  Abebaioscia troglodytes  Pannikin Plain Cave isopod   \n1          1  Acanthophis antarcticus        southern death adder   \n2          2      Acercella poorginup   Poorginup Swamp watermite   \n\n          Class WA listing National listing Kimberley Pilbara Goldfields  \\\n0  INVERTEBRATE         VU              NaN       NaN     NaN        NaN   \n1       REPTILE         P3              NaN       NaN     NaN          X   \n2  INVERTEBRATE         P2              NaN       NaN     NaN        NaN   \n\n  Midwest Wheatbelt South Coast Swan South West Warren  \\\n0     NaN       NaN           X  NaN        NaN    NaN   \n1     NaN         X           X    X        NaN    NaN   \n2     NaN       NaN         NaN  NaN        NaN      X   \n\n                                        WA listing.1 Notes  \n0  Threatened species - Vulnerable under the Biod...   NaN  \n1                             DBCA Priority species.   NaN  \n2                             DBCA Priority species.   NaN  ",
      "text/html": "<div>\n<style scoped>\n    .dataframe tbody tr th:only-of-type {\n        vertical-align: middle;\n    }\n\n    .dataframe tbody tr th {\n        vertical-align: top;\n    }\n\n    .dataframe thead th {\n        text-align: right;\n    }\n</style>\n<table border=\"1\" class=\"dataframe\">\n  <thead>\n    <tr style=\"text-align: right;\">\n      <th></th>\n      <th>Unnamed: 0</th>\n      <th>Scientific name</th>\n      <th>Common name</th>\n      <th>Class</th>\n      <th>WA listing</th>\n      <th>National listing</th>\n      <th>Kimberley</th>\n      <th>Pilbara</th>\n      <th>Goldfields</th>\n      <th>Midwest</th>\n      <th>Wheatbelt</th>\n      <th>South Coast</th>\n      <th>Swan</th>\n      <th>South West</th>\n      <th>Warren</th>\n      <th>WA listing.1</th>\n      <th>Notes</th>\n    </tr>\n  </thead>\n  <tbody>\n    <tr>\n      <th>0</th>\n      <td>0</td>\n      <td>Abebaioscia troglodytes</td>\n      <td>Pannikin Plain Cave isopod</td>\n      <td>INVERTEBRATE</td>\n      <td>VU</td>\n      <td>NaN</td>\n      <td>NaN</td>\n      <td>NaN</td>\n      <td>NaN</td>\n      <td>NaN</td>\n      <td>NaN</td>\n      <td>X</td>\n      <td>NaN</td>\n      <td>NaN</td>\n      <td>NaN</td>\n      <td>Threatened species - Vulnerable under the Biod...</td>\n      <td>NaN</td>\n    </tr>\n    <tr>\n      <th>1</th>\n      <td>1</td>\n      <td>Acanthophis antarcticus</td>\n      <td>southern death adder</td>\n      <td>REPTILE</td>\n      <td>P3</td>\n      <td>NaN</td>\n      <td>NaN</td>\n      <td>NaN</td>\n      <td>X</td>\n      <td>NaN</td>\n      <td>X</td>\n      <td>X</td>\n      <td>X</td>\n      <td>NaN</td>\n      <td>NaN</td>\n      <td>DBCA Priority species.</td>\n      <td>NaN</td>\n    </tr>\n    <tr>\n      <th>2</th>\n      <td>2</td>\n      <td>Acercella poorginup</td>\n      <td>Poorginup Swamp watermite</td>\n      <td>INVERTEBRATE</td>\n      <td>P2</td>\n      <td>NaN</td>\n      <td>NaN</td>\n      <td>NaN</td>\n      <td>NaN</td>\n      <td>NaN</td>\n      <td>NaN</td>\n      <td>NaN</td>\n      <td>NaN</td>\n      <td>NaN</td>\n      <td>X</td>\n      <td>DBCA Priority species.</td>\n      <td>NaN</td>\n    </tr>\n  </tbody>\n</table>\n</div>"
     },
     "execution_count": 20,
     "metadata": {},
     "output_type": "execute_result"
    }
   ],
   "source": [
    "fauna = pd.read_csv(faunafilename, dtype=str)\n",
    "fauna.head(3)"
   ],
   "metadata": {
    "collapsed": false,
    "pycharm": {
     "name": "#%%\n"
    }
   }
  },
  {
   "cell_type": "markdown",
   "source": [
    "Summarise locality fields\n",
    "‘X’ is marked in locality where the species is found - put into a single field"
   ],
   "metadata": {
    "collapsed": false,
    "pycharm": {
     "name": "#%% md\n"
    }
   }
  },
  {
   "cell_type": "code",
   "execution_count": 21,
   "outputs": [
    {
     "data": {
      "text/plain": "    Kimberley Pilbara Goldfields Midwest Wheatbelt South Coast Swan  \\\n0         NaN     NaN        NaN     NaN       NaN           X  NaN   \n1         NaN     NaN          X     NaN         X           X    X   \n2         NaN     NaN        NaN     NaN       NaN         NaN  NaN   \n5           X     NaN        NaN     NaN       NaN         NaN  NaN   \n6           X       X          X       X         X           X    X   \n..        ...     ...        ...     ...       ...         ...  ...   \n484       NaN     NaN          X     NaN         X           X  NaN   \n505         X       X        NaN     NaN       NaN         NaN    X   \n511       NaN     NaN        NaN       X       NaN           X  NaN   \n512         X     NaN        NaN     NaN         X         NaN    X   \n514       NaN     NaN        NaN       X       NaN           X    X   \n\n    South West Warren                                           locality  \n0          NaN    NaN                                        South Coast  \n1          NaN    NaN              Goldfields,Wheatbelt,South Coast,Swan  \n2          NaN      X                                             Warren  \n5          NaN    NaN                                          Kimberley  \n6            X      X  Kimberley,Pilbara,Goldfields,Midwest,Wheatbelt...  \n..         ...    ...                                                ...  \n484        NaN    NaN                   Goldfields,Wheatbelt,South Coast  \n505        NaN    NaN                             Kimberley,Pilbara,Swan  \n511          X      X              Midwest,South Coast,South West,Warren  \n512        NaN    NaN                           Kimberley,Wheatbelt,Swan  \n514          X    NaN                Midwest,South Coast,Swan,South West  \n\n[79 rows x 10 columns]",
      "text/html": "<div>\n<style scoped>\n    .dataframe tbody tr th:only-of-type {\n        vertical-align: middle;\n    }\n\n    .dataframe tbody tr th {\n        vertical-align: top;\n    }\n\n    .dataframe thead th {\n        text-align: right;\n    }\n</style>\n<table border=\"1\" class=\"dataframe\">\n  <thead>\n    <tr style=\"text-align: right;\">\n      <th></th>\n      <th>Kimberley</th>\n      <th>Pilbara</th>\n      <th>Goldfields</th>\n      <th>Midwest</th>\n      <th>Wheatbelt</th>\n      <th>South Coast</th>\n      <th>Swan</th>\n      <th>South West</th>\n      <th>Warren</th>\n      <th>locality</th>\n    </tr>\n  </thead>\n  <tbody>\n    <tr>\n      <th>0</th>\n      <td>NaN</td>\n      <td>NaN</td>\n      <td>NaN</td>\n      <td>NaN</td>\n      <td>NaN</td>\n      <td>X</td>\n      <td>NaN</td>\n      <td>NaN</td>\n      <td>NaN</td>\n      <td>South Coast</td>\n    </tr>\n    <tr>\n      <th>1</th>\n      <td>NaN</td>\n      <td>NaN</td>\n      <td>X</td>\n      <td>NaN</td>\n      <td>X</td>\n      <td>X</td>\n      <td>X</td>\n      <td>NaN</td>\n      <td>NaN</td>\n      <td>Goldfields,Wheatbelt,South Coast,Swan</td>\n    </tr>\n    <tr>\n      <th>2</th>\n      <td>NaN</td>\n      <td>NaN</td>\n      <td>NaN</td>\n      <td>NaN</td>\n      <td>NaN</td>\n      <td>NaN</td>\n      <td>NaN</td>\n      <td>NaN</td>\n      <td>X</td>\n      <td>Warren</td>\n    </tr>\n    <tr>\n      <th>5</th>\n      <td>X</td>\n      <td>NaN</td>\n      <td>NaN</td>\n      <td>NaN</td>\n      <td>NaN</td>\n      <td>NaN</td>\n      <td>NaN</td>\n      <td>NaN</td>\n      <td>NaN</td>\n      <td>Kimberley</td>\n    </tr>\n    <tr>\n      <th>6</th>\n      <td>X</td>\n      <td>X</td>\n      <td>X</td>\n      <td>X</td>\n      <td>X</td>\n      <td>X</td>\n      <td>X</td>\n      <td>X</td>\n      <td>X</td>\n      <td>Kimberley,Pilbara,Goldfields,Midwest,Wheatbelt...</td>\n    </tr>\n    <tr>\n      <th>...</th>\n      <td>...</td>\n      <td>...</td>\n      <td>...</td>\n      <td>...</td>\n      <td>...</td>\n      <td>...</td>\n      <td>...</td>\n      <td>...</td>\n      <td>...</td>\n      <td>...</td>\n    </tr>\n    <tr>\n      <th>484</th>\n      <td>NaN</td>\n      <td>NaN</td>\n      <td>X</td>\n      <td>NaN</td>\n      <td>X</td>\n      <td>X</td>\n      <td>NaN</td>\n      <td>NaN</td>\n      <td>NaN</td>\n      <td>Goldfields,Wheatbelt,South Coast</td>\n    </tr>\n    <tr>\n      <th>505</th>\n      <td>X</td>\n      <td>X</td>\n      <td>NaN</td>\n      <td>NaN</td>\n      <td>NaN</td>\n      <td>NaN</td>\n      <td>X</td>\n      <td>NaN</td>\n      <td>NaN</td>\n      <td>Kimberley,Pilbara,Swan</td>\n    </tr>\n    <tr>\n      <th>511</th>\n      <td>NaN</td>\n      <td>NaN</td>\n      <td>NaN</td>\n      <td>X</td>\n      <td>NaN</td>\n      <td>X</td>\n      <td>NaN</td>\n      <td>X</td>\n      <td>X</td>\n      <td>Midwest,South Coast,South West,Warren</td>\n    </tr>\n    <tr>\n      <th>512</th>\n      <td>X</td>\n      <td>NaN</td>\n      <td>NaN</td>\n      <td>NaN</td>\n      <td>X</td>\n      <td>NaN</td>\n      <td>X</td>\n      <td>NaN</td>\n      <td>NaN</td>\n      <td>Kimberley,Wheatbelt,Swan</td>\n    </tr>\n    <tr>\n      <th>514</th>\n      <td>NaN</td>\n      <td>NaN</td>\n      <td>NaN</td>\n      <td>X</td>\n      <td>NaN</td>\n      <td>X</td>\n      <td>X</td>\n      <td>X</td>\n      <td>NaN</td>\n      <td>Midwest,South Coast,Swan,South West</td>\n    </tr>\n  </tbody>\n</table>\n<p>79 rows × 10 columns</p>\n</div>"
     },
     "execution_count": 21,
     "metadata": {},
     "output_type": "execute_result"
    }
   ],
   "source": [
    "# summarise the locality\n",
    "df = fauna.iloc[:,6:15].copy()\n",
    "v = np.where(df == \"X\")\n",
    "fauna['locality'] = (pd.DataFrame(df.columns[v[1]], index=df.index[v[0]], columns=['result']).groupby(level=0).agg(','.join).reindex(df.index))\n",
    "fauna.iloc[:,[6,7,8,9,10,11,12,13,14,-1]].drop_duplicates() # just to demonstrate"
   ],
   "metadata": {
    "collapsed": false,
    "pycharm": {
     "name": "#%%\n"
    }
   }
  },
  {
   "cell_type": "markdown",
   "source": [
    "Map status values"
   ],
   "metadata": {
    "collapsed": false,
    "pycharm": {
     "name": "#%% md\n"
    }
   }
  },
  {
   "cell_type": "code",
   "execution_count": 22,
   "outputs": [],
   "source": [
    "conservationCodesMapping = {\n",
    "    'CR':'Critically Endangered',\n",
    "    'EN':'Endangered',\n",
    "    'VU':'Vulnerable',\n",
    "    'EX':'Extinct',\n",
    "    'EW':'Extinct in the Wild',\n",
    "    'SP':'Specially Protected',\n",
    "    'MI':'Migratory',\n",
    "    'CD':'Conservation Dependent',\n",
    "    'CD & MI':'Conservation Dependent',\n",
    "    'OS':'Other Specially Protected',\n",
    "    'P1':'Priority 1: Poorly-known species',\n",
    "    'P2':'Priority 2: Poorly-known species',\n",
    "    'P3':'Priority 3: Poorly-known species',\n",
    "    'P4':'Priority 4: Rare, Near Threatened',\n",
    "    'MI & P1':'Priority 1: Poorly-known species',\n",
    "    'MI & P3':'Priority 2: Poorly-known species',\n",
    "    'MI & P4':'Priority 4: Rare, Near Threatened'\n",
    "}\n",
    "statusLongDescriptionMapping = {\n",
    "    'Priority 1: Poorly-known species':'Priority 1: Poorly-known species - known from few locations, none on conservation lands',\n",
    "    'Priority 2: Poorly-known species':'Priority 2: Poorly-known species - known from few locations, some on conservation lands',\n",
    "    'Priority 3: Poorly-known species':'Priority 3: Poorly-known species - known from several locations',\n",
    "    'Priority 4: Rare, Near Threatened':'Priority 4: Rare, Near Threatened and other species in need of monitoring'\n",
    "}"
   ],
   "metadata": {
    "collapsed": false,
    "pycharm": {
     "name": "#%%\n"
    }
   }
  },
  {
   "cell_type": "code",
   "execution_count": 23,
   "outputs": [
    {
     "data": {
      "text/plain": "array(['VU', 'P3', 'P2', 'MI', 'CR', 'P1', 'P4', 'EN', 'OS', 'EX', 'CD',\n       'CD & MI', 'MI & P4', 'MI & P1', 'MI & P3'], dtype=object)"
     },
     "execution_count": 23,
     "metadata": {},
     "output_type": "execute_result"
    }
   ],
   "source": [
    "fauna['WA listing'].unique()"
   ],
   "metadata": {
    "collapsed": false,
    "pycharm": {
     "name": "#%%\n"
    }
   }
  },
  {
   "cell_type": "code",
   "execution_count": 24,
   "outputs": [
    {
     "data": {
      "text/plain": "    WA listing                             status  \\\n0           VU                         Vulnerable   \n1           P3   Priority 3: Poorly-known species   \n2           P2   Priority 2: Poorly-known species   \n5           MI                          Migratory   \n7           CR              Critically Endangered   \n10          P1   Priority 1: Poorly-known species   \n14          P4  Priority 4: Rare, Near Threatened   \n27          EN                         Endangered   \n40          OS          Other Specially Protected   \n84          EX                            Extinct   \n86          CD             Conservation Dependent   \n357    CD & MI             Conservation Dependent   \n417    MI & P4  Priority 4: Rare, Near Threatened   \n471    MI & P1   Priority 1: Poorly-known species   \n472    MI & P3   Priority 2: Poorly-known species   \n\n                                    status description  \n0                                           Vulnerable  \n1    Priority 3: Poorly-known species - known from ...  \n2    Priority 2: Poorly-known species - known from ...  \n5                                            Migratory  \n7                                Critically Endangered  \n10   Priority 1: Poorly-known species - known from ...  \n14   Priority 4: Rare, Near Threatened and other sp...  \n27                                          Endangered  \n40                           Other Specially Protected  \n84                                             Extinct  \n86                              Conservation Dependent  \n357                             Conservation Dependent  \n417  Priority 4: Rare, Near Threatened and other sp...  \n471  Priority 1: Poorly-known species - known from ...  \n472  Priority 2: Poorly-known species - known from ...  ",
      "text/html": "<div>\n<style scoped>\n    .dataframe tbody tr th:only-of-type {\n        vertical-align: middle;\n    }\n\n    .dataframe tbody tr th {\n        vertical-align: top;\n    }\n\n    .dataframe thead th {\n        text-align: right;\n    }\n</style>\n<table border=\"1\" class=\"dataframe\">\n  <thead>\n    <tr style=\"text-align: right;\">\n      <th></th>\n      <th>WA listing</th>\n      <th>status</th>\n      <th>status description</th>\n    </tr>\n  </thead>\n  <tbody>\n    <tr>\n      <th>0</th>\n      <td>VU</td>\n      <td>Vulnerable</td>\n      <td>Vulnerable</td>\n    </tr>\n    <tr>\n      <th>1</th>\n      <td>P3</td>\n      <td>Priority 3: Poorly-known species</td>\n      <td>Priority 3: Poorly-known species - known from ...</td>\n    </tr>\n    <tr>\n      <th>2</th>\n      <td>P2</td>\n      <td>Priority 2: Poorly-known species</td>\n      <td>Priority 2: Poorly-known species - known from ...</td>\n    </tr>\n    <tr>\n      <th>5</th>\n      <td>MI</td>\n      <td>Migratory</td>\n      <td>Migratory</td>\n    </tr>\n    <tr>\n      <th>7</th>\n      <td>CR</td>\n      <td>Critically Endangered</td>\n      <td>Critically Endangered</td>\n    </tr>\n    <tr>\n      <th>10</th>\n      <td>P1</td>\n      <td>Priority 1: Poorly-known species</td>\n      <td>Priority 1: Poorly-known species - known from ...</td>\n    </tr>\n    <tr>\n      <th>14</th>\n      <td>P4</td>\n      <td>Priority 4: Rare, Near Threatened</td>\n      <td>Priority 4: Rare, Near Threatened and other sp...</td>\n    </tr>\n    <tr>\n      <th>27</th>\n      <td>EN</td>\n      <td>Endangered</td>\n      <td>Endangered</td>\n    </tr>\n    <tr>\n      <th>40</th>\n      <td>OS</td>\n      <td>Other Specially Protected</td>\n      <td>Other Specially Protected</td>\n    </tr>\n    <tr>\n      <th>84</th>\n      <td>EX</td>\n      <td>Extinct</td>\n      <td>Extinct</td>\n    </tr>\n    <tr>\n      <th>86</th>\n      <td>CD</td>\n      <td>Conservation Dependent</td>\n      <td>Conservation Dependent</td>\n    </tr>\n    <tr>\n      <th>357</th>\n      <td>CD &amp; MI</td>\n      <td>Conservation Dependent</td>\n      <td>Conservation Dependent</td>\n    </tr>\n    <tr>\n      <th>417</th>\n      <td>MI &amp; P4</td>\n      <td>Priority 4: Rare, Near Threatened</td>\n      <td>Priority 4: Rare, Near Threatened and other sp...</td>\n    </tr>\n    <tr>\n      <th>471</th>\n      <td>MI &amp; P1</td>\n      <td>Priority 1: Poorly-known species</td>\n      <td>Priority 1: Poorly-known species - known from ...</td>\n    </tr>\n    <tr>\n      <th>472</th>\n      <td>MI &amp; P3</td>\n      <td>Priority 2: Poorly-known species</td>\n      <td>Priority 2: Poorly-known species - known from ...</td>\n    </tr>\n  </tbody>\n</table>\n</div>"
     },
     "execution_count": 24,
     "metadata": {},
     "output_type": "execute_result"
    }
   ],
   "source": [
    "\n",
    "fauna['status'] = fauna['WA listing'].str.strip().map(conservationCodesMapping).fillna(fauna['WA listing'])\n",
    "fauna['status description'] = fauna['status'].map(statusLongDescriptionMapping).fillna(fauna['status'])\n",
    "fauna[['WA listing','status','status description']].drop_duplicates()"
   ],
   "metadata": {
    "collapsed": false,
    "pycharm": {
     "name": "#%%\n"
    }
   }
  },
  {
   "cell_type": "markdown",
   "source": [
    "## 3. WA Flora"
   ],
   "metadata": {
    "collapsed": false,
    "pycharm": {
     "name": "#%% md\n"
    }
   }
  },
  {
   "cell_type": "code",
   "execution_count": 25,
   "outputs": [
    {
     "data": {
      "text/plain": "   Unnamed: 0  Name ID                                        Taxon  \\\n0           0    50593                      Abildgaardia pachyptera   \n1           1    14112       Abutilon sp. Hamelin (A.M. Ashby 2196)   \n2           2    14110  Abutilon sp. Onslow (F. Smith s.n. 10/9/61)   \n\n   WA Status WA Rank WA IUCN Criteria EPBC DBCA Region   DBCA District  \\\n0          1     NaN              NaN  NaN        KIMB  EAST KIMBERLEY   \n1          2     NaN              NaN  NaN        MWST       SHARK BAY   \n2          3     NaN              NaN  NaN        PILB        KARRATHA   \n\n                           Distribution Flowering Period Recovery Plan Notes  \n0                      Mitchell Plateau          Feb-Mar           NaN   NaN  \n1  Shark Bay, Hamelin Pool, Yaringa Stn          Jul-Sep           NaN   NaN  \n2                 Onslow, Yaraloola Stn              Sep           NaN   NaN  ",
      "text/html": "<div>\n<style scoped>\n    .dataframe tbody tr th:only-of-type {\n        vertical-align: middle;\n    }\n\n    .dataframe tbody tr th {\n        vertical-align: top;\n    }\n\n    .dataframe thead th {\n        text-align: right;\n    }\n</style>\n<table border=\"1\" class=\"dataframe\">\n  <thead>\n    <tr style=\"text-align: right;\">\n      <th></th>\n      <th>Unnamed: 0</th>\n      <th>Name ID</th>\n      <th>Taxon</th>\n      <th>WA Status</th>\n      <th>WA Rank</th>\n      <th>WA IUCN Criteria</th>\n      <th>EPBC</th>\n      <th>DBCA Region</th>\n      <th>DBCA District</th>\n      <th>Distribution</th>\n      <th>Flowering Period</th>\n      <th>Recovery Plan</th>\n      <th>Notes</th>\n    </tr>\n  </thead>\n  <tbody>\n    <tr>\n      <th>0</th>\n      <td>0</td>\n      <td>50593</td>\n      <td>Abildgaardia pachyptera</td>\n      <td>1</td>\n      <td>NaN</td>\n      <td>NaN</td>\n      <td>NaN</td>\n      <td>KIMB</td>\n      <td>EAST KIMBERLEY</td>\n      <td>Mitchell Plateau</td>\n      <td>Feb-Mar</td>\n      <td>NaN</td>\n      <td>NaN</td>\n    </tr>\n    <tr>\n      <th>1</th>\n      <td>1</td>\n      <td>14112</td>\n      <td>Abutilon sp. Hamelin (A.M. Ashby 2196)</td>\n      <td>2</td>\n      <td>NaN</td>\n      <td>NaN</td>\n      <td>NaN</td>\n      <td>MWST</td>\n      <td>SHARK BAY</td>\n      <td>Shark Bay, Hamelin Pool, Yaringa Stn</td>\n      <td>Jul-Sep</td>\n      <td>NaN</td>\n      <td>NaN</td>\n    </tr>\n    <tr>\n      <th>2</th>\n      <td>2</td>\n      <td>14110</td>\n      <td>Abutilon sp. Onslow (F. Smith s.n. 10/9/61)</td>\n      <td>3</td>\n      <td>NaN</td>\n      <td>NaN</td>\n      <td>NaN</td>\n      <td>PILB</td>\n      <td>KARRATHA</td>\n      <td>Onslow, Yaraloola Stn</td>\n      <td>Sep</td>\n      <td>NaN</td>\n      <td>NaN</td>\n    </tr>\n  </tbody>\n</table>\n</div>"
     },
     "execution_count": 25,
     "metadata": {},
     "output_type": "execute_result"
    }
   ],
   "source": [
    "flora = pd.read_csv(florafilename)\n",
    "flora.head(3)"
   ],
   "metadata": {
    "collapsed": false,
    "pycharm": {
     "name": "#%%\n"
    }
   }
  },
  {
   "cell_type": "markdown",
   "source": [
    "Map status values"
   ],
   "metadata": {
    "collapsed": false,
    "pycharm": {
     "name": "#%% md\n"
    }
   }
  },
  {
   "cell_type": "code",
   "execution_count": 26,
   "outputs": [
    {
     "data": {
      "text/plain": "     WA Status WA Rank\n0            1     NaN\n1            2     NaN\n2            3     NaN\n8            4     NaN\n16           T      VU\n20           T      CR\n23           T      EN\n131          X      EX",
      "text/html": "<div>\n<style scoped>\n    .dataframe tbody tr th:only-of-type {\n        vertical-align: middle;\n    }\n\n    .dataframe tbody tr th {\n        vertical-align: top;\n    }\n\n    .dataframe thead th {\n        text-align: right;\n    }\n</style>\n<table border=\"1\" class=\"dataframe\">\n  <thead>\n    <tr style=\"text-align: right;\">\n      <th></th>\n      <th>WA Status</th>\n      <th>WA Rank</th>\n    </tr>\n  </thead>\n  <tbody>\n    <tr>\n      <th>0</th>\n      <td>1</td>\n      <td>NaN</td>\n    </tr>\n    <tr>\n      <th>1</th>\n      <td>2</td>\n      <td>NaN</td>\n    </tr>\n    <tr>\n      <th>2</th>\n      <td>3</td>\n      <td>NaN</td>\n    </tr>\n    <tr>\n      <th>8</th>\n      <td>4</td>\n      <td>NaN</td>\n    </tr>\n    <tr>\n      <th>16</th>\n      <td>T</td>\n      <td>VU</td>\n    </tr>\n    <tr>\n      <th>20</th>\n      <td>T</td>\n      <td>CR</td>\n    </tr>\n    <tr>\n      <th>23</th>\n      <td>T</td>\n      <td>EN</td>\n    </tr>\n    <tr>\n      <th>131</th>\n      <td>X</td>\n      <td>EX</td>\n    </tr>\n  </tbody>\n</table>\n</div>"
     },
     "execution_count": 26,
     "metadata": {},
     "output_type": "execute_result"
    }
   ],
   "source": [
    "flora[[' WA Status','WA Rank']].drop_duplicates()"
   ],
   "metadata": {
    "collapsed": false,
    "pycharm": {
     "name": "#%%\n"
    }
   }
  },
  {
   "cell_type": "code",
   "execution_count": 27,
   "outputs": [
    {
     "data": {
      "text/plain": "     WA Status WA Rank                             status sourceStatus  \\\n0            1     NaN   Priority 1: Poorly-known species           P1   \n1            2     NaN   Priority 2: Poorly-known species           P2   \n2            3     NaN   Priority 3: Poorly-known species           P3   \n8            4     NaN  Priority 4: Rare, Near Threatened           P4   \n16           T      VU                         Vulnerable           VU   \n20           T      CR              Critically Endangered           CR   \n23           T      EN                         Endangered           EN   \n131          X      EX                            Extinct           EX   \n\n                                    status description  \n0    Priority 1: Poorly-known species - known from ...  \n1    Priority 2: Poorly-known species - known from ...  \n2    Priority 3: Poorly-known species - known from ...  \n8    Priority 4: Rare, Near Threatened and other sp...  \n16                                          Vulnerable  \n20                               Critically Endangered  \n23                                          Endangered  \n131                                            Extinct  ",
      "text/html": "<div>\n<style scoped>\n    .dataframe tbody tr th:only-of-type {\n        vertical-align: middle;\n    }\n\n    .dataframe tbody tr th {\n        vertical-align: top;\n    }\n\n    .dataframe thead th {\n        text-align: right;\n    }\n</style>\n<table border=\"1\" class=\"dataframe\">\n  <thead>\n    <tr style=\"text-align: right;\">\n      <th></th>\n      <th>WA Status</th>\n      <th>WA Rank</th>\n      <th>status</th>\n      <th>sourceStatus</th>\n      <th>status description</th>\n    </tr>\n  </thead>\n  <tbody>\n    <tr>\n      <th>0</th>\n      <td>1</td>\n      <td>NaN</td>\n      <td>Priority 1: Poorly-known species</td>\n      <td>P1</td>\n      <td>Priority 1: Poorly-known species - known from ...</td>\n    </tr>\n    <tr>\n      <th>1</th>\n      <td>2</td>\n      <td>NaN</td>\n      <td>Priority 2: Poorly-known species</td>\n      <td>P2</td>\n      <td>Priority 2: Poorly-known species - known from ...</td>\n    </tr>\n    <tr>\n      <th>2</th>\n      <td>3</td>\n      <td>NaN</td>\n      <td>Priority 3: Poorly-known species</td>\n      <td>P3</td>\n      <td>Priority 3: Poorly-known species - known from ...</td>\n    </tr>\n    <tr>\n      <th>8</th>\n      <td>4</td>\n      <td>NaN</td>\n      <td>Priority 4: Rare, Near Threatened</td>\n      <td>P4</td>\n      <td>Priority 4: Rare, Near Threatened and other sp...</td>\n    </tr>\n    <tr>\n      <th>16</th>\n      <td>T</td>\n      <td>VU</td>\n      <td>Vulnerable</td>\n      <td>VU</td>\n      <td>Vulnerable</td>\n    </tr>\n    <tr>\n      <th>20</th>\n      <td>T</td>\n      <td>CR</td>\n      <td>Critically Endangered</td>\n      <td>CR</td>\n      <td>Critically Endangered</td>\n    </tr>\n    <tr>\n      <th>23</th>\n      <td>T</td>\n      <td>EN</td>\n      <td>Endangered</td>\n      <td>EN</td>\n      <td>Endangered</td>\n    </tr>\n    <tr>\n      <th>131</th>\n      <td>X</td>\n      <td>EX</td>\n      <td>Extinct</td>\n      <td>EX</td>\n      <td>Extinct</td>\n    </tr>\n  </tbody>\n</table>\n</div>"
     },
     "execution_count": 27,
     "metadata": {},
     "output_type": "execute_result"
    }
   ],
   "source": [
    "def setflorastatus(row):\n",
    "    status = row[' WA Status']\n",
    "    rank = row['WA Rank']\n",
    "    s = \"Unknown\"\n",
    "    if status == 'T':\n",
    "        if rank == 'VU':\n",
    "            s = \"Vulnerable\"\n",
    "        elif rank == 'CR':\n",
    "            s = \"Critically Endangered\"\n",
    "        elif rank == 'EN':\n",
    "            s = \"Endangered\"\n",
    "    elif status == 'X':\n",
    "        s = \"Extinct\"\n",
    "    elif status == '1':\n",
    "        s = 'Priority 1: Poorly-known species'\n",
    "    elif status == '2':\n",
    "        s = 'Priority 2: Poorly-known species'\n",
    "    elif status == '3':\n",
    "        s = 'Priority 3: Poorly-known species'\n",
    "    elif status == '4':\n",
    "        s = 'Priority 4: Rare, Near Threatened'\n",
    "    return s\n",
    "flora = flora.assign(status = flora.apply(setflorastatus,axis=1))\n",
    "flora['status description'] = flora['status'].map(statusLongDescriptionMapping).fillna(flora['status'])\n",
    "flora['sourceStatus'] = flora.apply(lambda x: \"P\"+x[' WA Status'] if pd.isnull(x['WA Rank']) else x['WA Rank'],axis=1)\n",
    "flora[[' WA Status','WA Rank','status','sourceStatus','status description']].drop_duplicates()"
   ],
   "metadata": {
    "collapsed": false,
    "pycharm": {
     "name": "#%%\n"
    }
   }
  },
  {
   "cell_type": "markdown",
   "source": [
    "## 3. Concatenate Flora and Fauna dataframes"
   ],
   "metadata": {
    "collapsed": false,
    "pycharm": {
     "name": "#%% md\n"
    }
   }
  },
  {
   "cell_type": "code",
   "execution_count": 28,
   "outputs": [
    {
     "data": {
      "text/plain": "   Unnamed: 0  Name ID                                            Taxon  \\\n0           0    50593                          Abildgaardia pachyptera   \n1           1    14112           Abutilon sp. Hamelin (A.M. Ashby 2196)   \n2           2    14110      Abutilon sp. Onslow (F. Smith s.n. 10/9/61)   \n3           3    43021  Abutilon sp. Pritzelianum (S. van Leeuwen 5095)   \n4           4    14114             Abutilon sp. Quobba (H. Demarz 3858)   \n\n   WA Status WA Rank WA IUCN Criteria EPBC DBCA Region  \\\n0          1     NaN              NaN  NaN        KIMB   \n1          2     NaN              NaN  NaN        MWST   \n2          3     NaN              NaN  NaN        PILB   \n3          3     NaN              NaN  NaN   MWST,PILB   \n4          2     NaN              NaN  NaN   MWST,PILB   \n\n                 DBCA District  \\\n0               EAST KIMBERLEY   \n1                    SHARK BAY   \n2                     KARRATHA   \n3           KARRATHA,GERALDTON   \n4  EXMOUTH,GERALDTON,SHARK BAY   \n\n                                        Distribution Flowering Period  \\\n0                                   Mitchell Plateau          Feb-Mar   \n1               Shark Bay, Hamelin Pool, Yaringa Stn          Jul-Sep   \n2                              Onslow, Yaraloola Stn              Sep   \n3  Carnarvon, Port Headland, Lake McLeod, Gascoyn...     Jun, Aug-Sep   \n4  Quobba, Cape Range, Muggon Stn., Canarvon, Dor...          Jul-Oct   \n\n  Recovery Plan Notes                            status  \\\n0           NaN   NaN  Priority 1: Poorly-known species   \n1           NaN   NaN  Priority 2: Poorly-known species   \n2           NaN   NaN  Priority 3: Poorly-known species   \n3           NaN   NaN  Priority 3: Poorly-known species   \n4           NaN   NaN  Priority 2: Poorly-known species   \n\n                                  status description sourceStatus  \n0  Priority 1: Poorly-known species - known from ...           P1  \n1  Priority 2: Poorly-known species - known from ...           P2  \n2  Priority 3: Poorly-known species - known from ...           P3  \n3  Priority 3: Poorly-known species - known from ...           P3  \n4  Priority 2: Poorly-known species - known from ...           P2  ",
      "text/html": "<div>\n<style scoped>\n    .dataframe tbody tr th:only-of-type {\n        vertical-align: middle;\n    }\n\n    .dataframe tbody tr th {\n        vertical-align: top;\n    }\n\n    .dataframe thead th {\n        text-align: right;\n    }\n</style>\n<table border=\"1\" class=\"dataframe\">\n  <thead>\n    <tr style=\"text-align: right;\">\n      <th></th>\n      <th>Unnamed: 0</th>\n      <th>Name ID</th>\n      <th>Taxon</th>\n      <th>WA Status</th>\n      <th>WA Rank</th>\n      <th>WA IUCN Criteria</th>\n      <th>EPBC</th>\n      <th>DBCA Region</th>\n      <th>DBCA District</th>\n      <th>Distribution</th>\n      <th>Flowering Period</th>\n      <th>Recovery Plan</th>\n      <th>Notes</th>\n      <th>status</th>\n      <th>status description</th>\n      <th>sourceStatus</th>\n    </tr>\n  </thead>\n  <tbody>\n    <tr>\n      <th>0</th>\n      <td>0</td>\n      <td>50593</td>\n      <td>Abildgaardia pachyptera</td>\n      <td>1</td>\n      <td>NaN</td>\n      <td>NaN</td>\n      <td>NaN</td>\n      <td>KIMB</td>\n      <td>EAST KIMBERLEY</td>\n      <td>Mitchell Plateau</td>\n      <td>Feb-Mar</td>\n      <td>NaN</td>\n      <td>NaN</td>\n      <td>Priority 1: Poorly-known species</td>\n      <td>Priority 1: Poorly-known species - known from ...</td>\n      <td>P1</td>\n    </tr>\n    <tr>\n      <th>1</th>\n      <td>1</td>\n      <td>14112</td>\n      <td>Abutilon sp. Hamelin (A.M. Ashby 2196)</td>\n      <td>2</td>\n      <td>NaN</td>\n      <td>NaN</td>\n      <td>NaN</td>\n      <td>MWST</td>\n      <td>SHARK BAY</td>\n      <td>Shark Bay, Hamelin Pool, Yaringa Stn</td>\n      <td>Jul-Sep</td>\n      <td>NaN</td>\n      <td>NaN</td>\n      <td>Priority 2: Poorly-known species</td>\n      <td>Priority 2: Poorly-known species - known from ...</td>\n      <td>P2</td>\n    </tr>\n    <tr>\n      <th>2</th>\n      <td>2</td>\n      <td>14110</td>\n      <td>Abutilon sp. Onslow (F. Smith s.n. 10/9/61)</td>\n      <td>3</td>\n      <td>NaN</td>\n      <td>NaN</td>\n      <td>NaN</td>\n      <td>PILB</td>\n      <td>KARRATHA</td>\n      <td>Onslow, Yaraloola Stn</td>\n      <td>Sep</td>\n      <td>NaN</td>\n      <td>NaN</td>\n      <td>Priority 3: Poorly-known species</td>\n      <td>Priority 3: Poorly-known species - known from ...</td>\n      <td>P3</td>\n    </tr>\n    <tr>\n      <th>3</th>\n      <td>3</td>\n      <td>43021</td>\n      <td>Abutilon sp. Pritzelianum (S. van Leeuwen 5095)</td>\n      <td>3</td>\n      <td>NaN</td>\n      <td>NaN</td>\n      <td>NaN</td>\n      <td>MWST,PILB</td>\n      <td>KARRATHA,GERALDTON</td>\n      <td>Carnarvon, Port Headland, Lake McLeod, Gascoyn...</td>\n      <td>Jun, Aug-Sep</td>\n      <td>NaN</td>\n      <td>NaN</td>\n      <td>Priority 3: Poorly-known species</td>\n      <td>Priority 3: Poorly-known species - known from ...</td>\n      <td>P3</td>\n    </tr>\n    <tr>\n      <th>4</th>\n      <td>4</td>\n      <td>14114</td>\n      <td>Abutilon sp. Quobba (H. Demarz 3858)</td>\n      <td>2</td>\n      <td>NaN</td>\n      <td>NaN</td>\n      <td>NaN</td>\n      <td>MWST,PILB</td>\n      <td>EXMOUTH,GERALDTON,SHARK BAY</td>\n      <td>Quobba, Cape Range, Muggon Stn., Canarvon, Dor...</td>\n      <td>Jul-Oct</td>\n      <td>NaN</td>\n      <td>NaN</td>\n      <td>Priority 2: Poorly-known species</td>\n      <td>Priority 2: Poorly-known species - known from ...</td>\n      <td>P2</td>\n    </tr>\n  </tbody>\n</table>\n</div>"
     },
     "execution_count": 28,
     "metadata": {},
     "output_type": "execute_result"
    }
   ],
   "source": [
    "flora.head(5)"
   ],
   "metadata": {
    "collapsed": false,
    "pycharm": {
     "name": "#%%\n"
    }
   }
  },
  {
   "cell_type": "code",
   "execution_count": 12,
   "outputs": [
    {
     "data": {
      "text/plain": "  Unnamed: 0          Scientific name                 Common name  \\\n0          0  Abebaioscia troglodytes  Pannikin Plain Cave isopod   \n1          1  Acanthophis antarcticus        southern death adder   \n2          2      Acercella poorginup   Poorginup Swamp watermite   \n3          3        Acizzia mccarthyi      McCarthy's plant-louse   \n4          4            Acizzia veski          Vesk's plant-louse   \n\n          Class WA listing National listing Kimberley Pilbara Goldfields  \\\n0  INVERTEBRATE         VU              NaN       NaN     NaN        NaN   \n1       REPTILE         P3              NaN       NaN     NaN          X   \n2  INVERTEBRATE         P2              NaN       NaN     NaN        NaN   \n3  INVERTEBRATE         VU              NaN       NaN     NaN        NaN   \n4  INVERTEBRATE         VU              NaN       NaN     NaN        NaN   \n\n  Midwest Wheatbelt South Coast Swan South West Warren  \\\n0     NaN       NaN           X  NaN        NaN    NaN   \n1     NaN         X           X    X        NaN    NaN   \n2     NaN       NaN         NaN  NaN        NaN      X   \n3     NaN       NaN           X  NaN        NaN    NaN   \n4     NaN       NaN           X  NaN        NaN    NaN   \n\n                                        WA listing.1 Notes  \\\n0  Threatened species - Vulnerable under the Biod...   NaN   \n1                             DBCA Priority species.   NaN   \n2                             DBCA Priority species.   NaN   \n3  Threatened species - Vulnerable under the Biod...   NaN   \n4  Threatened species - Vulnerable under the Biod...   NaN   \n\n                                locality                            status  \\\n0                            South Coast                        Vulnerable   \n1  Goldfields,Wheatbelt,South Coast,Swan  Priority 3: Poorly-known species   \n2                                 Warren  Priority 2: Poorly-known species   \n3                            South Coast                        Vulnerable   \n4                            South Coast                        Vulnerable   \n\n                                  status description  \n0                                         Vulnerable  \n1  Priority 3: Poorly-known species - known from ...  \n2  Priority 2: Poorly-known species - known from ...  \n3                                         Vulnerable  \n4                                         Vulnerable  ",
      "text/html": "<div>\n<style scoped>\n    .dataframe tbody tr th:only-of-type {\n        vertical-align: middle;\n    }\n\n    .dataframe tbody tr th {\n        vertical-align: top;\n    }\n\n    .dataframe thead th {\n        text-align: right;\n    }\n</style>\n<table border=\"1\" class=\"dataframe\">\n  <thead>\n    <tr style=\"text-align: right;\">\n      <th></th>\n      <th>Unnamed: 0</th>\n      <th>Scientific name</th>\n      <th>Common name</th>\n      <th>Class</th>\n      <th>WA listing</th>\n      <th>National listing</th>\n      <th>Kimberley</th>\n      <th>Pilbara</th>\n      <th>Goldfields</th>\n      <th>Midwest</th>\n      <th>Wheatbelt</th>\n      <th>South Coast</th>\n      <th>Swan</th>\n      <th>South West</th>\n      <th>Warren</th>\n      <th>WA listing.1</th>\n      <th>Notes</th>\n      <th>locality</th>\n      <th>status</th>\n      <th>status description</th>\n    </tr>\n  </thead>\n  <tbody>\n    <tr>\n      <th>0</th>\n      <td>0</td>\n      <td>Abebaioscia troglodytes</td>\n      <td>Pannikin Plain Cave isopod</td>\n      <td>INVERTEBRATE</td>\n      <td>VU</td>\n      <td>NaN</td>\n      <td>NaN</td>\n      <td>NaN</td>\n      <td>NaN</td>\n      <td>NaN</td>\n      <td>NaN</td>\n      <td>X</td>\n      <td>NaN</td>\n      <td>NaN</td>\n      <td>NaN</td>\n      <td>Threatened species - Vulnerable under the Biod...</td>\n      <td>NaN</td>\n      <td>South Coast</td>\n      <td>Vulnerable</td>\n      <td>Vulnerable</td>\n    </tr>\n    <tr>\n      <th>1</th>\n      <td>1</td>\n      <td>Acanthophis antarcticus</td>\n      <td>southern death adder</td>\n      <td>REPTILE</td>\n      <td>P3</td>\n      <td>NaN</td>\n      <td>NaN</td>\n      <td>NaN</td>\n      <td>X</td>\n      <td>NaN</td>\n      <td>X</td>\n      <td>X</td>\n      <td>X</td>\n      <td>NaN</td>\n      <td>NaN</td>\n      <td>DBCA Priority species.</td>\n      <td>NaN</td>\n      <td>Goldfields,Wheatbelt,South Coast,Swan</td>\n      <td>Priority 3: Poorly-known species</td>\n      <td>Priority 3: Poorly-known species - known from ...</td>\n    </tr>\n    <tr>\n      <th>2</th>\n      <td>2</td>\n      <td>Acercella poorginup</td>\n      <td>Poorginup Swamp watermite</td>\n      <td>INVERTEBRATE</td>\n      <td>P2</td>\n      <td>NaN</td>\n      <td>NaN</td>\n      <td>NaN</td>\n      <td>NaN</td>\n      <td>NaN</td>\n      <td>NaN</td>\n      <td>NaN</td>\n      <td>NaN</td>\n      <td>NaN</td>\n      <td>X</td>\n      <td>DBCA Priority species.</td>\n      <td>NaN</td>\n      <td>Warren</td>\n      <td>Priority 2: Poorly-known species</td>\n      <td>Priority 2: Poorly-known species - known from ...</td>\n    </tr>\n    <tr>\n      <th>3</th>\n      <td>3</td>\n      <td>Acizzia mccarthyi</td>\n      <td>McCarthy's plant-louse</td>\n      <td>INVERTEBRATE</td>\n      <td>VU</td>\n      <td>NaN</td>\n      <td>NaN</td>\n      <td>NaN</td>\n      <td>NaN</td>\n      <td>NaN</td>\n      <td>NaN</td>\n      <td>X</td>\n      <td>NaN</td>\n      <td>NaN</td>\n      <td>NaN</td>\n      <td>Threatened species - Vulnerable under the Biod...</td>\n      <td>NaN</td>\n      <td>South Coast</td>\n      <td>Vulnerable</td>\n      <td>Vulnerable</td>\n    </tr>\n    <tr>\n      <th>4</th>\n      <td>4</td>\n      <td>Acizzia veski</td>\n      <td>Vesk's plant-louse</td>\n      <td>INVERTEBRATE</td>\n      <td>VU</td>\n      <td>NaN</td>\n      <td>NaN</td>\n      <td>NaN</td>\n      <td>NaN</td>\n      <td>NaN</td>\n      <td>NaN</td>\n      <td>X</td>\n      <td>NaN</td>\n      <td>NaN</td>\n      <td>NaN</td>\n      <td>Threatened species - Vulnerable under the Biod...</td>\n      <td>NaN</td>\n      <td>South Coast</td>\n      <td>Vulnerable</td>\n      <td>Vulnerable</td>\n    </tr>\n  </tbody>\n</table>\n</div>"
     },
     "execution_count": 12,
     "metadata": {},
     "output_type": "execute_result"
    }
   ],
   "source": [
    "fauna.head(5)"
   ],
   "metadata": {
    "collapsed": false,
    "pycharm": {
     "name": "#%%\n"
    }
   }
  },
  {
   "cell_type": "code",
   "execution_count": 29,
   "outputs": [],
   "source": [
    "# line up the fields\n",
    "# flora = flora.drop(['Flowering Period', 'WA IUCN Criteria','Recovery Plan'], axis=1)\n",
    "flora['sourceStatus'] = flora.apply(lambda x: \"P\"+x[' WA Status'] if pd.isnull(x['WA Rank']) else x['WA Rank'],axis=1)\n",
    "# flora['DBCA District'] = flora['DBCA District'].str.title()\n",
    "flora = flora.rename(columns=\n",
    "         {'Taxon': 'scientificName'\n",
    "          })\n",
    "# flora['taxonId'] = flora['taxonId'].astype(str)\n",
    "fauna = fauna.rename(columns=\n",
    "        {'Scientific name': 'scientificName',\n",
    "         'Common name': 'vernacularName',\n",
    "         'WA listing': 'sourceStatus'\n",
    "        })"
   ],
   "metadata": {
    "collapsed": false,
    "pycharm": {
     "name": "#%%\n"
    }
   }
  },
  {
   "cell_type": "code",
   "execution_count": 12,
   "outputs": [],
   "source": [
    "#fauna = fauna[['scientificName','vernacularName','waListing','locality','status']]\n",
    "#flora = flora[['taxonId','scientificName','sourceStatus','waRank','region']"
   ],
   "metadata": {
    "collapsed": false,
    "pycharm": {
     "name": "#%%\n"
    }
   }
  },
  {
   "cell_type": "code",
   "execution_count": 30,
   "outputs": [],
   "source": [
    "floraandfauna = pd.concat([flora, fauna], axis=0, ignore_index=True, sort=False)"
   ],
   "metadata": {
    "collapsed": false,
    "pycharm": {
     "name": "#%%\n"
    }
   }
  },
  {
   "cell_type": "code",
   "execution_count": 31,
   "outputs": [
    {
     "data": {
      "text/plain": "Index(['Unnamed: 0', 'Name ID', 'scientificName', ' WA Status', 'WA Rank',\n       'WA IUCN Criteria', 'EPBC', 'DBCA Region', 'DBCA District',\n       'Distribution', 'Flowering Period', 'Recovery Plan', 'Notes', 'status',\n       'status description', 'sourceStatus', 'vernacularName', 'Class',\n       'National listing', 'Kimberley', 'Pilbara', 'Goldfields', 'Midwest',\n       'Wheatbelt', 'South Coast', 'Swan', 'South West', 'Warren',\n       'WA listing.1', 'locality'],\n      dtype='object')"
     },
     "execution_count": 31,
     "metadata": {},
     "output_type": "execute_result"
    }
   ],
   "source": [
    "floraandfauna.columns"
   ],
   "metadata": {
    "collapsed": false,
    "pycharm": {
     "name": "#%%\n"
    }
   }
  },
  {
   "cell_type": "code",
   "execution_count": 32,
   "outputs": [],
   "source": [
    "# floraandfauna['sensitivityZoneId'] = \"WA\"\n",
    "# floraandfauna['category'] = floraandfauna['sourceStatus']\n",
    "floraandfauna = floraandfauna[['scientificName','vernacularName','status','sourceStatus']]"
   ],
   "metadata": {
    "collapsed": false,
    "pycharm": {
     "name": "#%%\n"
    }
   }
  },
  {
   "cell_type": "code",
   "execution_count": 16,
   "outputs": [
    {
     "data": {
      "text/plain": "                                       scientificName  \\\n0                             Abildgaardia pachyptera   \n1              Abutilon sp. Hamelin (A.M. Ashby 2196)   \n2         Abutilon sp. Onslow (F. Smith s.n. 10/9/61)   \n3     Abutilon sp. Pritzelianum (S. van Leeuwen 5095)   \n4                Abutilon sp. Quobba (H. Demarz 3858)   \n...                                               ...   \n4450                             Zephyrarchaea mainae   \n4451                              Zephyrarchaea marki   \n4452                           Zephyrarchaea melindae   \n4453                            Zephyrarchaea robinsi   \n4454                             Zyzomys pedunculatus   \n\n                      vernacularName                            status  \\\n0                                NaN  Priority 1: Poorly-known species   \n1                                NaN  Priority 2: Poorly-known species   \n2                                NaN  Priority 3: Poorly-known species   \n3                                NaN  Priority 3: Poorly-known species   \n4                                NaN  Priority 2: Poorly-known species   \n...                              ...                               ...   \n4450          Main's assassin spider                        Vulnerable   \n4451   Cape Le Grand assassin spider                        Vulnerable   \n4452      Toolbrunup assassin spider                        Vulnerable   \n4453  eastern massif assassin spider                        Vulnerable   \n4454        central rock-rat, antina             Critically Endangered   \n\n     sourceStatus  \n0              P1  \n1              P2  \n2              P3  \n3              P3  \n4              P2  \n...           ...  \n4450           VU  \n4451           VU  \n4452           VU  \n4453           VU  \n4454           CR  \n\n[4455 rows x 4 columns]",
      "text/html": "<div>\n<style scoped>\n    .dataframe tbody tr th:only-of-type {\n        vertical-align: middle;\n    }\n\n    .dataframe tbody tr th {\n        vertical-align: top;\n    }\n\n    .dataframe thead th {\n        text-align: right;\n    }\n</style>\n<table border=\"1\" class=\"dataframe\">\n  <thead>\n    <tr style=\"text-align: right;\">\n      <th></th>\n      <th>scientificName</th>\n      <th>vernacularName</th>\n      <th>status</th>\n      <th>sourceStatus</th>\n    </tr>\n  </thead>\n  <tbody>\n    <tr>\n      <th>0</th>\n      <td>Abildgaardia pachyptera</td>\n      <td>NaN</td>\n      <td>Priority 1: Poorly-known species</td>\n      <td>P1</td>\n    </tr>\n    <tr>\n      <th>1</th>\n      <td>Abutilon sp. Hamelin (A.M. Ashby 2196)</td>\n      <td>NaN</td>\n      <td>Priority 2: Poorly-known species</td>\n      <td>P2</td>\n    </tr>\n    <tr>\n      <th>2</th>\n      <td>Abutilon sp. Onslow (F. Smith s.n. 10/9/61)</td>\n      <td>NaN</td>\n      <td>Priority 3: Poorly-known species</td>\n      <td>P3</td>\n    </tr>\n    <tr>\n      <th>3</th>\n      <td>Abutilon sp. Pritzelianum (S. van Leeuwen 5095)</td>\n      <td>NaN</td>\n      <td>Priority 3: Poorly-known species</td>\n      <td>P3</td>\n    </tr>\n    <tr>\n      <th>4</th>\n      <td>Abutilon sp. Quobba (H. Demarz 3858)</td>\n      <td>NaN</td>\n      <td>Priority 2: Poorly-known species</td>\n      <td>P2</td>\n    </tr>\n    <tr>\n      <th>...</th>\n      <td>...</td>\n      <td>...</td>\n      <td>...</td>\n      <td>...</td>\n    </tr>\n    <tr>\n      <th>4450</th>\n      <td>Zephyrarchaea mainae</td>\n      <td>Main's assassin spider</td>\n      <td>Vulnerable</td>\n      <td>VU</td>\n    </tr>\n    <tr>\n      <th>4451</th>\n      <td>Zephyrarchaea marki</td>\n      <td>Cape Le Grand assassin spider</td>\n      <td>Vulnerable</td>\n      <td>VU</td>\n    </tr>\n    <tr>\n      <th>4452</th>\n      <td>Zephyrarchaea melindae</td>\n      <td>Toolbrunup assassin spider</td>\n      <td>Vulnerable</td>\n      <td>VU</td>\n    </tr>\n    <tr>\n      <th>4453</th>\n      <td>Zephyrarchaea robinsi</td>\n      <td>eastern massif assassin spider</td>\n      <td>Vulnerable</td>\n      <td>VU</td>\n    </tr>\n    <tr>\n      <th>4454</th>\n      <td>Zyzomys pedunculatus</td>\n      <td>central rock-rat, antina</td>\n      <td>Critically Endangered</td>\n      <td>CR</td>\n    </tr>\n  </tbody>\n</table>\n<p>4455 rows × 4 columns</p>\n</div>"
     },
     "execution_count": 16,
     "metadata": {},
     "output_type": "execute_result"
    }
   ],
   "source": [
    "floraandfauna"
   ],
   "metadata": {
    "collapsed": false,
    "pycharm": {
     "name": "#%%\n"
    }
   }
  },
  {
   "cell_type": "markdown",
   "source": [
    "Write dataframe to both conservation and sensitive CSV files - UTF-8 encoding"
   ],
   "metadata": {
    "collapsed": false,
    "pycharm": {
     "name": "#%% md\n"
    }
   }
  },
  {
   "cell_type": "code",
   "execution_count": 17,
   "outputs": [],
   "source": [
    "floraandfauna.to_csv(projectDir + \"current-lists/conservation-lists/WA-conservation-20230601.csv\", encoding=\"UTF-8\",index=False)"
   ],
   "metadata": {
    "collapsed": false,
    "pycharm": {
     "name": "#%%\n"
    }
   }
  },
  {
   "cell_type": "code",
   "execution_count": 33,
   "outputs": [
    {
     "name": "stderr",
     "output_type": "stream",
     "text": [
      "C:\\Users\\oco115\\AppData\\Local\\Temp/ipykernel_5488/1077903115.py:2: SettingWithCopyWarning: \n",
      "A value is trying to be set on a copy of a slice from a DataFrame.\n",
      "Try using .loc[row_indexer,col_indexer] = value instead\n",
      "\n",
      "See the caveats in the documentation: https://pandas.pydata.org/pandas-docs/stable/user_guide/indexing.html#returning-a-view-versus-a-copy\n",
      "  sensitivelist['generalisation'] = \"10 km\"\n"
     ]
    }
   ],
   "source": [
    "sensitivelist = floraandfauna[['scientificName', 'vernacularName']]\n",
    "sensitivelist['generalisation'] = \"10 km\"\n",
    "sensitivelist.to_csv(projectDir + \"current-lists/sensitive-lists/WA-sensitive-20230601.csv\", encoding=\"UTF-8\", index=False)"
   ],
   "metadata": {
    "collapsed": false,
    "pycharm": {
     "name": "#%%\n"
    }
   }
  },
  {
   "cell_type": "markdown",
   "source": [
    "# Manual List check\n",
    "\n",
    "* Conservation list: __[dr2201](https://lists.ala.org.au/speciesListItem/list/dr2201)__ (and [dr2201 in test](https://lists-test.ala.org.au/speciesListItem/list/dr2201))\n",
    "* Sensitive list: __[dr467](https://lists.ala.org.au/speciesListItem/list/dr467)__ (and [dr18406 in test](https://lists-test.ala.org.au/speciesListItem/list/dr18406))\n",
    "\n",
    "**Instructions**\n",
    "1. Load the lists above into the lists-test tool\n",
    "2. Check the list name matching score and the text appearance on species pages\n",
    "3. Unskip the below code and Run the reports below to compare to production. Send the changelog.csv to check. Correct any issues.\n",
    "4. Save the production list into the `historical lists` directory by uncommenting the code section below.\n",
    "5. Load the lists into production\n"
   ],
   "metadata": {
    "collapsed": false,
    "pycharm": {
     "name": "#%% md\n"
    }
   }
  },
  {
   "cell_type": "code",
   "execution_count": 16,
   "outputs": [],
   "source": [
    "# prep\n",
    "import sys\n",
    "import os\n",
    "sys.path.append(os.path.abspath(projectDir + \"source-code/includes\"))\n",
    "import list_functions as lf\n",
    "import datetime\n",
    "monthStr = datetime.datetime.now().strftime('%Y%m')"
   ],
   "metadata": {
    "collapsed": false,
    "pycharm": {
     "name": "#%%\n"
    }
   }
  },
  {
   "cell_type": "code",
   "execution_count": null,
   "outputs": [],
   "source": [
    "%%script echo skipping # comment this line to do a list check between test and production and save the changelog\n",
    "# Conservation\n",
    "ltype = \"C\"\n",
    "filename = \"WA-conservation.csv\"\n",
    "prodListUrl = \"https://lists.ala.org.au/ws/speciesListItems/\" + \"dr2201\" + \"?max=10000&includeKVP=true\"\n",
    "testListUrl = \"https://lists-test.ala.org.au/ws/speciesListItems/\" + \"dr2201\" + \"?max=10000&includeKVP=true\"\n",
    "changelist = lf.get_changelist(testListUrl, prodListUrl, ltype)\n",
    "changelist.to_csv(projectDir + \"analysis/change-log/\" + monthStr + \"-\" + filename, encoding=\"UTF-8\", index=False)\n",
    "print(\"conservation changelist done\")"
   ],
   "metadata": {
    "collapsed": false,
    "pycharm": {
     "name": "#%%\n"
    }
   }
  },
  {
   "cell_type": "markdown",
   "source": [
    "### Download Production lists to Historical Lists directory"
   ],
   "metadata": {
    "collapsed": false,
    "pycharm": {
     "name": "#%% md\n"
    }
   }
  },
  {
   "cell_type": "code",
   "execution_count": null,
   "outputs": [],
   "source": [
    "%%script echo skipping # comment this line to do a list check between test and production and save the changelog\n",
    "\n",
    "prodList = lf.download_ala_list(prodListUrl)  # save the prod list to the historical lists directory\n",
    "prodList = lf.kvp_to_columns(prodList)\n",
    "prodList.to_csv(projectDir + \"historical-lists/conservation/\" + filename, encoding=\"UTF-8\", index=False)\n",
    "print('Finished downloading historical list')"
   ],
   "metadata": {
    "collapsed": false,
    "pycharm": {
     "name": "#%%\n"
    }
   }
  },
  {
   "cell_type": "code",
   "execution_count": null,
   "outputs": [],
   "source": [
    "%%script echo skipping # comment this line to do a list check between test and production and save the changelog\n",
    "\n",
    "# Sensitive\n",
    "filename = \"WA-sensitive.csv\"\n",
    "prodListUrl = \"https://lists.ala.org.au/ws/speciesListItems/\" + \"dr467\" + \"?max=10000&includeKVP=true\"\n",
    "testListUrl = \"https://lists-test.ala.org.au/ws/speciesListItems/\" + \"dr18406\" + \"?max=10000&includeKVP=true\"\n",
    "changelist = lf.get_changelist(testListUrl, prodListUrl )\n",
    "# save the lists locally\n",
    "changelist.to_csv(projectDir + \"analysis/change-log/\" + monthStr + \"-\" + filename, encoding=\"UTF-8\", index=False)\n",
    "print(\"sensitive changelist done\")"
   ],
   "metadata": {
    "collapsed": false,
    "pycharm": {
     "name": "#%%\n"
    }
   }
  },
  {
   "cell_type": "markdown",
   "source": [
    "### Download production lists to Historical lists directory"
   ],
   "metadata": {
    "collapsed": false,
    "pycharm": {
     "name": "#%% md\n"
    }
   }
  },
  {
   "cell_type": "code",
   "execution_count": null,
   "outputs": [],
   "source": [
    "%%script echo skipping # comment this line to save the prod list to the historical directory\n",
    "\n",
    "prodListUrl = \"https://lists.ala.org.au/ws/speciesListItems/\" + \"dr467\" + \"?max=10000&includeKVP=true\"\n",
    "prodList = lf.download_ala_list(prodListUrl) # save the prod list to the historical lists directory\n",
    "prodList = lf.kvp_to_columns(prodList)\n",
    "prodList.to_csv(projectDir + \"historical-lists/sensitive/\" + filename, encoding=\"UTF-8\", index=False)"
   ],
   "metadata": {
    "collapsed": false,
    "pycharm": {
     "name": "#%%\n"
    }
   }
  }
 ],
 "metadata": {
  "kernelspec": {
   "display_name": "Python 3",
   "language": "python",
   "name": "python3"
  },
  "language_info": {
   "codemirror_mode": {
    "name": "ipython",
    "version": 2
   },
   "file_extension": ".py",
   "mimetype": "text/x-python",
   "name": "python",
   "nbconvert_exporter": "python",
   "pygments_lexer": "ipython2",
   "version": "2.7.6"
  }
 },
 "nbformat": 4,
 "nbformat_minor": 0
}