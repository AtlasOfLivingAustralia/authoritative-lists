{
 "cells": [
  {
   "cell_type": "code",
   "execution_count": null,
   "metadata": {
    "collapsed": true,
    "pycharm": {
     "name": "#%%\n"
    }
   },
   "outputs": [],
   "source": [
    "# WA Conservation and Sensitive Lists\n",
    "# WA has the same list for both conservation and sensitive lists\n",
    "# Fauna and Flora are in separate files and have different formats. These are processed separately and then concatenated into one file\n",
    "# Downloads:\n",
    "#Species List and Species codes URLS\n",
    "# faunalisturl = \"https://www.dpaw.wa.gov.au/images/documents/plants-animals/threatened-species/Listings/Threatened%20and%20Priority%20Fauna%20List.xlsx\"\n",
    "# floralisturl = \"https://www.dpaw.wa.gov.au/images/documents/plants-animals/threatened-species/Listings/Threatened%20and%20Priority%20Flora%20List%205%20December%202018.xlsx\""
   ]
  },
  {
   "cell_type": "code",
   "execution_count": 8,
   "outputs": [],
   "source": [
    "#import essential libraries\n",
    "import pandas as pd\n",
    "import numpy as np"
   ],
   "metadata": {
    "collapsed": false,
    "pycharm": {
     "name": "#%%\n"
    }
   }
  },
  {
   "cell_type": "code",
   "execution_count": 9,
   "outputs": [],
   "source": [
    "# top level directory\n",
    "projectdir = \"/Users/oco115/PycharmProjects/auth-lists-updates/WA-2022-10/\"\n",
    "basedir = \"/Users/oco115/PycharmProjects/authoritative-lists/WA-2022-10/\"\n",
    "faunafile = projectdir + \"source-data/Threatened and Priority Fauna List 7 October 2022.xlsx\"\n",
    "florafile = projectdir + \"source-data/Threatened and Priority Flora List 6 October 2022.xlsx\""
   ],
   "metadata": {
    "collapsed": false,
    "pycharm": {
     "name": "#%%\n"
    }
   }
  },
  {
   "cell_type": "code",
   "execution_count": 10,
   "outputs": [
    {
     "name": "stdout",
     "output_type": "stream",
     "text": [
      "Process Fauna\n",
      "Loading WA Fauna List\n",
      "Finished Fauna download\n"
     ]
    },
    {
     "data": {
      "text/plain": "             Scientific name                     Common name         Class  \\\n0    Abebaioscia troglodytes      Pannikin Plain Cave isopod  INVERTEBRATE   \n1    Acanthophis antarcticus            southern death adder       REPTILE   \n2        Acercella poorginup       Poorginup Swamp watermite  INVERTEBRATE   \n3          Acizzia mccarthyi          McCarthy's plant-louse  INVERTEBRATE   \n4              Acizzia veski              Vesk's plant-louse  INVERTEBRATE   \n..                       ...                             ...           ...   \n591     Zephyrarchaea mainae          Main's assassin spider  INVERTEBRATE   \n592      Zephyrarchaea marki   Cape Le Grand assassin spider  INVERTEBRATE   \n593   Zephyrarchaea melindae      Toolbrunup assassin spider  INVERTEBRATE   \n594    Zephyrarchaea robinsi  eastern massif assassin spider  INVERTEBRATE   \n595     Zyzomys pedunculatus        central rock-rat, antina        MAMMAL   \n\n    WA listing National listing Kimberley Pilbara Goldfields Midwest  \\\n0           VU              NaN       NaN     NaN        NaN     NaN   \n1           P3              NaN       NaN     NaN          X     NaN   \n2           P2              NaN       NaN     NaN        NaN     NaN   \n3           VU              NaN       NaN     NaN        NaN     NaN   \n4           VU              NaN       NaN     NaN        NaN     NaN   \n..         ...              ...       ...     ...        ...     ...   \n591         VU              NaN       NaN     NaN        NaN     NaN   \n592         VU              NaN       NaN     NaN        NaN     NaN   \n593         VU              NaN       NaN     NaN        NaN     NaN   \n594         VU              NaN       NaN     NaN        NaN     NaN   \n595         CR               CR       NaN       X        NaN     NaN   \n\n    Wheatbelt South Coast Swan South West Warren  \\\n0         NaN           X  NaN        NaN    NaN   \n1           X           X    X        NaN    NaN   \n2         NaN         NaN  NaN        NaN      X   \n3         NaN           X  NaN        NaN    NaN   \n4         NaN           X  NaN        NaN    NaN   \n..        ...         ...  ...        ...    ...   \n591       NaN           X  NaN        NaN      X   \n592       NaN           X  NaN        NaN    NaN   \n593       NaN           X  NaN        NaN    NaN   \n594       NaN           X  NaN        NaN    NaN   \n595       NaN         NaN  NaN        NaN    NaN   \n\n                                          WA listing.1 Notes  \n0    Threatened species - Vulnerable under the Biod...   NaN  \n1                               DBCA Priority species.   NaN  \n2                               DBCA Priority species.   NaN  \n3    Threatened species - Vulnerable under the Biod...   NaN  \n4    Threatened species - Vulnerable under the Biod...   NaN  \n..                                                 ...   ...  \n591  Threatened species - Vulnerable under the Biod...   NaN  \n592  Threatened species - Vulnerable under the Biod...   NaN  \n593  Threatened species - Vulnerable under the Biod...   NaN  \n594  Threatened species - Vulnerable under the Biod...   NaN  \n595  Threatened species - Critically endangered und...   NaN  \n\n[596 rows x 16 columns]",
      "text/html": "<div>\n<style scoped>\n    .dataframe tbody tr th:only-of-type {\n        vertical-align: middle;\n    }\n\n    .dataframe tbody tr th {\n        vertical-align: top;\n    }\n\n    .dataframe thead th {\n        text-align: right;\n    }\n</style>\n<table border=\"1\" class=\"dataframe\">\n  <thead>\n    <tr style=\"text-align: right;\">\n      <th></th>\n      <th>Scientific name</th>\n      <th>Common name</th>\n      <th>Class</th>\n      <th>WA listing</th>\n      <th>National listing</th>\n      <th>Kimberley</th>\n      <th>Pilbara</th>\n      <th>Goldfields</th>\n      <th>Midwest</th>\n      <th>Wheatbelt</th>\n      <th>South Coast</th>\n      <th>Swan</th>\n      <th>South West</th>\n      <th>Warren</th>\n      <th>WA listing.1</th>\n      <th>Notes</th>\n    </tr>\n  </thead>\n  <tbody>\n    <tr>\n      <th>0</th>\n      <td>Abebaioscia troglodytes</td>\n      <td>Pannikin Plain Cave isopod</td>\n      <td>INVERTEBRATE</td>\n      <td>VU</td>\n      <td>NaN</td>\n      <td>NaN</td>\n      <td>NaN</td>\n      <td>NaN</td>\n      <td>NaN</td>\n      <td>NaN</td>\n      <td>X</td>\n      <td>NaN</td>\n      <td>NaN</td>\n      <td>NaN</td>\n      <td>Threatened species - Vulnerable under the Biod...</td>\n      <td>NaN</td>\n    </tr>\n    <tr>\n      <th>1</th>\n      <td>Acanthophis antarcticus</td>\n      <td>southern death adder</td>\n      <td>REPTILE</td>\n      <td>P3</td>\n      <td>NaN</td>\n      <td>NaN</td>\n      <td>NaN</td>\n      <td>X</td>\n      <td>NaN</td>\n      <td>X</td>\n      <td>X</td>\n      <td>X</td>\n      <td>NaN</td>\n      <td>NaN</td>\n      <td>DBCA Priority species.</td>\n      <td>NaN</td>\n    </tr>\n    <tr>\n      <th>2</th>\n      <td>Acercella poorginup</td>\n      <td>Poorginup Swamp watermite</td>\n      <td>INVERTEBRATE</td>\n      <td>P2</td>\n      <td>NaN</td>\n      <td>NaN</td>\n      <td>NaN</td>\n      <td>NaN</td>\n      <td>NaN</td>\n      <td>NaN</td>\n      <td>NaN</td>\n      <td>NaN</td>\n      <td>NaN</td>\n      <td>X</td>\n      <td>DBCA Priority species.</td>\n      <td>NaN</td>\n    </tr>\n    <tr>\n      <th>3</th>\n      <td>Acizzia mccarthyi</td>\n      <td>McCarthy's plant-louse</td>\n      <td>INVERTEBRATE</td>\n      <td>VU</td>\n      <td>NaN</td>\n      <td>NaN</td>\n      <td>NaN</td>\n      <td>NaN</td>\n      <td>NaN</td>\n      <td>NaN</td>\n      <td>X</td>\n      <td>NaN</td>\n      <td>NaN</td>\n      <td>NaN</td>\n      <td>Threatened species - Vulnerable under the Biod...</td>\n      <td>NaN</td>\n    </tr>\n    <tr>\n      <th>4</th>\n      <td>Acizzia veski</td>\n      <td>Vesk's plant-louse</td>\n      <td>INVERTEBRATE</td>\n      <td>VU</td>\n      <td>NaN</td>\n      <td>NaN</td>\n      <td>NaN</td>\n      <td>NaN</td>\n      <td>NaN</td>\n      <td>NaN</td>\n      <td>X</td>\n      <td>NaN</td>\n      <td>NaN</td>\n      <td>NaN</td>\n      <td>Threatened species - Vulnerable under the Biod...</td>\n      <td>NaN</td>\n    </tr>\n    <tr>\n      <th>...</th>\n      <td>...</td>\n      <td>...</td>\n      <td>...</td>\n      <td>...</td>\n      <td>...</td>\n      <td>...</td>\n      <td>...</td>\n      <td>...</td>\n      <td>...</td>\n      <td>...</td>\n      <td>...</td>\n      <td>...</td>\n      <td>...</td>\n      <td>...</td>\n      <td>...</td>\n      <td>...</td>\n    </tr>\n    <tr>\n      <th>591</th>\n      <td>Zephyrarchaea mainae</td>\n      <td>Main's assassin spider</td>\n      <td>INVERTEBRATE</td>\n      <td>VU</td>\n      <td>NaN</td>\n      <td>NaN</td>\n      <td>NaN</td>\n      <td>NaN</td>\n      <td>NaN</td>\n      <td>NaN</td>\n      <td>X</td>\n      <td>NaN</td>\n      <td>NaN</td>\n      <td>X</td>\n      <td>Threatened species - Vulnerable under the Biod...</td>\n      <td>NaN</td>\n    </tr>\n    <tr>\n      <th>592</th>\n      <td>Zephyrarchaea marki</td>\n      <td>Cape Le Grand assassin spider</td>\n      <td>INVERTEBRATE</td>\n      <td>VU</td>\n      <td>NaN</td>\n      <td>NaN</td>\n      <td>NaN</td>\n      <td>NaN</td>\n      <td>NaN</td>\n      <td>NaN</td>\n      <td>X</td>\n      <td>NaN</td>\n      <td>NaN</td>\n      <td>NaN</td>\n      <td>Threatened species - Vulnerable under the Biod...</td>\n      <td>NaN</td>\n    </tr>\n    <tr>\n      <th>593</th>\n      <td>Zephyrarchaea melindae</td>\n      <td>Toolbrunup assassin spider</td>\n      <td>INVERTEBRATE</td>\n      <td>VU</td>\n      <td>NaN</td>\n      <td>NaN</td>\n      <td>NaN</td>\n      <td>NaN</td>\n      <td>NaN</td>\n      <td>NaN</td>\n      <td>X</td>\n      <td>NaN</td>\n      <td>NaN</td>\n      <td>NaN</td>\n      <td>Threatened species - Vulnerable under the Biod...</td>\n      <td>NaN</td>\n    </tr>\n    <tr>\n      <th>594</th>\n      <td>Zephyrarchaea robinsi</td>\n      <td>eastern massif assassin spider</td>\n      <td>INVERTEBRATE</td>\n      <td>VU</td>\n      <td>NaN</td>\n      <td>NaN</td>\n      <td>NaN</td>\n      <td>NaN</td>\n      <td>NaN</td>\n      <td>NaN</td>\n      <td>X</td>\n      <td>NaN</td>\n      <td>NaN</td>\n      <td>NaN</td>\n      <td>Threatened species - Vulnerable under the Biod...</td>\n      <td>NaN</td>\n    </tr>\n    <tr>\n      <th>595</th>\n      <td>Zyzomys pedunculatus</td>\n      <td>central rock-rat, antina</td>\n      <td>MAMMAL</td>\n      <td>CR</td>\n      <td>CR</td>\n      <td>NaN</td>\n      <td>X</td>\n      <td>NaN</td>\n      <td>NaN</td>\n      <td>NaN</td>\n      <td>NaN</td>\n      <td>NaN</td>\n      <td>NaN</td>\n      <td>NaN</td>\n      <td>Threatened species - Critically endangered und...</td>\n      <td>NaN</td>\n    </tr>\n  </tbody>\n</table>\n<p>596 rows × 16 columns</p>\n</div>"
     },
     "execution_count": 10,
     "metadata": {},
     "output_type": "execute_result"
    }
   ],
   "source": [
    "# Process Fauna\n",
    "print('Process Fauna')\n",
    "print(\"Loading WA Fauna List\")\n",
    "fauna = pd.read_excel(faunafile,skiprows=0)\n",
    "print(\"Finished Fauna download\")\n",
    "fauna"
   ],
   "metadata": {
    "collapsed": false,
    "pycharm": {
     "name": "#%%\n"
    }
   }
  },
  {
   "cell_type": "code",
   "execution_count": 11,
   "outputs": [
    {
     "data": {
      "text/plain": "Index(['Scientific name', 'Common name', 'Class', 'WA listing',\n       'National listing', 'Kimberley', 'Pilbara', 'Goldfields', 'Midwest',\n       'Wheatbelt', 'South Coast', 'Swan', 'South West', 'Warren',\n       'WA listing.1', 'Notes'],\n      dtype='object')"
     },
     "execution_count": 11,
     "metadata": {},
     "output_type": "execute_result"
    }
   ],
   "source": [
    "fauna.columns"
   ],
   "metadata": {
    "collapsed": false,
    "pycharm": {
     "name": "#%%\n"
    }
   }
  },
  {
   "cell_type": "code",
   "execution_count": 12,
   "outputs": [
    {
     "data": {
      "text/plain": "Index(['scientificName', 'vernacularName', 'class', 'sourceStatus',\n       'epbc status', 'KIMB', 'PILB', 'GOLD', 'MWST', 'WHTB', 'SCST', 'SWAN',\n       'SWST', 'WARR', 'WA listing.1', 'taxonRemarks'],\n      dtype='object')"
     },
     "execution_count": 12,
     "metadata": {},
     "output_type": "execute_result"
    }
   ],
   "source": [
    "fauna = fauna.rename(columns=\n",
    "{\n",
    "        'Scientific name': 'scientificName',\n",
    "        'Common name': 'vernacularName',\n",
    "        'Class': 'class',\n",
    "        'WA listing': 'sourceStatus',\n",
    "        'National listing': 'epbc status',\n",
    "        'WA listing note': 'wa listing note',\n",
    "        'Notes': 'taxonRemarks',\n",
    "\n",
    "        # 'WA Status \\n(ranking)': 'sourceStatus',\n",
    "        # 'EPBC Status \\n(ranking)': 'EPBC Status',\n",
    "        # 'WA list name': 'taxonRemarks',\n",
    "        'Kimberley': 'KIMB',\n",
    "        'Pilbara': 'PILB',\n",
    "        'Goldfields': 'GOLD',\n",
    "        'Midwest': 'MWST',\n",
    "        'Wheatbelt': 'WHTB',\n",
    "        'South Coast': 'SCST',\n",
    "        'Swan': 'SWAN',\n",
    "        'South West': 'SWST',\n",
    "        'Warren': 'WARR'\n",
    "    })\n",
    "fauna.columns"
   ],
   "metadata": {
    "collapsed": false,
    "pycharm": {
     "name": "#%%\n"
    }
   }
  },
  {
   "cell_type": "code",
   "execution_count": 13,
   "outputs": [],
   "source": [
    "# Building 'DBCA Region' field. Original data has a column for each locality with 'X' marked\n",
    "# in cells where the species is found\n",
    "\n",
    "df = fauna[['KIMB', 'PILB', 'GOLD','MWST', 'WHTB', 'SCST', 'SWAN', 'SWST', 'WARR']].copy()\n",
    "v = np.where(df == \"X\")\n",
    "fauna['dbca region'] = (pd.DataFrame(df.columns[v[1]], index=df.index[v[0]], columns=['result']).groupby(level=0).agg(','.join).reindex(df.index))\n",
    "# drop location columns\n",
    "fauna = fauna.drop(['KIMB',\n",
    "                    'PILB',\n",
    "                    'GOLD',\n",
    "                    'MWST',\n",
    "                    'WHTB',\n",
    "                    'SCST',\n",
    "                    'SWAN',\n",
    "                    'SWST',\n",
    "                    'WARR'\n",
    "                    ], axis=1)"
   ],
   "metadata": {
    "collapsed": false,
    "pycharm": {
     "name": "#%%\n"
    }
   }
  },
  {
   "cell_type": "code",
   "execution_count": 14,
   "outputs": [
    {
     "name": "stdout",
     "output_type": "stream",
     "text": [
      "Transforming fauna\n"
     ]
    }
   ],
   "source": [
    "print('Transforming fauna')\n",
    "fauna['status'] = fauna['sourceStatus'].replace(['P1', 'P2', 'P3', 'P4', 'VU', 'MI', 'CR', 'EN',\n",
    "                                                'OS', 'EX', 'EW', 'CD',\n",
    "                                                'MI (& VU or CR at subsp. level)',\n",
    "                                                'VU (& MI at sp. level)',\n",
    "                                                'CR (& MI at sp. level)',\n",
    "                                                'MI & P4'],\n",
    "                                                ['P1 - Poorly known species', 'P2 - Poorly known species',\n",
    "                                                'P3 - Poorly known species', 'P4 - Poorly known species',\n",
    "                                                'Vulnerable', 'Migratory', 'Critically Endangered', 'Endangered',\n",
    "                                                'Other specially protected fauna', 'Extinct', 'Extinct in Wild',\n",
    "                                                'Special Conservation Interest', 'Migratory', 'Vulnerable',\n",
    "                                                'Critically Endangered', 'Migratory & P4'\n",
    "                                                ])"
   ],
   "metadata": {
    "collapsed": false,
    "pycharm": {
     "name": "#%%\n"
    }
   }
  },
  {
   "cell_type": "code",
   "execution_count": 31,
   "outputs": [
    {
     "name": "stdout",
     "output_type": "stream",
     "text": [
      "Processing Flora\n",
      "Loading WA Flora List\n",
      "Finished Flora download\n"
     ]
    },
    {
     "data": {
      "text/plain": "      Name ID                                            Taxon  WA Status  \\\n0       50593                          Abildgaardia pachyptera          1   \n1       14112           Abutilon sp. Hamelin (A.M. Ashby 2196)          2   \n2       14110      Abutilon sp. Onslow (F. Smith s.n. 10/9/61)          3   \n3       43021  Abutilon sp. Pritzelianum (S. van Leeuwen 5095)          3   \n4       14114             Abutilon sp. Quobba (H. Demarz 3858)          2   \n...       ...                                              ...        ...   \n3854    17481                                     Xyris maxima          2   \n3855     7383                               Zehneria mucronata          1   \n3856    29060                                  Zeuxine oblonga          2   \n3857    36237                                  Zornia areolata          1   \n3858    34478    Zornia sp. West Kimberley (C.A. Gardner 9942)          3   \n\n     WA Rank WA IUCN Criteria EPBC DBCA Region                  DBCA District  \\\n0        NaN              NaN  NaN        KIMB                 EAST KIMBERLEY   \n1        NaN              NaN  NaN        MWST                      SHARK BAY   \n2        NaN              NaN  NaN        PILB                       KARRATHA   \n3        NaN              NaN  NaN   MWST,PILB             KARRATHA,GERALDTON   \n4        NaN              NaN  NaN   MWST,PILB    EXMOUTH,GERALDTON,SHARK BAY   \n...      ...              ...  ...         ...                            ...   \n3854     NaN              NaN  NaN        SWST                      BLACKWOOD   \n3855     NaN              NaN  NaN        KIMB                 EAST KIMBERLEY   \n3856     NaN              NaN  NaN        KIMB                 EAST KIMBERLEY   \n3857     NaN              NaN  NaN        KIMB                 EAST KIMBERLEY   \n3858     NaN              NaN  NaN        KIMB  EAST KIMBERLEY,WEST KIMBERLEY   \n\n                                           Distribution Flowering Period  \\\n0                                      Mitchell Plateau          Feb-Mar   \n1                  Shark Bay, Hamelin Pool, Yaringa Stn          Jul-Sep   \n2                                 Onslow, Yaraloola Stn              Sep   \n3     Carnarvon, Port Headland, Lake McLeod, Gascoyn...     Jun, Aug-Sep   \n4     Quobba, Cape Range, Muggon Stn., Canarvon, Dor...          Jul-Oct   \n...                                                 ...              ...   \n3854                                        Witchcliffe          Nov-Jan   \n3855          Mitchell Plateau, Cassini Is., Sale River              Jan   \n3856                                          Kununurra              NaN   \n3857                                          Kununurra              NaN   \n3858  Gibb River Stn., Mt Elizabeth Stn., Beverley S...              NaN   \n\n     Recovery Plan Notes  \n0              NaN   NaN  \n1              NaN   NaN  \n2              NaN   NaN  \n3              NaN   NaN  \n4              NaN   NaN  \n...            ...   ...  \n3854           NaN   NaN  \n3855           NaN   NaN  \n3856           NaN   NaN  \n3857           NaN   NaN  \n3858           NaN   NaN  \n\n[3859 rows x 12 columns]",
      "text/html": "<div>\n<style scoped>\n    .dataframe tbody tr th:only-of-type {\n        vertical-align: middle;\n    }\n\n    .dataframe tbody tr th {\n        vertical-align: top;\n    }\n\n    .dataframe thead th {\n        text-align: right;\n    }\n</style>\n<table border=\"1\" class=\"dataframe\">\n  <thead>\n    <tr style=\"text-align: right;\">\n      <th></th>\n      <th>Name ID</th>\n      <th>Taxon</th>\n      <th>WA Status</th>\n      <th>WA Rank</th>\n      <th>WA IUCN Criteria</th>\n      <th>EPBC</th>\n      <th>DBCA Region</th>\n      <th>DBCA District</th>\n      <th>Distribution</th>\n      <th>Flowering Period</th>\n      <th>Recovery Plan</th>\n      <th>Notes</th>\n    </tr>\n  </thead>\n  <tbody>\n    <tr>\n      <th>0</th>\n      <td>50593</td>\n      <td>Abildgaardia pachyptera</td>\n      <td>1</td>\n      <td>NaN</td>\n      <td>NaN</td>\n      <td>NaN</td>\n      <td>KIMB</td>\n      <td>EAST KIMBERLEY</td>\n      <td>Mitchell Plateau</td>\n      <td>Feb-Mar</td>\n      <td>NaN</td>\n      <td>NaN</td>\n    </tr>\n    <tr>\n      <th>1</th>\n      <td>14112</td>\n      <td>Abutilon sp. Hamelin (A.M. Ashby 2196)</td>\n      <td>2</td>\n      <td>NaN</td>\n      <td>NaN</td>\n      <td>NaN</td>\n      <td>MWST</td>\n      <td>SHARK BAY</td>\n      <td>Shark Bay, Hamelin Pool, Yaringa Stn</td>\n      <td>Jul-Sep</td>\n      <td>NaN</td>\n      <td>NaN</td>\n    </tr>\n    <tr>\n      <th>2</th>\n      <td>14110</td>\n      <td>Abutilon sp. Onslow (F. Smith s.n. 10/9/61)</td>\n      <td>3</td>\n      <td>NaN</td>\n      <td>NaN</td>\n      <td>NaN</td>\n      <td>PILB</td>\n      <td>KARRATHA</td>\n      <td>Onslow, Yaraloola Stn</td>\n      <td>Sep</td>\n      <td>NaN</td>\n      <td>NaN</td>\n    </tr>\n    <tr>\n      <th>3</th>\n      <td>43021</td>\n      <td>Abutilon sp. Pritzelianum (S. van Leeuwen 5095)</td>\n      <td>3</td>\n      <td>NaN</td>\n      <td>NaN</td>\n      <td>NaN</td>\n      <td>MWST,PILB</td>\n      <td>KARRATHA,GERALDTON</td>\n      <td>Carnarvon, Port Headland, Lake McLeod, Gascoyn...</td>\n      <td>Jun, Aug-Sep</td>\n      <td>NaN</td>\n      <td>NaN</td>\n    </tr>\n    <tr>\n      <th>4</th>\n      <td>14114</td>\n      <td>Abutilon sp. Quobba (H. Demarz 3858)</td>\n      <td>2</td>\n      <td>NaN</td>\n      <td>NaN</td>\n      <td>NaN</td>\n      <td>MWST,PILB</td>\n      <td>EXMOUTH,GERALDTON,SHARK BAY</td>\n      <td>Quobba, Cape Range, Muggon Stn., Canarvon, Dor...</td>\n      <td>Jul-Oct</td>\n      <td>NaN</td>\n      <td>NaN</td>\n    </tr>\n    <tr>\n      <th>...</th>\n      <td>...</td>\n      <td>...</td>\n      <td>...</td>\n      <td>...</td>\n      <td>...</td>\n      <td>...</td>\n      <td>...</td>\n      <td>...</td>\n      <td>...</td>\n      <td>...</td>\n      <td>...</td>\n      <td>...</td>\n    </tr>\n    <tr>\n      <th>3854</th>\n      <td>17481</td>\n      <td>Xyris maxima</td>\n      <td>2</td>\n      <td>NaN</td>\n      <td>NaN</td>\n      <td>NaN</td>\n      <td>SWST</td>\n      <td>BLACKWOOD</td>\n      <td>Witchcliffe</td>\n      <td>Nov-Jan</td>\n      <td>NaN</td>\n      <td>NaN</td>\n    </tr>\n    <tr>\n      <th>3855</th>\n      <td>7383</td>\n      <td>Zehneria mucronata</td>\n      <td>1</td>\n      <td>NaN</td>\n      <td>NaN</td>\n      <td>NaN</td>\n      <td>KIMB</td>\n      <td>EAST KIMBERLEY</td>\n      <td>Mitchell Plateau, Cassini Is., Sale River</td>\n      <td>Jan</td>\n      <td>NaN</td>\n      <td>NaN</td>\n    </tr>\n    <tr>\n      <th>3856</th>\n      <td>29060</td>\n      <td>Zeuxine oblonga</td>\n      <td>2</td>\n      <td>NaN</td>\n      <td>NaN</td>\n      <td>NaN</td>\n      <td>KIMB</td>\n      <td>EAST KIMBERLEY</td>\n      <td>Kununurra</td>\n      <td>NaN</td>\n      <td>NaN</td>\n      <td>NaN</td>\n    </tr>\n    <tr>\n      <th>3857</th>\n      <td>36237</td>\n      <td>Zornia areolata</td>\n      <td>1</td>\n      <td>NaN</td>\n      <td>NaN</td>\n      <td>NaN</td>\n      <td>KIMB</td>\n      <td>EAST KIMBERLEY</td>\n      <td>Kununurra</td>\n      <td>NaN</td>\n      <td>NaN</td>\n      <td>NaN</td>\n    </tr>\n    <tr>\n      <th>3858</th>\n      <td>34478</td>\n      <td>Zornia sp. West Kimberley (C.A. Gardner 9942)</td>\n      <td>3</td>\n      <td>NaN</td>\n      <td>NaN</td>\n      <td>NaN</td>\n      <td>KIMB</td>\n      <td>EAST KIMBERLEY,WEST KIMBERLEY</td>\n      <td>Gibb River Stn., Mt Elizabeth Stn., Beverley S...</td>\n      <td>NaN</td>\n      <td>NaN</td>\n      <td>NaN</td>\n    </tr>\n  </tbody>\n</table>\n<p>3859 rows × 12 columns</p>\n</div>"
     },
     "execution_count": 31,
     "metadata": {},
     "output_type": "execute_result"
    }
   ],
   "source": [
    "#Process flora\n",
    "print('Processing Flora')\n",
    "print(\"Loading WA Flora List\")\n",
    "flora = pd.read_excel(florafile,skiprows=0)\n",
    "print(\"Finished Flora download\")\n",
    "flora"
   ],
   "metadata": {
    "collapsed": false,
    "pycharm": {
     "name": "#%%\n"
    }
   }
  },
  {
   "cell_type": "code",
   "execution_count": 32,
   "outputs": [
    {
     "data": {
      "text/plain": "Index(['Name ID', 'Taxon', ' WA Status', 'WA Rank', 'WA IUCN Criteria', 'EPBC',\n       'DBCA Region', 'DBCA District', 'Distribution', 'Flowering Period',\n       'Recovery Plan', 'Notes'],\n      dtype='object')"
     },
     "execution_count": 32,
     "metadata": {},
     "output_type": "execute_result"
    }
   ],
   "source": [
    "flora.columns\n"
   ],
   "metadata": {
    "collapsed": false,
    "pycharm": {
     "name": "#%%\n"
    }
   }
  },
  {
   "cell_type": "code",
   "execution_count": 33,
   "outputs": [
    {
     "name": "stdout",
     "output_type": "stream",
     "text": [
      "Transforming flora\n"
     ]
    }
   ],
   "source": [
    "print('Transforming flora')\n",
    "# dframe = dframe.drop(['Name ID',\n",
    "flora = flora.drop(['Flowering Period',\n",
    "                    'WA IUCN Criteria',\n",
    "                    'Recovery Plan'\n",
    "                    ], axis=1)\n",
    "\n",
    "# Data Transformations\n",
    "# STATUS\tConservation status of taxon - refer to definitions.\n",
    "# \tT\tThreatened Flora (Declared Rare Flora - Extant)\n",
    "# \tX\tPresumed Extinct (Declared Rare Flora - Extinct)\n",
    "# \t1\tPriority One - Poorly known Species\n",
    "# \t2\tPriority Two - Poorly known Species\n",
    "# \t3\tPriority Three - Poorly known Species\n",
    "# \t4\tPriority Four - Rare, Near Threatened and other species in need of monitoring\n",
    "#\n",
    "# RANK\tThe threat category the taxon is recognised as in Western Australia (see definitions)\n",
    "# \tCR\tCritically Endangered\n",
    "# \tEN\tEndangered\n",
    "# \tVU\tVulnerable\n",
    "# \tEX\tExtinct\n",
    "#\n",
    "# EPBC \tThe category that the taxon is listed under the Commonwealth's Environmental Protection and Biodiversity Conservation Act 1999. Note this list is maintained by the Commonwealth and the official list should be sourced at the Commonwealth's website\n",
    "# \tCR\tCritically Endangered\n",
    "# \tE\tEndangered\n",
    "# \tV\tVulnerable\n",
    "# \tX\tExtinct\n",
    "\n",
    "flora = flora.rename(columns=\n",
    "                     {'Name ID': 'taxonId',\n",
    "                      'Taxon': 'scientificName',\n",
    "                      ' WA Status': 'sourceStatus',\n",
    "                      'WA Rank': 'wa rank',\n",
    "                      'DBCA Region': 'dbca region',\n",
    "                      'DBCA District': 'dbca district',\n",
    "                      'Distribution': 'verbatimLocality',\n",
    "                      'EPBC': 'epbc status',\n",
    "                      'Notes': 'taxonRemarks'\n",
    "                      })\n",
    "flora['status'] = flora['sourceStatus'].replace(['T', 'X', 1, 2, 3, 4],\n",
    "                                                ['Threatened Flora', 'Presumed Extinct',\n",
    "                                                 'P1 - Poorly known species', 'P2 - Poorly known species',\n",
    "                                                 'P3 - Poorly known species', 'P4 - Poorly known species'])"
   ],
   "metadata": {
    "collapsed": false,
    "pycharm": {
     "name": "#%%\n"
    }
   }
  },
  {
   "cell_type": "code",
   "execution_count": 34,
   "outputs": [
    {
     "data": {
      "text/plain": "Index(['taxonId', 'scientificName', 'sourceStatus', 'wa rank', 'epbc status',\n       'dbca region', 'dbca district', 'verbatimLocality', 'taxonRemarks',\n       'status'],\n      dtype='object')"
     },
     "execution_count": 34,
     "metadata": {},
     "output_type": "execute_result"
    }
   ],
   "source": [
    "flora.columns"
   ],
   "metadata": {
    "collapsed": false,
    "pycharm": {
     "name": "#%%\n"
    }
   }
  },
  {
   "cell_type": "code",
   "execution_count": 35,
   "outputs": [],
   "source": [
    "# Concatenate dataframes\n",
    "dfsightings = pd.DataFrame()\n",
    "dfsightings = pd.concat([fauna, dfsightings], axis=0, ignore_index=True, sort=False)\n",
    "dfsightings['verbatimLocality'] = \"\"\n",
    "dfsightings['sensitivityZoneId'] = \"WA\"\n",
    "dfsightings = pd.concat([flora, dfsightings], axis=0, ignore_index=True, sort=False)"
   ],
   "metadata": {
    "collapsed": false,
    "pycharm": {
     "name": "#%%\n"
    }
   }
  },
  {
   "cell_type": "code",
   "execution_count": 36,
   "outputs": [
    {
     "data": {
      "text/plain": "Index(['taxonId', 'scientificName', 'sourceStatus', 'wa rank', 'epbc status',\n       'dbca region', 'dbca district', 'verbatimLocality', 'taxonRemarks',\n       'status', 'vernacularName', 'class', 'WA listing.1',\n       'sensitivityZoneId'],\n      dtype='object')"
     },
     "execution_count": 36,
     "metadata": {},
     "output_type": "execute_result"
    }
   ],
   "source": [
    "dfsightings.columns"
   ],
   "metadata": {
    "collapsed": false,
    "pycharm": {
     "name": "#%%\n"
    }
   }
  },
  {
   "cell_type": "code",
   "execution_count": null,
   "outputs": [],
   "source": [
    "print('writing conservation and sensitive lists')\n",
    "dfsightings.to_csv(projectdir + \"current-lists/conservation-lists/WA-conservation-2022-10.csv\", encoding=\"UTF-8\",index=False)\n",
    "dfsightings.to_csv(projectdir + \"current-lists/sensitive-lists/WA-sensitive-2022-10.csv\", encoding=\"UTF-8\", index=False)\n",
    "print('Completed writing')"
   ],
   "metadata": {
    "collapsed": false,
    "pycharm": {
     "name": "#%%\n"
    }
   }
  },
  {
   "cell_type": "code",
   "execution_count": null,
   "outputs": [],
   "source": [
    "# Required for previous versions of files\n",
    "# update the encoding on the final file / conservation is same as sensitive\n",
    "# fileurl = \"/Users/new330/IdeaProjects/authoritative-lists/current-lists/sensitive-lists/WA-sensitive.csv\"\n",
    "# wa = pd.read_csv(fileurl,encoding='cp1252')\n",
    "# wa.to_csv(fileurl, encoding=\"UTF-8\",index=False)\n",
    "# wa.to_csv(\"/Users/new330/IdeaProjects/authoritative-lists/current-lists/conservation-lists/WA-conservation.csv\", encoding=\"UTF-8\",index=False)\n",
    "#\n",
    "# wa = wa.WATaxonId.astype(int)\n",
    "# wa"
   ],
   "metadata": {
    "collapsed": false,
    "pycharm": {
     "name": "#%%\n"
    }
   }
  }
 ],
 "metadata": {
  "kernelspec": {
   "display_name": "Python 3",
   "language": "python",
   "name": "python3"
  },
  "language_info": {
   "codemirror_mode": {
    "name": "ipython",
    "version": 2
   },
   "file_extension": ".py",
   "mimetype": "text/x-python",
   "name": "python",
   "nbconvert_exporter": "python",
   "pygments_lexer": "ipython2",
   "version": "2.7.6"
  }
 },
 "nbformat": 4,
 "nbformat_minor": 0
}