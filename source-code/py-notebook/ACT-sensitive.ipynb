{
 "cells": [
  {
   "cell_type": "markdown",
   "source": [
    "# ACT Conservation & Sensitive Lists\n",
    "\n",
    "## List Identifiers\n",
    "* Conservation list: __[dr649](https://lists.ala.org.au/speciesListItem/list/dr649)__\n",
    "* Sensitive list: __[dr2627](https://lists.ala.org.au/speciesListItem/list/dr2627)__\n",
    "\n",
    "## Documentation\n",
    "*  __[Home Page](https://dev.socrata.com/foundry/www.data.act.gov.au/9ikf-qahj)__\n",
    "*  __[API/Data Info](https://www.data.act.gov.au/Environment/ACT-Nature-Conservation-Threatened-Native-Species-/9ikf-qahj)__\n",
    "* __[Code sample](https://dev.socrata.com/foundry/www.data.act.gov.au/9ikf-qahj)__"
   ],
   "metadata": {
    "collapsed": false,
    "pycharm": {
     "name": "#%% md\n"
    }
   }
  },
  {
   "cell_type": "markdown",
   "source": [
    "Import libraries\n",
    "Set project directories"
   ],
   "metadata": {
    "collapsed": false,
    "pycharm": {
     "name": "#%% md\n"
    }
   }
  },
  {
   "cell_type": "code",
   "execution_count": null,
   "outputs": [],
   "source": [
    "import pandas as pd\n",
    "from sodapy import Socrata\n",
    "projectdir = \"/Users/oco115/PycharmProjects/authoritative-lists/\""
   ],
   "metadata": {
    "collapsed": false,
    "pycharm": {
     "name": "#%%\n"
    }
   }
  },
  {
   "cell_type": "markdown",
   "source": [],
   "metadata": {
    "collapsed": false,
    "pycharm": {
     "name": "#%% md\n"
    }
   }
  },
  {
   "cell_type": "markdown",
   "source": [
    "## Authentication\n",
    "\n",
    "*  Unauthenticated client only works with public data sets.\n",
    "*  Use *'None'* keyword in place of application token, and no username or password.\n",
    "**Warning**\n",
    "\n",
    "**Example authenticated client (needed for non-public datasets):**\n",
    "> client = Socrata(www.data.act.gov.au,MyAppToken, username=\"user@example.com\", password=\"AFakePassword\")\n",
    "\n",
    "**Example non-authenticated client:**\n",
    "> client = Socrata(www.data.act.gov.au,MyAppToken, None)"
   ],
   "metadata": {
    "collapsed": false,
    "pycharm": {
     "name": "#%% md\n"
    }
   }
  },
  {
   "cell_type": "markdown",
   "source": [
    "Retrieve first 40000 results.  Returned as JSON from API and converted to Python list of dictionaries"
   ],
   "metadata": {
    "collapsed": false,
    "pycharm": {
     "name": "#%% md\n"
    }
   }
  },
  {
   "cell_type": "code",
   "execution_count": null,
   "outputs": [],
   "source": [
    "client = Socrata(\"www.data.act.gov.au\", None)\n",
    "results = client.get(\"9ikf-qahj\", limit=40000)\n",
    "\n",
    "# Convert to pandas DataFrame\n",
    "results_df = pd.DataFrame.from_records(results)"
   ],
   "metadata": {
    "collapsed": false,
    "pycharm": {
     "name": "#%%\n"
    }
   }
  },
  {
   "cell_type": "code",
   "execution_count": 10,
   "outputs": [
    {
     "data": {
      "text/plain": "Index(['category', 'scientificname', 'vernacularname', 'taxonrank',\n       'taxonomicstatus', 'kingdom', 'phylum', 'class', 'order', 'family',\n       'sourcestatus', 'status', 'authority', 'ngunnawal', 'comments',\n       'synonym', 'taxonremarks'],\n      dtype='object')"
     },
     "execution_count": 10,
     "metadata": {},
     "output_type": "execute_result"
    }
   ],
   "source": [
    "results_df.columns"
   ],
   "metadata": {
    "collapsed": false,
    "pycharm": {
     "name": "#%%\n"
    }
   }
  },
  {
   "cell_type": "code",
   "execution_count": 11,
   "outputs": [
    {
     "data": {
      "text/plain": "         category              scientificname            vernacularname  \\\n0            Bird         Anthochaera phrygia         Regent Honeyeater   \n1         Reptile       Aprasia parapulchella   Pink-tailed Worm-lizard   \n2          Mammal          Bettongia gaimardi           Eastern Bettong   \n3            Fish           Bidyanus bidyanus              Silver Perch   \n4           Plant              Bossiaea grayi     Murrumbidgee Bossiaea   \n..            ...                         ...                       ...   \n103         Plant             Swainsona recta          Small Purple Pea   \n104  Invertebrate               Synemon plana           Golden Sun Moth   \n105         Plant            Thesium australe          Austral Toadflax   \n106       Reptile  Tympanocryptis pinguicolla  Grassland Earless Dragon   \n107       Reptile      Tympanocryptis lineata  Grassland Earless Dragon   \n\n    taxonrank    taxonomicstatus   kingdom      phylum           class  \\\n0     species           accepted  Animalia    Chordata            Aves   \n1     species           accepted  Animalia    Chordata        Reptilia   \n2     species           accepted  Animalia    Chordata        Mammalia   \n3     species           accepted  Animalia    Chordata  Actinopterygii   \n4     species           accepted   Plantae  Charophyta   Equisetopsida   \n..        ...                ...       ...         ...             ...   \n103   species           accepted   Plantae  Charophyta   Equisetopsida   \n104   species           accepted  Animalia  Arthropoda   invertibratea   \n105   species           accepted   Plantae  Charophyta   Equisetopsida   \n106   species  homotypic synonym  Animalia    Chordata        Reptilia   \n107   species           accepted  Animalia    Chordata        Reptilia   \n\n             order        family                       sourcestatus  \\\n0    Passeriformes  Meliphagidae              Critically Endangered   \n1         Squamata   Pygopodidae                        Vulnernable   \n2    Diprotodontia    Potoroidae  Regionally Conservation Dependent   \n3      Perciformes  Terapontidae                         Endangered   \n4          Fabales      Fabaceae                         Endangered   \n..             ...           ...                                ...   \n103        Fabales      Fabaceae                         Endangered   \n104    Lepidoptera    Castniidae                         Endangered   \n105   Malpighiales   Santalaceae                        Vulnernable   \n106       Squamata      Agamidae                         Endangered   \n107       Squamata      Agamidae                         Endangered   \n\n                    status                           authority  ngunnawal  \\\n0    Critically Endangered  Nature Conservation Act 2014 (ACT)        NaN   \n1              Vulnernable  Nature Conservation Act 2014 (ACT)  Banburung   \n2                      NaN  Nature Conservation Act 2014 (ACT)        NaN   \n3               Endangered  Nature Conservation Act 2014 (ACT)    Dhingur   \n4               Endangered  Nature Conservation Act 2014 (ACT)        NaN   \n..                     ...                                 ...        ...   \n103             Endangered  Nature Conservation Act 2014 (ACT)        NaN   \n104             Endangered  Nature Conservation Act 2014 (ACT)        NaN   \n105            Vulnernable  Nature Conservation Act 2014 (ACT)        NaN   \n106             Endangered  Nature Conservation Act 2014 (ACT)  Bidjiwang   \n107             Endangered  Nature Conservation Act 2014 (ACT)  Bidjiwang   \n\n                                              comments  \\\n0                                                  NaN   \n1                                                  NaN   \n2                    Regionally Conservation Dependent   \n3                                                  NaN   \n4                                                  NaN   \n..                                                 ...   \n103                                                NaN   \n104                                                NaN   \n105                                                NaN   \n106        Homotypic synonym of Tympanocryptis lineata   \n107  Recent taxonomic changes to the species, from ...   \n\n                        synonym                                 taxonremarks  \n0                           NaN                                          NaN  \n1                           NaN                                          NaN  \n2                           NaN                                          NaN  \n3                           NaN                                          NaN  \n4                           NaN                                          NaN  \n..                          ...                                          ...  \n103                         NaN                                          NaN  \n104                         NaN                                          NaN  \n105                         NaN                                          NaN  \n106      Tympanocryptis lineata  Homotypic synonym of Tympanocryptis lineata  \n107  Tympanocryptis pinguicolla                                          NaN  \n\n[108 rows x 17 columns]",
      "text/html": "<div>\n<style scoped>\n    .dataframe tbody tr th:only-of-type {\n        vertical-align: middle;\n    }\n\n    .dataframe tbody tr th {\n        vertical-align: top;\n    }\n\n    .dataframe thead th {\n        text-align: right;\n    }\n</style>\n<table border=\"1\" class=\"dataframe\">\n  <thead>\n    <tr style=\"text-align: right;\">\n      <th></th>\n      <th>category</th>\n      <th>scientificname</th>\n      <th>vernacularname</th>\n      <th>taxonrank</th>\n      <th>taxonomicstatus</th>\n      <th>kingdom</th>\n      <th>phylum</th>\n      <th>class</th>\n      <th>order</th>\n      <th>family</th>\n      <th>sourcestatus</th>\n      <th>status</th>\n      <th>authority</th>\n      <th>ngunnawal</th>\n      <th>comments</th>\n      <th>synonym</th>\n      <th>taxonremarks</th>\n    </tr>\n  </thead>\n  <tbody>\n    <tr>\n      <th>0</th>\n      <td>Bird</td>\n      <td>Anthochaera phrygia</td>\n      <td>Regent Honeyeater</td>\n      <td>species</td>\n      <td>accepted</td>\n      <td>Animalia</td>\n      <td>Chordata</td>\n      <td>Aves</td>\n      <td>Passeriformes</td>\n      <td>Meliphagidae</td>\n      <td>Critically Endangered</td>\n      <td>Critically Endangered</td>\n      <td>Nature Conservation Act 2014 (ACT)</td>\n      <td>NaN</td>\n      <td>NaN</td>\n      <td>NaN</td>\n      <td>NaN</td>\n    </tr>\n    <tr>\n      <th>1</th>\n      <td>Reptile</td>\n      <td>Aprasia parapulchella</td>\n      <td>Pink-tailed Worm-lizard</td>\n      <td>species</td>\n      <td>accepted</td>\n      <td>Animalia</td>\n      <td>Chordata</td>\n      <td>Reptilia</td>\n      <td>Squamata</td>\n      <td>Pygopodidae</td>\n      <td>Vulnernable</td>\n      <td>Vulnernable</td>\n      <td>Nature Conservation Act 2014 (ACT)</td>\n      <td>Banburung</td>\n      <td>NaN</td>\n      <td>NaN</td>\n      <td>NaN</td>\n    </tr>\n    <tr>\n      <th>2</th>\n      <td>Mammal</td>\n      <td>Bettongia gaimardi</td>\n      <td>Eastern Bettong</td>\n      <td>species</td>\n      <td>accepted</td>\n      <td>Animalia</td>\n      <td>Chordata</td>\n      <td>Mammalia</td>\n      <td>Diprotodontia</td>\n      <td>Potoroidae</td>\n      <td>Regionally Conservation Dependent</td>\n      <td>NaN</td>\n      <td>Nature Conservation Act 2014 (ACT)</td>\n      <td>NaN</td>\n      <td>Regionally Conservation Dependent</td>\n      <td>NaN</td>\n      <td>NaN</td>\n    </tr>\n    <tr>\n      <th>3</th>\n      <td>Fish</td>\n      <td>Bidyanus bidyanus</td>\n      <td>Silver Perch</td>\n      <td>species</td>\n      <td>accepted</td>\n      <td>Animalia</td>\n      <td>Chordata</td>\n      <td>Actinopterygii</td>\n      <td>Perciformes</td>\n      <td>Terapontidae</td>\n      <td>Endangered</td>\n      <td>Endangered</td>\n      <td>Nature Conservation Act 2014 (ACT)</td>\n      <td>Dhingur</td>\n      <td>NaN</td>\n      <td>NaN</td>\n      <td>NaN</td>\n    </tr>\n    <tr>\n      <th>4</th>\n      <td>Plant</td>\n      <td>Bossiaea grayi</td>\n      <td>Murrumbidgee Bossiaea</td>\n      <td>species</td>\n      <td>accepted</td>\n      <td>Plantae</td>\n      <td>Charophyta</td>\n      <td>Equisetopsida</td>\n      <td>Fabales</td>\n      <td>Fabaceae</td>\n      <td>Endangered</td>\n      <td>Endangered</td>\n      <td>Nature Conservation Act 2014 (ACT)</td>\n      <td>NaN</td>\n      <td>NaN</td>\n      <td>NaN</td>\n      <td>NaN</td>\n    </tr>\n    <tr>\n      <th>...</th>\n      <td>...</td>\n      <td>...</td>\n      <td>...</td>\n      <td>...</td>\n      <td>...</td>\n      <td>...</td>\n      <td>...</td>\n      <td>...</td>\n      <td>...</td>\n      <td>...</td>\n      <td>...</td>\n      <td>...</td>\n      <td>...</td>\n      <td>...</td>\n      <td>...</td>\n      <td>...</td>\n      <td>...</td>\n    </tr>\n    <tr>\n      <th>103</th>\n      <td>Plant</td>\n      <td>Swainsona recta</td>\n      <td>Small Purple Pea</td>\n      <td>species</td>\n      <td>accepted</td>\n      <td>Plantae</td>\n      <td>Charophyta</td>\n      <td>Equisetopsida</td>\n      <td>Fabales</td>\n      <td>Fabaceae</td>\n      <td>Endangered</td>\n      <td>Endangered</td>\n      <td>Nature Conservation Act 2014 (ACT)</td>\n      <td>NaN</td>\n      <td>NaN</td>\n      <td>NaN</td>\n      <td>NaN</td>\n    </tr>\n    <tr>\n      <th>104</th>\n      <td>Invertebrate</td>\n      <td>Synemon plana</td>\n      <td>Golden Sun Moth</td>\n      <td>species</td>\n      <td>accepted</td>\n      <td>Animalia</td>\n      <td>Arthropoda</td>\n      <td>invertibratea</td>\n      <td>Lepidoptera</td>\n      <td>Castniidae</td>\n      <td>Endangered</td>\n      <td>Endangered</td>\n      <td>Nature Conservation Act 2014 (ACT)</td>\n      <td>NaN</td>\n      <td>NaN</td>\n      <td>NaN</td>\n      <td>NaN</td>\n    </tr>\n    <tr>\n      <th>105</th>\n      <td>Plant</td>\n      <td>Thesium australe</td>\n      <td>Austral Toadflax</td>\n      <td>species</td>\n      <td>accepted</td>\n      <td>Plantae</td>\n      <td>Charophyta</td>\n      <td>Equisetopsida</td>\n      <td>Malpighiales</td>\n      <td>Santalaceae</td>\n      <td>Vulnernable</td>\n      <td>Vulnernable</td>\n      <td>Nature Conservation Act 2014 (ACT)</td>\n      <td>NaN</td>\n      <td>NaN</td>\n      <td>NaN</td>\n      <td>NaN</td>\n    </tr>\n    <tr>\n      <th>106</th>\n      <td>Reptile</td>\n      <td>Tympanocryptis pinguicolla</td>\n      <td>Grassland Earless Dragon</td>\n      <td>species</td>\n      <td>homotypic synonym</td>\n      <td>Animalia</td>\n      <td>Chordata</td>\n      <td>Reptilia</td>\n      <td>Squamata</td>\n      <td>Agamidae</td>\n      <td>Endangered</td>\n      <td>Endangered</td>\n      <td>Nature Conservation Act 2014 (ACT)</td>\n      <td>Bidjiwang</td>\n      <td>Homotypic synonym of Tympanocryptis lineata</td>\n      <td>Tympanocryptis lineata</td>\n      <td>Homotypic synonym of Tympanocryptis lineata</td>\n    </tr>\n    <tr>\n      <th>107</th>\n      <td>Reptile</td>\n      <td>Tympanocryptis lineata</td>\n      <td>Grassland Earless Dragon</td>\n      <td>species</td>\n      <td>accepted</td>\n      <td>Animalia</td>\n      <td>Chordata</td>\n      <td>Reptilia</td>\n      <td>Squamata</td>\n      <td>Agamidae</td>\n      <td>Endangered</td>\n      <td>Endangered</td>\n      <td>Nature Conservation Act 2014 (ACT)</td>\n      <td>Bidjiwang</td>\n      <td>Recent taxonomic changes to the species, from ...</td>\n      <td>Tympanocryptis pinguicolla</td>\n      <td>NaN</td>\n    </tr>\n  </tbody>\n</table>\n<p>108 rows × 17 columns</p>\n</div>"
     },
     "execution_count": 11,
     "metadata": {},
     "output_type": "execute_result"
    }
   ],
   "source": [
    "results_df"
   ],
   "metadata": {
    "collapsed": false,
    "pycharm": {
     "name": "#%%\n"
    }
   }
  },
  {
   "cell_type": "markdown",
   "source": [],
   "metadata": {
    "collapsed": false,
    "pycharm": {
     "name": "#%% md\n"
    }
   }
  },
  {
   "cell_type": "markdown",
   "source": [
    "Write dataframe to CSV - UTF-8 encoding"
   ],
   "metadata": {
    "collapsed": false,
    "pycharm": {
     "name": "#%% md\n"
    }
   }
  },
  {
   "cell_type": "code",
   "execution_count": null,
   "outputs": [],
   "source": [
    "print('writing ACT data')\n",
    "results_df.to_csv(projectdir + \"current-lists/sensitive-lists/ACT-sensitive-2022-10.csv\", encoding=\"UTF-8\", index=False)\n",
    "print('Completed writing')"
   ],
   "metadata": {
    "collapsed": false,
    "pycharm": {
     "name": "#%%\n"
    }
   }
  }
 ],
 "metadata": {
  "kernelspec": {
   "display_name": "Python 3",
   "language": "python",
   "name": "python3"
  },
  "language_info": {
   "codemirror_mode": {
    "name": "ipython",
    "version": 3
   },
   "file_extension": ".py",
   "mimetype": "text/x-python",
   "name": "python",
   "nbconvert_exporter": "python",
   "pygments_lexer": "ipython3",
   "version": "3.8.8"
  }
 },
 "nbformat": 4,
 "nbformat_minor": 5
}