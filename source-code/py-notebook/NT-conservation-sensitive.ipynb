{
 "cells": [
  {
   "cell_type": "markdown",
   "source": [
    "# NT Conservation List\n",
    "\n",
    "## List Identifiers\n",
    "* Conservation list: __[dr651](https://lists.ala.org.au/speciesListItem/list/dr651)__ (and [dr651 in test](https://lists-test.ala.org.au/speciesListItem/list/dr651))\n",
    "* Sensitive list: __[dr492](https://lists.ala.org.au/speciesListItem/list/dr492)__ (and [dr492 in test](https://lists-test.ala.org.au/speciesListItem/list/dr492))\n",
    "* Collection: __[dr651](https://collections.ala.org.au/public/show/dr651)__ __[dr492](https://collections.ala.org.au/public/show/dr492)__\n",
    "\n",
    "## Source Data\n",
    "*  __[Home Page](https://nt.gov.au/environment)__\n",
    "*  __[Fauna](https://nt.gov.au/environment/animals/threatened-animals)__\n",
    "*  __[Flora](https://nt.gov.au/environment/native-plants/threatened-plants)__\n",
    "\n",
    "**Note:** Data was manually copied from website. No API or files available for download. No indication of where to obtain Sensitive list data.\n",
    "\n",
    "**Metadata Description**\n",
    "Classification codes under the Territory Parks and Wildlife Conservation Act: Extinct in the Wild Critically Endangered Endangered Vulnerable Near threatened Data\n",
    "deficient.\n",
    "\n",
    "Learn more about the classifications used by the Department of Natural Resources, Environment, the Arts and Sports.\n",
    "\n",
    "**Note:** Under the Northern Territory Department of Environment and Natural Resources Sensitive Flora and Fauna Data Policy, there are currently no flora records classified as sensitive\n",
    "\n",
    "**Metadata URL**\n",
    "https://nt.gov.au/environment\n",
    "\n"
   ],
   "metadata": {
    "collapsed": false,
    "pycharm": {
     "name": "#%% md\n"
    }
   }
  },
  {
   "cell_type": "markdown",
   "source": [
    "Import libraries"
   ],
   "metadata": {
    "collapsed": false,
    "pycharm": {
     "name": "#%% md\n"
    }
   }
  },
  {
   "cell_type": "code",
   "execution_count": 1,
   "outputs": [],
   "source": [
    "import pandas as pd\n",
    "import os\n",
    "import sys\n",
    "projectDir = \"/Users/oco115/PycharmProjects/authoritative-lists/\"\n",
    "sourcedir = \"source-data/NT/\"\n",
    "statusDir = projectDir + \"source-data/status-codes/\"\n",
    "cdataDir = \"current-lists/conservation-lists/\"\n",
    "sdataDir = \"current-lists/sensitive-lists/\""
   ],
   "metadata": {
    "collapsed": false,
    "pycharm": {
     "name": "#%%\n"
    }
   }
  },
  {
   "cell_type": "markdown",
   "source": [
    "## Process Flora"
   ],
   "metadata": {
    "collapsed": false,
    "pycharm": {
     "name": "#%% md\n"
    }
   }
  },
  {
   "cell_type": "code",
   "execution_count": 181,
   "outputs": [],
   "source": [
    "# flora = pd.read_excel(projectDir + sourcedir + \"ntConservationStatusList-Plants.xlsx\")\n",
    "flora = pd.read_csv(projectDir + sourcedir + \"ntConservationStatusList-Plants.csv\")\n",
    "flora = flora.rename(columns={\"Scientific name\": \"scientificName\", \"Status\": \"status\"})\n",
    "flora = flora[((flora['status'].notna()))]\n",
    "flora = flora[flora['status'] != 'Listed nationally but not under NT legislation']\n",
    "flora['sourceStatus'] = flora['status']\n",
    "flora"
   ],
   "metadata": {
    "collapsed": false,
    "pycharm": {
     "name": "#%%\n"
    }
   }
  },
  {
   "cell_type": "code",
   "execution_count": 185,
   "outputs": [
    {
     "data": {
      "text/plain": "array(['Endangered', 'Critically endangered', 'Vulnerable',\n       'Listed nationally but not under NT legislation'], dtype=object)"
     },
     "execution_count": 185,
     "metadata": {},
     "output_type": "execute_result"
    }
   ],
   "source": [
    "flora['status'].unique()"
   ],
   "metadata": {
    "collapsed": false,
    "pycharm": {
     "name": "#%%\n"
    }
   }
  },
  {
   "cell_type": "code",
   "execution_count": 187,
   "id": "00b66b5c",
   "metadata": {
    "pycharm": {
     "name": "#%%\n"
    }
   },
   "outputs": [],
   "source": [
    "flora = flora.loc[:, ['scientificName',  'status', 'sourceStatus']]"
   ]
  },
  {
   "cell_type": "code",
   "execution_count": 145,
   "outputs": [
    {
     "data": {
      "text/plain": "            scientificName          vernacularName                 status  \\\n0     Abrodictyum obscurum    Abrodictyum obscurum             Endangered   \n1     Acacia equisetifolia    Acacia equisetifolia  Critically endangered   \n2            Acacia latzii           Acacia latzii             Vulnerable   \n3             Acacia peuce            Acacia peuce             Endangered   \n5      Acacia praetermissa     Acacia praetermissa             Vulnerable   \n..                     ...                     ...                    ...   \n79       Typhonium taylori       Typhonium taylori             Endangered   \n80  Utricularia dunstaniae  Utricularia dunstaniae             Vulnerable   \n81  Utricularia singeriana  Utricularia singeriana             Vulnerable   \n82      Xylopia monosperma      Xylopia monosperma             Endangered   \n83         Zeuxine oblonga         Zeuxine oblonga             Vulnerable   \n\n             sourceStatus  \n0              Endangered  \n1   Critically endangered  \n2              Vulnerable  \n3              Endangered  \n5              Vulnerable  \n..                    ...  \n79             Endangered  \n80             Vulnerable  \n81             Vulnerable  \n82             Endangered  \n83             Vulnerable  \n\n[78 rows x 4 columns]",
      "text/html": "<div>\n<style scoped>\n    .dataframe tbody tr th:only-of-type {\n        vertical-align: middle;\n    }\n\n    .dataframe tbody tr th {\n        vertical-align: top;\n    }\n\n    .dataframe thead th {\n        text-align: right;\n    }\n</style>\n<table border=\"1\" class=\"dataframe\">\n  <thead>\n    <tr style=\"text-align: right;\">\n      <th></th>\n      <th>scientificName</th>\n      <th>vernacularName</th>\n      <th>status</th>\n      <th>sourceStatus</th>\n    </tr>\n  </thead>\n  <tbody>\n    <tr>\n      <th>0</th>\n      <td>Abrodictyum obscurum</td>\n      <td>Abrodictyum obscurum</td>\n      <td>Endangered</td>\n      <td>Endangered</td>\n    </tr>\n    <tr>\n      <th>1</th>\n      <td>Acacia equisetifolia</td>\n      <td>Acacia equisetifolia</td>\n      <td>Critically endangered</td>\n      <td>Critically endangered</td>\n    </tr>\n    <tr>\n      <th>2</th>\n      <td>Acacia latzii</td>\n      <td>Acacia latzii</td>\n      <td>Vulnerable</td>\n      <td>Vulnerable</td>\n    </tr>\n    <tr>\n      <th>3</th>\n      <td>Acacia peuce</td>\n      <td>Acacia peuce</td>\n      <td>Endangered</td>\n      <td>Endangered</td>\n    </tr>\n    <tr>\n      <th>5</th>\n      <td>Acacia praetermissa</td>\n      <td>Acacia praetermissa</td>\n      <td>Vulnerable</td>\n      <td>Vulnerable</td>\n    </tr>\n    <tr>\n      <th>...</th>\n      <td>...</td>\n      <td>...</td>\n      <td>...</td>\n      <td>...</td>\n    </tr>\n    <tr>\n      <th>79</th>\n      <td>Typhonium taylori</td>\n      <td>Typhonium taylori</td>\n      <td>Endangered</td>\n      <td>Endangered</td>\n    </tr>\n    <tr>\n      <th>80</th>\n      <td>Utricularia dunstaniae</td>\n      <td>Utricularia dunstaniae</td>\n      <td>Vulnerable</td>\n      <td>Vulnerable</td>\n    </tr>\n    <tr>\n      <th>81</th>\n      <td>Utricularia singeriana</td>\n      <td>Utricularia singeriana</td>\n      <td>Vulnerable</td>\n      <td>Vulnerable</td>\n    </tr>\n    <tr>\n      <th>82</th>\n      <td>Xylopia monosperma</td>\n      <td>Xylopia monosperma</td>\n      <td>Endangered</td>\n      <td>Endangered</td>\n    </tr>\n    <tr>\n      <th>83</th>\n      <td>Zeuxine oblonga</td>\n      <td>Zeuxine oblonga</td>\n      <td>Vulnerable</td>\n      <td>Vulnerable</td>\n    </tr>\n  </tbody>\n</table>\n<p>78 rows × 4 columns</p>\n</div>"
     },
     "execution_count": 145,
     "metadata": {},
     "output_type": "execute_result"
    }
   ],
   "source": [
    "flora"
   ],
   "metadata": {
    "collapsed": false,
    "pycharm": {
     "name": "#%%\n"
    }
   }
  },
  {
   "cell_type": "markdown",
   "source": [
    "## Process Fauna"
   ],
   "metadata": {
    "collapsed": false,
    "pycharm": {
     "name": "#%% md\n"
    }
   }
  },
  {
   "cell_type": "code",
   "execution_count": 188,
   "outputs": [],
   "source": [
    "# fauna = pd.read_excel(projectDir + sourcedir + \"ntConservationStatusList-Animals.xlsx\")\n",
    "fauna = pd.read_csv(projectDir + sourcedir + \"ntConservationStatusList-Animals.csv\")"
   ],
   "metadata": {
    "collapsed": false,
    "pycharm": {
     "name": "#%%\n"
    }
   }
  },
  {
   "cell_type": "code",
   "execution_count": 147,
   "outputs": [
    {
     "data": {
      "text/plain": "                         Common name            Scientific name  \\\n0                      Abbot's booby           Papasula abbotti   \n1          Alice Springs squat snail         Semotrachia euzyga   \n2                  Angalarri grunter              Scortum neili   \n3           Arafura snake-eyed skink    Cryptoblepharus gurrmul   \n4           Arnhem land gorges skink          Bellatorias obiri   \n..                               ...                        ...   \n136                      Whale shark            Rhincodon typus   \n137        White-throated grasswren         Amytornis woodwardi   \n138  Yellow chat (Alligator Rivers)   Epthianura crocea tunneyi   \n139     Yellow-snouted ground gecko           Lucasium occultum   \n140          Yellow-spotted monitor            Varanus panoptes   \n\n                                             Status  Animal Group  \n0                                        Endangered          Bird  \n1                                        Endangered  Invertebrate  \n2                                        Vulnerable          Fish  \n3                                        Endangered       Reptile  \n4                                        Endangered       Reptile  \n..                                              ...           ...  \n136  Listed nationally but not under NT legislation          Fish  \n137                                      Vulnerable          Bird  \n138                                      Endangered          Bird  \n139                                      Vulnerable       Reptile  \n140                                      Vulnerable       Reptile  \n\n[141 rows x 4 columns]",
      "text/html": "<div>\n<style scoped>\n    .dataframe tbody tr th:only-of-type {\n        vertical-align: middle;\n    }\n\n    .dataframe tbody tr th {\n        vertical-align: top;\n    }\n\n    .dataframe thead th {\n        text-align: right;\n    }\n</style>\n<table border=\"1\" class=\"dataframe\">\n  <thead>\n    <tr style=\"text-align: right;\">\n      <th></th>\n      <th>Common name</th>\n      <th>Scientific name</th>\n      <th>Status</th>\n      <th>Animal Group</th>\n    </tr>\n  </thead>\n  <tbody>\n    <tr>\n      <th>0</th>\n      <td>Abbot's booby</td>\n      <td>Papasula abbotti</td>\n      <td>Endangered</td>\n      <td>Bird</td>\n    </tr>\n    <tr>\n      <th>1</th>\n      <td>Alice Springs squat snail</td>\n      <td>Semotrachia euzyga</td>\n      <td>Endangered</td>\n      <td>Invertebrate</td>\n    </tr>\n    <tr>\n      <th>2</th>\n      <td>Angalarri grunter</td>\n      <td>Scortum neili</td>\n      <td>Vulnerable</td>\n      <td>Fish</td>\n    </tr>\n    <tr>\n      <th>3</th>\n      <td>Arafura snake-eyed skink</td>\n      <td>Cryptoblepharus gurrmul</td>\n      <td>Endangered</td>\n      <td>Reptile</td>\n    </tr>\n    <tr>\n      <th>4</th>\n      <td>Arnhem land gorges skink</td>\n      <td>Bellatorias obiri</td>\n      <td>Endangered</td>\n      <td>Reptile</td>\n    </tr>\n    <tr>\n      <th>...</th>\n      <td>...</td>\n      <td>...</td>\n      <td>...</td>\n      <td>...</td>\n    </tr>\n    <tr>\n      <th>136</th>\n      <td>Whale shark</td>\n      <td>Rhincodon typus</td>\n      <td>Listed nationally but not under NT legislation</td>\n      <td>Fish</td>\n    </tr>\n    <tr>\n      <th>137</th>\n      <td>White-throated grasswren</td>\n      <td>Amytornis woodwardi</td>\n      <td>Vulnerable</td>\n      <td>Bird</td>\n    </tr>\n    <tr>\n      <th>138</th>\n      <td>Yellow chat (Alligator Rivers)</td>\n      <td>Epthianura crocea tunneyi</td>\n      <td>Endangered</td>\n      <td>Bird</td>\n    </tr>\n    <tr>\n      <th>139</th>\n      <td>Yellow-snouted ground gecko</td>\n      <td>Lucasium occultum</td>\n      <td>Vulnerable</td>\n      <td>Reptile</td>\n    </tr>\n    <tr>\n      <th>140</th>\n      <td>Yellow-spotted monitor</td>\n      <td>Varanus panoptes</td>\n      <td>Vulnerable</td>\n      <td>Reptile</td>\n    </tr>\n  </tbody>\n</table>\n<p>141 rows × 4 columns</p>\n</div>"
     },
     "execution_count": 147,
     "metadata": {},
     "output_type": "execute_result"
    }
   ],
   "source": [
    "fauna"
   ],
   "metadata": {
    "collapsed": false,
    "pycharm": {
     "name": "#%%\n"
    }
   }
  },
  {
   "cell_type": "code",
   "execution_count": 191,
   "outputs": [],
   "source": [
    "fauna = fauna.rename(columns={\"Common name\": \"vernacularName\", \"Scientific name\": \"scientificName\", \"Status\": \"status\"})\n",
    "fauna['sourceStatus'] = fauna['status']\n",
    "fauna['status'].unique()\n",
    "# Remove Least concern and not under NT legislation fauna\n",
    "fauna = fauna[~fauna['status'].str.contains('Least concern|not under NT legislation', case=False)]\n",
    "rstrings = {\n",
    "    '(extinct in the wild in NT)': '',\n",
    "    '(extinct in NT)': ''\n",
    "}\n",
    "fauna['status'] = fauna['status'].str.replace('(extinct in the wild in NT)', '', regex=False)\n",
    "fauna['status'] = fauna['status'].str.replace('(extinct in wild in NT)', '', regex=False)\n",
    "fauna['status'] = fauna['status'].str.replace('(extinct in NT)', '', regex=False)\n",
    "fauna['status'] = fauna['status'].str.replace('(possibly extinct)', '', regex=False)\n",
    "fauna['status'] = fauna['status'].str.strip()"
   ],
   "metadata": {
    "collapsed": false,
    "pycharm": {
     "name": "#%%\n"
    }
   }
  },
  {
   "cell_type": "code",
   "execution_count": 192,
   "outputs": [
    {
     "data": {
      "text/plain": "array(['Endangered', 'Vulnerable', 'Critically endangered',\n       'Endangered (extinct in NT)', 'Extinct',\n       'Vulnerable\\xa0(extinct in NT)',\n       'Endangered (extinct in wild in NT)',\n       'Critically endangered (possibly extinct)',\n       'Vulnerable (extinct in NT)'], dtype=object)"
     },
     "execution_count": 192,
     "metadata": {},
     "output_type": "execute_result"
    }
   ],
   "source": [
    "fauna['status'].unique()"
   ],
   "metadata": {
    "collapsed": false,
    "pycharm": {
     "name": "#%%\n"
    }
   }
  },
  {
   "cell_type": "code",
   "execution_count": 195,
   "outputs": [],
   "source": [
    "fauna = fauna.loc[:, ['scientificName', 'status', 'sourceStatus']]"
   ],
   "metadata": {
    "collapsed": false,
    "pycharm": {
     "name": "#%%\n"
    }
   }
  },
  {
   "cell_type": "markdown",
   "source": [
    "### Concatenate Fauna and Flora, remove line breaks in scientific names\n"
   ],
   "metadata": {
    "collapsed": false,
    "pycharm": {
     "name": "#%% md\n"
    }
   }
  },
  {
   "cell_type": "code",
   "execution_count": 197,
   "id": "2437c822",
   "metadata": {
    "pycharm": {
     "name": "#%%\n"
    }
   },
   "outputs": [],
   "source": [
    "result = pd.concat([flora, fauna])\n",
    "result['scientificName'] = result['scientificName'].replace(r'\\n', '', regex=True)\n",
    "result"
   ]
  },
  {
   "cell_type": "markdown",
   "source": [
    "### Write dataframe to CSV - UTF-8 encoding"
   ],
   "metadata": {
    "collapsed": false,
    "pycharm": {
     "name": "#%% md\n"
    }
   }
  },
  {
   "cell_type": "code",
   "execution_count": 198,
   "outputs": [],
   "source": [
    "result.to_csv(projectDir + cdataDir + 'NT-Conservation-20230508.csv',  encoding=\"UTF-8-sig\",index = False)"
   ],
   "metadata": {
    "collapsed": false,
    "pycharm": {
     "name": "#%%\n"
    }
   }
  },
  {
   "cell_type": "markdown",
   "source": [
    "## Process Sensitive list\n",
    "**Feb 2023 update** -  there is only one change required for that ALA list - Candalides geminus has been REMOVED for the NT list."
   ],
   "metadata": {
    "collapsed": false,
    "pycharm": {
     "name": "#%% md\n"
    }
   }
  },
  {
   "cell_type": "code",
   "execution_count": 7,
   "outputs": [
    {
     "name": "stdout",
     "output_type": "stream",
     "text": [
      "download_ala_list:  https://lists.ala.org.au/ws/speciesListItems/dr492?max=10000&includeKVP=true\n",
      "Index(['id', 'name', 'commonName', 'scientificName', 'lsid', 'dataResourceUid',\n",
      "       'kvpValues'],\n",
      "      dtype='object')\n"
     ]
    },
    {
     "data": {
      "text/plain": "        id                           name               commonName  \\\n0  4238683               Macroderma gigas                Ghost Bat   \n0  4238678          Hipposideros stenotis  Northern Leaf-nosed Bat   \n0  4238685         Hipposideros inornatus    Arnhem Leaf-nosed Bat   \n0  4238681         Pezoporus occidentalis             Night Parrot   \n0  4238684           Polytelis alexandrae       Alexandra's Parrot   \n0  4238677  Falco (Hierofalco) hypoleucos              Grey Falcon   \n0  4238679              Bellatorias obiri      Arnhem Land Egernia   \n0  4238682                  Attacus wardi               Atlas Moth   \n0  4238680             Ogyris iphis doddi             Dodd’s Azure   \n\n                  scientificName  \\\n0               Macroderma gigas   \n0          Hipposideros stenotis   \n0         Hipposideros inornatus   \n0         Pezoporus occidentalis   \n0           Polytelis alexandrae   \n0  Falco (Hierofalco) hypoleucos   \n0              Bellatorias obiri   \n0                  Attacus wardi   \n0             Ogyris iphis doddi   \n\n                                                lsid          ambiguous name  \\\n0  https://biodiversity.org.au/afd/taxa/63bc796a-...        Macroderma gigas   \n0  https://biodiversity.org.au/afd/taxa/26fe0f53-...   Hipposideros stenotis   \n0  https://biodiversity.org.au/afd/taxa/5d2dab40-...   Hipposideros inornata   \n0  https://biodiversity.org.au/afd/taxa/c630f3b0-...  Pezoporus occidentalis   \n0  https://biodiversity.org.au/afd/taxa/be7a08f5-...    Polytelis alexandrae   \n0  https://biodiversity.org.au/afd/taxa/4c73a934-...        Falco hypoleucos   \n0  https://biodiversity.org.au/afd/taxa/2afc8501-...       Bellatorias obiri   \n0  https://biodiversity.org.au/afd/taxa/8a05008e-...           Attacus wardi   \n0  https://biodiversity.org.au/afd/taxa/ae3ab4c9-...      Ogyris iphis doddi   \n\n           vernacular name                    Criteria  \\\n0                Ghost Bat  cave roost related records   \n0  Northern Leaf-nosed bat  cave roost related records   \n0    Arnhem Leaf-nosed Bat  cave roost related records   \n0             Night Parrot                         NaN   \n0          Princess Parrot             nesting records   \n0              Grey Falcon             nesting records   \n0       Arnhemland Egernia                         NaN   \n0               Atlas Moth                         NaN   \n0             Dodd’s Azure                         NaN   \n\n                                      Denature level generalisation  \n0  Round coordinate value to 0.05 decimal degrees...           10km  \n0  Round coordinate value to 0.05 decimal degrees...           10km  \n0  Round coordinate value to 0.05 decimal degrees...           10km  \n0  Round coordinate value to 0.5 decimal degrees ...          100km  \n0  Round coordinate value to 0.1 decimal degrees ...           10km  \n0  Round coordinate value to 0.1 decimal degrees ...           10km  \n0  Round coordinate value to 0.1 decimal degrees ...           10km  \n0  Round coordinate value to 0.1 decimal degrees ...           10km  \n0  Round coordinate value to 0.1 decimal degrees ...           10km  ",
      "text/html": "<div>\n<style scoped>\n    .dataframe tbody tr th:only-of-type {\n        vertical-align: middle;\n    }\n\n    .dataframe tbody tr th {\n        vertical-align: top;\n    }\n\n    .dataframe thead th {\n        text-align: right;\n    }\n</style>\n<table border=\"1\" class=\"dataframe\">\n  <thead>\n    <tr style=\"text-align: right;\">\n      <th></th>\n      <th>id</th>\n      <th>name</th>\n      <th>commonName</th>\n      <th>scientificName</th>\n      <th>lsid</th>\n      <th>ambiguous name</th>\n      <th>vernacular name</th>\n      <th>Criteria</th>\n      <th>Denature level</th>\n      <th>generalisation</th>\n    </tr>\n  </thead>\n  <tbody>\n    <tr>\n      <th>0</th>\n      <td>4238683</td>\n      <td>Macroderma gigas</td>\n      <td>Ghost Bat</td>\n      <td>Macroderma gigas</td>\n      <td>https://biodiversity.org.au/afd/taxa/63bc796a-...</td>\n      <td>Macroderma gigas</td>\n      <td>Ghost Bat</td>\n      <td>cave roost related records</td>\n      <td>Round coordinate value to 0.05 decimal degrees...</td>\n      <td>10km</td>\n    </tr>\n    <tr>\n      <th>0</th>\n      <td>4238678</td>\n      <td>Hipposideros stenotis</td>\n      <td>Northern Leaf-nosed Bat</td>\n      <td>Hipposideros stenotis</td>\n      <td>https://biodiversity.org.au/afd/taxa/26fe0f53-...</td>\n      <td>Hipposideros stenotis</td>\n      <td>Northern Leaf-nosed bat</td>\n      <td>cave roost related records</td>\n      <td>Round coordinate value to 0.05 decimal degrees...</td>\n      <td>10km</td>\n    </tr>\n    <tr>\n      <th>0</th>\n      <td>4238685</td>\n      <td>Hipposideros inornatus</td>\n      <td>Arnhem Leaf-nosed Bat</td>\n      <td>Hipposideros inornatus</td>\n      <td>https://biodiversity.org.au/afd/taxa/5d2dab40-...</td>\n      <td>Hipposideros inornata</td>\n      <td>Arnhem Leaf-nosed Bat</td>\n      <td>cave roost related records</td>\n      <td>Round coordinate value to 0.05 decimal degrees...</td>\n      <td>10km</td>\n    </tr>\n    <tr>\n      <th>0</th>\n      <td>4238681</td>\n      <td>Pezoporus occidentalis</td>\n      <td>Night Parrot</td>\n      <td>Pezoporus occidentalis</td>\n      <td>https://biodiversity.org.au/afd/taxa/c630f3b0-...</td>\n      <td>Pezoporus occidentalis</td>\n      <td>Night Parrot</td>\n      <td>NaN</td>\n      <td>Round coordinate value to 0.5 decimal degrees ...</td>\n      <td>100km</td>\n    </tr>\n    <tr>\n      <th>0</th>\n      <td>4238684</td>\n      <td>Polytelis alexandrae</td>\n      <td>Alexandra's Parrot</td>\n      <td>Polytelis alexandrae</td>\n      <td>https://biodiversity.org.au/afd/taxa/be7a08f5-...</td>\n      <td>Polytelis alexandrae</td>\n      <td>Princess Parrot</td>\n      <td>nesting records</td>\n      <td>Round coordinate value to 0.1 decimal degrees ...</td>\n      <td>10km</td>\n    </tr>\n    <tr>\n      <th>0</th>\n      <td>4238677</td>\n      <td>Falco (Hierofalco) hypoleucos</td>\n      <td>Grey Falcon</td>\n      <td>Falco (Hierofalco) hypoleucos</td>\n      <td>https://biodiversity.org.au/afd/taxa/4c73a934-...</td>\n      <td>Falco hypoleucos</td>\n      <td>Grey Falcon</td>\n      <td>nesting records</td>\n      <td>Round coordinate value to 0.1 decimal degrees ...</td>\n      <td>10km</td>\n    </tr>\n    <tr>\n      <th>0</th>\n      <td>4238679</td>\n      <td>Bellatorias obiri</td>\n      <td>Arnhem Land Egernia</td>\n      <td>Bellatorias obiri</td>\n      <td>https://biodiversity.org.au/afd/taxa/2afc8501-...</td>\n      <td>Bellatorias obiri</td>\n      <td>Arnhemland Egernia</td>\n      <td>NaN</td>\n      <td>Round coordinate value to 0.1 decimal degrees ...</td>\n      <td>10km</td>\n    </tr>\n    <tr>\n      <th>0</th>\n      <td>4238682</td>\n      <td>Attacus wardi</td>\n      <td>Atlas Moth</td>\n      <td>Attacus wardi</td>\n      <td>https://biodiversity.org.au/afd/taxa/8a05008e-...</td>\n      <td>Attacus wardi</td>\n      <td>Atlas Moth</td>\n      <td>NaN</td>\n      <td>Round coordinate value to 0.1 decimal degrees ...</td>\n      <td>10km</td>\n    </tr>\n    <tr>\n      <th>0</th>\n      <td>4238680</td>\n      <td>Ogyris iphis doddi</td>\n      <td>Dodd’s Azure</td>\n      <td>Ogyris iphis doddi</td>\n      <td>https://biodiversity.org.au/afd/taxa/ae3ab4c9-...</td>\n      <td>Ogyris iphis doddi</td>\n      <td>Dodd’s Azure</td>\n      <td>NaN</td>\n      <td>Round coordinate value to 0.1 decimal degrees ...</td>\n      <td>10km</td>\n    </tr>\n  </tbody>\n</table>\n</div>"
     },
     "execution_count": 7,
     "metadata": {},
     "output_type": "execute_result"
    }
   ],
   "source": [
    "\n",
    "sys.path.append(os.path.abspath(projectDir + \"source-code/includes\"))\n",
    "import list_functions as lf\n",
    "\n",
    "prodListUrl = \"https://lists.ala.org.au/ws/speciesListItems/\" + \"dr492\" + \"?max=10000&includeKVP=true\"\n",
    "sensitivelist = lf.download_ala_list(prodListUrl)\n",
    "sensitivelist = lf.kvp_to_columns(sensitivelist)\n",
    "sensitivelist = sensitivelist.drop(['kvpValues', 'dataResourceUid'], axis=1)\n",
    "sensitivelist"
   ],
   "metadata": {
    "collapsed": false,
    "pycharm": {
     "name": "#%%\n"
    }
   }
  },
  {
   "cell_type": "code",
   "execution_count": 8,
   "outputs": [
    {
     "data": {
      "text/plain": "                  scientificName               commonName generalisation\n0               Macroderma gigas                Ghost Bat           10km\n0          Hipposideros stenotis  Northern Leaf-nosed Bat           10km\n0         Hipposideros inornatus    Arnhem Leaf-nosed Bat           10km\n0         Pezoporus occidentalis             Night Parrot          100km\n0           Polytelis alexandrae       Alexandra's Parrot           10km\n0  Falco (Hierofalco) hypoleucos              Grey Falcon           10km\n0              Bellatorias obiri      Arnhem Land Egernia           10km\n0                  Attacus wardi               Atlas Moth           10km\n0             Ogyris iphis doddi             Dodd’s Azure           10km",
      "text/html": "<div>\n<style scoped>\n    .dataframe tbody tr th:only-of-type {\n        vertical-align: middle;\n    }\n\n    .dataframe tbody tr th {\n        vertical-align: top;\n    }\n\n    .dataframe thead th {\n        text-align: right;\n    }\n</style>\n<table border=\"1\" class=\"dataframe\">\n  <thead>\n    <tr style=\"text-align: right;\">\n      <th></th>\n      <th>scientificName</th>\n      <th>commonName</th>\n      <th>generalisation</th>\n    </tr>\n  </thead>\n  <tbody>\n    <tr>\n      <th>0</th>\n      <td>Macroderma gigas</td>\n      <td>Ghost Bat</td>\n      <td>10km</td>\n    </tr>\n    <tr>\n      <th>0</th>\n      <td>Hipposideros stenotis</td>\n      <td>Northern Leaf-nosed Bat</td>\n      <td>10km</td>\n    </tr>\n    <tr>\n      <th>0</th>\n      <td>Hipposideros inornatus</td>\n      <td>Arnhem Leaf-nosed Bat</td>\n      <td>10km</td>\n    </tr>\n    <tr>\n      <th>0</th>\n      <td>Pezoporus occidentalis</td>\n      <td>Night Parrot</td>\n      <td>100km</td>\n    </tr>\n    <tr>\n      <th>0</th>\n      <td>Polytelis alexandrae</td>\n      <td>Alexandra's Parrot</td>\n      <td>10km</td>\n    </tr>\n    <tr>\n      <th>0</th>\n      <td>Falco (Hierofalco) hypoleucos</td>\n      <td>Grey Falcon</td>\n      <td>10km</td>\n    </tr>\n    <tr>\n      <th>0</th>\n      <td>Bellatorias obiri</td>\n      <td>Arnhem Land Egernia</td>\n      <td>10km</td>\n    </tr>\n    <tr>\n      <th>0</th>\n      <td>Attacus wardi</td>\n      <td>Atlas Moth</td>\n      <td>10km</td>\n    </tr>\n    <tr>\n      <th>0</th>\n      <td>Ogyris iphis doddi</td>\n      <td>Dodd’s Azure</td>\n      <td>10km</td>\n    </tr>\n  </tbody>\n</table>\n</div>"
     },
     "execution_count": 8,
     "metadata": {},
     "output_type": "execute_result"
    }
   ],
   "source": [
    "sensitivelist = sensitivelist[sensitivelist.name != 'Candalides geminus']\n",
    "sensitivelist =sensitiveList[['scientificName', 'commonName', 'generalisation']]\n",
    "sensitivelist"
   ],
   "metadata": {
    "collapsed": false,
    "pycharm": {
     "name": "#%%\n"
    }
   }
  },
  {
   "cell_type": "code",
   "execution_count": 9,
   "outputs": [
    {
     "name": "stdout",
     "output_type": "stream",
     "text": [
      "Finished processing\n"
     ]
    }
   ],
   "source": [
    "#Write to CSV\n",
    "# conservationList.to_csv(projectDir + cdataDir + \"VIC-conservation.csv\",index=False)\n",
    "sensitivelist.to_csv(projectDir + sdataDir + \"NT-sensitive.csv\",  encoding=\"UTF-8\", index=False)\n",
    "print('Finished processing')\n"
   ],
   "metadata": {
    "collapsed": false,
    "pycharm": {
     "name": "#%%\n"
    }
   }
  },
  {
   "cell_type": "markdown",
   "source": [
    "# Manual List check\n",
    "\n",
    "**Instructions**\n",
    "1. Load the lists above into the lists-test tool\n",
    "2. Check the list name matching score and the text appearance on species pages\n",
    "3. Unskip the below code and Run the reports below to compare to production. Send the changelog.csv to check. Correct any issues.\n",
    "4. Save the production list into the `historical lists` directory by uncommenting the code section below.\n",
    "5. Load the lists into production"
   ],
   "metadata": {
    "collapsed": false,
    "pycharm": {
     "name": "#%% md\n"
    }
   }
  },
  {
   "cell_type": "markdown",
   "source": [
    "### Conservation List - Download old and new and compare"
   ],
   "metadata": {
    "collapsed": false,
    "pycharm": {
     "name": "#%% md\n"
    }
   }
  },
  {
   "cell_type": "code",
   "execution_count": 163,
   "outputs": [
    {
     "name": "stdout",
     "output_type": "stream",
     "text": [
      "get_changelist: Test -  https://lists-test.ala.org.au/ws/speciesListItems/dr651?max=10000&includeKVP=true Prod -  https://lists.ala.org.au/ws/speciesListItems/dr651?max=10000&includeKVP=true\n",
      "download_ala_list:  https://lists.ala.org.au/ws/speciesListItems/https://lists.ala.org.au/ws/speciesListItems/dr651?max=10000&includeKVP=true?max=10000&includeKVP=true\n"
     ]
    },
    {
     "ename": "HTTPError",
     "evalue": "HTTP Error 404: ",
     "output_type": "error",
     "traceback": [
      "\u001B[1;31m---------------------------------------------------------------------------\u001B[0m",
      "\u001B[1;31mHTTPError\u001B[0m                                 Traceback (most recent call last)",
      "\u001B[1;32m~\\AppData\\Local\\Temp/ipykernel_15672/2936615292.py\u001B[0m in \u001B[0;36m<cell line: 10>\u001B[1;34m()\u001B[0m\n\u001B[0;32m      8\u001B[0m \u001B[0mprodListUrl\u001B[0m \u001B[1;33m=\u001B[0m \u001B[1;34m\"https://lists.ala.org.au/ws/speciesListItems/\"\u001B[0m \u001B[1;33m+\u001B[0m \u001B[1;34m\"dr651\"\u001B[0m \u001B[1;33m+\u001B[0m \u001B[1;34m\"?max=10000&includeKVP=true\"\u001B[0m\u001B[1;33m\u001B[0m\u001B[1;33m\u001B[0m\u001B[0m\n\u001B[0;32m      9\u001B[0m \u001B[0mtestListUrl\u001B[0m \u001B[1;33m=\u001B[0m \u001B[1;34m\"https://lists-test.ala.org.au/ws/speciesListItems/\"\u001B[0m \u001B[1;33m+\u001B[0m \u001B[1;34m\"dr651\"\u001B[0m \u001B[1;33m+\u001B[0m \u001B[1;34m\"?max=10000&includeKVP=true\"\u001B[0m\u001B[1;33m\u001B[0m\u001B[1;33m\u001B[0m\u001B[0m\n\u001B[1;32m---> 10\u001B[1;33m \u001B[0mchangelist\u001B[0m \u001B[1;33m=\u001B[0m \u001B[0mlf\u001B[0m\u001B[1;33m.\u001B[0m\u001B[0mget_changelist\u001B[0m\u001B[1;33m(\u001B[0m\u001B[0mtestListUrl\u001B[0m\u001B[1;33m,\u001B[0m \u001B[0mprodListUrl\u001B[0m\u001B[1;33m,\u001B[0m \u001B[0mltype\u001B[0m\u001B[1;33m)\u001B[0m\u001B[1;33m\u001B[0m\u001B[1;33m\u001B[0m\u001B[0m\n\u001B[0m\u001B[0;32m     11\u001B[0m \u001B[1;31m# save the lists locally\u001B[0m\u001B[1;33m\u001B[0m\u001B[1;33m\u001B[0m\u001B[0m\n\u001B[0;32m     12\u001B[0m \u001B[0mchangelist\u001B[0m\u001B[1;33m.\u001B[0m\u001B[0mto_csv\u001B[0m\u001B[1;33m(\u001B[0m\u001B[0mprojectDir\u001B[0m \u001B[1;33m+\u001B[0m \u001B[1;34m\"analysis/change-log/\"\u001B[0m \u001B[1;33m+\u001B[0m \u001B[0mmonthStr\u001B[0m \u001B[1;33m+\u001B[0m \u001B[1;34m\"-\"\u001B[0m \u001B[1;33m+\u001B[0m \u001B[0mfilename\u001B[0m\u001B[1;33m,\u001B[0m \u001B[0mencoding\u001B[0m\u001B[1;33m=\u001B[0m\u001B[1;34m\"UTF-8\"\u001B[0m\u001B[1;33m,\u001B[0m \u001B[0mindex\u001B[0m\u001B[1;33m=\u001B[0m\u001B[1;32mFalse\u001B[0m\u001B[1;33m)\u001B[0m\u001B[1;33m\u001B[0m\u001B[1;33m\u001B[0m\u001B[0m\n",
      "\u001B[1;32m~\\PycharmProjects\\authoritative-lists\\source-code\\includes\\list_functions.py\u001B[0m in \u001B[0;36mget_changelist\u001B[1;34m(testdr, proddr, ltype)\u001B[0m\n\u001B[0;32m     48\u001B[0m     \u001B[0mnewListUrl\u001B[0m \u001B[1;33m=\u001B[0m \u001B[0mnewListPref\u001B[0m \u001B[1;33m+\u001B[0m \u001B[0mtestdr\u001B[0m \u001B[1;33m+\u001B[0m \u001B[0murlSuffix\u001B[0m\u001B[1;33m\u001B[0m\u001B[1;33m\u001B[0m\u001B[0m\n\u001B[0;32m     49\u001B[0m \u001B[1;33m\u001B[0m\u001B[0m\n\u001B[1;32m---> 50\u001B[1;33m     \u001B[0moldList\u001B[0m \u001B[1;33m=\u001B[0m \u001B[0mdownload_ala_list\u001B[0m\u001B[1;33m(\u001B[0m\u001B[0moldListUrl\u001B[0m\u001B[1;33m)\u001B[0m\u001B[1;33m\u001B[0m\u001B[1;33m\u001B[0m\u001B[0m\n\u001B[0m\u001B[0;32m     51\u001B[0m     \u001B[0moldList\u001B[0m \u001B[1;33m=\u001B[0m \u001B[0mkvp_to_columns\u001B[0m\u001B[1;33m(\u001B[0m\u001B[0moldList\u001B[0m\u001B[1;33m)\u001B[0m\u001B[1;33m\u001B[0m\u001B[1;33m\u001B[0m\u001B[0m\n\u001B[0;32m     52\u001B[0m     \u001B[0mnewList\u001B[0m \u001B[1;33m=\u001B[0m \u001B[0mdownload_ala_list\u001B[0m\u001B[1;33m(\u001B[0m\u001B[0mnewListUrl\u001B[0m\u001B[1;33m)\u001B[0m\u001B[1;33m\u001B[0m\u001B[1;33m\u001B[0m\u001B[0m\n",
      "\u001B[1;32m~\\PycharmProjects\\authoritative-lists\\source-code\\includes\\list_functions.py\u001B[0m in \u001B[0;36mdownload_ala_list\u001B[1;34m(url)\u001B[0m\n\u001B[0;32m     12\u001B[0m \u001B[1;32mdef\u001B[0m \u001B[0mdownload_ala_list\u001B[0m\u001B[1;33m(\u001B[0m\u001B[0murl\u001B[0m\u001B[1;33m:\u001B[0m \u001B[0mstr\u001B[0m\u001B[1;33m)\u001B[0m\u001B[1;33m:\u001B[0m\u001B[1;33m\u001B[0m\u001B[1;33m\u001B[0m\u001B[0m\n\u001B[0;32m     13\u001B[0m     \u001B[0mprint\u001B[0m\u001B[1;33m(\u001B[0m\u001B[1;34m\"download_ala_list: \"\u001B[0m\u001B[1;33m,\u001B[0m \u001B[0murl\u001B[0m\u001B[1;33m)\u001B[0m\u001B[1;33m\u001B[0m\u001B[1;33m\u001B[0m\u001B[0m\n\u001B[1;32m---> 14\u001B[1;33m     \u001B[1;32mwith\u001B[0m \u001B[0murllib\u001B[0m\u001B[1;33m.\u001B[0m\u001B[0mrequest\u001B[0m\u001B[1;33m.\u001B[0m\u001B[0murlopen\u001B[0m\u001B[1;33m(\u001B[0m\u001B[0murl\u001B[0m\u001B[1;33m,\u001B[0m \u001B[0mcontext\u001B[0m\u001B[1;33m=\u001B[0m\u001B[0mssl\u001B[0m\u001B[1;33m.\u001B[0m\u001B[0mcreate_default_context\u001B[0m\u001B[1;33m(\u001B[0m\u001B[0mcafile\u001B[0m\u001B[1;33m=\u001B[0m\u001B[0mcertifi\u001B[0m\u001B[1;33m.\u001B[0m\u001B[0mwhere\u001B[0m\u001B[1;33m(\u001B[0m\u001B[1;33m)\u001B[0m\u001B[1;33m)\u001B[0m\u001B[1;33m)\u001B[0m \u001B[1;32mas\u001B[0m \u001B[0murl\u001B[0m\u001B[1;33m:\u001B[0m\u001B[1;33m\u001B[0m\u001B[1;33m\u001B[0m\u001B[0m\n\u001B[0m\u001B[0;32m     15\u001B[0m         \u001B[1;32mif\u001B[0m \u001B[0murl\u001B[0m\u001B[1;33m.\u001B[0m\u001B[0mstatus\u001B[0m \u001B[1;33m==\u001B[0m \u001B[1;36m200\u001B[0m\u001B[1;33m:\u001B[0m\u001B[1;33m\u001B[0m\u001B[1;33m\u001B[0m\u001B[0m\n\u001B[0;32m     16\u001B[0m             \u001B[0mdata\u001B[0m \u001B[1;33m=\u001B[0m \u001B[0mjson\u001B[0m\u001B[1;33m.\u001B[0m\u001B[0mloads\u001B[0m\u001B[1;33m(\u001B[0m\u001B[0murl\u001B[0m\u001B[1;33m.\u001B[0m\u001B[0mread\u001B[0m\u001B[1;33m(\u001B[0m\u001B[1;33m)\u001B[0m\u001B[1;33m.\u001B[0m\u001B[0mdecode\u001B[0m\u001B[1;33m(\u001B[0m\u001B[1;33m)\u001B[0m\u001B[1;33m)\u001B[0m\u001B[1;33m\u001B[0m\u001B[1;33m\u001B[0m\u001B[0m\n",
      "\u001B[1;32m~\\Anaconda3\\envs\\scientificProject\\lib\\urllib\\request.py\u001B[0m in \u001B[0;36murlopen\u001B[1;34m(url, data, timeout, cafile, capath, cadefault, context)\u001B[0m\n\u001B[0;32m    212\u001B[0m     \u001B[1;32melse\u001B[0m\u001B[1;33m:\u001B[0m\u001B[1;33m\u001B[0m\u001B[1;33m\u001B[0m\u001B[0m\n\u001B[0;32m    213\u001B[0m         \u001B[0mopener\u001B[0m \u001B[1;33m=\u001B[0m \u001B[0m_opener\u001B[0m\u001B[1;33m\u001B[0m\u001B[1;33m\u001B[0m\u001B[0m\n\u001B[1;32m--> 214\u001B[1;33m     \u001B[1;32mreturn\u001B[0m \u001B[0mopener\u001B[0m\u001B[1;33m.\u001B[0m\u001B[0mopen\u001B[0m\u001B[1;33m(\u001B[0m\u001B[0murl\u001B[0m\u001B[1;33m,\u001B[0m \u001B[0mdata\u001B[0m\u001B[1;33m,\u001B[0m \u001B[0mtimeout\u001B[0m\u001B[1;33m)\u001B[0m\u001B[1;33m\u001B[0m\u001B[1;33m\u001B[0m\u001B[0m\n\u001B[0m\u001B[0;32m    215\u001B[0m \u001B[1;33m\u001B[0m\u001B[0m\n\u001B[0;32m    216\u001B[0m \u001B[1;32mdef\u001B[0m \u001B[0minstall_opener\u001B[0m\u001B[1;33m(\u001B[0m\u001B[0mopener\u001B[0m\u001B[1;33m)\u001B[0m\u001B[1;33m:\u001B[0m\u001B[1;33m\u001B[0m\u001B[1;33m\u001B[0m\u001B[0m\n",
      "\u001B[1;32m~\\Anaconda3\\envs\\scientificProject\\lib\\urllib\\request.py\u001B[0m in \u001B[0;36mopen\u001B[1;34m(self, fullurl, data, timeout)\u001B[0m\n\u001B[0;32m    521\u001B[0m         \u001B[1;32mfor\u001B[0m \u001B[0mprocessor\u001B[0m \u001B[1;32min\u001B[0m \u001B[0mself\u001B[0m\u001B[1;33m.\u001B[0m\u001B[0mprocess_response\u001B[0m\u001B[1;33m.\u001B[0m\u001B[0mget\u001B[0m\u001B[1;33m(\u001B[0m\u001B[0mprotocol\u001B[0m\u001B[1;33m,\u001B[0m \u001B[1;33m[\u001B[0m\u001B[1;33m]\u001B[0m\u001B[1;33m)\u001B[0m\u001B[1;33m:\u001B[0m\u001B[1;33m\u001B[0m\u001B[1;33m\u001B[0m\u001B[0m\n\u001B[0;32m    522\u001B[0m             \u001B[0mmeth\u001B[0m \u001B[1;33m=\u001B[0m \u001B[0mgetattr\u001B[0m\u001B[1;33m(\u001B[0m\u001B[0mprocessor\u001B[0m\u001B[1;33m,\u001B[0m \u001B[0mmeth_name\u001B[0m\u001B[1;33m)\u001B[0m\u001B[1;33m\u001B[0m\u001B[1;33m\u001B[0m\u001B[0m\n\u001B[1;32m--> 523\u001B[1;33m             \u001B[0mresponse\u001B[0m \u001B[1;33m=\u001B[0m \u001B[0mmeth\u001B[0m\u001B[1;33m(\u001B[0m\u001B[0mreq\u001B[0m\u001B[1;33m,\u001B[0m \u001B[0mresponse\u001B[0m\u001B[1;33m)\u001B[0m\u001B[1;33m\u001B[0m\u001B[1;33m\u001B[0m\u001B[0m\n\u001B[0m\u001B[0;32m    524\u001B[0m \u001B[1;33m\u001B[0m\u001B[0m\n\u001B[0;32m    525\u001B[0m         \u001B[1;32mreturn\u001B[0m \u001B[0mresponse\u001B[0m\u001B[1;33m\u001B[0m\u001B[1;33m\u001B[0m\u001B[0m\n",
      "\u001B[1;32m~\\Anaconda3\\envs\\scientificProject\\lib\\urllib\\request.py\u001B[0m in \u001B[0;36mhttp_response\u001B[1;34m(self, request, response)\u001B[0m\n\u001B[0;32m    630\u001B[0m         \u001B[1;31m# request was successfully received, understood, and accepted.\u001B[0m\u001B[1;33m\u001B[0m\u001B[1;33m\u001B[0m\u001B[0m\n\u001B[0;32m    631\u001B[0m         \u001B[1;32mif\u001B[0m \u001B[1;32mnot\u001B[0m \u001B[1;33m(\u001B[0m\u001B[1;36m200\u001B[0m \u001B[1;33m<=\u001B[0m \u001B[0mcode\u001B[0m \u001B[1;33m<\u001B[0m \u001B[1;36m300\u001B[0m\u001B[1;33m)\u001B[0m\u001B[1;33m:\u001B[0m\u001B[1;33m\u001B[0m\u001B[1;33m\u001B[0m\u001B[0m\n\u001B[1;32m--> 632\u001B[1;33m             response = self.parent.error(\n\u001B[0m\u001B[0;32m    633\u001B[0m                 'http', request, response, code, msg, hdrs)\n\u001B[0;32m    634\u001B[0m \u001B[1;33m\u001B[0m\u001B[0m\n",
      "\u001B[1;32m~\\Anaconda3\\envs\\scientificProject\\lib\\urllib\\request.py\u001B[0m in \u001B[0;36merror\u001B[1;34m(self, proto, *args)\u001B[0m\n\u001B[0;32m    559\u001B[0m         \u001B[1;32mif\u001B[0m \u001B[0mhttp_err\u001B[0m\u001B[1;33m:\u001B[0m\u001B[1;33m\u001B[0m\u001B[1;33m\u001B[0m\u001B[0m\n\u001B[0;32m    560\u001B[0m             \u001B[0margs\u001B[0m \u001B[1;33m=\u001B[0m \u001B[1;33m(\u001B[0m\u001B[0mdict\u001B[0m\u001B[1;33m,\u001B[0m \u001B[1;34m'default'\u001B[0m\u001B[1;33m,\u001B[0m \u001B[1;34m'http_error_default'\u001B[0m\u001B[1;33m)\u001B[0m \u001B[1;33m+\u001B[0m \u001B[0morig_args\u001B[0m\u001B[1;33m\u001B[0m\u001B[1;33m\u001B[0m\u001B[0m\n\u001B[1;32m--> 561\u001B[1;33m             \u001B[1;32mreturn\u001B[0m \u001B[0mself\u001B[0m\u001B[1;33m.\u001B[0m\u001B[0m_call_chain\u001B[0m\u001B[1;33m(\u001B[0m\u001B[1;33m*\u001B[0m\u001B[0margs\u001B[0m\u001B[1;33m)\u001B[0m\u001B[1;33m\u001B[0m\u001B[1;33m\u001B[0m\u001B[0m\n\u001B[0m\u001B[0;32m    562\u001B[0m \u001B[1;33m\u001B[0m\u001B[0m\n\u001B[0;32m    563\u001B[0m \u001B[1;31m# XXX probably also want an abstract factory that knows when it makes\u001B[0m\u001B[1;33m\u001B[0m\u001B[1;33m\u001B[0m\u001B[0m\n",
      "\u001B[1;32m~\\Anaconda3\\envs\\scientificProject\\lib\\urllib\\request.py\u001B[0m in \u001B[0;36m_call_chain\u001B[1;34m(self, chain, kind, meth_name, *args)\u001B[0m\n\u001B[0;32m    492\u001B[0m         \u001B[1;32mfor\u001B[0m \u001B[0mhandler\u001B[0m \u001B[1;32min\u001B[0m \u001B[0mhandlers\u001B[0m\u001B[1;33m:\u001B[0m\u001B[1;33m\u001B[0m\u001B[1;33m\u001B[0m\u001B[0m\n\u001B[0;32m    493\u001B[0m             \u001B[0mfunc\u001B[0m \u001B[1;33m=\u001B[0m \u001B[0mgetattr\u001B[0m\u001B[1;33m(\u001B[0m\u001B[0mhandler\u001B[0m\u001B[1;33m,\u001B[0m \u001B[0mmeth_name\u001B[0m\u001B[1;33m)\u001B[0m\u001B[1;33m\u001B[0m\u001B[1;33m\u001B[0m\u001B[0m\n\u001B[1;32m--> 494\u001B[1;33m             \u001B[0mresult\u001B[0m \u001B[1;33m=\u001B[0m \u001B[0mfunc\u001B[0m\u001B[1;33m(\u001B[0m\u001B[1;33m*\u001B[0m\u001B[0margs\u001B[0m\u001B[1;33m)\u001B[0m\u001B[1;33m\u001B[0m\u001B[1;33m\u001B[0m\u001B[0m\n\u001B[0m\u001B[0;32m    495\u001B[0m             \u001B[1;32mif\u001B[0m \u001B[0mresult\u001B[0m \u001B[1;32mis\u001B[0m \u001B[1;32mnot\u001B[0m \u001B[1;32mNone\u001B[0m\u001B[1;33m:\u001B[0m\u001B[1;33m\u001B[0m\u001B[1;33m\u001B[0m\u001B[0m\n\u001B[0;32m    496\u001B[0m                 \u001B[1;32mreturn\u001B[0m \u001B[0mresult\u001B[0m\u001B[1;33m\u001B[0m\u001B[1;33m\u001B[0m\u001B[0m\n",
      "\u001B[1;32m~\\Anaconda3\\envs\\scientificProject\\lib\\urllib\\request.py\u001B[0m in \u001B[0;36mhttp_error_default\u001B[1;34m(self, req, fp, code, msg, hdrs)\u001B[0m\n\u001B[0;32m    639\u001B[0m \u001B[1;32mclass\u001B[0m \u001B[0mHTTPDefaultErrorHandler\u001B[0m\u001B[1;33m(\u001B[0m\u001B[0mBaseHandler\u001B[0m\u001B[1;33m)\u001B[0m\u001B[1;33m:\u001B[0m\u001B[1;33m\u001B[0m\u001B[1;33m\u001B[0m\u001B[0m\n\u001B[0;32m    640\u001B[0m     \u001B[1;32mdef\u001B[0m \u001B[0mhttp_error_default\u001B[0m\u001B[1;33m(\u001B[0m\u001B[0mself\u001B[0m\u001B[1;33m,\u001B[0m \u001B[0mreq\u001B[0m\u001B[1;33m,\u001B[0m \u001B[0mfp\u001B[0m\u001B[1;33m,\u001B[0m \u001B[0mcode\u001B[0m\u001B[1;33m,\u001B[0m \u001B[0mmsg\u001B[0m\u001B[1;33m,\u001B[0m \u001B[0mhdrs\u001B[0m\u001B[1;33m)\u001B[0m\u001B[1;33m:\u001B[0m\u001B[1;33m\u001B[0m\u001B[1;33m\u001B[0m\u001B[0m\n\u001B[1;32m--> 641\u001B[1;33m         \u001B[1;32mraise\u001B[0m \u001B[0mHTTPError\u001B[0m\u001B[1;33m(\u001B[0m\u001B[0mreq\u001B[0m\u001B[1;33m.\u001B[0m\u001B[0mfull_url\u001B[0m\u001B[1;33m,\u001B[0m \u001B[0mcode\u001B[0m\u001B[1;33m,\u001B[0m \u001B[0mmsg\u001B[0m\u001B[1;33m,\u001B[0m \u001B[0mhdrs\u001B[0m\u001B[1;33m,\u001B[0m \u001B[0mfp\u001B[0m\u001B[1;33m)\u001B[0m\u001B[1;33m\u001B[0m\u001B[1;33m\u001B[0m\u001B[0m\n\u001B[0m\u001B[0;32m    642\u001B[0m \u001B[1;33m\u001B[0m\u001B[0m\n\u001B[0;32m    643\u001B[0m \u001B[1;32mclass\u001B[0m \u001B[0mHTTPRedirectHandler\u001B[0m\u001B[1;33m(\u001B[0m\u001B[0mBaseHandler\u001B[0m\u001B[1;33m)\u001B[0m\u001B[1;33m:\u001B[0m\u001B[1;33m\u001B[0m\u001B[1;33m\u001B[0m\u001B[0m\n",
      "\u001B[1;31mHTTPError\u001B[0m: HTTP Error 404: "
     ]
    }
   ],
   "source": [
    "# %%script echo skipping # comment this line to run this code\n",
    "\n",
    "import datetime\n",
    "monthStr = datetime.datetime.now().strftime('%Y%m')\n",
    "ltype = \"C\"\n",
    "# conservation\n",
    "filename = \"NT-conservation.csv\"\n",
    "prodListUrl = \"https://lists.ala.org.au/ws/speciesListItems/\" + \"dr651\" + \"?max=10000&includeKVP=true\"\n",
    "testListUrl = \"https://lists-test.ala.org.au/ws/speciesListItems/\" + \"dr651\" + \"?max=10000&includeKVP=true\"\n",
    "changelist = lf.get_changelist(testListUrl, prodListUrl, ltype)\n",
    "# save the lists locally\n",
    "changelist.to_csv(projectDir + \"analysis/change-log/\" + monthStr + \"-\" + filename, encoding=\"UTF-8\", index=False)\n",
    "\n",
    "changelist"
   ],
   "metadata": {
    "collapsed": false,
    "pycharm": {
     "name": "#%%\n"
    }
   }
  },
  {
   "cell_type": "markdown",
   "source": [
    "### Download Production lists to Historical Lists directory"
   ],
   "metadata": {
    "collapsed": false,
    "pycharm": {
     "name": "#%% md\n"
    }
   }
  },
  {
   "cell_type": "code",
   "execution_count": null,
   "outputs": [],
   "source": [
    "%%script echo skipping # comment this line to download the files and save locally\n",
    "prodList = lf.download_ala_list(prodListUrl)  # save the prod list to the historical lists directory\n",
    "prodList = lf.kvp_to_columns(prodList)\n",
    "prodList.to_csv(projectDir + \"historical-lists/conservation/\" + filename, encoding=\"UTF-8\", index=False)\n",
    "print('Finished downloading historical list')"
   ],
   "metadata": {
    "collapsed": false,
    "pycharm": {
     "name": "#%%\n"
    }
   }
  },
  {
   "cell_type": "markdown",
   "source": [
    "### Sensitive List - Download old and new and compare\n"
   ],
   "metadata": {
    "collapsed": false,
    "pycharm": {
     "name": "#%% md\n"
    }
   }
  },
  {
   "cell_type": "code",
   "execution_count": null,
   "outputs": [],
   "source": [
    "%%script echo skipping # comment this line to run this code\n",
    "\n",
    "import datetime\n",
    "monthStr = datetime.datetime.now().strftime('%Y%m')\n",
    "ltype =\"S\"\n",
    "# conservation\n",
    "filename = \"NT-sensitive.csv\"\n",
    "prodListUrl = \"https://lists.ala.org.au/ws/speciesListItems/\" + \"dr492\" + \"?max=10000&includeKVP=true\"\n",
    "testListUrl = \"https://lists-test.ala.org.au/ws/speciesListItems/\" + \"dr18690\" + \"?max=10000&includeKVP=true\"\n",
    "changelist = lf.get_changelist(testListUrl, prodListUrl, ltype)\n",
    "# save the lists locally\n",
    "changelist.to_csv(projectDir + \"analysis/change-log/\" + monthStr + \"-\" + filename, encoding=\"UTF-8\", index=False)\n",
    "changelist"
   ],
   "metadata": {
    "collapsed": false,
    "pycharm": {
     "name": "#%%\n"
    }
   }
  },
  {
   "cell_type": "markdown",
   "source": [
    "### Download Production lists to Historical Lists directory"
   ],
   "metadata": {
    "collapsed": false,
    "pycharm": {
     "name": "#%% md\n"
    }
   }
  },
  {
   "cell_type": "code",
   "execution_count": null,
   "outputs": [],
   "source": [
    "%%script echo skipping # comment this line to download the files and save locally\n",
    "prodList = lf.download_ala_list(prodListUrl)  # save the prod list to the historical lists directory\n",
    "prodList = lf.kvp_to_columns(prodList)\n",
    "prodList.to_csv(projectDir + \"historical-lists/sensitive/\" + filename, encoding=\"UTF-8\", index=False)\n",
    "print('Finished downloading historical list')"
   ],
   "metadata": {
    "collapsed": false,
    "pycharm": {
     "name": "#%%\n"
    }
   }
  }
 ],
 "metadata": {
  "kernelspec": {
   "display_name": "Python 3",
   "language": "python",
   "name": "python3"
  },
  "language_info": {
   "codemirror_mode": {
    "name": "ipython",
    "version": 3
   },
   "file_extension": ".py",
   "mimetype": "text/x-python",
   "name": "python",
   "nbconvert_exporter": "python",
   "pygments_lexer": "ipython3",
   "version": "3.8.8"
  }
 },
 "nbformat": 4,
 "nbformat_minor": 5
}