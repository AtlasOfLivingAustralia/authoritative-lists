{
 "cells": [
  {
   "cell_type": "markdown",
   "source": [
    "# NT Conservation List\n",
    "\n",
    "## List Identifiers\n",
    "* Conservation list: __[dr651](https://lists.ala.org.au/speciesListItem/list/dr651)__ (and [dr651 in test](https://lists-test.ala.org.au/speciesListItem/list/dr651))\n",
    "* Sensitive list: __[dr492](https://lists.ala.org.au/speciesListItem/list/dr492)__ (and [dr492 in test](https://lists-test.ala.org.au/speciesListItem/list/dr492))\n",
    "* Collection: __[dr651](https://collections.ala.org.au/public/show/dr651)__ __[dr492](https://collections.ala.org.au/public/show/dr492)__\n",
    "\n",
    "## Source Data\n",
    "*  __[Home Page](https://nt.gov.au/environment)__\n",
    "*  __[Fauna](https://nt.gov.au/environment/animals/threatened-animals)__\n",
    "*  __[Flora](https://nt.gov.au/environment/native-plants/threatened-plants)__\n",
    "\n",
    "**Note:** Data was manually copied from website. No API or files available for download. No indication of where to obtain Sensitive list data.\n",
    "\n",
    "**Metadata Description**\n",
    "Classification codes under the Territory Parks and Wildlife Conservation Act: Extinct in the Wild Critically Endangered Endangered Vulnerable Near threatened Data\n",
    "deficient.\n",
    "\n",
    "Learn more about the classifications used by the Department of Natural Resources, Environment, the Arts and Sports.\n",
    "\n",
    "**Note:** Under the Northern Territory Department of Environment and Natural Resources Sensitive Flora and Fauna Data Policy, there are currently no flora records classified as sensitive\n",
    "\n",
    "**Metadata URL**\n",
    "https://nt.gov.au/environment\n",
    "\n"
   ],
   "metadata": {
    "collapsed": false,
    "pycharm": {
     "name": "#%% md\n"
    }
   }
  },
  {
   "cell_type": "markdown",
   "source": [
    "Import libraries"
   ],
   "metadata": {
    "collapsed": false,
    "pycharm": {
     "name": "#%% md\n"
    }
   }
  },
  {
   "cell_type": "code",
   "execution_count": 8,
   "outputs": [],
   "source": [
    "import pandas as pd\n",
    "import os\n",
    "import sys\n",
    "projectDir = \"/Users/oco115/PycharmProjects/authoritative-lists/\"\n",
    "sourcedir = \"source-data/NT/\"\n",
    "statusDir = projectDir + \"source-data/status-codes/\"\n",
    "cdataDir = \"current-lists/conservation-lists/\"\n",
    "sdataDir = \"current-lists/sensitive-lists/\""
   ],
   "metadata": {
    "collapsed": false,
    "pycharm": {
     "name": "#%%\n"
    }
   }
  },
  {
   "cell_type": "markdown",
   "source": [
    "## Process Flora"
   ],
   "metadata": {
    "collapsed": false,
    "pycharm": {
     "name": "#%% md\n"
    }
   }
  },
  {
   "cell_type": "code",
   "execution_count": 10,
   "outputs": [],
   "source": [
    "data = pd.read_excel(projectDir + sourcedir + \"ntConservationStatusList-Plants.xlsx\")"
   ],
   "metadata": {
    "collapsed": false,
    "pycharm": {
     "name": "#%%\n"
    }
   }
  },
  {
   "cell_type": "markdown",
   "source": [
    "Map DWC terms"
   ],
   "metadata": {
    "collapsed": false,
    "pycharm": {
     "name": "#%% md\n"
    }
   }
  },
  {
   "cell_type": "code",
   "execution_count": 11,
   "outputs": [],
   "source": [
    "data = data.rename(columns=\n",
    "{'Plant family':'family',\n",
    " 'Status':'status',\n",
    " })"
   ],
   "metadata": {
    "collapsed": false,
    "pycharm": {
     "name": "#%%\n"
    }
   }
  },
  {
   "cell_type": "code",
   "execution_count": 12,
   "id": "6dfe07ec",
   "metadata": {
    "pycharm": {
     "name": "#%%\n"
    }
   },
   "outputs": [
    {
     "data": {
      "text/plain": "              family                      Scientific name  \\\n0   Hymenophyllaceae                 Abrodictyum obscurum   \n1           Fabaceae                 Acacia equisetifolia   \n2           Fabaceae        Acacia latzii \\nLatz's wattle   \n3           Fabaceae             Acacia peuce\\nWaddy-wood   \n4           Fabaceae  Acacia pickardii\\nBirds nest wattle   \n..               ...                                  ...   \n79           Araceae                    Typhonium taylori   \n80  Lentibulariaceae               Utricularia dunstaniae   \n81  Lentibulariaceae               Utricularia singeriana   \n82        Annonaceae                   Xylopia monosperma   \n83       Orchidaceae                      Zeuxine oblonga   \n\n                                            status  \n0                                       Endangered  \n1                            Critically endangered  \n2                                       Vulnerable  \n3                                       Endangered  \n4   Listed nationally but not under NT legislation  \n..                                             ...  \n79                                      Endangered  \n80                                      Vulnerable  \n81                                      Vulnerable  \n82                                      Endangered  \n83                                      Vulnerable  \n\n[84 rows x 3 columns]",
      "text/html": "<div>\n<style scoped>\n    .dataframe tbody tr th:only-of-type {\n        vertical-align: middle;\n    }\n\n    .dataframe tbody tr th {\n        vertical-align: top;\n    }\n\n    .dataframe thead th {\n        text-align: right;\n    }\n</style>\n<table border=\"1\" class=\"dataframe\">\n  <thead>\n    <tr style=\"text-align: right;\">\n      <th></th>\n      <th>family</th>\n      <th>Scientific name</th>\n      <th>status</th>\n    </tr>\n  </thead>\n  <tbody>\n    <tr>\n      <th>0</th>\n      <td>Hymenophyllaceae</td>\n      <td>Abrodictyum obscurum</td>\n      <td>Endangered</td>\n    </tr>\n    <tr>\n      <th>1</th>\n      <td>Fabaceae</td>\n      <td>Acacia equisetifolia</td>\n      <td>Critically endangered</td>\n    </tr>\n    <tr>\n      <th>2</th>\n      <td>Fabaceae</td>\n      <td>Acacia latzii \\nLatz's wattle</td>\n      <td>Vulnerable</td>\n    </tr>\n    <tr>\n      <th>3</th>\n      <td>Fabaceae</td>\n      <td>Acacia peuce\\nWaddy-wood</td>\n      <td>Endangered</td>\n    </tr>\n    <tr>\n      <th>4</th>\n      <td>Fabaceae</td>\n      <td>Acacia pickardii\\nBirds nest wattle</td>\n      <td>Listed nationally but not under NT legislation</td>\n    </tr>\n    <tr>\n      <th>...</th>\n      <td>...</td>\n      <td>...</td>\n      <td>...</td>\n    </tr>\n    <tr>\n      <th>79</th>\n      <td>Araceae</td>\n      <td>Typhonium taylori</td>\n      <td>Endangered</td>\n    </tr>\n    <tr>\n      <th>80</th>\n      <td>Lentibulariaceae</td>\n      <td>Utricularia dunstaniae</td>\n      <td>Vulnerable</td>\n    </tr>\n    <tr>\n      <th>81</th>\n      <td>Lentibulariaceae</td>\n      <td>Utricularia singeriana</td>\n      <td>Vulnerable</td>\n    </tr>\n    <tr>\n      <th>82</th>\n      <td>Annonaceae</td>\n      <td>Xylopia monosperma</td>\n      <td>Endangered</td>\n    </tr>\n    <tr>\n      <th>83</th>\n      <td>Orchidaceae</td>\n      <td>Zeuxine oblonga</td>\n      <td>Vulnerable</td>\n    </tr>\n  </tbody>\n</table>\n<p>84 rows × 3 columns</p>\n</div>"
     },
     "execution_count": 12,
     "metadata": {},
     "output_type": "execute_result"
    }
   ],
   "source": [
    "data"
   ]
  },
  {
   "cell_type": "code",
   "execution_count": 13,
   "outputs": [
    {
     "data": {
      "text/plain": "array(['Endangered', 'Critically endangered', 'Vulnerable',\n       'Listed nationally but not under NT legislation'], dtype=object)"
     },
     "execution_count": 13,
     "metadata": {},
     "output_type": "execute_result"
    }
   ],
   "source": [
    "data['status'].unique()"
   ],
   "metadata": {
    "collapsed": false,
    "pycharm": {
     "name": "#%%\n"
    }
   }
  },
  {
   "cell_type": "markdown",
   "source": [
    "Create sourceStatus from status column\n",
    "Remove unwanted characters from status and scientific name\n",
    "Create vernacularName\n",
    "Create scientificName\n",
    "Drop 'Scientific name' column"
   ],
   "metadata": {
    "collapsed": false,
    "pycharm": {
     "name": "#%% md\n"
    }
   }
  },
  {
   "cell_type": "code",
   "execution_count": null,
   "outputs": [],
   "source": [
    "data['sourceStatus'] = data['status'].copy()"
   ],
   "metadata": {
    "collapsed": false,
    "pycharm": {
     "name": "#%%\n"
    }
   }
  },
  {
   "cell_type": "code",
   "execution_count": 6,
   "id": "ea8c097e",
   "metadata": {
    "pycharm": {
     "name": "#%%\n"
    }
   },
   "outputs": [],
   "source": [
    "data['status'] = data['status'].str.split('(').str[0]"
   ]
  },
  {
   "cell_type": "code",
   "execution_count": 7,
   "id": "00b66b5c",
   "metadata": {
    "pycharm": {
     "name": "#%%\n"
    }
   },
   "outputs": [],
   "source": [
    "data['vernacularName'] = data['Scientific name'].str.split('\\n').str[1]"
   ]
  },
  {
   "cell_type": "code",
   "execution_count": 8,
   "id": "f109fbe8",
   "metadata": {
    "pycharm": {
     "name": "#%%\n"
    }
   },
   "outputs": [],
   "source": [
    "data['scientificName'] = data['Scientific name'].str.split('\\n').str[0]"
   ]
  },
  {
   "cell_type": "code",
   "execution_count": 9,
   "id": "269535c8",
   "metadata": {
    "pycharm": {
     "name": "#%%\n"
    }
   },
   "outputs": [],
   "source": [
    "data = data.drop(['Scientific name'], axis=1)"
   ]
  },
  {
   "cell_type": "markdown",
   "source": [
    "## Process Fauna"
   ],
   "metadata": {
    "collapsed": false,
    "pycharm": {
     "name": "#%% md\n"
    }
   }
  },
  {
   "cell_type": "code",
   "execution_count": 17,
   "outputs": [],
   "source": [
    "data1 = pd.read_excel(projectDir + sourcedir + \"ntConservationStatusList-Animals.xlsx\")"
   ],
   "metadata": {
    "collapsed": false,
    "pycharm": {
     "name": "#%%\n"
    }
   }
  },
  {
   "cell_type": "code",
   "execution_count": null,
   "outputs": [],
   "source": [
    "# Check datasets size\n",
    "print (\"data is \",data.shape)\n",
    "print (\"data 1 is \",data1.shape)"
   ],
   "metadata": {
    "collapsed": false,
    "pycharm": {
     "name": "#%%\n"
    }
   }
  },
  {
   "cell_type": "code",
   "execution_count": 18,
   "outputs": [
    {
     "data": {
      "text/plain": "array(['Endangered', 'Critically endangered', 'Vulnerable',\n       'Listed nationally but not under NT legislation'], dtype=object)"
     },
     "execution_count": 18,
     "metadata": {},
     "output_type": "execute_result"
    }
   ],
   "source": [
    "data['status'].unique()"
   ],
   "metadata": {
    "collapsed": false,
    "pycharm": {
     "name": "#%%\n"
    }
   }
  },
  {
   "cell_type": "markdown",
   "source": [
    "Fauna dataset requires no modification\n",
    "Concatenate Fauna and Flora datasets"
   ],
   "metadata": {
    "collapsed": false,
    "pycharm": {
     "name": "#%% md\n"
    }
   }
  },
  {
   "cell_type": "code",
   "execution_count": null,
   "outputs": [],
   "source": [
    "result = pd.concat([data, data1])"
   ],
   "metadata": {
    "collapsed": false,
    "pycharm": {
     "name": "#%%\n"
    }
   }
  },
  {
   "cell_type": "code",
   "execution_count": null,
   "outputs": [],
   "source": [
    "## Map statuses\n",
    "state = 'NT'\n",
    "fname = statusDir + state + \"-codes.csv\"\n",
    "result = lf.map_status(state, fname, result)"
   ],
   "metadata": {
    "collapsed": false,
    "pycharm": {
     "name": "#%%\n"
    }
   }
  },
  {
   "cell_type": "code",
   "execution_count": 14,
   "id": "2437c822",
   "metadata": {
    "pycharm": {
     "name": "#%%\n"
    }
   },
   "outputs": [
    {
     "name": "stdout",
     "output_type": "stream",
     "text": [
      "data 1 is  (225, 6)\n"
     ]
    }
   ],
   "source": [
    "print (\"data 1 is \",result.shape)"
   ]
  },
  {
   "cell_type": "code",
   "execution_count": 15,
   "id": "8aee5661",
   "metadata": {
    "pycharm": {
     "name": "#%%\n"
    }
   },
   "outputs": [
    {
     "data": {
      "text/html": [
       "<div>\n",
       "<style scoped>\n",
       "    .dataframe tbody tr th:only-of-type {\n",
       "        vertical-align: middle;\n",
       "    }\n",
       "\n",
       "    .dataframe tbody tr th {\n",
       "        vertical-align: top;\n",
       "    }\n",
       "\n",
       "    .dataframe thead th {\n",
       "        text-align: right;\n",
       "    }\n",
       "</style>\n",
       "<table border=\"1\" class=\"dataframe\">\n",
       "  <thead>\n",
       "    <tr style=\"text-align: right;\">\n",
       "      <th></th>\n",
       "      <th>family</th>\n",
       "      <th>status</th>\n",
       "      <th>sourceStatus</th>\n",
       "      <th>vernacularName</th>\n",
       "      <th>scientificName</th>\n",
       "      <th>taxonRemarks</th>\n",
       "    </tr>\n",
       "  </thead>\n",
       "  <tbody>\n",
       "    <tr>\n",
       "      <th>0</th>\n",
       "      <td>Hymenophyllaceae</td>\n",
       "      <td>Endangered</td>\n",
       "      <td>Endangered</td>\n",
       "      <td>NaN</td>\n",
       "      <td>Abrodictyum obscurum</td>\n",
       "      <td>NaN</td>\n",
       "    </tr>\n",
       "    <tr>\n",
       "      <th>1</th>\n",
       "      <td>Fabaceae</td>\n",
       "      <td>Critically endangered</td>\n",
       "      <td>Critically endangered</td>\n",
       "      <td>NaN</td>\n",
       "      <td>Acacia equisetifolia</td>\n",
       "      <td>NaN</td>\n",
       "    </tr>\n",
       "    <tr>\n",
       "      <th>2</th>\n",
       "      <td>Fabaceae</td>\n",
       "      <td>Vulnerable</td>\n",
       "      <td>Vulnerable</td>\n",
       "      <td>Latz's wattle</td>\n",
       "      <td>Acacia latzii</td>\n",
       "      <td>NaN</td>\n",
       "    </tr>\n",
       "    <tr>\n",
       "      <th>3</th>\n",
       "      <td>Fabaceae</td>\n",
       "      <td>Endangered</td>\n",
       "      <td>Endangered</td>\n",
       "      <td>Waddy-wood</td>\n",
       "      <td>Acacia peuce</td>\n",
       "      <td>NaN</td>\n",
       "    </tr>\n",
       "    <tr>\n",
       "      <th>4</th>\n",
       "      <td>Fabaceae</td>\n",
       "      <td>Listed nationally but not under NT legislation</td>\n",
       "      <td>Listed nationally but not under NT legislation</td>\n",
       "      <td>Birds nest wattle</td>\n",
       "      <td>Acacia pickardii</td>\n",
       "      <td>NaN</td>\n",
       "    </tr>\n",
       "    <tr>\n",
       "      <th>...</th>\n",
       "      <td>...</td>\n",
       "      <td>...</td>\n",
       "      <td>...</td>\n",
       "      <td>...</td>\n",
       "      <td>...</td>\n",
       "      <td>...</td>\n",
       "    </tr>\n",
       "    <tr>\n",
       "      <th>136</th>\n",
       "      <td>NaN</td>\n",
       "      <td>Listed nationally but not under NT legislation</td>\n",
       "      <td>Listed nationally but not under NT legislation</td>\n",
       "      <td>Whale shark</td>\n",
       "      <td>Rhincodon typus</td>\n",
       "      <td>Fish</td>\n",
       "    </tr>\n",
       "    <tr>\n",
       "      <th>137</th>\n",
       "      <td>NaN</td>\n",
       "      <td>Vulnerable</td>\n",
       "      <td>Vulnerable</td>\n",
       "      <td>White-throated grasswren</td>\n",
       "      <td>Amytornis woodwardi</td>\n",
       "      <td>Bird</td>\n",
       "    </tr>\n",
       "    <tr>\n",
       "      <th>138</th>\n",
       "      <td>NaN</td>\n",
       "      <td>Endangered</td>\n",
       "      <td>Endangered</td>\n",
       "      <td>Yellow chat (Alligator Rivers)</td>\n",
       "      <td>Epthianura crocea tunneyi</td>\n",
       "      <td>Bird</td>\n",
       "    </tr>\n",
       "    <tr>\n",
       "      <th>139</th>\n",
       "      <td>NaN</td>\n",
       "      <td>Vulnerable</td>\n",
       "      <td>Vulnerable</td>\n",
       "      <td>Yellow-snouted ground gecko</td>\n",
       "      <td>Lucasium occultum</td>\n",
       "      <td>Reptile</td>\n",
       "    </tr>\n",
       "    <tr>\n",
       "      <th>140</th>\n",
       "      <td>NaN</td>\n",
       "      <td>Vulnerable</td>\n",
       "      <td>Vulnerable</td>\n",
       "      <td>Yellow-spotted monitor</td>\n",
       "      <td>Varanus panoptes</td>\n",
       "      <td>Reptile</td>\n",
       "    </tr>\n",
       "  </tbody>\n",
       "</table>\n",
       "<p>225 rows × 6 columns</p>\n",
       "</div>"
      ],
      "text/plain": [
       "               family                                          status  \\\n",
       "0    Hymenophyllaceae                                      Endangered   \n",
       "1            Fabaceae                           Critically endangered   \n",
       "2            Fabaceae                                      Vulnerable   \n",
       "3            Fabaceae                                      Endangered   \n",
       "4            Fabaceae  Listed nationally but not under NT legislation   \n",
       "..                ...                                             ...   \n",
       "136               NaN  Listed nationally but not under NT legislation   \n",
       "137               NaN                                      Vulnerable   \n",
       "138               NaN                                      Endangered   \n",
       "139               NaN                                      Vulnerable   \n",
       "140               NaN                                      Vulnerable   \n",
       "\n",
       "                                       sourceStatus  \\\n",
       "0                                        Endangered   \n",
       "1                             Critically endangered   \n",
       "2                                        Vulnerable   \n",
       "3                                        Endangered   \n",
       "4    Listed nationally but not under NT legislation   \n",
       "..                                              ...   \n",
       "136  Listed nationally but not under NT legislation   \n",
       "137                                      Vulnerable   \n",
       "138                                      Endangered   \n",
       "139                                      Vulnerable   \n",
       "140                                      Vulnerable   \n",
       "\n",
       "                      vernacularName             scientificName taxonRemarks  \n",
       "0                                NaN       Abrodictyum obscurum          NaN  \n",
       "1                                NaN       Acacia equisetifolia          NaN  \n",
       "2                      Latz's wattle             Acacia latzii           NaN  \n",
       "3                         Waddy-wood               Acacia peuce          NaN  \n",
       "4                  Birds nest wattle           Acacia pickardii          NaN  \n",
       "..                               ...                        ...          ...  \n",
       "136                      Whale shark            Rhincodon typus         Fish  \n",
       "137        White-throated grasswren         Amytornis woodwardi         Bird  \n",
       "138  Yellow chat (Alligator Rivers)   Epthianura crocea tunneyi         Bird  \n",
       "139     Yellow-snouted ground gecko           Lucasium occultum      Reptile  \n",
       "140          Yellow-spotted monitor            Varanus panoptes      Reptile  \n",
       "\n",
       "[225 rows x 6 columns]"
      ]
     },
     "execution_count": 15,
     "metadata": {},
     "output_type": "execute_result"
    }
   ],
   "source": [
    "result"
   ]
  },
  {
   "cell_type": "markdown",
   "source": [
    "Write dataframe to CSV - UTF-8 encoding"
   ],
   "metadata": {
    "collapsed": false,
    "pycharm": {
     "name": "#%% md\n"
    }
   }
  },
  {
   "cell_type": "code",
   "execution_count": null,
   "outputs": [],
   "source": [
    "result.to_csv('/northernTerritoryConservationStatusList.csv',  encoding=\"UTF-8-sig\",index = False)"
   ],
   "metadata": {
    "collapsed": false,
    "pycharm": {
     "name": "#%%\n"
    }
   }
  },
  {
   "cell_type": "code",
   "execution_count": null,
   "outputs": [],
   "source": [
    "## Download and update Sensitive list\n",
    "###Feb 2023 update\n",
    "### So there is only one change required for that ALA list - Candalides geminus has been REMOVED for the NT list."
   ],
   "metadata": {
    "collapsed": false,
    "pycharm": {
     "name": "#%%\n"
    }
   }
  },
  {
   "cell_type": "code",
   "execution_count": 14,
   "outputs": [
    {
     "data": {
      "text/plain": "        id                    name               commonName  \\\n0  2058921        Macroderma gigas                Ghost Bat   \n0  2058928   Hipposideros stenotis  Northern Leaf-nosed Bat   \n0  2058925   Hipposideros inornata    Arnhem Leaf-nosed Bat   \n0  2058920  Pezoporus occidentalis             Night Parrot   \n0  2058926    Polytelis alexandrae       Alexandra's Parrot   \n0  2058929        Falco hypoleucos              Grey Falcon   \n0  2058922       Bellatorias obiri      Arnhem Land Egernia   \n0  2058923           Attacus wardi               Atlas Moth   \n0  2058924      Ogyris iphis doddi             Dodd’s Azure   \n0  2058927      Candalides geminus                     None   \n\n                  scientificName  \\\n0               Macroderma gigas   \n0          Hipposideros stenotis   \n0         Hipposideros inornatus   \n0         Pezoporus occidentalis   \n0           Polytelis alexandrae   \n0  Falco (Hierofalco) hypoleucos   \n0              Bellatorias obiri   \n0                  Attacus wardi   \n0             Ogyris iphis doddi   \n0          Erina geminus geminus   \n\n                                                lsid          vernacular name  \\\n0  https://biodiversity.org.au/afd/taxa/63bc796a-...                Ghost Bat   \n0  https://biodiversity.org.au/afd/taxa/26fe0f53-...  Northern Leaf-nosed bat   \n0  https://biodiversity.org.au/afd/taxa/5d2dab40-...    Arnhem Leaf-nosed Bat   \n0  https://biodiversity.org.au/afd/taxa/c630f3b0-...             Night Parrot   \n0  https://biodiversity.org.au/afd/taxa/be7a08f5-...          Princess Parrot   \n0  https://biodiversity.org.au/afd/taxa/4c73a934-...              Grey Falcon   \n0  https://biodiversity.org.au/afd/taxa/2afc8501-...       Arnhemland Egernia   \n0  https://biodiversity.org.au/afd/taxa/8a05008e-...               Atlas Moth   \n0  https://biodiversity.org.au/afd/taxa/ae3ab4c9-...             Dodd’s Azure   \n0  https://biodiversity.org.au/afd/taxa/14d46baa-...          Twin Dusky-blue   \n\n                     Criteria  \\\n0  cave roost related records   \n0  cave roost related records   \n0  cave roost related records   \n0                         NaN   \n0             nesting records   \n0             nesting records   \n0                         NaN   \n0                         NaN   \n0                         NaN   \n0      eastern sub-population   \n\n                                      Denature level generalisation  \n0  Round coordinate value to 0.05 decimal degrees...           10km  \n0  Round coordinate value to 0.05 decimal degrees...           10km  \n0  Round coordinate value to 0.05 decimal degrees...           10km  \n0  Round coordinate value to 0.5 decimal degrees ...          100km  \n0  Round coordinate value to 0.1 decimal degrees ...           10km  \n0  Round coordinate value to 0.1 decimal degrees ...           10km  \n0  Round coordinate value to 0.1 decimal degrees ...           10km  \n0  Round coordinate value to 0.1 decimal degrees ...           10km  \n0  Round coordinate value to 0.1 decimal degrees ...           10km  \n0  Round coordinate value to 0.1 decimal degrees ...           10km  ",
      "text/html": "<div>\n<style scoped>\n    .dataframe tbody tr th:only-of-type {\n        vertical-align: middle;\n    }\n\n    .dataframe tbody tr th {\n        vertical-align: top;\n    }\n\n    .dataframe thead th {\n        text-align: right;\n    }\n</style>\n<table border=\"1\" class=\"dataframe\">\n  <thead>\n    <tr style=\"text-align: right;\">\n      <th></th>\n      <th>id</th>\n      <th>name</th>\n      <th>commonName</th>\n      <th>scientificName</th>\n      <th>lsid</th>\n      <th>vernacular name</th>\n      <th>Criteria</th>\n      <th>Denature level</th>\n      <th>generalisation</th>\n    </tr>\n  </thead>\n  <tbody>\n    <tr>\n      <th>0</th>\n      <td>2058921</td>\n      <td>Macroderma gigas</td>\n      <td>Ghost Bat</td>\n      <td>Macroderma gigas</td>\n      <td>https://biodiversity.org.au/afd/taxa/63bc796a-...</td>\n      <td>Ghost Bat</td>\n      <td>cave roost related records</td>\n      <td>Round coordinate value to 0.05 decimal degrees...</td>\n      <td>10km</td>\n    </tr>\n    <tr>\n      <th>0</th>\n      <td>2058928</td>\n      <td>Hipposideros stenotis</td>\n      <td>Northern Leaf-nosed Bat</td>\n      <td>Hipposideros stenotis</td>\n      <td>https://biodiversity.org.au/afd/taxa/26fe0f53-...</td>\n      <td>Northern Leaf-nosed bat</td>\n      <td>cave roost related records</td>\n      <td>Round coordinate value to 0.05 decimal degrees...</td>\n      <td>10km</td>\n    </tr>\n    <tr>\n      <th>0</th>\n      <td>2058925</td>\n      <td>Hipposideros inornata</td>\n      <td>Arnhem Leaf-nosed Bat</td>\n      <td>Hipposideros inornatus</td>\n      <td>https://biodiversity.org.au/afd/taxa/5d2dab40-...</td>\n      <td>Arnhem Leaf-nosed Bat</td>\n      <td>cave roost related records</td>\n      <td>Round coordinate value to 0.05 decimal degrees...</td>\n      <td>10km</td>\n    </tr>\n    <tr>\n      <th>0</th>\n      <td>2058920</td>\n      <td>Pezoporus occidentalis</td>\n      <td>Night Parrot</td>\n      <td>Pezoporus occidentalis</td>\n      <td>https://biodiversity.org.au/afd/taxa/c630f3b0-...</td>\n      <td>Night Parrot</td>\n      <td>NaN</td>\n      <td>Round coordinate value to 0.5 decimal degrees ...</td>\n      <td>100km</td>\n    </tr>\n    <tr>\n      <th>0</th>\n      <td>2058926</td>\n      <td>Polytelis alexandrae</td>\n      <td>Alexandra's Parrot</td>\n      <td>Polytelis alexandrae</td>\n      <td>https://biodiversity.org.au/afd/taxa/be7a08f5-...</td>\n      <td>Princess Parrot</td>\n      <td>nesting records</td>\n      <td>Round coordinate value to 0.1 decimal degrees ...</td>\n      <td>10km</td>\n    </tr>\n    <tr>\n      <th>0</th>\n      <td>2058929</td>\n      <td>Falco hypoleucos</td>\n      <td>Grey Falcon</td>\n      <td>Falco (Hierofalco) hypoleucos</td>\n      <td>https://biodiversity.org.au/afd/taxa/4c73a934-...</td>\n      <td>Grey Falcon</td>\n      <td>nesting records</td>\n      <td>Round coordinate value to 0.1 decimal degrees ...</td>\n      <td>10km</td>\n    </tr>\n    <tr>\n      <th>0</th>\n      <td>2058922</td>\n      <td>Bellatorias obiri</td>\n      <td>Arnhem Land Egernia</td>\n      <td>Bellatorias obiri</td>\n      <td>https://biodiversity.org.au/afd/taxa/2afc8501-...</td>\n      <td>Arnhemland Egernia</td>\n      <td>NaN</td>\n      <td>Round coordinate value to 0.1 decimal degrees ...</td>\n      <td>10km</td>\n    </tr>\n    <tr>\n      <th>0</th>\n      <td>2058923</td>\n      <td>Attacus wardi</td>\n      <td>Atlas Moth</td>\n      <td>Attacus wardi</td>\n      <td>https://biodiversity.org.au/afd/taxa/8a05008e-...</td>\n      <td>Atlas Moth</td>\n      <td>NaN</td>\n      <td>Round coordinate value to 0.1 decimal degrees ...</td>\n      <td>10km</td>\n    </tr>\n    <tr>\n      <th>0</th>\n      <td>2058924</td>\n      <td>Ogyris iphis doddi</td>\n      <td>Dodd’s Azure</td>\n      <td>Ogyris iphis doddi</td>\n      <td>https://biodiversity.org.au/afd/taxa/ae3ab4c9-...</td>\n      <td>Dodd’s Azure</td>\n      <td>NaN</td>\n      <td>Round coordinate value to 0.1 decimal degrees ...</td>\n      <td>10km</td>\n    </tr>\n    <tr>\n      <th>0</th>\n      <td>2058927</td>\n      <td>Candalides geminus</td>\n      <td>None</td>\n      <td>Erina geminus geminus</td>\n      <td>https://biodiversity.org.au/afd/taxa/14d46baa-...</td>\n      <td>Twin Dusky-blue</td>\n      <td>eastern sub-population</td>\n      <td>Round coordinate value to 0.1 decimal degrees ...</td>\n      <td>10km</td>\n    </tr>\n  </tbody>\n</table>\n</div>"
     },
     "execution_count": 14,
     "metadata": {},
     "output_type": "execute_result"
    }
   ],
   "source": [
    "\n",
    "sys.path.append(os.path.abspath(projectDir + \"source-code/includes\"))\n",
    "import list_functions as lf\n",
    "\n",
    "prodListUrl = \"https://lists.ala.org.au/ws/speciesListItems/\" + \"dr492\" + \"?max=10000&includeKVP=true\"\n",
    "sensitiveList = lf.download_ala_list(prodListUrl)\n",
    "sensitiveList = lf.kvp_to_columns(sensitiveList)\n",
    "sensitiveList = sensitiveList.drop(['kvpValues', 'dataResourceUid'], axis=1)\n",
    "sensitiveList"
   ],
   "metadata": {
    "collapsed": false,
    "pycharm": {
     "name": "#%%\n"
    }
   }
  },
  {
   "cell_type": "code",
   "execution_count": 15,
   "outputs": [
    {
     "data": {
      "text/plain": "        id                    name               commonName  \\\n0  2058921        Macroderma gigas                Ghost Bat   \n0  2058928   Hipposideros stenotis  Northern Leaf-nosed Bat   \n0  2058925   Hipposideros inornata    Arnhem Leaf-nosed Bat   \n0  2058920  Pezoporus occidentalis             Night Parrot   \n0  2058926    Polytelis alexandrae       Alexandra's Parrot   \n0  2058929        Falco hypoleucos              Grey Falcon   \n0  2058922       Bellatorias obiri      Arnhem Land Egernia   \n0  2058923           Attacus wardi               Atlas Moth   \n0  2058924      Ogyris iphis doddi             Dodd’s Azure   \n\n                  scientificName  \\\n0               Macroderma gigas   \n0          Hipposideros stenotis   \n0         Hipposideros inornatus   \n0         Pezoporus occidentalis   \n0           Polytelis alexandrae   \n0  Falco (Hierofalco) hypoleucos   \n0              Bellatorias obiri   \n0                  Attacus wardi   \n0             Ogyris iphis doddi   \n\n                                                lsid          vernacular name  \\\n0  https://biodiversity.org.au/afd/taxa/63bc796a-...                Ghost Bat   \n0  https://biodiversity.org.au/afd/taxa/26fe0f53-...  Northern Leaf-nosed bat   \n0  https://biodiversity.org.au/afd/taxa/5d2dab40-...    Arnhem Leaf-nosed Bat   \n0  https://biodiversity.org.au/afd/taxa/c630f3b0-...             Night Parrot   \n0  https://biodiversity.org.au/afd/taxa/be7a08f5-...          Princess Parrot   \n0  https://biodiversity.org.au/afd/taxa/4c73a934-...              Grey Falcon   \n0  https://biodiversity.org.au/afd/taxa/2afc8501-...       Arnhemland Egernia   \n0  https://biodiversity.org.au/afd/taxa/8a05008e-...               Atlas Moth   \n0  https://biodiversity.org.au/afd/taxa/ae3ab4c9-...             Dodd’s Azure   \n\n                     Criteria  \\\n0  cave roost related records   \n0  cave roost related records   \n0  cave roost related records   \n0                         NaN   \n0             nesting records   \n0             nesting records   \n0                         NaN   \n0                         NaN   \n0                         NaN   \n\n                                      Denature level generalisation  \n0  Round coordinate value to 0.05 decimal degrees...           10km  \n0  Round coordinate value to 0.05 decimal degrees...           10km  \n0  Round coordinate value to 0.05 decimal degrees...           10km  \n0  Round coordinate value to 0.5 decimal degrees ...          100km  \n0  Round coordinate value to 0.1 decimal degrees ...           10km  \n0  Round coordinate value to 0.1 decimal degrees ...           10km  \n0  Round coordinate value to 0.1 decimal degrees ...           10km  \n0  Round coordinate value to 0.1 decimal degrees ...           10km  \n0  Round coordinate value to 0.1 decimal degrees ...           10km  ",
      "text/html": "<div>\n<style scoped>\n    .dataframe tbody tr th:only-of-type {\n        vertical-align: middle;\n    }\n\n    .dataframe tbody tr th {\n        vertical-align: top;\n    }\n\n    .dataframe thead th {\n        text-align: right;\n    }\n</style>\n<table border=\"1\" class=\"dataframe\">\n  <thead>\n    <tr style=\"text-align: right;\">\n      <th></th>\n      <th>id</th>\n      <th>name</th>\n      <th>commonName</th>\n      <th>scientificName</th>\n      <th>lsid</th>\n      <th>vernacular name</th>\n      <th>Criteria</th>\n      <th>Denature level</th>\n      <th>generalisation</th>\n    </tr>\n  </thead>\n  <tbody>\n    <tr>\n      <th>0</th>\n      <td>2058921</td>\n      <td>Macroderma gigas</td>\n      <td>Ghost Bat</td>\n      <td>Macroderma gigas</td>\n      <td>https://biodiversity.org.au/afd/taxa/63bc796a-...</td>\n      <td>Ghost Bat</td>\n      <td>cave roost related records</td>\n      <td>Round coordinate value to 0.05 decimal degrees...</td>\n      <td>10km</td>\n    </tr>\n    <tr>\n      <th>0</th>\n      <td>2058928</td>\n      <td>Hipposideros stenotis</td>\n      <td>Northern Leaf-nosed Bat</td>\n      <td>Hipposideros stenotis</td>\n      <td>https://biodiversity.org.au/afd/taxa/26fe0f53-...</td>\n      <td>Northern Leaf-nosed bat</td>\n      <td>cave roost related records</td>\n      <td>Round coordinate value to 0.05 decimal degrees...</td>\n      <td>10km</td>\n    </tr>\n    <tr>\n      <th>0</th>\n      <td>2058925</td>\n      <td>Hipposideros inornata</td>\n      <td>Arnhem Leaf-nosed Bat</td>\n      <td>Hipposideros inornatus</td>\n      <td>https://biodiversity.org.au/afd/taxa/5d2dab40-...</td>\n      <td>Arnhem Leaf-nosed Bat</td>\n      <td>cave roost related records</td>\n      <td>Round coordinate value to 0.05 decimal degrees...</td>\n      <td>10km</td>\n    </tr>\n    <tr>\n      <th>0</th>\n      <td>2058920</td>\n      <td>Pezoporus occidentalis</td>\n      <td>Night Parrot</td>\n      <td>Pezoporus occidentalis</td>\n      <td>https://biodiversity.org.au/afd/taxa/c630f3b0-...</td>\n      <td>Night Parrot</td>\n      <td>NaN</td>\n      <td>Round coordinate value to 0.5 decimal degrees ...</td>\n      <td>100km</td>\n    </tr>\n    <tr>\n      <th>0</th>\n      <td>2058926</td>\n      <td>Polytelis alexandrae</td>\n      <td>Alexandra's Parrot</td>\n      <td>Polytelis alexandrae</td>\n      <td>https://biodiversity.org.au/afd/taxa/be7a08f5-...</td>\n      <td>Princess Parrot</td>\n      <td>nesting records</td>\n      <td>Round coordinate value to 0.1 decimal degrees ...</td>\n      <td>10km</td>\n    </tr>\n    <tr>\n      <th>0</th>\n      <td>2058929</td>\n      <td>Falco hypoleucos</td>\n      <td>Grey Falcon</td>\n      <td>Falco (Hierofalco) hypoleucos</td>\n      <td>https://biodiversity.org.au/afd/taxa/4c73a934-...</td>\n      <td>Grey Falcon</td>\n      <td>nesting records</td>\n      <td>Round coordinate value to 0.1 decimal degrees ...</td>\n      <td>10km</td>\n    </tr>\n    <tr>\n      <th>0</th>\n      <td>2058922</td>\n      <td>Bellatorias obiri</td>\n      <td>Arnhem Land Egernia</td>\n      <td>Bellatorias obiri</td>\n      <td>https://biodiversity.org.au/afd/taxa/2afc8501-...</td>\n      <td>Arnhemland Egernia</td>\n      <td>NaN</td>\n      <td>Round coordinate value to 0.1 decimal degrees ...</td>\n      <td>10km</td>\n    </tr>\n    <tr>\n      <th>0</th>\n      <td>2058923</td>\n      <td>Attacus wardi</td>\n      <td>Atlas Moth</td>\n      <td>Attacus wardi</td>\n      <td>https://biodiversity.org.au/afd/taxa/8a05008e-...</td>\n      <td>Atlas Moth</td>\n      <td>NaN</td>\n      <td>Round coordinate value to 0.1 decimal degrees ...</td>\n      <td>10km</td>\n    </tr>\n    <tr>\n      <th>0</th>\n      <td>2058924</td>\n      <td>Ogyris iphis doddi</td>\n      <td>Dodd’s Azure</td>\n      <td>Ogyris iphis doddi</td>\n      <td>https://biodiversity.org.au/afd/taxa/ae3ab4c9-...</td>\n      <td>Dodd’s Azure</td>\n      <td>NaN</td>\n      <td>Round coordinate value to 0.1 decimal degrees ...</td>\n      <td>10km</td>\n    </tr>\n  </tbody>\n</table>\n</div>"
     },
     "execution_count": 15,
     "metadata": {},
     "output_type": "execute_result"
    }
   ],
   "source": [
    "sensitiveList = sensitiveList[sensitiveList.name != 'Candalides geminus']\n",
    "sensitiveList"
   ],
   "metadata": {
    "collapsed": false,
    "pycharm": {
     "name": "#%%\n"
    }
   }
  },
  {
   "cell_type": "code",
   "execution_count": 16,
   "outputs": [
    {
     "name": "stdout",
     "output_type": "stream",
     "text": [
      "Finished processing\n"
     ]
    }
   ],
   "source": [
    "#Write to CSV\n",
    "# conservationList.to_csv(projectDir + cdataDir + \"VIC-conservation.csv\",index=False)\n",
    "sensitiveList.to_csv(projectDir + sdataDir + \"NT-sensitive.csv\",  encoding=\"UTF-8\", index=False)\n",
    "print('Finished processing')\n"
   ],
   "metadata": {
    "collapsed": false,
    "pycharm": {
     "name": "#%%\n"
    }
   }
  },
  {
   "cell_type": "markdown",
   "source": [
    "# Manual List check\n",
    "\n",
    "**Instructions**\n",
    "1. Load the lists above into the lists-test tool\n",
    "2. Check the list name matching score and the text appearance on species pages\n",
    "3. Unskip the below code and Run the reports below to compare to production. Send the changelog.csv to check. Correct any issues.\n",
    "4. Save the production list into the `historical lists` directory by uncommenting the code section below.\n",
    "5. Load the lists into production"
   ],
   "metadata": {
    "collapsed": false,
    "pycharm": {
     "name": "#%% md\n"
    }
   }
  },
  {
   "cell_type": "markdown",
   "source": [
    "### Conservation List - Download old and new and compare"
   ],
   "metadata": {
    "collapsed": false,
    "pycharm": {
     "name": "#%% md\n"
    }
   }
  },
  {
   "cell_type": "code",
   "execution_count": null,
   "outputs": [],
   "source": [
    "# %%script echo skipping # comment this line to run this code\n",
    "\n",
    "import datetime\n",
    "monthStr = datetime.datetime.now().strftime('%Y%m')\n",
    "ltype = \"C\"\n",
    "# conservation\n",
    "filename = \"NT-conservation.csv\"\n",
    "prodListUrl = \"https://lists.ala.org.au/ws/speciesListItems/\" + \"dr651\" + \"?max=10000&includeKVP=true\"\n",
    "testListUrl = \"https://lists-test.ala.org.au/ws/speciesListItems/\" + \"dr651\" + \"?max=10000&includeKVP=true\"\n",
    "changelist = lf.get_changelist(testListUrl, prodListUrl, ltype)\n",
    "# save the lists locally\n",
    "changelist.to_csv(projectDir + \"analysis/change-log/\" + monthStr + \"-\" + filename, encoding=\"UTF-8\", index=False)\n",
    "\n",
    "changelist"
   ],
   "metadata": {
    "collapsed": false,
    "pycharm": {
     "name": "#%%\n"
    }
   }
  },
  {
   "cell_type": "markdown",
   "source": [
    "### Download Production lists to Historical Lists directory"
   ],
   "metadata": {
    "collapsed": false,
    "pycharm": {
     "name": "#%% md\n"
    }
   }
  },
  {
   "cell_type": "code",
   "execution_count": null,
   "outputs": [],
   "source": [
    "%%script echo skipping # comment this line to download the files and save locally\n",
    "prodList = lf.download_ala_list(prodListUrl)  # save the prod list to the historical lists directory\n",
    "prodList = lf.kvp_to_columns(prodList)\n",
    "prodList.to_csv(projectDir + \"historical-lists/conservation/\" + filename, encoding=\"UTF-8\", index=False)\n",
    "print('Finished downloading historical list')"
   ],
   "metadata": {
    "collapsed": false,
    "pycharm": {
     "name": "#%%\n"
    }
   }
  },
  {
   "cell_type": "markdown",
   "source": [
    "### Sensitive List - Download old and new and compare\n"
   ],
   "metadata": {
    "collapsed": false,
    "pycharm": {
     "name": "#%% md\n"
    }
   }
  },
  {
   "cell_type": "code",
   "execution_count": null,
   "outputs": [],
   "source": [
    "%%script echo skipping # comment this line to run this code\n",
    "\n",
    "import datetime\n",
    "monthStr = datetime.datetime.now().strftime('%Y%m')\n",
    "ltype =\"S\"\n",
    "# conservation\n",
    "filename = \"NT-sensitive.csv\"\n",
    "prodListUrl = \"https://lists.ala.org.au/ws/speciesListItems/\" + \"dr492\" + \"?max=10000&includeKVP=true\"\n",
    "testListUrl = \"https://lists-test.ala.org.au/ws/speciesListItems/\" + \"dr18690\" + \"?max=10000&includeKVP=true\"\n",
    "changelist = lf.get_changelist(testListUrl, prodListUrl, ltype)\n",
    "# save the lists locally\n",
    "changelist.to_csv(projectDir + \"analysis/change-log/\" + monthStr + \"-\" + filename, encoding=\"UTF-8\", index=False)\n",
    "changelist"
   ],
   "metadata": {
    "collapsed": false,
    "pycharm": {
     "name": "#%%\n"
    }
   }
  },
  {
   "cell_type": "markdown",
   "source": [
    "### Download Production lists to Historical Lists directory"
   ],
   "metadata": {
    "collapsed": false,
    "pycharm": {
     "name": "#%% md\n"
    }
   }
  },
  {
   "cell_type": "code",
   "execution_count": null,
   "outputs": [],
   "source": [
    "%%script echo skipping # comment this line to download the files and save locally\n",
    "prodList = lf.download_ala_list(prodListUrl)  # save the prod list to the historical lists directory\n",
    "prodList = lf.kvp_to_columns(prodList)\n",
    "prodList.to_csv(projectDir + \"historical-lists/sensitive/\" + filename, encoding=\"UTF-8\", index=False)\n",
    "print('Finished downloading historical list')"
   ],
   "metadata": {
    "collapsed": false,
    "pycharm": {
     "name": "#%%\n"
    }
   }
  }
 ],
 "metadata": {
  "kernelspec": {
   "display_name": "Python 3",
   "language": "python",
   "name": "python3"
  },
  "language_info": {
   "codemirror_mode": {
    "name": "ipython",
    "version": 3
   },
   "file_extension": ".py",
   "mimetype": "text/x-python",
   "name": "python",
   "nbconvert_exporter": "python",
   "pygments_lexer": "ipython3",
   "version": "3.8.8"
  }
 },
 "nbformat": 4,
 "nbformat_minor": 5
}