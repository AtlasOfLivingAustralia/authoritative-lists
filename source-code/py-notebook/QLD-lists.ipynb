{
 "cells": [
  {
   "cell_type": "markdown",
   "metadata": {
    "collapsed": true,
    "pycharm": {
     "name": "#%% md\n"
    }
   },
   "source": [
    "# Update QLD Conservation and Sensitive Lists\n",
    "\n",
    "### Sources\n",
    "Queensland Nature Conservation Act 1992\n",
    "\n",
    "**Conservation**\n",
    "[Metadata - Qld Species (Open Data Portal)](https://www.data.qld.gov.au/dataset/conservation-status-of-queensland-wildlife)\n",
    "[Data](https://apps.des.qld.gov.au/data-sets/wildlife/wildnet/species.csv)\n",
    "\n",
    "**Sensitive**\n",
    "[Metadata - Queensland Confidential Species (Open Data Portal)](https://www.data.qld.gov.au/dataset/queensland-confidential-species)\n",
    "[Data](https://apps.des.qld.gov.au/data-sets/wildlife/wildnet/qld-confidential-species.csv)\n",
    "\n",
    "**Codes**\n",
    "[Metadata - Qld Species codes](https://www.data.qld.gov.au/dataset/conservation-status-of-queensland-wildlife/resource/6344ea93-cadf-4e0c-9ff4-12dfb18d5f14)\n",
    "[Data](https://apps.des.qld.gov.au/data-sets/wildlife/wildnet/species-status-codes.csv)"
   ]
  },
  {
   "cell_type": "code",
   "execution_count": 94,
   "outputs": [],
   "source": [
    "# import essential libraries\n",
    "import pandas as pd\n",
    "import numpy as np\n",
    "\n",
    "# top level directory\n",
    "projectdir = \"/Users/new330/IdeaProjects/authoritative-lists/\""
   ],
   "metadata": {
    "collapsed": false,
    "pycharm": {
     "name": "#%%\n"
    }
   }
  },
  {
   "cell_type": "markdown",
   "source": [
    " ## Conservation List"
   ],
   "metadata": {
    "collapsed": false,
    "pycharm": {
     "name": "#%% md\n"
    }
   }
  },
  {
   "cell_type": "markdown",
   "source": [
    "Firstly, some minimal changes to some Qld Nature Conservation Act codes so that they are consistent with other states"
   ],
   "metadata": {
    "collapsed": false,
    "pycharm": {
     "name": "#%% md\n"
    }
   }
  },
  {
   "cell_type": "code",
   "execution_count": 95,
   "outputs": [
    {
     "data": {
      "text/plain": "   Code       Code_description\n17    C          Least concern\n18   CR  Critically Endangered\n19    E             Endangered\n20   EX                Extinct\n21   NT        Near Threatened\n22   PE    Extinct in the wild\n23   SL  Special least concern\n24    V             Vulnerable\n25    I          International",
      "text/html": "<div>\n<style scoped>\n    .dataframe tbody tr th:only-of-type {\n        vertical-align: middle;\n    }\n\n    .dataframe tbody tr th {\n        vertical-align: top;\n    }\n\n    .dataframe thead th {\n        text-align: right;\n    }\n</style>\n<table border=\"1\" class=\"dataframe\">\n  <thead>\n    <tr style=\"text-align: right;\">\n      <th></th>\n      <th>Code</th>\n      <th>Code_description</th>\n    </tr>\n  </thead>\n  <tbody>\n    <tr>\n      <th>17</th>\n      <td>C</td>\n      <td>Least concern</td>\n    </tr>\n    <tr>\n      <th>18</th>\n      <td>CR</td>\n      <td>Critically Endangered</td>\n    </tr>\n    <tr>\n      <th>19</th>\n      <td>E</td>\n      <td>Endangered</td>\n    </tr>\n    <tr>\n      <th>20</th>\n      <td>EX</td>\n      <td>Extinct</td>\n    </tr>\n    <tr>\n      <th>21</th>\n      <td>NT</td>\n      <td>Near Threatened</td>\n    </tr>\n    <tr>\n      <th>22</th>\n      <td>PE</td>\n      <td>Extinct in the wild</td>\n    </tr>\n    <tr>\n      <th>23</th>\n      <td>SL</td>\n      <td>Special least concern</td>\n    </tr>\n    <tr>\n      <th>24</th>\n      <td>V</td>\n      <td>Vulnerable</td>\n    </tr>\n    <tr>\n      <th>25</th>\n      <td>I</td>\n      <td>International</td>\n    </tr>\n  </tbody>\n</table>\n</div>"
     },
     "execution_count": 95,
     "metadata": {},
     "output_type": "execute_result"
    }
   ],
   "source": [
    "speciescodes = pd.read_csv(projectdir + \"source-data/QLD/species-status-codes.csv\",encoding='cp1252')\n",
    "ncastatuscodes = speciescodes[speciescodes['Field'] == \"NCA_status\"][['Code','Code_description']]\n",
    "ncastatuscodes['Code_description'] = ncastatuscodes['Code_description'].str.replace(\" wildlife\",\"\")\n",
    "ncastatuscodes.loc[ncastatuscodes['Code_description'] == \"Critically endangered\",'Code_description'] = \"Critically Endangered\"\n",
    "ncastatuscodes.loc[ncastatuscodes['Code_description'] == \"Near threatened\",'Code_description'] = \"Near Threatened\"\n",
    "ncastatuscodes\n",
    "#rawconfidentiallist = pd.read_csv(projectdir + \"source-data/QLD/qld-confidential-species.csv\")\n",
    "#rawconfidentiallist"
   ],
   "metadata": {
    "collapsed": false,
    "pycharm": {
     "name": "#%%\n"
    }
   }
  },
  {
   "cell_type": "markdown",
   "source": [
    "Read in the Conservation list and join to get the code descriptions. Change the field names to `sourceStatus` and `status` as required by the ALA's conservation list processing."
   ],
   "metadata": {
    "collapsed": false,
    "pycharm": {
     "name": "#%% md\n"
    }
   }
  },
  {
   "cell_type": "code",
   "execution_count": 96,
   "outputs": [
    {
     "data": {
      "text/plain": "       Taxon_Id     Kingdom        Class           Family  \\\n0           706     animals   amphibians  Limnodynastidae   \n1           690     animals   amphibians  Limnodynastidae   \n2           677     animals   amphibians  Limnodynastidae   \n3           678     animals   amphibians  Limnodynastidae   \n4           679     animals   amphibians  Limnodynastidae   \n...         ...         ...          ...              ...   \n21798     25858  protozoans  slime molds      Physaraceae   \n21799     34854  protozoans  slime molds  Stemonitidaceae   \n21800     27732  protozoans  slime molds  Stemonitidaceae   \n21801     41204  protozoans  slime molds       Trichiidae   \n21802     34033  protozoans  slime molds     Tubiferaceae   \n\n                    Scientific_name              Common_name  \\\n0                   Adelotus brevis              tusked frog   \n1              Lechriodus fletcheri         black soled frog   \n2      Limnodynastes convexiusculus             marbled frog   \n3           Limnodynastes dumerilii  grey bellied pobblebonk   \n4           Limnodynastes fletcheri             barking frog   \n...                             ...                      ...   \n21798                Fuligo septica                      NaN   \n21799          Comatricha pulchella                      NaN   \n21800          Stemonitis splendens                      NaN   \n21801           Hemitrichia serpula                      NaN   \n21802           Lycogala epidendrum                      NaN   \n\n            Taxon_author sourceStatus EPBC_status Significant Confidential  \\\n0        (Günther, 1863)            V         NaN           Y            N   \n1      (Boulenger, 1890)            C         NaN           N            N   \n2        (MacLeay, 1877)            C         NaN           N            N   \n3           Peters, 1863            C         NaN           N            N   \n4        Boulenger, 1888            C         NaN           N            N   \n...                  ...          ...         ...         ...          ...   \n21798     (L.) F.H.Wigg.            C         NaN           N            N   \n21799     (Bab.) Rostaf.            C         NaN           N            N   \n21800            Rostaf.            C         NaN           N            N   \n21801    (Scop.) Rostaf.            C         NaN           N            N   \n21802           (L.) Fr.            C         NaN           N            N   \n\n      Endemicity         status  \n0             QA     Vulnerable  \n1             QA  Least concern  \n2            QAI  Least concern  \n3             QA  Least concern  \n4             QA  Least concern  \n...          ...            ...  \n21798          Q  Least concern  \n21799          Q  Least concern  \n21800          Q  Least concern  \n21801          Q  Least concern  \n21802          Q  Least concern  \n\n[21803 rows x 13 columns]",
      "text/html": "<div>\n<style scoped>\n    .dataframe tbody tr th:only-of-type {\n        vertical-align: middle;\n    }\n\n    .dataframe tbody tr th {\n        vertical-align: top;\n    }\n\n    .dataframe thead th {\n        text-align: right;\n    }\n</style>\n<table border=\"1\" class=\"dataframe\">\n  <thead>\n    <tr style=\"text-align: right;\">\n      <th></th>\n      <th>Taxon_Id</th>\n      <th>Kingdom</th>\n      <th>Class</th>\n      <th>Family</th>\n      <th>Scientific_name</th>\n      <th>Common_name</th>\n      <th>Taxon_author</th>\n      <th>sourceStatus</th>\n      <th>EPBC_status</th>\n      <th>Significant</th>\n      <th>Confidential</th>\n      <th>Endemicity</th>\n      <th>status</th>\n    </tr>\n  </thead>\n  <tbody>\n    <tr>\n      <th>0</th>\n      <td>706</td>\n      <td>animals</td>\n      <td>amphibians</td>\n      <td>Limnodynastidae</td>\n      <td>Adelotus brevis</td>\n      <td>tusked frog</td>\n      <td>(Günther, 1863)</td>\n      <td>V</td>\n      <td>NaN</td>\n      <td>Y</td>\n      <td>N</td>\n      <td>QA</td>\n      <td>Vulnerable</td>\n    </tr>\n    <tr>\n      <th>1</th>\n      <td>690</td>\n      <td>animals</td>\n      <td>amphibians</td>\n      <td>Limnodynastidae</td>\n      <td>Lechriodus fletcheri</td>\n      <td>black soled frog</td>\n      <td>(Boulenger, 1890)</td>\n      <td>C</td>\n      <td>NaN</td>\n      <td>N</td>\n      <td>N</td>\n      <td>QA</td>\n      <td>Least concern</td>\n    </tr>\n    <tr>\n      <th>2</th>\n      <td>677</td>\n      <td>animals</td>\n      <td>amphibians</td>\n      <td>Limnodynastidae</td>\n      <td>Limnodynastes convexiusculus</td>\n      <td>marbled frog</td>\n      <td>(MacLeay, 1877)</td>\n      <td>C</td>\n      <td>NaN</td>\n      <td>N</td>\n      <td>N</td>\n      <td>QAI</td>\n      <td>Least concern</td>\n    </tr>\n    <tr>\n      <th>3</th>\n      <td>678</td>\n      <td>animals</td>\n      <td>amphibians</td>\n      <td>Limnodynastidae</td>\n      <td>Limnodynastes dumerilii</td>\n      <td>grey bellied pobblebonk</td>\n      <td>Peters, 1863</td>\n      <td>C</td>\n      <td>NaN</td>\n      <td>N</td>\n      <td>N</td>\n      <td>QA</td>\n      <td>Least concern</td>\n    </tr>\n    <tr>\n      <th>4</th>\n      <td>679</td>\n      <td>animals</td>\n      <td>amphibians</td>\n      <td>Limnodynastidae</td>\n      <td>Limnodynastes fletcheri</td>\n      <td>barking frog</td>\n      <td>Boulenger, 1888</td>\n      <td>C</td>\n      <td>NaN</td>\n      <td>N</td>\n      <td>N</td>\n      <td>QA</td>\n      <td>Least concern</td>\n    </tr>\n    <tr>\n      <th>...</th>\n      <td>...</td>\n      <td>...</td>\n      <td>...</td>\n      <td>...</td>\n      <td>...</td>\n      <td>...</td>\n      <td>...</td>\n      <td>...</td>\n      <td>...</td>\n      <td>...</td>\n      <td>...</td>\n      <td>...</td>\n      <td>...</td>\n    </tr>\n    <tr>\n      <th>21798</th>\n      <td>25858</td>\n      <td>protozoans</td>\n      <td>slime molds</td>\n      <td>Physaraceae</td>\n      <td>Fuligo septica</td>\n      <td>NaN</td>\n      <td>(L.) F.H.Wigg.</td>\n      <td>C</td>\n      <td>NaN</td>\n      <td>N</td>\n      <td>N</td>\n      <td>Q</td>\n      <td>Least concern</td>\n    </tr>\n    <tr>\n      <th>21799</th>\n      <td>34854</td>\n      <td>protozoans</td>\n      <td>slime molds</td>\n      <td>Stemonitidaceae</td>\n      <td>Comatricha pulchella</td>\n      <td>NaN</td>\n      <td>(Bab.) Rostaf.</td>\n      <td>C</td>\n      <td>NaN</td>\n      <td>N</td>\n      <td>N</td>\n      <td>Q</td>\n      <td>Least concern</td>\n    </tr>\n    <tr>\n      <th>21800</th>\n      <td>27732</td>\n      <td>protozoans</td>\n      <td>slime molds</td>\n      <td>Stemonitidaceae</td>\n      <td>Stemonitis splendens</td>\n      <td>NaN</td>\n      <td>Rostaf.</td>\n      <td>C</td>\n      <td>NaN</td>\n      <td>N</td>\n      <td>N</td>\n      <td>Q</td>\n      <td>Least concern</td>\n    </tr>\n    <tr>\n      <th>21801</th>\n      <td>41204</td>\n      <td>protozoans</td>\n      <td>slime molds</td>\n      <td>Trichiidae</td>\n      <td>Hemitrichia serpula</td>\n      <td>NaN</td>\n      <td>(Scop.) Rostaf.</td>\n      <td>C</td>\n      <td>NaN</td>\n      <td>N</td>\n      <td>N</td>\n      <td>Q</td>\n      <td>Least concern</td>\n    </tr>\n    <tr>\n      <th>21802</th>\n      <td>34033</td>\n      <td>protozoans</td>\n      <td>slime molds</td>\n      <td>Tubiferaceae</td>\n      <td>Lycogala epidendrum</td>\n      <td>NaN</td>\n      <td>(L.) Fr.</td>\n      <td>C</td>\n      <td>NaN</td>\n      <td>N</td>\n      <td>N</td>\n      <td>Q</td>\n      <td>Least concern</td>\n    </tr>\n  </tbody>\n</table>\n<p>21803 rows × 13 columns</p>\n</div>"
     },
     "execution_count": 96,
     "metadata": {},
     "output_type": "execute_result"
    }
   ],
   "source": [
    "conservationlist = pd.read_csv(projectdir + \"source-data/QLD/species.csv\",encoding='cp1252')\n",
    "conservationlist = pd.merge(conservationlist,ncastatuscodes,left_on=['NCA_status'],right_on=['Code'],how=\"left\")\n",
    "conservationlist.drop(['Code'],axis=1,inplace=True)\n",
    "conservationlist = conservationlist.rename(columns={'NCA_status':'sourceStatus','Code_description':'status'})\n",
    "conservationlist"
   ],
   "metadata": {
    "collapsed": false,
    "pycharm": {
     "name": "#%%\n"
    }
   }
  },
  {
   "cell_type": "code",
   "execution_count": 97,
   "outputs": [
    {
     "data": {
      "text/plain": "   Code                                Code_description\n0    IA         Naturalised from elsewhere in Australia\n1    II                       Naturalised from overseas\n2    IU        Naturalised species - origin not defined\n3     Q                              Queensland endemic\n4    QA                              Australian endemic\n5   QAI      Naturally occurs in Australia and overseas\n6    QI     Naturally occurs in Queensland and overseas\n7     U  Native to Queensland - endemicity not defined \n8    VA                              Australian vagrant\n9    VI                           International vagrant\n10   VU                    Vagrant - origin not defined",
      "text/html": "<div>\n<style scoped>\n    .dataframe tbody tr th:only-of-type {\n        vertical-align: middle;\n    }\n\n    .dataframe tbody tr th {\n        vertical-align: top;\n    }\n\n    .dataframe thead th {\n        text-align: right;\n    }\n</style>\n<table border=\"1\" class=\"dataframe\">\n  <thead>\n    <tr style=\"text-align: right;\">\n      <th></th>\n      <th>Code</th>\n      <th>Code_description</th>\n    </tr>\n  </thead>\n  <tbody>\n    <tr>\n      <th>0</th>\n      <td>IA</td>\n      <td>Naturalised from elsewhere in Australia</td>\n    </tr>\n    <tr>\n      <th>1</th>\n      <td>II</td>\n      <td>Naturalised from overseas</td>\n    </tr>\n    <tr>\n      <th>2</th>\n      <td>IU</td>\n      <td>Naturalised species - origin not defined</td>\n    </tr>\n    <tr>\n      <th>3</th>\n      <td>Q</td>\n      <td>Queensland endemic</td>\n    </tr>\n    <tr>\n      <th>4</th>\n      <td>QA</td>\n      <td>Australian endemic</td>\n    </tr>\n    <tr>\n      <th>5</th>\n      <td>QAI</td>\n      <td>Naturally occurs in Australia and overseas</td>\n    </tr>\n    <tr>\n      <th>6</th>\n      <td>QI</td>\n      <td>Naturally occurs in Queensland and overseas</td>\n    </tr>\n    <tr>\n      <th>7</th>\n      <td>U</td>\n      <td>Native to Queensland - endemicity not defined</td>\n    </tr>\n    <tr>\n      <th>8</th>\n      <td>VA</td>\n      <td>Australian vagrant</td>\n    </tr>\n    <tr>\n      <th>9</th>\n      <td>VI</td>\n      <td>International vagrant</td>\n    </tr>\n    <tr>\n      <th>10</th>\n      <td>VU</td>\n      <td>Vagrant - origin not defined</td>\n    </tr>\n  </tbody>\n</table>\n</div>"
     },
     "execution_count": 97,
     "metadata": {},
     "output_type": "execute_result"
    }
   ],
   "source": [
    "endemicitycodes = speciescodes[speciescodes['Field'] == \"Endemicity\"][['Code','Code_description']]\n",
    "endemicitycodes"
   ],
   "metadata": {
    "collapsed": false,
    "pycharm": {
     "name": "#%%\n"
    }
   }
  },
  {
   "cell_type": "code",
   "execution_count": 98,
   "outputs": [
    {
     "data": {
      "text/plain": "       Taxon_Id     Kingdom        Class           Family  \\\n0           706     animals   amphibians  Limnodynastidae   \n1           690     animals   amphibians  Limnodynastidae   \n2           677     animals   amphibians  Limnodynastidae   \n3           678     animals   amphibians  Limnodynastidae   \n4           679     animals   amphibians  Limnodynastidae   \n...         ...         ...          ...              ...   \n21798     25858  protozoans  slime molds      Physaraceae   \n21799     34854  protozoans  slime molds  Stemonitidaceae   \n21800     27732  protozoans  slime molds  Stemonitidaceae   \n21801     41204  protozoans  slime molds       Trichiidae   \n21802     34033  protozoans  slime molds     Tubiferaceae   \n\n                    Scientific_name              Common_name  \\\n0                   Adelotus brevis              tusked frog   \n1              Lechriodus fletcheri         black soled frog   \n2      Limnodynastes convexiusculus             marbled frog   \n3           Limnodynastes dumerilii  grey bellied pobblebonk   \n4           Limnodynastes fletcheri             barking frog   \n...                             ...                      ...   \n21798                Fuligo septica                      NaN   \n21799          Comatricha pulchella                      NaN   \n21800          Stemonitis splendens                      NaN   \n21801           Hemitrichia serpula                      NaN   \n21802           Lycogala epidendrum                      NaN   \n\n            Taxon_author sourceStatus EPBC_status Significant Confidential  \\\n0        (Günther, 1863)            V         NaN           Y            N   \n1      (Boulenger, 1890)            C         NaN           N            N   \n2        (MacLeay, 1877)            C         NaN           N            N   \n3           Peters, 1863            C         NaN           N            N   \n4        Boulenger, 1888            C         NaN           N            N   \n...                  ...          ...         ...         ...          ...   \n21798     (L.) F.H.Wigg.            C         NaN           N            N   \n21799     (Bab.) Rostaf.            C         NaN           N            N   \n21800            Rostaf.            C         NaN           N            N   \n21801    (Scop.) Rostaf.            C         NaN           N            N   \n21802           (L.) Fr.            C         NaN           N            N   \n\n      Endemicity         status                      Endemicity_description  \n0             QA     Vulnerable                          Australian endemic  \n1             QA  Least concern                          Australian endemic  \n2            QAI  Least concern  Naturally occurs in Australia and overseas  \n3             QA  Least concern                          Australian endemic  \n4             QA  Least concern                          Australian endemic  \n...          ...            ...                                         ...  \n21798          Q  Least concern                          Queensland endemic  \n21799          Q  Least concern                          Queensland endemic  \n21800          Q  Least concern                          Queensland endemic  \n21801          Q  Least concern                          Queensland endemic  \n21802          Q  Least concern                          Queensland endemic  \n\n[21803 rows x 14 columns]",
      "text/html": "<div>\n<style scoped>\n    .dataframe tbody tr th:only-of-type {\n        vertical-align: middle;\n    }\n\n    .dataframe tbody tr th {\n        vertical-align: top;\n    }\n\n    .dataframe thead th {\n        text-align: right;\n    }\n</style>\n<table border=\"1\" class=\"dataframe\">\n  <thead>\n    <tr style=\"text-align: right;\">\n      <th></th>\n      <th>Taxon_Id</th>\n      <th>Kingdom</th>\n      <th>Class</th>\n      <th>Family</th>\n      <th>Scientific_name</th>\n      <th>Common_name</th>\n      <th>Taxon_author</th>\n      <th>sourceStatus</th>\n      <th>EPBC_status</th>\n      <th>Significant</th>\n      <th>Confidential</th>\n      <th>Endemicity</th>\n      <th>status</th>\n      <th>Endemicity_description</th>\n    </tr>\n  </thead>\n  <tbody>\n    <tr>\n      <th>0</th>\n      <td>706</td>\n      <td>animals</td>\n      <td>amphibians</td>\n      <td>Limnodynastidae</td>\n      <td>Adelotus brevis</td>\n      <td>tusked frog</td>\n      <td>(Günther, 1863)</td>\n      <td>V</td>\n      <td>NaN</td>\n      <td>Y</td>\n      <td>N</td>\n      <td>QA</td>\n      <td>Vulnerable</td>\n      <td>Australian endemic</td>\n    </tr>\n    <tr>\n      <th>1</th>\n      <td>690</td>\n      <td>animals</td>\n      <td>amphibians</td>\n      <td>Limnodynastidae</td>\n      <td>Lechriodus fletcheri</td>\n      <td>black soled frog</td>\n      <td>(Boulenger, 1890)</td>\n      <td>C</td>\n      <td>NaN</td>\n      <td>N</td>\n      <td>N</td>\n      <td>QA</td>\n      <td>Least concern</td>\n      <td>Australian endemic</td>\n    </tr>\n    <tr>\n      <th>2</th>\n      <td>677</td>\n      <td>animals</td>\n      <td>amphibians</td>\n      <td>Limnodynastidae</td>\n      <td>Limnodynastes convexiusculus</td>\n      <td>marbled frog</td>\n      <td>(MacLeay, 1877)</td>\n      <td>C</td>\n      <td>NaN</td>\n      <td>N</td>\n      <td>N</td>\n      <td>QAI</td>\n      <td>Least concern</td>\n      <td>Naturally occurs in Australia and overseas</td>\n    </tr>\n    <tr>\n      <th>3</th>\n      <td>678</td>\n      <td>animals</td>\n      <td>amphibians</td>\n      <td>Limnodynastidae</td>\n      <td>Limnodynastes dumerilii</td>\n      <td>grey bellied pobblebonk</td>\n      <td>Peters, 1863</td>\n      <td>C</td>\n      <td>NaN</td>\n      <td>N</td>\n      <td>N</td>\n      <td>QA</td>\n      <td>Least concern</td>\n      <td>Australian endemic</td>\n    </tr>\n    <tr>\n      <th>4</th>\n      <td>679</td>\n      <td>animals</td>\n      <td>amphibians</td>\n      <td>Limnodynastidae</td>\n      <td>Limnodynastes fletcheri</td>\n      <td>barking frog</td>\n      <td>Boulenger, 1888</td>\n      <td>C</td>\n      <td>NaN</td>\n      <td>N</td>\n      <td>N</td>\n      <td>QA</td>\n      <td>Least concern</td>\n      <td>Australian endemic</td>\n    </tr>\n    <tr>\n      <th>...</th>\n      <td>...</td>\n      <td>...</td>\n      <td>...</td>\n      <td>...</td>\n      <td>...</td>\n      <td>...</td>\n      <td>...</td>\n      <td>...</td>\n      <td>...</td>\n      <td>...</td>\n      <td>...</td>\n      <td>...</td>\n      <td>...</td>\n      <td>...</td>\n    </tr>\n    <tr>\n      <th>21798</th>\n      <td>25858</td>\n      <td>protozoans</td>\n      <td>slime molds</td>\n      <td>Physaraceae</td>\n      <td>Fuligo septica</td>\n      <td>NaN</td>\n      <td>(L.) F.H.Wigg.</td>\n      <td>C</td>\n      <td>NaN</td>\n      <td>N</td>\n      <td>N</td>\n      <td>Q</td>\n      <td>Least concern</td>\n      <td>Queensland endemic</td>\n    </tr>\n    <tr>\n      <th>21799</th>\n      <td>34854</td>\n      <td>protozoans</td>\n      <td>slime molds</td>\n      <td>Stemonitidaceae</td>\n      <td>Comatricha pulchella</td>\n      <td>NaN</td>\n      <td>(Bab.) Rostaf.</td>\n      <td>C</td>\n      <td>NaN</td>\n      <td>N</td>\n      <td>N</td>\n      <td>Q</td>\n      <td>Least concern</td>\n      <td>Queensland endemic</td>\n    </tr>\n    <tr>\n      <th>21800</th>\n      <td>27732</td>\n      <td>protozoans</td>\n      <td>slime molds</td>\n      <td>Stemonitidaceae</td>\n      <td>Stemonitis splendens</td>\n      <td>NaN</td>\n      <td>Rostaf.</td>\n      <td>C</td>\n      <td>NaN</td>\n      <td>N</td>\n      <td>N</td>\n      <td>Q</td>\n      <td>Least concern</td>\n      <td>Queensland endemic</td>\n    </tr>\n    <tr>\n      <th>21801</th>\n      <td>41204</td>\n      <td>protozoans</td>\n      <td>slime molds</td>\n      <td>Trichiidae</td>\n      <td>Hemitrichia serpula</td>\n      <td>NaN</td>\n      <td>(Scop.) Rostaf.</td>\n      <td>C</td>\n      <td>NaN</td>\n      <td>N</td>\n      <td>N</td>\n      <td>Q</td>\n      <td>Least concern</td>\n      <td>Queensland endemic</td>\n    </tr>\n    <tr>\n      <th>21802</th>\n      <td>34033</td>\n      <td>protozoans</td>\n      <td>slime molds</td>\n      <td>Tubiferaceae</td>\n      <td>Lycogala epidendrum</td>\n      <td>NaN</td>\n      <td>(L.) Fr.</td>\n      <td>C</td>\n      <td>NaN</td>\n      <td>N</td>\n      <td>N</td>\n      <td>Q</td>\n      <td>Least concern</td>\n      <td>Queensland endemic</td>\n    </tr>\n  </tbody>\n</table>\n<p>21803 rows × 14 columns</p>\n</div>"
     },
     "execution_count": 98,
     "metadata": {},
     "output_type": "execute_result"
    }
   ],
   "source": [
    "# expand endemicity\n",
    "endemicitycodes = speciescodes[speciescodes['Field'] == \"Endemicity\"][['Code','Code_description']]\n",
    "conservationlist = pd.merge(conservationlist,endemicitycodes,left_on=['Endemicity'],right_on=['Code'],how=\"left\")\n",
    "conservationlist.drop(['Code'],axis=1,inplace=True)\n",
    "conservationlist = conservationlist.rename(columns={'Code_description':'Endemicity_description'})\n",
    "conservationlist"
   ],
   "metadata": {
    "collapsed": false,
    "pycharm": {
     "name": "#%%\n"
    }
   }
  },
  {
   "cell_type": "code",
   "execution_count": 99,
   "outputs": [],
   "source": [
    "#expand ebpc codes\n",
    "epbccodes = speciescodes[speciescodes['Field'] == \"EPBC_status\"][['Code','Code_description']]\n",
    "conservationlist = pd.merge(conservationlist,epbccodes,left_on=['EPBC_status'],right_on=['Code'],how=\"left\")\n",
    "conservationlist.drop(['Code'],axis=1,inplace=True)\n",
    "conservationlist = conservationlist.rename(columns={'Code_description':'EPBC_status_description'})\n",
    "conservationlist.drop(['EPBC_status'],axis=1,inplace=True)"
   ],
   "metadata": {
    "collapsed": false,
    "pycharm": {
     "name": "#%%\n"
    }
   }
  },
  {
   "cell_type": "markdown",
   "source": [
    "**Species without a status**"
   ],
   "metadata": {
    "collapsed": false,
    "pycharm": {
     "name": "#%% md\n"
    }
   }
  },
  {
   "cell_type": "code",
   "execution_count": 100,
   "outputs": [
    {
     "data": {
      "text/plain": "Class                 Endemicity_description                        \nAgaricomycetes        Native to Queensland - endemicity not defined        3\n                      Naturalised species - origin not defined             2\n                      Queensland endemic                                   1\namphibians            Naturalised from overseas                            1\narachnids             Queensland endemic                                   1\nbirds                 International vagrant                                2\n                      Naturalised from overseas                           14\nbivalves              Native to Queensland - endemicity not defined        2\n                      Naturally occurs in Australia and overseas           2\nbranchiopods          Australian endemic                                   1\n                      Queensland endemic                                   1\ncartilaginous fishes  Australian endemic                                  15\n                      Native to Queensland - endemicity not defined       80\n                      Naturalised from elsewhere in Australia              1\n                      Naturally occurs in Australia and overseas          71\n                      Queensland endemic                                   4\neurotiomycetes        Australian endemic                                   1\n                      Queensland endemic                                   1\ngreen algae           Native to Queensland - endemicity not defined        1\ninsects               Australian endemic                                 292\n                      International vagrant                                2\n                      Native to Queensland - endemicity not defined       45\n                      Naturalised from overseas                           22\n                      Naturally occurs in Australia and overseas         177\n                      Naturally occurs in Queensland and overseas         37\n                      Queensland endemic                                 172\nlampreys              Australian endemic                                   1\nland plants           Australian endemic                                  18\n                      Native to Queensland - endemicity not defined       38\n                      Naturalised from elsewhere in Australia              1\n                      Naturalised from overseas                           22\n                      Naturalised species - origin not defined          1491\n                      Naturally occurs in Australia and overseas           4\n                      Naturally occurs in Queensland and overseas          1\n                      Queensland endemic                                  29\nlecanoromycetes       Queensland endemic                                   1\nlobe-finned fishes    Queensland endemic                                   1\nmalacostracans        Australian endemic                                  10\n                      Native to Queensland - endemicity not defined        2\n                      Naturally occurs in Australia and overseas           1\n                      Queensland endemic                                  33\nmammals               Australian endemic                                   1\n                      Naturalised from overseas                           19\nmaxillopods           Native to Queensland - endemicity not defined        1\n                      Naturally occurs in Australia and overseas           1\nray-finned fishes     Australian endemic                                  72\n                      International vagrant                                2\n                      Native to Queensland - endemicity not defined       78\n                      Naturalised from overseas                           29\n                      Naturally occurs in Australia and overseas         121\n                      Naturally occurs in Queensland and overseas         38\n                      Queensland endemic                                  20\nreptiles              Naturalised from overseas                            5\nsnails                Australian endemic                                   3\n                      Native to Queensland - endemicity not defined       24\n                      Naturally occurs in Australia and overseas          21\n                      Queensland endemic                                  12\ndtype: int64"
     },
     "execution_count": 100,
     "metadata": {},
     "output_type": "execute_result"
    }
   ],
   "source": [
    "# any without a status?\n",
    "conservationlist[conservationlist['status'].isna()].groupby([\"Class\",\"Endemicity_description\"]).size()"
   ],
   "metadata": {
    "collapsed": false,
    "pycharm": {
     "name": "#%%\n"
    }
   }
  },
  {
   "cell_type": "markdown",
   "source": [
    "**Tidy up**\n",
    "* rename fields to Darwin Core\n",
    "* remove records with no status or Least Concern\n",
    "* replace kingdom/class values with scientific names"
   ],
   "metadata": {
    "collapsed": false,
    "pycharm": {
     "name": "#%% md\n"
    }
   }
  },
  {
   "cell_type": "code",
   "execution_count": 101,
   "outputs": [
    {
     "data": {
      "text/plain": "kingdom   class         \nAnimalia  Actinopterygii       9\n          Amphibia            41\n          Aves               153\n          Chondrichthyes       2\n          Gastropoda           3\n          Insecta              8\n          Malacostraca        10\n          Mammalia            67\n          Reptilia            71\nPlantae   Charophyceae         1\n          Equisetopsida     1860\ndtype: int64"
     },
     "execution_count": 101,
     "metadata": {},
     "output_type": "execute_result"
    }
   ],
   "source": [
    "conservationlist = conservationlist.rename(columns=\n",
    "{\n",
    "    'Taxon_Id':'taxonID',\n",
    "    'Kingdom':'kingdom',\n",
    "    'Class':'class',\n",
    "    'Family':'family',\n",
    "    'Scientific_name':'scientificName',\n",
    "    'Common_name': 'vernacularName',\n",
    "    'Taxon_author':'scientificNameAuthorship',\n",
    "    'NCA_status':'sourceStatus',\n",
    "    'EPBC_status_description':'epbcStatus',\n",
    "    'Endemicity_description':'endemicity',\n",
    "    'Significant':'significant',\n",
    "    'Confidential':'confidential'\n",
    "})\n",
    "# remove empty or Least Concern status records\n",
    "conservationlist = conservationlist[((conservationlist['status'] != \"Least concern\") & (conservationlist['status'].notna()))]\n",
    "\n",
    "# Replace kingdom and class values with scientific terms\n",
    "conservationlist.loc[conservationlist[\"kingdom\"] == \"animals\", \"kingdom\"] = \"Animalia\"\n",
    "conservationlist.loc[conservationlist[\"kingdom\"] == \"plants\", \"kingdom\"] = \"Plantae\"\n",
    "conservationlist.loc[conservationlist[\"class\"] == \"land plants\", \"class\"] = \"Equisetopsida\"\n",
    "conservationlist.loc[conservationlist[\"class\"] == \"amphibians\", \"class\"] = \"Amphibia\"\n",
    "conservationlist.loc[conservationlist[\"class\"] == \"birds\", \"class\"] = \"Aves\"\n",
    "conservationlist.loc[conservationlist[\"class\"] == \"cartilaginous fishes\", \"class\"] = \"Chondrichthyes\"\n",
    "conservationlist.loc[conservationlist[\"class\"] == \"insects\", \"class\"] = \"Insecta\"\n",
    "conservationlist.loc[conservationlist[\"class\"] == \"malacostracans\", \"class\"] = \"Malacostraca\"\n",
    "conservationlist.loc[conservationlist[\"class\"] == \"mammals\", \"class\"] = \"Mammalia\"\n",
    "conservationlist.loc[conservationlist[\"class\"] == \"ray-finned fishes\", \"class\"] = \"Actinopterygii\"\n",
    "conservationlist.loc[conservationlist[\"class\"] == \"reptiles\", \"class\"] = \"Reptilia\"\n",
    "conservationlist.loc[conservationlist[\"class\"] == \"snails\", \"class\"] = \"Gastropoda\"\n",
    "conservationlist.loc[conservationlist[\"class\"] == \"arachnids\", \"class\"] = \"Arachnida\"\n",
    "conservationlist.groupby([\"kingdom\",\"class\"]).size()"
   ],
   "metadata": {
    "collapsed": false,
    "pycharm": {
     "name": "#%%\n"
    }
   }
  },
  {
   "cell_type": "code",
   "execution_count": 102,
   "outputs": [],
   "source": [
    "conservationlist.to_csv(projectdir + \"current-lists/conservation-lists/QLD-conservation.csv\",encoding=\"UTF-8\",index=False)"
   ],
   "metadata": {
    "collapsed": false,
    "pycharm": {
     "name": "#%%\n"
    }
   }
  },
  {
   "cell_type": "markdown",
   "source": [
    "## Sensitive List"
   ],
   "metadata": {
    "collapsed": false,
    "pycharm": {
     "name": "#%% md\n"
    }
   }
  },
  {
   "cell_type": "code",
   "execution_count": 103,
   "outputs": [
    {
     "data": {
      "text/plain": "     Taxon Id  Kingdom        Class            Family  \\\n0         969  animals      mammals     Rhinolophidae   \n1        1376  animals        birds       Estrildidae   \n2        1378  animals        birds       Estrildidae   \n3        1370  animals        birds       Estrildidae   \n4        1365  animals        birds       Estrildidae   \n..        ...      ...          ...               ...   \n958     11699   plants  land plants  Thelypteridaceae   \n959     11700   plants  land plants  Thelypteridaceae   \n960     16042   plants  land plants  Thelypteridaceae   \n961      8185   plants  land plants        Proteaceae   \n962      8486   plants  land plants       Psilotaceae   \n\n                  Scientific name  \\\n0      Rhinolophus philippinensis   \n1               Chloebia gouldiae   \n2              Erythrura trichroa   \n3    Neochmia phaeton evangelinae   \n4          Poephila cincta cincta   \n..                            ...   \n958        Pneumatopteris costata   \n959      Pneumatopteris pennigera   \n960         Thelypteris confluens   \n961            Macadamia jansenii   \n962        Tmesipteris lanceolata   \n\n                                        Common name  \\\n0                 greater large-eared horseshoe bat   \n1                                    Gouldian finch   \n2                           blue-faced parrot-finch   \n3          crimson finch (white-bellied subspecies)   \n4    black-throated finch (white-rumped subspecies)   \n..                                              ...   \n958                                             NaN   \n959                                       lime fern   \n960                                             NaN   \n961                                             NaN   \n962                                             NaN   \n\n                    Taxon author NCA status EPBC status Significant Endemicity  \n0               Waterhouse, 1843          E           V           Y         QI  \n1                  (Gould, 1844)          E           E           Y         QA  \n2               (Kittlitz, 1835)         NT         NaN           Y        QAI  \n3    (Hombron & Jacquinot, 1841)          E           E           Y         QI  \n4                    Gould, 1837          E           E           Y         QA  \n..                           ...        ...         ...         ...        ...  \n958             (Brack.) Holttum         NT         NaN           Y         QI  \n959           (G.Forst.) Holttum          E         NaN           Y        QAI  \n960          (Thunb.) C.V.Morton          V         NaN           Y        QAI  \n961       C.L.Gross & P.H.Weston         CR           E           Y          Q  \n962                    P.A.Dang.         PE          EX           Y          Q  \n\n[963 rows x 11 columns]",
      "text/html": "<div>\n<style scoped>\n    .dataframe tbody tr th:only-of-type {\n        vertical-align: middle;\n    }\n\n    .dataframe tbody tr th {\n        vertical-align: top;\n    }\n\n    .dataframe thead th {\n        text-align: right;\n    }\n</style>\n<table border=\"1\" class=\"dataframe\">\n  <thead>\n    <tr style=\"text-align: right;\">\n      <th></th>\n      <th>Taxon Id</th>\n      <th>Kingdom</th>\n      <th>Class</th>\n      <th>Family</th>\n      <th>Scientific name</th>\n      <th>Common name</th>\n      <th>Taxon author</th>\n      <th>NCA status</th>\n      <th>EPBC status</th>\n      <th>Significant</th>\n      <th>Endemicity</th>\n    </tr>\n  </thead>\n  <tbody>\n    <tr>\n      <th>0</th>\n      <td>969</td>\n      <td>animals</td>\n      <td>mammals</td>\n      <td>Rhinolophidae</td>\n      <td>Rhinolophus philippinensis</td>\n      <td>greater large-eared horseshoe bat</td>\n      <td>Waterhouse, 1843</td>\n      <td>E</td>\n      <td>V</td>\n      <td>Y</td>\n      <td>QI</td>\n    </tr>\n    <tr>\n      <th>1</th>\n      <td>1376</td>\n      <td>animals</td>\n      <td>birds</td>\n      <td>Estrildidae</td>\n      <td>Chloebia gouldiae</td>\n      <td>Gouldian finch</td>\n      <td>(Gould, 1844)</td>\n      <td>E</td>\n      <td>E</td>\n      <td>Y</td>\n      <td>QA</td>\n    </tr>\n    <tr>\n      <th>2</th>\n      <td>1378</td>\n      <td>animals</td>\n      <td>birds</td>\n      <td>Estrildidae</td>\n      <td>Erythrura trichroa</td>\n      <td>blue-faced parrot-finch</td>\n      <td>(Kittlitz, 1835)</td>\n      <td>NT</td>\n      <td>NaN</td>\n      <td>Y</td>\n      <td>QAI</td>\n    </tr>\n    <tr>\n      <th>3</th>\n      <td>1370</td>\n      <td>animals</td>\n      <td>birds</td>\n      <td>Estrildidae</td>\n      <td>Neochmia phaeton evangelinae</td>\n      <td>crimson finch (white-bellied subspecies)</td>\n      <td>(Hombron &amp; Jacquinot, 1841)</td>\n      <td>E</td>\n      <td>E</td>\n      <td>Y</td>\n      <td>QI</td>\n    </tr>\n    <tr>\n      <th>4</th>\n      <td>1365</td>\n      <td>animals</td>\n      <td>birds</td>\n      <td>Estrildidae</td>\n      <td>Poephila cincta cincta</td>\n      <td>black-throated finch (white-rumped subspecies)</td>\n      <td>Gould, 1837</td>\n      <td>E</td>\n      <td>E</td>\n      <td>Y</td>\n      <td>QA</td>\n    </tr>\n    <tr>\n      <th>...</th>\n      <td>...</td>\n      <td>...</td>\n      <td>...</td>\n      <td>...</td>\n      <td>...</td>\n      <td>...</td>\n      <td>...</td>\n      <td>...</td>\n      <td>...</td>\n      <td>...</td>\n      <td>...</td>\n    </tr>\n    <tr>\n      <th>958</th>\n      <td>11699</td>\n      <td>plants</td>\n      <td>land plants</td>\n      <td>Thelypteridaceae</td>\n      <td>Pneumatopteris costata</td>\n      <td>NaN</td>\n      <td>(Brack.) Holttum</td>\n      <td>NT</td>\n      <td>NaN</td>\n      <td>Y</td>\n      <td>QI</td>\n    </tr>\n    <tr>\n      <th>959</th>\n      <td>11700</td>\n      <td>plants</td>\n      <td>land plants</td>\n      <td>Thelypteridaceae</td>\n      <td>Pneumatopteris pennigera</td>\n      <td>lime fern</td>\n      <td>(G.Forst.) Holttum</td>\n      <td>E</td>\n      <td>NaN</td>\n      <td>Y</td>\n      <td>QAI</td>\n    </tr>\n    <tr>\n      <th>960</th>\n      <td>16042</td>\n      <td>plants</td>\n      <td>land plants</td>\n      <td>Thelypteridaceae</td>\n      <td>Thelypteris confluens</td>\n      <td>NaN</td>\n      <td>(Thunb.) C.V.Morton</td>\n      <td>V</td>\n      <td>NaN</td>\n      <td>Y</td>\n      <td>QAI</td>\n    </tr>\n    <tr>\n      <th>961</th>\n      <td>8185</td>\n      <td>plants</td>\n      <td>land plants</td>\n      <td>Proteaceae</td>\n      <td>Macadamia jansenii</td>\n      <td>NaN</td>\n      <td>C.L.Gross &amp; P.H.Weston</td>\n      <td>CR</td>\n      <td>E</td>\n      <td>Y</td>\n      <td>Q</td>\n    </tr>\n    <tr>\n      <th>962</th>\n      <td>8486</td>\n      <td>plants</td>\n      <td>land plants</td>\n      <td>Psilotaceae</td>\n      <td>Tmesipteris lanceolata</td>\n      <td>NaN</td>\n      <td>P.A.Dang.</td>\n      <td>PE</td>\n      <td>EX</td>\n      <td>Y</td>\n      <td>Q</td>\n    </tr>\n  </tbody>\n</table>\n<p>963 rows × 11 columns</p>\n</div>"
     },
     "execution_count": 103,
     "metadata": {},
     "output_type": "execute_result"
    }
   ],
   "source": [
    "confidentiallist = pd.read_csv(projectdir + \"source-data/QLD/qld-confidential-species.csv\")\n",
    "confidentiallist"
   ],
   "metadata": {
    "collapsed": false,
    "pycharm": {
     "name": "#%%\n"
    }
   }
  },
  {
   "cell_type": "code",
   "execution_count": 104,
   "outputs": [
    {
     "data": {
      "text/plain": "     taxonID  kingdom        class            family  \\\n0        969  animals      mammals     Rhinolophidae   \n1       1376  animals        birds       Estrildidae   \n2       1378  animals        birds       Estrildidae   \n3       1370  animals        birds       Estrildidae   \n4       1365  animals        birds       Estrildidae   \n..       ...      ...          ...               ...   \n958    11699   plants  land plants  Thelypteridaceae   \n959    11700   plants  land plants  Thelypteridaceae   \n960    16042   plants  land plants  Thelypteridaceae   \n961     8185   plants  land plants        Proteaceae   \n962     8486   plants  land plants       Psilotaceae   \n\n                   scientificName  \\\n0      Rhinolophus philippinensis   \n1               Chloebia gouldiae   \n2              Erythrura trichroa   \n3    Neochmia phaeton evangelinae   \n4          Poephila cincta cincta   \n..                            ...   \n958        Pneumatopteris costata   \n959      Pneumatopteris pennigera   \n960         Thelypteris confluens   \n961            Macadamia jansenii   \n962        Tmesipteris lanceolata   \n\n                                     vernacularName  \\\n0                 greater large-eared horseshoe bat   \n1                                    Gouldian finch   \n2                           blue-faced parrot-finch   \n3          crimson finch (white-bellied subspecies)   \n4    black-throated finch (white-rumped subspecies)   \n..                                              ...   \n958                                             NaN   \n959                                       lime fern   \n960                                             NaN   \n961                                             NaN   \n962                                             NaN   \n\n        scientificNameAuthorship sourceStatus significant  \\\n0               Waterhouse, 1843            E           Y   \n1                  (Gould, 1844)            E           Y   \n2               (Kittlitz, 1835)           NT           Y   \n3    (Hombron & Jacquinot, 1841)            E           Y   \n4                    Gould, 1837            E           Y   \n..                           ...          ...         ...   \n958             (Brack.) Holttum           NT           Y   \n959           (G.Forst.) Holttum            E           Y   \n960          (Thunb.) C.V.Morton            V           Y   \n961       C.L.Gross & P.H.Weston           CR           Y   \n962                    P.A.Dang.           PE           Y   \n\n                    status                                   endemicity  \\\n0               Endangered  Naturally occurs in Queensland and overseas   \n1               Endangered                           Australian endemic   \n2          Near Threatened   Naturally occurs in Australia and overseas   \n3               Endangered  Naturally occurs in Queensland and overseas   \n4               Endangered                           Australian endemic   \n..                     ...                                          ...   \n958        Near Threatened  Naturally occurs in Queensland and overseas   \n959             Endangered   Naturally occurs in Australia and overseas   \n960             Vulnerable   Naturally occurs in Australia and overseas   \n961  Critically Endangered                           Queensland endemic   \n962    Extinct in the wild                           Queensland endemic   \n\n     epbcStatus  \n0    Vulnerable  \n1    Endangered  \n2           NaN  \n3    Endangered  \n4    Endangered  \n..          ...  \n958         NaN  \n959         NaN  \n960         NaN  \n961  Endangered  \n962     Extinct  \n\n[963 rows x 12 columns]",
      "text/html": "<div>\n<style scoped>\n    .dataframe tbody tr th:only-of-type {\n        vertical-align: middle;\n    }\n\n    .dataframe tbody tr th {\n        vertical-align: top;\n    }\n\n    .dataframe thead th {\n        text-align: right;\n    }\n</style>\n<table border=\"1\" class=\"dataframe\">\n  <thead>\n    <tr style=\"text-align: right;\">\n      <th></th>\n      <th>taxonID</th>\n      <th>kingdom</th>\n      <th>class</th>\n      <th>family</th>\n      <th>scientificName</th>\n      <th>vernacularName</th>\n      <th>scientificNameAuthorship</th>\n      <th>sourceStatus</th>\n      <th>significant</th>\n      <th>status</th>\n      <th>endemicity</th>\n      <th>epbcStatus</th>\n    </tr>\n  </thead>\n  <tbody>\n    <tr>\n      <th>0</th>\n      <td>969</td>\n      <td>animals</td>\n      <td>mammals</td>\n      <td>Rhinolophidae</td>\n      <td>Rhinolophus philippinensis</td>\n      <td>greater large-eared horseshoe bat</td>\n      <td>Waterhouse, 1843</td>\n      <td>E</td>\n      <td>Y</td>\n      <td>Endangered</td>\n      <td>Naturally occurs in Queensland and overseas</td>\n      <td>Vulnerable</td>\n    </tr>\n    <tr>\n      <th>1</th>\n      <td>1376</td>\n      <td>animals</td>\n      <td>birds</td>\n      <td>Estrildidae</td>\n      <td>Chloebia gouldiae</td>\n      <td>Gouldian finch</td>\n      <td>(Gould, 1844)</td>\n      <td>E</td>\n      <td>Y</td>\n      <td>Endangered</td>\n      <td>Australian endemic</td>\n      <td>Endangered</td>\n    </tr>\n    <tr>\n      <th>2</th>\n      <td>1378</td>\n      <td>animals</td>\n      <td>birds</td>\n      <td>Estrildidae</td>\n      <td>Erythrura trichroa</td>\n      <td>blue-faced parrot-finch</td>\n      <td>(Kittlitz, 1835)</td>\n      <td>NT</td>\n      <td>Y</td>\n      <td>Near Threatened</td>\n      <td>Naturally occurs in Australia and overseas</td>\n      <td>NaN</td>\n    </tr>\n    <tr>\n      <th>3</th>\n      <td>1370</td>\n      <td>animals</td>\n      <td>birds</td>\n      <td>Estrildidae</td>\n      <td>Neochmia phaeton evangelinae</td>\n      <td>crimson finch (white-bellied subspecies)</td>\n      <td>(Hombron &amp; Jacquinot, 1841)</td>\n      <td>E</td>\n      <td>Y</td>\n      <td>Endangered</td>\n      <td>Naturally occurs in Queensland and overseas</td>\n      <td>Endangered</td>\n    </tr>\n    <tr>\n      <th>4</th>\n      <td>1365</td>\n      <td>animals</td>\n      <td>birds</td>\n      <td>Estrildidae</td>\n      <td>Poephila cincta cincta</td>\n      <td>black-throated finch (white-rumped subspecies)</td>\n      <td>Gould, 1837</td>\n      <td>E</td>\n      <td>Y</td>\n      <td>Endangered</td>\n      <td>Australian endemic</td>\n      <td>Endangered</td>\n    </tr>\n    <tr>\n      <th>...</th>\n      <td>...</td>\n      <td>...</td>\n      <td>...</td>\n      <td>...</td>\n      <td>...</td>\n      <td>...</td>\n      <td>...</td>\n      <td>...</td>\n      <td>...</td>\n      <td>...</td>\n      <td>...</td>\n      <td>...</td>\n    </tr>\n    <tr>\n      <th>958</th>\n      <td>11699</td>\n      <td>plants</td>\n      <td>land plants</td>\n      <td>Thelypteridaceae</td>\n      <td>Pneumatopteris costata</td>\n      <td>NaN</td>\n      <td>(Brack.) Holttum</td>\n      <td>NT</td>\n      <td>Y</td>\n      <td>Near Threatened</td>\n      <td>Naturally occurs in Queensland and overseas</td>\n      <td>NaN</td>\n    </tr>\n    <tr>\n      <th>959</th>\n      <td>11700</td>\n      <td>plants</td>\n      <td>land plants</td>\n      <td>Thelypteridaceae</td>\n      <td>Pneumatopteris pennigera</td>\n      <td>lime fern</td>\n      <td>(G.Forst.) Holttum</td>\n      <td>E</td>\n      <td>Y</td>\n      <td>Endangered</td>\n      <td>Naturally occurs in Australia and overseas</td>\n      <td>NaN</td>\n    </tr>\n    <tr>\n      <th>960</th>\n      <td>16042</td>\n      <td>plants</td>\n      <td>land plants</td>\n      <td>Thelypteridaceae</td>\n      <td>Thelypteris confluens</td>\n      <td>NaN</td>\n      <td>(Thunb.) C.V.Morton</td>\n      <td>V</td>\n      <td>Y</td>\n      <td>Vulnerable</td>\n      <td>Naturally occurs in Australia and overseas</td>\n      <td>NaN</td>\n    </tr>\n    <tr>\n      <th>961</th>\n      <td>8185</td>\n      <td>plants</td>\n      <td>land plants</td>\n      <td>Proteaceae</td>\n      <td>Macadamia jansenii</td>\n      <td>NaN</td>\n      <td>C.L.Gross &amp; P.H.Weston</td>\n      <td>CR</td>\n      <td>Y</td>\n      <td>Critically Endangered</td>\n      <td>Queensland endemic</td>\n      <td>Endangered</td>\n    </tr>\n    <tr>\n      <th>962</th>\n      <td>8486</td>\n      <td>plants</td>\n      <td>land plants</td>\n      <td>Psilotaceae</td>\n      <td>Tmesipteris lanceolata</td>\n      <td>NaN</td>\n      <td>P.A.Dang.</td>\n      <td>PE</td>\n      <td>Y</td>\n      <td>Extinct in the wild</td>\n      <td>Queensland endemic</td>\n      <td>Extinct</td>\n    </tr>\n  </tbody>\n</table>\n<p>963 rows × 12 columns</p>\n</div>"
     },
     "execution_count": 104,
     "metadata": {},
     "output_type": "execute_result"
    }
   ],
   "source": [
    "\n",
    "# join to get the codes\n",
    "# nca status\n",
    "confidentiallist = pd.merge(confidentiallist,ncastatuscodes,left_on=['NCA status'],right_on=['Code'],how=\"left\")\n",
    "confidentiallist.drop(['Code'],axis=1,inplace=True)\n",
    "confidentiallist = confidentiallist.rename(columns={'NCA status':'sourceStatus','Code_description':'status'})\n",
    "# endemicity\n",
    "confidentiallist = pd.merge(confidentiallist,endemicitycodes,left_on=['Endemicity'],right_on=['Code'],how=\"left\")\n",
    "confidentiallist.drop(['Code','Endemicity'],axis=1,inplace=True)\n",
    "confidentiallist = confidentiallist.rename(columns={'Code_description':'endemicity'})\n",
    "# epbc\n",
    "confidentiallist = pd.merge(confidentiallist,epbccodes,left_on=['EPBC status'],right_on=['Code'],how=\"left\")\n",
    "confidentiallist.drop(['Code','EPBC status'],axis=1,inplace=True)\n",
    "confidentiallist = confidentiallist.rename(columns={'Code_description':'epbcStatus'})\n",
    "# rename fields\n",
    "confidentiallist = confidentiallist.rename(columns=\n",
    "{\n",
    "    'Taxon Id':'taxonID',\n",
    "    'Kingdom':'kingdom',\n",
    "    'Class':'class',\n",
    "    'Family':'family',\n",
    "    'Scientific name':'scientificName',\n",
    "    'Common name': 'vernacularName',\n",
    "    'Taxon author':'scientificNameAuthorship',\n",
    "    'Confidential':'confidential',\n",
    "    'Significant':'significant'\n",
    "})\n",
    "confidentiallist"
   ],
   "metadata": {
    "collapsed": false,
    "pycharm": {
     "name": "#%%\n"
    }
   }
  },
  {
   "cell_type": "code",
   "execution_count": 105,
   "outputs": [
    {
     "data": {
      "text/plain": "kingdom   class         \nAnimalia  Actinopterygii      7\n          Amphibia           22\n          Arachnida           3\n          Aves               24\n          Insecta             7\n          Malacostraca        4\n          Mammalia            1\n          Reptilia           30\nPlantae   Equisetopsida     865\ndtype: int64"
     },
     "execution_count": 105,
     "metadata": {},
     "output_type": "execute_result"
    }
   ],
   "source": [
    "confidentiallist.groupby([\"kingdom\",\"class\"]).size()\n",
    "# Replace kingdom and class values with scientific terms\n",
    "confidentiallist.loc[confidentiallist[\"kingdom\"] == \"animals\", \"kingdom\"] = \"Animalia\"\n",
    "confidentiallist.loc[confidentiallist[\"kingdom\"] == \"plants\", \"kingdom\"] = \"Plantae\"\n",
    "confidentiallist.loc[confidentiallist[\"class\"] == \"land plants\", \"class\"] = \"Equisetopsida\"\n",
    "confidentiallist.loc[confidentiallist[\"class\"] == \"amphibians\", \"class\"] = \"Amphibia\"\n",
    "confidentiallist.loc[confidentiallist[\"class\"] == \"birds\", \"class\"] = \"Aves\"\n",
    "confidentiallist.loc[confidentiallist[\"class\"] == \"cartilaginous fishes\", \"class\"] = \"Chondrichthyes\"\n",
    "confidentiallist.loc[confidentiallist[\"class\"] == \"insects\", \"class\"] = \"Insecta\"\n",
    "confidentiallist.loc[confidentiallist[\"class\"] == \"malacostracans\", \"class\"] = \"Malacostraca\"\n",
    "confidentiallist.loc[confidentiallist[\"class\"] == \"mammals\", \"class\"] = \"Mammalia\"\n",
    "confidentiallist.loc[confidentiallist[\"class\"] == \"ray-finned fishes\", \"class\"] = \"Actinopterygii\"\n",
    "confidentiallist.loc[confidentiallist[\"class\"] == \"reptiles\", \"class\"] = \"Reptilia\"\n",
    "confidentiallist.loc[confidentiallist[\"class\"] == \"snails\", \"class\"] = \"Gastropoda\"\n",
    "confidentiallist.loc[confidentiallist[\"class\"] == \"arachnids\", \"class\"] = \"Arachnida\"\n",
    "\n",
    "confidentiallist.groupby([\"kingdom\",\"class\"]).size()"
   ],
   "metadata": {
    "collapsed": false,
    "pycharm": {
     "name": "#%%\n"
    }
   }
  },
  {
   "cell_type": "code",
   "execution_count": 106,
   "outputs": [],
   "source": [
    "confidentiallist.to_csv(projectdir + \"current-lists/sensitive-lists/QLD-sensitive.csv\",encoding=\"UTF-8\",index=False)"
   ],
   "metadata": {
    "collapsed": false,
    "pycharm": {
     "name": "#%%\n"
    }
   }
  },
  {
   "cell_type": "markdown",
   "source": [],
   "metadata": {
    "collapsed": false,
    "pycharm": {
     "name": "#%% md\n"
    }
   }
  }
 ],
 "metadata": {
  "kernelspec": {
   "display_name": "Python 3",
   "language": "python",
   "name": "python3"
  },
  "language_info": {
   "codemirror_mode": {
    "name": "ipython",
    "version": 2
   },
   "file_extension": ".py",
   "mimetype": "text/x-python",
   "name": "python",
   "nbconvert_exporter": "python",
   "pygments_lexer": "ipython2",
   "version": "2.7.6"
  }
 },
 "nbformat": 4,
 "nbformat_minor": 0
}