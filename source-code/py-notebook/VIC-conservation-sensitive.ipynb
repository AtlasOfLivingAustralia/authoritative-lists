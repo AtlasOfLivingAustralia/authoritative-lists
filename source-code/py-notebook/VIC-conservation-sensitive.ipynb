{
 "cells": [
  {
   "cell_type": "markdown",
   "source": [
    "# VIC Conservation Status and Sensitive Species Lists\n",
    "\n",
    "This notebook downloads the VIC lists from the [Qld Government Open Data Portal](https://vba.dse.vic.gov.au/vba/downloadVSC.do) and formats them in Darwin Core for ingestion into the ALA Lists tool.\n",
    "It will save original lists to the `source-data/ViC` directory, process the lists and save them to `current-lists`.\n",
    "\n",
    "\n",
    "## Lists in the ALA Species List tool\n",
    "* Conservation list: __[dr655](https://lists.ala.org.au/speciesListItem/list/dr655)__ (in [test](https://lists-test.ala.org.au/speciesListItem/list/dr655))\n",
    "* Sensitive list: __[dr490](https://lists.ala.org.au/speciesListItem/list/dr490)__ (in [test](https://lists-test.ala.org.au/speciesListItem/list/dr490))\n",
    "\n",
    "\n",
    "## Sources\n",
    "Victorian Biodivesity Atlas - Victoria Department of Environment, Land, Water and Planning\n",
    "\n",
    "### Conservation\n",
    "* __[Metadata - xxx (Open Data Portal)](https://)__\n",
    "* __[Data](https://vba.dse.vic.gov.au/vba/downloadVSC.do)__\n",
    "\n",
    "### Sensitive\n",
    "* __[Metadata - xxx (Open Data Portal)](https://)__\n",
    "* __[Data](https://vba.dse.vic.gov.au/vba/downloadVSC.do)__\n",
    "\n",
    "### Codes\n",
    "* __[Metadata - xxxxx](https://)__\n",
    "* __[Data](https://)__\n"
   ],
   "metadata": {
    "collapsed": false,
    "pycharm": {
     "name": "#%% md\n"
    }
   }
  },
  {
   "cell_type": "code",
   "execution_count": 1,
   "outputs": [
    {
     "name": "stdout",
     "output_type": "stream",
     "text": [
      "C:\\Users\\oco115\\PycharmProjects\\authoritative-lists\\source-code\n"
     ]
    }
   ],
   "source": [
    "# import function definitions from includes directory\n",
    "%cd ..\n",
    "from includes import list_functions"
   ],
   "metadata": {
    "collapsed": false,
    "pycharm": {
     "name": "#%%\n"
    }
   }
  },
  {
   "cell_type": "code",
   "execution_count": 2,
   "outputs": [],
   "source": [
    "import pandas as pd\n",
    "\n",
    "projectDir = \"/Users/oco115/PycharmProjects/authoritative-lists/\"\n",
    "cdataDir = \"current-lists/conservation-lists/\"\n",
    "sdataDir = \"current-lists/sensitive-lists/\"\n",
    "conservationlisturl = \"https://vba.dse.vic.gov.au/vba/downloadVSC.do\" # gets a csv\n",
    "conservationList = pd.read_csv(projectDir + \"source-data/VIC/Species-Checklist.csv\",encoding='cp1252')\n"
   ],
   "metadata": {
    "collapsed": false,
    "pycharm": {
     "name": "#%%\n"
    }
   }
  },
  {
   "cell_type": "markdown",
   "source": [
    "## Extract conservation list\n",
    "1. Drop non-required columns\n",
    "2. Rename columns for Darwin Core list terms\n",
    "3. Assign additional required list fields"
   ],
   "metadata": {
    "collapsed": false,
    "pycharm": {
     "name": "#%% md\n"
    }
   }
  },
  {
   "cell_type": "code",
   "execution_count": 3,
   "outputs": [],
   "source": [
    "# Drop columns\n",
    "conservationList = conservationList.drop(['PARENT_TAXON_LEVEL_CDE','PARENT_TAXON_ID','ALL_DISCIPLINE_CODES',\n",
    "                                          'TREATIES','SHORT_NAME','NVIS_GROWTHFORM','SCIENTIFIC_NME_SYNONYM',\n",
    "                                          'COMMON_NME_SYNONYM','PRINT_ORDER_NUM'],axis=1)\n",
    "# Rename columns\n",
    "conservationList = conservationList.rename(columns=\n",
    "{\n",
    "    'TAXON_ID':'taxonID',\n",
    "    'SCIENTIFIC_NAME':'scientificName',\n",
    "    'VIC_ADVISORY_STATUS':'vicadvisorystatus',\n",
    "    'TAXON_TYPE':'speciesGroup',\n",
    "    'FFG_ACT_STATUS':'ffgactstatus',\n",
    "    'EPBC_ACT_STATUS': 'epbcactStatus',\n",
    "    'TAXON_LEVEL_CDE': 'taxonRank',\n",
    "    'ORIGIN': 'establishmentMeans',\n",
    "    'COMMON_NME_SYNONYM': 'taxonRemarks',\n",
    "    'COMMON_NAME':'vernacularName',\n",
    "    'AUTHORITY':'scientificNameAuthority',\n",
    "    'PRIMARY_DISCIPLINE': 'primaryDiscipline',\n",
    "    'RESTRICTED_FLAG' : 'restrictedFlag',\n",
    "    'EXTRACT_DATE': 'extractDate',\n",
    "    'LAST_MOD':'modified'\n",
    "})\n",
    "conservationList['taxonRank'] = 'species'\n",
    "conservationList['status'] = conservationList['ffgactstatus']\n",
    "conservationList['sourceStatus'] = conservationList['ffgactstatus']"
   ],
   "metadata": {
    "collapsed": false,
    "pycharm": {
     "name": "#%%\n"
    }
   }
  },
  {
   "cell_type": "code",
   "execution_count": 4,
   "outputs": [
    {
     "data": {
      "text/plain": "    taxonID               scientificName        vernacularName  \\\n9      4864           Ambassis agassizii   Agassiz's Glassfish   \n28   528544            Bidyanus bidyanus          Silver Perch   \n37     5133            Chelodina expansa  Broad-shelled Turtle   \n48     4784  Craterocephalus fluviatilis      Murray Hardyhead   \n\n   scientificNameAuthority primaryDiscipline establishmentMeans taxonRank  \\\n9       Steindachner, 1867     Aquatic fauna                NaN   species   \n28        (Mitchell, 1838)     Aquatic fauna                NaN   species   \n37              Gray, 1857     Aquatic fauna                NaN   species   \n48         McCulloch, 1912     Aquatic fauna                NaN   species   \n\n   speciesGroup           ffgactstatus          epbcactStatus  \\\n9          Fish                Extinct                    NaN   \n28         Fish             Endangered  Critically Endangered   \n37     Reptiles             Endangered                    NaN   \n48         Fish  Critically Endangered             Endangered   \n\n        vicadvisorystatus restrictedFlag    modified extractDate  \\\n9      Regionally extinct            NaN  2013-04-04  2023-01-16   \n28             Vulnerable            NaN  2016-05-24  2023-01-16   \n37             Endangered            NaN  2014-11-20  2023-01-16   \n48  Critically endangered            NaN  2013-04-04  2023-01-16   \n\n                   status           sourceStatus  \n9                 Extinct                Extinct  \n28             Endangered             Endangered  \n37             Endangered             Endangered  \n48  Critically Endangered  Critically Endangered  ",
      "text/html": "<div>\n<style scoped>\n    .dataframe tbody tr th:only-of-type {\n        vertical-align: middle;\n    }\n\n    .dataframe tbody tr th {\n        vertical-align: top;\n    }\n\n    .dataframe thead th {\n        text-align: right;\n    }\n</style>\n<table border=\"1\" class=\"dataframe\">\n  <thead>\n    <tr style=\"text-align: right;\">\n      <th></th>\n      <th>taxonID</th>\n      <th>scientificName</th>\n      <th>vernacularName</th>\n      <th>scientificNameAuthority</th>\n      <th>primaryDiscipline</th>\n      <th>establishmentMeans</th>\n      <th>taxonRank</th>\n      <th>speciesGroup</th>\n      <th>ffgactstatus</th>\n      <th>epbcactStatus</th>\n      <th>vicadvisorystatus</th>\n      <th>restrictedFlag</th>\n      <th>modified</th>\n      <th>extractDate</th>\n      <th>status</th>\n      <th>sourceStatus</th>\n    </tr>\n  </thead>\n  <tbody>\n    <tr>\n      <th>9</th>\n      <td>4864</td>\n      <td>Ambassis agassizii</td>\n      <td>Agassiz's Glassfish</td>\n      <td>Steindachner, 1867</td>\n      <td>Aquatic fauna</td>\n      <td>NaN</td>\n      <td>species</td>\n      <td>Fish</td>\n      <td>Extinct</td>\n      <td>NaN</td>\n      <td>Regionally extinct</td>\n      <td>NaN</td>\n      <td>2013-04-04</td>\n      <td>2023-01-16</td>\n      <td>Extinct</td>\n      <td>Extinct</td>\n    </tr>\n    <tr>\n      <th>28</th>\n      <td>528544</td>\n      <td>Bidyanus bidyanus</td>\n      <td>Silver Perch</td>\n      <td>(Mitchell, 1838)</td>\n      <td>Aquatic fauna</td>\n      <td>NaN</td>\n      <td>species</td>\n      <td>Fish</td>\n      <td>Endangered</td>\n      <td>Critically Endangered</td>\n      <td>Vulnerable</td>\n      <td>NaN</td>\n      <td>2016-05-24</td>\n      <td>2023-01-16</td>\n      <td>Endangered</td>\n      <td>Endangered</td>\n    </tr>\n    <tr>\n      <th>37</th>\n      <td>5133</td>\n      <td>Chelodina expansa</td>\n      <td>Broad-shelled Turtle</td>\n      <td>Gray, 1857</td>\n      <td>Aquatic fauna</td>\n      <td>NaN</td>\n      <td>species</td>\n      <td>Reptiles</td>\n      <td>Endangered</td>\n      <td>NaN</td>\n      <td>Endangered</td>\n      <td>NaN</td>\n      <td>2014-11-20</td>\n      <td>2023-01-16</td>\n      <td>Endangered</td>\n      <td>Endangered</td>\n    </tr>\n    <tr>\n      <th>48</th>\n      <td>4784</td>\n      <td>Craterocephalus fluviatilis</td>\n      <td>Murray Hardyhead</td>\n      <td>McCulloch, 1912</td>\n      <td>Aquatic fauna</td>\n      <td>NaN</td>\n      <td>species</td>\n      <td>Fish</td>\n      <td>Critically Endangered</td>\n      <td>Endangered</td>\n      <td>Critically endangered</td>\n      <td>NaN</td>\n      <td>2013-04-04</td>\n      <td>2023-01-16</td>\n      <td>Critically Endangered</td>\n      <td>Critically Endangered</td>\n    </tr>\n  </tbody>\n</table>\n</div>"
     },
     "execution_count": 4,
     "metadata": {},
     "output_type": "execute_result"
    }
   ],
   "source": [
    "# reformat date\n",
    "conservationList['extractDate'] = pd.to_datetime(conservationList['extractDate'], format='%d/%m/%Y')\n",
    "conservationList['extractDate'] = conservationList['extractDate'].dt.strftime('%Y-%m-%d')\n",
    "conservationList['modified'] = pd.to_datetime(conservationList['modified'], format='%d/%m/%Y')\n",
    "conservationList['modified'] = conservationList['modified'].dt.strftime('%Y-%m-%d')\n",
    "sensitiveList = conservationList\n",
    "conservationList = conservationList[conservationList[\"status\"].notna()]\n",
    "\n",
    "conservationList.head(4)"
   ],
   "metadata": {
    "collapsed": false,
    "pycharm": {
     "name": "#%%\n"
    }
   }
  },
  {
   "cell_type": "markdown",
   "source": [
    "## Extract Sensitive List\n",
    "1. Using the conservationList extract Sensitive list records\n",
    "2. Records where RESTRICTED_FLAG is not null"
   ],
   "metadata": {
    "collapsed": false,
    "pycharm": {
     "name": "#%% md\n"
    }
   }
  },
  {
   "cell_type": "code",
   "execution_count": 5,
   "outputs": [
    {
     "data": {
      "text/plain": "136"
     },
     "execution_count": 5,
     "metadata": {},
     "output_type": "execute_result"
    }
   ],
   "source": [
    "sensitiveList = sensitiveList[sensitiveList[\"restrictedFlag\"].notna()]\n",
    "len(sensitiveList.index)"
   ],
   "metadata": {
    "collapsed": false,
    "pycharm": {
     "name": "#%%\n"
    }
   }
  },
  {
   "cell_type": "code",
   "execution_count": 6,
   "outputs": [
    {
     "name": "stdout",
     "output_type": "stream",
     "text": [
      "Finished processing\n"
     ]
    }
   ],
   "source": [
    "#Write to CSV\n",
    "conservationList.to_csv(projectDir + cdataDir + \"VIC-conservation.csv\",index=False)\n",
    "sensitiveList.to_csv(projectDir + sdataDir + \"VIC-sensitive.csv\",index=False)\n",
    "print('Finished processing')"
   ],
   "metadata": {
    "collapsed": false,
    "pycharm": {
     "name": "#%%\n"
    }
   }
  },
  {
   "cell_type": "markdown",
   "source": [
    "# Manual List check\n",
    "\n",
    "**Instructions**\n",
    "1. Load the lists above into the lists-test tool\n",
    "2. Check the list name matching score and the text appearance on species pages\n",
    "3. Unskip the below code and Run the reports below to compare to production. Send the changelog.csv to check. Correct any issues.\n",
    "4. Save the production list into the `historical lists` directory by uncommenting the code section below.\n",
    "5. Load the lists into production"
   ],
   "metadata": {
    "collapsed": false,
    "pycharm": {
     "name": "#%% md\n"
    }
   }
  },
  {
   "cell_type": "markdown",
   "source": [
    "### Conservation List - Download old and new and compare"
   ],
   "metadata": {
    "collapsed": false,
    "pycharm": {
     "name": "#%% md\n"
    }
   }
  },
  {
   "cell_type": "code",
   "execution_count": 13,
   "outputs": [
    {
     "data": {
      "text/plain": "                                  name     commonName_new  \\\n36                     Galaxias sp. 14           Galaxias   \n77      Hyridella (Hyridella) depressa  Freshwater Mussel   \n79             Hyridella narracanensis  Freshwater Mussel   \n985             Leichhardtia australis             Doubah   \n986            Leichhardtia flavescens               None   \n1148                Orianthera pusilla               None   \n1317    Prasophyllum sp. aff. montanum               None   \n1320     Prasophyllum sp. aff. validum               None   \n1039                   Logania pusilla                NaN   \n1060               Marsdenia australis                NaN   \n1061              Marsdenia flavescens                NaN   \n1314  Prasophyllum sp. aff. montanum A                NaN   \n1317   Prasophyllum sp. aff. validum A                NaN   \n\n                                scientificName_new             status_new  \\\n36                              Galaxias terenasus  Critically Endangered   \n77                  Hyridella (Hyridella) depressa             Endangered   \n79             Hyridella (Hyridella) narracanensis             Endangered   \n985                            Marsdenia australis             Endangered   \n986                        Leichhardtia flavescens  Critically Endangered   \n1148                            Orianthera pusilla             Vulnerable   \n1317      Prasophyllum sp. montane (D.T.Rouse 180)             Endangered   \n1320  Prasophyllum sp. Woodlands (D.L.Jones 17707)             Endangered   \n1039                                           NaN                    NaN   \n1060                                           NaN                    NaN   \n1061                                           NaN                    NaN   \n1314                                           NaN                    NaN   \n1317                                           NaN                    NaN   \n\n     listUpdate    commonName_old  \\\n36        added               NaN   \n77        added               NaN   \n79        added               NaN   \n985       added               NaN   \n986       added               NaN   \n1148      added               NaN   \n1317      added               NaN   \n1320      added               NaN   \n1039    removed              None   \n1060    removed            Doubah   \n1061    removed  Yellow Milk-vine   \n1314    removed              None   \n1317    removed              None   \n\n                                scientificName_old             status_old  \n36                                             NaN                    NaN  \n77                                             NaN                    NaN  \n79                                             NaN                    NaN  \n985                                            NaN                    NaN  \n986                                            NaN                    NaN  \n1148                                           NaN                    NaN  \n1317                                           NaN                    NaN  \n1320                                           NaN                    NaN  \n1039                            Orianthera pusilla             Vulnerable  \n1060                           Marsdenia australis             Endangered  \n1061                          Marsdenia flavescens  Critically Endangered  \n1314      Prasophyllum sp. montane (D.T.Rouse 180)             Endangered  \n1317  Prasophyllum sp. Woodlands (D.L.Jones 17707)             Endangered  ",
      "text/html": "<div>\n<style scoped>\n    .dataframe tbody tr th:only-of-type {\n        vertical-align: middle;\n    }\n\n    .dataframe tbody tr th {\n        vertical-align: top;\n    }\n\n    .dataframe thead th {\n        text-align: right;\n    }\n</style>\n<table border=\"1\" class=\"dataframe\">\n  <thead>\n    <tr style=\"text-align: right;\">\n      <th></th>\n      <th>name</th>\n      <th>commonName_new</th>\n      <th>scientificName_new</th>\n      <th>status_new</th>\n      <th>listUpdate</th>\n      <th>commonName_old</th>\n      <th>scientificName_old</th>\n      <th>status_old</th>\n    </tr>\n  </thead>\n  <tbody>\n    <tr>\n      <th>36</th>\n      <td>Galaxias sp. 14</td>\n      <td>Galaxias</td>\n      <td>Galaxias terenasus</td>\n      <td>Critically Endangered</td>\n      <td>added</td>\n      <td>NaN</td>\n      <td>NaN</td>\n      <td>NaN</td>\n    </tr>\n    <tr>\n      <th>77</th>\n      <td>Hyridella (Hyridella) depressa</td>\n      <td>Freshwater Mussel</td>\n      <td>Hyridella (Hyridella) depressa</td>\n      <td>Endangered</td>\n      <td>added</td>\n      <td>NaN</td>\n      <td>NaN</td>\n      <td>NaN</td>\n    </tr>\n    <tr>\n      <th>79</th>\n      <td>Hyridella narracanensis</td>\n      <td>Freshwater Mussel</td>\n      <td>Hyridella (Hyridella) narracanensis</td>\n      <td>Endangered</td>\n      <td>added</td>\n      <td>NaN</td>\n      <td>NaN</td>\n      <td>NaN</td>\n    </tr>\n    <tr>\n      <th>985</th>\n      <td>Leichhardtia australis</td>\n      <td>Doubah</td>\n      <td>Marsdenia australis</td>\n      <td>Endangered</td>\n      <td>added</td>\n      <td>NaN</td>\n      <td>NaN</td>\n      <td>NaN</td>\n    </tr>\n    <tr>\n      <th>986</th>\n      <td>Leichhardtia flavescens</td>\n      <td>None</td>\n      <td>Leichhardtia flavescens</td>\n      <td>Critically Endangered</td>\n      <td>added</td>\n      <td>NaN</td>\n      <td>NaN</td>\n      <td>NaN</td>\n    </tr>\n    <tr>\n      <th>1148</th>\n      <td>Orianthera pusilla</td>\n      <td>None</td>\n      <td>Orianthera pusilla</td>\n      <td>Vulnerable</td>\n      <td>added</td>\n      <td>NaN</td>\n      <td>NaN</td>\n      <td>NaN</td>\n    </tr>\n    <tr>\n      <th>1317</th>\n      <td>Prasophyllum sp. aff. montanum</td>\n      <td>None</td>\n      <td>Prasophyllum sp. montane (D.T.Rouse 180)</td>\n      <td>Endangered</td>\n      <td>added</td>\n      <td>NaN</td>\n      <td>NaN</td>\n      <td>NaN</td>\n    </tr>\n    <tr>\n      <th>1320</th>\n      <td>Prasophyllum sp. aff. validum</td>\n      <td>None</td>\n      <td>Prasophyllum sp. Woodlands (D.L.Jones 17707)</td>\n      <td>Endangered</td>\n      <td>added</td>\n      <td>NaN</td>\n      <td>NaN</td>\n      <td>NaN</td>\n    </tr>\n    <tr>\n      <th>1039</th>\n      <td>Logania pusilla</td>\n      <td>NaN</td>\n      <td>NaN</td>\n      <td>NaN</td>\n      <td>removed</td>\n      <td>None</td>\n      <td>Orianthera pusilla</td>\n      <td>Vulnerable</td>\n    </tr>\n    <tr>\n      <th>1060</th>\n      <td>Marsdenia australis</td>\n      <td>NaN</td>\n      <td>NaN</td>\n      <td>NaN</td>\n      <td>removed</td>\n      <td>Doubah</td>\n      <td>Marsdenia australis</td>\n      <td>Endangered</td>\n    </tr>\n    <tr>\n      <th>1061</th>\n      <td>Marsdenia flavescens</td>\n      <td>NaN</td>\n      <td>NaN</td>\n      <td>NaN</td>\n      <td>removed</td>\n      <td>Yellow Milk-vine</td>\n      <td>Marsdenia flavescens</td>\n      <td>Critically Endangered</td>\n    </tr>\n    <tr>\n      <th>1314</th>\n      <td>Prasophyllum sp. aff. montanum A</td>\n      <td>NaN</td>\n      <td>NaN</td>\n      <td>NaN</td>\n      <td>removed</td>\n      <td>None</td>\n      <td>Prasophyllum sp. montane (D.T.Rouse 180)</td>\n      <td>Endangered</td>\n    </tr>\n    <tr>\n      <th>1317</th>\n      <td>Prasophyllum sp. aff. validum A</td>\n      <td>NaN</td>\n      <td>NaN</td>\n      <td>NaN</td>\n      <td>removed</td>\n      <td>None</td>\n      <td>Prasophyllum sp. Woodlands (D.L.Jones 17707)</td>\n      <td>Endangered</td>\n    </tr>\n  </tbody>\n</table>\n</div>"
     },
     "execution_count": 13,
     "metadata": {},
     "output_type": "execute_result"
    }
   ],
   "source": [
    "# %%script echo skipping # comment this line to run this code\n",
    "\n",
    "import datetime\n",
    "monthStr = datetime.datetime.now().strftime('%Y%m')\n",
    "\n",
    "# conservation\n",
    "filename = \"VIC-conservation.csv\"\n",
    "prodListUrl = \"https://lists.ala.org.au/ws/speciesListItems/\" + \"dr655\" + \"?max=10000&includeKVP=true\"\n",
    "testListUrl = \"https://lists-test.ala.org.au/ws/speciesListItems/\" + \"dr655\" + \"?max=10000&includeKVP=true\"\n",
    "changelist = list_functions.get_changelist(testListUrl, prodListUrl)\n",
    "# save the lists locally\n",
    "changelist.to_csv(projectDir + \"analysis/change-log/\" + monthStr + \"-\" + filename, encoding=\"UTF-8\", index=False)\n",
    "prodList = list_functions.download_ala_list(prodListUrl) # save the prod list to the historical lists directory\n",
    "prodList = list_functions.kvp_to_columns(prodList)\n",
    "prodList.to_csv(projectDir + \"historical-lists/conservation/\" + filename, encoding=\"UTF-8\", index=False)\n",
    "changelist"
   ],
   "metadata": {
    "collapsed": false,
    "pycharm": {
     "name": "#%%\n"
    }
   }
  },
  {
   "cell_type": "markdown",
   "source": [
    "### Sensitive List - Download old and new and compare"
   ],
   "metadata": {
    "collapsed": false,
    "pycharm": {
     "name": "#%% md\n"
    }
   }
  },
  {
   "cell_type": "code",
   "execution_count": 14,
   "outputs": [
    {
     "data": {
      "text/plain": "                                name            commonName_new  \\\n104     Miniopterus orianae bassanii  Southern Bent-winged Bat   \n38             Wundacaenis flabellum                       NaN   \n39             Westriplectes angelae                       NaN   \n40                  Oecetis quadrula                       NaN   \n41            Pseudocloeon hypodelum                       NaN   \n44            Pterostylis tenuissima                       NaN   \n45                   Caladenia tensa                       NaN   \n60   Prasophyllum sp. aff. validum A                       NaN   \n101            Thaumatoperla robusta                       NaN   \n102             Thaumatoperla timmsi                       NaN   \n123              Notopala sublineata                       NaN   \n\n               scientificName_new             status_new listUpdate  \\\n104  Miniopterus orianae bassanii  Critically Endangered      added   \n38                            NaN                    NaN    removed   \n39                            NaN                    NaN    removed   \n40                            NaN                    NaN    removed   \n41                            NaN                    NaN    removed   \n44                            NaN                    NaN    removed   \n45                            NaN                    NaN    removed   \n60                            NaN                    NaN    removed   \n101                           NaN                    NaN    removed   \n102                           NaN                    NaN    removed   \n123                           NaN                    NaN    removed   \n\n                    commonName_old  \\\n104                            NaN   \n38                          Mayfly   \n39                       Caddisfly   \n40                       Caddisfly   \n41                          Mayfly   \n44                 Swamp Greenhood   \n45   Erect Greencomb Spider Orchid   \n60                            None   \n101                       Stonefly   \n102                       Stonefly   \n123                    River Snail   \n\n                               scientificName_old             status_old  \n104                                           NaN                    NaN  \n38                          Wundacaenis flabellum             Vulnerable  \n39                          Westriplectes angelae             Vulnerable  \n40                               Oecetis quadrula             Vulnerable  \n41                         Pseudocloeon hypodelum             Vulnerable  \n44                         Pterostylis tenuissima             Vulnerable  \n45                                Caladenia tensa             Vulnerable  \n60   Prasophyllum sp. Woodlands (D.L.Jones 17707)             Endangered  \n101                         Thaumatoperla robusta         Data Deficient  \n102                          Thaumatoperla timmsi         Data Deficient  \n123                           Notopala sublineata  Critically Endangered  ",
      "text/html": "<div>\n<style scoped>\n    .dataframe tbody tr th:only-of-type {\n        vertical-align: middle;\n    }\n\n    .dataframe tbody tr th {\n        vertical-align: top;\n    }\n\n    .dataframe thead th {\n        text-align: right;\n    }\n</style>\n<table border=\"1\" class=\"dataframe\">\n  <thead>\n    <tr style=\"text-align: right;\">\n      <th></th>\n      <th>name</th>\n      <th>commonName_new</th>\n      <th>scientificName_new</th>\n      <th>status_new</th>\n      <th>listUpdate</th>\n      <th>commonName_old</th>\n      <th>scientificName_old</th>\n      <th>status_old</th>\n    </tr>\n  </thead>\n  <tbody>\n    <tr>\n      <th>104</th>\n      <td>Miniopterus orianae bassanii</td>\n      <td>Southern Bent-winged Bat</td>\n      <td>Miniopterus orianae bassanii</td>\n      <td>Critically Endangered</td>\n      <td>added</td>\n      <td>NaN</td>\n      <td>NaN</td>\n      <td>NaN</td>\n    </tr>\n    <tr>\n      <th>38</th>\n      <td>Wundacaenis flabellum</td>\n      <td>NaN</td>\n      <td>NaN</td>\n      <td>NaN</td>\n      <td>removed</td>\n      <td>Mayfly</td>\n      <td>Wundacaenis flabellum</td>\n      <td>Vulnerable</td>\n    </tr>\n    <tr>\n      <th>39</th>\n      <td>Westriplectes angelae</td>\n      <td>NaN</td>\n      <td>NaN</td>\n      <td>NaN</td>\n      <td>removed</td>\n      <td>Caddisfly</td>\n      <td>Westriplectes angelae</td>\n      <td>Vulnerable</td>\n    </tr>\n    <tr>\n      <th>40</th>\n      <td>Oecetis quadrula</td>\n      <td>NaN</td>\n      <td>NaN</td>\n      <td>NaN</td>\n      <td>removed</td>\n      <td>Caddisfly</td>\n      <td>Oecetis quadrula</td>\n      <td>Vulnerable</td>\n    </tr>\n    <tr>\n      <th>41</th>\n      <td>Pseudocloeon hypodelum</td>\n      <td>NaN</td>\n      <td>NaN</td>\n      <td>NaN</td>\n      <td>removed</td>\n      <td>Mayfly</td>\n      <td>Pseudocloeon hypodelum</td>\n      <td>Vulnerable</td>\n    </tr>\n    <tr>\n      <th>44</th>\n      <td>Pterostylis tenuissima</td>\n      <td>NaN</td>\n      <td>NaN</td>\n      <td>NaN</td>\n      <td>removed</td>\n      <td>Swamp Greenhood</td>\n      <td>Pterostylis tenuissima</td>\n      <td>Vulnerable</td>\n    </tr>\n    <tr>\n      <th>45</th>\n      <td>Caladenia tensa</td>\n      <td>NaN</td>\n      <td>NaN</td>\n      <td>NaN</td>\n      <td>removed</td>\n      <td>Erect Greencomb Spider Orchid</td>\n      <td>Caladenia tensa</td>\n      <td>Vulnerable</td>\n    </tr>\n    <tr>\n      <th>60</th>\n      <td>Prasophyllum sp. aff. validum A</td>\n      <td>NaN</td>\n      <td>NaN</td>\n      <td>NaN</td>\n      <td>removed</td>\n      <td>None</td>\n      <td>Prasophyllum sp. Woodlands (D.L.Jones 17707)</td>\n      <td>Endangered</td>\n    </tr>\n    <tr>\n      <th>101</th>\n      <td>Thaumatoperla robusta</td>\n      <td>NaN</td>\n      <td>NaN</td>\n      <td>NaN</td>\n      <td>removed</td>\n      <td>Stonefly</td>\n      <td>Thaumatoperla robusta</td>\n      <td>Data Deficient</td>\n    </tr>\n    <tr>\n      <th>102</th>\n      <td>Thaumatoperla timmsi</td>\n      <td>NaN</td>\n      <td>NaN</td>\n      <td>NaN</td>\n      <td>removed</td>\n      <td>Stonefly</td>\n      <td>Thaumatoperla timmsi</td>\n      <td>Data Deficient</td>\n    </tr>\n    <tr>\n      <th>123</th>\n      <td>Notopala sublineata</td>\n      <td>NaN</td>\n      <td>NaN</td>\n      <td>NaN</td>\n      <td>removed</td>\n      <td>River Snail</td>\n      <td>Notopala sublineata</td>\n      <td>Critically Endangered</td>\n    </tr>\n  </tbody>\n</table>\n</div>"
     },
     "execution_count": 14,
     "metadata": {},
     "output_type": "execute_result"
    }
   ],
   "source": [
    "# %%script echo skipping # comment this line to run this code\n",
    "filename = \"VIC-sensitive.csv\"\n",
    "prodListUrl = \"https://lists.ala.org.au/ws/speciesListItems/\" + \"dr490\" + \"?max=10000&includeKVP=true\"\n",
    "testListUrl = \"https://lists-test.ala.org.au/ws/speciesListItems/\" + \"dr18669\" + \"?max=10000&includeKVP=true\"\n",
    "changelist = list_functions.get_changelist(testListUrl, prodListUrl )\n",
    "# save the lists locally\n",
    "changelist.to_csv(projectDir + \"analysis/change-log/\" + monthStr + \"-\" + filename, encoding=\"UTF-8\", index=False)\n",
    "prodList = list_functions.download_ala_list(prodListUrl) # save the prod list to the historical lists directory\n",
    "prodList = list_functions.kvp_to_columns(prodList)\n",
    "prodList.to_csv(projectDir + \"historical-lists/sensitive/\" + filename, encoding=\"UTF-8\", index=False)\n",
    "changelist\n",
    "## check this as no list in test at the moment"
   ],
   "metadata": {
    "collapsed": false,
    "pycharm": {
     "name": "#%%\n"
    }
   }
  }
 ],
 "metadata": {
  "kernelspec": {
   "display_name": "Python 3",
   "language": "python",
   "name": "python3"
  },
  "language_info": {
   "codemirror_mode": {
    "name": "ipython",
    "version": 2
   },
   "file_extension": ".py",
   "mimetype": "text/x-python",
   "name": "python",
   "nbconvert_exporter": "python",
   "pygments_lexer": "ipython2",
   "version": "2.7.6"
  }
 },
 "nbformat": 4,
 "nbformat_minor": 0
}