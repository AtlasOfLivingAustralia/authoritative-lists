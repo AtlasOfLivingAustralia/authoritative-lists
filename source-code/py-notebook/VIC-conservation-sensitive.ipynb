{
 "cells": [
  {
   "cell_type": "markdown",
   "source": [
    "# State Conservation Status and Sensitive Species Lists - VIC\n",
    "\n",
    "This notebook downloads the VIC lists from the [Victorian Government Open Data Portal](https://vba.dse.vic.gov.au/vba/downloadVSC.do) and formats them in Darwin Core for ingestion into the ALA Lists tool.\n",
    "It will save original lists to the `source-data/VIC` directory, process the lists and save them to `current-lists`.\n",
    "The lists can be loaded into the lists-test environment then reviewed by following the instructions below.\n",
    "\n",
    "## Lists in the ALA Species List tool\n",
    "* Conservation list: __[dr655](https://lists.ala.org.au/speciesListItem/list/dr655)__ (in [test](https://lists-test.ala.org.au/speciesListItem/list/dr655))\n",
    "* Sensitive list: __[dr490](https://lists.ala.org.au/speciesListItem/list/dr490)__ (in [test](https://lists-test.ala.org.au/speciesListItem/list/dr18669))\n",
    "\n",
    "* Collection: __[dr655](https://collections.ala.org.au/public/show/dr655)__ __[dr490](https://collections.ala.org.au/public/show/dr490)__\n",
    "\n",
    "## Sources\n",
    "Victorian Biodivesity Atlas - Victoria Department of Environment, Land, Water and Planning\n",
    "See https://vba.biodiversity.vic.gov.au/vba\n",
    "\n",
    "* __[Metadata (Open Data Portal)](https://discover.data.vic.gov.au/dataset/victorian-biodiversity-atlas-vba-taxa-list1)__\n",
    "* __[VBA Metadata](https://vba.dse.vic.gov.au/vba/index.jsp)__ (requires sign in)\n",
    "* __[Data](https://vba.dse.vic.gov.au/vba/downloadVSC.do)__\n",
    "\n",
    "**Metadata Description**\n",
    "This list is generated from the subset of species listed in the Victorian Biodiversity Atlas (VBA) Taxa List downloaded from https://vba.dse.vic.gov.au/vba/downloadVSC.do which have a conservation status attributed to them.\n",
    "\n",
    "After the review of the Flora and Fauna Guarantee Act (FFG Act) all previously listed species under the three different legislations and policy have been re-assessed. The VBA has been updated to reflect the gazetted and published FFG Threatened List. The Conservation Status is now only EPBC and FFG. Vic Advisory Lists are now redundant but retained for your information as 'Old Advisory List'. This is the interim measure before the national Single Operational List is finalised, which will replace the 3 different lists previously held in Victoria. The FFG categories are the nationally agreed IUCN Red list terms plus the EPBC Conservation Dependent category.\n",
    "\n",
    "The main attributes in this table are the current VBA taxon_id, scientific name, common name, authority, family (where relevant), conservation status, origin and taxon type. Where possible, taxon id's have been included that provide a match to the obsolete Atlas of Victorian Wildlife taxaid, and the Flora Infromation System.\n",
    "\n",
    "**URL**\n",
    "https://discover.data.vic.gov.au/dataset/victorian-biodiversity-atlas-vba-taxa-list1\n",
    "\n",
    "Prerequisite: Data file has been downloaded into `source-data/VIC/Species-Checklist.csv`\n"
   ],
   "metadata": {
    "collapsed": false,
    "pycharm": {
     "name": "#%% md\n"
    }
   }
  },
  {
   "cell_type": "code",
   "execution_count": 3,
   "outputs": [],
   "source": [
    "# projectDir = \"/Users/new330/IdeaProjects/authoritative-lists/\"\n",
    "projectDir = \"/Users/oco115/PycharmProjects/authoritative-lists/\"\n",
    "\n",
    "import pandas as pd\n",
    "import sys\n",
    "import os\n",
    "\n",
    "# projectDir = \"/Users/new330/IdeaProjects/authoritative-lists/\"\n",
    "sys.path.append(os.path.abspath(projectDir + \"source-code/includes\"))\n",
    "import list_functions as lf\n",
    "\n",
    "cdataDir = \"current-lists/conservation-lists/\"\n",
    "sdataDir = \"current-lists/sensitive-lists/\"\n",
    "vicchecklisturl = \"https://vba.dse.vic.gov.au/vba/downloadVSC.do\" # gets a csv\n",
    "vicchecklist = pd.read_csv(projectDir + \"source-data/VIC/Species-Checklist.csv\",encoding='cp1252')\n"
   ],
   "metadata": {
    "collapsed": false,
    "pycharm": {
     "name": "#%%\n"
    }
   }
  },
  {
   "cell_type": "markdown",
   "source": [
    "# Extract and format initial list\n",
    "1. Drop non-required columns\n",
    "2. Rename columns for Darwin Core list terms\n",
    "3. Assign additional required list fields"
   ],
   "metadata": {
    "collapsed": false,
    "pycharm": {
     "name": "#%% md\n"
    }
   }
  },
  {
   "cell_type": "code",
   "source": [
    "vicchecklist['LAST_MOD'].drop_duplicates().sort_values()"
   ],
   "metadata": {
    "collapsed": false,
    "pycharm": {
     "name": "#%%\n"
    }
   },
   "execution_count": 4,
   "outputs": [
    {
     "data": {
      "text/plain": "22182    01/01/2010\n10432    01/02/2012\n11265    01/02/2018\n12493    01/02/2021\n18298    01/03/2017\n            ...    \n13112    31/10/2016\n159      31/10/2017\n10501    31/10/2018\n11206    31/10/2020\n15567    31/10/2022\nName: LAST_MOD, Length: 899, dtype: object"
     },
     "execution_count": 4,
     "metadata": {},
     "output_type": "execute_result"
    }
   ]
  },
  {
   "cell_type": "code",
   "execution_count": 5,
   "outputs": [],
   "source": [
    "# Drop columns\n",
    "vicchecklist = vicchecklist.drop(['PARENT_TAXON_LEVEL_CDE','PARENT_TAXON_ID','ALL_DISCIPLINE_CODES',\n",
    "                                          'TREATIES','SHORT_NAME','NVIS_GROWTHFORM','SCIENTIFIC_NME_SYNONYM',\n",
    "                                          'COMMON_NME_SYNONYM','PRINT_ORDER_NUM'],axis=1)\n",
    "# Rename columns\n",
    "vicchecklist = vicchecklist.rename(columns=\n",
    "{\n",
    "    'TAXON_ID':'taxonID',\n",
    "    'SCIENTIFIC_NAME':'scientificName',\n",
    "    'VIC_ADVISORY_STATUS':'vicadvisorystatus',\n",
    "    'TAXON_TYPE':'speciesGroup',\n",
    "    'FFG_ACT_STATUS':'ffgactstatus',\n",
    "    'EPBC_ACT_STATUS': 'epbcactStatus',\n",
    "    'TAXON_LEVEL_CDE': 'taxonRank',\n",
    "    'ORIGIN': 'establishmentMeans',\n",
    "    'COMMON_NME_SYNONYM': 'taxonRemarks',\n",
    "    'COMMON_NAME':'vernacularName',\n",
    "    'AUTHORITY':'scientificNameAuthority',\n",
    "    'PRIMARY_DISCIPLINE': 'primaryDiscipline',\n",
    "    'RESTRICTED_FLAG' : 'restrictedFlag',\n",
    "    'EXTRACT_DATE': 'extractDate',\n",
    "    'LAST_MOD':'modified'\n",
    "})\n",
    "vicchecklist['taxonRank'] = 'species'\n",
    "vicchecklist['status'] = vicchecklist['ffgactstatus']\n",
    "vicchecklist['sourceStatus'] = vicchecklist['ffgactstatus']\n",
    "\n",
    "# reformat date\n",
    "vicchecklist['extractDate'] = pd.to_datetime(vicchecklist['extractDate'], format='%d/%m/%Y')\n",
    "vicchecklist['extractDate'] = vicchecklist['extractDate'].dt.strftime('%Y-%m-%d')\n",
    "vicchecklist['modified'] = pd.to_datetime(vicchecklist['modified'], format='%d/%m/%Y')\n",
    "vicchecklist['modified'] = vicchecklist['modified'].dt.strftime('%Y-%m-%d')"
   ],
   "metadata": {
    "collapsed": false,
    "pycharm": {
     "name": "#%%\n"
    }
   }
  },
  {
   "cell_type": "markdown",
   "source": [
    "# Split out sensitive and conservation lists"
   ],
   "metadata": {
    "collapsed": false,
    "pycharm": {
     "name": "#%% md\n"
    }
   }
  },
  {
   "cell_type": "code",
   "execution_count": 6,
   "outputs": [
    {
     "data": {
      "text/plain": "                            0\nsensitive list count      136\nconservation list count  1999",
      "text/html": "<div>\n<style scoped>\n    .dataframe tbody tr th:only-of-type {\n        vertical-align: middle;\n    }\n\n    .dataframe tbody tr th {\n        vertical-align: top;\n    }\n\n    .dataframe thead th {\n        text-align: right;\n    }\n</style>\n<table border=\"1\" class=\"dataframe\">\n  <thead>\n    <tr style=\"text-align: right;\">\n      <th></th>\n      <th>0</th>\n    </tr>\n  </thead>\n  <tbody>\n    <tr>\n      <th>sensitive list count</th>\n      <td>136</td>\n    </tr>\n    <tr>\n      <th>conservation list count</th>\n      <td>1999</td>\n    </tr>\n  </tbody>\n</table>\n</div>"
     },
     "execution_count": 6,
     "metadata": {},
     "output_type": "execute_result"
    }
   ],
   "source": [
    "sensitiveList = vicchecklist[vicchecklist[\"restrictedFlag\"].notna()]\n",
    "conservationList = vicchecklist[vicchecklist[\"status\"].notna()]\n",
    "c = [len(conservationList.index)]\n",
    "d = {'sensitive list count': [len(sensitiveList.index)],\n",
    "     'conservation list count':[len(conservationList.index)]}\n",
    "pd.DataFrame(d).transpose()"
   ],
   "metadata": {
    "collapsed": false,
    "pycharm": {
     "name": "#%%\n"
    }
   }
  },
  {
   "cell_type": "code",
   "execution_count": 7,
   "outputs": [
    {
     "name": "stdout",
     "output_type": "stream",
     "text": [
      "Finished processing\n"
     ]
    }
   ],
   "source": [
    "#Write to CSV\n",
    "conservationList.to_csv(projectDir + cdataDir + \"VIC-conservation.csv\",  encoding=\"UTF-8\", index=False)\n",
    "sensitiveList.to_csv(projectDir + sdataDir + \"VIC-sensitive.csv\",  encoding=\"UTF-8\", index=False)\n",
    "print('Finished processing')"
   ],
   "metadata": {
    "collapsed": false,
    "pycharm": {
     "name": "#%%\n"
    }
   }
  },
  {
   "cell_type": "markdown",
   "source": [
    "# Manual List check\n",
    "\n",
    "**Instructions**\n",
    "1. Load the lists above into the lists-test tool\n",
    "2. Check the list name matching score and the text appearance on species pages\n",
    "3. Unskip the below code and Run the reports below to compare to production. Send the changelog.csv to check. Correct any issues.\n",
    "4. Save the production list into the `historical lists` directory by uncommenting the code section below.\n",
    "5. Load the lists into production"
   ],
   "metadata": {
    "collapsed": false,
    "pycharm": {
     "name": "#%% md\n"
    }
   }
  },
  {
   "cell_type": "markdown",
   "source": [
    "### Conservation List - Download old and new and compare"
   ],
   "metadata": {
    "collapsed": false,
    "pycharm": {
     "name": "#%% md\n"
    }
   }
  },
  {
   "cell_type": "code",
   "execution_count": 8,
   "outputs": [
    {
     "data": {
      "text/plain": "                                  name     commonName_new  \\\n36                     Galaxias sp. 14           Galaxias   \n77      Hyridella (Hyridella) depressa  Freshwater Mussel   \n79             Hyridella narracanensis  Freshwater Mussel   \n985             Leichhardtia australis             Doubah   \n986            Leichhardtia flavescens               None   \n1148                Orianthera pusilla               None   \n1317    Prasophyllum sp. aff. montanum               None   \n1320     Prasophyllum sp. aff. validum               None   \n1039                   Logania pusilla                NaN   \n1060               Marsdenia australis                NaN   \n1061              Marsdenia flavescens                NaN   \n1314  Prasophyllum sp. aff. montanum A                NaN   \n1317   Prasophyllum sp. aff. validum A                NaN   \n\n                                scientificName_new             status_new  \\\n36                              Galaxias terenasus  Critically Endangered   \n77                  Hyridella (Hyridella) depressa             Endangered   \n79             Hyridella (Hyridella) narracanensis             Endangered   \n985                            Marsdenia australis             Endangered   \n986                        Leichhardtia flavescens  Critically Endangered   \n1148                            Orianthera pusilla             Vulnerable   \n1317      Prasophyllum sp. montane (D.T.Rouse 180)             Endangered   \n1320  Prasophyllum sp. Woodlands (D.L.Jones 17707)             Endangered   \n1039                                           NaN                    NaN   \n1060                                           NaN                    NaN   \n1061                                           NaN                    NaN   \n1314                                           NaN                    NaN   \n1317                                           NaN                    NaN   \n\n     listUpdate    commonName_old  \\\n36        added               NaN   \n77        added               NaN   \n79        added               NaN   \n985       added               NaN   \n986       added               NaN   \n1148      added               NaN   \n1317      added               NaN   \n1320      added               NaN   \n1039    removed              None   \n1060    removed            Doubah   \n1061    removed  Yellow Milk-vine   \n1314    removed              None   \n1317    removed              None   \n\n                                scientificName_old             status_old  \n36                                             NaN                    NaN  \n77                                             NaN                    NaN  \n79                                             NaN                    NaN  \n985                                            NaN                    NaN  \n986                                            NaN                    NaN  \n1148                                           NaN                    NaN  \n1317                                           NaN                    NaN  \n1320                                           NaN                    NaN  \n1039                            Orianthera pusilla             Vulnerable  \n1060                           Marsdenia australis             Endangered  \n1061                          Marsdenia flavescens  Critically Endangered  \n1314      Prasophyllum sp. montane (D.T.Rouse 180)             Endangered  \n1317  Prasophyllum sp. Woodlands (D.L.Jones 17707)             Endangered  ",
      "text/html": "<div>\n<style scoped>\n    .dataframe tbody tr th:only-of-type {\n        vertical-align: middle;\n    }\n\n    .dataframe tbody tr th {\n        vertical-align: top;\n    }\n\n    .dataframe thead th {\n        text-align: right;\n    }\n</style>\n<table border=\"1\" class=\"dataframe\">\n  <thead>\n    <tr style=\"text-align: right;\">\n      <th></th>\n      <th>name</th>\n      <th>commonName_new</th>\n      <th>scientificName_new</th>\n      <th>status_new</th>\n      <th>listUpdate</th>\n      <th>commonName_old</th>\n      <th>scientificName_old</th>\n      <th>status_old</th>\n    </tr>\n  </thead>\n  <tbody>\n    <tr>\n      <th>36</th>\n      <td>Galaxias sp. 14</td>\n      <td>Galaxias</td>\n      <td>Galaxias terenasus</td>\n      <td>Critically Endangered</td>\n      <td>added</td>\n      <td>NaN</td>\n      <td>NaN</td>\n      <td>NaN</td>\n    </tr>\n    <tr>\n      <th>77</th>\n      <td>Hyridella (Hyridella) depressa</td>\n      <td>Freshwater Mussel</td>\n      <td>Hyridella (Hyridella) depressa</td>\n      <td>Endangered</td>\n      <td>added</td>\n      <td>NaN</td>\n      <td>NaN</td>\n      <td>NaN</td>\n    </tr>\n    <tr>\n      <th>79</th>\n      <td>Hyridella narracanensis</td>\n      <td>Freshwater Mussel</td>\n      <td>Hyridella (Hyridella) narracanensis</td>\n      <td>Endangered</td>\n      <td>added</td>\n      <td>NaN</td>\n      <td>NaN</td>\n      <td>NaN</td>\n    </tr>\n    <tr>\n      <th>985</th>\n      <td>Leichhardtia australis</td>\n      <td>Doubah</td>\n      <td>Marsdenia australis</td>\n      <td>Endangered</td>\n      <td>added</td>\n      <td>NaN</td>\n      <td>NaN</td>\n      <td>NaN</td>\n    </tr>\n    <tr>\n      <th>986</th>\n      <td>Leichhardtia flavescens</td>\n      <td>None</td>\n      <td>Leichhardtia flavescens</td>\n      <td>Critically Endangered</td>\n      <td>added</td>\n      <td>NaN</td>\n      <td>NaN</td>\n      <td>NaN</td>\n    </tr>\n    <tr>\n      <th>1148</th>\n      <td>Orianthera pusilla</td>\n      <td>None</td>\n      <td>Orianthera pusilla</td>\n      <td>Vulnerable</td>\n      <td>added</td>\n      <td>NaN</td>\n      <td>NaN</td>\n      <td>NaN</td>\n    </tr>\n    <tr>\n      <th>1317</th>\n      <td>Prasophyllum sp. aff. montanum</td>\n      <td>None</td>\n      <td>Prasophyllum sp. montane (D.T.Rouse 180)</td>\n      <td>Endangered</td>\n      <td>added</td>\n      <td>NaN</td>\n      <td>NaN</td>\n      <td>NaN</td>\n    </tr>\n    <tr>\n      <th>1320</th>\n      <td>Prasophyllum sp. aff. validum</td>\n      <td>None</td>\n      <td>Prasophyllum sp. Woodlands (D.L.Jones 17707)</td>\n      <td>Endangered</td>\n      <td>added</td>\n      <td>NaN</td>\n      <td>NaN</td>\n      <td>NaN</td>\n    </tr>\n    <tr>\n      <th>1039</th>\n      <td>Logania pusilla</td>\n      <td>NaN</td>\n      <td>NaN</td>\n      <td>NaN</td>\n      <td>removed</td>\n      <td>None</td>\n      <td>Orianthera pusilla</td>\n      <td>Vulnerable</td>\n    </tr>\n    <tr>\n      <th>1060</th>\n      <td>Marsdenia australis</td>\n      <td>NaN</td>\n      <td>NaN</td>\n      <td>NaN</td>\n      <td>removed</td>\n      <td>Doubah</td>\n      <td>Marsdenia australis</td>\n      <td>Endangered</td>\n    </tr>\n    <tr>\n      <th>1061</th>\n      <td>Marsdenia flavescens</td>\n      <td>NaN</td>\n      <td>NaN</td>\n      <td>NaN</td>\n      <td>removed</td>\n      <td>Yellow Milk-vine</td>\n      <td>Marsdenia flavescens</td>\n      <td>Critically Endangered</td>\n    </tr>\n    <tr>\n      <th>1314</th>\n      <td>Prasophyllum sp. aff. montanum A</td>\n      <td>NaN</td>\n      <td>NaN</td>\n      <td>NaN</td>\n      <td>removed</td>\n      <td>None</td>\n      <td>Prasophyllum sp. montane (D.T.Rouse 180)</td>\n      <td>Endangered</td>\n    </tr>\n    <tr>\n      <th>1317</th>\n      <td>Prasophyllum sp. aff. validum A</td>\n      <td>NaN</td>\n      <td>NaN</td>\n      <td>NaN</td>\n      <td>removed</td>\n      <td>None</td>\n      <td>Prasophyllum sp. Woodlands (D.L.Jones 17707)</td>\n      <td>Endangered</td>\n    </tr>\n  </tbody>\n</table>\n</div>"
     },
     "execution_count": 8,
     "metadata": {},
     "output_type": "execute_result"
    }
   ],
   "source": [
    "# %%script echo skipping # comment this line to run this code\n",
    "\n",
    "import datetime\n",
    "monthStr = datetime.datetime.now().strftime('%Y%m')\n",
    "ltype = \"C\"\n",
    "# conservation\n",
    "filename = \"VIC-conservation.csv\"\n",
    "prodListUrl = \"https://lists.ala.org.au/ws/speciesListItems/\" + \"dr655\" + \"?max=10000&includeKVP=true\"\n",
    "testListUrl = \"https://lists-test.ala.org.au/ws/speciesListItems/\" + \"dr655\" + \"?max=10000&includeKVP=true\"\n",
    "changelist = lf.get_changelist(testListUrl, prodListUrl, ltype)\n",
    "# save the lists locally\n",
    "changelist.to_csv(projectDir + \"analysis/change-log/\" + monthStr + \"-\" + filename, encoding=\"UTF-8\", index=False)\n",
    "changelist"
   ],
   "metadata": {
    "collapsed": false,
    "pycharm": {
     "name": "#%%\n"
    }
   }
  },
  {
   "cell_type": "markdown",
   "source": [
    " ### Download Production lists to Historical Lists directory"
   ],
   "metadata": {
    "collapsed": false,
    "pycharm": {
     "name": "#%% md\n"
    }
   }
  },
  {
   "cell_type": "code",
   "execution_count": 9,
   "outputs": [
    {
     "name": "stdout",
     "output_type": "stream",
     "text": [
      "Finished downloading historical list\n"
     ]
    }
   ],
   "source": [
    "prodList = lf.download_ala_list(prodListUrl)  # save the prod list to the historical lists directory\n",
    "prodList = lf.kvp_to_columns(prodList)\n",
    "prodList.to_csv(projectDir + \"historical-lists/conservation/\" + filename, encoding=\"UTF-8\", index=False)\n",
    "print('Finished downloading historical list')"
   ],
   "metadata": {
    "collapsed": false,
    "pycharm": {
     "name": "#%%\n"
    }
   }
  },
  {
   "cell_type": "markdown",
   "source": [
    "### Sensitive List - Download old and new and compare"
   ],
   "metadata": {
    "collapsed": false,
    "pycharm": {
     "name": "#%% md\n"
    }
   }
  },
  {
   "cell_type": "code",
   "execution_count": 10,
   "outputs": [
    {
     "data": {
      "text/plain": "                                name            commonName_new  \\\n52                Caladenia arenaria   Sand-hill Spider-orchid   \n84          Prasophyllum retroflexum       Kiandra Leek Orchid   \n99          Callocephalon fimbriatum        Gang-gang Cockatoo   \n114     Miniopterus orianae bassanii  Southern Bent-winged Bat   \n60   Prasophyllum sp. aff. validum A                       NaN   \n\n               scientificName_new listUpdate commonName_old  \\\n52             Caladenia arenaria      added            NaN   \n84       Prasophyllum retroflexum      added            NaN   \n99       Callocephalon fimbriatum      added            NaN   \n114  Miniopterus orianae bassanii      added            NaN   \n60                            NaN    removed           None   \n\n                               scientificName_old  \n52                                            NaN  \n84                                            NaN  \n99                                            NaN  \n114                                           NaN  \n60   Prasophyllum sp. Woodlands (D.L.Jones 17707)  ",
      "text/html": "<div>\n<style scoped>\n    .dataframe tbody tr th:only-of-type {\n        vertical-align: middle;\n    }\n\n    .dataframe tbody tr th {\n        vertical-align: top;\n    }\n\n    .dataframe thead th {\n        text-align: right;\n    }\n</style>\n<table border=\"1\" class=\"dataframe\">\n  <thead>\n    <tr style=\"text-align: right;\">\n      <th></th>\n      <th>name</th>\n      <th>commonName_new</th>\n      <th>scientificName_new</th>\n      <th>listUpdate</th>\n      <th>commonName_old</th>\n      <th>scientificName_old</th>\n    </tr>\n  </thead>\n  <tbody>\n    <tr>\n      <th>52</th>\n      <td>Caladenia arenaria</td>\n      <td>Sand-hill Spider-orchid</td>\n      <td>Caladenia arenaria</td>\n      <td>added</td>\n      <td>NaN</td>\n      <td>NaN</td>\n    </tr>\n    <tr>\n      <th>84</th>\n      <td>Prasophyllum retroflexum</td>\n      <td>Kiandra Leek Orchid</td>\n      <td>Prasophyllum retroflexum</td>\n      <td>added</td>\n      <td>NaN</td>\n      <td>NaN</td>\n    </tr>\n    <tr>\n      <th>99</th>\n      <td>Callocephalon fimbriatum</td>\n      <td>Gang-gang Cockatoo</td>\n      <td>Callocephalon fimbriatum</td>\n      <td>added</td>\n      <td>NaN</td>\n      <td>NaN</td>\n    </tr>\n    <tr>\n      <th>114</th>\n      <td>Miniopterus orianae bassanii</td>\n      <td>Southern Bent-winged Bat</td>\n      <td>Miniopterus orianae bassanii</td>\n      <td>added</td>\n      <td>NaN</td>\n      <td>NaN</td>\n    </tr>\n    <tr>\n      <th>60</th>\n      <td>Prasophyllum sp. aff. validum A</td>\n      <td>NaN</td>\n      <td>NaN</td>\n      <td>removed</td>\n      <td>None</td>\n      <td>Prasophyllum sp. Woodlands (D.L.Jones 17707)</td>\n    </tr>\n  </tbody>\n</table>\n</div>"
     },
     "execution_count": 10,
     "metadata": {},
     "output_type": "execute_result"
    }
   ],
   "source": [
    "# %%script echo skipping # comment this line to run this code\n",
    "ltype = \"S\"\n",
    "filename = \"VIC-sensitive.csv\"\n",
    "prodListUrl = \"https://lists.ala.org.au/ws/speciesListItems/\" + \"dr490\" + \"?max=10000&includeKVP=true\"\n",
    "testListUrl = \"https://lists-test.ala.org.au/ws/speciesListItems/\" + \"dr18669\" + \"?max=10000&includeKVP=true\"\n",
    "changelist = lf.get_changelist(testListUrl, prodListUrl, ltype )\n",
    "# save the lists locally\n",
    "changelist.to_csv(projectDir + \"analysis/change-log/\" + monthStr + \"-\" + filename, encoding=\"UTF-8\", index=False)\n",
    "changelist\n",
    "## check this as no list in test at the moment"
   ],
   "metadata": {
    "collapsed": false,
    "pycharm": {
     "name": "#%%\n"
    }
   }
  },
  {
   "cell_type": "markdown",
   "source": [
    "### Download Production lists to Historical Lists directory"
   ],
   "metadata": {
    "collapsed": false,
    "pycharm": {
     "name": "#%% md\n"
    }
   }
  },
  {
   "cell_type": "code",
   "execution_count": 11,
   "outputs": [
    {
     "name": "stdout",
     "output_type": "stream",
     "text": [
      "Finished downloading historical list\n"
     ]
    }
   ],
   "source": [
    "prodList = lf.download_ala_list(prodListUrl)  # save the prod list to the historical lists directory\n",
    "prodList = lf.kvp_to_columns(prodList)\n",
    "prodList.to_csv(projectDir + \"historical-lists/sensitive/\" + filename, encoding=\"UTF-8\", index=False)\n",
    "print('Finished downloading historical list')"
   ],
   "metadata": {
    "collapsed": false,
    "pycharm": {
     "name": "#%%\n"
    }
   }
  }
 ],
 "metadata": {
  "kernelspec": {
   "display_name": "Python 3",
   "language": "python",
   "name": "python3"
  },
  "language_info": {
   "codemirror_mode": {
    "name": "ipython",
    "version": 2
   },
   "file_extension": ".py",
   "mimetype": "text/x-python",
   "name": "python",
   "nbconvert_exporter": "python",
   "pygments_lexer": "ipython2",
   "version": "2.7.6"
  }
 },
 "nbformat": 4,
 "nbformat_minor": 0
}