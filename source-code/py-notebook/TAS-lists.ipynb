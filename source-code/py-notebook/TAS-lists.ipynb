{
 "cells": [
  {
   "cell_type": "code",
   "execution_count": 3,
   "outputs": [],
   "source": [
    "#import essential libraries\n",
    "import pandas as pd"
   ],
   "metadata": {
    "collapsed": false,
    "pycharm": {
     "name": "#%%\n"
    }
   }
  },
  {
   "cell_type": "code",
   "execution_count": null,
   "outputs": [],
   "source": [
    "# update the encoding on the final file\n",
    "# fileurl = \"/Users/new330/IdeaProjects/authoritative-lists/current-lists/conservation-lists/TAS-conservation.csv\"\n",
    "# tas = pd.read_csv(fileurl,encoding='cp1252')\n",
    "# tas.to_csv(fileurl, encoding=\"UTF-8\",index=False)\n",
    "# tas"
   ],
   "metadata": {
    "collapsed": false,
    "pycharm": {
     "name": "#%%\n"
    }
   }
  },
  {
   "cell_type": "code",
   "execution_count": 4,
   "outputs": [
    {
     "name": "stdout",
     "output_type": "stream",
     "text": [
      "Downloading SA Sensitive List\n"
     ]
    },
    {
     "data": {
      "text/plain": "    Origin                         Species            Authority  \\\n0      end                Acacia axillaris               Benth.   \n1      end               Acacia pataczekii           D.I.Morris   \n2      NaN             Acacia siculiformis    A.Cunn. ex Benth.   \n3      NaN               Acacia ulicifolia      (Salisb.) Court   \n4      NaN                Acacia uncifolia  (J.M.Black) O'Leary   \n..     ...                             ...                  ...   \n716    end        Thylacinus cynocephalus                Harris   \n717    end             Thymichthys politus         (Richardson)   \n718    end  Tyto novaehollandiae castanops              (Gould)   \n719    NaN        Vombatus ursinus ursinus                  NaN   \n720    end                Zearaja maugeana      Last & Gledhill   \n\n            Common Name    Family          Group  sch EPBCA Flora/Fauna  \\\n0       midlands wattle  Fabaceae  Dicotyledonae    v    VU       Flora   \n1         wallys wattle  Fabaceae  Dicotyledonae    r   NaN       Flora   \n2         dagger wattle  Fabaceae  Dicotyledonae    r   NaN       Flora   \n3        juniper wattle  Fabaceae  Dicotyledonae    r   NaN       Flora   \n4         coast wirilda  Fabaceae  Dicotyledonae    r   NaN       Flora   \n..                  ...       ...            ...  ...   ...         ...   \n716           Thylacine   Mammals    Vertebrates    x    EX       Fauna   \n717        Red Handfish      Fish    Vertebrates    e    CR       Fauna   \n718          Masked Owl     Birds    Vertebrates    e    VU       Fauna   \n719  Bass Strait Wombat   Mammals    Vertebrates  NaN    VU       Fauna   \n720       Maugean Skate      Fish    Vertebrates    e    EN       Fauna   \n\n    Classification  \n0         vascular  \n1         vascular  \n2         vascular  \n3         vascular  \n4         vascular  \n..             ...  \n716     vertebrate  \n717     vertebrate  \n718     vertebrate  \n719     vertebrate  \n720     vertebrate  \n\n[721 rows x 10 columns]",
      "text/html": "<div>\n<style scoped>\n    .dataframe tbody tr th:only-of-type {\n        vertical-align: middle;\n    }\n\n    .dataframe tbody tr th {\n        vertical-align: top;\n    }\n\n    .dataframe thead th {\n        text-align: right;\n    }\n</style>\n<table border=\"1\" class=\"dataframe\">\n  <thead>\n    <tr style=\"text-align: right;\">\n      <th></th>\n      <th>Origin</th>\n      <th>Species</th>\n      <th>Authority</th>\n      <th>Common Name</th>\n      <th>Family</th>\n      <th>Group</th>\n      <th>sch</th>\n      <th>EPBCA</th>\n      <th>Flora/Fauna</th>\n      <th>Classification</th>\n    </tr>\n  </thead>\n  <tbody>\n    <tr>\n      <th>0</th>\n      <td>end</td>\n      <td>Acacia axillaris</td>\n      <td>Benth.</td>\n      <td>midlands wattle</td>\n      <td>Fabaceae</td>\n      <td>Dicotyledonae</td>\n      <td>v</td>\n      <td>VU</td>\n      <td>Flora</td>\n      <td>vascular</td>\n    </tr>\n    <tr>\n      <th>1</th>\n      <td>end</td>\n      <td>Acacia pataczekii</td>\n      <td>D.I.Morris</td>\n      <td>wallys wattle</td>\n      <td>Fabaceae</td>\n      <td>Dicotyledonae</td>\n      <td>r</td>\n      <td>NaN</td>\n      <td>Flora</td>\n      <td>vascular</td>\n    </tr>\n    <tr>\n      <th>2</th>\n      <td>NaN</td>\n      <td>Acacia siculiformis</td>\n      <td>A.Cunn. ex Benth.</td>\n      <td>dagger wattle</td>\n      <td>Fabaceae</td>\n      <td>Dicotyledonae</td>\n      <td>r</td>\n      <td>NaN</td>\n      <td>Flora</td>\n      <td>vascular</td>\n    </tr>\n    <tr>\n      <th>3</th>\n      <td>NaN</td>\n      <td>Acacia ulicifolia</td>\n      <td>(Salisb.) Court</td>\n      <td>juniper wattle</td>\n      <td>Fabaceae</td>\n      <td>Dicotyledonae</td>\n      <td>r</td>\n      <td>NaN</td>\n      <td>Flora</td>\n      <td>vascular</td>\n    </tr>\n    <tr>\n      <th>4</th>\n      <td>NaN</td>\n      <td>Acacia uncifolia</td>\n      <td>(J.M.Black) O'Leary</td>\n      <td>coast wirilda</td>\n      <td>Fabaceae</td>\n      <td>Dicotyledonae</td>\n      <td>r</td>\n      <td>NaN</td>\n      <td>Flora</td>\n      <td>vascular</td>\n    </tr>\n    <tr>\n      <th>...</th>\n      <td>...</td>\n      <td>...</td>\n      <td>...</td>\n      <td>...</td>\n      <td>...</td>\n      <td>...</td>\n      <td>...</td>\n      <td>...</td>\n      <td>...</td>\n      <td>...</td>\n    </tr>\n    <tr>\n      <th>716</th>\n      <td>end</td>\n      <td>Thylacinus cynocephalus</td>\n      <td>Harris</td>\n      <td>Thylacine</td>\n      <td>Mammals</td>\n      <td>Vertebrates</td>\n      <td>x</td>\n      <td>EX</td>\n      <td>Fauna</td>\n      <td>vertebrate</td>\n    </tr>\n    <tr>\n      <th>717</th>\n      <td>end</td>\n      <td>Thymichthys politus</td>\n      <td>(Richardson)</td>\n      <td>Red Handfish</td>\n      <td>Fish</td>\n      <td>Vertebrates</td>\n      <td>e</td>\n      <td>CR</td>\n      <td>Fauna</td>\n      <td>vertebrate</td>\n    </tr>\n    <tr>\n      <th>718</th>\n      <td>end</td>\n      <td>Tyto novaehollandiae castanops</td>\n      <td>(Gould)</td>\n      <td>Masked Owl</td>\n      <td>Birds</td>\n      <td>Vertebrates</td>\n      <td>e</td>\n      <td>VU</td>\n      <td>Fauna</td>\n      <td>vertebrate</td>\n    </tr>\n    <tr>\n      <th>719</th>\n      <td>NaN</td>\n      <td>Vombatus ursinus ursinus</td>\n      <td>NaN</td>\n      <td>Bass Strait Wombat</td>\n      <td>Mammals</td>\n      <td>Vertebrates</td>\n      <td>NaN</td>\n      <td>VU</td>\n      <td>Fauna</td>\n      <td>vertebrate</td>\n    </tr>\n    <tr>\n      <th>720</th>\n      <td>end</td>\n      <td>Zearaja maugeana</td>\n      <td>Last &amp; Gledhill</td>\n      <td>Maugean Skate</td>\n      <td>Fish</td>\n      <td>Vertebrates</td>\n      <td>e</td>\n      <td>EN</td>\n      <td>Fauna</td>\n      <td>vertebrate</td>\n    </tr>\n  </tbody>\n</table>\n<p>721 rows × 10 columns</p>\n</div>"
     },
     "execution_count": 4,
     "metadata": {},
     "output_type": "execute_result"
    }
   ],
   "source": [
    "taslisturl = \"https://nre.tas.gov.au/Documents/TasThreatenedSpecies.XLS\"\n",
    "# Process Sensitive List\n",
    "print('Downloading SA Sensitive List')\n",
    "tasconservation = pd.read_excel(taslisturl)\n",
    "tasconservation"
   ],
   "metadata": {
    "collapsed": false,
    "pycharm": {
     "name": "#%%\n"
    }
   }
  },
  {
   "cell_type": "code",
   "execution_count": 6,
   "outputs": [
    {
     "data": {
      "text/plain": "Index(['Origin', 'Species', 'Authority', 'Common Name', 'Family', 'Group',\n       'sch', 'EPBCA', 'Flora/Fauna', 'Classification'],\n      dtype='object')"
     },
     "execution_count": 6,
     "metadata": {},
     "output_type": "execute_result"
    }
   ],
   "source": [
    "tasconservation.columns"
   ],
   "metadata": {
    "collapsed": false,
    "pycharm": {
     "name": "#%%\n"
    }
   }
  },
  {
   "cell_type": "code",
   "execution_count": null,
   "outputs": [],
   "source": [
    "tasconservation = tasconservation.rename(columns={'Origin': 'sourceOrigin'\n",
    "                                                            'species: 'scientificName',\n",
    "                                                            'Authority': 'authority',\n",
    "                                                            'Common Name': 'vernacularName',\n",
    "                                                            'Family': 'family',\n",
    "                                                            'sch': 'sourceStatus',\n",
    "                                                            'EPBCA': 'epbcaStatus'\n",
    "                                                            'Classification': 'class'\n",
    "                                                            })\n",
    "tasconservation.drop(['Group','Flora/Fauna'],axis=1,inplace=True)"
   ],
   "metadata": {
    "collapsed": false,
    "pycharm": {
     "name": "#%%\n"
    }
   }
  }
 ],
 "metadata": {
  "kernelspec": {
   "display_name": "Python 3",
   "language": "python",
   "name": "python3"
  },
  "language_info": {
   "codemirror_mode": {
    "name": "ipython",
    "version": 2
   },
   "file_extension": ".py",
   "mimetype": "text/x-python",
   "name": "python",
   "nbconvert_exporter": "python",
   "pygments_lexer": "ipython2",
   "version": "2.7.6"
  }
 },
 "nbformat": 4,
 "nbformat_minor": 0
}