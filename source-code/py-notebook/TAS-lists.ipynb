{
 "cells": [
  {
   "cell_type": "code",
   "execution_count": 5,
   "metadata": {
    "collapsed": true
   },
   "outputs": [
    {
     "data": {
      "text/plain": "                             scientificName  \\\n0                             Costora iena    \n1                    Hadronyche pulvinator    \n2                   Hypolimnus pedderensis    \n3                  Thylacinus cynocephalus    \n4    Gallirallus philippensis macquariensis   \n..                                      ...   \n678                    Erioderma sorediatum   \n679              Xanthoparmelia amphixantha   \n680              Xanthoparmelia molliuscula   \n681             Xanthoparmelia subloxodella   \n682                 Xanthoparmelia willisii   \n\n                              scientificNameAuthorship  \\\n0                                               Mosely   \n1                                              Hickman   \n2                                           (Jamieson)   \n3                                               Harris   \n4                                               Hutton   \n..                                                 ...   \n678                           D.J.Galloway & P.M.Jørg.   \n679                                  (Müll.Arg.) Hale    \n680                                        (Ach.) Hale   \n681  (Elix & Kantvilas) O.Blanco, A.Crespo, Elix, D...   \n682                 (Kurok. & Filson) Elix & J.Johnst.   \n\n                vernacularName        family          class sourceStatus  \\\n0     Caddis Fly (Great Lakes)   Trichoptera  Invertebrates            x   \n1    Cascade Funnel-web Spider       Araneae  Invertebrates            x   \n2        Lake Pedder Earthworm   Haplotaxida  Invertebrates            x   \n3                    Thylacine       Mammals    Vertebrates            x   \n4        Macquarie Island Rail         Birds    Vertebrates            x   \n..                         ...           ...            ...          ...   \n678                        NaN  Pannariaceae         Lichen            e   \n679                        NaN  Parmeliaceae         Lichen            e   \n680                        NaN  Parmeliaceae         Lichen            e   \n681                        NaN  Parmeliaceae         Lichen            e   \n682                        NaN  Parmeliaceae         Lichen            e   \n\n               status EPBCA_status sourceKingdom   kingdom  speciesGroup  \\\n0    Presumed Extinct          NaN         Fauna  Animalia  invertebrate   \n1    Presumed Extinct          NaN         Fauna  Animalia  invertebrate   \n2    Presumed Extinct           EX         Fauna  Animalia  invertebrate   \n3    Presumed Extinct           EX         Fauna  Animalia    vertebrate   \n4    Presumed Extinct           EX         Fauna  Animalia    vertebrate   \n..                ...          ...           ...       ...           ...   \n678        Endangered          NaN         Flora   Plantae  non-vascular   \n679        Endangered          NaN         Flora   Plantae  non-vascular   \n680        Endangered          NaN         Flora   Plantae  non-vascular   \n681        Endangered          NaN         Flora   Plantae  non-vascular   \n682        Endangered          NaN         Flora   Plantae  non-vascular   \n\n     Unnamed: 11 sourceOrigin           higherGeography  \n0            NaN          end          endemic Tasmania  \n1            NaN          end          endemic Tasmania  \n2            NaN          end          endemic Tasmania  \n3            NaN          end          endemic Tasmania  \n4            NaN          eMI  endemic Macquarie Island  \n..           ...          ...                       ...  \n678          NaN          NaN                       NaN  \n679          NaN          NaN                       NaN  \n680          NaN          NaN                       NaN  \n681          NaN          NaN                       NaN  \n682          NaN          NaN                       NaN  \n\n[683 rows x 14 columns]",
      "text/html": "<div>\n<style scoped>\n    .dataframe tbody tr th:only-of-type {\n        vertical-align: middle;\n    }\n\n    .dataframe tbody tr th {\n        vertical-align: top;\n    }\n\n    .dataframe thead th {\n        text-align: right;\n    }\n</style>\n<table border=\"1\" class=\"dataframe\">\n  <thead>\n    <tr style=\"text-align: right;\">\n      <th></th>\n      <th>scientificName</th>\n      <th>scientificNameAuthorship</th>\n      <th>vernacularName</th>\n      <th>family</th>\n      <th>class</th>\n      <th>sourceStatus</th>\n      <th>status</th>\n      <th>EPBCA_status</th>\n      <th>sourceKingdom</th>\n      <th>kingdom</th>\n      <th>speciesGroup</th>\n      <th>Unnamed: 11</th>\n      <th>sourceOrigin</th>\n      <th>higherGeography</th>\n    </tr>\n  </thead>\n  <tbody>\n    <tr>\n      <th>0</th>\n      <td>Costora iena</td>\n      <td>Mosely</td>\n      <td>Caddis Fly (Great Lakes)</td>\n      <td>Trichoptera</td>\n      <td>Invertebrates</td>\n      <td>x</td>\n      <td>Presumed Extinct</td>\n      <td>NaN</td>\n      <td>Fauna</td>\n      <td>Animalia</td>\n      <td>invertebrate</td>\n      <td>NaN</td>\n      <td>end</td>\n      <td>endemic Tasmania</td>\n    </tr>\n    <tr>\n      <th>1</th>\n      <td>Hadronyche pulvinator</td>\n      <td>Hickman</td>\n      <td>Cascade Funnel-web Spider</td>\n      <td>Araneae</td>\n      <td>Invertebrates</td>\n      <td>x</td>\n      <td>Presumed Extinct</td>\n      <td>NaN</td>\n      <td>Fauna</td>\n      <td>Animalia</td>\n      <td>invertebrate</td>\n      <td>NaN</td>\n      <td>end</td>\n      <td>endemic Tasmania</td>\n    </tr>\n    <tr>\n      <th>2</th>\n      <td>Hypolimnus pedderensis</td>\n      <td>(Jamieson)</td>\n      <td>Lake Pedder Earthworm</td>\n      <td>Haplotaxida</td>\n      <td>Invertebrates</td>\n      <td>x</td>\n      <td>Presumed Extinct</td>\n      <td>EX</td>\n      <td>Fauna</td>\n      <td>Animalia</td>\n      <td>invertebrate</td>\n      <td>NaN</td>\n      <td>end</td>\n      <td>endemic Tasmania</td>\n    </tr>\n    <tr>\n      <th>3</th>\n      <td>Thylacinus cynocephalus</td>\n      <td>Harris</td>\n      <td>Thylacine</td>\n      <td>Mammals</td>\n      <td>Vertebrates</td>\n      <td>x</td>\n      <td>Presumed Extinct</td>\n      <td>EX</td>\n      <td>Fauna</td>\n      <td>Animalia</td>\n      <td>vertebrate</td>\n      <td>NaN</td>\n      <td>end</td>\n      <td>endemic Tasmania</td>\n    </tr>\n    <tr>\n      <th>4</th>\n      <td>Gallirallus philippensis macquariensis</td>\n      <td>Hutton</td>\n      <td>Macquarie Island Rail</td>\n      <td>Birds</td>\n      <td>Vertebrates</td>\n      <td>x</td>\n      <td>Presumed Extinct</td>\n      <td>EX</td>\n      <td>Fauna</td>\n      <td>Animalia</td>\n      <td>vertebrate</td>\n      <td>NaN</td>\n      <td>eMI</td>\n      <td>endemic Macquarie Island</td>\n    </tr>\n    <tr>\n      <th>...</th>\n      <td>...</td>\n      <td>...</td>\n      <td>...</td>\n      <td>...</td>\n      <td>...</td>\n      <td>...</td>\n      <td>...</td>\n      <td>...</td>\n      <td>...</td>\n      <td>...</td>\n      <td>...</td>\n      <td>...</td>\n      <td>...</td>\n      <td>...</td>\n    </tr>\n    <tr>\n      <th>678</th>\n      <td>Erioderma sorediatum</td>\n      <td>D.J.Galloway &amp; P.M.Jørg.</td>\n      <td>NaN</td>\n      <td>Pannariaceae</td>\n      <td>Lichen</td>\n      <td>e</td>\n      <td>Endangered</td>\n      <td>NaN</td>\n      <td>Flora</td>\n      <td>Plantae</td>\n      <td>non-vascular</td>\n      <td>NaN</td>\n      <td>NaN</td>\n      <td>NaN</td>\n    </tr>\n    <tr>\n      <th>679</th>\n      <td>Xanthoparmelia amphixantha</td>\n      <td>(Müll.Arg.) Hale</td>\n      <td>NaN</td>\n      <td>Parmeliaceae</td>\n      <td>Lichen</td>\n      <td>e</td>\n      <td>Endangered</td>\n      <td>NaN</td>\n      <td>Flora</td>\n      <td>Plantae</td>\n      <td>non-vascular</td>\n      <td>NaN</td>\n      <td>NaN</td>\n      <td>NaN</td>\n    </tr>\n    <tr>\n      <th>680</th>\n      <td>Xanthoparmelia molliuscula</td>\n      <td>(Ach.) Hale</td>\n      <td>NaN</td>\n      <td>Parmeliaceae</td>\n      <td>Lichen</td>\n      <td>e</td>\n      <td>Endangered</td>\n      <td>NaN</td>\n      <td>Flora</td>\n      <td>Plantae</td>\n      <td>non-vascular</td>\n      <td>NaN</td>\n      <td>NaN</td>\n      <td>NaN</td>\n    </tr>\n    <tr>\n      <th>681</th>\n      <td>Xanthoparmelia subloxodella</td>\n      <td>(Elix &amp; Kantvilas) O.Blanco, A.Crespo, Elix, D...</td>\n      <td>NaN</td>\n      <td>Parmeliaceae</td>\n      <td>Lichen</td>\n      <td>e</td>\n      <td>Endangered</td>\n      <td>NaN</td>\n      <td>Flora</td>\n      <td>Plantae</td>\n      <td>non-vascular</td>\n      <td>NaN</td>\n      <td>NaN</td>\n      <td>NaN</td>\n    </tr>\n    <tr>\n      <th>682</th>\n      <td>Xanthoparmelia willisii</td>\n      <td>(Kurok. &amp; Filson) Elix &amp; J.Johnst.</td>\n      <td>NaN</td>\n      <td>Parmeliaceae</td>\n      <td>Lichen</td>\n      <td>e</td>\n      <td>Endangered</td>\n      <td>NaN</td>\n      <td>Flora</td>\n      <td>Plantae</td>\n      <td>non-vascular</td>\n      <td>NaN</td>\n      <td>NaN</td>\n      <td>NaN</td>\n    </tr>\n  </tbody>\n</table>\n<p>683 rows × 14 columns</p>\n</div>"
     },
     "execution_count": 5,
     "metadata": {},
     "output_type": "execute_result"
    }
   ],
   "source": [
    "#import essential libraries\n",
    "import pandas as pd\n",
    "\n",
    "# update the encoding on the final file\n",
    "fileurl = \"/Users/new330/IdeaProjects/authoritative-lists/current-lists/conservation-lists/TAS-conservation.csv\"\n",
    "tas = pd.read_csv(fileurl,encoding='cp1252')\n",
    "tas.to_csv(fileurl, encoding=\"UTF-8\",index=False)\n",
    "tas"
   ]
  }
 ],
 "metadata": {
  "kernelspec": {
   "display_name": "Python 3",
   "language": "python",
   "name": "python3"
  },
  "language_info": {
   "codemirror_mode": {
    "name": "ipython",
    "version": 2
   },
   "file_extension": ".py",
   "mimetype": "text/x-python",
   "name": "python",
   "nbconvert_exporter": "python",
   "pygments_lexer": "ipython2",
   "version": "2.7.6"
  }
 },
 "nbformat": 4,
 "nbformat_minor": 0
}