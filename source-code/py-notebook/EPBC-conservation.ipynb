{
 "cells": [
  {
   "cell_type": "markdown",
   "source": [
    "# EPBC Conservation List\n",
    "\n",
    "## List Identifier\n",
    "* Conservation list: __[dr656](https://lists.ala.org.au/speciesListItem/list/dr656)__\n",
    "\n",
    "## Documentation\n",
    "*  __[Home Page](https://data.gov.au/data/dataset/threatened-species-state-lists)__\n",
    "*  __[Dataset](https://data.gov.au/data/dataset/threatened-species-state-lists/resource/78401dce-1f40-49d3-92c4-3713d6e34974)__\n",
    "*  __[API](https://data.gov.au/data/api/1/util/snippet/api_info.html?resource_id=78401dce-1f40-49d3-92c4-3713d6e34974)__"
   ],
   "metadata": {
    "collapsed": false,
    "pycharm": {
     "name": "#%% md\n"
    }
   }
  },
  {
   "cell_type": "markdown",
   "source": [
    "Import essential libraries"
   ],
   "metadata": {
    "collapsed": false,
    "pycharm": {
     "name": "#%% md\n"
    }
   }
  },
  {
   "cell_type": "code",
   "execution_count": null,
   "outputs": [],
   "source": [
    "import pandas as pd\n",
    "import urllib.request, json # used when retrieving dataset from API"
   ],
   "metadata": {
    "collapsed": false,
    "pycharm": {
     "name": "#%%\n"
    }
   }
  },
  {
   "cell_type": "markdown",
   "source": [
    "Set project directories\n",
    "Code to retrieve dataset from either:\n",
    "* downloaded CSV file\n",
    "* API"
   ],
   "metadata": {
    "collapsed": false,
    "pycharm": {
     "name": "#%% md\n"
    }
   }
  },
  {
   "cell_type": "code",
   "execution_count": null,
   "outputs": [],
   "source": [
    "projectDir = \"/Users/oco115/PycharmProjects/authoritative-lists/\"\n",
    "dataDir = \"current-lists/conservation-lists/\"\n",
    "epbcreport = pd.read_csv(projectDir + \"source-data/EPBCA/20221005spcs.csv\",skiprows=0)\n",
    "\n",
    "# epbcreport.columns\n",
    "# listURL = \"https://data.gov.au/data/api/3/action/datastore_search?resource_id=78401dce-1f40-49d3-92c4-3713d6e34974&limit=40000\"\n",
    "# with urllib.request.urlopen(listURL) as url:\n",
    "#     data = json.loads(url.read().decode())"
   ],
   "metadata": {
    "collapsed": false,
    "pycharm": {
     "name": "#%%\n"
    }
   }
  },
  {
   "cell_type": "code",
   "execution_count": 28,
   "outputs": [
    {
     "data": {
      "text/plain": "Index(['Scientific Name', 'Common Name', 'Current Scientific Name',\n       'Threatened status', 'ACT', 'NSW', 'NT', 'QLD', 'SA', 'TAS', 'VIC',\n       'WA', 'ACI', 'CKI', 'CI', 'CSI', 'JBT', 'NFI', 'HMI', 'AAT', 'CMA',\n       'Listed SPRAT TaxonID', 'Current SPRAT TaxonID', 'Kingdom', 'Class',\n       'Profile', 'Date extracted', 'NSL Name', 'Family', 'Genus', 'Species',\n       'Infraspecific Rank', 'Infraspecies', 'Species Author',\n       'Infraspecies Author'],\n      dtype='object')"
     },
     "execution_count": 28,
     "metadata": {},
     "output_type": "execute_result"
    }
   ],
   "source": [
    "epbcreport.columns"
   ],
   "metadata": {
    "collapsed": false,
    "pycharm": {
     "name": "#%%\n"
    }
   }
  },
  {
   "cell_type": "markdown",
   "source": [],
   "metadata": {
    "collapsed": false,
    "pycharm": {
     "name": "#%% md\n"
    }
   }
  },
  {
   "cell_type": "markdown",
   "source": [
    "Darwin Core terms column mapping"
   ],
   "metadata": {
    "collapsed": false,
    "pycharm": {
     "name": "#%% md\n"
    }
   }
  },
  {
   "cell_type": "code",
   "execution_count": null,
   "outputs": [],
   "source": [
    "\n",
    "epbcreport = epbcreport.rename(columns=\n",
    "                               {'Scientific Name': 'scientificName',\n",
    "                                'Common Name': 'vernacularName',\n",
    "                                'Threatened status': 'status',\n",
    "                                'Kingdom': 'kingdom',\n",
    "                                'Phylum': 'phylum',\n",
    "                                'Class': 'class',\n",
    "                                'Order': 'order',\n",
    "                                'Family': 'family',\n",
    "                                'Genus': 'genus',\n",
    "                                'Species': 'species',\n",
    "                                'ACT':'Australian Capital Territory',\n",
    "                                'NSW': 'New South Wales',\n",
    "                                'NT': 'Northern Territory',\n",
    "                                'QLD': 'Queensland',\n",
    "                                'SA': 'South Australia',\n",
    "                                'TAS': 'Tasmania',\n",
    "                                'VIC': 'Victoria',\n",
    "                                'WA': 'Western Australia',\n",
    "                                'ACI': 'Ashmore and Cartier Islands',\n",
    "                                'CKI': 'Cocos (Keeling) Islands',\n",
    "                                'CI': 'Christmas Island',\n",
    "                                'CSI': 'Coral Sea Islands',\n",
    "                                'JBT': 'Jervis Bay Territory',\n",
    "                                'NFI': 'Norfolk Island',\n",
    "                                'HMI': 'Heard and McDonald Islands',\n",
    "                                'AAT': 'Australian Antarctic Territory',\n",
    "                                'CMA': 'Commonwealth Marine Area',\n",
    "                                'Listed SPRAT TaxonID' : 'listed sprat taxonID',\n",
    "                                'Current SPRAT TaxonID': 'current sprat taxonID',\n",
    "                                'NSL Name': 'nsl name'\n",
    "                                })"
   ],
   "metadata": {
    "collapsed": false,
    "pycharm": {
     "name": "#%%\n"
    }
   }
  },
  {
   "cell_type": "markdown",
   "source": [],
   "metadata": {
    "collapsed": false,
    "pycharm": {
     "name": "#%% md\n"
    }
   }
  },
  {
   "cell_type": "markdown",
   "source": [
    "Remove multiple spaces from column names\n",
    "Remove () characters from column names"
   ],
   "metadata": {
    "collapsed": false,
    "pycharm": {
     "name": "#%% md\n"
    }
   }
  },
  {
   "cell_type": "code",
   "execution_count": null,
   "outputs": [],
   "source": [
    "\n",
    "epbcreport['sourceStatus'] = epbcreport['status']\n",
    "\n",
    "epbcreport.columns = epbcreport.columns.str.replace(\"  \", \"\", regex=True) # remove multiple spacesfrom column names\n",
    "epbcreport.columns = epbcreport.columns.str.replace(r\"[().: ]\", \" \", regex=True) # remove : () from column names\n",
    "epbcreport.columns = epbcreport.columns.str.strip()\n",
    "epbcreport.columns"
   ],
   "metadata": {
    "collapsed": false,
    "pycharm": {
     "name": "#%%\n"
    }
   }
  },
  {
   "cell_type": "code",
   "execution_count": 31,
   "outputs": [],
   "source": [
    "# create an epbc list: should be 1955 species (with EPBC Threat Status)\n",
    "epbc= epbcreport[epbcreport[\"status\"].notna()]"
   ],
   "metadata": {
    "collapsed": false,
    "pycharm": {
     "name": "#%%\n"
    }
   }
  },
  {
   "cell_type": "markdown",
   "source": [
    "Correct date format"
   ],
   "metadata": {
    "collapsed": false,
    "pycharm": {
     "name": "#%% md\n"
    }
   }
  },
  {
   "cell_type": "code",
   "execution_count": null,
   "outputs": [],
   "source": [
    "# convert dates\n",
    "epbc['Date extracted'] = pd.to_datetime(epbc['Date extracted'])\n",
    "epbc['Date extracted'] = epbc['Date extracted'].dt.strftime('%Y-%m-%d')\n",
    "epbc['Date extracted']"
   ],
   "metadata": {
    "collapsed": false,
    "pycharm": {
     "name": "#%%\n"
    }
   }
  },
  {
   "cell_type": "markdown",
   "source": [
    "Write dataframe to CSV - UTF-8 Encoding"
   ],
   "metadata": {
    "collapsed": false,
    "pycharm": {
     "name": "#%% md\n"
    }
   }
  },
  {
   "cell_type": "code",
   "execution_count": null,
   "outputs": [],
   "source": [
    "epbc.to_csv(projectDir + dataDir + \"EPBC-conservation-20221005.csv\",encoding=\"UTF-8\",index=False)"
   ],
   "metadata": {
    "collapsed": false,
    "pycharm": {
     "name": "#%%\n"
    }
   }
  },
  {
   "cell_type": "code",
   "execution_count": 34,
   "outputs": [
    {
     "data": {
      "text/plain": "             scientificName  \\\n0         Abutilon julianae   \n1          Acacia ammophila   \n2            Acacia anomala   \n3            Acacia aphylla   \n4             Acacia aprica   \n...                     ...   \n1968  Zosterops albogularis   \n1969     Zosterops strenuus   \n1970          Zyzomys maini   \n1971      Zyzomys palatalis   \n1972   Zyzomys pedunculatus   \n\n                                         vernacularName  \\\n0                               Norfolk Island Abutilon   \n1                                                     -   \n2                 Grass Wattle, Chittering Grass Wattle   \n3                                  Leafless Rock Wattle   \n4                                          Blunt Wattle   \n...                                                 ...   \n1968  White-chested White-eye, Norfolk Island Silvereye   \n1969                                   Robust White-eye   \n1970    Arnhem Rock-rat, Arnhem Land Rock-rat, Kodjperr   \n1971               Carpentarian Rock-rat, Aywalirroomoo   \n1972                           Central Rock-rat, Antina   \n\n     Current Scientific Name                 status  \\\n0                          -  Critically Endangered   \n1                          -             Vulnerable   \n2                          -             Vulnerable   \n3                          -             Vulnerable   \n4                          -             Endangered   \n...                      ...                    ...   \n1968                       -                Extinct   \n1969                       -                Extinct   \n1970                       -             Vulnerable   \n1971                       -             Endangered   \n1972                       -  Critically Endangered   \n\n     Australian Capital Territory New South Wales Northern Territory  \\\n0                               -               -                  -   \n1                               -               -                  -   \n2                               -               -                  -   \n3                               -               -                  -   \n4                               -               -                  -   \n...                           ...             ...                ...   \n1968                            -               -                  -   \n1969                            -             Yes                  -   \n1970                            -               -                Yes   \n1971                            -               -                Yes   \n1972                            -               -                Yes   \n\n     Queensland South Australia Tasmania  ... Date extracted  \\\n0             -               -        -  ...    2022-Oct-05   \n1           Yes               -        -  ...    2022-Oct-05   \n2             -               -        -  ...    2022-Oct-05   \n3             -               -        -  ...    2022-Oct-05   \n4             -               -        -  ...    2022-Oct-05   \n...         ...             ...      ...  ...            ...   \n1968          -               -        -  ...    2022-Oct-05   \n1969          -               -        -  ...    2022-Oct-05   \n1970          -               -        -  ...    2022-Oct-05   \n1971          -               -        -  ...    2022-Oct-05   \n1972          -               -        -  ...    2022-Oct-05   \n\n                                             nsl name        family  \\\n0      https://id.biodiversity.org.au/name/apni/56543     Malvaceae   \n1      https://id.biodiversity.org.au/name/apni/58340      Fabaceae   \n2      https://id.biodiversity.org.au/name/apni/58556      Fabaceae   \n3      https://id.biodiversity.org.au/name/apni/58565      Fabaceae   \n4     https://id.biodiversity.org.au/name/apni/149911      Fabaceae   \n...                                               ...           ...   \n1968                                                -  Zosteropidae   \n1969                                                -  Zosteropidae   \n1970                                                -       Muridae   \n1971                                                -       Muridae   \n1972                                                -       Muridae   \n\n          genus       species Infraspecific Rank Infraspecies  \\\n0      Abutilon      julianae                  -            -   \n1        Acacia     ammophila                  -            -   \n2        Acacia       anomala                  -            -   \n3        Acacia       aphylla                  -            -   \n4        Acacia        aprica                  -            -   \n...         ...           ...                ...          ...   \n1968  Zosterops   albogularis                  -            -   \n1969  Zosterops      strenuus                  -            -   \n1970    Zyzomys         maini                  -            -   \n1971    Zyzomys     palatalis                  -            -   \n1972    Zyzomys  pedunculatus                  -            -   \n\n            Species Author Infraspecies Author           sourceStatus  \n0                    Endl.                   -  Critically Endangered  \n1                   Pedley                   -             Vulnerable  \n2     C.A.Gardner ex Court                   -             Vulnerable  \n3                   Maslin                   -             Vulnerable  \n4      Maslin  A.R.Chapman                   -             Endangered  \n...                    ...                 ...                    ...  \n1968           Gould, 1837                   -                Extinct  \n1969           Gould, 1855                   -                Extinct  \n1970        Kitchener,1989                   -             Vulnerable  \n1971        Kitchener,1989                   -             Endangered  \n1972          (Waite,1896)                   -  Critically Endangered  \n\n[1973 rows x 36 columns]",
      "text/html": "<div>\n<style scoped>\n    .dataframe tbody tr th:only-of-type {\n        vertical-align: middle;\n    }\n\n    .dataframe tbody tr th {\n        vertical-align: top;\n    }\n\n    .dataframe thead th {\n        text-align: right;\n    }\n</style>\n<table border=\"1\" class=\"dataframe\">\n  <thead>\n    <tr style=\"text-align: right;\">\n      <th></th>\n      <th>scientificName</th>\n      <th>vernacularName</th>\n      <th>Current Scientific Name</th>\n      <th>status</th>\n      <th>Australian Capital Territory</th>\n      <th>New South Wales</th>\n      <th>Northern Territory</th>\n      <th>Queensland</th>\n      <th>South Australia</th>\n      <th>Tasmania</th>\n      <th>...</th>\n      <th>Date extracted</th>\n      <th>nsl name</th>\n      <th>family</th>\n      <th>genus</th>\n      <th>species</th>\n      <th>Infraspecific Rank</th>\n      <th>Infraspecies</th>\n      <th>Species Author</th>\n      <th>Infraspecies Author</th>\n      <th>sourceStatus</th>\n    </tr>\n  </thead>\n  <tbody>\n    <tr>\n      <th>0</th>\n      <td>Abutilon julianae</td>\n      <td>Norfolk Island Abutilon</td>\n      <td>-</td>\n      <td>Critically Endangered</td>\n      <td>-</td>\n      <td>-</td>\n      <td>-</td>\n      <td>-</td>\n      <td>-</td>\n      <td>-</td>\n      <td>...</td>\n      <td>2022-Oct-05</td>\n      <td>https://id.biodiversity.org.au/name/apni/56543</td>\n      <td>Malvaceae</td>\n      <td>Abutilon</td>\n      <td>julianae</td>\n      <td>-</td>\n      <td>-</td>\n      <td>Endl.</td>\n      <td>-</td>\n      <td>Critically Endangered</td>\n    </tr>\n    <tr>\n      <th>1</th>\n      <td>Acacia ammophila</td>\n      <td>-</td>\n      <td>-</td>\n      <td>Vulnerable</td>\n      <td>-</td>\n      <td>-</td>\n      <td>-</td>\n      <td>Yes</td>\n      <td>-</td>\n      <td>-</td>\n      <td>...</td>\n      <td>2022-Oct-05</td>\n      <td>https://id.biodiversity.org.au/name/apni/58340</td>\n      <td>Fabaceae</td>\n      <td>Acacia</td>\n      <td>ammophila</td>\n      <td>-</td>\n      <td>-</td>\n      <td>Pedley</td>\n      <td>-</td>\n      <td>Vulnerable</td>\n    </tr>\n    <tr>\n      <th>2</th>\n      <td>Acacia anomala</td>\n      <td>Grass Wattle, Chittering Grass Wattle</td>\n      <td>-</td>\n      <td>Vulnerable</td>\n      <td>-</td>\n      <td>-</td>\n      <td>-</td>\n      <td>-</td>\n      <td>-</td>\n      <td>-</td>\n      <td>...</td>\n      <td>2022-Oct-05</td>\n      <td>https://id.biodiversity.org.au/name/apni/58556</td>\n      <td>Fabaceae</td>\n      <td>Acacia</td>\n      <td>anomala</td>\n      <td>-</td>\n      <td>-</td>\n      <td>C.A.Gardner ex Court</td>\n      <td>-</td>\n      <td>Vulnerable</td>\n    </tr>\n    <tr>\n      <th>3</th>\n      <td>Acacia aphylla</td>\n      <td>Leafless Rock Wattle</td>\n      <td>-</td>\n      <td>Vulnerable</td>\n      <td>-</td>\n      <td>-</td>\n      <td>-</td>\n      <td>-</td>\n      <td>-</td>\n      <td>-</td>\n      <td>...</td>\n      <td>2022-Oct-05</td>\n      <td>https://id.biodiversity.org.au/name/apni/58565</td>\n      <td>Fabaceae</td>\n      <td>Acacia</td>\n      <td>aphylla</td>\n      <td>-</td>\n      <td>-</td>\n      <td>Maslin</td>\n      <td>-</td>\n      <td>Vulnerable</td>\n    </tr>\n    <tr>\n      <th>4</th>\n      <td>Acacia aprica</td>\n      <td>Blunt Wattle</td>\n      <td>-</td>\n      <td>Endangered</td>\n      <td>-</td>\n      <td>-</td>\n      <td>-</td>\n      <td>-</td>\n      <td>-</td>\n      <td>-</td>\n      <td>...</td>\n      <td>2022-Oct-05</td>\n      <td>https://id.biodiversity.org.au/name/apni/149911</td>\n      <td>Fabaceae</td>\n      <td>Acacia</td>\n      <td>aprica</td>\n      <td>-</td>\n      <td>-</td>\n      <td>Maslin  A.R.Chapman</td>\n      <td>-</td>\n      <td>Endangered</td>\n    </tr>\n    <tr>\n      <th>...</th>\n      <td>...</td>\n      <td>...</td>\n      <td>...</td>\n      <td>...</td>\n      <td>...</td>\n      <td>...</td>\n      <td>...</td>\n      <td>...</td>\n      <td>...</td>\n      <td>...</td>\n      <td>...</td>\n      <td>...</td>\n      <td>...</td>\n      <td>...</td>\n      <td>...</td>\n      <td>...</td>\n      <td>...</td>\n      <td>...</td>\n      <td>...</td>\n      <td>...</td>\n      <td>...</td>\n    </tr>\n    <tr>\n      <th>1968</th>\n      <td>Zosterops albogularis</td>\n      <td>White-chested White-eye, Norfolk Island Silvereye</td>\n      <td>-</td>\n      <td>Extinct</td>\n      <td>-</td>\n      <td>-</td>\n      <td>-</td>\n      <td>-</td>\n      <td>-</td>\n      <td>-</td>\n      <td>...</td>\n      <td>2022-Oct-05</td>\n      <td>-</td>\n      <td>Zosteropidae</td>\n      <td>Zosterops</td>\n      <td>albogularis</td>\n      <td>-</td>\n      <td>-</td>\n      <td>Gould, 1837</td>\n      <td>-</td>\n      <td>Extinct</td>\n    </tr>\n    <tr>\n      <th>1969</th>\n      <td>Zosterops strenuus</td>\n      <td>Robust White-eye</td>\n      <td>-</td>\n      <td>Extinct</td>\n      <td>-</td>\n      <td>Yes</td>\n      <td>-</td>\n      <td>-</td>\n      <td>-</td>\n      <td>-</td>\n      <td>...</td>\n      <td>2022-Oct-05</td>\n      <td>-</td>\n      <td>Zosteropidae</td>\n      <td>Zosterops</td>\n      <td>strenuus</td>\n      <td>-</td>\n      <td>-</td>\n      <td>Gould, 1855</td>\n      <td>-</td>\n      <td>Extinct</td>\n    </tr>\n    <tr>\n      <th>1970</th>\n      <td>Zyzomys maini</td>\n      <td>Arnhem Rock-rat, Arnhem Land Rock-rat, Kodjperr</td>\n      <td>-</td>\n      <td>Vulnerable</td>\n      <td>-</td>\n      <td>-</td>\n      <td>Yes</td>\n      <td>-</td>\n      <td>-</td>\n      <td>-</td>\n      <td>...</td>\n      <td>2022-Oct-05</td>\n      <td>-</td>\n      <td>Muridae</td>\n      <td>Zyzomys</td>\n      <td>maini</td>\n      <td>-</td>\n      <td>-</td>\n      <td>Kitchener,1989</td>\n      <td>-</td>\n      <td>Vulnerable</td>\n    </tr>\n    <tr>\n      <th>1971</th>\n      <td>Zyzomys palatalis</td>\n      <td>Carpentarian Rock-rat, Aywalirroomoo</td>\n      <td>-</td>\n      <td>Endangered</td>\n      <td>-</td>\n      <td>-</td>\n      <td>Yes</td>\n      <td>-</td>\n      <td>-</td>\n      <td>-</td>\n      <td>...</td>\n      <td>2022-Oct-05</td>\n      <td>-</td>\n      <td>Muridae</td>\n      <td>Zyzomys</td>\n      <td>palatalis</td>\n      <td>-</td>\n      <td>-</td>\n      <td>Kitchener,1989</td>\n      <td>-</td>\n      <td>Endangered</td>\n    </tr>\n    <tr>\n      <th>1972</th>\n      <td>Zyzomys pedunculatus</td>\n      <td>Central Rock-rat, Antina</td>\n      <td>-</td>\n      <td>Critically Endangered</td>\n      <td>-</td>\n      <td>-</td>\n      <td>Yes</td>\n      <td>-</td>\n      <td>-</td>\n      <td>-</td>\n      <td>...</td>\n      <td>2022-Oct-05</td>\n      <td>-</td>\n      <td>Muridae</td>\n      <td>Zyzomys</td>\n      <td>pedunculatus</td>\n      <td>-</td>\n      <td>-</td>\n      <td>(Waite,1896)</td>\n      <td>-</td>\n      <td>Critically Endangered</td>\n    </tr>\n  </tbody>\n</table>\n<p>1973 rows × 36 columns</p>\n</div>"
     },
     "execution_count": 34,
     "metadata": {},
     "output_type": "execute_result"
    }
   ],
   "source": [
    "epbcreport\n"
   ],
   "metadata": {
    "collapsed": false,
    "pycharm": {
     "name": "#%%\n"
    }
   }
  }
 ],
 "metadata": {
  "kernelspec": {
   "display_name": "Python 3",
   "language": "python",
   "name": "python3"
  },
  "language_info": {
   "codemirror_mode": {
    "name": "ipython",
    "version": 2
   },
   "file_extension": ".py",
   "mimetype": "text/x-python",
   "name": "python",
   "nbconvert_exporter": "python",
   "pygments_lexer": "ipython2",
   "version": "2.7.6"
  }
 },
 "nbformat": 4,
 "nbformat_minor": 0
}