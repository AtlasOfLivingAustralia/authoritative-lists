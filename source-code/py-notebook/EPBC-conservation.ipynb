{
 "cells": [
  {
   "cell_type": "markdown",
   "source": [
    "# EPBC Conservation List\n",
    "\n",
    "### List Identifiers\n",
    "* EPBC Conservation list: __[dr656](https://lists.ala.org.au/speciesListItem/list/dr656)__ (and [dr656 in test](https://lists-test.ala.org.au/speciesListItem/list/dr656))\n",
    "* BONN Conservation list: __[dr18987](https://lists.ala.org.au/speciesListItem/list/dr18987)__\n",
    "* CAMBA Conservation list: __[dr18989](https://lists.ala.org.au/speciesListItem/list/dr18989)__\n",
    "* JAMBA Conservation list: __[dr18988](https://lists.ala.org.au/speciesListItem/list/dr18988)__\n",
    "* ROKAMBA Conservation list: __[dr18990](https://lists.ala.org.au/speciesListItem/list/dr18990)__\n",
    "\n",
    "### Collections:\n",
    "* EPBC:  __[dr656](https://collections.ala.org.au/public/show/dr656)__\n",
    "* BONN:  __[dr18987](https://collections.ala.org.au/public/show/dr18987)__\n",
    "* CAMBA:  __[dr18989](https://collections.ala.org.au/public/show/dr18989)__\n",
    "* JAMBA:  __[dr18988](https://collections.ala.org.au/public/show/dr18988)__\n",
    "* ROKAMBA:  __[dr18990](https://collections.ala.org.au/public/show/dr18990)__\n",
    "\n",
    "## Source Data\n",
    "* __[Threatened Species and Ecological Communities of National Environmental Significance (on data.gov.au)](https://data.gov.au/data/dataset/threatened-species-state-lists)__\n",
    "* __[Dataset landing page](https://data.gov.au/data/dataset/threatened-species-state-lists/resource/78401dce-1f40-49d3-92c4-3713d6e34974)__\n",
    "* __[Direct data download](https://data.gov.au/data/dataset/ae652011-f39e-4c6c-91b8-1dc2d2dfee8f/resource/78401dce-1f40-49d3-92c4-3713d6e34974/download/20221005spcs.csv)__\n",
    "* __[API](https://data.gov.au/data/api/1/util/snippet/api_info.html?resource_id=78401dce-1f40-49d3-92c4-3713d6e34974)__\n",
    "\n",
    "\n",
    "**Metadata URL**\n",
    "https://data.gov.au/data/dataset/threatened-species-state-lists\n",
    "\n",
    "**Metadata Description**\n",
    "\n",
    "**EPBC**\n",
    "\n",
    "This dataset contains information about species of national environmental significance as listed in the Environment Protection and Biodiversity Conservation Act 1999 (EPBC Act). Data provided includes:\n",
    "- species names and threatened status\n",
    "- indicative occurrence within each state, territory and marine area\n",
    "- links to further information in the Species Profile and Threats Database (SPRAT).\n",
    "\n",
    "Threatened species currently listed under the Environment Protection and Biodiversity Conservation Act 1999 (EPBC Act) sourced from the Department of Agriculture, Water and the Environment's Species Profiles and Threats database (SPRAT). Data includes: - Status of EPBC Act threatened, migratory, marine and cetacean species. - Available species recovery documents for EPBC Act species (recovery plan and conservation advice). - Species' taxonomy. - Status of State and Territory Government threatened species (indicative only). Please verify with relevant State and Territory Government agencies. - Species presence within State's, mainland Territory's, external Territory's and the Commonwealth marine area (indicative only). The report presents the current taxonomic understanding of a species. Every effort is made to maintain the accuracy of data that is used in this list. If a species is listed more than once on a statutory list (as a result of taxonomic change), it will be given more than one status in the status column (i.e. \"status 1, status 2\"). The status and presence of State and Territory Government threatened species should be verified with relevant agencies. Further details available at: https://www.environment.gov.au/cgi-bin/sprat/public/sprat.pl\n",
    "\n",
    "**BONN**\n",
    "\n",
    "The Bonn Convention appendices identify migratory taxa at and below the species level, as well as some whole families in Appendix II. The convention definition of migratory species is ‘the entire population or any geographically separate part of the population of any species or lower taxon of wild animals, a significant proportion of whose members cyclically and predictably cross one or more national jurisdictional boundaries’. This definition has been adopted in the EPBC Act. The family listings in Appendix II of the Bonn Convention do not explicitly include all members of each family and, for the purposes of the EPBC Act, the family listings include only those species which are native to Australia and are known to be cyclical and predictable migrants into and out of Australia. The taxonomy of families used in the Bonn Convention appendices is not regularly updated. The following codes are used in the Bonn Convention appendices: A1: species listed explicitly in Appendix 1; A2S: species listed explicitly in Appendix 2; A2H: species is member of a family listed in Appendix 2; and A2S*: species listed as a result of a recent taxonomic revision of a species listed explicitly in Appendix 2. More information is available at https://www.environment.gov.au/cgi-bin/sprat/public/publicshowmigratory.pl\n",
    "\n",
    "**CAMBA**\n",
    "\n",
    "This list of migratory species established under section 209 of the EPBC Act includes migratory species included in annexes established under the China-Australia Migratory Bird Agreement (CAMBA).\n",
    "\n",
    "**JAMBA**\n",
    "\n",
    "This list of migratory species established under section 209 of the EPBC Act includes migratory species included in annexes established under the Japan-Australia Migratory Bird Agreement (JAMBA).\n",
    "\n",
    "**ROKAMBA**\n",
    "This list of migratory species established under section 209 of the EPBC Act includes native, migratory species identified in a list established under, or an instrument made under, an international agreement approved by the Minister, such as the Republic of Korea-Australia Migratory Bird Agreement (ROKAMBA). See http://www.austlii.edu.au/au/other/dfat/treaties/2007/24.html\n",
    "\n"
   ],
   "metadata": {
    "collapsed": false,
    "pycharm": {
     "name": "#%% md\n"
    }
   }
  },
  {
   "cell_type": "markdown",
   "source": [
    "## Setup"
   ],
   "metadata": {
    "collapsed": false,
    "pycharm": {
     "name": "#%% md\n"
    }
   }
  },
  {
   "cell_type": "code",
   "execution_count": 6,
   "outputs": [],
   "source": [
    "import pandas as pd\n",
    "import os\n",
    "import sys\n",
    "projectDir = \"/Users/oco115/PycharmProjects/authoritative-lists/\"\n",
    "# projectDir = \"/Users/new330/IdeaProjects/authoritative-lists/\"\n",
    "sys.path.append(os.path.abspath(projectDir + \"source-code/includes\"))\n",
    "import list_functions as lf\n",
    "\n",
    "sourceDataDir = projectDir + \"source-data/EPBCA/\"\n",
    "processedDataDir = projectDir + \"current-lists/conservation-lists/\"\n",
    "\n",
    "listURL = \"https://data.gov.au/data/dataset/ae652011-f39e-4c6c-91b8-1dc2d2dfee8f/resource/78401dce-1f40-49d3-92c4-3713d6e34974/download/20221005spcs.csv\"\n",
    "filename = \"20221005spcs.csv\"\n",
    "listToolURL = \"https://lists.ala.org.au/speciesListItem/list/dr656\""
   ],
   "metadata": {
    "collapsed": false,
    "pycharm": {
     "name": "#%%\n"
    }
   }
  },
  {
   "cell_type": "markdown",
   "source": [
    "## Download file\n",
    "... or read from cached version"
   ],
   "metadata": {
    "collapsed": false,
    "pycharm": {
     "name": "#%% md\n"
    }
   }
  },
  {
   "cell_type": "code",
   "execution_count": 37,
   "outputs": [
    {
     "name": "stdout",
     "output_type": "stream",
     "text": [
      "skipping # comment this line to download dataset from API\n"
     ]
    }
   ],
   "source": [
    "%%script echo skipping # comment this line to download dataset from API\n",
    "\n",
    "import urllib.request, json\n",
    "import certifi\n",
    "import ssl\n",
    "\n",
    "with urllib.request.urlopen(listURL,context=ssl.create_default_context(cafile=certifi.where())) as url:\n",
    "data = pd.read_csv(url)\n",
    "data.to_csv(sourceDataDir + filename,encoding=\"UTF-8\",index=False)"
   ],
   "metadata": {
    "collapsed": false,
    "pycharm": {
     "name": "#%%\n"
    }
   }
  },
  {
   "cell_type": "code",
   "execution_count": 91,
   "outputs": [
    {
     "data": {
      "text/plain": "     Scientific Name                            Common Name  \\\n0  Abutilon julianae                Norfolk Island Abutilon   \n1   Acacia ammophila                                      -   \n2     Acacia anomala  Grass Wattle, Chittering Grass Wattle   \n3     Acacia aphylla                   Leafless Rock Wattle   \n4      Acacia aprica                           Blunt Wattle   \n\n  Current Scientific Name      Threatened status ACT NSW NT  QLD SA TAS  ...  \\\n0                       -  Critically Endangered   -   -  -    -  -   -  ...   \n1                       -             Vulnerable   -   -  -  Yes  -   -  ...   \n2                       -             Vulnerable   -   -  -    -  -   -  ...   \n3                       -             Vulnerable   -   -  -    -  -   -  ...   \n4                       -             Endangered   -   -  -    -  -   -  ...   \n\n                                             Profile Date extracted  \\\n0  http://www.environment.gov.au/cgi-bin/sprat/pu...    2022-Oct-05   \n1  http://www.environment.gov.au/cgi-bin/sprat/pu...    2022-Oct-05   \n2  http://www.environment.gov.au/cgi-bin/sprat/pu...    2022-Oct-05   \n3  http://www.environment.gov.au/cgi-bin/sprat/pu...    2022-Oct-05   \n4  http://www.environment.gov.au/cgi-bin/sprat/pu...    2022-Oct-05   \n\n                                          NSL Name     Family     Genus  \\\n0   https://id.biodiversity.org.au/name/apni/56543  Malvaceae  Abutilon   \n1   https://id.biodiversity.org.au/name/apni/58340   Fabaceae    Acacia   \n2   https://id.biodiversity.org.au/name/apni/58556   Fabaceae    Acacia   \n3   https://id.biodiversity.org.au/name/apni/58565   Fabaceae    Acacia   \n4  https://id.biodiversity.org.au/name/apni/149911   Fabaceae    Acacia   \n\n     Species Infraspecific Rank Infraspecies        Species Author  \\\n0   julianae                  -            -                 Endl.   \n1  ammophila                  -            -                Pedley   \n2    anomala                  -            -  C.A.Gardner ex Court   \n3    aphylla                  -            -                Maslin   \n4     aprica                  -            -   Maslin  A.R.Chapman   \n\n  Infraspecies Author  \n0                   -  \n1                   -  \n2                   -  \n3                   -  \n4                   -  \n\n[5 rows x 35 columns]",
      "text/html": "<div>\n<style scoped>\n    .dataframe tbody tr th:only-of-type {\n        vertical-align: middle;\n    }\n\n    .dataframe tbody tr th {\n        vertical-align: top;\n    }\n\n    .dataframe thead th {\n        text-align: right;\n    }\n</style>\n<table border=\"1\" class=\"dataframe\">\n  <thead>\n    <tr style=\"text-align: right;\">\n      <th></th>\n      <th>Scientific Name</th>\n      <th>Common Name</th>\n      <th>Current Scientific Name</th>\n      <th>Threatened status</th>\n      <th>ACT</th>\n      <th>NSW</th>\n      <th>NT</th>\n      <th>QLD</th>\n      <th>SA</th>\n      <th>TAS</th>\n      <th>...</th>\n      <th>Profile</th>\n      <th>Date extracted</th>\n      <th>NSL Name</th>\n      <th>Family</th>\n      <th>Genus</th>\n      <th>Species</th>\n      <th>Infraspecific Rank</th>\n      <th>Infraspecies</th>\n      <th>Species Author</th>\n      <th>Infraspecies Author</th>\n    </tr>\n  </thead>\n  <tbody>\n    <tr>\n      <th>0</th>\n      <td>Abutilon julianae</td>\n      <td>Norfolk Island Abutilon</td>\n      <td>-</td>\n      <td>Critically Endangered</td>\n      <td>-</td>\n      <td>-</td>\n      <td>-</td>\n      <td>-</td>\n      <td>-</td>\n      <td>-</td>\n      <td>...</td>\n      <td>http://www.environment.gov.au/cgi-bin/sprat/pu...</td>\n      <td>2022-Oct-05</td>\n      <td>https://id.biodiversity.org.au/name/apni/56543</td>\n      <td>Malvaceae</td>\n      <td>Abutilon</td>\n      <td>julianae</td>\n      <td>-</td>\n      <td>-</td>\n      <td>Endl.</td>\n      <td>-</td>\n    </tr>\n    <tr>\n      <th>1</th>\n      <td>Acacia ammophila</td>\n      <td>-</td>\n      <td>-</td>\n      <td>Vulnerable</td>\n      <td>-</td>\n      <td>-</td>\n      <td>-</td>\n      <td>Yes</td>\n      <td>-</td>\n      <td>-</td>\n      <td>...</td>\n      <td>http://www.environment.gov.au/cgi-bin/sprat/pu...</td>\n      <td>2022-Oct-05</td>\n      <td>https://id.biodiversity.org.au/name/apni/58340</td>\n      <td>Fabaceae</td>\n      <td>Acacia</td>\n      <td>ammophila</td>\n      <td>-</td>\n      <td>-</td>\n      <td>Pedley</td>\n      <td>-</td>\n    </tr>\n    <tr>\n      <th>2</th>\n      <td>Acacia anomala</td>\n      <td>Grass Wattle, Chittering Grass Wattle</td>\n      <td>-</td>\n      <td>Vulnerable</td>\n      <td>-</td>\n      <td>-</td>\n      <td>-</td>\n      <td>-</td>\n      <td>-</td>\n      <td>-</td>\n      <td>...</td>\n      <td>http://www.environment.gov.au/cgi-bin/sprat/pu...</td>\n      <td>2022-Oct-05</td>\n      <td>https://id.biodiversity.org.au/name/apni/58556</td>\n      <td>Fabaceae</td>\n      <td>Acacia</td>\n      <td>anomala</td>\n      <td>-</td>\n      <td>-</td>\n      <td>C.A.Gardner ex Court</td>\n      <td>-</td>\n    </tr>\n    <tr>\n      <th>3</th>\n      <td>Acacia aphylla</td>\n      <td>Leafless Rock Wattle</td>\n      <td>-</td>\n      <td>Vulnerable</td>\n      <td>-</td>\n      <td>-</td>\n      <td>-</td>\n      <td>-</td>\n      <td>-</td>\n      <td>-</td>\n      <td>...</td>\n      <td>http://www.environment.gov.au/cgi-bin/sprat/pu...</td>\n      <td>2022-Oct-05</td>\n      <td>https://id.biodiversity.org.au/name/apni/58565</td>\n      <td>Fabaceae</td>\n      <td>Acacia</td>\n      <td>aphylla</td>\n      <td>-</td>\n      <td>-</td>\n      <td>Maslin</td>\n      <td>-</td>\n    </tr>\n    <tr>\n      <th>4</th>\n      <td>Acacia aprica</td>\n      <td>Blunt Wattle</td>\n      <td>-</td>\n      <td>Endangered</td>\n      <td>-</td>\n      <td>-</td>\n      <td>-</td>\n      <td>-</td>\n      <td>-</td>\n      <td>-</td>\n      <td>...</td>\n      <td>http://www.environment.gov.au/cgi-bin/sprat/pu...</td>\n      <td>2022-Oct-05</td>\n      <td>https://id.biodiversity.org.au/name/apni/149911</td>\n      <td>Fabaceae</td>\n      <td>Acacia</td>\n      <td>aprica</td>\n      <td>-</td>\n      <td>-</td>\n      <td>Maslin  A.R.Chapman</td>\n      <td>-</td>\n    </tr>\n  </tbody>\n</table>\n<p>5 rows × 35 columns</p>\n</div>"
     },
     "execution_count": 91,
     "metadata": {},
     "output_type": "execute_result"
    }
   ],
   "source": [
    "epbcreport = pd.read_csv(sourceDataDir + filename,skiprows=0)\n",
    "epbcreport.head(5)"
   ],
   "metadata": {
    "collapsed": false,
    "pycharm": {
     "name": "#%%\n"
    }
   }
  },
  {
   "cell_type": "markdown",
   "source": [
    "## Check values"
   ],
   "metadata": {
    "collapsed": false,
    "pycharm": {
     "name": "#%% md\n"
    }
   }
  },
  {
   "cell_type": "code",
   "execution_count": 92,
   "outputs": [
    {
     "data": {
      "text/plain": "Kingdom\nPlantae     1411\nAnimalia     562\ndtype: int64"
     },
     "execution_count": 92,
     "metadata": {},
     "output_type": "execute_result"
    }
   ],
   "source": [
    "epbcreport.groupby(\"Kingdom\").size().sort_values(ascending=False)"
   ],
   "metadata": {
    "collapsed": false,
    "pycharm": {
     "name": "#%%\n"
    }
   }
  },
  {
   "cell_type": "code",
   "execution_count": 93,
   "outputs": [
    {
     "data": {
      "text/plain": "Threatened status\nVulnerable                793\nEndangered                748\nCritically Endangered     319\nExtinct                   104\nConservation Dependent      8\nExtinct in the wild         1\ndtype: int64"
     },
     "execution_count": 93,
     "metadata": {},
     "output_type": "execute_result"
    }
   ],
   "source": [
    "epbcreport.groupby(\"Threatened status\").size().sort_values(ascending=False)"
   ],
   "metadata": {
    "collapsed": false,
    "pycharm": {
     "name": "#%%\n"
    }
   }
  },
  {
   "cell_type": "markdown",
   "source": [
    "## Clean up column headers\n",
    "* Darwin Core terms column mappings\n",
    "* Remove multiple spaces from column names\n",
    "* Remove () characters from column names"
   ],
   "metadata": {
    "collapsed": false,
    "pycharm": {
     "name": "#%% md\n"
    }
   }
  },
  {
   "cell_type": "code",
   "execution_count": 94,
   "outputs": [
    {
     "data": {
      "text/plain": "      scientificName                         vernacularName  \\\n0  Abutilon julianae                Norfolk Island Abutilon   \n1   Acacia ammophila                                      -   \n2     Acacia anomala  Grass Wattle, Chittering Grass Wattle   \n3     Acacia aphylla                   Leafless Rock Wattle   \n4      Acacia aprica                           Blunt Wattle   \n\n  Current Scientific Name                 status Australian Capital Territory  \\\n0                       -  Critically Endangered                            -   \n1                       -             Vulnerable                            -   \n2                       -             Vulnerable                            -   \n3                       -             Vulnerable                            -   \n4                       -             Endangered                            -   \n\n  New South Wales Northern Territory Queensland South Australia Tasmania  ...  \\\n0               -                  -          -               -        -  ...   \n1               -                  -        Yes               -        -  ...   \n2               -                  -          -               -        -  ...   \n3               -                  -          -               -        -  ...   \n4               -                  -          -               -        -  ...   \n\n  Date extracted                                         Nsl Name     family  \\\n0    2022-Oct-05   https://id.biodiversity.org.au/name/apni/56543  Malvaceae   \n1    2022-Oct-05   https://id.biodiversity.org.au/name/apni/58340   Fabaceae   \n2    2022-Oct-05   https://id.biodiversity.org.au/name/apni/58556   Fabaceae   \n3    2022-Oct-05   https://id.biodiversity.org.au/name/apni/58565   Fabaceae   \n4    2022-Oct-05  https://id.biodiversity.org.au/name/apni/149911   Fabaceae   \n\n      genus    species Infraspecific Rank Infraspecies        Species Author  \\\n0  Abutilon   julianae                  -            -                 Endl.   \n1    Acacia  ammophila                  -            -                Pedley   \n2    Acacia    anomala                  -            -  C.A.Gardner ex Court   \n3    Acacia    aphylla                  -            -                Maslin   \n4    Acacia     aprica                  -            -   Maslin  A.R.Chapman   \n\n  Infraspecies Author           sourceStatus  \n0                   -  Critically Endangered  \n1                   -             Vulnerable  \n2                   -             Vulnerable  \n3                   -             Vulnerable  \n4                   -             Endangered  \n\n[5 rows x 36 columns]",
      "text/html": "<div>\n<style scoped>\n    .dataframe tbody tr th:only-of-type {\n        vertical-align: middle;\n    }\n\n    .dataframe tbody tr th {\n        vertical-align: top;\n    }\n\n    .dataframe thead th {\n        text-align: right;\n    }\n</style>\n<table border=\"1\" class=\"dataframe\">\n  <thead>\n    <tr style=\"text-align: right;\">\n      <th></th>\n      <th>scientificName</th>\n      <th>vernacularName</th>\n      <th>Current Scientific Name</th>\n      <th>status</th>\n      <th>Australian Capital Territory</th>\n      <th>New South Wales</th>\n      <th>Northern Territory</th>\n      <th>Queensland</th>\n      <th>South Australia</th>\n      <th>Tasmania</th>\n      <th>...</th>\n      <th>Date extracted</th>\n      <th>Nsl Name</th>\n      <th>family</th>\n      <th>genus</th>\n      <th>species</th>\n      <th>Infraspecific Rank</th>\n      <th>Infraspecies</th>\n      <th>Species Author</th>\n      <th>Infraspecies Author</th>\n      <th>sourceStatus</th>\n    </tr>\n  </thead>\n  <tbody>\n    <tr>\n      <th>0</th>\n      <td>Abutilon julianae</td>\n      <td>Norfolk Island Abutilon</td>\n      <td>-</td>\n      <td>Critically Endangered</td>\n      <td>-</td>\n      <td>-</td>\n      <td>-</td>\n      <td>-</td>\n      <td>-</td>\n      <td>-</td>\n      <td>...</td>\n      <td>2022-Oct-05</td>\n      <td>https://id.biodiversity.org.au/name/apni/56543</td>\n      <td>Malvaceae</td>\n      <td>Abutilon</td>\n      <td>julianae</td>\n      <td>-</td>\n      <td>-</td>\n      <td>Endl.</td>\n      <td>-</td>\n      <td>Critically Endangered</td>\n    </tr>\n    <tr>\n      <th>1</th>\n      <td>Acacia ammophila</td>\n      <td>-</td>\n      <td>-</td>\n      <td>Vulnerable</td>\n      <td>-</td>\n      <td>-</td>\n      <td>-</td>\n      <td>Yes</td>\n      <td>-</td>\n      <td>-</td>\n      <td>...</td>\n      <td>2022-Oct-05</td>\n      <td>https://id.biodiversity.org.au/name/apni/58340</td>\n      <td>Fabaceae</td>\n      <td>Acacia</td>\n      <td>ammophila</td>\n      <td>-</td>\n      <td>-</td>\n      <td>Pedley</td>\n      <td>-</td>\n      <td>Vulnerable</td>\n    </tr>\n    <tr>\n      <th>2</th>\n      <td>Acacia anomala</td>\n      <td>Grass Wattle, Chittering Grass Wattle</td>\n      <td>-</td>\n      <td>Vulnerable</td>\n      <td>-</td>\n      <td>-</td>\n      <td>-</td>\n      <td>-</td>\n      <td>-</td>\n      <td>-</td>\n      <td>...</td>\n      <td>2022-Oct-05</td>\n      <td>https://id.biodiversity.org.au/name/apni/58556</td>\n      <td>Fabaceae</td>\n      <td>Acacia</td>\n      <td>anomala</td>\n      <td>-</td>\n      <td>-</td>\n      <td>C.A.Gardner ex Court</td>\n      <td>-</td>\n      <td>Vulnerable</td>\n    </tr>\n    <tr>\n      <th>3</th>\n      <td>Acacia aphylla</td>\n      <td>Leafless Rock Wattle</td>\n      <td>-</td>\n      <td>Vulnerable</td>\n      <td>-</td>\n      <td>-</td>\n      <td>-</td>\n      <td>-</td>\n      <td>-</td>\n      <td>-</td>\n      <td>...</td>\n      <td>2022-Oct-05</td>\n      <td>https://id.biodiversity.org.au/name/apni/58565</td>\n      <td>Fabaceae</td>\n      <td>Acacia</td>\n      <td>aphylla</td>\n      <td>-</td>\n      <td>-</td>\n      <td>Maslin</td>\n      <td>-</td>\n      <td>Vulnerable</td>\n    </tr>\n    <tr>\n      <th>4</th>\n      <td>Acacia aprica</td>\n      <td>Blunt Wattle</td>\n      <td>-</td>\n      <td>Endangered</td>\n      <td>-</td>\n      <td>-</td>\n      <td>-</td>\n      <td>-</td>\n      <td>-</td>\n      <td>-</td>\n      <td>...</td>\n      <td>2022-Oct-05</td>\n      <td>https://id.biodiversity.org.au/name/apni/149911</td>\n      <td>Fabaceae</td>\n      <td>Acacia</td>\n      <td>aprica</td>\n      <td>-</td>\n      <td>-</td>\n      <td>Maslin  A.R.Chapman</td>\n      <td>-</td>\n      <td>Endangered</td>\n    </tr>\n  </tbody>\n</table>\n<p>5 rows × 36 columns</p>\n</div>"
     },
     "execution_count": 94,
     "metadata": {},
     "output_type": "execute_result"
    }
   ],
   "source": [
    "epbcreport = epbcreport.rename(columns=\n",
    "                               {'Scientific Name': 'scientificName',\n",
    "                                'Common Name': 'vernacularName',\n",
    "                                'Threatened status': 'status',\n",
    "                                'Kingdom': 'kingdom',\n",
    "                                'Phylum': 'phylum',\n",
    "                                'Class': 'class',\n",
    "                                'Order': 'order',\n",
    "                                'Family': 'family',\n",
    "                                'Genus': 'genus',\n",
    "                                'Species': 'species',\n",
    "                                'ACT':'Australian Capital Territory',\n",
    "                                'NSW': 'New South Wales',\n",
    "                                'NT': 'Northern Territory',\n",
    "                                'QLD': 'Queensland',\n",
    "                                'SA': 'South Australia',\n",
    "                                'TAS': 'Tasmania',\n",
    "                                'VIC': 'Victoria',\n",
    "                                'WA': 'Western Australia',\n",
    "                                'ACI': 'Ashmore and Cartier Islands',\n",
    "                                'CKI': 'Cocos (Keeling) Islands',\n",
    "                                'CI': 'Christmas Island',\n",
    "                                'CSI': 'Coral Sea Islands',\n",
    "                                'JBT': 'Jervis Bay Territory',\n",
    "                                'NFI': 'Norfolk Island',\n",
    "                                'HMI': 'Heard and McDonald Islands',\n",
    "                                'AAT': 'Australian Antarctic Territory',\n",
    "                                'CMA': 'Commonwealth Marine Area',\n",
    "                                'Listed SPRAT TaxonID' : 'Listed Sprat TaxonID',\n",
    "                                'Current SPRAT TaxonID': 'Current Sprat TaxonID',\n",
    "                                'NSL Name': 'Nsl Name'\n",
    "                                })\n",
    "\n",
    "epbcreport['sourceStatus'] = epbcreport['status']\n",
    "\n",
    "epbcreport.columns = epbcreport.columns.str.replace(\"  \", \"\", regex=True) # remove multiple spacesfrom column names\n",
    "epbcreport.columns = epbcreport.columns.str.replace(r\"[().: ]\", \" \", regex=True) # remove : () from column names\n",
    "epbcreport.columns = epbcreport.columns.str.strip()\n",
    "epbcreport.head(5)"
   ],
   "metadata": {
    "collapsed": false,
    "pycharm": {
     "name": "#%%\n"
    }
   }
  },
  {
   "cell_type": "markdown",
   "source": [
    " ## Data cleaning\n",
    " * status is not empty\n",
    " * correct date formats\n",
    " * remove \"-\" from empty fields"
   ],
   "metadata": {
    "collapsed": false,
    "pycharm": {
     "name": "#%% md\n"
    }
   }
  },
  {
   "cell_type": "code",
   "source": [
    "epbc = epbcreport[epbcreport[\"status\"].notna()]\n",
    "# convert dates\n",
    "epbc['Date extracted'] = pd.to_datetime(epbc['Date extracted'])\n",
    "epbc['Date extracted'] = epbc['Date extracted'].dt.strftime('%Y-%m-%d')\n",
    "epbc = epbc.replace('-','')\n",
    "epbc"
   ],
   "metadata": {
    "collapsed": false,
    "pycharm": {
     "name": "#%%\n"
    }
   },
   "execution_count": 95,
   "outputs": [
    {
     "data": {
      "text/plain": "             scientificName  \\\n0         Abutilon julianae   \n1          Acacia ammophila   \n2            Acacia anomala   \n3            Acacia aphylla   \n4             Acacia aprica   \n...                     ...   \n1968  Zosterops albogularis   \n1969     Zosterops strenuus   \n1970          Zyzomys maini   \n1971      Zyzomys palatalis   \n1972   Zyzomys pedunculatus   \n\n                                         vernacularName  \\\n0                               Norfolk Island Abutilon   \n1                                                         \n2                 Grass Wattle, Chittering Grass Wattle   \n3                                  Leafless Rock Wattle   \n4                                          Blunt Wattle   \n...                                                 ...   \n1968  White-chested White-eye, Norfolk Island Silvereye   \n1969                                   Robust White-eye   \n1970    Arnhem Rock-rat, Arnhem Land Rock-rat, Kodjperr   \n1971               Carpentarian Rock-rat, Aywalirroomoo   \n1972                           Central Rock-rat, Antina   \n\n     Current Scientific Name                 status  \\\n0                             Critically Endangered   \n1                                        Vulnerable   \n2                                        Vulnerable   \n3                                        Vulnerable   \n4                                        Endangered   \n...                      ...                    ...   \n1968                                        Extinct   \n1969                                        Extinct   \n1970                                     Vulnerable   \n1971                                     Endangered   \n1972                          Critically Endangered   \n\n     Australian Capital Territory New South Wales Northern Territory  \\\n0                                                                      \n1                                                                      \n2                                                                      \n3                                                                      \n4                                                                      \n...                           ...             ...                ...   \n1968                                                                   \n1969                                          Yes                      \n1970                                                             Yes   \n1971                                                             Yes   \n1972                                                             Yes   \n\n     Queensland South Australia Tasmania  ... Date extracted  \\\n0                                         ...     2022-10-05   \n1           Yes                           ...     2022-10-05   \n2                                         ...     2022-10-05   \n3                                         ...     2022-10-05   \n4                                         ...     2022-10-05   \n...         ...             ...      ...  ...            ...   \n1968                                      ...     2022-10-05   \n1969                                      ...     2022-10-05   \n1970                                      ...     2022-10-05   \n1971                                      ...     2022-10-05   \n1972                                      ...     2022-10-05   \n\n                                             Nsl Name        family  \\\n0      https://id.biodiversity.org.au/name/apni/56543     Malvaceae   \n1      https://id.biodiversity.org.au/name/apni/58340      Fabaceae   \n2      https://id.biodiversity.org.au/name/apni/58556      Fabaceae   \n3      https://id.biodiversity.org.au/name/apni/58565      Fabaceae   \n4     https://id.biodiversity.org.au/name/apni/149911      Fabaceae   \n...                                               ...           ...   \n1968                                                   Zosteropidae   \n1969                                                   Zosteropidae   \n1970                                                        Muridae   \n1971                                                        Muridae   \n1972                                                        Muridae   \n\n          genus       species Infraspecific Rank Infraspecies  \\\n0      Abutilon      julianae                                   \n1        Acacia     ammophila                                   \n2        Acacia       anomala                                   \n3        Acacia       aphylla                                   \n4        Acacia        aprica                                   \n...         ...           ...                ...          ...   \n1968  Zosterops   albogularis                                   \n1969  Zosterops      strenuus                                   \n1970    Zyzomys         maini                                   \n1971    Zyzomys     palatalis                                   \n1972    Zyzomys  pedunculatus                                   \n\n            Species Author Infraspecies Author           sourceStatus  \n0                    Endl.                      Critically Endangered  \n1                   Pedley                                 Vulnerable  \n2     C.A.Gardner ex Court                                 Vulnerable  \n3                   Maslin                                 Vulnerable  \n4      Maslin  A.R.Chapman                                 Endangered  \n...                    ...                 ...                    ...  \n1968           Gould, 1837                                    Extinct  \n1969           Gould, 1855                                    Extinct  \n1970        Kitchener,1989                                 Vulnerable  \n1971        Kitchener,1989                                 Endangered  \n1972          (Waite,1896)                      Critically Endangered  \n\n[1973 rows x 36 columns]",
      "text/html": "<div>\n<style scoped>\n    .dataframe tbody tr th:only-of-type {\n        vertical-align: middle;\n    }\n\n    .dataframe tbody tr th {\n        vertical-align: top;\n    }\n\n    .dataframe thead th {\n        text-align: right;\n    }\n</style>\n<table border=\"1\" class=\"dataframe\">\n  <thead>\n    <tr style=\"text-align: right;\">\n      <th></th>\n      <th>scientificName</th>\n      <th>vernacularName</th>\n      <th>Current Scientific Name</th>\n      <th>status</th>\n      <th>Australian Capital Territory</th>\n      <th>New South Wales</th>\n      <th>Northern Territory</th>\n      <th>Queensland</th>\n      <th>South Australia</th>\n      <th>Tasmania</th>\n      <th>...</th>\n      <th>Date extracted</th>\n      <th>Nsl Name</th>\n      <th>family</th>\n      <th>genus</th>\n      <th>species</th>\n      <th>Infraspecific Rank</th>\n      <th>Infraspecies</th>\n      <th>Species Author</th>\n      <th>Infraspecies Author</th>\n      <th>sourceStatus</th>\n    </tr>\n  </thead>\n  <tbody>\n    <tr>\n      <th>0</th>\n      <td>Abutilon julianae</td>\n      <td>Norfolk Island Abutilon</td>\n      <td></td>\n      <td>Critically Endangered</td>\n      <td></td>\n      <td></td>\n      <td></td>\n      <td></td>\n      <td></td>\n      <td></td>\n      <td>...</td>\n      <td>2022-10-05</td>\n      <td>https://id.biodiversity.org.au/name/apni/56543</td>\n      <td>Malvaceae</td>\n      <td>Abutilon</td>\n      <td>julianae</td>\n      <td></td>\n      <td></td>\n      <td>Endl.</td>\n      <td></td>\n      <td>Critically Endangered</td>\n    </tr>\n    <tr>\n      <th>1</th>\n      <td>Acacia ammophila</td>\n      <td></td>\n      <td></td>\n      <td>Vulnerable</td>\n      <td></td>\n      <td></td>\n      <td></td>\n      <td>Yes</td>\n      <td></td>\n      <td></td>\n      <td>...</td>\n      <td>2022-10-05</td>\n      <td>https://id.biodiversity.org.au/name/apni/58340</td>\n      <td>Fabaceae</td>\n      <td>Acacia</td>\n      <td>ammophila</td>\n      <td></td>\n      <td></td>\n      <td>Pedley</td>\n      <td></td>\n      <td>Vulnerable</td>\n    </tr>\n    <tr>\n      <th>2</th>\n      <td>Acacia anomala</td>\n      <td>Grass Wattle, Chittering Grass Wattle</td>\n      <td></td>\n      <td>Vulnerable</td>\n      <td></td>\n      <td></td>\n      <td></td>\n      <td></td>\n      <td></td>\n      <td></td>\n      <td>...</td>\n      <td>2022-10-05</td>\n      <td>https://id.biodiversity.org.au/name/apni/58556</td>\n      <td>Fabaceae</td>\n      <td>Acacia</td>\n      <td>anomala</td>\n      <td></td>\n      <td></td>\n      <td>C.A.Gardner ex Court</td>\n      <td></td>\n      <td>Vulnerable</td>\n    </tr>\n    <tr>\n      <th>3</th>\n      <td>Acacia aphylla</td>\n      <td>Leafless Rock Wattle</td>\n      <td></td>\n      <td>Vulnerable</td>\n      <td></td>\n      <td></td>\n      <td></td>\n      <td></td>\n      <td></td>\n      <td></td>\n      <td>...</td>\n      <td>2022-10-05</td>\n      <td>https://id.biodiversity.org.au/name/apni/58565</td>\n      <td>Fabaceae</td>\n      <td>Acacia</td>\n      <td>aphylla</td>\n      <td></td>\n      <td></td>\n      <td>Maslin</td>\n      <td></td>\n      <td>Vulnerable</td>\n    </tr>\n    <tr>\n      <th>4</th>\n      <td>Acacia aprica</td>\n      <td>Blunt Wattle</td>\n      <td></td>\n      <td>Endangered</td>\n      <td></td>\n      <td></td>\n      <td></td>\n      <td></td>\n      <td></td>\n      <td></td>\n      <td>...</td>\n      <td>2022-10-05</td>\n      <td>https://id.biodiversity.org.au/name/apni/149911</td>\n      <td>Fabaceae</td>\n      <td>Acacia</td>\n      <td>aprica</td>\n      <td></td>\n      <td></td>\n      <td>Maslin  A.R.Chapman</td>\n      <td></td>\n      <td>Endangered</td>\n    </tr>\n    <tr>\n      <th>...</th>\n      <td>...</td>\n      <td>...</td>\n      <td>...</td>\n      <td>...</td>\n      <td>...</td>\n      <td>...</td>\n      <td>...</td>\n      <td>...</td>\n      <td>...</td>\n      <td>...</td>\n      <td>...</td>\n      <td>...</td>\n      <td>...</td>\n      <td>...</td>\n      <td>...</td>\n      <td>...</td>\n      <td>...</td>\n      <td>...</td>\n      <td>...</td>\n      <td>...</td>\n      <td>...</td>\n    </tr>\n    <tr>\n      <th>1968</th>\n      <td>Zosterops albogularis</td>\n      <td>White-chested White-eye, Norfolk Island Silvereye</td>\n      <td></td>\n      <td>Extinct</td>\n      <td></td>\n      <td></td>\n      <td></td>\n      <td></td>\n      <td></td>\n      <td></td>\n      <td>...</td>\n      <td>2022-10-05</td>\n      <td></td>\n      <td>Zosteropidae</td>\n      <td>Zosterops</td>\n      <td>albogularis</td>\n      <td></td>\n      <td></td>\n      <td>Gould, 1837</td>\n      <td></td>\n      <td>Extinct</td>\n    </tr>\n    <tr>\n      <th>1969</th>\n      <td>Zosterops strenuus</td>\n      <td>Robust White-eye</td>\n      <td></td>\n      <td>Extinct</td>\n      <td></td>\n      <td>Yes</td>\n      <td></td>\n      <td></td>\n      <td></td>\n      <td></td>\n      <td>...</td>\n      <td>2022-10-05</td>\n      <td></td>\n      <td>Zosteropidae</td>\n      <td>Zosterops</td>\n      <td>strenuus</td>\n      <td></td>\n      <td></td>\n      <td>Gould, 1855</td>\n      <td></td>\n      <td>Extinct</td>\n    </tr>\n    <tr>\n      <th>1970</th>\n      <td>Zyzomys maini</td>\n      <td>Arnhem Rock-rat, Arnhem Land Rock-rat, Kodjperr</td>\n      <td></td>\n      <td>Vulnerable</td>\n      <td></td>\n      <td></td>\n      <td>Yes</td>\n      <td></td>\n      <td></td>\n      <td></td>\n      <td>...</td>\n      <td>2022-10-05</td>\n      <td></td>\n      <td>Muridae</td>\n      <td>Zyzomys</td>\n      <td>maini</td>\n      <td></td>\n      <td></td>\n      <td>Kitchener,1989</td>\n      <td></td>\n      <td>Vulnerable</td>\n    </tr>\n    <tr>\n      <th>1971</th>\n      <td>Zyzomys palatalis</td>\n      <td>Carpentarian Rock-rat, Aywalirroomoo</td>\n      <td></td>\n      <td>Endangered</td>\n      <td></td>\n      <td></td>\n      <td>Yes</td>\n      <td></td>\n      <td></td>\n      <td></td>\n      <td>...</td>\n      <td>2022-10-05</td>\n      <td></td>\n      <td>Muridae</td>\n      <td>Zyzomys</td>\n      <td>palatalis</td>\n      <td></td>\n      <td></td>\n      <td>Kitchener,1989</td>\n      <td></td>\n      <td>Endangered</td>\n    </tr>\n    <tr>\n      <th>1972</th>\n      <td>Zyzomys pedunculatus</td>\n      <td>Central Rock-rat, Antina</td>\n      <td></td>\n      <td>Critically Endangered</td>\n      <td></td>\n      <td></td>\n      <td>Yes</td>\n      <td></td>\n      <td></td>\n      <td></td>\n      <td>...</td>\n      <td>2022-10-05</td>\n      <td></td>\n      <td>Muridae</td>\n      <td>Zyzomys</td>\n      <td>pedunculatus</td>\n      <td></td>\n      <td></td>\n      <td>(Waite,1896)</td>\n      <td></td>\n      <td>Critically Endangered</td>\n    </tr>\n  </tbody>\n</table>\n<p>1973 rows × 36 columns</p>\n</div>"
     },
     "execution_count": 95,
     "metadata": {},
     "output_type": "execute_result"
    }
   ]
  },
  {
   "cell_type": "markdown",
   "source": [
    "## Check values"
   ],
   "metadata": {
    "collapsed": false,
    "pycharm": {
     "name": "#%% md\n"
    }
   }
  },
  {
   "cell_type": "code",
   "execution_count": 96,
   "outputs": [
    {
     "data": {
      "text/plain": "kingdom\nPlantae     1411\nAnimalia     562\ndtype: int64"
     },
     "execution_count": 96,
     "metadata": {},
     "output_type": "execute_result"
    }
   ],
   "source": [
    "epbcreport.groupby(\"kingdom\").size().sort_values(ascending=False)"
   ],
   "metadata": {
    "collapsed": false,
    "pycharm": {
     "name": "#%%\n"
    }
   }
  },
  {
   "cell_type": "code",
   "execution_count": 97,
   "outputs": [
    {
     "data": {
      "text/plain": "status\nVulnerable                793\nEndangered                748\nCritically Endangered     319\nExtinct                   104\nConservation Dependent      8\nExtinct in the wild         1\ndtype: int64"
     },
     "execution_count": 97,
     "metadata": {},
     "output_type": "execute_result"
    }
   ],
   "source": [
    "epbcreport.groupby(\"status\").size().sort_values(ascending=False)"
   ],
   "metadata": {
    "collapsed": false,
    "pycharm": {
     "name": "#%%\n"
    }
   }
  },
  {
   "cell_type": "markdown",
   "source": [
    "## Write to CSV"
   ],
   "metadata": {
    "collapsed": false,
    "pycharm": {
     "name": "#%% md\n"
    }
   }
  },
  {
   "cell_type": "code",
   "execution_count": 98,
   "outputs": [],
   "source": [
    "epbc.to_csv(processedDataDir + \"EPBC-conservation.csv\",encoding=\"UTF-8\",index=False)"
   ],
   "metadata": {
    "collapsed": false,
    "pycharm": {
     "name": "#%%\n"
    }
   }
  },
  {
   "cell_type": "markdown",
   "source": [
    "# Manual List check\n",
    "\n",
    "**Instructions**\n",
    "1. Load the list above into the lists-test tool for this data resource\n",
    "2. Unskip the below code and Run the reports below to compare to production. Send the changelog.csv to check. Correct any issues.\n",
    "3. Save the production list into the `historical lists` directory by uncommenting the code section below.\n",
    "4. Load the list from `current lists` into production"
   ],
   "metadata": {
    "collapsed": false,
    "pycharm": {
     "name": "#%% md\n"
    }
   }
  },
  {
   "cell_type": "markdown",
   "source": [
    "### Conservation List - Download old and new and compare"
   ],
   "metadata": {
    "collapsed": false,
    "pycharm": {
     "name": "#%% md\n"
    }
   }
  },
  {
   "cell_type": "code",
   "execution_count": null,
   "outputs": [],
   "source": [
    "# %%script echo skipping # comment this line to run this code\n",
    "\n",
    "import datetime\n",
    "monthStr = datetime.datetime.now().strftime('%Y%m')\n",
    "ltype =\"C\"\n",
    "# conservation\n",
    "filename = \"NT-conservation.csv\"\n",
    "prodListUrl = \"https://lists.ala.org.au/ws/speciesListItems/\" + \"dr656\" + \"?max=10000&includeKVP=true\"\n",
    "testListUrl = \"https://lists-test.ala.org.au/ws/speciesListItems/\" + \"dr656\" + \"?max=10000&includeKVP=true\"\n",
    "changelist = lf.get_changelist(testListUrl, prodListUrl, ltype)\n",
    "# save the lists locally\n",
    "changelist.to_csv(projectDir + \"analysis/change-log/\" + monthStr + \"-\" + filename, encoding=\"UTF-8\", index=False)\n",
    "\n",
    "changelist"
   ],
   "metadata": {
    "collapsed": false,
    "pycharm": {
     "name": "#%%\n"
    }
   }
  },
  {
   "cell_type": "markdown",
   "source": [
    "### Old code in next cell requires check against new code above"
   ],
   "metadata": {
    "collapsed": false,
    "pycharm": {
     "name": "#%% md\n"
    }
   }
  },
  {
   "cell_type": "code",
   "execution_count": null,
   "outputs": [],
   "source": [
    "#### Old code requires check against new\n",
    "\n",
    "# def download_ala_list(url:str):\n",
    "#  with urllib.request.urlopen(url,context=ssl.create_default_context(cafile=certifi.where())) as url:\n",
    "#   data = json.loads(url.read().decode())\n",
    "#   data = pd.json_normalize(data)\n",
    "#   return data\n",
    "#\n",
    "# # download the prod list\n",
    "# prodListUrl = \"https://lists.ala.org.au/ws/speciesListItems/dr656?max=10000\"\n",
    "# prodList = download_ala_list(prodListUrl)\n",
    "# testListUrl = \"https://lists-test.ala.org.au/ws/speciesListItems/dr656?max=10000\"\n",
    "# testList = download_ala_list(testListUrl)\n",
    "#\n",
    "# # new names\n",
    "# testvsprod = pd.merge(testList,prodList,how='left',on='name')\n",
    "# testvsprod = testvsprod[testvsprod['scientificName_y'].isna()][['name','commonName_x','scientificName_x']]\n",
    "# testvsprod['status'] = 'added'\n",
    "# # old names\n",
    "# prodvstest = pd.merge(prodList,testList,how='left',on='name')\n",
    "# prodvstest = prodvstest[prodvstest['scientificName_y'].isna()][['name','commonName_y','scientificName_y']]\n",
    "# prodvstest['status'] = 'removed'\n",
    "# # union and display in alphabetical order\n",
    "# changelist = pd.concat([testvsprod,prodvstest])\n",
    "#\n",
    "# # save the prod list to the historical lists directory\n",
    "# prodList.to_csv(projectDir + \"historical-lists/conservation/EPBC_Act_Threatened_Species.csv\",encoding=\"UTF-8\",index=False)\n",
    "# # save the change log\n",
    "# changelist.to_csv(projectDir + \"analysis/change-log/202211-EPBC-conservation.csv\",encoding=\"UTF-8\",index=False)\n"
   ],
   "metadata": {
    "collapsed": false,
    "pycharm": {
     "name": "#%%\n"
    }
   }
  },
  {
   "cell_type": "code",
   "execution_count": null,
   "outputs": [],
   "source": [
    "# changelist[['status','name','scientificName_x','commonName_x']].sort_values('name')"
   ],
   "metadata": {
    "collapsed": false,
    "pycharm": {
     "name": "#%%\n"
    }
   }
  },
  {
   "cell_type": "markdown",
   "source": [
    "### Download Production lists to Historical Lists directory"
   ],
   "metadata": {
    "collapsed": false,
    "pycharm": {
     "name": "#%% md\n"
    }
   }
  },
  {
   "cell_type": "code",
   "execution_count": null,
   "outputs": [],
   "source": [
    "prodList = lf.download_ala_list(prodListUrl)  # save the prod list to the historical lists directory\n",
    "prodList = lf.kvp_to_columns(prodList)\n",
    "prodList.to_csv(projectDir + \"historical-lists/conservation/\" + filename, encoding=\"UTF-8\", index=False)\n",
    "print('Finished downloading historical list')"
   ],
   "metadata": {
    "collapsed": false,
    "pycharm": {
     "name": "#%%\n"
    }
   }
  }
 ],
 "metadata": {
  "kernelspec": {
   "display_name": "Python 3",
   "language": "python",
   "name": "python3"
  },
  "language_info": {
   "codemirror_mode": {
    "name": "ipython",
    "version": 2
   },
   "file_extension": ".py",
   "mimetype": "text/x-python",
   "name": "python",
   "nbconvert_exporter": "python",
   "pygments_lexer": "ipython2",
   "version": "2.7.6"
  }
 },
 "nbformat": 4,
 "nbformat_minor": 0
}