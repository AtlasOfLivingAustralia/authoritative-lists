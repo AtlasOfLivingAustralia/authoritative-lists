{
 "cells": [
  {
   "cell_type": "markdown",
   "source": [
    "# EPBC Conservation List\n",
    "\n",
    "List in ALA Species List tool: __[EPBC Act Threatened Species (dr656)](https://lists.ala.org.au/speciesListItem/list/dr656)__\n",
    "\n",
    "This dataset contains information about species of national environmental significance as listed in the Environment Protection and Biodiversity Conservation Act 1999 (EPBC Act). Data provided includes:\n",
    "- species names and threatened status\n",
    "- indicative occurrence within each state, territory and marine area\n",
    "- links to further information in the Species Profile and Threats Database (SPRAT).\n",
    "\n",
    "## Documentation\n",
    "* __[Threatened Species and Ecological Communities of National Environmental Significance (on data.gov.au)](https://data.gov.au/data/dataset/threatened-species-state-lists)__\n",
    "* __[Dataset landing page](https://data.gov.au/data/dataset/threatened-species-state-lists/resource/78401dce-1f40-49d3-92c4-3713d6e34974)__\n",
    "* __[Direct data download](https://data.gov.au/data/dataset/ae652011-f39e-4c6c-91b8-1dc2d2dfee8f/resource/78401dce-1f40-49d3-92c4-3713d6e34974/download/20221005spcs.csv)__\n",
    "* __[API](https://data.gov.au/data/api/1/util/snippet/api_info.html?resource_id=78401dce-1f40-49d3-92c4-3713d6e34974)__"
   ],
   "metadata": {
    "collapsed": false,
    "pycharm": {
     "name": "#%% md\n"
    }
   }
  },
  {
   "cell_type": "markdown",
   "source": [
    "## Setup"
   ],
   "metadata": {
    "collapsed": false,
    "pycharm": {
     "name": "#%% md\n"
    }
   }
  },
  {
   "cell_type": "code",
   "execution_count": 48,
   "outputs": [],
   "source": [
    "import pandas as pd\n",
    "#projectDir = \"/Users/oco115/PycharmProjects/authoritative-lists/\"\n",
    "projectDir = \"/Users/new330/IdeaProjects/authoritative-lists/\"\n",
    "sourceDataDir = projectDir + \"source-data/EPBCA/\"\n",
    "processedDataDir = projectDir + \"current-lists/conservation-lists/\"\n",
    "\n",
    "listURL = \"https://data.gov.au/data/dataset/ae652011-f39e-4c6c-91b8-1dc2d2dfee8f/resource/78401dce-1f40-49d3-92c4-3713d6e34974/download/20221005spcs.csv\"\n",
    "filename = \"20221005spcs.csv\"\n",
    "listToolURL = \"https://lists.ala.org.au/speciesListItem/list/dr656\""
   ],
   "metadata": {
    "collapsed": false,
    "pycharm": {
     "name": "#%%\n"
    }
   }
  },
  {
   "cell_type": "markdown",
   "source": [
    "## Download file\n",
    "... or read from cached version"
   ],
   "metadata": {
    "collapsed": false
   }
  },
  {
   "cell_type": "code",
   "execution_count": 37,
   "outputs": [
    {
     "name": "stdout",
     "output_type": "stream",
     "text": [
      "skipping # comment this line to download dataset from API\n"
     ]
    }
   ],
   "source": [
    "%%script echo skipping # comment this line to download dataset from API\n",
    "\n",
    "import urllib.request, json\n",
    "import certifi\n",
    "import ssl\n",
    "\n",
    "with urllib.request.urlopen(listURL,context=ssl.create_default_context(cafile=certifi.where())) as url:\n",
    " data = pd.read_csv(url)\n",
    "data.to_csv(sourceDataDir + filename,encoding=\"UTF-8\",index=False)"
   ],
   "metadata": {
    "collapsed": false,
    "pycharm": {
     "name": "#%%\n"
    }
   }
  },
  {
   "cell_type": "code",
   "execution_count": 38,
   "outputs": [
    {
     "data": {
      "text/plain": "     Scientific Name                            Common Name  \\\n0  Abutilon julianae                Norfolk Island Abutilon   \n1   Acacia ammophila                                      -   \n2     Acacia anomala  Grass Wattle, Chittering Grass Wattle   \n3     Acacia aphylla                   Leafless Rock Wattle   \n4      Acacia aprica                           Blunt Wattle   \n\n  Current Scientific Name      Threatened status ACT NSW NT  QLD SA TAS  ...  \\\n0                       -  Critically Endangered   -   -  -    -  -   -  ...   \n1                       -             Vulnerable   -   -  -  Yes  -   -  ...   \n2                       -             Vulnerable   -   -  -    -  -   -  ...   \n3                       -             Vulnerable   -   -  -    -  -   -  ...   \n4                       -             Endangered   -   -  -    -  -   -  ...   \n\n                                             Profile Date extracted  \\\n0  http://www.environment.gov.au/cgi-bin/sprat/pu...    2022-Oct-05   \n1  http://www.environment.gov.au/cgi-bin/sprat/pu...    2022-Oct-05   \n2  http://www.environment.gov.au/cgi-bin/sprat/pu...    2022-Oct-05   \n3  http://www.environment.gov.au/cgi-bin/sprat/pu...    2022-Oct-05   \n4  http://www.environment.gov.au/cgi-bin/sprat/pu...    2022-Oct-05   \n\n                                          NSL Name     Family     Genus  \\\n0   https://id.biodiversity.org.au/name/apni/56543  Malvaceae  Abutilon   \n1   https://id.biodiversity.org.au/name/apni/58340   Fabaceae    Acacia   \n2   https://id.biodiversity.org.au/name/apni/58556   Fabaceae    Acacia   \n3   https://id.biodiversity.org.au/name/apni/58565   Fabaceae    Acacia   \n4  https://id.biodiversity.org.au/name/apni/149911   Fabaceae    Acacia   \n\n     Species Infraspecific Rank Infraspecies        Species Author  \\\n0   julianae                  -            -                 Endl.   \n1  ammophila                  -            -                Pedley   \n2    anomala                  -            -  C.A.Gardner ex Court   \n3    aphylla                  -            -                Maslin   \n4     aprica                  -            -   Maslin  A.R.Chapman   \n\n  Infraspecies Author  \n0                   -  \n1                   -  \n2                   -  \n3                   -  \n4                   -  \n\n[5 rows x 35 columns]",
      "text/html": "<div>\n<style scoped>\n    .dataframe tbody tr th:only-of-type {\n        vertical-align: middle;\n    }\n\n    .dataframe tbody tr th {\n        vertical-align: top;\n    }\n\n    .dataframe thead th {\n        text-align: right;\n    }\n</style>\n<table border=\"1\" class=\"dataframe\">\n  <thead>\n    <tr style=\"text-align: right;\">\n      <th></th>\n      <th>Scientific Name</th>\n      <th>Common Name</th>\n      <th>Current Scientific Name</th>\n      <th>Threatened status</th>\n      <th>ACT</th>\n      <th>NSW</th>\n      <th>NT</th>\n      <th>QLD</th>\n      <th>SA</th>\n      <th>TAS</th>\n      <th>...</th>\n      <th>Profile</th>\n      <th>Date extracted</th>\n      <th>NSL Name</th>\n      <th>Family</th>\n      <th>Genus</th>\n      <th>Species</th>\n      <th>Infraspecific Rank</th>\n      <th>Infraspecies</th>\n      <th>Species Author</th>\n      <th>Infraspecies Author</th>\n    </tr>\n  </thead>\n  <tbody>\n    <tr>\n      <th>0</th>\n      <td>Abutilon julianae</td>\n      <td>Norfolk Island Abutilon</td>\n      <td>-</td>\n      <td>Critically Endangered</td>\n      <td>-</td>\n      <td>-</td>\n      <td>-</td>\n      <td>-</td>\n      <td>-</td>\n      <td>-</td>\n      <td>...</td>\n      <td>http://www.environment.gov.au/cgi-bin/sprat/pu...</td>\n      <td>2022-Oct-05</td>\n      <td>https://id.biodiversity.org.au/name/apni/56543</td>\n      <td>Malvaceae</td>\n      <td>Abutilon</td>\n      <td>julianae</td>\n      <td>-</td>\n      <td>-</td>\n      <td>Endl.</td>\n      <td>-</td>\n    </tr>\n    <tr>\n      <th>1</th>\n      <td>Acacia ammophila</td>\n      <td>-</td>\n      <td>-</td>\n      <td>Vulnerable</td>\n      <td>-</td>\n      <td>-</td>\n      <td>-</td>\n      <td>Yes</td>\n      <td>-</td>\n      <td>-</td>\n      <td>...</td>\n      <td>http://www.environment.gov.au/cgi-bin/sprat/pu...</td>\n      <td>2022-Oct-05</td>\n      <td>https://id.biodiversity.org.au/name/apni/58340</td>\n      <td>Fabaceae</td>\n      <td>Acacia</td>\n      <td>ammophila</td>\n      <td>-</td>\n      <td>-</td>\n      <td>Pedley</td>\n      <td>-</td>\n    </tr>\n    <tr>\n      <th>2</th>\n      <td>Acacia anomala</td>\n      <td>Grass Wattle, Chittering Grass Wattle</td>\n      <td>-</td>\n      <td>Vulnerable</td>\n      <td>-</td>\n      <td>-</td>\n      <td>-</td>\n      <td>-</td>\n      <td>-</td>\n      <td>-</td>\n      <td>...</td>\n      <td>http://www.environment.gov.au/cgi-bin/sprat/pu...</td>\n      <td>2022-Oct-05</td>\n      <td>https://id.biodiversity.org.au/name/apni/58556</td>\n      <td>Fabaceae</td>\n      <td>Acacia</td>\n      <td>anomala</td>\n      <td>-</td>\n      <td>-</td>\n      <td>C.A.Gardner ex Court</td>\n      <td>-</td>\n    </tr>\n    <tr>\n      <th>3</th>\n      <td>Acacia aphylla</td>\n      <td>Leafless Rock Wattle</td>\n      <td>-</td>\n      <td>Vulnerable</td>\n      <td>-</td>\n      <td>-</td>\n      <td>-</td>\n      <td>-</td>\n      <td>-</td>\n      <td>-</td>\n      <td>...</td>\n      <td>http://www.environment.gov.au/cgi-bin/sprat/pu...</td>\n      <td>2022-Oct-05</td>\n      <td>https://id.biodiversity.org.au/name/apni/58565</td>\n      <td>Fabaceae</td>\n      <td>Acacia</td>\n      <td>aphylla</td>\n      <td>-</td>\n      <td>-</td>\n      <td>Maslin</td>\n      <td>-</td>\n    </tr>\n    <tr>\n      <th>4</th>\n      <td>Acacia aprica</td>\n      <td>Blunt Wattle</td>\n      <td>-</td>\n      <td>Endangered</td>\n      <td>-</td>\n      <td>-</td>\n      <td>-</td>\n      <td>-</td>\n      <td>-</td>\n      <td>-</td>\n      <td>...</td>\n      <td>http://www.environment.gov.au/cgi-bin/sprat/pu...</td>\n      <td>2022-Oct-05</td>\n      <td>https://id.biodiversity.org.au/name/apni/149911</td>\n      <td>Fabaceae</td>\n      <td>Acacia</td>\n      <td>aprica</td>\n      <td>-</td>\n      <td>-</td>\n      <td>Maslin  A.R.Chapman</td>\n      <td>-</td>\n    </tr>\n  </tbody>\n</table>\n<p>5 rows × 35 columns</p>\n</div>"
     },
     "execution_count": 38,
     "metadata": {},
     "output_type": "execute_result"
    }
   ],
   "source": [
    "epbcreport = pd.read_csv(sourceDataDir + filename,skiprows=0)\n",
    "epbcreport.head(5)"
   ],
   "metadata": {
    "collapsed": false,
    "pycharm": {
     "name": "#%%\n"
    }
   }
  },
  {
   "cell_type": "markdown",
   "source": [
    "## Check values"
   ],
   "metadata": {
    "collapsed": false
   }
  },
  {
   "cell_type": "code",
   "execution_count": 39,
   "outputs": [
    {
     "data": {
      "text/plain": "Kingdom\nPlantae     1411\nAnimalia     562\ndtype: int64"
     },
     "execution_count": 39,
     "metadata": {},
     "output_type": "execute_result"
    }
   ],
   "source": [
    "epbcreport.groupby(\"Kingdom\").size().sort_values(ascending=False)"
   ],
   "metadata": {
    "collapsed": false,
    "pycharm": {
     "name": "#%%\n"
    }
   }
  },
  {
   "cell_type": "code",
   "execution_count": 40,
   "outputs": [
    {
     "data": {
      "text/plain": "Threatened status\nVulnerable                793\nEndangered                748\nCritically Endangered     319\nExtinct                   104\nConservation Dependent      8\nExtinct in the wild         1\ndtype: int64"
     },
     "execution_count": 40,
     "metadata": {},
     "output_type": "execute_result"
    }
   ],
   "source": [
    "epbcreport.groupby(\"Threatened status\").size().sort_values(ascending=False)"
   ],
   "metadata": {
    "collapsed": false,
    "pycharm": {
     "name": "#%%\n"
    }
   }
  },
  {
   "cell_type": "markdown",
   "source": [
    "## Clean up column headers\n",
    "* Darwin Core terms column mappings\n",
    "* Remove multiple spaces from column names\n",
    "* Remove () characters from column names"
   ],
   "metadata": {
    "collapsed": false,
    "pycharm": {
     "name": "#%% md\n"
    }
   }
  },
  {
   "cell_type": "code",
   "execution_count": 41,
   "outputs": [
    {
     "data": {
      "text/plain": "      scientificName                         vernacularName  \\\n0  Abutilon julianae                Norfolk Island Abutilon   \n1   Acacia ammophila                                      -   \n2     Acacia anomala  Grass Wattle, Chittering Grass Wattle   \n3     Acacia aphylla                   Leafless Rock Wattle   \n4      Acacia aprica                           Blunt Wattle   \n\n  Current Scientific Name                 status Australian Capital Territory  \\\n0                       -  Critically Endangered                            -   \n1                       -             Vulnerable                            -   \n2                       -             Vulnerable                            -   \n3                       -             Vulnerable                            -   \n4                       -             Endangered                            -   \n\n  New South Wales Northern Territory Queensland South Australia Tasmania  ...  \\\n0               -                  -          -               -        -  ...   \n1               -                  -        Yes               -        -  ...   \n2               -                  -          -               -        -  ...   \n3               -                  -          -               -        -  ...   \n4               -                  -          -               -        -  ...   \n\n  Date extracted                                         nsl name     family  \\\n0    2022-Oct-05   https://id.biodiversity.org.au/name/apni/56543  Malvaceae   \n1    2022-Oct-05   https://id.biodiversity.org.au/name/apni/58340   Fabaceae   \n2    2022-Oct-05   https://id.biodiversity.org.au/name/apni/58556   Fabaceae   \n3    2022-Oct-05   https://id.biodiversity.org.au/name/apni/58565   Fabaceae   \n4    2022-Oct-05  https://id.biodiversity.org.au/name/apni/149911   Fabaceae   \n\n      genus    species Infraspecific Rank Infraspecies        Species Author  \\\n0  Abutilon   julianae                  -            -                 Endl.   \n1    Acacia  ammophila                  -            -                Pedley   \n2    Acacia    anomala                  -            -  C.A.Gardner ex Court   \n3    Acacia    aphylla                  -            -                Maslin   \n4    Acacia     aprica                  -            -   Maslin  A.R.Chapman   \n\n  Infraspecies Author           sourceStatus  \n0                   -  Critically Endangered  \n1                   -             Vulnerable  \n2                   -             Vulnerable  \n3                   -             Vulnerable  \n4                   -             Endangered  \n\n[5 rows x 36 columns]",
      "text/html": "<div>\n<style scoped>\n    .dataframe tbody tr th:only-of-type {\n        vertical-align: middle;\n    }\n\n    .dataframe tbody tr th {\n        vertical-align: top;\n    }\n\n    .dataframe thead th {\n        text-align: right;\n    }\n</style>\n<table border=\"1\" class=\"dataframe\">\n  <thead>\n    <tr style=\"text-align: right;\">\n      <th></th>\n      <th>scientificName</th>\n      <th>vernacularName</th>\n      <th>Current Scientific Name</th>\n      <th>status</th>\n      <th>Australian Capital Territory</th>\n      <th>New South Wales</th>\n      <th>Northern Territory</th>\n      <th>Queensland</th>\n      <th>South Australia</th>\n      <th>Tasmania</th>\n      <th>...</th>\n      <th>Date extracted</th>\n      <th>nsl name</th>\n      <th>family</th>\n      <th>genus</th>\n      <th>species</th>\n      <th>Infraspecific Rank</th>\n      <th>Infraspecies</th>\n      <th>Species Author</th>\n      <th>Infraspecies Author</th>\n      <th>sourceStatus</th>\n    </tr>\n  </thead>\n  <tbody>\n    <tr>\n      <th>0</th>\n      <td>Abutilon julianae</td>\n      <td>Norfolk Island Abutilon</td>\n      <td>-</td>\n      <td>Critically Endangered</td>\n      <td>-</td>\n      <td>-</td>\n      <td>-</td>\n      <td>-</td>\n      <td>-</td>\n      <td>-</td>\n      <td>...</td>\n      <td>2022-Oct-05</td>\n      <td>https://id.biodiversity.org.au/name/apni/56543</td>\n      <td>Malvaceae</td>\n      <td>Abutilon</td>\n      <td>julianae</td>\n      <td>-</td>\n      <td>-</td>\n      <td>Endl.</td>\n      <td>-</td>\n      <td>Critically Endangered</td>\n    </tr>\n    <tr>\n      <th>1</th>\n      <td>Acacia ammophila</td>\n      <td>-</td>\n      <td>-</td>\n      <td>Vulnerable</td>\n      <td>-</td>\n      <td>-</td>\n      <td>-</td>\n      <td>Yes</td>\n      <td>-</td>\n      <td>-</td>\n      <td>...</td>\n      <td>2022-Oct-05</td>\n      <td>https://id.biodiversity.org.au/name/apni/58340</td>\n      <td>Fabaceae</td>\n      <td>Acacia</td>\n      <td>ammophila</td>\n      <td>-</td>\n      <td>-</td>\n      <td>Pedley</td>\n      <td>-</td>\n      <td>Vulnerable</td>\n    </tr>\n    <tr>\n      <th>2</th>\n      <td>Acacia anomala</td>\n      <td>Grass Wattle, Chittering Grass Wattle</td>\n      <td>-</td>\n      <td>Vulnerable</td>\n      <td>-</td>\n      <td>-</td>\n      <td>-</td>\n      <td>-</td>\n      <td>-</td>\n      <td>-</td>\n      <td>...</td>\n      <td>2022-Oct-05</td>\n      <td>https://id.biodiversity.org.au/name/apni/58556</td>\n      <td>Fabaceae</td>\n      <td>Acacia</td>\n      <td>anomala</td>\n      <td>-</td>\n      <td>-</td>\n      <td>C.A.Gardner ex Court</td>\n      <td>-</td>\n      <td>Vulnerable</td>\n    </tr>\n    <tr>\n      <th>3</th>\n      <td>Acacia aphylla</td>\n      <td>Leafless Rock Wattle</td>\n      <td>-</td>\n      <td>Vulnerable</td>\n      <td>-</td>\n      <td>-</td>\n      <td>-</td>\n      <td>-</td>\n      <td>-</td>\n      <td>-</td>\n      <td>...</td>\n      <td>2022-Oct-05</td>\n      <td>https://id.biodiversity.org.au/name/apni/58565</td>\n      <td>Fabaceae</td>\n      <td>Acacia</td>\n      <td>aphylla</td>\n      <td>-</td>\n      <td>-</td>\n      <td>Maslin</td>\n      <td>-</td>\n      <td>Vulnerable</td>\n    </tr>\n    <tr>\n      <th>4</th>\n      <td>Acacia aprica</td>\n      <td>Blunt Wattle</td>\n      <td>-</td>\n      <td>Endangered</td>\n      <td>-</td>\n      <td>-</td>\n      <td>-</td>\n      <td>-</td>\n      <td>-</td>\n      <td>-</td>\n      <td>...</td>\n      <td>2022-Oct-05</td>\n      <td>https://id.biodiversity.org.au/name/apni/149911</td>\n      <td>Fabaceae</td>\n      <td>Acacia</td>\n      <td>aprica</td>\n      <td>-</td>\n      <td>-</td>\n      <td>Maslin  A.R.Chapman</td>\n      <td>-</td>\n      <td>Endangered</td>\n    </tr>\n  </tbody>\n</table>\n<p>5 rows × 36 columns</p>\n</div>"
     },
     "execution_count": 41,
     "metadata": {},
     "output_type": "execute_result"
    }
   ],
   "source": [
    "epbcreport = epbcreport.rename(columns=\n",
    "                               {'Scientific Name': 'scientificName',\n",
    "                                'Common Name': 'vernacularName',\n",
    "                                'Threatened status': 'status',\n",
    "                                'Kingdom': 'kingdom',\n",
    "                                'Phylum': 'phylum',\n",
    "                                'Class': 'class',\n",
    "                                'Order': 'order',\n",
    "                                'Family': 'family',\n",
    "                                'Genus': 'genus',\n",
    "                                'Species': 'species',\n",
    "                                'ACT':'Australian Capital Territory',\n",
    "                                'NSW': 'New South Wales',\n",
    "                                'NT': 'Northern Territory',\n",
    "                                'QLD': 'Queensland',\n",
    "                                'SA': 'South Australia',\n",
    "                                'TAS': 'Tasmania',\n",
    "                                'VIC': 'Victoria',\n",
    "                                'WA': 'Western Australia',\n",
    "                                'ACI': 'Ashmore and Cartier Islands',\n",
    "                                'CKI': 'Cocos (Keeling) Islands',\n",
    "                                'CI': 'Christmas Island',\n",
    "                                'CSI': 'Coral Sea Islands',\n",
    "                                'JBT': 'Jervis Bay Territory',\n",
    "                                'NFI': 'Norfolk Island',\n",
    "                                'HMI': 'Heard and McDonald Islands',\n",
    "                                'AAT': 'Australian Antarctic Territory',\n",
    "                                'CMA': 'Commonwealth Marine Area',\n",
    "                                'Listed SPRAT TaxonID' : 'listed sprat taxonID',\n",
    "                                'Current SPRAT TaxonID': 'current sprat taxonID',\n",
    "                                'NSL Name': 'nsl name'\n",
    "                                })\n",
    "\n",
    "epbcreport['sourceStatus'] = epbcreport['status']\n",
    "\n",
    "epbcreport.columns = epbcreport.columns.str.replace(\"  \", \"\", regex=True) # remove multiple spacesfrom column names\n",
    "epbcreport.columns = epbcreport.columns.str.replace(r\"[().: ]\", \" \", regex=True) # remove : () from column names\n",
    "epbcreport.columns = epbcreport.columns.str.strip()\n",
    "epbcreport.head(5)"
   ],
   "metadata": {
    "collapsed": false,
    "pycharm": {
     "name": "#%%\n"
    }
   }
  },
  {
   "cell_type": "markdown",
   "source": [
    " ## Data cleaning\n",
    " * status is not empty\n",
    " * correct date formats\n",
    " * remove \"-\" from empty fields"
   ],
   "metadata": {
    "collapsed": false,
    "pycharm": {
     "name": "#%% md\n"
    }
   }
  },
  {
   "cell_type": "code",
   "source": [
    "epbc = epbcreport[epbcreport[\"status\"].notna()]\n",
    "# convert dates\n",
    "epbc['Date extracted'] = pd.to_datetime(epbc['Date extracted'])\n",
    "epbc['Date extracted'] = epbc['Date extracted'].dt.strftime('%Y-%m-%d')\n",
    "epbc = epbc.replace('-','')\n",
    "epbc"
   ],
   "metadata": {
    "collapsed": false,
    "pycharm": {
     "name": "#%%\n"
    }
   },
   "execution_count": 42,
   "outputs": [
    {
     "data": {
      "text/plain": "             scientificName  \\\n0         Abutilon julianae   \n1          Acacia ammophila   \n2            Acacia anomala   \n3            Acacia aphylla   \n4             Acacia aprica   \n...                     ...   \n1968  Zosterops albogularis   \n1969     Zosterops strenuus   \n1970          Zyzomys maini   \n1971      Zyzomys palatalis   \n1972   Zyzomys pedunculatus   \n\n                                         vernacularName  \\\n0                               Norfolk Island Abutilon   \n1                                                         \n2                 Grass Wattle, Chittering Grass Wattle   \n3                                  Leafless Rock Wattle   \n4                                          Blunt Wattle   \n...                                                 ...   \n1968  White-chested White-eye, Norfolk Island Silvereye   \n1969                                   Robust White-eye   \n1970    Arnhem Rock-rat, Arnhem Land Rock-rat, Kodjperr   \n1971               Carpentarian Rock-rat, Aywalirroomoo   \n1972                           Central Rock-rat, Antina   \n\n     Current Scientific Name                 status  \\\n0                             Critically Endangered   \n1                                        Vulnerable   \n2                                        Vulnerable   \n3                                        Vulnerable   \n4                                        Endangered   \n...                      ...                    ...   \n1968                                        Extinct   \n1969                                        Extinct   \n1970                                     Vulnerable   \n1971                                     Endangered   \n1972                          Critically Endangered   \n\n     Australian Capital Territory New South Wales Northern Territory  \\\n0                                                                      \n1                                                                      \n2                                                                      \n3                                                                      \n4                                                                      \n...                           ...             ...                ...   \n1968                                                                   \n1969                                          Yes                      \n1970                                                             Yes   \n1971                                                             Yes   \n1972                                                             Yes   \n\n     Queensland South Australia Tasmania  ... Date extracted  \\\n0                                         ...     2022-10-05   \n1           Yes                           ...     2022-10-05   \n2                                         ...     2022-10-05   \n3                                         ...     2022-10-05   \n4                                         ...     2022-10-05   \n...         ...             ...      ...  ...            ...   \n1968                                      ...     2022-10-05   \n1969                                      ...     2022-10-05   \n1970                                      ...     2022-10-05   \n1971                                      ...     2022-10-05   \n1972                                      ...     2022-10-05   \n\n                                             nsl name        family  \\\n0      https://id.biodiversity.org.au/name/apni/56543     Malvaceae   \n1      https://id.biodiversity.org.au/name/apni/58340      Fabaceae   \n2      https://id.biodiversity.org.au/name/apni/58556      Fabaceae   \n3      https://id.biodiversity.org.au/name/apni/58565      Fabaceae   \n4     https://id.biodiversity.org.au/name/apni/149911      Fabaceae   \n...                                               ...           ...   \n1968                                                   Zosteropidae   \n1969                                                   Zosteropidae   \n1970                                                        Muridae   \n1971                                                        Muridae   \n1972                                                        Muridae   \n\n          genus       species Infraspecific Rank Infraspecies  \\\n0      Abutilon      julianae                                   \n1        Acacia     ammophila                                   \n2        Acacia       anomala                                   \n3        Acacia       aphylla                                   \n4        Acacia        aprica                                   \n...         ...           ...                ...          ...   \n1968  Zosterops   albogularis                                   \n1969  Zosterops      strenuus                                   \n1970    Zyzomys         maini                                   \n1971    Zyzomys     palatalis                                   \n1972    Zyzomys  pedunculatus                                   \n\n            Species Author Infraspecies Author           sourceStatus  \n0                    Endl.                      Critically Endangered  \n1                   Pedley                                 Vulnerable  \n2     C.A.Gardner ex Court                                 Vulnerable  \n3                   Maslin                                 Vulnerable  \n4      Maslin  A.R.Chapman                                 Endangered  \n...                    ...                 ...                    ...  \n1968           Gould, 1837                                    Extinct  \n1969           Gould, 1855                                    Extinct  \n1970        Kitchener,1989                                 Vulnerable  \n1971        Kitchener,1989                                 Endangered  \n1972          (Waite,1896)                      Critically Endangered  \n\n[1973 rows x 36 columns]",
      "text/html": "<div>\n<style scoped>\n    .dataframe tbody tr th:only-of-type {\n        vertical-align: middle;\n    }\n\n    .dataframe tbody tr th {\n        vertical-align: top;\n    }\n\n    .dataframe thead th {\n        text-align: right;\n    }\n</style>\n<table border=\"1\" class=\"dataframe\">\n  <thead>\n    <tr style=\"text-align: right;\">\n      <th></th>\n      <th>scientificName</th>\n      <th>vernacularName</th>\n      <th>Current Scientific Name</th>\n      <th>status</th>\n      <th>Australian Capital Territory</th>\n      <th>New South Wales</th>\n      <th>Northern Territory</th>\n      <th>Queensland</th>\n      <th>South Australia</th>\n      <th>Tasmania</th>\n      <th>...</th>\n      <th>Date extracted</th>\n      <th>nsl name</th>\n      <th>family</th>\n      <th>genus</th>\n      <th>species</th>\n      <th>Infraspecific Rank</th>\n      <th>Infraspecies</th>\n      <th>Species Author</th>\n      <th>Infraspecies Author</th>\n      <th>sourceStatus</th>\n    </tr>\n  </thead>\n  <tbody>\n    <tr>\n      <th>0</th>\n      <td>Abutilon julianae</td>\n      <td>Norfolk Island Abutilon</td>\n      <td></td>\n      <td>Critically Endangered</td>\n      <td></td>\n      <td></td>\n      <td></td>\n      <td></td>\n      <td></td>\n      <td></td>\n      <td>...</td>\n      <td>2022-10-05</td>\n      <td>https://id.biodiversity.org.au/name/apni/56543</td>\n      <td>Malvaceae</td>\n      <td>Abutilon</td>\n      <td>julianae</td>\n      <td></td>\n      <td></td>\n      <td>Endl.</td>\n      <td></td>\n      <td>Critically Endangered</td>\n    </tr>\n    <tr>\n      <th>1</th>\n      <td>Acacia ammophila</td>\n      <td></td>\n      <td></td>\n      <td>Vulnerable</td>\n      <td></td>\n      <td></td>\n      <td></td>\n      <td>Yes</td>\n      <td></td>\n      <td></td>\n      <td>...</td>\n      <td>2022-10-05</td>\n      <td>https://id.biodiversity.org.au/name/apni/58340</td>\n      <td>Fabaceae</td>\n      <td>Acacia</td>\n      <td>ammophila</td>\n      <td></td>\n      <td></td>\n      <td>Pedley</td>\n      <td></td>\n      <td>Vulnerable</td>\n    </tr>\n    <tr>\n      <th>2</th>\n      <td>Acacia anomala</td>\n      <td>Grass Wattle, Chittering Grass Wattle</td>\n      <td></td>\n      <td>Vulnerable</td>\n      <td></td>\n      <td></td>\n      <td></td>\n      <td></td>\n      <td></td>\n      <td></td>\n      <td>...</td>\n      <td>2022-10-05</td>\n      <td>https://id.biodiversity.org.au/name/apni/58556</td>\n      <td>Fabaceae</td>\n      <td>Acacia</td>\n      <td>anomala</td>\n      <td></td>\n      <td></td>\n      <td>C.A.Gardner ex Court</td>\n      <td></td>\n      <td>Vulnerable</td>\n    </tr>\n    <tr>\n      <th>3</th>\n      <td>Acacia aphylla</td>\n      <td>Leafless Rock Wattle</td>\n      <td></td>\n      <td>Vulnerable</td>\n      <td></td>\n      <td></td>\n      <td></td>\n      <td></td>\n      <td></td>\n      <td></td>\n      <td>...</td>\n      <td>2022-10-05</td>\n      <td>https://id.biodiversity.org.au/name/apni/58565</td>\n      <td>Fabaceae</td>\n      <td>Acacia</td>\n      <td>aphylla</td>\n      <td></td>\n      <td></td>\n      <td>Maslin</td>\n      <td></td>\n      <td>Vulnerable</td>\n    </tr>\n    <tr>\n      <th>4</th>\n      <td>Acacia aprica</td>\n      <td>Blunt Wattle</td>\n      <td></td>\n      <td>Endangered</td>\n      <td></td>\n      <td></td>\n      <td></td>\n      <td></td>\n      <td></td>\n      <td></td>\n      <td>...</td>\n      <td>2022-10-05</td>\n      <td>https://id.biodiversity.org.au/name/apni/149911</td>\n      <td>Fabaceae</td>\n      <td>Acacia</td>\n      <td>aprica</td>\n      <td></td>\n      <td></td>\n      <td>Maslin  A.R.Chapman</td>\n      <td></td>\n      <td>Endangered</td>\n    </tr>\n    <tr>\n      <th>...</th>\n      <td>...</td>\n      <td>...</td>\n      <td>...</td>\n      <td>...</td>\n      <td>...</td>\n      <td>...</td>\n      <td>...</td>\n      <td>...</td>\n      <td>...</td>\n      <td>...</td>\n      <td>...</td>\n      <td>...</td>\n      <td>...</td>\n      <td>...</td>\n      <td>...</td>\n      <td>...</td>\n      <td>...</td>\n      <td>...</td>\n      <td>...</td>\n      <td>...</td>\n      <td>...</td>\n    </tr>\n    <tr>\n      <th>1968</th>\n      <td>Zosterops albogularis</td>\n      <td>White-chested White-eye, Norfolk Island Silvereye</td>\n      <td></td>\n      <td>Extinct</td>\n      <td></td>\n      <td></td>\n      <td></td>\n      <td></td>\n      <td></td>\n      <td></td>\n      <td>...</td>\n      <td>2022-10-05</td>\n      <td></td>\n      <td>Zosteropidae</td>\n      <td>Zosterops</td>\n      <td>albogularis</td>\n      <td></td>\n      <td></td>\n      <td>Gould, 1837</td>\n      <td></td>\n      <td>Extinct</td>\n    </tr>\n    <tr>\n      <th>1969</th>\n      <td>Zosterops strenuus</td>\n      <td>Robust White-eye</td>\n      <td></td>\n      <td>Extinct</td>\n      <td></td>\n      <td>Yes</td>\n      <td></td>\n      <td></td>\n      <td></td>\n      <td></td>\n      <td>...</td>\n      <td>2022-10-05</td>\n      <td></td>\n      <td>Zosteropidae</td>\n      <td>Zosterops</td>\n      <td>strenuus</td>\n      <td></td>\n      <td></td>\n      <td>Gould, 1855</td>\n      <td></td>\n      <td>Extinct</td>\n    </tr>\n    <tr>\n      <th>1970</th>\n      <td>Zyzomys maini</td>\n      <td>Arnhem Rock-rat, Arnhem Land Rock-rat, Kodjperr</td>\n      <td></td>\n      <td>Vulnerable</td>\n      <td></td>\n      <td></td>\n      <td>Yes</td>\n      <td></td>\n      <td></td>\n      <td></td>\n      <td>...</td>\n      <td>2022-10-05</td>\n      <td></td>\n      <td>Muridae</td>\n      <td>Zyzomys</td>\n      <td>maini</td>\n      <td></td>\n      <td></td>\n      <td>Kitchener,1989</td>\n      <td></td>\n      <td>Vulnerable</td>\n    </tr>\n    <tr>\n      <th>1971</th>\n      <td>Zyzomys palatalis</td>\n      <td>Carpentarian Rock-rat, Aywalirroomoo</td>\n      <td></td>\n      <td>Endangered</td>\n      <td></td>\n      <td></td>\n      <td>Yes</td>\n      <td></td>\n      <td></td>\n      <td></td>\n      <td>...</td>\n      <td>2022-10-05</td>\n      <td></td>\n      <td>Muridae</td>\n      <td>Zyzomys</td>\n      <td>palatalis</td>\n      <td></td>\n      <td></td>\n      <td>Kitchener,1989</td>\n      <td></td>\n      <td>Endangered</td>\n    </tr>\n    <tr>\n      <th>1972</th>\n      <td>Zyzomys pedunculatus</td>\n      <td>Central Rock-rat, Antina</td>\n      <td></td>\n      <td>Critically Endangered</td>\n      <td></td>\n      <td></td>\n      <td>Yes</td>\n      <td></td>\n      <td></td>\n      <td></td>\n      <td>...</td>\n      <td>2022-10-05</td>\n      <td></td>\n      <td>Muridae</td>\n      <td>Zyzomys</td>\n      <td>pedunculatus</td>\n      <td></td>\n      <td></td>\n      <td>(Waite,1896)</td>\n      <td></td>\n      <td>Critically Endangered</td>\n    </tr>\n  </tbody>\n</table>\n<p>1973 rows × 36 columns</p>\n</div>"
     },
     "execution_count": 42,
     "metadata": {},
     "output_type": "execute_result"
    }
   ]
  },
  {
   "cell_type": "markdown",
   "source": [
    "## Check values"
   ],
   "metadata": {
    "collapsed": false
   }
  },
  {
   "cell_type": "code",
   "execution_count": 45,
   "outputs": [
    {
     "data": {
      "text/plain": "kingdom\nPlantae     1411\nAnimalia     562\ndtype: int64"
     },
     "execution_count": 45,
     "metadata": {},
     "output_type": "execute_result"
    }
   ],
   "source": [
    "epbcreport.groupby(\"kingdom\").size().sort_values(ascending=False)"
   ],
   "metadata": {
    "collapsed": false,
    "pycharm": {
     "name": "#%%\n"
    }
   }
  },
  {
   "cell_type": "code",
   "execution_count": 47,
   "outputs": [
    {
     "data": {
      "text/plain": "status\nVulnerable                793\nEndangered                748\nCritically Endangered     319\nExtinct                   104\nConservation Dependent      8\nExtinct in the wild         1\ndtype: int64"
     },
     "execution_count": 47,
     "metadata": {},
     "output_type": "execute_result"
    }
   ],
   "source": [
    "epbcreport.groupby(\"status\").size().sort_values(ascending=False)"
   ],
   "metadata": {
    "collapsed": false,
    "pycharm": {
     "name": "#%%\n"
    }
   }
  },
  {
   "cell_type": "code",
   "execution_count": null,
   "outputs": [],
   "source": [],
   "metadata": {
    "collapsed": false,
    "pycharm": {
     "name": "#%%\n"
    }
   }
  },
  {
   "cell_type": "markdown",
   "source": [
    "## Write to CSV"
   ],
   "metadata": {
    "collapsed": false,
    "pycharm": {
     "name": "#%% md\n"
    }
   }
  },
  {
   "cell_type": "code",
   "execution_count": null,
   "outputs": [],
   "source": [
    "epbc.to_csv(processedDataDir + \"EPBC-conservation.csv\",encoding=\"UTF-8\",index=False)"
   ],
   "metadata": {
    "collapsed": false,
    "pycharm": {
     "name": "#%%\n"
    }
   }
  },
  {
   "cell_type": "markdown",
   "source": [
    "# List check intructions\n",
    "\n",
    "1. Load the list above into the lists-test tool for this data resource\n",
    "2. Run the reports below to compare to production. Send the changelog.csv to check. Correct any issues.\n",
    "3. Save the production list into the `historical lists` directory by uncommenting the code section below.\n",
    "4. Load the list into production\n"
   ],
   "metadata": {
    "collapsed": false
   }
  },
  {
   "cell_type": "code",
   "execution_count": 55,
   "outputs": [
    {
     "data": {
      "text/plain": "           id                   name                commonName  \\\n0     4075727      Abutilon julianae   Norfolk Island Abutilon   \n1     4074225       Acacia ammophila                      None   \n2     4074678         Acacia anomala              Grass Wattle   \n3     4074871         Acacia aphylla      Leafless Rock Wattle   \n4     4074515          Acacia aprica              Blunt Wattle   \n...       ...                    ...                       ...   \n1953  4074076  Zosterops albogularis  Norfolk Island Silvereye   \n1954  4074179     Zosterops strenuus          Robust White-eye   \n1955  4074434          Zyzomys maini           Arnhem Rock-rat   \n1956  4074755      Zyzomys palatalis     Carpentarian Rock-rat   \n1957  4074557   Zyzomys pedunculatus          Central Rock-rat   \n\n             scientificName  \\\n0         Abutilon julianae   \n1          Acacia ammophila   \n2            Acacia anomala   \n3            Acacia aphylla   \n4             Acacia aprica   \n...                     ...   \n1953  Zosterops albogularis   \n1954     Zosterops strenuus   \n1955          Zyzomys maini   \n1956      Zyzomys palatalis   \n1957   Zyzomys pedunculatus   \n\n                                                   lsid dataResourceUid  \n0      https://id.biodiversity.org.au/node/apni/2900707           dr656  \n1      https://id.biodiversity.org.au/node/apni/2899480           dr656  \n2      https://id.biodiversity.org.au/node/apni/2914483           dr656  \n3      https://id.biodiversity.org.au/node/apni/2913504           dr656  \n4      https://id.biodiversity.org.au/node/apni/2903843           dr656  \n...                                                 ...             ...  \n1953  https://biodiversity.org.au/afd/taxa/a1fe2952-...           dr656  \n1954  https://biodiversity.org.au/afd/taxa/942564ee-...           dr656  \n1955  https://biodiversity.org.au/afd/taxa/3f638397-...           dr656  \n1956  https://biodiversity.org.au/afd/taxa/54aa72cc-...           dr656  \n1957  https://biodiversity.org.au/afd/taxa/33ab483d-...           dr656  \n\n[1958 rows x 6 columns]",
      "text/html": "<div>\n<style scoped>\n    .dataframe tbody tr th:only-of-type {\n        vertical-align: middle;\n    }\n\n    .dataframe tbody tr th {\n        vertical-align: top;\n    }\n\n    .dataframe thead th {\n        text-align: right;\n    }\n</style>\n<table border=\"1\" class=\"dataframe\">\n  <thead>\n    <tr style=\"text-align: right;\">\n      <th></th>\n      <th>id</th>\n      <th>name</th>\n      <th>commonName</th>\n      <th>scientificName</th>\n      <th>lsid</th>\n      <th>dataResourceUid</th>\n    </tr>\n  </thead>\n  <tbody>\n    <tr>\n      <th>0</th>\n      <td>4075727</td>\n      <td>Abutilon julianae</td>\n      <td>Norfolk Island Abutilon</td>\n      <td>Abutilon julianae</td>\n      <td>https://id.biodiversity.org.au/node/apni/2900707</td>\n      <td>dr656</td>\n    </tr>\n    <tr>\n      <th>1</th>\n      <td>4074225</td>\n      <td>Acacia ammophila</td>\n      <td>None</td>\n      <td>Acacia ammophila</td>\n      <td>https://id.biodiversity.org.au/node/apni/2899480</td>\n      <td>dr656</td>\n    </tr>\n    <tr>\n      <th>2</th>\n      <td>4074678</td>\n      <td>Acacia anomala</td>\n      <td>Grass Wattle</td>\n      <td>Acacia anomala</td>\n      <td>https://id.biodiversity.org.au/node/apni/2914483</td>\n      <td>dr656</td>\n    </tr>\n    <tr>\n      <th>3</th>\n      <td>4074871</td>\n      <td>Acacia aphylla</td>\n      <td>Leafless Rock Wattle</td>\n      <td>Acacia aphylla</td>\n      <td>https://id.biodiversity.org.au/node/apni/2913504</td>\n      <td>dr656</td>\n    </tr>\n    <tr>\n      <th>4</th>\n      <td>4074515</td>\n      <td>Acacia aprica</td>\n      <td>Blunt Wattle</td>\n      <td>Acacia aprica</td>\n      <td>https://id.biodiversity.org.au/node/apni/2903843</td>\n      <td>dr656</td>\n    </tr>\n    <tr>\n      <th>...</th>\n      <td>...</td>\n      <td>...</td>\n      <td>...</td>\n      <td>...</td>\n      <td>...</td>\n      <td>...</td>\n    </tr>\n    <tr>\n      <th>1953</th>\n      <td>4074076</td>\n      <td>Zosterops albogularis</td>\n      <td>Norfolk Island Silvereye</td>\n      <td>Zosterops albogularis</td>\n      <td>https://biodiversity.org.au/afd/taxa/a1fe2952-...</td>\n      <td>dr656</td>\n    </tr>\n    <tr>\n      <th>1954</th>\n      <td>4074179</td>\n      <td>Zosterops strenuus</td>\n      <td>Robust White-eye</td>\n      <td>Zosterops strenuus</td>\n      <td>https://biodiversity.org.au/afd/taxa/942564ee-...</td>\n      <td>dr656</td>\n    </tr>\n    <tr>\n      <th>1955</th>\n      <td>4074434</td>\n      <td>Zyzomys maini</td>\n      <td>Arnhem Rock-rat</td>\n      <td>Zyzomys maini</td>\n      <td>https://biodiversity.org.au/afd/taxa/3f638397-...</td>\n      <td>dr656</td>\n    </tr>\n    <tr>\n      <th>1956</th>\n      <td>4074755</td>\n      <td>Zyzomys palatalis</td>\n      <td>Carpentarian Rock-rat</td>\n      <td>Zyzomys palatalis</td>\n      <td>https://biodiversity.org.au/afd/taxa/54aa72cc-...</td>\n      <td>dr656</td>\n    </tr>\n    <tr>\n      <th>1957</th>\n      <td>4074557</td>\n      <td>Zyzomys pedunculatus</td>\n      <td>Central Rock-rat</td>\n      <td>Zyzomys pedunculatus</td>\n      <td>https://biodiversity.org.au/afd/taxa/33ab483d-...</td>\n      <td>dr656</td>\n    </tr>\n  </tbody>\n</table>\n<p>1958 rows × 6 columns</p>\n</div>"
     },
     "execution_count": 55,
     "metadata": {},
     "output_type": "execute_result"
    }
   ],
   "source": [
    "def download_ala_list(url:str):\n",
    " with urllib.request.urlopen(url,context=ssl.create_default_context(cafile=certifi.where())) as url:\n",
    "  data = json.loads(url.read().decode())\n",
    "  data = pd.json_normalize(data)\n",
    "  return data\n",
    "\n",
    "# download the prod list\n",
    "prodListUrl = \"https://lists.ala.org.au/ws/speciesListItems/dr656?max=10000\"\n",
    "prodList = download_ala_list(prodListUrl)\n",
    "prodList"
   ],
   "metadata": {
    "collapsed": false,
    "pycharm": {
     "name": "#%%\n"
    }
   }
  },
  {
   "cell_type": "code",
   "execution_count": 56,
   "outputs": [
    {
     "data": {
      "text/plain": "           id                   name                commonName  \\\n0     2751018      Abutilon julianae   Norfolk Island Abutilon   \n1     2752107       Acacia ammophila                      None   \n2     2750998         Acacia anomala              Grass Wattle   \n3     2752597         Acacia aphylla      Leafless Rock Wattle   \n4     2751819          Acacia aprica              Blunt Wattle   \n...       ...                    ...                       ...   \n1968  2751451  Zosterops albogularis  Norfolk Island Silvereye   \n1969  2751295     Zosterops strenuus          Robust White-eye   \n1970  2750796          Zyzomys maini           Arnhem Rock-rat   \n1971  2750811      Zyzomys palatalis     Carpentarian Rock-rat   \n1972  2750780   Zyzomys pedunculatus          Central Rock-rat   \n\n             scientificName  \\\n0         Abutilon julianae   \n1          Acacia ammophila   \n2            Acacia anomala   \n3            Acacia aphylla   \n4             Acacia aprica   \n...                     ...   \n1968  Zosterops albogularis   \n1969     Zosterops strenuus   \n1970          Zyzomys maini   \n1971      Zyzomys palatalis   \n1972   Zyzomys pedunculatus   \n\n                                                   lsid dataResourceUid  \n0      https://id.biodiversity.org.au/node/apni/2900707           dr656  \n1      https://id.biodiversity.org.au/node/apni/2899480           dr656  \n2      https://id.biodiversity.org.au/node/apni/2914483           dr656  \n3      https://id.biodiversity.org.au/node/apni/2913504           dr656  \n4      https://id.biodiversity.org.au/node/apni/2903843           dr656  \n...                                                 ...             ...  \n1968  https://biodiversity.org.au/afd/taxa/a1fe2952-...           dr656  \n1969  https://biodiversity.org.au/afd/taxa/942564ee-...           dr656  \n1970  https://biodiversity.org.au/afd/taxa/3f638397-...           dr656  \n1971  https://biodiversity.org.au/afd/taxa/54aa72cc-...           dr656  \n1972  https://biodiversity.org.au/afd/taxa/33ab483d-...           dr656  \n\n[1973 rows x 6 columns]",
      "text/html": "<div>\n<style scoped>\n    .dataframe tbody tr th:only-of-type {\n        vertical-align: middle;\n    }\n\n    .dataframe tbody tr th {\n        vertical-align: top;\n    }\n\n    .dataframe thead th {\n        text-align: right;\n    }\n</style>\n<table border=\"1\" class=\"dataframe\">\n  <thead>\n    <tr style=\"text-align: right;\">\n      <th></th>\n      <th>id</th>\n      <th>name</th>\n      <th>commonName</th>\n      <th>scientificName</th>\n      <th>lsid</th>\n      <th>dataResourceUid</th>\n    </tr>\n  </thead>\n  <tbody>\n    <tr>\n      <th>0</th>\n      <td>2751018</td>\n      <td>Abutilon julianae</td>\n      <td>Norfolk Island Abutilon</td>\n      <td>Abutilon julianae</td>\n      <td>https://id.biodiversity.org.au/node/apni/2900707</td>\n      <td>dr656</td>\n    </tr>\n    <tr>\n      <th>1</th>\n      <td>2752107</td>\n      <td>Acacia ammophila</td>\n      <td>None</td>\n      <td>Acacia ammophila</td>\n      <td>https://id.biodiversity.org.au/node/apni/2899480</td>\n      <td>dr656</td>\n    </tr>\n    <tr>\n      <th>2</th>\n      <td>2750998</td>\n      <td>Acacia anomala</td>\n      <td>Grass Wattle</td>\n      <td>Acacia anomala</td>\n      <td>https://id.biodiversity.org.au/node/apni/2914483</td>\n      <td>dr656</td>\n    </tr>\n    <tr>\n      <th>3</th>\n      <td>2752597</td>\n      <td>Acacia aphylla</td>\n      <td>Leafless Rock Wattle</td>\n      <td>Acacia aphylla</td>\n      <td>https://id.biodiversity.org.au/node/apni/2913504</td>\n      <td>dr656</td>\n    </tr>\n    <tr>\n      <th>4</th>\n      <td>2751819</td>\n      <td>Acacia aprica</td>\n      <td>Blunt Wattle</td>\n      <td>Acacia aprica</td>\n      <td>https://id.biodiversity.org.au/node/apni/2903843</td>\n      <td>dr656</td>\n    </tr>\n    <tr>\n      <th>...</th>\n      <td>...</td>\n      <td>...</td>\n      <td>...</td>\n      <td>...</td>\n      <td>...</td>\n      <td>...</td>\n    </tr>\n    <tr>\n      <th>1968</th>\n      <td>2751451</td>\n      <td>Zosterops albogularis</td>\n      <td>Norfolk Island Silvereye</td>\n      <td>Zosterops albogularis</td>\n      <td>https://biodiversity.org.au/afd/taxa/a1fe2952-...</td>\n      <td>dr656</td>\n    </tr>\n    <tr>\n      <th>1969</th>\n      <td>2751295</td>\n      <td>Zosterops strenuus</td>\n      <td>Robust White-eye</td>\n      <td>Zosterops strenuus</td>\n      <td>https://biodiversity.org.au/afd/taxa/942564ee-...</td>\n      <td>dr656</td>\n    </tr>\n    <tr>\n      <th>1970</th>\n      <td>2750796</td>\n      <td>Zyzomys maini</td>\n      <td>Arnhem Rock-rat</td>\n      <td>Zyzomys maini</td>\n      <td>https://biodiversity.org.au/afd/taxa/3f638397-...</td>\n      <td>dr656</td>\n    </tr>\n    <tr>\n      <th>1971</th>\n      <td>2750811</td>\n      <td>Zyzomys palatalis</td>\n      <td>Carpentarian Rock-rat</td>\n      <td>Zyzomys palatalis</td>\n      <td>https://biodiversity.org.au/afd/taxa/54aa72cc-...</td>\n      <td>dr656</td>\n    </tr>\n    <tr>\n      <th>1972</th>\n      <td>2750780</td>\n      <td>Zyzomys pedunculatus</td>\n      <td>Central Rock-rat</td>\n      <td>Zyzomys pedunculatus</td>\n      <td>https://biodiversity.org.au/afd/taxa/33ab483d-...</td>\n      <td>dr656</td>\n    </tr>\n  </tbody>\n</table>\n<p>1973 rows × 6 columns</p>\n</div>"
     },
     "execution_count": 56,
     "metadata": {},
     "output_type": "execute_result"
    }
   ],
   "source": [
    "testListUrl = \"https://lists-test.ala.org.au/ws/speciesListItems/dr656?max=10000\"\n",
    "testList = download_ala_list(testListUrl)\n",
    "testList"
   ],
   "metadata": {
    "collapsed": false,
    "pycharm": {
     "name": "#%%\n"
    }
   }
  },
  {
   "cell_type": "code",
   "execution_count": 78,
   "outputs": [
    {
     "data": {
      "text/plain": "       status                            name              scientificName_x  \\\n82      added    Acanthiza pusilla archibaldi  Acanthiza pusilla archibaldi   \n82    removed  Acanthiza pusilla magnirostris                           NaN   \n139     added          Androcalva perkinsiana        Androcalva perkinsiana   \n142   removed      Angianthus phyllocalymmeus                           NaN   \n149   removed                   Anstisia alba                           NaN   \n...       ...                             ...                           ...   \n1895  removed           Vincetoxicum forsteri                           NaN   \n1896  removed           Vincetoxicum rupicola                           NaN   \n1897  removed           Vincetoxicum woollsii                           NaN   \n1923  removed                  Zanda baudinii                           NaN   \n1924  removed               Zanda latirostris                           NaN   \n\n     scientificName_y                 commonName_x commonName_y  \n82                NaN  King Island Brown Thornbill          NaN  \n82                NaN                          NaN          NaN  \n139               NaN                         None          NaN  \n142               NaN                          NaN          NaN  \n149               NaN                          NaN          NaN  \n...               ...                          ...          ...  \n1895              NaN                          NaN          NaN  \n1896              NaN                          NaN          NaN  \n1897              NaN                          NaN          NaN  \n1923              NaN                          NaN          NaN  \n1924              NaN                          NaN          NaN  \n\n[71 rows x 6 columns]",
      "text/html": "<div>\n<style scoped>\n    .dataframe tbody tr th:only-of-type {\n        vertical-align: middle;\n    }\n\n    .dataframe tbody tr th {\n        vertical-align: top;\n    }\n\n    .dataframe thead th {\n        text-align: right;\n    }\n</style>\n<table border=\"1\" class=\"dataframe\">\n  <thead>\n    <tr style=\"text-align: right;\">\n      <th></th>\n      <th>status</th>\n      <th>name</th>\n      <th>scientificName_x</th>\n      <th>scientificName_y</th>\n      <th>commonName_x</th>\n      <th>commonName_y</th>\n    </tr>\n  </thead>\n  <tbody>\n    <tr>\n      <th>82</th>\n      <td>added</td>\n      <td>Acanthiza pusilla archibaldi</td>\n      <td>Acanthiza pusilla archibaldi</td>\n      <td>NaN</td>\n      <td>King Island Brown Thornbill</td>\n      <td>NaN</td>\n    </tr>\n    <tr>\n      <th>82</th>\n      <td>removed</td>\n      <td>Acanthiza pusilla magnirostris</td>\n      <td>NaN</td>\n      <td>NaN</td>\n      <td>NaN</td>\n      <td>NaN</td>\n    </tr>\n    <tr>\n      <th>139</th>\n      <td>added</td>\n      <td>Androcalva perkinsiana</td>\n      <td>Androcalva perkinsiana</td>\n      <td>NaN</td>\n      <td>None</td>\n      <td>NaN</td>\n    </tr>\n    <tr>\n      <th>142</th>\n      <td>removed</td>\n      <td>Angianthus phyllocalymmeus</td>\n      <td>NaN</td>\n      <td>NaN</td>\n      <td>NaN</td>\n      <td>NaN</td>\n    </tr>\n    <tr>\n      <th>149</th>\n      <td>removed</td>\n      <td>Anstisia alba</td>\n      <td>NaN</td>\n      <td>NaN</td>\n      <td>NaN</td>\n      <td>NaN</td>\n    </tr>\n    <tr>\n      <th>...</th>\n      <td>...</td>\n      <td>...</td>\n      <td>...</td>\n      <td>...</td>\n      <td>...</td>\n      <td>...</td>\n    </tr>\n    <tr>\n      <th>1895</th>\n      <td>removed</td>\n      <td>Vincetoxicum forsteri</td>\n      <td>NaN</td>\n      <td>NaN</td>\n      <td>NaN</td>\n      <td>NaN</td>\n    </tr>\n    <tr>\n      <th>1896</th>\n      <td>removed</td>\n      <td>Vincetoxicum rupicola</td>\n      <td>NaN</td>\n      <td>NaN</td>\n      <td>NaN</td>\n      <td>NaN</td>\n    </tr>\n    <tr>\n      <th>1897</th>\n      <td>removed</td>\n      <td>Vincetoxicum woollsii</td>\n      <td>NaN</td>\n      <td>NaN</td>\n      <td>NaN</td>\n      <td>NaN</td>\n    </tr>\n    <tr>\n      <th>1923</th>\n      <td>removed</td>\n      <td>Zanda baudinii</td>\n      <td>NaN</td>\n      <td>NaN</td>\n      <td>NaN</td>\n      <td>NaN</td>\n    </tr>\n    <tr>\n      <th>1924</th>\n      <td>removed</td>\n      <td>Zanda latirostris</td>\n      <td>NaN</td>\n      <td>NaN</td>\n      <td>NaN</td>\n      <td>NaN</td>\n    </tr>\n  </tbody>\n</table>\n<p>71 rows × 6 columns</p>\n</div>"
     },
     "execution_count": 78,
     "metadata": {},
     "output_type": "execute_result"
    }
   ],
   "source": [
    "# new names\n",
    "testvsprod = pd.merge(testList,prodList,how='left',on='name')\n",
    "testvsprod = testvsprod[testvsprod['scientificName_y'].isna()][['name','commonName_x','scientificName_x']]\n",
    "testvsprod['status'] = 'added'\n",
    "# old names\n",
    "prodvstest = pd.merge(prodList,testList,how='left',on='name')\n",
    "prodvstest = prodvstest[prodvstest['scientificName_y'].isna()][['name','commonName_y','scientificName_y']]\n",
    "prodvstest['status'] = 'removed'\n",
    "# union and display in alphabetical orderf\n",
    "changelist = pd.concat([testvsprod,prodvstest])\n",
    "changelist[['status','name','scientificName_x','scientificName_y','commonName_x','commonName_y']].sort_values('name')"
   ],
   "metadata": {
    "collapsed": false,
    "pycharm": {
     "name": "#%%\n"
    }
   }
  },
  {
   "cell_type": "code",
   "execution_count": 80,
   "outputs": [],
   "source": [
    "# save the prod list to the historical lists directory\n",
    "prodList.to_csv(projectDir + \"historical-lists/conservation/EPBC_Act_Threatened_Species.csv\",encoding=\"UTF-8\",index=False)\n",
    "# save the change log\n",
    "changelist.to_csv(projectDir + \"analysis/change-log/202211-EPBC-conservation.csv\",encoding=\"UTF-8\",index=False)"
   ],
   "metadata": {
    "collapsed": false,
    "pycharm": {
     "name": "#%%\n"
    }
   }
  }
 ],
 "metadata": {
  "kernelspec": {
   "display_name": "Python 3",
   "language": "python",
   "name": "python3"
  },
  "language_info": {
   "codemirror_mode": {
    "name": "ipython",
    "version": 2
   },
   "file_extension": ".py",
   "mimetype": "text/x-python",
   "name": "python",
   "nbconvert_exporter": "python",
   "pygments_lexer": "ipython2",
   "version": "2.7.6"
  }
 },
 "nbformat": 4,
 "nbformat_minor": 0
}