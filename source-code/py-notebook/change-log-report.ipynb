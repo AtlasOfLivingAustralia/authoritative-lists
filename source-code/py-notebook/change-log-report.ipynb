{
 "cells": [
  {
   "cell_type": "markdown",
   "source": [
    "# Change Log Report - Manual List check\n",
    "\n",
    "**Instructions**\n",
    "\n",
    "1. Load the lists above into the lists-test tool\n",
    "2. Check the list name matching score and the text appearance on species pages\n",
    "3. Unskip the below code and Run the reports below to compare to production. Send the changelog.csv to check. Correct any issues.\n",
    "4. Save the production list into the `historical lists` directory by uncommenting the code section below.\n",
    "5. Load the lists into production\n",
    "\n",
    "Compare Test and Production data for:\n",
    "\n",
    "    1. Conservation lists\n",
    "    2. Sensitive lists\n",
    "\n",
    "Output change log files to : ..\\authoritative-lists\\analysis\\change-log\n",
    "\n"
   ],
   "metadata": {
    "collapsed": false,
    "pycharm": {
     "name": "#%% md\n"
    }
   }
  },
  {
   "cell_type": "code",
   "execution_count": 1,
   "outputs": [],
   "source": [
    "projectdir = \"/Users/oco115/PycharmProjects/authoritative-lists/\"\n",
    "changedir = projectdir + \"analysis/change-log/\"\n",
    "import datetime\n",
    "import os\n",
    "import sys\n",
    "sys.path.append(os.path.abspath(projectdir + \"source-code/includes\"))\n",
    "monthStr = datetime.datetime.now().strftime('%Y%m%d')\n",
    "import list_functions as lf"
   ],
   "metadata": {
    "collapsed": false,
    "pycharm": {
     "name": "#%%\n"
    }
   }
  },
  {
   "cell_type": "markdown",
   "source": [
    "## Conservation Lists"
   ],
   "metadata": {
    "collapsed": false,
    "pycharm": {
     "name": "#%% md\n"
    }
   }
  },
  {
   "cell_type": "code",
   "execution_count": null,
   "outputs": [],
   "source": [
    "ltype=\"C\"\n",
    "# ACT Conservation\n",
    "filename = \"ACT-conservation.csv\"\n",
    "testdr = \"dr649\"\n",
    "proddr = \"dr649\"\n",
    "changelist = lf.get_changelist(testdr, proddr, ltype)\n",
    "changelist.to_csv(projectdir + changedir + monthStr + \"-\" + filename, encoding=\"UTF-8\", index=False)\n",
    "changelist"
   ],
   "metadata": {
    "collapsed": false,
    "pycharm": {
     "name": "#%%\n"
    }
   }
  },
  {
   "cell_type": "code",
   "execution_count": null,
   "outputs": [],
   "source": [
    "# EPBC Conservation\n",
    "filename = \"EPBC-conservation.csv\"\n",
    "testdr = \"dr656\"\n",
    "proddr = \"dr656\"\n",
    "changelist = lf.get_changelist(testdr, proddr, ltype)\n",
    "changelist.to_csv(projectdir + changedir + monthStr + \"-\" + filename, encoding=\"UTF-8\", index=False)\n",
    "changelist"
   ],
   "metadata": {
    "collapsed": false,
    "pycharm": {
     "name": "#%%\n"
    }
   }
  },
  {
   "cell_type": "code",
   "execution_count": null,
   "outputs": [],
   "source": [
    "# NSW conservation\n",
    "filename = \"NSW-conservation.csv\"\n",
    "testdr = \"dr650\"\n",
    "proddr = \"dr650\"\n",
    "changelist = lf.get_changelist(testdr, proddr, ltype)\n",
    "changelist.to_csv(projectdir + changedir + monthStr + \"-\" + filename, encoding=\"UTF-8\", index=False)\n",
    "changelist"
   ],
   "metadata": {
    "collapsed": false,
    "pycharm": {
     "name": "#%%\n"
    }
   }
  },
  {
   "cell_type": "code",
   "execution_count": null,
   "outputs": [],
   "source": [
    "# NT Conservation\n",
    "filename = \"NT-conservation.csv\"\n",
    "testdr = \"dr651\"\n",
    "proddr = \"dr651\"\n",
    "changelist = lf.get_changelist(testdr, proddr, ltype)\n",
    "changelist.to_csv(projectdir + changedir + monthStr + \"-\" + filename, encoding=\"UTF-8\", index=False)\n",
    "changelist"
   ],
   "metadata": {
    "collapsed": false,
    "pycharm": {
     "name": "#%%\n"
    }
   }
  },
  {
   "cell_type": "code",
   "execution_count": null,
   "outputs": [],
   "source": [
    "#Qld Conservation\n",
    "filename = \"QLD-conservation.csv\"\n",
    "testdr = \"dr652\"\n",
    "proddr = \"dr652\"\n",
    "changelist = lf.get_changelist(testdr, proddr, ltype)\n",
    "changelist.to_csv(projectdir + changedir + monthStr + \"-\" + filename, encoding=\"UTF-8\", index=False)\n",
    "changelist"
   ],
   "metadata": {
    "collapsed": false,
    "pycharm": {
     "name": "#%%\n"
    }
   }
  },
  {
   "cell_type": "code",
   "execution_count": null,
   "outputs": [],
   "source": [
    "#SA Conservation\n",
    "filename = \"SA-conservation.csv\"\n",
    "testdr = \"dr653\"\n",
    "proddr = \"dr653\"\n",
    "changelist = lf.get_changelist(testdr, proddr, ltype)\n",
    "changelist.to_csv(projectdir + changedir + monthStr + \"-\" + filename, encoding=\"UTF-8\", index=False)\n",
    "changelist"
   ],
   "metadata": {
    "collapsed": false,
    "pycharm": {
     "name": "#%%\n"
    }
   }
  },
  {
   "cell_type": "code",
   "execution_count": null,
   "outputs": [],
   "source": [
    "#TAS Conservation\n",
    "filename = \"TAS-conservation.csv\"\n",
    "testdr = \"dr654\"\n",
    "proddr = \"dr654\"\n",
    "changelist = lf.get_changelist(testdr, proddr, ltype)\n",
    "changelist.to_csv(projectdir + changedir + monthStr + \"-\" + filename, encoding=\"UTF-8\", index=False)\n",
    "changelist"
   ],
   "metadata": {
    "collapsed": false,
    "pycharm": {
     "name": "#%%\n"
    }
   }
  },
  {
   "cell_type": "code",
   "execution_count": null,
   "outputs": [],
   "source": [
    "#VIC Conservation\n",
    "filename = \"VIC-conservation.csv\"\n",
    "testdr = \"dr655\"\n",
    "proddr = \"dr655\"\n",
    "changelist = lf.get_changelist(testdr, proddr, ltype)\n",
    "changelist.to_csv(projectdir + changedir + monthStr + \"-\" + filename, encoding=\"UTF-8\", index=False)\n",
    "changelist"
   ],
   "metadata": {
    "collapsed": false,
    "pycharm": {
     "name": "#%%\n"
    }
   }
  },
  {
   "cell_type": "code",
   "execution_count": null,
   "outputs": [],
   "source": [
    "#WA Conservation\n",
    "filename = \"WA-conservation.csv\"\n",
    "testdr = \"dr2201\"\n",
    "proddr = \"dr2201\"\n",
    "changelist = lf.get_changelist(testdr, proddr, ltype)\n",
    "changelist.to_csv(projectdir + changedir + monthStr + \"-\" + filename, encoding=\"UTF-8\", index=False)\n",
    "changelist"
   ],
   "metadata": {
    "collapsed": false,
    "pycharm": {
     "name": "#%%\n"
    }
   }
  },
  {
   "cell_type": "markdown",
   "source": [
    "# Sensitive"
   ],
   "metadata": {
    "collapsed": false,
    "pycharm": {
     "name": "#%% md\n"
    }
   }
  },
  {
   "cell_type": "code",
   "execution_count": null,
   "outputs": [],
   "source": [
    "ltype=\"S\"\n",
    "# ACT Sensitive\n",
    "filename = \"ACT-sensitive.csv\"\n",
    "testdr = \"dr2627\"\n",
    "proddr = \"dr2627\"\n",
    "changelist = lf.get_changelist(testdr, proddr, ltype)\n",
    "changelist.to_csv(projectdir + changedir + monthStr + \"-\" + filename, encoding=\"UTF-8\", index=False)\n",
    "changelist"
   ],
   "metadata": {
    "collapsed": false,
    "pycharm": {
     "name": "#%%\n"
    }
   }
  },
  {
   "cell_type": "code",
   "execution_count": null,
   "outputs": [],
   "source": [
    "# NSW Sensitive\n",
    "filename = \"NSW-sensitive.csv\"\n",
    "testdr = \"dr18457\"\n",
    "proddr = \"dr487\"\n",
    "changelist = lf.get_changelist(testdr, proddr, ltype)\n",
    "changelist.to_csv(projectdir + changedir + monthStr + \"-\" + filename, encoding=\"UTF-8\", index=False)\n",
    "changelist"
   ],
   "metadata": {
    "collapsed": false,
    "pycharm": {
     "name": "#%%\n"
    }
   }
  },
  {
   "cell_type": "code",
   "execution_count": null,
   "outputs": [],
   "source": [
    "# NT Sensitive\n",
    "filename = \"NT-sensitive.csv\"\n",
    "testdr = \"dr492\"\n",
    "proddr = \"dr492\"\n",
    "changelist = lf.get_changelist(testdr, proddr, ltype)\n",
    "changelist.to_csv(projectdir + changedir + monthStr + \"-\" + filename, encoding=\"UTF-8\", index=False)\n",
    "changelist"
   ],
   "metadata": {
    "collapsed": false,
    "pycharm": {
     "name": "#%%\n"
    }
   }
  },
  {
   "cell_type": "code",
   "execution_count": null,
   "outputs": [],
   "source": [
    "#Qld Sensitive\n",
    "filename = \"QLD-sensitive.csv\"\n",
    "testdr = \"dr18404\"\n",
    "proddr = \"dr493\"\n",
    "changelist = lf.get_changelist(testdr, proddr, ltype)\n",
    "changelist.to_csv(projectdir + changedir + monthStr + \"-\" + filename, encoding=\"UTF-8\", index=False)\n",
    "changelist"
   ],
   "metadata": {
    "collapsed": false,
    "pycharm": {
     "name": "#%%\n"
    }
   }
  },
  {
   "cell_type": "code",
   "execution_count": null,
   "outputs": [],
   "source": [
    "#SA Sensitive\n",
    "filename = \"SA-sensitive.csv\"\n",
    "testdr = \"dr18706\"\n",
    "proddr = \"dr884\"\n",
    "changelist = lf.get_changelist(testdr, proddr, ltype)\n",
    "changelist.to_csv(projectdir + changedir + monthStr + \"-\" + filename, encoding=\"UTF-8\", index=False)\n",
    "changelist"
   ],
   "metadata": {
    "collapsed": false,
    "pycharm": {
     "name": "#%%\n"
    }
   }
  },
  {
   "cell_type": "code",
   "execution_count": null,
   "outputs": [],
   "source": [
    "#TAS Sensitive - not currently in Test\n",
    "# filename = \"TAS-sensitive.csv\"\n",
    "# testdr = \"NA\"\n",
    "# proddr = \"dr491\"\n",
    "# changelist = lf.get_changelist(testdr, proddr, ltype)\n",
    "# changelist.to_csv(projectdir + changedir + monthStr + \"-\" + filename, encoding=\"UTF-8\", index=False)\n",
    "# changelist"
   ],
   "metadata": {
    "collapsed": false,
    "pycharm": {
     "name": "#%%\n"
    }
   }
  },
  {
   "cell_type": "code",
   "execution_count": null,
   "outputs": [],
   "source": [
    "#VIC Sensitive\n",
    "filename = \"VIC-sensitive.csv\"\n",
    "testdr = \"dr18669\"\n",
    "proddr = \"dr490\"\n",
    "changelist = lf.get_changelist(testdr, proddr, ltype)\n",
    "changelist.to_csv(projectdir + changedir + monthStr + \"-\" + filename, encoding=\"UTF-8\", index=False)\n",
    "changelist"
   ],
   "metadata": {
    "collapsed": false,
    "pycharm": {
     "name": "#%%\n"
    }
   }
  },
  {
   "cell_type": "code",
   "execution_count": null,
   "outputs": [],
   "source": [
    "#WA Sensitive\n",
    "filename = \"WA-sensitive.csv\"\n",
    "testdr = \"dr18406\"\n",
    "proddr = \"dr467\"\n",
    "changelist = lf.get_changelist(testdr, proddr, ltype)\n",
    "changelist.to_csv(projectdir + changedir + monthStr + \"-\" + filename, encoding=\"UTF-8\", index=False)\n",
    "changelist"
   ],
   "metadata": {
    "collapsed": false,
    "pycharm": {
     "name": "#%%\n"
    }
   }
  },
  {
   "cell_type": "markdown",
   "source": [
    "### Download Production list to Historical Lists directory"
   ],
   "metadata": {
    "collapsed": false,
    "pycharm": {
     "name": "#%% md\n"
    }
   }
  },
  {
   "cell_type": "code",
   "execution_count": null,
   "outputs": [],
   "source": [
    "drList = {\"ACT\":\"dr649\", \"NSW\":\"dr650\", \"NT\":\"dr651\", \"QLD\":\"dr652\", \"SA\":\"dr653\", \"TAS\":\"dr654\", \"VIC\":\"dr655\", \"EPBC\":\"dr656\", \"WA\":\"dr2201\"}\n",
    "# Conservation lists\n",
    "for state, dr in drList.items():\n",
    "    filename = state + \"-\" + dr + \"-conservation.csv\"\n",
    "    print(dr)\n",
    "    prodListUrl = \"https://lists.ala.org.au/ws/speciesListItems/\" + dr + \"?max=10000&includeKVP=true\"\n",
    "    prodList = lf.download_ala_list(prodListUrl)  # save the prod list to the historical lists directory\n",
    "    prodList = lf.kvp_to_columns(prodList)\n",
    "    prodList.to_csv(projectdir + \"historical-lists/conservation/\" + filename, encoding=\"UTF-8\", index=False)\n",
    "print('Finished downloading conservation historical list')"
   ],
   "metadata": {
    "collapsed": false,
    "pycharm": {
     "name": "#%%\n"
    }
   }
  },
  {
   "cell_type": "code",
   "execution_count": null,
   "outputs": [],
   "source": [
    "# Sensitive Lists\n",
    "# drList = {\"TAS\":\"dr491\"}  # Notebook is dying on empty kvpValues when in Jupyter notebook. runs fine in py script\n",
    "# drList = {\"ACT\":\"dr2627\", \"NSW\":\"dr487\", \"NT\":\"dr492\", \"QLD\":\"dr493\", \"SA\":\"dr884\",\"TAS\":\"dr491\", \"VIC\":\"dr490\", \"WA\":\"dr467\"}\n",
    "drList = {\"ACT\":\"dr2627\", \"NSW\":\"dr487\", \"NT\":\"dr492\", \"QLD\":\"dr493\", \"SA\":\"dr884\", \"VIC\":\"dr490\", \"WA\":\"dr467\"}\n",
    "for state, dr in drList.items():\n",
    "    filename = state + \"-\" + dr + \"-sensitive.csv\"\n",
    "    print(dr)\n",
    "    prodListUrl = \"https://lists.ala.org.au/ws/speciesListItems/\" + dr + \"?max=10000&includeKVP=true\"\n",
    "    prodList = lf.download_ala_list(prodListUrl)  # save the prod list to the historical lists directory\n",
    "    prodList = lf.kvp_to_columns(prodList)\n",
    "    prodList.to_csv(projectdir + \"historical-lists/sensitive/\" + filename, encoding=\"UTF-8\", index=False)\n",
    "print('Finished downloading sensitive historical list')"
   ],
   "metadata": {
    "collapsed": false,
    "pycharm": {
     "name": "#%%\n"
    }
   }
  }
 ],
 "metadata": {
  "kernelspec": {
   "display_name": "Python 3",
   "language": "python",
   "name": "python3"
  },
  "language_info": {
   "codemirror_mode": {
    "name": "ipython",
    "version": 3
   },
   "file_extension": ".py",
   "mimetype": "text/x-python",
   "name": "python",
   "nbconvert_exporter": "python",
   "pygments_lexer": "ipython3",
   "version": "3.8.8"
  }
 },
 "nbformat": 4,
 "nbformat_minor": 5
}