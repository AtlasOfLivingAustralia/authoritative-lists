{
 "cells": [
  {
   "cell_type": "markdown",
   "metadata": {
    "collapsed": true,
    "pycharm": {
     "name": "#%% md\n"
    }
   },
   "source": [
    "# Update QLD Conservation and Sensitive Lists\n",
    "\n",
    "### Sources\n",
    "Queensland Nature Conservation Act 1992\n",
    "\n",
    "**Conservation**\n",
    "[Metadata - Qld Species (Open Data Portal)](https://www.data.qld.gov.au/dataset/conservation-status-of-queensland-wildlife)\n",
    "[Data](https://apps.des.qld.gov.au/data-sets/wildlife/wildnet/species.csv)\n",
    "\n",
    "**Sensitive**\n",
    "[Metadata - Queensland Confidential Species (Open Data Portal)](https://www.data.qld.gov.au/dataset/queensland-confidential-species)\n",
    "[Data](https://apps.des.qld.gov.au/data-sets/wildlife/wildnet/qld-confidential-species.csv)\n",
    "\n",
    "**Codes**\n",
    "[Metadata - Qld Species codes](https://www.data.qld.gov.au/dataset/conservation-status-of-queensland-wildlife/resource/6344ea93-cadf-4e0c-9ff4-12dfb18d5f14)\n",
    "[Data](https://apps.des.qld.gov.au/data-sets/wildlife/wildnet/species-status-codes.csv)"
   ]
  },
  {
   "cell_type": "code",
   "execution_count": 94,
   "outputs": [],
   "source": [
    "# import essential libraries\n",
    "import pandas as pd\n",
    "# import numpy as np\n",
    "import requests\n",
    "import io\n",
    "from ftfy import fix_encoding\n",
    "\n",
    "# top level directory\n",
    "projectdir = \"/Users/oco115/PycharmProjects/authoritative-lists/\"\n",
    "# projectdir = \"/Users/new330/IdeaProjects/authoritative-lists/\"\n",
    "#Species List and Species codes URLS\n",
    "listurl = \"https://apps.des.qld.gov.au/data-sets/wildlife/wildnet/species.csv\"\n",
    "codesurl =  \"https://apps.des.qld.gov.au/data-sets/wildlife/wildnet/species-status-codes.csv\""
   ],
   "metadata": {
    "collapsed": false,
    "pycharm": {
     "name": "#%%\n"
    }
   }
  },
  {
   "cell_type": "markdown",
   "source": [
    " ## Conservation List"
   ],
   "metadata": {
    "collapsed": false,
    "pycharm": {
     "name": "#%% md\n"
    }
   }
  },
  {
   "cell_type": "code",
   "execution_count": null,
   "outputs": [],
   "source": [
    "print(\"Downloading Qld Species Status Codes\")\n",
    "response = requests.get(codesurl)\n",
    "# Remove bad encoding\n",
    "rtext = fix_encoding(response.text)\n",
    "# speciescodes = pd.read_csv(rtext)\n",
    "# speciescodes = pd.read_csv(io.StringIO(rtext))"
   ],
   "metadata": {
    "collapsed": false,
    "pycharm": {
     "name": "#%%\n"
    }
   }
  },
  {
   "cell_type": "code",
   "execution_count": null,
   "outputs": [],
   "source": [
    "print(\"Downloading Qld Conservation List\")\n",
    "response = requests.get(listurl)\n",
    "# Remove bad encoding\n",
    "rtext = fix_encoding(response.text)\n",
    "# conservationlist = pd.read_csv(io.StringIO(rtext))"
   ],
   "metadata": {
    "collapsed": false,
    "pycharm": {
     "name": "#%%\n"
    }
   }
  },
  {
   "cell_type": "markdown",
   "source": [
    "Firstly, some minimal changes to some Qld Nature Conservation Act codes so that they are consistent with other states"
   ],
   "metadata": {
    "collapsed": false,
    "pycharm": {
     "name": "#%% md\n"
    }
   }
  },
  {
   "cell_type": "code",
   "execution_count": 95,
   "outputs": [
    {
     "data": {
      "text/plain": "   Code       Code_description\n17    C          Least concern\n18   CR  Critically Endangered\n19    E             Endangered\n20   EX                Extinct\n21   NT        Near Threatened\n22   PE    Extinct in the wild\n23   SL  Special least concern\n24    V             Vulnerable\n25    I          International",
      "text/html": "<div>\n<style scoped>\n    .dataframe tbody tr th:only-of-type {\n        vertical-align: middle;\n    }\n\n    .dataframe tbody tr th {\n        vertical-align: top;\n    }\n\n    .dataframe thead th {\n        text-align: right;\n    }\n</style>\n<table border=\"1\" class=\"dataframe\">\n  <thead>\n    <tr style=\"text-align: right;\">\n      <th></th>\n      <th>Code</th>\n      <th>Code_description</th>\n    </tr>\n  </thead>\n  <tbody>\n    <tr>\n      <th>17</th>\n      <td>C</td>\n      <td>Least concern</td>\n    </tr>\n    <tr>\n      <th>18</th>\n      <td>CR</td>\n      <td>Critically Endangered</td>\n    </tr>\n    <tr>\n      <th>19</th>\n      <td>E</td>\n      <td>Endangered</td>\n    </tr>\n    <tr>\n      <th>20</th>\n      <td>EX</td>\n      <td>Extinct</td>\n    </tr>\n    <tr>\n      <th>21</th>\n      <td>NT</td>\n      <td>Near Threatened</td>\n    </tr>\n    <tr>\n      <th>22</th>\n      <td>PE</td>\n      <td>Extinct in the wild</td>\n    </tr>\n    <tr>\n      <th>23</th>\n      <td>SL</td>\n      <td>Special least concern</td>\n    </tr>\n    <tr>\n      <th>24</th>\n      <td>V</td>\n      <td>Vulnerable</td>\n    </tr>\n    <tr>\n      <th>25</th>\n      <td>I</td>\n      <td>International</td>\n    </tr>\n  </tbody>\n</table>\n</div>"
     },
     "execution_count": 95,
     "metadata": {},
     "output_type": "execute_result"
    }
   ],
   "source": [
    "# speciescodes = pd.read_csv(projectdir + \"source-data/QLD/species-status-codes.csv\",encoding='cp1252')\n",
    "speciescodes = pd.read_csv(io.StringIO(rtext))\n",
    "ncastatuscodes = speciescodes[speciescodes['Field'] == \"NCA_status\"][['Code','Code_description']]\n",
    "ncastatuscodes['Code_description'] = ncastatuscodes['Code_description'].str.replace(\" wildlife\",\"\")\n",
    "ncastatuscodes.loc[ncastatuscodes['Code_description'] == \"Critically endangered\",'Code_description'] = \"Critically Endangered\"\n",
    "ncastatuscodes.loc[ncastatuscodes['Code_description'] == \"Near threatened\",'Code_description'] = \"Near Threatened\"\n",
    "ncastatuscodes\n"
   ],
   "metadata": {
    "collapsed": false,
    "pycharm": {
     "name": "#%%\n"
    }
   }
  },
  {
   "cell_type": "markdown",
   "source": [
    "Read in the Conservation list and join to get the code descriptions. Change the field names to `sourceStatus` and `status` as required by the ALA's conservation list processing."
   ],
   "metadata": {
    "collapsed": false,
    "pycharm": {
     "name": "#%% md\n"
    }
   }
  },
  {
   "cell_type": "code",
   "execution_count": 96,
   "outputs": [
    {
     "data": {
      "text/plain": "       Taxon_Id     Kingdom        Class           Family  \\\n0           706     animals   amphibians  Limnodynastidae   \n1           690     animals   amphibians  Limnodynastidae   \n2           677     animals   amphibians  Limnodynastidae   \n3           678     animals   amphibians  Limnodynastidae   \n4           679     animals   amphibians  Limnodynastidae   \n...         ...         ...          ...              ...   \n21798     25858  protozoans  slime molds      Physaraceae   \n21799     34854  protozoans  slime molds  Stemonitidaceae   \n21800     27732  protozoans  slime molds  Stemonitidaceae   \n21801     41204  protozoans  slime molds       Trichiidae   \n21802     34033  protozoans  slime molds     Tubiferaceae   \n\n                    Scientific_name              Common_name  \\\n0                   Adelotus brevis              tusked frog   \n1              Lechriodus fletcheri         black soled frog   \n2      Limnodynastes convexiusculus             marbled frog   \n3           Limnodynastes dumerilii  grey bellied pobblebonk   \n4           Limnodynastes fletcheri             barking frog   \n...                             ...                      ...   \n21798                Fuligo septica                      NaN   \n21799          Comatricha pulchella                      NaN   \n21800          Stemonitis splendens                      NaN   \n21801           Hemitrichia serpula                      NaN   \n21802           Lycogala epidendrum                      NaN   \n\n            Taxon_author sourceStatus EPBC_status Significant Confidential  \\\n0        (Günther, 1863)            V         NaN           Y            N   \n1      (Boulenger, 1890)            C         NaN           N            N   \n2        (MacLeay, 1877)            C         NaN           N            N   \n3           Peters, 1863            C         NaN           N            N   \n4        Boulenger, 1888            C         NaN           N            N   \n...                  ...          ...         ...         ...          ...   \n21798     (L.) F.H.Wigg.            C         NaN           N            N   \n21799     (Bab.) Rostaf.            C         NaN           N            N   \n21800            Rostaf.            C         NaN           N            N   \n21801    (Scop.) Rostaf.            C         NaN           N            N   \n21802           (L.) Fr.            C         NaN           N            N   \n\n      Endemicity         status  \n0             QA     Vulnerable  \n1             QA  Least concern  \n2            QAI  Least concern  \n3             QA  Least concern  \n4             QA  Least concern  \n...          ...            ...  \n21798          Q  Least concern  \n21799          Q  Least concern  \n21800          Q  Least concern  \n21801          Q  Least concern  \n21802          Q  Least concern  \n\n[21803 rows x 13 columns]",
      "text/html": "<div>\n<style scoped>\n    .dataframe tbody tr th:only-of-type {\n        vertical-align: middle;\n    }\n\n    .dataframe tbody tr th {\n        vertical-align: top;\n    }\n\n    .dataframe thead th {\n        text-align: right;\n    }\n</style>\n<table border=\"1\" class=\"dataframe\">\n  <thead>\n    <tr style=\"text-align: right;\">\n      <th></th>\n      <th>Taxon_Id</th>\n      <th>Kingdom</th>\n      <th>Class</th>\n      <th>Family</th>\n      <th>Scientific_name</th>\n      <th>Common_name</th>\n      <th>Taxon_author</th>\n      <th>sourceStatus</th>\n      <th>EPBC_status</th>\n      <th>Significant</th>\n      <th>Confidential</th>\n      <th>Endemicity</th>\n      <th>status</th>\n    </tr>\n  </thead>\n  <tbody>\n    <tr>\n      <th>0</th>\n      <td>706</td>\n      <td>animals</td>\n      <td>amphibians</td>\n      <td>Limnodynastidae</td>\n      <td>Adelotus brevis</td>\n      <td>tusked frog</td>\n      <td>(Günther, 1863)</td>\n      <td>V</td>\n      <td>NaN</td>\n      <td>Y</td>\n      <td>N</td>\n      <td>QA</td>\n      <td>Vulnerable</td>\n    </tr>\n    <tr>\n      <th>1</th>\n      <td>690</td>\n      <td>animals</td>\n      <td>amphibians</td>\n      <td>Limnodynastidae</td>\n      <td>Lechriodus fletcheri</td>\n      <td>black soled frog</td>\n      <td>(Boulenger, 1890)</td>\n      <td>C</td>\n      <td>NaN</td>\n      <td>N</td>\n      <td>N</td>\n      <td>QA</td>\n      <td>Least concern</td>\n    </tr>\n    <tr>\n      <th>2</th>\n      <td>677</td>\n      <td>animals</td>\n      <td>amphibians</td>\n      <td>Limnodynastidae</td>\n      <td>Limnodynastes convexiusculus</td>\n      <td>marbled frog</td>\n      <td>(MacLeay, 1877)</td>\n      <td>C</td>\n      <td>NaN</td>\n      <td>N</td>\n      <td>N</td>\n      <td>QAI</td>\n      <td>Least concern</td>\n    </tr>\n    <tr>\n      <th>3</th>\n      <td>678</td>\n      <td>animals</td>\n      <td>amphibians</td>\n      <td>Limnodynastidae</td>\n      <td>Limnodynastes dumerilii</td>\n      <td>grey bellied pobblebonk</td>\n      <td>Peters, 1863</td>\n      <td>C</td>\n      <td>NaN</td>\n      <td>N</td>\n      <td>N</td>\n      <td>QA</td>\n      <td>Least concern</td>\n    </tr>\n    <tr>\n      <th>4</th>\n      <td>679</td>\n      <td>animals</td>\n      <td>amphibians</td>\n      <td>Limnodynastidae</td>\n      <td>Limnodynastes fletcheri</td>\n      <td>barking frog</td>\n      <td>Boulenger, 1888</td>\n      <td>C</td>\n      <td>NaN</td>\n      <td>N</td>\n      <td>N</td>\n      <td>QA</td>\n      <td>Least concern</td>\n    </tr>\n    <tr>\n      <th>...</th>\n      <td>...</td>\n      <td>...</td>\n      <td>...</td>\n      <td>...</td>\n      <td>...</td>\n      <td>...</td>\n      <td>...</td>\n      <td>...</td>\n      <td>...</td>\n      <td>...</td>\n      <td>...</td>\n      <td>...</td>\n      <td>...</td>\n    </tr>\n    <tr>\n      <th>21798</th>\n      <td>25858</td>\n      <td>protozoans</td>\n      <td>slime molds</td>\n      <td>Physaraceae</td>\n      <td>Fuligo septica</td>\n      <td>NaN</td>\n      <td>(L.) F.H.Wigg.</td>\n      <td>C</td>\n      <td>NaN</td>\n      <td>N</td>\n      <td>N</td>\n      <td>Q</td>\n      <td>Least concern</td>\n    </tr>\n    <tr>\n      <th>21799</th>\n      <td>34854</td>\n      <td>protozoans</td>\n      <td>slime molds</td>\n      <td>Stemonitidaceae</td>\n      <td>Comatricha pulchella</td>\n      <td>NaN</td>\n      <td>(Bab.) Rostaf.</td>\n      <td>C</td>\n      <td>NaN</td>\n      <td>N</td>\n      <td>N</td>\n      <td>Q</td>\n      <td>Least concern</td>\n    </tr>\n    <tr>\n      <th>21800</th>\n      <td>27732</td>\n      <td>protozoans</td>\n      <td>slime molds</td>\n      <td>Stemonitidaceae</td>\n      <td>Stemonitis splendens</td>\n      <td>NaN</td>\n      <td>Rostaf.</td>\n      <td>C</td>\n      <td>NaN</td>\n      <td>N</td>\n      <td>N</td>\n      <td>Q</td>\n      <td>Least concern</td>\n    </tr>\n    <tr>\n      <th>21801</th>\n      <td>41204</td>\n      <td>protozoans</td>\n      <td>slime molds</td>\n      <td>Trichiidae</td>\n      <td>Hemitrichia serpula</td>\n      <td>NaN</td>\n      <td>(Scop.) Rostaf.</td>\n      <td>C</td>\n      <td>NaN</td>\n      <td>N</td>\n      <td>N</td>\n      <td>Q</td>\n      <td>Least concern</td>\n    </tr>\n    <tr>\n      <th>21802</th>\n      <td>34033</td>\n      <td>protozoans</td>\n      <td>slime molds</td>\n      <td>Tubiferaceae</td>\n      <td>Lycogala epidendrum</td>\n      <td>NaN</td>\n      <td>(L.) Fr.</td>\n      <td>C</td>\n      <td>NaN</td>\n      <td>N</td>\n      <td>N</td>\n      <td>Q</td>\n      <td>Least concern</td>\n    </tr>\n  </tbody>\n</table>\n<p>21803 rows × 13 columns</p>\n</div>"
     },
     "execution_count": 96,
     "metadata": {},
     "output_type": "execute_result"
    }
   ],
   "source": [
    "# conservationlist = pd.read_csv(projectdir + \"source-data/QLD/species.csv\",encoding='cp1252')\n",
    "conservationlist = pd.read_csv(io.StringIO(rtext))\n",
    "conservationlist = pd.merge(conservationlist,ncastatuscodes,left_on=['NCA_status'],right_on=['Code'],how=\"left\")\n",
    "conservationlist.drop(['Code'],axis=1,inplace=True)\n",
    "conservationlist = conservationlist.rename(columns={'NCA_status':'sourceStatus','Code_description':'status'})\n",
    "conservationlist"
   ],
   "metadata": {
    "collapsed": false,
    "pycharm": {
     "name": "#%%\n"
    }
   }
  },
  {
   "cell_type": "code",
   "execution_count": 97,
   "outputs": [
    {
     "data": {
      "text/plain": "   Code                                Code_description\n0    IA         Naturalised from elsewhere in Australia\n1    II                       Naturalised from overseas\n2    IU        Naturalised species - origin not defined\n3     Q                              Queensland endemic\n4    QA                              Australian endemic\n5   QAI      Naturally occurs in Australia and overseas\n6    QI     Naturally occurs in Queensland and overseas\n7     U  Native to Queensland - endemicity not defined \n8    VA                              Australian vagrant\n9    VI                           International vagrant\n10   VU                    Vagrant - origin not defined",
      "text/html": "<div>\n<style scoped>\n    .dataframe tbody tr th:only-of-type {\n        vertical-align: middle;\n    }\n\n    .dataframe tbody tr th {\n        vertical-align: top;\n    }\n\n    .dataframe thead th {\n        text-align: right;\n    }\n</style>\n<table border=\"1\" class=\"dataframe\">\n  <thead>\n    <tr style=\"text-align: right;\">\n      <th></th>\n      <th>Code</th>\n      <th>Code_description</th>\n    </tr>\n  </thead>\n  <tbody>\n    <tr>\n      <th>0</th>\n      <td>IA</td>\n      <td>Naturalised from elsewhere in Australia</td>\n    </tr>\n    <tr>\n      <th>1</th>\n      <td>II</td>\n      <td>Naturalised from overseas</td>\n    </tr>\n    <tr>\n      <th>2</th>\n      <td>IU</td>\n      <td>Naturalised species - origin not defined</td>\n    </tr>\n    <tr>\n      <th>3</th>\n      <td>Q</td>\n      <td>Queensland endemic</td>\n    </tr>\n    <tr>\n      <th>4</th>\n      <td>QA</td>\n      <td>Australian endemic</td>\n    </tr>\n    <tr>\n      <th>5</th>\n      <td>QAI</td>\n      <td>Naturally occurs in Australia and overseas</td>\n    </tr>\n    <tr>\n      <th>6</th>\n      <td>QI</td>\n      <td>Naturally occurs in Queensland and overseas</td>\n    </tr>\n    <tr>\n      <th>7</th>\n      <td>U</td>\n      <td>Native to Queensland - endemicity not defined</td>\n    </tr>\n    <tr>\n      <th>8</th>\n      <td>VA</td>\n      <td>Australian vagrant</td>\n    </tr>\n    <tr>\n      <th>9</th>\n      <td>VI</td>\n      <td>International vagrant</td>\n    </tr>\n    <tr>\n      <th>10</th>\n      <td>VU</td>\n      <td>Vagrant - origin not defined</td>\n    </tr>\n  </tbody>\n</table>\n</div>"
     },
     "execution_count": 97,
     "metadata": {},
     "output_type": "execute_result"
    }
   ],
   "source": [
    "endemicitycodes = speciescodes[speciescodes['Field'] == \"Endemicity\"][['Code','Code_description']]\n",
    "endemicitycodes"
   ],
   "metadata": {
    "collapsed": false,
    "pycharm": {
     "name": "#%%\n"
    }
   }
  },
  {
   "cell_type": "code",
   "execution_count": 98,
   "outputs": [
    {
     "data": {
      "text/plain": "       Taxon_Id     Kingdom        Class           Family  \\\n0           706     animals   amphibians  Limnodynastidae   \n1           690     animals   amphibians  Limnodynastidae   \n2           677     animals   amphibians  Limnodynastidae   \n3           678     animals   amphibians  Limnodynastidae   \n4           679     animals   amphibians  Limnodynastidae   \n...         ...         ...          ...              ...   \n21798     25858  protozoans  slime molds      Physaraceae   \n21799     34854  protozoans  slime molds  Stemonitidaceae   \n21800     27732  protozoans  slime molds  Stemonitidaceae   \n21801     41204  protozoans  slime molds       Trichiidae   \n21802     34033  protozoans  slime molds     Tubiferaceae   \n\n                    Scientific_name              Common_name  \\\n0                   Adelotus brevis              tusked frog   \n1              Lechriodus fletcheri         black soled frog   \n2      Limnodynastes convexiusculus             marbled frog   \n3           Limnodynastes dumerilii  grey bellied pobblebonk   \n4           Limnodynastes fletcheri             barking frog   \n...                             ...                      ...   \n21798                Fuligo septica                      NaN   \n21799          Comatricha pulchella                      NaN   \n21800          Stemonitis splendens                      NaN   \n21801           Hemitrichia serpula                      NaN   \n21802           Lycogala epidendrum                      NaN   \n\n            Taxon_author sourceStatus EPBC_status Significant Confidential  \\\n0        (Günther, 1863)            V         NaN           Y            N   \n1      (Boulenger, 1890)            C         NaN           N            N   \n2        (MacLeay, 1877)            C         NaN           N            N   \n3           Peters, 1863            C         NaN           N            N   \n4        Boulenger, 1888            C         NaN           N            N   \n...                  ...          ...         ...         ...          ...   \n21798     (L.) F.H.Wigg.            C         NaN           N            N   \n21799     (Bab.) Rostaf.            C         NaN           N            N   \n21800            Rostaf.            C         NaN           N            N   \n21801    (Scop.) Rostaf.            C         NaN           N            N   \n21802           (L.) Fr.            C         NaN           N            N   \n\n      Endemicity         status                      Endemicity_description  \n0             QA     Vulnerable                          Australian endemic  \n1             QA  Least concern                          Australian endemic  \n2            QAI  Least concern  Naturally occurs in Australia and overseas  \n3             QA  Least concern                          Australian endemic  \n4             QA  Least concern                          Australian endemic  \n...          ...            ...                                         ...  \n21798          Q  Least concern                          Queensland endemic  \n21799          Q  Least concern                          Queensland endemic  \n21800          Q  Least concern                          Queensland endemic  \n21801          Q  Least concern                          Queensland endemic  \n21802          Q  Least concern                          Queensland endemic  \n\n[21803 rows x 14 columns]",
      "text/html": "<div>\n<style scoped>\n    .dataframe tbody tr th:only-of-type {\n        vertical-align: middle;\n    }\n\n    .dataframe tbody tr th {\n        vertical-align: top;\n    }\n\n    .dataframe thead th {\n        text-align: right;\n    }\n</style>\n<table border=\"1\" class=\"dataframe\">\n  <thead>\n    <tr style=\"text-align: right;\">\n      <th></th>\n      <th>Taxon_Id</th>\n      <th>Kingdom</th>\n      <th>Class</th>\n      <th>Family</th>\n      <th>Scientific_name</th>\n      <th>Common_name</th>\n      <th>Taxon_author</th>\n      <th>sourceStatus</th>\n      <th>EPBC_status</th>\n      <th>Significant</th>\n      <th>Confidential</th>\n      <th>Endemicity</th>\n      <th>status</th>\n      <th>Endemicity_description</th>\n    </tr>\n  </thead>\n  <tbody>\n    <tr>\n      <th>0</th>\n      <td>706</td>\n      <td>animals</td>\n      <td>amphibians</td>\n      <td>Limnodynastidae</td>\n      <td>Adelotus brevis</td>\n      <td>tusked frog</td>\n      <td>(Günther, 1863)</td>\n      <td>V</td>\n      <td>NaN</td>\n      <td>Y</td>\n      <td>N</td>\n      <td>QA</td>\n      <td>Vulnerable</td>\n      <td>Australian endemic</td>\n    </tr>\n    <tr>\n      <th>1</th>\n      <td>690</td>\n      <td>animals</td>\n      <td>amphibians</td>\n      <td>Limnodynastidae</td>\n      <td>Lechriodus fletcheri</td>\n      <td>black soled frog</td>\n      <td>(Boulenger, 1890)</td>\n      <td>C</td>\n      <td>NaN</td>\n      <td>N</td>\n      <td>N</td>\n      <td>QA</td>\n      <td>Least concern</td>\n      <td>Australian endemic</td>\n    </tr>\n    <tr>\n      <th>2</th>\n      <td>677</td>\n      <td>animals</td>\n      <td>amphibians</td>\n      <td>Limnodynastidae</td>\n      <td>Limnodynastes convexiusculus</td>\n      <td>marbled frog</td>\n      <td>(MacLeay, 1877)</td>\n      <td>C</td>\n      <td>NaN</td>\n      <td>N</td>\n      <td>N</td>\n      <td>QAI</td>\n      <td>Least concern</td>\n      <td>Naturally occurs in Australia and overseas</td>\n    </tr>\n    <tr>\n      <th>3</th>\n      <td>678</td>\n      <td>animals</td>\n      <td>amphibians</td>\n      <td>Limnodynastidae</td>\n      <td>Limnodynastes dumerilii</td>\n      <td>grey bellied pobblebonk</td>\n      <td>Peters, 1863</td>\n      <td>C</td>\n      <td>NaN</td>\n      <td>N</td>\n      <td>N</td>\n      <td>QA</td>\n      <td>Least concern</td>\n      <td>Australian endemic</td>\n    </tr>\n    <tr>\n      <th>4</th>\n      <td>679</td>\n      <td>animals</td>\n      <td>amphibians</td>\n      <td>Limnodynastidae</td>\n      <td>Limnodynastes fletcheri</td>\n      <td>barking frog</td>\n      <td>Boulenger, 1888</td>\n      <td>C</td>\n      <td>NaN</td>\n      <td>N</td>\n      <td>N</td>\n      <td>QA</td>\n      <td>Least concern</td>\n      <td>Australian endemic</td>\n    </tr>\n    <tr>\n      <th>...</th>\n      <td>...</td>\n      <td>...</td>\n      <td>...</td>\n      <td>...</td>\n      <td>...</td>\n      <td>...</td>\n      <td>...</td>\n      <td>...</td>\n      <td>...</td>\n      <td>...</td>\n      <td>...</td>\n      <td>...</td>\n      <td>...</td>\n      <td>...</td>\n    </tr>\n    <tr>\n      <th>21798</th>\n      <td>25858</td>\n      <td>protozoans</td>\n      <td>slime molds</td>\n      <td>Physaraceae</td>\n      <td>Fuligo septica</td>\n      <td>NaN</td>\n      <td>(L.) F.H.Wigg.</td>\n      <td>C</td>\n      <td>NaN</td>\n      <td>N</td>\n      <td>N</td>\n      <td>Q</td>\n      <td>Least concern</td>\n      <td>Queensland endemic</td>\n    </tr>\n    <tr>\n      <th>21799</th>\n      <td>34854</td>\n      <td>protozoans</td>\n      <td>slime molds</td>\n      <td>Stemonitidaceae</td>\n      <td>Comatricha pulchella</td>\n      <td>NaN</td>\n      <td>(Bab.) Rostaf.</td>\n      <td>C</td>\n      <td>NaN</td>\n      <td>N</td>\n      <td>N</td>\n      <td>Q</td>\n      <td>Least concern</td>\n      <td>Queensland endemic</td>\n    </tr>\n    <tr>\n      <th>21800</th>\n      <td>27732</td>\n      <td>protozoans</td>\n      <td>slime molds</td>\n      <td>Stemonitidaceae</td>\n      <td>Stemonitis splendens</td>\n      <td>NaN</td>\n      <td>Rostaf.</td>\n      <td>C</td>\n      <td>NaN</td>\n      <td>N</td>\n      <td>N</td>\n      <td>Q</td>\n      <td>Least concern</td>\n      <td>Queensland endemic</td>\n    </tr>\n    <tr>\n      <th>21801</th>\n      <td>41204</td>\n      <td>protozoans</td>\n      <td>slime molds</td>\n      <td>Trichiidae</td>\n      <td>Hemitrichia serpula</td>\n      <td>NaN</td>\n      <td>(Scop.) Rostaf.</td>\n      <td>C</td>\n      <td>NaN</td>\n      <td>N</td>\n      <td>N</td>\n      <td>Q</td>\n      <td>Least concern</td>\n      <td>Queensland endemic</td>\n    </tr>\n    <tr>\n      <th>21802</th>\n      <td>34033</td>\n      <td>protozoans</td>\n      <td>slime molds</td>\n      <td>Tubiferaceae</td>\n      <td>Lycogala epidendrum</td>\n      <td>NaN</td>\n      <td>(L.) Fr.</td>\n      <td>C</td>\n      <td>NaN</td>\n      <td>N</td>\n      <td>N</td>\n      <td>Q</td>\n      <td>Least concern</td>\n      <td>Queensland endemic</td>\n    </tr>\n  </tbody>\n</table>\n<p>21803 rows × 14 columns</p>\n</div>"
     },
     "execution_count": 98,
     "metadata": {},
     "output_type": "execute_result"
    }
   ],
   "source": [
    "# expand endemicity\n",
    "endemicitycodes = speciescodes[speciescodes['Field'] == \"Endemicity\"][['Code','Code_description']]\n",
    "conservationlist = pd.merge(conservationlist,endemicitycodes,left_on=['Endemicity'],right_on=['Code'],how=\"left\")\n",
    "conservationlist.drop(['Code'],axis=1,inplace=True)\n",
    "conservationlist = conservationlist.rename(columns={'Code_description':'Endemicity_description'})\n",
    "conservationlist"
   ],
   "metadata": {
    "collapsed": false,
    "pycharm": {
     "name": "#%%\n"
    }
   }
  },
  {
   "cell_type": "code",
   "execution_count": 99,
   "outputs": [],
   "source": [
    "#expand ebpc codes\n",
    "epbccodes = speciescodes[speciescodes['Field'] == \"EPBC_status\"][['Code','Code_description']]\n",
    "conservationlist = pd.merge(conservationlist,epbccodes,left_on=['EPBC_status'],right_on=['Code'],how=\"left\")\n",
    "conservationlist.drop(['Code'],axis=1,inplace=True)\n",
    "conservationlist = conservationlist.rename(columns={'Code_description':'EPBC_status_description'})\n",
    "conservationlist.drop(['EPBC_status'],axis=1,inplace=True)"
   ],
   "metadata": {
    "collapsed": false,
    "pycharm": {
     "name": "#%%\n"
    }
   }
  },
  {
   "cell_type": "markdown",
   "source": [
    "**Species without a status**"
   ],
   "metadata": {
    "collapsed": false,
    "pycharm": {
     "name": "#%% md\n"
    }
   }
  },
  {
   "cell_type": "code",
   "execution_count": 100,
   "outputs": [
    {
     "data": {
      "text/plain": "Class                 Endemicity_description                        \nAgaricomycetes        Native to Queensland - endemicity not defined        3\n                      Naturalised species - origin not defined             2\n                      Queensland endemic                                   1\namphibians            Naturalised from overseas                            1\narachnids             Queensland endemic                                   1\nbirds                 International vagrant                                2\n                      Naturalised from overseas                           14\nbivalves              Native to Queensland - endemicity not defined        2\n                      Naturally occurs in Australia and overseas           2\nbranchiopods          Australian endemic                                   1\n                      Queensland endemic                                   1\ncartilaginous fishes  Australian endemic                                  15\n                      Native to Queensland - endemicity not defined       80\n                      Naturalised from elsewhere in Australia              1\n                      Naturally occurs in Australia and overseas          71\n                      Queensland endemic                                   4\neurotiomycetes        Australian endemic                                   1\n                      Queensland endemic                                   1\ngreen algae           Native to Queensland - endemicity not defined        1\ninsects               Australian endemic                                 292\n                      International vagrant                                2\n                      Native to Queensland - endemicity not defined       45\n                      Naturalised from overseas                           22\n                      Naturally occurs in Australia and overseas         177\n                      Naturally occurs in Queensland and overseas         37\n                      Queensland endemic                                 172\nlampreys              Australian endemic                                   1\nland plants           Australian endemic                                  18\n                      Native to Queensland - endemicity not defined       38\n                      Naturalised from elsewhere in Australia              1\n                      Naturalised from overseas                           22\n                      Naturalised species - origin not defined          1491\n                      Naturally occurs in Australia and overseas           4\n                      Naturally occurs in Queensland and overseas          1\n                      Queensland endemic                                  29\nlecanoromycetes       Queensland endemic                                   1\nlobe-finned fishes    Queensland endemic                                   1\nmalacostracans        Australian endemic                                  10\n                      Native to Queensland - endemicity not defined        2\n                      Naturally occurs in Australia and overseas           1\n                      Queensland endemic                                  33\nmammals               Australian endemic                                   1\n                      Naturalised from overseas                           19\nmaxillopods           Native to Queensland - endemicity not defined        1\n                      Naturally occurs in Australia and overseas           1\nray-finned fishes     Australian endemic                                  72\n                      International vagrant                                2\n                      Native to Queensland - endemicity not defined       78\n                      Naturalised from overseas                           29\n                      Naturally occurs in Australia and overseas         121\n                      Naturally occurs in Queensland and overseas         38\n                      Queensland endemic                                  20\nreptiles              Naturalised from overseas                            5\nsnails                Australian endemic                                   3\n                      Native to Queensland - endemicity not defined       24\n                      Naturally occurs in Australia and overseas          21\n                      Queensland endemic                                  12\ndtype: int64"
     },
     "execution_count": 100,
     "metadata": {},
     "output_type": "execute_result"
    }
   ],
   "source": [
    "# any without a status?\n",
    "conservationlist[conservationlist['status'].isna()].groupby([\"Class\",\"Endemicity_description\"]).size()"
   ],
   "metadata": {
    "collapsed": false,
    "pycharm": {
     "name": "#%%\n"
    }
   }
  },
  {
   "cell_type": "markdown",
   "source": [
    "**Tidy up**\n",
    "* rename fields to Darwin Core\n",
    "* remove records with no status or Least Concern\n",
    "* replace kingdom/class values with scientific names"
   ],
   "metadata": {
    "collapsed": false,
    "pycharm": {
     "name": "#%% md\n"
    }
   }
  },
  {
   "cell_type": "code",
   "execution_count": 101,
   "outputs": [
    {
     "data": {
      "text/plain": "kingdom   class         \nAnimalia  Actinopterygii       9\n          Amphibia            41\n          Aves               153\n          Chondrichthyes       2\n          Gastropoda           3\n          Insecta              8\n          Malacostraca        10\n          Mammalia            67\n          Reptilia            71\nPlantae   Charophyceae         1\n          Equisetopsida     1860\ndtype: int64"
     },
     "execution_count": 101,
     "metadata": {},
     "output_type": "execute_result"
    }
   ],
   "source": [
    "conservationlist = conservationlist.rename(columns=\n",
    "{\n",
    "    'Taxon_Id':'taxonID',\n",
    "    'Kingdom':'kingdom',\n",
    "    'Class':'class',\n",
    "    'Family':'family',\n",
    "    'Scientific_name':'scientificName',\n",
    "    'Common_name': 'vernacularName',\n",
    "    'Taxon_author':'scientificNameAuthorship',\n",
    "    'NCA_status':'sourceStatus',\n",
    "    'EPBC_status_description':'epbcStatus',\n",
    "    'Endemicity_description':'endemicity',\n",
    "    'Significant':'significant',\n",
    "    'Confidential':'confidential'\n",
    "})\n",
    "# remove empty or Least Concern status records\n",
    "conservationlist = conservationlist[((conservationlist['status'] != \"Least concern\") & (conservationlist['status'].notna()))]\n",
    "\n",
    "# Replace kingdom and class values with scientific terms\n",
    "conservationlist.loc[conservationlist[\"kingdom\"] == \"animals\", \"kingdom\"] = \"Animalia\"\n",
    "conservationlist.loc[conservationlist[\"kingdom\"] == \"plants\", \"kingdom\"] = \"Plantae\"\n",
    "conservationlist.loc[conservationlist[\"class\"] == \"land plants\", \"class\"] = \"Equisetopsida\"\n",
    "conservationlist.loc[conservationlist[\"class\"] == \"amphibians\", \"class\"] = \"Amphibia\"\n",
    "conservationlist.loc[conservationlist[\"class\"] == \"birds\", \"class\"] = \"Aves\"\n",
    "conservationlist.loc[conservationlist[\"class\"] == \"cartilaginous fishes\", \"class\"] = \"Chondrichthyes\"\n",
    "conservationlist.loc[conservationlist[\"class\"] == \"insects\", \"class\"] = \"Insecta\"\n",
    "conservationlist.loc[conservationlist[\"class\"] == \"malacostracans\", \"class\"] = \"Malacostraca\"\n",
    "conservationlist.loc[conservationlist[\"class\"] == \"mammals\", \"class\"] = \"Mammalia\"\n",
    "conservationlist.loc[conservationlist[\"class\"] == \"ray-finned fishes\", \"class\"] = \"Actinopterygii\"\n",
    "conservationlist.loc[conservationlist[\"class\"] == \"reptiles\", \"class\"] = \"Reptilia\"\n",
    "conservationlist.loc[conservationlist[\"class\"] == \"snails\", \"class\"] = \"Gastropoda\"\n",
    "conservationlist.loc[conservationlist[\"class\"] == \"arachnids\", \"class\"] = \"Arachnida\"\n",
    "conservationlist.groupby([\"kingdom\",\"class\"]).size()"
   ],
   "metadata": {
    "collapsed": false,
    "pycharm": {
     "name": "#%%\n"
    }
   }
  },
  {
   "cell_type": "code",
   "execution_count": 102,
   "outputs": [],
   "source": [
    "#Write to CSV\n",
    "print(\"Writing to CSV\")\n",
    "conservationlist.to_csv(projectdir + \"current-lists/conservation-lists/QLD-conservation-2022-10.csv\",encoding=\"UTF-8\",index=False)\n",
    "print(\"Processing finished\")"
   ],
   "metadata": {
    "collapsed": false,
    "pycharm": {
     "name": "#%%\n"
    }
   }
  }
 ],
 "metadata": {
  "kernelspec": {
   "display_name": "Python 3",
   "language": "python",
   "name": "python3"
  },
  "language_info": {
   "codemirror_mode": {
    "name": "ipython",
    "version": 2
   },
   "file_extension": ".py",
   "mimetype": "text/x-python",
   "name": "python",
   "nbconvert_exporter": "python",
   "pygments_lexer": "ipython2",
   "version": "2.7.6"
  }
 },
 "nbformat": 4,
 "nbformat_minor": 0
}