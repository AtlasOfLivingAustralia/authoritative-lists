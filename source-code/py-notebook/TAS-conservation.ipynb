{
 "cells": [
  {
   "cell_type": "markdown",
   "source": [
    "# Tas Conservation List\n",
    "## List Identifiers\n",
    "* Conservation list: __[dr654](https://lists.ala.org.au/speciesListItem/list/dr654)__\n",
    "\n",
    "### Sources\n",
    "Queensland Nature Conservation Act 1992\n",
    "\n",
    "## Conservation\n",
    "\n",
    "* __[Home page](https://nre.tas.gov.au/conservation/threatened-species-and-communities/lists-of-threatened-species/full-list-of-threatened-species)__\n",
    "* __[Data](https://nre.tas.gov.au/Documents/TasThreatenedSpecies.XLS)__"
   ],
   "metadata": {
    "collapsed": false,
    "pycharm": {
     "name": "#%% md\n"
    }
   }
  },
  {
   "cell_type": "markdown",
   "source": [
    "Import libraries\n",
    "Set Project directories"
   ],
   "metadata": {
    "collapsed": false,
    "pycharm": {
     "name": "#%% md\n"
    }
   }
  },
  {
   "cell_type": "code",
   "execution_count": null,
   "outputs": [],
   "source": [
    "import pandas as pd\n",
    "# top level directory\n",
    "projectdir = \"/Users/oco115/PycharmProjects/auth-lists-updates/\"\n",
    "basedir = \"/Users/oco115/PycharmProjects/authoritative-lists/\""
   ],
   "metadata": {
    "collapsed": false,
    "pycharm": {
     "name": "#%%\n"
    }
   }
  },
  {
   "cell_type": "code",
   "execution_count": null,
   "outputs": [],
   "source": [
    "# update the encoding on the final file\n",
    "# fileurl = \"/Users/new330/IdeaProjects/authoritative-lists/current-lists/conservation-lists/TAS-conservation.csv\"\n",
    "# tas = pd.read_csv(fileurl,encoding='cp1252')\n",
    "# tas.to_csv(fileurl, encoding=\"UTF-8\",index=False)\n",
    "# tas"
   ],
   "metadata": {
    "collapsed": false,
    "pycharm": {
     "name": "#%%\n"
    }
   }
  },
  {
   "cell_type": "markdown",
   "source": [
    "Download CSV file"
   ],
   "metadata": {
    "collapsed": false,
    "pycharm": {
     "name": "#%% md\n"
    }
   }
  },
  {
   "cell_type": "code",
   "execution_count": null,
   "outputs": [],
   "source": [
    "print('Downloading TAS Conservation List')\n",
    "taslisturl = \"https://nre.tas.gov.au/Documents/TasThreatenedSpecies.XLS\"\n",
    "tasconservation = pd.read_excel(taslisturl)\n",
    "print('Finished downloading')\n",
    "tasconservation"
   ],
   "metadata": {
    "collapsed": false,
    "pycharm": {
     "name": "#%%\n"
    }
   }
  },
  {
   "cell_type": "code",
   "execution_count": 6,
   "outputs": [
    {
     "data": {
      "text/plain": "Index(['Origin', 'Species', 'Authority', 'Common Name', 'Family', 'Group',\n       'sch', 'EPBCA', 'Flora/Fauna', 'Classification'],\n      dtype='object')"
     },
     "execution_count": 6,
     "metadata": {},
     "output_type": "execute_result"
    }
   ],
   "source": [
    "tasconservation.columns"
   ],
   "metadata": {
    "collapsed": false,
    "pycharm": {
     "name": "#%%\n"
    }
   }
  },
  {
   "cell_type": "markdown",
   "source": [
    "Map DWC terms"
   ],
   "metadata": {
    "collapsed": false,
    "pycharm": {
     "name": "#%% md\n"
    }
   }
  },
  {
   "cell_type": "code",
   "execution_count": null,
   "outputs": [],
   "source": [
    "tasconservation = tasconservation.rename(columns={'Origin': 'sourceOrigin',\n",
    "                                                        'species': 'scientificName',\n",
    "                                                        'Authority': 'authority',\n",
    "                                                        'Common Name': 'vernacularName',\n",
    "                                                        'Family': 'family',\n",
    "                                                        'sch': 'sourceStatus',\n",
    "                                                        'EPBCA': 'epbcaStatus',\n",
    "                                                        'Classification': 'class'\n",
    "                                                    })\n",
    "tasconservation.drop(['Group','Flora/Fauna'],axis=1,inplace=True)\n",
    "tasconservation"
   ],
   "metadata": {
    "collapsed": false,
    "pycharm": {
     "name": "#%%\n"
    }
   }
  },
  {
   "cell_type": "markdown",
   "source": [
    "Write dataframe to CSV - UTF-8 encoding"
   ],
   "metadata": {
    "collapsed": false,
    "pycharm": {
     "name": "#%% md\n"
    }
   }
  },
  {
   "cell_type": "code",
   "execution_count": null,
   "outputs": [],
   "source": [
    "print('Writing to CSV')\n",
    "tasconservation.to_csv(projectdir + \"current-lists/conservation-lists/TAS-conservation.csv\", encoding=\"UTF-8\", index=False)\n",
    "print('Finished processing')"
   ],
   "metadata": {
    "collapsed": false,
    "pycharm": {
     "name": "#%%\n"
    }
   }
  }
 ],
 "metadata": {
  "kernelspec": {
   "display_name": "Python 3",
   "language": "python",
   "name": "python3"
  },
  "language_info": {
   "codemirror_mode": {
    "name": "ipython",
    "version": 2
   },
   "file_extension": ".py",
   "mimetype": "text/x-python",
   "name": "python",
   "nbconvert_exporter": "python",
   "pygments_lexer": "ipython2",
   "version": "2.7.6"
  }
 },
 "nbformat": 4,
 "nbformat_minor": 0
}