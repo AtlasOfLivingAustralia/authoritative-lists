{
 "cells": [
  {
   "cell_type": "markdown",
   "source": [
    "# Tas Conservation List\n",
    "## List Identifiers\n",
    "* Conservation list: __[dr654](https://lists.ala.org.au/speciesListItem/list/dr654)__ (and [dr654 in test](https://lists-test.ala.org.au/speciesListItem/list/dr654))\n",
    "* Collection: __[dr654](https://collections.ala.org.au/public/show/dr654)__ __[dr491](https://collections.ala.org.au/public/show/dr491)__\n",
    "\n",
    "## Source Data\n",
    "\n",
    "* __[Home page](https://nre.tas.gov.au/conservation/threatened-species-and-communities/lists-of-threatened-species/full-list-of-threatened-species)__\n",
    "* __[Data](https://nre.tas.gov.au/Documents/TasThreatenedSpecies.XLS)__\n",
    "\n",
    "**Metadata Description**\n",
    "\n",
    "Sensitive List: A list of \"restricted species\" was supplied directly by the Tasmanian Department of Primary Industries, Parks, Water and Environment. It is not currently available on the Department's web site. The Atlas Of Living Australia withholds latitude and longitude values in occurrence records for sensitive Tasmanian species. This applies to all Tasmanian occurrence records regardless of source. Reviewed: 2/5/2013 Galaxias Fontanus removed from list 24/6/2013 on notification from DPIPWE\n",
    "\n",
    "**Metadata URL**\n",
    "https://nre.tas.gov.au/conservation/threatened-species-and-communities/lists-of-threatened-species/full-list-of-threatened-species\n"
   ],
   "metadata": {
    "collapsed": false,
    "pycharm": {
     "name": "#%% md\n"
    }
   }
  },
  {
   "cell_type": "markdown",
   "source": [
    "Import libraries\n",
    "Set Project directories"
   ],
   "metadata": {
    "collapsed": false,
    "pycharm": {
     "name": "#%% md\n"
    }
   }
  },
  {
   "cell_type": "code",
   "execution_count": 3,
   "outputs": [],
   "source": [
    "import pandas as pd\n",
    "import os\n",
    "import sys\n",
    "# top level directory\n",
    "projectDir = \"/Users/oco115/PycharmProjects/authoritative-lists/\"\n",
    "# projectDir = \"/Users/new330/IdeaProjects/authoritative-lists/\"\n",
    "\n",
    "sys.path.append(os.path.abspath(projectDir + \"source-code/includes\"))\n",
    "import list_functions as lf\n",
    "cdataDir = \"current-lists/conservation-lists/\"\n",
    "sdataDir = \"current-lists/sensitive-lists/\""
   ],
   "metadata": {
    "collapsed": false,
    "pycharm": {
     "name": "#%%\n"
    }
   }
  },
  {
   "cell_type": "code",
   "execution_count": null,
   "outputs": [],
   "source": [
    "# update the encoding on the final file\n",
    "# fileurl = \"/Users/new330/IdeaProjects/authoritative-lists/current-lists/conservation-lists/TAS-conservation.csv\"\n",
    "# tas = pd.read_csv(fileurl,encoding='cp1252')\n",
    "# tas.to_csv(fileurl, encoding=\"UTF-8\",index=False)\n",
    "# tas"
   ],
   "metadata": {
    "collapsed": false,
    "pycharm": {
     "name": "#%%\n"
    }
   }
  },
  {
   "cell_type": "markdown",
   "source": [
    "Download CSV file"
   ],
   "metadata": {
    "collapsed": false,
    "pycharm": {
     "name": "#%% md\n"
    }
   }
  },
  {
   "cell_type": "code",
   "execution_count": null,
   "outputs": [],
   "source": [
    "print('Downloading TAS Conservation List')\n",
    "taslisturl = \"https://nre.tas.gov.au/Documents/TasThreatenedSpecies.XLS\"\n",
    "tasconservation = pd.read_excel(taslisturl)\n",
    "print('Finished downloading')\n",
    "tasconservation"
   ],
   "metadata": {
    "collapsed": false,
    "pycharm": {
     "name": "#%%\n"
    }
   }
  },
  {
   "cell_type": "code",
   "execution_count": 6,
   "outputs": [
    {
     "data": {
      "text/plain": "Index(['Origin', 'Species', 'Authority', 'Common Name', 'Family', 'Group',\n       'sch', 'EPBCA', 'Flora/Fauna', 'Classification'],\n      dtype='object')"
     },
     "execution_count": 6,
     "metadata": {},
     "output_type": "execute_result"
    }
   ],
   "source": [
    "tasconservation.columns"
   ],
   "metadata": {
    "collapsed": false,
    "pycharm": {
     "name": "#%%\n"
    }
   }
  },
  {
   "cell_type": "markdown",
   "source": [
    "Map DWC terms"
   ],
   "metadata": {
    "collapsed": false,
    "pycharm": {
     "name": "#%% md\n"
    }
   }
  },
  {
   "cell_type": "code",
   "execution_count": null,
   "outputs": [],
   "source": [
    "tasconservation = tasconservation.rename(columns={'Origin': 'sourceOrigin',\n",
    "                                                        'species': 'scientificName',\n",
    "                                                        'Authority': 'authority',\n",
    "                                                        'Common Name': 'vernacularName',\n",
    "                                                        'Family': 'family',\n",
    "                                                        'sch': 'sourceStatus',\n",
    "                                                        'EPBCA': 'epbcaStatus',\n",
    "                                                        'Classification': 'class'\n",
    "                                                    })\n",
    "tasconservation.drop(['Group','Flora/Fauna'],axis=1,inplace=True)\n",
    "tasconservation"
   ],
   "metadata": {
    "collapsed": false,
    "pycharm": {
     "name": "#%%\n"
    }
   }
  },
  {
   "cell_type": "markdown",
   "source": [
    "Write dataframe to CSV - UTF-8 encoding"
   ],
   "metadata": {
    "collapsed": false,
    "pycharm": {
     "name": "#%% md\n"
    }
   }
  },
  {
   "cell_type": "code",
   "execution_count": null,
   "outputs": [],
   "source": [
    "print('Writing to CSV')\n",
    "tasconservation.to_csv(projectDir + cdataDir + \"TAS-conservation.csv\", encoding=\"UTF-8\", index=False)\n",
    "print('Finished processing conservation')"
   ],
   "metadata": {
    "collapsed": false,
    "pycharm": {
     "name": "#%%\n"
    }
   }
  },
  {
   "cell_type": "markdown",
   "source": [
    "## Sensitive List update"
   ],
   "metadata": {
    "collapsed": false,
    "pycharm": {
     "name": "#%% md\n"
    }
   }
  },
  {
   "cell_type": "code",
   "execution_count": 10,
   "outputs": [
    {
     "name": "stdout",
     "output_type": "stream",
     "text": [
      "Downloading TAS Sensitive List from ALA\n"
     ]
    },
    {
     "data": {
      "text/plain": "                name      commonName     scientificName  \\\n0  Lomatia tasmanica  King's Lomatia  Lomatia tasmanica   \n\n                                               lsid  \n0  https://id.biodiversity.org.au/node/apni/2903191  ",
      "text/html": "<div>\n<style scoped>\n    .dataframe tbody tr th:only-of-type {\n        vertical-align: middle;\n    }\n\n    .dataframe tbody tr th {\n        vertical-align: top;\n    }\n\n    .dataframe thead th {\n        text-align: right;\n    }\n</style>\n<table border=\"1\" class=\"dataframe\">\n  <thead>\n    <tr style=\"text-align: right;\">\n      <th></th>\n      <th>name</th>\n      <th>commonName</th>\n      <th>scientificName</th>\n      <th>lsid</th>\n    </tr>\n  </thead>\n  <tbody>\n    <tr>\n      <th>0</th>\n      <td>Lomatia tasmanica</td>\n      <td>King's Lomatia</td>\n      <td>Lomatia tasmanica</td>\n      <td>https://id.biodiversity.org.au/node/apni/2903191</td>\n    </tr>\n  </tbody>\n</table>\n</div>"
     },
     "execution_count": 10,
     "metadata": {},
     "output_type": "execute_result"
    }
   ],
   "source": [
    "print('Downloading TAS Sensitive List from ALA')\n",
    "prodListUrl = \"https://lists.ala.org.au/ws/speciesListItems/\" + \"dr491\" + \"?max=10000&includeKVP=true\"\n",
    "tassensitive = lf.download_ala_list(prodListUrl)\n",
    "tassensitive = tassensitive.drop(['id', 'dataResourceUid', 'kvpValues'], axis=1)\n",
    "tassensitive"
   ],
   "metadata": {
    "collapsed": false,
    "pycharm": {
     "name": "#%%\n"
    }
   }
  },
  {
   "cell_type": "code",
   "execution_count": 11,
   "outputs": [
    {
     "data": {
      "text/plain": "                name      commonName                      scientificName  \\\n0  Lomatia tasmanica  King's Lomatia                   Lomatia tasmanica   \n1                NaN             NaN               Prasophyllum taphanyx   \n2                NaN             NaN  Caladenia vulgaris var. nunguensis   \n\n                                               lsid  \n0  https://id.biodiversity.org.au/node/apni/2903191  \n1                                               NaN  \n2                                               NaN  ",
      "text/html": "<div>\n<style scoped>\n    .dataframe tbody tr th:only-of-type {\n        vertical-align: middle;\n    }\n\n    .dataframe tbody tr th {\n        vertical-align: top;\n    }\n\n    .dataframe thead th {\n        text-align: right;\n    }\n</style>\n<table border=\"1\" class=\"dataframe\">\n  <thead>\n    <tr style=\"text-align: right;\">\n      <th></th>\n      <th>name</th>\n      <th>commonName</th>\n      <th>scientificName</th>\n      <th>lsid</th>\n    </tr>\n  </thead>\n  <tbody>\n    <tr>\n      <th>0</th>\n      <td>Lomatia tasmanica</td>\n      <td>King's Lomatia</td>\n      <td>Lomatia tasmanica</td>\n      <td>https://id.biodiversity.org.au/node/apni/2903191</td>\n    </tr>\n    <tr>\n      <th>1</th>\n      <td>NaN</td>\n      <td>NaN</td>\n      <td>Prasophyllum taphanyx</td>\n      <td>NaN</td>\n    </tr>\n    <tr>\n      <th>2</th>\n      <td>NaN</td>\n      <td>NaN</td>\n      <td>Caladenia vulgaris var. nunguensis</td>\n      <td>NaN</td>\n    </tr>\n  </tbody>\n</table>\n</div>"
     },
     "execution_count": 11,
     "metadata": {},
     "output_type": "execute_result"
    }
   ],
   "source": [
    "newrow1 = {'scientificName': 'Prasophyllum taphanyx'}\n",
    "newrow2 = {'scientificName': 'Caladenia vulgaris var. nunguensis'}\n",
    "tassensitive = tassensitive.append(newrow1, ignore_index=True)\n",
    "tassensitive = tassensitive.append(newrow2, ignore_index=True)\n",
    "tassensitive"
   ],
   "metadata": {
    "collapsed": false,
    "pycharm": {
     "name": "#%%\n"
    }
   }
  },
  {
   "cell_type": "code",
   "execution_count": null,
   "outputs": [],
   "source": [
    "# Adding 2 new species"
   ],
   "metadata": {
    "collapsed": false,
    "pycharm": {
     "name": "#%%\n"
    }
   }
  },
  {
   "cell_type": "code",
   "execution_count": 12,
   "outputs": [
    {
     "name": "stdout",
     "output_type": "stream",
     "text": [
      "Writing to CSV\n"
     ]
    }
   ],
   "source": [
    "print('Writing to CSV')\n",
    "tassensitive.to_csv(projectDir + sdataDir + \"TAS-sensitive-new.csv\", encoding=\"UTF-8\", index=False)"
   ],
   "metadata": {
    "collapsed": false,
    "pycharm": {
     "name": "#%%\n"
    }
   }
  },
  {
   "cell_type": "markdown",
   "source": [
    "# Manual List check\n",
    "\n",
    "**Instructions**\n",
    "1. Load the lists above into the lists-test tool\n",
    "2. Check the list name matching score and the text appearance on species pages\n",
    "3. Unskip the below code and Run the reports below to compare to production. Send the changelog.csv to check. Correct any issues.\n",
    "4. Save the production list into the `historical lists` directory by uncommenting the code section below.\n",
    "5. Load the lists into production"
   ],
   "metadata": {
    "collapsed": false,
    "pycharm": {
     "name": "#%% md\n"
    }
   }
  },
  {
   "cell_type": "markdown",
   "source": [
    "### Conservation List - Download old and new and compare"
   ],
   "metadata": {
    "collapsed": false,
    "pycharm": {
     "name": "#%% md\n"
    }
   }
  },
  {
   "cell_type": "code",
   "execution_count": null,
   "outputs": [],
   "source": [
    "# %%script echo skipping # comment this line to run this code\n",
    "\n",
    "import datetime\n",
    "monthStr = datetime.datetime.now().strftime('%Y%m')\n",
    "\n",
    "# conservation\n",
    "filename = \"TAS-conservation.csv\"\n",
    "prodListUrl = \"https://lists.ala.org.au/ws/speciesListItems/\" + \"dr654\" + \"?max=10000&includeKVP=true\"\n",
    "testListUrl = \"https://lists-test.ala.org.au/ws/speciesListItems/\" + \"dr654\" + \"?max=10000&includeKVP=true\"\n",
    "changelist = lf.get_changelist(testListUrl, prodListUrl)\n",
    "# save the lists locally\n",
    "changelist.to_csv(projectDir + \"analysis/change-log/\" + monthStr + \"-\" + filename, encoding=\"UTF-8\", index=False)\n",
    "\n",
    "prodList = lf.download_ala_list(prodListUrl) # save the prod list to the historical lists directory\n",
    "prodList = lf.kvp_to_columns(prodList)\n",
    "prodList.to_csv(projectDir + \"historical-lists/conservation/\" + filename, encoding=\"UTF-8\", index=False)\n",
    "changelist"
   ],
   "metadata": {
    "collapsed": false,
    "pycharm": {
     "name": "#%%\n"
    }
   }
  },
  {
   "cell_type": "markdown",
   "source": [
    "### Sensitive List - Download old and new and compare\n",
    "### not currently in lists-test"
   ],
   "metadata": {
    "collapsed": false,
    "pycharm": {
     "name": "#%% md\n"
    }
   }
  },
  {
   "cell_type": "code",
   "execution_count": null,
   "outputs": [],
   "source": [
    "%%script echo skipping # comment this line to run this code\n",
    "\n",
    "import datetime\n",
    "monthStr = datetime.datetime.now().strftime('%Y%m')\n",
    "\n",
    "# conservation\n",
    "filename = \"TAS-sensitive.csv\"\n",
    "prodListUrl = \"https://lists.ala.org.au/ws/speciesListItems/\" + \"dr491\" + \"?max=10000&includeKVP=true\"\n",
    "# testListUrl = \"https://lists-test.ala.org.au/ws/speciesListItems/\" + \"dr2627\" + \"?max=10000&includeKVP=true\"\n",
    "changelist = lf.get_changelist(testListUrl, prodListUrl)\n",
    "# save the lists locally\n",
    "changelist.to_csv(projectDir + \"analysis/change-log/\" + monthStr + \"-\" + filename, encoding=\"UTF-8\", index=False)\n",
    "\n",
    "prodList = lf.download_ala_list(prodListUrl) # save the prod list to the historical lists directory\n",
    "prodList = lf.kvp_to_columns(prodList)\n",
    "prodList.to_csv(projectDir + \"historical-lists/sensitive/\" + filename, encoding=\"UTF-8\", index=False)\n",
    "changelist"
   ],
   "metadata": {
    "collapsed": false,
    "pycharm": {
     "name": "#%%\n"
    }
   }
  }
 ],
 "metadata": {
  "kernelspec": {
   "display_name": "Python 3",
   "language": "python",
   "name": "python3"
  },
  "language_info": {
   "codemirror_mode": {
    "name": "ipython",
    "version": 2
   },
   "file_extension": ".py",
   "mimetype": "text/x-python",
   "name": "python",
   "nbconvert_exporter": "python",
   "pygments_lexer": "ipython2",
   "version": "2.7.6"
  }
 },
 "nbformat": 4,
 "nbformat_minor": 0
}