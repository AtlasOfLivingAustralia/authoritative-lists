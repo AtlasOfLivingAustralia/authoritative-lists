{
 "cells": [
  {
   "cell_type": "markdown",
   "source": [
    "# Tas Conservation List\n",
    "## List Identifiers\n",
    "* Conservation list: __[dr654](https://lists.ala.org.au/speciesListItem/list/dr654)__ (and [dr654 in test](https://lists-test.ala.org.au/speciesListItem/list/dr654))\n",
    "* Sensitive list: __[dr654](https://lists.ala.org.au/speciesListItem/list/dr654)__ (and [dr654 in test](https://lists-test.ala.org.au/speciesListItem/list/dr654))\n",
    "* Collection: __[dr654](https://collections.ala.org.au/public/show/dr654)__ __[dr491](https://collections.ala.org.au/public/show/dr491)__\n",
    "\n",
    "## Source Data\n",
    "\n",
    "* __[Home page](https://nre.tas.gov.au/conservation/threatened-species-and-communities/lists-of-threatened-species/full-list-of-threatened-species)__\n",
    "* __[Data](https://nre.tas.gov.au/Documents/TasThreatenedSpecies.XLS)__\n",
    "\n",
    "**Metadata Description**\n",
    "\n",
    "Sensitive List: A list of \"restricted species\" was supplied directly by the Tasmanian Department of Primary Industries, Parks, Water and Environment. It is not currently available on the Department's web site. The Atlas Of Living Australia withholds latitude and longitude values in occurrence records for sensitive Tasmanian species. This applies to all Tasmanian occurrence records regardless of source. Reviewed: 2/5/2013 Galaxias Fontanus removed from list 24/6/2013 on notification from DPIPWE\n",
    "\n",
    "**Metadata URL**\n",
    "https://nre.tas.gov.au/conservation/threatened-species-and-communities/lists-of-threatened-species/full-list-of-threatened-species\n"
   ],
   "metadata": {
    "collapsed": false,
    "pycharm": {
     "name": "#%% md\n"
    }
   }
  },
  {
   "cell_type": "markdown",
   "source": [
    "Import libraries\n",
    "Set Project directories"
   ],
   "metadata": {
    "collapsed": false,
    "pycharm": {
     "name": "#%% md\n"
    }
   }
  },
  {
   "cell_type": "code",
   "execution_count": 1,
   "outputs": [],
   "source": [
    "import pandas as pd\n",
    "import os\n",
    "import sys\n",
    "# top level directory\n",
    "projectDir = \"/Users/oco115/PycharmProjects/authoritative-lists/\"\n",
    "# projectDir = \"/Users/new330/IdeaProjects/authoritative-lists/\"\n",
    "statusDir = projectDir + \"source-data/status-codes/\"\n",
    "sys.path.append(os.path.abspath(projectDir + \"source-code/includes\"))\n",
    "\n",
    "import list_functions as lf\n",
    "cdataDir = \"current-lists/conservation-lists/\"\n",
    "sdataDir = \"current-lists/sensitive-lists/\""
   ],
   "metadata": {
    "collapsed": false,
    "pycharm": {
     "name": "#%%\n"
    }
   }
  },
  {
   "cell_type": "code",
   "execution_count": null,
   "outputs": [],
   "source": [
    "# update the encoding on the final file\n",
    "# fileurl = \"/Users/new330/IdeaProjects/authoritative-lists/current-lists/conservation-lists/TAS-conservation.csv\"\n",
    "# tas = pd.read_csv(fileurl,encoding='cp1252')\n",
    "# tas.to_csv(fileurl, encoding=\"UTF-8\",index=False)\n",
    "# tas"
   ],
   "metadata": {
    "collapsed": false,
    "pycharm": {
     "name": "#%%\n"
    }
   }
  },
  {
   "cell_type": "markdown",
   "source": [
    "Download CSV file"
   ],
   "metadata": {
    "collapsed": false,
    "pycharm": {
     "name": "#%% md\n"
    }
   }
  },
  {
   "cell_type": "code",
   "execution_count": 9,
   "outputs": [
    {
     "name": "stdout",
     "output_type": "stream",
     "text": [
      "Downloading TAS Conservation List\n",
      "Finished downloading\n"
     ]
    },
    {
     "data": {
      "text/plain": "    Origin                         Species            Authority  \\\n0      end                Acacia axillaris               Benth.   \n1      end               Acacia pataczekii           D.I.Morris   \n2                      Acacia siculiformis    A.Cunn. ex Benth.   \n3                        Acacia ulicifolia      (Salisb.) Court   \n4                         Acacia uncifolia  (J.M.Black) O'Leary   \n..     ...                             ...                  ...   \n718    end        Thylacinus cynocephalus                Harris   \n719    end             Thymichthys politus         (Richardson)   \n720    end  Tyto novaehollandiae castanops              (Gould)   \n721               Vombatus ursinus ursinus                        \n722    end                Zearaja maugeana      Last & Gledhill   \n\n            Common Name    Family          Group sch EPBCA Flora/Fauna  \\\n0       midlands wattle  Fabaceae  Dicotyledonae   v    VU       Flora   \n1         wallys wattle  Fabaceae  Dicotyledonae   r             Flora   \n2         dagger wattle  Fabaceae  Dicotyledonae   r             Flora   \n3        juniper wattle  Fabaceae  Dicotyledonae   r             Flora   \n4         coast wirilda  Fabaceae  Dicotyledonae   r             Flora   \n..                  ...       ...            ...  ..   ...         ...   \n718           Thylacine   Mammals    Vertebrates   x    EX       Fauna   \n719        Red Handfish      Fish    Vertebrates   e    CR       Fauna   \n720          Masked Owl     Birds    Vertebrates   e    VU       Fauna   \n721  Bass Strait Wombat   Mammals    Vertebrates        VU       Fauna   \n722       Maugean Skate      Fish    Vertebrates   e    EN       Fauna   \n\n    Classification  \n0         vascular  \n1         vascular  \n2         vascular  \n3         vascular  \n4         vascular  \n..             ...  \n718     vertebrate  \n719     vertebrate  \n720     vertebrate  \n721     vertebrate  \n722     vertebrate  \n\n[723 rows x 10 columns]",
      "text/html": "<div>\n<style scoped>\n    .dataframe tbody tr th:only-of-type {\n        vertical-align: middle;\n    }\n\n    .dataframe tbody tr th {\n        vertical-align: top;\n    }\n\n    .dataframe thead th {\n        text-align: right;\n    }\n</style>\n<table border=\"1\" class=\"dataframe\">\n  <thead>\n    <tr style=\"text-align: right;\">\n      <th></th>\n      <th>Origin</th>\n      <th>Species</th>\n      <th>Authority</th>\n      <th>Common Name</th>\n      <th>Family</th>\n      <th>Group</th>\n      <th>sch</th>\n      <th>EPBCA</th>\n      <th>Flora/Fauna</th>\n      <th>Classification</th>\n    </tr>\n  </thead>\n  <tbody>\n    <tr>\n      <th>0</th>\n      <td>end</td>\n      <td>Acacia axillaris</td>\n      <td>Benth.</td>\n      <td>midlands wattle</td>\n      <td>Fabaceae</td>\n      <td>Dicotyledonae</td>\n      <td>v</td>\n      <td>VU</td>\n      <td>Flora</td>\n      <td>vascular</td>\n    </tr>\n    <tr>\n      <th>1</th>\n      <td>end</td>\n      <td>Acacia pataczekii</td>\n      <td>D.I.Morris</td>\n      <td>wallys wattle</td>\n      <td>Fabaceae</td>\n      <td>Dicotyledonae</td>\n      <td>r</td>\n      <td></td>\n      <td>Flora</td>\n      <td>vascular</td>\n    </tr>\n    <tr>\n      <th>2</th>\n      <td></td>\n      <td>Acacia siculiformis</td>\n      <td>A.Cunn. ex Benth.</td>\n      <td>dagger wattle</td>\n      <td>Fabaceae</td>\n      <td>Dicotyledonae</td>\n      <td>r</td>\n      <td></td>\n      <td>Flora</td>\n      <td>vascular</td>\n    </tr>\n    <tr>\n      <th>3</th>\n      <td></td>\n      <td>Acacia ulicifolia</td>\n      <td>(Salisb.) Court</td>\n      <td>juniper wattle</td>\n      <td>Fabaceae</td>\n      <td>Dicotyledonae</td>\n      <td>r</td>\n      <td></td>\n      <td>Flora</td>\n      <td>vascular</td>\n    </tr>\n    <tr>\n      <th>4</th>\n      <td></td>\n      <td>Acacia uncifolia</td>\n      <td>(J.M.Black) O'Leary</td>\n      <td>coast wirilda</td>\n      <td>Fabaceae</td>\n      <td>Dicotyledonae</td>\n      <td>r</td>\n      <td></td>\n      <td>Flora</td>\n      <td>vascular</td>\n    </tr>\n    <tr>\n      <th>...</th>\n      <td>...</td>\n      <td>...</td>\n      <td>...</td>\n      <td>...</td>\n      <td>...</td>\n      <td>...</td>\n      <td>...</td>\n      <td>...</td>\n      <td>...</td>\n      <td>...</td>\n    </tr>\n    <tr>\n      <th>718</th>\n      <td>end</td>\n      <td>Thylacinus cynocephalus</td>\n      <td>Harris</td>\n      <td>Thylacine</td>\n      <td>Mammals</td>\n      <td>Vertebrates</td>\n      <td>x</td>\n      <td>EX</td>\n      <td>Fauna</td>\n      <td>vertebrate</td>\n    </tr>\n    <tr>\n      <th>719</th>\n      <td>end</td>\n      <td>Thymichthys politus</td>\n      <td>(Richardson)</td>\n      <td>Red Handfish</td>\n      <td>Fish</td>\n      <td>Vertebrates</td>\n      <td>e</td>\n      <td>CR</td>\n      <td>Fauna</td>\n      <td>vertebrate</td>\n    </tr>\n    <tr>\n      <th>720</th>\n      <td>end</td>\n      <td>Tyto novaehollandiae castanops</td>\n      <td>(Gould)</td>\n      <td>Masked Owl</td>\n      <td>Birds</td>\n      <td>Vertebrates</td>\n      <td>e</td>\n      <td>VU</td>\n      <td>Fauna</td>\n      <td>vertebrate</td>\n    </tr>\n    <tr>\n      <th>721</th>\n      <td></td>\n      <td>Vombatus ursinus ursinus</td>\n      <td></td>\n      <td>Bass Strait Wombat</td>\n      <td>Mammals</td>\n      <td>Vertebrates</td>\n      <td></td>\n      <td>VU</td>\n      <td>Fauna</td>\n      <td>vertebrate</td>\n    </tr>\n    <tr>\n      <th>722</th>\n      <td>end</td>\n      <td>Zearaja maugeana</td>\n      <td>Last &amp; Gledhill</td>\n      <td>Maugean Skate</td>\n      <td>Fish</td>\n      <td>Vertebrates</td>\n      <td>e</td>\n      <td>EN</td>\n      <td>Fauna</td>\n      <td>vertebrate</td>\n    </tr>\n  </tbody>\n</table>\n<p>723 rows × 10 columns</p>\n</div>"
     },
     "execution_count": 9,
     "metadata": {},
     "output_type": "execute_result"
    }
   ],
   "source": [
    "# %%script echo skipping # comment this line to do a list check between test and production and save the changelog\n",
    "\n",
    "print('Downloading TAS Conservation List')\n",
    "taslisturl = \"https://nre.tas.gov.au/Documents/TasThreatenedSpecies.XLS\"\n",
    "conservationlist = pd.read_excel(taslisturl, dtype=str, keep_default_na=False)\n",
    "print('Finished downloading')\n",
    "conservationlist"
   ],
   "metadata": {
    "collapsed": false,
    "pycharm": {
     "name": "#%%\n"
    }
   }
  },
  {
   "cell_type": "code",
   "execution_count": 16,
   "outputs": [
    {
     "data": {
      "text/plain": "array(['Vulnerable', 'Rare', 'Endangered', ' ', 'Extinct'], dtype=object)"
     },
     "execution_count": 16,
     "metadata": {},
     "output_type": "execute_result"
    }
   ],
   "source": [
    "conservationlist['status'].unique()"
   ],
   "metadata": {
    "collapsed": false,
    "pycharm": {
     "name": "#%%\n"
    }
   }
  },
  {
   "cell_type": "code",
   "execution_count": 17,
   "outputs": [
    {
     "data": {
      "text/plain": "Index(['Origin', 'scientificName', 'Authority', 'vernacularName', 'Family',\n       'Group', 'sourceStatus', 'EPBCA', 'Flora/Fauna', 'Classification',\n       'status'],\n      dtype='object')"
     },
     "execution_count": 17,
     "metadata": {},
     "output_type": "execute_result"
    }
   ],
   "source": [
    "conservationlist.columns"
   ],
   "metadata": {
    "collapsed": false,
    "pycharm": {
     "name": "#%%\n"
    }
   }
  },
  {
   "cell_type": "markdown",
   "source": [
    "Map DWC terms"
   ],
   "metadata": {
    "collapsed": false,
    "pycharm": {
     "name": "#%% md\n"
    }
   }
  },
  {
   "cell_type": "code",
   "execution_count": 19,
   "outputs": [
    {
     "data": {
      "text/plain": "                     scientificName      vernacularName      status  \\\n0                  Acacia axillaris     midlands wattle  Vulnerable   \n1                 Acacia pataczekii       wallys wattle        Rare   \n2               Acacia siculiformis       dagger wattle        Rare   \n3                 Acacia ulicifolia      juniper wattle        Rare   \n4                  Acacia uncifolia       coast wirilda        Rare   \n..                              ...                 ...         ...   \n718        Thylacinus cynocephalus            Thylacine     Extinct   \n719             Thymichthys politus        Red Handfish  Endangered   \n720  Tyto novaehollandiae castanops          Masked Owl  Endangered   \n721        Vombatus ursinus ursinus  Bass Strait Wombat               \n722                Zearaja maugeana       Maugean Skate  Endangered   \n\n    sourceStatus  \n0              v  \n1              r  \n2              r  \n3              r  \n4              r  \n..           ...  \n718            x  \n719            e  \n720            e  \n721               \n722            e  \n\n[723 rows x 4 columns]",
      "text/html": "<div>\n<style scoped>\n    .dataframe tbody tr th:only-of-type {\n        vertical-align: middle;\n    }\n\n    .dataframe tbody tr th {\n        vertical-align: top;\n    }\n\n    .dataframe thead th {\n        text-align: right;\n    }\n</style>\n<table border=\"1\" class=\"dataframe\">\n  <thead>\n    <tr style=\"text-align: right;\">\n      <th></th>\n      <th>scientificName</th>\n      <th>vernacularName</th>\n      <th>status</th>\n      <th>sourceStatus</th>\n    </tr>\n  </thead>\n  <tbody>\n    <tr>\n      <th>0</th>\n      <td>Acacia axillaris</td>\n      <td>midlands wattle</td>\n      <td>Vulnerable</td>\n      <td>v</td>\n    </tr>\n    <tr>\n      <th>1</th>\n      <td>Acacia pataczekii</td>\n      <td>wallys wattle</td>\n      <td>Rare</td>\n      <td>r</td>\n    </tr>\n    <tr>\n      <th>2</th>\n      <td>Acacia siculiformis</td>\n      <td>dagger wattle</td>\n      <td>Rare</td>\n      <td>r</td>\n    </tr>\n    <tr>\n      <th>3</th>\n      <td>Acacia ulicifolia</td>\n      <td>juniper wattle</td>\n      <td>Rare</td>\n      <td>r</td>\n    </tr>\n    <tr>\n      <th>4</th>\n      <td>Acacia uncifolia</td>\n      <td>coast wirilda</td>\n      <td>Rare</td>\n      <td>r</td>\n    </tr>\n    <tr>\n      <th>...</th>\n      <td>...</td>\n      <td>...</td>\n      <td>...</td>\n      <td>...</td>\n    </tr>\n    <tr>\n      <th>718</th>\n      <td>Thylacinus cynocephalus</td>\n      <td>Thylacine</td>\n      <td>Extinct</td>\n      <td>x</td>\n    </tr>\n    <tr>\n      <th>719</th>\n      <td>Thymichthys politus</td>\n      <td>Red Handfish</td>\n      <td>Endangered</td>\n      <td>e</td>\n    </tr>\n    <tr>\n      <th>720</th>\n      <td>Tyto novaehollandiae castanops</td>\n      <td>Masked Owl</td>\n      <td>Endangered</td>\n      <td>e</td>\n    </tr>\n    <tr>\n      <th>721</th>\n      <td>Vombatus ursinus ursinus</td>\n      <td>Bass Strait Wombat</td>\n      <td></td>\n      <td></td>\n    </tr>\n    <tr>\n      <th>722</th>\n      <td>Zearaja maugeana</td>\n      <td>Maugean Skate</td>\n      <td>Endangered</td>\n      <td>e</td>\n    </tr>\n  </tbody>\n</table>\n<p>723 rows × 4 columns</p>\n</div>"
     },
     "execution_count": 19,
     "metadata": {},
     "output_type": "execute_result"
    }
   ],
   "source": [
    "conservationlist = conservationlist.loc[:, ['scientificName', 'vernacularName', 'status', 'sourceStatus']]\n",
    "conservationlist = conservationlist.dropna(subset=['status'])  # Remove NaN values\n",
    "conservationlist = conservationlist[conservationlist['status'].str.strip() != '']  # Remove whitespace values\n",
    "conservationlist\n"
   ],
   "metadata": {
    "collapsed": false,
    "pycharm": {
     "name": "#%%\n"
    }
   }
  },
  {
   "cell_type": "code",
   "execution_count": 14,
   "outputs": [
    {
     "data": {
      "text/plain": "    Origin                  scientificName            Authority  \\\n0      end                Acacia axillaris               Benth.   \n1      end               Acacia pataczekii           D.I.Morris   \n2                      Acacia siculiformis    A.Cunn. ex Benth.   \n3                        Acacia ulicifolia      (Salisb.) Court   \n4                         Acacia uncifolia  (J.M.Black) O'Leary   \n..     ...                             ...                  ...   \n718    end        Thylacinus cynocephalus                Harris   \n719    end             Thymichthys politus         (Richardson)   \n720    end  Tyto novaehollandiae castanops              (Gould)   \n721               Vombatus ursinus ursinus                        \n722    end                Zearaja maugeana      Last & Gledhill   \n\n         vernacularName    Family          Group sourceStatus EPBCA  \\\n0       midlands wattle  Fabaceae  Dicotyledonae            v    VU   \n1         wallys wattle  Fabaceae  Dicotyledonae            r         \n2         dagger wattle  Fabaceae  Dicotyledonae            r         \n3        juniper wattle  Fabaceae  Dicotyledonae            r         \n4         coast wirilda  Fabaceae  Dicotyledonae            r         \n..                  ...       ...            ...          ...   ...   \n718           Thylacine   Mammals    Vertebrates            x    EX   \n719        Red Handfish      Fish    Vertebrates            e    CR   \n720          Masked Owl     Birds    Vertebrates            e    VU   \n721  Bass Strait Wombat   Mammals    Vertebrates                 VU   \n722       Maugean Skate      Fish    Vertebrates            e    EN   \n\n    Flora/Fauna Classification      status  \n0         Flora       vascular  Vulnerable  \n1         Flora       vascular        Rare  \n2         Flora       vascular        Rare  \n3         Flora       vascular        Rare  \n4         Flora       vascular        Rare  \n..          ...            ...         ...  \n718       Fauna     vertebrate     Extinct  \n719       Fauna     vertebrate  Endangered  \n720       Fauna     vertebrate  Endangered  \n721       Fauna     vertebrate              \n722       Fauna     vertebrate  Endangered  \n\n[723 rows x 11 columns]",
      "text/html": "<div>\n<style scoped>\n    .dataframe tbody tr th:only-of-type {\n        vertical-align: middle;\n    }\n\n    .dataframe tbody tr th {\n        vertical-align: top;\n    }\n\n    .dataframe thead th {\n        text-align: right;\n    }\n</style>\n<table border=\"1\" class=\"dataframe\">\n  <thead>\n    <tr style=\"text-align: right;\">\n      <th></th>\n      <th>Origin</th>\n      <th>scientificName</th>\n      <th>Authority</th>\n      <th>vernacularName</th>\n      <th>Family</th>\n      <th>Group</th>\n      <th>sourceStatus</th>\n      <th>EPBCA</th>\n      <th>Flora/Fauna</th>\n      <th>Classification</th>\n      <th>status</th>\n    </tr>\n  </thead>\n  <tbody>\n    <tr>\n      <th>0</th>\n      <td>end</td>\n      <td>Acacia axillaris</td>\n      <td>Benth.</td>\n      <td>midlands wattle</td>\n      <td>Fabaceae</td>\n      <td>Dicotyledonae</td>\n      <td>v</td>\n      <td>VU</td>\n      <td>Flora</td>\n      <td>vascular</td>\n      <td>Vulnerable</td>\n    </tr>\n    <tr>\n      <th>1</th>\n      <td>end</td>\n      <td>Acacia pataczekii</td>\n      <td>D.I.Morris</td>\n      <td>wallys wattle</td>\n      <td>Fabaceae</td>\n      <td>Dicotyledonae</td>\n      <td>r</td>\n      <td></td>\n      <td>Flora</td>\n      <td>vascular</td>\n      <td>Rare</td>\n    </tr>\n    <tr>\n      <th>2</th>\n      <td></td>\n      <td>Acacia siculiformis</td>\n      <td>A.Cunn. ex Benth.</td>\n      <td>dagger wattle</td>\n      <td>Fabaceae</td>\n      <td>Dicotyledonae</td>\n      <td>r</td>\n      <td></td>\n      <td>Flora</td>\n      <td>vascular</td>\n      <td>Rare</td>\n    </tr>\n    <tr>\n      <th>3</th>\n      <td></td>\n      <td>Acacia ulicifolia</td>\n      <td>(Salisb.) Court</td>\n      <td>juniper wattle</td>\n      <td>Fabaceae</td>\n      <td>Dicotyledonae</td>\n      <td>r</td>\n      <td></td>\n      <td>Flora</td>\n      <td>vascular</td>\n      <td>Rare</td>\n    </tr>\n    <tr>\n      <th>4</th>\n      <td></td>\n      <td>Acacia uncifolia</td>\n      <td>(J.M.Black) O'Leary</td>\n      <td>coast wirilda</td>\n      <td>Fabaceae</td>\n      <td>Dicotyledonae</td>\n      <td>r</td>\n      <td></td>\n      <td>Flora</td>\n      <td>vascular</td>\n      <td>Rare</td>\n    </tr>\n    <tr>\n      <th>...</th>\n      <td>...</td>\n      <td>...</td>\n      <td>...</td>\n      <td>...</td>\n      <td>...</td>\n      <td>...</td>\n      <td>...</td>\n      <td>...</td>\n      <td>...</td>\n      <td>...</td>\n      <td>...</td>\n    </tr>\n    <tr>\n      <th>718</th>\n      <td>end</td>\n      <td>Thylacinus cynocephalus</td>\n      <td>Harris</td>\n      <td>Thylacine</td>\n      <td>Mammals</td>\n      <td>Vertebrates</td>\n      <td>x</td>\n      <td>EX</td>\n      <td>Fauna</td>\n      <td>vertebrate</td>\n      <td>Extinct</td>\n    </tr>\n    <tr>\n      <th>719</th>\n      <td>end</td>\n      <td>Thymichthys politus</td>\n      <td>(Richardson)</td>\n      <td>Red Handfish</td>\n      <td>Fish</td>\n      <td>Vertebrates</td>\n      <td>e</td>\n      <td>CR</td>\n      <td>Fauna</td>\n      <td>vertebrate</td>\n      <td>Endangered</td>\n    </tr>\n    <tr>\n      <th>720</th>\n      <td>end</td>\n      <td>Tyto novaehollandiae castanops</td>\n      <td>(Gould)</td>\n      <td>Masked Owl</td>\n      <td>Birds</td>\n      <td>Vertebrates</td>\n      <td>e</td>\n      <td>VU</td>\n      <td>Fauna</td>\n      <td>vertebrate</td>\n      <td>Endangered</td>\n    </tr>\n    <tr>\n      <th>721</th>\n      <td></td>\n      <td>Vombatus ursinus ursinus</td>\n      <td></td>\n      <td>Bass Strait Wombat</td>\n      <td>Mammals</td>\n      <td>Vertebrates</td>\n      <td></td>\n      <td>VU</td>\n      <td>Fauna</td>\n      <td>vertebrate</td>\n      <td></td>\n    </tr>\n    <tr>\n      <th>722</th>\n      <td>end</td>\n      <td>Zearaja maugeana</td>\n      <td>Last &amp; Gledhill</td>\n      <td>Maugean Skate</td>\n      <td>Fish</td>\n      <td>Vertebrates</td>\n      <td>e</td>\n      <td>EN</td>\n      <td>Fauna</td>\n      <td>vertebrate</td>\n      <td>Endangered</td>\n    </tr>\n  </tbody>\n</table>\n<p>723 rows × 11 columns</p>\n</div>"
     },
     "execution_count": 14,
     "metadata": {},
     "output_type": "execute_result"
    }
   ],
   "source": [
    "# ## Map statuses\n",
    "# state = 'TAS'\n",
    "# fname = statusDir + state + \"-codes.csv\"\n",
    "# conservationlist = lf.map_status(state, fname, conservationlist)\n",
    "# # remove any with sourceStatus = *\n",
    "# conservationlist['status'].fillna(' ', inplace=True)\n",
    "# conservationlist = conservationlist[~conservationlist['status'].str.contains('*', regex=False)]\n",
    "# # conservationCodesMapping = {\n",
    "# #     'x':'Extinct',\n",
    "# #     'v':'Vulnerable',\n",
    "# #     'r':'Rare',\n",
    "# #     'e':'Endangered',\n",
    "# #     'ex':'Extinct'\n",
    "# # }\n",
    "# # conservationlist['status'] = conservationlist['sourceStatus'].str.strip().map(conservationCodesMapping).fillna(conservationlist['sourceStatus'])\n",
    "# # conservationlist.drop(['Group','Flora/Fauna'],axis=1,inplace=True)\n",
    "# conservationlist"
   ],
   "metadata": {
    "collapsed": false,
    "pycharm": {
     "name": "#%%\n"
    }
   }
  },
  {
   "cell_type": "markdown",
   "source": [
    "Write dataframe to CSV - UTF-8 encoding"
   ],
   "metadata": {
    "collapsed": false,
    "pycharm": {
     "name": "#%% md\n"
    }
   }
  },
  {
   "cell_type": "code",
   "execution_count": 20,
   "outputs": [
    {
     "name": "stdout",
     "output_type": "stream",
     "text": [
      "Writing to CSV\n",
      "Finished processing conservation\n"
     ]
    }
   ],
   "source": [
    "print('Writing to CSV')\n",
    "conservationlist.to_csv(projectDir + cdataDir + \"TAS-conservation-20230505.csv\", encoding=\"UTF-8\", index=False)\n",
    "print('Finished processing conservation')"
   ],
   "metadata": {
    "collapsed": false,
    "pycharm": {
     "name": "#%%\n"
    }
   }
  },
  {
   "cell_type": "markdown",
   "source": [
    "## Sensitive List update\n",
    "## Update 2022-02-21 - adding 2 species to existing list"
   ],
   "metadata": {
    "collapsed": false,
    "pycharm": {
     "name": "#%% md\n"
    }
   }
  },
  {
   "cell_type": "code",
   "execution_count": 5,
   "outputs": [
    {
     "name": "stdout",
     "output_type": "stream",
     "text": [
      "Downloading TAS Sensitive List from ALA\n",
      "download_ala_list:  https://lists.ala.org.au/ws/speciesListItems/dr491?max=10000&includeKVP=true\n"
     ]
    },
    {
     "data": {
      "text/plain": "          scientificName             commonName generalisation\n0      Lomatia tasmanica         King's Lomatia        Withold\n1  Prasophyllum taphanyx  Graveside Leek-orchid          10 km\n2     Caladenia vulgaris         Summer Fingers          10 km",
      "text/html": "<div>\n<style scoped>\n    .dataframe tbody tr th:only-of-type {\n        vertical-align: middle;\n    }\n\n    .dataframe tbody tr th {\n        vertical-align: top;\n    }\n\n    .dataframe thead th {\n        text-align: right;\n    }\n</style>\n<table border=\"1\" class=\"dataframe\">\n  <thead>\n    <tr style=\"text-align: right;\">\n      <th></th>\n      <th>scientificName</th>\n      <th>commonName</th>\n      <th>generalisation</th>\n    </tr>\n  </thead>\n  <tbody>\n    <tr>\n      <th>0</th>\n      <td>Lomatia tasmanica</td>\n      <td>King's Lomatia</td>\n      <td>Withold</td>\n    </tr>\n    <tr>\n      <th>1</th>\n      <td>Prasophyllum taphanyx</td>\n      <td>Graveside Leek-orchid</td>\n      <td>10 km</td>\n    </tr>\n    <tr>\n      <th>2</th>\n      <td>Caladenia vulgaris</td>\n      <td>Summer Fingers</td>\n      <td>10 km</td>\n    </tr>\n  </tbody>\n</table>\n</div>"
     },
     "execution_count": 5,
     "metadata": {},
     "output_type": "execute_result"
    }
   ],
   "source": [
    "print('Downloading TAS Sensitive List from ALA')\n",
    "prodListUrl = \"https://lists.ala.org.au/ws/speciesListItems/\" + \"dr491\" + \"?max=10000&includeKVP=true\"\n",
    "sensitivelist = lf.download_ala_list(prodListUrl)\n",
    "sensitivelist = sensitivelist[['scientificName', 'commonName']]\n",
    "sensitivelist['generalisation'] = '10 km'\n",
    "# generalisation for Lomatia is 'Withhold'\n",
    "sensitivelist.loc[sensitivelist['scientificName'] == 'Lomatia tasmanica', 'generalisation'] = 'Withold'\n",
    "sensitivelist"
   ],
   "metadata": {
    "collapsed": false,
    "pycharm": {
     "name": "#%%\n"
    }
   }
  },
  {
   "cell_type": "code",
   "execution_count": 6,
   "outputs": [
    {
     "data": {
      "text/plain": "          scientificName             commonName generalisation\n0      Lomatia tasmanica         King's Lomatia        Withold\n1  Prasophyllum taphanyx  Graveside Leek-orchid          10 km\n2     Caladenia vulgaris         Summer Fingers          10 km",
      "text/html": "<div>\n<style scoped>\n    .dataframe tbody tr th:only-of-type {\n        vertical-align: middle;\n    }\n\n    .dataframe tbody tr th {\n        vertical-align: top;\n    }\n\n    .dataframe thead th {\n        text-align: right;\n    }\n</style>\n<table border=\"1\" class=\"dataframe\">\n  <thead>\n    <tr style=\"text-align: right;\">\n      <th></th>\n      <th>scientificName</th>\n      <th>commonName</th>\n      <th>generalisation</th>\n    </tr>\n  </thead>\n  <tbody>\n    <tr>\n      <th>0</th>\n      <td>Lomatia tasmanica</td>\n      <td>King's Lomatia</td>\n      <td>Withold</td>\n    </tr>\n    <tr>\n      <th>1</th>\n      <td>Prasophyllum taphanyx</td>\n      <td>Graveside Leek-orchid</td>\n      <td>10 km</td>\n    </tr>\n    <tr>\n      <th>2</th>\n      <td>Caladenia vulgaris</td>\n      <td>Summer Fingers</td>\n      <td>10 km</td>\n    </tr>\n  </tbody>\n</table>\n</div>"
     },
     "execution_count": 6,
     "metadata": {},
     "output_type": "execute_result"
    }
   ],
   "source": [
    "# Adding 2 new species\n",
    "# newrow1 = {'scientificName': 'Prasophyllum taphanyx'}\n",
    "# newrow2 = {'scientificName': 'Caladenia vulgaris var. nunguensis'}\n",
    "# sensitivelist = sensitivelist.append(newrow1, ignore_index=True)\n",
    "# sensitivelist = sensitivelist.append(newrow2, ignore_index=True)\n",
    "sensitivelist"
   ],
   "metadata": {
    "collapsed": false,
    "pycharm": {
     "name": "#%%\n"
    }
   }
  },
  {
   "cell_type": "code",
   "execution_count": 7,
   "outputs": [
    {
     "name": "stdout",
     "output_type": "stream",
     "text": [
      "Writing to CSV\n"
     ]
    }
   ],
   "source": [
    "print('Writing to CSV')\n",
    "sensitivelist.to_csv(projectDir + sdataDir + \"TAS-sensitive.csv\", encoding=\"UTF-8\", index=False)"
   ],
   "metadata": {
    "collapsed": false,
    "pycharm": {
     "name": "#%%\n"
    }
   }
  },
  {
   "cell_type": "markdown",
   "source": [
    "# Manual List check\n",
    "\n",
    "**Instructions**\n",
    "1. Load the lists above into the lists-test tool\n",
    "2. Check the list name matching score and the text appearance on species pages\n",
    "3. Unskip the below code and Run the reports below to compare to production. Send the changelog.csv to check. Correct any issues.\n",
    "4. Save the production list into the `historical lists` directory by uncommenting the code section below.\n",
    "5. Load the lists into production"
   ],
   "metadata": {
    "collapsed": false,
    "pycharm": {
     "name": "#%% md\n"
    }
   }
  },
  {
   "cell_type": "markdown",
   "source": [
    "### Conservation List - Download old and new and compare"
   ],
   "metadata": {
    "collapsed": false,
    "pycharm": {
     "name": "#%% md\n"
    }
   }
  },
  {
   "cell_type": "code",
   "execution_count": null,
   "outputs": [],
   "source": [
    "# %%script echo skipping # comment this line to run this code\n",
    "\n",
    "import datetime\n",
    "monthStr = datetime.datetime.now().strftime('%Y%m')\n",
    "ltype = \"C\"\n",
    "# conservation\n",
    "filename = \"TAS-conservation.csv\"\n",
    "prodListUrl = \"https://lists.ala.org.au/ws/speciesListItems/\" + \"dr654\" + \"?max=10000&includeKVP=true\"\n",
    "testListUrl = \"https://lists-test.ala.org.au/ws/speciesListItems/\" + \"dr654\" + \"?max=10000&includeKVP=true\"\n",
    "changelist = lf.get_changelist(testListUrl, prodListUrl, ltype)\n",
    "# save the lists locally\n",
    "changelist.to_csv(projectDir + \"analysis/change-log/\" + monthStr + \"-\" + filename, encoding=\"UTF-8\", index=False)\n",
    "\n",
    "changelist"
   ],
   "metadata": {
    "collapsed": false,
    "pycharm": {
     "name": "#%%\n"
    }
   }
  },
  {
   "cell_type": "markdown",
   "source": [
    "### Download Production lists to Historical Lists directory"
   ],
   "metadata": {
    "collapsed": false,
    "pycharm": {
     "name": "#%% md\n"
    }
   }
  },
  {
   "cell_type": "code",
   "execution_count": null,
   "outputs": [],
   "source": [
    "%%script echo skipping # comment this line to do a list check between test and production and save the changelog\n",
    "\n",
    "prodList = lf.download_ala_list(prodListUrl)  # save the prod list to the historical lists directory\n",
    "prodList = lf.kvp_to_columns(prodList)\n",
    "prodList.to_csv(projectDir + \"historical-lists/conservation/\" + filename, encoding=\"UTF-8\", index=False)\n",
    "print('Finished downloading historical list')"
   ],
   "metadata": {
    "collapsed": false,
    "pycharm": {
     "name": "#%%\n"
    }
   }
  },
  {
   "cell_type": "markdown",
   "source": [
    "### Sensitive List - Download old and new and compare\n",
    "### not currently in lists-test"
   ],
   "metadata": {
    "collapsed": false,
    "pycharm": {
     "name": "#%% md\n"
    }
   }
  },
  {
   "cell_type": "code",
   "execution_count": null,
   "outputs": [],
   "source": [
    "%%script echo skipping # comment this line to run this code\n",
    "\n",
    "import datetime\n",
    "monthStr = datetime.datetime.now().strftime('%Y%m')\n",
    "ltype = \"S\"\n",
    "# conservation\n",
    "filename = \"TAS-sensitive.csv\"\n",
    "prodListUrl = \"https://lists.ala.org.au/ws/speciesListItems/\" + \"dr491\" + \"?max=10000&includeKVP=true\"\n",
    "# testListUrl = \"https://lists-test.ala.org.au/ws/speciesListItems/\" + \"dr2627\" + \"?max=10000&includeKVP=true\"\n",
    "changelist = lf.get_changelist(testListUrl, prodListUrl, ltype)\n",
    "# save the lists locally\n",
    "changelist.to_csv(projectDir + \"analysis/change-log/\" + monthStr + \"-\" + filename, encoding=\"UTF-8\", index=False)\n",
    "\n",
    "changelist"
   ],
   "metadata": {
    "collapsed": false,
    "pycharm": {
     "name": "#%%\n"
    }
   }
  },
  {
   "cell_type": "markdown",
   "source": [
    "### Download Production lists to Historical Lists directory"
   ],
   "metadata": {
    "collapsed": false,
    "pycharm": {
     "name": "#%% md\n"
    }
   }
  },
  {
   "cell_type": "code",
   "execution_count": null,
   "outputs": [],
   "source": [
    "%%script echo skipping # comment this line to do a list check between test and production and save the changelog\n",
    "\n",
    "prodList = lf.download_ala_list(prodListUrl)  # save the prod list to the historical lists directory\n",
    "prodList = lf.kvp_to_columns(prodList)\n",
    "prodList.to_csv(projectDir + \"historical-lists/sensitive/\" + filename, encoding=\"UTF-8\", index=False)\n",
    "print('Finished downloading historical list')"
   ],
   "metadata": {
    "collapsed": false,
    "pycharm": {
     "name": "#%%\n"
    }
   }
  }
 ],
 "metadata": {
  "kernelspec": {
   "display_name": "Python 3",
   "language": "python",
   "name": "python3"
  },
  "language_info": {
   "codemirror_mode": {
    "name": "ipython",
    "version": 2
   },
   "file_extension": ".py",
   "mimetype": "text/x-python",
   "name": "python",
   "nbconvert_exporter": "python",
   "pygments_lexer": "ipython2",
   "version": "2.7.6"
  }
 },
 "nbformat": 4,
 "nbformat_minor": 0
}