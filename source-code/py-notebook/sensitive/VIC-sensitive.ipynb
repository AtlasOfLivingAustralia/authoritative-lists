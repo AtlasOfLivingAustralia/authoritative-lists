{
 "cells": [
  {
   "cell_type": "markdown",
   "source": [],
   "metadata": {
    "collapsed": false,
    "pycharm": {
     "name": "#%% md\n"
    }
   }
  },
  {
   "cell_type": "code",
   "execution_count": 10,
   "outputs": [],
   "source": [
    "import pandas as pd\n",
    "import sys\n",
    "import os\n",
    "import datetime\n",
    "\n",
    "# projectDir = \"/Users/new330/IdeaProjects/authoritative-lists/\"\n",
    "projectDir = \"/Users/oco115/PycharmProjects/authoritative-lists/\"\n",
    "statusDir = projectDir + \"source-data/status-codes/\"\n",
    "sys.path.append(os.path.abspath(projectDir + \"source-code/includes\"))\n",
    "monthStr = datetime.datetime.now().strftime('%Y%m')\n",
    "\n",
    "sdataDir = \"current-lists/sensitive-lists/\"\n",
    "vicchecklisturl = \"https://vba.dse.vic.gov.au/vba/downloadVSC.do\" # gets a csv\n",
    "vicchecklist = pd.read_csv(projectDir + \"source-data/VIC/Species-Checklist.csv\",encoding='cp1252')"
   ],
   "metadata": {
    "collapsed": false,
    "pycharm": {
     "name": "#%%\n"
    }
   }
  },
  {
   "cell_type": "markdown",
   "source": [
    "# Extract and format initial list\n",
    "1. Drop non-required columns\n",
    "2. Rename columns for Darwin Core list terms\n",
    "3. Assign additional required list fields"
   ],
   "metadata": {
    "collapsed": false,
    "pycharm": {
     "name": "#%% md\n"
    }
   }
  },
  {
   "cell_type": "code",
   "source": [
    "vicchecklist['LAST_MOD'].drop_duplicates().sort_values()"
   ],
   "metadata": {
    "collapsed": false,
    "pycharm": {
     "name": "#%%\n"
    }
   },
   "execution_count": 11,
   "outputs": [
    {
     "data": {
      "text/plain": "22182    01/01/2010\n10432    01/02/2012\n11265    01/02/2018\n12493    01/02/2021\n18298    01/03/2017\n            ...    \n13112    31/10/2016\n159      31/10/2017\n10501    31/10/2018\n11206    31/10/2020\n15567    31/10/2022\nName: LAST_MOD, Length: 899, dtype: object"
     },
     "execution_count": 11,
     "metadata": {},
     "output_type": "execute_result"
    }
   ]
  },
  {
   "cell_type": "markdown",
   "source": [
    "# Split out sensitive list"
   ],
   "metadata": {
    "collapsed": false,
    "pycharm": {
     "name": "#%% md\n"
    }
   }
  },
  {
   "cell_type": "code",
   "execution_count": 12,
   "outputs": [
    {
     "data": {
      "text/plain": "                        0\nsensitive list count  136",
      "text/html": "<div>\n<style scoped>\n    .dataframe tbody tr th:only-of-type {\n        vertical-align: middle;\n    }\n\n    .dataframe tbody tr th {\n        vertical-align: top;\n    }\n\n    .dataframe thead th {\n        text-align: right;\n    }\n</style>\n<table border=\"1\" class=\"dataframe\">\n  <thead>\n    <tr style=\"text-align: right;\">\n      <th></th>\n      <th>0</th>\n    </tr>\n  </thead>\n  <tbody>\n    <tr>\n      <th>sensitive list count</th>\n      <td>136</td>\n    </tr>\n  </tbody>\n</table>\n</div>"
     },
     "execution_count": 12,
     "metadata": {},
     "output_type": "execute_result"
    }
   ],
   "source": [
    "sensitivelist = vicchecklist[vicchecklist['RESTRICTED_FLAG'].notna()]\n",
    "d = {'sensitive list count': [len(sensitivelist.index)]}\n",
    "pd.DataFrame(d).transpose()"
   ],
   "metadata": {
    "collapsed": false,
    "pycharm": {
     "name": "#%%\n"
    }
   }
  },
  {
   "cell_type": "markdown",
   "source": [
    "## Process Sensitive List"
   ],
   "metadata": {
    "collapsed": false,
    "pycharm": {
     "name": "#%% md\n"
    }
   }
  },
  {
   "cell_type": "code",
   "execution_count": null,
   "outputs": [],
   "source": [
    "sensitivelist = sensitivelist[['SCIENTIFIC_NAME', 'COMMON_NAME']]\n",
    "sensitivelist = sensitivelist.rename(columns={'SCIENTIFIC_NAME':'scientificName','COMMON_NAME':'vernacularName'})\n",
    "sensitivelist['generalisation'] = \"1 km\"\n",
    "sensitivelist['category'] = \"EN\""
   ],
   "metadata": {
    "collapsed": false,
    "pycharm": {
     "name": "#%%\n"
    }
   }
  },
  {
   "cell_type": "code",
   "execution_count": 15,
   "outputs": [
    {
     "data": {
      "text/plain": "               scientificName                  vernacularName generalisation  \\\n60          Engaeus australis  Lilly Pilly Burrowing Crayfish           1 km   \n64            Engaeus fultoni        Otway Burrowing Crayfish           1 km   \n69         Engaeus mallacoota   Mallacoota Burrowing Crayfish           1 km   \n72       Engaeus phyllocercus     Narracan Burrowing Crayfish           1 km   \n74     Engaeus rostrogaleatus   Strzelecki Burrowing Crayfish           1 km   \n...                       ...                             ...            ...   \n27948  Synamphisopus ambiguus               freshwater isopod           1 km   \n27949     Synamphisopus doegi               freshwater isopod           1 km   \n28374      Varanus rosenbergi              Rosenberg's Goanna           1 km   \n28396     Vermicella annulata                     Bandy Bandy           1 km   \n28405    Victaphanta compacta               Otway Black Snail           1 km   \n\n      category  \n60          EN  \n64          EN  \n69          EN  \n72          EN  \n74          EN  \n...        ...  \n27948       EN  \n27949       EN  \n28374       EN  \n28396       EN  \n28405       EN  \n\n[136 rows x 4 columns]",
      "text/html": "<div>\n<style scoped>\n    .dataframe tbody tr th:only-of-type {\n        vertical-align: middle;\n    }\n\n    .dataframe tbody tr th {\n        vertical-align: top;\n    }\n\n    .dataframe thead th {\n        text-align: right;\n    }\n</style>\n<table border=\"1\" class=\"dataframe\">\n  <thead>\n    <tr style=\"text-align: right;\">\n      <th></th>\n      <th>scientificName</th>\n      <th>vernacularName</th>\n      <th>generalisation</th>\n      <th>category</th>\n    </tr>\n  </thead>\n  <tbody>\n    <tr>\n      <th>60</th>\n      <td>Engaeus australis</td>\n      <td>Lilly Pilly Burrowing Crayfish</td>\n      <td>1 km</td>\n      <td>EN</td>\n    </tr>\n    <tr>\n      <th>64</th>\n      <td>Engaeus fultoni</td>\n      <td>Otway Burrowing Crayfish</td>\n      <td>1 km</td>\n      <td>EN</td>\n    </tr>\n    <tr>\n      <th>69</th>\n      <td>Engaeus mallacoota</td>\n      <td>Mallacoota Burrowing Crayfish</td>\n      <td>1 km</td>\n      <td>EN</td>\n    </tr>\n    <tr>\n      <th>72</th>\n      <td>Engaeus phyllocercus</td>\n      <td>Narracan Burrowing Crayfish</td>\n      <td>1 km</td>\n      <td>EN</td>\n    </tr>\n    <tr>\n      <th>74</th>\n      <td>Engaeus rostrogaleatus</td>\n      <td>Strzelecki Burrowing Crayfish</td>\n      <td>1 km</td>\n      <td>EN</td>\n    </tr>\n    <tr>\n      <th>...</th>\n      <td>...</td>\n      <td>...</td>\n      <td>...</td>\n      <td>...</td>\n    </tr>\n    <tr>\n      <th>27948</th>\n      <td>Synamphisopus ambiguus</td>\n      <td>freshwater isopod</td>\n      <td>1 km</td>\n      <td>EN</td>\n    </tr>\n    <tr>\n      <th>27949</th>\n      <td>Synamphisopus doegi</td>\n      <td>freshwater isopod</td>\n      <td>1 km</td>\n      <td>EN</td>\n    </tr>\n    <tr>\n      <th>28374</th>\n      <td>Varanus rosenbergi</td>\n      <td>Rosenberg's Goanna</td>\n      <td>1 km</td>\n      <td>EN</td>\n    </tr>\n    <tr>\n      <th>28396</th>\n      <td>Vermicella annulata</td>\n      <td>Bandy Bandy</td>\n      <td>1 km</td>\n      <td>EN</td>\n    </tr>\n    <tr>\n      <th>28405</th>\n      <td>Victaphanta compacta</td>\n      <td>Otway Black Snail</td>\n      <td>1 km</td>\n      <td>EN</td>\n    </tr>\n  </tbody>\n</table>\n<p>136 rows × 4 columns</p>\n</div>"
     },
     "execution_count": 15,
     "metadata": {},
     "output_type": "execute_result"
    }
   ],
   "source": [
    "sensitivelist"
   ],
   "metadata": {
    "collapsed": false,
    "pycharm": {
     "name": "#%%\n"
    }
   }
  },
  {
   "cell_type": "code",
   "execution_count": null,
   "outputs": [],
   "source": [
    "dr = 'dr490'\n",
    "sensitivelist.to_csv(projectDir + sdataDir + 'VIC-' + dr + '-sensitive.csv',  encoding=\"UTF-8\", index=False)\n",
    "print('Finished writing VIC Sensitive list')"
   ],
   "metadata": {
    "collapsed": false,
    "pycharm": {
     "name": "#%%\n"
    }
   }
  },
  {
   "cell_type": "code",
   "execution_count": null,
   "outputs": [],
   "source": [
    "### Change logs"
   ],
   "metadata": {
    "collapsed": false,
    "pycharm": {
     "name": "#%%\n"
    }
   }
  },
  {
   "cell_type": "code",
   "execution_count": null,
   "outputs": [],
   "source": [
    "ltype = \"S\"\n",
    "changeDir = \"Monitoring/Change-logs/\"\n",
    "# VIC Sensitive\n",
    "print('VIC sensitive')\n",
    "filename = \"VIC-sensitive.csv\"\n",
    "testdr = \"dr18669\"\n",
    "proddr = \"dr490\"\n",
    "changelist = lf.get_changelist(testdr, proddr, ltype)\n",
    "changelist.to_csv(projectDir + changeDir + monthStr + \"-\" + filename, encoding=\"UTF-8\", index=False)\n",
    "print('Finished VIC sensitive')"
   ],
   "metadata": {
    "collapsed": false,
    "pycharm": {
     "name": "#%%\n"
    }
   }
  },
  {
   "cell_type": "code",
   "execution_count": null,
   "outputs": [],
   "source": [
    "# Sensitive Lists\n",
    "state= \"VIC\"\n",
    "filename = state + \"-\" + proddr + \"-sensitive.csv\"\n",
    "prodListUrl = \"https://lists.ala.org.au/ws/speciesListItems/\" + proddr + \"?max=10000&includeKVP=true\"\n",
    "prodList = lf.download_ala_list(prodListUrl)  # save the prod list to the historical lists directory\n",
    "prodList = lf.kvp_to_columns(prodList)\n",
    "prodList.to_csv(projectDir + \"historical-lists/sensitive/\" + filename, encoding=\"UTF-8\", index=False)\n",
    "print('Finished downloading sensitive historical list')"
   ],
   "metadata": {
    "collapsed": false,
    "pycharm": {
     "name": "#%%\n"
    }
   }
  }
 ],
 "metadata": {
  "kernelspec": {
   "display_name": "Python 3",
   "language": "python",
   "name": "python3"
  },
  "language_info": {
   "codemirror_mode": {
    "name": "ipython",
    "version": 2
   },
   "file_extension": ".py",
   "mimetype": "text/x-python",
   "name": "python",
   "nbconvert_exporter": "python",
   "pygments_lexer": "ipython2",
   "version": "2.7.6"
  }
 },
 "nbformat": 4,
 "nbformat_minor": 0
}