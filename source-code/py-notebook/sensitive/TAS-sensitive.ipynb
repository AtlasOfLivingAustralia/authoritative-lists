{
 "cells": [
  {
   "cell_type": "markdown",
   "source": [
    "# Tas Conservation List\n",
    "## List Identifiers\n",
    "* Sensitive list: __[dr654](https://lists.ala.org.au/speciesListItem/list/dr654)__ (and [dr654 in test](https://lists-test.ala.org.au/speciesListItem/list/dr654))\n",
    "* Collection: __[dr491](https://collections.ala.org.au/public/show/dr491)__\n",
    "\n",
    "## Source Data\n",
    "\n",
    "* __[Home page](https://nre.tas.gov.au/conservation/threatened-species-and-communities/lists-of-threatened-species/full-list-of-threatened-species)__\n",
    "* __[Data](https://nre.tas.gov.au/Documents/TasThreatenedSpecies.XLS)__\n",
    "\n",
    "**Metadata Description**\n",
    "\n",
    "Sensitive List: A list of \"restricted species\" was supplied directly by the Tasmanian Department of Primary Industries, Parks, Water and Environment. It is not currently available on the Department's web site. The Atlas Of Living Australia withholds latitude and longitude values in occurrence records for sensitive Tasmanian species. This applies to all Tasmanian occurrence records regardless of source. Reviewed: 2/5/2013 Galaxias Fontanus removed from list 24/6/2013 on notification from DPIPWE\n",
    "\n",
    "**Metadata URL**\n",
    "https://nre.tas.gov.au/conservation/threatened-species-and-communities/lists-of-threatened-species/full-list-of-threatened-species\n"
   ],
   "metadata": {
    "collapsed": false,
    "pycharm": {
     "name": "#%% md\n"
    }
   }
  },
  {
   "cell_type": "markdown",
   "source": [
    "Import libraries\n",
    "Set Project directories"
   ],
   "metadata": {
    "collapsed": false,
    "pycharm": {
     "name": "#%% md\n"
    }
   }
  },
  {
   "cell_type": "code",
   "execution_count": null,
   "outputs": [],
   "source": [
    "import pandas as pd\n",
    "import os\n",
    "import sys\n",
    "# top level directory\n",
    "projectDir = \"/Users/oco115/PycharmProjects/authoritative-lists/\"\n",
    "# projectDir = \"/Users/new330/IdeaProjects/authoritative-lists/\"\n",
    "statusDir = projectDir + \"source-data/status-codes/\"\n",
    "sys.path.append(os.path.abspath(projectDir + \"source-code/includes\"))\n",
    "\n",
    "import list_functions as lf\n",
    "sdataDir = \"current-lists/sensitive-lists/\""
   ],
   "metadata": {
    "collapsed": false,
    "pycharm": {
     "name": "#%%\n"
    }
   }
  },
  {
   "cell_type": "markdown",
   "source": [
    "## Sensitive List update\n",
    "## Update 2022-02-21 - adding 2 species to existing list"
   ],
   "metadata": {
    "collapsed": false,
    "pycharm": {
     "name": "#%% md\n"
    }
   }
  },
  {
   "cell_type": "code",
   "execution_count": 37,
   "outputs": [
    {
     "name": "stdout",
     "output_type": "stream",
     "text": [
      "Downloading TAS Sensitive List from ALA\n",
      "download_ala_list:  https://lists.ala.org.au/ws/speciesListItems/dr491?max=10000&includeKVP=true\n"
     ]
    }
   ],
   "source": [
    "print('Downloading TAS Sensitive List from ALA')\n",
    "prodListUrl = \"https://lists.ala.org.au/ws/speciesListItems/\" + \"dr491\" + \"?max=10000&includeKVP=true\"\n",
    "sensitivelist = lf.download_ala_specieslist(prodListUrl)"
   ],
   "metadata": {
    "collapsed": false,
    "pycharm": {
     "name": "#%%\n"
    }
   }
  },
  {
   "cell_type": "code",
   "execution_count": 38,
   "outputs": [
    {
     "data": {
      "text/plain": "Index(['id', 'name', 'commonName', 'scientificName', 'lsid', 'dataResourceUid',\n       'kvpValues'],\n      dtype='object')"
     },
     "execution_count": 38,
     "metadata": {},
     "output_type": "execute_result"
    }
   ],
   "source": [
    "sensitivelist.columns"
   ],
   "metadata": {
    "collapsed": false,
    "pycharm": {
     "name": "#%%\n"
    }
   }
  },
  {
   "cell_type": "code",
   "execution_count": 39,
   "outputs": [
    {
     "data": {
      "text/plain": "          scientificName             commonName generalisation\n0      Lomatia tasmanica         King's Lomatia        Withold\n1  Prasophyllum taphanyx  Graveside Leek-orchid          10 km\n2     Caladenia vulgaris         Summer Fingers          10 km",
      "text/html": "<div>\n<style scoped>\n    .dataframe tbody tr th:only-of-type {\n        vertical-align: middle;\n    }\n\n    .dataframe tbody tr th {\n        vertical-align: top;\n    }\n\n    .dataframe thead th {\n        text-align: right;\n    }\n</style>\n<table border=\"1\" class=\"dataframe\">\n  <thead>\n    <tr style=\"text-align: right;\">\n      <th></th>\n      <th>scientificName</th>\n      <th>commonName</th>\n      <th>generalisation</th>\n    </tr>\n  </thead>\n  <tbody>\n    <tr>\n      <th>0</th>\n      <td>Lomatia tasmanica</td>\n      <td>King's Lomatia</td>\n      <td>Withold</td>\n    </tr>\n    <tr>\n      <th>1</th>\n      <td>Prasophyllum taphanyx</td>\n      <td>Graveside Leek-orchid</td>\n      <td>10 km</td>\n    </tr>\n    <tr>\n      <th>2</th>\n      <td>Caladenia vulgaris</td>\n      <td>Summer Fingers</td>\n      <td>10 km</td>\n    </tr>\n  </tbody>\n</table>\n</div>"
     },
     "execution_count": 39,
     "metadata": {},
     "output_type": "execute_result"
    }
   ],
   "source": [
    "sensitivelist = sensitivelist[['scientificName', 'commonName']]\n",
    "sensitivelist['generalisation'] = '10 km'\n",
    "# generalisation for Lomatia is 'Withhold'\n",
    "sensitivelist.loc[sensitivelist['scientificName'] == 'Lomatia tasmanica', 'generalisation'] = 'Withold'\n",
    "sensitivelist"
   ],
   "metadata": {
    "collapsed": false,
    "pycharm": {
     "name": "#%%\n"
    }
   }
  },
  {
   "cell_type": "code",
   "execution_count": 6,
   "outputs": [
    {
     "data": {
      "text/plain": "          scientificName             commonName generalisation\n0      Lomatia tasmanica         King's Lomatia        Withold\n1  Prasophyllum taphanyx  Graveside Leek-orchid          10 km\n2     Caladenia vulgaris         Summer Fingers          10 km",
      "text/html": "<div>\n<style scoped>\n    .dataframe tbody tr th:only-of-type {\n        vertical-align: middle;\n    }\n\n    .dataframe tbody tr th {\n        vertical-align: top;\n    }\n\n    .dataframe thead th {\n        text-align: right;\n    }\n</style>\n<table border=\"1\" class=\"dataframe\">\n  <thead>\n    <tr style=\"text-align: right;\">\n      <th></th>\n      <th>scientificName</th>\n      <th>commonName</th>\n      <th>generalisation</th>\n    </tr>\n  </thead>\n  <tbody>\n    <tr>\n      <th>0</th>\n      <td>Lomatia tasmanica</td>\n      <td>King's Lomatia</td>\n      <td>Withold</td>\n    </tr>\n    <tr>\n      <th>1</th>\n      <td>Prasophyllum taphanyx</td>\n      <td>Graveside Leek-orchid</td>\n      <td>10 km</td>\n    </tr>\n    <tr>\n      <th>2</th>\n      <td>Caladenia vulgaris</td>\n      <td>Summer Fingers</td>\n      <td>10 km</td>\n    </tr>\n  </tbody>\n</table>\n</div>"
     },
     "execution_count": 6,
     "metadata": {},
     "output_type": "execute_result"
    }
   ],
   "source": [
    "# Adding 2 new species\n",
    "# newrow1 = {'scientificName': 'Prasophyllum taphanyx'}\n",
    "# newrow2 = {'scientificName': 'Caladenia vulgaris var. nunguensis'}\n",
    "# sensitivelist = sensitivelist.append(newrow1, ignore_index=True)\n",
    "# sensitivelist = sensitivelist.append(newrow2, ignore_index=True)\n",
    "sensitivelist"
   ],
   "metadata": {
    "collapsed": false,
    "pycharm": {
     "name": "#%%\n"
    }
   }
  },
  {
   "cell_type": "code",
   "execution_count": 40,
   "outputs": [
    {
     "name": "stdout",
     "output_type": "stream",
     "text": [
      "Writing to CSV\n"
     ]
    }
   ],
   "source": [
    "print('Writing to CSV')\n",
    "sensitivelist.to_csv(projectDir + sdataDir + \"TAS-sensitive-20230601.csv\", encoding=\"UTF-8\", index=False)\n",
    "print(\"Finished writing TAS Sensitive list\")"
   ],
   "metadata": {
    "collapsed": false,
    "pycharm": {
     "name": "#%%\n"
    }
   }
  }
 ],
 "metadata": {
  "kernelspec": {
   "display_name": "Python 3",
   "language": "python",
   "name": "python3"
  },
  "language_info": {
   "codemirror_mode": {
    "name": "ipython",
    "version": 2
   },
   "file_extension": ".py",
   "mimetype": "text/x-python",
   "name": "python",
   "nbconvert_exporter": "python",
   "pygments_lexer": "ipython2",
   "version": "2.7.6"
  }
 },
 "nbformat": 4,
 "nbformat_minor": 0
}