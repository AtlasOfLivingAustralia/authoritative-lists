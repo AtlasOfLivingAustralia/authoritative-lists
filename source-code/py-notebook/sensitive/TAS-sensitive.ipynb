{
 "cells": [
  {
   "cell_type": "markdown",
   "source": [],
   "metadata": {
    "collapsed": false,
    "pycharm": {
     "name": "#%% md\n"
    }
   }
  },
  {
   "cell_type": "markdown",
   "source": [
    "Import libraries\n",
    "Set Project directories"
   ],
   "metadata": {
    "collapsed": false,
    "pycharm": {
     "name": "#%% md\n"
    }
   }
  },
  {
   "cell_type": "code",
   "execution_count": 13,
   "outputs": [],
   "source": [
    "import pandas as pd\n",
    "import os\n",
    "import sys\n",
    "import datetime\n",
    "\n",
    "# top level directory\n",
    "projectDir = \"/Users/oco115/PycharmProjects/authoritative-lists/\"\n",
    "# projectDir = \"/Users/new330/IdeaProjects/authoritative-lists/\"\n",
    "statusDir = projectDir + \"source-data/status-codes/\"\n",
    "sys.path.append(os.path.abspath(projectDir + \"source-code/includes\"))\n",
    "monthStr = datetime.datetime.now().strftime('%Y%m')\n",
    "\n",
    "import list_functions as lf\n",
    "sdataDir = \"current-lists/sensitive-lists/\""
   ],
   "metadata": {
    "collapsed": false,
    "pycharm": {
     "name": "#%%\n"
    }
   }
  },
  {
   "cell_type": "markdown",
   "source": [
    "## Sensitive List update\n",
    "## Update 2022-02-21 - adding 2 species to existing list"
   ],
   "metadata": {
    "collapsed": false,
    "pycharm": {
     "name": "#%% md\n"
    }
   }
  },
  {
   "cell_type": "code",
   "execution_count": 14,
   "outputs": [
    {
     "name": "stdout",
     "output_type": "stream",
     "text": [
      "Downloading TAS Sensitive List from ALA\n",
      "download_ala_list:  https://lists.ala.org.au/ws/speciesListItems/dr491?max=10000&includeKVP=true\n"
     ]
    }
   ],
   "source": [
    "print('Downloading TAS Sensitive List from ALA')\n",
    "prodListUrl = \"https://lists.ala.org.au/ws/speciesListItems/\" + \"dr491\" + \"?max=10000&includeKVP=true\"\n",
    "sensitivelist = lf.download_ala_specieslist(prodListUrl)"
   ],
   "metadata": {
    "collapsed": false,
    "pycharm": {
     "name": "#%%\n"
    }
   }
  },
  {
   "cell_type": "code",
   "execution_count": 9,
   "outputs": [
    {
     "data": {
      "text/plain": "Index(['id', 'name', 'commonName', 'scientificName', 'lsid', 'dataResourceUid',\n       'kvpValues'],\n      dtype='object')"
     },
     "execution_count": 9,
     "metadata": {},
     "output_type": "execute_result"
    }
   ],
   "source": [
    "sensitivelist.columns"
   ],
   "metadata": {
    "collapsed": false,
    "pycharm": {
     "name": "#%%\n"
    }
   }
  },
  {
   "cell_type": "code",
   "execution_count": 15,
   "outputs": [
    {
     "data": {
      "text/plain": "          scientificName             commonName generalisation category\n0      Lomatia tasmanica         King's Lomatia       WITHHOLD       EN\n1  Prasophyllum taphanyx  Graveside Leek-orchid          10 km       EN\n2     Caladenia vulgaris         Summer Fingers          10 km       EN",
      "text/html": "<div>\n<style scoped>\n    .dataframe tbody tr th:only-of-type {\n        vertical-align: middle;\n    }\n\n    .dataframe tbody tr th {\n        vertical-align: top;\n    }\n\n    .dataframe thead th {\n        text-align: right;\n    }\n</style>\n<table border=\"1\" class=\"dataframe\">\n  <thead>\n    <tr style=\"text-align: right;\">\n      <th></th>\n      <th>scientificName</th>\n      <th>commonName</th>\n      <th>generalisation</th>\n      <th>category</th>\n    </tr>\n  </thead>\n  <tbody>\n    <tr>\n      <th>0</th>\n      <td>Lomatia tasmanica</td>\n      <td>King's Lomatia</td>\n      <td>WITHHOLD</td>\n      <td>EN</td>\n    </tr>\n    <tr>\n      <th>1</th>\n      <td>Prasophyllum taphanyx</td>\n      <td>Graveside Leek-orchid</td>\n      <td>10 km</td>\n      <td>EN</td>\n    </tr>\n    <tr>\n      <th>2</th>\n      <td>Caladenia vulgaris</td>\n      <td>Summer Fingers</td>\n      <td>10 km</td>\n      <td>EN</td>\n    </tr>\n  </tbody>\n</table>\n</div>"
     },
     "execution_count": 15,
     "metadata": {},
     "output_type": "execute_result"
    }
   ],
   "source": [
    "sensitivelist = sensitivelist[['scientificName', 'commonName']]\n",
    "sensitivelist['generalisation'] = '10 km'\n",
    "sensitivelist['category'] = 'EN'\n",
    "# generalisation for Lomatia is 'Withhold'\n",
    "sensitivelist.loc[sensitivelist['scientificName'] == 'Lomatia tasmanica', 'generalisation'] = 'WITHHOLD'\n",
    "sensitivelist"
   ],
   "metadata": {
    "collapsed": false,
    "pycharm": {
     "name": "#%%\n"
    }
   }
  },
  {
   "cell_type": "code",
   "execution_count": 16,
   "outputs": [
    {
     "data": {
      "text/plain": "          scientificName             commonName generalisation category\n0      Lomatia tasmanica         King's Lomatia       WITHHOLD       EN\n1  Prasophyllum taphanyx  Graveside Leek-orchid          10 km       EN\n2     Caladenia vulgaris         Summer Fingers          10 km       EN",
      "text/html": "<div>\n<style scoped>\n    .dataframe tbody tr th:only-of-type {\n        vertical-align: middle;\n    }\n\n    .dataframe tbody tr th {\n        vertical-align: top;\n    }\n\n    .dataframe thead th {\n        text-align: right;\n    }\n</style>\n<table border=\"1\" class=\"dataframe\">\n  <thead>\n    <tr style=\"text-align: right;\">\n      <th></th>\n      <th>scientificName</th>\n      <th>commonName</th>\n      <th>generalisation</th>\n      <th>category</th>\n    </tr>\n  </thead>\n  <tbody>\n    <tr>\n      <th>0</th>\n      <td>Lomatia tasmanica</td>\n      <td>King's Lomatia</td>\n      <td>WITHHOLD</td>\n      <td>EN</td>\n    </tr>\n    <tr>\n      <th>1</th>\n      <td>Prasophyllum taphanyx</td>\n      <td>Graveside Leek-orchid</td>\n      <td>10 km</td>\n      <td>EN</td>\n    </tr>\n    <tr>\n      <th>2</th>\n      <td>Caladenia vulgaris</td>\n      <td>Summer Fingers</td>\n      <td>10 km</td>\n      <td>EN</td>\n    </tr>\n  </tbody>\n</table>\n</div>"
     },
     "execution_count": 16,
     "metadata": {},
     "output_type": "execute_result"
    }
   ],
   "source": [
    "# Adding 2 new species\n",
    "# newrow1 = {'scientificName': 'Prasophyllum taphanyx'}\n",
    "# newrow2 = {'scientificName': 'Caladenia vulgaris var. nunguensis'}\n",
    "# sensitivelist = sensitivelist.append(newrow1, ignore_index=True)\n",
    "# sensitivelist = sensitivelist.append(newrow2, ignore_index=True)\n",
    "sensitivelist"
   ],
   "metadata": {
    "collapsed": false,
    "pycharm": {
     "name": "#%%\n"
    }
   }
  },
  {
   "cell_type": "code",
   "execution_count": null,
   "outputs": [],
   "source": [
    "print('Writing to CSV')\n",
    "dr = 'dr491'\n",
    "sensitivelist.to_csv(projectDir + sdataDir + 'TAS-' + dr + '-sensitive.csv', encoding=\"UTF-8\", index=False)\n",
    "print(\"Finished writing TAS Sensitive list\")"
   ],
   "metadata": {
    "collapsed": false,
    "pycharm": {
     "name": "#%%\n"
    }
   }
  },
  {
   "cell_type": "code",
   "execution_count": null,
   "outputs": [],
   "source": [
    "### Change logs"
   ],
   "metadata": {
    "collapsed": false,
    "pycharm": {
     "name": "#%%\n"
    }
   }
  },
  {
   "cell_type": "code",
   "execution_count": null,
   "outputs": [],
   "source": [
    "ltype = \"S\"\n",
    "changeDir = \"Monitoring/Change-logs/\"\n",
    "# TAS Sensitive - not currently in Test\n",
    "print('TAS sensitive')\n",
    "filename = \"TAS-sensitive.csv\"\n",
    "testdr = \"dr18692\"\n",
    "proddr = \"dr491\"\n",
    "changelist = lf.get_changelist(testdr, proddr, ltype)\n",
    "changelist.to_csv(projectDir + changeDir + monthStr + \"-\" + filename, encoding=\"UTF-8\", index=False)\n",
    "print('Finished TAS sensitive')"
   ],
   "metadata": {
    "collapsed": false,
    "pycharm": {
     "name": "#%%\n"
    }
   }
  },
  {
   "cell_type": "code",
   "execution_count": null,
   "outputs": [],
   "source": [
    "# Sensitive Lists\n",
    "state= \"TAS\"\n",
    "filename = state + \"-\" + proddr + \"-sensitive.csv\"\n",
    "prodListUrl = \"https://lists.ala.org.au/ws/speciesListItems/\" + proddr + \"?max=10000&includeKVP=true\"\n",
    "prodList = lf.download_ala_list(prodListUrl)  # save the prod list to the historical lists directory\n",
    "prodList = lf.kvp_to_columns(prodList)\n",
    "prodList.to_csv(projectDir + \"historical-lists/sensitive/\" + filename, encoding=\"UTF-8\", index=False)\n",
    "print('Finished downloading sensitive historical list')"
   ],
   "metadata": {
    "collapsed": false,
    "pycharm": {
     "name": "#%%\n"
    }
   }
  }
 ],
 "metadata": {
  "kernelspec": {
   "display_name": "Python 3",
   "language": "python",
   "name": "python3"
  },
  "language_info": {
   "codemirror_mode": {
    "name": "ipython",
    "version": 2
   },
   "file_extension": ".py",
   "mimetype": "text/x-python",
   "name": "python",
   "nbconvert_exporter": "python",
   "pygments_lexer": "ipython2",
   "version": "2.7.6"
  }
 },
 "nbformat": 4,
 "nbformat_minor": 0
}