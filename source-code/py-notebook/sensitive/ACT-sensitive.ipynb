{
 "cells": [
  {
   "cell_type": "markdown",
   "source": [
    "# State Sensitive Status Species Lists - ACT\n",
    "\n",
    "This notebook downloads the ACT lists from the ACT Government Open Data Portal and readies them for ingestion into the ALA Lists tool. It will save original lists to the source-data/ACT directory, process the lists and save them to current-lists. The lists can be loaded into the lists-test environment then reviewed by following the instructions below.\n",
    "\n",
    "## Lists in the ALA Species List tool\n",
    "* Sensitive list: [dr2627](https://lists.ala.org.au/speciesListItem/list/dr2627) ([dr2627 in test](https://lists.ala.org.au/speciesListItem/list/dr2627))\n",
    "\n",
    "* Collection:  __[dr2627](https://collections.ala.org.au/public/show/dr2627)__\n",
    "\n",
    "## Sources\n",
    "\n",
    "Source:\n",
    "Metadata: https://www.data.act.gov.au/Environment/ACT-Nature-Conservation-Threatened-Native-Species-/9ikf-qahj\n",
    "Data: https://www.data.act.gov.au/resource/9ikf-qahj.json\n",
    "\n",
    "***Metadata summary***\n",
    "ACT Nature Conservation Threatened Native Species List. Species list adheres to the Darwin Core Standard. A species is threatened if it is likely to become extinct in the foreseeable future. The Nature Conservation Act 2014 (ACT) establishes a formal process for the identification and protection of threatened species and ecological communities. Ngunnawal species names created and endorsed by the Winnagaay Ngunnawal Language Group.\n",
    "\n",
    "***URL***\n",
    "https://www.data.act.gov.au/Environment/ACT-Nature-Conservation-Threatened-Native-Species-/9ikf-qahj\n",
    "https://dev.socrata.com/foundry/www.data.act.gov.au/9ikf-qahj/\n",
    "\n"
   ],
   "metadata": {
    "collapsed": false,
    "pycharm": {
     "name": "#%% md\n"
    }
   }
  },
  {
   "cell_type": "code",
   "execution_count": 1,
   "outputs": [],
   "source": [
    "# set up\n",
    "import pandas as pd\n",
    "import datetime\n",
    "import sys\n",
    "import os\n",
    "\n",
    "import os\n",
    "import os.path as path\n",
    "\n",
    "# top level directory\n",
    "projectDir = path.abspath(path.join(os.getcwd(),\"../../..\")) + \"/\"\n",
    "sourceDir = projectDir + \"source-data/act/\"\n",
    "sdataDir = \"current-lists/sensitive-lists/\"\n",
    "monthStr = datetime.datetime.now().strftime('%Y%m')\n",
    "\n",
    "sys.path.append(os.path.abspath(projectDir + \"source-code/includes\"))\n",
    "import list_functions as lf"
   ],
   "metadata": {
    "collapsed": false,
    "pycharm": {
     "name": "#%%\n"
    },
    "ExecuteTime": {
     "end_time": "2024-01-12T00:38:54.065786Z",
     "start_time": "2024-01-12T00:38:53.579345Z"
    }
   }
  },
  {
   "cell_type": "markdown",
   "source": [
    "# Sensitive List"
   ],
   "metadata": {
    "collapsed": false,
    "pycharm": {
     "name": "#%% md\n"
    }
   }
  },
  {
   "cell_type": "code",
   "execution_count": 2,
   "outputs": [
    {
     "data": {
      "text/plain": "    ACTTAXA_ID category subcategory                   scientificName  \\\n0          NaN     Bird         NaN              Anthochaera phrygia   \n1          NaN     Bird         NaN           Botaurus poiciloptilus   \n2          NaN     Bird         NaN         Callocephalon fimbriatum   \n3          NaN     Bird         NaN  Calyptorhynchus lathami lathami   \n4          NaN     Bird         NaN   Climacteris picumnus victoriae   \n..         ...      ...         ...                              ...   \n198        NaN  Reptile         NaN            Aprasia parapulchella   \n199        NaN  Reptile         NaN                      Delma impar   \n200        NaN  Reptile         NaN           Tympanocryptis lineata   \n201        NaN  Reptile         NaN       Tympanocryptis pinguicolla   \n202        NaN  Reptile         NaN               Varanus rosenbergi   \n\n    scientificNameAuthorship                     vernacularName  \\\n0               (Shaw, 1794)                  Regent Honeyeater   \n1             (Wagler, 1827)               Australasian Bittern   \n2              (Grant, 1803)                 Gang-gang Cockatoo   \n3           (Temminck, 1807)              Glossy Black-cockatoo   \n4              Mathews, 1912  Brown Treecreeper (south-eastern)   \n..                       ...                                ...   \n198              Kluge, 1974            Pink-tailed Worm-lizard   \n199          (Fischer, 1882)             Striped Legless Lizard   \n200             Peters, 1863  Canberra Grassland Earless Dragon   \n201           Mitchell, 1948           Grassland Earless Dragon   \n202            Mertens, 1957                Rosenberg's Monitor   \n\n       ngunnawalName                     synonym  \\\n0                NaN                         NaN   \n1                NaN                         NaN   \n2                NaN                         NaN   \n3                NaN     Calyptorhynchus lathami   \n4                NaN        Climacteris picumnus   \n..               ...                         ...   \n198        Banburung                         NaN   \n199  Narung or Gandi                         NaN   \n200        Bidjiwang  Tympanocryptis pinguicolla   \n201              NaN                         NaN   \n202              NaN                         NaN   \n\n                                     acceptedNameUsage speciesSensitivity  \\\n0                     Anthochaera (Xanthomyza) phrygia            Extreme   \n1                               Botaurus poiciloptilus          Sensitive   \n2                             Callocephalon fimbriatum          Sensitive   \n3    Calyptorhynchus (Calyptorhynchus) lathami lathami          Sensitive   \n4         Climacteris (Climacteris) picumnus victoriae          Sensitive   \n..                                                 ...                ...   \n198                              Aprasia parapulchella          Sensitive   \n199                                        Delma impar          Sensitive   \n200                             Tympanocryptis lineata            Extreme   \n201                             Tympanocryptis lineata            Extreme   \n202                                 Varanus rosenbergi          Sensitive   \n\n     ...           order         family            genus  \\\n0    ...   Passeriformes   Meliphagidae      Anthochaera   \n1    ...   Ciconiiformes       Ardeidae         Botaurus   \n2    ...  Psittaciformes     Cacatuidae    Callocephalon   \n3    ...  Psittaciformes     Cacatuidae  Calyptorhynchus   \n4    ...   Passeriformes  Climacteridae      Climacteris   \n..   ...             ...            ...              ...   \n198  ...        Squamata    Pygopodidae          Aprasia   \n199  ...        Squamata    Pygopodidae            Delma   \n200  ...        Squamata       Agamidae   Tympanocryptis   \n201  ...        Squamata       Agamidae   Tympanocryptis   \n202  ...        Squamata      Varanidae          Varanus   \n\n                                          taxonRemarks  conservationStatusACT  \\\n0                                                  NaN  Critically Endangered   \n1                                                  NaN             Endangered   \n2                                                  NaN                    NaN   \n3             only subspecies in ACT is subsp. lathami             Vulnerable   \n4           only subspecies in ACT is subsp. victoriae             Vulnerable   \n..                                                 ...                    ...   \n198                                                NaN             Vulnerable   \n199                                                NaN             Vulnerable   \n200  Recent taxonomic changes to the species, from ...             Endangered   \n201  in the ACT, Tympanocryptis pinguicolla is a ho...             Endangered   \n202                                                NaN                    NaN   \n\n     conservationStatusAUS                     authority  \\\n0    Critically Endangered  Nature Conservation Act 2014   \n1               Endangered  Nature Conservation Act 2014   \n2               Endangered                           NaN   \n3               Vulnerable  Nature Conservation Act 2014   \n4                      NaN  Nature Conservation Act 2014   \n..                     ...                           ...   \n198             Vulnerable  Nature Conservation Act 2014   \n199             Vulnerable  Nature Conservation Act 2014   \n200             Endangered  Nature Conservation Act 2014   \n201             Endangered  Nature Conservation Act 2014   \n202                    NaN                           NaN   \n\n                statusComment lastTaxaCheck invasive  \n0                         NaN     4/10/2022      NaN  \n1       ACT Migratory Species     4/10/2022      NaN  \n2    Protected Native Species     4/10/2022      NaN  \n3                         NaN     4/10/2022      NaN  \n4                         NaN     4/10/2022      NaN  \n..                        ...           ...      ...  \n198                       NaN     4/10/2022      NaN  \n199                       NaN     4/10/2022      NaN  \n200                       NaN     4/10/2022      NaN  \n201                       NaN     4/10/2022      NaN  \n202                       NaN     4/10/2022      NaN  \n\n[203 rows x 27 columns]",
      "text/html": "<div>\n<style scoped>\n    .dataframe tbody tr th:only-of-type {\n        vertical-align: middle;\n    }\n\n    .dataframe tbody tr th {\n        vertical-align: top;\n    }\n\n    .dataframe thead th {\n        text-align: right;\n    }\n</style>\n<table border=\"1\" class=\"dataframe\">\n  <thead>\n    <tr style=\"text-align: right;\">\n      <th></th>\n      <th>ACTTAXA_ID</th>\n      <th>category</th>\n      <th>subcategory</th>\n      <th>scientificName</th>\n      <th>scientificNameAuthorship</th>\n      <th>vernacularName</th>\n      <th>ngunnawalName</th>\n      <th>synonym</th>\n      <th>acceptedNameUsage</th>\n      <th>speciesSensitivity</th>\n      <th>...</th>\n      <th>order</th>\n      <th>family</th>\n      <th>genus</th>\n      <th>taxonRemarks</th>\n      <th>conservationStatusACT</th>\n      <th>conservationStatusAUS</th>\n      <th>authority</th>\n      <th>statusComment</th>\n      <th>lastTaxaCheck</th>\n      <th>invasive</th>\n    </tr>\n  </thead>\n  <tbody>\n    <tr>\n      <th>0</th>\n      <td>NaN</td>\n      <td>Bird</td>\n      <td>NaN</td>\n      <td>Anthochaera phrygia</td>\n      <td>(Shaw, 1794)</td>\n      <td>Regent Honeyeater</td>\n      <td>NaN</td>\n      <td>NaN</td>\n      <td>Anthochaera (Xanthomyza) phrygia</td>\n      <td>Extreme</td>\n      <td>...</td>\n      <td>Passeriformes</td>\n      <td>Meliphagidae</td>\n      <td>Anthochaera</td>\n      <td>NaN</td>\n      <td>Critically Endangered</td>\n      <td>Critically Endangered</td>\n      <td>Nature Conservation Act 2014</td>\n      <td>NaN</td>\n      <td>4/10/2022</td>\n      <td>NaN</td>\n    </tr>\n    <tr>\n      <th>1</th>\n      <td>NaN</td>\n      <td>Bird</td>\n      <td>NaN</td>\n      <td>Botaurus poiciloptilus</td>\n      <td>(Wagler, 1827)</td>\n      <td>Australasian Bittern</td>\n      <td>NaN</td>\n      <td>NaN</td>\n      <td>Botaurus poiciloptilus</td>\n      <td>Sensitive</td>\n      <td>...</td>\n      <td>Ciconiiformes</td>\n      <td>Ardeidae</td>\n      <td>Botaurus</td>\n      <td>NaN</td>\n      <td>Endangered</td>\n      <td>Endangered</td>\n      <td>Nature Conservation Act 2014</td>\n      <td>ACT Migratory Species</td>\n      <td>4/10/2022</td>\n      <td>NaN</td>\n    </tr>\n    <tr>\n      <th>2</th>\n      <td>NaN</td>\n      <td>Bird</td>\n      <td>NaN</td>\n      <td>Callocephalon fimbriatum</td>\n      <td>(Grant, 1803)</td>\n      <td>Gang-gang Cockatoo</td>\n      <td>NaN</td>\n      <td>NaN</td>\n      <td>Callocephalon fimbriatum</td>\n      <td>Sensitive</td>\n      <td>...</td>\n      <td>Psittaciformes</td>\n      <td>Cacatuidae</td>\n      <td>Callocephalon</td>\n      <td>NaN</td>\n      <td>NaN</td>\n      <td>Endangered</td>\n      <td>NaN</td>\n      <td>Protected Native Species</td>\n      <td>4/10/2022</td>\n      <td>NaN</td>\n    </tr>\n    <tr>\n      <th>3</th>\n      <td>NaN</td>\n      <td>Bird</td>\n      <td>NaN</td>\n      <td>Calyptorhynchus lathami lathami</td>\n      <td>(Temminck, 1807)</td>\n      <td>Glossy Black-cockatoo</td>\n      <td>NaN</td>\n      <td>Calyptorhynchus lathami</td>\n      <td>Calyptorhynchus (Calyptorhynchus) lathami lathami</td>\n      <td>Sensitive</td>\n      <td>...</td>\n      <td>Psittaciformes</td>\n      <td>Cacatuidae</td>\n      <td>Calyptorhynchus</td>\n      <td>only subspecies in ACT is subsp. lathami</td>\n      <td>Vulnerable</td>\n      <td>Vulnerable</td>\n      <td>Nature Conservation Act 2014</td>\n      <td>NaN</td>\n      <td>4/10/2022</td>\n      <td>NaN</td>\n    </tr>\n    <tr>\n      <th>4</th>\n      <td>NaN</td>\n      <td>Bird</td>\n      <td>NaN</td>\n      <td>Climacteris picumnus victoriae</td>\n      <td>Mathews, 1912</td>\n      <td>Brown Treecreeper (south-eastern)</td>\n      <td>NaN</td>\n      <td>Climacteris picumnus</td>\n      <td>Climacteris (Climacteris) picumnus victoriae</td>\n      <td>Sensitive</td>\n      <td>...</td>\n      <td>Passeriformes</td>\n      <td>Climacteridae</td>\n      <td>Climacteris</td>\n      <td>only subspecies in ACT is subsp. victoriae</td>\n      <td>Vulnerable</td>\n      <td>NaN</td>\n      <td>Nature Conservation Act 2014</td>\n      <td>NaN</td>\n      <td>4/10/2022</td>\n      <td>NaN</td>\n    </tr>\n    <tr>\n      <th>...</th>\n      <td>...</td>\n      <td>...</td>\n      <td>...</td>\n      <td>...</td>\n      <td>...</td>\n      <td>...</td>\n      <td>...</td>\n      <td>...</td>\n      <td>...</td>\n      <td>...</td>\n      <td>...</td>\n      <td>...</td>\n      <td>...</td>\n      <td>...</td>\n      <td>...</td>\n      <td>...</td>\n      <td>...</td>\n      <td>...</td>\n      <td>...</td>\n      <td>...</td>\n      <td>...</td>\n    </tr>\n    <tr>\n      <th>198</th>\n      <td>NaN</td>\n      <td>Reptile</td>\n      <td>NaN</td>\n      <td>Aprasia parapulchella</td>\n      <td>Kluge, 1974</td>\n      <td>Pink-tailed Worm-lizard</td>\n      <td>Banburung</td>\n      <td>NaN</td>\n      <td>Aprasia parapulchella</td>\n      <td>Sensitive</td>\n      <td>...</td>\n      <td>Squamata</td>\n      <td>Pygopodidae</td>\n      <td>Aprasia</td>\n      <td>NaN</td>\n      <td>Vulnerable</td>\n      <td>Vulnerable</td>\n      <td>Nature Conservation Act 2014</td>\n      <td>NaN</td>\n      <td>4/10/2022</td>\n      <td>NaN</td>\n    </tr>\n    <tr>\n      <th>199</th>\n      <td>NaN</td>\n      <td>Reptile</td>\n      <td>NaN</td>\n      <td>Delma impar</td>\n      <td>(Fischer, 1882)</td>\n      <td>Striped Legless Lizard</td>\n      <td>Narung or Gandi</td>\n      <td>NaN</td>\n      <td>Delma impar</td>\n      <td>Sensitive</td>\n      <td>...</td>\n      <td>Squamata</td>\n      <td>Pygopodidae</td>\n      <td>Delma</td>\n      <td>NaN</td>\n      <td>Vulnerable</td>\n      <td>Vulnerable</td>\n      <td>Nature Conservation Act 2014</td>\n      <td>NaN</td>\n      <td>4/10/2022</td>\n      <td>NaN</td>\n    </tr>\n    <tr>\n      <th>200</th>\n      <td>NaN</td>\n      <td>Reptile</td>\n      <td>NaN</td>\n      <td>Tympanocryptis lineata</td>\n      <td>Peters, 1863</td>\n      <td>Canberra Grassland Earless Dragon</td>\n      <td>Bidjiwang</td>\n      <td>Tympanocryptis pinguicolla</td>\n      <td>Tympanocryptis lineata</td>\n      <td>Extreme</td>\n      <td>...</td>\n      <td>Squamata</td>\n      <td>Agamidae</td>\n      <td>Tympanocryptis</td>\n      <td>Recent taxonomic changes to the species, from ...</td>\n      <td>Endangered</td>\n      <td>Endangered</td>\n      <td>Nature Conservation Act 2014</td>\n      <td>NaN</td>\n      <td>4/10/2022</td>\n      <td>NaN</td>\n    </tr>\n    <tr>\n      <th>201</th>\n      <td>NaN</td>\n      <td>Reptile</td>\n      <td>NaN</td>\n      <td>Tympanocryptis pinguicolla</td>\n      <td>Mitchell, 1948</td>\n      <td>Grassland Earless Dragon</td>\n      <td>NaN</td>\n      <td>NaN</td>\n      <td>Tympanocryptis lineata</td>\n      <td>Extreme</td>\n      <td>...</td>\n      <td>Squamata</td>\n      <td>Agamidae</td>\n      <td>Tympanocryptis</td>\n      <td>in the ACT, Tympanocryptis pinguicolla is a ho...</td>\n      <td>Endangered</td>\n      <td>Endangered</td>\n      <td>Nature Conservation Act 2014</td>\n      <td>NaN</td>\n      <td>4/10/2022</td>\n      <td>NaN</td>\n    </tr>\n    <tr>\n      <th>202</th>\n      <td>NaN</td>\n      <td>Reptile</td>\n      <td>NaN</td>\n      <td>Varanus rosenbergi</td>\n      <td>Mertens, 1957</td>\n      <td>Rosenberg's Monitor</td>\n      <td>NaN</td>\n      <td>NaN</td>\n      <td>Varanus rosenbergi</td>\n      <td>Sensitive</td>\n      <td>...</td>\n      <td>Squamata</td>\n      <td>Varanidae</td>\n      <td>Varanus</td>\n      <td>NaN</td>\n      <td>NaN</td>\n      <td>NaN</td>\n      <td>NaN</td>\n      <td>NaN</td>\n      <td>4/10/2022</td>\n      <td>NaN</td>\n    </tr>\n  </tbody>\n</table>\n<p>203 rows × 27 columns</p>\n</div>"
     },
     "execution_count": 2,
     "metadata": {},
     "output_type": "execute_result"
    }
   ],
   "source": [
    "actsensitive = pd.read_csv(sourceDir + \"ACT_SensitiveSpecies_List_05102022.csv\", dtype=str)\n",
    "actsensitive"
   ],
   "metadata": {
    "collapsed": false,
    "pycharm": {
     "name": "#%%\n"
    }
   }
  },
  {
   "cell_type": "code",
   "execution_count": 4,
   "outputs": [
    {
     "data": {
      "text/plain": "Index(['ACTTAXA_ID', 'category', 'subcategory', 'scientificName',\n       'scientificNameAuthorship', 'vernacularName', 'ngunnawalName',\n       'synonym', 'acceptedNameUsage', 'speciesSensitivity', 'generalisation',\n       'sensitivityReason', 'taxonomicStatus', 'taxonRank', 'kingdom',\n       'phylum', 'classs', 'order', 'family', 'genus', 'taxonRemarks',\n       'conservationStatusACT', 'conservationStatusAUS', 'authority',\n       'statusComment', 'lastTaxaCheck', 'invasive'],\n      dtype='object')"
     },
     "execution_count": 4,
     "metadata": {},
     "output_type": "execute_result"
    }
   ],
   "source": [
    "actsensitive.columns"
   ],
   "metadata": {
    "collapsed": false,
    "pycharm": {
     "name": "#%%\n"
    }
   }
  },
  {
   "cell_type": "code",
   "execution_count": 7,
   "outputs": [
    {
     "data": {
      "text/plain": "                      scientificName         family            genus  \\\n0                Anthochaera phrygia   Meliphagidae      Anthochaera   \n1             Botaurus poiciloptilus       Ardeidae         Botaurus   \n2           Callocephalon fimbriatum     Cacatuidae    Callocephalon   \n3    Calyptorhynchus lathami lathami     Cacatuidae  Calyptorhynchus   \n4     Climacteris picumnus victoriae  Climacteridae      Climacteris   \n..                               ...            ...              ...   \n198            Aprasia parapulchella    Pygopodidae          Aprasia   \n199                      Delma impar    Pygopodidae            Delma   \n200           Tympanocryptis lineata       Agamidae   Tympanocryptis   \n201       Tympanocryptis pinguicolla       Agamidae   Tympanocryptis   \n202               Varanus rosenbergi      Varanidae          Varanus   \n\n                        vernacularName   category generalisation  \n0                    Regent Honeyeater    Extreme           10km  \n1                 Australasian Bittern  Sensitive            1km  \n2                   Gang-gang Cockatoo  Sensitive            1km  \n3                Glossy Black-cockatoo  Sensitive            1km  \n4    Brown Treecreeper (south-eastern)  Sensitive            1km  \n..                                 ...        ...            ...  \n198            Pink-tailed Worm-lizard  Sensitive            1km  \n199             Striped Legless Lizard  Sensitive            1km  \n200  Canberra Grassland Earless Dragon    Extreme           10km  \n201           Grassland Earless Dragon    Extreme           10km  \n202                Rosenberg's Monitor  Sensitive            1km  \n\n[203 rows x 6 columns]",
      "text/html": "<div>\n<style scoped>\n    .dataframe tbody tr th:only-of-type {\n        vertical-align: middle;\n    }\n\n    .dataframe tbody tr th {\n        vertical-align: top;\n    }\n\n    .dataframe thead th {\n        text-align: right;\n    }\n</style>\n<table border=\"1\" class=\"dataframe\">\n  <thead>\n    <tr style=\"text-align: right;\">\n      <th></th>\n      <th>scientificName</th>\n      <th>family</th>\n      <th>genus</th>\n      <th>vernacularName</th>\n      <th>category</th>\n      <th>generalisation</th>\n    </tr>\n  </thead>\n  <tbody>\n    <tr>\n      <th>0</th>\n      <td>Anthochaera phrygia</td>\n      <td>Meliphagidae</td>\n      <td>Anthochaera</td>\n      <td>Regent Honeyeater</td>\n      <td>Extreme</td>\n      <td>10km</td>\n    </tr>\n    <tr>\n      <th>1</th>\n      <td>Botaurus poiciloptilus</td>\n      <td>Ardeidae</td>\n      <td>Botaurus</td>\n      <td>Australasian Bittern</td>\n      <td>Sensitive</td>\n      <td>1km</td>\n    </tr>\n    <tr>\n      <th>2</th>\n      <td>Callocephalon fimbriatum</td>\n      <td>Cacatuidae</td>\n      <td>Callocephalon</td>\n      <td>Gang-gang Cockatoo</td>\n      <td>Sensitive</td>\n      <td>1km</td>\n    </tr>\n    <tr>\n      <th>3</th>\n      <td>Calyptorhynchus lathami lathami</td>\n      <td>Cacatuidae</td>\n      <td>Calyptorhynchus</td>\n      <td>Glossy Black-cockatoo</td>\n      <td>Sensitive</td>\n      <td>1km</td>\n    </tr>\n    <tr>\n      <th>4</th>\n      <td>Climacteris picumnus victoriae</td>\n      <td>Climacteridae</td>\n      <td>Climacteris</td>\n      <td>Brown Treecreeper (south-eastern)</td>\n      <td>Sensitive</td>\n      <td>1km</td>\n    </tr>\n    <tr>\n      <th>...</th>\n      <td>...</td>\n      <td>...</td>\n      <td>...</td>\n      <td>...</td>\n      <td>...</td>\n      <td>...</td>\n    </tr>\n    <tr>\n      <th>198</th>\n      <td>Aprasia parapulchella</td>\n      <td>Pygopodidae</td>\n      <td>Aprasia</td>\n      <td>Pink-tailed Worm-lizard</td>\n      <td>Sensitive</td>\n      <td>1km</td>\n    </tr>\n    <tr>\n      <th>199</th>\n      <td>Delma impar</td>\n      <td>Pygopodidae</td>\n      <td>Delma</td>\n      <td>Striped Legless Lizard</td>\n      <td>Sensitive</td>\n      <td>1km</td>\n    </tr>\n    <tr>\n      <th>200</th>\n      <td>Tympanocryptis lineata</td>\n      <td>Agamidae</td>\n      <td>Tympanocryptis</td>\n      <td>Canberra Grassland Earless Dragon</td>\n      <td>Extreme</td>\n      <td>10km</td>\n    </tr>\n    <tr>\n      <th>201</th>\n      <td>Tympanocryptis pinguicolla</td>\n      <td>Agamidae</td>\n      <td>Tympanocryptis</td>\n      <td>Grassland Earless Dragon</td>\n      <td>Extreme</td>\n      <td>10km</td>\n    </tr>\n    <tr>\n      <th>202</th>\n      <td>Varanus rosenbergi</td>\n      <td>Varanidae</td>\n      <td>Varanus</td>\n      <td>Rosenberg's Monitor</td>\n      <td>Sensitive</td>\n      <td>1km</td>\n    </tr>\n  </tbody>\n</table>\n<p>203 rows × 6 columns</p>\n</div>"
     },
     "execution_count": 7,
     "metadata": {},
     "output_type": "execute_result"
    }
   ],
   "source": [
    "sensitivelist = actsensitive[['scientificName', 'family', 'genus','vernacularName', 'speciesSensitivity', 'generalisation']]\n",
    "sensitivelist = sensitivelist.rename(columns={'speciesSensitivity': 'category'})\n",
    "sensitivelist"
   ],
   "metadata": {
    "collapsed": false,
    "pycharm": {
     "name": "#%%\n"
    }
   }
  },
  {
   "cell_type": "code",
   "execution_count": null,
   "outputs": [],
   "source": [
    "dr = 'dr2627'\n",
    "sensitivelist.to_csv(projectDir + sdataDir + 'ACT-' + dr + '-sensitive.csv', encoding=\"UTF-8\", index=False)\n",
    "print('Finished writing ACT Sensitive List')"
   ],
   "metadata": {
    "collapsed": false,
    "pycharm": {
     "name": "#%%\n"
    }
   }
  },
  {
   "cell_type": "code",
   "execution_count": null,
   "outputs": [],
   "source": [
    "### Change Logs"
   ],
   "metadata": {
    "collapsed": false,
    "pycharm": {
     "name": "#%%\n"
    }
   }
  },
  {
   "cell_type": "code",
   "execution_count": 2,
   "outputs": [
    {
     "name": "stdout",
     "output_type": "stream",
     "text": [
      "ACT sensitive\n",
      "get_changelist: Test -  dr2627 Prod -  dr2627\n",
      "download_ala_list:  https://lists.ala.org.au/ws/speciesListItems/dr2627?max=10000&includeKVP=true\n",
      "Index(['id', 'name', 'commonName', 'scientificName', 'lsid', 'dataResourceUid',\n",
      "       'kvpValues'],\n",
      "      dtype='object')\n",
      "download_ala_list:  https://lists-test.ala.org.au/ws/speciesListItems/dr2627?max=10000&includeKVP=true\n",
      "Index(['id', 'name', 'commonName', 'scientificName', 'lsid', 'dataResourceUid',\n",
      "       'kvpValues'],\n",
      "      dtype='object')\n",
      "Finished ACT sensitive\n"
     ]
    }
   ],
   "source": [
    "ltype = \"S\"\n",
    "changeDir = \"Monitoring/Change-logs/\"\n",
    "\n",
    "# ACT Sensitive\n",
    "print('ACT sensitive')\n",
    "filename = \"ACT-sensitive.csv\"\n",
    "testdr = \"dr2627\"\n",
    "proddr = \"dr2627\"\n",
    "changelist = lf.get_changelist(testdr, proddr, ltype)\n",
    "changelist.to_csv(projectDir + changeDir + monthStr + \"-\" + filename, encoding=\"UTF-8\", index=False)\n",
    "print('Finished ACT sensitive')"
   ],
   "metadata": {
    "collapsed": false,
    "pycharm": {
     "name": "#%%\n"
    }
   }
  },
  {
   "cell_type": "code",
   "execution_count": 3,
   "outputs": [
    {
     "name": "stdout",
     "output_type": "stream",
     "text": [
      "download_ala_list:  https://lists.ala.org.au/ws/speciesListItems/dr2627?max=10000&includeKVP=true\n",
      "Index(['id', 'name', 'commonName', 'scientificName', 'lsid', 'dataResourceUid',\n",
      "       'kvpValues'],\n",
      "      dtype='object')\n",
      "Finished downloading sensitive historical list\n"
     ]
    }
   ],
   "source": [
    "# Sensitive Lists\n",
    "state= \"ACT\"\n",
    "filename = state + \"-\" + proddr + \"-sensitive.csv\"\n",
    "prodListUrl = \"https://lists.ala.org.au/ws/speciesListItems/\" + proddr + \"?max=10000&includeKVP=true\"\n",
    "prodList = lf.download_ala_specieslist(prodListUrl)  # save the prod list to the historical lists directory\n",
    "prodList = lf.kvp_to_columns(prodList)\n",
    "prodList.to_csv(projectDir + \"historical-lists/sensitive/\" + filename, encoding=\"UTF-8\", index=False)\n",
    "print('Finished downloading sensitive historical list')"
   ],
   "metadata": {
    "collapsed": false,
    "pycharm": {
     "name": "#%%\n"
    }
   }
  }
 ],
 "metadata": {
  "kernelspec": {
   "display_name": "Python 3",
   "language": "python",
   "name": "python3"
  },
  "language_info": {
   "codemirror_mode": {
    "name": "ipython",
    "version": 2
   },
   "file_extension": ".py",
   "mimetype": "text/x-python",
   "name": "python",
   "nbconvert_exporter": "python",
   "pygments_lexer": "ipython2",
   "version": "2.7.6"
  }
 },
 "nbformat": 4,
 "nbformat_minor": 0
}
