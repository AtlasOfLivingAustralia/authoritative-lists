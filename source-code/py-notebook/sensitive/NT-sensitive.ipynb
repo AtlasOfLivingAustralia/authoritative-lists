{
 "cells": [
  {
   "cell_type": "markdown",
   "source": [
    "# NT Conservation List\n",
    "\n",
    "## List Identifiers\n",
    "* Sensitive list: __[dr492](https://lists.ala.org.au/speciesListItem/list/dr492)__ (and [dr492 in test](https://lists-test.ala.org.au/speciesListItem/list/dr492))\n",
    "* Collection:  __[dr492](https://collections.ala.org.au/public/show/dr492)__\n",
    "\n",
    "## Source Data\n",
    "*  __[Home Page](https://nt.gov.au/environment)__\n",
    "*  __[Fauna](https://nt.gov.au/environment/animals/threatened-animals)__\n",
    "*  __[Flora](https://nt.gov.au/environment/native-plants/threatened-plants)__\n",
    "\n",
    "**Note:** Data was manually copied from website. No API or files available for download. No indication of where to obtain Sensitive list data.\n",
    "\n",
    "**Metadata Description**\n",
    "Classification codes under the Territory Parks and Wildlife Conservation Act: Extinct in the Wild Critically Endangered Endangered Vulnerable Near threatened Data\n",
    "deficient.\n",
    "\n",
    "Learn more about the classifications used by the Department of Natural Resources, Environment, the Arts and Sports.\n",
    "\n",
    "**Note:** Under the Northern Territory Department of Environment and Natural Resources Sensitive Flora and Fauna Data Policy, there are currently no flora records classified as sensitive\n",
    "\n",
    "**Metadata URL**\n",
    "https://nt.gov.au/environment\n",
    "\n"
   ],
   "metadata": {
    "collapsed": false,
    "pycharm": {
     "name": "#%% md\n"
    }
   }
  },
  {
   "cell_type": "markdown",
   "source": [
    "Import libraries"
   ],
   "metadata": {
    "collapsed": false,
    "pycharm": {
     "name": "#%% md\n"
    }
   }
  },
  {
   "cell_type": "code",
   "execution_count": 19,
   "outputs": [],
   "source": [
    "import pandas as pd\n",
    "import os\n",
    "import sys\n",
    "projectDir = \"/Users/oco115/PycharmProjects/authoritative-lists/\"\n",
    "sourcedir = \"source-data/NT/\"\n",
    "statusDir = projectDir + \"source-data/status-codes/\"\n",
    "sdataDir = \"current-lists/sensitive-lists/\""
   ],
   "metadata": {
    "collapsed": false,
    "pycharm": {
     "name": "#%%\n"
    }
   }
  },
  {
   "cell_type": "markdown",
   "source": [
    "## Process Sensitive list\n",
    "**Feb 2023 update** -  there is only one change required for that ALA list - Candalides geminus has been REMOVED for the NT list."
   ],
   "metadata": {
    "collapsed": false,
    "pycharm": {
     "name": "#%% md\n"
    }
   }
  },
  {
   "cell_type": "code",
   "execution_count": 20,
   "outputs": [
    {
     "name": "stdout",
     "output_type": "stream",
     "text": [
      "download_ala_list:  https://lists.ala.org.au/ws/speciesListItems/dr492?max=10000&includeKVP=true\n",
      "Index(['id', 'name', 'commonName', 'scientificName', 'lsid', 'dataResourceUid',\n",
      "       'kvpValues'],\n",
      "      dtype='object')\n"
     ]
    },
    {
     "data": {
      "text/plain": "        id                           name               commonName  \\\n0  4349407               Macroderma gigas                Ghost Bat   \n0  4349404          Hipposideros stenotis  Northern Leaf-nosed Bat   \n0  4349409         Hipposideros inornatus    Arnhem Leaf-nosed Bat   \n0  4349403         Pezoporus occidentalis             Night Parrot   \n0  4349405           Polytelis alexandrae       Alexandra's Parrot   \n0  4349406  Falco (Hierofalco) hypoleucos              Grey Falcon   \n0  4349410              Bellatorias obiri      Arnhem Land Egernia   \n0  4349411                  Attacus wardi               Atlas Moth   \n0  4349408             Ogyris iphis doddi             Dodd’s Azure   \n\n                  scientificName  \\\n0               Macroderma gigas   \n0          Hipposideros stenotis   \n0         Hipposideros inornatus   \n0         Pezoporus occidentalis   \n0           Polytelis alexandrae   \n0  Falco (Hierofalco) hypoleucos   \n0              Bellatorias obiri   \n0                  Attacus wardi   \n0             Ogyris iphis doddi   \n\n                                                lsid generalisation  \n0  https://biodiversity.org.au/afd/taxa/63bc796a-...           10km  \n0  https://biodiversity.org.au/afd/taxa/26fe0f53-...           10km  \n0  https://biodiversity.org.au/afd/taxa/5d2dab40-...           10km  \n0  https://biodiversity.org.au/afd/taxa/c630f3b0-...          100km  \n0  https://biodiversity.org.au/afd/taxa/be7a08f5-...           10km  \n0  https://biodiversity.org.au/afd/taxa/4c73a934-...           10km  \n0  https://biodiversity.org.au/afd/taxa/2afc8501-...           10km  \n0  https://biodiversity.org.au/afd/taxa/8a05008e-...           10km  \n0  https://biodiversity.org.au/afd/taxa/ae3ab4c9-...           10km  ",
      "text/html": "<div>\n<style scoped>\n    .dataframe tbody tr th:only-of-type {\n        vertical-align: middle;\n    }\n\n    .dataframe tbody tr th {\n        vertical-align: top;\n    }\n\n    .dataframe thead th {\n        text-align: right;\n    }\n</style>\n<table border=\"1\" class=\"dataframe\">\n  <thead>\n    <tr style=\"text-align: right;\">\n      <th></th>\n      <th>id</th>\n      <th>name</th>\n      <th>commonName</th>\n      <th>scientificName</th>\n      <th>lsid</th>\n      <th>generalisation</th>\n    </tr>\n  </thead>\n  <tbody>\n    <tr>\n      <th>0</th>\n      <td>4349407</td>\n      <td>Macroderma gigas</td>\n      <td>Ghost Bat</td>\n      <td>Macroderma gigas</td>\n      <td>https://biodiversity.org.au/afd/taxa/63bc796a-...</td>\n      <td>10km</td>\n    </tr>\n    <tr>\n      <th>0</th>\n      <td>4349404</td>\n      <td>Hipposideros stenotis</td>\n      <td>Northern Leaf-nosed Bat</td>\n      <td>Hipposideros stenotis</td>\n      <td>https://biodiversity.org.au/afd/taxa/26fe0f53-...</td>\n      <td>10km</td>\n    </tr>\n    <tr>\n      <th>0</th>\n      <td>4349409</td>\n      <td>Hipposideros inornatus</td>\n      <td>Arnhem Leaf-nosed Bat</td>\n      <td>Hipposideros inornatus</td>\n      <td>https://biodiversity.org.au/afd/taxa/5d2dab40-...</td>\n      <td>10km</td>\n    </tr>\n    <tr>\n      <th>0</th>\n      <td>4349403</td>\n      <td>Pezoporus occidentalis</td>\n      <td>Night Parrot</td>\n      <td>Pezoporus occidentalis</td>\n      <td>https://biodiversity.org.au/afd/taxa/c630f3b0-...</td>\n      <td>100km</td>\n    </tr>\n    <tr>\n      <th>0</th>\n      <td>4349405</td>\n      <td>Polytelis alexandrae</td>\n      <td>Alexandra's Parrot</td>\n      <td>Polytelis alexandrae</td>\n      <td>https://biodiversity.org.au/afd/taxa/be7a08f5-...</td>\n      <td>10km</td>\n    </tr>\n    <tr>\n      <th>0</th>\n      <td>4349406</td>\n      <td>Falco (Hierofalco) hypoleucos</td>\n      <td>Grey Falcon</td>\n      <td>Falco (Hierofalco) hypoleucos</td>\n      <td>https://biodiversity.org.au/afd/taxa/4c73a934-...</td>\n      <td>10km</td>\n    </tr>\n    <tr>\n      <th>0</th>\n      <td>4349410</td>\n      <td>Bellatorias obiri</td>\n      <td>Arnhem Land Egernia</td>\n      <td>Bellatorias obiri</td>\n      <td>https://biodiversity.org.au/afd/taxa/2afc8501-...</td>\n      <td>10km</td>\n    </tr>\n    <tr>\n      <th>0</th>\n      <td>4349411</td>\n      <td>Attacus wardi</td>\n      <td>Atlas Moth</td>\n      <td>Attacus wardi</td>\n      <td>https://biodiversity.org.au/afd/taxa/8a05008e-...</td>\n      <td>10km</td>\n    </tr>\n    <tr>\n      <th>0</th>\n      <td>4349408</td>\n      <td>Ogyris iphis doddi</td>\n      <td>Dodd’s Azure</td>\n      <td>Ogyris iphis doddi</td>\n      <td>https://biodiversity.org.au/afd/taxa/ae3ab4c9-...</td>\n      <td>10km</td>\n    </tr>\n  </tbody>\n</table>\n</div>"
     },
     "execution_count": 20,
     "metadata": {},
     "output_type": "execute_result"
    }
   ],
   "source": [
    "sys.path.append(os.path.abspath(projectDir + \"source-code/includes\"))\n",
    "import list_functions as lf\n",
    "\n",
    "prodListUrl = \"https://lists.ala.org.au/ws/speciesListItems/\" + \"dr492\" + \"?max=10000&includeKVP=true\"\n",
    "sensitivelist = lf.download_ala_specieslist(prodListUrl)\n",
    "sensitivelist = lf.kvp_to_columns(sensitivelist)\n",
    "sensitivelist = sensitivelist.drop(['kvpValues', 'dataResourceUid'], axis=1)\n",
    "sensitivelist"
   ],
   "metadata": {
    "collapsed": false,
    "pycharm": {
     "name": "#%%\n"
    }
   }
  },
  {
   "cell_type": "code",
   "execution_count": 21,
   "outputs": [
    {
     "data": {
      "text/plain": "                  scientificName               commonName generalisation\n0               Macroderma gigas                Ghost Bat           10km\n0          Hipposideros stenotis  Northern Leaf-nosed Bat           10km\n0         Hipposideros inornatus    Arnhem Leaf-nosed Bat           10km\n0         Pezoporus occidentalis             Night Parrot          100km\n0           Polytelis alexandrae       Alexandra's Parrot           10km\n0  Falco (Hierofalco) hypoleucos              Grey Falcon           10km\n0              Bellatorias obiri      Arnhem Land Egernia           10km\n0                  Attacus wardi               Atlas Moth           10km\n0             Ogyris iphis doddi             Dodd’s Azure           10km",
      "text/html": "<div>\n<style scoped>\n    .dataframe tbody tr th:only-of-type {\n        vertical-align: middle;\n    }\n\n    .dataframe tbody tr th {\n        vertical-align: top;\n    }\n\n    .dataframe thead th {\n        text-align: right;\n    }\n</style>\n<table border=\"1\" class=\"dataframe\">\n  <thead>\n    <tr style=\"text-align: right;\">\n      <th></th>\n      <th>scientificName</th>\n      <th>commonName</th>\n      <th>generalisation</th>\n    </tr>\n  </thead>\n  <tbody>\n    <tr>\n      <th>0</th>\n      <td>Macroderma gigas</td>\n      <td>Ghost Bat</td>\n      <td>10km</td>\n    </tr>\n    <tr>\n      <th>0</th>\n      <td>Hipposideros stenotis</td>\n      <td>Northern Leaf-nosed Bat</td>\n      <td>10km</td>\n    </tr>\n    <tr>\n      <th>0</th>\n      <td>Hipposideros inornatus</td>\n      <td>Arnhem Leaf-nosed Bat</td>\n      <td>10km</td>\n    </tr>\n    <tr>\n      <th>0</th>\n      <td>Pezoporus occidentalis</td>\n      <td>Night Parrot</td>\n      <td>100km</td>\n    </tr>\n    <tr>\n      <th>0</th>\n      <td>Polytelis alexandrae</td>\n      <td>Alexandra's Parrot</td>\n      <td>10km</td>\n    </tr>\n    <tr>\n      <th>0</th>\n      <td>Falco (Hierofalco) hypoleucos</td>\n      <td>Grey Falcon</td>\n      <td>10km</td>\n    </tr>\n    <tr>\n      <th>0</th>\n      <td>Bellatorias obiri</td>\n      <td>Arnhem Land Egernia</td>\n      <td>10km</td>\n    </tr>\n    <tr>\n      <th>0</th>\n      <td>Attacus wardi</td>\n      <td>Atlas Moth</td>\n      <td>10km</td>\n    </tr>\n    <tr>\n      <th>0</th>\n      <td>Ogyris iphis doddi</td>\n      <td>Dodd’s Azure</td>\n      <td>10km</td>\n    </tr>\n  </tbody>\n</table>\n</div>"
     },
     "execution_count": 21,
     "metadata": {},
     "output_type": "execute_result"
    }
   ],
   "source": [
    "sensitivelist = sensitivelist[sensitivelist.name != 'Candalides geminus']\n",
    "sensitivelist =sensitivelist[['scientificName', 'commonName', 'generalisation']]\n",
    "sensitivelist"
   ],
   "metadata": {
    "collapsed": false,
    "pycharm": {
     "name": "#%%\n"
    }
   }
  },
  {
   "cell_type": "code",
   "execution_count": 22,
   "outputs": [
    {
     "name": "stdout",
     "output_type": "stream",
     "text": [
      "Finished processing\n"
     ]
    }
   ],
   "source": [
    "#Write to CSV\n",
    "# conservationList.to_csv(projectDir + cdataDir + \"VIC-conservation.csv\",index=False)\n",
    "sensitivelist.to_csv(projectDir + sdataDir + \"NT-sensitive-20230601.csv\",  encoding=\"UTF-8\", index=False)\n",
    "print('Finished writing NT Sensitive list')\n"
   ],
   "metadata": {
    "collapsed": false,
    "pycharm": {
     "name": "#%%\n"
    }
   }
  }
 ],
 "metadata": {
  "kernelspec": {
   "display_name": "Python 3",
   "language": "python",
   "name": "python3"
  },
  "language_info": {
   "codemirror_mode": {
    "name": "ipython",
    "version": 3
   },
   "file_extension": ".py",
   "mimetype": "text/x-python",
   "name": "python",
   "nbconvert_exporter": "python",
   "pygments_lexer": "ipython3",
   "version": "3.8.8"
  }
 },
 "nbformat": 4,
 "nbformat_minor": 5
}