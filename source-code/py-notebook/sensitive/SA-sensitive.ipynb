{
 "cells": [
  {
   "cell_type": "markdown",
   "source": [
    "# SA Conservation and Sensitive Lists\n",
    "Import fauna and vascular plants taxonomies from BDBSA and export lists for use in the ALA\n",
    "\n",
    "## List Identifiers\n",
    "* Sensitive list: __[dr884](https://lists.ala.org.au/speciesListItem/list/dr884)__ (in test  __[dr18706](https://lists-test.ala.org.au/speciesListItem/list/dr18706)__)\n",
    "* Collection:  __[dr884](https://collections.ala.org.au/public/show/dr884)__\n",
    "\n",
    "### Source Data\n",
    "**Sensitive List**\n",
    "* Source Data: https://data.environment.sa.gov.au/Content/Publications/DEW_SAEnvironmentallySensitiveDataREGISTER.xls\n",
    "\n",
    "**Metadata Description**\n",
    "\n",
    "South Australia Classification codes under the National Parks and Wildlife Act 1972: Endangered or extinct Vulnerable Rare Learn more about the classifications used by the Department of Environment and Natural Resources. Information on currently accepted flora and fauna taxonomy in South Australia including conservation status information. The following resources provide machine readable data on currently accepted flora and fauna taxonomy: vascular plants taxonomy (918kb xls) used in conjunction with vascular plants metadata (39kb pdf) vertebrate taxonomy (244kb xls) used in conjunction with vertebrates metadata (26kb pdf).\n",
    "\n",
    "\n",
    "**Metadata URL**\n",
    "\n",
    "* Fauna: https://www.environment.sa.gov.au/topics/science/information-and-data/census-of-sa-vertebrates\n",
    "* Flora: https://www.environment.sa.gov.au/topics/science/information-and-data/census-of-sa-plants-algae-fungi"
   ],
   "metadata": {
    "collapsed": false,
    "pycharm": {
     "name": "#%% md\n"
    }
   }
  },
  {
   "cell_type": "code",
   "execution_count": 21,
   "outputs": [],
   "source": [
    "#import essential libraries\n",
    "import pandas as pd\n",
    "import numpy as np\n",
    "import os\n",
    "import sys\n",
    "\n",
    "projectDir = \"/Users/oco115/PycharmProjects/authoritative-lists/\"\n",
    "sdataDir = \"current-lists/sensitive-lists/\"\n",
    "sourceData = \"source-data/SA/\"\n",
    "statusDir = projectDir + \"source-data/status-codes/\"\n",
    "\n",
    "# projectDir = \"/Users/new330/IdeaProjects/authoritative-lists/\"\n",
    "sys.path.append(os.path.abspath(projectDir + \"source-code/includes\"))\n",
    "import list_functions as lf"
   ],
   "metadata": {
    "collapsed": false,
    "pycharm": {
     "name": "#%%\n"
    }
   }
  },
  {
   "cell_type": "markdown",
   "source": [
    "## Sensitive List\n",
    "Source Data: https://data.environment.sa.gov.au/Content/Publications/DEW_SAEnvironmentallySensitiveDataREGISTER.xls"
   ],
   "metadata": {
    "collapsed": false,
    "pycharm": {
     "name": "#%% md\n"
    }
   }
  },
  {
   "cell_type": "code",
   "execution_count": 22,
   "outputs": [
    {
     "data": {
      "text/plain": "    Date Listed Fauna/Flora SPECIESTYPE Sub Grouping  \\\n0      May 2013       Fauna       Birds     Cockatoo   \n1      May 2013       Fauna       Birds     Cockatoo   \n2      Feb 2021       Fauna       Birds     Cockatoo   \n3      Feb 2021       Fauna       Birds     Cockatoo   \n4      May 2013       Fauna       Birds     Cockatoo   \n..          ...         ...         ...          ...   \n217         NaN         NaN         NaN          NaN   \n218         NaN         NaN         NaN          NaN   \n219         NaN         NaN         NaN          NaN   \n220         NaN         NaN         NaN          NaN   \n221         NaN         NaN         NaN          NaN   \n\n    SA Species Code (NSXCODE)                               SPECIES  \\\n0                      Y09312    Calyptorhynchus banksii graptogyne   \n1                      C00265  Calyptorhynchus lathami halmaturinus   \n2                      S21049    Lophochroa leadbeateri leadbeateri   \n3                      E21050         Lophochroa leadbeateri mollis   \n4                      G00267                 Zanda funerea whiteae   \n..                        ...                                   ...   \n217                       NaN                                   NaN   \n218                       NaN                                   NaN   \n219                       NaN                                   NaN   \n220                       NaN                                   NaN   \n221                       NaN                                   NaN   \n\n                                           COMMON NAME  \\\n0               Red-tailed Black Cockatoo (south-east)   \n1    Glossy Black-Cockatoo (Kangaroo Island subspec...   \n2                  Major Mitchell's Cockatoo (LNE, MM)   \n3                   Major Mitchell's Cockatoo (NW, EP)   \n4                         Yellow-tailed Black Cockatoo   \n..                                                 ...   \n217                                                NaN   \n218                                                NaN   \n219                                                NaN   \n220                                                NaN   \n221                                                NaN   \n\n                   Clarifier  \n0    nesting related records  \n1    nesting related records  \n2    nesting related records  \n3    nesting related records  \n4    nesting related records  \n..                       ...  \n217                      NaN  \n218                      NaN  \n219                      NaN  \n220                      NaN  \n221                      NaN  \n\n[222 rows x 8 columns]",
      "text/html": "<div>\n<style scoped>\n    .dataframe tbody tr th:only-of-type {\n        vertical-align: middle;\n    }\n\n    .dataframe tbody tr th {\n        vertical-align: top;\n    }\n\n    .dataframe thead th {\n        text-align: right;\n    }\n</style>\n<table border=\"1\" class=\"dataframe\">\n  <thead>\n    <tr style=\"text-align: right;\">\n      <th></th>\n      <th>Date Listed</th>\n      <th>Fauna/Flora</th>\n      <th>SPECIESTYPE</th>\n      <th>Sub Grouping</th>\n      <th>SA Species Code (NSXCODE)</th>\n      <th>SPECIES</th>\n      <th>COMMON NAME</th>\n      <th>Clarifier</th>\n    </tr>\n  </thead>\n  <tbody>\n    <tr>\n      <th>0</th>\n      <td>May 2013</td>\n      <td>Fauna</td>\n      <td>Birds</td>\n      <td>Cockatoo</td>\n      <td>Y09312</td>\n      <td>Calyptorhynchus banksii graptogyne</td>\n      <td>Red-tailed Black Cockatoo (south-east)</td>\n      <td>nesting related records</td>\n    </tr>\n    <tr>\n      <th>1</th>\n      <td>May 2013</td>\n      <td>Fauna</td>\n      <td>Birds</td>\n      <td>Cockatoo</td>\n      <td>C00265</td>\n      <td>Calyptorhynchus lathami halmaturinus</td>\n      <td>Glossy Black-Cockatoo (Kangaroo Island subspec...</td>\n      <td>nesting related records</td>\n    </tr>\n    <tr>\n      <th>2</th>\n      <td>Feb 2021</td>\n      <td>Fauna</td>\n      <td>Birds</td>\n      <td>Cockatoo</td>\n      <td>S21049</td>\n      <td>Lophochroa leadbeateri leadbeateri</td>\n      <td>Major Mitchell's Cockatoo (LNE, MM)</td>\n      <td>nesting related records</td>\n    </tr>\n    <tr>\n      <th>3</th>\n      <td>Feb 2021</td>\n      <td>Fauna</td>\n      <td>Birds</td>\n      <td>Cockatoo</td>\n      <td>E21050</td>\n      <td>Lophochroa leadbeateri mollis</td>\n      <td>Major Mitchell's Cockatoo (NW, EP)</td>\n      <td>nesting related records</td>\n    </tr>\n    <tr>\n      <th>4</th>\n      <td>May 2013</td>\n      <td>Fauna</td>\n      <td>Birds</td>\n      <td>Cockatoo</td>\n      <td>G00267</td>\n      <td>Zanda funerea whiteae</td>\n      <td>Yellow-tailed Black Cockatoo</td>\n      <td>nesting related records</td>\n    </tr>\n    <tr>\n      <th>...</th>\n      <td>...</td>\n      <td>...</td>\n      <td>...</td>\n      <td>...</td>\n      <td>...</td>\n      <td>...</td>\n      <td>...</td>\n      <td>...</td>\n    </tr>\n    <tr>\n      <th>217</th>\n      <td>NaN</td>\n      <td>NaN</td>\n      <td>NaN</td>\n      <td>NaN</td>\n      <td>NaN</td>\n      <td>NaN</td>\n      <td>NaN</td>\n      <td>NaN</td>\n    </tr>\n    <tr>\n      <th>218</th>\n      <td>NaN</td>\n      <td>NaN</td>\n      <td>NaN</td>\n      <td>NaN</td>\n      <td>NaN</td>\n      <td>NaN</td>\n      <td>NaN</td>\n      <td>NaN</td>\n    </tr>\n    <tr>\n      <th>219</th>\n      <td>NaN</td>\n      <td>NaN</td>\n      <td>NaN</td>\n      <td>NaN</td>\n      <td>NaN</td>\n      <td>NaN</td>\n      <td>NaN</td>\n      <td>NaN</td>\n    </tr>\n    <tr>\n      <th>220</th>\n      <td>NaN</td>\n      <td>NaN</td>\n      <td>NaN</td>\n      <td>NaN</td>\n      <td>NaN</td>\n      <td>NaN</td>\n      <td>NaN</td>\n      <td>NaN</td>\n    </tr>\n    <tr>\n      <th>221</th>\n      <td>NaN</td>\n      <td>NaN</td>\n      <td>NaN</td>\n      <td>NaN</td>\n      <td>NaN</td>\n      <td>NaN</td>\n      <td>NaN</td>\n      <td>NaN</td>\n    </tr>\n  </tbody>\n</table>\n<p>222 rows × 8 columns</p>\n</div>"
     },
     "execution_count": 22,
     "metadata": {},
     "output_type": "execute_result"
    }
   ],
   "source": [
    "# sensitivelist = pd.read_excel(projectDir + sourceData + \"DEW_SAEnvironmentallySensitiveDataREGISTER.xls\")\n",
    "sensitivelist = pd.read_csv(projectDir + sourceData + \"DEW_SAEnvironmentallySensitiveDataREGISTER.csv\", dtype=\"str\")\n",
    "sensitivelist"
   ],
   "metadata": {
    "collapsed": false,
    "pycharm": {
     "name": "#%%\n"
    }
   }
  },
  {
   "cell_type": "code",
   "execution_count": 23,
   "outputs": [],
   "source": [
    "sensitivelist = sensitivelist[['SPECIES', 'COMMON NAME']]"
   ],
   "metadata": {
    "collapsed": false,
    "pycharm": {
     "name": "#%%\n"
    }
   }
  },
  {
   "cell_type": "code",
   "execution_count": 25,
   "outputs": [
    {
     "data": {
      "text/plain": "                           scientificName  \\\n0      Calyptorhynchus banksii graptogyne   \n1    Calyptorhynchus lathami halmaturinus   \n2      Lophochroa leadbeateri leadbeateri   \n3           Lophochroa leadbeateri mollis   \n4                   Zanda funerea whiteae   \n..                                    ...   \n217                                   NaN   \n218                                   NaN   \n219                                   NaN   \n220                                   NaN   \n221                                   NaN   \n\n                                        vernacularName generalisation  \n0               Red-tailed Black Cockatoo (south-east)          10 km  \n1    Glossy Black-Cockatoo (Kangaroo Island subspec...          10 km  \n2                  Major Mitchell's Cockatoo (LNE, MM)          10 km  \n3                   Major Mitchell's Cockatoo (NW, EP)          10 km  \n4                         Yellow-tailed Black Cockatoo          10 km  \n..                                                 ...            ...  \n217                                                NaN          10 km  \n218                                                NaN          10 km  \n219                                                NaN          10 km  \n220                                                NaN          10 km  \n221                                                NaN          10 km  \n\n[222 rows x 3 columns]",
      "text/html": "<div>\n<style scoped>\n    .dataframe tbody tr th:only-of-type {\n        vertical-align: middle;\n    }\n\n    .dataframe tbody tr th {\n        vertical-align: top;\n    }\n\n    .dataframe thead th {\n        text-align: right;\n    }\n</style>\n<table border=\"1\" class=\"dataframe\">\n  <thead>\n    <tr style=\"text-align: right;\">\n      <th></th>\n      <th>scientificName</th>\n      <th>vernacularName</th>\n      <th>generalisation</th>\n    </tr>\n  </thead>\n  <tbody>\n    <tr>\n      <th>0</th>\n      <td>Calyptorhynchus banksii graptogyne</td>\n      <td>Red-tailed Black Cockatoo (south-east)</td>\n      <td>10 km</td>\n    </tr>\n    <tr>\n      <th>1</th>\n      <td>Calyptorhynchus lathami halmaturinus</td>\n      <td>Glossy Black-Cockatoo (Kangaroo Island subspec...</td>\n      <td>10 km</td>\n    </tr>\n    <tr>\n      <th>2</th>\n      <td>Lophochroa leadbeateri leadbeateri</td>\n      <td>Major Mitchell's Cockatoo (LNE, MM)</td>\n      <td>10 km</td>\n    </tr>\n    <tr>\n      <th>3</th>\n      <td>Lophochroa leadbeateri mollis</td>\n      <td>Major Mitchell's Cockatoo (NW, EP)</td>\n      <td>10 km</td>\n    </tr>\n    <tr>\n      <th>4</th>\n      <td>Zanda funerea whiteae</td>\n      <td>Yellow-tailed Black Cockatoo</td>\n      <td>10 km</td>\n    </tr>\n    <tr>\n      <th>...</th>\n      <td>...</td>\n      <td>...</td>\n      <td>...</td>\n    </tr>\n    <tr>\n      <th>217</th>\n      <td>NaN</td>\n      <td>NaN</td>\n      <td>10 km</td>\n    </tr>\n    <tr>\n      <th>218</th>\n      <td>NaN</td>\n      <td>NaN</td>\n      <td>10 km</td>\n    </tr>\n    <tr>\n      <th>219</th>\n      <td>NaN</td>\n      <td>NaN</td>\n      <td>10 km</td>\n    </tr>\n    <tr>\n      <th>220</th>\n      <td>NaN</td>\n      <td>NaN</td>\n      <td>10 km</td>\n    </tr>\n    <tr>\n      <th>221</th>\n      <td>NaN</td>\n      <td>NaN</td>\n      <td>10 km</td>\n    </tr>\n  </tbody>\n</table>\n<p>222 rows × 3 columns</p>\n</div>"
     },
     "execution_count": 25,
     "metadata": {},
     "output_type": "execute_result"
    }
   ],
   "source": [
    "sensitivelist = sensitivelist.rename(columns=\n",
    "{\n",
    "    'SPECIES':'scientificName',\n",
    "    'COMMON NAME':'vernacularName',\n",
    "})\n",
    "sensitivelist['generalisation'] =\"10 km\"\n",
    "\n",
    "sensitivelist"
   ],
   "metadata": {
    "collapsed": false,
    "pycharm": {
     "name": "#%%\n"
    }
   }
  },
  {
   "cell_type": "markdown",
   "source": [
    "Write dataframe to CSV"
   ],
   "metadata": {
    "collapsed": false,
    "pycharm": {
     "name": "#%% md\n"
    }
   }
  },
  {
   "cell_type": "code",
   "execution_count": 26,
   "outputs": [],
   "source": [
    "# sasensitive.to_csv(\"~/IdeaProjects/authoritative-lists/current-lists/sensitive-lists/SA-sensitive.csv\",encoding=\"UTF-8\",index=False)\n",
    "sensitivelist.to_csv(projectDir + sdataDir + \"SA-sensitive-20230601.csv\", encoding=\"UTF-8\", index=False)\n",
    "print(\"Finished writing SA Sensitive list\")"
   ],
   "metadata": {
    "collapsed": false,
    "pycharm": {
     "name": "#%%\n"
    }
   }
  }
 ],
 "metadata": {
  "kernelspec": {
   "display_name": "Python 3",
   "language": "python",
   "name": "python3"
  },
  "language_info": {
   "codemirror_mode": {
    "name": "ipython",
    "version": 2
   },
   "file_extension": ".py",
   "mimetype": "text/x-python",
   "name": "python",
   "nbconvert_exporter": "python",
   "pygments_lexer": "ipython2",
   "version": "2.7.6"
  }
 },
 "nbformat": 4,
 "nbformat_minor": 0
}