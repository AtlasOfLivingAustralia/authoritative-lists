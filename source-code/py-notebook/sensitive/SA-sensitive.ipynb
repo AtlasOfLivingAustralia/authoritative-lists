{
 "cells": [
  {
   "cell_type": "markdown",
   "source": [
    "# SA Sensitive List\n",
    "Import fauna and vascular plants taxonomies from BDBSA and export lists for use in the ALA\n",
    "\n",
    "## List Identifiers\n",
    "* Sensitive list: __[dr884](https://lists.ala.org.au/speciesListItem/list/dr884)__ (in test  __[dr18706](https://lists-test.ala.org.au/speciesListItem/list/dr18706)__)\n",
    "* Collection:  __[dr884](https://collections.ala.org.au/public/show/dr884)__\n",
    "\n",
    "### Source Data\n",
    "**Sensitive List**\n",
    "* Source Data: https://data.environment.sa.gov.au/Content/Publications/DEW_SAEnvironmentallySensitiveDataREGISTER.xls\n",
    "\n",
    "**Metadata Description**\n",
    "\n",
    "South Australia Classification codes under the National Parks and Wildlife Act 1972: Endangered or extinct Vulnerable Rare Learn more about the classifications used by the Department of Environment and Natural Resources. Information on currently accepted flora and fauna taxonomy in South Australia including conservation status information. The following resources provide machine readable data on currently accepted flora and fauna taxonomy: vascular plants taxonomy (918kb xls) used in conjunction with vascular plants metadata (39kb pdf) vertebrate taxonomy (244kb xls) used in conjunction with vertebrates metadata (26kb pdf).\n",
    "\n",
    "\n",
    "**Metadata URL**\n",
    "\n",
    "* Fauna: https://www.environment.sa.gov.au/topics/science/information-and-data/census-of-sa-vertebrates\n",
    "* Flora: https://www.environment.sa.gov.au/topics/science/information-and-data/census-of-sa-plants-algae-fungi"
   ],
   "metadata": {
    "collapsed": false,
    "pycharm": {
     "name": "#%% md\n"
    }
   }
  },
  {
   "cell_type": "code",
   "execution_count": 1,
   "outputs": [],
   "source": [
    "#import essential libraries\n",
    "import pandas as pd\n",
    "import os\n",
    "import sys\n",
    "import datetime\n",
    "\n",
    "projectDir = \"/Users/oco115/PycharmProjects/authoritative-lists/\"\n",
    "sdataDir = \"current-lists/sensitive-lists/\"\n",
    "sourceData = \"source-data/SA/\"\n",
    "statusDir = projectDir + \"source-data/status-codes/\"\n",
    "monthStr = datetime.datetime.now().strftime('%Y%m')\n",
    "\n",
    "# projectDir = \"/Users/new330/IdeaProjects/authoritative-lists/\"\n",
    "sys.path.append(os.path.abspath(projectDir + \"source-code/includes\"))\n",
    "import list_functions as lf"
   ],
   "metadata": {
    "collapsed": false,
    "pycharm": {
     "name": "#%%\n"
    }
   }
  },
  {
   "cell_type": "markdown",
   "source": [
    "## Sensitive List\n",
    "Source Data: https://data.environment.sa.gov.au/Content/Publications/DEW_SAEnvironmentallySensitiveDataREGISTER.xls"
   ],
   "metadata": {
    "collapsed": false,
    "pycharm": {
     "name": "#%% md\n"
    }
   }
  },
  {
   "cell_type": "code",
   "execution_count": 9,
   "outputs": [
    {
     "data": {
      "text/plain": "    Date Listed Fauna/Flora SPECIESTYPE Sub Grouping  \\\n0      May 2013       Fauna       Birds     Cockatoo   \n1      May 2013       Fauna       Birds     Cockatoo   \n2      Feb 2021       Fauna       Birds     Cockatoo   \n3      Feb 2021       Fauna       Birds     Cockatoo   \n4      May 2013       Fauna       Birds     Cockatoo   \n..          ...         ...         ...          ...   \n217         NaN         NaN         NaN          NaN   \n218         NaN         NaN         NaN          NaN   \n219         NaN         NaN         NaN          NaN   \n220         NaN         NaN         NaN          NaN   \n221         NaN         NaN         NaN          NaN   \n\n    SA Species Code (NSXCODE)                               SPECIES  \\\n0                      Y09312    Calyptorhynchus banksii graptogyne   \n1                      C00265  Calyptorhynchus lathami halmaturinus   \n2                      S21049    Lophochroa leadbeateri leadbeateri   \n3                      E21050         Lophochroa leadbeateri mollis   \n4                      G00267                 Zanda funerea whiteae   \n..                        ...                                   ...   \n217                       NaN                                   NaN   \n218                       NaN                                   NaN   \n219                       NaN                                   NaN   \n220                       NaN                                   NaN   \n221                       NaN                                   NaN   \n\n                                           COMMON NAME  \\\n0               Red-tailed Black Cockatoo (south-east)   \n1    Glossy Black-Cockatoo (Kangaroo Island subspec...   \n2                  Major Mitchell's Cockatoo (LNE, MM)   \n3                   Major Mitchell's Cockatoo (NW, EP)   \n4                         Yellow-tailed Black Cockatoo   \n..                                                 ...   \n217                                                NaN   \n218                                                NaN   \n219                                                NaN   \n220                                                NaN   \n221                                                NaN   \n\n                   Clarifier  \n0    nesting related records  \n1    nesting related records  \n2    nesting related records  \n3    nesting related records  \n4    nesting related records  \n..                       ...  \n217                      NaN  \n218                      NaN  \n219                      NaN  \n220                      NaN  \n221                      NaN  \n\n[222 rows x 8 columns]",
      "text/html": "<div>\n<style scoped>\n    .dataframe tbody tr th:only-of-type {\n        vertical-align: middle;\n    }\n\n    .dataframe tbody tr th {\n        vertical-align: top;\n    }\n\n    .dataframe thead th {\n        text-align: right;\n    }\n</style>\n<table border=\"1\" class=\"dataframe\">\n  <thead>\n    <tr style=\"text-align: right;\">\n      <th></th>\n      <th>Date Listed</th>\n      <th>Fauna/Flora</th>\n      <th>SPECIESTYPE</th>\n      <th>Sub Grouping</th>\n      <th>SA Species Code (NSXCODE)</th>\n      <th>SPECIES</th>\n      <th>COMMON NAME</th>\n      <th>Clarifier</th>\n    </tr>\n  </thead>\n  <tbody>\n    <tr>\n      <th>0</th>\n      <td>May 2013</td>\n      <td>Fauna</td>\n      <td>Birds</td>\n      <td>Cockatoo</td>\n      <td>Y09312</td>\n      <td>Calyptorhynchus banksii graptogyne</td>\n      <td>Red-tailed Black Cockatoo (south-east)</td>\n      <td>nesting related records</td>\n    </tr>\n    <tr>\n      <th>1</th>\n      <td>May 2013</td>\n      <td>Fauna</td>\n      <td>Birds</td>\n      <td>Cockatoo</td>\n      <td>C00265</td>\n      <td>Calyptorhynchus lathami halmaturinus</td>\n      <td>Glossy Black-Cockatoo (Kangaroo Island subspec...</td>\n      <td>nesting related records</td>\n    </tr>\n    <tr>\n      <th>2</th>\n      <td>Feb 2021</td>\n      <td>Fauna</td>\n      <td>Birds</td>\n      <td>Cockatoo</td>\n      <td>S21049</td>\n      <td>Lophochroa leadbeateri leadbeateri</td>\n      <td>Major Mitchell's Cockatoo (LNE, MM)</td>\n      <td>nesting related records</td>\n    </tr>\n    <tr>\n      <th>3</th>\n      <td>Feb 2021</td>\n      <td>Fauna</td>\n      <td>Birds</td>\n      <td>Cockatoo</td>\n      <td>E21050</td>\n      <td>Lophochroa leadbeateri mollis</td>\n      <td>Major Mitchell's Cockatoo (NW, EP)</td>\n      <td>nesting related records</td>\n    </tr>\n    <tr>\n      <th>4</th>\n      <td>May 2013</td>\n      <td>Fauna</td>\n      <td>Birds</td>\n      <td>Cockatoo</td>\n      <td>G00267</td>\n      <td>Zanda funerea whiteae</td>\n      <td>Yellow-tailed Black Cockatoo</td>\n      <td>nesting related records</td>\n    </tr>\n    <tr>\n      <th>...</th>\n      <td>...</td>\n      <td>...</td>\n      <td>...</td>\n      <td>...</td>\n      <td>...</td>\n      <td>...</td>\n      <td>...</td>\n      <td>...</td>\n    </tr>\n    <tr>\n      <th>217</th>\n      <td>NaN</td>\n      <td>NaN</td>\n      <td>NaN</td>\n      <td>NaN</td>\n      <td>NaN</td>\n      <td>NaN</td>\n      <td>NaN</td>\n      <td>NaN</td>\n    </tr>\n    <tr>\n      <th>218</th>\n      <td>NaN</td>\n      <td>NaN</td>\n      <td>NaN</td>\n      <td>NaN</td>\n      <td>NaN</td>\n      <td>NaN</td>\n      <td>NaN</td>\n      <td>NaN</td>\n    </tr>\n    <tr>\n      <th>219</th>\n      <td>NaN</td>\n      <td>NaN</td>\n      <td>NaN</td>\n      <td>NaN</td>\n      <td>NaN</td>\n      <td>NaN</td>\n      <td>NaN</td>\n      <td>NaN</td>\n    </tr>\n    <tr>\n      <th>220</th>\n      <td>NaN</td>\n      <td>NaN</td>\n      <td>NaN</td>\n      <td>NaN</td>\n      <td>NaN</td>\n      <td>NaN</td>\n      <td>NaN</td>\n      <td>NaN</td>\n    </tr>\n    <tr>\n      <th>221</th>\n      <td>NaN</td>\n      <td>NaN</td>\n      <td>NaN</td>\n      <td>NaN</td>\n      <td>NaN</td>\n      <td>NaN</td>\n      <td>NaN</td>\n      <td>NaN</td>\n    </tr>\n  </tbody>\n</table>\n<p>222 rows × 8 columns</p>\n</div>"
     },
     "execution_count": 9,
     "metadata": {},
     "output_type": "execute_result"
    }
   ],
   "source": [
    "# sensitivelist = pd.read_excel(projectDir + sourceData + \"DEW_SAEnvironmentallySensitiveDataREGISTER.xls\")\n",
    "sensitivelist = pd.read_csv(projectDir + sourceData + \"DEW_SAEnvironmentallySensitiveDataREGISTER.csv\", dtype=\"str\")\n",
    "sensitivelist"
   ],
   "metadata": {
    "collapsed": false,
    "pycharm": {
     "name": "#%%\n"
    }
   }
  },
  {
   "cell_type": "code",
   "execution_count": 10,
   "outputs": [],
   "source": [
    "sensitivelist = sensitivelist[['SPECIES', 'COMMON NAME']]\n",
    "sensitivelist = sensitivelist.dropna(how='all')"
   ],
   "metadata": {
    "collapsed": false,
    "pycharm": {
     "name": "#%%\n"
    }
   }
  },
  {
   "cell_type": "code",
   "execution_count": 11,
   "outputs": [
    {
     "data": {
      "text/plain": "                           scientificName  \\\n0      Calyptorhynchus banksii graptogyne   \n1    Calyptorhynchus lathami halmaturinus   \n2      Lophochroa leadbeateri leadbeateri   \n3           Lophochroa leadbeateri mollis   \n4                   Zanda funerea whiteae   \n..                                    ...   \n209                 Thelymitra matthewsii   \n210                 Thelymitra peniculata   \n211                  Santalum lanceolatum   \n212                     Santalum spicatum   \n213                   Phebalium calcicola   \n\n                                        vernacularName generalisation category  \n0               Red-tailed Black Cockatoo (south-east)          10 km       C2  \n1    Glossy Black-Cockatoo (Kangaroo Island subspec...          10 km       C2  \n2                  Major Mitchell's Cockatoo (LNE, MM)          10 km       C2  \n3                   Major Mitchell's Cockatoo (NW, EP)          10 km       C2  \n4                         Yellow-tailed Black Cockatoo          10 km       C2  \n..                                                 ...            ...      ...  \n209                                  Spiral Sun-orchid          10 km       C2  \n210                               Blue Star Sun-orchid          10 km       C2  \n211                                           Plumbush          10 km       C2  \n212                                         Sandalwood          10 km       C2  \n213                                Limestone Phebalium          10 km       C2  \n\n[214 rows x 4 columns]",
      "text/html": "<div>\n<style scoped>\n    .dataframe tbody tr th:only-of-type {\n        vertical-align: middle;\n    }\n\n    .dataframe tbody tr th {\n        vertical-align: top;\n    }\n\n    .dataframe thead th {\n        text-align: right;\n    }\n</style>\n<table border=\"1\" class=\"dataframe\">\n  <thead>\n    <tr style=\"text-align: right;\">\n      <th></th>\n      <th>scientificName</th>\n      <th>vernacularName</th>\n      <th>generalisation</th>\n      <th>category</th>\n    </tr>\n  </thead>\n  <tbody>\n    <tr>\n      <th>0</th>\n      <td>Calyptorhynchus banksii graptogyne</td>\n      <td>Red-tailed Black Cockatoo (south-east)</td>\n      <td>10 km</td>\n      <td>C2</td>\n    </tr>\n    <tr>\n      <th>1</th>\n      <td>Calyptorhynchus lathami halmaturinus</td>\n      <td>Glossy Black-Cockatoo (Kangaroo Island subspec...</td>\n      <td>10 km</td>\n      <td>C2</td>\n    </tr>\n    <tr>\n      <th>2</th>\n      <td>Lophochroa leadbeateri leadbeateri</td>\n      <td>Major Mitchell's Cockatoo (LNE, MM)</td>\n      <td>10 km</td>\n      <td>C2</td>\n    </tr>\n    <tr>\n      <th>3</th>\n      <td>Lophochroa leadbeateri mollis</td>\n      <td>Major Mitchell's Cockatoo (NW, EP)</td>\n      <td>10 km</td>\n      <td>C2</td>\n    </tr>\n    <tr>\n      <th>4</th>\n      <td>Zanda funerea whiteae</td>\n      <td>Yellow-tailed Black Cockatoo</td>\n      <td>10 km</td>\n      <td>C2</td>\n    </tr>\n    <tr>\n      <th>...</th>\n      <td>...</td>\n      <td>...</td>\n      <td>...</td>\n      <td>...</td>\n    </tr>\n    <tr>\n      <th>209</th>\n      <td>Thelymitra matthewsii</td>\n      <td>Spiral Sun-orchid</td>\n      <td>10 km</td>\n      <td>C2</td>\n    </tr>\n    <tr>\n      <th>210</th>\n      <td>Thelymitra peniculata</td>\n      <td>Blue Star Sun-orchid</td>\n      <td>10 km</td>\n      <td>C2</td>\n    </tr>\n    <tr>\n      <th>211</th>\n      <td>Santalum lanceolatum</td>\n      <td>Plumbush</td>\n      <td>10 km</td>\n      <td>C2</td>\n    </tr>\n    <tr>\n      <th>212</th>\n      <td>Santalum spicatum</td>\n      <td>Sandalwood</td>\n      <td>10 km</td>\n      <td>C2</td>\n    </tr>\n    <tr>\n      <th>213</th>\n      <td>Phebalium calcicola</td>\n      <td>Limestone Phebalium</td>\n      <td>10 km</td>\n      <td>C2</td>\n    </tr>\n  </tbody>\n</table>\n<p>214 rows × 4 columns</p>\n</div>"
     },
     "execution_count": 11,
     "metadata": {},
     "output_type": "execute_result"
    }
   ],
   "source": [
    "sensitivelist = sensitivelist.rename(columns=\n",
    "{\n",
    "    'SPECIES':'scientificName',\n",
    "    'COMMON NAME':'vernacularName',\n",
    "})\n",
    "\n",
    "sensitivelist['generalisation'] =\"10 km\"\n",
    "sensitivelist['category'] = \"C2\"\n",
    "sensitivelist"
   ],
   "metadata": {
    "collapsed": false,
    "pycharm": {
     "name": "#%%\n"
    }
   }
  },
  {
   "cell_type": "code",
   "execution_count": 12,
   "outputs": [
    {
     "data": {
      "text/plain": "                                scientificName  \\\n0           Calyptorhynchus banksii graptogyne   \n1         Calyptorhynchus lathami halmaturinus   \n2           Lophochroa leadbeateri leadbeateri   \n3                Lophochroa leadbeateri mollis   \n4                        Zanda funerea whiteae   \n..                                         ...   \n215  Calyptorhynchus (Catyptorhynchus) lathami   \n216                     Lophochroa leadbeateri   \n217                      Polytelis anthopeplus   \n218                         Amytornis striatus   \n219                       Thinornis cucullatus   \n\n                                        vernacularName generalisation category  \n0               Red-tailed Black Cockatoo (south-east)          10 km       C2  \n1    Glossy Black-Cockatoo (Kangaroo Island subspec...          10 km       C2  \n2                  Major Mitchell's Cockatoo (LNE, MM)          10 km       C2  \n3                   Major Mitchell's Cockatoo (NW, EP)          10 km       C2  \n4                         Yellow-tailed Black Cockatoo          10 km       C2  \n..                                                 ...            ...      ...  \n215                                                             10 km       C2  \n216                                                             10 km       C2  \n217                                                             10 km       C2  \n218                                                             10 km       C2  \n219                                                             10 km       C2  \n\n[220 rows x 4 columns]",
      "text/html": "<div>\n<style scoped>\n    .dataframe tbody tr th:only-of-type {\n        vertical-align: middle;\n    }\n\n    .dataframe tbody tr th {\n        vertical-align: top;\n    }\n\n    .dataframe thead th {\n        text-align: right;\n    }\n</style>\n<table border=\"1\" class=\"dataframe\">\n  <thead>\n    <tr style=\"text-align: right;\">\n      <th></th>\n      <th>scientificName</th>\n      <th>vernacularName</th>\n      <th>generalisation</th>\n      <th>category</th>\n    </tr>\n  </thead>\n  <tbody>\n    <tr>\n      <th>0</th>\n      <td>Calyptorhynchus banksii graptogyne</td>\n      <td>Red-tailed Black Cockatoo (south-east)</td>\n      <td>10 km</td>\n      <td>C2</td>\n    </tr>\n    <tr>\n      <th>1</th>\n      <td>Calyptorhynchus lathami halmaturinus</td>\n      <td>Glossy Black-Cockatoo (Kangaroo Island subspec...</td>\n      <td>10 km</td>\n      <td>C2</td>\n    </tr>\n    <tr>\n      <th>2</th>\n      <td>Lophochroa leadbeateri leadbeateri</td>\n      <td>Major Mitchell's Cockatoo (LNE, MM)</td>\n      <td>10 km</td>\n      <td>C2</td>\n    </tr>\n    <tr>\n      <th>3</th>\n      <td>Lophochroa leadbeateri mollis</td>\n      <td>Major Mitchell's Cockatoo (NW, EP)</td>\n      <td>10 km</td>\n      <td>C2</td>\n    </tr>\n    <tr>\n      <th>4</th>\n      <td>Zanda funerea whiteae</td>\n      <td>Yellow-tailed Black Cockatoo</td>\n      <td>10 km</td>\n      <td>C2</td>\n    </tr>\n    <tr>\n      <th>...</th>\n      <td>...</td>\n      <td>...</td>\n      <td>...</td>\n      <td>...</td>\n    </tr>\n    <tr>\n      <th>215</th>\n      <td>Calyptorhynchus (Catyptorhynchus) lathami</td>\n      <td></td>\n      <td>10 km</td>\n      <td>C2</td>\n    </tr>\n    <tr>\n      <th>216</th>\n      <td>Lophochroa leadbeateri</td>\n      <td></td>\n      <td>10 km</td>\n      <td>C2</td>\n    </tr>\n    <tr>\n      <th>217</th>\n      <td>Polytelis anthopeplus</td>\n      <td></td>\n      <td>10 km</td>\n      <td>C2</td>\n    </tr>\n    <tr>\n      <th>218</th>\n      <td>Amytornis striatus</td>\n      <td></td>\n      <td>10 km</td>\n      <td>C2</td>\n    </tr>\n    <tr>\n      <th>219</th>\n      <td>Thinornis cucullatus</td>\n      <td></td>\n      <td>10 km</td>\n      <td>C2</td>\n    </tr>\n  </tbody>\n</table>\n<p>220 rows × 4 columns</p>\n</div>"
     },
     "execution_count": 12,
     "metadata": {},
     "output_type": "execute_result"
    }
   ],
   "source": [
    "# Added new species as requested\n",
    "# https://github.com/AtlasOfLivingAustralia/data-management/issues/962\n",
    "new_species = {'scientificName':\n",
    "               ['Calyptorhynchus (Catyptorhynchus) banksii',\n",
    "                'Calyptorhynchus (Catyptorhynchus) lathami',\n",
    "                'Lophochroa leadbeateri',\n",
    "                'Polytelis anthopeplus',\n",
    "                'Amytornis striatus',\n",
    "                'Thinornis cucullatus'],\n",
    "                 'vernacularName': ['', '', '', '','',''],\n",
    "                 'generalisation': ['10 km','10 km','10 km','10 km','10 km','10 km' ],\n",
    "                 'category': ['C2', 'C2','C2','C2','C2','C2',]}\n",
    "\n",
    "# Convert the dictionary to a DataFrame\n",
    "tempdf = pd.DataFrame(new_species)\n",
    "\n",
    "# Append the new rows to the existing DataFrame\n",
    "sensitivelist = sensitivelist.append(tempdf, ignore_index=True)\n",
    "sensitivelist\n"
   ],
   "metadata": {
    "collapsed": false,
    "pycharm": {
     "name": "#%%\n"
    }
   }
  },
  {
   "cell_type": "markdown",
   "source": [
    "Write dataframe to CSV"
   ],
   "metadata": {
    "collapsed": false,
    "pycharm": {
     "name": "#%% md\n"
    }
   }
  },
  {
   "cell_type": "code",
   "execution_count": null,
   "outputs": [],
   "source": [
    "# sasensitive.to_csv(\"~/IdeaProjects/authoritative-lists/current-lists/sensitive-lists/SA-sensitive.csv\",encoding=\"UTF-8\",index=False)\n",
    "sensitivelist.to_csv(projectDir + sdataDir + \"SA-sensitive.csv\", encoding=\"UTF-8\", index=False)\n",
    "print(\"Finished writing SA Sensitive list\")"
   ],
   "metadata": {
    "collapsed": false,
    "pycharm": {
     "name": "#%%\n"
    }
   }
  },
  {
   "cell_type": "markdown",
   "source": [
    "## Generate Change Log and save Historical list\n",
    "- After successful load and check in lists-tests run Change log to compare with production\n",
    "- Download Current production list to Historical Lists"
   ],
   "metadata": {
    "collapsed": false,
    "pycharm": {
     "name": "#%% md\n"
    }
   }
  },
  {
   "cell_type": "code",
   "execution_count": 14,
   "outputs": [
    {
     "name": "stdout",
     "output_type": "stream",
     "text": [
      "SA sensitive\n",
      "get_changelist: Test -  dr18706 Prod -  dr884\n",
      "download_ala_list:  https://lists.ala.org.au/ws/speciesListItems/dr884?max=10000&includeKVP=true\n",
      "Index(['id', 'name', 'commonName', 'scientificName', 'lsid', 'dataResourceUid',\n",
      "       'kvpValues'],\n",
      "      dtype='object')\n",
      "download_ala_list:  https://lists-test.ala.org.au/ws/speciesListItems/dr18706?max=10000&includeKVP=true\n",
      "Index(['id', 'name', 'commonName', 'scientificName', 'lsid', 'dataResourceUid',\n",
      "       'kvpValues'],\n",
      "      dtype='object')\n",
      "Finished SA sensitive\n"
     ]
    }
   ],
   "source": [
    "ltype = \"S\"\n",
    "changeDir = \"Monitoring/Change-logs/\"\n",
    "\n",
    "# SA Sensitive\n",
    "print('SA sensitive')\n",
    "filename = \"SA-sensitive.csv\"\n",
    "testdr = \"dr18706\"\n",
    "proddr = \"dr884\"\n",
    "changelist = lf.get_changelist(testdr, proddr, ltype)\n",
    "changelist.to_csv(projectDir + changeDir + monthStr + \"-\" + filename, encoding=\"UTF-8\", index=False)\n",
    "print('Finished SA sensitive')"
   ],
   "metadata": {
    "collapsed": false,
    "pycharm": {
     "name": "#%%\n"
    }
   }
  },
  {
   "cell_type": "code",
   "execution_count": null,
   "outputs": [],
   "source": [
    "# Download Current production list to Historical Lists\n",
    "state= \"SA\"\n",
    "filename = state + \"-\" + proddr + \"-sensitive.csv\"\n",
    "prodListUrl = \"https://lists.ala.org.au/ws/speciesListItems/\" + proddr + \"?max=10000&includeKVP=true\"\n",
    "prodList = lf.download_ala_list(prodListUrl)  # save the prod list to the historical lists directory\n",
    "prodList = lf.kvp_to_columns(prodList)\n",
    "prodList.to_csv(projectDir + \"historical-lists/sensitive/\" + filename, encoding=\"UTF-8\", index=False)\n",
    "print('Finished downloading sensitive historical list')"
   ],
   "metadata": {
    "collapsed": false,
    "pycharm": {
     "name": "#%%\n"
    }
   }
  }
 ],
 "metadata": {
  "kernelspec": {
   "display_name": "Python 3",
   "language": "python",
   "name": "python3"
  },
  "language_info": {
   "codemirror_mode": {
    "name": "ipython",
    "version": 2
   },
   "file_extension": ".py",
   "mimetype": "text/x-python",
   "name": "python",
   "nbconvert_exporter": "python",
   "pygments_lexer": "ipython2",
   "version": "2.7.6"
  }
 },
 "nbformat": 4,
 "nbformat_minor": 0
}