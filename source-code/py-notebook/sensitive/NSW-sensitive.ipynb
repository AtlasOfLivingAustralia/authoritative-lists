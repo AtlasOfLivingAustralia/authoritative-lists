{
 "cells": [
  {
   "cell_type": "markdown",
   "source": [
    "# NSW  Sensitive List\n",
    "\n",
    "## List Identifiers\n",
    "* Sensitive list: __[dr487](https://lists.ala.org.au/speciesListItem/list/dr487)__ (and [dr18457 in test](https://lists-test.ala.org.au/speciesListItem/list/dr18457))\n",
    "\n",
    "* Collection:  __[dr487](https://collections.ala.org.au/public/show/dr487)__\n",
    "### Source Data\n",
    "\n",
    "*  __[Home Page](https://data.bionet.nsw.gov.au)__\n",
    "*  __[API/Data Info](https://data.bionet.nsw.gov.au/biosvcapp/odata/SpeciesNames)__\n",
    "*  __[Data Information and file downloads](https://www.environment.nsw.gov.au/research-and-publications/publications-search/bionet-sensitive-species-list)__\n",
    "\n",
    "\n",
    "**Metadata Description**\n",
    "The NSW Government [http://www.environment.nsw.gov.au Office of Environment & Heritage] (OEH) maintains the Atlas of NSW Wildlife, a database of recorded sightings of flora and fauna species in the state. The Atlas contains records of plants, mammals, birds, reptiles, amphibians and some fish, fauna and invertebrates. The OEH has created a sensitive species data policy that sets out the manner in which 'sensitive' species will be categorised, and the levels of disclosure that can be allowed. See [http://www.environment.nsw.gov.au/policiesandguidelines/SensitiveSpeciesPolicy.htm more details of the policy]. The Atlas of Living Australia generalises latitude and longitude values in occurrence records for species in Category 2 to 1 decimal place (10km) and those in Category 3 to 2 decimal places (1km). Latitude and longitude values are withheld for species in Category 1. These rules are applied to all NSW occurrence records, regardless of source. See [http://biocache.ala.org.au/occurrence/0583b88e-6aa3-432e-9154-9b1cbaa59f74 an example record]. To access sensitive data for species in this list, email the BioNet mailbox at bionet@environment.nsw.gov.au and address it to the Data Exchange Officer requesting permission.\n",
    "\n",
    "Part of the sensitive data service - Yes\n",
    "Region - NSW\n",
    "SDS Authority - NSW OEH\n",
    "SDS Type - CONSERVATION\n",
    "\n",
    "**Metadata URL**\n",
    "https://data.bionet.nsw.gov.au"
   ],
   "metadata": {
    "collapsed": false,
    "pycharm": {
     "name": "#%% md\n"
    }
   }
  },
  {
   "cell_type": "markdown",
   "source": [
    "## Setup and Download source\n",
    "Import required libraries\n",
    "Retrieve dataset from API\n",
    "Set Project directory"
   ],
   "metadata": {
    "collapsed": false,
    "pycharm": {
     "name": "#%% md\n"
    }
   }
  },
  {
   "cell_type": "code",
   "execution_count": 1,
   "outputs": [],
   "source": [
    "import pandas as pd\n",
    "import urllib.request, json\n",
    "import os\n",
    "import sys\n",
    "import datetime\n",
    "import ssl\n",
    "\n",
    "#projectDir = \"/Users/oco115/PycharmProjects/authoritative-lists/\"\n",
    "projectDir = \"/Users/new330/IdeaProjects/authoritative-lists/\"\n",
    "statusDir = projectDir + \"source-data/status-codes/\"\n",
    "dateStr = datetime.datetime.now().strftime('%Y%m%d')\n",
    "sys.path.append(os.path.abspath(projectDir + \"source-code/includes\"))\n",
    "import list_functions as lf"
   ],
   "metadata": {
    "collapsed": false,
    "pycharm": {
     "name": "#%%\n"
    }
   }
  },
  {
   "cell_type": "code",
   "execution_count": 2,
   "outputs": [
    {
     "data": {
      "text/plain": "                             dcterms_rightsHolder dcterms_rights  \\\n0  NSW Dept of Planning, Industry and Environment      CC-BY 4.0   \n1  NSW Dept of Planning, Industry and Environment      CC-BY 4.0   \n2  NSW Dept of Planning, Industry and Environment      CC-BY 4.0   \n3  NSW Dept of Planning, Industry and Environment      CC-BY 4.0   \n4  NSW Dept of Planning, Industry and Environment      CC-BY 4.0   \n\n  dcterms_language dcterms_type              dcterms_modified  \\\n0               en      service  2013-12-20T15:06:07.13+11:00   \n1               en      service     2006-01-30T17:20:32+11:00   \n2               en      service     2006-11-23T16:57:26+11:00   \n3               en      service     2006-01-30T17:20:32+11:00   \n4               en      service  2021-02-01T18:14:41.78+11:00   \n\n           dcterms_available  speciesID taxonRank  kingdomID   kingdom  ...  \\\n0  1995-12-15T12:48:13+11:00          1   Species        138  Animalia  ...   \n1  1995-12-15T12:48:13+11:00          2   Species        138  Animalia  ...   \n2  1995-12-15T12:48:14+11:00          3   Species        138  Animalia  ...   \n3  1995-12-15T12:48:14+11:00          4   Species        138  Animalia  ...   \n4  1995-12-15T12:48:14+11:00          5   Species        138  Animalia  ...   \n\n   stateConservation protectedInNSW  sensitivityClass TSProfileID  \\\n0         Vulnerable           true     Not Sensitive     10211.0   \n1         Not Listed           true     Not Sensitive         NaN   \n2         Not Listed           true     Not Sensitive         NaN   \n3         Not Listed           true     Not Sensitive         NaN   \n4         Not Listed           true     Not Sensitive         NaN   \n\n   countryConservation highThreatWeed  widelyCultivatedNativeSpecies  CAMBA  \\\n0           Vulnerable           None                           None  false   \n1           Not Listed           None                           None  false   \n2           Not Listed           None                           None  false   \n3           Not Listed           None                           None  false   \n4           Not Listed           None                           None  false   \n\n   JAMBA  ROKAMBA  \n0  false    false  \n1  false    false  \n2  false    false  \n3  false    false  \n4  false    false  \n\n[5 rows x 51 columns]",
      "text/html": "<div>\n<style scoped>\n    .dataframe tbody tr th:only-of-type {\n        vertical-align: middle;\n    }\n\n    .dataframe tbody tr th {\n        vertical-align: top;\n    }\n\n    .dataframe thead th {\n        text-align: right;\n    }\n</style>\n<table border=\"1\" class=\"dataframe\">\n  <thead>\n    <tr style=\"text-align: right;\">\n      <th></th>\n      <th>dcterms_rightsHolder</th>\n      <th>dcterms_rights</th>\n      <th>dcterms_language</th>\n      <th>dcterms_type</th>\n      <th>dcterms_modified</th>\n      <th>dcterms_available</th>\n      <th>speciesID</th>\n      <th>taxonRank</th>\n      <th>kingdomID</th>\n      <th>kingdom</th>\n      <th>...</th>\n      <th>stateConservation</th>\n      <th>protectedInNSW</th>\n      <th>sensitivityClass</th>\n      <th>TSProfileID</th>\n      <th>countryConservation</th>\n      <th>highThreatWeed</th>\n      <th>widelyCultivatedNativeSpecies</th>\n      <th>CAMBA</th>\n      <th>JAMBA</th>\n      <th>ROKAMBA</th>\n    </tr>\n  </thead>\n  <tbody>\n    <tr>\n      <th>0</th>\n      <td>NSW Dept of Planning, Industry and Environment</td>\n      <td>CC-BY 4.0</td>\n      <td>en</td>\n      <td>service</td>\n      <td>2013-12-20T15:06:07.13+11:00</td>\n      <td>1995-12-15T12:48:13+11:00</td>\n      <td>1</td>\n      <td>Species</td>\n      <td>138</td>\n      <td>Animalia</td>\n      <td>...</td>\n      <td>Vulnerable</td>\n      <td>true</td>\n      <td>Not Sensitive</td>\n      <td>10211.0</td>\n      <td>Vulnerable</td>\n      <td>None</td>\n      <td>None</td>\n      <td>false</td>\n      <td>false</td>\n      <td>false</td>\n    </tr>\n    <tr>\n      <th>1</th>\n      <td>NSW Dept of Planning, Industry and Environment</td>\n      <td>CC-BY 4.0</td>\n      <td>en</td>\n      <td>service</td>\n      <td>2006-01-30T17:20:32+11:00</td>\n      <td>1995-12-15T12:48:13+11:00</td>\n      <td>2</td>\n      <td>Species</td>\n      <td>138</td>\n      <td>Animalia</td>\n      <td>...</td>\n      <td>Not Listed</td>\n      <td>true</td>\n      <td>Not Sensitive</td>\n      <td>NaN</td>\n      <td>Not Listed</td>\n      <td>None</td>\n      <td>None</td>\n      <td>false</td>\n      <td>false</td>\n      <td>false</td>\n    </tr>\n    <tr>\n      <th>2</th>\n      <td>NSW Dept of Planning, Industry and Environment</td>\n      <td>CC-BY 4.0</td>\n      <td>en</td>\n      <td>service</td>\n      <td>2006-11-23T16:57:26+11:00</td>\n      <td>1995-12-15T12:48:14+11:00</td>\n      <td>3</td>\n      <td>Species</td>\n      <td>138</td>\n      <td>Animalia</td>\n      <td>...</td>\n      <td>Not Listed</td>\n      <td>true</td>\n      <td>Not Sensitive</td>\n      <td>NaN</td>\n      <td>Not Listed</td>\n      <td>None</td>\n      <td>None</td>\n      <td>false</td>\n      <td>false</td>\n      <td>false</td>\n    </tr>\n    <tr>\n      <th>3</th>\n      <td>NSW Dept of Planning, Industry and Environment</td>\n      <td>CC-BY 4.0</td>\n      <td>en</td>\n      <td>service</td>\n      <td>2006-01-30T17:20:32+11:00</td>\n      <td>1995-12-15T12:48:14+11:00</td>\n      <td>4</td>\n      <td>Species</td>\n      <td>138</td>\n      <td>Animalia</td>\n      <td>...</td>\n      <td>Not Listed</td>\n      <td>true</td>\n      <td>Not Sensitive</td>\n      <td>NaN</td>\n      <td>Not Listed</td>\n      <td>None</td>\n      <td>None</td>\n      <td>false</td>\n      <td>false</td>\n      <td>false</td>\n    </tr>\n    <tr>\n      <th>4</th>\n      <td>NSW Dept of Planning, Industry and Environment</td>\n      <td>CC-BY 4.0</td>\n      <td>en</td>\n      <td>service</td>\n      <td>2021-02-01T18:14:41.78+11:00</td>\n      <td>1995-12-15T12:48:14+11:00</td>\n      <td>5</td>\n      <td>Species</td>\n      <td>138</td>\n      <td>Animalia</td>\n      <td>...</td>\n      <td>Not Listed</td>\n      <td>true</td>\n      <td>Not Sensitive</td>\n      <td>NaN</td>\n      <td>Not Listed</td>\n      <td>None</td>\n      <td>None</td>\n      <td>false</td>\n      <td>false</td>\n      <td>false</td>\n    </tr>\n  </tbody>\n</table>\n<p>5 rows × 51 columns</p>\n</div>"
     },
     "execution_count": 2,
     "metadata": {},
     "output_type": "execute_result"
    }
   ],
   "source": [
    "# %%script echo skipping # comment this line to download the files and save locally\n",
    "\n",
    "with urllib.request.urlopen(\"https://data.bionet.nsw.gov.au/biosvcapp/odata/SpeciesNames\",context=ssl._create_unverified_context()) as url:\n",
    "    data = json.loads(url.read().decode())\n",
    "nswspeciesnames = pd.json_normalize(data, record_path =['value'])\n",
    "nswspeciesnames.to_csv(projectDir + \"source-data/NSW/SpeciesNames.csv\",encoding=\"UTF-8\",index=False)\n",
    "nswspeciesnames.head(5)"
   ],
   "metadata": {
    "collapsed": false,
    "pycharm": {
     "name": "#%%\n"
    }
   }
  },
  {
   "cell_type": "markdown",
   "source": [],
   "metadata": {
    "collapsed": false,
    "pycharm": {
     "name": "#%% md\n"
    }
   }
  },
  {
   "cell_type": "code",
   "execution_count": 32,
   "outputs": [
    {
     "data": {
      "text/plain": "               scientificName        family          genus  \\\n5    Callocephalon fimbriatum    Cacatuidae  Callocephalon   \n51        Anthochaera phrygia  Meliphagidae    Anthochaera   \n159             Ninox strenua     Strigidae          Ninox   \n326          Tyto tenebricosa     Tytonidae           Tyto   \n356           Ninox connivens     Strigidae          Ninox   \n\n         vernacularName generalisation    category  \n5    Gang-gang Cockatoo            1km  Category 3  \n51    Regent Honeyeater           10km  Category 2  \n159        Powerful Owl            1km  Category 3  \n326           Sooty Owl            1km  Category 3  \n356         Barking Owl            1km  Category 3  ",
      "text/html": "<div>\n<style scoped>\n    .dataframe tbody tr th:only-of-type {\n        vertical-align: middle;\n    }\n\n    .dataframe tbody tr th {\n        vertical-align: top;\n    }\n\n    .dataframe thead th {\n        text-align: right;\n    }\n</style>\n<table border=\"1\" class=\"dataframe\">\n  <thead>\n    <tr style=\"text-align: right;\">\n      <th></th>\n      <th>scientificName</th>\n      <th>family</th>\n      <th>genus</th>\n      <th>vernacularName</th>\n      <th>generalisation</th>\n      <th>category</th>\n    </tr>\n  </thead>\n  <tbody>\n    <tr>\n      <th>5</th>\n      <td>Callocephalon fimbriatum</td>\n      <td>Cacatuidae</td>\n      <td>Callocephalon</td>\n      <td>Gang-gang Cockatoo</td>\n      <td>1km</td>\n      <td>Category 3</td>\n    </tr>\n    <tr>\n      <th>51</th>\n      <td>Anthochaera phrygia</td>\n      <td>Meliphagidae</td>\n      <td>Anthochaera</td>\n      <td>Regent Honeyeater</td>\n      <td>10km</td>\n      <td>Category 2</td>\n    </tr>\n    <tr>\n      <th>159</th>\n      <td>Ninox strenua</td>\n      <td>Strigidae</td>\n      <td>Ninox</td>\n      <td>Powerful Owl</td>\n      <td>1km</td>\n      <td>Category 3</td>\n    </tr>\n    <tr>\n      <th>326</th>\n      <td>Tyto tenebricosa</td>\n      <td>Tytonidae</td>\n      <td>Tyto</td>\n      <td>Sooty Owl</td>\n      <td>1km</td>\n      <td>Category 3</td>\n    </tr>\n    <tr>\n      <th>356</th>\n      <td>Ninox connivens</td>\n      <td>Strigidae</td>\n      <td>Ninox</td>\n      <td>Barking Owl</td>\n      <td>1km</td>\n      <td>Category 3</td>\n    </tr>\n  </tbody>\n</table>\n</div>"
     },
     "execution_count": 32,
     "metadata": {},
     "output_type": "execute_result"
    }
   ],
   "source": [
    "# 1\n",
    "dictn = {\"Category 3\": \"1km\",\n",
    "       \"Category 2\": \"10km\",\n",
    "       \"Category 1\": \"WITHHOLD\"\n",
    "}\n",
    "select = ['Category 3','Category 2','Category 1']\n",
    "sensitivelist = nswspeciesnames\n",
    "sensitivelist['generalisation'] = sensitivelist['sensitivityClass']\n",
    "sensitivelist['generalisation'] = sensitivelist['generalisation'].replace(dictn)\n",
    "\n",
    "# 2\n",
    "sensitivelist = sensitivelist[(sensitivelist['speciesID'] == sensitivelist['taxonID']) & sensitivelist['sensitivityClass'].isin(select)]\n",
    "sensitivelist = sensitivelist[['scientificName', 'family', 'genus', 'vernacularName','generalisation', 'sensitivityClass']]\n",
    "sensitivelist = sensitivelist.rename(columns={'sensitivityClass': 'category'})\n",
    "\n",
    "# 3\n",
    "sensitivelist.to_csv(projectDir + \"current-lists/sensitive-lists/NSW-sensitive-\" + dateStr + \".csv\",encoding=\"UTF-8\",index=False)\n",
    "sensitivelist.head(5)"
   ],
   "metadata": {
    "collapsed": false,
    "pycharm": {
     "name": "#%%\n"
    }
   }
  },
  {
   "cell_type": "code",
   "execution_count": 33,
   "outputs": [],
   "source": [
    "## 22/08/2023\n",
    "# add an item to the list\n",
    "# NSW have added a subspecies level entry (Calyptorhynchus lathami lathami) and replaced it with a species entry (Calyptorhynchus lathami), which the SDS will not work with, because it doesn't necessarily cascade changes. Both need to be in the list.\n",
    "# Add the species entry back to the list, upload it to test, and run the changelist process again\n",
    "new = sensitivelist[sensitivelist.scientificName == \"Calyptorhynchus lathami lathami\"].copy()\n",
    "new[['scientificName']] = \"Calyptorhynchus lathami\" # replace the name\n",
    "new[['vernacularName']] = \"Glossy Black-cockatoo\"\n",
    "sensitivelist = pd.concat([sensitivelist,new])\n",
    "sensitivelist[sensitivelist['scientificName'].str.startswith('Calyptorhynchus lathami')]\n",
    "sensitivelist.to_csv(projectDir + \"current-lists/sensitive-lists/NSW-sensitive-\" + dateStr + \".csv\",encoding=\"UTF-8\",index=False)"
   ],
   "metadata": {
    "collapsed": false,
    "pycharm": {
     "name": "#%%\n"
    }
   }
  },
  {
   "cell_type": "markdown",
   "source": [
    "## Write change logs\n",
    "Upload the file to the test environment before running the below, to check the difference between the list in test with that in production.\n",
    "- check record counts old vs new\n",
    "- check change log adds up\n",
    "- send to domain experts for verification"
   ],
   "metadata": {
    "collapsed": false,
    "pycharm": {
     "name": "#%% md\n"
    }
   }
  },
  {
   "cell_type": "code",
   "execution_count": 34,
   "outputs": [
    {
     "name": "stdout",
     "output_type": "stream",
     "text": [
      "get_changelist: Test -  dr18457 Prod -  dr487\n",
      "download_ala_list:  https://lists.ala.org.au/ws/speciesListItems/dr487?max=10000&includeKVP=true\n",
      "Index(['id', 'name', 'commonName', 'scientificName', 'lsid', 'dataResourceUid',\n",
      "       'kvpValues'],\n",
      "      dtype='object')\n",
      "download_ala_list:  https://lists-test.ala.org.au/ws/speciesListItems/dr18457?max=10000&includeKVP=true\n",
      "Index(['id', 'name', 'commonName', 'scientificName', 'lsid', 'dataResourceUid',\n",
      "       'kvpValues'],\n",
      "      dtype='object')\n"
     ]
    },
    {
     "data": {
      "text/plain": "                                       name  \\\n148         Calyptorhynchus lathami lathami   \n186   Leionema lamprophyllum subsp. fractum   \n199                   Danhatchia copelandii   \n139  Leionema lamprophyllum subsp. obovatum   \n140                     Caladenia porphyrea   \n\n                         scientificName_old  \\\n148                                     NaN   \n186                                     NaN   \n199                                     NaN   \n139  Leionema lamprophyllum subsp. obovatum   \n140                   Caladenia quadrifaria   \n\n                                    scientificName_new  commonName_old  \\\n148  Calyptorhynchus (Calyptorhynchus) lathami lathami             NaN   \n186              Leionema lamprophyllum subsp. fractum             NaN   \n199                              Danhatchia copelandii             NaN   \n139                                                NaN  Shiny Leionema   \n140                                                NaN            None   \n\n            commonName_new listUpdate  \n148  Glossy Black-cockatoo      added  \n186                   None      added  \n199                   None      added  \n139                    NaN    removed  \n140                    NaN    removed  ",
      "text/html": "<div>\n<style scoped>\n    .dataframe tbody tr th:only-of-type {\n        vertical-align: middle;\n    }\n\n    .dataframe tbody tr th {\n        vertical-align: top;\n    }\n\n    .dataframe thead th {\n        text-align: right;\n    }\n</style>\n<table border=\"1\" class=\"dataframe\">\n  <thead>\n    <tr style=\"text-align: right;\">\n      <th></th>\n      <th>name</th>\n      <th>scientificName_old</th>\n      <th>scientificName_new</th>\n      <th>commonName_old</th>\n      <th>commonName_new</th>\n      <th>listUpdate</th>\n    </tr>\n  </thead>\n  <tbody>\n    <tr>\n      <th>148</th>\n      <td>Calyptorhynchus lathami lathami</td>\n      <td>NaN</td>\n      <td>Calyptorhynchus (Calyptorhynchus) lathami lathami</td>\n      <td>NaN</td>\n      <td>Glossy Black-cockatoo</td>\n      <td>added</td>\n    </tr>\n    <tr>\n      <th>186</th>\n      <td>Leionema lamprophyllum subsp. fractum</td>\n      <td>NaN</td>\n      <td>Leionema lamprophyllum subsp. fractum</td>\n      <td>NaN</td>\n      <td>None</td>\n      <td>added</td>\n    </tr>\n    <tr>\n      <th>199</th>\n      <td>Danhatchia copelandii</td>\n      <td>NaN</td>\n      <td>Danhatchia copelandii</td>\n      <td>NaN</td>\n      <td>None</td>\n      <td>added</td>\n    </tr>\n    <tr>\n      <th>139</th>\n      <td>Leionema lamprophyllum subsp. obovatum</td>\n      <td>Leionema lamprophyllum subsp. obovatum</td>\n      <td>NaN</td>\n      <td>Shiny Leionema</td>\n      <td>NaN</td>\n      <td>removed</td>\n    </tr>\n    <tr>\n      <th>140</th>\n      <td>Caladenia porphyrea</td>\n      <td>Caladenia quadrifaria</td>\n      <td>NaN</td>\n      <td>None</td>\n      <td>NaN</td>\n      <td>removed</td>\n    </tr>\n  </tbody>\n</table>\n</div>"
     },
     "execution_count": 34,
     "metadata": {},
     "output_type": "execute_result"
    }
   ],
   "source": [
    "ltype = \"S\"\n",
    "changeDir = \"Monitoring/Change-logs/\"\n",
    "filename = \"NSW-sensitive.csv\"\n",
    "testdr = \"dr18457\"\n",
    "proddr = \"dr487\"\n",
    "changelist = lf.get_changelist(testdr, proddr, ltype)\n",
    "changelist.to_csv(projectDir + changeDir + dateStr + \"-\" + filename, encoding=\"UTF-8\", index=False)\n",
    "changelist"
   ],
   "metadata": {
    "collapsed": false,
    "pycharm": {
     "name": "#%%\n"
    }
   }
  },
  {
   "cell_type": "markdown",
   "source": [
    "If all ok, run the following to keep a copy of the list in prod before overwriting it"
   ],
   "metadata": {
    "collapsed": false
   }
  },
  {
   "cell_type": "code",
   "execution_count": 36,
   "outputs": [
    {
     "name": "stdout",
     "output_type": "stream",
     "text": [
      "download_ala_list:  https://lists.ala.org.au/ws/speciesListItems/dr487?max=10000&includeKVP=true\n",
      "Index(['id', 'name', 'commonName', 'scientificName', 'lsid', 'dataResourceUid',\n",
      "       'kvpValues'],\n",
      "      dtype='object')\n",
      "Finished downloading sensitive historical list\n"
     ]
    }
   ],
   "source": [
    "# Sensitive Lists\n",
    "state= \"NSW\"\n",
    "filename = state + \"-\" + proddr + \"-sensitive.csv\"\n",
    "prodListUrl = \"https://lists.ala.org.au/ws/speciesListItems/\" + proddr + \"?max=10000&includeKVP=true\"\n",
    "prodList = lf.download_ala_specieslist(prodListUrl)  # save the prod list to the historical lists directory\n",
    "prodList = lf.kvp_to_columns(prodList)\n",
    "prodList.to_csv(projectDir + \"historical-lists/sensitive/\" + filename, encoding=\"UTF-8\", index=False)\n",
    "print('Finished downloading sensitive historical list')"
   ],
   "metadata": {
    "collapsed": false,
    "pycharm": {
     "name": "#%%\n"
    }
   }
  }
 ],
 "metadata": {
  "kernelspec": {
   "display_name": "Python 3",
   "language": "python",
   "name": "python3"
  },
  "language_info": {
   "codemirror_mode": {
    "name": "ipython",
    "version": 3
   },
   "file_extension": ".py",
   "mimetype": "text/x-python",
   "name": "python",
   "nbconvert_exporter": "python",
   "pygments_lexer": "ipython3",
   "version": "3.8.8"
  }
 },
 "nbformat": 4,
 "nbformat_minor": 5
}