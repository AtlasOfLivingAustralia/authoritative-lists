{
 "cells": [
  {
   "cell_type": "markdown",
   "source": [
    "# NSW  Sensitive List\n",
    "\n",
    "## List Identifiers\n",
    "* Sensitive list: __[dr487](https://lists.ala.org.au/speciesListItem/list/dr487)__ (and [dr18457 in test](https://lists-test.ala.org.au/speciesListItem/list/dr18457))\n",
    "\n",
    "* Collection:  __[dr487](https://collections.ala.org.au/public/show/dr487)__\n",
    "### Source Data\n",
    "\n",
    "*  __[Home Page](https://data.bionet.nsw.gov.au)__\n",
    "*  __[API/Data Info](https://data.bionet.nsw.gov.au/biosvcapp/odata/SpeciesNames)__\n",
    "*  __[Data Information and file downloads](https://www.environment.nsw.gov.au/research-and-publications/publications-search/bionet-sensitive-species-list)__\n",
    "\n",
    "\n",
    "**Metadata Description**\n",
    "Classification codes under the Threatened Species Conservation Act 1995: * Presumed Extinct * Critically Endangered * Endangered * Vulnerable * Endangered Population Learn more about the classifications used by the NSW Office of Environment & Heritage Machine-readable downloads can be obtained by searching NSW BioNet, the website for the Atlas of NSW Wildlife, and selecting: 1. Which species or group? = \"all species\", 2. Legal status = \"Select records that fall under one or more categories\" then choose \"Threatened in NSW\" 3. What area? = \"Entire area\" 4. Period of records? = \"All records\"\n",
    "\n",
    "**Metadata URL**\n",
    "https://data.bionet.nsw.gov.au\n"
   ],
   "metadata": {
    "collapsed": false,
    "pycharm": {
     "name": "#%% md\n"
    }
   }
  },
  {
   "cell_type": "markdown",
   "source": [
    "Import required libraries\n",
    "Retrieve dataset from API\n",
    "Set Project directory"
   ],
   "metadata": {
    "collapsed": false,
    "pycharm": {
     "name": "#%% md\n"
    }
   }
  },
  {
   "cell_type": "code",
   "execution_count": 1,
   "outputs": [],
   "source": [
    "import pandas as pd\n",
    "import urllib.request, json\n",
    "import os\n",
    "import sys\n",
    "\n",
    "projectDir = \"/Users/oco115/PycharmProjects/authoritative-lists/\"\n",
    "statusDir = projectDir + \"source-data/status-codes/\"\n",
    "# projectDir = \"/Users/new330/IdeaProjects/authoritative-lists/\"\n",
    "sys.path.append(os.path.abspath(projectDir + \"source-code/includes\"))\n",
    "# import list_functions as lf\n"
   ],
   "metadata": {
    "collapsed": false,
    "pycharm": {
     "name": "#%%\n"
    }
   }
  },
  {
   "cell_type": "code",
   "execution_count": null,
   "outputs": [],
   "source": [
    "# %%script echo skipping # comment this line to download the files and save locally\n",
    "\n",
    "with urllib.request.urlopen(\"https://data.bionet.nsw.gov.au/biosvcapp/odata/SpeciesNames\") as url:\n",
    "    data = json.loads(url.read().decode())\n",
    "sensitivelist = pd.json_normalize(data, record_path =['value'])"
   ],
   "metadata": {
    "collapsed": false,
    "pycharm": {
     "name": "#%%\n"
    }
   }
  },
  {
   "cell_type": "markdown",
   "source": [
    "## Process Sensitive"
   ],
   "metadata": {
    "collapsed": false,
    "pycharm": {
     "name": "#%% md\n"
    }
   }
  },
  {
   "cell_type": "markdown",
   "source": [
    "Create dictionary for location obfuscation based on Category"
   ],
   "metadata": {
    "collapsed": false,
    "pycharm": {
     "name": "#%% md\n"
    }
   }
  },
  {
   "cell_type": "code",
   "execution_count": 4,
   "outputs": [],
   "source": [
    "dictn = {\"Category 3\": \"1km\",\n",
    "       \"Category 2\": \"10km\",\n",
    "       \"Category 1\": \"WITHHOLD\"\n",
    "}\n",
    "select = ['Category 3','Category 2','Category 1']"
   ],
   "metadata": {
    "collapsed": false,
    "pycharm": {
     "name": "#%%\n"
    }
   }
  },
  {
   "cell_type": "markdown",
   "source": [
    "Set location generalisation values based on Category"
   ],
   "metadata": {
    "collapsed": false,
    "pycharm": {
     "name": "#%% md\n"
    }
   }
  },
  {
   "cell_type": "markdown",
   "source": [],
   "metadata": {
    "collapsed": false,
    "pycharm": {
     "name": "#%% md\n"
    }
   }
  },
  {
   "cell_type": "code",
   "execution_count": 6,
   "outputs": [],
   "source": [
    "sensitivelist['generalisation'] = sensitivelist['sensitivityClass']\n",
    "sensitivelist['generalisation'] = sensitivelist['generalisation'].replace(dictn)"
   ],
   "metadata": {
    "collapsed": false,
    "pycharm": {
     "name": "#%%\n"
    }
   }
  },
  {
   "cell_type": "markdown",
   "source": [
    "Extract records where speciesID equals taxonID and sensitivityClass is one of Category 3, Category 2 or Category1\n",
    "Set status and sourceStatus"
   ],
   "metadata": {
    "collapsed": false,
    "pycharm": {
     "name": "#%% md\n"
    }
   }
  },
  {
   "cell_type": "code",
   "execution_count": 7,
   "outputs": [],
   "source": [
    "sensitivelist = sensitivelist[(sensitivelist['speciesID'] == sensitivelist['taxonID']) & sensitivelist['sensitivityClass'].isin(select)]\n",
    "sensitivelist = sensitivelist[['scientificName', 'family', 'genus', 'vernacularName','generalisation', 'sensitivityClass']]\n",
    "sensitivelist = sensitivelist.rename(columns={'sensitivityClass': 'category'})\n",
    "sensitivelist"
   ],
   "metadata": {
    "collapsed": false,
    "pycharm": {
     "name": "#%%\n"
    }
   }
  },
  {
   "cell_type": "markdown",
   "source": [
    "Write dataframe to CSV file - UTF-8 Encoding"
   ],
   "metadata": {
    "collapsed": false,
    "pycharm": {
     "name": "#%% md\n"
    }
   }
  },
  {
   "cell_type": "code",
   "execution_count": 12,
   "outputs": [
    {
     "name": "stdout",
     "output_type": "stream",
     "text": [
      "Writing to CSV\n",
      "Finished writing NSW Sensitive list\n"
     ]
    }
   ],
   "source": [
    "print(\"Writing to CSV\")\n",
    "sensitivelist.to_csv(projectDir + \"current-lists/sensitive-lists/NSW-sensitive-20230614.csv\",encoding=\"UTF-8\",index=False)\n",
    "print('Finished writing NSW Sensitive list')"
   ],
   "metadata": {
    "collapsed": false,
    "pycharm": {
     "name": "#%%\n"
    }
   }
  },
  {
   "cell_type": "markdown",
   "source": [],
   "metadata": {
    "collapsed": false,
    "pycharm": {
     "name": "#%% md\n"
    }
   }
  }
 ],
 "metadata": {
  "kernelspec": {
   "display_name": "Python 3",
   "language": "python",
   "name": "python3"
  },
  "language_info": {
   "codemirror_mode": {
    "name": "ipython",
    "version": 3
   },
   "file_extension": ".py",
   "mimetype": "text/x-python",
   "name": "python",
   "nbconvert_exporter": "python",
   "pygments_lexer": "ipython3",
   "version": "3.8.8"
  }
 },
 "nbformat": 4,
 "nbformat_minor": 5
}