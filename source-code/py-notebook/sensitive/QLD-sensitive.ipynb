{
 "cells": [
  {
   "cell_type": "markdown",
   "source": [],
   "metadata": {
    "collapsed": false,
    "pycharm": {
     "name": "#%% md\n"
    }
   }
  },
  {
   "cell_type": "code",
   "execution_count": 1,
   "outputs": [],
   "source": [
    "import pandas as pd\n",
    "import requests\n",
    "import io\n",
    "from ftfy import fix_encoding\n",
    "import os\n",
    "import sys\n",
    "import datetime\n",
    "\n",
    "#projectDir = \"/Users/oco115/PycharmProjects/authoritative-lists/\"\n",
    "projectDir = \"/Users/new330/IdeaProjects/authoritative-lists/\"\n",
    "sys.path.append(os.path.abspath(projectDir + \"source-code/includes\"))\n",
    "import list_functions as lf\n",
    "\n",
    "sourceDataDir = projectDir + \"source-data/QLD/\"\n",
    "statusDir = projectDir + \"source-data/status-codes/\"\n",
    "processedDataDir = projectDir + \"current-lists/\"\n",
    "state = 'QLD'\n",
    "monthStr = datetime.datetime.now().strftime('%Y%m')\n",
    "codesfile = statusDir + state + \"-codes.csv\"\n",
    "codesurl =  \"https://apps.des.qld.gov.au/data-sets/wildlife/wildnet/species-status-codes.csv\"\n",
    "sensitivelisturl = \"https://apps.des.qld.gov.au/data-sets/wildlife/wildnet/qld-confidential-species.csv\"\n",
    "prodListDruid = \"dr493\"\n",
    "testListDruid = \"dr18404\""
   ],
   "metadata": {
    "collapsed": false,
    "pycharm": {
     "name": "#%%\n"
    }
   }
  },
  {
   "cell_type": "markdown",
   "source": [
    "## Download the raw files from data.qld.gov.au\n",
    "... save locally"
   ],
   "metadata": {
    "collapsed": false,
    "pycharm": {
     "name": "#%% md\n"
    }
   }
  },
  {
   "cell_type": "code",
   "execution_count": 2,
   "outputs": [],
   "source": [
    "# Status codes\n",
    "response = requests.get(codesurl)\n",
    "rtext = fix_encoding(response.text)\n",
    "speciescodes = pd.read_csv(io.StringIO(rtext))\n",
    "speciescodes.to_csv(sourceDataDir + \"species-status-codes.csv\", index=False)\n",
    "\n",
    "# Confidential/Sensitive List\n",
    "response = requests.get(sensitivelisturl)\n",
    "rtext = fix_encoding(response.text)\n",
    "sensitivelist = pd.read_csv(io.StringIO(rtext))\n",
    "sensitivelist.to_csv(sourceDataDir + \"qld-confidential-species.csv\", index=False)"
   ],
   "metadata": {
    "collapsed": false,
    "pycharm": {
     "name": "#%%\n"
    }
   }
  },
  {
   "cell_type": "markdown",
   "source": [
    "... read local file"
   ],
   "metadata": {
    "collapsed": false
   }
  },
  {
   "cell_type": "code",
   "execution_count": 3,
   "outputs": [],
   "source": [
    "speciescodes = pd.read_csv(sourceDataDir + \"species-status-codes.csv\")\n",
    "sensitivelist = pd.read_csv(sourceDataDir + \"qld-confidential-species.csv\")"
   ],
   "metadata": {
    "collapsed": false,
    "pycharm": {
     "name": "#%%\n"
    }
   }
  },
  {
   "cell_type": "markdown",
   "source": [
    "## Standardise Status Codes\n",
    "Some minimal changes to some Qld Nature Conservation Act codes so that they are consistent with other states"
   ],
   "metadata": {
    "collapsed": false,
    "pycharm": {
     "name": "#%% md\n"
    }
   }
  },
  {
   "cell_type": "code",
   "execution_count": 4,
   "outputs": [
    {
     "data": {
      "text/plain": "   Code       Code_description\n20    C          Least concern\n21   CR  Critically Endangered\n22    E             Endangered\n23   EX                Extinct\n24    I          International\n25   NT        Near Threatened\n26    P             Prohibited\n27   PE    Extinct in the wild\n28   SL  Special least concern\n29    V             Vulnerable",
      "text/html": "<div>\n<style scoped>\n    .dataframe tbody tr th:only-of-type {\n        vertical-align: middle;\n    }\n\n    .dataframe tbody tr th {\n        vertical-align: top;\n    }\n\n    .dataframe thead th {\n        text-align: right;\n    }\n</style>\n<table border=\"1\" class=\"dataframe\">\n  <thead>\n    <tr style=\"text-align: right;\">\n      <th></th>\n      <th>Code</th>\n      <th>Code_description</th>\n    </tr>\n  </thead>\n  <tbody>\n    <tr>\n      <th>20</th>\n      <td>C</td>\n      <td>Least concern</td>\n    </tr>\n    <tr>\n      <th>21</th>\n      <td>CR</td>\n      <td>Critically Endangered</td>\n    </tr>\n    <tr>\n      <th>22</th>\n      <td>E</td>\n      <td>Endangered</td>\n    </tr>\n    <tr>\n      <th>23</th>\n      <td>EX</td>\n      <td>Extinct</td>\n    </tr>\n    <tr>\n      <th>24</th>\n      <td>I</td>\n      <td>International</td>\n    </tr>\n    <tr>\n      <th>25</th>\n      <td>NT</td>\n      <td>Near Threatened</td>\n    </tr>\n    <tr>\n      <th>26</th>\n      <td>P</td>\n      <td>Prohibited</td>\n    </tr>\n    <tr>\n      <th>27</th>\n      <td>PE</td>\n      <td>Extinct in the wild</td>\n    </tr>\n    <tr>\n      <th>28</th>\n      <td>SL</td>\n      <td>Special least concern</td>\n    </tr>\n    <tr>\n      <th>29</th>\n      <td>V</td>\n      <td>Vulnerable</td>\n    </tr>\n  </tbody>\n</table>\n</div>"
     },
     "execution_count": 4,
     "metadata": {},
     "output_type": "execute_result"
    }
   ],
   "source": [
    "ncastatuscodes = speciescodes[speciescodes['Field'] == \"NCA_status\"][['Code', 'Code_description']]\n",
    "ncastatuscodes['Code_description'] = ncastatuscodes['Code_description'].str.replace(\" wildlife\", \"\")\n",
    "ncastatuscodes.loc[\n",
    "    ncastatuscodes['Code_description'] == \"Critically endangered\", 'Code_description'] = \"Critically Endangered\"\n",
    "ncastatuscodes.loc[ncastatuscodes['Code_description'] == \"Near threatened\", 'Code_description'] = \"Near Threatened\"\n",
    "ncastatuscodes"
   ],
   "metadata": {
    "collapsed": false,
    "pycharm": {
     "name": "#%%\n"
    }
   }
  },
  {
   "cell_type": "markdown",
   "source": [
    "## List processing\n",
    "* Expand the nca status, endemicity and epbc status codes\n",
    "* Rename fields to DwC terms\n",
    "* Replace kingdom and class values with scientific terms"
   ],
   "metadata": {
    "collapsed": false,
    "pycharm": {
     "name": "#%% md\n"
    }
   }
  },
  {
   "cell_type": "code",
   "execution_count": 5,
   "outputs": [
    {
     "data": {
      "text/plain": "                   scientificName  \\\n0      Rhinolophus philippinensis   \n1               Chloebia gouldiae   \n2              Erythrura trichroa   \n3    Neochmia phaeton evangelinae   \n4          Poephila cincta cincta   \n..                            ...   \n955      Pneumatopteris pennigera   \n956           Reholttumia costata   \n957         Thelypteris confluens   \n958            Macadamia jansenii   \n959        Tmesipteris lanceolata   \n\n                                     vernacularName category generalisation  \n0                 greater large-eared horseshoe bat       EN           2 km  \n1                                    Gouldian finch       EN           2 km  \n2                           blue-faced parrot-finch       NT           2 km  \n3          crimson finch (white-bellied subspecies)       LC           2 km  \n4    black-throated finch (white-rumped subspecies)       EN           2 km  \n..                                              ...      ...            ...  \n955                                       lime fern       EN           2 km  \n956                                             NaN       NT           2 km  \n957                                             NaN       VU           2 km  \n958                                             NaN       CR           2 km  \n959                                             NaN       EW           2 km  \n\n[960 rows x 4 columns]",
      "text/html": "<div>\n<style scoped>\n    .dataframe tbody tr th:only-of-type {\n        vertical-align: middle;\n    }\n\n    .dataframe tbody tr th {\n        vertical-align: top;\n    }\n\n    .dataframe thead th {\n        text-align: right;\n    }\n</style>\n<table border=\"1\" class=\"dataframe\">\n  <thead>\n    <tr style=\"text-align: right;\">\n      <th></th>\n      <th>scientificName</th>\n      <th>vernacularName</th>\n      <th>category</th>\n      <th>generalisation</th>\n    </tr>\n  </thead>\n  <tbody>\n    <tr>\n      <th>0</th>\n      <td>Rhinolophus philippinensis</td>\n      <td>greater large-eared horseshoe bat</td>\n      <td>EN</td>\n      <td>2 km</td>\n    </tr>\n    <tr>\n      <th>1</th>\n      <td>Chloebia gouldiae</td>\n      <td>Gouldian finch</td>\n      <td>EN</td>\n      <td>2 km</td>\n    </tr>\n    <tr>\n      <th>2</th>\n      <td>Erythrura trichroa</td>\n      <td>blue-faced parrot-finch</td>\n      <td>NT</td>\n      <td>2 km</td>\n    </tr>\n    <tr>\n      <th>3</th>\n      <td>Neochmia phaeton evangelinae</td>\n      <td>crimson finch (white-bellied subspecies)</td>\n      <td>LC</td>\n      <td>2 km</td>\n    </tr>\n    <tr>\n      <th>4</th>\n      <td>Poephila cincta cincta</td>\n      <td>black-throated finch (white-rumped subspecies)</td>\n      <td>EN</td>\n      <td>2 km</td>\n    </tr>\n    <tr>\n      <th>...</th>\n      <td>...</td>\n      <td>...</td>\n      <td>...</td>\n      <td>...</td>\n    </tr>\n    <tr>\n      <th>955</th>\n      <td>Pneumatopteris pennigera</td>\n      <td>lime fern</td>\n      <td>EN</td>\n      <td>2 km</td>\n    </tr>\n    <tr>\n      <th>956</th>\n      <td>Reholttumia costata</td>\n      <td>NaN</td>\n      <td>NT</td>\n      <td>2 km</td>\n    </tr>\n    <tr>\n      <th>957</th>\n      <td>Thelypteris confluens</td>\n      <td>NaN</td>\n      <td>VU</td>\n      <td>2 km</td>\n    </tr>\n    <tr>\n      <th>958</th>\n      <td>Macadamia jansenii</td>\n      <td>NaN</td>\n      <td>CR</td>\n      <td>2 km</td>\n    </tr>\n    <tr>\n      <th>959</th>\n      <td>Tmesipteris lanceolata</td>\n      <td>NaN</td>\n      <td>EW</td>\n      <td>2 km</td>\n    </tr>\n  </tbody>\n</table>\n<p>960 rows × 4 columns</p>\n</div>"
     },
     "execution_count": 5,
     "metadata": {},
     "output_type": "execute_result"
    }
   ],
   "source": [
    "# nca status\n",
    "sensitivelist = pd.merge(sensitivelist,ncastatuscodes,left_on=['NCA status'],right_on=['Code'],how=\"left\")\n",
    "sensitivelist = sensitivelist.rename(columns={'NCA status':'sourceStatus'})\n",
    "sensitivelist = sensitivelist[['Scientific name', 'Common name', 'sourceStatus']]\n",
    "sensitivelist = sensitivelist.rename(columns= {'Scientific name':'scientificName',\n",
    "                                               'Common name': 'vernacularName',\n",
    "                                                'sourceStatus': 'category' })\n",
    "sensitivelist['generalisation'] = \"2 km\"\n",
    "# map sourceStatus to category\n",
    "codeMap = {'C': 'LC', 'CR': 'CR', 'E': 'EN',\n",
    "           'NT': 'NT','PE': 'EW', 'SL': 'SL',\n",
    "           'V': 'VU'}\n",
    "sensitivelist['category'] = sensitivelist['category'].replace(codeMap)\n",
    "sensitivelist['category'] = sensitivelist['category'].fillna('UK')\n",
    "sensitivelist.to_csv(processedDataDir + 'sensitive-lists/QLD-' + prodListDruid + '-sensitive.csv',encoding=\"UTF-8\",index=False)\n",
    "sensitivelist"
   ],
   "metadata": {
    "collapsed": false,
    "pycharm": {
     "name": "#%%\n"
    }
   }
  },
  {
   "cell_type": "markdown",
   "source": [
    "### Change Logs\n",
    "Upload the file to the test environment before running the below cell to compare it to the list in production.\n",
    "- check record counts old vs new and verify count in change log\n",
    "- send to domain experts for verification"
   ],
   "metadata": {
    "collapsed": false,
    "pycharm": {
     "name": "#%% md\n"
    }
   }
  },
  {
   "cell_type": "code",
   "execution_count": 6,
   "outputs": [
    {
     "name": "stdout",
     "output_type": "stream",
     "text": [
      "QLD sensitive\n",
      "get_changelist: Test -  dr18404 Prod -  dr493\n",
      "download_ala_list:  https://lists.ala.org.au/ws/speciesListItems/dr493?max=10000&includeKVP=true\n",
      "Index(['id', 'name', 'commonName', 'scientificName', 'lsid', 'dataResourceUid',\n",
      "       'kvpValues'],\n",
      "      dtype='object')\n",
      "download_ala_list:  https://lists-test.ala.org.au/ws/speciesListItems/dr18404?max=10000&includeKVP=true\n",
      "Index(['id', 'name', 'commonName', 'scientificName', 'lsid', 'dataResourceUid',\n",
      "       'kvpValues'],\n",
      "      dtype='object')\n"
     ]
    },
    {
     "data": {
      "text/plain": "                         name scientificName_old    scientificName_new  \\\n28   Calorodius thorntonensis                NaN                  None   \n105      Relicina rahengensis                NaN  Relicina rahengensis   \n278                Cooktownia                NaN                  None   \n301                   Corybas                NaN                  None   \n324                 Cymbidium                NaN                  None   \n419                  Dipodium                NaN                  None   \n535                   Liparis                NaN                  None   \n540                    Luisia                NaN                  None   \n548                  Microtis                NaN                  None   \n576                Orthoceras                NaN                  None   \n578                Pachystoma                NaN                  None   \n593              Phalaenopsis                NaN                  None   \n595                 Pholidota                NaN                  None   \n953           Pakau pennigera                NaN                  None   \n956       Reholttumia costata                NaN                  None   \n28   Calorodius thorntonensis               None                   NaN   \n277                Cooktownia               None                   NaN   \n300                   Corybas               None                   NaN   \n323                 Cymbidium               None                   NaN   \n418                  Dipodium               None                   NaN   \n534                   Liparis               None                   NaN   \n539                    Luisia               None                   NaN   \n547                  Microtis               None                   NaN   \n575                Orthoceras               None                   NaN   \n577                Pachystoma               None                   NaN   \n592              Phalaenopsis               None                   NaN   \n594                 Pholidota               None                   NaN   \n952           Pakau pennigera               None                   NaN   \n955       Reholttumia costata               None                   NaN   \n\n    commonName_old commonName_new listUpdate  \n28             NaN           None      added  \n105            NaN           None      added  \n278            NaN           None      added  \n301            NaN           None      added  \n324            NaN           None      added  \n419            NaN           None      added  \n535            NaN           None      added  \n540            NaN           None      added  \n548            NaN           None      added  \n576            NaN           None      added  \n578            NaN           None      added  \n593            NaN           None      added  \n595            NaN           None      added  \n953            NaN           None      added  \n956            NaN           None      added  \n28            None            NaN    removed  \n277           None            NaN    removed  \n300           None            NaN    removed  \n323           None            NaN    removed  \n418           None            NaN    removed  \n534           None            NaN    removed  \n539           None            NaN    removed  \n547           None            NaN    removed  \n575           None            NaN    removed  \n577           None            NaN    removed  \n592           None            NaN    removed  \n594           None            NaN    removed  \n952           None            NaN    removed  \n955           None            NaN    removed  ",
      "text/html": "<div>\n<style scoped>\n    .dataframe tbody tr th:only-of-type {\n        vertical-align: middle;\n    }\n\n    .dataframe tbody tr th {\n        vertical-align: top;\n    }\n\n    .dataframe thead th {\n        text-align: right;\n    }\n</style>\n<table border=\"1\" class=\"dataframe\">\n  <thead>\n    <tr style=\"text-align: right;\">\n      <th></th>\n      <th>name</th>\n      <th>scientificName_old</th>\n      <th>scientificName_new</th>\n      <th>commonName_old</th>\n      <th>commonName_new</th>\n      <th>listUpdate</th>\n    </tr>\n  </thead>\n  <tbody>\n    <tr>\n      <th>28</th>\n      <td>Calorodius thorntonensis</td>\n      <td>NaN</td>\n      <td>None</td>\n      <td>NaN</td>\n      <td>None</td>\n      <td>added</td>\n    </tr>\n    <tr>\n      <th>105</th>\n      <td>Relicina rahengensis</td>\n      <td>NaN</td>\n      <td>Relicina rahengensis</td>\n      <td>NaN</td>\n      <td>None</td>\n      <td>added</td>\n    </tr>\n    <tr>\n      <th>278</th>\n      <td>Cooktownia</td>\n      <td>NaN</td>\n      <td>None</td>\n      <td>NaN</td>\n      <td>None</td>\n      <td>added</td>\n    </tr>\n    <tr>\n      <th>301</th>\n      <td>Corybas</td>\n      <td>NaN</td>\n      <td>None</td>\n      <td>NaN</td>\n      <td>None</td>\n      <td>added</td>\n    </tr>\n    <tr>\n      <th>324</th>\n      <td>Cymbidium</td>\n      <td>NaN</td>\n      <td>None</td>\n      <td>NaN</td>\n      <td>None</td>\n      <td>added</td>\n    </tr>\n    <tr>\n      <th>419</th>\n      <td>Dipodium</td>\n      <td>NaN</td>\n      <td>None</td>\n      <td>NaN</td>\n      <td>None</td>\n      <td>added</td>\n    </tr>\n    <tr>\n      <th>535</th>\n      <td>Liparis</td>\n      <td>NaN</td>\n      <td>None</td>\n      <td>NaN</td>\n      <td>None</td>\n      <td>added</td>\n    </tr>\n    <tr>\n      <th>540</th>\n      <td>Luisia</td>\n      <td>NaN</td>\n      <td>None</td>\n      <td>NaN</td>\n      <td>None</td>\n      <td>added</td>\n    </tr>\n    <tr>\n      <th>548</th>\n      <td>Microtis</td>\n      <td>NaN</td>\n      <td>None</td>\n      <td>NaN</td>\n      <td>None</td>\n      <td>added</td>\n    </tr>\n    <tr>\n      <th>576</th>\n      <td>Orthoceras</td>\n      <td>NaN</td>\n      <td>None</td>\n      <td>NaN</td>\n      <td>None</td>\n      <td>added</td>\n    </tr>\n    <tr>\n      <th>578</th>\n      <td>Pachystoma</td>\n      <td>NaN</td>\n      <td>None</td>\n      <td>NaN</td>\n      <td>None</td>\n      <td>added</td>\n    </tr>\n    <tr>\n      <th>593</th>\n      <td>Phalaenopsis</td>\n      <td>NaN</td>\n      <td>None</td>\n      <td>NaN</td>\n      <td>None</td>\n      <td>added</td>\n    </tr>\n    <tr>\n      <th>595</th>\n      <td>Pholidota</td>\n      <td>NaN</td>\n      <td>None</td>\n      <td>NaN</td>\n      <td>None</td>\n      <td>added</td>\n    </tr>\n    <tr>\n      <th>953</th>\n      <td>Pakau pennigera</td>\n      <td>NaN</td>\n      <td>None</td>\n      <td>NaN</td>\n      <td>None</td>\n      <td>added</td>\n    </tr>\n    <tr>\n      <th>956</th>\n      <td>Reholttumia costata</td>\n      <td>NaN</td>\n      <td>None</td>\n      <td>NaN</td>\n      <td>None</td>\n      <td>added</td>\n    </tr>\n    <tr>\n      <th>28</th>\n      <td>Calorodius thorntonensis</td>\n      <td>None</td>\n      <td>NaN</td>\n      <td>None</td>\n      <td>NaN</td>\n      <td>removed</td>\n    </tr>\n    <tr>\n      <th>277</th>\n      <td>Cooktownia</td>\n      <td>None</td>\n      <td>NaN</td>\n      <td>None</td>\n      <td>NaN</td>\n      <td>removed</td>\n    </tr>\n    <tr>\n      <th>300</th>\n      <td>Corybas</td>\n      <td>None</td>\n      <td>NaN</td>\n      <td>None</td>\n      <td>NaN</td>\n      <td>removed</td>\n    </tr>\n    <tr>\n      <th>323</th>\n      <td>Cymbidium</td>\n      <td>None</td>\n      <td>NaN</td>\n      <td>None</td>\n      <td>NaN</td>\n      <td>removed</td>\n    </tr>\n    <tr>\n      <th>418</th>\n      <td>Dipodium</td>\n      <td>None</td>\n      <td>NaN</td>\n      <td>None</td>\n      <td>NaN</td>\n      <td>removed</td>\n    </tr>\n    <tr>\n      <th>534</th>\n      <td>Liparis</td>\n      <td>None</td>\n      <td>NaN</td>\n      <td>None</td>\n      <td>NaN</td>\n      <td>removed</td>\n    </tr>\n    <tr>\n      <th>539</th>\n      <td>Luisia</td>\n      <td>None</td>\n      <td>NaN</td>\n      <td>None</td>\n      <td>NaN</td>\n      <td>removed</td>\n    </tr>\n    <tr>\n      <th>547</th>\n      <td>Microtis</td>\n      <td>None</td>\n      <td>NaN</td>\n      <td>None</td>\n      <td>NaN</td>\n      <td>removed</td>\n    </tr>\n    <tr>\n      <th>575</th>\n      <td>Orthoceras</td>\n      <td>None</td>\n      <td>NaN</td>\n      <td>None</td>\n      <td>NaN</td>\n      <td>removed</td>\n    </tr>\n    <tr>\n      <th>577</th>\n      <td>Pachystoma</td>\n      <td>None</td>\n      <td>NaN</td>\n      <td>None</td>\n      <td>NaN</td>\n      <td>removed</td>\n    </tr>\n    <tr>\n      <th>592</th>\n      <td>Phalaenopsis</td>\n      <td>None</td>\n      <td>NaN</td>\n      <td>None</td>\n      <td>NaN</td>\n      <td>removed</td>\n    </tr>\n    <tr>\n      <th>594</th>\n      <td>Pholidota</td>\n      <td>None</td>\n      <td>NaN</td>\n      <td>None</td>\n      <td>NaN</td>\n      <td>removed</td>\n    </tr>\n    <tr>\n      <th>952</th>\n      <td>Pakau pennigera</td>\n      <td>None</td>\n      <td>NaN</td>\n      <td>None</td>\n      <td>NaN</td>\n      <td>removed</td>\n    </tr>\n    <tr>\n      <th>955</th>\n      <td>Reholttumia costata</td>\n      <td>None</td>\n      <td>NaN</td>\n      <td>None</td>\n      <td>NaN</td>\n      <td>removed</td>\n    </tr>\n  </tbody>\n</table>\n</div>"
     },
     "execution_count": 6,
     "metadata": {},
     "output_type": "execute_result"
    }
   ],
   "source": [
    "ltype = \"S\"\n",
    "changeDir = \"Monitoring/Change-logs/\"\n",
    "# Qld Sensitive\n",
    "print('QLD sensitive')\n",
    "filename = \"QLD-sensitive.csv\"\n",
    "changelist = lf.get_changelist(testListDruid, prodListDruid, ltype)\n",
    "changelist.to_csv(projectDir + changeDir + monthStr + \"-\" + filename, encoding=\"UTF-8\", index=False)\n",
    "changelist"
   ],
   "metadata": {
    "collapsed": false,
    "pycharm": {
     "name": "#%%\n"
    }
   }
  },
  {
   "cell_type": "markdown",
   "source": [
    "## Back up the list in production to `historical-lists`\n",
    "If all ok, run the following to keep a copy of the list in prod before overwriting it"
   ],
   "metadata": {
    "collapsed": false
   }
  },
  {
   "cell_type": "code",
   "execution_count": 8,
   "outputs": [
    {
     "name": "stdout",
     "output_type": "stream",
     "text": [
      "download_ala_list:  https://lists.ala.org.au/ws/speciesListItems/dr493?max=10000&includeKVP=true\n",
      "Index(['id', 'name', 'commonName', 'scientificName', 'lsid', 'dataResourceUid',\n",
      "       'kvpValues'],\n",
      "      dtype='object')\n"
     ]
    }
   ],
   "source": [
    "filename = state + \"-\" + prodListDruid + \"-sensitive.csv\"\n",
    "prodListUrl = \"https://lists.ala.org.au/ws/speciesListItems/\" + prodListDruid + \"?max=10000&includeKVP=true\"\n",
    "prodList = lf.download_ala_specieslist(prodListUrl)\n",
    "prodList = lf.kvp_to_columns(prodList)\n",
    "prodList.to_csv(projectDir + \"historical-lists/sensitive/\" + filename, encoding=\"UTF-8\", index=False)"
   ],
   "metadata": {
    "collapsed": false,
    "pycharm": {
     "name": "#%%\n"
    }
   }
  }
 ],
 "metadata": {
  "kernelspec": {
   "display_name": "Python 3",
   "language": "python",
   "name": "python3"
  },
  "language_info": {
   "codemirror_mode": {
    "name": "ipython",
    "version": 2
   },
   "file_extension": ".py",
   "mimetype": "text/x-python",
   "name": "python",
   "nbconvert_exporter": "python",
   "pygments_lexer": "ipython2",
   "version": "2.7.6"
  }
 },
 "nbformat": 4,
 "nbformat_minor": 0
}