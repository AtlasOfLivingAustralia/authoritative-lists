{
 "cells": [
  {
   "cell_type": "markdown",
   "source": [
    "# QLD Conservation Status and Sensitive Species Lists\n",
    "\n",
    "This notebook downloads the Qld lists from the [Qld Government Open Data Portal](https://data.qld.gov.au) and formats them in Darwin Core for ingestion into the ALA Lists tool.\n",
    "It will save original lists to the `source-data/QLD` directory, process the lists and save them to `current-lists`.\n",
    "\n",
    "\n",
    "## Lists in the ALA Species List tool\n",
    "* Sensitive list: __[dr493](https://lists.ala.org.au/speciesListItem/list/dr493)__ ([dr18404 in test](https://lists-test.ala.org.au/speciesListItem/list/dr18404))\n",
    "* Collection: __[dr493 in test](https://collections.ala.org.au/public/show/dr493)__\n",
    "\n",
    "## Source Data\n",
    "Queensland Nature Conservation Act 1992\n",
    "\n",
    "* __[Sensitive](https://apps.des.qld.gov.au/data-sets/wildlife/wildnet/qld-confidential-species.csv)__\n",
    "* __[Species Codes](https://apps.des.qld.gov.au/data-sets/wildlife/wildnet/species-status-codes.csv)__\n",
    "\n",
    "**Metadata Description**\n",
    "\n",
    "**Sensitive:** A list of confidential species for Queensland or \"sensitive species\" supplied directly by the Queensland Department of Environment and Science. It is published weekly as the Queensland Confidential Species dataset in the Queensland Government Data portal. The Atlas of Living Australia generalises all latitude and longitude values in occurrence records of sensitive species in Queensland to one decimal place. This rule is applied to all Queensland occurrence records regardless of source.\n",
    "\n",
    "**Metadata URL**\n",
    "* Qld Species (Open Data Portal) https://www.data.qld.gov.au/dataset/conservation-status-of-queensland-wildlife\n",
    "* Queensland Confidential Species (Open Data Portal) https://www.data.qld.gov.au/dataset/queensland-confidential-species\n",
    "* Qld Species codes https://www.data.qld.gov.au/dataset/conservation-status-of-queensland-wildlife/resource/6344ea93-cadf-4e0c-9ff4-12dfb18d5f14"
   ],
   "metadata": {
    "collapsed": false,
    "pycharm": {
     "name": "#%% md\n"
    }
   }
  },
  {
   "cell_type": "markdown",
   "source": [],
   "metadata": {
    "collapsed": false,
    "pycharm": {
     "name": "#%% md\n"
    }
   }
  },
  {
   "cell_type": "markdown",
   "source": [
    "\n",
    "# Setup\n",
    "* Import libraries\n",
    "* Set Project directory\n",
    "* Set URLs"
   ],
   "metadata": {
    "collapsed": false,
    "pycharm": {
     "name": "#%% md\n"
    }
   }
  },
  {
   "cell_type": "code",
   "execution_count": 10,
   "outputs": [],
   "source": [
    "import datetime\n",
    "\n",
    "import pandas as pd\n",
    "import requests\n",
    "import io\n",
    "from ftfy import fix_encoding\n",
    "import urllib.request, json\n",
    "import certifi\n",
    "import ssl\n",
    "import os\n",
    "import sys\n",
    "\n",
    "projectDir = \"/Users/oco115/PycharmProjects/authoritative-lists/\"\n",
    "# projectDir = \"/Users/new330/IdeaProjects/authoritative-lists/\"\n",
    "sys.path.append(os.path.abspath(projectDir + \"source-code/includes\"))\n",
    "import list_functions as lf\n",
    "\n",
    "sourceDataDir = projectDir + \"source-data/QLD/\"\n",
    "statusDir = projectDir + \"source-data/status-codes/\"\n",
    "processedDataDir = projectDir + \"current-lists/\"\n",
    "state = 'QLD'\n",
    "codesfile = statusDir + state + \"-codes.csv\"\n",
    "codesurl =  \"https://apps.des.qld.gov.au/data-sets/wildlife/wildnet/species-status-codes.csv\"\n",
    "sensitivelisturl = \"https://apps.des.qld.gov.au/data-sets/wildlife/wildnet/qld-confidential-species.csv\""
   ],
   "metadata": {
    "collapsed": false,
    "pycharm": {
     "name": "#%%\n"
    }
   }
  },
  {
   "cell_type": "markdown",
   "source": [
    "## Download the raw files from data.qld.gov.au\n",
    "... save locally"
   ],
   "metadata": {
    "collapsed": false,
    "pycharm": {
     "name": "#%% md\n"
    }
   }
  },
  {
   "cell_type": "code",
   "execution_count": null,
   "outputs": [],
   "source": [
    "# %%script echo skipping # comment this line to download dataset from API\n",
    "\n",
    "# Status codes\n",
    "response = requests.get(codesurl)\n",
    "rtext = fix_encoding(response.text)\n",
    "speciescodes = pd.read_csv(io.StringIO(rtext))\n",
    "speciescodes.to_csv(sourceDataDir + \"species-status-codes.csv\", index=False)\n",
    "\n",
    "# Confidential/Sensitive List\n",
    "response = requests.get(sensitivelisturl)\n",
    "rtext = fix_encoding(response.text)\n",
    "sensitivelist = pd.read_csv(io.StringIO(rtext))\n",
    "sensitivelist.to_csv(sourceDataDir + \"qld-confidential-species.csv\", index=False)\n"
   ],
   "metadata": {
    "collapsed": false,
    "pycharm": {
     "name": "#%%\n"
    }
   }
  },
  {
   "cell_type": "markdown",
   "source": [
    "## Conservation List\n",
    "* Read in the Conservation list\n",
    "* Join to the codes to expand the code descriptions.\n",
    "* Change the field names to `sourceStatus` and `status` as required by the ALA's conservation list processing.\n",
    "* Remove **Least concern**, **Special least concern** and **no status**\n",
    "* Expand the endemicity and epbc status codes\n",
    "* Map sourceStatus to status"
   ],
   "metadata": {
    "collapsed": false,
    "pycharm": {
     "name": "#%% md\n"
    }
   }
  },
  {
   "cell_type": "markdown",
   "source": [
    "## Option to read from local files for subsequent runs"
   ],
   "metadata": {
    "collapsed": false,
    "pycharm": {
     "name": "#%% md\n"
    }
   }
  },
  {
   "cell_type": "code",
   "execution_count": null,
   "outputs": [],
   "source": [
    "# sensitivelist = pd.read_csv(sourceDataDir + \"qld-confidential-species.csv\")"
   ],
   "metadata": {
    "collapsed": false,
    "pycharm": {
     "name": "#%%\n"
    }
   }
  },
  {
   "cell_type": "markdown",
   "source": [
    "## Sensitive - Qld Confidential list\n",
    "* Read in the Confidential/Sensitive list\n",
    "* Expand the nca status, endemicity and epbc status codes\n",
    "* Rename fields to DwC terms\n",
    "* Replace kingdom and class values with scientific terms\n"
   ],
   "metadata": {
    "collapsed": false,
    "pycharm": {
     "name": "#%% md\n"
    }
   }
  },
  {
   "cell_type": "code",
   "execution_count": 12,
   "outputs": [
    {
     "data": {
      "text/plain": "Index(['Taxon Id', 'Kingdom', 'Class', 'Family', 'Scientific name',\n       'Common name', 'Taxon author', 'NCA status', 'EPBC status',\n       'Significant', 'Endemicity'],\n      dtype='object')"
     },
     "execution_count": 12,
     "metadata": {},
     "output_type": "execute_result"
    }
   ],
   "source": [
    "# nca status\n",
    "# sensitivelist = pd.merge(sensitivelist,ncastatuscodes,left_on=['NCA status'],right_on=['Code'],how=\"left\")\n",
    "# sensitivelist.drop(['Code'],axis=1,inplace=True)\n",
    "# sensitivelist = sensitivelist.rename(columns={'NCA status':'sourceStatus','Code_description':'status'})\n",
    "# # endemicity\n",
    "# sensitivelist = pd.merge(sensitivelist,endemicitycodes,left_on=['Endemicity'],right_on=['Code'],how=\"left\")\n",
    "# sensitivelist.drop(['Code','Endemicity'],axis=1,inplace=True)\n",
    "# sensitivelist = sensitivelist.rename(columns={'Code_description':'Endemicity'})\n",
    "# # epbc\n",
    "# sensitivelist = pd.merge(sensitivelist,epbccodes,left_on=['EPBC status'],right_on=['Code'],how=\"left\")\n",
    "# sensitivelist.drop(['Code','EPBC status','Unnamed: 0'],axis=1,inplace=True)\n",
    "# sensitivelist = sensitivelist.rename(columns={'Code_description':'EPBC Status'})\n",
    "sensitivelist.columns"
   ],
   "metadata": {
    "collapsed": false,
    "pycharm": {
     "name": "#%%\n"
    }
   }
  },
  {
   "cell_type": "code",
   "execution_count": 14,
   "outputs": [
    {
     "data": {
      "text/plain": "                   scientificName  \\\n0      Rhinolophus philippinensis   \n1               Chloebia gouldiae   \n2              Erythrura trichroa   \n3    Neochmia phaeton evangelinae   \n4          Poephila cincta cincta   \n..                            ...   \n954      Pneumatopteris pennigera   \n955           Reholttumia costata   \n956         Thelypteris confluens   \n957            Macadamia jansenii   \n958        Tmesipteris lanceolata   \n\n                                     vernacularName            family  \\\n0                 greater large-eared horseshoe bat     Rhinolophidae   \n1                                    Gouldian finch       Estrildidae   \n2                           blue-faced parrot-finch       Estrildidae   \n3          crimson finch (white-bellied subspecies)       Estrildidae   \n4    black-throated finch (white-rumped subspecies)       Estrildidae   \n..                                              ...               ...   \n954                                       lime fern  Thelypteridaceae   \n955                                             NaN  Thelypteridaceae   \n956                                             NaN  Thelypteridaceae   \n957                                             NaN        Proteaceae   \n958                                             NaN       Psilotaceae   \n\n    generalisationn  \n0              2 km  \n1              2 km  \n2              2 km  \n3              2 km  \n4              2 km  \n..              ...  \n954            2 km  \n955            2 km  \n956            2 km  \n957            2 km  \n958            2 km  \n\n[959 rows x 4 columns]",
      "text/html": "<div>\n<style scoped>\n    .dataframe tbody tr th:only-of-type {\n        vertical-align: middle;\n    }\n\n    .dataframe tbody tr th {\n        vertical-align: top;\n    }\n\n    .dataframe thead th {\n        text-align: right;\n    }\n</style>\n<table border=\"1\" class=\"dataframe\">\n  <thead>\n    <tr style=\"text-align: right;\">\n      <th></th>\n      <th>scientificName</th>\n      <th>vernacularName</th>\n      <th>family</th>\n      <th>generalisationn</th>\n    </tr>\n  </thead>\n  <tbody>\n    <tr>\n      <th>0</th>\n      <td>Rhinolophus philippinensis</td>\n      <td>greater large-eared horseshoe bat</td>\n      <td>Rhinolophidae</td>\n      <td>2 km</td>\n    </tr>\n    <tr>\n      <th>1</th>\n      <td>Chloebia gouldiae</td>\n      <td>Gouldian finch</td>\n      <td>Estrildidae</td>\n      <td>2 km</td>\n    </tr>\n    <tr>\n      <th>2</th>\n      <td>Erythrura trichroa</td>\n      <td>blue-faced parrot-finch</td>\n      <td>Estrildidae</td>\n      <td>2 km</td>\n    </tr>\n    <tr>\n      <th>3</th>\n      <td>Neochmia phaeton evangelinae</td>\n      <td>crimson finch (white-bellied subspecies)</td>\n      <td>Estrildidae</td>\n      <td>2 km</td>\n    </tr>\n    <tr>\n      <th>4</th>\n      <td>Poephila cincta cincta</td>\n      <td>black-throated finch (white-rumped subspecies)</td>\n      <td>Estrildidae</td>\n      <td>2 km</td>\n    </tr>\n    <tr>\n      <th>...</th>\n      <td>...</td>\n      <td>...</td>\n      <td>...</td>\n      <td>...</td>\n    </tr>\n    <tr>\n      <th>954</th>\n      <td>Pneumatopteris pennigera</td>\n      <td>lime fern</td>\n      <td>Thelypteridaceae</td>\n      <td>2 km</td>\n    </tr>\n    <tr>\n      <th>955</th>\n      <td>Reholttumia costata</td>\n      <td>NaN</td>\n      <td>Thelypteridaceae</td>\n      <td>2 km</td>\n    </tr>\n    <tr>\n      <th>956</th>\n      <td>Thelypteris confluens</td>\n      <td>NaN</td>\n      <td>Thelypteridaceae</td>\n      <td>2 km</td>\n    </tr>\n    <tr>\n      <th>957</th>\n      <td>Macadamia jansenii</td>\n      <td>NaN</td>\n      <td>Proteaceae</td>\n      <td>2 km</td>\n    </tr>\n    <tr>\n      <th>958</th>\n      <td>Tmesipteris lanceolata</td>\n      <td>NaN</td>\n      <td>Psilotaceae</td>\n      <td>2 km</td>\n    </tr>\n  </tbody>\n</table>\n<p>959 rows × 4 columns</p>\n</div>"
     },
     "execution_count": 14,
     "metadata": {},
     "output_type": "execute_result"
    }
   ],
   "source": [
    "# rename fields\n",
    "sensitivelist = sensitivelist.rename(columns=\n",
    "{\n",
    "    'Scientific name':'scientificName',\n",
    "    'Common name': 'vernacularName',\n",
    "    'Family': 'family'\n",
    "})\n",
    "sensitivelist = sensitivelist[['scientificName', 'vernacularName', 'family']]\n",
    "sensitivelist['generalisationn'] = \"2 km\"\n",
    "# map sourceStatus to category\n",
    "# sensitivelist['category'] = sensitivelist['sourceStatus']\n",
    "# sensitivelist.loc[sensitivelist[\"category\"] == \"C\"] = \"LC\"\n",
    "# sensitivelist.loc[sensitivelist[\"category\"] == \"CR\"] = \"CR\"\n",
    "# sensitivelist.loc[sensitivelist[\"category\"] == \"E\"] = \"EN\"\n",
    "# sensitivelist.loc[sensitivelist[\"category\"] == \"NT\"] = \"NT\"\n",
    "# sensitivelist.loc[sensitivelist[\"category\"] == \"PE\"] = \"EW\"\n",
    "# sensitivelist.loc[sensitivelist[\"category\"] == \"SL\"] = \"SL\"\n",
    "# sensitivelist.loc[sensitivelist[\"category\"] == \"V\"] = \"VU\"\n",
    "#\n",
    "# #sensitivelist.groupby([\"kingdom\",\"class\"]).size()\n",
    "#\n",
    "# sensitivelist.loc[sensitivelist[\"kingdom\"] == \"animals\", \"kingdom\"] = \"Animalia\"\n",
    "# sensitivelist.loc[sensitivelist[\"kingdom\"] == \"plants\", \"kingdom\"] = \"Plantae\"\n",
    "# sensitivelist.loc[sensitivelist[\"class\"] == \"land plants\", \"class\"] = \"Equisetopsida\"\n",
    "# sensitivelist.loc[sensitivelist[\"class\"] == \"amphibians\", \"class\"] = \"Amphibia\"\n",
    "# sensitivelist.loc[sensitivelist[\"class\"] == \"birds\", \"class\"] = \"Aves\"\n",
    "# sensitivelist.loc[sensitivelist[\"class\"] == \"cartilaginous fishes\", \"class\"] = \"Chondrichthyes\"\n",
    "# sensitivelist.loc[sensitivelist[\"class\"] == \"insects\", \"class\"] = \"Insecta\"\n",
    "# sensitivelist.loc[sensitivelist[\"class\"] == \"malacostracans\", \"class\"] = \"Malacostraca\"\n",
    "# sensitivelist.loc[sensitivelist[\"class\"] == \"mammals\", \"class\"] = \"Mammalia\"\n",
    "# sensitivelist.loc[sensitivelist[\"class\"] == \"ray-finned fishes\", \"class\"] = \"Actinopterygii\"\n",
    "# sensitivelist.loc[sensitivelist[\"class\"] == \"reptiles\", \"class\"] = \"Reptilia\"\n",
    "# sensitivelist.loc[sensitivelist[\"class\"] == \"snails\", \"class\"] = \"Gastropoda\"\n",
    "# sensitivelist.loc[sensitivelist[\"class\"] == \"arachnids\", \"class\"] = \"Arachnida\"\n",
    "sensitivelist"
   ],
   "metadata": {
    "collapsed": false,
    "pycharm": {
     "name": "#%%\n"
    }
   }
  },
  {
   "cell_type": "markdown",
   "source": [],
   "metadata": {
    "collapsed": false,
    "pycharm": {
     "name": "#%% md\n"
    }
   }
  },
  {
   "cell_type": "code",
   "execution_count": 10,
   "outputs": [
    {
     "data": {
      "text/plain": "kingdom   class         \nPlantae   Equisetopsida     851\nAnimalia  Reptilia           30\n          Aves               24\n          Amphibia           22\n          Malacostraca       10\n          Actinopterygii      7\n          Insecta             7\n          Arachnida           3\n          Mammalia            1\ndtype: int64"
     },
     "execution_count": 10,
     "metadata": {},
     "output_type": "execute_result"
    }
   ],
   "source": [
    "# sensitivelist.groupby([\"kingdom\",\"class\"]).size().sort_values(ascending=False)"
   ],
   "metadata": {
    "collapsed": false,
    "pycharm": {
     "name": "#%%\n"
    }
   }
  },
  {
   "cell_type": "code",
   "execution_count": 15,
   "outputs": [
    {
     "data": {
      "text/plain": "959"
     },
     "execution_count": 15,
     "metadata": {},
     "output_type": "execute_result"
    }
   ],
   "source": [
    "len(sensitivelist.index)"
   ],
   "metadata": {
    "collapsed": false,
    "pycharm": {
     "name": "#%%\n"
    }
   }
  },
  {
   "cell_type": "markdown",
   "source": [
    "## Write to CSV"
   ],
   "metadata": {
    "collapsed": false,
    "pycharm": {
     "name": "#%% md\n"
    }
   }
  },
  {
   "cell_type": "code",
   "execution_count": 16,
   "outputs": [],
   "source": [
    "sensitivelist.to_csv(processedDataDir + \"sensitive-lists/QLD-sensitive-20230601.csv\",encoding=\"UTF-8\",index=False)\n",
    "print(\"Finished writing QLD Sensitive list\")"
   ],
   "metadata": {
    "collapsed": false,
    "pycharm": {
     "name": "#%%\n"
    }
   }
  },
  {
   "cell_type": "markdown",
   "source": [],
   "metadata": {
    "collapsed": false,
    "pycharm": {
     "name": "#%% md\n"
    }
   }
  }
 ],
 "metadata": {
  "kernelspec": {
   "display_name": "Python 3",
   "language": "python",
   "name": "python3"
  },
  "language_info": {
   "codemirror_mode": {
    "name": "ipython",
    "version": 2
   },
   "file_extension": ".py",
   "mimetype": "text/x-python",
   "name": "python",
   "nbconvert_exporter": "python",
   "pygments_lexer": "ipython2",
   "version": "2.7.6"
  }
 },
 "nbformat": 4,
 "nbformat_minor": 0
}