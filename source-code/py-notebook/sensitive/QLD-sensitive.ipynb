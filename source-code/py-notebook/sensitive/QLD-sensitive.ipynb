{
 "cells": [
  {
   "cell_type": "markdown",
   "source": [
    "# QLD  Sensitive Species List\n",
    "\n",
    "This notebook downloads the Qld lists from the [Qld Government Open Data Portal](https://data.qld.gov.au) and formats them in Darwin Core for ingestion into the ALA Lists tool.\n",
    "It will save original lists to the `source-data/QLD` directory, process the lists and save them to `current-lists`.\n",
    "\n",
    "\n",
    "## Lists in the ALA Species List tool\n",
    "* Sensitive list: __[dr493](https://lists.ala.org.au/speciesListItem/list/dr493)__ ([dr18404 in test](https://lists-test.ala.org.au/speciesListItem/list/dr18404))\n",
    "* Collection: __[dr493 in test](https://collections.ala.org.au/public/show/dr493)__\n",
    "\n",
    "## Source Data\n",
    "Queensland Nature Conservation Act 1992\n",
    "\n",
    "* __[Sensitive](https://apps.des.qld.gov.au/data-sets/wildlife/wildnet/qld-confidential-species.csv)__\n",
    "* __[Species Codes](https://apps.des.qld.gov.au/data-sets/wildlife/wildnet/species-status-codes.csv)__\n",
    "\n",
    "**Metadata Description**\n",
    "\n",
    "**Sensitive:** A list of confidential species for Queensland or \"sensitive species\" supplied directly by the Queensland Department of Environment and Science. It is published weekly as the Queensland Confidential Species dataset in the Queensland Government Data portal. The Atlas of Living Australia generalises all latitude and longitude values in occurrence records of sensitive species in Queensland to one decimal place. This rule is applied to all Queensland occurrence records regardless of source.\n",
    "\n",
    "**Metadata URL**\n",
    "* Qld Species (Open Data Portal) https://www.data.qld.gov.au/dataset/conservation-status-of-queensland-wildlife\n",
    "* Queensland Confidential Species (Open Data Portal) https://www.data.qld.gov.au/dataset/queensland-confidential-species\n",
    "* Qld Species codes https://www.data.qld.gov.au/dataset/conservation-status-of-queensland-wildlife/resource/6344ea93-cadf-4e0c-9ff4-12dfb18d5f14"
   ],
   "metadata": {
    "collapsed": false,
    "pycharm": {
     "name": "#%% md\n"
    }
   }
  },
  {
   "cell_type": "markdown",
   "source": [],
   "metadata": {
    "collapsed": false,
    "pycharm": {
     "name": "#%% md\n"
    }
   }
  },
  {
   "cell_type": "markdown",
   "source": [
    "\n",
    "# Setup\n",
    "* Import libraries\n",
    "* Set Project directory\n",
    "* Set URLs"
   ],
   "metadata": {
    "collapsed": false,
    "pycharm": {
     "name": "#%% md\n"
    }
   }
  },
  {
   "cell_type": "code",
   "execution_count": 8,
   "outputs": [],
   "source": [
    "import pandas as pd\n",
    "import requests\n",
    "import io\n",
    "from ftfy import fix_encoding\n",
    "import os\n",
    "import sys\n",
    "import datetime\n",
    "\n",
    "projectDir = \"/Users/oco115/PycharmProjects/authoritative-lists/\"\n",
    "# projectDir = \"/Users/new330/IdeaProjects/authoritative-lists/\"\n",
    "sys.path.append(os.path.abspath(projectDir + \"source-code/includes\"))\n",
    "\n",
    "sourceDataDir = projectDir + \"source-data/QLD/\"\n",
    "statusDir = projectDir + \"source-data/status-codes/\"\n",
    "processedDataDir = projectDir + \"current-lists/\"\n",
    "state = 'QLD'\n",
    "monthStr = datetime.datetime.now().strftime('%Y%m')\n",
    "codesfile = statusDir + state + \"-codes.csv\"\n",
    "codesurl =  \"https://apps.des.qld.gov.au/data-sets/wildlife/wildnet/species-status-codes.csv\"\n",
    "sensitivelisturl = \"https://apps.des.qld.gov.au/data-sets/wildlife/wildnet/qld-confidential-species.csv\""
   ],
   "metadata": {
    "collapsed": false,
    "pycharm": {
     "name": "#%%\n"
    }
   }
  },
  {
   "cell_type": "markdown",
   "source": [
    "## Download the raw files from data.qld.gov.au\n",
    "... save locally"
   ],
   "metadata": {
    "collapsed": false,
    "pycharm": {
     "name": "#%% md\n"
    }
   }
  },
  {
   "cell_type": "code",
   "execution_count": null,
   "outputs": [],
   "source": [
    "# Status codes\n",
    "response = requests.get(codesurl)\n",
    "rtext = fix_encoding(response.text)\n",
    "speciescodes = pd.read_csv(io.StringIO(rtext))\n",
    "speciescodes.to_csv(sourceDataDir + \"species-status-codes.csv\", index=False)\n",
    "\n",
    "# Confidential/Sensitive List\n",
    "response = requests.get(sensitivelisturl)\n",
    "rtext = fix_encoding(response.text)\n",
    "sensitivelist = pd.read_csv(io.StringIO(rtext))\n",
    "sensitivelist.to_csv(sourceDataDir + \"qld-confidential-species.csv\", index=False)"
   ],
   "metadata": {
    "collapsed": false,
    "pycharm": {
     "name": "#%%\n"
    }
   }
  },
  {
   "cell_type": "markdown",
   "source": [
    "## Standardise Status Codes\n",
    "Some minimal changes to some Qld Nature Conservation Act codes so that they are consistent with other states"
   ],
   "metadata": {
    "collapsed": false,
    "pycharm": {
     "name": "#%% md\n"
    }
   }
  },
  {
   "cell_type": "code",
   "execution_count": 69,
   "outputs": [
    {
     "data": {
      "text/plain": "   Code       Code_description\n20    C          Least concern\n21   CR  Critically Endangered\n22    E             Endangered\n23   EX                Extinct\n24    I          International\n25   NT        Near Threatened\n26    P             Prohibited\n27   PE    Extinct in the wild\n28   SL  Special least concern\n29    V             Vulnerable",
      "text/html": "<div>\n<style scoped>\n    .dataframe tbody tr th:only-of-type {\n        vertical-align: middle;\n    }\n\n    .dataframe tbody tr th {\n        vertical-align: top;\n    }\n\n    .dataframe thead th {\n        text-align: right;\n    }\n</style>\n<table border=\"1\" class=\"dataframe\">\n  <thead>\n    <tr style=\"text-align: right;\">\n      <th></th>\n      <th>Code</th>\n      <th>Code_description</th>\n    </tr>\n  </thead>\n  <tbody>\n    <tr>\n      <th>20</th>\n      <td>C</td>\n      <td>Least concern</td>\n    </tr>\n    <tr>\n      <th>21</th>\n      <td>CR</td>\n      <td>Critically Endangered</td>\n    </tr>\n    <tr>\n      <th>22</th>\n      <td>E</td>\n      <td>Endangered</td>\n    </tr>\n    <tr>\n      <th>23</th>\n      <td>EX</td>\n      <td>Extinct</td>\n    </tr>\n    <tr>\n      <th>24</th>\n      <td>I</td>\n      <td>International</td>\n    </tr>\n    <tr>\n      <th>25</th>\n      <td>NT</td>\n      <td>Near Threatened</td>\n    </tr>\n    <tr>\n      <th>26</th>\n      <td>P</td>\n      <td>Prohibited</td>\n    </tr>\n    <tr>\n      <th>27</th>\n      <td>PE</td>\n      <td>Extinct in the wild</td>\n    </tr>\n    <tr>\n      <th>28</th>\n      <td>SL</td>\n      <td>Special least concern</td>\n    </tr>\n    <tr>\n      <th>29</th>\n      <td>V</td>\n      <td>Vulnerable</td>\n    </tr>\n  </tbody>\n</table>\n</div>"
     },
     "execution_count": 69,
     "metadata": {},
     "output_type": "execute_result"
    }
   ],
   "source": [
    "speciescodes = pd.read_csv(sourceDataDir + \"species-status-codes.csv\")\n",
    "ncastatuscodes = speciescodes[speciescodes['Field'] == \"NCA_status\"][['Code', 'Code_description']]\n",
    "ncastatuscodes['Code_description'] = ncastatuscodes['Code_description'].str.replace(\" wildlife\", \"\")\n",
    "ncastatuscodes.loc[\n",
    "    ncastatuscodes['Code_description'] == \"Critically endangered\", 'Code_description'] = \"Critically Endangered\"\n",
    "ncastatuscodes.loc[ncastatuscodes['Code_description'] == \"Near threatened\", 'Code_description'] = \"Near Threatened\"\n",
    "ncastatuscodes"
   ],
   "metadata": {
    "collapsed": false,
    "pycharm": {
     "name": "#%%\n"
    }
   }
  },
  {
   "cell_type": "markdown",
   "source": [
    "## Option to read from local files for subsequent runs"
   ],
   "metadata": {
    "collapsed": false,
    "pycharm": {
     "name": "#%% md\n"
    }
   }
  },
  {
   "cell_type": "code",
   "execution_count": 78,
   "outputs": [],
   "source": [
    "sensitivelist = pd.read_csv(sourceDataDir + \"qld-confidential-species.csv\")"
   ],
   "metadata": {
    "collapsed": false,
    "pycharm": {
     "name": "#%%\n"
    }
   }
  },
  {
   "cell_type": "markdown",
   "source": [
    "## Sensitive - Qld Confidential list\n",
    "* Read in the Confidential/Sensitive list\n",
    "* Expand the nca status, endemicity and epbc status codes\n",
    "* Rename fields to DwC terms\n",
    "* Replace kingdom and class values with scientific terms\n"
   ],
   "metadata": {
    "collapsed": false,
    "pycharm": {
     "name": "#%% md\n"
    }
   }
  },
  {
   "cell_type": "code",
   "execution_count": 79,
   "outputs": [],
   "source": [
    "# nca status\n",
    "sensitivelist = pd.merge(sensitivelist,ncastatuscodes,left_on=['NCA status'],right_on=['Code'],how=\"left\")\n",
    "sensitivelist = sensitivelist.rename(columns={'NCA status':'sourceStatus'})\n",
    "sensitivelist = sensitivelist[['Scientific name', 'Common name', 'sourceStatus']]\n",
    "sensitivelist = sensitivelist.rename(columns= {'Scientific name':'scientificName',\n",
    "                                               'Common name': 'vernacularName',\n",
    "                                                'sourceStatus': 'category' })\n",
    "sensitivelist['generalisation'] = \"2 km\""
   ],
   "metadata": {
    "collapsed": false,
    "pycharm": {
     "name": "#%%\n"
    }
   }
  },
  {
   "cell_type": "code",
   "execution_count": 80,
   "outputs": [
    {
     "data": {
      "text/plain": "                   scientificName  \\\n0      Rhinolophus philippinensis   \n1               Chloebia gouldiae   \n2              Erythrura trichroa   \n3    Neochmia phaeton evangelinae   \n4          Poephila cincta cincta   \n..                            ...   \n954      Pneumatopteris pennigera   \n955           Reholttumia costata   \n956         Thelypteris confluens   \n957            Macadamia jansenii   \n958        Tmesipteris lanceolata   \n\n                                     vernacularName category generalisation  \n0                 greater large-eared horseshoe bat       EN           2 km  \n1                                    Gouldian finch       EN           2 km  \n2                           blue-faced parrot-finch       NT           2 km  \n3          crimson finch (white-bellied subspecies)       EN           2 km  \n4    black-throated finch (white-rumped subspecies)       EN           2 km  \n..                                              ...      ...            ...  \n954                                       lime fern       EN           2 km  \n955                                             NaN       NT           2 km  \n956                                             NaN       VU           2 km  \n957                                             NaN       CR           2 km  \n958                                             NaN       EW           2 km  \n\n[959 rows x 4 columns]",
      "text/html": "<div>\n<style scoped>\n    .dataframe tbody tr th:only-of-type {\n        vertical-align: middle;\n    }\n\n    .dataframe tbody tr th {\n        vertical-align: top;\n    }\n\n    .dataframe thead th {\n        text-align: right;\n    }\n</style>\n<table border=\"1\" class=\"dataframe\">\n  <thead>\n    <tr style=\"text-align: right;\">\n      <th></th>\n      <th>scientificName</th>\n      <th>vernacularName</th>\n      <th>category</th>\n      <th>generalisation</th>\n    </tr>\n  </thead>\n  <tbody>\n    <tr>\n      <th>0</th>\n      <td>Rhinolophus philippinensis</td>\n      <td>greater large-eared horseshoe bat</td>\n      <td>EN</td>\n      <td>2 km</td>\n    </tr>\n    <tr>\n      <th>1</th>\n      <td>Chloebia gouldiae</td>\n      <td>Gouldian finch</td>\n      <td>EN</td>\n      <td>2 km</td>\n    </tr>\n    <tr>\n      <th>2</th>\n      <td>Erythrura trichroa</td>\n      <td>blue-faced parrot-finch</td>\n      <td>NT</td>\n      <td>2 km</td>\n    </tr>\n    <tr>\n      <th>3</th>\n      <td>Neochmia phaeton evangelinae</td>\n      <td>crimson finch (white-bellied subspecies)</td>\n      <td>EN</td>\n      <td>2 km</td>\n    </tr>\n    <tr>\n      <th>4</th>\n      <td>Poephila cincta cincta</td>\n      <td>black-throated finch (white-rumped subspecies)</td>\n      <td>EN</td>\n      <td>2 km</td>\n    </tr>\n    <tr>\n      <th>...</th>\n      <td>...</td>\n      <td>...</td>\n      <td>...</td>\n      <td>...</td>\n    </tr>\n    <tr>\n      <th>954</th>\n      <td>Pneumatopteris pennigera</td>\n      <td>lime fern</td>\n      <td>EN</td>\n      <td>2 km</td>\n    </tr>\n    <tr>\n      <th>955</th>\n      <td>Reholttumia costata</td>\n      <td>NaN</td>\n      <td>NT</td>\n      <td>2 km</td>\n    </tr>\n    <tr>\n      <th>956</th>\n      <td>Thelypteris confluens</td>\n      <td>NaN</td>\n      <td>VU</td>\n      <td>2 km</td>\n    </tr>\n    <tr>\n      <th>957</th>\n      <td>Macadamia jansenii</td>\n      <td>NaN</td>\n      <td>CR</td>\n      <td>2 km</td>\n    </tr>\n    <tr>\n      <th>958</th>\n      <td>Tmesipteris lanceolata</td>\n      <td>NaN</td>\n      <td>EW</td>\n      <td>2 km</td>\n    </tr>\n  </tbody>\n</table>\n<p>959 rows × 4 columns</p>\n</div>"
     },
     "execution_count": 80,
     "metadata": {},
     "output_type": "execute_result"
    }
   ],
   "source": [
    "# map sourceStatus to category\n",
    "codeMap = {'C': 'LC', 'CR': 'CR', 'E': 'EN',\n",
    "           'NT': 'NT','PE': 'EW', 'SL': 'SL',\n",
    "           'V': 'VU'}\n",
    "sensitivelist['category'] = sensitivelist['category'].replace(codeMap)\n",
    "sensitivelist['category'] = sensitivelist['category'].fillna('UK')\n",
    "sensitivelist"
   ],
   "metadata": {
    "collapsed": false,
    "pycharm": {
     "name": "#%%\n"
    }
   }
  },
  {
   "cell_type": "markdown",
   "source": [],
   "metadata": {
    "collapsed": false,
    "pycharm": {
     "name": "#%% md\n"
    }
   }
  },
  {
   "cell_type": "markdown",
   "source": [
    "## Write to CSV"
   ],
   "metadata": {
    "collapsed": false,
    "pycharm": {
     "name": "#%% md\n"
    }
   }
  },
  {
   "cell_type": "code",
   "execution_count": null,
   "outputs": [],
   "source": [
    "sensitivelist.to_csv(processedDataDir + \"sensitive-lists/QLD-sensitive-20230614.csv\",encoding=\"UTF-8\",index=False)\n",
    "print(\"Finished writing QLD Sensitive list\")"
   ],
   "metadata": {
    "collapsed": false,
    "pycharm": {
     "name": "#%%\n"
    }
   }
  },
  {
   "cell_type": "code",
   "execution_count": null,
   "outputs": [],
   "source": [
    "### Change logs"
   ],
   "metadata": {
    "collapsed": false,
    "pycharm": {
     "name": "#%%\n"
    }
   }
  },
  {
   "cell_type": "code",
   "execution_count": null,
   "outputs": [],
   "source": [
    "ltype = \"S\"\n",
    "changeDir = \"Monitoring/Change-logs/\"\n",
    "# Qld Sensitive\n",
    "print('QLD sensitive')\n",
    "filename = \"QLD-sensitive.csv\"\n",
    "testdr = \"dr18404\"\n",
    "proddr = \"dr493\"\n",
    "changelist = lf.get_changelist(testdr, proddr, ltype)\n",
    "changelist.to_csv(projectDir + changeDir + monthStr + \"-\" + filename, encoding=\"UTF-8\", index=False)\n",
    "print('Finished QLD sensitive')"
   ],
   "metadata": {
    "collapsed": false,
    "pycharm": {
     "name": "#%%\n"
    }
   }
  },
  {
   "cell_type": "code",
   "execution_count": null,
   "outputs": [],
   "source": [
    "# Sensitive Lists\n",
    "\n",
    "filename = state + \"-\" + proddr + \"-sensitive.csv\"\n",
    "prodListUrl = \"https://lists.ala.org.au/ws/speciesListItems/\" + proddr + \"?max=10000&includeKVP=true\"\n",
    "prodList = lf.download_ala_list(prodListUrl)  # save the prod list to the historical lists directory\n",
    "prodList = lf.kvp_to_columns(prodList)\n",
    "prodList.to_csv(projectDir + \"historical-lists/sensitive/\" + filename, encoding=\"UTF-8\", index=False)\n",
    "print('Finished downloading sensitive historical list')"
   ],
   "metadata": {
    "collapsed": false,
    "pycharm": {
     "name": "#%%\n"
    }
   }
  },
  {
   "cell_type": "markdown",
   "source": [],
   "metadata": {
    "collapsed": false,
    "pycharm": {
     "name": "#%% md\n"
    }
   }
  }
 ],
 "metadata": {
  "kernelspec": {
   "display_name": "Python 3",
   "language": "python",
   "name": "python3"
  },
  "language_info": {
   "codemirror_mode": {
    "name": "ipython",
    "version": 2
   },
   "file_extension": ".py",
   "mimetype": "text/x-python",
   "name": "python",
   "nbconvert_exporter": "python",
   "pygments_lexer": "ipython2",
   "version": "2.7.6"
  }
 },
 "nbformat": 4,
 "nbformat_minor": 0
}