{
 "cells": [
  {
   "cell_type": "code",
   "execution_count": 1,
   "metadata": {
    "collapsed": true,
    "pycharm": {
     "name": "#%%\n"
    }
   },
   "outputs": [],
   "source": [
    "#import essential libraries\n",
    "import pandas as pd"
   ]
  },
  {
   "cell_type": "code",
   "execution_count": 2,
   "outputs": [],
   "source": [
    "# top level directory\n",
    "projectdir = \"/Users/oco115/PycharmProjects/auth-lists-updates/\"\n",
    "basedir = \"/Users/oco115/PycharmProjects/authoritative-lists/\"\n",
    "\n",
    "#Species List and Species codes URLS\n",
    "# faunalisturl = \"https://www.dpaw.wa.gov.au/images/documents/plants-animals/threatened-species/Listings/Threatened%20and%20Priority%20Fauna%20List.xlsx\"\n",
    "# floralisturl = \"https://www.dpaw.wa.gov.au/images/documents/plants-animals/threatened-species/Listings/Threatened%20and%20Priority%20Flora%20List%205%20December%202018.xlsx\"\n",
    "\n",
    "faunafile = projectdir + \"source-data/Threatened and Priority Fauna List.xlsx\"\n",
    "florafile = projectdir + \"source-data/Threatened and Priority Flora List.xlsx\""
   ],
   "metadata": {
    "collapsed": false,
    "pycharm": {
     "name": "#%%\n"
    }
   }
  },
  {
   "cell_type": "code",
   "execution_count": 3,
   "outputs": [
    {
     "name": "stdout",
     "output_type": "stream",
     "text": [
      "Downloading WA Fauna List\n",
      "Finished Fauna download\n"
     ]
    },
    {
     "data": {
      "text/plain": "             Scientific name                     Common name         Class  \\\n0    Abebaioscia troglodytes      Pannikin Plain Cave isopod  INVERTEBRATE   \n1    Acanthophis antarcticus            southern death adder       REPTILE   \n2        Acercella poorginup       Poorginup Swamp watermite  INVERTEBRATE   \n3          Acizzia mccarthyi          McCarthy's plant-louse  INVERTEBRATE   \n4              Acizzia veski              Vesk's plant-louse  INVERTEBRATE   \n..                       ...                             ...           ...   \n571     Zephyrarchaea mainae          Main's assassin spider  INVERTEBRATE   \n572      Zephyrarchaea marki   Cape Le Grand assassin spider  INVERTEBRATE   \n573   Zephyrarchaea melindae      Toolbrunup assassin spider  INVERTEBRATE   \n574    Zephyrarchaea robinsi  eastern massif assassin spider  INVERTEBRATE   \n575     Zyzomys pedunculatus        central rock-rat, antina        MAMMAL   \n\n    WA Status \\n(ranking) EPBC Status \\n(ranking) Kimberley Pilbara  \\\n0                      VU                     NaN       NaN     NaN   \n1                      P3                     NaN       NaN     NaN   \n2                      P2                     NaN       NaN     NaN   \n3                      VU                     NaN       NaN     NaN   \n4                      VU                     NaN       NaN     NaN   \n..                    ...                     ...       ...     ...   \n571                    VU                     NaN       NaN     NaN   \n572                    VU                     NaN       NaN     NaN   \n573                    VU                     NaN       NaN     NaN   \n574                    VU                     NaN       NaN     NaN   \n575                    CR                      CR       NaN       X   \n\n    Goldfields Midwest Wheatbelt South Coast Swan South West Warren  \\\n0          NaN     NaN       NaN           X  NaN        NaN    NaN   \n1            X     NaN         X           X    X        NaN    NaN   \n2          NaN     NaN       NaN         NaN  NaN        NaN      X   \n3          NaN     NaN       NaN           X  NaN        NaN    NaN   \n4          NaN     NaN       NaN           X  NaN        NaN    NaN   \n..         ...     ...       ...         ...  ...        ...    ...   \n571        NaN     NaN       NaN           X  NaN        NaN      X   \n572        NaN     NaN       NaN           X  NaN        NaN    NaN   \n573        NaN     NaN       NaN           X  NaN        NaN    NaN   \n574        NaN     NaN       NaN           X  NaN        NaN    NaN   \n575        NaN     NaN       NaN         NaN  NaN        NaN    NaN   \n\n                                          WA list name  \n0    Vulnerable under the Biodiversity Conservation...  \n1                                             Priority  \n2                                             Priority  \n3    Vulnerable under the Biodiversity Conservation...  \n4    Vulnerable under the Biodiversity Conservation...  \n..                                                 ...  \n571  Vulnerable under the Biodiversity Conservation...  \n572  Vulnerable under the Biodiversity Conservation...  \n573  Vulnerable under the Biodiversity Conservation...  \n574  Vulnerable under the Biodiversity Conservation...  \n575  Critically Endangered under the Biodiversity C...  \n\n[576 rows x 15 columns]",
      "text/html": "<div>\n<style scoped>\n    .dataframe tbody tr th:only-of-type {\n        vertical-align: middle;\n    }\n\n    .dataframe tbody tr th {\n        vertical-align: top;\n    }\n\n    .dataframe thead th {\n        text-align: right;\n    }\n</style>\n<table border=\"1\" class=\"dataframe\">\n  <thead>\n    <tr style=\"text-align: right;\">\n      <th></th>\n      <th>Scientific name</th>\n      <th>Common name</th>\n      <th>Class</th>\n      <th>WA Status \\n(ranking)</th>\n      <th>EPBC Status \\n(ranking)</th>\n      <th>Kimberley</th>\n      <th>Pilbara</th>\n      <th>Goldfields</th>\n      <th>Midwest</th>\n      <th>Wheatbelt</th>\n      <th>South Coast</th>\n      <th>Swan</th>\n      <th>South West</th>\n      <th>Warren</th>\n      <th>WA list name</th>\n    </tr>\n  </thead>\n  <tbody>\n    <tr>\n      <th>0</th>\n      <td>Abebaioscia troglodytes</td>\n      <td>Pannikin Plain Cave isopod</td>\n      <td>INVERTEBRATE</td>\n      <td>VU</td>\n      <td>NaN</td>\n      <td>NaN</td>\n      <td>NaN</td>\n      <td>NaN</td>\n      <td>NaN</td>\n      <td>NaN</td>\n      <td>X</td>\n      <td>NaN</td>\n      <td>NaN</td>\n      <td>NaN</td>\n      <td>Vulnerable under the Biodiversity Conservation...</td>\n    </tr>\n    <tr>\n      <th>1</th>\n      <td>Acanthophis antarcticus</td>\n      <td>southern death adder</td>\n      <td>REPTILE</td>\n      <td>P3</td>\n      <td>NaN</td>\n      <td>NaN</td>\n      <td>NaN</td>\n      <td>X</td>\n      <td>NaN</td>\n      <td>X</td>\n      <td>X</td>\n      <td>X</td>\n      <td>NaN</td>\n      <td>NaN</td>\n      <td>Priority</td>\n    </tr>\n    <tr>\n      <th>2</th>\n      <td>Acercella poorginup</td>\n      <td>Poorginup Swamp watermite</td>\n      <td>INVERTEBRATE</td>\n      <td>P2</td>\n      <td>NaN</td>\n      <td>NaN</td>\n      <td>NaN</td>\n      <td>NaN</td>\n      <td>NaN</td>\n      <td>NaN</td>\n      <td>NaN</td>\n      <td>NaN</td>\n      <td>NaN</td>\n      <td>X</td>\n      <td>Priority</td>\n    </tr>\n    <tr>\n      <th>3</th>\n      <td>Acizzia mccarthyi</td>\n      <td>McCarthy's plant-louse</td>\n      <td>INVERTEBRATE</td>\n      <td>VU</td>\n      <td>NaN</td>\n      <td>NaN</td>\n      <td>NaN</td>\n      <td>NaN</td>\n      <td>NaN</td>\n      <td>NaN</td>\n      <td>X</td>\n      <td>NaN</td>\n      <td>NaN</td>\n      <td>NaN</td>\n      <td>Vulnerable under the Biodiversity Conservation...</td>\n    </tr>\n    <tr>\n      <th>4</th>\n      <td>Acizzia veski</td>\n      <td>Vesk's plant-louse</td>\n      <td>INVERTEBRATE</td>\n      <td>VU</td>\n      <td>NaN</td>\n      <td>NaN</td>\n      <td>NaN</td>\n      <td>NaN</td>\n      <td>NaN</td>\n      <td>NaN</td>\n      <td>X</td>\n      <td>NaN</td>\n      <td>NaN</td>\n      <td>NaN</td>\n      <td>Vulnerable under the Biodiversity Conservation...</td>\n    </tr>\n    <tr>\n      <th>...</th>\n      <td>...</td>\n      <td>...</td>\n      <td>...</td>\n      <td>...</td>\n      <td>...</td>\n      <td>...</td>\n      <td>...</td>\n      <td>...</td>\n      <td>...</td>\n      <td>...</td>\n      <td>...</td>\n      <td>...</td>\n      <td>...</td>\n      <td>...</td>\n      <td>...</td>\n    </tr>\n    <tr>\n      <th>571</th>\n      <td>Zephyrarchaea mainae</td>\n      <td>Main's assassin spider</td>\n      <td>INVERTEBRATE</td>\n      <td>VU</td>\n      <td>NaN</td>\n      <td>NaN</td>\n      <td>NaN</td>\n      <td>NaN</td>\n      <td>NaN</td>\n      <td>NaN</td>\n      <td>X</td>\n      <td>NaN</td>\n      <td>NaN</td>\n      <td>X</td>\n      <td>Vulnerable under the Biodiversity Conservation...</td>\n    </tr>\n    <tr>\n      <th>572</th>\n      <td>Zephyrarchaea marki</td>\n      <td>Cape Le Grand assassin spider</td>\n      <td>INVERTEBRATE</td>\n      <td>VU</td>\n      <td>NaN</td>\n      <td>NaN</td>\n      <td>NaN</td>\n      <td>NaN</td>\n      <td>NaN</td>\n      <td>NaN</td>\n      <td>X</td>\n      <td>NaN</td>\n      <td>NaN</td>\n      <td>NaN</td>\n      <td>Vulnerable under the Biodiversity Conservation...</td>\n    </tr>\n    <tr>\n      <th>573</th>\n      <td>Zephyrarchaea melindae</td>\n      <td>Toolbrunup assassin spider</td>\n      <td>INVERTEBRATE</td>\n      <td>VU</td>\n      <td>NaN</td>\n      <td>NaN</td>\n      <td>NaN</td>\n      <td>NaN</td>\n      <td>NaN</td>\n      <td>NaN</td>\n      <td>X</td>\n      <td>NaN</td>\n      <td>NaN</td>\n      <td>NaN</td>\n      <td>Vulnerable under the Biodiversity Conservation...</td>\n    </tr>\n    <tr>\n      <th>574</th>\n      <td>Zephyrarchaea robinsi</td>\n      <td>eastern massif assassin spider</td>\n      <td>INVERTEBRATE</td>\n      <td>VU</td>\n      <td>NaN</td>\n      <td>NaN</td>\n      <td>NaN</td>\n      <td>NaN</td>\n      <td>NaN</td>\n      <td>NaN</td>\n      <td>X</td>\n      <td>NaN</td>\n      <td>NaN</td>\n      <td>NaN</td>\n      <td>Vulnerable under the Biodiversity Conservation...</td>\n    </tr>\n    <tr>\n      <th>575</th>\n      <td>Zyzomys pedunculatus</td>\n      <td>central rock-rat, antina</td>\n      <td>MAMMAL</td>\n      <td>CR</td>\n      <td>CR</td>\n      <td>NaN</td>\n      <td>X</td>\n      <td>NaN</td>\n      <td>NaN</td>\n      <td>NaN</td>\n      <td>NaN</td>\n      <td>NaN</td>\n      <td>NaN</td>\n      <td>NaN</td>\n      <td>Critically Endangered under the Biodiversity C...</td>\n    </tr>\n  </tbody>\n</table>\n<p>576 rows × 15 columns</p>\n</div>"
     },
     "execution_count": 3,
     "metadata": {},
     "output_type": "execute_result"
    }
   ],
   "source": [
    "print(\"Downloading WA Fauna List\")\n",
    "fauna = pd.read_excel(faunafile)\n",
    "print(\"Finished Fauna download\")\n",
    "fauna"
   ],
   "metadata": {
    "collapsed": false,
    "pycharm": {
     "name": "#%%\n"
    }
   }
  },
  {
   "cell_type": "code",
   "execution_count": 27,
   "outputs": [
    {
     "data": {
      "text/plain": "Index(['Scientific name', 'Common name', 'Class', 'WA Status \\n(ranking)',\n       'EPBC Status \\n(ranking)', 'Kimberley', 'Pilbara', 'Goldfields',\n       'Midwest', 'Wheatbelt', 'South Coast', 'Swan', 'South West', 'Warren',\n       'WA list name'],\n      dtype='object')"
     },
     "execution_count": 27,
     "metadata": {},
     "output_type": "execute_result"
    }
   ],
   "source": [
    "fauna.columns"
   ],
   "metadata": {
    "collapsed": false,
    "pycharm": {
     "name": "#%%\n"
    }
   }
  },
  {
   "cell_type": "code",
   "execution_count": 28,
   "outputs": [
    {
     "data": {
      "text/plain": "Index(['Scientific name', 'Common name', 'Class', 'WA Status \\n(ranking)',\n       'EPBC Status \\n(ranking)', 'KIMB', 'PILB', 'GOLD', 'MWST', 'WHTB',\n       'SCST', 'SWAN', 'SWST', 'WARR', 'WA list name'],\n      dtype='object')"
     },
     "execution_count": 28,
     "metadata": {},
     "output_type": "execute_result"
    }
   ],
   "source": [
    "fauna = fauna.rename(columns=\n",
    "{\n",
    "    'Kimberley':'KIMB',\n",
    "    'Pilbara':'PILB',\n",
    "    'Goldfields':'GOLD',\n",
    "    'Midwest': 'MWST',\n",
    "    'Wheatbelt':'WHTB',\n",
    "    'South Coast':'SCST',\n",
    "    'Swan':'SWAN',\n",
    "    'South West':'SWST',\n",
    "    'Warren': 'WARR'\n",
    "})\n",
    "fauna.columns"
   ],
   "metadata": {
    "collapsed": false,
    "pycharm": {
     "name": "#%%\n"
    }
   }
  },
  {
   "cell_type": "code",
   "execution_count": 14,
   "outputs": [
    {
     "name": "stdout",
     "output_type": "stream",
     "text": [
      "Downloading WA Flora List\n",
      "Finished Flora download\n"
     ]
    },
    {
     "data": {
      "text/plain": "      Name ID                                            Taxon Status Rank  \\\n0       14112           Abutilon sp. Hamelin (A.M. Ashby 2196)      2  NaN   \n1       14110      Abutilon sp. Onslow (F. Smith s.n. 10/9/61)      1  NaN   \n2       43021  Abutilon sp. Pritzelianum (S. van Leeuwen 5095)      1  NaN   \n3       14114             Abutilon sp. Quobba (H. Demarz 3858)      2  NaN   \n4       14155        Abutilon sp. Warburton (A.S. George 8164)      1  NaN   \n...       ...                                              ...    ...  ...   \n3693    17481                                     Xyris maxima      2  NaN   \n3694     7383                               Zehneria mucronata      1  NaN   \n3695    29060                                  Zeuxine oblonga      2  NaN   \n3696    36237                                  Zornia areolata      1  NaN   \n3697    34478    Zornia sp. West Kimberley (C.A. Gardner 9942)      3  NaN   \n\n     IUCN Criteria EPBC DBCA Region                  DBCA District  \\\n0              NaN  NaN        MWST                      SHARK BAY   \n1              NaN  NaN        PILB                       KARRATHA   \n2              NaN  NaN   MWST,PILB             KARRATHA,GERALDTON   \n3              NaN  NaN   MWST,PILB    EXMOUTH,GERALDTON,SHARK BAY   \n4              NaN  NaN        GOLD                     KALGOORLIE   \n...            ...  ...         ...                            ...   \n3693           NaN  NaN        SWST                      BLACKWOOD   \n3694           NaN  NaN        KIMB                 EAST KIMBERLEY   \n3695           NaN  NaN        KIMB                 EAST KIMBERLEY   \n3696           NaN  NaN        KIMB                 EAST KIMBERLEY   \n3697           NaN  NaN        KIMB  EAST KIMBERLEY,WEST KIMBERLEY   \n\n                                           Distribution Flowering Period  \\\n0                  Shark Bay, Hamelin Pool, Yaringa Stn          Jul-Sep   \n1                                 Onslow, Yaraloola Stn              Sep   \n2                 Carnarvon, Port Headland, Lake McLeod     Jun, Aug-Sep   \n3     Quobba, Cape Range, Muggon Stn., Canarvon, Dor...          Jul-Oct   \n4                                             Warburton              NaN   \n...                                                 ...              ...   \n3693                                        Witchcliffe          Nov-Jan   \n3694          Mitchell Plateau, Cassini Is., Sale River              Jan   \n3695                                          Kununurra              NaN   \n3696                                          Kununurra              NaN   \n3697  Gibb River Stn., Mt Elizabeth Stn., Beverley S...              NaN   \n\n     Recovery Plan  \n0              NaN  \n1              NaN  \n2              NaN  \n3              NaN  \n4              NaN  \n...            ...  \n3693           NaN  \n3694           NaN  \n3695           NaN  \n3696           NaN  \n3697           NaN  \n\n[3698 rows x 11 columns]",
      "text/html": "<div>\n<style scoped>\n    .dataframe tbody tr th:only-of-type {\n        vertical-align: middle;\n    }\n\n    .dataframe tbody tr th {\n        vertical-align: top;\n    }\n\n    .dataframe thead th {\n        text-align: right;\n    }\n</style>\n<table border=\"1\" class=\"dataframe\">\n  <thead>\n    <tr style=\"text-align: right;\">\n      <th></th>\n      <th>Name ID</th>\n      <th>Taxon</th>\n      <th>Status</th>\n      <th>Rank</th>\n      <th>IUCN Criteria</th>\n      <th>EPBC</th>\n      <th>DBCA Region</th>\n      <th>DBCA District</th>\n      <th>Distribution</th>\n      <th>Flowering Period</th>\n      <th>Recovery Plan</th>\n    </tr>\n  </thead>\n  <tbody>\n    <tr>\n      <th>0</th>\n      <td>14112</td>\n      <td>Abutilon sp. Hamelin (A.M. Ashby 2196)</td>\n      <td>2</td>\n      <td>NaN</td>\n      <td>NaN</td>\n      <td>NaN</td>\n      <td>MWST</td>\n      <td>SHARK BAY</td>\n      <td>Shark Bay, Hamelin Pool, Yaringa Stn</td>\n      <td>Jul-Sep</td>\n      <td>NaN</td>\n    </tr>\n    <tr>\n      <th>1</th>\n      <td>14110</td>\n      <td>Abutilon sp. Onslow (F. Smith s.n. 10/9/61)</td>\n      <td>1</td>\n      <td>NaN</td>\n      <td>NaN</td>\n      <td>NaN</td>\n      <td>PILB</td>\n      <td>KARRATHA</td>\n      <td>Onslow, Yaraloola Stn</td>\n      <td>Sep</td>\n      <td>NaN</td>\n    </tr>\n    <tr>\n      <th>2</th>\n      <td>43021</td>\n      <td>Abutilon sp. Pritzelianum (S. van Leeuwen 5095)</td>\n      <td>1</td>\n      <td>NaN</td>\n      <td>NaN</td>\n      <td>NaN</td>\n      <td>MWST,PILB</td>\n      <td>KARRATHA,GERALDTON</td>\n      <td>Carnarvon, Port Headland, Lake McLeod</td>\n      <td>Jun, Aug-Sep</td>\n      <td>NaN</td>\n    </tr>\n    <tr>\n      <th>3</th>\n      <td>14114</td>\n      <td>Abutilon sp. Quobba (H. Demarz 3858)</td>\n      <td>2</td>\n      <td>NaN</td>\n      <td>NaN</td>\n      <td>NaN</td>\n      <td>MWST,PILB</td>\n      <td>EXMOUTH,GERALDTON,SHARK BAY</td>\n      <td>Quobba, Cape Range, Muggon Stn., Canarvon, Dor...</td>\n      <td>Jul-Oct</td>\n      <td>NaN</td>\n    </tr>\n    <tr>\n      <th>4</th>\n      <td>14155</td>\n      <td>Abutilon sp. Warburton (A.S. George 8164)</td>\n      <td>1</td>\n      <td>NaN</td>\n      <td>NaN</td>\n      <td>NaN</td>\n      <td>GOLD</td>\n      <td>KALGOORLIE</td>\n      <td>Warburton</td>\n      <td>NaN</td>\n      <td>NaN</td>\n    </tr>\n    <tr>\n      <th>...</th>\n      <td>...</td>\n      <td>...</td>\n      <td>...</td>\n      <td>...</td>\n      <td>...</td>\n      <td>...</td>\n      <td>...</td>\n      <td>...</td>\n      <td>...</td>\n      <td>...</td>\n      <td>...</td>\n    </tr>\n    <tr>\n      <th>3693</th>\n      <td>17481</td>\n      <td>Xyris maxima</td>\n      <td>2</td>\n      <td>NaN</td>\n      <td>NaN</td>\n      <td>NaN</td>\n      <td>SWST</td>\n      <td>BLACKWOOD</td>\n      <td>Witchcliffe</td>\n      <td>Nov-Jan</td>\n      <td>NaN</td>\n    </tr>\n    <tr>\n      <th>3694</th>\n      <td>7383</td>\n      <td>Zehneria mucronata</td>\n      <td>1</td>\n      <td>NaN</td>\n      <td>NaN</td>\n      <td>NaN</td>\n      <td>KIMB</td>\n      <td>EAST KIMBERLEY</td>\n      <td>Mitchell Plateau, Cassini Is., Sale River</td>\n      <td>Jan</td>\n      <td>NaN</td>\n    </tr>\n    <tr>\n      <th>3695</th>\n      <td>29060</td>\n      <td>Zeuxine oblonga</td>\n      <td>2</td>\n      <td>NaN</td>\n      <td>NaN</td>\n      <td>NaN</td>\n      <td>KIMB</td>\n      <td>EAST KIMBERLEY</td>\n      <td>Kununurra</td>\n      <td>NaN</td>\n      <td>NaN</td>\n    </tr>\n    <tr>\n      <th>3696</th>\n      <td>36237</td>\n      <td>Zornia areolata</td>\n      <td>1</td>\n      <td>NaN</td>\n      <td>NaN</td>\n      <td>NaN</td>\n      <td>KIMB</td>\n      <td>EAST KIMBERLEY</td>\n      <td>Kununurra</td>\n      <td>NaN</td>\n      <td>NaN</td>\n    </tr>\n    <tr>\n      <th>3697</th>\n      <td>34478</td>\n      <td>Zornia sp. West Kimberley (C.A. Gardner 9942)</td>\n      <td>3</td>\n      <td>NaN</td>\n      <td>NaN</td>\n      <td>NaN</td>\n      <td>KIMB</td>\n      <td>EAST KIMBERLEY,WEST KIMBERLEY</td>\n      <td>Gibb River Stn., Mt Elizabeth Stn., Beverley S...</td>\n      <td>NaN</td>\n      <td>NaN</td>\n    </tr>\n  </tbody>\n</table>\n<p>3698 rows × 11 columns</p>\n</div>"
     },
     "execution_count": 14,
     "metadata": {},
     "output_type": "execute_result"
    }
   ],
   "source": [
    "print(\"Downloading WA Flora List\")\n",
    "flora = pd.read_excel(florafile,skiprows=1)\n",
    "print(\"Finished Flora download\")\n",
    "flora"
   ],
   "metadata": {
    "collapsed": false,
    "pycharm": {
     "name": "#%%\n"
    }
   }
  },
  {
   "cell_type": "code",
   "execution_count": 30,
   "outputs": [
    {
     "ename": "KeyError",
     "evalue": "0",
     "output_type": "error",
     "traceback": [
      "\u001B[1;31m---------------------------------------------------------------------------\u001B[0m",
      "\u001B[1;31mKeyError\u001B[0m                                  Traceback (most recent call last)",
      "File \u001B[1;32m~\\Anaconda3\\envs\\authoritative-lists\\lib\\site-packages\\pandas\\core\\indexes\\base.py:3621\u001B[0m, in \u001B[0;36mIndex.get_loc\u001B[1;34m(self, key, method, tolerance)\u001B[0m\n\u001B[0;32m   3620\u001B[0m \u001B[38;5;28;01mtry\u001B[39;00m:\n\u001B[1;32m-> 3621\u001B[0m     \u001B[38;5;28;01mreturn\u001B[39;00m \u001B[38;5;28;43mself\u001B[39;49m\u001B[38;5;241;43m.\u001B[39;49m\u001B[43m_engine\u001B[49m\u001B[38;5;241;43m.\u001B[39;49m\u001B[43mget_loc\u001B[49m\u001B[43m(\u001B[49m\u001B[43mcasted_key\u001B[49m\u001B[43m)\u001B[49m\n\u001B[0;32m   3622\u001B[0m \u001B[38;5;28;01mexcept\u001B[39;00m \u001B[38;5;167;01mKeyError\u001B[39;00m \u001B[38;5;28;01mas\u001B[39;00m err:\n",
      "File \u001B[1;32m~\\Anaconda3\\envs\\authoritative-lists\\lib\\site-packages\\pandas\\_libs\\index.pyx:136\u001B[0m, in \u001B[0;36mpandas._libs.index.IndexEngine.get_loc\u001B[1;34m()\u001B[0m\n",
      "File \u001B[1;32m~\\Anaconda3\\envs\\authoritative-lists\\lib\\site-packages\\pandas\\_libs\\index.pyx:163\u001B[0m, in \u001B[0;36mpandas._libs.index.IndexEngine.get_loc\u001B[1;34m()\u001B[0m\n",
      "File \u001B[1;32mpandas\\_libs\\hashtable_class_helper.pxi:5198\u001B[0m, in \u001B[0;36mpandas._libs.hashtable.PyObjectHashTable.get_item\u001B[1;34m()\u001B[0m\n",
      "File \u001B[1;32mpandas\\_libs\\hashtable_class_helper.pxi:5206\u001B[0m, in \u001B[0;36mpandas._libs.hashtable.PyObjectHashTable.get_item\u001B[1;34m()\u001B[0m\n",
      "\u001B[1;31mKeyError\u001B[0m: 0",
      "\nThe above exception was the direct cause of the following exception:\n",
      "\u001B[1;31mKeyError\u001B[0m                                  Traceback (most recent call last)",
      "Input \u001B[1;32mIn [30]\u001B[0m, in \u001B[0;36m<cell line: 2>\u001B[1;34m()\u001B[0m\n\u001B[0;32m      1\u001B[0m flora\u001B[38;5;241m.\u001B[39mcolumns\n\u001B[1;32m----> 2\u001B[0m \u001B[43mflora\u001B[49m\u001B[43m[\u001B[49m\u001B[38;5;241;43m0\u001B[39;49m\u001B[43m]\u001B[49m\n",
      "File \u001B[1;32m~\\Anaconda3\\envs\\authoritative-lists\\lib\\site-packages\\pandas\\core\\frame.py:3505\u001B[0m, in \u001B[0;36mDataFrame.__getitem__\u001B[1;34m(self, key)\u001B[0m\n\u001B[0;32m   3503\u001B[0m \u001B[38;5;28;01mif\u001B[39;00m \u001B[38;5;28mself\u001B[39m\u001B[38;5;241m.\u001B[39mcolumns\u001B[38;5;241m.\u001B[39mnlevels \u001B[38;5;241m>\u001B[39m \u001B[38;5;241m1\u001B[39m:\n\u001B[0;32m   3504\u001B[0m     \u001B[38;5;28;01mreturn\u001B[39;00m \u001B[38;5;28mself\u001B[39m\u001B[38;5;241m.\u001B[39m_getitem_multilevel(key)\n\u001B[1;32m-> 3505\u001B[0m indexer \u001B[38;5;241m=\u001B[39m \u001B[38;5;28;43mself\u001B[39;49m\u001B[38;5;241;43m.\u001B[39;49m\u001B[43mcolumns\u001B[49m\u001B[38;5;241;43m.\u001B[39;49m\u001B[43mget_loc\u001B[49m\u001B[43m(\u001B[49m\u001B[43mkey\u001B[49m\u001B[43m)\u001B[49m\n\u001B[0;32m   3506\u001B[0m \u001B[38;5;28;01mif\u001B[39;00m is_integer(indexer):\n\u001B[0;32m   3507\u001B[0m     indexer \u001B[38;5;241m=\u001B[39m [indexer]\n",
      "File \u001B[1;32m~\\Anaconda3\\envs\\authoritative-lists\\lib\\site-packages\\pandas\\core\\indexes\\base.py:3623\u001B[0m, in \u001B[0;36mIndex.get_loc\u001B[1;34m(self, key, method, tolerance)\u001B[0m\n\u001B[0;32m   3621\u001B[0m     \u001B[38;5;28;01mreturn\u001B[39;00m \u001B[38;5;28mself\u001B[39m\u001B[38;5;241m.\u001B[39m_engine\u001B[38;5;241m.\u001B[39mget_loc(casted_key)\n\u001B[0;32m   3622\u001B[0m \u001B[38;5;28;01mexcept\u001B[39;00m \u001B[38;5;167;01mKeyError\u001B[39;00m \u001B[38;5;28;01mas\u001B[39;00m err:\n\u001B[1;32m-> 3623\u001B[0m     \u001B[38;5;28;01mraise\u001B[39;00m \u001B[38;5;167;01mKeyError\u001B[39;00m(key) \u001B[38;5;28;01mfrom\u001B[39;00m \u001B[38;5;21;01merr\u001B[39;00m\n\u001B[0;32m   3624\u001B[0m \u001B[38;5;28;01mexcept\u001B[39;00m \u001B[38;5;167;01mTypeError\u001B[39;00m:\n\u001B[0;32m   3625\u001B[0m     \u001B[38;5;66;03m# If we have a listlike key, _check_indexing_error will raise\u001B[39;00m\n\u001B[0;32m   3626\u001B[0m     \u001B[38;5;66;03m#  InvalidIndexError. Otherwise we fall through and re-raise\u001B[39;00m\n\u001B[0;32m   3627\u001B[0m     \u001B[38;5;66;03m#  the TypeError.\u001B[39;00m\n\u001B[0;32m   3628\u001B[0m     \u001B[38;5;28mself\u001B[39m\u001B[38;5;241m.\u001B[39m_check_indexing_error(key)\n",
      "\u001B[1;31mKeyError\u001B[0m: 0"
     ]
    }
   ],
   "source": [
    "flora.columns\n"
   ],
   "metadata": {
    "collapsed": false,
    "pycharm": {
     "name": "#%%\n"
    }
   }
  },
  {
   "cell_type": "code",
   "execution_count": 38,
   "outputs": [
    {
     "data": {
      "text/plain": "                  result\n0                   SCST\n1    GOLD,WHTB,SCST,SWAN\n2                   WARR\n3                   SCST\n4                   SCST\n..                   ...\n571            SCST,WARR\n572                 SCST\n573                 SCST\n574                 SCST\n575                 PILB\n\n[576 rows x 1 columns]",
      "text/html": "<div>\n<style scoped>\n    .dataframe tbody tr th:only-of-type {\n        vertical-align: middle;\n    }\n\n    .dataframe tbody tr th {\n        vertical-align: top;\n    }\n\n    .dataframe thead th {\n        text-align: right;\n    }\n</style>\n<table border=\"1\" class=\"dataframe\">\n  <thead>\n    <tr style=\"text-align: right;\">\n      <th></th>\n      <th>result</th>\n    </tr>\n  </thead>\n  <tbody>\n    <tr>\n      <th>0</th>\n      <td>SCST</td>\n    </tr>\n    <tr>\n      <th>1</th>\n      <td>GOLD,WHTB,SCST,SWAN</td>\n    </tr>\n    <tr>\n      <th>2</th>\n      <td>WARR</td>\n    </tr>\n    <tr>\n      <th>3</th>\n      <td>SCST</td>\n    </tr>\n    <tr>\n      <th>4</th>\n      <td>SCST</td>\n    </tr>\n    <tr>\n      <th>...</th>\n      <td>...</td>\n    </tr>\n    <tr>\n      <th>571</th>\n      <td>SCST,WARR</td>\n    </tr>\n    <tr>\n      <th>572</th>\n      <td>SCST</td>\n    </tr>\n    <tr>\n      <th>573</th>\n      <td>SCST</td>\n    </tr>\n    <tr>\n      <th>574</th>\n      <td>SCST</td>\n    </tr>\n    <tr>\n      <th>575</th>\n      <td>PILB</td>\n    </tr>\n  </tbody>\n</table>\n<p>576 rows × 1 columns</p>\n</div>"
     },
     "execution_count": 38,
     "metadata": {},
     "output_type": "execute_result"
    }
   ],
   "source": [
    "# https://stackoverflow.com/questions/50789880/how-to-get-the-column-name-in-pandas-based-on-row-values\n",
    "import numpy as np\n",
    "df = fauna[['KIMB', 'PILB', 'GOLD',\n",
    "       'MWST', 'WHTB', 'SCST', 'SWAN', 'SWST', 'WARR']].copy()\n",
    "# v = np.argwhere(df.values).T\n",
    "v = np.where(df ==\"X\")\n",
    "xx = (pd.DataFrame(\n",
    "       df.columns[v[1]], index=df.index[v[0]], columns=['result']\n",
    "   ).groupby(level=0).agg(','.join).reindex(df.index)\n",
    ")\n",
    "# df2\n",
    "xx\n",
    "# df"
   ],
   "metadata": {
    "collapsed": false,
    "pycharm": {
     "name": "#%%\n"
    }
   }
  },
  {
   "cell_type": "code",
   "execution_count": 4,
   "outputs": [
    {
     "data": {
      "text/plain": "             Scientific name                     Common name         Class  \\\n0    Abebaioscia troglodytes      Pannikin Plain Cave isopod  INVERTEBRATE   \n1    Acanthophis antarcticus            southern death adder       REPTILE   \n2        Acercella poorginup       Poorginup Swamp watermite  INVERTEBRATE   \n3          Acizzia mccarthyi          McCarthy's plant-louse  INVERTEBRATE   \n4              Acizzia veski              Vesk's plant-louse  INVERTEBRATE   \n..                       ...                             ...           ...   \n571     Zephyrarchaea mainae          Main's assassin spider  INVERTEBRATE   \n572      Zephyrarchaea marki   Cape Le Grand assassin spider  INVERTEBRATE   \n573   Zephyrarchaea melindae      Toolbrunup assassin spider  INVERTEBRATE   \n574    Zephyrarchaea robinsi  eastern massif assassin spider  INVERTEBRATE   \n575     Zyzomys pedunculatus        central rock-rat, antina        MAMMAL   \n\n    WA Status \\n(ranking) EPBC Status \\n(ranking) Kimberley Pilbara  \\\n0                      VU                     NaN       NaN     NaN   \n1                      P3                     NaN       NaN     NaN   \n2                      P2                     NaN       NaN     NaN   \n3                      VU                     NaN       NaN     NaN   \n4                      VU                     NaN       NaN     NaN   \n..                    ...                     ...       ...     ...   \n571                    VU                     NaN       NaN     NaN   \n572                    VU                     NaN       NaN     NaN   \n573                    VU                     NaN       NaN     NaN   \n574                    VU                     NaN       NaN     NaN   \n575                    CR                      CR       NaN       X   \n\n    Goldfields Midwest Wheatbelt South Coast Swan South West Warren  \\\n0          NaN     NaN       NaN           X  NaN        NaN    NaN   \n1            X     NaN         X           X    X        NaN    NaN   \n2          NaN     NaN       NaN         NaN  NaN        NaN      X   \n3          NaN     NaN       NaN           X  NaN        NaN    NaN   \n4          NaN     NaN       NaN           X  NaN        NaN    NaN   \n..         ...     ...       ...         ...  ...        ...    ...   \n571        NaN     NaN       NaN           X  NaN        NaN      X   \n572        NaN     NaN       NaN           X  NaN        NaN    NaN   \n573        NaN     NaN       NaN           X  NaN        NaN    NaN   \n574        NaN     NaN       NaN           X  NaN        NaN    NaN   \n575        NaN     NaN       NaN         NaN  NaN        NaN    NaN   \n\n                                          WA list name  \n0    Vulnerable under the Biodiversity Conservation...  \n1                                             Priority  \n2                                             Priority  \n3    Vulnerable under the Biodiversity Conservation...  \n4    Vulnerable under the Biodiversity Conservation...  \n..                                                 ...  \n571  Vulnerable under the Biodiversity Conservation...  \n572  Vulnerable under the Biodiversity Conservation...  \n573  Vulnerable under the Biodiversity Conservation...  \n574  Vulnerable under the Biodiversity Conservation...  \n575  Critically Endangered under the Biodiversity C...  \n\n[576 rows x 15 columns]",
      "text/html": "<div>\n<style scoped>\n    .dataframe tbody tr th:only-of-type {\n        vertical-align: middle;\n    }\n\n    .dataframe tbody tr th {\n        vertical-align: top;\n    }\n\n    .dataframe thead th {\n        text-align: right;\n    }\n</style>\n<table border=\"1\" class=\"dataframe\">\n  <thead>\n    <tr style=\"text-align: right;\">\n      <th></th>\n      <th>Scientific name</th>\n      <th>Common name</th>\n      <th>Class</th>\n      <th>WA Status \\n(ranking)</th>\n      <th>EPBC Status \\n(ranking)</th>\n      <th>Kimberley</th>\n      <th>Pilbara</th>\n      <th>Goldfields</th>\n      <th>Midwest</th>\n      <th>Wheatbelt</th>\n      <th>South Coast</th>\n      <th>Swan</th>\n      <th>South West</th>\n      <th>Warren</th>\n      <th>WA list name</th>\n    </tr>\n  </thead>\n  <tbody>\n    <tr>\n      <th>0</th>\n      <td>Abebaioscia troglodytes</td>\n      <td>Pannikin Plain Cave isopod</td>\n      <td>INVERTEBRATE</td>\n      <td>VU</td>\n      <td>NaN</td>\n      <td>NaN</td>\n      <td>NaN</td>\n      <td>NaN</td>\n      <td>NaN</td>\n      <td>NaN</td>\n      <td>X</td>\n      <td>NaN</td>\n      <td>NaN</td>\n      <td>NaN</td>\n      <td>Vulnerable under the Biodiversity Conservation...</td>\n    </tr>\n    <tr>\n      <th>1</th>\n      <td>Acanthophis antarcticus</td>\n      <td>southern death adder</td>\n      <td>REPTILE</td>\n      <td>P3</td>\n      <td>NaN</td>\n      <td>NaN</td>\n      <td>NaN</td>\n      <td>X</td>\n      <td>NaN</td>\n      <td>X</td>\n      <td>X</td>\n      <td>X</td>\n      <td>NaN</td>\n      <td>NaN</td>\n      <td>Priority</td>\n    </tr>\n    <tr>\n      <th>2</th>\n      <td>Acercella poorginup</td>\n      <td>Poorginup Swamp watermite</td>\n      <td>INVERTEBRATE</td>\n      <td>P2</td>\n      <td>NaN</td>\n      <td>NaN</td>\n      <td>NaN</td>\n      <td>NaN</td>\n      <td>NaN</td>\n      <td>NaN</td>\n      <td>NaN</td>\n      <td>NaN</td>\n      <td>NaN</td>\n      <td>X</td>\n      <td>Priority</td>\n    </tr>\n    <tr>\n      <th>3</th>\n      <td>Acizzia mccarthyi</td>\n      <td>McCarthy's plant-louse</td>\n      <td>INVERTEBRATE</td>\n      <td>VU</td>\n      <td>NaN</td>\n      <td>NaN</td>\n      <td>NaN</td>\n      <td>NaN</td>\n      <td>NaN</td>\n      <td>NaN</td>\n      <td>X</td>\n      <td>NaN</td>\n      <td>NaN</td>\n      <td>NaN</td>\n      <td>Vulnerable under the Biodiversity Conservation...</td>\n    </tr>\n    <tr>\n      <th>4</th>\n      <td>Acizzia veski</td>\n      <td>Vesk's plant-louse</td>\n      <td>INVERTEBRATE</td>\n      <td>VU</td>\n      <td>NaN</td>\n      <td>NaN</td>\n      <td>NaN</td>\n      <td>NaN</td>\n      <td>NaN</td>\n      <td>NaN</td>\n      <td>X</td>\n      <td>NaN</td>\n      <td>NaN</td>\n      <td>NaN</td>\n      <td>Vulnerable under the Biodiversity Conservation...</td>\n    </tr>\n    <tr>\n      <th>...</th>\n      <td>...</td>\n      <td>...</td>\n      <td>...</td>\n      <td>...</td>\n      <td>...</td>\n      <td>...</td>\n      <td>...</td>\n      <td>...</td>\n      <td>...</td>\n      <td>...</td>\n      <td>...</td>\n      <td>...</td>\n      <td>...</td>\n      <td>...</td>\n      <td>...</td>\n    </tr>\n    <tr>\n      <th>571</th>\n      <td>Zephyrarchaea mainae</td>\n      <td>Main's assassin spider</td>\n      <td>INVERTEBRATE</td>\n      <td>VU</td>\n      <td>NaN</td>\n      <td>NaN</td>\n      <td>NaN</td>\n      <td>NaN</td>\n      <td>NaN</td>\n      <td>NaN</td>\n      <td>X</td>\n      <td>NaN</td>\n      <td>NaN</td>\n      <td>X</td>\n      <td>Vulnerable under the Biodiversity Conservation...</td>\n    </tr>\n    <tr>\n      <th>572</th>\n      <td>Zephyrarchaea marki</td>\n      <td>Cape Le Grand assassin spider</td>\n      <td>INVERTEBRATE</td>\n      <td>VU</td>\n      <td>NaN</td>\n      <td>NaN</td>\n      <td>NaN</td>\n      <td>NaN</td>\n      <td>NaN</td>\n      <td>NaN</td>\n      <td>X</td>\n      <td>NaN</td>\n      <td>NaN</td>\n      <td>NaN</td>\n      <td>Vulnerable under the Biodiversity Conservation...</td>\n    </tr>\n    <tr>\n      <th>573</th>\n      <td>Zephyrarchaea melindae</td>\n      <td>Toolbrunup assassin spider</td>\n      <td>INVERTEBRATE</td>\n      <td>VU</td>\n      <td>NaN</td>\n      <td>NaN</td>\n      <td>NaN</td>\n      <td>NaN</td>\n      <td>NaN</td>\n      <td>NaN</td>\n      <td>X</td>\n      <td>NaN</td>\n      <td>NaN</td>\n      <td>NaN</td>\n      <td>Vulnerable under the Biodiversity Conservation...</td>\n    </tr>\n    <tr>\n      <th>574</th>\n      <td>Zephyrarchaea robinsi</td>\n      <td>eastern massif assassin spider</td>\n      <td>INVERTEBRATE</td>\n      <td>VU</td>\n      <td>NaN</td>\n      <td>NaN</td>\n      <td>NaN</td>\n      <td>NaN</td>\n      <td>NaN</td>\n      <td>NaN</td>\n      <td>X</td>\n      <td>NaN</td>\n      <td>NaN</td>\n      <td>NaN</td>\n      <td>Vulnerable under the Biodiversity Conservation...</td>\n    </tr>\n    <tr>\n      <th>575</th>\n      <td>Zyzomys pedunculatus</td>\n      <td>central rock-rat, antina</td>\n      <td>MAMMAL</td>\n      <td>CR</td>\n      <td>CR</td>\n      <td>NaN</td>\n      <td>X</td>\n      <td>NaN</td>\n      <td>NaN</td>\n      <td>NaN</td>\n      <td>NaN</td>\n      <td>NaN</td>\n      <td>NaN</td>\n      <td>NaN</td>\n      <td>Critically Endangered under the Biodiversity C...</td>\n    </tr>\n  </tbody>\n</table>\n<p>576 rows × 15 columns</p>\n</div>"
     },
     "execution_count": 4,
     "metadata": {},
     "output_type": "execute_result"
    }
   ],
   "source": [
    "fauna"
   ],
   "metadata": {
    "collapsed": false,
    "pycharm": {
     "name": "#%%\n"
    }
   }
  },
  {
   "cell_type": "code",
   "execution_count": null,
   "outputs": [],
   "source": [
    "\n",
    "# update the encoding on the final file / conservation is same as sensitive\n",
    "fileurl = \"/Users/new330/IdeaProjects/authoritative-lists/current-lists/sensitive-lists/WA-sensitive.csv\"\n",
    "wa = pd.read_csv(fileurl,encoding='cp1252')\n",
    "wa.to_csv(fileurl, encoding=\"UTF-8\",index=False)\n",
    "wa.to_csv(\"/Users/new330/IdeaProjects/authoritative-lists/current-lists/conservation-lists/WA-conservation.csv\", encoding=\"UTF-8\",index=False)\n",
    "\n",
    "wa = wa.WATaxonId.astype(int)\n",
    "wa"
   ],
   "metadata": {
    "collapsed": false,
    "pycharm": {
     "name": "#%%\n"
    }
   }
  }
 ],
 "metadata": {
  "kernelspec": {
   "display_name": "Python 3",
   "language": "python",
   "name": "python3"
  },
  "language_info": {
   "codemirror_mode": {
    "name": "ipython",
    "version": 2
   },
   "file_extension": ".py",
   "mimetype": "text/x-python",
   "name": "python",
   "nbconvert_exporter": "python",
   "pygments_lexer": "ipython2",
   "version": "2.7.6"
  }
 },
 "nbformat": 4,
 "nbformat_minor": 0
}