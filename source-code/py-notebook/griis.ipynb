{
 "cells": [
  {
   "cell_type": "markdown",
   "metadata": {
    "collapsed": true,
    "pycharm": {
     "name": "#%% md\n"
    }
   },
   "source": [
    "# Global Register of Introduced and Invasive Species - Australia (GRIIS)\n",
    "Import GRIIS list from [GBIF IPT](https://cloud.gbif.org/griis/resource?r=griis-australia)"
   ]
  },
  {
   "cell_type": "code",
   "execution_count": 139,
   "outputs": [],
   "source": [
    "#import essential libraries\n",
    "import pandas as pd\n",
    "import requests\n",
    "import os\n",
    "import zipfile\n",
    "from pathlib import Path"
   ],
   "metadata": {
    "collapsed": false,
    "pycharm": {
     "name": "#%%\n"
    }
   }
  },
  {
   "cell_type": "markdown",
   "source": [
    "Download the Darwin Core Archive and read the species list into a dataframe"
   ],
   "metadata": {
    "collapsed": false
   }
  },
  {
   "cell_type": "code",
   "execution_count": 140,
   "outputs": [
    {
     "name": "stdout",
     "output_type": "stream",
     "text": [
      "Downloading dwca\n"
     ]
    }
   ],
   "source": [
    "url = \"https://cloud.gbif.org/griis/archive.do?r=griis-australia&v=1.6\"\n",
    "basedir = \"/Users/new330/IdeaProjects/authoritative-lists/\"\n",
    "sourcedir = basedir+\"source-data/griis/\"\n",
    "targetdir = basedir+\"current-lists/griis/\"\n",
    "print(\"Downloading dwca\")\n",
    "r = requests.get(url)"
   ],
   "metadata": {
    "collapsed": false,
    "pycharm": {
     "name": "#%%\n"
    }
   }
  },
  {
   "cell_type": "markdown",
   "source": [
    "Retrieve the filename from the headers. Download and unzip the file"
   ],
   "metadata": {
    "collapsed": false
   }
  },
  {
   "cell_type": "code",
   "execution_count": 144,
   "outputs": [],
   "source": [
    "#get the filename from the headers and create a directory holder for it\n",
    "basedir = \"/Users/new330/IdeaProjects/authoritative-lists/\"\n",
    "sourcedir = basedir+\"source-data/griis/\"\n",
    "targetdir = basedir+\"current-lists/griis/\"\n",
    "dwca = sourcedir + r.headers['content-disposition'].split(\"=\")[1].replace('\"','')\n",
    "if Path(dwca).exists():\n",
    "  os.remove(dwca)\n",
    "unzipdirname = dwca[:-len(\".zip\")]\n",
    "if not Path(unzipdirname):\n",
    "  os.mkdir(unzipdirname)\n",
    "#downlaad\n",
    "with open(dwca, \"wb\") as output_file:\n",
    "    output_file.write(r.content)\n",
    "# unzip\n",
    "with zipfile.ZipFile(dwca, 'r') as z:\n",
    "   z.extractall(unzipdirname)"
   ],
   "metadata": {
    "collapsed": false,
    "pycharm": {
     "name": "#%%\n"
    }
   }
  },
  {
   "cell_type": "markdown",
   "source": [
    "Explore the list, looking especially for encoding issues."
   ],
   "metadata": {
    "collapsed": false
   }
  },
  {
   "cell_type": "code",
   "execution_count": 146,
   "outputs": [
    {
     "data": {
      "text/plain": "          id  taxonID                                   scientificName  \\\n0     151000   151000  Abelia Ã—grandiflora (Rovelli ex AndrÃ©) Rehder   \n1     151001   151001                  Abelmoschus manihot (L.) Medik.   \n2     151002   151002                      Abutilon grandiflorum G.Don   \n3     151003   151003         Abutilon pictum (Gillies ex Hook.) Walp.   \n4     151004   151004                      Abutilon theophrasti Medik.   \n...      ...      ...                                              ...   \n2979  153979   153979                            Ziziphus jujuba Mill.   \n2980  153980   153980                         Ziziphus mauritiana Lam.   \n2981  153981   153981                        Ziziphus mucronata Willd.   \n2982  153982   153982                Ziziphus spina-christi (L.) Desf.   \n2983  153983   153983    Zoobotryon verticillatum (Delle Chiaje, 1822)   \n\n                                      acceptedNameUsage   kingdom  \\\n0                                                   NaN   Plantae   \n1                                                   NaN   Plantae   \n2                                                   NaN   Plantae   \n3     Callianthe picta (Gillies ex Hook. & Arn.) Don...   Plantae   \n4                                                   NaN   Plantae   \n...                                                 ...       ...   \n2979                                                NaN   Plantae   \n2980                                                NaN   Plantae   \n2981                                                NaN   Plantae   \n2982                                                NaN   Plantae   \n2983          Amathia verticillata (delle Chiaje, 1822)  Animalia   \n\n            phylum          class           order          family taxonRank  \\\n0     Tracheophyta  Magnoliopsida      Dipsacales  Caprifoliaceae   SPECIES   \n1     Tracheophyta  Magnoliopsida        Malvales       Malvaceae   SPECIES   \n2     Tracheophyta  Magnoliopsida        Malvales       Malvaceae   SPECIES   \n3     Tracheophyta  Magnoliopsida        Malvales       Malvaceae   SPECIES   \n4     Tracheophyta  Magnoliopsida        Malvales       Malvaceae   SPECIES   \n...            ...            ...             ...             ...       ...   \n2979  Tracheophyta  Magnoliopsida         Rosales      Rhamnaceae   SPECIES   \n2980  Tracheophyta  Magnoliopsida         Rosales      Rhamnaceae   SPECIES   \n2981  Tracheophyta  Magnoliopsida         Rosales      Rhamnaceae   SPECIES   \n2982  Tracheophyta  Magnoliopsida         Rosales      Rhamnaceae   SPECIES   \n2983       Bryozoa   Gymnolaemata  Ctenostomatida  Vesiculariidae   SPECIES   \n\n     taxonomicStatus  \n0           ACCEPTED  \n1           ACCEPTED  \n2           ACCEPTED  \n3            SYNONYM  \n4           ACCEPTED  \n...              ...  \n2979        ACCEPTED  \n2980        ACCEPTED  \n2981        ACCEPTED  \n2982        ACCEPTED  \n2983         SYNONYM  \n\n[2984 rows x 11 columns]",
      "text/html": "<div>\n<style scoped>\n    .dataframe tbody tr th:only-of-type {\n        vertical-align: middle;\n    }\n\n    .dataframe tbody tr th {\n        vertical-align: top;\n    }\n\n    .dataframe thead th {\n        text-align: right;\n    }\n</style>\n<table border=\"1\" class=\"dataframe\">\n  <thead>\n    <tr style=\"text-align: right;\">\n      <th></th>\n      <th>id</th>\n      <th>taxonID</th>\n      <th>scientificName</th>\n      <th>acceptedNameUsage</th>\n      <th>kingdom</th>\n      <th>phylum</th>\n      <th>class</th>\n      <th>order</th>\n      <th>family</th>\n      <th>taxonRank</th>\n      <th>taxonomicStatus</th>\n    </tr>\n  </thead>\n  <tbody>\n    <tr>\n      <th>0</th>\n      <td>151000</td>\n      <td>151000</td>\n      <td>Abelia Ã—grandiflora (Rovelli ex AndrÃ©) Rehder</td>\n      <td>NaN</td>\n      <td>Plantae</td>\n      <td>Tracheophyta</td>\n      <td>Magnoliopsida</td>\n      <td>Dipsacales</td>\n      <td>Caprifoliaceae</td>\n      <td>SPECIES</td>\n      <td>ACCEPTED</td>\n    </tr>\n    <tr>\n      <th>1</th>\n      <td>151001</td>\n      <td>151001</td>\n      <td>Abelmoschus manihot (L.) Medik.</td>\n      <td>NaN</td>\n      <td>Plantae</td>\n      <td>Tracheophyta</td>\n      <td>Magnoliopsida</td>\n      <td>Malvales</td>\n      <td>Malvaceae</td>\n      <td>SPECIES</td>\n      <td>ACCEPTED</td>\n    </tr>\n    <tr>\n      <th>2</th>\n      <td>151002</td>\n      <td>151002</td>\n      <td>Abutilon grandiflorum G.Don</td>\n      <td>NaN</td>\n      <td>Plantae</td>\n      <td>Tracheophyta</td>\n      <td>Magnoliopsida</td>\n      <td>Malvales</td>\n      <td>Malvaceae</td>\n      <td>SPECIES</td>\n      <td>ACCEPTED</td>\n    </tr>\n    <tr>\n      <th>3</th>\n      <td>151003</td>\n      <td>151003</td>\n      <td>Abutilon pictum (Gillies ex Hook.) Walp.</td>\n      <td>Callianthe picta (Gillies ex Hook. &amp; Arn.) Don...</td>\n      <td>Plantae</td>\n      <td>Tracheophyta</td>\n      <td>Magnoliopsida</td>\n      <td>Malvales</td>\n      <td>Malvaceae</td>\n      <td>SPECIES</td>\n      <td>SYNONYM</td>\n    </tr>\n    <tr>\n      <th>4</th>\n      <td>151004</td>\n      <td>151004</td>\n      <td>Abutilon theophrasti Medik.</td>\n      <td>NaN</td>\n      <td>Plantae</td>\n      <td>Tracheophyta</td>\n      <td>Magnoliopsida</td>\n      <td>Malvales</td>\n      <td>Malvaceae</td>\n      <td>SPECIES</td>\n      <td>ACCEPTED</td>\n    </tr>\n    <tr>\n      <th>...</th>\n      <td>...</td>\n      <td>...</td>\n      <td>...</td>\n      <td>...</td>\n      <td>...</td>\n      <td>...</td>\n      <td>...</td>\n      <td>...</td>\n      <td>...</td>\n      <td>...</td>\n      <td>...</td>\n    </tr>\n    <tr>\n      <th>2979</th>\n      <td>153979</td>\n      <td>153979</td>\n      <td>Ziziphus jujuba Mill.</td>\n      <td>NaN</td>\n      <td>Plantae</td>\n      <td>Tracheophyta</td>\n      <td>Magnoliopsida</td>\n      <td>Rosales</td>\n      <td>Rhamnaceae</td>\n      <td>SPECIES</td>\n      <td>ACCEPTED</td>\n    </tr>\n    <tr>\n      <th>2980</th>\n      <td>153980</td>\n      <td>153980</td>\n      <td>Ziziphus mauritiana Lam.</td>\n      <td>NaN</td>\n      <td>Plantae</td>\n      <td>Tracheophyta</td>\n      <td>Magnoliopsida</td>\n      <td>Rosales</td>\n      <td>Rhamnaceae</td>\n      <td>SPECIES</td>\n      <td>ACCEPTED</td>\n    </tr>\n    <tr>\n      <th>2981</th>\n      <td>153981</td>\n      <td>153981</td>\n      <td>Ziziphus mucronata Willd.</td>\n      <td>NaN</td>\n      <td>Plantae</td>\n      <td>Tracheophyta</td>\n      <td>Magnoliopsida</td>\n      <td>Rosales</td>\n      <td>Rhamnaceae</td>\n      <td>SPECIES</td>\n      <td>ACCEPTED</td>\n    </tr>\n    <tr>\n      <th>2982</th>\n      <td>153982</td>\n      <td>153982</td>\n      <td>Ziziphus spina-christi (L.) Desf.</td>\n      <td>NaN</td>\n      <td>Plantae</td>\n      <td>Tracheophyta</td>\n      <td>Magnoliopsida</td>\n      <td>Rosales</td>\n      <td>Rhamnaceae</td>\n      <td>SPECIES</td>\n      <td>ACCEPTED</td>\n    </tr>\n    <tr>\n      <th>2983</th>\n      <td>153983</td>\n      <td>153983</td>\n      <td>Zoobotryon verticillatum (Delle Chiaje, 1822)</td>\n      <td>Amathia verticillata (delle Chiaje, 1822)</td>\n      <td>Animalia</td>\n      <td>Bryozoa</td>\n      <td>Gymnolaemata</td>\n      <td>Ctenostomatida</td>\n      <td>Vesiculariidae</td>\n      <td>SPECIES</td>\n      <td>SYNONYM</td>\n    </tr>\n  </tbody>\n</table>\n<p>2984 rows × 11 columns</p>\n</div>"
     },
     "execution_count": 146,
     "metadata": {},
     "output_type": "execute_result"
    }
   ],
   "source": [
    "#explore\n",
    "taxondf = pd.read_csv(unzipdirname + os.sep + \"taxon.txt\",sep=\"\\t\",lineterminator=\"\\n\")\n",
    "taxondf"
   ],
   "metadata": {
    "collapsed": false,
    "pycharm": {
     "name": "#%%\n"
    }
   }
  },
  {
   "cell_type": "markdown",
   "source": [
    "Problem records found by eyeballing. The file specifies UTF-8 encoding but has been encoded in something else."
   ],
   "metadata": {
    "collapsed": false
   }
  },
  {
   "cell_type": "code",
   "execution_count": 147,
   "outputs": [
    {
     "data": {
      "text/plain": "      taxonID                                   scientificName\n0      151000  Abelia Ã—grandiflora (Rovelli ex AndrÃ©) Rehder\n155    151155         Amphilophus citrinellus (GÃ¼nther, 1864)\n156    151156            Amphilophus labiatus (GÃ¼nther, 1864)\n617    151617         Cichlasoma trimaculatum (GÃ¼nther, 1867)\n634    151634               Cladophora prolifera (Roth) KÃ¼tz.\n1066   152066               Fallopia convolvulus (L.) Ã.LÃ¶ve\n2106   153106                      Pinus durangensis MartÃ­nez",
      "text/html": "<div>\n<style scoped>\n    .dataframe tbody tr th:only-of-type {\n        vertical-align: middle;\n    }\n\n    .dataframe tbody tr th {\n        vertical-align: top;\n    }\n\n    .dataframe thead th {\n        text-align: right;\n    }\n</style>\n<table border=\"1\" class=\"dataframe\">\n  <thead>\n    <tr style=\"text-align: right;\">\n      <th></th>\n      <th>taxonID</th>\n      <th>scientificName</th>\n    </tr>\n  </thead>\n  <tbody>\n    <tr>\n      <th>0</th>\n      <td>151000</td>\n      <td>Abelia Ã—grandiflora (Rovelli ex AndrÃ©) Rehder</td>\n    </tr>\n    <tr>\n      <th>155</th>\n      <td>151155</td>\n      <td>Amphilophus citrinellus (GÃ¼nther, 1864)</td>\n    </tr>\n    <tr>\n      <th>156</th>\n      <td>151156</td>\n      <td>Amphilophus labiatus (GÃ¼nther, 1864)</td>\n    </tr>\n    <tr>\n      <th>617</th>\n      <td>151617</td>\n      <td>Cichlasoma trimaculatum (GÃ¼nther, 1867)</td>\n    </tr>\n    <tr>\n      <th>634</th>\n      <td>151634</td>\n      <td>Cladophora prolifera (Roth) KÃ¼tz.</td>\n    </tr>\n    <tr>\n      <th>1066</th>\n      <td>152066</td>\n      <td>Fallopia convolvulus (L.) Ã.LÃ¶ve</td>\n    </tr>\n    <tr>\n      <th>2106</th>\n      <td>153106</td>\n      <td>Pinus durangensis MartÃ­nez</td>\n    </tr>\n  </tbody>\n</table>\n</div>"
     },
     "execution_count": 147,
     "metadata": {},
     "output_type": "execute_result"
    }
   ],
   "source": [
    "taxondf.loc[taxondf['taxonID'].isin([151000,151155,151156,151617,151634,152066,153106])][['taxonID','scientificName']]"
   ],
   "metadata": {
    "collapsed": false,
    "pycharm": {
     "name": "#%%\n"
    }
   }
  },
  {
   "cell_type": "markdown",
   "source": [
    "These values should be:\n",
    "\n",
    "151000 Abelia x grandiflora (Rovelli ex André) Rehder\n",
    "151155 Amphilophus citrinellus (Günther, 1864)\n",
    "151156 Amphilophus labiatus (Günther, 1864)\n",
    "153106 Pinus durangensis Martínez\n",
    "\n",
    "There are many more though, just by searching for a single character:"
   ],
   "metadata": {
    "collapsed": false,
    "pycharm": {
     "name": "#%% md\n"
    }
   }
  },
  {
   "cell_type": "code",
   "execution_count": 148,
   "outputs": [
    {
     "data": {
      "text/plain": "          id  taxonID                                     scientificName  \\\n0     151000   151000    Abelia Ã—grandiflora (Rovelli ex AndrÃ©) Rehder   \n104   151104   151104                     Aloe parvibracteata SchÃ¶nland   \n122   151122   151122     Alysicarpus ovalifolius (Schumach.) J.LÃ©onard   \n148   151148   151148               Amniataba percoides (GÃ¼nther, 1864)   \n155   151155   151155           Amphilophus citrinellus (GÃ¼nther, 1864)   \n156   151156   151156              Amphilophus labiatus (GÃ¼nther, 1864)   \n195   151195   151195          Antithamnion cruciatum (C.Agardh) NÃ¤geli   \n213   151213   151213       Archocentrus nigrofasciatus (GÃ¼nther, 1867)   \n249   151249   151249                 Ascidiella aspersa (MÃ¼ller, 1776)   \n265   151265   151265             Astatotilapia burtoni (GÃ¼nther, 1894)   \n450   151450   151450                Campsis Ã—tagliabuana (Vis.) Rehder   \n509   151509   151509                           Castilla elastica SessÃ©   \n617   151617   151617           Cichlasoma trimaculatum (GÃ¼nther, 1867)   \n634   151634   151634                 Cladophora prolifera (Roth) KÃ¼tz.   \n696   151696   151696     Cortaderia jubata (Lemoine ex CarriÃ¨re) Stapf   \n712   151712   151712                   Cottoniella fusiformis BÃ¸rgesen   \n766   151766   151766                              Croton hirtus L'HÃ©r.   \n862   151862   151862                   Dianella ensifolia (L.) RedoutÃ©   \n898   151898   151898                Dipolydora flava (ClaparÃ¨de, 1870)   \n1015  152015   152015                    Erodium cicutarium (L.) L'HÃ©r.   \n1016  152016   152016                    Erodium malacoides (L.) L'HÃ©r.   \n1017  152017   152017                Erodium moschatum (Burm.f.) L'HÃ©r.   \n1066  152066   152066                 Fallopia convolvulus (L.) Ã.LÃ¶ve   \n1161  152161   152161                Geranium yeoi C.Aedo & MuÃ±oz Garm.   \n1260  152260   152260      Hemidactylus frenatus DumÃ©ril & Bibron, 1836   \n1270  152270   152270           Heterotis rotundifolia (Sm.) Jacq.-FÃ©l.   \n1271  152271   152271  Hevea brasiliensis (Willd. ex A.Juss.) MÃ¼ll.Arg.   \n1307  152307   152307              Hydroides sanctaecrucis KrÃ¸yer, 1863   \n1329  152329   152329                      Hypericum kouytchense H.LÃ©v.   \n1330  152330   152330                        Hypericum moserianum AndrÃ©   \n1518  152518   152518  Lepidodactylus lugubris (DumÃ©ril & Bibron, 1836)   \n1584  152584   152584                        Lonicera Ã—americana K.Koch   \n1620  152620   152620                Lygosoma bowringii (GÃ¼nther, 1864)   \n1656  152656   152656                  Manihot carthaginensis MÃ¼ll.Arg.   \n1854  152854   152854          Oncosiphon piluliferum (L.f.) KÃ¤llersjÃ¶   \n1855  152855   152855          Oncosiphon suffruticosum (L.) KÃ¤llersjÃ¶   \n1927  152927   152927                      Oxalis valdiviensis BarnÃ©oud   \n1978  152978   152978           Paspalum fasciculatum Willd. ex FlÃ¼ggÃ©   \n2016  153016   153016                   Pelargonium quercifolium L'HÃ©r.   \n2035  153035   153035                 Petasites pyrenaicus (L.) G.LÃ³pez   \n2037  153037   153037           Petrorhagia dubia (Raf.) G.LÃ³pez & Romo   \n2106  153106   153106                        Pinus durangensis MartÃ­nez   \n2148  153148   153148                    Plectranthus fruticosus L'HÃ©r.   \n2281  153281   153281                         Quercus palustris MÃ¼nchh.   \n2355  153355   153355            Rosmarinus officinalis de NoÃ« ex Lange   \n2472  153472   153472      Schoenoplectus californicus (C.A.Mey.) SojÃ¡k   \n2481  153481   153481    Scleropages formosus (MÃ¼ller & Schlegel, 1840)   \n2538  153538   153538                Setaria palmifolia (J.KÃ¶nig) Stapf   \n2539  153539   153539              Setaria parviflora (Poir.) KerguÃ©len   \n2614  153614   153614        Solieria filiformis (KÃ¼tz.) P.W.Gabrielson   \n2681  153681   153681                   Stuckenia pectinata (L.) BÃ¶rner   \n2924  153924   153924  Vigna adenantha (E.Mey.) MarÃ©chal, Mascherpa ...   \n2967  153967   153967             Xiphophorus maculatus (GÃ¼nther, 1866)   \n\n                              acceptedNameUsage   kingdom        phylum  \\\n0                                           NaN   Plantae  Tracheophyta   \n104                        Aloe monteiroi Baker   Plantae  Tracheophyta   \n122                                         NaN   Plantae  Tracheophyta   \n148                                         NaN  Animalia      Chordata   \n155                                         NaN  Animalia      Chordata   \n156                                         NaN  Animalia      Chordata   \n195                                         NaN   Plantae    Rhodophyta   \n213   Amatitlania nigrofasciata (Günther, 1867)  Animalia      Chordata   \n249                                         NaN  Animalia      Chordata   \n265                                         NaN  Animalia      Chordata   \n450                                         NaN   Plantae  Tracheophyta   \n509                                         NaN   Plantae  Tracheophyta   \n617                                         NaN  Animalia      Chordata   \n634                                         NaN   Plantae   Chlorophyta   \n696                                         NaN   Plantae  Tracheophyta   \n712                                         NaN   Plantae    Rhodophyta   \n766                                         NaN   Plantae  Tracheophyta   \n862                                         NaN   Plantae  Tracheophyta   \n898                                         NaN  Animalia      Annelida   \n1015                                        NaN   Plantae  Tracheophyta   \n1016                                        NaN   Plantae  Tracheophyta   \n1017                                        NaN   Plantae  Tracheophyta   \n1066                                        NaN   Plantae  Tracheophyta   \n1161                                        NaN   Plantae  Tracheophyta   \n1260                                        NaN  Animalia      Chordata   \n1270                                        NaN   Plantae  Tracheophyta   \n1271                                        NaN   Plantae  Tracheophyta   \n1307                                        NaN  Animalia      Annelida   \n1329                                        NaN   Plantae  Tracheophyta   \n1330                  Hypericum moseranum Andre   Plantae  Tracheophyta   \n1518                                        NaN  Animalia      Chordata   \n1584                                        NaN   Plantae  Tracheophyta   \n1620                                        NaN  Animalia      Chordata   \n1656                                        NaN   Plantae  Tracheophyta   \n1854                                        NaN   Plantae  Tracheophyta   \n1855                        Hippia pilosa Druce   Plantae  Tracheophyta   \n1927                                        NaN   Plantae  Tracheophyta   \n1978                                        NaN   Plantae  Tracheophyta   \n2016                                        NaN   Plantae  Tracheophyta   \n2035                                        NaN   Plantae  Tracheophyta   \n2037                                        NaN   Plantae  Tracheophyta   \n2106                                        NaN   Plantae  Tracheophyta   \n2148                                        NaN   Plantae  Tracheophyta   \n2281                                        NaN   Plantae  Tracheophyta   \n2355                                        NaN   Plantae  Tracheophyta   \n2472                                        NaN   Plantae  Tracheophyta   \n2481                                        NaN  Animalia      Chordata   \n2538                                        NaN   Plantae  Tracheophyta   \n2539                                        NaN   Plantae  Tracheophyta   \n2614                                        NaN   Plantae    Rhodophyta   \n2681                                        NaN   Plantae  Tracheophyta   \n2924                                        NaN   Plantae  Tracheophyta   \n2967                                        NaN  Animalia      Chordata   \n\n                class               order            family taxonRank  \\\n0       Magnoliopsida          Dipsacales    Caprifoliaceae   SPECIES   \n104        Liliopsida         Asparagales     Asphodelaceae   SPECIES   \n122     Magnoliopsida             Fabales          Fabaceae   SPECIES   \n148    Actinopterygii         Perciformes      Terapontidae   SPECIES   \n155    Actinopterygii         Perciformes         Cichlidae   SPECIES   \n156    Actinopterygii         Perciformes         Cichlidae   SPECIES   \n195   Florideophyceae          Ceramiales       Ceramiaceae   SPECIES   \n213    Actinopterygii         Perciformes         Cichlidae   SPECIES   \n249        Ascidiacea      Phlebobranchia        Ascidiidae   SPECIES   \n265    Actinopterygii         Perciformes         Cichlidae   SPECIES   \n450     Magnoliopsida            Lamiales      Bignoniaceae   SPECIES   \n509     Magnoliopsida             Rosales          Moraceae   SPECIES   \n617    Actinopterygii         Perciformes         Cichlidae   SPECIES   \n634       Ulvophyceae       Cladophorales    Cladophoraceae   SPECIES   \n696        Liliopsida              Poales           Poaceae   SPECIES   \n712   Florideophyceae          Ceramiales    Sarcomeniaceae   SPECIES   \n766     Magnoliopsida        Malpighiales     Euphorbiaceae   SPECIES   \n862        Liliopsida         Asparagales     Asphodelaceae   SPECIES   \n898        Polychaeta            Spionida         Spionidae   SPECIES   \n1015    Magnoliopsida          Geraniales       Geraniaceae   SPECIES   \n1016    Magnoliopsida          Geraniales       Geraniaceae   SPECIES   \n1017    Magnoliopsida          Geraniales       Geraniaceae   SPECIES   \n1066    Magnoliopsida      Caryophyllales      Polygonaceae   SPECIES   \n1161    Magnoliopsida          Geraniales       Geraniaceae   SPECIES   \n1260         Reptilia            Squamata        Gekkonidae   SPECIES   \n1270    Magnoliopsida            Myrtales   Melastomataceae   SPECIES   \n1271    Magnoliopsida        Malpighiales     Euphorbiaceae   SPECIES   \n1307       Polychaeta           Sabellida        Serpulidae   SPECIES   \n1329    Magnoliopsida        Malpighiales      Hypericaceae   SPECIES   \n1330    Magnoliopsida        Malpighiales      Hypericaceae   SPECIES   \n1518         Reptilia            Squamata        Gekkonidae   SPECIES   \n1584    Magnoliopsida          Dipsacales    Caprifoliaceae   SPECIES   \n1620         Reptilia            Squamata         Scincidae   SPECIES   \n1656    Magnoliopsida        Malpighiales     Euphorbiaceae   SPECIES   \n1854    Magnoliopsida           Asterales        Asteraceae   SPECIES   \n1855    Magnoliopsida           Asterales        Asteraceae   SPECIES   \n1927    Magnoliopsida          Oxalidales       Oxalidaceae   SPECIES   \n1978       Liliopsida              Poales           Poaceae   SPECIES   \n2016    Magnoliopsida          Geraniales       Geraniaceae   SPECIES   \n2035    Magnoliopsida           Asterales        Asteraceae   SPECIES   \n2037    Magnoliopsida      Caryophyllales   Caryophyllaceae   SPECIES   \n2106        Pinopsida             Pinales          Pinaceae   SPECIES   \n2148    Magnoliopsida            Lamiales         Lamiaceae   SPECIES   \n2281    Magnoliopsida             Fagales          Fagaceae   SPECIES   \n2355    Magnoliopsida            Lamiales         Lamiaceae   SPECIES   \n2472       Liliopsida              Poales        Cyperaceae   SPECIES   \n2481   Actinopterygii   Osteoglossiformes    Osteoglossidae   SPECIES   \n2538       Liliopsida              Poales           Poaceae   SPECIES   \n2539       Liliopsida              Poales           Poaceae   SPECIES   \n2614  Florideophyceae        Gigartinales      Solieriaceae   SPECIES   \n2681       Liliopsida         Alismatales  Potamogetonaceae   SPECIES   \n2924    Magnoliopsida             Fabales          Fabaceae   SPECIES   \n2967   Actinopterygii  Cyprinodontiformes       Poeciliidae   SPECIES   \n\n     taxonomicStatus  \n0           ACCEPTED  \n104          SYNONYM  \n122         ACCEPTED  \n148         ACCEPTED  \n155         ACCEPTED  \n156         ACCEPTED  \n195         ACCEPTED  \n213          SYNONYM  \n249         ACCEPTED  \n265         ACCEPTED  \n450         ACCEPTED  \n509         ACCEPTED  \n617         ACCEPTED  \n634         ACCEPTED  \n696         ACCEPTED  \n712         ACCEPTED  \n766         ACCEPTED  \n862         ACCEPTED  \n898         ACCEPTED  \n1015        ACCEPTED  \n1016        ACCEPTED  \n1017        ACCEPTED  \n1066        ACCEPTED  \n1161        ACCEPTED  \n1260        ACCEPTED  \n1270        ACCEPTED  \n1271        ACCEPTED  \n1307        ACCEPTED  \n1329        ACCEPTED  \n1330         SYNONYM  \n1518        ACCEPTED  \n1584        ACCEPTED  \n1620        ACCEPTED  \n1656        ACCEPTED  \n1854        ACCEPTED  \n1855         SYNONYM  \n1927        ACCEPTED  \n1978        ACCEPTED  \n2016        ACCEPTED  \n2035        ACCEPTED  \n2037        ACCEPTED  \n2106        ACCEPTED  \n2148        ACCEPTED  \n2281        ACCEPTED  \n2355        ACCEPTED  \n2472        ACCEPTED  \n2481        ACCEPTED  \n2538        ACCEPTED  \n2539        ACCEPTED  \n2614        ACCEPTED  \n2681        ACCEPTED  \n2924        ACCEPTED  \n2967        ACCEPTED  ",
      "text/html": "<div>\n<style scoped>\n    .dataframe tbody tr th:only-of-type {\n        vertical-align: middle;\n    }\n\n    .dataframe tbody tr th {\n        vertical-align: top;\n    }\n\n    .dataframe thead th {\n        text-align: right;\n    }\n</style>\n<table border=\"1\" class=\"dataframe\">\n  <thead>\n    <tr style=\"text-align: right;\">\n      <th></th>\n      <th>id</th>\n      <th>taxonID</th>\n      <th>scientificName</th>\n      <th>acceptedNameUsage</th>\n      <th>kingdom</th>\n      <th>phylum</th>\n      <th>class</th>\n      <th>order</th>\n      <th>family</th>\n      <th>taxonRank</th>\n      <th>taxonomicStatus</th>\n    </tr>\n  </thead>\n  <tbody>\n    <tr>\n      <th>0</th>\n      <td>151000</td>\n      <td>151000</td>\n      <td>Abelia Ã—grandiflora (Rovelli ex AndrÃ©) Rehder</td>\n      <td>NaN</td>\n      <td>Plantae</td>\n      <td>Tracheophyta</td>\n      <td>Magnoliopsida</td>\n      <td>Dipsacales</td>\n      <td>Caprifoliaceae</td>\n      <td>SPECIES</td>\n      <td>ACCEPTED</td>\n    </tr>\n    <tr>\n      <th>104</th>\n      <td>151104</td>\n      <td>151104</td>\n      <td>Aloe parvibracteata SchÃ¶nland</td>\n      <td>Aloe monteiroi Baker</td>\n      <td>Plantae</td>\n      <td>Tracheophyta</td>\n      <td>Liliopsida</td>\n      <td>Asparagales</td>\n      <td>Asphodelaceae</td>\n      <td>SPECIES</td>\n      <td>SYNONYM</td>\n    </tr>\n    <tr>\n      <th>122</th>\n      <td>151122</td>\n      <td>151122</td>\n      <td>Alysicarpus ovalifolius (Schumach.) J.LÃ©onard</td>\n      <td>NaN</td>\n      <td>Plantae</td>\n      <td>Tracheophyta</td>\n      <td>Magnoliopsida</td>\n      <td>Fabales</td>\n      <td>Fabaceae</td>\n      <td>SPECIES</td>\n      <td>ACCEPTED</td>\n    </tr>\n    <tr>\n      <th>148</th>\n      <td>151148</td>\n      <td>151148</td>\n      <td>Amniataba percoides (GÃ¼nther, 1864)</td>\n      <td>NaN</td>\n      <td>Animalia</td>\n      <td>Chordata</td>\n      <td>Actinopterygii</td>\n      <td>Perciformes</td>\n      <td>Terapontidae</td>\n      <td>SPECIES</td>\n      <td>ACCEPTED</td>\n    </tr>\n    <tr>\n      <th>155</th>\n      <td>151155</td>\n      <td>151155</td>\n      <td>Amphilophus citrinellus (GÃ¼nther, 1864)</td>\n      <td>NaN</td>\n      <td>Animalia</td>\n      <td>Chordata</td>\n      <td>Actinopterygii</td>\n      <td>Perciformes</td>\n      <td>Cichlidae</td>\n      <td>SPECIES</td>\n      <td>ACCEPTED</td>\n    </tr>\n    <tr>\n      <th>156</th>\n      <td>151156</td>\n      <td>151156</td>\n      <td>Amphilophus labiatus (GÃ¼nther, 1864)</td>\n      <td>NaN</td>\n      <td>Animalia</td>\n      <td>Chordata</td>\n      <td>Actinopterygii</td>\n      <td>Perciformes</td>\n      <td>Cichlidae</td>\n      <td>SPECIES</td>\n      <td>ACCEPTED</td>\n    </tr>\n    <tr>\n      <th>195</th>\n      <td>151195</td>\n      <td>151195</td>\n      <td>Antithamnion cruciatum (C.Agardh) NÃ¤geli</td>\n      <td>NaN</td>\n      <td>Plantae</td>\n      <td>Rhodophyta</td>\n      <td>Florideophyceae</td>\n      <td>Ceramiales</td>\n      <td>Ceramiaceae</td>\n      <td>SPECIES</td>\n      <td>ACCEPTED</td>\n    </tr>\n    <tr>\n      <th>213</th>\n      <td>151213</td>\n      <td>151213</td>\n      <td>Archocentrus nigrofasciatus (GÃ¼nther, 1867)</td>\n      <td>Amatitlania nigrofasciata (Günther, 1867)</td>\n      <td>Animalia</td>\n      <td>Chordata</td>\n      <td>Actinopterygii</td>\n      <td>Perciformes</td>\n      <td>Cichlidae</td>\n      <td>SPECIES</td>\n      <td>SYNONYM</td>\n    </tr>\n    <tr>\n      <th>249</th>\n      <td>151249</td>\n      <td>151249</td>\n      <td>Ascidiella aspersa (MÃ¼ller, 1776)</td>\n      <td>NaN</td>\n      <td>Animalia</td>\n      <td>Chordata</td>\n      <td>Ascidiacea</td>\n      <td>Phlebobranchia</td>\n      <td>Ascidiidae</td>\n      <td>SPECIES</td>\n      <td>ACCEPTED</td>\n    </tr>\n    <tr>\n      <th>265</th>\n      <td>151265</td>\n      <td>151265</td>\n      <td>Astatotilapia burtoni (GÃ¼nther, 1894)</td>\n      <td>NaN</td>\n      <td>Animalia</td>\n      <td>Chordata</td>\n      <td>Actinopterygii</td>\n      <td>Perciformes</td>\n      <td>Cichlidae</td>\n      <td>SPECIES</td>\n      <td>ACCEPTED</td>\n    </tr>\n    <tr>\n      <th>450</th>\n      <td>151450</td>\n      <td>151450</td>\n      <td>Campsis Ã—tagliabuana (Vis.) Rehder</td>\n      <td>NaN</td>\n      <td>Plantae</td>\n      <td>Tracheophyta</td>\n      <td>Magnoliopsida</td>\n      <td>Lamiales</td>\n      <td>Bignoniaceae</td>\n      <td>SPECIES</td>\n      <td>ACCEPTED</td>\n    </tr>\n    <tr>\n      <th>509</th>\n      <td>151509</td>\n      <td>151509</td>\n      <td>Castilla elastica SessÃ©</td>\n      <td>NaN</td>\n      <td>Plantae</td>\n      <td>Tracheophyta</td>\n      <td>Magnoliopsida</td>\n      <td>Rosales</td>\n      <td>Moraceae</td>\n      <td>SPECIES</td>\n      <td>ACCEPTED</td>\n    </tr>\n    <tr>\n      <th>617</th>\n      <td>151617</td>\n      <td>151617</td>\n      <td>Cichlasoma trimaculatum (GÃ¼nther, 1867)</td>\n      <td>NaN</td>\n      <td>Animalia</td>\n      <td>Chordata</td>\n      <td>Actinopterygii</td>\n      <td>Perciformes</td>\n      <td>Cichlidae</td>\n      <td>SPECIES</td>\n      <td>ACCEPTED</td>\n    </tr>\n    <tr>\n      <th>634</th>\n      <td>151634</td>\n      <td>151634</td>\n      <td>Cladophora prolifera (Roth) KÃ¼tz.</td>\n      <td>NaN</td>\n      <td>Plantae</td>\n      <td>Chlorophyta</td>\n      <td>Ulvophyceae</td>\n      <td>Cladophorales</td>\n      <td>Cladophoraceae</td>\n      <td>SPECIES</td>\n      <td>ACCEPTED</td>\n    </tr>\n    <tr>\n      <th>696</th>\n      <td>151696</td>\n      <td>151696</td>\n      <td>Cortaderia jubata (Lemoine ex CarriÃ¨re) Stapf</td>\n      <td>NaN</td>\n      <td>Plantae</td>\n      <td>Tracheophyta</td>\n      <td>Liliopsida</td>\n      <td>Poales</td>\n      <td>Poaceae</td>\n      <td>SPECIES</td>\n      <td>ACCEPTED</td>\n    </tr>\n    <tr>\n      <th>712</th>\n      <td>151712</td>\n      <td>151712</td>\n      <td>Cottoniella fusiformis BÃ¸rgesen</td>\n      <td>NaN</td>\n      <td>Plantae</td>\n      <td>Rhodophyta</td>\n      <td>Florideophyceae</td>\n      <td>Ceramiales</td>\n      <td>Sarcomeniaceae</td>\n      <td>SPECIES</td>\n      <td>ACCEPTED</td>\n    </tr>\n    <tr>\n      <th>766</th>\n      <td>151766</td>\n      <td>151766</td>\n      <td>Croton hirtus L'HÃ©r.</td>\n      <td>NaN</td>\n      <td>Plantae</td>\n      <td>Tracheophyta</td>\n      <td>Magnoliopsida</td>\n      <td>Malpighiales</td>\n      <td>Euphorbiaceae</td>\n      <td>SPECIES</td>\n      <td>ACCEPTED</td>\n    </tr>\n    <tr>\n      <th>862</th>\n      <td>151862</td>\n      <td>151862</td>\n      <td>Dianella ensifolia (L.) RedoutÃ©</td>\n      <td>NaN</td>\n      <td>Plantae</td>\n      <td>Tracheophyta</td>\n      <td>Liliopsida</td>\n      <td>Asparagales</td>\n      <td>Asphodelaceae</td>\n      <td>SPECIES</td>\n      <td>ACCEPTED</td>\n    </tr>\n    <tr>\n      <th>898</th>\n      <td>151898</td>\n      <td>151898</td>\n      <td>Dipolydora flava (ClaparÃ¨de, 1870)</td>\n      <td>NaN</td>\n      <td>Animalia</td>\n      <td>Annelida</td>\n      <td>Polychaeta</td>\n      <td>Spionida</td>\n      <td>Spionidae</td>\n      <td>SPECIES</td>\n      <td>ACCEPTED</td>\n    </tr>\n    <tr>\n      <th>1015</th>\n      <td>152015</td>\n      <td>152015</td>\n      <td>Erodium cicutarium (L.) L'HÃ©r.</td>\n      <td>NaN</td>\n      <td>Plantae</td>\n      <td>Tracheophyta</td>\n      <td>Magnoliopsida</td>\n      <td>Geraniales</td>\n      <td>Geraniaceae</td>\n      <td>SPECIES</td>\n      <td>ACCEPTED</td>\n    </tr>\n    <tr>\n      <th>1016</th>\n      <td>152016</td>\n      <td>152016</td>\n      <td>Erodium malacoides (L.) L'HÃ©r.</td>\n      <td>NaN</td>\n      <td>Plantae</td>\n      <td>Tracheophyta</td>\n      <td>Magnoliopsida</td>\n      <td>Geraniales</td>\n      <td>Geraniaceae</td>\n      <td>SPECIES</td>\n      <td>ACCEPTED</td>\n    </tr>\n    <tr>\n      <th>1017</th>\n      <td>152017</td>\n      <td>152017</td>\n      <td>Erodium moschatum (Burm.f.) L'HÃ©r.</td>\n      <td>NaN</td>\n      <td>Plantae</td>\n      <td>Tracheophyta</td>\n      <td>Magnoliopsida</td>\n      <td>Geraniales</td>\n      <td>Geraniaceae</td>\n      <td>SPECIES</td>\n      <td>ACCEPTED</td>\n    </tr>\n    <tr>\n      <th>1066</th>\n      <td>152066</td>\n      <td>152066</td>\n      <td>Fallopia convolvulus (L.) Ã.LÃ¶ve</td>\n      <td>NaN</td>\n      <td>Plantae</td>\n      <td>Tracheophyta</td>\n      <td>Magnoliopsida</td>\n      <td>Caryophyllales</td>\n      <td>Polygonaceae</td>\n      <td>SPECIES</td>\n      <td>ACCEPTED</td>\n    </tr>\n    <tr>\n      <th>1161</th>\n      <td>152161</td>\n      <td>152161</td>\n      <td>Geranium yeoi C.Aedo &amp; MuÃ±oz Garm.</td>\n      <td>NaN</td>\n      <td>Plantae</td>\n      <td>Tracheophyta</td>\n      <td>Magnoliopsida</td>\n      <td>Geraniales</td>\n      <td>Geraniaceae</td>\n      <td>SPECIES</td>\n      <td>ACCEPTED</td>\n    </tr>\n    <tr>\n      <th>1260</th>\n      <td>152260</td>\n      <td>152260</td>\n      <td>Hemidactylus frenatus DumÃ©ril &amp; Bibron, 1836</td>\n      <td>NaN</td>\n      <td>Animalia</td>\n      <td>Chordata</td>\n      <td>Reptilia</td>\n      <td>Squamata</td>\n      <td>Gekkonidae</td>\n      <td>SPECIES</td>\n      <td>ACCEPTED</td>\n    </tr>\n    <tr>\n      <th>1270</th>\n      <td>152270</td>\n      <td>152270</td>\n      <td>Heterotis rotundifolia (Sm.) Jacq.-FÃ©l.</td>\n      <td>NaN</td>\n      <td>Plantae</td>\n      <td>Tracheophyta</td>\n      <td>Magnoliopsida</td>\n      <td>Myrtales</td>\n      <td>Melastomataceae</td>\n      <td>SPECIES</td>\n      <td>ACCEPTED</td>\n    </tr>\n    <tr>\n      <th>1271</th>\n      <td>152271</td>\n      <td>152271</td>\n      <td>Hevea brasiliensis (Willd. ex A.Juss.) MÃ¼ll.Arg.</td>\n      <td>NaN</td>\n      <td>Plantae</td>\n      <td>Tracheophyta</td>\n      <td>Magnoliopsida</td>\n      <td>Malpighiales</td>\n      <td>Euphorbiaceae</td>\n      <td>SPECIES</td>\n      <td>ACCEPTED</td>\n    </tr>\n    <tr>\n      <th>1307</th>\n      <td>152307</td>\n      <td>152307</td>\n      <td>Hydroides sanctaecrucis KrÃ¸yer, 1863</td>\n      <td>NaN</td>\n      <td>Animalia</td>\n      <td>Annelida</td>\n      <td>Polychaeta</td>\n      <td>Sabellida</td>\n      <td>Serpulidae</td>\n      <td>SPECIES</td>\n      <td>ACCEPTED</td>\n    </tr>\n    <tr>\n      <th>1329</th>\n      <td>152329</td>\n      <td>152329</td>\n      <td>Hypericum kouytchense H.LÃ©v.</td>\n      <td>NaN</td>\n      <td>Plantae</td>\n      <td>Tracheophyta</td>\n      <td>Magnoliopsida</td>\n      <td>Malpighiales</td>\n      <td>Hypericaceae</td>\n      <td>SPECIES</td>\n      <td>ACCEPTED</td>\n    </tr>\n    <tr>\n      <th>1330</th>\n      <td>152330</td>\n      <td>152330</td>\n      <td>Hypericum moserianum AndrÃ©</td>\n      <td>Hypericum moseranum Andre</td>\n      <td>Plantae</td>\n      <td>Tracheophyta</td>\n      <td>Magnoliopsida</td>\n      <td>Malpighiales</td>\n      <td>Hypericaceae</td>\n      <td>SPECIES</td>\n      <td>SYNONYM</td>\n    </tr>\n    <tr>\n      <th>1518</th>\n      <td>152518</td>\n      <td>152518</td>\n      <td>Lepidodactylus lugubris (DumÃ©ril &amp; Bibron, 1836)</td>\n      <td>NaN</td>\n      <td>Animalia</td>\n      <td>Chordata</td>\n      <td>Reptilia</td>\n      <td>Squamata</td>\n      <td>Gekkonidae</td>\n      <td>SPECIES</td>\n      <td>ACCEPTED</td>\n    </tr>\n    <tr>\n      <th>1584</th>\n      <td>152584</td>\n      <td>152584</td>\n      <td>Lonicera Ã—americana K.Koch</td>\n      <td>NaN</td>\n      <td>Plantae</td>\n      <td>Tracheophyta</td>\n      <td>Magnoliopsida</td>\n      <td>Dipsacales</td>\n      <td>Caprifoliaceae</td>\n      <td>SPECIES</td>\n      <td>ACCEPTED</td>\n    </tr>\n    <tr>\n      <th>1620</th>\n      <td>152620</td>\n      <td>152620</td>\n      <td>Lygosoma bowringii (GÃ¼nther, 1864)</td>\n      <td>NaN</td>\n      <td>Animalia</td>\n      <td>Chordata</td>\n      <td>Reptilia</td>\n      <td>Squamata</td>\n      <td>Scincidae</td>\n      <td>SPECIES</td>\n      <td>ACCEPTED</td>\n    </tr>\n    <tr>\n      <th>1656</th>\n      <td>152656</td>\n      <td>152656</td>\n      <td>Manihot carthaginensis MÃ¼ll.Arg.</td>\n      <td>NaN</td>\n      <td>Plantae</td>\n      <td>Tracheophyta</td>\n      <td>Magnoliopsida</td>\n      <td>Malpighiales</td>\n      <td>Euphorbiaceae</td>\n      <td>SPECIES</td>\n      <td>ACCEPTED</td>\n    </tr>\n    <tr>\n      <th>1854</th>\n      <td>152854</td>\n      <td>152854</td>\n      <td>Oncosiphon piluliferum (L.f.) KÃ¤llersjÃ¶</td>\n      <td>NaN</td>\n      <td>Plantae</td>\n      <td>Tracheophyta</td>\n      <td>Magnoliopsida</td>\n      <td>Asterales</td>\n      <td>Asteraceae</td>\n      <td>SPECIES</td>\n      <td>ACCEPTED</td>\n    </tr>\n    <tr>\n      <th>1855</th>\n      <td>152855</td>\n      <td>152855</td>\n      <td>Oncosiphon suffruticosum (L.) KÃ¤llersjÃ¶</td>\n      <td>Hippia pilosa Druce</td>\n      <td>Plantae</td>\n      <td>Tracheophyta</td>\n      <td>Magnoliopsida</td>\n      <td>Asterales</td>\n      <td>Asteraceae</td>\n      <td>SPECIES</td>\n      <td>SYNONYM</td>\n    </tr>\n    <tr>\n      <th>1927</th>\n      <td>152927</td>\n      <td>152927</td>\n      <td>Oxalis valdiviensis BarnÃ©oud</td>\n      <td>NaN</td>\n      <td>Plantae</td>\n      <td>Tracheophyta</td>\n      <td>Magnoliopsida</td>\n      <td>Oxalidales</td>\n      <td>Oxalidaceae</td>\n      <td>SPECIES</td>\n      <td>ACCEPTED</td>\n    </tr>\n    <tr>\n      <th>1978</th>\n      <td>152978</td>\n      <td>152978</td>\n      <td>Paspalum fasciculatum Willd. ex FlÃ¼ggÃ©</td>\n      <td>NaN</td>\n      <td>Plantae</td>\n      <td>Tracheophyta</td>\n      <td>Liliopsida</td>\n      <td>Poales</td>\n      <td>Poaceae</td>\n      <td>SPECIES</td>\n      <td>ACCEPTED</td>\n    </tr>\n    <tr>\n      <th>2016</th>\n      <td>153016</td>\n      <td>153016</td>\n      <td>Pelargonium quercifolium L'HÃ©r.</td>\n      <td>NaN</td>\n      <td>Plantae</td>\n      <td>Tracheophyta</td>\n      <td>Magnoliopsida</td>\n      <td>Geraniales</td>\n      <td>Geraniaceae</td>\n      <td>SPECIES</td>\n      <td>ACCEPTED</td>\n    </tr>\n    <tr>\n      <th>2035</th>\n      <td>153035</td>\n      <td>153035</td>\n      <td>Petasites pyrenaicus (L.) G.LÃ³pez</td>\n      <td>NaN</td>\n      <td>Plantae</td>\n      <td>Tracheophyta</td>\n      <td>Magnoliopsida</td>\n      <td>Asterales</td>\n      <td>Asteraceae</td>\n      <td>SPECIES</td>\n      <td>ACCEPTED</td>\n    </tr>\n    <tr>\n      <th>2037</th>\n      <td>153037</td>\n      <td>153037</td>\n      <td>Petrorhagia dubia (Raf.) G.LÃ³pez &amp; Romo</td>\n      <td>NaN</td>\n      <td>Plantae</td>\n      <td>Tracheophyta</td>\n      <td>Magnoliopsida</td>\n      <td>Caryophyllales</td>\n      <td>Caryophyllaceae</td>\n      <td>SPECIES</td>\n      <td>ACCEPTED</td>\n    </tr>\n    <tr>\n      <th>2106</th>\n      <td>153106</td>\n      <td>153106</td>\n      <td>Pinus durangensis MartÃ­nez</td>\n      <td>NaN</td>\n      <td>Plantae</td>\n      <td>Tracheophyta</td>\n      <td>Pinopsida</td>\n      <td>Pinales</td>\n      <td>Pinaceae</td>\n      <td>SPECIES</td>\n      <td>ACCEPTED</td>\n    </tr>\n    <tr>\n      <th>2148</th>\n      <td>153148</td>\n      <td>153148</td>\n      <td>Plectranthus fruticosus L'HÃ©r.</td>\n      <td>NaN</td>\n      <td>Plantae</td>\n      <td>Tracheophyta</td>\n      <td>Magnoliopsida</td>\n      <td>Lamiales</td>\n      <td>Lamiaceae</td>\n      <td>SPECIES</td>\n      <td>ACCEPTED</td>\n    </tr>\n    <tr>\n      <th>2281</th>\n      <td>153281</td>\n      <td>153281</td>\n      <td>Quercus palustris MÃ¼nchh.</td>\n      <td>NaN</td>\n      <td>Plantae</td>\n      <td>Tracheophyta</td>\n      <td>Magnoliopsida</td>\n      <td>Fagales</td>\n      <td>Fagaceae</td>\n      <td>SPECIES</td>\n      <td>ACCEPTED</td>\n    </tr>\n    <tr>\n      <th>2355</th>\n      <td>153355</td>\n      <td>153355</td>\n      <td>Rosmarinus officinalis de NoÃ« ex Lange</td>\n      <td>NaN</td>\n      <td>Plantae</td>\n      <td>Tracheophyta</td>\n      <td>Magnoliopsida</td>\n      <td>Lamiales</td>\n      <td>Lamiaceae</td>\n      <td>SPECIES</td>\n      <td>ACCEPTED</td>\n    </tr>\n    <tr>\n      <th>2472</th>\n      <td>153472</td>\n      <td>153472</td>\n      <td>Schoenoplectus californicus (C.A.Mey.) SojÃ¡k</td>\n      <td>NaN</td>\n      <td>Plantae</td>\n      <td>Tracheophyta</td>\n      <td>Liliopsida</td>\n      <td>Poales</td>\n      <td>Cyperaceae</td>\n      <td>SPECIES</td>\n      <td>ACCEPTED</td>\n    </tr>\n    <tr>\n      <th>2481</th>\n      <td>153481</td>\n      <td>153481</td>\n      <td>Scleropages formosus (MÃ¼ller &amp; Schlegel, 1840)</td>\n      <td>NaN</td>\n      <td>Animalia</td>\n      <td>Chordata</td>\n      <td>Actinopterygii</td>\n      <td>Osteoglossiformes</td>\n      <td>Osteoglossidae</td>\n      <td>SPECIES</td>\n      <td>ACCEPTED</td>\n    </tr>\n    <tr>\n      <th>2538</th>\n      <td>153538</td>\n      <td>153538</td>\n      <td>Setaria palmifolia (J.KÃ¶nig) Stapf</td>\n      <td>NaN</td>\n      <td>Plantae</td>\n      <td>Tracheophyta</td>\n      <td>Liliopsida</td>\n      <td>Poales</td>\n      <td>Poaceae</td>\n      <td>SPECIES</td>\n      <td>ACCEPTED</td>\n    </tr>\n    <tr>\n      <th>2539</th>\n      <td>153539</td>\n      <td>153539</td>\n      <td>Setaria parviflora (Poir.) KerguÃ©len</td>\n      <td>NaN</td>\n      <td>Plantae</td>\n      <td>Tracheophyta</td>\n      <td>Liliopsida</td>\n      <td>Poales</td>\n      <td>Poaceae</td>\n      <td>SPECIES</td>\n      <td>ACCEPTED</td>\n    </tr>\n    <tr>\n      <th>2614</th>\n      <td>153614</td>\n      <td>153614</td>\n      <td>Solieria filiformis (KÃ¼tz.) P.W.Gabrielson</td>\n      <td>NaN</td>\n      <td>Plantae</td>\n      <td>Rhodophyta</td>\n      <td>Florideophyceae</td>\n      <td>Gigartinales</td>\n      <td>Solieriaceae</td>\n      <td>SPECIES</td>\n      <td>ACCEPTED</td>\n    </tr>\n    <tr>\n      <th>2681</th>\n      <td>153681</td>\n      <td>153681</td>\n      <td>Stuckenia pectinata (L.) BÃ¶rner</td>\n      <td>NaN</td>\n      <td>Plantae</td>\n      <td>Tracheophyta</td>\n      <td>Liliopsida</td>\n      <td>Alismatales</td>\n      <td>Potamogetonaceae</td>\n      <td>SPECIES</td>\n      <td>ACCEPTED</td>\n    </tr>\n    <tr>\n      <th>2924</th>\n      <td>153924</td>\n      <td>153924</td>\n      <td>Vigna adenantha (E.Mey.) MarÃ©chal, Mascherpa ...</td>\n      <td>NaN</td>\n      <td>Plantae</td>\n      <td>Tracheophyta</td>\n      <td>Magnoliopsida</td>\n      <td>Fabales</td>\n      <td>Fabaceae</td>\n      <td>SPECIES</td>\n      <td>ACCEPTED</td>\n    </tr>\n    <tr>\n      <th>2967</th>\n      <td>153967</td>\n      <td>153967</td>\n      <td>Xiphophorus maculatus (GÃ¼nther, 1866)</td>\n      <td>NaN</td>\n      <td>Animalia</td>\n      <td>Chordata</td>\n      <td>Actinopterygii</td>\n      <td>Cyprinodontiformes</td>\n      <td>Poeciliidae</td>\n      <td>SPECIES</td>\n      <td>ACCEPTED</td>\n    </tr>\n  </tbody>\n</table>\n</div>"
     },
     "execution_count": 148,
     "metadata": {},
     "output_type": "execute_result"
    }
   ],
   "source": [
    "taxondf.loc[taxondf['scientificName'].str.contains('Ã')]"
   ],
   "metadata": {
    "collapsed": false,
    "pycharm": {
     "name": "#%%\n"
    }
   }
  },
  {
   "cell_type": "markdown",
   "source": [
    "ftfy (fixed that for you) library works magic on these"
   ],
   "metadata": {
    "collapsed": false
   }
  },
  {
   "cell_type": "code",
   "execution_count": 149,
   "outputs": [
    {
     "data": {
      "text/plain": "'Abelia ×grandiflora (Rovelli ex André) Rehder'"
     },
     "execution_count": 149,
     "metadata": {},
     "output_type": "execute_result"
    }
   ],
   "source": [
    "import ftfy\n",
    "from ftfy import fix_encoding\n",
    "\n",
    "sample = \"Abelia Ã—grandiflora (Rovelli ex AndrÃ©) Rehder\"\n",
    "fix_encoding(sample)"
   ],
   "metadata": {
    "collapsed": false,
    "pycharm": {
     "name": "#%%\n"
    }
   }
  },
  {
   "cell_type": "markdown",
   "source": [
    "Apply to the `scientificName` and `acceptedNameUsage` fields"
   ],
   "metadata": {
    "collapsed": false,
    "pycharm": {
     "name": "#%% md\n"
    }
   }
  },
  {
   "cell_type": "code",
   "execution_count": 150,
   "outputs": [
    {
     "data": {
      "text/plain": "      taxonID                                 scientificName  \\\n0      151000  Abelia ×grandiflora (Rovelli ex André) Rehder   \n1      151001                Abelmoschus manihot (L.) Medik.   \n2      151002                    Abutilon grandiflorum G.Don   \n3      151003       Abutilon pictum (Gillies ex Hook.) Walp.   \n4      151004                    Abutilon theophrasti Medik.   \n...       ...                                            ...   \n2979   153979                          Ziziphus jujuba Mill.   \n2980   153980                       Ziziphus mauritiana Lam.   \n2981   153981                      Ziziphus mucronata Willd.   \n2982   153982              Ziziphus spina-christi (L.) Desf.   \n2983   153983  Zoobotryon verticillatum (Delle Chiaje, 1822)   \n\n                                      acceptedNameUsage  \n0                                                   NaN  \n1                                                   NaN  \n2                                                   NaN  \n3     Callianthe picta (Gillies ex Hook. & Arn.) Don...  \n4                                                   NaN  \n...                                                 ...  \n2979                                                NaN  \n2980                                                NaN  \n2981                                                NaN  \n2982                                                NaN  \n2983          Amathia verticillata (delle Chiaje, 1822)  \n\n[2984 rows x 3 columns]",
      "text/html": "<div>\n<style scoped>\n    .dataframe tbody tr th:only-of-type {\n        vertical-align: middle;\n    }\n\n    .dataframe tbody tr th {\n        vertical-align: top;\n    }\n\n    .dataframe thead th {\n        text-align: right;\n    }\n</style>\n<table border=\"1\" class=\"dataframe\">\n  <thead>\n    <tr style=\"text-align: right;\">\n      <th></th>\n      <th>taxonID</th>\n      <th>scientificName</th>\n      <th>acceptedNameUsage</th>\n    </tr>\n  </thead>\n  <tbody>\n    <tr>\n      <th>0</th>\n      <td>151000</td>\n      <td>Abelia ×grandiflora (Rovelli ex André) Rehder</td>\n      <td>NaN</td>\n    </tr>\n    <tr>\n      <th>1</th>\n      <td>151001</td>\n      <td>Abelmoschus manihot (L.) Medik.</td>\n      <td>NaN</td>\n    </tr>\n    <tr>\n      <th>2</th>\n      <td>151002</td>\n      <td>Abutilon grandiflorum G.Don</td>\n      <td>NaN</td>\n    </tr>\n    <tr>\n      <th>3</th>\n      <td>151003</td>\n      <td>Abutilon pictum (Gillies ex Hook.) Walp.</td>\n      <td>Callianthe picta (Gillies ex Hook. &amp; Arn.) Don...</td>\n    </tr>\n    <tr>\n      <th>4</th>\n      <td>151004</td>\n      <td>Abutilon theophrasti Medik.</td>\n      <td>NaN</td>\n    </tr>\n    <tr>\n      <th>...</th>\n      <td>...</td>\n      <td>...</td>\n      <td>...</td>\n    </tr>\n    <tr>\n      <th>2979</th>\n      <td>153979</td>\n      <td>Ziziphus jujuba Mill.</td>\n      <td>NaN</td>\n    </tr>\n    <tr>\n      <th>2980</th>\n      <td>153980</td>\n      <td>Ziziphus mauritiana Lam.</td>\n      <td>NaN</td>\n    </tr>\n    <tr>\n      <th>2981</th>\n      <td>153981</td>\n      <td>Ziziphus mucronata Willd.</td>\n      <td>NaN</td>\n    </tr>\n    <tr>\n      <th>2982</th>\n      <td>153982</td>\n      <td>Ziziphus spina-christi (L.) Desf.</td>\n      <td>NaN</td>\n    </tr>\n    <tr>\n      <th>2983</th>\n      <td>153983</td>\n      <td>Zoobotryon verticillatum (Delle Chiaje, 1822)</td>\n      <td>Amathia verticillata (delle Chiaje, 1822)</td>\n    </tr>\n  </tbody>\n</table>\n<p>2984 rows × 3 columns</p>\n</div>"
     },
     "execution_count": 150,
     "metadata": {},
     "output_type": "execute_result"
    }
   ],
   "source": [
    "taxondf['scientificName'] = taxondf['scientificName'].apply(fix_encoding)\n",
    "taxondf[['taxonID','scientificName','acceptedNameUsage']]"
   ],
   "metadata": {
    "collapsed": false,
    "pycharm": {
     "name": "#%%\n"
    }
   }
  },
  {
   "cell_type": "markdown",
   "source": [
    "Write the file and remove the original zip download."
   ],
   "metadata": {
    "collapsed": false
   }
  },
  {
   "cell_type": "code",
   "execution_count": 151,
   "outputs": [],
   "source": [
    "taxondf.to_csv(targetdir+\"griis-1.6.csv\",index=False)\n",
    "os.remove(dwca)"
   ],
   "metadata": {
    "collapsed": false,
    "pycharm": {
     "name": "#%%\n"
    }
   }
  },
  {
   "cell_type": "code",
   "execution_count": null,
   "outputs": [],
   "source": [],
   "metadata": {
    "collapsed": false,
    "pycharm": {
     "name": "#%%\n"
    }
   }
  }
 ],
 "metadata": {
  "kernelspec": {
   "display_name": "Python 3",
   "language": "python",
   "name": "python3"
  },
  "language_info": {
   "codemirror_mode": {
    "name": "ipython",
    "version": 2
   },
   "file_extension": ".py",
   "mimetype": "text/x-python",
   "name": "python",
   "nbconvert_exporter": "python",
   "pygments_lexer": "ipython2",
   "version": "2.7.6"
  }
 },
 "nbformat": 4,
 "nbformat_minor": 0
}