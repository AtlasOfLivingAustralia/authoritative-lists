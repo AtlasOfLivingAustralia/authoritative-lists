{
 "cells": [
  {
   "cell_type": "markdown",
   "source": [
    "# iNaturalist sensitive lists\n",
    "Taxa in iNaturalist have conservation statuses that the ALA is responsible for maintaining. The process for bulk loads is to submit the data to iNaturalist in December/January using provided templates and checklists:\n",
    "\n",
    "https://docs.google.com/spreadsheets/d/1yTwWh4d-lHeaBGCB9m70-HKEMtvrquHsPu3Zrgz9BcE/edit#gid=1531097917\n",
    "\n",
    "Current statuses per iNaturalist taxonID are available in the iNaturalist site export, accessible via an iNaturalist AU site admin and in this repository (inaturalist-australia-9-conservation_statuses.xls)\n",
    "\n",
    "### Suggested approach:\n",
    "\n",
    "To update the statuses (eg for Qld), we need to:\n",
    "1. Find the taxon name for each iNaturalist taxonID in an Australian place. We'll need to match the lists by taxon name.\n",
    "2. We need to find:\n",
    "    * New - those on the Qld list that are not on the iNat list (the list I uploaded before had authority: `QLD DEHP` and my user id is 7308).\n",
    "    * Update - those on the Qld list that need updating (probably most because I feel we should change the authority text and try to link out to the wildnet page for each taxonID)\n",
    "    * Remove - I expect there will be a few of these"
   ],
   "metadata": {
    "collapsed": false,
    "pycharm": {
     "name": "#%% md\n"
    }
   }
  },
  {
   "cell_type": "markdown",
   "source": [],
   "metadata": {
    "collapsed": false
   }
  },
  {
   "cell_type": "code",
   "execution_count": null,
   "outputs": [],
   "source": [],
   "metadata": {
    "collapsed": false,
    "pycharm": {
     "name": "#%%\n"
    }
   }
  },
  {
   "cell_type": "code",
   "execution_count": 1,
   "outputs": [
    {
     "data": {
      "text/plain": "     taxonID   kingdom          class            family  \\\n0        969  Animalia       Mammalia     Rhinolophidae   \n1       1376  Animalia           Aves       Estrildidae   \n2       1378  Animalia           Aves       Estrildidae   \n3       1370  Animalia           Aves       Estrildidae   \n4       1365  Animalia           Aves       Estrildidae   \n..       ...       ...            ...               ...   \n950    11699   Plantae  Equisetopsida  Thelypteridaceae   \n951    11700   Plantae  Equisetopsida  Thelypteridaceae   \n952    16042   Plantae  Equisetopsida  Thelypteridaceae   \n953     8185   Plantae  Equisetopsida        Proteaceae   \n954     8486   Plantae  Equisetopsida       Psilotaceae   \n\n                   scientificName  \\\n0      Rhinolophus philippinensis   \n1               Chloebia gouldiae   \n2              Erythrura trichroa   \n3    Neochmia phaeton evangelinae   \n4          Poephila cincta cincta   \n..                            ...   \n950        Pneumatopteris costata   \n951      Pneumatopteris pennigera   \n952         Thelypteris confluens   \n953            Macadamia jansenii   \n954        Tmesipteris lanceolata   \n\n                                     vernacularName  \\\n0                 greater large-eared horseshoe bat   \n1                                    Gouldian finch   \n2                           blue-faced parrot-finch   \n3          crimson finch (white-bellied subspecies)   \n4    black-throated finch (white-rumped subspecies)   \n..                                              ...   \n950                                             NaN   \n951                                       lime fern   \n952                                             NaN   \n953                                             NaN   \n954                                             NaN   \n\n        scientificNameAuthorship sourceStatus Significant  \\\n0               Waterhouse, 1843            E           Y   \n1                  (Gould, 1844)            E           Y   \n2               (Kittlitz, 1835)           NT           Y   \n3    (Hombron & Jacquinot, 1841)            E           Y   \n4                    Gould, 1837            E           Y   \n..                           ...          ...         ...   \n950             (Brack.) Holttum           NT           Y   \n951           (G.Forst.) Holttum            E           Y   \n952          (Thunb.) C.V.Morton            V           Y   \n953       C.L.Gross & P.H.Weston           CR           Y   \n954                    P.A.Dang.           PE           Y   \n\n                    status                Endemicity EPBC Status  \n0               Endangered          Regional Endemic  Vulnerable  \n1               Endangered             Intranational  Endangered  \n2          Near Threatened  Not Endemic to Australia         NaN  \n3               Endangered          Regional Endemic  Endangered  \n4               Endangered             Intranational  Endangered  \n..                     ...                       ...         ...  \n950        Near Threatened          Regional Endemic         NaN  \n951             Endangered  Not Endemic to Australia         NaN  \n952             Vulnerable  Not Endemic to Australia         NaN  \n953  Critically Endangered        Queensland Endemic  Endangered  \n954    Extinct in the wild        Queensland Endemic     Extinct  \n\n[955 rows x 12 columns]",
      "text/html": "<div>\n<style scoped>\n    .dataframe tbody tr th:only-of-type {\n        vertical-align: middle;\n    }\n\n    .dataframe tbody tr th {\n        vertical-align: top;\n    }\n\n    .dataframe thead th {\n        text-align: right;\n    }\n</style>\n<table border=\"1\" class=\"dataframe\">\n  <thead>\n    <tr style=\"text-align: right;\">\n      <th></th>\n      <th>taxonID</th>\n      <th>kingdom</th>\n      <th>class</th>\n      <th>family</th>\n      <th>scientificName</th>\n      <th>vernacularName</th>\n      <th>scientificNameAuthorship</th>\n      <th>sourceStatus</th>\n      <th>Significant</th>\n      <th>status</th>\n      <th>Endemicity</th>\n      <th>EPBC Status</th>\n    </tr>\n  </thead>\n  <tbody>\n    <tr>\n      <th>0</th>\n      <td>969</td>\n      <td>Animalia</td>\n      <td>Mammalia</td>\n      <td>Rhinolophidae</td>\n      <td>Rhinolophus philippinensis</td>\n      <td>greater large-eared horseshoe bat</td>\n      <td>Waterhouse, 1843</td>\n      <td>E</td>\n      <td>Y</td>\n      <td>Endangered</td>\n      <td>Regional Endemic</td>\n      <td>Vulnerable</td>\n    </tr>\n    <tr>\n      <th>1</th>\n      <td>1376</td>\n      <td>Animalia</td>\n      <td>Aves</td>\n      <td>Estrildidae</td>\n      <td>Chloebia gouldiae</td>\n      <td>Gouldian finch</td>\n      <td>(Gould, 1844)</td>\n      <td>E</td>\n      <td>Y</td>\n      <td>Endangered</td>\n      <td>Intranational</td>\n      <td>Endangered</td>\n    </tr>\n    <tr>\n      <th>2</th>\n      <td>1378</td>\n      <td>Animalia</td>\n      <td>Aves</td>\n      <td>Estrildidae</td>\n      <td>Erythrura trichroa</td>\n      <td>blue-faced parrot-finch</td>\n      <td>(Kittlitz, 1835)</td>\n      <td>NT</td>\n      <td>Y</td>\n      <td>Near Threatened</td>\n      <td>Not Endemic to Australia</td>\n      <td>NaN</td>\n    </tr>\n    <tr>\n      <th>3</th>\n      <td>1370</td>\n      <td>Animalia</td>\n      <td>Aves</td>\n      <td>Estrildidae</td>\n      <td>Neochmia phaeton evangelinae</td>\n      <td>crimson finch (white-bellied subspecies)</td>\n      <td>(Hombron &amp; Jacquinot, 1841)</td>\n      <td>E</td>\n      <td>Y</td>\n      <td>Endangered</td>\n      <td>Regional Endemic</td>\n      <td>Endangered</td>\n    </tr>\n    <tr>\n      <th>4</th>\n      <td>1365</td>\n      <td>Animalia</td>\n      <td>Aves</td>\n      <td>Estrildidae</td>\n      <td>Poephila cincta cincta</td>\n      <td>black-throated finch (white-rumped subspecies)</td>\n      <td>Gould, 1837</td>\n      <td>E</td>\n      <td>Y</td>\n      <td>Endangered</td>\n      <td>Intranational</td>\n      <td>Endangered</td>\n    </tr>\n    <tr>\n      <th>...</th>\n      <td>...</td>\n      <td>...</td>\n      <td>...</td>\n      <td>...</td>\n      <td>...</td>\n      <td>...</td>\n      <td>...</td>\n      <td>...</td>\n      <td>...</td>\n      <td>...</td>\n      <td>...</td>\n      <td>...</td>\n    </tr>\n    <tr>\n      <th>950</th>\n      <td>11699</td>\n      <td>Plantae</td>\n      <td>Equisetopsida</td>\n      <td>Thelypteridaceae</td>\n      <td>Pneumatopteris costata</td>\n      <td>NaN</td>\n      <td>(Brack.) Holttum</td>\n      <td>NT</td>\n      <td>Y</td>\n      <td>Near Threatened</td>\n      <td>Regional Endemic</td>\n      <td>NaN</td>\n    </tr>\n    <tr>\n      <th>951</th>\n      <td>11700</td>\n      <td>Plantae</td>\n      <td>Equisetopsida</td>\n      <td>Thelypteridaceae</td>\n      <td>Pneumatopteris pennigera</td>\n      <td>lime fern</td>\n      <td>(G.Forst.) Holttum</td>\n      <td>E</td>\n      <td>Y</td>\n      <td>Endangered</td>\n      <td>Not Endemic to Australia</td>\n      <td>NaN</td>\n    </tr>\n    <tr>\n      <th>952</th>\n      <td>16042</td>\n      <td>Plantae</td>\n      <td>Equisetopsida</td>\n      <td>Thelypteridaceae</td>\n      <td>Thelypteris confluens</td>\n      <td>NaN</td>\n      <td>(Thunb.) C.V.Morton</td>\n      <td>V</td>\n      <td>Y</td>\n      <td>Vulnerable</td>\n      <td>Not Endemic to Australia</td>\n      <td>NaN</td>\n    </tr>\n    <tr>\n      <th>953</th>\n      <td>8185</td>\n      <td>Plantae</td>\n      <td>Equisetopsida</td>\n      <td>Proteaceae</td>\n      <td>Macadamia jansenii</td>\n      <td>NaN</td>\n      <td>C.L.Gross &amp; P.H.Weston</td>\n      <td>CR</td>\n      <td>Y</td>\n      <td>Critically Endangered</td>\n      <td>Queensland Endemic</td>\n      <td>Endangered</td>\n    </tr>\n    <tr>\n      <th>954</th>\n      <td>8486</td>\n      <td>Plantae</td>\n      <td>Equisetopsida</td>\n      <td>Psilotaceae</td>\n      <td>Tmesipteris lanceolata</td>\n      <td>NaN</td>\n      <td>P.A.Dang.</td>\n      <td>PE</td>\n      <td>Y</td>\n      <td>Extinct in the wild</td>\n      <td>Queensland Endemic</td>\n      <td>Extinct</td>\n    </tr>\n  </tbody>\n</table>\n<p>955 rows × 12 columns</p>\n</div>"
     },
     "execution_count": 1,
     "metadata": {},
     "output_type": "execute_result"
    }
   ],
   "source": [
    "import pandas as pd\n",
    "\n",
    "projectDir = \"/Users/new330/IdeaProjects/authoritative-lists/\"\n",
    "sourceDataDir = projectDir + \"source-data/inaturalist-statuses/\"\n",
    "processedDataDir = projectDir + \"current-lists/inaturalist-statuses/\"\n",
    "\n",
    "qldSensitive = pd.read_csv(processedDataDir + \"sensitive-lists/QLD-sensitive.csv\")\n",
    "qldSensitive"
   ],
   "metadata": {
    "collapsed": false,
    "pycharm": {
     "name": "#%%\n"
    }
   }
  }
 ],
 "metadata": {
  "kernelspec": {
   "display_name": "Python 3",
   "language": "python",
   "name": "python3"
  },
  "language_info": {
   "codemirror_mode": {
    "name": "ipython",
    "version": 2
   },
   "file_extension": ".py",
   "mimetype": "text/x-python",
   "name": "python",
   "nbconvert_exporter": "python",
   "pygments_lexer": "ipython2",
   "version": "2.7.6"
  }
 },
 "nbformat": 4,
 "nbformat_minor": 0
}