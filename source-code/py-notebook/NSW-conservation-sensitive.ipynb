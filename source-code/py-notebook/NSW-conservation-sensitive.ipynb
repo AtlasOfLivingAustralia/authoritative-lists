{
 "cells": [
  {
   "cell_type": "markdown",
   "source": [
    "# NSW Conservation and Sensitive Lists\n",
    "\n",
    "## List Identifiers\n",
    "* Conservation list: __[dr650](https://lists.ala.org.au/speciesListItem/list/dr650)__ (and [dr650 in test](https://lists-test.ala.org.au/speciesListItem/list/dr650))\n",
    "* Sensitive list: __[dr487](https://lists.ala.org.au/speciesListItem/list/dr487)__ (and [dr18457 in test](https://lists-test.ala.org.au/speciesListItem/list/dr18457))\n",
    "* Collection: __[dr650](https://collections.ala.org.au/public/show/dr650)__ __[dr487](https://collections.ala.org.au/public/show/dr487)__\n",
    "### Source Data\n",
    "\n",
    "*  __[Home Page](https://data.bionet.nsw.gov.au)__\n",
    "*  __[API/Data Info](https://data.bionet.nsw.gov.au/biosvcapp/odata/SpeciesNames)__\n",
    "*  __[Data Information and file downloads](https://www.environment.nsw.gov.au/research-and-publications/publications-search/bionet-sensitive-species-list)__\n",
    "\n",
    "\n",
    "**Metadata Description**\n",
    "Classification codes under the Threatened Species Conservation Act 1995: * Presumed Extinct * Critically Endangered * Endangered * Vulnerable * Endangered Population Learn more about the classifications used by the NSW Office of Environment & Heritage Machine-readable downloads can be obtained by searching NSW BioNet, the website for the Atlas of NSW Wildlife, and selecting: 1. Which species or group? = \"all species\", 2. Legal status = \"Select records that fall under one or more categories\" then choose \"Threatened in NSW\" 3. What area? = \"Entire area\" 4. Period of records? = \"All records\"\n",
    "\n",
    "**Metadata URL**\n",
    "https://data.bionet.nsw.gov.au\n"
   ],
   "metadata": {
    "collapsed": false,
    "pycharm": {
     "name": "#%% md\n"
    }
   }
  },
  {
   "cell_type": "markdown",
   "source": [
    "Import required libraries\n",
    "Retrieve dataset from API\n",
    "Set Project directory"
   ],
   "metadata": {
    "collapsed": false,
    "pycharm": {
     "name": "#%% md\n"
    }
   }
  },
  {
   "cell_type": "code",
   "execution_count": 1,
   "outputs": [
    {
     "ename": "SyntaxError",
     "evalue": "invalid syntax (list_functions.py, line 90)",
     "output_type": "error",
     "traceback": [
      "Traceback \u001B[1;36m(most recent call last)\u001B[0m:\n",
      "  File \u001B[0;32m\"C:\\Users\\oco115\\Anaconda3\\envs\\scientificProject\\lib\\site-packages\\IPython\\core\\interactiveshell.py\"\u001B[0m, line \u001B[0;32m3524\u001B[0m, in \u001B[0;35mrun_code\u001B[0m\n    exec(code_obj, self.user_global_ns, self.user_ns)\n",
      "\u001B[1;36m  File \u001B[1;32m\"C:\\Users\\oco115\\AppData\\Local\\Temp/ipykernel_18512/2882188467.py\"\u001B[1;36m, line \u001B[1;32m9\u001B[1;36m, in \u001B[1;35m<cell line: 9>\u001B[1;36m\u001B[0m\n\u001B[1;33m    import list_functions as lf\u001B[0m\n",
      "\u001B[1;36m  File \u001B[1;32m\"C:\\Users\\oco115\\PycharmProjects\\authoritative-lists\\source-code\\includes\\list_functions.py\"\u001B[1;36m, line \u001B[1;32m90\u001B[0m\n\u001B[1;33m    listsTest =\u001B[0m\n\u001B[1;37m               ^\u001B[0m\n\u001B[1;31mSyntaxError\u001B[0m\u001B[1;31m:\u001B[0m invalid syntax\n"
     ]
    }
   ],
   "source": [
    "import pandas as pd\n",
    "import urllib.request, json\n",
    "import os\n",
    "import sys\n",
    "\n",
    "projectDir = \"/Users/oco115/PycharmProjects/authoritative-lists/\"\n",
    "# projectDir = \"/Users/new330/IdeaProjects/authoritative-lists/\"\n",
    "sys.path.append(os.path.abspath(projectDir + \"source-code/includes\"))\n",
    "import list_functions as lf"
   ],
   "metadata": {
    "collapsed": false,
    "pycharm": {
     "name": "#%%\n"
    }
   }
  },
  {
   "cell_type": "code",
   "execution_count": 17,
   "outputs": [],
   "source": [
    "# %%script echo skipping # comment this line to download the files and save locally\n",
    "\n",
    "with urllib.request.urlopen(\"https://data.bionet.nsw.gov.au/biosvcapp/odata/SpeciesNames\") as url:\n",
    "    data = json.loads(url.read().decode())\n"
   ],
   "metadata": {
    "collapsed": false,
    "pycharm": {
     "name": "#%%\n"
    }
   }
  },
  {
   "cell_type": "markdown",
   "source": [],
   "metadata": {
    "collapsed": false,
    "pycharm": {
     "name": "#%% md\n"
    }
   }
  },
  {
   "cell_type": "code",
   "execution_count": null,
   "outputs": [],
   "source": [
    "data = pd.json_normalize(data, record_path =['value'])## Process Conservation"
   ],
   "metadata": {
    "collapsed": false,
    "pycharm": {
     "name": "#%%\n"
    }
   }
  },
  {
   "cell_type": "code",
   "execution_count": 26,
   "outputs": [],
   "source": [
    "# df = data[data.stateConservation != 'Not Listed']\n",
    "# df = data[data(['stateConservation'] != 'Not Listed') & (data['isCurrent'] = 'true')]\n",
    "df= data[(data['stateConservation'] !='Not Listed') & (data['isCurrent'] == 'true')]\n",
    "\n",
    "# df = data[(data['stateConservation'] != 'Not Listed') & (data['isCurrent'] = 'true')]\n"
   ],
   "metadata": {
    "collapsed": false,
    "pycharm": {
     "name": "#%%\n"
    }
   }
  },
  {
   "cell_type": "code",
   "execution_count": 27,
   "outputs": [
    {
     "data": {
      "text/plain": "1026"
     },
     "execution_count": 27,
     "metadata": {},
     "output_type": "execute_result"
    }
   ],
   "source": [
    "len(df.index)\n"
   ],
   "metadata": {
    "collapsed": false,
    "pycharm": {
     "name": "#%%\n"
    }
   }
  },
  {
   "cell_type": "markdown",
   "source": [
    "Extract records where speciesID = taxonID\n",
    "Map columns to DWC terms\n",
    "Map status from stateConservation column"
   ],
   "metadata": {
    "collapsed": false,
    "pycharm": {
     "name": "#%% md\n"
    }
   }
  },
  {
   "cell_type": "code",
   "execution_count": 28,
   "outputs": [],
   "source": [
    "conservation = df[(df['speciesID'] == df['taxonID'])]\n",
    "conservation = conservation[\n",
    "    ['taxonRank', 'kingdom', 'class', 'order', 'family', 'genus', 'scientificName', 'specificEpithet', 'vernacularName',\n",
    "     'establishmentMeans', 'stateConservation', 'protectedInNSW', 'sensitivityClass', 'TSProfileID',\n",
    "     'countryConservation', 'dcterms_modified', 'speciesID', 'taxonID']]\n",
    "conservation['status'] = conservation['stateConservation']\n",
    "conservation = conservation.rename(columns={\"stateConservation\": \"sourceStatus\"})\n",
    "conservation = conservation.rename(columns={\"TSProfileID\": \"tsprofileid\"})"
   ],
   "metadata": {
    "collapsed": false,
    "pycharm": {
     "name": "#%%\n"
    }
   }
  },
  {
   "cell_type": "markdown",
   "source": [
    "Write dataframe to CSV - UTF-8 encoding"
   ],
   "metadata": {
    "collapsed": false,
    "pycharm": {
     "name": "#%% md\n"
    }
   }
  },
  {
   "cell_type": "code",
   "execution_count": 29,
   "outputs": [
    {
     "name": "stdout",
     "output_type": "stream",
     "text": [
      "Writing to CSV\n",
      "Finished processing\n"
     ]
    }
   ],
   "source": [
    "print(\"Writing to CSV\")\n",
    "conservation.to_csv(projectDir + \"current-lists/conservation-lists/NSW-conservation-2023-03-15.csv\",encoding=\"UTF-8\",index=False)\n",
    "print('Finished processing')"
   ],
   "metadata": {
    "collapsed": false,
    "pycharm": {
     "name": "#%%\n"
    }
   }
  },
  {
   "cell_type": "markdown",
   "source": [
    "## Process Sensitive"
   ],
   "metadata": {
    "collapsed": false,
    "pycharm": {
     "name": "#%% md\n"
    }
   }
  },
  {
   "cell_type": "code",
   "execution_count": 30,
   "outputs": [],
   "source": [
    "df = data"
   ],
   "metadata": {
    "collapsed": false,
    "pycharm": {
     "name": "#%%\n"
    }
   }
  },
  {
   "cell_type": "markdown",
   "source": [
    "Create dictionary for location obfuscation based on Category"
   ],
   "metadata": {
    "collapsed": false,
    "pycharm": {
     "name": "#%% md\n"
    }
   }
  },
  {
   "cell_type": "code",
   "execution_count": 31,
   "outputs": [],
   "source": [
    "dictn = {\"Category 3\": \"1km\",\n",
    "       \"Category 2\": \"10km\",\n",
    "       \"Category 1\": \"WITHHOLD\"\n",
    "}"
   ],
   "metadata": {
    "collapsed": false,
    "pycharm": {
     "name": "#%%\n"
    }
   }
  },
  {
   "cell_type": "code",
   "execution_count": 32,
   "id": "94900b2e",
   "metadata": {
    "pycharm": {
     "name": "#%%\n"
    }
   },
   "outputs": [],
   "source": [
    "select = ['Category 3','Category 2','Category 1']"
   ]
  },
  {
   "cell_type": "markdown",
   "source": [
    "Set location generalisation values based on Category"
   ],
   "metadata": {
    "collapsed": false,
    "pycharm": {
     "name": "#%% md\n"
    }
   }
  },
  {
   "cell_type": "markdown",
   "source": [],
   "metadata": {
    "collapsed": false,
    "pycharm": {
     "name": "#%% md\n"
    }
   }
  },
  {
   "cell_type": "code",
   "execution_count": 33,
   "outputs": [],
   "source": [
    "df['generalisation'] = df['sensitivityClass']\n",
    "df['generalisation'] = df['generalisation'].replace(dictn)"
   ],
   "metadata": {
    "collapsed": false,
    "pycharm": {
     "name": "#%%\n"
    }
   }
  },
  {
   "cell_type": "markdown",
   "source": [
    "Extract records where speciesID equals taxonID and sensitivityClass is one of Category 3, Category 2 or Category1\n",
    "Set status and sourceStatus"
   ],
   "metadata": {
    "collapsed": false,
    "pycharm": {
     "name": "#%% md\n"
    }
   }
  },
  {
   "cell_type": "code",
   "execution_count": 38,
   "outputs": [],
   "source": [
    "sensitive = df[(df['speciesID'] == df['taxonID']) & df['sensitivityClass'].isin(select)]\n",
    "sensitive = sensitive[['taxonRank', 'kingdom' ,'class','order','family','genus','scientificName','specificEpithet','vernacularName','establishmentMeans','stateConservation','protectedInNSW','sensitivityClass','TSProfileID','countryConservation','dcterms_modified','speciesID','taxonID','generalisation']]\n",
    "sensitive['status'] = sensitive['stateConservation']\n",
    "sensitive = sensitive.rename(columns={\"stateConservation\": \"sourceStatus\", \"sensitivityClass\": \"category\", \"TSProfileID\": \"tsprofileid\"})"
   ],
   "metadata": {
    "collapsed": false,
    "pycharm": {
     "name": "#%%\n"
    }
   }
  },
  {
   "cell_type": "markdown",
   "source": [
    "Write dataframe to CSV file - UTF-8 Encoding"
   ],
   "metadata": {
    "collapsed": false,
    "pycharm": {
     "name": "#%% md\n"
    }
   }
  },
  {
   "cell_type": "code",
   "execution_count": 39,
   "outputs": [
    {
     "name": "stdout",
     "output_type": "stream",
     "text": [
      "Writing to CSV\n",
      "Finished processing\n"
     ]
    }
   ],
   "source": [
    "print(\"Writing to CSV\")\n",
    "sensitive.to_csv(projectDir + \"current-lists/sensitive-lists/NSW-sensitive-2023-03-15.csv\",encoding=\"UTF-8\",index=False)\n",
    "print('Finished processing')"
   ],
   "metadata": {
    "collapsed": false,
    "pycharm": {
     "name": "#%%\n"
    }
   }
  },
  {
   "cell_type": "markdown",
   "source": [],
   "metadata": {
    "collapsed": false,
    "pycharm": {
     "name": "#%% md\n"
    }
   }
  },
  {
   "cell_type": "markdown",
   "source": [
    "# Manual List check\n",
    "\n",
    "**Instructions**\n",
    "1. Load the lists above into the lists-test tool\n",
    "2. Check the list name matching score and the text appearance on species pages\n",
    "3. Unskip the below code and Run the reports below to compare to production. Send the changelog.csv to check. Correct any issues.\n",
    "4. Save the production list into the `historical lists` directory by uncommenting the code section below.\n",
    "5. Load the lists into production"
   ],
   "metadata": {
    "collapsed": false,
    "pycharm": {
     "name": "#%% md\n"
    }
   }
  },
  {
   "cell_type": "markdown",
   "source": [
    "### Conservation List - Download old and new and compare"
   ],
   "metadata": {
    "collapsed": false,
    "pycharm": {
     "name": "#%% md\n"
    }
   }
  },
  {
   "cell_type": "code",
   "execution_count": 40,
   "outputs": [
    {
     "data": {
      "text/plain": "                             name                  commonName_new  \\\n174        Tympanocryptis lineata        Grassland Earless Dragon   \n291           Homoranthus floydii                            None   \n462        Persoonia oxycoccoides                            None   \n838   Amytornis striatus striatus  Striated Grasswren (sandplain)   \n1020     Amytornis striatus howei              Striated Grasswren   \n1021             Cormodes darwini                            None   \n89             Amytornis striatus                             NaN   \n902    Tympanocryptis pinguicolla                             NaN   \n\n                            scientificName_new             status_new  \\\n174                     Tympanocryptis lineata  Critically Endangered   \n291                        Homoranthus floydii             Vulnerable   \n462                     Persoonia oxycoccoides             Endangered   \n838   Amytornis (Magnamytis) striatus striatus  Critically Endangered   \n1020                  Amytornis striatus howei             Endangered   \n1021                          Cormodes darwini  Critically Endangered   \n89                                         NaN                    NaN   \n902                                        NaN                    NaN   \n\n     listUpdate            commonName_old               scientificName_old  \\\n174       added                       NaN                              NaN   \n291       added                       NaN                              NaN   \n462       added                       NaN                              NaN   \n838       added                       NaN                              NaN   \n1020      added                       NaN                              NaN   \n1021      added                       NaN                              NaN   \n89      removed        Striated Grasswren  Amytornis (Magnamytis) striatus   \n902     removed  Grassland Earless Dragon       Tympanocryptis pinguicolla   \n\n      status_old  \n174          NaN  \n291          NaN  \n462          NaN  \n838          NaN  \n1020         NaN  \n1021         NaN  \n89    Vulnerable  \n902   Endangered  ",
      "text/html": "<div>\n<style scoped>\n    .dataframe tbody tr th:only-of-type {\n        vertical-align: middle;\n    }\n\n    .dataframe tbody tr th {\n        vertical-align: top;\n    }\n\n    .dataframe thead th {\n        text-align: right;\n    }\n</style>\n<table border=\"1\" class=\"dataframe\">\n  <thead>\n    <tr style=\"text-align: right;\">\n      <th></th>\n      <th>name</th>\n      <th>commonName_new</th>\n      <th>scientificName_new</th>\n      <th>status_new</th>\n      <th>listUpdate</th>\n      <th>commonName_old</th>\n      <th>scientificName_old</th>\n      <th>status_old</th>\n    </tr>\n  </thead>\n  <tbody>\n    <tr>\n      <th>174</th>\n      <td>Tympanocryptis lineata</td>\n      <td>Grassland Earless Dragon</td>\n      <td>Tympanocryptis lineata</td>\n      <td>Critically Endangered</td>\n      <td>added</td>\n      <td>NaN</td>\n      <td>NaN</td>\n      <td>NaN</td>\n    </tr>\n    <tr>\n      <th>291</th>\n      <td>Homoranthus floydii</td>\n      <td>None</td>\n      <td>Homoranthus floydii</td>\n      <td>Vulnerable</td>\n      <td>added</td>\n      <td>NaN</td>\n      <td>NaN</td>\n      <td>NaN</td>\n    </tr>\n    <tr>\n      <th>462</th>\n      <td>Persoonia oxycoccoides</td>\n      <td>None</td>\n      <td>Persoonia oxycoccoides</td>\n      <td>Endangered</td>\n      <td>added</td>\n      <td>NaN</td>\n      <td>NaN</td>\n      <td>NaN</td>\n    </tr>\n    <tr>\n      <th>838</th>\n      <td>Amytornis striatus striatus</td>\n      <td>Striated Grasswren (sandplain)</td>\n      <td>Amytornis (Magnamytis) striatus striatus</td>\n      <td>Critically Endangered</td>\n      <td>added</td>\n      <td>NaN</td>\n      <td>NaN</td>\n      <td>NaN</td>\n    </tr>\n    <tr>\n      <th>1020</th>\n      <td>Amytornis striatus howei</td>\n      <td>Striated Grasswren</td>\n      <td>Amytornis striatus howei</td>\n      <td>Endangered</td>\n      <td>added</td>\n      <td>NaN</td>\n      <td>NaN</td>\n      <td>NaN</td>\n    </tr>\n    <tr>\n      <th>1021</th>\n      <td>Cormodes darwini</td>\n      <td>None</td>\n      <td>Cormodes darwini</td>\n      <td>Critically Endangered</td>\n      <td>added</td>\n      <td>NaN</td>\n      <td>NaN</td>\n      <td>NaN</td>\n    </tr>\n    <tr>\n      <th>89</th>\n      <td>Amytornis striatus</td>\n      <td>NaN</td>\n      <td>NaN</td>\n      <td>NaN</td>\n      <td>removed</td>\n      <td>Striated Grasswren</td>\n      <td>Amytornis (Magnamytis) striatus</td>\n      <td>Vulnerable</td>\n    </tr>\n    <tr>\n      <th>902</th>\n      <td>Tympanocryptis pinguicolla</td>\n      <td>NaN</td>\n      <td>NaN</td>\n      <td>NaN</td>\n      <td>removed</td>\n      <td>Grassland Earless Dragon</td>\n      <td>Tympanocryptis pinguicolla</td>\n      <td>Endangered</td>\n    </tr>\n  </tbody>\n</table>\n</div>"
     },
     "execution_count": 40,
     "metadata": {},
     "output_type": "execute_result"
    }
   ],
   "source": [
    "# %%script echo skipping # comment this line to run this code\n",
    "\n",
    "import datetime\n",
    "monthStr = datetime.datetime.now().strftime('%Y%m')\n",
    "ltype=\"C\"\n",
    "# conservation\n",
    "filename = \"NSW-conservation.csv\"\n",
    "prodListUrl = \"https://lists.ala.org.au/ws/speciesListItems/\" + \"dr650\" + \"?max=10000&includeKVP=true\"\n",
    "testListUrl = \"https://lists-test.ala.org.au/ws/speciesListItems/\" + \"dr650\" + \"?max=10000&includeKVP=true\"\n",
    "changelist = lf.get_changelist(testListUrl, prodListUrl, ltype)\n",
    "# save the lists locally\n",
    "changelist.to_csv(projectDir + \"analysis/change-log/\" + monthStr + \"-\" + filename, encoding=\"UTF-8\", index=False)\n",
    "changelist"
   ],
   "metadata": {
    "collapsed": false,
    "pycharm": {
     "name": "#%%\n"
    }
   }
  },
  {
   "cell_type": "markdown",
   "source": [
    "### Download Production list to Historical Lists directory"
   ],
   "metadata": {
    "collapsed": false,
    "pycharm": {
     "name": "#%% md\n"
    }
   }
  },
  {
   "cell_type": "code",
   "execution_count": 16,
   "outputs": [
    {
     "name": "stdout",
     "output_type": "stream",
     "text": [
      "Finished downloading historical list\n"
     ]
    }
   ],
   "source": [
    "%%script echo skipping # comment this line to download the files and save locally\n",
    "prodList = lf.download_ala_list(prodListUrl)  # save the prod list to the historical lists directory\n",
    "prodList = lf.kvp_to_columns(prodList)\n",
    "prodList.to_csv(projectDir + \"historical-lists/conservation/\" + filename, encoding=\"UTF-8\", index=False)\n",
    "print('Finished downloading historical list')"
   ],
   "metadata": {
    "collapsed": false,
    "pycharm": {
     "name": "#%%\n"
    }
   }
  },
  {
   "cell_type": "markdown",
   "source": [
    "### Sensitive List - Download old and new and compare"
   ],
   "metadata": {
    "collapsed": false,
    "pycharm": {
     "name": "#%% md\n"
    }
   }
  },
  {
   "cell_type": "code",
   "execution_count": 41,
   "outputs": [
    {
     "data": {
      "text/plain": "                                       name        commonName_new  \\\n25                     Pedionomus torquatus       Plains-wanderer   \n98   Isotoma fluviatilis subsp. fluviatilis                  None   \n120                Cyclodomorphus praealtus  Alpine She-oak Skink   \n7                         Lathamus discolor                   NaN   \n\n                         scientificName_new listUpdate commonName_old  \\\n25                     Pedionomus torquatus      added            NaN   \n98   Isotoma fluviatilis subsp. fluviatilis      added            NaN   \n120                Cyclodomorphus praealtus      added            NaN   \n7                                       NaN    removed   Swift Parrot   \n\n    scientificName_old  \n25                 NaN  \n98                 NaN  \n120                NaN  \n7    Lathamus discolor  ",
      "text/html": "<div>\n<style scoped>\n    .dataframe tbody tr th:only-of-type {\n        vertical-align: middle;\n    }\n\n    .dataframe tbody tr th {\n        vertical-align: top;\n    }\n\n    .dataframe thead th {\n        text-align: right;\n    }\n</style>\n<table border=\"1\" class=\"dataframe\">\n  <thead>\n    <tr style=\"text-align: right;\">\n      <th></th>\n      <th>name</th>\n      <th>commonName_new</th>\n      <th>scientificName_new</th>\n      <th>listUpdate</th>\n      <th>commonName_old</th>\n      <th>scientificName_old</th>\n    </tr>\n  </thead>\n  <tbody>\n    <tr>\n      <th>25</th>\n      <td>Pedionomus torquatus</td>\n      <td>Plains-wanderer</td>\n      <td>Pedionomus torquatus</td>\n      <td>added</td>\n      <td>NaN</td>\n      <td>NaN</td>\n    </tr>\n    <tr>\n      <th>98</th>\n      <td>Isotoma fluviatilis subsp. fluviatilis</td>\n      <td>None</td>\n      <td>Isotoma fluviatilis subsp. fluviatilis</td>\n      <td>added</td>\n      <td>NaN</td>\n      <td>NaN</td>\n    </tr>\n    <tr>\n      <th>120</th>\n      <td>Cyclodomorphus praealtus</td>\n      <td>Alpine She-oak Skink</td>\n      <td>Cyclodomorphus praealtus</td>\n      <td>added</td>\n      <td>NaN</td>\n      <td>NaN</td>\n    </tr>\n    <tr>\n      <th>7</th>\n      <td>Lathamus discolor</td>\n      <td>NaN</td>\n      <td>NaN</td>\n      <td>removed</td>\n      <td>Swift Parrot</td>\n      <td>Lathamus discolor</td>\n    </tr>\n  </tbody>\n</table>\n</div>"
     },
     "execution_count": 41,
     "metadata": {},
     "output_type": "execute_result"
    }
   ],
   "source": [
    "\n",
    "# %%script echo skipping # comment this line to run this code\n",
    "\n",
    "import datetime\n",
    "monthStr = datetime.datetime.now().strftime('%Y%m')\n",
    "ltype = \"S\"\n",
    "# conservation\n",
    "filename = \"NSW-sensitive.csv\"\n",
    "prodListUrl = \"https://lists.ala.org.au/ws/speciesListItems/\" + \"dr487\" + \"?max=10000&includeKVP=true\"\n",
    "testListUrl = \"https://lists-test.ala.org.au/ws/speciesListItems/\" + \"dr18457\" + \"?max=10000&includeKVP=true\"\n",
    "changelist = lf.get_changelist(testListUrl, prodListUrl, ltype)\n",
    "# save the lists locally\n",
    "changelist.to_csv(projectDir + \"analysis/change-log/\" + monthStr + \"-\" + filename, encoding=\"UTF-8\", index=False)\n",
    "\n",
    "changelist"
   ],
   "metadata": {
    "collapsed": false,
    "pycharm": {
     "name": "#%%\n"
    }
   }
  },
  {
   "cell_type": "markdown",
   "source": [
    "### Download Production lists to Historical List directory"
   ],
   "metadata": {
    "collapsed": false,
    "pycharm": {
     "name": "#%% md\n"
    }
   }
  },
  {
   "cell_type": "code",
   "execution_count": 43,
   "outputs": [
    {
     "name": "stdout",
     "output_type": "stream",
     "text": [
      "Finished downloading historical list\n"
     ]
    }
   ],
   "source": [
    "# %%script echo skipping # comment this line to download the files and save locally\n",
    "prodList = lf.download_ala_list(prodListUrl)  # save the prod list to the historical lists directory\n",
    "prodList = lf.kvp_to_columns(prodList)\n",
    "prodList.to_csv(projectDir + \"historical-lists/sensitive/\" + filename, encoding=\"UTF-8\", index=False)\n",
    "print('Finished downloading historical list')"
   ],
   "metadata": {
    "collapsed": false,
    "pycharm": {
     "name": "#%%\n"
    }
   }
  }
 ],
 "metadata": {
  "kernelspec": {
   "display_name": "Python 3",
   "language": "python",
   "name": "python3"
  },
  "language_info": {
   "codemirror_mode": {
    "name": "ipython",
    "version": 3
   },
   "file_extension": ".py",
   "mimetype": "text/x-python",
   "name": "python",
   "nbconvert_exporter": "python",
   "pygments_lexer": "ipython3",
   "version": "3.8.8"
  }
 },
 "nbformat": 4,
 "nbformat_minor": 5
}