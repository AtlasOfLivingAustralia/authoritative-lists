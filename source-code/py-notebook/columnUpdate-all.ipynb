{
 "cells": [
  {
   "cell_type": "code",
   "execution_count": 1,
   "metadata": {
    "collapsed": true,
    "pycharm": {
     "name": "#%%\n"
    }
   },
   "outputs": [],
   "source": [
    "#import essential libraries\n",
    "import pandas as pd\n",
    "from skimpy import clean_columns\n",
    "\n",
    "projectDir = \"/Users/oco115/PycharmProjects/authoritative-lists/\"\n",
    "dataDir = \"current-lists/conservation-lists/\"\n",
    "\n"
   ]
  },
  {
   "cell_type": "code",
   "execution_count": 24,
   "outputs": [
    {
     "data": {
      "text/plain": "Index(['scientificName', 'scientificNameAuthorship', 'vernacularName',\n       'family', 'class', 'sourceStatus', 'status', 'epbcaStatus',\n       'sourceKingdom', 'kingdom', 'speciesGroup', 'unnamed11', 'sourceOrigin',\n       'higherGeography'],\n      dtype='object')"
     },
     "execution_count": 24,
     "metadata": {},
     "output_type": "execute_result"
    }
   ],
   "source": [
    "fName= \"TAS-conservation\"\n",
    "df = pd.read_csv(projectDir + dataDir + fName + \".csv\")\n",
    "df.columns = df.columns.str.strip()\n",
    "#Camel case all column names\n",
    "df = clean_columns(df, case = 'camel')\n",
    "df.drop(['unnamed11'],axis=1)\n",
    "df.to_csv(projectDir + dataDir + fName + \"-1.csv\",index=False)\n",
    "df.columns"
   ],
   "metadata": {
    "collapsed": false,
    "pycharm": {
     "name": "#%%\n"
    }
   }
  },
  {
   "cell_type": "code",
   "execution_count": 7,
   "outputs": [
    {
     "data": {
      "text/plain": "Index(['WATaxonID', 'scientificName', 'vernacularName', 'class', 'status',\n       'sourceStatus', 'waStatus', 'waRank', 'epbcStatus', 'epbcDesc',\n       'sensitivityZoneId', 'county', 'municipality', 'verbatimLocality',\n       'taxonRemarks'],\n      dtype='object')"
     },
     "execution_count": 7,
     "metadata": {},
     "output_type": "execute_result"
    }
   ],
   "source": [
    "fName= \"WA-conservation\"\n",
    "df = pd.read_csv(projectDir + dataDir + fName + \".csv\")\n",
    "df.columns = df.columns.str.strip()\n",
    "#Camel case all column names\n",
    "# df = clean_columns(df, case = 'camel')\n",
    "df = df.rename(columns=\n",
    "{\n",
    "    'waTaxonId':'taxonID'\n",
    "})\n",
    "# df.drop(['unnamed11'],axis=1)\n",
    "df.to_csv(projectDir + dataDir + fName + \"-1.csv\",index=False)\n",
    "df.columns"
   ],
   "metadata": {
    "collapsed": false,
    "pycharm": {
     "name": "#%%\n"
    }
   }
  },
  {
   "cell_type": "code",
   "execution_count": 26,
   "outputs": [
    {
     "data": {
      "text/plain": "Index(['scientificName', 'vernacularName', 'status', 'taxonRemarks',\n       'sourceStatus'],\n      dtype='object')"
     },
     "execution_count": 26,
     "metadata": {},
     "output_type": "execute_result"
    }
   ],
   "source": [
    "fName= \"ACT-conservation\"\n",
    "df = pd.read_csv(projectDir + dataDir + fName + \".csv\")\n",
    "df.columns = df.columns.str.strip()\n",
    "#Camel case all column names\n",
    "df = clean_columns(df, case = 'camel')\n",
    "# df.drop(['unnamed11'],axis=1)\n",
    "df.to_csv(projectDir + dataDir + fName + \"-1.csv\",index=False)\n",
    "df.columns"
   ],
   "metadata": {
    "collapsed": false,
    "pycharm": {
     "name": "#%%\n"
    }
   }
  },
  {
   "cell_type": "code",
   "execution_count": 8,
   "outputs": [
    {
     "data": {
      "text/plain": "Index(['taxonRank', 'kingdom', 'class', 'order', 'family', 'genus',\n       'scientificName', 'specificEpithet', 'vernacularName',\n       'establishmentMeans', 'sourceStatus', 'protectedInNSW',\n       'sensitivityClass', 'tsProfileID', 'countryConservation',\n       'dcterms_modified', 'speciesID', 'taxonID', 'status'],\n      dtype='object')"
     },
     "execution_count": 8,
     "metadata": {},
     "output_type": "execute_result"
    }
   ],
   "source": [
    "fName= \"NSW-conservation\"\n",
    "df = pd.read_csv(projectDir + dataDir + fName + \".csv\")\n",
    "df.columns = df.columns.str.strip()\n",
    "#Camel case all column names\n",
    "# df = clean_columns(df, case = 'camel')\n",
    "df = df.rename(columns=\n",
    "{\n",
    "    'TSProfileID':'tsProfileID'\n",
    "})\n",
    "# df.drop(['unnamed11'],axis=1)\n",
    "df.to_csv(projectDir + dataDir + fName + \"-1.csv\",index=False)\n",
    "df.columns"
   ],
   "metadata": {
    "collapsed": false,
    "pycharm": {
     "name": "#%%\n"
    }
   }
  },
  {
   "cell_type": "code",
   "execution_count": 28,
   "outputs": [
    {
     "data": {
      "text/plain": "Index(['family', 'status', 'sourceStatus', 'vernacularName', 'scientificName',\n       'taxonRemarks'],\n      dtype='object')"
     },
     "execution_count": 28,
     "metadata": {},
     "output_type": "execute_result"
    }
   ],
   "source": [
    "fName= \"NT-conservation\"\n",
    "df = pd.read_csv(projectDir + dataDir + fName + \".csv\")\n",
    "df.columns = df.columns.str.strip()\n",
    "#Camel case all column names\n",
    "df = clean_columns(df, case = 'camel')\n",
    "# df.drop(['unnamed11'],axis=1)\n",
    "df.to_csv(projectDir + dataDir + fName + \"-1.csv\",index=False)\n",
    "df.columns"
   ],
   "metadata": {
    "collapsed": false,
    "pycharm": {
     "name": "#%%\n"
    }
   }
  },
  {
   "cell_type": "code",
   "execution_count": 29,
   "outputs": [
    {
     "data": {
      "text/plain": "Index(['taxonId', 'kingdom', 'class', 'family', 'scientificName',\n       'vernacularName', 'scientificNameAuthorship', 'sourceStatus',\n       'significant', 'confidential', 'endemicity', 'status', 'endemicity1',\n       'epbcStatus'],\n      dtype='object')"
     },
     "execution_count": 29,
     "metadata": {},
     "output_type": "execute_result"
    }
   ],
   "source": [
    "fName= \"QLD-conservation\"\n",
    "df = pd.read_csv(projectDir + dataDir + fName + \".csv\")\n",
    "df.columns = df.columns.str.strip()\n",
    "#Camel case all column names\n",
    "df = clean_columns(df, case = 'camel')\n",
    "# df.drop(['unnamed11'],axis=1)\n",
    "df.to_csv(projectDir + dataDir + fName + \"-1.csv\",index=False)\n",
    "df.columns"
   ],
   "metadata": {
    "collapsed": false,
    "pycharm": {
     "name": "#%%\n"
    }
   }
  },
  {
   "cell_type": "code",
   "execution_count": 30,
   "outputs": [
    {
     "data": {
      "text/plain": "Index(['class', 'order', 'family', 'vernacularName', 'taxonId', 'genus',\n       'species', 'scientificName', 'sourceStatus', 'npwActStatusComments',\n       'epbcStatus', 'epbcActStatusComments', 'taxonRemarks',\n       'bdbsaCreatedDate', 'bdbsaModifiedDate', 'scientificNameAuthorship',\n       'subspeciesAuthor', 'status', 'majorGroup', 'subSpecies',\n       'weedOfNationalSignificance', 'nrmActWeedStatus'],\n      dtype='object')"
     },
     "execution_count": 30,
     "metadata": {},
     "output_type": "execute_result"
    }
   ],
   "source": [
    "fName= \"SA-conservation\"\n",
    "df = pd.read_csv(projectDir + dataDir + fName + \".csv\")\n",
    "df.columns = df.columns.str.strip()\n",
    "#Camel case all column names\n",
    "df = clean_columns(df, case = 'camel')\n",
    "# df.drop(['unnamed11'],axis=1)\n",
    "df.to_csv(projectDir + dataDir + fName + \"-1.csv\",index=False)\n",
    "df.columns"
   ],
   "metadata": {
    "collapsed": false,
    "pycharm": {
     "name": "#%%\n"
    }
   }
  },
  {
   "cell_type": "code",
   "execution_count": 38,
   "outputs": [
    {
     "data": {
      "text/plain": "Index(['taxonId', 'scientificName', 'vernacularName',\n       'scientificNameAuthority', 'primaryDiscipline', 'establishmentMeans',\n       'taxonRank', 'speciesGroup', 'ffgactStatus', 'epbcactStatus', 'status',\n       'restrictedFlag', 'modified', 'extractDate'],\n      dtype='object')"
     },
     "execution_count": 38,
     "metadata": {},
     "output_type": "execute_result"
    }
   ],
   "source": [
    "fName= \"VIC-conservation\"\n",
    "df = pd.read_csv(projectDir + dataDir + fName + \".csv\")\n",
    "df.columns = df.columns.str.strip()\n",
    "#Camel case all column names\n",
    "# df = clean_columns(df, case = 'camel')\n",
    "# df.to_csv(projectDir + dataDir + fName + \"-1.csv\",index=False)\n",
    "df.columns"
   ],
   "metadata": {
    "collapsed": false,
    "pycharm": {
     "name": "#%%\n"
    }
   }
  },
  {
   "cell_type": "code",
   "execution_count": 2,
   "outputs": [],
   "source": [
    "## Update Sensitive Lists\n",
    "projectDir = \"/Users/oco115/PycharmProjects/authoritative-lists/\"\n",
    "dataDir = \"current-lists/sensitive-lists/\"\n"
   ],
   "metadata": {
    "collapsed": false,
    "pycharm": {
     "name": "#%%\n"
    }
   }
  },
  {
   "cell_type": "code",
   "execution_count": 3,
   "outputs": [
    {
     "data": {
      "text/plain": "Index(['taxonRank', 'kingdom', 'class', 'order', 'family', 'genus',\n       'scientificName', 'specificEpithet', 'vernacularName',\n       'establishmentMeans', 'sourceStatus', 'protectedInNSW',\n       'sensitivityClass', 'tsProfileID', 'countryConservation',\n       'dcterms_Modified', 'speciesID', 'taxonID', 'generalisation', 'status'],\n      dtype='object')"
     },
     "execution_count": 3,
     "metadata": {},
     "output_type": "execute_result"
    }
   ],
   "source": [
    "fName= \"NSW-sensitive\"\n",
    "df = pd.read_csv(projectDir + dataDir + fName + \".csv\")\n",
    "df.columns = df.columns.str.strip()\n",
    "#Camel case all column names\n",
    "# df = clean_columns(df, case = 'camel')\n",
    "df = df.rename(columns=\n",
    "{\n",
    "    'TSProfileID':'tsProfileID'\n",
    "})\n",
    "df.to_csv(projectDir + dataDir + fName + \"-1.csv\",index=False)\n",
    "df.columns"
   ],
   "metadata": {
    "collapsed": false,
    "pycharm": {
     "name": "#%%\n"
    }
   }
  },
  {
   "cell_type": "code",
   "execution_count": 48,
   "outputs": [
    {
     "data": {
      "text/plain": "Index(['taxonId', 'kingdom', 'class', 'family', 'scientificName',\n       'vernacularName', 'scientificNameAuthorship', 'sourceStatus',\n       'significant', 'status', 'endemicity', 'epbcStatus'],\n      dtype='object')"
     },
     "execution_count": 48,
     "metadata": {},
     "output_type": "execute_result"
    }
   ],
   "source": [
    "fName= \"QLD-sensitive\"\n",
    "df = pd.read_csv(projectDir + dataDir + fName + \".csv\")\n",
    "df.columns = df.columns.str.strip()\n",
    "#Camel case all column names\n",
    "df = clean_columns(df, case = 'camel')\n",
    "df.to_csv(projectDir + dataDir + fName + \"-1.csv\",index=False)\n",
    "df.columns"
   ],
   "metadata": {
    "collapsed": false,
    "pycharm": {
     "name": "#%%\n"
    }
   }
  },
  {
   "cell_type": "code",
   "execution_count": 49,
   "outputs": [
    {
     "data": {
      "text/plain": "Index(['dateListed', 'faunaFlora', 'speciesType', 'subGrouping',\n       'saSpeciesCode', 'scientificName', 'vernacularName', 'clarifier'],\n      dtype='object')"
     },
     "execution_count": 49,
     "metadata": {},
     "output_type": "execute_result"
    }
   ],
   "source": [
    "fName= \"SA-sensitive\"\n",
    "df = pd.read_csv(projectDir + dataDir + fName + \".csv\")\n",
    "df.columns = df.columns.str.strip()\n",
    "#Camel case all column names\n",
    "df = clean_columns(df, case = 'camel')\n",
    "df.to_csv(projectDir + dataDir + fName + \"-1.csv\",index=False)\n",
    "df.columns"
   ],
   "metadata": {
    "collapsed": false,
    "pycharm": {
     "name": "#%%\n"
    }
   }
  },
  {
   "cell_type": "code",
   "execution_count": 50,
   "outputs": [
    {
     "data": {
      "text/plain": "Index(['vbaTaxonId', 'scientificName', 'vernacularName',\n       'scientificNameAuthoritiy', 'family', 'ffgStatus', 'ffgDesc',\n       'epbcStatus', 'epbcDesc', 'sourceStatus', 'status', 'sensiivityZoneId',\n       'vbaRestriction', 'vbaOrigin', 'speciesGroup', 'identificationRemarks',\n       'vbaTreaty', 'vbaDiscipline', 'kingdom', 'taxonRank', 'modified'],\n      dtype='object')"
     },
     "execution_count": 50,
     "metadata": {},
     "output_type": "execute_result"
    }
   ],
   "source": [
    "fName= \"VIC-sensitive\"\n",
    "df = pd.read_csv(projectDir + dataDir + fName + \".csv\")\n",
    "df.columns = df.columns.str.strip()\n",
    "#Camel case all column names\n",
    "df = clean_columns(df, case = 'camel')\n",
    "df.to_csv(projectDir + dataDir + fName + \"-1.csv\",index=False)\n",
    "df.columns"
   ],
   "metadata": {
    "collapsed": false,
    "pycharm": {
     "name": "#%%\n"
    }
   }
  },
  {
   "cell_type": "code",
   "execution_count": 51,
   "outputs": [
    {
     "data": {
      "text/plain": "Index(['waTaxonId', 'scientificName', 'vernacularName', 'class', 'status',\n       'sourceStatus', 'waStatus', 'waRank', 'epbcStatus', 'epbcDesc',\n       'sensitivityZoneId', 'county', 'municipality', 'verbatimLocality',\n       'taxonRemarks'],\n      dtype='object')"
     },
     "execution_count": 51,
     "metadata": {},
     "output_type": "execute_result"
    }
   ],
   "source": [
    "fName= \"WA-sensitive\"\n",
    "df = pd.read_csv(projectDir + dataDir + fName + \".csv\")\n",
    "df.columns = df.columns.str.strip()\n",
    "#Camel case all column names\n",
    "df = clean_columns(df, case = 'camel')\n",
    "df.to_csv(projectDir + dataDir + fName + \"-1.csv\",index=False)\n",
    "df.columns"
   ],
   "metadata": {
    "collapsed": false,
    "pycharm": {
     "name": "#%%\n"
    }
   }
  }
 ],
 "metadata": {
  "kernelspec": {
   "display_name": "Python 3",
   "language": "python",
   "name": "python3"
  },
  "language_info": {
   "codemirror_mode": {
    "name": "ipython",
    "version": 2
   },
   "file_extension": ".py",
   "mimetype": "text/x-python",
   "name": "python",
   "nbconvert_exporter": "python",
   "pygments_lexer": "ipython2",
   "version": "2.7.6"
  }
 },
 "nbformat": 4,
 "nbformat_minor": 0
}