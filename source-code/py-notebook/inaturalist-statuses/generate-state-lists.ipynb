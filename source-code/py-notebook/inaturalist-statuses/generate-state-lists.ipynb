{
 "cells": [
  {
   "cell_type": "markdown",
   "source": [
    "# iNaturalist status updates by state\n",
    "\n",
    "Using the file produced in the collate-status-taxa.ipynb: `inat-aust-status-taxa.csv`, generate lists to update iNaturalist statuses\n",
    "\n",
    "**Next steps:**\n",
    "State by state establish the changes that need to be made:\n",
    "    a. new - any new species that appear in the state lists but do not have a status in inaturalist (new template)\n",
    "    b. updates - any changes to information which was added by us previously (user_id = 708886) (update template, action='UPDATE')\n",
    "    c. removals - any statuses which were added by us previously (user_id = 708886) list which are incorrect (update template, action='REMOVE')\n",
    "    d. flags - are there any statuses by other users that need to be flagged?"
   ],
   "metadata": {
    "collapsed": false,
    "pycharm": {
     "name": "#%% md\n"
    }
   }
  },
  {
   "cell_type": "code",
   "execution_count": 1,
   "metadata": {
    "collapsed": true
   },
   "outputs": [
    {
     "data": {
      "text/plain": "          id taxon_id  user_id place_id source_id  \\\n0     166449    38493  1138587     7830             \n1     234788   918383   702203     9994             \n2     234789   918383   702203     7308             \n3     166416  1033183  3669610     6825             \n4     180721  1247288   222137     6825             \n...      ...      ...      ...      ...       ...   \n3448  165697  1182117  3669610    73684             \n3449  130966   508985                               \n3450  161226    50744   516268                      \n3451  162783   924263   764897                      \n3452  152695   779693   708886              16653   \n\n                                              authority  \\\n0                    Flora and Fauna Guarantee Act 1988   \n1                             Atlas of Living Australia   \n2                             Atlas of Living Australia   \n3                  NSW Office of Environment & Heritage   \n4           NSW Threatened Species Scientific Committee   \n...                                                 ...   \n3448                              Australian Government   \n3449                                                      \n3450          DAWE Species Profile and Threats Database   \n3451  Department of Biodiversity, Conservation and A...   \n3452                                           QLD DEHP   \n\n                     status  \\\n0                        CR   \n1                       NT    \n2                        LC   \n3                        EN   \n4                        vu   \n...                     ...   \n3448                     CR   \n3449  critically endangered   \n3450                     CR   \n3451                     EN   \n3452             endangered   \n\n                                                    url description  \\\n0                                                                     \n1     https://bie.ala.org.au/species/https://id.biod...               \n2     https://bie.ala.org.au/species/https://id.biod...               \n3     https://www.environment.nsw.gov.au/threateneds...               \n4     https://www.environment.nsw.gov.au/topics/anim...               \n...                                                 ...         ...   \n3448  http://www.environment.gov.au/biodiversity/thr...               \n3449  http://environment.gov.au/cgi-bin/sprat/public...               \n3450  https://www.environment.gov.au/cgi-bin/sprat/p...               \n3451  https://www.dpaw.wa.gov.au/images/documents/pl...               \n3452  https://data.qld.gov.au/dataset/conservation-s...               \n\n     geoprivacy  ...          genus specificEpithet infraspecificEpithet  \\\n0      obscured  ...      Eulamprus      kosciuskoi                        \n1                ...   Chiloschista     phyllorhiza                        \n2                ...   Chiloschista     phyllorhiza                        \n3      obscured  ...       Eidothea      hardeniana                        \n4      obscured  ...     Pomaderris         bodalla                        \n...         ...  ...            ...             ...                  ...   \n3448             ...    Achyranthes    margaretarum                        \n3449   obscured  ...  Lichenostomus        melanops             cassidix   \n3450   obscured  ...                                                       \n3451   obscured  ...         Reedia       spathacea                        \n3452   obscured  ...   Selenocosmia       crassipes                        \n\n                  modified                   scientificName   taxonRank  \\\n0     2021-03-01T10:35:01Z             Eulamprus kosciuskoi     species   \n1     2022-01-08T03:30:36Z         Chiloschista phyllorhiza     species   \n2     2022-01-08T03:30:36Z         Chiloschista phyllorhiza     species   \n3     2021-02-22T07:21:17Z              Eidothea hardeniana     species   \n4     2021-08-27T06:18:35Z               Pomaderris bodalla     species   \n...                    ...                              ...         ...   \n3448  2021-02-12T19:39:39Z         Achyranthes margaretarum     species   \n3449  2022-06-11T03:51:49Z  Lichenostomus melanops cassidix  subspecies   \n3450                                        Stiphodon allen               \n3451  2020-09-27T12:27:42Z                 Reedia spathacea     species   \n3452  2020-12-20T02:39:27Z           Selenocosmia crassipes     species   \n\n                                             references preferred_common_name  \\\n0     http://reptile-database.reptarium.cz/search.ph...                         \n1     http://www.catalogueoflife.org/annual-checklis...                         \n2     http://www.catalogueoflife.org/annual-checklis...                         \n3                                                                               \n4                        https://eol.org/pages/49432063                         \n...                                                 ...                   ...   \n3448  http://plantsoftheworldonline.org/taxon/urn:ls...                         \n3449  http://www.birds.cornell.edu/clementschecklist...                         \n3450                                                          Opal Cling-Goby   \n3451                                                                            \n3452                                                                            \n\n     is_active current_synonymous_taxon_ids  \n0                                            \n1                                            \n2                                            \n3                                            \n4                                            \n...        ...                          ...  \n3448                                         \n3449                                         \n3450     False                           []  \n3451                                         \n3452                                         \n\n[3453 rows x 34 columns]",
      "text/html": "<div>\n<style scoped>\n    .dataframe tbody tr th:only-of-type {\n        vertical-align: middle;\n    }\n\n    .dataframe tbody tr th {\n        vertical-align: top;\n    }\n\n    .dataframe thead th {\n        text-align: right;\n    }\n</style>\n<table border=\"1\" class=\"dataframe\">\n  <thead>\n    <tr style=\"text-align: right;\">\n      <th></th>\n      <th>id</th>\n      <th>taxon_id</th>\n      <th>user_id</th>\n      <th>place_id</th>\n      <th>source_id</th>\n      <th>authority</th>\n      <th>status</th>\n      <th>url</th>\n      <th>description</th>\n      <th>geoprivacy</th>\n      <th>...</th>\n      <th>genus</th>\n      <th>specificEpithet</th>\n      <th>infraspecificEpithet</th>\n      <th>modified</th>\n      <th>scientificName</th>\n      <th>taxonRank</th>\n      <th>references</th>\n      <th>preferred_common_name</th>\n      <th>is_active</th>\n      <th>current_synonymous_taxon_ids</th>\n    </tr>\n  </thead>\n  <tbody>\n    <tr>\n      <th>0</th>\n      <td>166449</td>\n      <td>38493</td>\n      <td>1138587</td>\n      <td>7830</td>\n      <td></td>\n      <td>Flora and Fauna Guarantee Act 1988</td>\n      <td>CR</td>\n      <td></td>\n      <td></td>\n      <td>obscured</td>\n      <td>...</td>\n      <td>Eulamprus</td>\n      <td>kosciuskoi</td>\n      <td></td>\n      <td>2021-03-01T10:35:01Z</td>\n      <td>Eulamprus kosciuskoi</td>\n      <td>species</td>\n      <td>http://reptile-database.reptarium.cz/search.ph...</td>\n      <td></td>\n      <td></td>\n      <td></td>\n    </tr>\n    <tr>\n      <th>1</th>\n      <td>234788</td>\n      <td>918383</td>\n      <td>702203</td>\n      <td>9994</td>\n      <td></td>\n      <td>Atlas of Living Australia</td>\n      <td>NT</td>\n      <td>https://bie.ala.org.au/species/https://id.biod...</td>\n      <td></td>\n      <td></td>\n      <td>...</td>\n      <td>Chiloschista</td>\n      <td>phyllorhiza</td>\n      <td></td>\n      <td>2022-01-08T03:30:36Z</td>\n      <td>Chiloschista phyllorhiza</td>\n      <td>species</td>\n      <td>http://www.catalogueoflife.org/annual-checklis...</td>\n      <td></td>\n      <td></td>\n      <td></td>\n    </tr>\n    <tr>\n      <th>2</th>\n      <td>234789</td>\n      <td>918383</td>\n      <td>702203</td>\n      <td>7308</td>\n      <td></td>\n      <td>Atlas of Living Australia</td>\n      <td>LC</td>\n      <td>https://bie.ala.org.au/species/https://id.biod...</td>\n      <td></td>\n      <td></td>\n      <td>...</td>\n      <td>Chiloschista</td>\n      <td>phyllorhiza</td>\n      <td></td>\n      <td>2022-01-08T03:30:36Z</td>\n      <td>Chiloschista phyllorhiza</td>\n      <td>species</td>\n      <td>http://www.catalogueoflife.org/annual-checklis...</td>\n      <td></td>\n      <td></td>\n      <td></td>\n    </tr>\n    <tr>\n      <th>3</th>\n      <td>166416</td>\n      <td>1033183</td>\n      <td>3669610</td>\n      <td>6825</td>\n      <td></td>\n      <td>NSW Office of Environment &amp; Heritage</td>\n      <td>EN</td>\n      <td>https://www.environment.nsw.gov.au/threateneds...</td>\n      <td></td>\n      <td>obscured</td>\n      <td>...</td>\n      <td>Eidothea</td>\n      <td>hardeniana</td>\n      <td></td>\n      <td>2021-02-22T07:21:17Z</td>\n      <td>Eidothea hardeniana</td>\n      <td>species</td>\n      <td></td>\n      <td></td>\n      <td></td>\n      <td></td>\n    </tr>\n    <tr>\n      <th>4</th>\n      <td>180721</td>\n      <td>1247288</td>\n      <td>222137</td>\n      <td>6825</td>\n      <td></td>\n      <td>NSW Threatened Species Scientific Committee</td>\n      <td>vu</td>\n      <td>https://www.environment.nsw.gov.au/topics/anim...</td>\n      <td></td>\n      <td>obscured</td>\n      <td>...</td>\n      <td>Pomaderris</td>\n      <td>bodalla</td>\n      <td></td>\n      <td>2021-08-27T06:18:35Z</td>\n      <td>Pomaderris bodalla</td>\n      <td>species</td>\n      <td>https://eol.org/pages/49432063</td>\n      <td></td>\n      <td></td>\n      <td></td>\n    </tr>\n    <tr>\n      <th>...</th>\n      <td>...</td>\n      <td>...</td>\n      <td>...</td>\n      <td>...</td>\n      <td>...</td>\n      <td>...</td>\n      <td>...</td>\n      <td>...</td>\n      <td>...</td>\n      <td>...</td>\n      <td>...</td>\n      <td>...</td>\n      <td>...</td>\n      <td>...</td>\n      <td>...</td>\n      <td>...</td>\n      <td>...</td>\n      <td>...</td>\n      <td>...</td>\n      <td>...</td>\n      <td>...</td>\n    </tr>\n    <tr>\n      <th>3448</th>\n      <td>165697</td>\n      <td>1182117</td>\n      <td>3669610</td>\n      <td>73684</td>\n      <td></td>\n      <td>Australian Government</td>\n      <td>CR</td>\n      <td>http://www.environment.gov.au/biodiversity/thr...</td>\n      <td></td>\n      <td></td>\n      <td>...</td>\n      <td>Achyranthes</td>\n      <td>margaretarum</td>\n      <td></td>\n      <td>2021-02-12T19:39:39Z</td>\n      <td>Achyranthes margaretarum</td>\n      <td>species</td>\n      <td>http://plantsoftheworldonline.org/taxon/urn:ls...</td>\n      <td></td>\n      <td></td>\n      <td></td>\n    </tr>\n    <tr>\n      <th>3449</th>\n      <td>130966</td>\n      <td>508985</td>\n      <td></td>\n      <td></td>\n      <td></td>\n      <td></td>\n      <td>critically endangered</td>\n      <td>http://environment.gov.au/cgi-bin/sprat/public...</td>\n      <td></td>\n      <td>obscured</td>\n      <td>...</td>\n      <td>Lichenostomus</td>\n      <td>melanops</td>\n      <td>cassidix</td>\n      <td>2022-06-11T03:51:49Z</td>\n      <td>Lichenostomus melanops cassidix</td>\n      <td>subspecies</td>\n      <td>http://www.birds.cornell.edu/clementschecklist...</td>\n      <td></td>\n      <td></td>\n      <td></td>\n    </tr>\n    <tr>\n      <th>3450</th>\n      <td>161226</td>\n      <td>50744</td>\n      <td>516268</td>\n      <td></td>\n      <td></td>\n      <td>DAWE Species Profile and Threats Database</td>\n      <td>CR</td>\n      <td>https://www.environment.gov.au/cgi-bin/sprat/p...</td>\n      <td></td>\n      <td>obscured</td>\n      <td>...</td>\n      <td></td>\n      <td></td>\n      <td></td>\n      <td></td>\n      <td>Stiphodon allen</td>\n      <td></td>\n      <td></td>\n      <td>Opal Cling-Goby</td>\n      <td>False</td>\n      <td>[]</td>\n    </tr>\n    <tr>\n      <th>3451</th>\n      <td>162783</td>\n      <td>924263</td>\n      <td>764897</td>\n      <td></td>\n      <td></td>\n      <td>Department of Biodiversity, Conservation and A...</td>\n      <td>EN</td>\n      <td>https://www.dpaw.wa.gov.au/images/documents/pl...</td>\n      <td></td>\n      <td>obscured</td>\n      <td>...</td>\n      <td>Reedia</td>\n      <td>spathacea</td>\n      <td></td>\n      <td>2020-09-27T12:27:42Z</td>\n      <td>Reedia spathacea</td>\n      <td>species</td>\n      <td></td>\n      <td></td>\n      <td></td>\n      <td></td>\n    </tr>\n    <tr>\n      <th>3452</th>\n      <td>152695</td>\n      <td>779693</td>\n      <td>708886</td>\n      <td></td>\n      <td>16653</td>\n      <td>QLD DEHP</td>\n      <td>endangered</td>\n      <td>https://data.qld.gov.au/dataset/conservation-s...</td>\n      <td></td>\n      <td>obscured</td>\n      <td>...</td>\n      <td>Selenocosmia</td>\n      <td>crassipes</td>\n      <td></td>\n      <td>2020-12-20T02:39:27Z</td>\n      <td>Selenocosmia crassipes</td>\n      <td>species</td>\n      <td></td>\n      <td></td>\n      <td></td>\n      <td></td>\n    </tr>\n  </tbody>\n</table>\n<p>3453 rows × 34 columns</p>\n</div>"
     },
     "execution_count": 1,
     "metadata": {},
     "output_type": "execute_result"
    }
   ],
   "source": [
    "import pandas as pd\n",
    "\n",
    "# projectdir = \"/Users/oco115/PycharmProjects/authoritative-lists/\" # basedir for this gh project\n",
    "projectdir = \"/Users/new330/IdeaProjects/authoritative-lists/\" # basedir for this gh project\n",
    "sourcedir = projectdir + \"source-data/inaturalist-statuses/\"\n",
    "listdir = projectdir + \"current-lists/\"\n",
    "\n",
    "\n",
    "# read in the statuses\n",
    "taxastatus = pd.read_csv(sourcedir + \"inat-aust-status-taxa.csv\", encoding='UTF-8',na_filter=False,dtype=str) ## Read inaturalist conservation statuses file\n",
    "taxastatus"
   ]
  },
  {
   "cell_type": "markdown",
   "source": [
    "## Queensland"
   ],
   "metadata": {
    "collapsed": false
   }
  },
  {
   "cell_type": "code",
   "execution_count": 2,
   "outputs": [],
   "source": [
    "def filter_state_statuses(stateregex:str, urlregex:str):\n",
    "    authoritydf = taxastatus['authority'].drop_duplicates().sort_values()\n",
    "    authoritydf = authoritydf[pd.Series(authoritydf).str.contains(stateregex)]\n",
    "    urldf = taxastatus['url'].drop_duplicates().sort_values()\n",
    "    urldf = urldf[pd.Series(urldf).str.contains(urlregex)]\n",
    "    placedisplaydf = taxastatus['place_display_name'].drop_duplicates().sort_values()\n",
    "    placedisplaydf = placedisplaydf[pd.Series(placedisplaydf).str.contains(stateregex)]\n",
    "    placedf = taxastatus['place_name'].drop_duplicates().sort_values()\n",
    "    placedf = placedf[pd.Series(placedf).str.contains(stateregex)]\n",
    "    # concat all and remove duplicates\n",
    "    statedf = pd.concat([taxastatus.apply(lambda row: row[taxastatus['place_display_name'].isin(placedisplaydf)]),\n",
    "                       taxastatus.apply(lambda row: row[taxastatus['place_name'].isin(placedf)]),\n",
    "                       taxastatus.apply(lambda row: row[taxastatus['url'].isin(urldf)]),\n",
    "                       taxastatus.apply(lambda row: row[taxastatus['authority'].isin(authoritydf)])]).drop_duplicates()\n",
    "    return statedf.sort_values(['taxon_id','user_id'])"
   ],
   "metadata": {
    "collapsed": false,
    "pycharm": {
     "name": "#%%\n"
    }
   }
  },
  {
   "cell_type": "code",
   "execution_count": 3,
   "outputs": [
    {
     "data": {
      "text/plain": "          id taxon_id  user_id place_id source_id  \\\n532   223098  1003032  3669610     7308             \n131   169944  1004434    58320     7308             \n1473  152757   100615   708886     7308     16653   \n1407  152668   100635   708886     7308     16653   \n1267  152461   100638   708886     7308     16653   \n...      ...      ...      ...      ...       ...   \n835   262047   977629  3669610     7308             \n2615  161807   993333   702203     7308             \n2616  161808   993333   702203     6744             \n23    167723   993605  3669610     7308             \n2897  164338   993923    58320     7308             \n\n                                              authority           status  \\\n532             Queensland Nature Conservation Act 1992               CE   \n131             Queensland Nature Conservation Act 1992    Least concern   \n1473                                           QLD DEHP       endangered   \n1407                                           QLD DEHP       endangered   \n1267                                           QLD DEHP       endangered   \n...                                                 ...              ...   \n835             Queensland Nature Conservation Act 1992               NT   \n2615                      Nature Conservation Act 1992                VU   \n2616  Environment Protection and Biodiversity Conser...               VU   \n23                                             QLD DEHP               NT   \n2897            Queensland Nature Conservation Act 1992  Near threatened   \n\n                                                    url  \\\n532   https://apps.des.qld.gov.au/species-search/det...   \n131   https://apps.des.qld.gov.au/species-search/det...   \n1473  https://data.qld.gov.au/dataset/conservation-s...   \n1407  https://data.qld.gov.au/dataset/conservation-s...   \n1267  https://data.qld.gov.au/dataset/conservation-s...   \n...                                                 ...   \n835   https://www.data.qld.gov.au/dataset/conservati...   \n2615  https://apps.des.qld.gov.au/species-search/det...   \n2616  https://apps.des.qld.gov.au/species-search/det...   \n23    https://www.data.qld.gov.au/dataset/conservati...   \n2897  https://apps.des.qld.gov.au/species-search/det...   \n\n                                            description geoprivacy  ...  \\\n532                                                       obscured  ...   \n131   Listed as 'confidential' by the Queensland Dep...   obscured  ...   \n1473                                                      obscured  ...   \n1407                                                      obscured  ...   \n1267                                                      obscured  ...   \n...                                                 ...        ...  ...   \n835                                                           open  ...   \n2615                                                                ...   \n2616                                                                ...   \n23                                                        obscured  ...   \n2897       See https://www.inaturalist.org/flags/512314       open  ...   \n\n            genus       specificEpithet infraspecificEpithet  \\\n532    Antrophyum  austroqueenslandicum                        \n131      Oberonia         crateriformis                        \n1473    Euastacus                bindal                        \n1407    Euastacus                jagara                        \n1267    Euastacus                maidae                        \n...           ...                   ...                  ...   \n835     Melaleuca               formosa                        \n2615  Cupaniopsis            tomentella                        \n2616  Cupaniopsis            tomentella                        \n23      Acianthus         amplexicaulis                        \n2897      Ardisia                bakeri                        \n\n                  modified                   scientificName taxonRank  \\\n532   2021-10-01T10:37:36Z  Antrophyum austroqueenslandicum   species   \n131   2021-07-18T09:05:24Z           Oberonia crateriformis   species   \n1473  2020-05-28T05:44:48Z                 Euastacus bindal   species   \n1407  2020-05-28T05:43:40Z                 Euastacus jagara   species   \n1267  2020-05-28T05:06:01Z                 Euastacus maidae   species   \n...                    ...                              ...       ...   \n835   2022-09-05T10:47:52Z                Melaleuca formosa   species   \n2615  2020-08-30T17:12:00Z           Cupaniopsis tomentella   species   \n2616  2020-08-30T17:12:00Z           Cupaniopsis tomentella   species   \n23    2021-10-05T08:48:02Z          Acianthus amplexicaulis   species   \n2897  2022-05-20T20:33:38Z                   Ardisia bakeri   species   \n\n                                             references preferred_common_name  \\\n532                                                                             \n131   http://www.catalogueoflife.org/annual-checklis...                         \n1473    http://www.iucnredlist.org/apps/redlist/details                         \n1407    http://www.iucnredlist.org/apps/redlist/details                         \n1267    http://www.iucnredlist.org/apps/redlist/details                         \n...                                                 ...                   ...   \n835                                                                             \n2615                      https://eol.org/pages/5629346                         \n2616                      https://eol.org/pages/5629346                         \n23    http://www.catalogueoflife.org/annual-checklis...                         \n2897                      https://eol.org/pages/5499166                         \n\n     is_active current_synonymous_taxon_ids  \n532                                          \n131                                          \n1473                                         \n1407                                         \n1267                                         \n...        ...                          ...  \n835                                          \n2615                                         \n2616                                         \n23                                           \n2897                                         \n\n[653 rows x 34 columns]",
      "text/html": "<div>\n<style scoped>\n    .dataframe tbody tr th:only-of-type {\n        vertical-align: middle;\n    }\n\n    .dataframe tbody tr th {\n        vertical-align: top;\n    }\n\n    .dataframe thead th {\n        text-align: right;\n    }\n</style>\n<table border=\"1\" class=\"dataframe\">\n  <thead>\n    <tr style=\"text-align: right;\">\n      <th></th>\n      <th>id</th>\n      <th>taxon_id</th>\n      <th>user_id</th>\n      <th>place_id</th>\n      <th>source_id</th>\n      <th>authority</th>\n      <th>status</th>\n      <th>url</th>\n      <th>description</th>\n      <th>geoprivacy</th>\n      <th>...</th>\n      <th>genus</th>\n      <th>specificEpithet</th>\n      <th>infraspecificEpithet</th>\n      <th>modified</th>\n      <th>scientificName</th>\n      <th>taxonRank</th>\n      <th>references</th>\n      <th>preferred_common_name</th>\n      <th>is_active</th>\n      <th>current_synonymous_taxon_ids</th>\n    </tr>\n  </thead>\n  <tbody>\n    <tr>\n      <th>532</th>\n      <td>223098</td>\n      <td>1003032</td>\n      <td>3669610</td>\n      <td>7308</td>\n      <td></td>\n      <td>Queensland Nature Conservation Act 1992</td>\n      <td>CE</td>\n      <td>https://apps.des.qld.gov.au/species-search/det...</td>\n      <td></td>\n      <td>obscured</td>\n      <td>...</td>\n      <td>Antrophyum</td>\n      <td>austroqueenslandicum</td>\n      <td></td>\n      <td>2021-10-01T10:37:36Z</td>\n      <td>Antrophyum austroqueenslandicum</td>\n      <td>species</td>\n      <td></td>\n      <td></td>\n      <td></td>\n      <td></td>\n    </tr>\n    <tr>\n      <th>131</th>\n      <td>169944</td>\n      <td>1004434</td>\n      <td>58320</td>\n      <td>7308</td>\n      <td></td>\n      <td>Queensland Nature Conservation Act 1992</td>\n      <td>Least concern</td>\n      <td>https://apps.des.qld.gov.au/species-search/det...</td>\n      <td>Listed as 'confidential' by the Queensland Dep...</td>\n      <td>obscured</td>\n      <td>...</td>\n      <td>Oberonia</td>\n      <td>crateriformis</td>\n      <td></td>\n      <td>2021-07-18T09:05:24Z</td>\n      <td>Oberonia crateriformis</td>\n      <td>species</td>\n      <td>http://www.catalogueoflife.org/annual-checklis...</td>\n      <td></td>\n      <td></td>\n      <td></td>\n    </tr>\n    <tr>\n      <th>1473</th>\n      <td>152757</td>\n      <td>100615</td>\n      <td>708886</td>\n      <td>7308</td>\n      <td>16653</td>\n      <td>QLD DEHP</td>\n      <td>endangered</td>\n      <td>https://data.qld.gov.au/dataset/conservation-s...</td>\n      <td></td>\n      <td>obscured</td>\n      <td>...</td>\n      <td>Euastacus</td>\n      <td>bindal</td>\n      <td></td>\n      <td>2020-05-28T05:44:48Z</td>\n      <td>Euastacus bindal</td>\n      <td>species</td>\n      <td>http://www.iucnredlist.org/apps/redlist/details</td>\n      <td></td>\n      <td></td>\n      <td></td>\n    </tr>\n    <tr>\n      <th>1407</th>\n      <td>152668</td>\n      <td>100635</td>\n      <td>708886</td>\n      <td>7308</td>\n      <td>16653</td>\n      <td>QLD DEHP</td>\n      <td>endangered</td>\n      <td>https://data.qld.gov.au/dataset/conservation-s...</td>\n      <td></td>\n      <td>obscured</td>\n      <td>...</td>\n      <td>Euastacus</td>\n      <td>jagara</td>\n      <td></td>\n      <td>2020-05-28T05:43:40Z</td>\n      <td>Euastacus jagara</td>\n      <td>species</td>\n      <td>http://www.iucnredlist.org/apps/redlist/details</td>\n      <td></td>\n      <td></td>\n      <td></td>\n    </tr>\n    <tr>\n      <th>1267</th>\n      <td>152461</td>\n      <td>100638</td>\n      <td>708886</td>\n      <td>7308</td>\n      <td>16653</td>\n      <td>QLD DEHP</td>\n      <td>endangered</td>\n      <td>https://data.qld.gov.au/dataset/conservation-s...</td>\n      <td></td>\n      <td>obscured</td>\n      <td>...</td>\n      <td>Euastacus</td>\n      <td>maidae</td>\n      <td></td>\n      <td>2020-05-28T05:06:01Z</td>\n      <td>Euastacus maidae</td>\n      <td>species</td>\n      <td>http://www.iucnredlist.org/apps/redlist/details</td>\n      <td></td>\n      <td></td>\n      <td></td>\n    </tr>\n    <tr>\n      <th>...</th>\n      <td>...</td>\n      <td>...</td>\n      <td>...</td>\n      <td>...</td>\n      <td>...</td>\n      <td>...</td>\n      <td>...</td>\n      <td>...</td>\n      <td>...</td>\n      <td>...</td>\n      <td>...</td>\n      <td>...</td>\n      <td>...</td>\n      <td>...</td>\n      <td>...</td>\n      <td>...</td>\n      <td>...</td>\n      <td>...</td>\n      <td>...</td>\n      <td>...</td>\n      <td>...</td>\n    </tr>\n    <tr>\n      <th>835</th>\n      <td>262047</td>\n      <td>977629</td>\n      <td>3669610</td>\n      <td>7308</td>\n      <td></td>\n      <td>Queensland Nature Conservation Act 1992</td>\n      <td>NT</td>\n      <td>https://www.data.qld.gov.au/dataset/conservati...</td>\n      <td></td>\n      <td>open</td>\n      <td>...</td>\n      <td>Melaleuca</td>\n      <td>formosa</td>\n      <td></td>\n      <td>2022-09-05T10:47:52Z</td>\n      <td>Melaleuca formosa</td>\n      <td>species</td>\n      <td></td>\n      <td></td>\n      <td></td>\n      <td></td>\n    </tr>\n    <tr>\n      <th>2615</th>\n      <td>161807</td>\n      <td>993333</td>\n      <td>702203</td>\n      <td>7308</td>\n      <td></td>\n      <td>Nature Conservation Act 1992</td>\n      <td>VU</td>\n      <td>https://apps.des.qld.gov.au/species-search/det...</td>\n      <td></td>\n      <td></td>\n      <td>...</td>\n      <td>Cupaniopsis</td>\n      <td>tomentella</td>\n      <td></td>\n      <td>2020-08-30T17:12:00Z</td>\n      <td>Cupaniopsis tomentella</td>\n      <td>species</td>\n      <td>https://eol.org/pages/5629346</td>\n      <td></td>\n      <td></td>\n      <td></td>\n    </tr>\n    <tr>\n      <th>2616</th>\n      <td>161808</td>\n      <td>993333</td>\n      <td>702203</td>\n      <td>6744</td>\n      <td></td>\n      <td>Environment Protection and Biodiversity Conser...</td>\n      <td>VU</td>\n      <td>https://apps.des.qld.gov.au/species-search/det...</td>\n      <td></td>\n      <td></td>\n      <td>...</td>\n      <td>Cupaniopsis</td>\n      <td>tomentella</td>\n      <td></td>\n      <td>2020-08-30T17:12:00Z</td>\n      <td>Cupaniopsis tomentella</td>\n      <td>species</td>\n      <td>https://eol.org/pages/5629346</td>\n      <td></td>\n      <td></td>\n      <td></td>\n    </tr>\n    <tr>\n      <th>23</th>\n      <td>167723</td>\n      <td>993605</td>\n      <td>3669610</td>\n      <td>7308</td>\n      <td></td>\n      <td>QLD DEHP</td>\n      <td>NT</td>\n      <td>https://www.data.qld.gov.au/dataset/conservati...</td>\n      <td></td>\n      <td>obscured</td>\n      <td>...</td>\n      <td>Acianthus</td>\n      <td>amplexicaulis</td>\n      <td></td>\n      <td>2021-10-05T08:48:02Z</td>\n      <td>Acianthus amplexicaulis</td>\n      <td>species</td>\n      <td>http://www.catalogueoflife.org/annual-checklis...</td>\n      <td></td>\n      <td></td>\n      <td></td>\n    </tr>\n    <tr>\n      <th>2897</th>\n      <td>164338</td>\n      <td>993923</td>\n      <td>58320</td>\n      <td>7308</td>\n      <td></td>\n      <td>Queensland Nature Conservation Act 1992</td>\n      <td>Near threatened</td>\n      <td>https://apps.des.qld.gov.au/species-search/det...</td>\n      <td>See https://www.inaturalist.org/flags/512314</td>\n      <td>open</td>\n      <td>...</td>\n      <td>Ardisia</td>\n      <td>bakeri</td>\n      <td></td>\n      <td>2022-05-20T20:33:38Z</td>\n      <td>Ardisia bakeri</td>\n      <td>species</td>\n      <td>https://eol.org/pages/5499166</td>\n      <td></td>\n      <td></td>\n      <td></td>\n    </tr>\n  </tbody>\n</table>\n<p>653 rows × 34 columns</p>\n</div>"
     },
     "execution_count": 3,
     "metadata": {},
     "output_type": "execute_result"
    }
   ],
   "source": [
    "qldstatuses = filter_state_statuses(\"Qld|QLD|Queensland|QUEENSLAND|QL\",\".qld.\")\n",
    "qldstatuses"
   ],
   "metadata": {
    "collapsed": false,
    "pycharm": {
     "name": "#%%\n"
    }
   }
  },
  {
   "cell_type": "code",
   "execution_count": 4,
   "outputs": [
    {
     "data": {
      "text/plain": "     taxonID   kingdom          class            family  \\\n0        969  Animalia       Mammalia     Rhinolophidae   \n1       1376  Animalia           Aves       Estrildidae   \n2       1378  Animalia           Aves       Estrildidae   \n3       1370  Animalia           Aves       Estrildidae   \n4       1365  Animalia           Aves       Estrildidae   \n..       ...       ...            ...               ...   \n950    11699   Plantae  Equisetopsida  Thelypteridaceae   \n951    11700   Plantae  Equisetopsida  Thelypteridaceae   \n952    16042   Plantae  Equisetopsida  Thelypteridaceae   \n953     8185   Plantae  Equisetopsida        Proteaceae   \n954     8486   Plantae  Equisetopsida       Psilotaceae   \n\n                   scientificName  \\\n0      Rhinolophus philippinensis   \n1               Chloebia gouldiae   \n2              Erythrura trichroa   \n3    Neochmia phaeton evangelinae   \n4          Poephila cincta cincta   \n..                            ...   \n950        Pneumatopteris costata   \n951      Pneumatopteris pennigera   \n952         Thelypteris confluens   \n953            Macadamia jansenii   \n954        Tmesipteris lanceolata   \n\n                                     vernacularName  \\\n0                 greater large-eared horseshoe bat   \n1                                    Gouldian finch   \n2                           blue-faced parrot-finch   \n3          crimson finch (white-bellied subspecies)   \n4    black-throated finch (white-rumped subspecies)   \n..                                              ...   \n950                                             NaN   \n951                                       lime fern   \n952                                             NaN   \n953                                             NaN   \n954                                             NaN   \n\n        scientificNameAuthorship sourceStatus Significant  \\\n0               Waterhouse, 1843            E           Y   \n1                  (Gould, 1844)            E           Y   \n2               (Kittlitz, 1835)           NT           Y   \n3    (Hombron & Jacquinot, 1841)            E           Y   \n4                    Gould, 1837            E           Y   \n..                           ...          ...         ...   \n950             (Brack.) Holttum           NT           Y   \n951           (G.Forst.) Holttum            E           Y   \n952          (Thunb.) C.V.Morton            V           Y   \n953       C.L.Gross & P.H.Weston           CR           Y   \n954                    P.A.Dang.           PE           Y   \n\n                    status                Endemicity EPBC Status  \n0               Endangered          Regional Endemic  Vulnerable  \n1               Endangered             Intranational  Endangered  \n2          Near Threatened  Not Endemic to Australia         NaN  \n3               Endangered          Regional Endemic  Endangered  \n4               Endangered             Intranational  Endangered  \n..                     ...                       ...         ...  \n950        Near Threatened          Regional Endemic         NaN  \n951             Endangered  Not Endemic to Australia         NaN  \n952             Vulnerable  Not Endemic to Australia         NaN  \n953  Critically Endangered        Queensland Endemic  Endangered  \n954    Extinct in the wild        Queensland Endemic     Extinct  \n\n[955 rows x 12 columns]",
      "text/html": "<div>\n<style scoped>\n    .dataframe tbody tr th:only-of-type {\n        vertical-align: middle;\n    }\n\n    .dataframe tbody tr th {\n        vertical-align: top;\n    }\n\n    .dataframe thead th {\n        text-align: right;\n    }\n</style>\n<table border=\"1\" class=\"dataframe\">\n  <thead>\n    <tr style=\"text-align: right;\">\n      <th></th>\n      <th>taxonID</th>\n      <th>kingdom</th>\n      <th>class</th>\n      <th>family</th>\n      <th>scientificName</th>\n      <th>vernacularName</th>\n      <th>scientificNameAuthorship</th>\n      <th>sourceStatus</th>\n      <th>Significant</th>\n      <th>status</th>\n      <th>Endemicity</th>\n      <th>EPBC Status</th>\n    </tr>\n  </thead>\n  <tbody>\n    <tr>\n      <th>0</th>\n      <td>969</td>\n      <td>Animalia</td>\n      <td>Mammalia</td>\n      <td>Rhinolophidae</td>\n      <td>Rhinolophus philippinensis</td>\n      <td>greater large-eared horseshoe bat</td>\n      <td>Waterhouse, 1843</td>\n      <td>E</td>\n      <td>Y</td>\n      <td>Endangered</td>\n      <td>Regional Endemic</td>\n      <td>Vulnerable</td>\n    </tr>\n    <tr>\n      <th>1</th>\n      <td>1376</td>\n      <td>Animalia</td>\n      <td>Aves</td>\n      <td>Estrildidae</td>\n      <td>Chloebia gouldiae</td>\n      <td>Gouldian finch</td>\n      <td>(Gould, 1844)</td>\n      <td>E</td>\n      <td>Y</td>\n      <td>Endangered</td>\n      <td>Intranational</td>\n      <td>Endangered</td>\n    </tr>\n    <tr>\n      <th>2</th>\n      <td>1378</td>\n      <td>Animalia</td>\n      <td>Aves</td>\n      <td>Estrildidae</td>\n      <td>Erythrura trichroa</td>\n      <td>blue-faced parrot-finch</td>\n      <td>(Kittlitz, 1835)</td>\n      <td>NT</td>\n      <td>Y</td>\n      <td>Near Threatened</td>\n      <td>Not Endemic to Australia</td>\n      <td>NaN</td>\n    </tr>\n    <tr>\n      <th>3</th>\n      <td>1370</td>\n      <td>Animalia</td>\n      <td>Aves</td>\n      <td>Estrildidae</td>\n      <td>Neochmia phaeton evangelinae</td>\n      <td>crimson finch (white-bellied subspecies)</td>\n      <td>(Hombron &amp; Jacquinot, 1841)</td>\n      <td>E</td>\n      <td>Y</td>\n      <td>Endangered</td>\n      <td>Regional Endemic</td>\n      <td>Endangered</td>\n    </tr>\n    <tr>\n      <th>4</th>\n      <td>1365</td>\n      <td>Animalia</td>\n      <td>Aves</td>\n      <td>Estrildidae</td>\n      <td>Poephila cincta cincta</td>\n      <td>black-throated finch (white-rumped subspecies)</td>\n      <td>Gould, 1837</td>\n      <td>E</td>\n      <td>Y</td>\n      <td>Endangered</td>\n      <td>Intranational</td>\n      <td>Endangered</td>\n    </tr>\n    <tr>\n      <th>...</th>\n      <td>...</td>\n      <td>...</td>\n      <td>...</td>\n      <td>...</td>\n      <td>...</td>\n      <td>...</td>\n      <td>...</td>\n      <td>...</td>\n      <td>...</td>\n      <td>...</td>\n      <td>...</td>\n      <td>...</td>\n    </tr>\n    <tr>\n      <th>950</th>\n      <td>11699</td>\n      <td>Plantae</td>\n      <td>Equisetopsida</td>\n      <td>Thelypteridaceae</td>\n      <td>Pneumatopteris costata</td>\n      <td>NaN</td>\n      <td>(Brack.) Holttum</td>\n      <td>NT</td>\n      <td>Y</td>\n      <td>Near Threatened</td>\n      <td>Regional Endemic</td>\n      <td>NaN</td>\n    </tr>\n    <tr>\n      <th>951</th>\n      <td>11700</td>\n      <td>Plantae</td>\n      <td>Equisetopsida</td>\n      <td>Thelypteridaceae</td>\n      <td>Pneumatopteris pennigera</td>\n      <td>lime fern</td>\n      <td>(G.Forst.) Holttum</td>\n      <td>E</td>\n      <td>Y</td>\n      <td>Endangered</td>\n      <td>Not Endemic to Australia</td>\n      <td>NaN</td>\n    </tr>\n    <tr>\n      <th>952</th>\n      <td>16042</td>\n      <td>Plantae</td>\n      <td>Equisetopsida</td>\n      <td>Thelypteridaceae</td>\n      <td>Thelypteris confluens</td>\n      <td>NaN</td>\n      <td>(Thunb.) C.V.Morton</td>\n      <td>V</td>\n      <td>Y</td>\n      <td>Vulnerable</td>\n      <td>Not Endemic to Australia</td>\n      <td>NaN</td>\n    </tr>\n    <tr>\n      <th>953</th>\n      <td>8185</td>\n      <td>Plantae</td>\n      <td>Equisetopsida</td>\n      <td>Proteaceae</td>\n      <td>Macadamia jansenii</td>\n      <td>NaN</td>\n      <td>C.L.Gross &amp; P.H.Weston</td>\n      <td>CR</td>\n      <td>Y</td>\n      <td>Critically Endangered</td>\n      <td>Queensland Endemic</td>\n      <td>Endangered</td>\n    </tr>\n    <tr>\n      <th>954</th>\n      <td>8486</td>\n      <td>Plantae</td>\n      <td>Equisetopsida</td>\n      <td>Psilotaceae</td>\n      <td>Tmesipteris lanceolata</td>\n      <td>NaN</td>\n      <td>P.A.Dang.</td>\n      <td>PE</td>\n      <td>Y</td>\n      <td>Extinct in the wild</td>\n      <td>Queensland Endemic</td>\n      <td>Extinct</td>\n    </tr>\n  </tbody>\n</table>\n<p>955 rows × 12 columns</p>\n</div>"
     },
     "execution_count": 4,
     "metadata": {},
     "output_type": "execute_result"
    }
   ],
   "source": [
    "qldsensitive = pd.read_csv(listdir + \"sensitive-lists/QLD-sensitive.csv\")  # Qld sensitive list\n",
    "qldsensitive['scientificName'] = qldsensitive['scientificName'].str.replace('subsp. ', '', regex=False)\n",
    "qldsensitive"
   ],
   "metadata": {
    "collapsed": false,
    "pycharm": {
     "name": "#%%\n"
    }
   }
  },
  {
   "cell_type": "code",
   "execution_count": 5,
   "outputs": [
    {
     "data": {
      "text/plain": "     taxonID        scientificName               status_x      id user_id  \\\n127     9655             Acianthus          Least concern     NaN     NaN   \n128     7974    Acianthus borealis  Special least concern     NaN     NaN   \n129    13477    Acianthus caudatus  Special least concern  152636  708886   \n130    14086    Acianthus exsertus  Special least concern  152637  708886   \n131    14087  Acianthus fornicatus  Special least concern     NaN     NaN   \n..       ...                   ...                    ...     ...     ...   \n126     8539    Wodyetia bifurcata             Vulnerable  152450  708886   \n55     22659     Wollumbinia belli             Vulnerable     NaN     NaN   \n778    21765               Zeuxine                    NaN     NaN     NaN   \n779    40091     Zeuxine attenuata          Least concern     NaN     NaN   \n780    15903       Zeuxine oblonga  Special least concern  152829  708886   \n\n    authority    status_y geoprivacy  \n127       NaN         NaN        NaN  \n128       NaN         NaN        NaN  \n129  QLD DEHP  endangered   obscured  \n130  QLD DEHP          LC             \n131       NaN         NaN        NaN  \n..        ...         ...        ...  \n126  QLD DEHP  endangered   obscured  \n55        NaN         NaN        NaN  \n778       NaN         NaN        NaN  \n779       NaN         NaN        NaN  \n780  QLD DEHP          LC             \n\n[958 rows x 8 columns]",
      "text/html": "<div>\n<style scoped>\n    .dataframe tbody tr th:only-of-type {\n        vertical-align: middle;\n    }\n\n    .dataframe tbody tr th {\n        vertical-align: top;\n    }\n\n    .dataframe thead th {\n        text-align: right;\n    }\n</style>\n<table border=\"1\" class=\"dataframe\">\n  <thead>\n    <tr style=\"text-align: right;\">\n      <th></th>\n      <th>taxonID</th>\n      <th>scientificName</th>\n      <th>status_x</th>\n      <th>id</th>\n      <th>user_id</th>\n      <th>authority</th>\n      <th>status_y</th>\n      <th>geoprivacy</th>\n    </tr>\n  </thead>\n  <tbody>\n    <tr>\n      <th>127</th>\n      <td>9655</td>\n      <td>Acianthus</td>\n      <td>Least concern</td>\n      <td>NaN</td>\n      <td>NaN</td>\n      <td>NaN</td>\n      <td>NaN</td>\n      <td>NaN</td>\n    </tr>\n    <tr>\n      <th>128</th>\n      <td>7974</td>\n      <td>Acianthus borealis</td>\n      <td>Special least concern</td>\n      <td>NaN</td>\n      <td>NaN</td>\n      <td>NaN</td>\n      <td>NaN</td>\n      <td>NaN</td>\n    </tr>\n    <tr>\n      <th>129</th>\n      <td>13477</td>\n      <td>Acianthus caudatus</td>\n      <td>Special least concern</td>\n      <td>152636</td>\n      <td>708886</td>\n      <td>QLD DEHP</td>\n      <td>endangered</td>\n      <td>obscured</td>\n    </tr>\n    <tr>\n      <th>130</th>\n      <td>14086</td>\n      <td>Acianthus exsertus</td>\n      <td>Special least concern</td>\n      <td>152637</td>\n      <td>708886</td>\n      <td>QLD DEHP</td>\n      <td>LC</td>\n      <td></td>\n    </tr>\n    <tr>\n      <th>131</th>\n      <td>14087</td>\n      <td>Acianthus fornicatus</td>\n      <td>Special least concern</td>\n      <td>NaN</td>\n      <td>NaN</td>\n      <td>NaN</td>\n      <td>NaN</td>\n      <td>NaN</td>\n    </tr>\n    <tr>\n      <th>...</th>\n      <td>...</td>\n      <td>...</td>\n      <td>...</td>\n      <td>...</td>\n      <td>...</td>\n      <td>...</td>\n      <td>...</td>\n      <td>...</td>\n    </tr>\n    <tr>\n      <th>126</th>\n      <td>8539</td>\n      <td>Wodyetia bifurcata</td>\n      <td>Vulnerable</td>\n      <td>152450</td>\n      <td>708886</td>\n      <td>QLD DEHP</td>\n      <td>endangered</td>\n      <td>obscured</td>\n    </tr>\n    <tr>\n      <th>55</th>\n      <td>22659</td>\n      <td>Wollumbinia belli</td>\n      <td>Vulnerable</td>\n      <td>NaN</td>\n      <td>NaN</td>\n      <td>NaN</td>\n      <td>NaN</td>\n      <td>NaN</td>\n    </tr>\n    <tr>\n      <th>778</th>\n      <td>21765</td>\n      <td>Zeuxine</td>\n      <td>NaN</td>\n      <td>NaN</td>\n      <td>NaN</td>\n      <td>NaN</td>\n      <td>NaN</td>\n      <td>NaN</td>\n    </tr>\n    <tr>\n      <th>779</th>\n      <td>40091</td>\n      <td>Zeuxine attenuata</td>\n      <td>Least concern</td>\n      <td>NaN</td>\n      <td>NaN</td>\n      <td>NaN</td>\n      <td>NaN</td>\n      <td>NaN</td>\n    </tr>\n    <tr>\n      <th>780</th>\n      <td>15903</td>\n      <td>Zeuxine oblonga</td>\n      <td>Special least concern</td>\n      <td>152829</td>\n      <td>708886</td>\n      <td>QLD DEHP</td>\n      <td>LC</td>\n      <td></td>\n    </tr>\n  </tbody>\n</table>\n<p>958 rows × 8 columns</p>\n</div>"
     },
     "execution_count": 5,
     "metadata": {},
     "output_type": "execute_result"
    }
   ],
   "source": [
    "bothlists = qldsensitive[['taxonID','scientificName','status']].merge(qldstatuses[['id','scientificName','user_id','authority','status','geoprivacy']],how=\"left\",left_on='scientificName',right_on='scientificName').sort_values(['scientificName'])\n",
    "bothlists"
   ],
   "metadata": {
    "collapsed": false,
    "pycharm": {
     "name": "#%%\n"
    }
   }
  },
  {
   "cell_type": "markdown",
   "source": [
    "## Notes about conservation status inheritance in inaturalist:\n",
    "Adding a conservation status for a higher level taxon affects observations of all the species in this taxon. Please do not add statuses for taxa that contain species that have no status because that will incorrectly obscure coordinates for observations of those species.\n",
    "\n",
    "### Example:\n",
    "Genus Acriopsis - https://www.inaturalist.org/taxa/425476-Acriopsis\n",
    "\n",
    "The inherited species records are not in the export and can't be edited, but they do appear on the species pages.\n",
    "The changes are to set _Acriopsis emarginata_ to Vulnerable. The rest will remain least concern.\n"
   ],
   "metadata": {
    "collapsed": false
   }
  },
  {
   "cell_type": "code",
   "execution_count": 6,
   "outputs": [
    {
     "data": {
      "text/plain": "   TaxonID                  Name       Status     Rank iNat species page  \\\n1   425476             Acriopsis  LC/obscured    genus               No    \n2  1141144  Acriopsis emarginata  LC/obscured  species               Yes   \n3   425475  Acriopsis liliifolia  LC/obscured  species               Yes   \n4   427833     Acriopsis ridleyi  LC/obscured  species               Yes   \n5  1037999      Acriopsis indica  LC/obscured  Species               Yes   \n\n  iNat edit taxon Export  \n1             Yes    Yes  \n2              No     No  \n3              No     No  \n4              No     No  \n5              No     No  ",
      "text/html": "<div>\n<style scoped>\n    .dataframe tbody tr th:only-of-type {\n        vertical-align: middle;\n    }\n\n    .dataframe tbody tr th {\n        vertical-align: top;\n    }\n\n    .dataframe thead th {\n        text-align: right;\n    }\n</style>\n<table border=\"1\" class=\"dataframe\">\n  <thead>\n    <tr style=\"text-align: right;\">\n      <th></th>\n      <th>TaxonID</th>\n      <th>Name</th>\n      <th>Status</th>\n      <th>Rank</th>\n      <th>iNat species page</th>\n      <th>iNat edit taxon</th>\n      <th>Export</th>\n    </tr>\n  </thead>\n  <tbody>\n    <tr>\n      <th>1</th>\n      <td>425476</td>\n      <td>Acriopsis</td>\n      <td>LC/obscured</td>\n      <td>genus</td>\n      <td>No</td>\n      <td>Yes</td>\n      <td>Yes</td>\n    </tr>\n    <tr>\n      <th>2</th>\n      <td>1141144</td>\n      <td>Acriopsis emarginata</td>\n      <td>LC/obscured</td>\n      <td>species</td>\n      <td>Yes</td>\n      <td>No</td>\n      <td>No</td>\n    </tr>\n    <tr>\n      <th>3</th>\n      <td>425475</td>\n      <td>Acriopsis liliifolia</td>\n      <td>LC/obscured</td>\n      <td>species</td>\n      <td>Yes</td>\n      <td>No</td>\n      <td>No</td>\n    </tr>\n    <tr>\n      <th>4</th>\n      <td>427833</td>\n      <td>Acriopsis ridleyi</td>\n      <td>LC/obscured</td>\n      <td>species</td>\n      <td>Yes</td>\n      <td>No</td>\n      <td>No</td>\n    </tr>\n    <tr>\n      <th>5</th>\n      <td>1037999</td>\n      <td>Acriopsis indica</td>\n      <td>LC/obscured</td>\n      <td>Species</td>\n      <td>Yes</td>\n      <td>No</td>\n      <td>No</td>\n    </tr>\n  </tbody>\n</table>\n</div>"
     },
     "execution_count": 6,
     "metadata": {},
     "output_type": "execute_result"
    }
   ],
   "source": [
    "eg = pd.DataFrame(columns=('TaxonID', 'Name', 'Status','Rank','iNat species page','iNat edit taxon','Export'))\n",
    "eg.loc[1]=['425476','Acriopsis','LC/obscured','genus','No ','Yes','Yes']\n",
    "eg.loc[2]=['1141144','Acriopsis emarginata','LC/obscured','species','Yes','No','No']\n",
    "eg.loc[3]=['425475','Acriopsis liliifolia','LC/obscured','species','Yes','No','No']\n",
    "eg.loc[4]=['427833','Acriopsis ridleyi','LC/obscured','species','Yes','No','No']\n",
    "eg.loc[5]=['1037999','Acriopsis indica','LC/obscured','Species','Yes','No','No']\n",
    "eg"
   ],
   "metadata": {
    "collapsed": false,
    "pycharm": {
     "name": "#%%\n"
    }
   }
  },
  {
   "cell_type": "markdown",
   "source": [
    "\n",
    "## New Entries"
   ],
   "metadata": {
    "collapsed": false
   }
  },
  {
   "cell_type": "code",
   "execution_count": 7,
   "outputs": [
    {
     "data": {
      "text/plain": "     taxonID        scientificName               status_x   id user_id  \\\n127     9655             Acianthus          Least concern  NaN     NaN   \n128     7974    Acianthus borealis  Special least concern  NaN     NaN   \n131    14087  Acianthus fornicatus  Special least concern  NaN     NaN   \n132     8545   Acianthus ledwardii  Special least concern  NaN     NaN   \n136    31909  Acriopsis emarginata             Vulnerable  NaN     NaN   \n..       ...                   ...                    ...  ...     ...   \n775    31261    Vanilla planifolia                    NaN  NaN     NaN   \n777    30794     Vrydagzynea grayi             Endangered  NaN     NaN   \n55     22659     Wollumbinia belli             Vulnerable  NaN     NaN   \n778    21765               Zeuxine                    NaN  NaN     NaN   \n779    40091     Zeuxine attenuata          Least concern  NaN     NaN   \n\n    authority status_y geoprivacy  \n127       NaN      NaN        NaN  \n128       NaN      NaN        NaN  \n131       NaN      NaN        NaN  \n132       NaN      NaN        NaN  \n136       NaN      NaN        NaN  \n..        ...      ...        ...  \n775       NaN      NaN        NaN  \n777       NaN      NaN        NaN  \n55        NaN      NaN        NaN  \n778       NaN      NaN        NaN  \n779       NaN      NaN        NaN  \n\n[532 rows x 8 columns]",
      "text/html": "<div>\n<style scoped>\n    .dataframe tbody tr th:only-of-type {\n        vertical-align: middle;\n    }\n\n    .dataframe tbody tr th {\n        vertical-align: top;\n    }\n\n    .dataframe thead th {\n        text-align: right;\n    }\n</style>\n<table border=\"1\" class=\"dataframe\">\n  <thead>\n    <tr style=\"text-align: right;\">\n      <th></th>\n      <th>taxonID</th>\n      <th>scientificName</th>\n      <th>status_x</th>\n      <th>id</th>\n      <th>user_id</th>\n      <th>authority</th>\n      <th>status_y</th>\n      <th>geoprivacy</th>\n    </tr>\n  </thead>\n  <tbody>\n    <tr>\n      <th>127</th>\n      <td>9655</td>\n      <td>Acianthus</td>\n      <td>Least concern</td>\n      <td>NaN</td>\n      <td>NaN</td>\n      <td>NaN</td>\n      <td>NaN</td>\n      <td>NaN</td>\n    </tr>\n    <tr>\n      <th>128</th>\n      <td>7974</td>\n      <td>Acianthus borealis</td>\n      <td>Special least concern</td>\n      <td>NaN</td>\n      <td>NaN</td>\n      <td>NaN</td>\n      <td>NaN</td>\n      <td>NaN</td>\n    </tr>\n    <tr>\n      <th>131</th>\n      <td>14087</td>\n      <td>Acianthus fornicatus</td>\n      <td>Special least concern</td>\n      <td>NaN</td>\n      <td>NaN</td>\n      <td>NaN</td>\n      <td>NaN</td>\n      <td>NaN</td>\n    </tr>\n    <tr>\n      <th>132</th>\n      <td>8545</td>\n      <td>Acianthus ledwardii</td>\n      <td>Special least concern</td>\n      <td>NaN</td>\n      <td>NaN</td>\n      <td>NaN</td>\n      <td>NaN</td>\n      <td>NaN</td>\n    </tr>\n    <tr>\n      <th>136</th>\n      <td>31909</td>\n      <td>Acriopsis emarginata</td>\n      <td>Vulnerable</td>\n      <td>NaN</td>\n      <td>NaN</td>\n      <td>NaN</td>\n      <td>NaN</td>\n      <td>NaN</td>\n    </tr>\n    <tr>\n      <th>...</th>\n      <td>...</td>\n      <td>...</td>\n      <td>...</td>\n      <td>...</td>\n      <td>...</td>\n      <td>...</td>\n      <td>...</td>\n      <td>...</td>\n    </tr>\n    <tr>\n      <th>775</th>\n      <td>31261</td>\n      <td>Vanilla planifolia</td>\n      <td>NaN</td>\n      <td>NaN</td>\n      <td>NaN</td>\n      <td>NaN</td>\n      <td>NaN</td>\n      <td>NaN</td>\n    </tr>\n    <tr>\n      <th>777</th>\n      <td>30794</td>\n      <td>Vrydagzynea grayi</td>\n      <td>Endangered</td>\n      <td>NaN</td>\n      <td>NaN</td>\n      <td>NaN</td>\n      <td>NaN</td>\n      <td>NaN</td>\n    </tr>\n    <tr>\n      <th>55</th>\n      <td>22659</td>\n      <td>Wollumbinia belli</td>\n      <td>Vulnerable</td>\n      <td>NaN</td>\n      <td>NaN</td>\n      <td>NaN</td>\n      <td>NaN</td>\n      <td>NaN</td>\n    </tr>\n    <tr>\n      <th>778</th>\n      <td>21765</td>\n      <td>Zeuxine</td>\n      <td>NaN</td>\n      <td>NaN</td>\n      <td>NaN</td>\n      <td>NaN</td>\n      <td>NaN</td>\n      <td>NaN</td>\n    </tr>\n    <tr>\n      <th>779</th>\n      <td>40091</td>\n      <td>Zeuxine attenuata</td>\n      <td>Least concern</td>\n      <td>NaN</td>\n      <td>NaN</td>\n      <td>NaN</td>\n      <td>NaN</td>\n      <td>NaN</td>\n    </tr>\n  </tbody>\n</table>\n<p>532 rows × 8 columns</p>\n</div>"
     },
     "execution_count": 7,
     "metadata": {},
     "output_type": "execute_result"
    }
   ],
   "source": [
    "# to add: those that have no status `id` are new taxa - 532!!\n",
    "additions = bothlists[bothlists['id'].isnull()]\n",
    "additions\n"
   ],
   "metadata": {
    "collapsed": false,
    "pycharm": {
     "name": "#%%\n"
    }
   }
  },
  {
   "cell_type": "code",
   "execution_count": 8,
   "outputs": [
    {
     "data": {
      "text/plain": "  id                             taxonID                          identifier  \\\n0  1  https://www.inaturalist.org/taxa/1  https://www.inaturalist.org/taxa/1   \n1  2  https://www.inaturalist.org/taxa/2  https://www.inaturalist.org/taxa/2   \n2  3  https://www.inaturalist.org/taxa/3  https://www.inaturalist.org/taxa/3   \n\n                         parentNameUsageID   kingdom    phylum class order  \\\n0   https://www.inaturalist.org/taxa/48460  Animalia       NaN   NaN   NaN   \n1       https://www.inaturalist.org/taxa/1  Animalia  Chordata   NaN   NaN   \n2  https://www.inaturalist.org/taxa/355675  Animalia  Chordata  Aves   NaN   \n\n  family genus specificEpithet infraspecificEpithet              modified  \\\n0    NaN   NaN             NaN                  NaN  2021-11-02T06:05:44Z   \n1    NaN   NaN             NaN                  NaN  2021-11-23T00:40:18Z   \n2    NaN   NaN             NaN                  NaN  2022-12-27T07:33:16Z   \n\n  scientificName taxonRank                                         references  \n0       Animalia   kingdom  http://www.catalogueoflife.org/annual-checklis...  \n1       Chordata    phylum  http://www.catalogueoflife.org/annual-checklis...  \n2           Aves     class  http://www.catalogueoflife.org/annual-checklis...  ",
      "text/html": "<div>\n<style scoped>\n    .dataframe tbody tr th:only-of-type {\n        vertical-align: middle;\n    }\n\n    .dataframe tbody tr th {\n        vertical-align: top;\n    }\n\n    .dataframe thead th {\n        text-align: right;\n    }\n</style>\n<table border=\"1\" class=\"dataframe\">\n  <thead>\n    <tr style=\"text-align: right;\">\n      <th></th>\n      <th>id</th>\n      <th>taxonID</th>\n      <th>identifier</th>\n      <th>parentNameUsageID</th>\n      <th>kingdom</th>\n      <th>phylum</th>\n      <th>class</th>\n      <th>order</th>\n      <th>family</th>\n      <th>genus</th>\n      <th>specificEpithet</th>\n      <th>infraspecificEpithet</th>\n      <th>modified</th>\n      <th>scientificName</th>\n      <th>taxonRank</th>\n      <th>references</th>\n    </tr>\n  </thead>\n  <tbody>\n    <tr>\n      <th>0</th>\n      <td>1</td>\n      <td>https://www.inaturalist.org/taxa/1</td>\n      <td>https://www.inaturalist.org/taxa/1</td>\n      <td>https://www.inaturalist.org/taxa/48460</td>\n      <td>Animalia</td>\n      <td>NaN</td>\n      <td>NaN</td>\n      <td>NaN</td>\n      <td>NaN</td>\n      <td>NaN</td>\n      <td>NaN</td>\n      <td>NaN</td>\n      <td>2021-11-02T06:05:44Z</td>\n      <td>Animalia</td>\n      <td>kingdom</td>\n      <td>http://www.catalogueoflife.org/annual-checklis...</td>\n    </tr>\n    <tr>\n      <th>1</th>\n      <td>2</td>\n      <td>https://www.inaturalist.org/taxa/2</td>\n      <td>https://www.inaturalist.org/taxa/2</td>\n      <td>https://www.inaturalist.org/taxa/1</td>\n      <td>Animalia</td>\n      <td>Chordata</td>\n      <td>NaN</td>\n      <td>NaN</td>\n      <td>NaN</td>\n      <td>NaN</td>\n      <td>NaN</td>\n      <td>NaN</td>\n      <td>2021-11-23T00:40:18Z</td>\n      <td>Chordata</td>\n      <td>phylum</td>\n      <td>http://www.catalogueoflife.org/annual-checklis...</td>\n    </tr>\n    <tr>\n      <th>2</th>\n      <td>3</td>\n      <td>https://www.inaturalist.org/taxa/3</td>\n      <td>https://www.inaturalist.org/taxa/3</td>\n      <td>https://www.inaturalist.org/taxa/355675</td>\n      <td>Animalia</td>\n      <td>Chordata</td>\n      <td>Aves</td>\n      <td>NaN</td>\n      <td>NaN</td>\n      <td>NaN</td>\n      <td>NaN</td>\n      <td>NaN</td>\n      <td>2022-12-27T07:33:16Z</td>\n      <td>Aves</td>\n      <td>class</td>\n      <td>http://www.catalogueoflife.org/annual-checklis...</td>\n    </tr>\n  </tbody>\n</table>\n</div>"
     },
     "execution_count": 8,
     "metadata": {},
     "output_type": "execute_result"
    }
   ],
   "source": [
    "# this needs to go into a file containing these:\n",
    "# Taxon_Name,Status,Authority,IUCN_equivalent,Description,iNaturalist_Place_ID,url,Taxon_Geoprivacy,Username,taxon_id\n",
    "\n",
    "import zipfile\n",
    "url = \"https://www.inaturalist.org/taxa/inaturalist-taxonomy.dwca.zip\"\n",
    "filename = url.split(\"/\")[-1]\n",
    "\n",
    "z=zipfile.ZipFile(sourcedir + filename)\n",
    "\n",
    "with z.open('taxa.csv') as from_archive:\n",
    "    inattaxa = pd.read_csv(from_archive,dtype=str)\n",
    "z.close()\n",
    "inattaxa.head(3)\n"
   ],
   "metadata": {
    "collapsed": false,
    "pycharm": {
     "name": "#%%\n"
    }
   }
  },
  {
   "cell_type": "code",
   "execution_count": 9,
   "outputs": [
    {
     "data": {
      "text/plain": "     taxonID_x        scientificName               status_x id_x user_id  \\\n0         9655             Acianthus          Least concern  NaN     NaN   \n1         7974    Acianthus borealis  Special least concern  NaN     NaN   \n2        14087  Acianthus fornicatus  Special least concern  NaN     NaN   \n3         8545   Acianthus ledwardii  Special least concern  NaN     NaN   \n4        31909  Acriopsis emarginata             Vulnerable  NaN     NaN   \n..         ...                   ...                    ...  ...     ...   \n532      31261    Vanilla planifolia                    NaN  NaN     NaN   \n533      30794     Vrydagzynea grayi             Endangered  NaN     NaN   \n534      22659     Wollumbinia belli             Vulnerable  NaN     NaN   \n535      21765               Zeuxine                    NaN  NaN     NaN   \n536      40091     Zeuxine attenuata          Least concern  NaN     NaN   \n\n    authority status_y geoprivacy     id_y  \\\n0         NaN      NaN        NaN   202580   \n1         NaN      NaN        NaN      NaN   \n2         NaN      NaN        NaN   202579   \n3         NaN      NaN        NaN  1239753   \n4         NaN      NaN        NaN  1141144   \n..        ...      ...        ...      ...   \n532       NaN      NaN        NaN    61393   \n533       NaN      NaN        NaN      NaN   \n534       NaN      NaN        NaN      NaN   \n535       NaN      NaN        NaN   124430   \n536       NaN      NaN        NaN      NaN   \n\n                                    taxonID_y  ...        phylum       class  \\\n0     https://www.inaturalist.org/taxa/202580  ...  Tracheophyta  Liliopsida   \n1                                         NaN  ...           NaN         NaN   \n2     https://www.inaturalist.org/taxa/202579  ...  Tracheophyta  Liliopsida   \n3    https://www.inaturalist.org/taxa/1239753  ...  Tracheophyta  Liliopsida   \n4    https://www.inaturalist.org/taxa/1141144  ...  Tracheophyta  Liliopsida   \n..                                        ...  ...           ...         ...   \n532    https://www.inaturalist.org/taxa/61393  ...  Tracheophyta  Liliopsida   \n533                                       NaN  ...           NaN         NaN   \n534                                       NaN  ...           NaN         NaN   \n535   https://www.inaturalist.org/taxa/124430  ...  Tracheophyta  Liliopsida   \n536                                       NaN  ...           NaN         NaN   \n\n           order       family      genus specificEpithet infraspecificEpithet  \\\n0    Asparagales  Orchidaceae  Acianthus             NaN                  NaN   \n1            NaN          NaN        NaN             NaN                  NaN   \n2    Asparagales  Orchidaceae  Acianthus      fornicatus                  NaN   \n3    Asparagales  Orchidaceae  Acianthus       ledwardii                  NaN   \n4    Asparagales  Orchidaceae  Acriopsis      emarginata                  NaN   \n..           ...          ...        ...             ...                  ...   \n532  Asparagales  Orchidaceae    Vanilla      planifolia                  NaN   \n533          NaN          NaN        NaN             NaN                  NaN   \n534          NaN          NaN        NaN             NaN                  NaN   \n535  Asparagales  Orchidaceae    Zeuxine             NaN                  NaN   \n536          NaN          NaN        NaN             NaN                  NaN   \n\n                 modified taxonRank  \\\n0    2021-04-17T03:13:28Z     genus   \n1                     NaN       NaN   \n2    2021-05-20T01:27:37Z   species   \n3    2021-05-18T04:43:56Z   species   \n4    2020-11-16T22:24:21Z   species   \n..                    ...       ...   \n532  2019-11-23T05:28:46Z   species   \n533                   NaN       NaN   \n534                   NaN       NaN   \n535  2022-10-17T14:37:53Z     genus   \n536                   NaN       NaN   \n\n                                            references  \n0    http://www.catalogueoflife.org/annual-checklis...  \n1                                                  NaN  \n2    http://www.catalogueoflife.org/annual-checklis...  \n3    http://www.catalogueoflife.org/annual-checklis...  \n4    http://www.catalogueoflife.org/annual-checklis...  \n..                                                 ...  \n532  http://www.catalogueoflife.org/annual-checklis...  \n533                                                NaN  \n534                                                NaN  \n535  http://www.ubio.org/browser/details.php?nameba...  \n536                                                NaN  \n\n[537 rows x 23 columns]",
      "text/html": "<div>\n<style scoped>\n    .dataframe tbody tr th:only-of-type {\n        vertical-align: middle;\n    }\n\n    .dataframe tbody tr th {\n        vertical-align: top;\n    }\n\n    .dataframe thead th {\n        text-align: right;\n    }\n</style>\n<table border=\"1\" class=\"dataframe\">\n  <thead>\n    <tr style=\"text-align: right;\">\n      <th></th>\n      <th>taxonID_x</th>\n      <th>scientificName</th>\n      <th>status_x</th>\n      <th>id_x</th>\n      <th>user_id</th>\n      <th>authority</th>\n      <th>status_y</th>\n      <th>geoprivacy</th>\n      <th>id_y</th>\n      <th>taxonID_y</th>\n      <th>...</th>\n      <th>phylum</th>\n      <th>class</th>\n      <th>order</th>\n      <th>family</th>\n      <th>genus</th>\n      <th>specificEpithet</th>\n      <th>infraspecificEpithet</th>\n      <th>modified</th>\n      <th>taxonRank</th>\n      <th>references</th>\n    </tr>\n  </thead>\n  <tbody>\n    <tr>\n      <th>0</th>\n      <td>9655</td>\n      <td>Acianthus</td>\n      <td>Least concern</td>\n      <td>NaN</td>\n      <td>NaN</td>\n      <td>NaN</td>\n      <td>NaN</td>\n      <td>NaN</td>\n      <td>202580</td>\n      <td>https://www.inaturalist.org/taxa/202580</td>\n      <td>...</td>\n      <td>Tracheophyta</td>\n      <td>Liliopsida</td>\n      <td>Asparagales</td>\n      <td>Orchidaceae</td>\n      <td>Acianthus</td>\n      <td>NaN</td>\n      <td>NaN</td>\n      <td>2021-04-17T03:13:28Z</td>\n      <td>genus</td>\n      <td>http://www.catalogueoflife.org/annual-checklis...</td>\n    </tr>\n    <tr>\n      <th>1</th>\n      <td>7974</td>\n      <td>Acianthus borealis</td>\n      <td>Special least concern</td>\n      <td>NaN</td>\n      <td>NaN</td>\n      <td>NaN</td>\n      <td>NaN</td>\n      <td>NaN</td>\n      <td>NaN</td>\n      <td>NaN</td>\n      <td>...</td>\n      <td>NaN</td>\n      <td>NaN</td>\n      <td>NaN</td>\n      <td>NaN</td>\n      <td>NaN</td>\n      <td>NaN</td>\n      <td>NaN</td>\n      <td>NaN</td>\n      <td>NaN</td>\n      <td>NaN</td>\n    </tr>\n    <tr>\n      <th>2</th>\n      <td>14087</td>\n      <td>Acianthus fornicatus</td>\n      <td>Special least concern</td>\n      <td>NaN</td>\n      <td>NaN</td>\n      <td>NaN</td>\n      <td>NaN</td>\n      <td>NaN</td>\n      <td>202579</td>\n      <td>https://www.inaturalist.org/taxa/202579</td>\n      <td>...</td>\n      <td>Tracheophyta</td>\n      <td>Liliopsida</td>\n      <td>Asparagales</td>\n      <td>Orchidaceae</td>\n      <td>Acianthus</td>\n      <td>fornicatus</td>\n      <td>NaN</td>\n      <td>2021-05-20T01:27:37Z</td>\n      <td>species</td>\n      <td>http://www.catalogueoflife.org/annual-checklis...</td>\n    </tr>\n    <tr>\n      <th>3</th>\n      <td>8545</td>\n      <td>Acianthus ledwardii</td>\n      <td>Special least concern</td>\n      <td>NaN</td>\n      <td>NaN</td>\n      <td>NaN</td>\n      <td>NaN</td>\n      <td>NaN</td>\n      <td>1239753</td>\n      <td>https://www.inaturalist.org/taxa/1239753</td>\n      <td>...</td>\n      <td>Tracheophyta</td>\n      <td>Liliopsida</td>\n      <td>Asparagales</td>\n      <td>Orchidaceae</td>\n      <td>Acianthus</td>\n      <td>ledwardii</td>\n      <td>NaN</td>\n      <td>2021-05-18T04:43:56Z</td>\n      <td>species</td>\n      <td>http://www.catalogueoflife.org/annual-checklis...</td>\n    </tr>\n    <tr>\n      <th>4</th>\n      <td>31909</td>\n      <td>Acriopsis emarginata</td>\n      <td>Vulnerable</td>\n      <td>NaN</td>\n      <td>NaN</td>\n      <td>NaN</td>\n      <td>NaN</td>\n      <td>NaN</td>\n      <td>1141144</td>\n      <td>https://www.inaturalist.org/taxa/1141144</td>\n      <td>...</td>\n      <td>Tracheophyta</td>\n      <td>Liliopsida</td>\n      <td>Asparagales</td>\n      <td>Orchidaceae</td>\n      <td>Acriopsis</td>\n      <td>emarginata</td>\n      <td>NaN</td>\n      <td>2020-11-16T22:24:21Z</td>\n      <td>species</td>\n      <td>http://www.catalogueoflife.org/annual-checklis...</td>\n    </tr>\n    <tr>\n      <th>...</th>\n      <td>...</td>\n      <td>...</td>\n      <td>...</td>\n      <td>...</td>\n      <td>...</td>\n      <td>...</td>\n      <td>...</td>\n      <td>...</td>\n      <td>...</td>\n      <td>...</td>\n      <td>...</td>\n      <td>...</td>\n      <td>...</td>\n      <td>...</td>\n      <td>...</td>\n      <td>...</td>\n      <td>...</td>\n      <td>...</td>\n      <td>...</td>\n      <td>...</td>\n      <td>...</td>\n    </tr>\n    <tr>\n      <th>532</th>\n      <td>31261</td>\n      <td>Vanilla planifolia</td>\n      <td>NaN</td>\n      <td>NaN</td>\n      <td>NaN</td>\n      <td>NaN</td>\n      <td>NaN</td>\n      <td>NaN</td>\n      <td>61393</td>\n      <td>https://www.inaturalist.org/taxa/61393</td>\n      <td>...</td>\n      <td>Tracheophyta</td>\n      <td>Liliopsida</td>\n      <td>Asparagales</td>\n      <td>Orchidaceae</td>\n      <td>Vanilla</td>\n      <td>planifolia</td>\n      <td>NaN</td>\n      <td>2019-11-23T05:28:46Z</td>\n      <td>species</td>\n      <td>http://www.catalogueoflife.org/annual-checklis...</td>\n    </tr>\n    <tr>\n      <th>533</th>\n      <td>30794</td>\n      <td>Vrydagzynea grayi</td>\n      <td>Endangered</td>\n      <td>NaN</td>\n      <td>NaN</td>\n      <td>NaN</td>\n      <td>NaN</td>\n      <td>NaN</td>\n      <td>NaN</td>\n      <td>NaN</td>\n      <td>...</td>\n      <td>NaN</td>\n      <td>NaN</td>\n      <td>NaN</td>\n      <td>NaN</td>\n      <td>NaN</td>\n      <td>NaN</td>\n      <td>NaN</td>\n      <td>NaN</td>\n      <td>NaN</td>\n      <td>NaN</td>\n    </tr>\n    <tr>\n      <th>534</th>\n      <td>22659</td>\n      <td>Wollumbinia belli</td>\n      <td>Vulnerable</td>\n      <td>NaN</td>\n      <td>NaN</td>\n      <td>NaN</td>\n      <td>NaN</td>\n      <td>NaN</td>\n      <td>NaN</td>\n      <td>NaN</td>\n      <td>...</td>\n      <td>NaN</td>\n      <td>NaN</td>\n      <td>NaN</td>\n      <td>NaN</td>\n      <td>NaN</td>\n      <td>NaN</td>\n      <td>NaN</td>\n      <td>NaN</td>\n      <td>NaN</td>\n      <td>NaN</td>\n    </tr>\n    <tr>\n      <th>535</th>\n      <td>21765</td>\n      <td>Zeuxine</td>\n      <td>NaN</td>\n      <td>NaN</td>\n      <td>NaN</td>\n      <td>NaN</td>\n      <td>NaN</td>\n      <td>NaN</td>\n      <td>124430</td>\n      <td>https://www.inaturalist.org/taxa/124430</td>\n      <td>...</td>\n      <td>Tracheophyta</td>\n      <td>Liliopsida</td>\n      <td>Asparagales</td>\n      <td>Orchidaceae</td>\n      <td>Zeuxine</td>\n      <td>NaN</td>\n      <td>NaN</td>\n      <td>2022-10-17T14:37:53Z</td>\n      <td>genus</td>\n      <td>http://www.ubio.org/browser/details.php?nameba...</td>\n    </tr>\n    <tr>\n      <th>536</th>\n      <td>40091</td>\n      <td>Zeuxine attenuata</td>\n      <td>Least concern</td>\n      <td>NaN</td>\n      <td>NaN</td>\n      <td>NaN</td>\n      <td>NaN</td>\n      <td>NaN</td>\n      <td>NaN</td>\n      <td>NaN</td>\n      <td>...</td>\n      <td>NaN</td>\n      <td>NaN</td>\n      <td>NaN</td>\n      <td>NaN</td>\n      <td>NaN</td>\n      <td>NaN</td>\n      <td>NaN</td>\n      <td>NaN</td>\n      <td>NaN</td>\n      <td>NaN</td>\n    </tr>\n  </tbody>\n</table>\n<p>537 rows × 23 columns</p>\n</div>"
     },
     "execution_count": 9,
     "metadata": {},
     "output_type": "execute_result"
    }
   ],
   "source": [
    "# try to match the taxon name to something in inaturalist\n",
    "additions = additions.merge(inattaxa, how=\"left\", left_on=\"scientificName\",right_on=\"scientificName\")\n",
    "additions"
   ],
   "metadata": {
    "collapsed": false,
    "pycharm": {
     "name": "#%%\n"
    }
   }
  },
  {
   "cell_type": "code",
   "execution_count": 10,
   "outputs": [
    {
     "data": {
      "text/plain": "     taxonID_x                  scientificName               status_x id_x  \\\n1         7974              Acianthus borealis  Special least concern  NaN   \n5        40762             Alsophila baileyana          Least concern  NaN   \n7        41582                Alsophila exilis             Endangered  NaN   \n21       30917             Aponogeton cuneatus  Special least concern  NaN   \n22       21902  Aponogeton elongatus elongatus        Near Threatened  NaN   \n..         ...                             ...                    ...  ...   \n529      11357     Trichoglottis australiensis             Vulnerable  NaN   \n531      40770                  Vanda whiteana          Least concern  NaN   \n533      30794               Vrydagzynea grayi             Endangered  NaN   \n534      22659               Wollumbinia belli             Vulnerable  NaN   \n536      40091               Zeuxine attenuata          Least concern  NaN   \n\n    user_id authority status_y geoprivacy id_y taxonID_y  ... phylum class  \\\n1       NaN       NaN      NaN        NaN  NaN       NaN  ...    NaN   NaN   \n5       NaN       NaN      NaN        NaN  NaN       NaN  ...    NaN   NaN   \n7       NaN       NaN      NaN        NaN  NaN       NaN  ...    NaN   NaN   \n21      NaN       NaN      NaN        NaN  NaN       NaN  ...    NaN   NaN   \n22      NaN       NaN      NaN        NaN  NaN       NaN  ...    NaN   NaN   \n..      ...       ...      ...        ...  ...       ...  ...    ...   ...   \n529     NaN       NaN      NaN        NaN  NaN       NaN  ...    NaN   NaN   \n531     NaN       NaN      NaN        NaN  NaN       NaN  ...    NaN   NaN   \n533     NaN       NaN      NaN        NaN  NaN       NaN  ...    NaN   NaN   \n534     NaN       NaN      NaN        NaN  NaN       NaN  ...    NaN   NaN   \n536     NaN       NaN      NaN        NaN  NaN       NaN  ...    NaN   NaN   \n\n    order family genus specificEpithet infraspecificEpithet modified  \\\n1     NaN    NaN   NaN             NaN                  NaN      NaN   \n5     NaN    NaN   NaN             NaN                  NaN      NaN   \n7     NaN    NaN   NaN             NaN                  NaN      NaN   \n21    NaN    NaN   NaN             NaN                  NaN      NaN   \n22    NaN    NaN   NaN             NaN                  NaN      NaN   \n..    ...    ...   ...             ...                  ...      ...   \n529   NaN    NaN   NaN             NaN                  NaN      NaN   \n531   NaN    NaN   NaN             NaN                  NaN      NaN   \n533   NaN    NaN   NaN             NaN                  NaN      NaN   \n534   NaN    NaN   NaN             NaN                  NaN      NaN   \n536   NaN    NaN   NaN             NaN                  NaN      NaN   \n\n    taxonRank references  \n1         NaN        NaN  \n5         NaN        NaN  \n7         NaN        NaN  \n21        NaN        NaN  \n22        NaN        NaN  \n..        ...        ...  \n529       NaN        NaN  \n531       NaN        NaN  \n533       NaN        NaN  \n534       NaN        NaN  \n536       NaN        NaN  \n\n[259 rows x 23 columns]",
      "text/html": "<div>\n<style scoped>\n    .dataframe tbody tr th:only-of-type {\n        vertical-align: middle;\n    }\n\n    .dataframe tbody tr th {\n        vertical-align: top;\n    }\n\n    .dataframe thead th {\n        text-align: right;\n    }\n</style>\n<table border=\"1\" class=\"dataframe\">\n  <thead>\n    <tr style=\"text-align: right;\">\n      <th></th>\n      <th>taxonID_x</th>\n      <th>scientificName</th>\n      <th>status_x</th>\n      <th>id_x</th>\n      <th>user_id</th>\n      <th>authority</th>\n      <th>status_y</th>\n      <th>geoprivacy</th>\n      <th>id_y</th>\n      <th>taxonID_y</th>\n      <th>...</th>\n      <th>phylum</th>\n      <th>class</th>\n      <th>order</th>\n      <th>family</th>\n      <th>genus</th>\n      <th>specificEpithet</th>\n      <th>infraspecificEpithet</th>\n      <th>modified</th>\n      <th>taxonRank</th>\n      <th>references</th>\n    </tr>\n  </thead>\n  <tbody>\n    <tr>\n      <th>1</th>\n      <td>7974</td>\n      <td>Acianthus borealis</td>\n      <td>Special least concern</td>\n      <td>NaN</td>\n      <td>NaN</td>\n      <td>NaN</td>\n      <td>NaN</td>\n      <td>NaN</td>\n      <td>NaN</td>\n      <td>NaN</td>\n      <td>...</td>\n      <td>NaN</td>\n      <td>NaN</td>\n      <td>NaN</td>\n      <td>NaN</td>\n      <td>NaN</td>\n      <td>NaN</td>\n      <td>NaN</td>\n      <td>NaN</td>\n      <td>NaN</td>\n      <td>NaN</td>\n    </tr>\n    <tr>\n      <th>5</th>\n      <td>40762</td>\n      <td>Alsophila baileyana</td>\n      <td>Least concern</td>\n      <td>NaN</td>\n      <td>NaN</td>\n      <td>NaN</td>\n      <td>NaN</td>\n      <td>NaN</td>\n      <td>NaN</td>\n      <td>NaN</td>\n      <td>...</td>\n      <td>NaN</td>\n      <td>NaN</td>\n      <td>NaN</td>\n      <td>NaN</td>\n      <td>NaN</td>\n      <td>NaN</td>\n      <td>NaN</td>\n      <td>NaN</td>\n      <td>NaN</td>\n      <td>NaN</td>\n    </tr>\n    <tr>\n      <th>7</th>\n      <td>41582</td>\n      <td>Alsophila exilis</td>\n      <td>Endangered</td>\n      <td>NaN</td>\n      <td>NaN</td>\n      <td>NaN</td>\n      <td>NaN</td>\n      <td>NaN</td>\n      <td>NaN</td>\n      <td>NaN</td>\n      <td>...</td>\n      <td>NaN</td>\n      <td>NaN</td>\n      <td>NaN</td>\n      <td>NaN</td>\n      <td>NaN</td>\n      <td>NaN</td>\n      <td>NaN</td>\n      <td>NaN</td>\n      <td>NaN</td>\n      <td>NaN</td>\n    </tr>\n    <tr>\n      <th>21</th>\n      <td>30917</td>\n      <td>Aponogeton cuneatus</td>\n      <td>Special least concern</td>\n      <td>NaN</td>\n      <td>NaN</td>\n      <td>NaN</td>\n      <td>NaN</td>\n      <td>NaN</td>\n      <td>NaN</td>\n      <td>NaN</td>\n      <td>...</td>\n      <td>NaN</td>\n      <td>NaN</td>\n      <td>NaN</td>\n      <td>NaN</td>\n      <td>NaN</td>\n      <td>NaN</td>\n      <td>NaN</td>\n      <td>NaN</td>\n      <td>NaN</td>\n      <td>NaN</td>\n    </tr>\n    <tr>\n      <th>22</th>\n      <td>21902</td>\n      <td>Aponogeton elongatus elongatus</td>\n      <td>Near Threatened</td>\n      <td>NaN</td>\n      <td>NaN</td>\n      <td>NaN</td>\n      <td>NaN</td>\n      <td>NaN</td>\n      <td>NaN</td>\n      <td>NaN</td>\n      <td>...</td>\n      <td>NaN</td>\n      <td>NaN</td>\n      <td>NaN</td>\n      <td>NaN</td>\n      <td>NaN</td>\n      <td>NaN</td>\n      <td>NaN</td>\n      <td>NaN</td>\n      <td>NaN</td>\n      <td>NaN</td>\n    </tr>\n    <tr>\n      <th>...</th>\n      <td>...</td>\n      <td>...</td>\n      <td>...</td>\n      <td>...</td>\n      <td>...</td>\n      <td>...</td>\n      <td>...</td>\n      <td>...</td>\n      <td>...</td>\n      <td>...</td>\n      <td>...</td>\n      <td>...</td>\n      <td>...</td>\n      <td>...</td>\n      <td>...</td>\n      <td>...</td>\n      <td>...</td>\n      <td>...</td>\n      <td>...</td>\n      <td>...</td>\n      <td>...</td>\n    </tr>\n    <tr>\n      <th>529</th>\n      <td>11357</td>\n      <td>Trichoglottis australiensis</td>\n      <td>Vulnerable</td>\n      <td>NaN</td>\n      <td>NaN</td>\n      <td>NaN</td>\n      <td>NaN</td>\n      <td>NaN</td>\n      <td>NaN</td>\n      <td>NaN</td>\n      <td>...</td>\n      <td>NaN</td>\n      <td>NaN</td>\n      <td>NaN</td>\n      <td>NaN</td>\n      <td>NaN</td>\n      <td>NaN</td>\n      <td>NaN</td>\n      <td>NaN</td>\n      <td>NaN</td>\n      <td>NaN</td>\n    </tr>\n    <tr>\n      <th>531</th>\n      <td>40770</td>\n      <td>Vanda whiteana</td>\n      <td>Least concern</td>\n      <td>NaN</td>\n      <td>NaN</td>\n      <td>NaN</td>\n      <td>NaN</td>\n      <td>NaN</td>\n      <td>NaN</td>\n      <td>NaN</td>\n      <td>...</td>\n      <td>NaN</td>\n      <td>NaN</td>\n      <td>NaN</td>\n      <td>NaN</td>\n      <td>NaN</td>\n      <td>NaN</td>\n      <td>NaN</td>\n      <td>NaN</td>\n      <td>NaN</td>\n      <td>NaN</td>\n    </tr>\n    <tr>\n      <th>533</th>\n      <td>30794</td>\n      <td>Vrydagzynea grayi</td>\n      <td>Endangered</td>\n      <td>NaN</td>\n      <td>NaN</td>\n      <td>NaN</td>\n      <td>NaN</td>\n      <td>NaN</td>\n      <td>NaN</td>\n      <td>NaN</td>\n      <td>...</td>\n      <td>NaN</td>\n      <td>NaN</td>\n      <td>NaN</td>\n      <td>NaN</td>\n      <td>NaN</td>\n      <td>NaN</td>\n      <td>NaN</td>\n      <td>NaN</td>\n      <td>NaN</td>\n      <td>NaN</td>\n    </tr>\n    <tr>\n      <th>534</th>\n      <td>22659</td>\n      <td>Wollumbinia belli</td>\n      <td>Vulnerable</td>\n      <td>NaN</td>\n      <td>NaN</td>\n      <td>NaN</td>\n      <td>NaN</td>\n      <td>NaN</td>\n      <td>NaN</td>\n      <td>NaN</td>\n      <td>...</td>\n      <td>NaN</td>\n      <td>NaN</td>\n      <td>NaN</td>\n      <td>NaN</td>\n      <td>NaN</td>\n      <td>NaN</td>\n      <td>NaN</td>\n      <td>NaN</td>\n      <td>NaN</td>\n      <td>NaN</td>\n    </tr>\n    <tr>\n      <th>536</th>\n      <td>40091</td>\n      <td>Zeuxine attenuata</td>\n      <td>Least concern</td>\n      <td>NaN</td>\n      <td>NaN</td>\n      <td>NaN</td>\n      <td>NaN</td>\n      <td>NaN</td>\n      <td>NaN</td>\n      <td>NaN</td>\n      <td>...</td>\n      <td>NaN</td>\n      <td>NaN</td>\n      <td>NaN</td>\n      <td>NaN</td>\n      <td>NaN</td>\n      <td>NaN</td>\n      <td>NaN</td>\n      <td>NaN</td>\n      <td>NaN</td>\n      <td>NaN</td>\n    </tr>\n  </tbody>\n</table>\n<p>259 rows × 23 columns</p>\n</div>"
     },
     "execution_count": 10,
     "metadata": {},
     "output_type": "execute_result"
    }
   ],
   "source": [
    "# what didnt match?\n",
    "unknownToInat = additions[additions['taxonID_y'].isna()]\n",
    "unknownToInat"
   ],
   "metadata": {
    "collapsed": false,
    "pycharm": {
     "name": "#%%\n"
    }
   }
  },
  {
   "cell_type": "code",
   "execution_count": 26,
   "outputs": [
    {
     "data": {
      "text/plain": "status\nCritically Endangered     35\nEndangered                78\nExtinct in the wild        7\nLeast concern            143\nNear Threatened           63\nSpecial least concern    361\nVulnerable               139\nName: status, dtype: int64"
     },
     "execution_count": 26,
     "metadata": {},
     "output_type": "execute_result"
    }
   ],
   "source": [
    "iucn_statuses = {'Not Evaluated', 'Data Deficient', 'Least Concern', 'Near Threatened', 'Vulnerable', 'Endangered', 'Critically Endangered', 'Extinct in the Wild' and 'Extinct'}\n",
    "qldsensitive.groupby(['status'])['status'].count()"
   ],
   "metadata": {
    "collapsed": false,
    "pycharm": {
     "name": "#%%\n"
    }
   }
  },
  {
   "cell_type": "code",
   "execution_count": 59,
   "outputs": [
    {
     "name": "stdout",
     "output_type": "stream",
     "text": [
      " speCial least concERn maps to : Least Concern\n"
     ]
    }
   ],
   "source": [
    "def map_to_iucn_status(status):\n",
    "    if pd.isna(status):\n",
    "        status = \"Confidential\"\n",
    "    status = status.lower().strip()\n",
    "    return {\n",
    "        'critically endangered': 'Critically Endangered',\n",
    "        'vulnerable':'Vulnerable',\n",
    "        'not evaluated':'Not Evaluated',\n",
    "        'data deficient':'Data Deficient',\n",
    "        'least concern':'Least Concern',\n",
    "        'special least concern':'Least Concern',\n",
    "        'near threatened':'Near Threatened',\n",
    "        'endangered':'Endangered',\n",
    "        'extinct in the wild':'Extinct in the Wild',\n",
    "        'extinct':'Extinct'\n",
    "    }.get(status,'Confidential')\n",
    "\n",
    "sample = ' speCial least concERn'\n",
    "print(sample + \" maps to : \" + map_to_iucn_status(sample))\n",
    "\n",
    "\n",
    "iucnStatusMappings = {\n",
    "    'critically endangered': 'Critically Endangered',\n",
    "    'vulnerable':'Vulnerable',\n",
    "    'not evaluated':'Not Evaluated',\n",
    "    'data deficient':'Data Deficient',\n",
    "    'least concern':'Least Concern',\n",
    "    'special least concern':'Least Concern',\n",
    "    'near threatened':'Near Threatened',\n",
    "    'endangered':'Endangered',\n",
    "    'extinct in the wild':'Extinct in the Wild',\n",
    "    'extinct':'Extinct'\n",
    "}\n"
   ],
   "metadata": {
    "collapsed": false,
    "pycharm": {
     "name": "#%%\n"
    }
   }
  },
  {
   "cell_type": "code",
   "execution_count": 23,
   "outputs": [
    {
     "data": {
      "text/plain": "place_id  place_name             place_display_name           \n                                                                    5\n144315    Brisbane City          Brisbane City                      2\n153119    South East Queensland  South East Queensland, QL, AU      1\n18870     Cairns - Pt B          Cairns - Pt B, QL, AU              1\n19232     Yarrabah               Yarrabah, QL, AU                   1\n6744      Australia              Australia                         12\n7308      Queensland             Queensland, AU                   631\nName: place_id, dtype: int64"
     },
     "execution_count": 23,
     "metadata": {},
     "output_type": "execute_result"
    }
   ],
   "source": [
    "#qldplaces = qldstatuses[['place_id','place_name','place_display_name']].drop_duplicates().sort_values(by='place_display_name')\n",
    "#qldplaces\n",
    "qldstatuses.groupby(['place_id','place_name','place_display_name'])['place_id'].count()"
   ],
   "metadata": {
    "collapsed": false,
    "pycharm": {
     "name": "#%%\n"
    }
   }
  },
  {
   "cell_type": "code",
   "execution_count": 63,
   "outputs": [
    {
     "ename": "ValueError",
     "evalue": "The truth value of a Series is ambiguous. Use a.empty, a.bool(), a.item(), a.any() or a.all().",
     "output_type": "error",
     "traceback": [
      "\u001B[0;31m---------------------------------------------------------------------------\u001B[0m",
      "\u001B[0;31mValueError\u001B[0m                                Traceback (most recent call last)",
      "Input \u001B[0;32mIn [63]\u001B[0m, in \u001B[0;36m<cell line: 17>\u001B[0;34m()\u001B[0m\n\u001B[1;32m     15\u001B[0m additionsexport[\u001B[38;5;124m'\u001B[39m\u001B[38;5;124miNaturalist_Place_ID\u001B[39m\u001B[38;5;124m'\u001B[39m] \u001B[38;5;241m=\u001B[39m \u001B[38;5;124m'\u001B[39m\u001B[38;5;124m7308\u001B[39m\u001B[38;5;124m'\u001B[39m  \u001B[38;5;66;03m# Queensland, AU\u001B[39;00m\n\u001B[1;32m     16\u001B[0m additionsexport[\u001B[38;5;124m'\u001B[39m\u001B[38;5;124mUsername\u001B[39m\u001B[38;5;124m'\u001B[39m] \u001B[38;5;241m=\u001B[39m \u001B[38;5;124m'\u001B[39m\u001B[38;5;124mpeggydnew\u001B[39m\u001B[38;5;124m'\u001B[39m\n\u001B[0;32m---> 17\u001B[0m additionsexport[\u001B[38;5;124m'\u001B[39m\u001B[38;5;124mIUCN_equivalent\u001B[39m\u001B[38;5;124m'\u001B[39m] \u001B[38;5;241m=\u001B[39m \u001B[43mmap_to_iucn_status\u001B[49m\u001B[43m(\u001B[49m\u001B[43madditionsexport\u001B[49m\u001B[43m[\u001B[49m\u001B[38;5;124;43m'\u001B[39;49m\u001B[38;5;124;43mStatus\u001B[39;49m\u001B[38;5;124;43m'\u001B[39;49m\u001B[43m]\u001B[49m\u001B[43m)\u001B[49m \u001B[38;5;66;03m# not working\u001B[39;00m\n\u001B[1;32m     18\u001B[0m additionsexport\n",
      "Input \u001B[0;32mIn [59]\u001B[0m, in \u001B[0;36mmap_to_iucn_status\u001B[0;34m(status)\u001B[0m\n\u001B[1;32m      1\u001B[0m \u001B[38;5;28;01mdef\u001B[39;00m \u001B[38;5;21mmap_to_iucn_status\u001B[39m(status):\n\u001B[0;32m----> 2\u001B[0m     \u001B[38;5;28;01mif\u001B[39;00m pd\u001B[38;5;241m.\u001B[39misna(status):\n\u001B[1;32m      3\u001B[0m         status \u001B[38;5;241m=\u001B[39m \u001B[38;5;124m\"\u001B[39m\u001B[38;5;124mConfidential\u001B[39m\u001B[38;5;124m\"\u001B[39m\n\u001B[1;32m      4\u001B[0m     status \u001B[38;5;241m=\u001B[39m status\u001B[38;5;241m.\u001B[39mlower()\u001B[38;5;241m.\u001B[39mstrip()\n",
      "File \u001B[0;32m/Library/Frameworks/Python.framework/Versions/3.9/lib/python3.9/site-packages/pandas/core/generic.py:1527\u001B[0m, in \u001B[0;36mNDFrame.__nonzero__\u001B[0;34m(self)\u001B[0m\n\u001B[1;32m   1525\u001B[0m \u001B[38;5;129m@final\u001B[39m\n\u001B[1;32m   1526\u001B[0m \u001B[38;5;28;01mdef\u001B[39;00m \u001B[38;5;21m__nonzero__\u001B[39m(\u001B[38;5;28mself\u001B[39m):\n\u001B[0;32m-> 1527\u001B[0m     \u001B[38;5;28;01mraise\u001B[39;00m \u001B[38;5;167;01mValueError\u001B[39;00m(\n\u001B[1;32m   1528\u001B[0m         \u001B[38;5;124mf\u001B[39m\u001B[38;5;124m\"\u001B[39m\u001B[38;5;124mThe truth value of a \u001B[39m\u001B[38;5;132;01m{\u001B[39;00m\u001B[38;5;28mtype\u001B[39m(\u001B[38;5;28mself\u001B[39m)\u001B[38;5;241m.\u001B[39m\u001B[38;5;18m__name__\u001B[39m\u001B[38;5;132;01m}\u001B[39;00m\u001B[38;5;124m is ambiguous. \u001B[39m\u001B[38;5;124m\"\u001B[39m\n\u001B[1;32m   1529\u001B[0m         \u001B[38;5;124m\"\u001B[39m\u001B[38;5;124mUse a.empty, a.bool(), a.item(), a.any() or a.all().\u001B[39m\u001B[38;5;124m\"\u001B[39m\n\u001B[1;32m   1530\u001B[0m     )\n",
      "\u001B[0;31mValueError\u001B[0m: The truth value of a Series is ambiguous. Use a.empty, a.bool(), a.item(), a.any() or a.all()."
     ]
    }
   ],
   "source": [
    "# Taxon_Name,Status,Authority,IUCN_equivalent,Description,iNaturalist_Place_ID,url,Taxon_Geoprivacy,Username,taxon_id\n",
    "additionsexport = additions[additions['taxonID_y'].notna()]\n",
    "additionsexport = additionsexport.rename(columns={'scientificName':'Taxon_Name',\n",
    "                                                  'status_x':'Status',\n",
    "                                                  'id_y':'taxon_id',\n",
    "                                                  'authority':'Authority',\n",
    "                                                  'geoprivacy':'Taxon_Geoprivacy',\n",
    "                                                  'taxonID_x':'wildnetID'})\n",
    "additionsexport = additionsexport[['Taxon_Name','Status','Authority','Taxon_Geoprivacy','taxon_id','wildnetID']]\n",
    "additionsexport['Authority'] = \"Qld Department of Environment and Science\"\n",
    "\n",
    "additionsexport['Description'] = \"Listed as Confidential - refer to https://www.data.qld.gov.au/dataset/queensland-confidential-species\"\n",
    "additionsexport['url'] = \"https://apps.des.qld.gov.au/species-search/details/?id=\" + additionsexport['wildnetID'].astype(str)\n",
    "additionsexport['Taxon_Geoprivacy'] = \"obscured\"\n",
    "additionsexport['iNaturalist_Place_ID'] = '7308'  # Queensland, AU\n",
    "additionsexport['Username'] = 'peggydnew'\n",
    "additionsexport['IUCN_equivalent'] = map_to_iucn_status(additionsexport['Status']) # not working\n",
    "additionsexport"
   ],
   "metadata": {
    "collapsed": false,
    "pycharm": {
     "name": "#%%\n"
    }
   }
  },
  {
   "cell_type": "code",
   "execution_count": 64,
   "outputs": [],
   "source": [
    "additionsexport.to_csv(sourcedir + \"qld-add.csv\",index=False)"
   ],
   "metadata": {
    "collapsed": false,
    "pycharm": {
     "name": "#%%\n"
    }
   }
  }
 ],
 "metadata": {
  "kernelspec": {
   "display_name": "Python 3",
   "language": "python",
   "name": "python3"
  },
  "language_info": {
   "codemirror_mode": {
    "name": "ipython",
    "version": 2
   },
   "file_extension": ".py",
   "mimetype": "text/x-python",
   "name": "python",
   "nbconvert_exporter": "python",
   "pygments_lexer": "ipython2",
   "version": "2.7.6"
  }
 },
 "nbformat": 4,
 "nbformat_minor": 0
}