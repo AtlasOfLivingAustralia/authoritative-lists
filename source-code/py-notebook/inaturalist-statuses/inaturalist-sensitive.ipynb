{
 "cells": [
  {
   "cell_type": "markdown",
   "source": [
    "# iNaturalist sensitive lists\n",
    "Taxa in iNaturalist have conservation statuses that the ALA is responsible for maintaining. The process for bulk loads is to submit the data to iNaturalist in December/January using provided templates and checklists:\n",
    "\n",
    "https://docs.google.com/spreadsheets/d/1yTwWh4d-lHeaBGCB9m70-HKEMtvrquHsPu3Zrgz9BcE/edit#gid=1531097917\n",
    "\n",
    "Current statuses per iNaturalist taxonID are available in the iNaturalist site export, accessible via an iNaturalist AU site admin and in this repository (inaturalist-australia-9-conservation_statuses.xls)\n",
    "\n",
    "### Suggested approach:\n",
    "\n",
    "To update the statuses (eg for Qld), we need to:\n",
    "1. Find the taxon name for each iNaturalist taxonID in an Australian place. We'll need to match the lists by taxon name.\n",
    "2. We need to find:\n",
    "    * New - those on the Qld list that are not on the iNat list (the list I uploaded before had authority: `QLD DEHP` and my user id is 708886).\n",
    "    * Update - those on the Qld list that need updating (probably most because I feel we should change the authority text and try to link out to the wildnet page for each taxonID)\n",
    "    * Remove - I expect there will be a few of these"
   ],
   "metadata": {
    "collapsed": false,
    "pycharm": {
     "name": "#%% md\n"
    }
   }
  },
  {
   "cell_type": "markdown",
   "source": [],
   "metadata": {
    "collapsed": false,
    "pycharm": {
     "name": "#%% md\n"
    }
   }
  },
  {
   "cell_type": "code",
   "execution_count": 51,
   "outputs": [],
   "source": [
    "import pandas as pd\n",
    "import requests\n",
    "import json\n",
    "projectdir = \"/Users/oco115/PycharmProjects/authoritative-lists/source-data/inaturalist-statuses/\"\n",
    "listdir = \"/Users/oco115/PycharmProjects/authoritative-lists/current-lists/\"\n",
    "inatcsv = projectdir + \"inaturalist-australia-9-conservation_statuses.csv\"\n",
    "joincsv = projectdir + \"inaturalist-qld-outer-join.csv\"\n",
    "usercsv = projectdir + \"inaturalist-qld-user-708886.csv\"\n",
    "apiurlbase = \"https://api.inaturalist.org/v1/taxa/\"\n",
    "\n",
    "# matchtaxoncsv = projectdir + \"/inaturalist-qld-match.csv\"\n",
    "# newtaxoncsv = projectdir + \"inaturalist-qld-newtaxon.csv\""
   ],
   "metadata": {
    "collapsed": false,
    "pycharm": {
     "name": "#%%\n"
    }
   }
  },
  {
   "cell_type": "code",
   "execution_count": null,
   "outputs": [],
   "source": [
    "## Read inaturalist conservation statuses file\n",
    "df = pd.read_csv(inatcsv, encoding='UTF-8')"
   ],
   "metadata": {
    "collapsed": false,
    "pycharm": {
     "name": "#%%\n"
    }
   }
  },
  {
   "cell_type": "markdown",
   "source": [
    "### Extract unique authorities for each state\n",
    " * find unique authorities\n",
    " * manually determine lists for each state"
   ],
   "metadata": {
    "collapsed": false,
    "pycharm": {
     "name": "#%% md\n"
    }
   }
  },
  {
   "cell_type": "code",
   "execution_count": null,
   "outputs": [],
   "source": [
    "authlist = df['authority'].unique().tolist()\n",
    "# print(authlist)\n",
    "qldauths = ['QLD DEHP', 'Queensland Government', 'Queensland Nature Conservation Act 1992']\n",
    "# nswlocs = ['NSW Office of Environment & Heritage']\n",
    "# actlocs = ['ACT Government']\n",
    "# viclocs = ['VIC Government' 'Victoria Flora and Fauna Guarantee Act 1988', 'Victoria Flora and Fauna Guarantee Act 1988 ']\n",
    "# salocs = ['SA DEWNR']\n",
    "# walocs = ['WA Department of Environment and Convservation']\n",
    "# ntlocs = ['NT NRETAS']"
   ],
   "metadata": {
    "collapsed": false,
    "pycharm": {
     "name": "#%%\n"
    }
   }
  },
  {
   "cell_type": "markdown",
   "source": [
    "### Retrieve all Australian records\n",
    "\n",
    " Records are not consistent in place names/locality so we need to:\n",
    "1. extract records with place_display_name containing 'Australia' or 'AU'\n",
    "2. extract records manually identified with place_display_name in the list of other place names in australia that are present\n",
    "3. Merge the 2 extracts - this will result in duplicates that need to be removed"
   ],
   "metadata": {
    "collapsed": false,
    "pycharm": {
     "name": "#%% md\n"
    }
   }
  },
  {
   "cell_type": "code",
   "execution_count": 3,
   "outputs": [],
   "source": [
    "# Identified Australian place names\n",
    "filterlistaus = ['Australia', 'Australia Exclusive Economic Zone', 'Australian Capital Territory, AU', 'Brisbane City, Cairns - Pt B, QL, AU', 'Christmas Island', 'New South Wales, AU', 'Norfolk Island', 'Norfolk Island (Phillip Island)', 'Northern Territory, AU', 'Rottnest Island, AU', 'South Australia, AU', 'South Australia, marine waters', 'South East Queensland, QL, AU', 'Tasmania, AU', 'Victoria, AU', 'Western Australia, AU', 'Yarrabah, QL, AU', 'Queensland, AU']\n",
    "filterlistqld = ['Brisbane City, Cairns - Pt B, QL, AU', 'South East Queensland, QL, AU', 'Yarrabah, QL, AU', 'Queensland, AU']"
   ],
   "metadata": {
    "collapsed": false,
    "pycharm": {
     "name": "#%%\n"
    }
   }
  },
  {
   "cell_type": "code",
   "execution_count": 8,
   "outputs": [],
   "source": [
    "dfaus = df.apply(lambda row: row[df['place_display_name'].isin(filterlistaus)])  # All Australia\n",
    "dfqld = df.apply(lambda row: row[df['place_display_name'].isin(filterlistqld)])  # Qld only\n"
   ],
   "metadata": {
    "collapsed": false,
    "pycharm": {
     "name": "#%%\n"
    }
   }
  },
  {
   "cell_type": "code",
   "execution_count": 5,
   "outputs": [
    {
     "data": {
      "text/plain": "            id   taxon_id    user_id  place_id  source_id  \\\n248     166449    38493.0  1138587.0    7830.0        NaN   \n352     234788   918383.0   702203.0    9994.0        NaN   \n381     234789   918383.0   702203.0    7308.0        NaN   \n457     166416  1033183.0  3669610.0    6825.0        NaN   \n458     180721  1247288.0   222137.0    6825.0        NaN   \n...        ...        ...        ...       ...        ...   \n253417  268967   370476.0  3669610.0    7308.0        NaN   \n253418  268968   370476.0  3669610.0    6825.0        NaN   \n253437  268871   960479.0  1138587.0    6744.0        NaN   \n253450  268880  1429513.0   708886.0    7308.0    16653.0   \n253459  268885  1429643.0  1138587.0    6744.0        NaN   \n\n                                                authority      status  \\\n248                    Flora and Fauna Guarantee Act 1988          CR   \n352                             Atlas of Living Australia         NT    \n381                             Atlas of Living Australia          LC   \n457                  NSW Office of Environment & Heritage          EN   \n458           NSW Threatened Species Scientific Committee          vu   \n...                                                   ...         ...   \n253417            Queensland Nature Conservation Act 1992          VU   \n253418  New South Wales Office of Environment and Heri...          VU   \n253437  Environment Protection and Biodiversity Conser...          EN   \n253450                                           QLD DEHP  endangered   \n253459  Environmental Protection and Biodiversity Cons...          EN   \n\n                                                      url description  \\\n248                                                   NaN         NaN   \n352     https://bie.ala.org.au/species/https://id.biod...         NaN   \n381     https://bie.ala.org.au/species/https://id.biod...         NaN   \n457     https://www.environment.nsw.gov.au/threateneds...         NaN   \n458     https://www.environment.nsw.gov.au/topics/anim...         NaN   \n...                                                   ...         ...   \n253417  https://apps.des.qld.gov.au/species-search/det...         NaN   \n253418  https://www.environment.nsw.gov.au/threateneds...         NaN   \n253437  http://www.environment.gov.au/cgi-bin/sprat/pu...         NaN   \n253450  https://data.qld.gov.au/dataset/conservation-s...         NaN   \n253459  https://www.environment.gov.au/cgi-bin/sprat/p...         NaN   \n\n       geoprivacy  iucn                  created_at  \\\n248      obscured    50  2021-03-01 10:35:01.317401   \n352           NaN    20  2022-01-08 03:30:36.078473   \n381           NaN    10  2022-01-08 03:30:36.143044   \n457      obscured    40   2021-02-22 07:22:28.46345   \n458      obscured    30  2021-08-27 06:18:35.700055   \n...           ...   ...                         ...   \n253417       open    30  2022-12-01 01:29:17.802611   \n253418       open    30  2022-12-01 01:30:38.793061   \n253437   obscured    40  2022-11-25 09:34:42.314303   \n253450   obscured    40  2022-11-27 06:12:40.930242   \n253459   obscured    40  2022-11-28 09:02:58.854616   \n\n                        updated_at          place_name      place_display_name  \n248     2021-03-01 10:35:01.317401            Victoria            Victoria, AU  \n352     2022-01-08 03:30:36.078473  Northern Territory  Northern Territory, AU  \n381     2022-01-08 03:30:36.143044          Queensland          Queensland, AU  \n457     2021-02-22 07:23:11.418318     New South Wales     New South Wales, AU  \n458     2021-08-27 06:18:35.700055     New South Wales     New South Wales, AU  \n...                            ...                 ...                     ...  \n253417  2022-12-01 01:29:17.802611          Queensland          Queensland, AU  \n253418  2022-12-01 01:30:38.793061     New South Wales     New South Wales, AU  \n253437  2022-11-25 09:34:42.314303           Australia               Australia  \n253450  2022-11-27 06:12:40.930242          Queensland          Queensland, AU  \n253459  2022-11-28 09:02:58.854616           Australia               Australia  \n\n[3437 rows x 15 columns]",
      "text/html": "<div>\n<style scoped>\n    .dataframe tbody tr th:only-of-type {\n        vertical-align: middle;\n    }\n\n    .dataframe tbody tr th {\n        vertical-align: top;\n    }\n\n    .dataframe thead th {\n        text-align: right;\n    }\n</style>\n<table border=\"1\" class=\"dataframe\">\n  <thead>\n    <tr style=\"text-align: right;\">\n      <th></th>\n      <th>id</th>\n      <th>taxon_id</th>\n      <th>user_id</th>\n      <th>place_id</th>\n      <th>source_id</th>\n      <th>authority</th>\n      <th>status</th>\n      <th>url</th>\n      <th>description</th>\n      <th>geoprivacy</th>\n      <th>iucn</th>\n      <th>created_at</th>\n      <th>updated_at</th>\n      <th>place_name</th>\n      <th>place_display_name</th>\n    </tr>\n  </thead>\n  <tbody>\n    <tr>\n      <th>248</th>\n      <td>166449</td>\n      <td>38493.0</td>\n      <td>1138587.0</td>\n      <td>7830.0</td>\n      <td>NaN</td>\n      <td>Flora and Fauna Guarantee Act 1988</td>\n      <td>CR</td>\n      <td>NaN</td>\n      <td>NaN</td>\n      <td>obscured</td>\n      <td>50</td>\n      <td>2021-03-01 10:35:01.317401</td>\n      <td>2021-03-01 10:35:01.317401</td>\n      <td>Victoria</td>\n      <td>Victoria, AU</td>\n    </tr>\n    <tr>\n      <th>352</th>\n      <td>234788</td>\n      <td>918383.0</td>\n      <td>702203.0</td>\n      <td>9994.0</td>\n      <td>NaN</td>\n      <td>Atlas of Living Australia</td>\n      <td>NT</td>\n      <td>https://bie.ala.org.au/species/https://id.biod...</td>\n      <td>NaN</td>\n      <td>NaN</td>\n      <td>20</td>\n      <td>2022-01-08 03:30:36.078473</td>\n      <td>2022-01-08 03:30:36.078473</td>\n      <td>Northern Territory</td>\n      <td>Northern Territory, AU</td>\n    </tr>\n    <tr>\n      <th>381</th>\n      <td>234789</td>\n      <td>918383.0</td>\n      <td>702203.0</td>\n      <td>7308.0</td>\n      <td>NaN</td>\n      <td>Atlas of Living Australia</td>\n      <td>LC</td>\n      <td>https://bie.ala.org.au/species/https://id.biod...</td>\n      <td>NaN</td>\n      <td>NaN</td>\n      <td>10</td>\n      <td>2022-01-08 03:30:36.143044</td>\n      <td>2022-01-08 03:30:36.143044</td>\n      <td>Queensland</td>\n      <td>Queensland, AU</td>\n    </tr>\n    <tr>\n      <th>457</th>\n      <td>166416</td>\n      <td>1033183.0</td>\n      <td>3669610.0</td>\n      <td>6825.0</td>\n      <td>NaN</td>\n      <td>NSW Office of Environment &amp; Heritage</td>\n      <td>EN</td>\n      <td>https://www.environment.nsw.gov.au/threateneds...</td>\n      <td>NaN</td>\n      <td>obscured</td>\n      <td>40</td>\n      <td>2021-02-22 07:22:28.46345</td>\n      <td>2021-02-22 07:23:11.418318</td>\n      <td>New South Wales</td>\n      <td>New South Wales, AU</td>\n    </tr>\n    <tr>\n      <th>458</th>\n      <td>180721</td>\n      <td>1247288.0</td>\n      <td>222137.0</td>\n      <td>6825.0</td>\n      <td>NaN</td>\n      <td>NSW Threatened Species Scientific Committee</td>\n      <td>vu</td>\n      <td>https://www.environment.nsw.gov.au/topics/anim...</td>\n      <td>NaN</td>\n      <td>obscured</td>\n      <td>30</td>\n      <td>2021-08-27 06:18:35.700055</td>\n      <td>2021-08-27 06:18:35.700055</td>\n      <td>New South Wales</td>\n      <td>New South Wales, AU</td>\n    </tr>\n    <tr>\n      <th>...</th>\n      <td>...</td>\n      <td>...</td>\n      <td>...</td>\n      <td>...</td>\n      <td>...</td>\n      <td>...</td>\n      <td>...</td>\n      <td>...</td>\n      <td>...</td>\n      <td>...</td>\n      <td>...</td>\n      <td>...</td>\n      <td>...</td>\n      <td>...</td>\n      <td>...</td>\n    </tr>\n    <tr>\n      <th>253417</th>\n      <td>268967</td>\n      <td>370476.0</td>\n      <td>3669610.0</td>\n      <td>7308.0</td>\n      <td>NaN</td>\n      <td>Queensland Nature Conservation Act 1992</td>\n      <td>VU</td>\n      <td>https://apps.des.qld.gov.au/species-search/det...</td>\n      <td>NaN</td>\n      <td>open</td>\n      <td>30</td>\n      <td>2022-12-01 01:29:17.802611</td>\n      <td>2022-12-01 01:29:17.802611</td>\n      <td>Queensland</td>\n      <td>Queensland, AU</td>\n    </tr>\n    <tr>\n      <th>253418</th>\n      <td>268968</td>\n      <td>370476.0</td>\n      <td>3669610.0</td>\n      <td>6825.0</td>\n      <td>NaN</td>\n      <td>New South Wales Office of Environment and Heri...</td>\n      <td>VU</td>\n      <td>https://www.environment.nsw.gov.au/threateneds...</td>\n      <td>NaN</td>\n      <td>open</td>\n      <td>30</td>\n      <td>2022-12-01 01:30:38.793061</td>\n      <td>2022-12-01 01:30:38.793061</td>\n      <td>New South Wales</td>\n      <td>New South Wales, AU</td>\n    </tr>\n    <tr>\n      <th>253437</th>\n      <td>268871</td>\n      <td>960479.0</td>\n      <td>1138587.0</td>\n      <td>6744.0</td>\n      <td>NaN</td>\n      <td>Environment Protection and Biodiversity Conser...</td>\n      <td>EN</td>\n      <td>http://www.environment.gov.au/cgi-bin/sprat/pu...</td>\n      <td>NaN</td>\n      <td>obscured</td>\n      <td>40</td>\n      <td>2022-11-25 09:34:42.314303</td>\n      <td>2022-11-25 09:34:42.314303</td>\n      <td>Australia</td>\n      <td>Australia</td>\n    </tr>\n    <tr>\n      <th>253450</th>\n      <td>268880</td>\n      <td>1429513.0</td>\n      <td>708886.0</td>\n      <td>7308.0</td>\n      <td>16653.0</td>\n      <td>QLD DEHP</td>\n      <td>endangered</td>\n      <td>https://data.qld.gov.au/dataset/conservation-s...</td>\n      <td>NaN</td>\n      <td>obscured</td>\n      <td>40</td>\n      <td>2022-11-27 06:12:40.930242</td>\n      <td>2022-11-27 06:12:40.930242</td>\n      <td>Queensland</td>\n      <td>Queensland, AU</td>\n    </tr>\n    <tr>\n      <th>253459</th>\n      <td>268885</td>\n      <td>1429643.0</td>\n      <td>1138587.0</td>\n      <td>6744.0</td>\n      <td>NaN</td>\n      <td>Environmental Protection and Biodiversity Cons...</td>\n      <td>EN</td>\n      <td>https://www.environment.gov.au/cgi-bin/sprat/p...</td>\n      <td>NaN</td>\n      <td>obscured</td>\n      <td>40</td>\n      <td>2022-11-28 09:02:58.854616</td>\n      <td>2022-11-28 09:02:58.854616</td>\n      <td>Australia</td>\n      <td>Australia</td>\n    </tr>\n  </tbody>\n</table>\n<p>3437 rows × 15 columns</p>\n</div>"
     },
     "execution_count": 5,
     "metadata": {},
     "output_type": "execute_result"
    }
   ],
   "source": [
    "dfaus"
   ],
   "metadata": {
    "collapsed": false,
    "pycharm": {
     "name": "#%%\n"
    }
   }
  },
  {
   "cell_type": "code",
   "execution_count": 9,
   "outputs": [
    {
     "data": {
      "text/plain": "            id   taxon_id    user_id  place_id  source_id  \\\n381     234789   918383.0   702203.0    7308.0        NaN   \n510     223427  1255510.0  3669610.0    7308.0        NaN   \n776     164339   577809.0    58320.0    7308.0        NaN   \n790     180872  1255393.0   702203.0    7308.0        NaN   \n890     169815   334758.0    58320.0    7308.0        NaN   \n...        ...        ...        ...       ...        ...   \n252711  152662   796558.0   708886.0    7308.0    16653.0   \n253258  264341   208164.0  3669610.0    7308.0        NaN   \n253399  152813   321109.0   708886.0    7308.0    16653.0   \n253417  268967   370476.0  3669610.0    7308.0        NaN   \n253450  268880  1429513.0   708886.0    7308.0    16653.0   \n\n                                      authority           status  \\\n381                   Atlas of Living Australia               LC   \n510     Queensland Nature Conservation Act 1992               VU   \n776     Queensland Nature Conservation Act 1992  Near threatened   \n790                   Atlas of Living Australia               NT   \n890     Queensland Nature Conservation Act 1992       Vulnerable   \n...                                         ...              ...   \n252711                                 QLD DEHP       Endangered   \n253258                                      NaN               CR   \n253399                                 QLD DEHP       vulnerable   \n253417  Queensland Nature Conservation Act 1992               VU   \n253450                                 QLD DEHP       endangered   \n\n                                                      url description  \\\n381     https://bie.ala.org.au/species/https://id.biod...         NaN   \n510     https://apps.des.qld.gov.au/species-search/det...         NaN   \n776     https://apps.des.qld.gov.au/species-search/det...         NaN   \n790     https://bie.ala.org.au/species/https://id.biod...         NaN   \n890     https://apps.des.qld.gov.au/species-search/det...         NaN   \n...                                                   ...         ...   \n252711  https://data.qld.gov.au/dataset/conservation-s...         NaN   \n253258  https://apps.des.qld.gov.au/species-search/det...         NaN   \n253399  https://data.qld.gov.au/dataset/conservation-s...         NaN   \n253417  https://apps.des.qld.gov.au/species-search/det...         NaN   \n253450  https://data.qld.gov.au/dataset/conservation-s...         NaN   \n\n       geoprivacy  iucn                  created_at  \\\n381           NaN    10  2022-01-08 03:30:36.143044   \n510           NaN    30  2021-10-18 22:35:58.066769   \n776           NaN    20  2020-11-27 08:28:40.943012   \n790           NaN    20  2021-09-10 01:07:13.003067   \n890           NaN    30  2021-07-07 22:26:12.687826   \n...           ...   ...                         ...   \n252711   obscured    40  2019-07-23 00:08:26.487819   \n253258       open    50  2022-05-22 04:03:22.228283   \n253399   obscured    30  2019-07-23 00:09:03.514996   \n253417       open    30  2022-12-01 01:29:17.802611   \n253450   obscured    40  2022-11-27 06:12:40.930242   \n\n                        updated_at  place_name place_display_name  \n381     2022-01-08 03:30:36.143044  Queensland     Queensland, AU  \n510     2021-10-18 22:35:58.066769  Queensland     Queensland, AU  \n776     2021-03-29 02:05:31.717312  Queensland     Queensland, AU  \n790     2021-09-10 01:07:13.003067  Queensland     Queensland, AU  \n890     2021-07-07 22:26:12.687826  Queensland     Queensland, AU  \n...                            ...         ...                ...  \n252711  2022-06-14 18:46:14.342413  Queensland     Queensland, AU  \n253258  2022-10-25 08:01:36.194252  Queensland     Queensland, AU  \n253399  2022-11-29 18:55:43.920264  Queensland     Queensland, AU  \n253417  2022-12-01 01:29:17.802611  Queensland     Queensland, AU  \n253450  2022-11-27 06:12:40.930242  Queensland     Queensland, AU  \n\n[633 rows x 15 columns]",
      "text/html": "<div>\n<style scoped>\n    .dataframe tbody tr th:only-of-type {\n        vertical-align: middle;\n    }\n\n    .dataframe tbody tr th {\n        vertical-align: top;\n    }\n\n    .dataframe thead th {\n        text-align: right;\n    }\n</style>\n<table border=\"1\" class=\"dataframe\">\n  <thead>\n    <tr style=\"text-align: right;\">\n      <th></th>\n      <th>id</th>\n      <th>taxon_id</th>\n      <th>user_id</th>\n      <th>place_id</th>\n      <th>source_id</th>\n      <th>authority</th>\n      <th>status</th>\n      <th>url</th>\n      <th>description</th>\n      <th>geoprivacy</th>\n      <th>iucn</th>\n      <th>created_at</th>\n      <th>updated_at</th>\n      <th>place_name</th>\n      <th>place_display_name</th>\n    </tr>\n  </thead>\n  <tbody>\n    <tr>\n      <th>381</th>\n      <td>234789</td>\n      <td>918383.0</td>\n      <td>702203.0</td>\n      <td>7308.0</td>\n      <td>NaN</td>\n      <td>Atlas of Living Australia</td>\n      <td>LC</td>\n      <td>https://bie.ala.org.au/species/https://id.biod...</td>\n      <td>NaN</td>\n      <td>NaN</td>\n      <td>10</td>\n      <td>2022-01-08 03:30:36.143044</td>\n      <td>2022-01-08 03:30:36.143044</td>\n      <td>Queensland</td>\n      <td>Queensland, AU</td>\n    </tr>\n    <tr>\n      <th>510</th>\n      <td>223427</td>\n      <td>1255510.0</td>\n      <td>3669610.0</td>\n      <td>7308.0</td>\n      <td>NaN</td>\n      <td>Queensland Nature Conservation Act 1992</td>\n      <td>VU</td>\n      <td>https://apps.des.qld.gov.au/species-search/det...</td>\n      <td>NaN</td>\n      <td>NaN</td>\n      <td>30</td>\n      <td>2021-10-18 22:35:58.066769</td>\n      <td>2021-10-18 22:35:58.066769</td>\n      <td>Queensland</td>\n      <td>Queensland, AU</td>\n    </tr>\n    <tr>\n      <th>776</th>\n      <td>164339</td>\n      <td>577809.0</td>\n      <td>58320.0</td>\n      <td>7308.0</td>\n      <td>NaN</td>\n      <td>Queensland Nature Conservation Act 1992</td>\n      <td>Near threatened</td>\n      <td>https://apps.des.qld.gov.au/species-search/det...</td>\n      <td>NaN</td>\n      <td>NaN</td>\n      <td>20</td>\n      <td>2020-11-27 08:28:40.943012</td>\n      <td>2021-03-29 02:05:31.717312</td>\n      <td>Queensland</td>\n      <td>Queensland, AU</td>\n    </tr>\n    <tr>\n      <th>790</th>\n      <td>180872</td>\n      <td>1255393.0</td>\n      <td>702203.0</td>\n      <td>7308.0</td>\n      <td>NaN</td>\n      <td>Atlas of Living Australia</td>\n      <td>NT</td>\n      <td>https://bie.ala.org.au/species/https://id.biod...</td>\n      <td>NaN</td>\n      <td>NaN</td>\n      <td>20</td>\n      <td>2021-09-10 01:07:13.003067</td>\n      <td>2021-09-10 01:07:13.003067</td>\n      <td>Queensland</td>\n      <td>Queensland, AU</td>\n    </tr>\n    <tr>\n      <th>890</th>\n      <td>169815</td>\n      <td>334758.0</td>\n      <td>58320.0</td>\n      <td>7308.0</td>\n      <td>NaN</td>\n      <td>Queensland Nature Conservation Act 1992</td>\n      <td>Vulnerable</td>\n      <td>https://apps.des.qld.gov.au/species-search/det...</td>\n      <td>NaN</td>\n      <td>NaN</td>\n      <td>30</td>\n      <td>2021-07-07 22:26:12.687826</td>\n      <td>2021-07-07 22:26:12.687826</td>\n      <td>Queensland</td>\n      <td>Queensland, AU</td>\n    </tr>\n    <tr>\n      <th>...</th>\n      <td>...</td>\n      <td>...</td>\n      <td>...</td>\n      <td>...</td>\n      <td>...</td>\n      <td>...</td>\n      <td>...</td>\n      <td>...</td>\n      <td>...</td>\n      <td>...</td>\n      <td>...</td>\n      <td>...</td>\n      <td>...</td>\n      <td>...</td>\n      <td>...</td>\n    </tr>\n    <tr>\n      <th>252711</th>\n      <td>152662</td>\n      <td>796558.0</td>\n      <td>708886.0</td>\n      <td>7308.0</td>\n      <td>16653.0</td>\n      <td>QLD DEHP</td>\n      <td>Endangered</td>\n      <td>https://data.qld.gov.au/dataset/conservation-s...</td>\n      <td>NaN</td>\n      <td>obscured</td>\n      <td>40</td>\n      <td>2019-07-23 00:08:26.487819</td>\n      <td>2022-06-14 18:46:14.342413</td>\n      <td>Queensland</td>\n      <td>Queensland, AU</td>\n    </tr>\n    <tr>\n      <th>253258</th>\n      <td>264341</td>\n      <td>208164.0</td>\n      <td>3669610.0</td>\n      <td>7308.0</td>\n      <td>NaN</td>\n      <td>NaN</td>\n      <td>CR</td>\n      <td>https://apps.des.qld.gov.au/species-search/det...</td>\n      <td>NaN</td>\n      <td>open</td>\n      <td>50</td>\n      <td>2022-05-22 04:03:22.228283</td>\n      <td>2022-10-25 08:01:36.194252</td>\n      <td>Queensland</td>\n      <td>Queensland, AU</td>\n    </tr>\n    <tr>\n      <th>253399</th>\n      <td>152813</td>\n      <td>321109.0</td>\n      <td>708886.0</td>\n      <td>7308.0</td>\n      <td>16653.0</td>\n      <td>QLD DEHP</td>\n      <td>vulnerable</td>\n      <td>https://data.qld.gov.au/dataset/conservation-s...</td>\n      <td>NaN</td>\n      <td>obscured</td>\n      <td>30</td>\n      <td>2019-07-23 00:09:03.514996</td>\n      <td>2022-11-29 18:55:43.920264</td>\n      <td>Queensland</td>\n      <td>Queensland, AU</td>\n    </tr>\n    <tr>\n      <th>253417</th>\n      <td>268967</td>\n      <td>370476.0</td>\n      <td>3669610.0</td>\n      <td>7308.0</td>\n      <td>NaN</td>\n      <td>Queensland Nature Conservation Act 1992</td>\n      <td>VU</td>\n      <td>https://apps.des.qld.gov.au/species-search/det...</td>\n      <td>NaN</td>\n      <td>open</td>\n      <td>30</td>\n      <td>2022-12-01 01:29:17.802611</td>\n      <td>2022-12-01 01:29:17.802611</td>\n      <td>Queensland</td>\n      <td>Queensland, AU</td>\n    </tr>\n    <tr>\n      <th>253450</th>\n      <td>268880</td>\n      <td>1429513.0</td>\n      <td>708886.0</td>\n      <td>7308.0</td>\n      <td>16653.0</td>\n      <td>QLD DEHP</td>\n      <td>endangered</td>\n      <td>https://data.qld.gov.au/dataset/conservation-s...</td>\n      <td>NaN</td>\n      <td>obscured</td>\n      <td>40</td>\n      <td>2022-11-27 06:12:40.930242</td>\n      <td>2022-11-27 06:12:40.930242</td>\n      <td>Queensland</td>\n      <td>Queensland, AU</td>\n    </tr>\n  </tbody>\n</table>\n<p>633 rows × 15 columns</p>\n</div>"
     },
     "execution_count": 9,
     "metadata": {},
     "output_type": "execute_result"
    }
   ],
   "source": [
    "dfqld"
   ],
   "metadata": {
    "collapsed": false,
    "pycharm": {
     "name": "#%%\n"
    }
   }
  },
  {
   "cell_type": "markdown",
   "source": [
    "### Extract records for User 708886 (Peggy)\n"
   ],
   "metadata": {
    "collapsed": false,
    "pycharm": {
     "name": "#%% md\n"
    }
   }
  },
  {
   "cell_type": "code",
   "execution_count": 10,
   "outputs": [
    {
     "name": "stderr",
     "output_type": "stream",
     "text": [
      "C:\\Users\\oco115\\AppData\\Local\\Temp\\ipykernel_21440\\3723513958.py:4: SettingWithCopyWarning: \n",
      "A value is trying to be set on a copy of a slice from a DataFrame.\n",
      "Try using .loc[row_indexer,col_indexer] = value instead\n",
      "\n",
      "See the caveats in the documentation: https://pandas.pydata.org/pandas-docs/stable/user_guide/indexing.html#returning-a-view-versus-a-copy\n",
      "  checkrecs['taxon_id'] = checkrecs['taxon_id'].astype(int)\n",
      "C:\\Users\\oco115\\AppData\\Local\\Temp\\ipykernel_21440\\3723513958.py:5: SettingWithCopyWarning: \n",
      "A value is trying to be set on a copy of a slice from a DataFrame.\n",
      "Try using .loc[row_indexer,col_indexer] = value instead\n",
      "\n",
      "See the caveats in the documentation: https://pandas.pydata.org/pandas-docs/stable/user_guide/indexing.html#returning-a-view-versus-a-copy\n",
      "  checkrecs['user_id'] = checkrecs['user_id'].astype(int)\n"
     ]
    }
   ],
   "source": [
    "checkrecs = dfqld[dfqld['user_id']== 708886] # for output of only those updated by user 708886\n",
    "# checkrecs = dfana     # for output of full mergeof Qld\n",
    "checkrecs['taxon_id'] = checkrecs['taxon_id'].astype(int)\n",
    "checkrecs['user_id'] = checkrecs['user_id'].astype(int)"
   ],
   "metadata": {
    "collapsed": false,
    "pycharm": {
     "name": "#%%\n"
    }
   }
  },
  {
   "cell_type": "code",
   "execution_count": 12,
   "outputs": [],
   "source": [
    "rlist = []\n",
    "ct = 0\n",
    "dfextract = pd.DataFrame(columns=['id','taxonid','taxonname', 'taxonstatus', 'authority', 'taxonurl', 'user_id'])   # create empty dataframe with columns"
   ],
   "metadata": {
    "collapsed": false,
    "pycharm": {
     "name": "#%%\n"
    }
   }
  },
  {
   "cell_type": "code",
   "execution_count": null,
   "outputs": [],
   "source": [
    "# Retrieve taxon information and statuses from iNaturalist API"
   ],
   "metadata": {
    "collapsed": false,
    "pycharm": {
     "name": "#%%\n"
    }
   }
  },
  {
   "cell_type": "code",
   "execution_count": 13,
   "outputs": [
    {
     "name": "stdout",
     "output_type": "stream",
     "text": [
      "83578 QLD DEHP\n",
      "record count is:  0 taxonid is:  83578 authority is:  QLD DEHP\n",
      "370122 QLD DEHP\n",
      "record count is:  1 taxonid is:  370122 authority is:  QLD DEHP\n",
      "369261 QLD DEHP\n",
      "record count is:  2 taxonid is:  369261 authority is:  QLD DEHP\n",
      "83579 QLD DEHP\n",
      "record count is:  3 taxonid is:  83579 authority is:  QLD DEHP\n",
      "898148 QLD DEHP\n",
      "record count is:  4 taxonid is:  898148 authority is:  QLD DEHP\n",
      "135897 QLD DEHP\n",
      "record count is:  5 taxonid is:  135897 authority is:  QLD DEHP\n",
      "148240 QLD DEHP\n",
      "record count is:  6 taxonid is:  148240 authority is:  QLD DEHP\n",
      "140454 Queensland Government\n",
      "record count is:  7 taxonid is:  140454 authority is:  Queensland Government\n",
      "82321 Queensland Government\n",
      "record count is:  8 taxonid is:  82321 authority is:  Queensland Government\n",
      "83522 QLD DEHP\n",
      "record count is:  9 taxonid is:  83522 authority is:  QLD DEHP\n",
      "369235 Queensland Nature Conservation Act 1992\n",
      "record count is:  10 taxonid is:  369235 authority is:  Queensland Nature Conservation Act 1992\n",
      "332220 Queensland Nature Conservation Act 1992\n",
      "record count is:  11 taxonid is:  332220 authority is:  Queensland Nature Conservation Act 1992\n",
      "334813 Queensland Nature Conservation Act 1992\n",
      "record count is:  12 taxonid is:  334813 authority is:  Queensland Nature Conservation Act 1992\n",
      "140878 QLD DEHP\n",
      "record count is:  13 taxonid is:  140878 authority is:  QLD DEHP\n",
      "370201 QLD DEHP\n",
      "record count is:  14 taxonid is:  370201 authority is:  QLD DEHP\n",
      "429601 Queensland Nature Conservation Act 1992\n",
      "record count is:  15 taxonid is:  429601 authority is:  Queensland Nature Conservation Act 1992\n",
      "874635 Queensland Nature Conservation Act 1992\n",
      "record count is:  16 taxonid is:  874635 authority is:  Queensland Nature Conservation Act 1992\n",
      "426563 Queensland Government\n",
      "record count is:  17 taxonid is:  426563 authority is:  Queensland Government\n",
      "426824 Queensland Government\n",
      "record count is:  18 taxonid is:  426824 authority is:  Queensland Government\n",
      "370001 Queensland Nature Conservation Act 1992\n",
      "record count is:  19 taxonid is:  370001 authority is:  Queensland Nature Conservation Act 1992\n",
      "83357 Queensland Nature Conservation Act 1992\n",
      "record count is:  20 taxonid is:  83357 authority is:  Queensland Nature Conservation Act 1992\n",
      "882400 Queensland Nature Conservation Act 1992\n",
      "record count is:  21 taxonid is:  882400 authority is:  Queensland Nature Conservation Act 1992\n",
      "534410 Queensland Nature Conservation Act 1992\n",
      "record count is:  22 taxonid is:  534410 authority is:  Queensland Nature Conservation Act 1992\n",
      "369421 QLD DEHP\n",
      "record count is:  23 taxonid is:  369421 authority is:  QLD DEHP\n",
      "370788 QLD DEHP\n",
      "record count is:  24 taxonid is:  370788 authority is:  QLD DEHP\n",
      "140426 QLD DEHP\n",
      "record count is:  25 taxonid is:  140426 authority is:  QLD DEHP\n",
      "369224 QLD DEHP\n",
      "record count is:  26 taxonid is:  369224 authority is:  QLD DEHP\n",
      "878273 QLD DEHP\n",
      "record count is:  27 taxonid is:  878273 authority is:  QLD DEHP\n",
      "417787 QLD DEHP\n",
      "record count is:  28 taxonid is:  417787 authority is:  QLD DEHP\n",
      "83533 Queensland Nature Conservation Act 1992\n",
      "record count is:  29 taxonid is:  83533 authority is:  Queensland Nature Conservation Act 1992\n",
      "323907 QLD DEHP\n",
      "record count is:  30 taxonid is:  323907 authority is:  QLD DEHP\n",
      "427480 QLD DEHP\n",
      "record count is:  31 taxonid is:  427480 authority is:  QLD DEHP\n",
      "805371 QLD DEHP\n",
      "record count is:  32 taxonid is:  805371 authority is:  QLD DEHP\n",
      "1357800 QLD DEHP\n",
      "record count is:  33 taxonid is:  1357800 authority is:  QLD DEHP\n",
      "323437 Atlas of Living Australia\n",
      "record count is:  34 taxonid is:  323437 authority is:  Atlas of Living Australia\n",
      "43357 QLD DEHP\n",
      "record count is:  35 taxonid is:  43357 authority is:  QLD DEHP\n",
      "602507 QLD DEHP\n",
      "record count is:  36 taxonid is:  602507 authority is:  QLD DEHP\n",
      "896713 QLD DEHP\n",
      "record count is:  37 taxonid is:  896713 authority is:  QLD DEHP\n",
      "425528 QLD DEHP\n",
      "record count is:  38 taxonid is:  425528 authority is:  QLD DEHP\n",
      "428072 QLD DEHP\n",
      "record count is:  39 taxonid is:  428072 authority is:  QLD DEHP\n",
      "428054 QLD DEHP\n",
      "record count is:  40 taxonid is:  428054 authority is:  QLD DEHP\n",
      "954413 QLD DEHP\n",
      "record count is:  41 taxonid is:  954413 authority is:  QLD DEHP\n",
      "937255 QLD DEHP\n",
      "record count is:  42 taxonid is:  937255 authority is:  QLD DEHP\n",
      "937256 QLD DEHP\n",
      "record count is:  43 taxonid is:  937256 authority is:  QLD DEHP\n",
      "937266 QLD DEHP\n",
      "record count is:  44 taxonid is:  937266 authority is:  QLD DEHP\n",
      "552476 Queensland Nature Conservation Act 1992\n",
      "record count is:  45 taxonid is:  552476 authority is:  Queensland Nature Conservation Act 1992\n",
      "506956 QLD DEHP\n",
      "record count is:  46 taxonid is:  506956 authority is:  QLD DEHP\n",
      "963748 QLD DEHP\n",
      "record count is:  47 taxonid is:  963748 authority is:  QLD DEHP\n",
      "472420 QLD DEHP\n",
      "record count is:  48 taxonid is:  472420 authority is:  QLD DEHP\n",
      "136197 QLD DEHP\n",
      "record count is:  49 taxonid is:  136197 authority is:  QLD DEHP\n",
      "146299 QLD DEHP\n",
      "record count is:  50 taxonid is:  146299 authority is:  QLD DEHP\n",
      "370064 QLD DEHP\n",
      "record count is:  51 taxonid is:  370064 authority is:  QLD DEHP\n",
      "136189 QLD DEHP\n",
      "record count is:  52 taxonid is:  136189 authority is:  QLD DEHP\n",
      "902946 QLD DEHP\n",
      "record count is:  53 taxonid is:  902946 authority is:  QLD DEHP\n",
      "476576 QLD DEHP\n",
      "record count is:  54 taxonid is:  476576 authority is:  QLD DEHP\n",
      "135348 QLD DEHP\n",
      "record count is:  55 taxonid is:  135348 authority is:  QLD DEHP\n",
      "406519 QLD DEHP\n",
      "record count is:  56 taxonid is:  406519 authority is:  QLD DEHP\n",
      "557500 QLD DEHP\n",
      "record count is:  57 taxonid is:  557500 authority is:  QLD DEHP\n",
      "38404 QLD DEHP\n",
      "record count is:  58 taxonid is:  38404 authority is:  QLD DEHP\n",
      "829460 Queensland Government\n",
      "record count is:  59 taxonid is:  829460 authority is:  Queensland Government\n",
      "370071 Queensland Government\n",
      "record count is:  60 taxonid is:  370071 authority is:  Queensland Government\n",
      "100638 QLD DEHP\n",
      "record count is:  61 taxonid is:  100638 authority is:  QLD DEHP\n",
      "906515 QLD DEHP\n",
      "record count is:  62 taxonid is:  906515 authority is:  QLD DEHP\n",
      "140452 QLD DEHP\n",
      "record count is:  63 taxonid is:  140452 authority is:  QLD DEHP\n",
      "805372 QLD DEHP\n",
      "record count is:  64 taxonid is:  805372 authority is:  QLD DEHP\n",
      "353958 QLD DEHP\n",
      "record count is:  65 taxonid is:  353958 authority is:  QLD DEHP\n",
      "35233 QLD DEHP\n",
      "record count is:  66 taxonid is:  35233 authority is:  QLD DEHP\n",
      "369254 Queensland Nature Conservation Act 1992\n",
      "record count is:  67 taxonid is:  369254 authority is:  Queensland Nature Conservation Act 1992\n",
      "737233 QLD DEHP\n",
      "record count is:  68 taxonid is:  737233 authority is:  QLD DEHP\n",
      "840867 Queensland Nature Conservation Act 1992\n",
      "record count is:  69 taxonid is:  840867 authority is:  Queensland Nature Conservation Act 1992\n",
      "400260 Queensland Nature Conservation Act 1992\n",
      "record count is:  70 taxonid is:  400260 authority is:  Queensland Nature Conservation Act 1992\n",
      "517089 QLD DEHP\n",
      "record count is:  71 taxonid is:  517089 authority is:  QLD DEHP\n",
      "136042 QLD DEHP\n",
      "record count is:  72 taxonid is:  136042 authority is:  QLD DEHP\n",
      "134699 QLD DEHP\n",
      "record count is:  73 taxonid is:  134699 authority is:  QLD DEHP\n",
      "557326 QLD DEHP\n",
      "record count is:  74 taxonid is:  557326 authority is:  QLD DEHP\n",
      "491475 QLD DEHP\n",
      "record count is:  75 taxonid is:  491475 authority is:  QLD DEHP\n",
      "894156 QLD DEHP\n",
      "record count is:  76 taxonid is:  894156 authority is:  QLD DEHP\n",
      "140709 QLD DEHP\n",
      "record count is:  77 taxonid is:  140709 authority is:  QLD DEHP\n",
      "50718 Queensland Government\n",
      "record count is:  78 taxonid is:  50718 authority is:  Queensland Government\n",
      "829502 QLD DEHP\n",
      "record count is:  79 taxonid is:  829502 authority is:  QLD DEHP\n",
      "577983 QLD DEHP\n",
      "record count is:  80 taxonid is:  577983 authority is:  QLD DEHP\n",
      "188491 QLD DEHP\n",
      "record count is:  81 taxonid is:  188491 authority is:  QLD DEHP\n",
      "140284 Queensland Nature Conservation Act 1992\n",
      "record count is:  82 taxonid is:  140284 authority is:  Queensland Nature Conservation Act 1992\n",
      "503026 QLD DEHP\n",
      "record count is:  83 taxonid is:  503026 authority is:  QLD DEHP\n",
      "12133 QLD DEHP\n",
      "record count is:  84 taxonid is:  12133 authority is:  QLD DEHP\n",
      "509797 QLD DEHP\n",
      "record count is:  85 taxonid is:  509797 authority is:  QLD DEHP\n",
      "33931 QLD DEHP\n",
      "record count is:  86 taxonid is:  33931 authority is:  QLD DEHP\n",
      "135856 QLD DEHP\n",
      "record count is:  87 taxonid is:  135856 authority is:  QLD DEHP\n",
      "378921 Queensland Nature Conservation Act 1992\n",
      "record count is:  88 taxonid is:  378921 authority is:  Queensland Nature Conservation Act 1992\n",
      "829445 QLD DEHP\n",
      "record count is:  89 taxonid is:  829445 authority is:  QLD DEHP\n",
      "502724 QLD DEHP\n",
      "record count is:  90 taxonid is:  502724 authority is:  QLD DEHP\n",
      "702907 QLD DEHP\n",
      "record count is:  91 taxonid is:  702907 authority is:  QLD DEHP\n",
      "460952 QLD DEHP\n",
      "record count is:  92 taxonid is:  460952 authority is:  QLD DEHP\n",
      "136191 QLD DEHP\n",
      "record count is:  93 taxonid is:  136191 authority is:  QLD DEHP\n",
      "354686 QLD DEHP\n",
      "record count is:  94 taxonid is:  354686 authority is:  QLD DEHP\n",
      "543010 QLD DEHP\n",
      "record count is:  95 taxonid is:  543010 authority is:  QLD DEHP\n",
      "353959 Queensland Nature Conservation Act 1992\n",
      "record count is:  96 taxonid is:  353959 authority is:  Queensland Nature Conservation Act 1992\n",
      "142476 QLD DEHP\n",
      "record count is:  97 taxonid is:  142476 authority is:  QLD DEHP\n",
      "899197 QLD DEHP\n",
      "record count is:  98 taxonid is:  899197 authority is:  QLD DEHP\n",
      "906512 QLD DEHP\n",
      "record count is:  99 taxonid is:  906512 authority is:  QLD DEHP\n",
      "138100 QLD DEHP\n",
      "record count is:  100 taxonid is:  138100 authority is:  QLD DEHP\n",
      "136035 QLD DEHP\n",
      "record count is:  101 taxonid is:  136035 authority is:  QLD DEHP\n",
      "24780 QLD DEHP\n",
      "record count is:  102 taxonid is:  24780 authority is:  QLD DEHP\n",
      "427506 Queensland Nature Conservation Act 1992\n",
      "record count is:  103 taxonid is:  427506 authority is:  Queensland Nature Conservation Act 1992\n",
      "140673 QLD DEHP\n",
      "record count is:  104 taxonid is:  140673 authority is:  QLD DEHP\n",
      "534394 Queensland Government\n",
      "record count is:  105 taxonid is:  534394 authority is:  Queensland Government\n",
      "882604 QLD DEHP\n",
      "record count is:  106 taxonid is:  882604 authority is:  QLD DEHP\n",
      "882561 QLD DEHP\n",
      "record count is:  107 taxonid is:  882561 authority is:  QLD DEHP\n",
      "784021 Queensland Nature Conservation Act 1992\n",
      "record count is:  108 taxonid is:  784021 authority is:  Queensland Nature Conservation Act 1992\n",
      "135851 QLD DEHP\n",
      "record count is:  109 taxonid is:  135851 authority is:  QLD DEHP\n",
      "337634 Queensland Nature Conservation Act 1992\n",
      "record count is:  110 taxonid is:  337634 authority is:  Queensland Nature Conservation Act 1992\n",
      "136040 QLD DEHP\n",
      "record count is:  111 taxonid is:  136040 authority is:  QLD DEHP\n",
      "802831 QLD DEHP\n",
      "record count is:  112 taxonid is:  802831 authority is:  QLD DEHP\n",
      "816357 QLD DEHP\n",
      "record count is:  113 taxonid is:  816357 authority is:  QLD DEHP\n",
      "576988 QLD DEHP\n",
      "record count is:  114 taxonid is:  576988 authority is:  QLD DEHP\n",
      "517097 QLD DEHP\n",
      "record count is:  115 taxonid is:  517097 authority is:  QLD DEHP\n",
      "831562 QLD DEHP\n",
      "record count is:  116 taxonid is:  831562 authority is:  QLD DEHP\n",
      "129782 QLD DEHP\n",
      "record count is:  117 taxonid is:  129782 authority is:  QLD DEHP\n",
      "502762 QLD DEHP\n",
      "record count is:  118 taxonid is:  502762 authority is:  QLD DEHP\n",
      "480695 QLD DEHP\n",
      "record count is:  119 taxonid is:  480695 authority is:  QLD DEHP\n",
      "22055 QLD DEHP\n",
      "record count is:  120 taxonid is:  22055 authority is:  QLD DEHP\n",
      "702929 Queensland Nature Conservation Act 1992\n",
      "record count is:  121 taxonid is:  702929 authority is:  Queensland Nature Conservation Act 1992\n",
      "553194 QLD DEHP\n",
      "record count is:  122 taxonid is:  553194 authority is:  QLD DEHP\n",
      "39474 QLD DEHP\n",
      "record count is:  123 taxonid is:  39474 authority is:  QLD DEHP\n",
      "369241 Queensland Nature Conservation Act 1992\n",
      "record count is:  124 taxonid is:  369241 authority is:  Queensland Nature Conservation Act 1992\n",
      "559037 QLD DEHP\n",
      "record count is:  125 taxonid is:  559037 authority is:  QLD DEHP\n",
      "364208 QLD DEHP\n",
      "record count is:  126 taxonid is:  364208 authority is:  QLD DEHP\n",
      "106503 QLD DEHP\n",
      "record count is:  127 taxonid is:  106503 authority is:  QLD DEHP\n",
      "896830 Queensland Nature Conservation Act 1992\n",
      "record count is:  128 taxonid is:  896830 authority is:  Queensland Nature Conservation Act 1992\n",
      "140380 QLD DEHP\n",
      "record count is:  129 taxonid is:  140380 authority is:  QLD DEHP\n",
      "140425 Queensland Nature Conservation Act 1992\n",
      "record count is:  130 taxonid is:  140425 authority is:  Queensland Nature Conservation Act 1992\n",
      "33534 QLD DEHP\n",
      "record count is:  131 taxonid is:  33534 authority is:  QLD DEHP\n",
      "365641 QLD DEHP\n",
      "record count is:  132 taxonid is:  365641 authority is:  QLD DEHP\n",
      "739107 QLD DEHP\n",
      "record count is:  133 taxonid is:  739107 authority is:  QLD DEHP\n",
      "33932 QLD DEHP\n",
      "record count is:  134 taxonid is:  33932 authority is:  QLD DEHP\n",
      "418415 QLD DEHP\n",
      "record count is:  135 taxonid is:  418415 authority is:  QLD DEHP\n",
      "142491 QLD DEHP\n",
      "record count is:  136 taxonid is:  142491 authority is:  QLD DEHP\n",
      "467454 QLD DEHP\n",
      "record count is:  137 taxonid is:  467454 authority is:  QLD DEHP\n",
      "502912 QLD DEHP\n",
      "record count is:  138 taxonid is:  502912 authority is:  QLD DEHP\n",
      "517112 QLD DEHP\n",
      "record count is:  139 taxonid is:  517112 authority is:  QLD DEHP\n",
      "39652 QLD DEHP\n",
      "record count is:  140 taxonid is:  39652 authority is:  QLD DEHP\n",
      "370000 QLD DEHP\n",
      "record count is:  141 taxonid is:  370000 authority is:  QLD DEHP\n",
      "631112 QLD DEHP\n",
      "record count is:  142 taxonid is:  631112 authority is:  QLD DEHP\n",
      "136192 QLD DEHP\n",
      "record count is:  143 taxonid is:  136192 authority is:  QLD DEHP\n",
      "97552 QLD DEHP\n",
      "record count is:  144 taxonid is:  97552 authority is:  QLD DEHP\n",
      "829441 QLD DEHP\n",
      "record count is:  145 taxonid is:  829441 authority is:  QLD DEHP\n",
      "140980 Queensland Government\n",
      "record count is:  146 taxonid is:  140980 authority is:  Queensland Government\n",
      "136041 QLD DEHP\n",
      "record count is:  147 taxonid is:  136041 authority is:  QLD DEHP\n",
      "32164 QLD DEHP\n",
      "record count is:  148 taxonid is:  32164 authority is:  QLD DEHP\n",
      "132672 Queensland Nature Conservation Act 1992\n",
      "record count is:  149 taxonid is:  132672 authority is:  Queensland Nature Conservation Act 1992\n",
      "136178 QLD DEHP\n",
      "record count is:  150 taxonid is:  136178 authority is:  QLD DEHP\n",
      "365647 QLD DEHP\n",
      "record count is:  151 taxonid is:  365647 authority is:  QLD DEHP\n",
      "427535 QLD DEHP\n",
      "record count is:  152 taxonid is:  427535 authority is:  QLD DEHP\n",
      "40664 QLD DEHP\n",
      "record count is:  153 taxonid is:  40664 authority is:  QLD DEHP\n",
      "340741 QLD DEHP\n",
      "record count is:  154 taxonid is:  340741 authority is:  QLD DEHP\n",
      "33840 QLD DEHP\n",
      "record count is:  155 taxonid is:  33840 authority is:  QLD DEHP\n",
      "517092 QLD DEHP\n",
      "record count is:  156 taxonid is:  517092 authority is:  QLD DEHP\n",
      "347765 QLD DEHP\n",
      "record count is:  157 taxonid is:  347765 authority is:  QLD DEHP\n",
      "22064 QLD DEHP\n",
      "record count is:  158 taxonid is:  22064 authority is:  QLD DEHP\n",
      "369227 Queensland Nature Conservation Act 1992\n",
      "record count is:  159 taxonid is:  369227 authority is:  Queensland Nature Conservation Act 1992\n",
      "140424 QLD DEHP\n",
      "record count is:  160 taxonid is:  140424 authority is:  QLD DEHP\n",
      "364242 QLD DEHP\n",
      "record count is:  161 taxonid is:  364242 authority is:  QLD DEHP\n",
      "882411 Queensland Nature Conservation Act 1992\n",
      "record count is:  162 taxonid is:  882411 authority is:  Queensland Nature Conservation Act 1992\n",
      "856920 QLD DEHP\n",
      "record count is:  163 taxonid is:  856920 authority is:  QLD DEHP\n",
      "530350 QLD DEHP\n",
      "record count is:  164 taxonid is:  530350 authority is:  QLD DEHP\n",
      "882412 Queensland Nature Conservation Act 1992\n",
      "record count is:  165 taxonid is:  882412 authority is:  Queensland Nature Conservation Act 1992\n",
      "321216 Queensland Nature Conservation Act 1992\n",
      "record count is:  166 taxonid is:  321216 authority is:  Queensland Nature Conservation Act 1992\n",
      "534400 Queensland Nature Conservation Act 1992\n",
      "record count is:  167 taxonid is:  534400 authority is:  Queensland Nature Conservation Act 1992\n",
      "829458 QLD DEHP\n",
      "record count is:  168 taxonid is:  829458 authority is:  QLD DEHP\n",
      "369238 QLD DEHP\n",
      "record count is:  169 taxonid is:  369238 authority is:  QLD DEHP\n",
      "411311 QLD DEHP\n",
      "record count is:  170 taxonid is:  411311 authority is:  QLD DEHP\n",
      "140477 Queensland Nature Conservation Act 1992\n",
      "record count is:  171 taxonid is:  140477 authority is:  Queensland Nature Conservation Act 1992\n",
      "505886 QLD DEHP\n",
      "record count is:  172 taxonid is:  505886 authority is:  QLD DEHP\n",
      "549968 QLD DEHP\n",
      "record count is:  173 taxonid is:  549968 authority is:  QLD DEHP\n",
      "534390 QLD DEHP\n",
      "record count is:  174 taxonid is:  534390 authority is:  QLD DEHP\n",
      "867578 QLD DEHP\n",
      "record count is:  175 taxonid is:  867578 authority is:  QLD DEHP\n",
      "541386 QLD DEHP\n",
      "record count is:  176 taxonid is:  541386 authority is:  QLD DEHP\n",
      "901434 QLD DEHP\n",
      "record count is:  177 taxonid is:  901434 authority is:  QLD DEHP\n",
      "323899 QLD DEHP\n",
      "record count is:  178 taxonid is:  323899 authority is:  QLD DEHP\n",
      "320644 QLD DEHP\n",
      "record count is:  179 taxonid is:  320644 authority is:  QLD DEHP\n",
      "369228 Queensland Nature Conservation Act 1992\n",
      "record count is:  180 taxonid is:  369228 authority is:  Queensland Nature Conservation Act 1992\n",
      "365351 QLD DEHP\n",
      "record count is:  181 taxonid is:  365351 authority is:  QLD DEHP\n",
      "365637 QLD DEHP\n",
      "record count is:  182 taxonid is:  365637 authority is:  QLD DEHP\n",
      "829509 QLD DEHP\n",
      "record count is:  183 taxonid is:  829509 authority is:  QLD DEHP\n",
      "24763 QLD DEHP\n",
      "record count is:  184 taxonid is:  24763 authority is:  QLD DEHP\n",
      "38241 QLD DEHP\n",
      "record count is:  185 taxonid is:  38241 authority is:  QLD DEHP\n",
      "323925 Queensland Government\n",
      "record count is:  186 taxonid is:  323925 authority is:  Queensland Government\n",
      "411254 QLD DEHP\n",
      "record count is:  187 taxonid is:  411254 authority is:  QLD DEHP\n",
      "49144 QLD DEHP\n",
      "record count is:  188 taxonid is:  49144 authority is:  QLD DEHP\n",
      "112174 QLD DEHP\n",
      "record count is:  189 taxonid is:  112174 authority is:  QLD DEHP\n",
      "140708 Queensland Government\n",
      "record count is:  190 taxonid is:  140708 authority is:  Queensland Government\n",
      "321090 Queensland Nature Conservation Act 1992\n",
      "record count is:  191 taxonid is:  321090 authority is:  Queensland Nature Conservation Act 1992\n",
      "400292 QLD DEHP\n",
      "record count is:  192 taxonid is:  400292 authority is:  QLD DEHP\n",
      "111060 QLD DEHP\n",
      "record count is:  193 taxonid is:  111060 authority is:  QLD DEHP\n",
      "25290 QLD DEHP\n",
      "record count is:  194 taxonid is:  25290 authority is:  QLD DEHP\n",
      "400710 QLD DEHP\n",
      "record count is:  195 taxonid is:  400710 authority is:  QLD DEHP\n",
      "140918 Queensland Nature Conservation Act 1992\n",
      "record count is:  196 taxonid is:  140918 authority is:  Queensland Nature Conservation Act 1992\n",
      "369229 Queensland Nature Conservation Act 1992\n",
      "record count is:  197 taxonid is:  369229 authority is:  Queensland Nature Conservation Act 1992\n",
      "785158 QLD DEHP\n",
      "record count is:  198 taxonid is:  785158 authority is:  QLD DEHP\n",
      "100635 QLD DEHP\n",
      "record count is:  199 taxonid is:  100635 authority is:  QLD DEHP\n",
      "136038 QLD DEHP\n",
      "record count is:  200 taxonid is:  136038 authority is:  QLD DEHP\n",
      "140971 Queensland Nature Conservation Act 1992\n",
      "record count is:  201 taxonid is:  140971 authority is:  Queensland Nature Conservation Act 1992\n",
      "654262 Queensland Nature Conservation Act 1992\n",
      "record count is:  202 taxonid is:  654262 authority is:  Queensland Nature Conservation Act 1992\n",
      "884082 QLD DEHP\n",
      "record count is:  203 taxonid is:  884082 authority is:  QLD DEHP\n",
      "364634 QLD DEHP\n",
      "record count is:  204 taxonid is:  364634 authority is:  QLD DEHP\n",
      "850704 Queensland Nature Conservation Act 1992\n",
      "record count is:  205 taxonid is:  850704 authority is:  Queensland Nature Conservation Act 1992\n",
      "39648 QLD DEHP\n",
      "record count is:  206 taxonid is:  39648 authority is:  QLD DEHP\n",
      "558286 QLD DEHP\n",
      "record count is:  207 taxonid is:  558286 authority is:  QLD DEHP\n",
      "411312 QLD DEHP\n",
      "record count is:  208 taxonid is:  411312 authority is:  QLD DEHP\n",
      "369276 QLD DEHP\n",
      "record count is:  209 taxonid is:  369276 authority is:  QLD DEHP\n",
      "882410 QLD DEHP\n",
      "record count is:  210 taxonid is:  882410 authority is:  QLD DEHP\n",
      "273528 Queensland Nature Conservation Act 1992\n",
      "record count is:  211 taxonid is:  273528 authority is:  Queensland Nature Conservation Act 1992\n",
      "84849 Queensland Government\n",
      "record count is:  212 taxonid is:  84849 authority is:  Queensland Government\n",
      "142178 Queensland Nature Conservation Act 1992\n",
      "record count is:  213 taxonid is:  142178 authority is:  Queensland Nature Conservation Act 1992\n",
      "140333 Queensland Nature Conservation Act 1992\n",
      "record count is:  214 taxonid is:  140333 authority is:  Queensland Nature Conservation Act 1992\n",
      "143357 Queensland Nature Conservation Act 1992\n",
      "record count is:  215 taxonid is:  143357 authority is:  Queensland Nature Conservation Act 1992\n",
      "517068 QLD DEHP\n",
      "record count is:  216 taxonid is:  517068 authority is:  QLD DEHP\n",
      "369416 QLD DEHP\n",
      "record count is:  217 taxonid is:  369416 authority is:  QLD DEHP\n",
      "485205 QLD DEHP\n",
      "record count is:  218 taxonid is:  485205 authority is:  QLD DEHP\n",
      "140474 Queensland Government\n",
      "record count is:  219 taxonid is:  140474 authority is:  Queensland Government\n",
      "426627 QLD DEHP\n",
      "record count is:  220 taxonid is:  426627 authority is:  QLD DEHP\n",
      "83400 Queensland Nature Conservation Act 1992\n",
      "record count is:  221 taxonid is:  83400 authority is:  Queensland Nature Conservation Act 1992\n",
      "557264 QLD DEHP\n",
      "record count is:  222 taxonid is:  557264 authority is:  QLD DEHP\n",
      "337632 QLD DEHP\n",
      "record count is:  223 taxonid is:  337632 authority is:  QLD DEHP\n",
      "136282 QLD DEHP\n",
      "record count is:  224 taxonid is:  136282 authority is:  QLD DEHP\n",
      "365639 QLD DEHP\n",
      "record count is:  225 taxonid is:  365639 authority is:  QLD DEHP\n",
      "158801 QLD DEHP\n",
      "record count is:  226 taxonid is:  158801 authority is:  QLD DEHP\n",
      "37279 QLD DEHP\n",
      "record count is:  227 taxonid is:  37279 authority is:  QLD DEHP\n",
      "505887 QLD DEHP\n",
      "record count is:  228 taxonid is:  505887 authority is:  QLD DEHP\n",
      "827777 Queensland Nature Conservation Act 1992\n",
      "record count is:  229 taxonid is:  827777 authority is:  Queensland Nature Conservation Act 1992\n",
      "829478 QLD DEHP\n",
      "record count is:  230 taxonid is:  829478 authority is:  QLD DEHP\n",
      "32131 QLD DEHP\n",
      "record count is:  231 taxonid is:  32131 authority is:  QLD DEHP\n",
      "137524 QLD DEHP\n",
      "record count is:  232 taxonid is:  137524 authority is:  QLD DEHP\n",
      "882408 Queensland Nature Conservation Act 1992\n",
      "record count is:  233 taxonid is:  882408 authority is:  Queensland Nature Conservation Act 1992\n",
      "55664 Queensland Nature Conservation Act 1992\n",
      "record count is:  234 taxonid is:  55664 authority is:  Queensland Nature Conservation Act 1992\n",
      "369225 Queensland Nature Conservation Act 1992\n",
      "record count is:  235 taxonid is:  369225 authority is:  Queensland Nature Conservation Act 1992\n",
      "72929 QLD DEHP\n",
      "record count is:  236 taxonid is:  72929 authority is:  QLD DEHP\n",
      "73180 QLD DEHP\n",
      "record count is:  237 taxonid is:  73180 authority is:  QLD DEHP\n",
      "884080 Queensland Nature Conservation Act 1992\n",
      "record count is:  238 taxonid is:  884080 authority is:  Queensland Nature Conservation Act 1992\n",
      "712238 Queensland Nature Conservation Act 1992\n",
      "record count is:  239 taxonid is:  712238 authority is:  Queensland Nature Conservation Act 1992\n",
      "803632 QLD DEHP\n",
      "record count is:  240 taxonid is:  803632 authority is:  QLD DEHP\n",
      "506573 Queensland Nature Conservation Act 1992\n",
      "record count is:  241 taxonid is:  506573 authority is:  Queensland Nature Conservation Act 1992\n",
      "326164 QLD DEHP\n",
      "record count is:  242 taxonid is:  326164 authority is:  QLD DEHP\n",
      "510016 QLD DEHP\n",
      "record count is:  243 taxonid is:  510016 authority is:  QLD DEHP\n",
      "431132 QLD DEHP\n",
      "record count is:  244 taxonid is:  431132 authority is:  QLD DEHP\n",
      "402570 QLD DEHP\n",
      "record count is:  245 taxonid is:  402570 authority is:  QLD DEHP\n",
      "803047 QLD DEHP\n",
      "record count is:  246 taxonid is:  803047 authority is:  QLD DEHP\n",
      "25291 QLD DEHP\n",
      "record count is:  247 taxonid is:  25291 authority is:  QLD DEHP\n",
      "784343 Queensland Nature Conservation Act 1992\n",
      "record count is:  248 taxonid is:  784343 authority is:  Queensland Nature Conservation Act 1992\n",
      "136026 QLD DEHP\n",
      "record count is:  249 taxonid is:  136026 authority is:  QLD DEHP\n",
      "136027 QLD DEHP\n",
      "record count is:  250 taxonid is:  136027 authority is:  QLD DEHP\n",
      "33934 QLD DEHP\n",
      "record count is:  251 taxonid is:  33934 authority is:  QLD DEHP\n",
      "539441 QLD DEHP\n",
      "record count is:  252 taxonid is:  539441 authority is:  QLD DEHP\n",
      "369277 Queensland Nature Conservation Act 1992\n",
      "record count is:  253 taxonid is:  369277 authority is:  Queensland Nature Conservation Act 1992\n",
      "829533 Queensland Government\n",
      "record count is:  254 taxonid is:  829533 authority is:  Queensland Government\n",
      "25252 QLD DEHP\n",
      "record count is:  255 taxonid is:  25252 authority is:  QLD DEHP\n",
      "140836 Queensland Nature Conservation Act 1992\n",
      "record count is:  256 taxonid is:  140836 authority is:  Queensland Nature Conservation Act 1992\n",
      "37918 QLD DEHP\n",
      "record count is:  257 taxonid is:  37918 authority is:  QLD DEHP\n",
      "746676 QLD DEHP\n",
      "record count is:  258 taxonid is:  746676 authority is:  QLD DEHP\n",
      "134700 QLD DEHP\n",
      "record count is:  259 taxonid is:  134700 authority is:  QLD DEHP\n",
      "534403 Queensland Nature Conservation Act 1992\n",
      "record count is:  260 taxonid is:  534403 authority is:  Queensland Nature Conservation Act 1992\n",
      "426628 Queensland Nature Conservation Act 1992\n",
      "record count is:  261 taxonid is:  426628 authority is:  Queensland Nature Conservation Act 1992\n",
      "100615 QLD DEHP\n",
      "record count is:  262 taxonid is:  100615 authority is:  QLD DEHP\n",
      "369719 Queensland Nature Conservation Act 1992\n",
      "record count is:  263 taxonid is:  369719 authority is:  Queensland Nature Conservation Act 1992\n",
      "539739 QLD DEHP\n",
      "record count is:  264 taxonid is:  539739 authority is:  QLD DEHP\n",
      "276968 QLD DEHP\n",
      "record count is:  265 taxonid is:  276968 authority is:  QLD DEHP\n",
      "323967 Queensland Nature Conservation Act 1992\n",
      "record count is:  266 taxonid is:  323967 authority is:  Queensland Nature Conservation Act 1992\n",
      "427525 QLD DEHP\n",
      "record count is:  267 taxonid is:  427525 authority is:  QLD DEHP\n",
      "130068 Queensland Nature Conservation Act 1992\n",
      "record count is:  268 taxonid is:  130068 authority is:  Queensland Nature Conservation Act 1992\n",
      "140370 Queensland Government\n",
      "record count is:  269 taxonid is:  140370 authority is:  Queensland Government\n",
      "369232 QLD DEHP\n",
      "record count is:  270 taxonid is:  369232 authority is:  QLD DEHP\n",
      "38607 QLD DEHP\n",
      "record count is:  271 taxonid is:  38607 authority is:  QLD DEHP\n",
      "135868 QLD DEHP\n",
      "record count is:  272 taxonid is:  135868 authority is:  QLD DEHP\n",
      "369253 Queensland Nature Conservation Act 1992\n",
      "record count is:  273 taxonid is:  369253 authority is:  Queensland Nature Conservation Act 1992\n",
      "540185 QLD DEHP\n",
      "record count is:  274 taxonid is:  540185 authority is:  QLD DEHP\n",
      "140695 QLD DEHP\n",
      "record count is:  275 taxonid is:  140695 authority is:  QLD DEHP\n",
      "140894 Queensland Government\n",
      "record count is:  276 taxonid is:  140894 authority is:  Queensland Government\n",
      "109170 QLD DEHP\n",
      "record count is:  277 taxonid is:  109170 authority is:  QLD DEHP\n",
      "549363 QLD DEHP\n",
      "record count is:  278 taxonid is:  549363 authority is:  QLD DEHP\n",
      "505891 QLD DEHP\n",
      "record count is:  279 taxonid is:  505891 authority is:  QLD DEHP\n",
      "140888 QLD DEHP\n",
      "record count is:  280 taxonid is:  140888 authority is:  QLD DEHP\n",
      "158790 QLD DEHP\n",
      "record count is:  281 taxonid is:  158790 authority is:  QLD DEHP\n",
      "425729 QLD DEHP\n",
      "record count is:  282 taxonid is:  425729 authority is:  QLD DEHP\n",
      "136223 QLD DEHP\n",
      "record count is:  283 taxonid is:  136223 authority is:  QLD DEHP\n",
      "131245 QLD DEHP\n",
      "record count is:  284 taxonid is:  131245 authority is:  QLD DEHP\n",
      "136039 QLD DEHP\n",
      "record count is:  285 taxonid is:  136039 authority is:  QLD DEHP\n",
      "369230 Queensland Nature Conservation Act 1992\n",
      "record count is:  286 taxonid is:  369230 authority is:  Queensland Nature Conservation Act 1992\n",
      "140395 QLD DEHP\n",
      "record count is:  287 taxonid is:  140395 authority is:  QLD DEHP\n",
      "25289 QLD DEHP\n",
      "record count is:  288 taxonid is:  25289 authority is:  QLD DEHP\n",
      "23637 QLD DEHP\n",
      "record count is:  289 taxonid is:  23637 authority is:  QLD DEHP\n",
      "576969 QLD DEHP\n",
      "record count is:  290 taxonid is:  576969 authority is:  QLD DEHP\n",
      "129783 QLD DEHP\n",
      "record count is:  291 taxonid is:  129783 authority is:  QLD DEHP\n",
      "882538 QLD DEHP\n",
      "record count is:  292 taxonid is:  882538 authority is:  QLD DEHP\n",
      "109464 QLD DEHP\n",
      "record count is:  293 taxonid is:  109464 authority is:  QLD DEHP\n",
      "323438 QLD DEHP\n",
      "record count is:  294 taxonid is:  323438 authority is:  QLD DEHP\n",
      "364154 QLD DEHP\n",
      "record count is:  295 taxonid is:  364154 authority is:  QLD DEHP\n",
      "135847 QLD DEHP\n",
      "record count is:  296 taxonid is:  135847 authority is:  QLD DEHP\n",
      "136033 QLD DEHP\n",
      "record count is:  297 taxonid is:  136033 authority is:  QLD DEHP\n",
      "97553 QLD DEHP\n",
      "record count is:  298 taxonid is:  97553 authority is:  QLD DEHP\n",
      "577033 QLD DEHP\n",
      "record count is:  299 taxonid is:  577033 authority is:  QLD DEHP\n",
      "369231 QLD DEHP\n",
      "record count is:  300 taxonid is:  369231 authority is:  QLD DEHP\n",
      "906513 QLD DEHP\n",
      "record count is:  301 taxonid is:  906513 authority is:  QLD DEHP\n",
      "142177 Queensland Government\n",
      "record count is:  302 taxonid is:  142177 authority is:  Queensland Government\n",
      "136179 QLD DEHP\n",
      "record count is:  303 taxonid is:  136179 authority is:  QLD DEHP\n",
      "24773 QLD DEHP\n",
      "record count is:  304 taxonid is:  24773 authority is:  QLD DEHP\n",
      "39605 QLD DEHP\n",
      "record count is:  305 taxonid is:  39605 authority is:  QLD DEHP\n",
      "564577 QLD DEHP\n",
      "record count is:  306 taxonid is:  564577 authority is:  QLD DEHP\n",
      "141458 QLD DEHP\n",
      "record count is:  307 taxonid is:  141458 authority is:  QLD DEHP\n",
      "140764 QLD DEHP\n",
      "record count is:  308 taxonid is:  140764 authority is:  QLD DEHP\n",
      "109169 QLD DEHP\n",
      "record count is:  309 taxonid is:  109169 authority is:  QLD DEHP\n",
      "140486 Queensland Nature Conservation Act 1992\n",
      "record count is:  310 taxonid is:  140486 authority is:  Queensland Nature Conservation Act 1992\n",
      "321088 Queensland Nature Conservation Act 1992\n",
      "record count is:  311 taxonid is:  321088 authority is:  Queensland Nature Conservation Act 1992\n",
      "24767 QLD DEHP\n",
      "record count is:  312 taxonid is:  24767 authority is:  QLD DEHP\n",
      "180577 QLD DEHP\n",
      "record count is:  313 taxonid is:  180577 authority is:  QLD DEHP\n",
      "369290 QLD DEHP\n",
      "record count is:  314 taxonid is:  369290 authority is:  QLD DEHP\n",
      "369267 QLD DEHP\n",
      "record count is:  315 taxonid is:  369267 authority is:  QLD DEHP\n",
      "136181 QLD DEHP\n",
      "record count is:  316 taxonid is:  136181 authority is:  QLD DEHP\n",
      "381002 QLD DEHP\n",
      "record count is:  317 taxonid is:  381002 authority is:  QLD DEHP\n",
      "867300 QLD DEHP\n",
      "record count is:  318 taxonid is:  867300 authority is:  QLD DEHP\n",
      "427200 QLD DEHP\n",
      "record count is:  319 taxonid is:  427200 authority is:  QLD DEHP\n",
      "24764 QLD DEHP\n",
      "record count is:  320 taxonid is:  24764 authority is:  QLD DEHP\n",
      "602508 QLD DEHP\n",
      "record count is:  321 taxonid is:  602508 authority is:  QLD DEHP\n",
      "472406 QLD DEHP\n",
      "record count is:  322 taxonid is:  472406 authority is:  QLD DEHP\n",
      "502770 QLD DEHP\n",
      "record count is:  323 taxonid is:  502770 authority is:  QLD DEHP\n",
      "136180 QLD DEHP\n",
      "record count is:  324 taxonid is:  136180 authority is:  QLD DEHP\n",
      "550115 QLD DEHP\n",
      "record count is:  325 taxonid is:  550115 authority is:  QLD DEHP\n",
      "25292 QLD DEHP\n",
      "record count is:  326 taxonid is:  25292 authority is:  QLD DEHP\n",
      "401071 QLD DEHP\n",
      "record count is:  327 taxonid is:  401071 authority is:  QLD DEHP\n",
      "502076 QLD DEHP\n",
      "record count is:  328 taxonid is:  502076 authority is:  QLD DEHP\n",
      "366749 QLD DEHP\n",
      "record count is:  329 taxonid is:  366749 authority is:  QLD DEHP\n",
      "829487 QLD DEHP\n",
      "record count is:  330 taxonid is:  829487 authority is:  QLD DEHP\n",
      "100640 QLD DEHP\n",
      "record count is:  331 taxonid is:  100640 authority is:  QLD DEHP\n",
      "140331 Queensland Nature Conservation Act 1992\n",
      "record count is:  332 taxonid is:  140331 authority is:  Queensland Nature Conservation Act 1992\n",
      "893253 Queensland Nature Conservation Act 1992\n",
      "record count is:  333 taxonid is:  893253 authority is:  Queensland Nature Conservation Act 1992\n",
      "366364 Queensland Government\n",
      "record count is:  334 taxonid is:  366364 authority is:  Queensland Government\n",
      "426364 Queensland Government\n",
      "record count is:  335 taxonid is:  426364 authority is:  Queensland Government\n",
      "906516 QLD DEHP\n",
      "record count is:  336 taxonid is:  906516 authority is:  QLD DEHP\n",
      "557266 QLD DEHP\n",
      "record count is:  337 taxonid is:  557266 authority is:  QLD DEHP\n",
      "107382 QLD DEHP\n",
      "record count is:  338 taxonid is:  107382 authority is:  QLD DEHP\n",
      "163859 QLD DEHP\n",
      "record count is:  339 taxonid is:  163859 authority is:  QLD DEHP\n",
      "829531 QLD DEHP\n",
      "record count is:  340 taxonid is:  829531 authority is:  QLD DEHP\n",
      "871290 QLD DEHP\n",
      "record count is:  341 taxonid is:  871290 authority is:  QLD DEHP\n",
      "83369 QLD DEHP\n",
      "record count is:  342 taxonid is:  83369 authority is:  QLD DEHP\n",
      "898110 QLD DEHP\n",
      "record count is:  343 taxonid is:  898110 authority is:  QLD DEHP\n",
      "540187 QLD DEHP\n",
      "record count is:  344 taxonid is:  540187 authority is:  QLD DEHP\n",
      "136220 QLD DEHP\n",
      "record count is:  345 taxonid is:  136220 authority is:  QLD DEHP\n",
      "71977 QLD DEHP\n",
      "record count is:  346 taxonid is:  71977 authority is:  QLD DEHP\n",
      "426825 QLD DEHP\n",
      "record count is:  347 taxonid is:  426825 authority is:  QLD DEHP\n",
      "509108 QLD DEHP\n",
      "record count is:  348 taxonid is:  509108 authority is:  QLD DEHP\n",
      "829473 QLD DEHP\n",
      "record count is:  349 taxonid is:  829473 authority is:  QLD DEHP\n",
      "429633 Queensland Nature Conservation Act 1992\n",
      "record count is:  350 taxonid is:  429633 authority is:  Queensland Nature Conservation Act 1992\n",
      "282665 QLD DEHP\n",
      "record count is:  351 taxonid is:  282665 authority is:  QLD DEHP\n",
      "503841 QLD DEHP\n",
      "record count is:  352 taxonid is:  503841 authority is:  QLD DEHP\n",
      "22065 QLD DEHP\n",
      "record count is:  353 taxonid is:  22065 authority is:  QLD DEHP\n",
      "33935 QLD DEHP\n",
      "record count is:  354 taxonid is:  33935 authority is:  QLD DEHP\n",
      "867396 QLD DEHP\n",
      "record count is:  355 taxonid is:  867396 authority is:  QLD DEHP\n",
      "140455 Queensland Nature Conservation Act 1992\n",
      "record count is:  356 taxonid is:  140455 authority is:  Queensland Nature Conservation Act 1992\n",
      "147193 Queensland Government\n",
      "record count is:  357 taxonid is:  147193 authority is:  Queensland Government\n",
      "142478 Queensland Government\n",
      "record count is:  358 taxonid is:  142478 authority is:  Queensland Government\n",
      "425476 Queensland Nature Conservation Act 1992\n",
      "record count is:  359 taxonid is:  425476 authority is:  Queensland Nature Conservation Act 1992\n",
      "429700 Queensland Nature Conservation Act 1992\n",
      "record count is:  360 taxonid is:  429700 authority is:  Queensland Nature Conservation Act 1992\n",
      "33933 QLD DEHP\n",
      "record count is:  361 taxonid is:  33933 authority is:  QLD DEHP\n",
      "425697 QLD DEHP\n",
      "record count is:  362 taxonid is:  425697 authority is:  QLD DEHP\n",
      "906518 QLD DEHP\n",
      "record count is:  363 taxonid is:  906518 authority is:  QLD DEHP\n",
      "829505 QLD DEHP\n",
      "record count is:  364 taxonid is:  829505 authority is:  QLD DEHP\n",
      "441245 QLD DEHP\n",
      "record count is:  365 taxonid is:  441245 authority is:  QLD DEHP\n",
      "83359 QLD DEHP\n",
      "record count is:  366 taxonid is:  83359 authority is:  QLD DEHP\n",
      "323932 QLD DEHP\n",
      "record count is:  367 taxonid is:  323932 authority is:  QLD DEHP\n",
      "136281 QLD DEHP\n",
      "record count is:  368 taxonid is:  136281 authority is:  QLD DEHP\n",
      "405033 QLD DEHP\n",
      "record count is:  369 taxonid is:  405033 authority is:  QLD DEHP\n",
      "353964 QLD DEHP\n",
      "record count is:  370 taxonid is:  353964 authority is:  QLD DEHP\n",
      "323699 QLD DEHP\n",
      "record count is:  371 taxonid is:  323699 authority is:  QLD DEHP\n",
      "140875 Queensland Nature Conservation Act 1992\n",
      "record count is:  372 taxonid is:  140875 authority is:  Queensland Nature Conservation Act 1992\n",
      "323924 QLD DEHP\n",
      "record count is:  373 taxonid is:  323924 authority is:  QLD DEHP\n",
      "553878 QLD DEHP\n",
      "record count is:  374 taxonid is:  553878 authority is:  QLD DEHP\n",
      "369246 QLD DEHP\n",
      "record count is:  375 taxonid is:  369246 authority is:  QLD DEHP\n",
      "441249 Queensland Nature Conservation Act 1992\n",
      "record count is:  376 taxonid is:  441249 authority is:  Queensland Nature Conservation Act 1992\n",
      "804794 QLD DEHP\n",
      "record count is:  377 taxonid is:  804794 authority is:  QLD DEHP\n",
      "1403161 QLD DEHP\n",
      "record count is:  378 taxonid is:  1403161 authority is:  QLD DEHP\n",
      "406524 QLD DEHP\n",
      "record count is:  379 taxonid is:  406524 authority is:  QLD DEHP\n",
      "353966 QLD DEHP\n",
      "record count is:  380 taxonid is:  353966 authority is:  QLD DEHP\n",
      "1413424 QLD DEHP\n",
      "record count is:  381 taxonid is:  1413424 authority is:  QLD DEHP\n",
      "796558 QLD DEHP\n",
      "record count is:  382 taxonid is:  796558 authority is:  QLD DEHP\n",
      "321109 QLD DEHP\n",
      "record count is:  383 taxonid is:  321109 authority is:  QLD DEHP\n",
      "1429513 QLD DEHP\n",
      "record count is:  384 taxonid is:  1429513 authority is:  QLD DEHP\n"
     ]
    }
   ],
   "source": [
    "\n",
    "for ind in checkrecs.index:\n",
    "    # print('record count is: ', ct, 'taxonid is: ', taxonid)\n",
    "    print(checkrecs['taxon_id'][ind], checkrecs['authority'][ind])\n",
    "    print('record count is: ', ct, 'taxonid is: ', checkrecs['taxon_id'][ind], 'authority is: ', checkrecs['authority'][ind])\n",
    "    apiurl = apiurlbase + str(checkrecs['taxon_id'][ind])\n",
    "    response = requests.request(\"GET\", apiurl)\n",
    "    rlist.append(json.loads(response.text))\n",
    "    numstatus = len(rlist[ct]['results'][0]['conservation_statuses'])\n",
    "    # taxonpname = rlist[ct]['results'][0]['preferred_common_name'] # This field is not always available\n",
    "    taxonid = checkrecs['taxon_id'][ind]\n",
    "    inatid = checkrecs['id'][ind]\n",
    "    authority = checkrecs['authority'][ind]\n",
    "    userid = checkrecs['user_id'][ind]\n",
    "    taxonname = rlist[ct]['results'][0]['name']\n",
    "    # Loop through results in JSON record an extract conservation statuses\n",
    "    # Note: there are multiple records for each species. We need to select the record that has 'authority' matching authority in the input dataset\n",
    "    # Build final dataframe\n",
    "    for i in range(numstatus):\n",
    "        if rlist[ct]['results'][0]['conservation_statuses'][i]['authority'] == checkrecs['authority'][ind]:\n",
    "            taxonstatus = rlist[ct]['results'][0]['conservation_statuses'][i]['status']\n",
    "            taxonurl = rlist[ct]['results'][0]['conservation_statuses'][i]['url']\n",
    "            taxonlist = [inatid, taxonid, taxonname, taxonstatus, authority, taxonurl,userid]\n",
    "            dfextract.loc[len(dfextract)] = taxonlist\n",
    "            break\n",
    "\n",
    "    ct += 1\n",
    "# Write dataframe to csv for checking and future use\n",
    "dfextract.to_csv(usercsv,index = False,encoding='utf-8-sig')"
   ],
   "metadata": {
    "collapsed": false,
    "pycharm": {
     "name": "#%%\n"
    }
   }
  },
  {
   "cell_type": "code",
   "execution_count": 46,
   "outputs": [],
   "source": [
    "# For Qld and user 708886\n",
    "dfextract = pd.read_csv(usercsv)  # Qld sensitive list"
   ],
   "metadata": {
    "collapsed": false,
    "pycharm": {
     "name": "#%%\n"
    }
   }
  },
  {
   "cell_type": "markdown",
   "source": [
    "### Process Qld\n",
    "* Retrieve ALA Qld sensitive species list\n",
    "* Extract Qld records from iNat dataframe based on Qld Locations\n",
    "* Create lists of taxon name for Sensitive List and iNat data, for searching\n",
    "* Create dataframes of records:\n",
    "   * in Qld Sensitive list and in iNat - matchdf\n",
    "   * in Qld Sensitive list but not in iNat -notmatchdf"
   ],
   "metadata": {
    "collapsed": false,
    "pycharm": {
     "name": "#%% md\n"
    }
   }
  },
  {
   "cell_type": "code",
   "execution_count": 47,
   "outputs": [],
   "source": [
    "qldsensitive = pd.read_csv(listdir + \"sensitive-lists/QLD-sensitive.csv\")  # Qld sensitive list\n",
    "# qldinat = dfextract[dfextract['authority'].isin(qldauths)] # not all qld authority in list???"
   ],
   "metadata": {
    "collapsed": false,
    "pycharm": {
     "name": "#%%\n"
    }
   }
  },
  {
   "cell_type": "code",
   "execution_count": 39,
   "outputs": [],
   "source": [
    "taxsearch1 = dfextract['taxonname'].tolist()  #iNat taxon\n",
    "taxsearch2 = qldsensitive['scientificName'].tolist() # Qld sensitive List taxon\n",
    "matchdf = dfextract[dfextract['taxonname'].isin(taxsearch2)]     # in Qld sensitive list and in iNat\n",
    "nomatchdf = qldsensitive[~qldsensitive['scientificName'].isin(taxsearch1)]  # in Qld Sensitive list but not on iNat"
   ],
   "metadata": {
    "collapsed": false,
    "pycharm": {
     "name": "#%%\n"
    }
   }
  },
  {
   "cell_type": "markdown",
   "source": [
    "### Merge sensitive list and iNat dataframes to include all columns from both\n",
    "* Take the matched rows and compare with status in sensitive list\n",
    "* Merge List and iNat data frames with matching rows based on taxon"
   ],
   "metadata": {
    "collapsed": false,
    "pycharm": {
     "name": "#%% md\n"
    }
   }
  },
  {
   "cell_type": "code",
   "execution_count": 49,
   "outputs": [
    {
     "data": {
      "text/plain": "           id   taxonid                    taxonname taxonstatus authority  \\\n0    152478.0   83578.0         Dendrobium kingianum          LC  QLD DEHP   \n1    152527.0  370122.0            Liparis nugentiae          LC  QLD DEHP   \n2    152549.0  369261.0          Calanthe triplicata          LC  QLD DEHP   \n3    152563.0   83579.0           Dendrobium aemulum          LC  QLD DEHP   \n4    167753.0  898148.0  Phlegmariurus verticillatus  endangered  QLD DEHP   \n..        ...       ...                          ...         ...       ...   \n991       NaN       NaN                          NaN         NaN       NaN   \n992       NaN       NaN                          NaN         NaN       NaN   \n993       NaN       NaN                          NaN         NaN       NaN   \n994       NaN       NaN                          NaN         NaN       NaN   \n995       NaN       NaN                          NaN         NaN       NaN   \n\n                                              taxonurl   user_id  taxonID  \\\n0    https://data.qld.gov.au/dataset/conservation-s...  708886.0  22382.0   \n1    https://data.qld.gov.au/dataset/conservation-s...  708886.0  12772.0   \n2    https://data.qld.gov.au/dataset/conservation-s...  708886.0  14760.0   \n3    https://data.qld.gov.au/dataset/conservation-s...  708886.0  13280.0   \n4    https://data.qld.gov.au/dataset/conservation-s...  708886.0      NaN   \n..                                                 ...       ...      ...   \n991                                                NaN       NaN  41354.0   \n992                                                NaN       NaN   9553.0   \n993                                                NaN       NaN  11646.0   \n994                                                NaN       NaN  11699.0   \n995                                                NaN       NaN   8185.0   \n\n     kingdom          class            family             scientificName  \\\n0    Plantae  Equisetopsida       Orchidaceae       Dendrobium kingianum   \n1    Plantae  Equisetopsida       Orchidaceae          Liparis nugentiae   \n2    Plantae  Equisetopsida       Orchidaceae        Calanthe triplicata   \n3    Plantae  Equisetopsida       Orchidaceae         Dendrobium aemulum   \n4        NaN            NaN               NaN                        NaN   \n..       ...            ...               ...                        ...   \n991  Plantae  Equisetopsida  Thelypteridaceae     Amblovenatum tildeniae   \n992  Plantae  Equisetopsida  Thelypteridaceae          Chingia australis   \n993  Plantae  Equisetopsida  Thelypteridaceae  Plesioneuron tuberculatum   \n994  Plantae  Equisetopsida  Thelypteridaceae     Pneumatopteris costata   \n995  Plantae  Equisetopsida        Proteaceae         Macadamia jansenii   \n\n       vernacularName           scientificNameAuthorship sourceStatus  \\\n0                 NaN                  Bidwill ex Lindl.           SL   \n1                 NaN                         F.M.Bailey            C   \n2    christmas orchid                    (Willemet) Ames           SL   \n3     ironbark orchid                              R.Br.           SL   \n4                 NaN                                NaN          NaN   \n..                ...                                ...          ...   \n991               NaN  (Holttum) T.E.Almeida & A.R.Field           CR   \n992               NaN                            Holttum            E   \n993               NaN                     (Ces.) Holttum            E   \n994               NaN                   (Brack.) Holttum           NT   \n995               NaN             C.L.Gross & P.H.Weston           CR   \n\n    Significant                 status                Endemicity EPBC Status  \n0             Y  Special least concern        Queensland Endemic         NaN  \n1             N          Least concern        Queensland Endemic         NaN  \n2             Y  Special least concern  Not Endemic to Australia         NaN  \n3             Y  Special least concern             Intranational         NaN  \n4           NaN                    NaN                       NaN         NaN  \n..          ...                    ...                       ...         ...  \n991           Y  Critically Endangered        Queensland Endemic         NaN  \n992           Y             Endangered        Queensland Endemic  Endangered  \n993           Y             Endangered          Regional Endemic  Endangered  \n994           Y        Near Threatened          Regional Endemic         NaN  \n995           Y  Critically Endangered        Queensland Endemic  Endangered  \n\n[996 rows x 19 columns]",
      "text/html": "<div>\n<style scoped>\n    .dataframe tbody tr th:only-of-type {\n        vertical-align: middle;\n    }\n\n    .dataframe tbody tr th {\n        vertical-align: top;\n    }\n\n    .dataframe thead th {\n        text-align: right;\n    }\n</style>\n<table border=\"1\" class=\"dataframe\">\n  <thead>\n    <tr style=\"text-align: right;\">\n      <th></th>\n      <th>id</th>\n      <th>taxonid</th>\n      <th>taxonname</th>\n      <th>taxonstatus</th>\n      <th>authority</th>\n      <th>taxonurl</th>\n      <th>user_id</th>\n      <th>taxonID</th>\n      <th>kingdom</th>\n      <th>class</th>\n      <th>family</th>\n      <th>scientificName</th>\n      <th>vernacularName</th>\n      <th>scientificNameAuthorship</th>\n      <th>sourceStatus</th>\n      <th>Significant</th>\n      <th>status</th>\n      <th>Endemicity</th>\n      <th>EPBC Status</th>\n    </tr>\n  </thead>\n  <tbody>\n    <tr>\n      <th>0</th>\n      <td>152478.0</td>\n      <td>83578.0</td>\n      <td>Dendrobium kingianum</td>\n      <td>LC</td>\n      <td>QLD DEHP</td>\n      <td>https://data.qld.gov.au/dataset/conservation-s...</td>\n      <td>708886.0</td>\n      <td>22382.0</td>\n      <td>Plantae</td>\n      <td>Equisetopsida</td>\n      <td>Orchidaceae</td>\n      <td>Dendrobium kingianum</td>\n      <td>NaN</td>\n      <td>Bidwill ex Lindl.</td>\n      <td>SL</td>\n      <td>Y</td>\n      <td>Special least concern</td>\n      <td>Queensland Endemic</td>\n      <td>NaN</td>\n    </tr>\n    <tr>\n      <th>1</th>\n      <td>152527.0</td>\n      <td>370122.0</td>\n      <td>Liparis nugentiae</td>\n      <td>LC</td>\n      <td>QLD DEHP</td>\n      <td>https://data.qld.gov.au/dataset/conservation-s...</td>\n      <td>708886.0</td>\n      <td>12772.0</td>\n      <td>Plantae</td>\n      <td>Equisetopsida</td>\n      <td>Orchidaceae</td>\n      <td>Liparis nugentiae</td>\n      <td>NaN</td>\n      <td>F.M.Bailey</td>\n      <td>C</td>\n      <td>N</td>\n      <td>Least concern</td>\n      <td>Queensland Endemic</td>\n      <td>NaN</td>\n    </tr>\n    <tr>\n      <th>2</th>\n      <td>152549.0</td>\n      <td>369261.0</td>\n      <td>Calanthe triplicata</td>\n      <td>LC</td>\n      <td>QLD DEHP</td>\n      <td>https://data.qld.gov.au/dataset/conservation-s...</td>\n      <td>708886.0</td>\n      <td>14760.0</td>\n      <td>Plantae</td>\n      <td>Equisetopsida</td>\n      <td>Orchidaceae</td>\n      <td>Calanthe triplicata</td>\n      <td>christmas orchid</td>\n      <td>(Willemet) Ames</td>\n      <td>SL</td>\n      <td>Y</td>\n      <td>Special least concern</td>\n      <td>Not Endemic to Australia</td>\n      <td>NaN</td>\n    </tr>\n    <tr>\n      <th>3</th>\n      <td>152563.0</td>\n      <td>83579.0</td>\n      <td>Dendrobium aemulum</td>\n      <td>LC</td>\n      <td>QLD DEHP</td>\n      <td>https://data.qld.gov.au/dataset/conservation-s...</td>\n      <td>708886.0</td>\n      <td>13280.0</td>\n      <td>Plantae</td>\n      <td>Equisetopsida</td>\n      <td>Orchidaceae</td>\n      <td>Dendrobium aemulum</td>\n      <td>ironbark orchid</td>\n      <td>R.Br.</td>\n      <td>SL</td>\n      <td>Y</td>\n      <td>Special least concern</td>\n      <td>Intranational</td>\n      <td>NaN</td>\n    </tr>\n    <tr>\n      <th>4</th>\n      <td>167753.0</td>\n      <td>898148.0</td>\n      <td>Phlegmariurus verticillatus</td>\n      <td>endangered</td>\n      <td>QLD DEHP</td>\n      <td>https://data.qld.gov.au/dataset/conservation-s...</td>\n      <td>708886.0</td>\n      <td>NaN</td>\n      <td>NaN</td>\n      <td>NaN</td>\n      <td>NaN</td>\n      <td>NaN</td>\n      <td>NaN</td>\n      <td>NaN</td>\n      <td>NaN</td>\n      <td>NaN</td>\n      <td>NaN</td>\n      <td>NaN</td>\n      <td>NaN</td>\n    </tr>\n    <tr>\n      <th>...</th>\n      <td>...</td>\n      <td>...</td>\n      <td>...</td>\n      <td>...</td>\n      <td>...</td>\n      <td>...</td>\n      <td>...</td>\n      <td>...</td>\n      <td>...</td>\n      <td>...</td>\n      <td>...</td>\n      <td>...</td>\n      <td>...</td>\n      <td>...</td>\n      <td>...</td>\n      <td>...</td>\n      <td>...</td>\n      <td>...</td>\n      <td>...</td>\n    </tr>\n    <tr>\n      <th>991</th>\n      <td>NaN</td>\n      <td>NaN</td>\n      <td>NaN</td>\n      <td>NaN</td>\n      <td>NaN</td>\n      <td>NaN</td>\n      <td>NaN</td>\n      <td>41354.0</td>\n      <td>Plantae</td>\n      <td>Equisetopsida</td>\n      <td>Thelypteridaceae</td>\n      <td>Amblovenatum tildeniae</td>\n      <td>NaN</td>\n      <td>(Holttum) T.E.Almeida &amp; A.R.Field</td>\n      <td>CR</td>\n      <td>Y</td>\n      <td>Critically Endangered</td>\n      <td>Queensland Endemic</td>\n      <td>NaN</td>\n    </tr>\n    <tr>\n      <th>992</th>\n      <td>NaN</td>\n      <td>NaN</td>\n      <td>NaN</td>\n      <td>NaN</td>\n      <td>NaN</td>\n      <td>NaN</td>\n      <td>NaN</td>\n      <td>9553.0</td>\n      <td>Plantae</td>\n      <td>Equisetopsida</td>\n      <td>Thelypteridaceae</td>\n      <td>Chingia australis</td>\n      <td>NaN</td>\n      <td>Holttum</td>\n      <td>E</td>\n      <td>Y</td>\n      <td>Endangered</td>\n      <td>Queensland Endemic</td>\n      <td>Endangered</td>\n    </tr>\n    <tr>\n      <th>993</th>\n      <td>NaN</td>\n      <td>NaN</td>\n      <td>NaN</td>\n      <td>NaN</td>\n      <td>NaN</td>\n      <td>NaN</td>\n      <td>NaN</td>\n      <td>11646.0</td>\n      <td>Plantae</td>\n      <td>Equisetopsida</td>\n      <td>Thelypteridaceae</td>\n      <td>Plesioneuron tuberculatum</td>\n      <td>NaN</td>\n      <td>(Ces.) Holttum</td>\n      <td>E</td>\n      <td>Y</td>\n      <td>Endangered</td>\n      <td>Regional Endemic</td>\n      <td>Endangered</td>\n    </tr>\n    <tr>\n      <th>994</th>\n      <td>NaN</td>\n      <td>NaN</td>\n      <td>NaN</td>\n      <td>NaN</td>\n      <td>NaN</td>\n      <td>NaN</td>\n      <td>NaN</td>\n      <td>11699.0</td>\n      <td>Plantae</td>\n      <td>Equisetopsida</td>\n      <td>Thelypteridaceae</td>\n      <td>Pneumatopteris costata</td>\n      <td>NaN</td>\n      <td>(Brack.) Holttum</td>\n      <td>NT</td>\n      <td>Y</td>\n      <td>Near Threatened</td>\n      <td>Regional Endemic</td>\n      <td>NaN</td>\n    </tr>\n    <tr>\n      <th>995</th>\n      <td>NaN</td>\n      <td>NaN</td>\n      <td>NaN</td>\n      <td>NaN</td>\n      <td>NaN</td>\n      <td>NaN</td>\n      <td>NaN</td>\n      <td>8185.0</td>\n      <td>Plantae</td>\n      <td>Equisetopsida</td>\n      <td>Proteaceae</td>\n      <td>Macadamia jansenii</td>\n      <td>NaN</td>\n      <td>C.L.Gross &amp; P.H.Weston</td>\n      <td>CR</td>\n      <td>Y</td>\n      <td>Critically Endangered</td>\n      <td>Queensland Endemic</td>\n      <td>Endangered</td>\n    </tr>\n  </tbody>\n</table>\n<p>996 rows × 19 columns</p>\n</div>"
     },
     "execution_count": 49,
     "metadata": {},
     "output_type": "execute_result"
    }
   ],
   "source": [
    "# taxmatch = qldinat1.merge(qldsensitive, how = 'inner', on = ['scientificName'])\n",
    "taxouter =  dfextract.merge(qldsensitive, how = 'outer', left_on = 'taxonname', right_on='scientificName')\n",
    "# taxouter =  dfextract.merge(qldsensitive, how = 'outer', indicator = True, left_on = 'taxonname', right_on='scientificName')\n",
    "taxouter"
   ],
   "metadata": {
    "collapsed": false,
    "pycharm": {
     "name": "#%%\n"
    }
   }
  },
  {
   "cell_type": "code",
   "execution_count": 52,
   "outputs": [],
   "source": [
    "taxouter.to_csv(joincsv, index = False,encoding='utf-8-sig')"
   ],
   "metadata": {
    "collapsed": false,
    "pycharm": {
     "name": "#%%\n"
    }
   }
  },
  {
   "cell_type": "markdown",
   "source": [
    "### New records for iNat - taxon in Sensitive list but not in iNat"
   ],
   "metadata": {
    "collapsed": false,
    "pycharm": {
     "name": "#%% md\n"
    }
   }
  },
  {
   "cell_type": "code",
   "execution_count": null,
   "outputs": [],
   "source": [
    "# taxlistfound = taxmatch['scientificName'].tolist()  # iNat taxon\n",
    "# taxlistfound = dfextract['scientificName'].tolist()  # iNat taxon from whole dataset\n",
    "# taxonnew = qldsensitive[~qldsensitive['scientificName'].isin(taxlistfound)]\n",
    "# taxonnew.to_csv(newtaxoncsv,index = False,encoding='utf-8-sig')\n"
   ],
   "metadata": {
    "collapsed": false,
    "pycharm": {
     "name": "#%%\n"
    }
   }
  },
  {
   "cell_type": "code",
   "execution_count": null,
   "outputs": [],
   "source": [
    "# taxonnew.to_csv(newtaxoncsv,index = False,encoding='utf-8-sig')"
   ],
   "metadata": {
    "collapsed": false,
    "pycharm": {
     "name": "#%%\n"
    }
   }
  },
  {
   "cell_type": "markdown",
   "source": [
    "## Build iNaturalist Templates - placeholder for now\n",
    "Based on templates found at: https://docs.google.com/spreadsheets/d/1yTwWh4d-lHeaBGCB9m70-HKEMtvrquHsPu3Zrgz9BcE/edit#gid=1531097917\n"
   ],
   "metadata": {
    "collapsed": false,
    "pycharm": {
     "name": "#%% md\n"
    }
   }
  },
  {
   "cell_type": "markdown",
   "source": [
    "# New Records\n",
    "* Write New template if update required\n",
    "\n",
    "** Question? How do we know the taxon_id and iNaturalist Place ID when these are new records???**"
   ],
   "metadata": {
    "collapsed": false,
    "pycharm": {
     "name": "#%% md\n"
    }
   }
  },
  {
   "cell_type": "code",
   "execution_count": 28,
   "outputs": [
    {
     "data": {
      "text/plain": "     taxonID   kingdom          class            family  \\\n1       1376  Animalia           Aves       Estrildidae   \n2       1378  Animalia           Aves       Estrildidae   \n3       1370  Animalia           Aves       Estrildidae   \n4       1365  Animalia           Aves       Estrildidae   \n5       1355  Animalia           Aves       Estrildidae   \n..       ...       ...            ...               ...   \n947    41354   Plantae  Equisetopsida  Thelypteridaceae   \n948     9553   Plantae  Equisetopsida  Thelypteridaceae   \n949    11646   Plantae  Equisetopsida  Thelypteridaceae   \n950    11699   Plantae  Equisetopsida  Thelypteridaceae   \n953     8185   Plantae  Equisetopsida        Proteaceae   \n\n                   scientificName  \\\n1               Chloebia gouldiae   \n2              Erythrura trichroa   \n3    Neochmia phaeton evangelinae   \n4          Poephila cincta cincta   \n5           Stagonopleura guttata   \n..                            ...   \n947        Amblovenatum tildeniae   \n948             Chingia australis   \n949     Plesioneuron tuberculatum   \n950        Pneumatopteris costata   \n953            Macadamia jansenii   \n\n                                     vernacularName  \\\n1                                    Gouldian finch   \n2                           blue-faced parrot-finch   \n3          crimson finch (white-bellied subspecies)   \n4    black-throated finch (white-rumped subspecies)   \n5                                  diamond firetail   \n..                                              ...   \n947                                             NaN   \n948                                             NaN   \n949                                             NaN   \n950                                             NaN   \n953                                             NaN   \n\n              scientificNameAuthorship sourceStatus Significant  \\\n1                        (Gould, 1844)            E           Y   \n2                     (Kittlitz, 1835)           NT           Y   \n3          (Hombron & Jacquinot, 1841)            E           Y   \n4                          Gould, 1837            E           Y   \n5                         (Shaw, 1796)            V           Y   \n..                                 ...          ...         ...   \n947  (Holttum) T.E.Almeida & A.R.Field           CR           Y   \n948                            Holttum            E           Y   \n949                     (Ces.) Holttum            E           Y   \n950                   (Brack.) Holttum           NT           Y   \n953             C.L.Gross & P.H.Weston           CR           Y   \n\n                    status                Endemicity EPBC Status  \n1               Endangered             Intranational  Endangered  \n2          Near Threatened  Not Endemic to Australia         NaN  \n3               Endangered          Regional Endemic  Endangered  \n4               Endangered             Intranational  Endangered  \n5               Vulnerable             Intranational         NaN  \n..                     ...                       ...         ...  \n947  Critically Endangered        Queensland Endemic         NaN  \n948             Endangered        Queensland Endemic  Endangered  \n949             Endangered          Regional Endemic  Endangered  \n950        Near Threatened          Regional Endemic         NaN  \n953  Critically Endangered        Queensland Endemic  Endangered  \n\n[612 rows x 12 columns]",
      "text/html": "<div>\n<style scoped>\n    .dataframe tbody tr th:only-of-type {\n        vertical-align: middle;\n    }\n\n    .dataframe tbody tr th {\n        vertical-align: top;\n    }\n\n    .dataframe thead th {\n        text-align: right;\n    }\n</style>\n<table border=\"1\" class=\"dataframe\">\n  <thead>\n    <tr style=\"text-align: right;\">\n      <th></th>\n      <th>taxonID</th>\n      <th>kingdom</th>\n      <th>class</th>\n      <th>family</th>\n      <th>scientificName</th>\n      <th>vernacularName</th>\n      <th>scientificNameAuthorship</th>\n      <th>sourceStatus</th>\n      <th>Significant</th>\n      <th>status</th>\n      <th>Endemicity</th>\n      <th>EPBC Status</th>\n    </tr>\n  </thead>\n  <tbody>\n    <tr>\n      <th>1</th>\n      <td>1376</td>\n      <td>Animalia</td>\n      <td>Aves</td>\n      <td>Estrildidae</td>\n      <td>Chloebia gouldiae</td>\n      <td>Gouldian finch</td>\n      <td>(Gould, 1844)</td>\n      <td>E</td>\n      <td>Y</td>\n      <td>Endangered</td>\n      <td>Intranational</td>\n      <td>Endangered</td>\n    </tr>\n    <tr>\n      <th>2</th>\n      <td>1378</td>\n      <td>Animalia</td>\n      <td>Aves</td>\n      <td>Estrildidae</td>\n      <td>Erythrura trichroa</td>\n      <td>blue-faced parrot-finch</td>\n      <td>(Kittlitz, 1835)</td>\n      <td>NT</td>\n      <td>Y</td>\n      <td>Near Threatened</td>\n      <td>Not Endemic to Australia</td>\n      <td>NaN</td>\n    </tr>\n    <tr>\n      <th>3</th>\n      <td>1370</td>\n      <td>Animalia</td>\n      <td>Aves</td>\n      <td>Estrildidae</td>\n      <td>Neochmia phaeton evangelinae</td>\n      <td>crimson finch (white-bellied subspecies)</td>\n      <td>(Hombron &amp; Jacquinot, 1841)</td>\n      <td>E</td>\n      <td>Y</td>\n      <td>Endangered</td>\n      <td>Regional Endemic</td>\n      <td>Endangered</td>\n    </tr>\n    <tr>\n      <th>4</th>\n      <td>1365</td>\n      <td>Animalia</td>\n      <td>Aves</td>\n      <td>Estrildidae</td>\n      <td>Poephila cincta cincta</td>\n      <td>black-throated finch (white-rumped subspecies)</td>\n      <td>Gould, 1837</td>\n      <td>E</td>\n      <td>Y</td>\n      <td>Endangered</td>\n      <td>Intranational</td>\n      <td>Endangered</td>\n    </tr>\n    <tr>\n      <th>5</th>\n      <td>1355</td>\n      <td>Animalia</td>\n      <td>Aves</td>\n      <td>Estrildidae</td>\n      <td>Stagonopleura guttata</td>\n      <td>diamond firetail</td>\n      <td>(Shaw, 1796)</td>\n      <td>V</td>\n      <td>Y</td>\n      <td>Vulnerable</td>\n      <td>Intranational</td>\n      <td>NaN</td>\n    </tr>\n    <tr>\n      <th>...</th>\n      <td>...</td>\n      <td>...</td>\n      <td>...</td>\n      <td>...</td>\n      <td>...</td>\n      <td>...</td>\n      <td>...</td>\n      <td>...</td>\n      <td>...</td>\n      <td>...</td>\n      <td>...</td>\n      <td>...</td>\n    </tr>\n    <tr>\n      <th>947</th>\n      <td>41354</td>\n      <td>Plantae</td>\n      <td>Equisetopsida</td>\n      <td>Thelypteridaceae</td>\n      <td>Amblovenatum tildeniae</td>\n      <td>NaN</td>\n      <td>(Holttum) T.E.Almeida &amp; A.R.Field</td>\n      <td>CR</td>\n      <td>Y</td>\n      <td>Critically Endangered</td>\n      <td>Queensland Endemic</td>\n      <td>NaN</td>\n    </tr>\n    <tr>\n      <th>948</th>\n      <td>9553</td>\n      <td>Plantae</td>\n      <td>Equisetopsida</td>\n      <td>Thelypteridaceae</td>\n      <td>Chingia australis</td>\n      <td>NaN</td>\n      <td>Holttum</td>\n      <td>E</td>\n      <td>Y</td>\n      <td>Endangered</td>\n      <td>Queensland Endemic</td>\n      <td>Endangered</td>\n    </tr>\n    <tr>\n      <th>949</th>\n      <td>11646</td>\n      <td>Plantae</td>\n      <td>Equisetopsida</td>\n      <td>Thelypteridaceae</td>\n      <td>Plesioneuron tuberculatum</td>\n      <td>NaN</td>\n      <td>(Ces.) Holttum</td>\n      <td>E</td>\n      <td>Y</td>\n      <td>Endangered</td>\n      <td>Regional Endemic</td>\n      <td>Endangered</td>\n    </tr>\n    <tr>\n      <th>950</th>\n      <td>11699</td>\n      <td>Plantae</td>\n      <td>Equisetopsida</td>\n      <td>Thelypteridaceae</td>\n      <td>Pneumatopteris costata</td>\n      <td>NaN</td>\n      <td>(Brack.) Holttum</td>\n      <td>NT</td>\n      <td>Y</td>\n      <td>Near Threatened</td>\n      <td>Regional Endemic</td>\n      <td>NaN</td>\n    </tr>\n    <tr>\n      <th>953</th>\n      <td>8185</td>\n      <td>Plantae</td>\n      <td>Equisetopsida</td>\n      <td>Proteaceae</td>\n      <td>Macadamia jansenii</td>\n      <td>NaN</td>\n      <td>C.L.Gross &amp; P.H.Weston</td>\n      <td>CR</td>\n      <td>Y</td>\n      <td>Critically Endangered</td>\n      <td>Queensland Endemic</td>\n      <td>Endangered</td>\n    </tr>\n  </tbody>\n</table>\n<p>612 rows × 12 columns</p>\n</div>"
     },
     "execution_count": 28,
     "metadata": {},
     "output_type": "execute_result"
    }
   ],
   "source": [
    "newtemplate = pd.DataFrame(columns=['Taxon Name','Status','Authority','IUCN equivalent','Description',\n",
    "                                    'iNaturalist Place ID','url','Taxon Geoprivacy','Username','taxon_id'])\n",
    "# newtemplate['Taxon Name'] = taxonnew['scientificName']\n",
    "# newtemplate['Status'] = taxonnew['scientificName']\n",
    "# newtemplate['Authority'] = taxonnew['scientificName']\n",
    "# newtemplate['IUCN equivalent'] = taxonnew['scientificName']\n",
    "# newtemplate['Description'] = taxonnew['scientificName']\n",
    "# newtemplate['iNaturalist Place ID'] = taxonnew['scientificName']\n",
    "# newtemplate['url'] = taxonnew['scientificName']\n",
    "# newtemplate['Taxon Geoprivacy'] = taxonnew['scientificName']\n",
    "# newtemplate['Username'] = taxonnew['scientificName']\n",
    "# newtemplate['taxon_id'] = taxonnew['scientificName']"
   ],
   "metadata": {
    "collapsed": false,
    "pycharm": {
     "name": "#%%\n"
    }
   }
  },
  {
   "cell_type": "markdown",
   "source": [
    "# Records for Update- needs\n",
    "* Set status to standard terms\n",
    "* Compare status for sensitive vs iNat\n",
    "* Write Update template if update required"
   ],
   "metadata": {
    "collapsed": false,
    "pycharm": {
     "name": "#%% md\n"
    }
   }
  },
  {
   "cell_type": "code",
   "execution_count": null,
   "outputs": [],
   "source": [
    "updatetemplate = pd.DataFrame(columns=['action', 'taxon_name', 'taxon_id', 'status', 'iucn equivalent',\n",
    "                                    'authority','url', 'geoprivacy', 'place_id', 'username'])\n"
   ],
   "metadata": {
    "collapsed": false,
    "pycharm": {
     "name": "#%%\n"
    }
   }
  }
 ],
 "metadata": {
  "kernelspec": {
   "display_name": "Python 3",
   "language": "python",
   "name": "python3"
  },
  "language_info": {
   "codemirror_mode": {
    "name": "ipython",
    "version": 2
   },
   "file_extension": ".py",
   "mimetype": "text/x-python",
   "name": "python",
   "nbconvert_exporter": "python",
   "pygments_lexer": "ipython2",
   "version": "2.7.6"
  }
 },
 "nbformat": 4,
 "nbformat_minor": 0
}