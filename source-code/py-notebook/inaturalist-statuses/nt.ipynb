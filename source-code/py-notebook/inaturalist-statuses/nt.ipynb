{
 "cells": [
  {
   "cell_type": "markdown",
   "source": [
    "# iNaturalist status updates by state\n",
    "\n",
    "Using the file produced in the collate-status-taxa.ipynb: `inat-aust-status-taxa.csv`, generate lists to update iNaturalist statuses\n",
    "\n",
    "**Next steps:**\n",
    "State by state establish the changes that need to be made:\n",
    "    a. new - any new species that appear in the state lists but do not have a status in inaturalist (new template)\n",
    "    b. updates - any changes to information which was added by us previously (user_id = 708886) (update template, action='UPDATE')\n",
    "    c. removals - any statuses which were added by us previously (user_id = 708886) list which are incorrect (update template, action='REMOVE')\n",
    "    d. flags - are there any statuses by other users that need to be flagged?\n",
    "\n",
    "## Prep - common to all states\n",
    "1. Read in the inaturalist statuses & filter out this state\n",
    "2. Read in the inaturalist taxa list\n",
    "3. Read in the state sensitive list\n",
    "4. Attempt to match the state statuses to an IUCN equivalent\n",
    "\n",
    "\n",
    "### 1. iNaturalist statuses"
   ],
   "metadata": {
    "collapsed": false,
    "pycharm": {
     "name": "#%% md\n"
    }
   }
  },
  {
   "cell_type": "code",
   "execution_count": 51,
   "outputs": [
    {
     "data": {
      "text/plain": "       id taxon_id  user_id place_id source_id  \\\n0  166449    38493  1138587     7830             \n1  234788   918383   702203     9994             \n2  234789   918383   702203     7308             \n\n                            authority status  \\\n0  Flora and Fauna Guarantee Act 1988     CR   \n1           Atlas of Living Australia    NT    \n2           Atlas of Living Australia     LC   \n\n                                                 url description geoprivacy  \\\n0                                                                  obscured   \n1  https://bie.ala.org.au/species/https://id.biod...                          \n2  https://bie.ala.org.au/species/https://id.biod...                          \n\n   ...         genus specificEpithet infraspecificEpithet  \\\n0  ...     Eulamprus      kosciuskoi                        \n1  ...  Chiloschista     phyllorhiza                        \n2  ...  Chiloschista     phyllorhiza                        \n\n               modified            scientificName taxonRank  \\\n0  2021-03-01T10:35:01Z      Eulamprus kosciuskoi   species   \n1  2022-01-08T03:30:36Z  Chiloschista phyllorhiza   species   \n2  2022-01-08T03:30:36Z  Chiloschista phyllorhiza   species   \n\n                                          references preferred_common_name  \\\n0  http://reptile-database.reptarium.cz/search.ph...                         \n1  http://www.catalogueoflife.org/annual-checklis...                         \n2  http://www.catalogueoflife.org/annual-checklis...                         \n\n  is_active current_synonymous_taxon_ids  \n0                                         \n1                                         \n2                                         \n\n[3 rows x 34 columns]",
      "text/html": "<div>\n<style scoped>\n    .dataframe tbody tr th:only-of-type {\n        vertical-align: middle;\n    }\n\n    .dataframe tbody tr th {\n        vertical-align: top;\n    }\n\n    .dataframe thead th {\n        text-align: right;\n    }\n</style>\n<table border=\"1\" class=\"dataframe\">\n  <thead>\n    <tr style=\"text-align: right;\">\n      <th></th>\n      <th>id</th>\n      <th>taxon_id</th>\n      <th>user_id</th>\n      <th>place_id</th>\n      <th>source_id</th>\n      <th>authority</th>\n      <th>status</th>\n      <th>url</th>\n      <th>description</th>\n      <th>geoprivacy</th>\n      <th>...</th>\n      <th>genus</th>\n      <th>specificEpithet</th>\n      <th>infraspecificEpithet</th>\n      <th>modified</th>\n      <th>scientificName</th>\n      <th>taxonRank</th>\n      <th>references</th>\n      <th>preferred_common_name</th>\n      <th>is_active</th>\n      <th>current_synonymous_taxon_ids</th>\n    </tr>\n  </thead>\n  <tbody>\n    <tr>\n      <th>0</th>\n      <td>166449</td>\n      <td>38493</td>\n      <td>1138587</td>\n      <td>7830</td>\n      <td></td>\n      <td>Flora and Fauna Guarantee Act 1988</td>\n      <td>CR</td>\n      <td></td>\n      <td></td>\n      <td>obscured</td>\n      <td>...</td>\n      <td>Eulamprus</td>\n      <td>kosciuskoi</td>\n      <td></td>\n      <td>2021-03-01T10:35:01Z</td>\n      <td>Eulamprus kosciuskoi</td>\n      <td>species</td>\n      <td>http://reptile-database.reptarium.cz/search.ph...</td>\n      <td></td>\n      <td></td>\n      <td></td>\n    </tr>\n    <tr>\n      <th>1</th>\n      <td>234788</td>\n      <td>918383</td>\n      <td>702203</td>\n      <td>9994</td>\n      <td></td>\n      <td>Atlas of Living Australia</td>\n      <td>NT</td>\n      <td>https://bie.ala.org.au/species/https://id.biod...</td>\n      <td></td>\n      <td></td>\n      <td>...</td>\n      <td>Chiloschista</td>\n      <td>phyllorhiza</td>\n      <td></td>\n      <td>2022-01-08T03:30:36Z</td>\n      <td>Chiloschista phyllorhiza</td>\n      <td>species</td>\n      <td>http://www.catalogueoflife.org/annual-checklis...</td>\n      <td></td>\n      <td></td>\n      <td></td>\n    </tr>\n    <tr>\n      <th>2</th>\n      <td>234789</td>\n      <td>918383</td>\n      <td>702203</td>\n      <td>7308</td>\n      <td></td>\n      <td>Atlas of Living Australia</td>\n      <td>LC</td>\n      <td>https://bie.ala.org.au/species/https://id.biod...</td>\n      <td></td>\n      <td></td>\n      <td>...</td>\n      <td>Chiloschista</td>\n      <td>phyllorhiza</td>\n      <td></td>\n      <td>2022-01-08T03:30:36Z</td>\n      <td>Chiloschista phyllorhiza</td>\n      <td>species</td>\n      <td>http://www.catalogueoflife.org/annual-checklis...</td>\n      <td></td>\n      <td></td>\n      <td></td>\n    </tr>\n  </tbody>\n</table>\n<p>3 rows × 34 columns</p>\n</div>"
     },
     "execution_count": 51,
     "metadata": {},
     "output_type": "execute_result"
    }
   ],
   "source": [
    "import pandas as pd\n",
    "\n",
    "projectdir = \"/Users/oco115/PycharmProjects/authoritative-lists/\" # basedir for this gh project\n",
    "# projectdir = \"/Users/new330/IdeaProjects/authoritative-lists/\" # basedir for this gh project\n",
    "sourcedir = projectdir + \"source-data/inaturalist-statuses/\"\n",
    "listdir = projectdir + \"current-lists/\"\n",
    "\n",
    "\n",
    "# read in the statuses\n",
    "taxastatus = pd.read_csv(sourcedir + \"inat-aust-status-taxa.csv\", encoding='UTF-8',na_filter=False,dtype=str) ## Read inaturalist conservation statuses file\n",
    "taxastatus.head(3)"
   ],
   "metadata": {
    "collapsed": false,
    "pycharm": {
     "name": "#%%\n"
    }
   }
  },
  {
   "cell_type": "code",
   "execution_count": 52,
   "outputs": [
    {
     "data": {
      "text/plain": "     status_id taxon_id user_id place_id source_id                  authority  \\\n1001    162724  1134239  702203     9994                   Northern Territory   \n927     165448    12647  702203     9994                   Northern Territory   \n289     263901  1289379  702203     9994            Atlas of Living Australia   \n1251    152435    19250  708886     9994     16652                  NT NRETAS   \n215     170163    20166  702203     9994            Atlas of Living Australia   \n1249    152433    38633  708886     9994     16652                  NT NRETAS   \n1252    152436    40743  708886     9994     16652                  NT NRETAS   \n1248    152432    41326  708886     9994     16652                  NT NRETAS   \n986     139906   698942             9994                                        \n1247    152431    73180  708886     9994     16652                  NT NRETAS   \n1250    152434    74425  708886     9994     16652                  NT NRETAS   \n1       234788   918383  702203     9994            Atlas of Living Australia   \n\n             status                                                url  \\\n1001             LC  https://bie.ala.org.au/species/https://id.biod...   \n927              LC  https://bie.ala.org.au/species/urn:lsid:biodiv...   \n289              VU  https://bie.ala.org.au/species/urn:lsid:biodiv...   \n1251     endangered  https://lists.ala.org.au/speciesListItem/list/...   \n215              LC  https://bie.ala.org.au/species/urn:lsid:biodiv...   \n1249     endangered  https://lists.ala.org.au/speciesListItem/list/...   \n1252     endangered  https://lists.ala.org.au/speciesListItem/list/...   \n1248     endangered  https://lists.ala.org.au/speciesListItem/list/...   \n986   least concern  https://bie.ala.org.au/species/http://id.biodi...   \n1247     endangered  https://lists.ala.org.au/speciesListItem/list/...   \n1250     endangered  https://lists.ala.org.au/speciesListItem/list/...   \n1               NT   https://bie.ala.org.au/species/https://id.biod...   \n\n                          description geoprivacy  ...         genus  \\\n1001                                        open  ...    Cryptandra   \n927                                         open  ...    Epthianura   \n289                                         open  ...      Chloebia   \n1251                                    obscured  ...     Polytelis   \n215                                               ...         Ninox   \n1249                                    obscured  ...   Bellatorias   \n1252                                    obscured  ...                 \n1248                                    obscured  ...    Macroderma   \n986   Atlas of Living Australia (ALA)             ...      Duboisia   \n1247                                     private  ...     Pezoporus   \n1250                                    obscured  ...  Hipposideros   \n1                                                 ...  Chiloschista   \n\n     specificEpithet infraspecificEpithet              modified  \\\n1001         gemmata                       2020-09-25T18:01:37Z   \n927           crocea                       2021-09-17T08:46:17Z   \n289         gouldiae                       2022-10-20T02:55:37Z   \n1251      alexandrae                       2019-08-27T01:09:01Z   \n215        connivens                       2021-07-28T02:17:03Z   \n1249           obiri                       2019-04-30T15:19:21Z   \n1252                                                              \n1248           gigas                       2019-08-27T01:58:05Z   \n986        hopwoodii                       2019-02-16T13:19:18Z   \n1247    occidentalis                       2019-08-27T01:09:27Z   \n1250       inornatus                       2019-01-05T10:25:06Z   \n1        phyllorhiza                       2022-01-08T03:30:36Z   \n\n                scientificName taxonRank  \\\n1001        Cryptandra gemmata   species   \n927          Epthianura crocea   species   \n289          Chloebia gouldiae   species   \n1251      Polytelis alexandrae   species   \n215            Ninox connivens   species   \n1249         Bellatorias obiri   species   \n1252     Hipposideros stenotis             \n1248          Macroderma gigas   species   \n986         Duboisia hopwoodii   species   \n1247    Pezoporus occidentalis   species   \n1250    Hipposideros inornatus   species   \n1     Chiloschista phyllorhiza   species   \n\n                                             references  \\\n1001  http://plantsoftheworldonline.org/taxon/urn:ls...   \n927   http://www.birdlife.org/datazone/speciesfactsh...   \n289   https://www.birds.cornell.edu/clementschecklis...   \n1251  http://www.birdlife.org/datazone/speciesfactsh...   \n215   http://www.birdlife.org/datazone/speciesfactsh...   \n1249  http://reptile-database.reptarium.cz/search.ph...   \n1252                                                      \n1248  http://www.catalogueoflife.org/annual-checklis...   \n986                             https://www.ala.org.au/   \n1247  http://www.birdlife.org/datazone/speciesfactsh...   \n1250        http://www.iucnredlist.org/details/136739/0   \n1     http://www.catalogueoflife.org/annual-checklis...   \n\n           preferred_common_name is_active current_synonymous_taxon_ids  \n1001                                                                     \n927                                                                      \n289                                                                      \n1251                                                                     \n215                                                                      \n1249                                                                     \n1252  Narrow-eared Roundleaf Bat     False                    [1431118]  \n1248                                                                     \n986                                                                      \n1247                                                                     \n1250                                                                     \n1                                                                        \n\n[12 rows x 34 columns]",
      "text/html": "<div>\n<style scoped>\n    .dataframe tbody tr th:only-of-type {\n        vertical-align: middle;\n    }\n\n    .dataframe tbody tr th {\n        vertical-align: top;\n    }\n\n    .dataframe thead th {\n        text-align: right;\n    }\n</style>\n<table border=\"1\" class=\"dataframe\">\n  <thead>\n    <tr style=\"text-align: right;\">\n      <th></th>\n      <th>status_id</th>\n      <th>taxon_id</th>\n      <th>user_id</th>\n      <th>place_id</th>\n      <th>source_id</th>\n      <th>authority</th>\n      <th>status</th>\n      <th>url</th>\n      <th>description</th>\n      <th>geoprivacy</th>\n      <th>...</th>\n      <th>genus</th>\n      <th>specificEpithet</th>\n      <th>infraspecificEpithet</th>\n      <th>modified</th>\n      <th>scientificName</th>\n      <th>taxonRank</th>\n      <th>references</th>\n      <th>preferred_common_name</th>\n      <th>is_active</th>\n      <th>current_synonymous_taxon_ids</th>\n    </tr>\n  </thead>\n  <tbody>\n    <tr>\n      <th>1001</th>\n      <td>162724</td>\n      <td>1134239</td>\n      <td>702203</td>\n      <td>9994</td>\n      <td></td>\n      <td>Northern Territory</td>\n      <td>LC</td>\n      <td>https://bie.ala.org.au/species/https://id.biod...</td>\n      <td></td>\n      <td>open</td>\n      <td>...</td>\n      <td>Cryptandra</td>\n      <td>gemmata</td>\n      <td></td>\n      <td>2020-09-25T18:01:37Z</td>\n      <td>Cryptandra gemmata</td>\n      <td>species</td>\n      <td>http://plantsoftheworldonline.org/taxon/urn:ls...</td>\n      <td></td>\n      <td></td>\n      <td></td>\n    </tr>\n    <tr>\n      <th>927</th>\n      <td>165448</td>\n      <td>12647</td>\n      <td>702203</td>\n      <td>9994</td>\n      <td></td>\n      <td>Northern Territory</td>\n      <td>LC</td>\n      <td>https://bie.ala.org.au/species/urn:lsid:biodiv...</td>\n      <td></td>\n      <td>open</td>\n      <td>...</td>\n      <td>Epthianura</td>\n      <td>crocea</td>\n      <td></td>\n      <td>2021-09-17T08:46:17Z</td>\n      <td>Epthianura crocea</td>\n      <td>species</td>\n      <td>http://www.birdlife.org/datazone/speciesfactsh...</td>\n      <td></td>\n      <td></td>\n      <td></td>\n    </tr>\n    <tr>\n      <th>289</th>\n      <td>263901</td>\n      <td>1289379</td>\n      <td>702203</td>\n      <td>9994</td>\n      <td></td>\n      <td>Atlas of Living Australia</td>\n      <td>VU</td>\n      <td>https://bie.ala.org.au/species/urn:lsid:biodiv...</td>\n      <td></td>\n      <td>open</td>\n      <td>...</td>\n      <td>Chloebia</td>\n      <td>gouldiae</td>\n      <td></td>\n      <td>2022-10-20T02:55:37Z</td>\n      <td>Chloebia gouldiae</td>\n      <td>species</td>\n      <td>https://www.birds.cornell.edu/clementschecklis...</td>\n      <td></td>\n      <td></td>\n      <td></td>\n    </tr>\n    <tr>\n      <th>1251</th>\n      <td>152435</td>\n      <td>19250</td>\n      <td>708886</td>\n      <td>9994</td>\n      <td>16652</td>\n      <td>NT NRETAS</td>\n      <td>endangered</td>\n      <td>https://lists.ala.org.au/speciesListItem/list/...</td>\n      <td></td>\n      <td>obscured</td>\n      <td>...</td>\n      <td>Polytelis</td>\n      <td>alexandrae</td>\n      <td></td>\n      <td>2019-08-27T01:09:01Z</td>\n      <td>Polytelis alexandrae</td>\n      <td>species</td>\n      <td>http://www.birdlife.org/datazone/speciesfactsh...</td>\n      <td></td>\n      <td></td>\n      <td></td>\n    </tr>\n    <tr>\n      <th>215</th>\n      <td>170163</td>\n      <td>20166</td>\n      <td>702203</td>\n      <td>9994</td>\n      <td></td>\n      <td>Atlas of Living Australia</td>\n      <td>LC</td>\n      <td>https://bie.ala.org.au/species/urn:lsid:biodiv...</td>\n      <td></td>\n      <td></td>\n      <td>...</td>\n      <td>Ninox</td>\n      <td>connivens</td>\n      <td></td>\n      <td>2021-07-28T02:17:03Z</td>\n      <td>Ninox connivens</td>\n      <td>species</td>\n      <td>http://www.birdlife.org/datazone/speciesfactsh...</td>\n      <td></td>\n      <td></td>\n      <td></td>\n    </tr>\n    <tr>\n      <th>1249</th>\n      <td>152433</td>\n      <td>38633</td>\n      <td>708886</td>\n      <td>9994</td>\n      <td>16652</td>\n      <td>NT NRETAS</td>\n      <td>endangered</td>\n      <td>https://lists.ala.org.au/speciesListItem/list/...</td>\n      <td></td>\n      <td>obscured</td>\n      <td>...</td>\n      <td>Bellatorias</td>\n      <td>obiri</td>\n      <td></td>\n      <td>2019-04-30T15:19:21Z</td>\n      <td>Bellatorias obiri</td>\n      <td>species</td>\n      <td>http://reptile-database.reptarium.cz/search.ph...</td>\n      <td></td>\n      <td></td>\n      <td></td>\n    </tr>\n    <tr>\n      <th>1252</th>\n      <td>152436</td>\n      <td>40743</td>\n      <td>708886</td>\n      <td>9994</td>\n      <td>16652</td>\n      <td>NT NRETAS</td>\n      <td>endangered</td>\n      <td>https://lists.ala.org.au/speciesListItem/list/...</td>\n      <td></td>\n      <td>obscured</td>\n      <td>...</td>\n      <td></td>\n      <td></td>\n      <td></td>\n      <td></td>\n      <td>Hipposideros stenotis</td>\n      <td></td>\n      <td></td>\n      <td>Narrow-eared Roundleaf Bat</td>\n      <td>False</td>\n      <td>[1431118]</td>\n    </tr>\n    <tr>\n      <th>1248</th>\n      <td>152432</td>\n      <td>41326</td>\n      <td>708886</td>\n      <td>9994</td>\n      <td>16652</td>\n      <td>NT NRETAS</td>\n      <td>endangered</td>\n      <td>https://lists.ala.org.au/speciesListItem/list/...</td>\n      <td></td>\n      <td>obscured</td>\n      <td>...</td>\n      <td>Macroderma</td>\n      <td>gigas</td>\n      <td></td>\n      <td>2019-08-27T01:58:05Z</td>\n      <td>Macroderma gigas</td>\n      <td>species</td>\n      <td>http://www.catalogueoflife.org/annual-checklis...</td>\n      <td></td>\n      <td></td>\n      <td></td>\n    </tr>\n    <tr>\n      <th>986</th>\n      <td>139906</td>\n      <td>698942</td>\n      <td></td>\n      <td>9994</td>\n      <td></td>\n      <td></td>\n      <td>least concern</td>\n      <td>https://bie.ala.org.au/species/http://id.biodi...</td>\n      <td>Atlas of Living Australia (ALA)</td>\n      <td></td>\n      <td>...</td>\n      <td>Duboisia</td>\n      <td>hopwoodii</td>\n      <td></td>\n      <td>2019-02-16T13:19:18Z</td>\n      <td>Duboisia hopwoodii</td>\n      <td>species</td>\n      <td>https://www.ala.org.au/</td>\n      <td></td>\n      <td></td>\n      <td></td>\n    </tr>\n    <tr>\n      <th>1247</th>\n      <td>152431</td>\n      <td>73180</td>\n      <td>708886</td>\n      <td>9994</td>\n      <td>16652</td>\n      <td>NT NRETAS</td>\n      <td>endangered</td>\n      <td>https://lists.ala.org.au/speciesListItem/list/...</td>\n      <td></td>\n      <td>private</td>\n      <td>...</td>\n      <td>Pezoporus</td>\n      <td>occidentalis</td>\n      <td></td>\n      <td>2019-08-27T01:09:27Z</td>\n      <td>Pezoporus occidentalis</td>\n      <td>species</td>\n      <td>http://www.birdlife.org/datazone/speciesfactsh...</td>\n      <td></td>\n      <td></td>\n      <td></td>\n    </tr>\n    <tr>\n      <th>1250</th>\n      <td>152434</td>\n      <td>74425</td>\n      <td>708886</td>\n      <td>9994</td>\n      <td>16652</td>\n      <td>NT NRETAS</td>\n      <td>endangered</td>\n      <td>https://lists.ala.org.au/speciesListItem/list/...</td>\n      <td></td>\n      <td>obscured</td>\n      <td>...</td>\n      <td>Hipposideros</td>\n      <td>inornatus</td>\n      <td></td>\n      <td>2019-01-05T10:25:06Z</td>\n      <td>Hipposideros inornatus</td>\n      <td>species</td>\n      <td>http://www.iucnredlist.org/details/136739/0</td>\n      <td></td>\n      <td></td>\n      <td></td>\n    </tr>\n    <tr>\n      <th>1</th>\n      <td>234788</td>\n      <td>918383</td>\n      <td>702203</td>\n      <td>9994</td>\n      <td></td>\n      <td>Atlas of Living Australia</td>\n      <td>NT</td>\n      <td>https://bie.ala.org.au/species/https://id.biod...</td>\n      <td></td>\n      <td></td>\n      <td>...</td>\n      <td>Chiloschista</td>\n      <td>phyllorhiza</td>\n      <td></td>\n      <td>2022-01-08T03:30:36Z</td>\n      <td>Chiloschista phyllorhiza</td>\n      <td>species</td>\n      <td>http://www.catalogueoflife.org/annual-checklis...</td>\n      <td></td>\n      <td></td>\n      <td></td>\n    </tr>\n  </tbody>\n</table>\n<p>12 rows × 34 columns</p>\n</div>"
     },
     "execution_count": 52,
     "metadata": {},
     "output_type": "execute_result"
    }
   ],
   "source": [
    "def filter_state_statuses(stateregex: str, urlregex: str):\n",
    "    authoritydf = taxastatus['authority'].drop_duplicates().sort_values()\n",
    "    authoritydf = authoritydf[pd.Series(authoritydf).str.contains(stateregex)]\n",
    "    # print(authoritydf)\n",
    "    urldf = taxastatus['url'].drop_duplicates().sort_values()\n",
    "    urldf = urldf[pd.Series(urldf).str.contains(urlregex)]\n",
    "    placedisplaydf = taxastatus['place_display_name'].drop_duplicates().sort_values()\n",
    "    placedisplaydf = placedisplaydf[pd.Series(placedisplaydf).str.contains(stateregex)]\n",
    "    placedf = taxastatus['place_name'].drop_duplicates().sort_values()\n",
    "    placedf = placedf[pd.Series(placedf).str.contains(stateregex)]\n",
    "    # concat all and remove duplicates\n",
    "    statedf = pd.concat([taxastatus.apply(lambda row: row[taxastatus['place_display_name'].isin(placedisplaydf)]),\n",
    "                         taxastatus.apply(lambda row: row[taxastatus['place_name'].isin(placedf)]),\n",
    "                         # taxastatus.apply(lambda row: row[taxastatus['url'].isin(urldf)]),\n",
    "                         taxastatus.apply(\n",
    "                             lambda row: row[taxastatus['authority'].isin(authoritydf)])]).drop_duplicates()\n",
    "    return statedf.sort_values(['taxon_id', 'user_id'])\n",
    "inatstatuses = filter_state_statuses(\"Northern Territory|NT NRETAS\", \" \")\n",
    "inatstatuses.rename(columns={'id':'status_id','id_y':'taxon_id_y'},inplace=True)\n",
    "inatstatuses"
   ],
   "metadata": {
    "collapsed": false,
    "pycharm": {
     "name": "#%%\n"
    }
   }
  },
  {
   "cell_type": "markdown",
   "source": [
    "### 2. iNaturalist taxonomy"
   ],
   "metadata": {
    "collapsed": false,
    "pycharm": {
     "name": "#%% md\n"
    }
   }
  },
  {
   "cell_type": "code",
   "execution_count": 53,
   "outputs": [
    {
     "data": {
      "text/plain": "  id                             taxonID                          identifier  \\\n0  1  https://www.inaturalist.org/taxa/1  https://www.inaturalist.org/taxa/1   \n1  2  https://www.inaturalist.org/taxa/2  https://www.inaturalist.org/taxa/2   \n2  3  https://www.inaturalist.org/taxa/3  https://www.inaturalist.org/taxa/3   \n\n                         parentNameUsageID   kingdom    phylum class order  \\\n0   https://www.inaturalist.org/taxa/48460  Animalia       NaN   NaN   NaN   \n1       https://www.inaturalist.org/taxa/1  Animalia  Chordata   NaN   NaN   \n2  https://www.inaturalist.org/taxa/355675  Animalia  Chordata  Aves   NaN   \n\n  family genus specificEpithet infraspecificEpithet              modified  \\\n0    NaN   NaN             NaN                  NaN  2021-11-02T06:05:44Z   \n1    NaN   NaN             NaN                  NaN  2021-11-23T00:40:18Z   \n2    NaN   NaN             NaN                  NaN  2022-12-27T07:33:16Z   \n\n  scientificName taxonRank                                         references  \n0       Animalia   kingdom  http://www.catalogueoflife.org/annual-checklis...  \n1       Chordata    phylum  http://www.catalogueoflife.org/annual-checklis...  \n2           Aves     class  http://www.catalogueoflife.org/annual-checklis...  ",
      "text/html": "<div>\n<style scoped>\n    .dataframe tbody tr th:only-of-type {\n        vertical-align: middle;\n    }\n\n    .dataframe tbody tr th {\n        vertical-align: top;\n    }\n\n    .dataframe thead th {\n        text-align: right;\n    }\n</style>\n<table border=\"1\" class=\"dataframe\">\n  <thead>\n    <tr style=\"text-align: right;\">\n      <th></th>\n      <th>id</th>\n      <th>taxonID</th>\n      <th>identifier</th>\n      <th>parentNameUsageID</th>\n      <th>kingdom</th>\n      <th>phylum</th>\n      <th>class</th>\n      <th>order</th>\n      <th>family</th>\n      <th>genus</th>\n      <th>specificEpithet</th>\n      <th>infraspecificEpithet</th>\n      <th>modified</th>\n      <th>scientificName</th>\n      <th>taxonRank</th>\n      <th>references</th>\n    </tr>\n  </thead>\n  <tbody>\n    <tr>\n      <th>0</th>\n      <td>1</td>\n      <td>https://www.inaturalist.org/taxa/1</td>\n      <td>https://www.inaturalist.org/taxa/1</td>\n      <td>https://www.inaturalist.org/taxa/48460</td>\n      <td>Animalia</td>\n      <td>NaN</td>\n      <td>NaN</td>\n      <td>NaN</td>\n      <td>NaN</td>\n      <td>NaN</td>\n      <td>NaN</td>\n      <td>NaN</td>\n      <td>2021-11-02T06:05:44Z</td>\n      <td>Animalia</td>\n      <td>kingdom</td>\n      <td>http://www.catalogueoflife.org/annual-checklis...</td>\n    </tr>\n    <tr>\n      <th>1</th>\n      <td>2</td>\n      <td>https://www.inaturalist.org/taxa/2</td>\n      <td>https://www.inaturalist.org/taxa/2</td>\n      <td>https://www.inaturalist.org/taxa/1</td>\n      <td>Animalia</td>\n      <td>Chordata</td>\n      <td>NaN</td>\n      <td>NaN</td>\n      <td>NaN</td>\n      <td>NaN</td>\n      <td>NaN</td>\n      <td>NaN</td>\n      <td>2021-11-23T00:40:18Z</td>\n      <td>Chordata</td>\n      <td>phylum</td>\n      <td>http://www.catalogueoflife.org/annual-checklis...</td>\n    </tr>\n    <tr>\n      <th>2</th>\n      <td>3</td>\n      <td>https://www.inaturalist.org/taxa/3</td>\n      <td>https://www.inaturalist.org/taxa/3</td>\n      <td>https://www.inaturalist.org/taxa/355675</td>\n      <td>Animalia</td>\n      <td>Chordata</td>\n      <td>Aves</td>\n      <td>NaN</td>\n      <td>NaN</td>\n      <td>NaN</td>\n      <td>NaN</td>\n      <td>NaN</td>\n      <td>2022-12-27T07:33:16Z</td>\n      <td>Aves</td>\n      <td>class</td>\n      <td>http://www.catalogueoflife.org/annual-checklis...</td>\n    </tr>\n  </tbody>\n</table>\n</div>"
     },
     "execution_count": 53,
     "metadata": {},
     "output_type": "execute_result"
    }
   ],
   "source": [
    "# Output files contain these fields\n",
    "# Taxon_Name,Status,Authority,IUCN_equivalent,Description,iNaturalist_Place_ID,url,Taxon_Geoprivacy,Username,taxon_id\n",
    "# so we need to match species from the state lists to the inat taxa to get the taxon_id\n",
    "\n",
    "import zipfile\n",
    "url = \"https://www.inaturalist.org/taxa/inaturalist-taxonomy.dwca.zip\"\n",
    "filename = url.split(\"/\")[-1]\n",
    "\n",
    "z=zipfile.ZipFile(sourcedir + filename)\n",
    "\n",
    "with z.open('taxa.csv') as from_archive:\n",
    "    inattaxa = pd.read_csv(from_archive,dtype=str)\n",
    "z.close()\n",
    "inattaxa.head(3)\n"
   ],
   "metadata": {
    "collapsed": false,
    "pycharm": {
     "name": "#%%\n"
    }
   }
  },
  {
   "cell_type": "markdown",
   "source": [
    "### 3. State lists\n",
    "Sensitive list: `geoprivacy` = `obscured`\n",
    "overrides"
   ],
   "metadata": {
    "collapsed": false,
    "pycharm": {
     "name": "#%% md\n"
    }
   }
  },
  {
   "cell_type": "code",
   "execution_count": 54,
   "outputs": [],
   "source": [
    "# NT - No sensitive list\n",
    "\n",
    "# sensitivelist = pd.read_csv(listdir + \"sensitive-lists/NT-sensitive.csv\")  # Qld sensitive list\n",
    "# sensitivelist['scientificName'] = sensitivelist['scientificname'].str.replace('subsp. ', '', regex=False)\n",
    "# sensitivelist['bionet_geoprivacy'] = 'obscured'\n",
    "# # sensitivelist = sensitivelist.rename(columns={'taxonID':'wildnetTaxonID'})\n",
    "# sensitivelist"
   ],
   "metadata": {
    "collapsed": false,
    "pycharm": {
     "name": "#%%\n"
    }
   }
  },
  {
   "cell_type": "code",
   "execution_count": 55,
   "outputs": [
    {
     "data": {
      "text/plain": "       family                 status                sourceStatus  \\\n0         NaN            Vulnerable   Vulnerable (extinct in NT)   \n1         NaN             Vulnerable  Vulnerable (extinct in NT)   \n2         NaN             Vulnerable  Vulnerable (extinct in NT)   \n3         NaN             Vulnerable  Vulnerable (extinct in NT)   \n4    Fabaceae             Vulnerable                  Vulnerable   \n..        ...                    ...                         ...   \n199       NaN  Critically Endangered       Critically Endangered   \n200       NaN  Critically Endangered       Critically Endangered   \n201       NaN  Critically Endangered       Critically Endangered   \n202       NaN  Critically Endangered       Critically Endangered   \n203       NaN  Critically Endangered       Critically Endangered   \n\n                        vernacularName                 scientificName  \\\n0                              Kowari              Dasyuroides byrnei   \n1               Red-tailed phascogale               Phascogale calura   \n2                     Shark Bay mouse                Pseudomys fieldi   \n3                       Western quoll              Dasyurus geoffroii   \n4                        Latz's wattle                  Acacia latzii   \n..                                 ...                            ...   \n199                        Malleefowl                 Leipoa ocellata   \n200                    Northern quoll             Dasyurus hallucatus   \n201                   Plains-wanderer            Pedionomus torquatus   \n202            Saddle Creek rocksnail          Vincentrachia desmonda   \n203  Thick-billed grasswren (western)   Amytornis modestus indulkanna   \n\n     taxonRemarks bionet_geoprivacy  \n0          Mammal              open  \n1          Mammal              open  \n2          Mammal              open  \n3          Mammal              open  \n4             NaN              open  \n..            ...               ...  \n199          Bird              open  \n200        Mammal              open  \n201          Bird              open  \n202  Invertebrate              open  \n203          Bird              open  \n\n[204 rows x 7 columns]",
      "text/html": "<div>\n<style scoped>\n    .dataframe tbody tr th:only-of-type {\n        vertical-align: middle;\n    }\n\n    .dataframe tbody tr th {\n        vertical-align: top;\n    }\n\n    .dataframe thead th {\n        text-align: right;\n    }\n</style>\n<table border=\"1\" class=\"dataframe\">\n  <thead>\n    <tr style=\"text-align: right;\">\n      <th></th>\n      <th>family</th>\n      <th>status</th>\n      <th>sourceStatus</th>\n      <th>vernacularName</th>\n      <th>scientificName</th>\n      <th>taxonRemarks</th>\n      <th>bionet_geoprivacy</th>\n    </tr>\n  </thead>\n  <tbody>\n    <tr>\n      <th>0</th>\n      <td>NaN</td>\n      <td>Vulnerable</td>\n      <td>Vulnerable (extinct in NT)</td>\n      <td>Kowari</td>\n      <td>Dasyuroides byrnei</td>\n      <td>Mammal</td>\n      <td>open</td>\n    </tr>\n    <tr>\n      <th>1</th>\n      <td>NaN</td>\n      <td>Vulnerable</td>\n      <td>Vulnerable (extinct in NT)</td>\n      <td>Red-tailed phascogale</td>\n      <td>Phascogale calura</td>\n      <td>Mammal</td>\n      <td>open</td>\n    </tr>\n    <tr>\n      <th>2</th>\n      <td>NaN</td>\n      <td>Vulnerable</td>\n      <td>Vulnerable (extinct in NT)</td>\n      <td>Shark Bay mouse</td>\n      <td>Pseudomys fieldi</td>\n      <td>Mammal</td>\n      <td>open</td>\n    </tr>\n    <tr>\n      <th>3</th>\n      <td>NaN</td>\n      <td>Vulnerable</td>\n      <td>Vulnerable (extinct in NT)</td>\n      <td>Western quoll</td>\n      <td>Dasyurus geoffroii</td>\n      <td>Mammal</td>\n      <td>open</td>\n    </tr>\n    <tr>\n      <th>4</th>\n      <td>Fabaceae</td>\n      <td>Vulnerable</td>\n      <td>Vulnerable</td>\n      <td>Latz's wattle</td>\n      <td>Acacia latzii</td>\n      <td>NaN</td>\n      <td>open</td>\n    </tr>\n    <tr>\n      <th>...</th>\n      <td>...</td>\n      <td>...</td>\n      <td>...</td>\n      <td>...</td>\n      <td>...</td>\n      <td>...</td>\n      <td>...</td>\n    </tr>\n    <tr>\n      <th>199</th>\n      <td>NaN</td>\n      <td>Critically Endangered</td>\n      <td>Critically Endangered</td>\n      <td>Malleefowl</td>\n      <td>Leipoa ocellata</td>\n      <td>Bird</td>\n      <td>open</td>\n    </tr>\n    <tr>\n      <th>200</th>\n      <td>NaN</td>\n      <td>Critically Endangered</td>\n      <td>Critically Endangered</td>\n      <td>Northern quoll</td>\n      <td>Dasyurus hallucatus</td>\n      <td>Mammal</td>\n      <td>open</td>\n    </tr>\n    <tr>\n      <th>201</th>\n      <td>NaN</td>\n      <td>Critically Endangered</td>\n      <td>Critically Endangered</td>\n      <td>Plains-wanderer</td>\n      <td>Pedionomus torquatus</td>\n      <td>Bird</td>\n      <td>open</td>\n    </tr>\n    <tr>\n      <th>202</th>\n      <td>NaN</td>\n      <td>Critically Endangered</td>\n      <td>Critically Endangered</td>\n      <td>Saddle Creek rocksnail</td>\n      <td>Vincentrachia desmonda</td>\n      <td>Invertebrate</td>\n      <td>open</td>\n    </tr>\n    <tr>\n      <th>203</th>\n      <td>NaN</td>\n      <td>Critically Endangered</td>\n      <td>Critically Endangered</td>\n      <td>Thick-billed grasswren (western)</td>\n      <td>Amytornis modestus indulkanna</td>\n      <td>Bird</td>\n      <td>open</td>\n    </tr>\n  </tbody>\n</table>\n<p>204 rows × 7 columns</p>\n</div>"
     },
     "execution_count": 55,
     "metadata": {},
     "output_type": "execute_result"
    }
   ],
   "source": [
    "conservationlist = pd.read_csv(listdir + \"conservation-lists/NT-conservation.csv\")  # NT sensitive list\n",
    "conservationlist['scientificName'] = conservationlist['scientificName'].str.replace('subsp. ', '', regex=False)\n",
    "# conservationlist = conservationlist.rename(columns={'taxonID':'bionetTaxonID'})\n",
    "# conservationlist['bionet_geoprivacy'] = conservationlist['sensitivityClass'].apply(gpcondition)\n",
    "conservationlist['bionet_geoprivacy'] = 'open'\n",
    "conservationlist"
   ],
   "metadata": {
    "collapsed": false,
    "pycharm": {
     "name": "#%%\n"
    }
   }
  },
  {
   "cell_type": "code",
   "execution_count": 56,
   "outputs": [
    {
     "data": {
      "text/plain": "       family                 status                sourceStatus  \\\n0         NaN            Vulnerable   Vulnerable (extinct in NT)   \n1         NaN             Vulnerable  Vulnerable (extinct in NT)   \n2         NaN             Vulnerable  Vulnerable (extinct in NT)   \n3         NaN             Vulnerable  Vulnerable (extinct in NT)   \n4    Fabaceae             Vulnerable                  Vulnerable   \n..        ...                    ...                         ...   \n199       NaN  Critically Endangered       Critically Endangered   \n200       NaN  Critically Endangered       Critically Endangered   \n201       NaN  Critically Endangered       Critically Endangered   \n202       NaN  Critically Endangered       Critically Endangered   \n203       NaN  Critically Endangered       Critically Endangered   \n\n                        vernacularName                 scientificName  \\\n0                              Kowari              Dasyuroides byrnei   \n1               Red-tailed phascogale               Phascogale calura   \n2                     Shark Bay mouse                Pseudomys fieldi   \n3                       Western quoll              Dasyurus geoffroii   \n4                        Latz's wattle                  Acacia latzii   \n..                                 ...                            ...   \n199                        Malleefowl                 Leipoa ocellata   \n200                    Northern quoll             Dasyurus hallucatus   \n201                   Plains-wanderer            Pedionomus torquatus   \n202            Saddle Creek rocksnail          Vincentrachia desmonda   \n203  Thick-billed grasswren (western)   Amytornis modestus indulkanna   \n\n     taxonRemarks bionet_geoprivacy  \n0          Mammal              open  \n1          Mammal              open  \n2          Mammal              open  \n3          Mammal              open  \n4             NaN              open  \n..            ...               ...  \n199          Bird              open  \n200        Mammal              open  \n201          Bird              open  \n202  Invertebrate              open  \n203          Bird              open  \n\n[204 rows x 7 columns]",
      "text/html": "<div>\n<style scoped>\n    .dataframe tbody tr th:only-of-type {\n        vertical-align: middle;\n    }\n\n    .dataframe tbody tr th {\n        vertical-align: top;\n    }\n\n    .dataframe thead th {\n        text-align: right;\n    }\n</style>\n<table border=\"1\" class=\"dataframe\">\n  <thead>\n    <tr style=\"text-align: right;\">\n      <th></th>\n      <th>family</th>\n      <th>status</th>\n      <th>sourceStatus</th>\n      <th>vernacularName</th>\n      <th>scientificName</th>\n      <th>taxonRemarks</th>\n      <th>bionet_geoprivacy</th>\n    </tr>\n  </thead>\n  <tbody>\n    <tr>\n      <th>0</th>\n      <td>NaN</td>\n      <td>Vulnerable</td>\n      <td>Vulnerable (extinct in NT)</td>\n      <td>Kowari</td>\n      <td>Dasyuroides byrnei</td>\n      <td>Mammal</td>\n      <td>open</td>\n    </tr>\n    <tr>\n      <th>1</th>\n      <td>NaN</td>\n      <td>Vulnerable</td>\n      <td>Vulnerable (extinct in NT)</td>\n      <td>Red-tailed phascogale</td>\n      <td>Phascogale calura</td>\n      <td>Mammal</td>\n      <td>open</td>\n    </tr>\n    <tr>\n      <th>2</th>\n      <td>NaN</td>\n      <td>Vulnerable</td>\n      <td>Vulnerable (extinct in NT)</td>\n      <td>Shark Bay mouse</td>\n      <td>Pseudomys fieldi</td>\n      <td>Mammal</td>\n      <td>open</td>\n    </tr>\n    <tr>\n      <th>3</th>\n      <td>NaN</td>\n      <td>Vulnerable</td>\n      <td>Vulnerable (extinct in NT)</td>\n      <td>Western quoll</td>\n      <td>Dasyurus geoffroii</td>\n      <td>Mammal</td>\n      <td>open</td>\n    </tr>\n    <tr>\n      <th>4</th>\n      <td>Fabaceae</td>\n      <td>Vulnerable</td>\n      <td>Vulnerable</td>\n      <td>Latz's wattle</td>\n      <td>Acacia latzii</td>\n      <td>NaN</td>\n      <td>open</td>\n    </tr>\n    <tr>\n      <th>...</th>\n      <td>...</td>\n      <td>...</td>\n      <td>...</td>\n      <td>...</td>\n      <td>...</td>\n      <td>...</td>\n      <td>...</td>\n    </tr>\n    <tr>\n      <th>199</th>\n      <td>NaN</td>\n      <td>Critically Endangered</td>\n      <td>Critically Endangered</td>\n      <td>Malleefowl</td>\n      <td>Leipoa ocellata</td>\n      <td>Bird</td>\n      <td>open</td>\n    </tr>\n    <tr>\n      <th>200</th>\n      <td>NaN</td>\n      <td>Critically Endangered</td>\n      <td>Critically Endangered</td>\n      <td>Northern quoll</td>\n      <td>Dasyurus hallucatus</td>\n      <td>Mammal</td>\n      <td>open</td>\n    </tr>\n    <tr>\n      <th>201</th>\n      <td>NaN</td>\n      <td>Critically Endangered</td>\n      <td>Critically Endangered</td>\n      <td>Plains-wanderer</td>\n      <td>Pedionomus torquatus</td>\n      <td>Bird</td>\n      <td>open</td>\n    </tr>\n    <tr>\n      <th>202</th>\n      <td>NaN</td>\n      <td>Critically Endangered</td>\n      <td>Critically Endangered</td>\n      <td>Saddle Creek rocksnail</td>\n      <td>Vincentrachia desmonda</td>\n      <td>Invertebrate</td>\n      <td>open</td>\n    </tr>\n    <tr>\n      <th>203</th>\n      <td>NaN</td>\n      <td>Critically Endangered</td>\n      <td>Critically Endangered</td>\n      <td>Thick-billed grasswren (western)</td>\n      <td>Amytornis modestus indulkanna</td>\n      <td>Bird</td>\n      <td>open</td>\n    </tr>\n  </tbody>\n</table>\n<p>204 rows × 7 columns</p>\n</div>"
     },
     "execution_count": 56,
     "metadata": {},
     "output_type": "execute_result"
    }
   ],
   "source": [
    "# join them in a way that works for inat (eg sensitive list, geoprivacy = 'obscured'\n",
    "statelist =  conservationlist.drop_duplicates()\n",
    "statelist"
   ],
   "metadata": {
    "collapsed": false,
    "pycharm": {
     "name": "#%%\n"
    }
   }
  },
  {
   "cell_type": "markdown",
   "source": [
    "### 4. Equivalent IUCN statuses"
   ],
   "metadata": {
    "collapsed": false,
    "pycharm": {
     "name": "#%% md\n"
    }
   }
  },
  {
   "cell_type": "code",
   "execution_count": 57,
   "outputs": [
    {
     "data": {
      "text/plain": "status\nCritically Endangered     20\nEndangered                52\nExtinct                   11\nVulnerable               120\nVulnerable                 1\nName: status, dtype: int64"
     },
     "execution_count": 57,
     "metadata": {},
     "output_type": "execute_result"
    }
   ],
   "source": [
    "iucn_statuses = {'Not Evaluated', 'Data Deficient', 'Least Concern', 'Near Threatened', 'Vulnerable', 'Endangered', 'Critically Endangered', 'Extinct in the Wild' and 'Extinct'}\n",
    "# sensitivelist.groupby(['status'])['status'].count()\n",
    "statelist.groupby(['status'])['status'].count()"
   ],
   "metadata": {
    "collapsed": false,
    "pycharm": {
     "name": "#%%\n"
    }
   }
  },
  {
   "cell_type": "code",
   "execution_count": 58,
   "outputs": [],
   "source": [
    "iucnStatusMappings = {\n",
    "    'Vulnernable':'Vulnerable'\n",
    "}"
   ],
   "metadata": {
    "collapsed": false,
    "pycharm": {
     "name": "#%%\n"
    }
   }
  },
  {
   "cell_type": "markdown",
   "source": [
    "### 5. Determine best place ID to use"
   ],
   "metadata": {
    "collapsed": false,
    "pycharm": {
     "name": "#%% md\n"
    }
   }
  },
  {
   "cell_type": "code",
   "execution_count": 59,
   "outputs": [
    {
     "data": {
      "text/plain": "place_id  place_name          place_display_name    \n9994      Northern Territory  Northern Territory, AU    12\nName: place_id, dtype: int64"
     },
     "execution_count": 59,
     "metadata": {},
     "output_type": "execute_result"
    }
   ],
   "source": [
    "inatstatuses.groupby(['place_id','place_name','place_display_name'])['place_id'].count()\n",
    "# looks like 6825"
   ],
   "metadata": {
    "collapsed": false,
    "pycharm": {
     "name": "#%%\n"
    }
   }
  },
  {
   "cell_type": "markdown",
   "source": [
    "## Merge iNaturalist statuses with State sensitive list on scientificName\n",
    "\n",
    "1. Match - updates, even if the statuses are the same we'll update the links and values anyway\n",
    "2. No match - statuses to be added (additions)\n",
    "   1.1 No match and no taxnomy - search for synonyms\n",
    "   1.2 No match\n",
    "3. Merge the other direction to see if there are deletes?\n"
   ],
   "metadata": {
    "collapsed": false,
    "pycharm": {
     "name": "#%% md\n"
    }
   }
  },
  {
   "cell_type": "code",
   "execution_count": 60,
   "outputs": [
    {
     "data": {
      "text/plain": "           scientificName                 status bionet_geoprivacy status_id  \\\n135  Abrodictyum obscurum             Endangered              open       NaN   \n185  Acacia equisetifolia  Critically Endangered              open       NaN   \n4           Acacia latzii             Vulnerable              open       NaN   \n136          Acacia peuce             Endangered              open       NaN   \n5     Acacia praetermissa             Vulnerable              open       NaN   \n..                    ...                    ...               ...       ...   \n155    Xylopia monosperma             Endangered              open       NaN   \n55        Zeuxine oblonga             Vulnerable              open       NaN   \n58          Zyzomys maini             Vulnerable              open       NaN   \n166     Zyzomys palatalis             Endangered              open       NaN   \n191  Zyzomys pedunculatus  Critically Endangered              open       NaN   \n\n    taxon_id user_id description iucn authority status_inat geoprivacy  \\\n135      NaN     NaN         NaN  NaN       NaN         NaN        NaN   \n185      NaN     NaN         NaN  NaN       NaN         NaN        NaN   \n4        NaN     NaN         NaN  NaN       NaN         NaN        NaN   \n136      NaN     NaN         NaN  NaN       NaN         NaN        NaN   \n5        NaN     NaN         NaN  NaN       NaN         NaN        NaN   \n..       ...     ...         ...  ...       ...         ...        ...   \n155      NaN     NaN         NaN  NaN       NaN         NaN        NaN   \n55       NaN     NaN         NaN  NaN       NaN         NaN        NaN   \n58       NaN     NaN         NaN  NaN       NaN         NaN        NaN   \n166      NaN     NaN         NaN  NaN       NaN         NaN        NaN   \n191      NaN     NaN         NaN  NaN       NaN         NaN        NaN   \n\n    place_id place_display_name  \n135      NaN                NaN  \n185      NaN                NaN  \n4        NaN                NaN  \n136      NaN                NaN  \n5        NaN                NaN  \n..       ...                ...  \n155      NaN                NaN  \n55       NaN                NaN  \n58       NaN                NaN  \n166      NaN                NaN  \n191      NaN                NaN  \n\n[204 rows x 13 columns]",
      "text/html": "<div>\n<style scoped>\n    .dataframe tbody tr th:only-of-type {\n        vertical-align: middle;\n    }\n\n    .dataframe tbody tr th {\n        vertical-align: top;\n    }\n\n    .dataframe thead th {\n        text-align: right;\n    }\n</style>\n<table border=\"1\" class=\"dataframe\">\n  <thead>\n    <tr style=\"text-align: right;\">\n      <th></th>\n      <th>scientificName</th>\n      <th>status</th>\n      <th>bionet_geoprivacy</th>\n      <th>status_id</th>\n      <th>taxon_id</th>\n      <th>user_id</th>\n      <th>description</th>\n      <th>iucn</th>\n      <th>authority</th>\n      <th>status_inat</th>\n      <th>geoprivacy</th>\n      <th>place_id</th>\n      <th>place_display_name</th>\n    </tr>\n  </thead>\n  <tbody>\n    <tr>\n      <th>135</th>\n      <td>Abrodictyum obscurum</td>\n      <td>Endangered</td>\n      <td>open</td>\n      <td>NaN</td>\n      <td>NaN</td>\n      <td>NaN</td>\n      <td>NaN</td>\n      <td>NaN</td>\n      <td>NaN</td>\n      <td>NaN</td>\n      <td>NaN</td>\n      <td>NaN</td>\n      <td>NaN</td>\n    </tr>\n    <tr>\n      <th>185</th>\n      <td>Acacia equisetifolia</td>\n      <td>Critically Endangered</td>\n      <td>open</td>\n      <td>NaN</td>\n      <td>NaN</td>\n      <td>NaN</td>\n      <td>NaN</td>\n      <td>NaN</td>\n      <td>NaN</td>\n      <td>NaN</td>\n      <td>NaN</td>\n      <td>NaN</td>\n      <td>NaN</td>\n    </tr>\n    <tr>\n      <th>4</th>\n      <td>Acacia latzii</td>\n      <td>Vulnerable</td>\n      <td>open</td>\n      <td>NaN</td>\n      <td>NaN</td>\n      <td>NaN</td>\n      <td>NaN</td>\n      <td>NaN</td>\n      <td>NaN</td>\n      <td>NaN</td>\n      <td>NaN</td>\n      <td>NaN</td>\n      <td>NaN</td>\n    </tr>\n    <tr>\n      <th>136</th>\n      <td>Acacia peuce</td>\n      <td>Endangered</td>\n      <td>open</td>\n      <td>NaN</td>\n      <td>NaN</td>\n      <td>NaN</td>\n      <td>NaN</td>\n      <td>NaN</td>\n      <td>NaN</td>\n      <td>NaN</td>\n      <td>NaN</td>\n      <td>NaN</td>\n      <td>NaN</td>\n    </tr>\n    <tr>\n      <th>5</th>\n      <td>Acacia praetermissa</td>\n      <td>Vulnerable</td>\n      <td>open</td>\n      <td>NaN</td>\n      <td>NaN</td>\n      <td>NaN</td>\n      <td>NaN</td>\n      <td>NaN</td>\n      <td>NaN</td>\n      <td>NaN</td>\n      <td>NaN</td>\n      <td>NaN</td>\n      <td>NaN</td>\n    </tr>\n    <tr>\n      <th>...</th>\n      <td>...</td>\n      <td>...</td>\n      <td>...</td>\n      <td>...</td>\n      <td>...</td>\n      <td>...</td>\n      <td>...</td>\n      <td>...</td>\n      <td>...</td>\n      <td>...</td>\n      <td>...</td>\n      <td>...</td>\n      <td>...</td>\n    </tr>\n    <tr>\n      <th>155</th>\n      <td>Xylopia monosperma</td>\n      <td>Endangered</td>\n      <td>open</td>\n      <td>NaN</td>\n      <td>NaN</td>\n      <td>NaN</td>\n      <td>NaN</td>\n      <td>NaN</td>\n      <td>NaN</td>\n      <td>NaN</td>\n      <td>NaN</td>\n      <td>NaN</td>\n      <td>NaN</td>\n    </tr>\n    <tr>\n      <th>55</th>\n      <td>Zeuxine oblonga</td>\n      <td>Vulnerable</td>\n      <td>open</td>\n      <td>NaN</td>\n      <td>NaN</td>\n      <td>NaN</td>\n      <td>NaN</td>\n      <td>NaN</td>\n      <td>NaN</td>\n      <td>NaN</td>\n      <td>NaN</td>\n      <td>NaN</td>\n      <td>NaN</td>\n    </tr>\n    <tr>\n      <th>58</th>\n      <td>Zyzomys maini</td>\n      <td>Vulnerable</td>\n      <td>open</td>\n      <td>NaN</td>\n      <td>NaN</td>\n      <td>NaN</td>\n      <td>NaN</td>\n      <td>NaN</td>\n      <td>NaN</td>\n      <td>NaN</td>\n      <td>NaN</td>\n      <td>NaN</td>\n      <td>NaN</td>\n    </tr>\n    <tr>\n      <th>166</th>\n      <td>Zyzomys palatalis</td>\n      <td>Endangered</td>\n      <td>open</td>\n      <td>NaN</td>\n      <td>NaN</td>\n      <td>NaN</td>\n      <td>NaN</td>\n      <td>NaN</td>\n      <td>NaN</td>\n      <td>NaN</td>\n      <td>NaN</td>\n      <td>NaN</td>\n      <td>NaN</td>\n    </tr>\n    <tr>\n      <th>191</th>\n      <td>Zyzomys pedunculatus</td>\n      <td>Critically Endangered</td>\n      <td>open</td>\n      <td>NaN</td>\n      <td>NaN</td>\n      <td>NaN</td>\n      <td>NaN</td>\n      <td>NaN</td>\n      <td>NaN</td>\n      <td>NaN</td>\n      <td>NaN</td>\n      <td>NaN</td>\n      <td>NaN</td>\n    </tr>\n  </tbody>\n</table>\n<p>204 rows × 13 columns</p>\n</div>"
     },
     "execution_count": 60,
     "metadata": {},
     "output_type": "execute_result"
    }
   ],
   "source": [
    "# join to see which lists already have a status in inaturalist based on scientificName\n",
    "mergedstatuses = statelist[['scientificName','status','bionet_geoprivacy']].merge(inatstatuses[['status_id','scientificName','taxon_id','user_id','description','iucn','authority','status','geoprivacy','place_id','place_display_name']],how=\"left\",left_on='scientificName',right_on='scientificName',suffixes=(None,'_inat')).sort_values(['scientificName'])\n",
    "mergedstatuses\n"
   ],
   "metadata": {
    "collapsed": false,
    "pycharm": {
     "name": "#%%\n"
    }
   }
  },
  {
   "cell_type": "code",
   "execution_count": 61,
   "outputs": [
    {
     "data": {
      "text/plain": "           scientificName                 status bionet_geoprivacy status_id  \\\n135  Abrodictyum obscurum             Endangered              open       NaN   \n185  Acacia equisetifolia  Critically Endangered              open       NaN   \n4           Acacia latzii             Vulnerable              open       NaN   \n136          Acacia peuce             Endangered              open       NaN   \n5     Acacia praetermissa             Vulnerable              open       NaN   \n..                    ...                    ...               ...       ...   \n155    Xylopia monosperma             Endangered              open       NaN   \n55        Zeuxine oblonga             Vulnerable              open       NaN   \n58          Zyzomys maini             Vulnerable              open       NaN   \n166     Zyzomys palatalis             Endangered              open       NaN   \n191  Zyzomys pedunculatus  Critically Endangered              open       NaN   \n\n    taxon_id user_id description iucn authority status_inat  ... place_id  \\\n135      NaN     NaN         NaN  NaN       NaN         NaN  ...      NaN   \n185      NaN     NaN         NaN  NaN       NaN         NaN  ...      NaN   \n4        NaN     NaN         NaN  NaN       NaN         NaN  ...      NaN   \n136      NaN     NaN         NaN  NaN       NaN         NaN  ...      NaN   \n5        NaN     NaN         NaN  NaN       NaN         NaN  ...      NaN   \n..       ...     ...         ...  ...       ...         ...  ...      ...   \n155      NaN     NaN         NaN  NaN       NaN         NaN  ...      NaN   \n55       NaN     NaN         NaN  NaN       NaN         NaN  ...      NaN   \n58       NaN     NaN         NaN  NaN       NaN         NaN  ...      NaN   \n166      NaN     NaN         NaN  NaN       NaN         NaN  ...      NaN   \n191      NaN     NaN         NaN  NaN       NaN         NaN  ...      NaN   \n\n    place_display_name                                      new_authority  \\\n135                NaN   Territory Parks and Wildlife Conservation Act...   \n185                NaN   Territory Parks and Wildlife Conservation Act...   \n4                  NaN   Territory Parks and Wildlife Conservation Act...   \n136                NaN   Territory Parks and Wildlife Conservation Act...   \n5                  NaN   Territory Parks and Wildlife Conservation Act...   \n..                 ...                                                ...   \n155                NaN   Territory Parks and Wildlife Conservation Act...   \n55                 NaN   Territory Parks and Wildlife Conservation Act...   \n58                 NaN   Territory Parks and Wildlife Conservation Act...   \n166                NaN   Territory Parks and Wildlife Conservation Act...   \n191                NaN   Territory Parks and Wildlife Conservation Act...   \n\n                                       new_description  \\\n135  Listed as Threatened - refer to https://nt.gov...   \n185  Listed as Threatened - refer to https://nt.gov...   \n4    Listed as Threatened - refer to https://nt.gov...   \n136  Listed as Threatened - refer to https://nt.gov...   \n5    Listed as Threatened - refer to https://nt.gov...   \n..                                                 ...   \n155  Listed as Threatened - refer to https://nt.gov...   \n55   Listed as Threatened - refer to https://nt.gov...   \n58   Listed as Threatened - refer to https://nt.gov...   \n166  Listed as Threatened - refer to https://nt.gov...   \n191  Listed as Threatened - refer to https://nt.gov...   \n\n                           new_url new_geoprivacy new_place_id new_username  \\\n135  https://nt.gov.au/environment       obscured         9994    peggydnew   \n185  https://nt.gov.au/environment       obscured         9994    peggydnew   \n4    https://nt.gov.au/environment       obscured         9994    peggydnew   \n136  https://nt.gov.au/environment       obscured         9994    peggydnew   \n5    https://nt.gov.au/environment       obscured         9994    peggydnew   \n..                             ...            ...          ...          ...   \n155  https://nt.gov.au/environment       obscured         9994    peggydnew   \n55   https://nt.gov.au/environment       obscured         9994    peggydnew   \n58   https://nt.gov.au/environment       obscured         9994    peggydnew   \n166  https://nt.gov.au/environment       obscured         9994    peggydnew   \n191  https://nt.gov.au/environment       obscured         9994    peggydnew   \n\n    new_iucn_equivalent             new_status  \n135          Vulnerable             Endangered  \n185          Vulnerable  Critically Endangered  \n4            Vulnerable             Vulnerable  \n136          Vulnerable             Endangered  \n5            Vulnerable             Vulnerable  \n..                  ...                    ...  \n155          Vulnerable             Endangered  \n55           Vulnerable             Vulnerable  \n58           Vulnerable             Vulnerable  \n166          Vulnerable             Endangered  \n191          Vulnerable  Critically Endangered  \n\n[204 rows x 21 columns]",
      "text/html": "<div>\n<style scoped>\n    .dataframe tbody tr th:only-of-type {\n        vertical-align: middle;\n    }\n\n    .dataframe tbody tr th {\n        vertical-align: top;\n    }\n\n    .dataframe thead th {\n        text-align: right;\n    }\n</style>\n<table border=\"1\" class=\"dataframe\">\n  <thead>\n    <tr style=\"text-align: right;\">\n      <th></th>\n      <th>scientificName</th>\n      <th>status</th>\n      <th>bionet_geoprivacy</th>\n      <th>status_id</th>\n      <th>taxon_id</th>\n      <th>user_id</th>\n      <th>description</th>\n      <th>iucn</th>\n      <th>authority</th>\n      <th>status_inat</th>\n      <th>...</th>\n      <th>place_id</th>\n      <th>place_display_name</th>\n      <th>new_authority</th>\n      <th>new_description</th>\n      <th>new_url</th>\n      <th>new_geoprivacy</th>\n      <th>new_place_id</th>\n      <th>new_username</th>\n      <th>new_iucn_equivalent</th>\n      <th>new_status</th>\n    </tr>\n  </thead>\n  <tbody>\n    <tr>\n      <th>135</th>\n      <td>Abrodictyum obscurum</td>\n      <td>Endangered</td>\n      <td>open</td>\n      <td>NaN</td>\n      <td>NaN</td>\n      <td>NaN</td>\n      <td>NaN</td>\n      <td>NaN</td>\n      <td>NaN</td>\n      <td>NaN</td>\n      <td>...</td>\n      <td>NaN</td>\n      <td>NaN</td>\n      <td>Territory Parks and Wildlife Conservation Act...</td>\n      <td>Listed as Threatened - refer to https://nt.gov...</td>\n      <td>https://nt.gov.au/environment</td>\n      <td>obscured</td>\n      <td>9994</td>\n      <td>peggydnew</td>\n      <td>Vulnerable</td>\n      <td>Endangered</td>\n    </tr>\n    <tr>\n      <th>185</th>\n      <td>Acacia equisetifolia</td>\n      <td>Critically Endangered</td>\n      <td>open</td>\n      <td>NaN</td>\n      <td>NaN</td>\n      <td>NaN</td>\n      <td>NaN</td>\n      <td>NaN</td>\n      <td>NaN</td>\n      <td>NaN</td>\n      <td>...</td>\n      <td>NaN</td>\n      <td>NaN</td>\n      <td>Territory Parks and Wildlife Conservation Act...</td>\n      <td>Listed as Threatened - refer to https://nt.gov...</td>\n      <td>https://nt.gov.au/environment</td>\n      <td>obscured</td>\n      <td>9994</td>\n      <td>peggydnew</td>\n      <td>Vulnerable</td>\n      <td>Critically Endangered</td>\n    </tr>\n    <tr>\n      <th>4</th>\n      <td>Acacia latzii</td>\n      <td>Vulnerable</td>\n      <td>open</td>\n      <td>NaN</td>\n      <td>NaN</td>\n      <td>NaN</td>\n      <td>NaN</td>\n      <td>NaN</td>\n      <td>NaN</td>\n      <td>NaN</td>\n      <td>...</td>\n      <td>NaN</td>\n      <td>NaN</td>\n      <td>Territory Parks and Wildlife Conservation Act...</td>\n      <td>Listed as Threatened - refer to https://nt.gov...</td>\n      <td>https://nt.gov.au/environment</td>\n      <td>obscured</td>\n      <td>9994</td>\n      <td>peggydnew</td>\n      <td>Vulnerable</td>\n      <td>Vulnerable</td>\n    </tr>\n    <tr>\n      <th>136</th>\n      <td>Acacia peuce</td>\n      <td>Endangered</td>\n      <td>open</td>\n      <td>NaN</td>\n      <td>NaN</td>\n      <td>NaN</td>\n      <td>NaN</td>\n      <td>NaN</td>\n      <td>NaN</td>\n      <td>NaN</td>\n      <td>...</td>\n      <td>NaN</td>\n      <td>NaN</td>\n      <td>Territory Parks and Wildlife Conservation Act...</td>\n      <td>Listed as Threatened - refer to https://nt.gov...</td>\n      <td>https://nt.gov.au/environment</td>\n      <td>obscured</td>\n      <td>9994</td>\n      <td>peggydnew</td>\n      <td>Vulnerable</td>\n      <td>Endangered</td>\n    </tr>\n    <tr>\n      <th>5</th>\n      <td>Acacia praetermissa</td>\n      <td>Vulnerable</td>\n      <td>open</td>\n      <td>NaN</td>\n      <td>NaN</td>\n      <td>NaN</td>\n      <td>NaN</td>\n      <td>NaN</td>\n      <td>NaN</td>\n      <td>NaN</td>\n      <td>...</td>\n      <td>NaN</td>\n      <td>NaN</td>\n      <td>Territory Parks and Wildlife Conservation Act...</td>\n      <td>Listed as Threatened - refer to https://nt.gov...</td>\n      <td>https://nt.gov.au/environment</td>\n      <td>obscured</td>\n      <td>9994</td>\n      <td>peggydnew</td>\n      <td>Vulnerable</td>\n      <td>Vulnerable</td>\n    </tr>\n    <tr>\n      <th>...</th>\n      <td>...</td>\n      <td>...</td>\n      <td>...</td>\n      <td>...</td>\n      <td>...</td>\n      <td>...</td>\n      <td>...</td>\n      <td>...</td>\n      <td>...</td>\n      <td>...</td>\n      <td>...</td>\n      <td>...</td>\n      <td>...</td>\n      <td>...</td>\n      <td>...</td>\n      <td>...</td>\n      <td>...</td>\n      <td>...</td>\n      <td>...</td>\n      <td>...</td>\n      <td>...</td>\n    </tr>\n    <tr>\n      <th>155</th>\n      <td>Xylopia monosperma</td>\n      <td>Endangered</td>\n      <td>open</td>\n      <td>NaN</td>\n      <td>NaN</td>\n      <td>NaN</td>\n      <td>NaN</td>\n      <td>NaN</td>\n      <td>NaN</td>\n      <td>NaN</td>\n      <td>...</td>\n      <td>NaN</td>\n      <td>NaN</td>\n      <td>Territory Parks and Wildlife Conservation Act...</td>\n      <td>Listed as Threatened - refer to https://nt.gov...</td>\n      <td>https://nt.gov.au/environment</td>\n      <td>obscured</td>\n      <td>9994</td>\n      <td>peggydnew</td>\n      <td>Vulnerable</td>\n      <td>Endangered</td>\n    </tr>\n    <tr>\n      <th>55</th>\n      <td>Zeuxine oblonga</td>\n      <td>Vulnerable</td>\n      <td>open</td>\n      <td>NaN</td>\n      <td>NaN</td>\n      <td>NaN</td>\n      <td>NaN</td>\n      <td>NaN</td>\n      <td>NaN</td>\n      <td>NaN</td>\n      <td>...</td>\n      <td>NaN</td>\n      <td>NaN</td>\n      <td>Territory Parks and Wildlife Conservation Act...</td>\n      <td>Listed as Threatened - refer to https://nt.gov...</td>\n      <td>https://nt.gov.au/environment</td>\n      <td>obscured</td>\n      <td>9994</td>\n      <td>peggydnew</td>\n      <td>Vulnerable</td>\n      <td>Vulnerable</td>\n    </tr>\n    <tr>\n      <th>58</th>\n      <td>Zyzomys maini</td>\n      <td>Vulnerable</td>\n      <td>open</td>\n      <td>NaN</td>\n      <td>NaN</td>\n      <td>NaN</td>\n      <td>NaN</td>\n      <td>NaN</td>\n      <td>NaN</td>\n      <td>NaN</td>\n      <td>...</td>\n      <td>NaN</td>\n      <td>NaN</td>\n      <td>Territory Parks and Wildlife Conservation Act...</td>\n      <td>Listed as Threatened - refer to https://nt.gov...</td>\n      <td>https://nt.gov.au/environment</td>\n      <td>obscured</td>\n      <td>9994</td>\n      <td>peggydnew</td>\n      <td>Vulnerable</td>\n      <td>Vulnerable</td>\n    </tr>\n    <tr>\n      <th>166</th>\n      <td>Zyzomys palatalis</td>\n      <td>Endangered</td>\n      <td>open</td>\n      <td>NaN</td>\n      <td>NaN</td>\n      <td>NaN</td>\n      <td>NaN</td>\n      <td>NaN</td>\n      <td>NaN</td>\n      <td>NaN</td>\n      <td>...</td>\n      <td>NaN</td>\n      <td>NaN</td>\n      <td>Territory Parks and Wildlife Conservation Act...</td>\n      <td>Listed as Threatened - refer to https://nt.gov...</td>\n      <td>https://nt.gov.au/environment</td>\n      <td>obscured</td>\n      <td>9994</td>\n      <td>peggydnew</td>\n      <td>Vulnerable</td>\n      <td>Endangered</td>\n    </tr>\n    <tr>\n      <th>191</th>\n      <td>Zyzomys pedunculatus</td>\n      <td>Critically Endangered</td>\n      <td>open</td>\n      <td>NaN</td>\n      <td>NaN</td>\n      <td>NaN</td>\n      <td>NaN</td>\n      <td>NaN</td>\n      <td>NaN</td>\n      <td>NaN</td>\n      <td>...</td>\n      <td>NaN</td>\n      <td>NaN</td>\n      <td>Territory Parks and Wildlife Conservation Act...</td>\n      <td>Listed as Threatened - refer to https://nt.gov...</td>\n      <td>https://nt.gov.au/environment</td>\n      <td>obscured</td>\n      <td>9994</td>\n      <td>peggydnew</td>\n      <td>Vulnerable</td>\n      <td>Critically Endangered</td>\n    </tr>\n  </tbody>\n</table>\n<p>204 rows × 21 columns</p>\n</div>"
     },
     "execution_count": 61,
     "metadata": {},
     "output_type": "execute_result"
    }
   ],
   "source": [
    "# prepare the export fields, common to New template and Update template\n",
    "# new statuses\n",
    "# Taxon_Name,Status,Authority,IUCN_equivalent,Description,iNaturalist_Place_ID,url,Taxon_Geoprivacy,Username,taxon_id\n",
    "# updates\n",
    "# action,taxon_name,id,taxon_id,status,iucn_equivalent,authority,url,geoprivacy,place_id,username\n",
    "mergedstatuses['new_authority'] = \" Territory Parks and Wildlife Conservation Act 1976\"\n",
    "mergedstatuses['new_description'] = \"Listed as Threatened - refer to https://nt.gov.au/environment\"\n",
    "mergedstatuses['new_url'] = \"https://nt.gov.au/environment\"\n",
    "mergedstatuses['new_geoprivacy'] = \"obscured\"\n",
    "mergedstatuses['new_place_id'] = '9994'  # Northern Territory\n",
    "mergedstatuses['new_username'] = 'peggydnew'\n",
    "mergedstatuses['new_iucn_equivalent'] = mergedstatuses['status'].str.lower().str.strip().map(iucnStatusMappings).fillna('Vulnerable') # map to dictionary\n",
    "mergedstatuses['new_status'] = mergedstatuses['status'].fillna('Threatened')\n",
    "mergedstatuses"
   ],
   "metadata": {
    "collapsed": false,
    "pycharm": {
     "name": "#%%\n"
    }
   }
  },
  {
   "cell_type": "markdown",
   "source": [
    "## Updates"
   ],
   "metadata": {
    "collapsed": false,
    "pycharm": {
     "name": "#%% md\n"
    }
   }
  },
  {
   "cell_type": "code",
   "execution_count": 62,
   "outputs": [
    {
     "data": {
      "text/plain": "     action              taxon_name      id taxon_id      status  \\\n159  UPDATE       Bellatorias obiri  152433    38633  Endangered   \n57   UPDATE  Hipposideros inornatus  152434    74425  Vulnerable   \n176  UPDATE  Pezoporus occidentalis  152431    73180  Endangered   \n104  UPDATE    Polytelis alexandrae  152435    19250  Vulnerable   \n\n    iucn_equivalent                                          authority  \\\n159      Vulnerable   Territory Parks and Wildlife Conservation Act...   \n57       Vulnerable   Territory Parks and Wildlife Conservation Act...   \n176      Vulnerable   Territory Parks and Wildlife Conservation Act...   \n104      Vulnerable   Territory Parks and Wildlife Conservation Act...   \n\n                               url geoprivacy place_id   username  \\\n159  https://nt.gov.au/environment   obscured     9994  peggydnew   \n57   https://nt.gov.au/environment   obscured     9994  peggydnew   \n176  https://nt.gov.au/environment   obscured     9994  peggydnew   \n104  https://nt.gov.au/environment   obscured     9994  peggydnew   \n\n                                           description  \n159  Listed as Threatened - refer to https://nt.gov...  \n57   Listed as Threatened - refer to https://nt.gov...  \n176  Listed as Threatened - refer to https://nt.gov...  \n104  Listed as Threatened - refer to https://nt.gov...  ",
      "text/html": "<div>\n<style scoped>\n    .dataframe tbody tr th:only-of-type {\n        vertical-align: middle;\n    }\n\n    .dataframe tbody tr th {\n        vertical-align: top;\n    }\n\n    .dataframe thead th {\n        text-align: right;\n    }\n</style>\n<table border=\"1\" class=\"dataframe\">\n  <thead>\n    <tr style=\"text-align: right;\">\n      <th></th>\n      <th>action</th>\n      <th>taxon_name</th>\n      <th>id</th>\n      <th>taxon_id</th>\n      <th>status</th>\n      <th>iucn_equivalent</th>\n      <th>authority</th>\n      <th>url</th>\n      <th>geoprivacy</th>\n      <th>place_id</th>\n      <th>username</th>\n      <th>description</th>\n    </tr>\n  </thead>\n  <tbody>\n    <tr>\n      <th>159</th>\n      <td>UPDATE</td>\n      <td>Bellatorias obiri</td>\n      <td>152433</td>\n      <td>38633</td>\n      <td>Endangered</td>\n      <td>Vulnerable</td>\n      <td>Territory Parks and Wildlife Conservation Act...</td>\n      <td>https://nt.gov.au/environment</td>\n      <td>obscured</td>\n      <td>9994</td>\n      <td>peggydnew</td>\n      <td>Listed as Threatened - refer to https://nt.gov...</td>\n    </tr>\n    <tr>\n      <th>57</th>\n      <td>UPDATE</td>\n      <td>Hipposideros inornatus</td>\n      <td>152434</td>\n      <td>74425</td>\n      <td>Vulnerable</td>\n      <td>Vulnerable</td>\n      <td>Territory Parks and Wildlife Conservation Act...</td>\n      <td>https://nt.gov.au/environment</td>\n      <td>obscured</td>\n      <td>9994</td>\n      <td>peggydnew</td>\n      <td>Listed as Threatened - refer to https://nt.gov...</td>\n    </tr>\n    <tr>\n      <th>176</th>\n      <td>UPDATE</td>\n      <td>Pezoporus occidentalis</td>\n      <td>152431</td>\n      <td>73180</td>\n      <td>Endangered</td>\n      <td>Vulnerable</td>\n      <td>Territory Parks and Wildlife Conservation Act...</td>\n      <td>https://nt.gov.au/environment</td>\n      <td>obscured</td>\n      <td>9994</td>\n      <td>peggydnew</td>\n      <td>Listed as Threatened - refer to https://nt.gov...</td>\n    </tr>\n    <tr>\n      <th>104</th>\n      <td>UPDATE</td>\n      <td>Polytelis alexandrae</td>\n      <td>152435</td>\n      <td>19250</td>\n      <td>Vulnerable</td>\n      <td>Vulnerable</td>\n      <td>Territory Parks and Wildlife Conservation Act...</td>\n      <td>https://nt.gov.au/environment</td>\n      <td>obscured</td>\n      <td>9994</td>\n      <td>peggydnew</td>\n      <td>Listed as Threatened - refer to https://nt.gov...</td>\n    </tr>\n  </tbody>\n</table>\n</div>"
     },
     "execution_count": 62,
     "metadata": {},
     "output_type": "execute_result"
    }
   ],
   "source": [
    "# updates\n",
    "# action,taxon_name,id,taxon_id,status,iucn_equivalent,authority,url,geoprivacy,place_id,username,description\n",
    "updates = pd.DataFrame(mergedstatuses[mergedstatuses['status_id'].notnull()])\n",
    "updates.sort_values('scientificName')\n",
    "updates['action'] = 'UPDATE'\n",
    "#updates.loc[:,'action'] = 'UPDATE'\n",
    "updates = updates[['action','scientificName','status_id','taxon_id','new_status','new_iucn_equivalent','new_authority','new_url','new_geoprivacy','new_place_id','new_username','new_description']]\n",
    "updates.columns = updates.columns.str.replace(\"new_\", \"\", regex=True)\n",
    "updates = updates.rename(columns={'scientificName':'taxon_name',\n",
    "                                  'status_id':'id'})\n",
    "updates"
   ],
   "metadata": {
    "collapsed": false,
    "pycharm": {
     "name": "#%%\n"
    }
   }
  },
  {
   "cell_type": "markdown",
   "source": [
    "## No status in iNaturalist via straight scientificName match\n",
    "The NT records that didn't match up to a status in iNaturalist"
   ],
   "metadata": {
    "collapsed": false,
    "pycharm": {
     "name": "#%% md\n"
    }
   }
  },
  {
   "cell_type": "code",
   "execution_count": 63,
   "outputs": [
    {
     "data": {
      "text/plain": "           scientificName                 status bionet_geoprivacy status_id  \\\n0    Abrodictyum obscurum             Endangered              open       NaN   \n1    Acacia equisetifolia  Critically Endangered              open       NaN   \n2           Acacia latzii             Vulnerable              open       NaN   \n3            Acacia peuce             Endangered              open       NaN   \n4     Acacia praetermissa             Vulnerable              open       NaN   \n..                    ...                    ...               ...       ...   \n195    Xylopia monosperma             Endangered              open       NaN   \n196       Zeuxine oblonga             Vulnerable              open       NaN   \n197         Zyzomys maini             Vulnerable              open       NaN   \n198     Zyzomys palatalis             Endangered              open       NaN   \n199  Zyzomys pedunculatus  Critically Endangered              open       NaN   \n\n    taxon_id user_id description iucn authority status_inat  ...  \\\n0        NaN     NaN         NaN  NaN       NaN         NaN  ...   \n1        NaN     NaN         NaN  NaN       NaN         NaN  ...   \n2        NaN     NaN         NaN  NaN       NaN         NaN  ...   \n3        NaN     NaN         NaN  NaN       NaN         NaN  ...   \n4        NaN     NaN         NaN  NaN       NaN         NaN  ...   \n..       ...     ...         ...  ...       ...         ...  ...   \n195      NaN     NaN         NaN  NaN       NaN         NaN  ...   \n196      NaN     NaN         NaN  NaN       NaN         NaN  ...   \n197      NaN     NaN         NaN  NaN       NaN         NaN  ...   \n198      NaN     NaN         NaN  NaN       NaN         NaN  ...   \n199      NaN     NaN         NaN  NaN       NaN         NaN  ...   \n\n           phylum          class        order       family    genus  \\\n0             NaN            NaN          NaN          NaN      NaN   \n1    Tracheophyta  Magnoliopsida      Fabales     Fabaceae   Acacia   \n2    Tracheophyta  Magnoliopsida      Fabales     Fabaceae   Acacia   \n3    Tracheophyta  Magnoliopsida      Fabales     Fabaceae   Acacia   \n4    Tracheophyta  Magnoliopsida      Fabales     Fabaceae   Acacia   \n..            ...            ...          ...          ...      ...   \n195           NaN            NaN          NaN          NaN      NaN   \n196  Tracheophyta     Liliopsida  Asparagales  Orchidaceae  Zeuxine   \n197      Chordata       Mammalia     Rodentia      Muridae  Zyzomys   \n198      Chordata       Mammalia     Rodentia      Muridae  Zyzomys   \n199      Chordata       Mammalia     Rodentia      Muridae  Zyzomys   \n\n    specificEpithet infraspecificEpithet              modified taxonRank  \\\n0               NaN                  NaN                   NaN       NaN   \n1     equisetifolia                  NaN  2022-04-06T22:05:25Z   species   \n2            latzii                  NaN  2022-04-07T02:06:43Z   species   \n3             peuce                  NaN  2022-04-06T23:48:13Z   species   \n4      praetermissa                  NaN  2022-04-05T02:10:02Z   species   \n..              ...                  ...                   ...       ...   \n195             NaN                  NaN                   NaN       NaN   \n196         oblonga                  NaN  2021-07-16T02:50:44Z   species   \n197           maini                  NaN  2019-08-27T01:49:16Z   species   \n198       palatalis                  NaN  2019-11-22T22:46:28Z   species   \n199    pedunculatus                  NaN  2019-11-22T22:46:29Z   species   \n\n                                            references  \n0                                                  NaN  \n1                       https://eol.org/pages/49426174  \n2    http://www.catalogueoflife.org/annual-checklis...  \n3    http://www.catalogueoflife.org/annual-checklis...  \n4    http://www.catalogueoflife.org/annual-checklis...  \n..                                                 ...  \n195                                                NaN  \n196  http://www.catalogueoflife.org/annual-checklis...  \n197  http://www.catalogueoflife.org/annual-checklis...  \n198         http://www.iucnredlist.org/details/23327/0  \n199  http://www.catalogueoflife.org/annual-checklis...  \n\n[200 rows x 36 columns]",
      "text/html": "<div>\n<style scoped>\n    .dataframe tbody tr th:only-of-type {\n        vertical-align: middle;\n    }\n\n    .dataframe tbody tr th {\n        vertical-align: top;\n    }\n\n    .dataframe thead th {\n        text-align: right;\n    }\n</style>\n<table border=\"1\" class=\"dataframe\">\n  <thead>\n    <tr style=\"text-align: right;\">\n      <th></th>\n      <th>scientificName</th>\n      <th>status</th>\n      <th>bionet_geoprivacy</th>\n      <th>status_id</th>\n      <th>taxon_id</th>\n      <th>user_id</th>\n      <th>description</th>\n      <th>iucn</th>\n      <th>authority</th>\n      <th>status_inat</th>\n      <th>...</th>\n      <th>phylum</th>\n      <th>class</th>\n      <th>order</th>\n      <th>family</th>\n      <th>genus</th>\n      <th>specificEpithet</th>\n      <th>infraspecificEpithet</th>\n      <th>modified</th>\n      <th>taxonRank</th>\n      <th>references</th>\n    </tr>\n  </thead>\n  <tbody>\n    <tr>\n      <th>0</th>\n      <td>Abrodictyum obscurum</td>\n      <td>Endangered</td>\n      <td>open</td>\n      <td>NaN</td>\n      <td>NaN</td>\n      <td>NaN</td>\n      <td>NaN</td>\n      <td>NaN</td>\n      <td>NaN</td>\n      <td>NaN</td>\n      <td>...</td>\n      <td>NaN</td>\n      <td>NaN</td>\n      <td>NaN</td>\n      <td>NaN</td>\n      <td>NaN</td>\n      <td>NaN</td>\n      <td>NaN</td>\n      <td>NaN</td>\n      <td>NaN</td>\n      <td>NaN</td>\n    </tr>\n    <tr>\n      <th>1</th>\n      <td>Acacia equisetifolia</td>\n      <td>Critically Endangered</td>\n      <td>open</td>\n      <td>NaN</td>\n      <td>NaN</td>\n      <td>NaN</td>\n      <td>NaN</td>\n      <td>NaN</td>\n      <td>NaN</td>\n      <td>NaN</td>\n      <td>...</td>\n      <td>Tracheophyta</td>\n      <td>Magnoliopsida</td>\n      <td>Fabales</td>\n      <td>Fabaceae</td>\n      <td>Acacia</td>\n      <td>equisetifolia</td>\n      <td>NaN</td>\n      <td>2022-04-06T22:05:25Z</td>\n      <td>species</td>\n      <td>https://eol.org/pages/49426174</td>\n    </tr>\n    <tr>\n      <th>2</th>\n      <td>Acacia latzii</td>\n      <td>Vulnerable</td>\n      <td>open</td>\n      <td>NaN</td>\n      <td>NaN</td>\n      <td>NaN</td>\n      <td>NaN</td>\n      <td>NaN</td>\n      <td>NaN</td>\n      <td>NaN</td>\n      <td>...</td>\n      <td>Tracheophyta</td>\n      <td>Magnoliopsida</td>\n      <td>Fabales</td>\n      <td>Fabaceae</td>\n      <td>Acacia</td>\n      <td>latzii</td>\n      <td>NaN</td>\n      <td>2022-04-07T02:06:43Z</td>\n      <td>species</td>\n      <td>http://www.catalogueoflife.org/annual-checklis...</td>\n    </tr>\n    <tr>\n      <th>3</th>\n      <td>Acacia peuce</td>\n      <td>Endangered</td>\n      <td>open</td>\n      <td>NaN</td>\n      <td>NaN</td>\n      <td>NaN</td>\n      <td>NaN</td>\n      <td>NaN</td>\n      <td>NaN</td>\n      <td>NaN</td>\n      <td>...</td>\n      <td>Tracheophyta</td>\n      <td>Magnoliopsida</td>\n      <td>Fabales</td>\n      <td>Fabaceae</td>\n      <td>Acacia</td>\n      <td>peuce</td>\n      <td>NaN</td>\n      <td>2022-04-06T23:48:13Z</td>\n      <td>species</td>\n      <td>http://www.catalogueoflife.org/annual-checklis...</td>\n    </tr>\n    <tr>\n      <th>4</th>\n      <td>Acacia praetermissa</td>\n      <td>Vulnerable</td>\n      <td>open</td>\n      <td>NaN</td>\n      <td>NaN</td>\n      <td>NaN</td>\n      <td>NaN</td>\n      <td>NaN</td>\n      <td>NaN</td>\n      <td>NaN</td>\n      <td>...</td>\n      <td>Tracheophyta</td>\n      <td>Magnoliopsida</td>\n      <td>Fabales</td>\n      <td>Fabaceae</td>\n      <td>Acacia</td>\n      <td>praetermissa</td>\n      <td>NaN</td>\n      <td>2022-04-05T02:10:02Z</td>\n      <td>species</td>\n      <td>http://www.catalogueoflife.org/annual-checklis...</td>\n    </tr>\n    <tr>\n      <th>...</th>\n      <td>...</td>\n      <td>...</td>\n      <td>...</td>\n      <td>...</td>\n      <td>...</td>\n      <td>...</td>\n      <td>...</td>\n      <td>...</td>\n      <td>...</td>\n      <td>...</td>\n      <td>...</td>\n      <td>...</td>\n      <td>...</td>\n      <td>...</td>\n      <td>...</td>\n      <td>...</td>\n      <td>...</td>\n      <td>...</td>\n      <td>...</td>\n      <td>...</td>\n      <td>...</td>\n    </tr>\n    <tr>\n      <th>195</th>\n      <td>Xylopia monosperma</td>\n      <td>Endangered</td>\n      <td>open</td>\n      <td>NaN</td>\n      <td>NaN</td>\n      <td>NaN</td>\n      <td>NaN</td>\n      <td>NaN</td>\n      <td>NaN</td>\n      <td>NaN</td>\n      <td>...</td>\n      <td>NaN</td>\n      <td>NaN</td>\n      <td>NaN</td>\n      <td>NaN</td>\n      <td>NaN</td>\n      <td>NaN</td>\n      <td>NaN</td>\n      <td>NaN</td>\n      <td>NaN</td>\n      <td>NaN</td>\n    </tr>\n    <tr>\n      <th>196</th>\n      <td>Zeuxine oblonga</td>\n      <td>Vulnerable</td>\n      <td>open</td>\n      <td>NaN</td>\n      <td>NaN</td>\n      <td>NaN</td>\n      <td>NaN</td>\n      <td>NaN</td>\n      <td>NaN</td>\n      <td>NaN</td>\n      <td>...</td>\n      <td>Tracheophyta</td>\n      <td>Liliopsida</td>\n      <td>Asparagales</td>\n      <td>Orchidaceae</td>\n      <td>Zeuxine</td>\n      <td>oblonga</td>\n      <td>NaN</td>\n      <td>2021-07-16T02:50:44Z</td>\n      <td>species</td>\n      <td>http://www.catalogueoflife.org/annual-checklis...</td>\n    </tr>\n    <tr>\n      <th>197</th>\n      <td>Zyzomys maini</td>\n      <td>Vulnerable</td>\n      <td>open</td>\n      <td>NaN</td>\n      <td>NaN</td>\n      <td>NaN</td>\n      <td>NaN</td>\n      <td>NaN</td>\n      <td>NaN</td>\n      <td>NaN</td>\n      <td>...</td>\n      <td>Chordata</td>\n      <td>Mammalia</td>\n      <td>Rodentia</td>\n      <td>Muridae</td>\n      <td>Zyzomys</td>\n      <td>maini</td>\n      <td>NaN</td>\n      <td>2019-08-27T01:49:16Z</td>\n      <td>species</td>\n      <td>http://www.catalogueoflife.org/annual-checklis...</td>\n    </tr>\n    <tr>\n      <th>198</th>\n      <td>Zyzomys palatalis</td>\n      <td>Endangered</td>\n      <td>open</td>\n      <td>NaN</td>\n      <td>NaN</td>\n      <td>NaN</td>\n      <td>NaN</td>\n      <td>NaN</td>\n      <td>NaN</td>\n      <td>NaN</td>\n      <td>...</td>\n      <td>Chordata</td>\n      <td>Mammalia</td>\n      <td>Rodentia</td>\n      <td>Muridae</td>\n      <td>Zyzomys</td>\n      <td>palatalis</td>\n      <td>NaN</td>\n      <td>2019-11-22T22:46:28Z</td>\n      <td>species</td>\n      <td>http://www.iucnredlist.org/details/23327/0</td>\n    </tr>\n    <tr>\n      <th>199</th>\n      <td>Zyzomys pedunculatus</td>\n      <td>Critically Endangered</td>\n      <td>open</td>\n      <td>NaN</td>\n      <td>NaN</td>\n      <td>NaN</td>\n      <td>NaN</td>\n      <td>NaN</td>\n      <td>NaN</td>\n      <td>NaN</td>\n      <td>...</td>\n      <td>Chordata</td>\n      <td>Mammalia</td>\n      <td>Rodentia</td>\n      <td>Muridae</td>\n      <td>Zyzomys</td>\n      <td>pedunculatus</td>\n      <td>NaN</td>\n      <td>2019-11-22T22:46:29Z</td>\n      <td>species</td>\n      <td>http://www.catalogueoflife.org/annual-checklis...</td>\n    </tr>\n  </tbody>\n</table>\n<p>200 rows × 36 columns</p>\n</div>"
     },
     "execution_count": 63,
     "metadata": {},
     "output_type": "execute_result"
    }
   ],
   "source": [
    "# to add: those that have no inaturalist status - 532!!\n",
    "noinatstatus = mergedstatuses[mergedstatuses['status_id'].isnull()]\n",
    "# try to match the taxon name to something in inaturalist\n",
    "noinatstatus = noinatstatus.merge(inattaxa, how=\"left\", left_on=\"scientificName\",right_on=\"scientificName\")\n",
    "noinatstatus"
   ],
   "metadata": {
    "collapsed": false,
    "pycharm": {
     "name": "#%%\n"
    }
   }
  },
  {
   "cell_type": "code",
   "execution_count": 64,
   "outputs": [
    {
     "data": {
      "text/plain": "           scientificName                 status bionet_geoprivacy status_id  \\\n1    Acacia equisetifolia  Critically Endangered              open       NaN   \n2           Acacia latzii             Vulnerable              open       NaN   \n3            Acacia peuce             Endangered              open       NaN   \n4     Acacia praetermissa             Vulnerable              open       NaN   \n5       Acacia undoolyana             Vulnerable              open       NaN   \n..                    ...                    ...               ...       ...   \n193      Vidumelon wattii             Vulnerable              open       NaN   \n196       Zeuxine oblonga             Vulnerable              open       NaN   \n197         Zyzomys maini             Vulnerable              open       NaN   \n198     Zyzomys palatalis             Endangered              open       NaN   \n199  Zyzomys pedunculatus  Critically Endangered              open       NaN   \n\n    taxon_id user_id description iucn authority status_inat  ...  \\\n1        NaN     NaN         NaN  NaN       NaN         NaN  ...   \n2        NaN     NaN         NaN  NaN       NaN         NaN  ...   \n3        NaN     NaN         NaN  NaN       NaN         NaN  ...   \n4        NaN     NaN         NaN  NaN       NaN         NaN  ...   \n5        NaN     NaN         NaN  NaN       NaN         NaN  ...   \n..       ...     ...         ...  ...       ...         ...  ...   \n193      NaN     NaN         NaN  NaN       NaN         NaN  ...   \n196      NaN     NaN         NaN  NaN       NaN         NaN  ...   \n197      NaN     NaN         NaN  NaN       NaN         NaN  ...   \n198      NaN     NaN         NaN  NaN       NaN         NaN  ...   \n199      NaN     NaN         NaN  NaN       NaN         NaN  ...   \n\n           phylum          class            order       family      genus  \\\n1    Tracheophyta  Magnoliopsida          Fabales     Fabaceae     Acacia   \n2    Tracheophyta  Magnoliopsida          Fabales     Fabaceae     Acacia   \n3    Tracheophyta  Magnoliopsida          Fabales     Fabaceae     Acacia   \n4    Tracheophyta  Magnoliopsida          Fabales     Fabaceae     Acacia   \n5    Tracheophyta  Magnoliopsida          Fabales     Fabaceae     Acacia   \n..            ...            ...              ...          ...        ...   \n193      Mollusca     Gastropoda  Stylommatophora   Camaenidae  Vidumelon   \n196  Tracheophyta     Liliopsida      Asparagales  Orchidaceae    Zeuxine   \n197      Chordata       Mammalia         Rodentia      Muridae    Zyzomys   \n198      Chordata       Mammalia         Rodentia      Muridae    Zyzomys   \n199      Chordata       Mammalia         Rodentia      Muridae    Zyzomys   \n\n    specificEpithet infraspecificEpithet              modified taxonRank  \\\n1     equisetifolia                  NaN  2022-04-06T22:05:25Z   species   \n2            latzii                  NaN  2022-04-07T02:06:43Z   species   \n3             peuce                  NaN  2022-04-06T23:48:13Z   species   \n4      praetermissa                  NaN  2022-04-05T02:10:02Z   species   \n5        undoolyana                  NaN  2022-04-05T02:34:14Z   species   \n..              ...                  ...                   ...       ...   \n193          wattii                  NaN  2021-10-29T15:37:54Z   species   \n196         oblonga                  NaN  2021-07-16T02:50:44Z   species   \n197           maini                  NaN  2019-08-27T01:49:16Z   species   \n198       palatalis                  NaN  2019-11-22T22:46:28Z   species   \n199    pedunculatus                  NaN  2019-11-22T22:46:29Z   species   \n\n                                            references  \n1                       https://eol.org/pages/49426174  \n2    http://www.catalogueoflife.org/annual-checklis...  \n3    http://www.catalogueoflife.org/annual-checklis...  \n4    http://www.catalogueoflife.org/annual-checklis...  \n5    http://www.catalogueoflife.org/annual-checklis...  \n..                                                 ...  \n193  http://www.catalogueoflife.org/annual-checklis...  \n196  http://www.catalogueoflife.org/annual-checklis...  \n197  http://www.catalogueoflife.org/annual-checklis...  \n198         http://www.iucnredlist.org/details/23327/0  \n199  http://www.catalogueoflife.org/annual-checklis...  \n\n[136 rows x 36 columns]",
      "text/html": "<div>\n<style scoped>\n    .dataframe tbody tr th:only-of-type {\n        vertical-align: middle;\n    }\n\n    .dataframe tbody tr th {\n        vertical-align: top;\n    }\n\n    .dataframe thead th {\n        text-align: right;\n    }\n</style>\n<table border=\"1\" class=\"dataframe\">\n  <thead>\n    <tr style=\"text-align: right;\">\n      <th></th>\n      <th>scientificName</th>\n      <th>status</th>\n      <th>bionet_geoprivacy</th>\n      <th>status_id</th>\n      <th>taxon_id</th>\n      <th>user_id</th>\n      <th>description</th>\n      <th>iucn</th>\n      <th>authority</th>\n      <th>status_inat</th>\n      <th>...</th>\n      <th>phylum</th>\n      <th>class</th>\n      <th>order</th>\n      <th>family</th>\n      <th>genus</th>\n      <th>specificEpithet</th>\n      <th>infraspecificEpithet</th>\n      <th>modified</th>\n      <th>taxonRank</th>\n      <th>references</th>\n    </tr>\n  </thead>\n  <tbody>\n    <tr>\n      <th>1</th>\n      <td>Acacia equisetifolia</td>\n      <td>Critically Endangered</td>\n      <td>open</td>\n      <td>NaN</td>\n      <td>NaN</td>\n      <td>NaN</td>\n      <td>NaN</td>\n      <td>NaN</td>\n      <td>NaN</td>\n      <td>NaN</td>\n      <td>...</td>\n      <td>Tracheophyta</td>\n      <td>Magnoliopsida</td>\n      <td>Fabales</td>\n      <td>Fabaceae</td>\n      <td>Acacia</td>\n      <td>equisetifolia</td>\n      <td>NaN</td>\n      <td>2022-04-06T22:05:25Z</td>\n      <td>species</td>\n      <td>https://eol.org/pages/49426174</td>\n    </tr>\n    <tr>\n      <th>2</th>\n      <td>Acacia latzii</td>\n      <td>Vulnerable</td>\n      <td>open</td>\n      <td>NaN</td>\n      <td>NaN</td>\n      <td>NaN</td>\n      <td>NaN</td>\n      <td>NaN</td>\n      <td>NaN</td>\n      <td>NaN</td>\n      <td>...</td>\n      <td>Tracheophyta</td>\n      <td>Magnoliopsida</td>\n      <td>Fabales</td>\n      <td>Fabaceae</td>\n      <td>Acacia</td>\n      <td>latzii</td>\n      <td>NaN</td>\n      <td>2022-04-07T02:06:43Z</td>\n      <td>species</td>\n      <td>http://www.catalogueoflife.org/annual-checklis...</td>\n    </tr>\n    <tr>\n      <th>3</th>\n      <td>Acacia peuce</td>\n      <td>Endangered</td>\n      <td>open</td>\n      <td>NaN</td>\n      <td>NaN</td>\n      <td>NaN</td>\n      <td>NaN</td>\n      <td>NaN</td>\n      <td>NaN</td>\n      <td>NaN</td>\n      <td>...</td>\n      <td>Tracheophyta</td>\n      <td>Magnoliopsida</td>\n      <td>Fabales</td>\n      <td>Fabaceae</td>\n      <td>Acacia</td>\n      <td>peuce</td>\n      <td>NaN</td>\n      <td>2022-04-06T23:48:13Z</td>\n      <td>species</td>\n      <td>http://www.catalogueoflife.org/annual-checklis...</td>\n    </tr>\n    <tr>\n      <th>4</th>\n      <td>Acacia praetermissa</td>\n      <td>Vulnerable</td>\n      <td>open</td>\n      <td>NaN</td>\n      <td>NaN</td>\n      <td>NaN</td>\n      <td>NaN</td>\n      <td>NaN</td>\n      <td>NaN</td>\n      <td>NaN</td>\n      <td>...</td>\n      <td>Tracheophyta</td>\n      <td>Magnoliopsida</td>\n      <td>Fabales</td>\n      <td>Fabaceae</td>\n      <td>Acacia</td>\n      <td>praetermissa</td>\n      <td>NaN</td>\n      <td>2022-04-05T02:10:02Z</td>\n      <td>species</td>\n      <td>http://www.catalogueoflife.org/annual-checklis...</td>\n    </tr>\n    <tr>\n      <th>5</th>\n      <td>Acacia undoolyana</td>\n      <td>Vulnerable</td>\n      <td>open</td>\n      <td>NaN</td>\n      <td>NaN</td>\n      <td>NaN</td>\n      <td>NaN</td>\n      <td>NaN</td>\n      <td>NaN</td>\n      <td>NaN</td>\n      <td>...</td>\n      <td>Tracheophyta</td>\n      <td>Magnoliopsida</td>\n      <td>Fabales</td>\n      <td>Fabaceae</td>\n      <td>Acacia</td>\n      <td>undoolyana</td>\n      <td>NaN</td>\n      <td>2022-04-05T02:34:14Z</td>\n      <td>species</td>\n      <td>http://www.catalogueoflife.org/annual-checklis...</td>\n    </tr>\n    <tr>\n      <th>...</th>\n      <td>...</td>\n      <td>...</td>\n      <td>...</td>\n      <td>...</td>\n      <td>...</td>\n      <td>...</td>\n      <td>...</td>\n      <td>...</td>\n      <td>...</td>\n      <td>...</td>\n      <td>...</td>\n      <td>...</td>\n      <td>...</td>\n      <td>...</td>\n      <td>...</td>\n      <td>...</td>\n      <td>...</td>\n      <td>...</td>\n      <td>...</td>\n      <td>...</td>\n      <td>...</td>\n    </tr>\n    <tr>\n      <th>193</th>\n      <td>Vidumelon wattii</td>\n      <td>Vulnerable</td>\n      <td>open</td>\n      <td>NaN</td>\n      <td>NaN</td>\n      <td>NaN</td>\n      <td>NaN</td>\n      <td>NaN</td>\n      <td>NaN</td>\n      <td>NaN</td>\n      <td>...</td>\n      <td>Mollusca</td>\n      <td>Gastropoda</td>\n      <td>Stylommatophora</td>\n      <td>Camaenidae</td>\n      <td>Vidumelon</td>\n      <td>wattii</td>\n      <td>NaN</td>\n      <td>2021-10-29T15:37:54Z</td>\n      <td>species</td>\n      <td>http://www.catalogueoflife.org/annual-checklis...</td>\n    </tr>\n    <tr>\n      <th>196</th>\n      <td>Zeuxine oblonga</td>\n      <td>Vulnerable</td>\n      <td>open</td>\n      <td>NaN</td>\n      <td>NaN</td>\n      <td>NaN</td>\n      <td>NaN</td>\n      <td>NaN</td>\n      <td>NaN</td>\n      <td>NaN</td>\n      <td>...</td>\n      <td>Tracheophyta</td>\n      <td>Liliopsida</td>\n      <td>Asparagales</td>\n      <td>Orchidaceae</td>\n      <td>Zeuxine</td>\n      <td>oblonga</td>\n      <td>NaN</td>\n      <td>2021-07-16T02:50:44Z</td>\n      <td>species</td>\n      <td>http://www.catalogueoflife.org/annual-checklis...</td>\n    </tr>\n    <tr>\n      <th>197</th>\n      <td>Zyzomys maini</td>\n      <td>Vulnerable</td>\n      <td>open</td>\n      <td>NaN</td>\n      <td>NaN</td>\n      <td>NaN</td>\n      <td>NaN</td>\n      <td>NaN</td>\n      <td>NaN</td>\n      <td>NaN</td>\n      <td>...</td>\n      <td>Chordata</td>\n      <td>Mammalia</td>\n      <td>Rodentia</td>\n      <td>Muridae</td>\n      <td>Zyzomys</td>\n      <td>maini</td>\n      <td>NaN</td>\n      <td>2019-08-27T01:49:16Z</td>\n      <td>species</td>\n      <td>http://www.catalogueoflife.org/annual-checklis...</td>\n    </tr>\n    <tr>\n      <th>198</th>\n      <td>Zyzomys palatalis</td>\n      <td>Endangered</td>\n      <td>open</td>\n      <td>NaN</td>\n      <td>NaN</td>\n      <td>NaN</td>\n      <td>NaN</td>\n      <td>NaN</td>\n      <td>NaN</td>\n      <td>NaN</td>\n      <td>...</td>\n      <td>Chordata</td>\n      <td>Mammalia</td>\n      <td>Rodentia</td>\n      <td>Muridae</td>\n      <td>Zyzomys</td>\n      <td>palatalis</td>\n      <td>NaN</td>\n      <td>2019-11-22T22:46:28Z</td>\n      <td>species</td>\n      <td>http://www.iucnredlist.org/details/23327/0</td>\n    </tr>\n    <tr>\n      <th>199</th>\n      <td>Zyzomys pedunculatus</td>\n      <td>Critically Endangered</td>\n      <td>open</td>\n      <td>NaN</td>\n      <td>NaN</td>\n      <td>NaN</td>\n      <td>NaN</td>\n      <td>NaN</td>\n      <td>NaN</td>\n      <td>NaN</td>\n      <td>...</td>\n      <td>Chordata</td>\n      <td>Mammalia</td>\n      <td>Rodentia</td>\n      <td>Muridae</td>\n      <td>Zyzomys</td>\n      <td>pedunculatus</td>\n      <td>NaN</td>\n      <td>2019-11-22T22:46:29Z</td>\n      <td>species</td>\n      <td>http://www.catalogueoflife.org/annual-checklis...</td>\n    </tr>\n  </tbody>\n</table>\n<p>136 rows × 36 columns</p>\n</div>"
     },
     "execution_count": 64,
     "metadata": {},
     "output_type": "execute_result"
    }
   ],
   "source": [
    "additions = pd.DataFrame(noinatstatus[noinatstatus['id'].notna()])\n",
    "additions"
   ],
   "metadata": {
    "collapsed": false,
    "pycharm": {
     "name": "#%%\n"
    }
   }
  },
  {
   "cell_type": "code",
   "execution_count": 65,
   "outputs": [
    {
     "data": {
      "text/plain": "    action            taxon_name   id taxon_id                 status  \\\n1      ADD  Acacia equisetifolia  NaN  1253756  Critically Endangered   \n2      ADD         Acacia latzii  NaN  1254327             Vulnerable   \n3      ADD          Acacia peuce  NaN   465191             Endangered   \n4      ADD   Acacia praetermissa  NaN  1254561             Vulnerable   \n5      ADD     Acacia undoolyana  NaN  1254884             Vulnerable   \n..     ...                   ...  ...      ...                    ...   \n193    ADD      Vidumelon wattii  NaN   114966             Vulnerable   \n196    ADD       Zeuxine oblonga  NaN   369267             Vulnerable   \n197    ADD         Zyzomys maini  NaN    45377             Vulnerable   \n198    ADD     Zyzomys palatalis  NaN    75238             Endangered   \n199    ADD  Zyzomys pedunculatus  NaN    45374  Critically Endangered   \n\n    iucn_equivalent                                          authority  \\\n1        Vulnerable   Territory Parks and Wildlife Conservation Act...   \n2        Vulnerable   Territory Parks and Wildlife Conservation Act...   \n3        Vulnerable   Territory Parks and Wildlife Conservation Act...   \n4        Vulnerable   Territory Parks and Wildlife Conservation Act...   \n5        Vulnerable   Territory Parks and Wildlife Conservation Act...   \n..              ...                                                ...   \n193      Vulnerable   Territory Parks and Wildlife Conservation Act...   \n196      Vulnerable   Territory Parks and Wildlife Conservation Act...   \n197      Vulnerable   Territory Parks and Wildlife Conservation Act...   \n198      Vulnerable   Territory Parks and Wildlife Conservation Act...   \n199      Vulnerable   Territory Parks and Wildlife Conservation Act...   \n\n                               url geoprivacy place_id   username  \\\n1    https://nt.gov.au/environment   obscured     9994  peggydnew   \n2    https://nt.gov.au/environment   obscured     9994  peggydnew   \n3    https://nt.gov.au/environment   obscured     9994  peggydnew   \n4    https://nt.gov.au/environment   obscured     9994  peggydnew   \n5    https://nt.gov.au/environment   obscured     9994  peggydnew   \n..                             ...        ...      ...        ...   \n193  https://nt.gov.au/environment   obscured     9994  peggydnew   \n196  https://nt.gov.au/environment   obscured     9994  peggydnew   \n197  https://nt.gov.au/environment   obscured     9994  peggydnew   \n198  https://nt.gov.au/environment   obscured     9994  peggydnew   \n199  https://nt.gov.au/environment   obscured     9994  peggydnew   \n\n                                           description  \n1    Listed as Threatened - refer to https://nt.gov...  \n2    Listed as Threatened - refer to https://nt.gov...  \n3    Listed as Threatened - refer to https://nt.gov...  \n4    Listed as Threatened - refer to https://nt.gov...  \n5    Listed as Threatened - refer to https://nt.gov...  \n..                                                 ...  \n193  Listed as Threatened - refer to https://nt.gov...  \n196  Listed as Threatened - refer to https://nt.gov...  \n197  Listed as Threatened - refer to https://nt.gov...  \n198  Listed as Threatened - refer to https://nt.gov...  \n199  Listed as Threatened - refer to https://nt.gov...  \n\n[136 rows x 12 columns]",
      "text/html": "<div>\n<style scoped>\n    .dataframe tbody tr th:only-of-type {\n        vertical-align: middle;\n    }\n\n    .dataframe tbody tr th {\n        vertical-align: top;\n    }\n\n    .dataframe thead th {\n        text-align: right;\n    }\n</style>\n<table border=\"1\" class=\"dataframe\">\n  <thead>\n    <tr style=\"text-align: right;\">\n      <th></th>\n      <th>action</th>\n      <th>taxon_name</th>\n      <th>id</th>\n      <th>taxon_id</th>\n      <th>status</th>\n      <th>iucn_equivalent</th>\n      <th>authority</th>\n      <th>url</th>\n      <th>geoprivacy</th>\n      <th>place_id</th>\n      <th>username</th>\n      <th>description</th>\n    </tr>\n  </thead>\n  <tbody>\n    <tr>\n      <th>1</th>\n      <td>ADD</td>\n      <td>Acacia equisetifolia</td>\n      <td>NaN</td>\n      <td>1253756</td>\n      <td>Critically Endangered</td>\n      <td>Vulnerable</td>\n      <td>Territory Parks and Wildlife Conservation Act...</td>\n      <td>https://nt.gov.au/environment</td>\n      <td>obscured</td>\n      <td>9994</td>\n      <td>peggydnew</td>\n      <td>Listed as Threatened - refer to https://nt.gov...</td>\n    </tr>\n    <tr>\n      <th>2</th>\n      <td>ADD</td>\n      <td>Acacia latzii</td>\n      <td>NaN</td>\n      <td>1254327</td>\n      <td>Vulnerable</td>\n      <td>Vulnerable</td>\n      <td>Territory Parks and Wildlife Conservation Act...</td>\n      <td>https://nt.gov.au/environment</td>\n      <td>obscured</td>\n      <td>9994</td>\n      <td>peggydnew</td>\n      <td>Listed as Threatened - refer to https://nt.gov...</td>\n    </tr>\n    <tr>\n      <th>3</th>\n      <td>ADD</td>\n      <td>Acacia peuce</td>\n      <td>NaN</td>\n      <td>465191</td>\n      <td>Endangered</td>\n      <td>Vulnerable</td>\n      <td>Territory Parks and Wildlife Conservation Act...</td>\n      <td>https://nt.gov.au/environment</td>\n      <td>obscured</td>\n      <td>9994</td>\n      <td>peggydnew</td>\n      <td>Listed as Threatened - refer to https://nt.gov...</td>\n    </tr>\n    <tr>\n      <th>4</th>\n      <td>ADD</td>\n      <td>Acacia praetermissa</td>\n      <td>NaN</td>\n      <td>1254561</td>\n      <td>Vulnerable</td>\n      <td>Vulnerable</td>\n      <td>Territory Parks and Wildlife Conservation Act...</td>\n      <td>https://nt.gov.au/environment</td>\n      <td>obscured</td>\n      <td>9994</td>\n      <td>peggydnew</td>\n      <td>Listed as Threatened - refer to https://nt.gov...</td>\n    </tr>\n    <tr>\n      <th>5</th>\n      <td>ADD</td>\n      <td>Acacia undoolyana</td>\n      <td>NaN</td>\n      <td>1254884</td>\n      <td>Vulnerable</td>\n      <td>Vulnerable</td>\n      <td>Territory Parks and Wildlife Conservation Act...</td>\n      <td>https://nt.gov.au/environment</td>\n      <td>obscured</td>\n      <td>9994</td>\n      <td>peggydnew</td>\n      <td>Listed as Threatened - refer to https://nt.gov...</td>\n    </tr>\n    <tr>\n      <th>...</th>\n      <td>...</td>\n      <td>...</td>\n      <td>...</td>\n      <td>...</td>\n      <td>...</td>\n      <td>...</td>\n      <td>...</td>\n      <td>...</td>\n      <td>...</td>\n      <td>...</td>\n      <td>...</td>\n      <td>...</td>\n    </tr>\n    <tr>\n      <th>193</th>\n      <td>ADD</td>\n      <td>Vidumelon wattii</td>\n      <td>NaN</td>\n      <td>114966</td>\n      <td>Vulnerable</td>\n      <td>Vulnerable</td>\n      <td>Territory Parks and Wildlife Conservation Act...</td>\n      <td>https://nt.gov.au/environment</td>\n      <td>obscured</td>\n      <td>9994</td>\n      <td>peggydnew</td>\n      <td>Listed as Threatened - refer to https://nt.gov...</td>\n    </tr>\n    <tr>\n      <th>196</th>\n      <td>ADD</td>\n      <td>Zeuxine oblonga</td>\n      <td>NaN</td>\n      <td>369267</td>\n      <td>Vulnerable</td>\n      <td>Vulnerable</td>\n      <td>Territory Parks and Wildlife Conservation Act...</td>\n      <td>https://nt.gov.au/environment</td>\n      <td>obscured</td>\n      <td>9994</td>\n      <td>peggydnew</td>\n      <td>Listed as Threatened - refer to https://nt.gov...</td>\n    </tr>\n    <tr>\n      <th>197</th>\n      <td>ADD</td>\n      <td>Zyzomys maini</td>\n      <td>NaN</td>\n      <td>45377</td>\n      <td>Vulnerable</td>\n      <td>Vulnerable</td>\n      <td>Territory Parks and Wildlife Conservation Act...</td>\n      <td>https://nt.gov.au/environment</td>\n      <td>obscured</td>\n      <td>9994</td>\n      <td>peggydnew</td>\n      <td>Listed as Threatened - refer to https://nt.gov...</td>\n    </tr>\n    <tr>\n      <th>198</th>\n      <td>ADD</td>\n      <td>Zyzomys palatalis</td>\n      <td>NaN</td>\n      <td>75238</td>\n      <td>Endangered</td>\n      <td>Vulnerable</td>\n      <td>Territory Parks and Wildlife Conservation Act...</td>\n      <td>https://nt.gov.au/environment</td>\n      <td>obscured</td>\n      <td>9994</td>\n      <td>peggydnew</td>\n      <td>Listed as Threatened - refer to https://nt.gov...</td>\n    </tr>\n    <tr>\n      <th>199</th>\n      <td>ADD</td>\n      <td>Zyzomys pedunculatus</td>\n      <td>NaN</td>\n      <td>45374</td>\n      <td>Critically Endangered</td>\n      <td>Vulnerable</td>\n      <td>Territory Parks and Wildlife Conservation Act...</td>\n      <td>https://nt.gov.au/environment</td>\n      <td>obscured</td>\n      <td>9994</td>\n      <td>peggydnew</td>\n      <td>Listed as Threatened - refer to https://nt.gov...</td>\n    </tr>\n  </tbody>\n</table>\n<p>136 rows × 12 columns</p>\n</div>"
     },
     "execution_count": 65,
     "metadata": {},
     "output_type": "execute_result"
    }
   ],
   "source": [
    "# there's no status but there is a matching inat taxon (id is the taxon id)\n",
    "additions = pd.DataFrame(noinatstatus[noinatstatus['id'].notna()])\n",
    "additions.sort_values(['scientificName'])\n",
    "additions['action'] = 'ADD'\n",
    "additions = additions[['action','scientificName','status_id','id','new_status','new_iucn_equivalent','new_authority','new_url','new_geoprivacy','new_place_id','new_username','new_description']]\n",
    "additions.columns = additions.columns.str.replace(\"new_\", \"\", regex=True)\n",
    "additions = additions.rename(columns={'scientificName':'taxon_name',\n",
    "                                      'id':'taxon_id',\n",
    "                                  'status_id':'id'})\n",
    "additions"
   ],
   "metadata": {
    "collapsed": false,
    "pycharm": {
     "name": "#%%\n"
    }
   }
  },
  {
   "cell_type": "code",
   "execution_count": 66,
   "outputs": [],
   "source": [
    "# write these to the file\n",
    "pd.concat([updates,additions]).to_csv(sourcedir + \"nt.csv\", index=False)"
   ],
   "metadata": {
    "collapsed": false,
    "pycharm": {
     "name": "#%%\n"
    }
   }
  },
  {
   "cell_type": "code",
   "execution_count": 67,
   "outputs": [
    {
     "data": {
      "text/plain": "             scientificName                 status bionet_geoprivacy  \\\n0      Abrodictyum obscurum             Endangered              open   \n6       Acanthophsis hawkei             Vulnerable              open   \n9           Amperia spicata             Vulnerable              open   \n19       Babingtonia behrii             Vulnerable              open   \n20      Baumea arthrophylla             Endangered              open   \n..                      ...                    ...               ...   \n181      Typhonium mirabile             Endangered              open   \n183       Typhonium taylori             Endangered              open   \n184  Typhonium sp. Sandover             Vulnerable              open   \n194  Vincentrachia desmonda  Critically Endangered              open   \n195      Xylopia monosperma             Endangered              open   \n\n    status_id taxon_id user_id description iucn authority status_inat  ...  \\\n0         NaN      NaN     NaN         NaN  NaN       NaN         NaN  ...   \n6         NaN      NaN     NaN         NaN  NaN       NaN         NaN  ...   \n9         NaN      NaN     NaN         NaN  NaN       NaN         NaN  ...   \n19        NaN      NaN     NaN         NaN  NaN       NaN         NaN  ...   \n20        NaN      NaN     NaN         NaN  NaN       NaN         NaN  ...   \n..        ...      ...     ...         ...  ...       ...         ...  ...   \n181       NaN      NaN     NaN         NaN  NaN       NaN         NaN  ...   \n183       NaN      NaN     NaN         NaN  NaN       NaN         NaN  ...   \n184       NaN      NaN     NaN         NaN  NaN       NaN         NaN  ...   \n194       NaN      NaN     NaN         NaN  NaN       NaN         NaN  ...   \n195       NaN      NaN     NaN         NaN  NaN       NaN         NaN  ...   \n\n    phylum class order family genus specificEpithet infraspecificEpithet  \\\n0      NaN   NaN   NaN    NaN   NaN             NaN                  NaN   \n6      NaN   NaN   NaN    NaN   NaN             NaN                  NaN   \n9      NaN   NaN   NaN    NaN   NaN             NaN                  NaN   \n19     NaN   NaN   NaN    NaN   NaN             NaN                  NaN   \n20     NaN   NaN   NaN    NaN   NaN             NaN                  NaN   \n..     ...   ...   ...    ...   ...             ...                  ...   \n181    NaN   NaN   NaN    NaN   NaN             NaN                  NaN   \n183    NaN   NaN   NaN    NaN   NaN             NaN                  NaN   \n184    NaN   NaN   NaN    NaN   NaN             NaN                  NaN   \n194    NaN   NaN   NaN    NaN   NaN             NaN                  NaN   \n195    NaN   NaN   NaN    NaN   NaN             NaN                  NaN   \n\n    modified taxonRank references  \n0        NaN       NaN        NaN  \n6        NaN       NaN        NaN  \n9        NaN       NaN        NaN  \n19       NaN       NaN        NaN  \n20       NaN       NaN        NaN  \n..       ...       ...        ...  \n181      NaN       NaN        NaN  \n183      NaN       NaN        NaN  \n184      NaN       NaN        NaN  \n194      NaN       NaN        NaN  \n195      NaN       NaN        NaN  \n\n[64 rows x 36 columns]",
      "text/html": "<div>\n<style scoped>\n    .dataframe tbody tr th:only-of-type {\n        vertical-align: middle;\n    }\n\n    .dataframe tbody tr th {\n        vertical-align: top;\n    }\n\n    .dataframe thead th {\n        text-align: right;\n    }\n</style>\n<table border=\"1\" class=\"dataframe\">\n  <thead>\n    <tr style=\"text-align: right;\">\n      <th></th>\n      <th>scientificName</th>\n      <th>status</th>\n      <th>bionet_geoprivacy</th>\n      <th>status_id</th>\n      <th>taxon_id</th>\n      <th>user_id</th>\n      <th>description</th>\n      <th>iucn</th>\n      <th>authority</th>\n      <th>status_inat</th>\n      <th>...</th>\n      <th>phylum</th>\n      <th>class</th>\n      <th>order</th>\n      <th>family</th>\n      <th>genus</th>\n      <th>specificEpithet</th>\n      <th>infraspecificEpithet</th>\n      <th>modified</th>\n      <th>taxonRank</th>\n      <th>references</th>\n    </tr>\n  </thead>\n  <tbody>\n    <tr>\n      <th>0</th>\n      <td>Abrodictyum obscurum</td>\n      <td>Endangered</td>\n      <td>open</td>\n      <td>NaN</td>\n      <td>NaN</td>\n      <td>NaN</td>\n      <td>NaN</td>\n      <td>NaN</td>\n      <td>NaN</td>\n      <td>NaN</td>\n      <td>...</td>\n      <td>NaN</td>\n      <td>NaN</td>\n      <td>NaN</td>\n      <td>NaN</td>\n      <td>NaN</td>\n      <td>NaN</td>\n      <td>NaN</td>\n      <td>NaN</td>\n      <td>NaN</td>\n      <td>NaN</td>\n    </tr>\n    <tr>\n      <th>6</th>\n      <td>Acanthophsis hawkei</td>\n      <td>Vulnerable</td>\n      <td>open</td>\n      <td>NaN</td>\n      <td>NaN</td>\n      <td>NaN</td>\n      <td>NaN</td>\n      <td>NaN</td>\n      <td>NaN</td>\n      <td>NaN</td>\n      <td>...</td>\n      <td>NaN</td>\n      <td>NaN</td>\n      <td>NaN</td>\n      <td>NaN</td>\n      <td>NaN</td>\n      <td>NaN</td>\n      <td>NaN</td>\n      <td>NaN</td>\n      <td>NaN</td>\n      <td>NaN</td>\n    </tr>\n    <tr>\n      <th>9</th>\n      <td>Amperia spicata</td>\n      <td>Vulnerable</td>\n      <td>open</td>\n      <td>NaN</td>\n      <td>NaN</td>\n      <td>NaN</td>\n      <td>NaN</td>\n      <td>NaN</td>\n      <td>NaN</td>\n      <td>NaN</td>\n      <td>...</td>\n      <td>NaN</td>\n      <td>NaN</td>\n      <td>NaN</td>\n      <td>NaN</td>\n      <td>NaN</td>\n      <td>NaN</td>\n      <td>NaN</td>\n      <td>NaN</td>\n      <td>NaN</td>\n      <td>NaN</td>\n    </tr>\n    <tr>\n      <th>19</th>\n      <td>Babingtonia behrii</td>\n      <td>Vulnerable</td>\n      <td>open</td>\n      <td>NaN</td>\n      <td>NaN</td>\n      <td>NaN</td>\n      <td>NaN</td>\n      <td>NaN</td>\n      <td>NaN</td>\n      <td>NaN</td>\n      <td>...</td>\n      <td>NaN</td>\n      <td>NaN</td>\n      <td>NaN</td>\n      <td>NaN</td>\n      <td>NaN</td>\n      <td>NaN</td>\n      <td>NaN</td>\n      <td>NaN</td>\n      <td>NaN</td>\n      <td>NaN</td>\n    </tr>\n    <tr>\n      <th>20</th>\n      <td>Baumea arthrophylla</td>\n      <td>Endangered</td>\n      <td>open</td>\n      <td>NaN</td>\n      <td>NaN</td>\n      <td>NaN</td>\n      <td>NaN</td>\n      <td>NaN</td>\n      <td>NaN</td>\n      <td>NaN</td>\n      <td>...</td>\n      <td>NaN</td>\n      <td>NaN</td>\n      <td>NaN</td>\n      <td>NaN</td>\n      <td>NaN</td>\n      <td>NaN</td>\n      <td>NaN</td>\n      <td>NaN</td>\n      <td>NaN</td>\n      <td>NaN</td>\n    </tr>\n    <tr>\n      <th>...</th>\n      <td>...</td>\n      <td>...</td>\n      <td>...</td>\n      <td>...</td>\n      <td>...</td>\n      <td>...</td>\n      <td>...</td>\n      <td>...</td>\n      <td>...</td>\n      <td>...</td>\n      <td>...</td>\n      <td>...</td>\n      <td>...</td>\n      <td>...</td>\n      <td>...</td>\n      <td>...</td>\n      <td>...</td>\n      <td>...</td>\n      <td>...</td>\n      <td>...</td>\n      <td>...</td>\n    </tr>\n    <tr>\n      <th>181</th>\n      <td>Typhonium mirabile</td>\n      <td>Endangered</td>\n      <td>open</td>\n      <td>NaN</td>\n      <td>NaN</td>\n      <td>NaN</td>\n      <td>NaN</td>\n      <td>NaN</td>\n      <td>NaN</td>\n      <td>NaN</td>\n      <td>...</td>\n      <td>NaN</td>\n      <td>NaN</td>\n      <td>NaN</td>\n      <td>NaN</td>\n      <td>NaN</td>\n      <td>NaN</td>\n      <td>NaN</td>\n      <td>NaN</td>\n      <td>NaN</td>\n      <td>NaN</td>\n    </tr>\n    <tr>\n      <th>183</th>\n      <td>Typhonium taylori</td>\n      <td>Endangered</td>\n      <td>open</td>\n      <td>NaN</td>\n      <td>NaN</td>\n      <td>NaN</td>\n      <td>NaN</td>\n      <td>NaN</td>\n      <td>NaN</td>\n      <td>NaN</td>\n      <td>...</td>\n      <td>NaN</td>\n      <td>NaN</td>\n      <td>NaN</td>\n      <td>NaN</td>\n      <td>NaN</td>\n      <td>NaN</td>\n      <td>NaN</td>\n      <td>NaN</td>\n      <td>NaN</td>\n      <td>NaN</td>\n    </tr>\n    <tr>\n      <th>184</th>\n      <td>Typhonium sp. Sandover</td>\n      <td>Vulnerable</td>\n      <td>open</td>\n      <td>NaN</td>\n      <td>NaN</td>\n      <td>NaN</td>\n      <td>NaN</td>\n      <td>NaN</td>\n      <td>NaN</td>\n      <td>NaN</td>\n      <td>...</td>\n      <td>NaN</td>\n      <td>NaN</td>\n      <td>NaN</td>\n      <td>NaN</td>\n      <td>NaN</td>\n      <td>NaN</td>\n      <td>NaN</td>\n      <td>NaN</td>\n      <td>NaN</td>\n      <td>NaN</td>\n    </tr>\n    <tr>\n      <th>194</th>\n      <td>Vincentrachia desmonda</td>\n      <td>Critically Endangered</td>\n      <td>open</td>\n      <td>NaN</td>\n      <td>NaN</td>\n      <td>NaN</td>\n      <td>NaN</td>\n      <td>NaN</td>\n      <td>NaN</td>\n      <td>NaN</td>\n      <td>...</td>\n      <td>NaN</td>\n      <td>NaN</td>\n      <td>NaN</td>\n      <td>NaN</td>\n      <td>NaN</td>\n      <td>NaN</td>\n      <td>NaN</td>\n      <td>NaN</td>\n      <td>NaN</td>\n      <td>NaN</td>\n    </tr>\n    <tr>\n      <th>195</th>\n      <td>Xylopia monosperma</td>\n      <td>Endangered</td>\n      <td>open</td>\n      <td>NaN</td>\n      <td>NaN</td>\n      <td>NaN</td>\n      <td>NaN</td>\n      <td>NaN</td>\n      <td>NaN</td>\n      <td>NaN</td>\n      <td>...</td>\n      <td>NaN</td>\n      <td>NaN</td>\n      <td>NaN</td>\n      <td>NaN</td>\n      <td>NaN</td>\n      <td>NaN</td>\n      <td>NaN</td>\n      <td>NaN</td>\n      <td>NaN</td>\n      <td>NaN</td>\n    </tr>\n  </tbody>\n</table>\n<p>64 rows × 36 columns</p>\n</div>"
     },
     "execution_count": 67,
     "metadata": {},
     "output_type": "execute_result"
    }
   ],
   "source": [
    "# what didnt match to a taxon?\n",
    "unknownToInat = noinatstatus[noinatstatus['id'].isna()]\n",
    "unknownToInat"
   ],
   "metadata": {
    "collapsed": false,
    "pycharm": {
     "name": "#%%\n"
    }
   }
  },
  {
   "cell_type": "markdown",
   "source": [],
   "metadata": {
    "collapsed": false,
    "pycharm": {
     "name": "#%% md\n"
    }
   }
  },
  {
   "cell_type": "markdown",
   "source": [
    "### are there any that need to be removed?\n",
    "NT sensitive list count: 0\n",
    "NT inat statuses count: 12\n",
    "\n",
    "updates to inat status: 4\n",
    "additional inat status: 136\n",
    "NT statuses we can't find a taxon match for in iNaturalist: 64\n",
    "total: 166 (explainable via the various genus/section entries that we matched to in the taxonomy)\n",
    "\n",
    "inat statuses left over: 12-4=8 that may need checking"
   ],
   "metadata": {
    "collapsed": false,
    "pycharm": {
     "name": "#%% md\n"
    }
   }
  },
  {
   "cell_type": "code",
   "execution_count": 68,
   "outputs": [
    {
     "data": {
      "text/plain": "     status_id taxon_id user_id place_id source_id                  authority  \\\n1001    162724  1134239  702203     9994                   Northern Territory   \n927     165448    12647  702203     9994                   Northern Territory   \n289     263901  1289379  702203     9994            Atlas of Living Australia   \n215     170163    20166  702203     9994            Atlas of Living Australia   \n1252    152436    40743  708886     9994     16652                  NT NRETAS   \n1248    152432    41326  708886     9994     16652                  NT NRETAS   \n986     139906   698942             9994                                        \n1       234788   918383  702203     9994            Atlas of Living Australia   \n\n             status                                                url  \\\n1001             LC  https://bie.ala.org.au/species/https://id.biod...   \n927              LC  https://bie.ala.org.au/species/urn:lsid:biodiv...   \n289              VU  https://bie.ala.org.au/species/urn:lsid:biodiv...   \n215              LC  https://bie.ala.org.au/species/urn:lsid:biodiv...   \n1252     endangered  https://lists.ala.org.au/speciesListItem/list/...   \n1248     endangered  https://lists.ala.org.au/speciesListItem/list/...   \n986   least concern  https://bie.ala.org.au/species/http://id.biodi...   \n1               NT   https://bie.ala.org.au/species/https://id.biod...   \n\n                          description geoprivacy  ...         genus  \\\n1001                                        open  ...    Cryptandra   \n927                                         open  ...    Epthianura   \n289                                         open  ...      Chloebia   \n215                                               ...         Ninox   \n1252                                    obscured  ...                 \n1248                                    obscured  ...    Macroderma   \n986   Atlas of Living Australia (ALA)             ...      Duboisia   \n1                                                 ...  Chiloschista   \n\n     specificEpithet infraspecificEpithet              modified  \\\n1001         gemmata                       2020-09-25T18:01:37Z   \n927           crocea                       2021-09-17T08:46:17Z   \n289         gouldiae                       2022-10-20T02:55:37Z   \n215        connivens                       2021-07-28T02:17:03Z   \n1252                                                              \n1248           gigas                       2019-08-27T01:58:05Z   \n986        hopwoodii                       2019-02-16T13:19:18Z   \n1        phyllorhiza                       2022-01-08T03:30:36Z   \n\n                scientificName taxonRank  \\\n1001        Cryptandra gemmata   species   \n927          Epthianura crocea   species   \n289          Chloebia gouldiae   species   \n215            Ninox connivens   species   \n1252     Hipposideros stenotis             \n1248          Macroderma gigas   species   \n986         Duboisia hopwoodii   species   \n1     Chiloschista phyllorhiza   species   \n\n                                             references  \\\n1001  http://plantsoftheworldonline.org/taxon/urn:ls...   \n927   http://www.birdlife.org/datazone/speciesfactsh...   \n289   https://www.birds.cornell.edu/clementschecklis...   \n215   http://www.birdlife.org/datazone/speciesfactsh...   \n1252                                                      \n1248  http://www.catalogueoflife.org/annual-checklis...   \n986                             https://www.ala.org.au/   \n1     http://www.catalogueoflife.org/annual-checklis...   \n\n           preferred_common_name is_active current_synonymous_taxon_ids  \n1001                                                                     \n927                                                                      \n289                                                                      \n215                                                                      \n1252  Narrow-eared Roundleaf Bat     False                    [1431118]  \n1248                                                                     \n986                                                                      \n1                                                                        \n\n[8 rows x 34 columns]",
      "text/html": "<div>\n<style scoped>\n    .dataframe tbody tr th:only-of-type {\n        vertical-align: middle;\n    }\n\n    .dataframe tbody tr th {\n        vertical-align: top;\n    }\n\n    .dataframe thead th {\n        text-align: right;\n    }\n</style>\n<table border=\"1\" class=\"dataframe\">\n  <thead>\n    <tr style=\"text-align: right;\">\n      <th></th>\n      <th>status_id</th>\n      <th>taxon_id</th>\n      <th>user_id</th>\n      <th>place_id</th>\n      <th>source_id</th>\n      <th>authority</th>\n      <th>status</th>\n      <th>url</th>\n      <th>description</th>\n      <th>geoprivacy</th>\n      <th>...</th>\n      <th>genus</th>\n      <th>specificEpithet</th>\n      <th>infraspecificEpithet</th>\n      <th>modified</th>\n      <th>scientificName</th>\n      <th>taxonRank</th>\n      <th>references</th>\n      <th>preferred_common_name</th>\n      <th>is_active</th>\n      <th>current_synonymous_taxon_ids</th>\n    </tr>\n  </thead>\n  <tbody>\n    <tr>\n      <th>1001</th>\n      <td>162724</td>\n      <td>1134239</td>\n      <td>702203</td>\n      <td>9994</td>\n      <td></td>\n      <td>Northern Territory</td>\n      <td>LC</td>\n      <td>https://bie.ala.org.au/species/https://id.biod...</td>\n      <td></td>\n      <td>open</td>\n      <td>...</td>\n      <td>Cryptandra</td>\n      <td>gemmata</td>\n      <td></td>\n      <td>2020-09-25T18:01:37Z</td>\n      <td>Cryptandra gemmata</td>\n      <td>species</td>\n      <td>http://plantsoftheworldonline.org/taxon/urn:ls...</td>\n      <td></td>\n      <td></td>\n      <td></td>\n    </tr>\n    <tr>\n      <th>927</th>\n      <td>165448</td>\n      <td>12647</td>\n      <td>702203</td>\n      <td>9994</td>\n      <td></td>\n      <td>Northern Territory</td>\n      <td>LC</td>\n      <td>https://bie.ala.org.au/species/urn:lsid:biodiv...</td>\n      <td></td>\n      <td>open</td>\n      <td>...</td>\n      <td>Epthianura</td>\n      <td>crocea</td>\n      <td></td>\n      <td>2021-09-17T08:46:17Z</td>\n      <td>Epthianura crocea</td>\n      <td>species</td>\n      <td>http://www.birdlife.org/datazone/speciesfactsh...</td>\n      <td></td>\n      <td></td>\n      <td></td>\n    </tr>\n    <tr>\n      <th>289</th>\n      <td>263901</td>\n      <td>1289379</td>\n      <td>702203</td>\n      <td>9994</td>\n      <td></td>\n      <td>Atlas of Living Australia</td>\n      <td>VU</td>\n      <td>https://bie.ala.org.au/species/urn:lsid:biodiv...</td>\n      <td></td>\n      <td>open</td>\n      <td>...</td>\n      <td>Chloebia</td>\n      <td>gouldiae</td>\n      <td></td>\n      <td>2022-10-20T02:55:37Z</td>\n      <td>Chloebia gouldiae</td>\n      <td>species</td>\n      <td>https://www.birds.cornell.edu/clementschecklis...</td>\n      <td></td>\n      <td></td>\n      <td></td>\n    </tr>\n    <tr>\n      <th>215</th>\n      <td>170163</td>\n      <td>20166</td>\n      <td>702203</td>\n      <td>9994</td>\n      <td></td>\n      <td>Atlas of Living Australia</td>\n      <td>LC</td>\n      <td>https://bie.ala.org.au/species/urn:lsid:biodiv...</td>\n      <td></td>\n      <td></td>\n      <td>...</td>\n      <td>Ninox</td>\n      <td>connivens</td>\n      <td></td>\n      <td>2021-07-28T02:17:03Z</td>\n      <td>Ninox connivens</td>\n      <td>species</td>\n      <td>http://www.birdlife.org/datazone/speciesfactsh...</td>\n      <td></td>\n      <td></td>\n      <td></td>\n    </tr>\n    <tr>\n      <th>1252</th>\n      <td>152436</td>\n      <td>40743</td>\n      <td>708886</td>\n      <td>9994</td>\n      <td>16652</td>\n      <td>NT NRETAS</td>\n      <td>endangered</td>\n      <td>https://lists.ala.org.au/speciesListItem/list/...</td>\n      <td></td>\n      <td>obscured</td>\n      <td>...</td>\n      <td></td>\n      <td></td>\n      <td></td>\n      <td></td>\n      <td>Hipposideros stenotis</td>\n      <td></td>\n      <td></td>\n      <td>Narrow-eared Roundleaf Bat</td>\n      <td>False</td>\n      <td>[1431118]</td>\n    </tr>\n    <tr>\n      <th>1248</th>\n      <td>152432</td>\n      <td>41326</td>\n      <td>708886</td>\n      <td>9994</td>\n      <td>16652</td>\n      <td>NT NRETAS</td>\n      <td>endangered</td>\n      <td>https://lists.ala.org.au/speciesListItem/list/...</td>\n      <td></td>\n      <td>obscured</td>\n      <td>...</td>\n      <td>Macroderma</td>\n      <td>gigas</td>\n      <td></td>\n      <td>2019-08-27T01:58:05Z</td>\n      <td>Macroderma gigas</td>\n      <td>species</td>\n      <td>http://www.catalogueoflife.org/annual-checklis...</td>\n      <td></td>\n      <td></td>\n      <td></td>\n    </tr>\n    <tr>\n      <th>986</th>\n      <td>139906</td>\n      <td>698942</td>\n      <td></td>\n      <td>9994</td>\n      <td></td>\n      <td></td>\n      <td>least concern</td>\n      <td>https://bie.ala.org.au/species/http://id.biodi...</td>\n      <td>Atlas of Living Australia (ALA)</td>\n      <td></td>\n      <td>...</td>\n      <td>Duboisia</td>\n      <td>hopwoodii</td>\n      <td></td>\n      <td>2019-02-16T13:19:18Z</td>\n      <td>Duboisia hopwoodii</td>\n      <td>species</td>\n      <td>https://www.ala.org.au/</td>\n      <td></td>\n      <td></td>\n      <td></td>\n    </tr>\n    <tr>\n      <th>1</th>\n      <td>234788</td>\n      <td>918383</td>\n      <td>702203</td>\n      <td>9994</td>\n      <td></td>\n      <td>Atlas of Living Australia</td>\n      <td>NT</td>\n      <td>https://bie.ala.org.au/species/https://id.biod...</td>\n      <td></td>\n      <td></td>\n      <td>...</td>\n      <td>Chiloschista</td>\n      <td>phyllorhiza</td>\n      <td></td>\n      <td>2022-01-08T03:30:36Z</td>\n      <td>Chiloschista phyllorhiza</td>\n      <td>species</td>\n      <td>http://www.catalogueoflife.org/annual-checklis...</td>\n      <td></td>\n      <td></td>\n      <td></td>\n    </tr>\n  </tbody>\n</table>\n<p>8 rows × 34 columns</p>\n</div>"
     },
     "execution_count": 68,
     "metadata": {},
     "output_type": "execute_result"
    }
   ],
   "source": [
    "# inat statuses that aren't in added or updated\n",
    "inatstatuses[~inatstatuses['taxon_id'].isin(updates['taxon_id'])]\n"
   ],
   "metadata": {
    "collapsed": false,
    "pycharm": {
     "name": "#%%\n"
    }
   }
  }
 ],
 "metadata": {
  "kernelspec": {
   "display_name": "Python 3",
   "language": "python",
   "name": "python3"
  },
  "language_info": {
   "codemirror_mode": {
    "name": "ipython",
    "version": 2
   },
   "file_extension": ".py",
   "mimetype": "text/x-python",
   "name": "python",
   "nbconvert_exporter": "python",
   "pygments_lexer": "ipython2",
   "version": "2.7.6"
  }
 },
 "nbformat": 4,
 "nbformat_minor": 0
}