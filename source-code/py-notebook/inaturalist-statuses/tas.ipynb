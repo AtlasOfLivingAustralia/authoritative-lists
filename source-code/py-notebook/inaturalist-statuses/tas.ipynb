{
 "cells": [
  {
   "cell_type": "markdown",
   "source": [
    "# iNaturalist status updates by state\n",
    "\n",
    "Using the file produced in the collate-status-taxa.ipynb: `inat-aust-status-taxa.csv`, generate lists to update iNaturalist statuses\n",
    "\n",
    "**Next steps:**\n",
    "State by state establish the changes that need to be made:\n",
    "    a. new - any new species that appear in the state lists but do not have a status in inaturalist (new template)\n",
    "    b. updates - any changes to information which was added by us previously (user_id = 708886) (update template, action='UPDATE')\n",
    "    c. removals - any statuses which were added by us previously (user_id = 708886) list which are incorrect (update template, action='REMOVE')\n",
    "    d. flags - are there any statuses by other users that need to be flagged?\n",
    "\n",
    "## Prep - common to all states\n",
    "1. Read in the inaturalist statuses & filter out this state\n",
    "2. Read in the inaturalist taxa list\n",
    "3. Read in the state sensitive list\n",
    "4. Attempt to match the state statuses to an IUCN equivalent\n",
    "\n",
    "\n",
    "### 1. iNaturalist statuses"
   ],
   "metadata": {
    "collapsed": false,
    "pycharm": {
     "name": "#%% md\n"
    }
   }
  },
  {
   "cell_type": "code",
   "execution_count": 27,
   "metadata": {
    "collapsed": true,
    "pycharm": {
     "name": "#%%\n"
    }
   },
   "outputs": [
    {
     "data": {
      "text/plain": "       id taxon_id  user_id place_id source_id  \\\n0  166449    38493  1138587     7830             \n1  234788   918383   702203     9994             \n2  234789   918383   702203     7308             \n\n                            authority status  \\\n0  Flora and Fauna Guarantee Act 1988     CR   \n1           Atlas of Living Australia    NT    \n2           Atlas of Living Australia     LC   \n\n                                                 url description geoprivacy  \\\n0                                                                  obscured   \n1  https://bie.ala.org.au/species/https://id.biod...                          \n2  https://bie.ala.org.au/species/https://id.biod...                          \n\n   ...         genus specificEpithet infraspecificEpithet  \\\n0  ...     Eulamprus      kosciuskoi                        \n1  ...  Chiloschista     phyllorhiza                        \n2  ...  Chiloschista     phyllorhiza                        \n\n               modified            scientificName taxonRank  \\\n0  2021-03-01T10:35:01Z      Eulamprus kosciuskoi   species   \n1  2022-01-08T03:30:36Z  Chiloschista phyllorhiza   species   \n2  2022-01-08T03:30:36Z  Chiloschista phyllorhiza   species   \n\n                                          references preferred_common_name  \\\n0  http://reptile-database.reptarium.cz/search.ph...                         \n1  http://www.catalogueoflife.org/annual-checklis...                         \n2  http://www.catalogueoflife.org/annual-checklis...                         \n\n  is_active current_synonymous_taxon_ids  \n0                                         \n1                                         \n2                                         \n\n[3 rows x 34 columns]",
      "text/html": "<div>\n<style scoped>\n    .dataframe tbody tr th:only-of-type {\n        vertical-align: middle;\n    }\n\n    .dataframe tbody tr th {\n        vertical-align: top;\n    }\n\n    .dataframe thead th {\n        text-align: right;\n    }\n</style>\n<table border=\"1\" class=\"dataframe\">\n  <thead>\n    <tr style=\"text-align: right;\">\n      <th></th>\n      <th>id</th>\n      <th>taxon_id</th>\n      <th>user_id</th>\n      <th>place_id</th>\n      <th>source_id</th>\n      <th>authority</th>\n      <th>status</th>\n      <th>url</th>\n      <th>description</th>\n      <th>geoprivacy</th>\n      <th>...</th>\n      <th>genus</th>\n      <th>specificEpithet</th>\n      <th>infraspecificEpithet</th>\n      <th>modified</th>\n      <th>scientificName</th>\n      <th>taxonRank</th>\n      <th>references</th>\n      <th>preferred_common_name</th>\n      <th>is_active</th>\n      <th>current_synonymous_taxon_ids</th>\n    </tr>\n  </thead>\n  <tbody>\n    <tr>\n      <th>0</th>\n      <td>166449</td>\n      <td>38493</td>\n      <td>1138587</td>\n      <td>7830</td>\n      <td></td>\n      <td>Flora and Fauna Guarantee Act 1988</td>\n      <td>CR</td>\n      <td></td>\n      <td></td>\n      <td>obscured</td>\n      <td>...</td>\n      <td>Eulamprus</td>\n      <td>kosciuskoi</td>\n      <td></td>\n      <td>2021-03-01T10:35:01Z</td>\n      <td>Eulamprus kosciuskoi</td>\n      <td>species</td>\n      <td>http://reptile-database.reptarium.cz/search.ph...</td>\n      <td></td>\n      <td></td>\n      <td></td>\n    </tr>\n    <tr>\n      <th>1</th>\n      <td>234788</td>\n      <td>918383</td>\n      <td>702203</td>\n      <td>9994</td>\n      <td></td>\n      <td>Atlas of Living Australia</td>\n      <td>NT</td>\n      <td>https://bie.ala.org.au/species/https://id.biod...</td>\n      <td></td>\n      <td></td>\n      <td>...</td>\n      <td>Chiloschista</td>\n      <td>phyllorhiza</td>\n      <td></td>\n      <td>2022-01-08T03:30:36Z</td>\n      <td>Chiloschista phyllorhiza</td>\n      <td>species</td>\n      <td>http://www.catalogueoflife.org/annual-checklis...</td>\n      <td></td>\n      <td></td>\n      <td></td>\n    </tr>\n    <tr>\n      <th>2</th>\n      <td>234789</td>\n      <td>918383</td>\n      <td>702203</td>\n      <td>7308</td>\n      <td></td>\n      <td>Atlas of Living Australia</td>\n      <td>LC</td>\n      <td>https://bie.ala.org.au/species/https://id.biod...</td>\n      <td></td>\n      <td></td>\n      <td>...</td>\n      <td>Chiloschista</td>\n      <td>phyllorhiza</td>\n      <td></td>\n      <td>2022-01-08T03:30:36Z</td>\n      <td>Chiloschista phyllorhiza</td>\n      <td>species</td>\n      <td>http://www.catalogueoflife.org/annual-checklis...</td>\n      <td></td>\n      <td></td>\n      <td></td>\n    </tr>\n  </tbody>\n</table>\n<p>3 rows × 34 columns</p>\n</div>"
     },
     "execution_count": 27,
     "metadata": {},
     "output_type": "execute_result"
    }
   ],
   "source": [
    "import sys\n",
    "import os\n",
    "projectdir = \"/Users/oco115/PycharmProjects/authoritative-lists/\" # basedir for this gh project\n",
    "sys.path.append(os.path.abspath(projectdir + \"source-code/includes\"))\n",
    "import list_functions as lf\n",
    "\n",
    "import pandas as pd\n",
    "# projectdir = \"/Users/new330/IdeaProjects/authoritative-lists/\" # basedir for this gh project\n",
    "sourcedir = projectdir + \"source-data/inaturalist-statuses/\"\n",
    "listdir = projectdir + \"current-lists/\"\n",
    "\n",
    "\n",
    "# read in the statuses\n",
    "taxastatus = pd.read_csv(sourcedir + \"inat-aust-status-taxa.csv\", encoding='UTF-8',na_filter=False,dtype=str) ## Read inaturalist conservation statuses file\n",
    "taxastatus.head(3)"
   ]
  },
  {
   "cell_type": "code",
   "execution_count": 28,
   "outputs": [
    {
     "data": {
      "text/plain": "     status_id taxon_id  user_id place_id source_id  \\\n212     170159  1007040   702203     6829             \n2558    160921  1038747   717122     6829             \n2547    160910  1038906   717122     6829             \n933     160738  1038964   717122     6829             \n2557    160920  1038976   717122     6829             \n...        ...      ...      ...      ...       ...   \n2586    160759   958863   717122     6829             \n2594    161103   960004   717122     6829             \n3380    268029   993886  1116633     6829             \n813     160748   993902   717122     6829             \n1008    160745   993922   717122     6829             \n\n                                            authority      status  \\\n212            Threatened Species Protection Act 1995          EN   \n2558           Threatened Species Protection Act 1995  Endangered   \n2547           Threatened Species Protection Act 1995  Endangered   \n933            Threatened Species Protection Act 1995  Endangered   \n2557           Threatened Species Protection Act 1995  Endangered   \n...                                               ...         ...   \n2586           Threatened Species Protection Act 1995  Endangered   \n2594           Threatened Species Protection Act 1995  Endangered   \n3380  TASMANIAN THREATENED SPECIES LISTING STATEMENT           EN   \n813            Threatened Species Protection Act 1995  Endangered   \n1008           Threatened Species Protection Act 1995  Endangered   \n\n                                                    url  \\\n212   https://www.threatenedspecieslink.tas.gov.au/P...   \n2558  https://dpipwe.tas.gov.au/Documents/Ranunculus...   \n2547  https://dpipwe.tas.gov.au/Documents/Myosurus-a...   \n933   https://dpipwe.tas.gov.au/Documents/Boronia%20...   \n2557  https://dpipwe.tas.gov.au/Documents/Pimelea-ax...   \n...                                                 ...   \n2586  https://dpipwe.tas.gov.au/Documents/Corunastyl...   \n2594  https://dpipwe.tas.gov.au/Documents/Thelymitra...   \n3380  https://nre.tas.gov.au/Documents/Prasophyllum%...   \n813   https://dpipwe.tas.gov.au/Documents/Caladenia-...   \n1008  https://dpipwe.tas.gov.au/Documents/Caladenia-...   \n\n                                            description geoprivacy  ...  \\\n212                                                                 ...   \n2558                                                      obscured  ...   \n2547                                                      obscured  ...   \n933                                                       obscured  ...   \n2557                                                      obscured  ...   \n...                                                 ...        ...  ...   \n2586                                                                ...   \n2594                                                      obscured  ...   \n3380  1. total population estimated to number fewer ...   obscured  ...   \n813                                                                 ...   \n1008                                                                ...   \n\n             genus specificEpithet infraspecificEpithet              modified  \\\n212       Dianella          amoena                       2021-07-27T17:12:17Z   \n2558    Ranunculus       diminutus                       2022-06-13T17:38:59Z   \n2547      Myosurus       australis                       2020-08-19T03:33:32Z   \n933        Boronia      hemichiton                       2020-08-17T05:51:50Z   \n2557       Pimelea        axiflora             axiflora  2020-12-02T04:00:26Z   \n...            ...             ...                  ...                   ...   \n2586   Genoplesium      nudiscapum                       2022-10-26T09:34:12Z   \n2594    Thelymitra       bracteata                       2022-07-14T00:09:44Z   \n3380  Prasophyllum    abblittiorum                       2020-02-18T23:45:10Z   \n813      Caladenia         dienema                       2020-12-15T00:50:01Z   \n1008     Caladenia      campbellii                       2020-12-15T00:48:44Z   \n\n                 scientificName   taxonRank  \\\n212             Dianella amoena     species   \n2558       Ranunculus diminutus     species   \n2547         Myosurus australis     species   \n933          Boronia hemichiton     species   \n2557  Pimelea axiflora axiflora  subspecies   \n...                         ...         ...   \n2586     Genoplesium nudiscapum     species   \n2594       Thelymitra bracteata     species   \n3380  Prasophyllum abblittiorum     species   \n813           Caladenia dienema     species   \n1008       Caladenia campbellii     species   \n\n                                             references preferred_common_name  \\\n212   http://www.catalogueoflife.org/annual-checklis...                         \n2558                                                                            \n2547                                                                            \n933                                                                             \n2557                                                                            \n...                                                 ...                   ...   \n2586                      https://eol.org/pages/1099120                         \n2594  http://www.catalogueoflife.org/annual-checklis...                         \n3380                     https://eol.org/pages/51504614                         \n813   http://www.catalogueoflife.org/annual-checklis...                         \n1008  http://www.catalogueoflife.org/annual-checklis...                         \n\n     is_active current_synonymous_taxon_ids  \n212                                          \n2558                                         \n2547                                         \n933                                          \n2557                                         \n...        ...                          ...  \n2586                                         \n2594                                         \n3380                                         \n813                                          \n1008                                         \n\n[85 rows x 34 columns]",
      "text/html": "<div>\n<style scoped>\n    .dataframe tbody tr th:only-of-type {\n        vertical-align: middle;\n    }\n\n    .dataframe tbody tr th {\n        vertical-align: top;\n    }\n\n    .dataframe thead th {\n        text-align: right;\n    }\n</style>\n<table border=\"1\" class=\"dataframe\">\n  <thead>\n    <tr style=\"text-align: right;\">\n      <th></th>\n      <th>status_id</th>\n      <th>taxon_id</th>\n      <th>user_id</th>\n      <th>place_id</th>\n      <th>source_id</th>\n      <th>authority</th>\n      <th>status</th>\n      <th>url</th>\n      <th>description</th>\n      <th>geoprivacy</th>\n      <th>...</th>\n      <th>genus</th>\n      <th>specificEpithet</th>\n      <th>infraspecificEpithet</th>\n      <th>modified</th>\n      <th>scientificName</th>\n      <th>taxonRank</th>\n      <th>references</th>\n      <th>preferred_common_name</th>\n      <th>is_active</th>\n      <th>current_synonymous_taxon_ids</th>\n    </tr>\n  </thead>\n  <tbody>\n    <tr>\n      <th>212</th>\n      <td>170159</td>\n      <td>1007040</td>\n      <td>702203</td>\n      <td>6829</td>\n      <td></td>\n      <td>Threatened Species Protection Act 1995</td>\n      <td>EN</td>\n      <td>https://www.threatenedspecieslink.tas.gov.au/P...</td>\n      <td></td>\n      <td></td>\n      <td>...</td>\n      <td>Dianella</td>\n      <td>amoena</td>\n      <td></td>\n      <td>2021-07-27T17:12:17Z</td>\n      <td>Dianella amoena</td>\n      <td>species</td>\n      <td>http://www.catalogueoflife.org/annual-checklis...</td>\n      <td></td>\n      <td></td>\n      <td></td>\n    </tr>\n    <tr>\n      <th>2558</th>\n      <td>160921</td>\n      <td>1038747</td>\n      <td>717122</td>\n      <td>6829</td>\n      <td></td>\n      <td>Threatened Species Protection Act 1995</td>\n      <td>Endangered</td>\n      <td>https://dpipwe.tas.gov.au/Documents/Ranunculus...</td>\n      <td></td>\n      <td>obscured</td>\n      <td>...</td>\n      <td>Ranunculus</td>\n      <td>diminutus</td>\n      <td></td>\n      <td>2022-06-13T17:38:59Z</td>\n      <td>Ranunculus diminutus</td>\n      <td>species</td>\n      <td></td>\n      <td></td>\n      <td></td>\n      <td></td>\n    </tr>\n    <tr>\n      <th>2547</th>\n      <td>160910</td>\n      <td>1038906</td>\n      <td>717122</td>\n      <td>6829</td>\n      <td></td>\n      <td>Threatened Species Protection Act 1995</td>\n      <td>Endangered</td>\n      <td>https://dpipwe.tas.gov.au/Documents/Myosurus-a...</td>\n      <td></td>\n      <td>obscured</td>\n      <td>...</td>\n      <td>Myosurus</td>\n      <td>australis</td>\n      <td></td>\n      <td>2020-08-19T03:33:32Z</td>\n      <td>Myosurus australis</td>\n      <td>species</td>\n      <td></td>\n      <td></td>\n      <td></td>\n      <td></td>\n    </tr>\n    <tr>\n      <th>933</th>\n      <td>160738</td>\n      <td>1038964</td>\n      <td>717122</td>\n      <td>6829</td>\n      <td></td>\n      <td>Threatened Species Protection Act 1995</td>\n      <td>Endangered</td>\n      <td>https://dpipwe.tas.gov.au/Documents/Boronia%20...</td>\n      <td></td>\n      <td>obscured</td>\n      <td>...</td>\n      <td>Boronia</td>\n      <td>hemichiton</td>\n      <td></td>\n      <td>2020-08-17T05:51:50Z</td>\n      <td>Boronia hemichiton</td>\n      <td>species</td>\n      <td></td>\n      <td></td>\n      <td></td>\n      <td></td>\n    </tr>\n    <tr>\n      <th>2557</th>\n      <td>160920</td>\n      <td>1038976</td>\n      <td>717122</td>\n      <td>6829</td>\n      <td></td>\n      <td>Threatened Species Protection Act 1995</td>\n      <td>Endangered</td>\n      <td>https://dpipwe.tas.gov.au/Documents/Pimelea-ax...</td>\n      <td></td>\n      <td>obscured</td>\n      <td>...</td>\n      <td>Pimelea</td>\n      <td>axiflora</td>\n      <td>axiflora</td>\n      <td>2020-12-02T04:00:26Z</td>\n      <td>Pimelea axiflora axiflora</td>\n      <td>subspecies</td>\n      <td></td>\n      <td></td>\n      <td></td>\n      <td></td>\n    </tr>\n    <tr>\n      <th>...</th>\n      <td>...</td>\n      <td>...</td>\n      <td>...</td>\n      <td>...</td>\n      <td>...</td>\n      <td>...</td>\n      <td>...</td>\n      <td>...</td>\n      <td>...</td>\n      <td>...</td>\n      <td>...</td>\n      <td>...</td>\n      <td>...</td>\n      <td>...</td>\n      <td>...</td>\n      <td>...</td>\n      <td>...</td>\n      <td>...</td>\n      <td>...</td>\n      <td>...</td>\n      <td>...</td>\n    </tr>\n    <tr>\n      <th>2586</th>\n      <td>160759</td>\n      <td>958863</td>\n      <td>717122</td>\n      <td>6829</td>\n      <td></td>\n      <td>Threatened Species Protection Act 1995</td>\n      <td>Endangered</td>\n      <td>https://dpipwe.tas.gov.au/Documents/Corunastyl...</td>\n      <td></td>\n      <td></td>\n      <td>...</td>\n      <td>Genoplesium</td>\n      <td>nudiscapum</td>\n      <td></td>\n      <td>2022-10-26T09:34:12Z</td>\n      <td>Genoplesium nudiscapum</td>\n      <td>species</td>\n      <td>https://eol.org/pages/1099120</td>\n      <td></td>\n      <td></td>\n      <td></td>\n    </tr>\n    <tr>\n      <th>2594</th>\n      <td>161103</td>\n      <td>960004</td>\n      <td>717122</td>\n      <td>6829</td>\n      <td></td>\n      <td>Threatened Species Protection Act 1995</td>\n      <td>Endangered</td>\n      <td>https://dpipwe.tas.gov.au/Documents/Thelymitra...</td>\n      <td></td>\n      <td>obscured</td>\n      <td>...</td>\n      <td>Thelymitra</td>\n      <td>bracteata</td>\n      <td></td>\n      <td>2022-07-14T00:09:44Z</td>\n      <td>Thelymitra bracteata</td>\n      <td>species</td>\n      <td>http://www.catalogueoflife.org/annual-checklis...</td>\n      <td></td>\n      <td></td>\n      <td></td>\n    </tr>\n    <tr>\n      <th>3380</th>\n      <td>268029</td>\n      <td>993886</td>\n      <td>1116633</td>\n      <td>6829</td>\n      <td></td>\n      <td>TASMANIAN THREATENED SPECIES LISTING STATEMENT</td>\n      <td>EN</td>\n      <td>https://nre.tas.gov.au/Documents/Prasophyllum%...</td>\n      <td>1. total population estimated to number fewer ...</td>\n      <td>obscured</td>\n      <td>...</td>\n      <td>Prasophyllum</td>\n      <td>abblittiorum</td>\n      <td></td>\n      <td>2020-02-18T23:45:10Z</td>\n      <td>Prasophyllum abblittiorum</td>\n      <td>species</td>\n      <td>https://eol.org/pages/51504614</td>\n      <td></td>\n      <td></td>\n      <td></td>\n    </tr>\n    <tr>\n      <th>813</th>\n      <td>160748</td>\n      <td>993902</td>\n      <td>717122</td>\n      <td>6829</td>\n      <td></td>\n      <td>Threatened Species Protection Act 1995</td>\n      <td>Endangered</td>\n      <td>https://dpipwe.tas.gov.au/Documents/Caladenia-...</td>\n      <td></td>\n      <td></td>\n      <td>...</td>\n      <td>Caladenia</td>\n      <td>dienema</td>\n      <td></td>\n      <td>2020-12-15T00:50:01Z</td>\n      <td>Caladenia dienema</td>\n      <td>species</td>\n      <td>http://www.catalogueoflife.org/annual-checklis...</td>\n      <td></td>\n      <td></td>\n      <td></td>\n    </tr>\n    <tr>\n      <th>1008</th>\n      <td>160745</td>\n      <td>993922</td>\n      <td>717122</td>\n      <td>6829</td>\n      <td></td>\n      <td>Threatened Species Protection Act 1995</td>\n      <td>Endangered</td>\n      <td>https://dpipwe.tas.gov.au/Documents/Caladenia-...</td>\n      <td></td>\n      <td></td>\n      <td>...</td>\n      <td>Caladenia</td>\n      <td>campbellii</td>\n      <td></td>\n      <td>2020-12-15T00:48:44Z</td>\n      <td>Caladenia campbellii</td>\n      <td>species</td>\n      <td>http://www.catalogueoflife.org/annual-checklis...</td>\n      <td></td>\n      <td></td>\n      <td></td>\n    </tr>\n  </tbody>\n</table>\n<p>85 rows × 34 columns</p>\n</div>"
     },
     "execution_count": 28,
     "metadata": {},
     "output_type": "execute_result"
    }
   ],
   "source": [
    "def filter_state_statuses(stateregex: str, urlregex: str):\n",
    "    authoritydf = taxastatus['authority'].drop_duplicates().sort_values()\n",
    "    authoritydf = authoritydf[pd.Series(authoritydf).str.contains(stateregex)]\n",
    "    urldf = taxastatus['url'].drop_duplicates().sort_values()\n",
    "    urldf = urldf[pd.Series(urldf).str.contains(urlregex)]\n",
    "    placedisplaydf = taxastatus['place_display_name'].drop_duplicates().sort_values()\n",
    "    placedisplaydf = placedisplaydf[pd.Series(placedisplaydf).str.contains(stateregex)]\n",
    "    placedf = taxastatus['place_name'].drop_duplicates().sort_values()\n",
    "    placedf = placedf[pd.Series(placedf).str.contains(stateregex)]\n",
    "    # concat all and remove duplicates\n",
    "    statedf = pd.concat([taxastatus.apply(lambda row: row[taxastatus['place_display_name'].isin(placedisplaydf)]),\n",
    "                         taxastatus.apply(lambda row: row[taxastatus['place_name'].isin(placedf)]),\n",
    "                         taxastatus.apply(lambda row: row[taxastatus['url'].isin(urldf)]),\n",
    "                         taxastatus.apply(\n",
    "                             lambda row: row[taxastatus['authority'].isin(authoritydf)])]).drop_duplicates()\n",
    "    return statedf.sort_values(['taxon_id', 'user_id'])\n",
    "inatstatuses = filter_state_statuses(\"Tasmania|TAS\", \".tas.gov\")\n",
    "inatstatuses.rename(columns={'id':'status_id','id_y':'taxon_id_y'},inplace=True)\n",
    "inatstatuses"
   ],
   "metadata": {
    "collapsed": false,
    "pycharm": {
     "name": "#%%\n"
    }
   }
  },
  {
   "cell_type": "markdown",
   "source": [
    "### 2. iNaturalist taxonomy"
   ],
   "metadata": {
    "collapsed": false,
    "pycharm": {
     "name": "#%% md\n"
    }
   }
  },
  {
   "cell_type": "code",
   "execution_count": 29,
   "outputs": [
    {
     "data": {
      "text/plain": "  id                             taxonID                          identifier  \\\n0  1  https://www.inaturalist.org/taxa/1  https://www.inaturalist.org/taxa/1   \n1  2  https://www.inaturalist.org/taxa/2  https://www.inaturalist.org/taxa/2   \n2  3  https://www.inaturalist.org/taxa/3  https://www.inaturalist.org/taxa/3   \n\n                         parentNameUsageID   kingdom    phylum class order  \\\n0   https://www.inaturalist.org/taxa/48460  Animalia       NaN   NaN   NaN   \n1       https://www.inaturalist.org/taxa/1  Animalia  Chordata   NaN   NaN   \n2  https://www.inaturalist.org/taxa/355675  Animalia  Chordata  Aves   NaN   \n\n  family genus specificEpithet infraspecificEpithet              modified  \\\n0    NaN   NaN             NaN                  NaN  2021-11-02T06:05:44Z   \n1    NaN   NaN             NaN                  NaN  2021-11-23T00:40:18Z   \n2    NaN   NaN             NaN                  NaN  2022-12-27T07:33:16Z   \n\n  scientificName taxonRank                                         references  \n0       Animalia   kingdom  http://www.catalogueoflife.org/annual-checklis...  \n1       Chordata    phylum  http://www.catalogueoflife.org/annual-checklis...  \n2           Aves     class  http://www.catalogueoflife.org/annual-checklis...  ",
      "text/html": "<div>\n<style scoped>\n    .dataframe tbody tr th:only-of-type {\n        vertical-align: middle;\n    }\n\n    .dataframe tbody tr th {\n        vertical-align: top;\n    }\n\n    .dataframe thead th {\n        text-align: right;\n    }\n</style>\n<table border=\"1\" class=\"dataframe\">\n  <thead>\n    <tr style=\"text-align: right;\">\n      <th></th>\n      <th>id</th>\n      <th>taxonID</th>\n      <th>identifier</th>\n      <th>parentNameUsageID</th>\n      <th>kingdom</th>\n      <th>phylum</th>\n      <th>class</th>\n      <th>order</th>\n      <th>family</th>\n      <th>genus</th>\n      <th>specificEpithet</th>\n      <th>infraspecificEpithet</th>\n      <th>modified</th>\n      <th>scientificName</th>\n      <th>taxonRank</th>\n      <th>references</th>\n    </tr>\n  </thead>\n  <tbody>\n    <tr>\n      <th>0</th>\n      <td>1</td>\n      <td>https://www.inaturalist.org/taxa/1</td>\n      <td>https://www.inaturalist.org/taxa/1</td>\n      <td>https://www.inaturalist.org/taxa/48460</td>\n      <td>Animalia</td>\n      <td>NaN</td>\n      <td>NaN</td>\n      <td>NaN</td>\n      <td>NaN</td>\n      <td>NaN</td>\n      <td>NaN</td>\n      <td>NaN</td>\n      <td>2021-11-02T06:05:44Z</td>\n      <td>Animalia</td>\n      <td>kingdom</td>\n      <td>http://www.catalogueoflife.org/annual-checklis...</td>\n    </tr>\n    <tr>\n      <th>1</th>\n      <td>2</td>\n      <td>https://www.inaturalist.org/taxa/2</td>\n      <td>https://www.inaturalist.org/taxa/2</td>\n      <td>https://www.inaturalist.org/taxa/1</td>\n      <td>Animalia</td>\n      <td>Chordata</td>\n      <td>NaN</td>\n      <td>NaN</td>\n      <td>NaN</td>\n      <td>NaN</td>\n      <td>NaN</td>\n      <td>NaN</td>\n      <td>2021-11-23T00:40:18Z</td>\n      <td>Chordata</td>\n      <td>phylum</td>\n      <td>http://www.catalogueoflife.org/annual-checklis...</td>\n    </tr>\n    <tr>\n      <th>2</th>\n      <td>3</td>\n      <td>https://www.inaturalist.org/taxa/3</td>\n      <td>https://www.inaturalist.org/taxa/3</td>\n      <td>https://www.inaturalist.org/taxa/355675</td>\n      <td>Animalia</td>\n      <td>Chordata</td>\n      <td>Aves</td>\n      <td>NaN</td>\n      <td>NaN</td>\n      <td>NaN</td>\n      <td>NaN</td>\n      <td>NaN</td>\n      <td>2022-12-27T07:33:16Z</td>\n      <td>Aves</td>\n      <td>class</td>\n      <td>http://www.catalogueoflife.org/annual-checklis...</td>\n    </tr>\n  </tbody>\n</table>\n</div>"
     },
     "execution_count": 29,
     "metadata": {},
     "output_type": "execute_result"
    }
   ],
   "source": [
    "# Output files contain these fields\n",
    "# Taxon_Name,Status,Authority,IUCN_equivalent,Description,iNaturalist_Place_ID,url,Taxon_Geoprivacy,Username,taxon_id\n",
    "# so we need to match species from the state lists to the inat taxa to get the taxon_id\n",
    "\n",
    "import zipfile\n",
    "url = \"https://www.inaturalist.org/taxa/inaturalist-taxonomy.dwca.zip\"\n",
    "filename = url.split(\"/\")[-1]\n",
    "\n",
    "z=zipfile.ZipFile(sourcedir + filename)\n",
    "\n",
    "with z.open('taxa.csv') as from_archive:\n",
    "    inattaxa = pd.read_csv(from_archive,dtype=str)\n",
    "z.close()\n",
    "inattaxa.head(3)\n"
   ],
   "metadata": {
    "collapsed": false,
    "pycharm": {
     "name": "#%%\n"
    }
   }
  },
  {
   "cell_type": "markdown",
   "source": [
    "### 3. State lists\n",
    "Sensitive list: `geoprivacy` = `obscured`\n",
    "overrides"
   ],
   "metadata": {
    "collapsed": false,
    "pycharm": {
     "name": "#%% md\n"
    }
   }
  },
  {
   "cell_type": "code",
   "execution_count": 30,
   "outputs": [],
   "source": [
    "\n",
    "# %%script echo skipping # comment this line to download dataset from lists.ala.org.au the web and save locally\n",
    "# Download lists data. Retrieve binomial and trinomial names from GBIF. Save locally to CSV\n",
    "\n",
    "sensitivelist = lf.download_ala_list(\"https://lists.ala.org.au/ws/speciesListItems/dr491?max=10000&includeKVP=true\")\n",
    "# sensitivelist = lf.kvp_to_columns(sensitivelist)   # kvp values null\n",
    "sensitivelist.to_csv(sourcedir + \"tas-ala-sensitive.csv\", index=False)\n",
    "\n",
    "conservationlist = lf.download_ala_list(\"https://lists.ala.org.au/ws/speciesListItems/dr654?max=10000&includeKVP=true\")\n",
    "conservationlist = lf.kvp_to_columns(conservationlist)\n",
    "conservationlist.to_csv(sourcedir + \"tas-ala-conservation.csv\", index=False)"
   ],
   "metadata": {
    "collapsed": false,
    "pycharm": {
     "name": "#%%\n"
    }
   }
  },
  {
   "cell_type": "code",
   "execution_count": 31,
   "outputs": [
    {
     "data": {
      "text/plain": "      id               name      commonName     scientificName  \\\n0  24386  Lomatia tasmanica  King's Lomatia  Lomatia tasmanica   \n\n                                               lsid dataResourceUid kvpValues  \\\n0  https://id.biodiversity.org.au/node/apni/2903191           dr491        []   \n\n      status bionet_geoprivacy  \n0  sensitive          obscured  ",
      "text/html": "<div>\n<style scoped>\n    .dataframe tbody tr th:only-of-type {\n        vertical-align: middle;\n    }\n\n    .dataframe tbody tr th {\n        vertical-align: top;\n    }\n\n    .dataframe thead th {\n        text-align: right;\n    }\n</style>\n<table border=\"1\" class=\"dataframe\">\n  <thead>\n    <tr style=\"text-align: right;\">\n      <th></th>\n      <th>id</th>\n      <th>name</th>\n      <th>commonName</th>\n      <th>scientificName</th>\n      <th>lsid</th>\n      <th>dataResourceUid</th>\n      <th>kvpValues</th>\n      <th>status</th>\n      <th>bionet_geoprivacy</th>\n    </tr>\n  </thead>\n  <tbody>\n    <tr>\n      <th>0</th>\n      <td>24386</td>\n      <td>Lomatia tasmanica</td>\n      <td>King's Lomatia</td>\n      <td>Lomatia tasmanica</td>\n      <td>https://id.biodiversity.org.au/node/apni/2903191</td>\n      <td>dr491</td>\n      <td>[]</td>\n      <td>sensitive</td>\n      <td>obscured</td>\n    </tr>\n  </tbody>\n</table>\n</div>"
     },
     "execution_count": 31,
     "metadata": {},
     "output_type": "execute_result"
    }
   ],
   "source": [
    "# Read sensitive list data\n",
    "sensitivelist = pd.read_csv(sourcedir + \"tas-ala-sensitive.csv\", dtype=str)\n",
    "sensitivelist['status'] = 'sensitive'\n",
    "sensitivelist['bionet_geoprivacy'] = 'obscured'\n",
    "sensitivelist"
   ],
   "metadata": {
    "collapsed": false,
    "pycharm": {
     "name": "#%%\n"
    }
   }
  },
  {
   "cell_type": "code",
   "execution_count": 32,
   "outputs": [
    {
     "data": {
      "text/plain": "          id                                    name  \\\n0    4033150                           Costora iena    \n1    4033128                  Hadronyche pulvinator    \n2    4033378                 Hypolimnus pedderensis    \n3    4033234                Thylacinus cynocephalus    \n4    4033416  Gallirallus philippensis macquariensis   \n..       ...                                     ...   \n678  4033369                    Erioderma sorediatum   \n679  4033419              Xanthoparmelia amphixantha   \n680  4033291              Xanthoparmelia molliuscula   \n681  4033236             Xanthoparmelia subloxodella   \n682  4033313                 Xanthoparmelia willisii   \n\n                    commonName                          scientificName  \\\n0     Caddis Fly (great Lakes)                            Costora iena   \n1    Cascade Funnel-web Spider                   Hadronyche pulvinator   \n2        Lake Pedder Earthworm                  Hypolimnus pedderensis   \n3                    Thylacine                 Thylacinus cynocephalus   \n4                          NaN  Gallirallus philippensis macquariensis   \n..                         ...                                     ...   \n678                        NaN                    Erioderma sorediatum   \n679                        NaN              Xanthoparmelia amphixantha   \n680                        NaN              Xanthoparmelia molliuscula   \n681                        NaN             Xanthoparmelia subloxodella   \n682                        NaN                 Xanthoparmelia willisii   \n\n                                                  lsid dataResourceUid  \\\n0    https://biodiversity.org.au/afd/taxa/7de808fb-...           dr654   \n1    https://biodiversity.org.au/afd/taxa/2acd0df1-...           dr654   \n2    https://biodiversity.org.au/afd/taxa/7db09aa3-...           dr654   \n3    https://biodiversity.org.au/afd/taxa/97764bed-...           dr654   \n4                                        NZOR-6-101588           dr654   \n..                                                 ...             ...   \n678                                      ALA_DR654_679           dr654   \n679                                      ALA_DR654_680           dr654   \n680                                      ALA_DR654_681           dr654   \n681                                      ALA_DR654_682           dr654   \n682                                      ALA_DR654_683           dr654   \n\n                                             kvpValues  \\\n0    [{'key': 'scientificNameAuthorship', 'value': ...   \n1    [{'key': 'scientificNameAuthorship', 'value': ...   \n2    [{'key': 'scientificNameAuthorship', 'value': ...   \n3    [{'key': 'scientificNameAuthorship', 'value': ...   \n4    [{'key': 'scientificNameAuthorship', 'value': ...   \n..                                                 ...   \n678  [{'key': 'scientificNameAuthorship', 'value': ...   \n679  [{'key': 'scientificNameAuthorship', 'value': ...   \n680  [{'key': 'scientificNameAuthorship', 'value': ...   \n681  [{'key': 'scientificNameAuthorship', 'value': ...   \n682  [{'key': 'scientificNameAuthorship', 'value': ...   \n\n                              scientificNameAuthorship  \\\n0                                               Mosely   \n1                                              Hickman   \n2                                           (Jamieson)   \n3                                               Harris   \n4                                               Hutton   \n..                                                 ...   \n678                           D.J.Galloway & P.M.Jørg.   \n679                                   (Müll.Arg.) Hale   \n680                                        (Ach.) Hale   \n681  (Elix & Kantvilas) O.Blanco, A.Crespo, Elix, D...   \n682                 (Kurok. & Filson) Elix & J.Johnst.   \n\n               vernacular name        family          class sourceStatus  \\\n0     Caddis Fly (Great Lakes)   Trichoptera  Invertebrates            x   \n1    Cascade Funnel-web Spider       Araneae  Invertebrates            x   \n2        Lake Pedder Earthworm   Haplotaxida  Invertebrates            x   \n3                    Thylacine       Mammals    Vertebrates            x   \n4        Macquarie Island Rail         Birds    Vertebrates            x   \n..                         ...           ...            ...          ...   \n678                        NaN  Pannariaceae         Lichen            e   \n679                        NaN  Parmeliaceae         Lichen            e   \n680                        NaN  Parmeliaceae         Lichen            e   \n681                        NaN  Parmeliaceae         Lichen            e   \n682                        NaN  Parmeliaceae         Lichen            e   \n\n               status sourceKingdom   kingdom  speciesGroup sourceOrigin  \\\n0    Presumed Extinct         Fauna  Animalia  invertebrate          end   \n1    Presumed Extinct         Fauna  Animalia  invertebrate          end   \n2    Presumed Extinct         Fauna  Animalia  invertebrate          end   \n3    Presumed Extinct         Fauna  Animalia    vertebrate          end   \n4    Presumed Extinct         Fauna  Animalia    vertebrate          eMI   \n..                ...           ...       ...           ...          ...   \n678        Endangered         Flora   Plantae  non-vascular          NaN   \n679        Endangered         Flora   Plantae  non-vascular          NaN   \n680        Endangered         Flora   Plantae  non-vascular          NaN   \n681        Endangered         Flora   Plantae  non-vascular          NaN   \n682        Endangered         Flora   Plantae  non-vascular          NaN   \n\n              higherGeography E P B C A_status bionet_geoprivacy  \n0            endemic Tasmania              NaN              open  \n1            endemic Tasmania              NaN              open  \n2            endemic Tasmania               EX              open  \n3            endemic Tasmania               EX              open  \n4    endemic Macquarie Island               EX              open  \n..                        ...              ...               ...  \n678                       NaN              NaN              open  \n679                       NaN              NaN              open  \n680                       NaN              NaN              open  \n681                       NaN              NaN              open  \n682                       NaN              NaN              open  \n\n[683 rows x 20 columns]",
      "text/html": "<div>\n<style scoped>\n    .dataframe tbody tr th:only-of-type {\n        vertical-align: middle;\n    }\n\n    .dataframe tbody tr th {\n        vertical-align: top;\n    }\n\n    .dataframe thead th {\n        text-align: right;\n    }\n</style>\n<table border=\"1\" class=\"dataframe\">\n  <thead>\n    <tr style=\"text-align: right;\">\n      <th></th>\n      <th>id</th>\n      <th>name</th>\n      <th>commonName</th>\n      <th>scientificName</th>\n      <th>lsid</th>\n      <th>dataResourceUid</th>\n      <th>kvpValues</th>\n      <th>scientificNameAuthorship</th>\n      <th>vernacular name</th>\n      <th>family</th>\n      <th>class</th>\n      <th>sourceStatus</th>\n      <th>status</th>\n      <th>sourceKingdom</th>\n      <th>kingdom</th>\n      <th>speciesGroup</th>\n      <th>sourceOrigin</th>\n      <th>higherGeography</th>\n      <th>E P B C A_status</th>\n      <th>bionet_geoprivacy</th>\n    </tr>\n  </thead>\n  <tbody>\n    <tr>\n      <th>0</th>\n      <td>4033150</td>\n      <td>Costora iena</td>\n      <td>Caddis Fly (great Lakes)</td>\n      <td>Costora iena</td>\n      <td>https://biodiversity.org.au/afd/taxa/7de808fb-...</td>\n      <td>dr654</td>\n      <td>[{'key': 'scientificNameAuthorship', 'value': ...</td>\n      <td>Mosely</td>\n      <td>Caddis Fly (Great Lakes)</td>\n      <td>Trichoptera</td>\n      <td>Invertebrates</td>\n      <td>x</td>\n      <td>Presumed Extinct</td>\n      <td>Fauna</td>\n      <td>Animalia</td>\n      <td>invertebrate</td>\n      <td>end</td>\n      <td>endemic Tasmania</td>\n      <td>NaN</td>\n      <td>open</td>\n    </tr>\n    <tr>\n      <th>1</th>\n      <td>4033128</td>\n      <td>Hadronyche pulvinator</td>\n      <td>Cascade Funnel-web Spider</td>\n      <td>Hadronyche pulvinator</td>\n      <td>https://biodiversity.org.au/afd/taxa/2acd0df1-...</td>\n      <td>dr654</td>\n      <td>[{'key': 'scientificNameAuthorship', 'value': ...</td>\n      <td>Hickman</td>\n      <td>Cascade Funnel-web Spider</td>\n      <td>Araneae</td>\n      <td>Invertebrates</td>\n      <td>x</td>\n      <td>Presumed Extinct</td>\n      <td>Fauna</td>\n      <td>Animalia</td>\n      <td>invertebrate</td>\n      <td>end</td>\n      <td>endemic Tasmania</td>\n      <td>NaN</td>\n      <td>open</td>\n    </tr>\n    <tr>\n      <th>2</th>\n      <td>4033378</td>\n      <td>Hypolimnus pedderensis</td>\n      <td>Lake Pedder Earthworm</td>\n      <td>Hypolimnus pedderensis</td>\n      <td>https://biodiversity.org.au/afd/taxa/7db09aa3-...</td>\n      <td>dr654</td>\n      <td>[{'key': 'scientificNameAuthorship', 'value': ...</td>\n      <td>(Jamieson)</td>\n      <td>Lake Pedder Earthworm</td>\n      <td>Haplotaxida</td>\n      <td>Invertebrates</td>\n      <td>x</td>\n      <td>Presumed Extinct</td>\n      <td>Fauna</td>\n      <td>Animalia</td>\n      <td>invertebrate</td>\n      <td>end</td>\n      <td>endemic Tasmania</td>\n      <td>EX</td>\n      <td>open</td>\n    </tr>\n    <tr>\n      <th>3</th>\n      <td>4033234</td>\n      <td>Thylacinus cynocephalus</td>\n      <td>Thylacine</td>\n      <td>Thylacinus cynocephalus</td>\n      <td>https://biodiversity.org.au/afd/taxa/97764bed-...</td>\n      <td>dr654</td>\n      <td>[{'key': 'scientificNameAuthorship', 'value': ...</td>\n      <td>Harris</td>\n      <td>Thylacine</td>\n      <td>Mammals</td>\n      <td>Vertebrates</td>\n      <td>x</td>\n      <td>Presumed Extinct</td>\n      <td>Fauna</td>\n      <td>Animalia</td>\n      <td>vertebrate</td>\n      <td>end</td>\n      <td>endemic Tasmania</td>\n      <td>EX</td>\n      <td>open</td>\n    </tr>\n    <tr>\n      <th>4</th>\n      <td>4033416</td>\n      <td>Gallirallus philippensis macquariensis</td>\n      <td>NaN</td>\n      <td>Gallirallus philippensis macquariensis</td>\n      <td>NZOR-6-101588</td>\n      <td>dr654</td>\n      <td>[{'key': 'scientificNameAuthorship', 'value': ...</td>\n      <td>Hutton</td>\n      <td>Macquarie Island Rail</td>\n      <td>Birds</td>\n      <td>Vertebrates</td>\n      <td>x</td>\n      <td>Presumed Extinct</td>\n      <td>Fauna</td>\n      <td>Animalia</td>\n      <td>vertebrate</td>\n      <td>eMI</td>\n      <td>endemic Macquarie Island</td>\n      <td>EX</td>\n      <td>open</td>\n    </tr>\n    <tr>\n      <th>...</th>\n      <td>...</td>\n      <td>...</td>\n      <td>...</td>\n      <td>...</td>\n      <td>...</td>\n      <td>...</td>\n      <td>...</td>\n      <td>...</td>\n      <td>...</td>\n      <td>...</td>\n      <td>...</td>\n      <td>...</td>\n      <td>...</td>\n      <td>...</td>\n      <td>...</td>\n      <td>...</td>\n      <td>...</td>\n      <td>...</td>\n      <td>...</td>\n      <td>...</td>\n    </tr>\n    <tr>\n      <th>678</th>\n      <td>4033369</td>\n      <td>Erioderma sorediatum</td>\n      <td>NaN</td>\n      <td>Erioderma sorediatum</td>\n      <td>ALA_DR654_679</td>\n      <td>dr654</td>\n      <td>[{'key': 'scientificNameAuthorship', 'value': ...</td>\n      <td>D.J.Galloway &amp; P.M.Jørg.</td>\n      <td>NaN</td>\n      <td>Pannariaceae</td>\n      <td>Lichen</td>\n      <td>e</td>\n      <td>Endangered</td>\n      <td>Flora</td>\n      <td>Plantae</td>\n      <td>non-vascular</td>\n      <td>NaN</td>\n      <td>NaN</td>\n      <td>NaN</td>\n      <td>open</td>\n    </tr>\n    <tr>\n      <th>679</th>\n      <td>4033419</td>\n      <td>Xanthoparmelia amphixantha</td>\n      <td>NaN</td>\n      <td>Xanthoparmelia amphixantha</td>\n      <td>ALA_DR654_680</td>\n      <td>dr654</td>\n      <td>[{'key': 'scientificNameAuthorship', 'value': ...</td>\n      <td>(Müll.Arg.) Hale</td>\n      <td>NaN</td>\n      <td>Parmeliaceae</td>\n      <td>Lichen</td>\n      <td>e</td>\n      <td>Endangered</td>\n      <td>Flora</td>\n      <td>Plantae</td>\n      <td>non-vascular</td>\n      <td>NaN</td>\n      <td>NaN</td>\n      <td>NaN</td>\n      <td>open</td>\n    </tr>\n    <tr>\n      <th>680</th>\n      <td>4033291</td>\n      <td>Xanthoparmelia molliuscula</td>\n      <td>NaN</td>\n      <td>Xanthoparmelia molliuscula</td>\n      <td>ALA_DR654_681</td>\n      <td>dr654</td>\n      <td>[{'key': 'scientificNameAuthorship', 'value': ...</td>\n      <td>(Ach.) Hale</td>\n      <td>NaN</td>\n      <td>Parmeliaceae</td>\n      <td>Lichen</td>\n      <td>e</td>\n      <td>Endangered</td>\n      <td>Flora</td>\n      <td>Plantae</td>\n      <td>non-vascular</td>\n      <td>NaN</td>\n      <td>NaN</td>\n      <td>NaN</td>\n      <td>open</td>\n    </tr>\n    <tr>\n      <th>681</th>\n      <td>4033236</td>\n      <td>Xanthoparmelia subloxodella</td>\n      <td>NaN</td>\n      <td>Xanthoparmelia subloxodella</td>\n      <td>ALA_DR654_682</td>\n      <td>dr654</td>\n      <td>[{'key': 'scientificNameAuthorship', 'value': ...</td>\n      <td>(Elix &amp; Kantvilas) O.Blanco, A.Crespo, Elix, D...</td>\n      <td>NaN</td>\n      <td>Parmeliaceae</td>\n      <td>Lichen</td>\n      <td>e</td>\n      <td>Endangered</td>\n      <td>Flora</td>\n      <td>Plantae</td>\n      <td>non-vascular</td>\n      <td>NaN</td>\n      <td>NaN</td>\n      <td>NaN</td>\n      <td>open</td>\n    </tr>\n    <tr>\n      <th>682</th>\n      <td>4033313</td>\n      <td>Xanthoparmelia willisii</td>\n      <td>NaN</td>\n      <td>Xanthoparmelia willisii</td>\n      <td>ALA_DR654_683</td>\n      <td>dr654</td>\n      <td>[{'key': 'scientificNameAuthorship', 'value': ...</td>\n      <td>(Kurok. &amp; Filson) Elix &amp; J.Johnst.</td>\n      <td>NaN</td>\n      <td>Parmeliaceae</td>\n      <td>Lichen</td>\n      <td>e</td>\n      <td>Endangered</td>\n      <td>Flora</td>\n      <td>Plantae</td>\n      <td>non-vascular</td>\n      <td>NaN</td>\n      <td>NaN</td>\n      <td>NaN</td>\n      <td>open</td>\n    </tr>\n  </tbody>\n</table>\n<p>683 rows × 20 columns</p>\n</div>"
     },
     "execution_count": 32,
     "metadata": {},
     "output_type": "execute_result"
    }
   ],
   "source": [
    "# Read conservation list data\n",
    "conservationlist = pd.read_csv(sourcedir + \"tas-ala-conservation.csv\", dtype=str)\n",
    "conservationlist['bionet_geoprivacy'] = 'open'\n",
    "conservationlist"
   ],
   "metadata": {
    "collapsed": false,
    "pycharm": {
     "name": "#%%\n"
    }
   }
  },
  {
   "cell_type": "code",
   "execution_count": 33,
   "outputs": [
    {
     "data": {
      "text/plain": "                            name bionet_geoprivacy            status  \\\n0              Lomatia tasmanica          obscured         sensitive   \n0                  Costora iena               open  Presumed Extinct   \n1         Hadronyche pulvinator               open  Presumed Extinct   \n2        Hypolimnus pedderensis               open  Presumed Extinct   \n3       Thylacinus cynocephalus               open  Presumed Extinct   \n..                           ...               ...               ...   \n678         Erioderma sorediatum              open        Endangered   \n679   Xanthoparmelia amphixantha              open        Endangered   \n680   Xanthoparmelia molliuscula              open        Endangered   \n681  Xanthoparmelia subloxodella              open        Endangered   \n682      Xanthoparmelia willisii              open        Endangered   \n\n                                                  lsid  \n0     https://id.biodiversity.org.au/node/apni/2903191  \n0    https://biodiversity.org.au/afd/taxa/7de808fb-...  \n1    https://biodiversity.org.au/afd/taxa/2acd0df1-...  \n2    https://biodiversity.org.au/afd/taxa/7db09aa3-...  \n3    https://biodiversity.org.au/afd/taxa/97764bed-...  \n..                                                 ...  \n678                                      ALA_DR654_679  \n679                                      ALA_DR654_680  \n680                                      ALA_DR654_681  \n681                                      ALA_DR654_682  \n682                                      ALA_DR654_683  \n\n[684 rows x 4 columns]",
      "text/html": "<div>\n<style scoped>\n    .dataframe tbody tr th:only-of-type {\n        vertical-align: middle;\n    }\n\n    .dataframe tbody tr th {\n        vertical-align: top;\n    }\n\n    .dataframe thead th {\n        text-align: right;\n    }\n</style>\n<table border=\"1\" class=\"dataframe\">\n  <thead>\n    <tr style=\"text-align: right;\">\n      <th></th>\n      <th>name</th>\n      <th>bionet_geoprivacy</th>\n      <th>status</th>\n      <th>lsid</th>\n    </tr>\n  </thead>\n  <tbody>\n    <tr>\n      <th>0</th>\n      <td>Lomatia tasmanica</td>\n      <td>obscured</td>\n      <td>sensitive</td>\n      <td>https://id.biodiversity.org.au/node/apni/2903191</td>\n    </tr>\n    <tr>\n      <th>0</th>\n      <td>Costora iena</td>\n      <td>open</td>\n      <td>Presumed Extinct</td>\n      <td>https://biodiversity.org.au/afd/taxa/7de808fb-...</td>\n    </tr>\n    <tr>\n      <th>1</th>\n      <td>Hadronyche pulvinator</td>\n      <td>open</td>\n      <td>Presumed Extinct</td>\n      <td>https://biodiversity.org.au/afd/taxa/2acd0df1-...</td>\n    </tr>\n    <tr>\n      <th>2</th>\n      <td>Hypolimnus pedderensis</td>\n      <td>open</td>\n      <td>Presumed Extinct</td>\n      <td>https://biodiversity.org.au/afd/taxa/7db09aa3-...</td>\n    </tr>\n    <tr>\n      <th>3</th>\n      <td>Thylacinus cynocephalus</td>\n      <td>open</td>\n      <td>Presumed Extinct</td>\n      <td>https://biodiversity.org.au/afd/taxa/97764bed-...</td>\n    </tr>\n    <tr>\n      <th>...</th>\n      <td>...</td>\n      <td>...</td>\n      <td>...</td>\n      <td>...</td>\n    </tr>\n    <tr>\n      <th>678</th>\n      <td>Erioderma sorediatum</td>\n      <td>open</td>\n      <td>Endangered</td>\n      <td>ALA_DR654_679</td>\n    </tr>\n    <tr>\n      <th>679</th>\n      <td>Xanthoparmelia amphixantha</td>\n      <td>open</td>\n      <td>Endangered</td>\n      <td>ALA_DR654_680</td>\n    </tr>\n    <tr>\n      <th>680</th>\n      <td>Xanthoparmelia molliuscula</td>\n      <td>open</td>\n      <td>Endangered</td>\n      <td>ALA_DR654_681</td>\n    </tr>\n    <tr>\n      <th>681</th>\n      <td>Xanthoparmelia subloxodella</td>\n      <td>open</td>\n      <td>Endangered</td>\n      <td>ALA_DR654_682</td>\n    </tr>\n    <tr>\n      <th>682</th>\n      <td>Xanthoparmelia willisii</td>\n      <td>open</td>\n      <td>Endangered</td>\n      <td>ALA_DR654_683</td>\n    </tr>\n  </tbody>\n</table>\n<p>684 rows × 4 columns</p>\n</div>"
     },
     "execution_count": 33,
     "metadata": {},
     "output_type": "execute_result"
    }
   ],
   "source": [
    "# join them in a way that works for inat (eg sensitive list, geoprivacy = 'obscured'\n",
    "statelist = pd.concat([sensitivelist[['name','bionet_geoprivacy', 'status', 'lsid']],\n",
    "                    conservationlist[['name','bionet_geoprivacy', 'status', 'lsid']]]).drop_duplicates()\n",
    "statelist"
   ],
   "metadata": {
    "collapsed": false,
    "pycharm": {
     "name": "#%%\n"
    }
   }
  },
  {
   "cell_type": "code",
   "execution_count": 34,
   "outputs": [
    {
     "data": {
      "text/plain": "                  name bionet_geoprivacy      status  \\\n0    Lomatia tasmanica          obscured   sensitive   \n569  Lomatia tasmanica              open  Endangered   \n\n                                                 lsid  \n0    https://id.biodiversity.org.au/node/apni/2903191  \n569  https://id.biodiversity.org.au/node/apni/2903191  ",
      "text/html": "<div>\n<style scoped>\n    .dataframe tbody tr th:only-of-type {\n        vertical-align: middle;\n    }\n\n    .dataframe tbody tr th {\n        vertical-align: top;\n    }\n\n    .dataframe thead th {\n        text-align: right;\n    }\n</style>\n<table border=\"1\" class=\"dataframe\">\n  <thead>\n    <tr style=\"text-align: right;\">\n      <th></th>\n      <th>name</th>\n      <th>bionet_geoprivacy</th>\n      <th>status</th>\n      <th>lsid</th>\n    </tr>\n  </thead>\n  <tbody>\n    <tr>\n      <th>0</th>\n      <td>Lomatia tasmanica</td>\n      <td>obscured</td>\n      <td>sensitive</td>\n      <td>https://id.biodiversity.org.au/node/apni/2903191</td>\n    </tr>\n    <tr>\n      <th>569</th>\n      <td>Lomatia tasmanica</td>\n      <td>open</td>\n      <td>Endangered</td>\n      <td>https://id.biodiversity.org.au/node/apni/2903191</td>\n    </tr>\n  </tbody>\n</table>\n</div>"
     },
     "execution_count": 34,
     "metadata": {},
     "output_type": "execute_result"
    }
   ],
   "source": [
    "# check for duplicates with conflicting information\n",
    "statelist.groupby('name').filter(lambda x: len(x) > 1)#.sort('size',ascending=False)\n"
   ],
   "metadata": {
    "collapsed": false,
    "pycharm": {
     "name": "#%%\n"
    }
   }
  },
  {
   "cell_type": "markdown",
   "source": [
    "### 4. Equivalent IUCN statuses"
   ],
   "metadata": {
    "collapsed": false,
    "pycharm": {
     "name": "#%% md\n"
    }
   }
  },
  {
   "cell_type": "code",
   "execution_count": 35,
   "outputs": [
    {
     "data": {
      "text/plain": "status\nEndangered          222\nPresumed Extinct     28\nRare                311\nVulnerable          122\nsensitive             1\nName: status, dtype: int64"
     },
     "execution_count": 35,
     "metadata": {},
     "output_type": "execute_result"
    }
   ],
   "source": [
    "# iucn_statuses = {'Not Evaluated', 'Data Deficient', 'Least Concern', 'Near Threatened', 'Vulnerable', 'Endangered', 'Critically Endangered', 'Extinct in the Wild', 'Extinct'}\n",
    "statelist.groupby(['status'])['status'].count()"
   ],
   "metadata": {
    "collapsed": false,
    "pycharm": {
     "name": "#%%\n"
    }
   }
  },
  {
   "cell_type": "code",
   "execution_count": 36,
   "outputs": [],
   "source": [
    "iucnStatusMappings = {\n",
    "    'Presumed Extinct':'Extinct',\n",
    "    'Rare':'Vulnerable',\n",
    "    'sensitive':'Vulnerable'\n",
    "}"
   ],
   "metadata": {
    "collapsed": false,
    "pycharm": {
     "name": "#%%\n"
    }
   }
  },
  {
   "cell_type": "markdown",
   "source": [
    "### 5. Determine best place ID to use"
   ],
   "metadata": {
    "collapsed": false,
    "pycharm": {
     "name": "#%% md\n"
    }
   }
  },
  {
   "cell_type": "code",
   "execution_count": 37,
   "outputs": [
    {
     "data": {
      "text/plain": "place_id  place_name          place_display_name    \n6744      Australia           Australia                  2\n6829      Tasmania            Tasmania, AU              77\n9994      Northern Territory  Northern Territory, AU     6\nName: place_id, dtype: int64"
     },
     "execution_count": 37,
     "metadata": {},
     "output_type": "execute_result"
    }
   ],
   "source": [
    "inatstatuses.groupby(['place_id','place_name','place_display_name'])['place_id'].count()\n",
    "# looks like 6825"
   ],
   "metadata": {
    "collapsed": false,
    "pycharm": {
     "name": "#%%\n"
    }
   }
  },
  {
   "cell_type": "markdown",
   "source": [
    "## Merge iNaturalist statuses with State sensitive list on scientificName\n",
    "\n",
    "1. Match - updates, even if the statuses are the same we'll update the links and values anyway\n",
    "2. No match - statuses to be added (additions)\n",
    "   1.1 No match and no taxnomy - search for synonyms\n",
    "   1.2 No match\n",
    "3. Merge the other direction to see if there are deletes?\n"
   ],
   "metadata": {
    "collapsed": false,
    "pycharm": {
     "name": "#%% md\n"
    }
   }
  },
  {
   "cell_type": "code",
   "execution_count": 38,
   "outputs": [
    {
     "data": {
      "text/plain": "                                  name bionet_geoprivacy  \\\n216                   Acacia axillaris              open   \n300                  Acacia pataczekii              open   \n355                Acacia siculiformis              open   \n356                  Acacia ulicifolia              open   \n357                   Acacia uncifolia              open   \n..                                 ...               ...   \n287               Xerochrysum palustre              open   \n173                   Zearaja maugeana              open   \n522                  Zieria littoralis              open   \n678  Zieria veronicea subsp. veronicea              open   \n523           Zygophyllum billardierei              open   \n\n                                                  lsid status_id  \\\n216   https://id.biodiversity.org.au/node/apni/2911902    160726   \n300   https://id.biodiversity.org.au/node/apni/2913609       NaN   \n355   https://id.biodiversity.org.au/node/apni/2888960       NaN   \n356   https://id.biodiversity.org.au/node/apni/2907350       NaN   \n357   https://id.biodiversity.org.au/node/apni/2916270       NaN   \n..                                                 ...       ...   \n287   https://id.biodiversity.org.au/node/apni/2890165       NaN   \n173  https://biodiversity.org.au/afd/taxa/0d9d194f-...       NaN   \n522   https://id.biodiversity.org.au/node/apni/2888662       NaN   \n678   https://id.biodiversity.org.au/node/apni/2911634       NaN   \n523  https://id.biodiversity.org.au/taxon/apni/5131...       NaN   \n\n       scientificName taxon_id user_id description iucn  \\\n216  Acacia axillaris   775192  717122               30   \n300               NaN      NaN     NaN         NaN  NaN   \n355               NaN      NaN     NaN         NaN  NaN   \n356               NaN      NaN     NaN         NaN  NaN   \n357               NaN      NaN     NaN         NaN  NaN   \n..                ...      ...     ...         ...  ...   \n287               NaN      NaN     NaN         NaN  NaN   \n173               NaN      NaN     NaN         NaN  NaN   \n522               NaN      NaN     NaN         NaN  NaN   \n678               NaN      NaN     NaN         NaN  NaN   \n523               NaN      NaN     NaN         NaN  NaN   \n\n                                             authority status geoprivacy  \\\n216  Environment Protection and Biodiversity Conser...     VU   obscured   \n300                                                NaN    NaN        NaN   \n355                                                NaN    NaN        NaN   \n356                                                NaN    NaN        NaN   \n357                                                NaN    NaN        NaN   \n..                                                 ...    ...        ...   \n287                                                NaN    NaN        NaN   \n173                                                NaN    NaN        NaN   \n522                                                NaN    NaN        NaN   \n678                                                NaN    NaN        NaN   \n523                                                NaN    NaN        NaN   \n\n    place_id place_display_name  \n216     6744          Australia  \n300      NaN                NaN  \n355      NaN                NaN  \n356      NaN                NaN  \n357      NaN                NaN  \n..       ...                ...  \n287      NaN                NaN  \n173      NaN                NaN  \n522      NaN                NaN  \n678      NaN                NaN  \n523      NaN                NaN  \n\n[684 rows x 14 columns]",
      "text/html": "<div>\n<style scoped>\n    .dataframe tbody tr th:only-of-type {\n        vertical-align: middle;\n    }\n\n    .dataframe tbody tr th {\n        vertical-align: top;\n    }\n\n    .dataframe thead th {\n        text-align: right;\n    }\n</style>\n<table border=\"1\" class=\"dataframe\">\n  <thead>\n    <tr style=\"text-align: right;\">\n      <th></th>\n      <th>name</th>\n      <th>bionet_geoprivacy</th>\n      <th>lsid</th>\n      <th>status_id</th>\n      <th>scientificName</th>\n      <th>taxon_id</th>\n      <th>user_id</th>\n      <th>description</th>\n      <th>iucn</th>\n      <th>authority</th>\n      <th>status</th>\n      <th>geoprivacy</th>\n      <th>place_id</th>\n      <th>place_display_name</th>\n    </tr>\n  </thead>\n  <tbody>\n    <tr>\n      <th>216</th>\n      <td>Acacia axillaris</td>\n      <td>open</td>\n      <td>https://id.biodiversity.org.au/node/apni/2911902</td>\n      <td>160726</td>\n      <td>Acacia axillaris</td>\n      <td>775192</td>\n      <td>717122</td>\n      <td></td>\n      <td>30</td>\n      <td>Environment Protection and Biodiversity Conser...</td>\n      <td>VU</td>\n      <td>obscured</td>\n      <td>6744</td>\n      <td>Australia</td>\n    </tr>\n    <tr>\n      <th>300</th>\n      <td>Acacia pataczekii</td>\n      <td>open</td>\n      <td>https://id.biodiversity.org.au/node/apni/2913609</td>\n      <td>NaN</td>\n      <td>NaN</td>\n      <td>NaN</td>\n      <td>NaN</td>\n      <td>NaN</td>\n      <td>NaN</td>\n      <td>NaN</td>\n      <td>NaN</td>\n      <td>NaN</td>\n      <td>NaN</td>\n      <td>NaN</td>\n    </tr>\n    <tr>\n      <th>355</th>\n      <td>Acacia siculiformis</td>\n      <td>open</td>\n      <td>https://id.biodiversity.org.au/node/apni/2888960</td>\n      <td>NaN</td>\n      <td>NaN</td>\n      <td>NaN</td>\n      <td>NaN</td>\n      <td>NaN</td>\n      <td>NaN</td>\n      <td>NaN</td>\n      <td>NaN</td>\n      <td>NaN</td>\n      <td>NaN</td>\n      <td>NaN</td>\n    </tr>\n    <tr>\n      <th>356</th>\n      <td>Acacia ulicifolia</td>\n      <td>open</td>\n      <td>https://id.biodiversity.org.au/node/apni/2907350</td>\n      <td>NaN</td>\n      <td>NaN</td>\n      <td>NaN</td>\n      <td>NaN</td>\n      <td>NaN</td>\n      <td>NaN</td>\n      <td>NaN</td>\n      <td>NaN</td>\n      <td>NaN</td>\n      <td>NaN</td>\n      <td>NaN</td>\n    </tr>\n    <tr>\n      <th>357</th>\n      <td>Acacia uncifolia</td>\n      <td>open</td>\n      <td>https://id.biodiversity.org.au/node/apni/2916270</td>\n      <td>NaN</td>\n      <td>NaN</td>\n      <td>NaN</td>\n      <td>NaN</td>\n      <td>NaN</td>\n      <td>NaN</td>\n      <td>NaN</td>\n      <td>NaN</td>\n      <td>NaN</td>\n      <td>NaN</td>\n      <td>NaN</td>\n    </tr>\n    <tr>\n      <th>...</th>\n      <td>...</td>\n      <td>...</td>\n      <td>...</td>\n      <td>...</td>\n      <td>...</td>\n      <td>...</td>\n      <td>...</td>\n      <td>...</td>\n      <td>...</td>\n      <td>...</td>\n      <td>...</td>\n      <td>...</td>\n      <td>...</td>\n      <td>...</td>\n    </tr>\n    <tr>\n      <th>287</th>\n      <td>Xerochrysum palustre</td>\n      <td>open</td>\n      <td>https://id.biodiversity.org.au/node/apni/2890165</td>\n      <td>NaN</td>\n      <td>NaN</td>\n      <td>NaN</td>\n      <td>NaN</td>\n      <td>NaN</td>\n      <td>NaN</td>\n      <td>NaN</td>\n      <td>NaN</td>\n      <td>NaN</td>\n      <td>NaN</td>\n      <td>NaN</td>\n    </tr>\n    <tr>\n      <th>173</th>\n      <td>Zearaja maugeana</td>\n      <td>open</td>\n      <td>https://biodiversity.org.au/afd/taxa/0d9d194f-...</td>\n      <td>NaN</td>\n      <td>NaN</td>\n      <td>NaN</td>\n      <td>NaN</td>\n      <td>NaN</td>\n      <td>NaN</td>\n      <td>NaN</td>\n      <td>NaN</td>\n      <td>NaN</td>\n      <td>NaN</td>\n      <td>NaN</td>\n    </tr>\n    <tr>\n      <th>522</th>\n      <td>Zieria littoralis</td>\n      <td>open</td>\n      <td>https://id.biodiversity.org.au/node/apni/2888662</td>\n      <td>NaN</td>\n      <td>NaN</td>\n      <td>NaN</td>\n      <td>NaN</td>\n      <td>NaN</td>\n      <td>NaN</td>\n      <td>NaN</td>\n      <td>NaN</td>\n      <td>NaN</td>\n      <td>NaN</td>\n      <td>NaN</td>\n    </tr>\n    <tr>\n      <th>678</th>\n      <td>Zieria veronicea subsp. veronicea</td>\n      <td>open</td>\n      <td>https://id.biodiversity.org.au/node/apni/2911634</td>\n      <td>NaN</td>\n      <td>NaN</td>\n      <td>NaN</td>\n      <td>NaN</td>\n      <td>NaN</td>\n      <td>NaN</td>\n      <td>NaN</td>\n      <td>NaN</td>\n      <td>NaN</td>\n      <td>NaN</td>\n      <td>NaN</td>\n    </tr>\n    <tr>\n      <th>523</th>\n      <td>Zygophyllum billardierei</td>\n      <td>open</td>\n      <td>https://id.biodiversity.org.au/taxon/apni/5131...</td>\n      <td>NaN</td>\n      <td>NaN</td>\n      <td>NaN</td>\n      <td>NaN</td>\n      <td>NaN</td>\n      <td>NaN</td>\n      <td>NaN</td>\n      <td>NaN</td>\n      <td>NaN</td>\n      <td>NaN</td>\n      <td>NaN</td>\n    </tr>\n  </tbody>\n</table>\n<p>684 rows × 14 columns</p>\n</div>"
     },
     "execution_count": 38,
     "metadata": {},
     "output_type": "execute_result"
    }
   ],
   "source": [
    "# join to see which lists already have a status in inaturalist based on scientificName\n",
    "mergedstatuses = statelist[['name', 'bionet_geoprivacy', 'lsid']].merge(inatstatuses[['status_id','scientificName','taxon_id','user_id','description','iucn','authority','status','geoprivacy','place_id','place_display_name']],how=\"left\",left_on='name',right_on='scientificName',suffixes=(None,'_inat')).sort_values(['name'])\n",
    "mergedstatuses\n"
   ],
   "metadata": {
    "collapsed": false,
    "pycharm": {
     "name": "#%%\n"
    }
   }
  },
  {
   "cell_type": "code",
   "execution_count": 39,
   "outputs": [
    {
     "data": {
      "text/plain": "                                  name bionet_geoprivacy  \\\n216                   Acacia axillaris              open   \n300                  Acacia pataczekii              open   \n355                Acacia siculiformis              open   \n356                  Acacia ulicifolia              open   \n357                   Acacia uncifolia              open   \n..                                 ...               ...   \n287               Xerochrysum palustre              open   \n173                   Zearaja maugeana              open   \n522                  Zieria littoralis              open   \n678  Zieria veronicea subsp. veronicea              open   \n523           Zygophyllum billardierei              open   \n\n                                                  lsid status_id  \\\n216   https://id.biodiversity.org.au/node/apni/2911902    160726   \n300   https://id.biodiversity.org.au/node/apni/2913609       NaN   \n355   https://id.biodiversity.org.au/node/apni/2888960       NaN   \n356   https://id.biodiversity.org.au/node/apni/2907350       NaN   \n357   https://id.biodiversity.org.au/node/apni/2916270       NaN   \n..                                                 ...       ...   \n287   https://id.biodiversity.org.au/node/apni/2890165       NaN   \n173  https://biodiversity.org.au/afd/taxa/0d9d194f-...       NaN   \n522   https://id.biodiversity.org.au/node/apni/2888662       NaN   \n678   https://id.biodiversity.org.au/node/apni/2911634       NaN   \n523  https://id.biodiversity.org.au/taxon/apni/5131...       NaN   \n\n       scientificName taxon_id user_id description iucn  \\\n216  Acacia axillaris   775192  717122               30   \n300               NaN      NaN     NaN         NaN  NaN   \n355               NaN      NaN     NaN         NaN  NaN   \n356               NaN      NaN     NaN         NaN  NaN   \n357               NaN      NaN     NaN         NaN  NaN   \n..                ...      ...     ...         ...  ...   \n287               NaN      NaN     NaN         NaN  NaN   \n173               NaN      NaN     NaN         NaN  NaN   \n522               NaN      NaN     NaN         NaN  NaN   \n678               NaN      NaN     NaN         NaN  NaN   \n523               NaN      NaN     NaN         NaN  NaN   \n\n                                             authority  ... place_id  \\\n216  Environment Protection and Biodiversity Conser...  ...     6744   \n300                                                NaN  ...      NaN   \n355                                                NaN  ...      NaN   \n356                                                NaN  ...      NaN   \n357                                                NaN  ...      NaN   \n..                                                 ...  ...      ...   \n287                                                NaN  ...      NaN   \n173                                                NaN  ...      NaN   \n522                                                NaN  ...      NaN   \n678                                                NaN  ...      NaN   \n523                                                NaN  ...      NaN   \n\n    place_display_name                           new_authority  \\\n216          Australia  Threatened Species Protection Act 1995   \n300                NaN  Threatened Species Protection Act 1995   \n355                NaN  Threatened Species Protection Act 1995   \n356                NaN  Threatened Species Protection Act 1995   \n357                NaN  Threatened Species Protection Act 1995   \n..                 ...                                     ...   \n287                NaN  Threatened Species Protection Act 1995   \n173                NaN  Threatened Species Protection Act 1995   \n522                NaN  Threatened Species Protection Act 1995   \n678                NaN  Threatened Species Protection Act 1995   \n523                NaN  Threatened Species Protection Act 1995   \n\n                                       new_description  \\\n216  Listed as Threatened - refer to https://www.th...   \n300  Listed as Threatened - refer to https://www.th...   \n355  Listed as Threatened - refer to https://www.th...   \n356  Listed as Threatened - refer to https://www.th...   \n357  Listed as Threatened - refer to https://www.th...   \n..                                                 ...   \n287  Listed as Threatened - refer to https://www.th...   \n173  Listed as Threatened - refer to https://www.th...   \n522  Listed as Threatened - refer to https://www.th...   \n678  Listed as Threatened - refer to https://www.th...   \n523  Listed as Threatened - refer to https://www.th...   \n\n                                               new_url new_geoprivacy  \\\n216   https://id.biodiversity.org.au/node/apni/2911902       obscured   \n300   https://id.biodiversity.org.au/node/apni/2913609       obscured   \n355   https://id.biodiversity.org.au/node/apni/2888960       obscured   \n356   https://id.biodiversity.org.au/node/apni/2907350       obscured   \n357   https://id.biodiversity.org.au/node/apni/2916270       obscured   \n..                                                 ...            ...   \n287   https://id.biodiversity.org.au/node/apni/2890165       obscured   \n173  https://biodiversity.org.au/afd/taxa/0d9d194f-...       obscured   \n522   https://id.biodiversity.org.au/node/apni/2888662       obscured   \n678   https://id.biodiversity.org.au/node/apni/2911634       obscured   \n523  https://id.biodiversity.org.au/taxon/apni/5131...       obscured   \n\n    new_place_id new_username new_iucn_equivalent  new_status  \n216         6829    peggydnew          Vulnerable          VU  \n300         6829    peggydnew          Vulnerable  Threatened  \n355         6829    peggydnew          Vulnerable  Threatened  \n356         6829    peggydnew          Vulnerable  Threatened  \n357         6829    peggydnew          Vulnerable  Threatened  \n..           ...          ...                 ...         ...  \n287         6829    peggydnew          Vulnerable  Threatened  \n173         6829    peggydnew          Vulnerable  Threatened  \n522         6829    peggydnew          Vulnerable  Threatened  \n678         6829    peggydnew          Vulnerable  Threatened  \n523         6829    peggydnew          Vulnerable  Threatened  \n\n[684 rows x 22 columns]",
      "text/html": "<div>\n<style scoped>\n    .dataframe tbody tr th:only-of-type {\n        vertical-align: middle;\n    }\n\n    .dataframe tbody tr th {\n        vertical-align: top;\n    }\n\n    .dataframe thead th {\n        text-align: right;\n    }\n</style>\n<table border=\"1\" class=\"dataframe\">\n  <thead>\n    <tr style=\"text-align: right;\">\n      <th></th>\n      <th>name</th>\n      <th>bionet_geoprivacy</th>\n      <th>lsid</th>\n      <th>status_id</th>\n      <th>scientificName</th>\n      <th>taxon_id</th>\n      <th>user_id</th>\n      <th>description</th>\n      <th>iucn</th>\n      <th>authority</th>\n      <th>...</th>\n      <th>place_id</th>\n      <th>place_display_name</th>\n      <th>new_authority</th>\n      <th>new_description</th>\n      <th>new_url</th>\n      <th>new_geoprivacy</th>\n      <th>new_place_id</th>\n      <th>new_username</th>\n      <th>new_iucn_equivalent</th>\n      <th>new_status</th>\n    </tr>\n  </thead>\n  <tbody>\n    <tr>\n      <th>216</th>\n      <td>Acacia axillaris</td>\n      <td>open</td>\n      <td>https://id.biodiversity.org.au/node/apni/2911902</td>\n      <td>160726</td>\n      <td>Acacia axillaris</td>\n      <td>775192</td>\n      <td>717122</td>\n      <td></td>\n      <td>30</td>\n      <td>Environment Protection and Biodiversity Conser...</td>\n      <td>...</td>\n      <td>6744</td>\n      <td>Australia</td>\n      <td>Threatened Species Protection Act 1995</td>\n      <td>Listed as Threatened - refer to https://www.th...</td>\n      <td>https://id.biodiversity.org.au/node/apni/2911902</td>\n      <td>obscured</td>\n      <td>6829</td>\n      <td>peggydnew</td>\n      <td>Vulnerable</td>\n      <td>VU</td>\n    </tr>\n    <tr>\n      <th>300</th>\n      <td>Acacia pataczekii</td>\n      <td>open</td>\n      <td>https://id.biodiversity.org.au/node/apni/2913609</td>\n      <td>NaN</td>\n      <td>NaN</td>\n      <td>NaN</td>\n      <td>NaN</td>\n      <td>NaN</td>\n      <td>NaN</td>\n      <td>NaN</td>\n      <td>...</td>\n      <td>NaN</td>\n      <td>NaN</td>\n      <td>Threatened Species Protection Act 1995</td>\n      <td>Listed as Threatened - refer to https://www.th...</td>\n      <td>https://id.biodiversity.org.au/node/apni/2913609</td>\n      <td>obscured</td>\n      <td>6829</td>\n      <td>peggydnew</td>\n      <td>Vulnerable</td>\n      <td>Threatened</td>\n    </tr>\n    <tr>\n      <th>355</th>\n      <td>Acacia siculiformis</td>\n      <td>open</td>\n      <td>https://id.biodiversity.org.au/node/apni/2888960</td>\n      <td>NaN</td>\n      <td>NaN</td>\n      <td>NaN</td>\n      <td>NaN</td>\n      <td>NaN</td>\n      <td>NaN</td>\n      <td>NaN</td>\n      <td>...</td>\n      <td>NaN</td>\n      <td>NaN</td>\n      <td>Threatened Species Protection Act 1995</td>\n      <td>Listed as Threatened - refer to https://www.th...</td>\n      <td>https://id.biodiversity.org.au/node/apni/2888960</td>\n      <td>obscured</td>\n      <td>6829</td>\n      <td>peggydnew</td>\n      <td>Vulnerable</td>\n      <td>Threatened</td>\n    </tr>\n    <tr>\n      <th>356</th>\n      <td>Acacia ulicifolia</td>\n      <td>open</td>\n      <td>https://id.biodiversity.org.au/node/apni/2907350</td>\n      <td>NaN</td>\n      <td>NaN</td>\n      <td>NaN</td>\n      <td>NaN</td>\n      <td>NaN</td>\n      <td>NaN</td>\n      <td>NaN</td>\n      <td>...</td>\n      <td>NaN</td>\n      <td>NaN</td>\n      <td>Threatened Species Protection Act 1995</td>\n      <td>Listed as Threatened - refer to https://www.th...</td>\n      <td>https://id.biodiversity.org.au/node/apni/2907350</td>\n      <td>obscured</td>\n      <td>6829</td>\n      <td>peggydnew</td>\n      <td>Vulnerable</td>\n      <td>Threatened</td>\n    </tr>\n    <tr>\n      <th>357</th>\n      <td>Acacia uncifolia</td>\n      <td>open</td>\n      <td>https://id.biodiversity.org.au/node/apni/2916270</td>\n      <td>NaN</td>\n      <td>NaN</td>\n      <td>NaN</td>\n      <td>NaN</td>\n      <td>NaN</td>\n      <td>NaN</td>\n      <td>NaN</td>\n      <td>...</td>\n      <td>NaN</td>\n      <td>NaN</td>\n      <td>Threatened Species Protection Act 1995</td>\n      <td>Listed as Threatened - refer to https://www.th...</td>\n      <td>https://id.biodiversity.org.au/node/apni/2916270</td>\n      <td>obscured</td>\n      <td>6829</td>\n      <td>peggydnew</td>\n      <td>Vulnerable</td>\n      <td>Threatened</td>\n    </tr>\n    <tr>\n      <th>...</th>\n      <td>...</td>\n      <td>...</td>\n      <td>...</td>\n      <td>...</td>\n      <td>...</td>\n      <td>...</td>\n      <td>...</td>\n      <td>...</td>\n      <td>...</td>\n      <td>...</td>\n      <td>...</td>\n      <td>...</td>\n      <td>...</td>\n      <td>...</td>\n      <td>...</td>\n      <td>...</td>\n      <td>...</td>\n      <td>...</td>\n      <td>...</td>\n      <td>...</td>\n      <td>...</td>\n    </tr>\n    <tr>\n      <th>287</th>\n      <td>Xerochrysum palustre</td>\n      <td>open</td>\n      <td>https://id.biodiversity.org.au/node/apni/2890165</td>\n      <td>NaN</td>\n      <td>NaN</td>\n      <td>NaN</td>\n      <td>NaN</td>\n      <td>NaN</td>\n      <td>NaN</td>\n      <td>NaN</td>\n      <td>...</td>\n      <td>NaN</td>\n      <td>NaN</td>\n      <td>Threatened Species Protection Act 1995</td>\n      <td>Listed as Threatened - refer to https://www.th...</td>\n      <td>https://id.biodiversity.org.au/node/apni/2890165</td>\n      <td>obscured</td>\n      <td>6829</td>\n      <td>peggydnew</td>\n      <td>Vulnerable</td>\n      <td>Threatened</td>\n    </tr>\n    <tr>\n      <th>173</th>\n      <td>Zearaja maugeana</td>\n      <td>open</td>\n      <td>https://biodiversity.org.au/afd/taxa/0d9d194f-...</td>\n      <td>NaN</td>\n      <td>NaN</td>\n      <td>NaN</td>\n      <td>NaN</td>\n      <td>NaN</td>\n      <td>NaN</td>\n      <td>NaN</td>\n      <td>...</td>\n      <td>NaN</td>\n      <td>NaN</td>\n      <td>Threatened Species Protection Act 1995</td>\n      <td>Listed as Threatened - refer to https://www.th...</td>\n      <td>https://biodiversity.org.au/afd/taxa/0d9d194f-...</td>\n      <td>obscured</td>\n      <td>6829</td>\n      <td>peggydnew</td>\n      <td>Vulnerable</td>\n      <td>Threatened</td>\n    </tr>\n    <tr>\n      <th>522</th>\n      <td>Zieria littoralis</td>\n      <td>open</td>\n      <td>https://id.biodiversity.org.au/node/apni/2888662</td>\n      <td>NaN</td>\n      <td>NaN</td>\n      <td>NaN</td>\n      <td>NaN</td>\n      <td>NaN</td>\n      <td>NaN</td>\n      <td>NaN</td>\n      <td>...</td>\n      <td>NaN</td>\n      <td>NaN</td>\n      <td>Threatened Species Protection Act 1995</td>\n      <td>Listed as Threatened - refer to https://www.th...</td>\n      <td>https://id.biodiversity.org.au/node/apni/2888662</td>\n      <td>obscured</td>\n      <td>6829</td>\n      <td>peggydnew</td>\n      <td>Vulnerable</td>\n      <td>Threatened</td>\n    </tr>\n    <tr>\n      <th>678</th>\n      <td>Zieria veronicea subsp. veronicea</td>\n      <td>open</td>\n      <td>https://id.biodiversity.org.au/node/apni/2911634</td>\n      <td>NaN</td>\n      <td>NaN</td>\n      <td>NaN</td>\n      <td>NaN</td>\n      <td>NaN</td>\n      <td>NaN</td>\n      <td>NaN</td>\n      <td>...</td>\n      <td>NaN</td>\n      <td>NaN</td>\n      <td>Threatened Species Protection Act 1995</td>\n      <td>Listed as Threatened - refer to https://www.th...</td>\n      <td>https://id.biodiversity.org.au/node/apni/2911634</td>\n      <td>obscured</td>\n      <td>6829</td>\n      <td>peggydnew</td>\n      <td>Vulnerable</td>\n      <td>Threatened</td>\n    </tr>\n    <tr>\n      <th>523</th>\n      <td>Zygophyllum billardierei</td>\n      <td>open</td>\n      <td>https://id.biodiversity.org.au/taxon/apni/5131...</td>\n      <td>NaN</td>\n      <td>NaN</td>\n      <td>NaN</td>\n      <td>NaN</td>\n      <td>NaN</td>\n      <td>NaN</td>\n      <td>NaN</td>\n      <td>...</td>\n      <td>NaN</td>\n      <td>NaN</td>\n      <td>Threatened Species Protection Act 1995</td>\n      <td>Listed as Threatened - refer to https://www.th...</td>\n      <td>https://id.biodiversity.org.au/taxon/apni/5131...</td>\n      <td>obscured</td>\n      <td>6829</td>\n      <td>peggydnew</td>\n      <td>Vulnerable</td>\n      <td>Threatened</td>\n    </tr>\n  </tbody>\n</table>\n<p>684 rows × 22 columns</p>\n</div>"
     },
     "execution_count": 39,
     "metadata": {},
     "output_type": "execute_result"
    }
   ],
   "source": [
    "# prepare the export fields, common to New template and Update template\n",
    "# new statuses\n",
    "# Taxon_Name,Status,Authority,IUCN_equivalent,Description,iNaturalist_Place_ID,url,Taxon_Geoprivacy,Username,taxon_id\n",
    "# updates\n",
    "# action,taxon_name,id,taxon_id,status,iucn_equivalent,authority,url,geoprivacy,place_id,username\n",
    "mergedstatuses['new_authority'] = \"Threatened Species Protection Act 1995\"\n",
    "mergedstatuses['new_description'] = \"Listed as Threatened - refer to https://www.threatenedspecieslink.tas.gov.au\"\n",
    "mergedstatuses['new_url'] = mergedstatuses['lsid']\n",
    "mergedstatuses['new_geoprivacy'] = \"obscured\"\n",
    "mergedstatuses['new_place_id'] = '6829'  # Tasmania\n",
    "mergedstatuses['new_username'] = 'peggydnew'\n",
    "mergedstatuses['new_iucn_equivalent'] = mergedstatuses['status'].str.lower().str.strip().map(iucnStatusMappings).fillna('Vulnerable') # map to dictionary\n",
    "mergedstatuses['new_status'] = mergedstatuses['status'].fillna('Threatened')\n",
    "mergedstatuses"
   ],
   "metadata": {
    "collapsed": false,
    "pycharm": {
     "name": "#%%\n"
    }
   }
  },
  {
   "cell_type": "markdown",
   "source": [
    "## Updates"
   ],
   "metadata": {
    "collapsed": false,
    "pycharm": {
     "name": "#%% md\n"
    }
   }
  },
  {
   "cell_type": "code",
   "execution_count": 40,
   "outputs": [
    {
     "data": {
      "text/plain": "     action                 taxon_name      id taxon_id      status  \\\n216  UPDATE           Acacia axillaris  160726   775192          VU   \n604  UPDATE  Alternanthera denticulata  160727   369665  Endangered   \n605  UPDATE    Amphibromus macrorhinus  160728  1121410  Endangered   \n243  UPDATE      Anogramma leptophylla  162081   180646  Vulnerable   \n360  UPDATE           Aphelia gracilis  163877  1143399          NT   \n..      ...                        ...     ...      ...         ...   \n666  UPDATE     Thelymitra benthamiana  161102   520289  Endangered   \n667  UPDATE       Thelymitra bracteata  161103   960004  Endangered   \n671  UPDATE         Thelymitra malvina  161104   406524  Endangered   \n674  UPDATE         Veronica notabilis  161105   791936  Endangered   \n675  UPDATE           Viminaria juncea  161106   353911  Endangered   \n\n    iucn_equivalent                               authority  \\\n216      Vulnerable  Threatened Species Protection Act 1995   \n604      Vulnerable  Threatened Species Protection Act 1995   \n605      Vulnerable  Threatened Species Protection Act 1995   \n243      Vulnerable  Threatened Species Protection Act 1995   \n360      Vulnerable  Threatened Species Protection Act 1995   \n..              ...                                     ...   \n666      Vulnerable  Threatened Species Protection Act 1995   \n667      Vulnerable  Threatened Species Protection Act 1995   \n671      Vulnerable  Threatened Species Protection Act 1995   \n674      Vulnerable  Threatened Species Protection Act 1995   \n675      Vulnerable  Threatened Species Protection Act 1995   \n\n                                                   url geoprivacy place_id  \\\n216   https://id.biodiversity.org.au/node/apni/2911902   obscured     6829   \n604  https://id.biodiversity.org.au/taxon/apni/5126...   obscured     6829   \n605   https://id.biodiversity.org.au/node/apni/2916650   obscured     6829   \n243  https://id.biodiversity.org.au/taxon/apni/5129...   obscured     6829   \n360   https://id.biodiversity.org.au/node/apni/2899707   obscured     6829   \n..                                                 ...        ...      ...   \n666  https://id.biodiversity.org.au/taxon/apni/5141...   obscured     6829   \n667  https://id.biodiversity.org.au/taxon/apni/5141...   obscured     6829   \n671  https://id.biodiversity.org.au/taxon/apni/5141...   obscured     6829   \n674   https://id.biodiversity.org.au/node/apni/2890187   obscured     6829   \n675   https://id.biodiversity.org.au/node/apni/2904505   obscured     6829   \n\n      username                                        description  \n216  peggydnew  Listed as Threatened - refer to https://www.th...  \n604  peggydnew  Listed as Threatened - refer to https://www.th...  \n605  peggydnew  Listed as Threatened - refer to https://www.th...  \n243  peggydnew  Listed as Threatened - refer to https://www.th...  \n360  peggydnew  Listed as Threatened - refer to https://www.th...  \n..         ...                                                ...  \n666  peggydnew  Listed as Threatened - refer to https://www.th...  \n667  peggydnew  Listed as Threatened - refer to https://www.th...  \n671  peggydnew  Listed as Threatened - refer to https://www.th...  \n674  peggydnew  Listed as Threatened - refer to https://www.th...  \n675  peggydnew  Listed as Threatened - refer to https://www.th...  \n\n[67 rows x 12 columns]",
      "text/html": "<div>\n<style scoped>\n    .dataframe tbody tr th:only-of-type {\n        vertical-align: middle;\n    }\n\n    .dataframe tbody tr th {\n        vertical-align: top;\n    }\n\n    .dataframe thead th {\n        text-align: right;\n    }\n</style>\n<table border=\"1\" class=\"dataframe\">\n  <thead>\n    <tr style=\"text-align: right;\">\n      <th></th>\n      <th>action</th>\n      <th>taxon_name</th>\n      <th>id</th>\n      <th>taxon_id</th>\n      <th>status</th>\n      <th>iucn_equivalent</th>\n      <th>authority</th>\n      <th>url</th>\n      <th>geoprivacy</th>\n      <th>place_id</th>\n      <th>username</th>\n      <th>description</th>\n    </tr>\n  </thead>\n  <tbody>\n    <tr>\n      <th>216</th>\n      <td>UPDATE</td>\n      <td>Acacia axillaris</td>\n      <td>160726</td>\n      <td>775192</td>\n      <td>VU</td>\n      <td>Vulnerable</td>\n      <td>Threatened Species Protection Act 1995</td>\n      <td>https://id.biodiversity.org.au/node/apni/2911902</td>\n      <td>obscured</td>\n      <td>6829</td>\n      <td>peggydnew</td>\n      <td>Listed as Threatened - refer to https://www.th...</td>\n    </tr>\n    <tr>\n      <th>604</th>\n      <td>UPDATE</td>\n      <td>Alternanthera denticulata</td>\n      <td>160727</td>\n      <td>369665</td>\n      <td>Endangered</td>\n      <td>Vulnerable</td>\n      <td>Threatened Species Protection Act 1995</td>\n      <td>https://id.biodiversity.org.au/taxon/apni/5126...</td>\n      <td>obscured</td>\n      <td>6829</td>\n      <td>peggydnew</td>\n      <td>Listed as Threatened - refer to https://www.th...</td>\n    </tr>\n    <tr>\n      <th>605</th>\n      <td>UPDATE</td>\n      <td>Amphibromus macrorhinus</td>\n      <td>160728</td>\n      <td>1121410</td>\n      <td>Endangered</td>\n      <td>Vulnerable</td>\n      <td>Threatened Species Protection Act 1995</td>\n      <td>https://id.biodiversity.org.au/node/apni/2916650</td>\n      <td>obscured</td>\n      <td>6829</td>\n      <td>peggydnew</td>\n      <td>Listed as Threatened - refer to https://www.th...</td>\n    </tr>\n    <tr>\n      <th>243</th>\n      <td>UPDATE</td>\n      <td>Anogramma leptophylla</td>\n      <td>162081</td>\n      <td>180646</td>\n      <td>Vulnerable</td>\n      <td>Vulnerable</td>\n      <td>Threatened Species Protection Act 1995</td>\n      <td>https://id.biodiversity.org.au/taxon/apni/5129...</td>\n      <td>obscured</td>\n      <td>6829</td>\n      <td>peggydnew</td>\n      <td>Listed as Threatened - refer to https://www.th...</td>\n    </tr>\n    <tr>\n      <th>360</th>\n      <td>UPDATE</td>\n      <td>Aphelia gracilis</td>\n      <td>163877</td>\n      <td>1143399</td>\n      <td>NT</td>\n      <td>Vulnerable</td>\n      <td>Threatened Species Protection Act 1995</td>\n      <td>https://id.biodiversity.org.au/node/apni/2899707</td>\n      <td>obscured</td>\n      <td>6829</td>\n      <td>peggydnew</td>\n      <td>Listed as Threatened - refer to https://www.th...</td>\n    </tr>\n    <tr>\n      <th>...</th>\n      <td>...</td>\n      <td>...</td>\n      <td>...</td>\n      <td>...</td>\n      <td>...</td>\n      <td>...</td>\n      <td>...</td>\n      <td>...</td>\n      <td>...</td>\n      <td>...</td>\n      <td>...</td>\n      <td>...</td>\n    </tr>\n    <tr>\n      <th>666</th>\n      <td>UPDATE</td>\n      <td>Thelymitra benthamiana</td>\n      <td>161102</td>\n      <td>520289</td>\n      <td>Endangered</td>\n      <td>Vulnerable</td>\n      <td>Threatened Species Protection Act 1995</td>\n      <td>https://id.biodiversity.org.au/taxon/apni/5141...</td>\n      <td>obscured</td>\n      <td>6829</td>\n      <td>peggydnew</td>\n      <td>Listed as Threatened - refer to https://www.th...</td>\n    </tr>\n    <tr>\n      <th>667</th>\n      <td>UPDATE</td>\n      <td>Thelymitra bracteata</td>\n      <td>161103</td>\n      <td>960004</td>\n      <td>Endangered</td>\n      <td>Vulnerable</td>\n      <td>Threatened Species Protection Act 1995</td>\n      <td>https://id.biodiversity.org.au/taxon/apni/5141...</td>\n      <td>obscured</td>\n      <td>6829</td>\n      <td>peggydnew</td>\n      <td>Listed as Threatened - refer to https://www.th...</td>\n    </tr>\n    <tr>\n      <th>671</th>\n      <td>UPDATE</td>\n      <td>Thelymitra malvina</td>\n      <td>161104</td>\n      <td>406524</td>\n      <td>Endangered</td>\n      <td>Vulnerable</td>\n      <td>Threatened Species Protection Act 1995</td>\n      <td>https://id.biodiversity.org.au/taxon/apni/5141...</td>\n      <td>obscured</td>\n      <td>6829</td>\n      <td>peggydnew</td>\n      <td>Listed as Threatened - refer to https://www.th...</td>\n    </tr>\n    <tr>\n      <th>674</th>\n      <td>UPDATE</td>\n      <td>Veronica notabilis</td>\n      <td>161105</td>\n      <td>791936</td>\n      <td>Endangered</td>\n      <td>Vulnerable</td>\n      <td>Threatened Species Protection Act 1995</td>\n      <td>https://id.biodiversity.org.au/node/apni/2890187</td>\n      <td>obscured</td>\n      <td>6829</td>\n      <td>peggydnew</td>\n      <td>Listed as Threatened - refer to https://www.th...</td>\n    </tr>\n    <tr>\n      <th>675</th>\n      <td>UPDATE</td>\n      <td>Viminaria juncea</td>\n      <td>161106</td>\n      <td>353911</td>\n      <td>Endangered</td>\n      <td>Vulnerable</td>\n      <td>Threatened Species Protection Act 1995</td>\n      <td>https://id.biodiversity.org.au/node/apni/2904505</td>\n      <td>obscured</td>\n      <td>6829</td>\n      <td>peggydnew</td>\n      <td>Listed as Threatened - refer to https://www.th...</td>\n    </tr>\n  </tbody>\n</table>\n<p>67 rows × 12 columns</p>\n</div>"
     },
     "execution_count": 40,
     "metadata": {},
     "output_type": "execute_result"
    }
   ],
   "source": [
    "# updates\n",
    "# action,taxon_name,id,taxon_id,status,iucn_equivalent,authority,url,geoprivacy,place_id,username,description\n",
    "updates = pd.DataFrame(mergedstatuses[mergedstatuses['status_id'].notnull()])\n",
    "updates.sort_values('scientificName')\n",
    "updates['action'] = 'UPDATE'\n",
    "#updates.loc[:,'action'] = 'UPDATE'\n",
    "updates = updates[['action','scientificName','status_id','taxon_id','new_status','new_iucn_equivalent','new_authority','new_url','new_geoprivacy','new_place_id','new_username','new_description']]\n",
    "updates.columns = updates.columns.str.replace(\"new_\", \"\", regex=True)\n",
    "updates = updates.rename(columns={'scientificName':'taxon_name',\n",
    "                                  'status_id':'id'})\n",
    "updates"
   ],
   "metadata": {
    "collapsed": false,
    "pycharm": {
     "name": "#%%\n"
    }
   }
  },
  {
   "cell_type": "markdown",
   "source": [
    "## No status in iNaturalist via straight scientificName match\n",
    "The ACT records that didn't match up to a status in iNaturalist"
   ],
   "metadata": {
    "collapsed": false,
    "pycharm": {
     "name": "#%% md\n"
    }
   }
  },
  {
   "cell_type": "code",
   "execution_count": 41,
   "outputs": [
    {
     "data": {
      "text/plain": "                                  name bionet_geoprivacy  \\\n0                    Acacia pataczekii              open   \n1                  Acacia siculiformis              open   \n2                    Acacia ulicifolia              open   \n3                     Acacia uncifolia              open   \n4         Acanthiza pusilla archibaldi              open   \n..                                 ...               ...   \n612               Xerochrysum palustre              open   \n613                   Zearaja maugeana              open   \n614                  Zieria littoralis              open   \n615  Zieria veronicea subsp. veronicea              open   \n616           Zygophyllum billardierei              open   \n\n                                                  lsid status_id  \\\n0     https://id.biodiversity.org.au/node/apni/2913609       NaN   \n1     https://id.biodiversity.org.au/node/apni/2888960       NaN   \n2     https://id.biodiversity.org.au/node/apni/2907350       NaN   \n3     https://id.biodiversity.org.au/node/apni/2916270       NaN   \n4                                        ALA_DR654_159       NaN   \n..                                                 ...       ...   \n612   https://id.biodiversity.org.au/node/apni/2890165       NaN   \n613  https://biodiversity.org.au/afd/taxa/0d9d194f-...       NaN   \n614   https://id.biodiversity.org.au/node/apni/2888662       NaN   \n615   https://id.biodiversity.org.au/node/apni/2911634       NaN   \n616  https://id.biodiversity.org.au/taxon/apni/5131...       NaN   \n\n    scientificName taxon_id user_id description iucn authority  ... phylum  \\\n0              NaN      NaN     NaN         NaN  NaN       NaN  ...    NaN   \n1              NaN      NaN     NaN         NaN  NaN       NaN  ...    NaN   \n2              NaN      NaN     NaN         NaN  NaN       NaN  ...    NaN   \n3              NaN      NaN     NaN         NaN  NaN       NaN  ...    NaN   \n4              NaN      NaN     NaN         NaN  NaN       NaN  ...    NaN   \n..             ...      ...     ...         ...  ...       ...  ...    ...   \n612            NaN      NaN     NaN         NaN  NaN       NaN  ...    NaN   \n613            NaN      NaN     NaN         NaN  NaN       NaN  ...    NaN   \n614            NaN      NaN     NaN         NaN  NaN       NaN  ...    NaN   \n615            NaN      NaN     NaN         NaN  NaN       NaN  ...    NaN   \n616            NaN      NaN     NaN         NaN  NaN       NaN  ...    NaN   \n\n    class order family genus specificEpithet infraspecificEpithet modified  \\\n0     NaN   NaN    NaN   NaN             NaN                  NaN      NaN   \n1     NaN   NaN    NaN   NaN             NaN                  NaN      NaN   \n2     NaN   NaN    NaN   NaN             NaN                  NaN      NaN   \n3     NaN   NaN    NaN   NaN             NaN                  NaN      NaN   \n4     NaN   NaN    NaN   NaN             NaN                  NaN      NaN   \n..    ...   ...    ...   ...             ...                  ...      ...   \n612   NaN   NaN    NaN   NaN             NaN                  NaN      NaN   \n613   NaN   NaN    NaN   NaN             NaN                  NaN      NaN   \n614   NaN   NaN    NaN   NaN             NaN                  NaN      NaN   \n615   NaN   NaN    NaN   NaN             NaN                  NaN      NaN   \n616   NaN   NaN    NaN   NaN             NaN                  NaN      NaN   \n\n    taxonRank references  \n0         NaN        NaN  \n1         NaN        NaN  \n2         NaN        NaN  \n3         NaN        NaN  \n4         NaN        NaN  \n..        ...        ...  \n612       NaN        NaN  \n613       NaN        NaN  \n614       NaN        NaN  \n615       NaN        NaN  \n616       NaN        NaN  \n\n[617 rows x 37 columns]",
      "text/html": "<div>\n<style scoped>\n    .dataframe tbody tr th:only-of-type {\n        vertical-align: middle;\n    }\n\n    .dataframe tbody tr th {\n        vertical-align: top;\n    }\n\n    .dataframe thead th {\n        text-align: right;\n    }\n</style>\n<table border=\"1\" class=\"dataframe\">\n  <thead>\n    <tr style=\"text-align: right;\">\n      <th></th>\n      <th>name</th>\n      <th>bionet_geoprivacy</th>\n      <th>lsid</th>\n      <th>status_id</th>\n      <th>scientificName</th>\n      <th>taxon_id</th>\n      <th>user_id</th>\n      <th>description</th>\n      <th>iucn</th>\n      <th>authority</th>\n      <th>...</th>\n      <th>phylum</th>\n      <th>class</th>\n      <th>order</th>\n      <th>family</th>\n      <th>genus</th>\n      <th>specificEpithet</th>\n      <th>infraspecificEpithet</th>\n      <th>modified</th>\n      <th>taxonRank</th>\n      <th>references</th>\n    </tr>\n  </thead>\n  <tbody>\n    <tr>\n      <th>0</th>\n      <td>Acacia pataczekii</td>\n      <td>open</td>\n      <td>https://id.biodiversity.org.au/node/apni/2913609</td>\n      <td>NaN</td>\n      <td>NaN</td>\n      <td>NaN</td>\n      <td>NaN</td>\n      <td>NaN</td>\n      <td>NaN</td>\n      <td>NaN</td>\n      <td>...</td>\n      <td>NaN</td>\n      <td>NaN</td>\n      <td>NaN</td>\n      <td>NaN</td>\n      <td>NaN</td>\n      <td>NaN</td>\n      <td>NaN</td>\n      <td>NaN</td>\n      <td>NaN</td>\n      <td>NaN</td>\n    </tr>\n    <tr>\n      <th>1</th>\n      <td>Acacia siculiformis</td>\n      <td>open</td>\n      <td>https://id.biodiversity.org.au/node/apni/2888960</td>\n      <td>NaN</td>\n      <td>NaN</td>\n      <td>NaN</td>\n      <td>NaN</td>\n      <td>NaN</td>\n      <td>NaN</td>\n      <td>NaN</td>\n      <td>...</td>\n      <td>NaN</td>\n      <td>NaN</td>\n      <td>NaN</td>\n      <td>NaN</td>\n      <td>NaN</td>\n      <td>NaN</td>\n      <td>NaN</td>\n      <td>NaN</td>\n      <td>NaN</td>\n      <td>NaN</td>\n    </tr>\n    <tr>\n      <th>2</th>\n      <td>Acacia ulicifolia</td>\n      <td>open</td>\n      <td>https://id.biodiversity.org.au/node/apni/2907350</td>\n      <td>NaN</td>\n      <td>NaN</td>\n      <td>NaN</td>\n      <td>NaN</td>\n      <td>NaN</td>\n      <td>NaN</td>\n      <td>NaN</td>\n      <td>...</td>\n      <td>NaN</td>\n      <td>NaN</td>\n      <td>NaN</td>\n      <td>NaN</td>\n      <td>NaN</td>\n      <td>NaN</td>\n      <td>NaN</td>\n      <td>NaN</td>\n      <td>NaN</td>\n      <td>NaN</td>\n    </tr>\n    <tr>\n      <th>3</th>\n      <td>Acacia uncifolia</td>\n      <td>open</td>\n      <td>https://id.biodiversity.org.au/node/apni/2916270</td>\n      <td>NaN</td>\n      <td>NaN</td>\n      <td>NaN</td>\n      <td>NaN</td>\n      <td>NaN</td>\n      <td>NaN</td>\n      <td>NaN</td>\n      <td>...</td>\n      <td>NaN</td>\n      <td>NaN</td>\n      <td>NaN</td>\n      <td>NaN</td>\n      <td>NaN</td>\n      <td>NaN</td>\n      <td>NaN</td>\n      <td>NaN</td>\n      <td>NaN</td>\n      <td>NaN</td>\n    </tr>\n    <tr>\n      <th>4</th>\n      <td>Acanthiza pusilla archibaldi</td>\n      <td>open</td>\n      <td>ALA_DR654_159</td>\n      <td>NaN</td>\n      <td>NaN</td>\n      <td>NaN</td>\n      <td>NaN</td>\n      <td>NaN</td>\n      <td>NaN</td>\n      <td>NaN</td>\n      <td>...</td>\n      <td>NaN</td>\n      <td>NaN</td>\n      <td>NaN</td>\n      <td>NaN</td>\n      <td>NaN</td>\n      <td>NaN</td>\n      <td>NaN</td>\n      <td>NaN</td>\n      <td>NaN</td>\n      <td>NaN</td>\n    </tr>\n    <tr>\n      <th>...</th>\n      <td>...</td>\n      <td>...</td>\n      <td>...</td>\n      <td>...</td>\n      <td>...</td>\n      <td>...</td>\n      <td>...</td>\n      <td>...</td>\n      <td>...</td>\n      <td>...</td>\n      <td>...</td>\n      <td>...</td>\n      <td>...</td>\n      <td>...</td>\n      <td>...</td>\n      <td>...</td>\n      <td>...</td>\n      <td>...</td>\n      <td>...</td>\n      <td>...</td>\n      <td>...</td>\n    </tr>\n    <tr>\n      <th>612</th>\n      <td>Xerochrysum palustre</td>\n      <td>open</td>\n      <td>https://id.biodiversity.org.au/node/apni/2890165</td>\n      <td>NaN</td>\n      <td>NaN</td>\n      <td>NaN</td>\n      <td>NaN</td>\n      <td>NaN</td>\n      <td>NaN</td>\n      <td>NaN</td>\n      <td>...</td>\n      <td>NaN</td>\n      <td>NaN</td>\n      <td>NaN</td>\n      <td>NaN</td>\n      <td>NaN</td>\n      <td>NaN</td>\n      <td>NaN</td>\n      <td>NaN</td>\n      <td>NaN</td>\n      <td>NaN</td>\n    </tr>\n    <tr>\n      <th>613</th>\n      <td>Zearaja maugeana</td>\n      <td>open</td>\n      <td>https://biodiversity.org.au/afd/taxa/0d9d194f-...</td>\n      <td>NaN</td>\n      <td>NaN</td>\n      <td>NaN</td>\n      <td>NaN</td>\n      <td>NaN</td>\n      <td>NaN</td>\n      <td>NaN</td>\n      <td>...</td>\n      <td>NaN</td>\n      <td>NaN</td>\n      <td>NaN</td>\n      <td>NaN</td>\n      <td>NaN</td>\n      <td>NaN</td>\n      <td>NaN</td>\n      <td>NaN</td>\n      <td>NaN</td>\n      <td>NaN</td>\n    </tr>\n    <tr>\n      <th>614</th>\n      <td>Zieria littoralis</td>\n      <td>open</td>\n      <td>https://id.biodiversity.org.au/node/apni/2888662</td>\n      <td>NaN</td>\n      <td>NaN</td>\n      <td>NaN</td>\n      <td>NaN</td>\n      <td>NaN</td>\n      <td>NaN</td>\n      <td>NaN</td>\n      <td>...</td>\n      <td>NaN</td>\n      <td>NaN</td>\n      <td>NaN</td>\n      <td>NaN</td>\n      <td>NaN</td>\n      <td>NaN</td>\n      <td>NaN</td>\n      <td>NaN</td>\n      <td>NaN</td>\n      <td>NaN</td>\n    </tr>\n    <tr>\n      <th>615</th>\n      <td>Zieria veronicea subsp. veronicea</td>\n      <td>open</td>\n      <td>https://id.biodiversity.org.au/node/apni/2911634</td>\n      <td>NaN</td>\n      <td>NaN</td>\n      <td>NaN</td>\n      <td>NaN</td>\n      <td>NaN</td>\n      <td>NaN</td>\n      <td>NaN</td>\n      <td>...</td>\n      <td>NaN</td>\n      <td>NaN</td>\n      <td>NaN</td>\n      <td>NaN</td>\n      <td>NaN</td>\n      <td>NaN</td>\n      <td>NaN</td>\n      <td>NaN</td>\n      <td>NaN</td>\n      <td>NaN</td>\n    </tr>\n    <tr>\n      <th>616</th>\n      <td>Zygophyllum billardierei</td>\n      <td>open</td>\n      <td>https://id.biodiversity.org.au/taxon/apni/5131...</td>\n      <td>NaN</td>\n      <td>NaN</td>\n      <td>NaN</td>\n      <td>NaN</td>\n      <td>NaN</td>\n      <td>NaN</td>\n      <td>NaN</td>\n      <td>...</td>\n      <td>NaN</td>\n      <td>NaN</td>\n      <td>NaN</td>\n      <td>NaN</td>\n      <td>NaN</td>\n      <td>NaN</td>\n      <td>NaN</td>\n      <td>NaN</td>\n      <td>NaN</td>\n      <td>NaN</td>\n    </tr>\n  </tbody>\n</table>\n<p>617 rows × 37 columns</p>\n</div>"
     },
     "execution_count": 41,
     "metadata": {},
     "output_type": "execute_result"
    }
   ],
   "source": [
    "# to add: those that have no inaturalist status - 532!!\n",
    "noinatstatus = mergedstatuses[mergedstatuses['status_id'].isnull()]\n",
    "# try to match the taxon name to something in inaturalist\n",
    "noinatstatus = noinatstatus.merge(inattaxa, how=\"left\", left_on=\"scientificName\",right_on=\"scientificName\")\n",
    "noinatstatus"
   ],
   "metadata": {
    "collapsed": false,
    "pycharm": {
     "name": "#%%\n"
    }
   }
  },
  {
   "cell_type": "code",
   "execution_count": 42,
   "outputs": [
    {
     "data": {
      "text/plain": "Empty DataFrame\nColumns: [name, bionet_geoprivacy, lsid, status_id, scientificName, taxon_id, user_id, description, iucn, authority, status, geoprivacy, place_id, place_display_name, new_authority, new_description, new_url, new_geoprivacy, new_place_id, new_username, new_iucn_equivalent, new_status, id, taxonID, identifier, parentNameUsageID, kingdom, phylum, class, order, family, genus, specificEpithet, infraspecificEpithet, modified, taxonRank, references]\nIndex: []\n\n[0 rows x 37 columns]",
      "text/html": "<div>\n<style scoped>\n    .dataframe tbody tr th:only-of-type {\n        vertical-align: middle;\n    }\n\n    .dataframe tbody tr th {\n        vertical-align: top;\n    }\n\n    .dataframe thead th {\n        text-align: right;\n    }\n</style>\n<table border=\"1\" class=\"dataframe\">\n  <thead>\n    <tr style=\"text-align: right;\">\n      <th></th>\n      <th>name</th>\n      <th>bionet_geoprivacy</th>\n      <th>lsid</th>\n      <th>status_id</th>\n      <th>scientificName</th>\n      <th>taxon_id</th>\n      <th>user_id</th>\n      <th>description</th>\n      <th>iucn</th>\n      <th>authority</th>\n      <th>...</th>\n      <th>phylum</th>\n      <th>class</th>\n      <th>order</th>\n      <th>family</th>\n      <th>genus</th>\n      <th>specificEpithet</th>\n      <th>infraspecificEpithet</th>\n      <th>modified</th>\n      <th>taxonRank</th>\n      <th>references</th>\n    </tr>\n  </thead>\n  <tbody>\n  </tbody>\n</table>\n<p>0 rows × 37 columns</p>\n</div>"
     },
     "execution_count": 42,
     "metadata": {},
     "output_type": "execute_result"
    }
   ],
   "source": [
    "additions = pd.DataFrame(noinatstatus[noinatstatus['id'].notna()])\n",
    "additions"
   ],
   "metadata": {
    "collapsed": false,
    "pycharm": {
     "name": "#%%\n"
    }
   }
  },
  {
   "cell_type": "code",
   "execution_count": 43,
   "outputs": [
    {
     "data": {
      "text/plain": "Empty DataFrame\nColumns: [action, taxon_name, id, taxon_id, status, iucn_equivalent, authority, url, geoprivacy, place_id, username, description]\nIndex: []",
      "text/html": "<div>\n<style scoped>\n    .dataframe tbody tr th:only-of-type {\n        vertical-align: middle;\n    }\n\n    .dataframe tbody tr th {\n        vertical-align: top;\n    }\n\n    .dataframe thead th {\n        text-align: right;\n    }\n</style>\n<table border=\"1\" class=\"dataframe\">\n  <thead>\n    <tr style=\"text-align: right;\">\n      <th></th>\n      <th>action</th>\n      <th>taxon_name</th>\n      <th>id</th>\n      <th>taxon_id</th>\n      <th>status</th>\n      <th>iucn_equivalent</th>\n      <th>authority</th>\n      <th>url</th>\n      <th>geoprivacy</th>\n      <th>place_id</th>\n      <th>username</th>\n      <th>description</th>\n    </tr>\n  </thead>\n  <tbody>\n  </tbody>\n</table>\n</div>"
     },
     "execution_count": 43,
     "metadata": {},
     "output_type": "execute_result"
    }
   ],
   "source": [
    "# there's no status but there is a matching inat taxon (id is the taxon id)\n",
    "additions = pd.DataFrame(noinatstatus[noinatstatus['id'].notna()])\n",
    "additions.sort_values(['scientificName'])\n",
    "additions['action'] = 'ADD'\n",
    "additions = additions[['action','scientificName','status_id','id','new_status','new_iucn_equivalent','new_authority','new_url','new_geoprivacy','new_place_id','new_username','new_description']]\n",
    "additions.columns = additions.columns.str.replace(\"new_\", \"\", regex=True)\n",
    "additions = additions.rename(columns={'scientificName':'taxon_name',\n",
    "                                      'id':'taxon_id',\n",
    "                                  'status_id':'id'})\n",
    "additions"
   ],
   "metadata": {
    "collapsed": false,
    "pycharm": {
     "name": "#%%\n"
    }
   }
  },
  {
   "cell_type": "code",
   "execution_count": 44,
   "outputs": [],
   "source": [
    "# write these to the file\n",
    "pd.concat([updates,additions]).to_csv(sourcedir + \"tas.csv\", index=False)"
   ],
   "metadata": {
    "collapsed": false,
    "pycharm": {
     "name": "#%%\n"
    }
   }
  },
  {
   "cell_type": "code",
   "execution_count": 45,
   "outputs": [
    {
     "data": {
      "text/plain": "                                  name bionet_geoprivacy  \\\n0                    Acacia pataczekii              open   \n1                  Acacia siculiformis              open   \n2                    Acacia ulicifolia              open   \n3                     Acacia uncifolia              open   \n4         Acanthiza pusilla archibaldi              open   \n..                                 ...               ...   \n612               Xerochrysum palustre              open   \n613                   Zearaja maugeana              open   \n614                  Zieria littoralis              open   \n615  Zieria veronicea subsp. veronicea              open   \n616           Zygophyllum billardierei              open   \n\n                                                  lsid status_id  \\\n0     https://id.biodiversity.org.au/node/apni/2913609       NaN   \n1     https://id.biodiversity.org.au/node/apni/2888960       NaN   \n2     https://id.biodiversity.org.au/node/apni/2907350       NaN   \n3     https://id.biodiversity.org.au/node/apni/2916270       NaN   \n4                                        ALA_DR654_159       NaN   \n..                                                 ...       ...   \n612   https://id.biodiversity.org.au/node/apni/2890165       NaN   \n613  https://biodiversity.org.au/afd/taxa/0d9d194f-...       NaN   \n614   https://id.biodiversity.org.au/node/apni/2888662       NaN   \n615   https://id.biodiversity.org.au/node/apni/2911634       NaN   \n616  https://id.biodiversity.org.au/taxon/apni/5131...       NaN   \n\n    scientificName taxon_id user_id description iucn authority  ... phylum  \\\n0              NaN      NaN     NaN         NaN  NaN       NaN  ...    NaN   \n1              NaN      NaN     NaN         NaN  NaN       NaN  ...    NaN   \n2              NaN      NaN     NaN         NaN  NaN       NaN  ...    NaN   \n3              NaN      NaN     NaN         NaN  NaN       NaN  ...    NaN   \n4              NaN      NaN     NaN         NaN  NaN       NaN  ...    NaN   \n..             ...      ...     ...         ...  ...       ...  ...    ...   \n612            NaN      NaN     NaN         NaN  NaN       NaN  ...    NaN   \n613            NaN      NaN     NaN         NaN  NaN       NaN  ...    NaN   \n614            NaN      NaN     NaN         NaN  NaN       NaN  ...    NaN   \n615            NaN      NaN     NaN         NaN  NaN       NaN  ...    NaN   \n616            NaN      NaN     NaN         NaN  NaN       NaN  ...    NaN   \n\n    class order family genus specificEpithet infraspecificEpithet modified  \\\n0     NaN   NaN    NaN   NaN             NaN                  NaN      NaN   \n1     NaN   NaN    NaN   NaN             NaN                  NaN      NaN   \n2     NaN   NaN    NaN   NaN             NaN                  NaN      NaN   \n3     NaN   NaN    NaN   NaN             NaN                  NaN      NaN   \n4     NaN   NaN    NaN   NaN             NaN                  NaN      NaN   \n..    ...   ...    ...   ...             ...                  ...      ...   \n612   NaN   NaN    NaN   NaN             NaN                  NaN      NaN   \n613   NaN   NaN    NaN   NaN             NaN                  NaN      NaN   \n614   NaN   NaN    NaN   NaN             NaN                  NaN      NaN   \n615   NaN   NaN    NaN   NaN             NaN                  NaN      NaN   \n616   NaN   NaN    NaN   NaN             NaN                  NaN      NaN   \n\n    taxonRank references  \n0         NaN        NaN  \n1         NaN        NaN  \n2         NaN        NaN  \n3         NaN        NaN  \n4         NaN        NaN  \n..        ...        ...  \n612       NaN        NaN  \n613       NaN        NaN  \n614       NaN        NaN  \n615       NaN        NaN  \n616       NaN        NaN  \n\n[617 rows x 37 columns]",
      "text/html": "<div>\n<style scoped>\n    .dataframe tbody tr th:only-of-type {\n        vertical-align: middle;\n    }\n\n    .dataframe tbody tr th {\n        vertical-align: top;\n    }\n\n    .dataframe thead th {\n        text-align: right;\n    }\n</style>\n<table border=\"1\" class=\"dataframe\">\n  <thead>\n    <tr style=\"text-align: right;\">\n      <th></th>\n      <th>name</th>\n      <th>bionet_geoprivacy</th>\n      <th>lsid</th>\n      <th>status_id</th>\n      <th>scientificName</th>\n      <th>taxon_id</th>\n      <th>user_id</th>\n      <th>description</th>\n      <th>iucn</th>\n      <th>authority</th>\n      <th>...</th>\n      <th>phylum</th>\n      <th>class</th>\n      <th>order</th>\n      <th>family</th>\n      <th>genus</th>\n      <th>specificEpithet</th>\n      <th>infraspecificEpithet</th>\n      <th>modified</th>\n      <th>taxonRank</th>\n      <th>references</th>\n    </tr>\n  </thead>\n  <tbody>\n    <tr>\n      <th>0</th>\n      <td>Acacia pataczekii</td>\n      <td>open</td>\n      <td>https://id.biodiversity.org.au/node/apni/2913609</td>\n      <td>NaN</td>\n      <td>NaN</td>\n      <td>NaN</td>\n      <td>NaN</td>\n      <td>NaN</td>\n      <td>NaN</td>\n      <td>NaN</td>\n      <td>...</td>\n      <td>NaN</td>\n      <td>NaN</td>\n      <td>NaN</td>\n      <td>NaN</td>\n      <td>NaN</td>\n      <td>NaN</td>\n      <td>NaN</td>\n      <td>NaN</td>\n      <td>NaN</td>\n      <td>NaN</td>\n    </tr>\n    <tr>\n      <th>1</th>\n      <td>Acacia siculiformis</td>\n      <td>open</td>\n      <td>https://id.biodiversity.org.au/node/apni/2888960</td>\n      <td>NaN</td>\n      <td>NaN</td>\n      <td>NaN</td>\n      <td>NaN</td>\n      <td>NaN</td>\n      <td>NaN</td>\n      <td>NaN</td>\n      <td>...</td>\n      <td>NaN</td>\n      <td>NaN</td>\n      <td>NaN</td>\n      <td>NaN</td>\n      <td>NaN</td>\n      <td>NaN</td>\n      <td>NaN</td>\n      <td>NaN</td>\n      <td>NaN</td>\n      <td>NaN</td>\n    </tr>\n    <tr>\n      <th>2</th>\n      <td>Acacia ulicifolia</td>\n      <td>open</td>\n      <td>https://id.biodiversity.org.au/node/apni/2907350</td>\n      <td>NaN</td>\n      <td>NaN</td>\n      <td>NaN</td>\n      <td>NaN</td>\n      <td>NaN</td>\n      <td>NaN</td>\n      <td>NaN</td>\n      <td>...</td>\n      <td>NaN</td>\n      <td>NaN</td>\n      <td>NaN</td>\n      <td>NaN</td>\n      <td>NaN</td>\n      <td>NaN</td>\n      <td>NaN</td>\n      <td>NaN</td>\n      <td>NaN</td>\n      <td>NaN</td>\n    </tr>\n    <tr>\n      <th>3</th>\n      <td>Acacia uncifolia</td>\n      <td>open</td>\n      <td>https://id.biodiversity.org.au/node/apni/2916270</td>\n      <td>NaN</td>\n      <td>NaN</td>\n      <td>NaN</td>\n      <td>NaN</td>\n      <td>NaN</td>\n      <td>NaN</td>\n      <td>NaN</td>\n      <td>...</td>\n      <td>NaN</td>\n      <td>NaN</td>\n      <td>NaN</td>\n      <td>NaN</td>\n      <td>NaN</td>\n      <td>NaN</td>\n      <td>NaN</td>\n      <td>NaN</td>\n      <td>NaN</td>\n      <td>NaN</td>\n    </tr>\n    <tr>\n      <th>4</th>\n      <td>Acanthiza pusilla archibaldi</td>\n      <td>open</td>\n      <td>ALA_DR654_159</td>\n      <td>NaN</td>\n      <td>NaN</td>\n      <td>NaN</td>\n      <td>NaN</td>\n      <td>NaN</td>\n      <td>NaN</td>\n      <td>NaN</td>\n      <td>...</td>\n      <td>NaN</td>\n      <td>NaN</td>\n      <td>NaN</td>\n      <td>NaN</td>\n      <td>NaN</td>\n      <td>NaN</td>\n      <td>NaN</td>\n      <td>NaN</td>\n      <td>NaN</td>\n      <td>NaN</td>\n    </tr>\n    <tr>\n      <th>...</th>\n      <td>...</td>\n      <td>...</td>\n      <td>...</td>\n      <td>...</td>\n      <td>...</td>\n      <td>...</td>\n      <td>...</td>\n      <td>...</td>\n      <td>...</td>\n      <td>...</td>\n      <td>...</td>\n      <td>...</td>\n      <td>...</td>\n      <td>...</td>\n      <td>...</td>\n      <td>...</td>\n      <td>...</td>\n      <td>...</td>\n      <td>...</td>\n      <td>...</td>\n      <td>...</td>\n    </tr>\n    <tr>\n      <th>612</th>\n      <td>Xerochrysum palustre</td>\n      <td>open</td>\n      <td>https://id.biodiversity.org.au/node/apni/2890165</td>\n      <td>NaN</td>\n      <td>NaN</td>\n      <td>NaN</td>\n      <td>NaN</td>\n      <td>NaN</td>\n      <td>NaN</td>\n      <td>NaN</td>\n      <td>...</td>\n      <td>NaN</td>\n      <td>NaN</td>\n      <td>NaN</td>\n      <td>NaN</td>\n      <td>NaN</td>\n      <td>NaN</td>\n      <td>NaN</td>\n      <td>NaN</td>\n      <td>NaN</td>\n      <td>NaN</td>\n    </tr>\n    <tr>\n      <th>613</th>\n      <td>Zearaja maugeana</td>\n      <td>open</td>\n      <td>https://biodiversity.org.au/afd/taxa/0d9d194f-...</td>\n      <td>NaN</td>\n      <td>NaN</td>\n      <td>NaN</td>\n      <td>NaN</td>\n      <td>NaN</td>\n      <td>NaN</td>\n      <td>NaN</td>\n      <td>...</td>\n      <td>NaN</td>\n      <td>NaN</td>\n      <td>NaN</td>\n      <td>NaN</td>\n      <td>NaN</td>\n      <td>NaN</td>\n      <td>NaN</td>\n      <td>NaN</td>\n      <td>NaN</td>\n      <td>NaN</td>\n    </tr>\n    <tr>\n      <th>614</th>\n      <td>Zieria littoralis</td>\n      <td>open</td>\n      <td>https://id.biodiversity.org.au/node/apni/2888662</td>\n      <td>NaN</td>\n      <td>NaN</td>\n      <td>NaN</td>\n      <td>NaN</td>\n      <td>NaN</td>\n      <td>NaN</td>\n      <td>NaN</td>\n      <td>...</td>\n      <td>NaN</td>\n      <td>NaN</td>\n      <td>NaN</td>\n      <td>NaN</td>\n      <td>NaN</td>\n      <td>NaN</td>\n      <td>NaN</td>\n      <td>NaN</td>\n      <td>NaN</td>\n      <td>NaN</td>\n    </tr>\n    <tr>\n      <th>615</th>\n      <td>Zieria veronicea subsp. veronicea</td>\n      <td>open</td>\n      <td>https://id.biodiversity.org.au/node/apni/2911634</td>\n      <td>NaN</td>\n      <td>NaN</td>\n      <td>NaN</td>\n      <td>NaN</td>\n      <td>NaN</td>\n      <td>NaN</td>\n      <td>NaN</td>\n      <td>...</td>\n      <td>NaN</td>\n      <td>NaN</td>\n      <td>NaN</td>\n      <td>NaN</td>\n      <td>NaN</td>\n      <td>NaN</td>\n      <td>NaN</td>\n      <td>NaN</td>\n      <td>NaN</td>\n      <td>NaN</td>\n    </tr>\n    <tr>\n      <th>616</th>\n      <td>Zygophyllum billardierei</td>\n      <td>open</td>\n      <td>https://id.biodiversity.org.au/taxon/apni/5131...</td>\n      <td>NaN</td>\n      <td>NaN</td>\n      <td>NaN</td>\n      <td>NaN</td>\n      <td>NaN</td>\n      <td>NaN</td>\n      <td>NaN</td>\n      <td>...</td>\n      <td>NaN</td>\n      <td>NaN</td>\n      <td>NaN</td>\n      <td>NaN</td>\n      <td>NaN</td>\n      <td>NaN</td>\n      <td>NaN</td>\n      <td>NaN</td>\n      <td>NaN</td>\n      <td>NaN</td>\n    </tr>\n  </tbody>\n</table>\n<p>617 rows × 37 columns</p>\n</div>"
     },
     "execution_count": 45,
     "metadata": {},
     "output_type": "execute_result"
    }
   ],
   "source": [
    "# what didnt match to a taxon?\n",
    "unknownToInat = noinatstatus[noinatstatus['id'].isna()]\n",
    "unknownToInat"
   ],
   "metadata": {
    "collapsed": false,
    "pycharm": {
     "name": "#%%\n"
    }
   }
  },
  {
   "cell_type": "markdown",
   "source": [],
   "metadata": {
    "collapsed": false,
    "pycharm": {
     "name": "#%% md\n"
    }
   }
  },
  {
   "cell_type": "markdown",
   "source": [
    "### are there any that need to be removed?\n",
    "TAS sensitive list count: 1\n",
    "TAS conservation list count: 683\n",
    "TAS inat statuses count: 0\n",
    "\n",
    "updates to inat status: 67\n",
    "additional inat status: 0\n",
    "TAS statuses we can't find a taxon match for in iNaturalist: 617\n",
    "total: (explainable via the various genus/section entries that we matched to in the taxonomy)\n",
    "\n",
    "inat statuses left over:  that may need checking"
   ],
   "metadata": {
    "collapsed": false,
    "pycharm": {
     "name": "#%% md\n"
    }
   }
  },
  {
   "cell_type": "code",
   "execution_count": 46,
   "outputs": [
    {
     "data": {
      "text/plain": "   Sensitive  Conservation  Updates  Additions  No Inat Status  \\\n0          1           683       67          0             617   \n\n   Unknown to Inat  \n0              617  ",
      "text/html": "<div>\n<style scoped>\n    .dataframe tbody tr th:only-of-type {\n        vertical-align: middle;\n    }\n\n    .dataframe tbody tr th {\n        vertical-align: top;\n    }\n\n    .dataframe thead th {\n        text-align: right;\n    }\n</style>\n<table border=\"1\" class=\"dataframe\">\n  <thead>\n    <tr style=\"text-align: right;\">\n      <th></th>\n      <th>Sensitive</th>\n      <th>Conservation</th>\n      <th>Updates</th>\n      <th>Additions</th>\n      <th>No Inat Status</th>\n      <th>Unknown to Inat</th>\n    </tr>\n  </thead>\n  <tbody>\n    <tr>\n      <th>0</th>\n      <td>1</td>\n      <td>683</td>\n      <td>67</td>\n      <td>0</td>\n      <td>617</td>\n      <td>617</td>\n    </tr>\n  </tbody>\n</table>\n</div>"
     },
     "execution_count": 46,
     "metadata": {},
     "output_type": "execute_result"
    }
   ],
   "source": [
    "# Stats\n",
    "numsensitive = len(sensitivelist.index)\n",
    "numconservation = len(conservationlist.index)\n",
    "numupdates  = len(updates.index)\n",
    "numadditions  = len(additions.index)\n",
    "numnoinatstatus = len(noinatstatus.index)\n",
    "numunknownToInat = len(unknownToInat.index)\n",
    "d = {'Sensitive': [numsensitive],\n",
    "    'Conservation': [numconservation],\n",
    "    'Updates': [numupdates],\n",
    "    'Additions': [numadditions],\n",
    "    'No Inat Status': [numnoinatstatus],\n",
    "    'Unknown to Inat': [numunknownToInat]}\n",
    "statsdf = pd.DataFrame(data=d)\n",
    "statsdf"
   ],
   "metadata": {
    "collapsed": false,
    "pycharm": {
     "name": "#%%\n"
    }
   }
  },
  {
   "cell_type": "code",
   "execution_count": 47,
   "outputs": [
    {
     "data": {
      "text/plain": "     status_id taxon_id user_id place_id source_id  \\\n2557    160920  1038976  717122     6829             \n2566    160929  1092444  717122     6829             \n3353    267438  1413424  717122     6829             \n1251    152435    19250  708886     9994     16652   \n2599    161108   323791  717122     6829             \n904     160736   353835  717122     6829             \n1249    152433    38633  708886     9994     16652   \n932     160737   401378  717122     6829             \n959     160741   405825  717122     6829             \n1252    152436    40743  708886     9994     16652   \n1248    152432    41326  708886     9994     16652   \n2588    160758   446738  717122     6829             \n899     160766   699302  717122     6829             \n902     160733   700972  717122     6829             \n1247    152431    73180  708886     9994     16652   \n1250    152434    74425  708886     9994     16652   \n2598    161107   790432  717122     6829             \n2526    160892   859959  717122     6829             \n2586    160759   958863  717122     6829             \n\n                                   authority            status  \\\n2557  Threatened Species Protection Act 1995        Endangered   \n2566  Threatened Species Protection Act 1995        Endangered   \n3353  Threatened Species Protection Act 1995        Endangered   \n1251                               NT NRETAS        endangered   \n2599  Threatened Species Protection Act 1995        Endangered   \n904   Threatened Species Protection Act 1995        Endangered   \n1249                               NT NRETAS        endangered   \n932   Threatened Species Protection Act 1995        Endangered   \n959   Threatened Species Protection Act 1995  Presumed extinct   \n1252                               NT NRETAS        endangered   \n1248                               NT NRETAS        endangered   \n2588  Threatened Species Protection Act 1995        Endangered   \n899   Threatened Species Protection Act 1995        Endangered   \n902   Threatened Species Protection Act 1995           Extinct   \n1247                               NT NRETAS        endangered   \n1250                               NT NRETAS        endangered   \n2598  Threatened Species Protection Act 1995        Endangered   \n2526  Threatened Species Protection Act 1995        Endangered   \n2586  Threatened Species Protection Act 1995        Endangered   \n\n                                                    url description  \\\n2557  https://dpipwe.tas.gov.au/Documents/Pimelea-ax...               \n2566  https://dpipwe.tas.gov.au/Documents/Spyridium-...               \n3353  https://dpipwe.tas.gov.au/Documents/Pneumatopt...               \n1251  https://lists.ala.org.au/speciesListItem/list/...               \n2599  https://dpipwe.tas.gov.au/Documents/Zieria-ver...               \n904   https://dpipwe.tas.gov.au/Documents/Blechnum-n...               \n1249  https://lists.ala.org.au/speciesListItem/list/...               \n932   https://dpipwe.tas.gov.au/Documents/Blechnum%2...               \n959   https://dpipwe.tas.gov.au/Documents/Botrychium...               \n1252  https://lists.ala.org.au/speciesListItem/list/...               \n1248  https://lists.ala.org.au/speciesListItem/list/...               \n2588  https://dpipwe.tas.gov.au/Documents/Corunastyl...               \n899   https://dpipwe.tas.gov.au/Documents/Cyathea-Xm...               \n902   https://dpipwe.tas.gov.au/Documents/Banksia-in...               \n1247  https://lists.ala.org.au/speciesListItem/list/...               \n1250  https://lists.ala.org.au/speciesListItem/list/...               \n2598  https://dpipwe.tas.gov.au/Documents/Wurmbea-la...               \n2526  https://dpipwe.tas.gov.au/Documents/Euphrasia-...               \n2586  https://dpipwe.tas.gov.au/Documents/Corunastyl...               \n\n     geoprivacy  ...         genus specificEpithet infraspecificEpithet  \\\n2557   obscured  ...       Pimelea        axiflora             axiflora   \n2566   obscured  ...     Spyridium    eriocephalum         eriocephalum   \n3353   obscured  ...         Pakau       pennigera                        \n1251   obscured  ...     Polytelis      alexandrae                        \n2599   obscured  ...        Zieria       veronicea            veronicea   \n904    obscured  ...        Doodia          aspera                        \n1249   obscured  ...   Bellatorias           obiri                        \n932    obscured  ...        Doodia         caudata                        \n959    obscured  ...                                                      \n1252   obscured  ...                                                      \n1248   obscured  ...    Macroderma           gigas                        \n2588   obscured  ...   Genoplesium        morrisii                        \n899    obscured  ...       Cyathea      marcescens                        \n902    obscured  ...       Banksia    integrifolia         integrifolia   \n1247    private  ...     Pezoporus    occidentalis                        \n1250   obscured  ...  Hipposideros       inornatus                        \n2598   obscured  ...       Wurmbea       latifolia             vanessae   \n2526   obscured  ...     Euphrasia         collina            tetragona   \n2586             ...   Genoplesium      nudiscapum                        \n\n                  modified                       scientificName   taxonRank  \\\n2557  2020-12-02T04:00:26Z            Pimelea axiflora axiflora  subspecies   \n2566  2021-11-09T06:11:14Z  Spyridium eriocephalum eriocephalum     variety   \n3353  2022-09-25T23:02:37Z                      Pakau pennigera     species   \n1251  2019-08-27T01:09:01Z                 Polytelis alexandrae     species   \n2599  2021-12-03T03:55:21Z           Zieria veronicea veronicea  subspecies   \n904   2021-02-22T18:52:06Z                        Doodia aspera     species   \n1249  2019-04-30T15:19:21Z                    Bellatorias obiri     species   \n932   2021-02-15T17:49:20Z                       Doodia caudata     species   \n959                                        Sceptridium australe               \n1252                                      Hipposideros stenotis               \n1248  2019-08-27T01:58:05Z                     Macroderma gigas     species   \n2588  2020-08-17T06:18:44Z                 Genoplesium morrisii     species   \n899   2022-01-05T00:50:29Z                   Cyathea marcescens     species   \n902   2021-12-03T04:01:03Z    Banksia integrifolia integrifolia  subspecies   \n1247  2019-08-27T01:09:27Z               Pezoporus occidentalis     species   \n1250  2019-01-05T10:25:06Z               Hipposideros inornatus     species   \n2598  2020-08-20T04:12:52Z           Wurmbea latifolia vanessae  subspecies   \n2526  2020-08-19T01:34:50Z          Euphrasia collina tetragona  subspecies   \n2586  2022-10-26T09:34:12Z               Genoplesium nudiscapum     species   \n\n                                             references  \\\n2557                                                      \n2566                                                      \n3353  https://shop.brit.org/A-Generic-Classification...   \n1251  http://www.birdlife.org/datazone/speciesfactsh...   \n2599  http://www.ubio.org/browser/details.php?nameba...   \n904   http://www.ubio.org/browser/details.php?nameba...   \n1249  http://reptile-database.reptarium.cz/search.ph...   \n932                                                       \n959                                                       \n1252                                                      \n1248  http://www.catalogueoflife.org/annual-checklis...   \n2588  http://www.catalogueoflife.org/annual-checklis...   \n899                       http://eol.org/pages/44065177   \n902                        http://eol.org/pages/5514035   \n1247  http://www.birdlife.org/datazone/speciesfactsh...   \n1250        http://www.iucnredlist.org/details/136739/0   \n2598  http://www.catalogueoflife.org/annual-checklis...   \n2526  http://www.plantsoftheworldonline.org/taxon/ur...   \n2586                      https://eol.org/pages/1099120   \n\n           preferred_common_name is_active current_synonymous_taxon_ids  \n2557                                                                     \n2566                                                                     \n3353                                                                     \n1251                                                                     \n2599                                                                     \n904                                                                      \n1249                                                                     \n932                                                                      \n959                 parsley fern     False                     [400050]  \n1252  Narrow-eared Roundleaf Bat     False                    [1431118]  \n1248                                                                     \n2588                                                                     \n899                                                                      \n902                                                                      \n1247                                                                     \n1250                                                                     \n2598                                                                     \n2526                                                                     \n2586                                                                     \n\n[19 rows x 34 columns]",
      "text/html": "<div>\n<style scoped>\n    .dataframe tbody tr th:only-of-type {\n        vertical-align: middle;\n    }\n\n    .dataframe tbody tr th {\n        vertical-align: top;\n    }\n\n    .dataframe thead th {\n        text-align: right;\n    }\n</style>\n<table border=\"1\" class=\"dataframe\">\n  <thead>\n    <tr style=\"text-align: right;\">\n      <th></th>\n      <th>status_id</th>\n      <th>taxon_id</th>\n      <th>user_id</th>\n      <th>place_id</th>\n      <th>source_id</th>\n      <th>authority</th>\n      <th>status</th>\n      <th>url</th>\n      <th>description</th>\n      <th>geoprivacy</th>\n      <th>...</th>\n      <th>genus</th>\n      <th>specificEpithet</th>\n      <th>infraspecificEpithet</th>\n      <th>modified</th>\n      <th>scientificName</th>\n      <th>taxonRank</th>\n      <th>references</th>\n      <th>preferred_common_name</th>\n      <th>is_active</th>\n      <th>current_synonymous_taxon_ids</th>\n    </tr>\n  </thead>\n  <tbody>\n    <tr>\n      <th>2557</th>\n      <td>160920</td>\n      <td>1038976</td>\n      <td>717122</td>\n      <td>6829</td>\n      <td></td>\n      <td>Threatened Species Protection Act 1995</td>\n      <td>Endangered</td>\n      <td>https://dpipwe.tas.gov.au/Documents/Pimelea-ax...</td>\n      <td></td>\n      <td>obscured</td>\n      <td>...</td>\n      <td>Pimelea</td>\n      <td>axiflora</td>\n      <td>axiflora</td>\n      <td>2020-12-02T04:00:26Z</td>\n      <td>Pimelea axiflora axiflora</td>\n      <td>subspecies</td>\n      <td></td>\n      <td></td>\n      <td></td>\n      <td></td>\n    </tr>\n    <tr>\n      <th>2566</th>\n      <td>160929</td>\n      <td>1092444</td>\n      <td>717122</td>\n      <td>6829</td>\n      <td></td>\n      <td>Threatened Species Protection Act 1995</td>\n      <td>Endangered</td>\n      <td>https://dpipwe.tas.gov.au/Documents/Spyridium-...</td>\n      <td></td>\n      <td>obscured</td>\n      <td>...</td>\n      <td>Spyridium</td>\n      <td>eriocephalum</td>\n      <td>eriocephalum</td>\n      <td>2021-11-09T06:11:14Z</td>\n      <td>Spyridium eriocephalum eriocephalum</td>\n      <td>variety</td>\n      <td></td>\n      <td></td>\n      <td></td>\n      <td></td>\n    </tr>\n    <tr>\n      <th>3353</th>\n      <td>267438</td>\n      <td>1413424</td>\n      <td>717122</td>\n      <td>6829</td>\n      <td></td>\n      <td>Threatened Species Protection Act 1995</td>\n      <td>Endangered</td>\n      <td>https://dpipwe.tas.gov.au/Documents/Pneumatopt...</td>\n      <td></td>\n      <td>obscured</td>\n      <td>...</td>\n      <td>Pakau</td>\n      <td>pennigera</td>\n      <td></td>\n      <td>2022-09-25T23:02:37Z</td>\n      <td>Pakau pennigera</td>\n      <td>species</td>\n      <td>https://shop.brit.org/A-Generic-Classification...</td>\n      <td></td>\n      <td></td>\n      <td></td>\n    </tr>\n    <tr>\n      <th>1251</th>\n      <td>152435</td>\n      <td>19250</td>\n      <td>708886</td>\n      <td>9994</td>\n      <td>16652</td>\n      <td>NT NRETAS</td>\n      <td>endangered</td>\n      <td>https://lists.ala.org.au/speciesListItem/list/...</td>\n      <td></td>\n      <td>obscured</td>\n      <td>...</td>\n      <td>Polytelis</td>\n      <td>alexandrae</td>\n      <td></td>\n      <td>2019-08-27T01:09:01Z</td>\n      <td>Polytelis alexandrae</td>\n      <td>species</td>\n      <td>http://www.birdlife.org/datazone/speciesfactsh...</td>\n      <td></td>\n      <td></td>\n      <td></td>\n    </tr>\n    <tr>\n      <th>2599</th>\n      <td>161108</td>\n      <td>323791</td>\n      <td>717122</td>\n      <td>6829</td>\n      <td></td>\n      <td>Threatened Species Protection Act 1995</td>\n      <td>Endangered</td>\n      <td>https://dpipwe.tas.gov.au/Documents/Zieria-ver...</td>\n      <td></td>\n      <td>obscured</td>\n      <td>...</td>\n      <td>Zieria</td>\n      <td>veronicea</td>\n      <td>veronicea</td>\n      <td>2021-12-03T03:55:21Z</td>\n      <td>Zieria veronicea veronicea</td>\n      <td>subspecies</td>\n      <td>http://www.ubio.org/browser/details.php?nameba...</td>\n      <td></td>\n      <td></td>\n      <td></td>\n    </tr>\n    <tr>\n      <th>904</th>\n      <td>160736</td>\n      <td>353835</td>\n      <td>717122</td>\n      <td>6829</td>\n      <td></td>\n      <td>Threatened Species Protection Act 1995</td>\n      <td>Endangered</td>\n      <td>https://dpipwe.tas.gov.au/Documents/Blechnum-n...</td>\n      <td></td>\n      <td>obscured</td>\n      <td>...</td>\n      <td>Doodia</td>\n      <td>aspera</td>\n      <td></td>\n      <td>2021-02-22T18:52:06Z</td>\n      <td>Doodia aspera</td>\n      <td>species</td>\n      <td>http://www.ubio.org/browser/details.php?nameba...</td>\n      <td></td>\n      <td></td>\n      <td></td>\n    </tr>\n    <tr>\n      <th>1249</th>\n      <td>152433</td>\n      <td>38633</td>\n      <td>708886</td>\n      <td>9994</td>\n      <td>16652</td>\n      <td>NT NRETAS</td>\n      <td>endangered</td>\n      <td>https://lists.ala.org.au/speciesListItem/list/...</td>\n      <td></td>\n      <td>obscured</td>\n      <td>...</td>\n      <td>Bellatorias</td>\n      <td>obiri</td>\n      <td></td>\n      <td>2019-04-30T15:19:21Z</td>\n      <td>Bellatorias obiri</td>\n      <td>species</td>\n      <td>http://reptile-database.reptarium.cz/search.ph...</td>\n      <td></td>\n      <td></td>\n      <td></td>\n    </tr>\n    <tr>\n      <th>932</th>\n      <td>160737</td>\n      <td>401378</td>\n      <td>717122</td>\n      <td>6829</td>\n      <td></td>\n      <td>Threatened Species Protection Act 1995</td>\n      <td>Endangered</td>\n      <td>https://dpipwe.tas.gov.au/Documents/Blechnum%2...</td>\n      <td></td>\n      <td>obscured</td>\n      <td>...</td>\n      <td>Doodia</td>\n      <td>caudata</td>\n      <td></td>\n      <td>2021-02-15T17:49:20Z</td>\n      <td>Doodia caudata</td>\n      <td>species</td>\n      <td></td>\n      <td></td>\n      <td></td>\n      <td></td>\n    </tr>\n    <tr>\n      <th>959</th>\n      <td>160741</td>\n      <td>405825</td>\n      <td>717122</td>\n      <td>6829</td>\n      <td></td>\n      <td>Threatened Species Protection Act 1995</td>\n      <td>Presumed extinct</td>\n      <td>https://dpipwe.tas.gov.au/Documents/Botrychium...</td>\n      <td></td>\n      <td>obscured</td>\n      <td>...</td>\n      <td></td>\n      <td></td>\n      <td></td>\n      <td></td>\n      <td>Sceptridium australe</td>\n      <td></td>\n      <td></td>\n      <td>parsley fern</td>\n      <td>False</td>\n      <td>[400050]</td>\n    </tr>\n    <tr>\n      <th>1252</th>\n      <td>152436</td>\n      <td>40743</td>\n      <td>708886</td>\n      <td>9994</td>\n      <td>16652</td>\n      <td>NT NRETAS</td>\n      <td>endangered</td>\n      <td>https://lists.ala.org.au/speciesListItem/list/...</td>\n      <td></td>\n      <td>obscured</td>\n      <td>...</td>\n      <td></td>\n      <td></td>\n      <td></td>\n      <td></td>\n      <td>Hipposideros stenotis</td>\n      <td></td>\n      <td></td>\n      <td>Narrow-eared Roundleaf Bat</td>\n      <td>False</td>\n      <td>[1431118]</td>\n    </tr>\n    <tr>\n      <th>1248</th>\n      <td>152432</td>\n      <td>41326</td>\n      <td>708886</td>\n      <td>9994</td>\n      <td>16652</td>\n      <td>NT NRETAS</td>\n      <td>endangered</td>\n      <td>https://lists.ala.org.au/speciesListItem/list/...</td>\n      <td></td>\n      <td>obscured</td>\n      <td>...</td>\n      <td>Macroderma</td>\n      <td>gigas</td>\n      <td></td>\n      <td>2019-08-27T01:58:05Z</td>\n      <td>Macroderma gigas</td>\n      <td>species</td>\n      <td>http://www.catalogueoflife.org/annual-checklis...</td>\n      <td></td>\n      <td></td>\n      <td></td>\n    </tr>\n    <tr>\n      <th>2588</th>\n      <td>160758</td>\n      <td>446738</td>\n      <td>717122</td>\n      <td>6829</td>\n      <td></td>\n      <td>Threatened Species Protection Act 1995</td>\n      <td>Endangered</td>\n      <td>https://dpipwe.tas.gov.au/Documents/Corunastyl...</td>\n      <td></td>\n      <td>obscured</td>\n      <td>...</td>\n      <td>Genoplesium</td>\n      <td>morrisii</td>\n      <td></td>\n      <td>2020-08-17T06:18:44Z</td>\n      <td>Genoplesium morrisii</td>\n      <td>species</td>\n      <td>http://www.catalogueoflife.org/annual-checklis...</td>\n      <td></td>\n      <td></td>\n      <td></td>\n    </tr>\n    <tr>\n      <th>899</th>\n      <td>160766</td>\n      <td>699302</td>\n      <td>717122</td>\n      <td>6829</td>\n      <td></td>\n      <td>Threatened Species Protection Act 1995</td>\n      <td>Endangered</td>\n      <td>https://dpipwe.tas.gov.au/Documents/Cyathea-Xm...</td>\n      <td></td>\n      <td>obscured</td>\n      <td>...</td>\n      <td>Cyathea</td>\n      <td>marcescens</td>\n      <td></td>\n      <td>2022-01-05T00:50:29Z</td>\n      <td>Cyathea marcescens</td>\n      <td>species</td>\n      <td>http://eol.org/pages/44065177</td>\n      <td></td>\n      <td></td>\n      <td></td>\n    </tr>\n    <tr>\n      <th>902</th>\n      <td>160733</td>\n      <td>700972</td>\n      <td>717122</td>\n      <td>6829</td>\n      <td></td>\n      <td>Threatened Species Protection Act 1995</td>\n      <td>Extinct</td>\n      <td>https://dpipwe.tas.gov.au/Documents/Banksia-in...</td>\n      <td></td>\n      <td>obscured</td>\n      <td>...</td>\n      <td>Banksia</td>\n      <td>integrifolia</td>\n      <td>integrifolia</td>\n      <td>2021-12-03T04:01:03Z</td>\n      <td>Banksia integrifolia integrifolia</td>\n      <td>subspecies</td>\n      <td>http://eol.org/pages/5514035</td>\n      <td></td>\n      <td></td>\n      <td></td>\n    </tr>\n    <tr>\n      <th>1247</th>\n      <td>152431</td>\n      <td>73180</td>\n      <td>708886</td>\n      <td>9994</td>\n      <td>16652</td>\n      <td>NT NRETAS</td>\n      <td>endangered</td>\n      <td>https://lists.ala.org.au/speciesListItem/list/...</td>\n      <td></td>\n      <td>private</td>\n      <td>...</td>\n      <td>Pezoporus</td>\n      <td>occidentalis</td>\n      <td></td>\n      <td>2019-08-27T01:09:27Z</td>\n      <td>Pezoporus occidentalis</td>\n      <td>species</td>\n      <td>http://www.birdlife.org/datazone/speciesfactsh...</td>\n      <td></td>\n      <td></td>\n      <td></td>\n    </tr>\n    <tr>\n      <th>1250</th>\n      <td>152434</td>\n      <td>74425</td>\n      <td>708886</td>\n      <td>9994</td>\n      <td>16652</td>\n      <td>NT NRETAS</td>\n      <td>endangered</td>\n      <td>https://lists.ala.org.au/speciesListItem/list/...</td>\n      <td></td>\n      <td>obscured</td>\n      <td>...</td>\n      <td>Hipposideros</td>\n      <td>inornatus</td>\n      <td></td>\n      <td>2019-01-05T10:25:06Z</td>\n      <td>Hipposideros inornatus</td>\n      <td>species</td>\n      <td>http://www.iucnredlist.org/details/136739/0</td>\n      <td></td>\n      <td></td>\n      <td></td>\n    </tr>\n    <tr>\n      <th>2598</th>\n      <td>161107</td>\n      <td>790432</td>\n      <td>717122</td>\n      <td>6829</td>\n      <td></td>\n      <td>Threatened Species Protection Act 1995</td>\n      <td>Endangered</td>\n      <td>https://dpipwe.tas.gov.au/Documents/Wurmbea-la...</td>\n      <td></td>\n      <td>obscured</td>\n      <td>...</td>\n      <td>Wurmbea</td>\n      <td>latifolia</td>\n      <td>vanessae</td>\n      <td>2020-08-20T04:12:52Z</td>\n      <td>Wurmbea latifolia vanessae</td>\n      <td>subspecies</td>\n      <td>http://www.catalogueoflife.org/annual-checklis...</td>\n      <td></td>\n      <td></td>\n      <td></td>\n    </tr>\n    <tr>\n      <th>2526</th>\n      <td>160892</td>\n      <td>859959</td>\n      <td>717122</td>\n      <td>6829</td>\n      <td></td>\n      <td>Threatened Species Protection Act 1995</td>\n      <td>Endangered</td>\n      <td>https://dpipwe.tas.gov.au/Documents/Euphrasia-...</td>\n      <td></td>\n      <td>obscured</td>\n      <td>...</td>\n      <td>Euphrasia</td>\n      <td>collina</td>\n      <td>tetragona</td>\n      <td>2020-08-19T01:34:50Z</td>\n      <td>Euphrasia collina tetragona</td>\n      <td>subspecies</td>\n      <td>http://www.plantsoftheworldonline.org/taxon/ur...</td>\n      <td></td>\n      <td></td>\n      <td></td>\n    </tr>\n    <tr>\n      <th>2586</th>\n      <td>160759</td>\n      <td>958863</td>\n      <td>717122</td>\n      <td>6829</td>\n      <td></td>\n      <td>Threatened Species Protection Act 1995</td>\n      <td>Endangered</td>\n      <td>https://dpipwe.tas.gov.au/Documents/Corunastyl...</td>\n      <td></td>\n      <td></td>\n      <td>...</td>\n      <td>Genoplesium</td>\n      <td>nudiscapum</td>\n      <td></td>\n      <td>2022-10-26T09:34:12Z</td>\n      <td>Genoplesium nudiscapum</td>\n      <td>species</td>\n      <td>https://eol.org/pages/1099120</td>\n      <td></td>\n      <td></td>\n      <td></td>\n    </tr>\n  </tbody>\n</table>\n<p>19 rows × 34 columns</p>\n</div>"
     },
     "execution_count": 47,
     "metadata": {},
     "output_type": "execute_result"
    }
   ],
   "source": [
    "# inat statuses that aren't in added or updated\n",
    "inatstatuses[~inatstatuses['taxon_id'].isin(updates['taxon_id'])]\n"
   ],
   "metadata": {
    "collapsed": false,
    "pycharm": {
     "name": "#%%\n"
    }
   }
  }
 ],
 "metadata": {
  "kernelspec": {
   "display_name": "Python 3",
   "language": "python",
   "name": "python3"
  },
  "language_info": {
   "codemirror_mode": {
    "name": "ipython",
    "version": 2
   },
   "file_extension": ".py",
   "mimetype": "text/x-python",
   "name": "python",
   "nbconvert_exporter": "python",
   "pygments_lexer": "ipython2",
   "version": "2.7.6"
  }
 },
 "nbformat": 4,
 "nbformat_minor": 0
}