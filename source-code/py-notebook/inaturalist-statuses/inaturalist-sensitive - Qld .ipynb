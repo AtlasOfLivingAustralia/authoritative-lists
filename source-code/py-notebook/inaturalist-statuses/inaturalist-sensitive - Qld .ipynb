{
 "cells": [
  {
   "cell_type": "markdown",
   "source": [
    "# iNaturalist sensitive lists\n",
    "Taxa in iNaturalist have conservation statuses that the ALA is responsible for maintaining. The process for bulk loads is to submit the data to iNaturalist in December/January using provided templates and checklists:\n",
    "\n",
    "https://docs.google.com/spreadsheets/d/1yTwWh4d-lHeaBGCB9m70-HKEMtvrquHsPu3Zrgz9BcE/edit#gid=1531097917\n",
    "\n",
    "Current statuses per iNaturalist taxonID are available in the iNaturalist site export, accessible via an iNaturalist AU site admin and in this repository (inaturalist-australia-9-conservation_statuses.xls)\n",
    "\n",
    "### Suggested approach:\n",
    "\n",
    "To update the statuses (eg for Qld), we need to:\n",
    "1. Find the taxon name for each iNaturalist taxonID in an Australian place. We'll need to match the lists by taxon name.\n",
    "2. We need to find:\n",
    "    * New - those on the Qld list that are not on the iNat list (the list I uploaded before had authority: `QLD DEHP` and my user id is 708886).\n",
    "    * Update - those on the Qld list that need updating (probably most because I feel we should change the authority text and try to link out to the wildnet page for each taxonID)\n",
    "    * Remove - I expect there will be a few of these"
   ],
   "metadata": {
    "collapsed": false,
    "pycharm": {
     "name": "#%% md\n"
    }
   }
  },
  {
   "cell_type": "markdown",
   "source": [],
   "metadata": {
    "collapsed": false,
    "pycharm": {
     "name": "#%% md\n"
    }
   }
  },
  {
   "cell_type": "code",
   "execution_count": 51,
   "outputs": [],
   "source": [
    "import pandas as pd\n",
    "projectdir = \"/Users/oco115/PycharmProjects/authoritative-lists/source-data/inaturalist-statuses/\"\n",
    "listdir = \"/Users/oco115/PycharmProjects/authoritative-lists/current-lists/\"\n",
    "inatcsv = projectdir + \"inaturalist-australia-9-conservation_statuses.csv\"\n",
    "joincsv = projectdir + \"inaturalist-qld-outer-join.csv\"\n",
    "usercsv = projectdir + \"inaturalist-qld-user-708886.csv\"\n",
    "apiurlbase = \"https://api.inaturalist.org/v1/taxa/\"\n"
   ],
   "metadata": {
    "collapsed": false,
    "pycharm": {
     "name": "#%%\n"
    }
   }
  },
  {
   "cell_type": "code",
   "execution_count": null,
   "outputs": [],
   "source": [
    "## Read inaturalist conservation statuses file\n",
    "df = pd.read_csv(inatcsv, encoding='UTF-8')"
   ],
   "metadata": {
    "collapsed": false,
    "pycharm": {
     "name": "#%%\n"
    }
   }
  },
  {
   "cell_type": "markdown",
   "source": [
    "### Extract unique authorities for each state\n",
    " * find unique authorities\n",
    " * manually determine lists for each state"
   ],
   "metadata": {
    "collapsed": false,
    "pycharm": {
     "name": "#%% md\n"
    }
   }
  },
  {
   "cell_type": "code",
   "execution_count": null,
   "outputs": [],
   "source": [
    "authlist = df['authority'].unique().tolist()\n",
    "qldauths = ['QLD DEHP', 'Queensland Government', 'Queensland Nature Conservation Act 1992']\n",
    "# Identified Australian place names\n",
    "filterlistaus = ['Australia', 'Australia Exclusive Economic Zone', 'Australian Capital Territory, AU', 'Brisbane City, Cairns - Pt B, QL, AU', 'Christmas Island', 'New South Wales, AU', 'Norfolk Island', 'Norfolk Island (Phillip Island)', 'Northern Territory, AU', 'Rottnest Island, AU', 'South Australia, AU', 'South Australia, marine waters', 'South East Queensland, QL, AU', 'Tasmania, AU', 'Victoria, AU', 'Western Australia, AU', 'Yarrabah, QL, AU', 'Queensland, AU']\n",
    "filterlistqld = ['Brisbane City, Cairns - Pt B, QL, AU', 'South East Queensland, QL, AU', 'Yarrabah, QL, AU', 'Queensland, AU']"
   ],
   "metadata": {
    "collapsed": false,
    "pycharm": {
     "name": "#%%\n"
    }
   }
  },
  {
   "cell_type": "markdown",
   "source": [
    "### Retrieve all Australian records\n",
    "\n",
    " Records are not consistent in place names/locality so we need to:\n",
    "1. extract records with place_display_name containing 'Australia' or 'AU'\n",
    "2. extract records manually identified with place_display_name in the list of other place names in australia that are present\n",
    "3. Merge the 2 extracts - this will result in duplicates that need to be removed"
   ],
   "metadata": {
    "collapsed": false,
    "pycharm": {
     "name": "#%% md\n"
    }
   }
  },
  {
   "cell_type": "code",
   "execution_count": 8,
   "outputs": [],
   "source": [
    "dfaus = df.apply(lambda row: row[df['place_display_name'].isin(filterlistaus)])  # All Australia\n",
    "dfqld = df.apply(lambda row: row[df['place_display_name'].isin(filterlistqld)])  # Qld only"
   ],
   "metadata": {
    "collapsed": false,
    "pycharm": {
     "name": "#%%\n"
    }
   }
  },
  {
   "cell_type": "markdown",
   "source": [
    "### Extract Qld records for user 70886 (Peggy)"
   ],
   "metadata": {
    "collapsed": false,
    "pycharm": {
     "name": "#%% md\n"
    }
   }
  },
  {
   "cell_type": "code",
   "execution_count": null,
   "outputs": [],
   "source": [
    "checkrecs = dfqld[dfqld['user_id']== 708886] # for output of only those updated by user 708886\n",
    "checkrecs['taxon_id'] = checkrecs['taxon_id'].astype(int)\n",
    "checkrecs['user_id'] = checkrecs['user_id'].astype(int)"
   ],
   "metadata": {
    "collapsed": false,
    "pycharm": {
     "name": "#%%\n"
    }
   }
  },
  {
   "cell_type": "markdown",
   "source": [
    "### Retrieve taxon information and statuses from iNaturalist API"
   ],
   "metadata": {
    "collapsed": false,
    "pycharm": {
     "name": "#%% md\n"
    }
   }
  },
  {
   "cell_type": "code",
   "execution_count": null,
   "outputs": [],
   "source": [
    "rlist = []\n",
    "ct = 0\n",
    "dfextract = pd.DataFrame(columns=['id','taxonid','taxonname', 'taxonstatus', 'authority', 'taxonurl', 'user_id'])"
   ],
   "metadata": {
    "collapsed": false,
    "pycharm": {
     "name": "#%%\n"
    }
   }
  },
  {
   "cell_type": "raw",
   "source": [
    "# Only run this cell if a new extract file is needed. Otherwise read from csv\n",
    "for ind in checkrecs.index:\n",
    "    # print('record count is: ', ct, 'taxonid is: ', taxonid)\n",
    "    print(checkrecs['taxon_id'][ind], checkrecs['authority'][ind])\n",
    "    print('record count is: ', ct, 'taxonid is: ', checkrecs['taxon_id'][ind], 'authority is: ', checkrecs['authority'][ind])\n",
    "    apiurl = apiurlbase + str(checkrecs['taxon_id'][ind])\n",
    "    response = requests.request(\"GET\", apiurl)\n",
    "    rlist.append(json.loads(response.text))\n",
    "    numstatus = len(rlist[ct]['results'][0]['conservation_statuses'])\n",
    "    # taxonpname = rlist[ct]['results'][0]['preferred_common_name'] # This field is not always available\n",
    "    taxonid = checkrecs['taxon_id'][ind]\n",
    "    inatid = checkrecs['id'][ind]\n",
    "    authority = checkrecs['authority'][ind]\n",
    "    userid = checkrecs['user_id'][ind]\n",
    "    taxonname = rlist[ct]['results'][0]['name']\n",
    "    # Loop through results in JSON record an extract conservation statuses\n",
    "    # Note: there are multiple records for each species. We need to select the record that has 'authority' matching authority in the input dataset\n",
    "    # Build final dataframe\n",
    "    for i in range(numstatus):\n",
    "        if rlist[ct]['results'][0]['conservation_statuses'][i]['authority'] == checkrecs['authority'][ind]:\n",
    "            taxonstatus = rlist[ct]['results'][0]['conservation_statuses'][i]['status']\n",
    "            taxonurl = rlist[ct]['results'][0]['conservation_statuses'][i]['url']\n",
    "            taxonlist = [inatid, taxonid, taxonname, taxonstatus, authority, taxonurl,userid]\n",
    "            dfextract.loc[len(dfextract)] = taxonlist\n",
    "            break\n",
    "\n",
    "    ct += 1\n",
    "# Write dataframe to csv for checking and future use\n",
    "dfextract.to_csv(usercsv,index = False,encoding='utf-8-sig')"
   ],
   "metadata": {
    "collapsed": false,
    "pycharm": {
     "name": "#%% raw\n"
    }
   }
  },
  {
   "cell_type": "markdown",
   "source": [
    "### Process Qld\n",
    "* Read extract csv created in previous cell run\n",
    "* Retrieve ALA Qld sensitive species list\n",
    "* Extract Qld records from iNat dataframe based on Qld Locations\n",
    "* Create lists of taxon name for Sensitive List and iNat data, for searching\n",
    "* Create dataframes of records:\n",
    "   * in Qld Sensitive list and in iNat - matchdf\n",
    "   * in Qld Sensitive list but not in iNat -notmatchdf"
   ],
   "metadata": {
    "collapsed": false,
    "pycharm": {
     "name": "#%% md\n"
    }
   }
  },
  {
   "cell_type": "code",
   "execution_count": 47,
   "outputs": [],
   "source": [
    "dfextract = pd.read_csv(usercsv)  # Qld sensitive list\n",
    "qldsensitive = pd.read_csv(listdir + \"sensitive-lists/QLD-sensitive.csv\")  # Qld sensitive list\n",
    "# qldinat = dfextract[dfextract['authority'].isin(qldauths)] # not all qld authority in list???"
   ],
   "metadata": {
    "collapsed": false,
    "pycharm": {
     "name": "#%%\n"
    }
   }
  },
  {
   "cell_type": "code",
   "execution_count": 39,
   "outputs": [],
   "source": [
    "# Test code checking for matches and non-matches Not required but was used earlier\n",
    "# taxsearch1 = dfextract['taxonname'].tolist()  #iNat taxon\n",
    "# taxsearch2 = qldsensitive['scientificName'].tolist() # Qld sensitive List taxon\n",
    "# matchdf = dfextract[dfextract['taxonname'].isin(taxsearch2)]     # in Qld sensitive list and in iNat\n",
    "# nomatchdf = qldsensitive[~qldsensitive['scientificName'].isin(taxsearch1)]  # in Qld Sensitive list but not on iNat"
   ],
   "metadata": {
    "collapsed": false,
    "pycharm": {
     "name": "#%%\n"
    }
   }
  },
  {
   "cell_type": "markdown",
   "source": [
    "### Merge sensitive list and iNat dataframes to include all columns from both\n",
    "* Take the matched rows and compare with status in sensitive list\n",
    "* Merge List and iNat data frames with matching rows based on taxon"
   ],
   "metadata": {
    "collapsed": false,
    "pycharm": {
     "name": "#%% md\n"
    }
   }
  },
  {
   "cell_type": "code",
   "execution_count": 49,
   "outputs": [
    {
     "data": {
      "text/plain": "           id   taxonid                    taxonname taxonstatus authority  \\\n0    152478.0   83578.0         Dendrobium kingianum          LC  QLD DEHP   \n1    152527.0  370122.0            Liparis nugentiae          LC  QLD DEHP   \n2    152549.0  369261.0          Calanthe triplicata          LC  QLD DEHP   \n3    152563.0   83579.0           Dendrobium aemulum          LC  QLD DEHP   \n4    167753.0  898148.0  Phlegmariurus verticillatus  endangered  QLD DEHP   \n..        ...       ...                          ...         ...       ...   \n991       NaN       NaN                          NaN         NaN       NaN   \n992       NaN       NaN                          NaN         NaN       NaN   \n993       NaN       NaN                          NaN         NaN       NaN   \n994       NaN       NaN                          NaN         NaN       NaN   \n995       NaN       NaN                          NaN         NaN       NaN   \n\n                                              taxonurl   user_id  taxonID  \\\n0    https://data.qld.gov.au/dataset/conservation-s...  708886.0  22382.0   \n1    https://data.qld.gov.au/dataset/conservation-s...  708886.0  12772.0   \n2    https://data.qld.gov.au/dataset/conservation-s...  708886.0  14760.0   \n3    https://data.qld.gov.au/dataset/conservation-s...  708886.0  13280.0   \n4    https://data.qld.gov.au/dataset/conservation-s...  708886.0      NaN   \n..                                                 ...       ...      ...   \n991                                                NaN       NaN  41354.0   \n992                                                NaN       NaN   9553.0   \n993                                                NaN       NaN  11646.0   \n994                                                NaN       NaN  11699.0   \n995                                                NaN       NaN   8185.0   \n\n     kingdom          class            family             scientificName  \\\n0    Plantae  Equisetopsida       Orchidaceae       Dendrobium kingianum   \n1    Plantae  Equisetopsida       Orchidaceae          Liparis nugentiae   \n2    Plantae  Equisetopsida       Orchidaceae        Calanthe triplicata   \n3    Plantae  Equisetopsida       Orchidaceae         Dendrobium aemulum   \n4        NaN            NaN               NaN                        NaN   \n..       ...            ...               ...                        ...   \n991  Plantae  Equisetopsida  Thelypteridaceae     Amblovenatum tildeniae   \n992  Plantae  Equisetopsida  Thelypteridaceae          Chingia australis   \n993  Plantae  Equisetopsida  Thelypteridaceae  Plesioneuron tuberculatum   \n994  Plantae  Equisetopsida  Thelypteridaceae     Pneumatopteris costata   \n995  Plantae  Equisetopsida        Proteaceae         Macadamia jansenii   \n\n       vernacularName           scientificNameAuthorship sourceStatus  \\\n0                 NaN                  Bidwill ex Lindl.           SL   \n1                 NaN                         F.M.Bailey            C   \n2    christmas orchid                    (Willemet) Ames           SL   \n3     ironbark orchid                              R.Br.           SL   \n4                 NaN                                NaN          NaN   \n..                ...                                ...          ...   \n991               NaN  (Holttum) T.E.Almeida & A.R.Field           CR   \n992               NaN                            Holttum            E   \n993               NaN                     (Ces.) Holttum            E   \n994               NaN                   (Brack.) Holttum           NT   \n995               NaN             C.L.Gross & P.H.Weston           CR   \n\n    Significant                 status                Endemicity EPBC Status  \n0             Y  Special least concern        Queensland Endemic         NaN  \n1             N          Least concern        Queensland Endemic         NaN  \n2             Y  Special least concern  Not Endemic to Australia         NaN  \n3             Y  Special least concern             Intranational         NaN  \n4           NaN                    NaN                       NaN         NaN  \n..          ...                    ...                       ...         ...  \n991           Y  Critically Endangered        Queensland Endemic         NaN  \n992           Y             Endangered        Queensland Endemic  Endangered  \n993           Y             Endangered          Regional Endemic  Endangered  \n994           Y        Near Threatened          Regional Endemic         NaN  \n995           Y  Critically Endangered        Queensland Endemic  Endangered  \n\n[996 rows x 19 columns]",
      "text/html": "<div>\n<style scoped>\n    .dataframe tbody tr th:only-of-type {\n        vertical-align: middle;\n    }\n\n    .dataframe tbody tr th {\n        vertical-align: top;\n    }\n\n    .dataframe thead th {\n        text-align: right;\n    }\n</style>\n<table border=\"1\" class=\"dataframe\">\n  <thead>\n    <tr style=\"text-align: right;\">\n      <th></th>\n      <th>id</th>\n      <th>taxonid</th>\n      <th>taxonname</th>\n      <th>taxonstatus</th>\n      <th>authority</th>\n      <th>taxonurl</th>\n      <th>user_id</th>\n      <th>taxonID</th>\n      <th>kingdom</th>\n      <th>class</th>\n      <th>family</th>\n      <th>scientificName</th>\n      <th>vernacularName</th>\n      <th>scientificNameAuthorship</th>\n      <th>sourceStatus</th>\n      <th>Significant</th>\n      <th>status</th>\n      <th>Endemicity</th>\n      <th>EPBC Status</th>\n    </tr>\n  </thead>\n  <tbody>\n    <tr>\n      <th>0</th>\n      <td>152478.0</td>\n      <td>83578.0</td>\n      <td>Dendrobium kingianum</td>\n      <td>LC</td>\n      <td>QLD DEHP</td>\n      <td>https://data.qld.gov.au/dataset/conservation-s...</td>\n      <td>708886.0</td>\n      <td>22382.0</td>\n      <td>Plantae</td>\n      <td>Equisetopsida</td>\n      <td>Orchidaceae</td>\n      <td>Dendrobium kingianum</td>\n      <td>NaN</td>\n      <td>Bidwill ex Lindl.</td>\n      <td>SL</td>\n      <td>Y</td>\n      <td>Special least concern</td>\n      <td>Queensland Endemic</td>\n      <td>NaN</td>\n    </tr>\n    <tr>\n      <th>1</th>\n      <td>152527.0</td>\n      <td>370122.0</td>\n      <td>Liparis nugentiae</td>\n      <td>LC</td>\n      <td>QLD DEHP</td>\n      <td>https://data.qld.gov.au/dataset/conservation-s...</td>\n      <td>708886.0</td>\n      <td>12772.0</td>\n      <td>Plantae</td>\n      <td>Equisetopsida</td>\n      <td>Orchidaceae</td>\n      <td>Liparis nugentiae</td>\n      <td>NaN</td>\n      <td>F.M.Bailey</td>\n      <td>C</td>\n      <td>N</td>\n      <td>Least concern</td>\n      <td>Queensland Endemic</td>\n      <td>NaN</td>\n    </tr>\n    <tr>\n      <th>2</th>\n      <td>152549.0</td>\n      <td>369261.0</td>\n      <td>Calanthe triplicata</td>\n      <td>LC</td>\n      <td>QLD DEHP</td>\n      <td>https://data.qld.gov.au/dataset/conservation-s...</td>\n      <td>708886.0</td>\n      <td>14760.0</td>\n      <td>Plantae</td>\n      <td>Equisetopsida</td>\n      <td>Orchidaceae</td>\n      <td>Calanthe triplicata</td>\n      <td>christmas orchid</td>\n      <td>(Willemet) Ames</td>\n      <td>SL</td>\n      <td>Y</td>\n      <td>Special least concern</td>\n      <td>Not Endemic to Australia</td>\n      <td>NaN</td>\n    </tr>\n    <tr>\n      <th>3</th>\n      <td>152563.0</td>\n      <td>83579.0</td>\n      <td>Dendrobium aemulum</td>\n      <td>LC</td>\n      <td>QLD DEHP</td>\n      <td>https://data.qld.gov.au/dataset/conservation-s...</td>\n      <td>708886.0</td>\n      <td>13280.0</td>\n      <td>Plantae</td>\n      <td>Equisetopsida</td>\n      <td>Orchidaceae</td>\n      <td>Dendrobium aemulum</td>\n      <td>ironbark orchid</td>\n      <td>R.Br.</td>\n      <td>SL</td>\n      <td>Y</td>\n      <td>Special least concern</td>\n      <td>Intranational</td>\n      <td>NaN</td>\n    </tr>\n    <tr>\n      <th>4</th>\n      <td>167753.0</td>\n      <td>898148.0</td>\n      <td>Phlegmariurus verticillatus</td>\n      <td>endangered</td>\n      <td>QLD DEHP</td>\n      <td>https://data.qld.gov.au/dataset/conservation-s...</td>\n      <td>708886.0</td>\n      <td>NaN</td>\n      <td>NaN</td>\n      <td>NaN</td>\n      <td>NaN</td>\n      <td>NaN</td>\n      <td>NaN</td>\n      <td>NaN</td>\n      <td>NaN</td>\n      <td>NaN</td>\n      <td>NaN</td>\n      <td>NaN</td>\n      <td>NaN</td>\n    </tr>\n    <tr>\n      <th>...</th>\n      <td>...</td>\n      <td>...</td>\n      <td>...</td>\n      <td>...</td>\n      <td>...</td>\n      <td>...</td>\n      <td>...</td>\n      <td>...</td>\n      <td>...</td>\n      <td>...</td>\n      <td>...</td>\n      <td>...</td>\n      <td>...</td>\n      <td>...</td>\n      <td>...</td>\n      <td>...</td>\n      <td>...</td>\n      <td>...</td>\n      <td>...</td>\n    </tr>\n    <tr>\n      <th>991</th>\n      <td>NaN</td>\n      <td>NaN</td>\n      <td>NaN</td>\n      <td>NaN</td>\n      <td>NaN</td>\n      <td>NaN</td>\n      <td>NaN</td>\n      <td>41354.0</td>\n      <td>Plantae</td>\n      <td>Equisetopsida</td>\n      <td>Thelypteridaceae</td>\n      <td>Amblovenatum tildeniae</td>\n      <td>NaN</td>\n      <td>(Holttum) T.E.Almeida &amp; A.R.Field</td>\n      <td>CR</td>\n      <td>Y</td>\n      <td>Critically Endangered</td>\n      <td>Queensland Endemic</td>\n      <td>NaN</td>\n    </tr>\n    <tr>\n      <th>992</th>\n      <td>NaN</td>\n      <td>NaN</td>\n      <td>NaN</td>\n      <td>NaN</td>\n      <td>NaN</td>\n      <td>NaN</td>\n      <td>NaN</td>\n      <td>9553.0</td>\n      <td>Plantae</td>\n      <td>Equisetopsida</td>\n      <td>Thelypteridaceae</td>\n      <td>Chingia australis</td>\n      <td>NaN</td>\n      <td>Holttum</td>\n      <td>E</td>\n      <td>Y</td>\n      <td>Endangered</td>\n      <td>Queensland Endemic</td>\n      <td>Endangered</td>\n    </tr>\n    <tr>\n      <th>993</th>\n      <td>NaN</td>\n      <td>NaN</td>\n      <td>NaN</td>\n      <td>NaN</td>\n      <td>NaN</td>\n      <td>NaN</td>\n      <td>NaN</td>\n      <td>11646.0</td>\n      <td>Plantae</td>\n      <td>Equisetopsida</td>\n      <td>Thelypteridaceae</td>\n      <td>Plesioneuron tuberculatum</td>\n      <td>NaN</td>\n      <td>(Ces.) Holttum</td>\n      <td>E</td>\n      <td>Y</td>\n      <td>Endangered</td>\n      <td>Regional Endemic</td>\n      <td>Endangered</td>\n    </tr>\n    <tr>\n      <th>994</th>\n      <td>NaN</td>\n      <td>NaN</td>\n      <td>NaN</td>\n      <td>NaN</td>\n      <td>NaN</td>\n      <td>NaN</td>\n      <td>NaN</td>\n      <td>11699.0</td>\n      <td>Plantae</td>\n      <td>Equisetopsida</td>\n      <td>Thelypteridaceae</td>\n      <td>Pneumatopteris costata</td>\n      <td>NaN</td>\n      <td>(Brack.) Holttum</td>\n      <td>NT</td>\n      <td>Y</td>\n      <td>Near Threatened</td>\n      <td>Regional Endemic</td>\n      <td>NaN</td>\n    </tr>\n    <tr>\n      <th>995</th>\n      <td>NaN</td>\n      <td>NaN</td>\n      <td>NaN</td>\n      <td>NaN</td>\n      <td>NaN</td>\n      <td>NaN</td>\n      <td>NaN</td>\n      <td>8185.0</td>\n      <td>Plantae</td>\n      <td>Equisetopsida</td>\n      <td>Proteaceae</td>\n      <td>Macadamia jansenii</td>\n      <td>NaN</td>\n      <td>C.L.Gross &amp; P.H.Weston</td>\n      <td>CR</td>\n      <td>Y</td>\n      <td>Critically Endangered</td>\n      <td>Queensland Endemic</td>\n      <td>Endangered</td>\n    </tr>\n  </tbody>\n</table>\n<p>996 rows × 19 columns</p>\n</div>"
     },
     "execution_count": 49,
     "metadata": {},
     "output_type": "execute_result"
    }
   ],
   "source": [
    "# taxmatch = qldinat1.merge(qldsensitive, how = 'inner', on = ['scientificName'])\n",
    "taxouter =  dfextract.merge(qldsensitive, how = 'outer', left_on = 'taxonname', right_on='scientificName')\n",
    "# taxouter =  dfextract.merge(qldsensitive, how = 'outer', indicator = True, left_on = 'taxonname', right_on='scientificName')\n",
    "# taxouter"
   ],
   "metadata": {
    "collapsed": false,
    "pycharm": {
     "name": "#%%\n"
    }
   }
  },
  {
   "cell_type": "code",
   "execution_count": 52,
   "outputs": [],
   "source": [
    "taxouter.to_csv(joincsv, index = False,encoding='utf-8-sig')"
   ],
   "metadata": {
    "collapsed": false,
    "pycharm": {
     "name": "#%%\n"
    }
   }
  },
  {
   "cell_type": "markdown",
   "source": [],
   "metadata": {
    "collapsed": false,
    "pycharm": {
     "name": "#%% md\n"
    }
   }
  },
  {
   "cell_type": "code",
   "execution_count": null,
   "outputs": [],
   "source": [
    "# taxlistfound = taxmatch['scientificName'].tolist()  # iNat taxon\n",
    "# taxlistfound = dfextract['scientificName'].tolist()  # iNat taxon from whole dataset\n",
    "# taxonnew = qldsensitive[~qldsensitive['scientificName'].isin(taxlistfound)]\n",
    "# taxonnew.to_csv(newtaxoncsv,index = False,encoding='utf-8-sig')\n"
   ],
   "metadata": {
    "collapsed": false,
    "pycharm": {
     "name": "#%%\n"
    }
   }
  },
  {
   "cell_type": "code",
   "execution_count": null,
   "outputs": [],
   "source": [
    "# taxonnew.to_csv(newtaxoncsv,index = False,encoding='utf-8-sig')"
   ],
   "metadata": {
    "collapsed": false,
    "pycharm": {
     "name": "#%%\n"
    }
   }
  },
  {
   "cell_type": "markdown",
   "source": [
    "### Build iNaturalist Templates - placeholder for now\n",
    "Based on templates found at: https://docs.google.com/spreadsheets/d/1yTwWh4d-lHeaBGCB9m70-HKEMtvrquHsPu3Zrgz9BcE/edit#gid=1531097917\n"
   ],
   "metadata": {
    "collapsed": false,
    "pycharm": {
     "name": "#%% md\n"
    }
   }
  },
  {
   "cell_type": "code",
   "execution_count": null,
   "outputs": [],
   "source": [],
   "metadata": {
    "collapsed": false,
    "pycharm": {
     "name": "#%%\n"
    }
   }
  },
  {
   "cell_type": "code",
   "execution_count": 28,
   "outputs": [
    {
     "data": {
      "text/plain": "     taxonID   kingdom          class            family  \\\n1       1376  Animalia           Aves       Estrildidae   \n2       1378  Animalia           Aves       Estrildidae   \n3       1370  Animalia           Aves       Estrildidae   \n4       1365  Animalia           Aves       Estrildidae   \n5       1355  Animalia           Aves       Estrildidae   \n..       ...       ...            ...               ...   \n947    41354   Plantae  Equisetopsida  Thelypteridaceae   \n948     9553   Plantae  Equisetopsida  Thelypteridaceae   \n949    11646   Plantae  Equisetopsida  Thelypteridaceae   \n950    11699   Plantae  Equisetopsida  Thelypteridaceae   \n953     8185   Plantae  Equisetopsida        Proteaceae   \n\n                   scientificName  \\\n1               Chloebia gouldiae   \n2              Erythrura trichroa   \n3    Neochmia phaeton evangelinae   \n4          Poephila cincta cincta   \n5           Stagonopleura guttata   \n..                            ...   \n947        Amblovenatum tildeniae   \n948             Chingia australis   \n949     Plesioneuron tuberculatum   \n950        Pneumatopteris costata   \n953            Macadamia jansenii   \n\n                                     vernacularName  \\\n1                                    Gouldian finch   \n2                           blue-faced parrot-finch   \n3          crimson finch (white-bellied subspecies)   \n4    black-throated finch (white-rumped subspecies)   \n5                                  diamond firetail   \n..                                              ...   \n947                                             NaN   \n948                                             NaN   \n949                                             NaN   \n950                                             NaN   \n953                                             NaN   \n\n              scientificNameAuthorship sourceStatus Significant  \\\n1                        (Gould, 1844)            E           Y   \n2                     (Kittlitz, 1835)           NT           Y   \n3          (Hombron & Jacquinot, 1841)            E           Y   \n4                          Gould, 1837            E           Y   \n5                         (Shaw, 1796)            V           Y   \n..                                 ...          ...         ...   \n947  (Holttum) T.E.Almeida & A.R.Field           CR           Y   \n948                            Holttum            E           Y   \n949                     (Ces.) Holttum            E           Y   \n950                   (Brack.) Holttum           NT           Y   \n953             C.L.Gross & P.H.Weston           CR           Y   \n\n                    status                Endemicity EPBC Status  \n1               Endangered             Intranational  Endangered  \n2          Near Threatened  Not Endemic to Australia         NaN  \n3               Endangered          Regional Endemic  Endangered  \n4               Endangered             Intranational  Endangered  \n5               Vulnerable             Intranational         NaN  \n..                     ...                       ...         ...  \n947  Critically Endangered        Queensland Endemic         NaN  \n948             Endangered        Queensland Endemic  Endangered  \n949             Endangered          Regional Endemic  Endangered  \n950        Near Threatened          Regional Endemic         NaN  \n953  Critically Endangered        Queensland Endemic  Endangered  \n\n[612 rows x 12 columns]",
      "text/html": "<div>\n<style scoped>\n    .dataframe tbody tr th:only-of-type {\n        vertical-align: middle;\n    }\n\n    .dataframe tbody tr th {\n        vertical-align: top;\n    }\n\n    .dataframe thead th {\n        text-align: right;\n    }\n</style>\n<table border=\"1\" class=\"dataframe\">\n  <thead>\n    <tr style=\"text-align: right;\">\n      <th></th>\n      <th>taxonID</th>\n      <th>kingdom</th>\n      <th>class</th>\n      <th>family</th>\n      <th>scientificName</th>\n      <th>vernacularName</th>\n      <th>scientificNameAuthorship</th>\n      <th>sourceStatus</th>\n      <th>Significant</th>\n      <th>status</th>\n      <th>Endemicity</th>\n      <th>EPBC Status</th>\n    </tr>\n  </thead>\n  <tbody>\n    <tr>\n      <th>1</th>\n      <td>1376</td>\n      <td>Animalia</td>\n      <td>Aves</td>\n      <td>Estrildidae</td>\n      <td>Chloebia gouldiae</td>\n      <td>Gouldian finch</td>\n      <td>(Gould, 1844)</td>\n      <td>E</td>\n      <td>Y</td>\n      <td>Endangered</td>\n      <td>Intranational</td>\n      <td>Endangered</td>\n    </tr>\n    <tr>\n      <th>2</th>\n      <td>1378</td>\n      <td>Animalia</td>\n      <td>Aves</td>\n      <td>Estrildidae</td>\n      <td>Erythrura trichroa</td>\n      <td>blue-faced parrot-finch</td>\n      <td>(Kittlitz, 1835)</td>\n      <td>NT</td>\n      <td>Y</td>\n      <td>Near Threatened</td>\n      <td>Not Endemic to Australia</td>\n      <td>NaN</td>\n    </tr>\n    <tr>\n      <th>3</th>\n      <td>1370</td>\n      <td>Animalia</td>\n      <td>Aves</td>\n      <td>Estrildidae</td>\n      <td>Neochmia phaeton evangelinae</td>\n      <td>crimson finch (white-bellied subspecies)</td>\n      <td>(Hombron &amp; Jacquinot, 1841)</td>\n      <td>E</td>\n      <td>Y</td>\n      <td>Endangered</td>\n      <td>Regional Endemic</td>\n      <td>Endangered</td>\n    </tr>\n    <tr>\n      <th>4</th>\n      <td>1365</td>\n      <td>Animalia</td>\n      <td>Aves</td>\n      <td>Estrildidae</td>\n      <td>Poephila cincta cincta</td>\n      <td>black-throated finch (white-rumped subspecies)</td>\n      <td>Gould, 1837</td>\n      <td>E</td>\n      <td>Y</td>\n      <td>Endangered</td>\n      <td>Intranational</td>\n      <td>Endangered</td>\n    </tr>\n    <tr>\n      <th>5</th>\n      <td>1355</td>\n      <td>Animalia</td>\n      <td>Aves</td>\n      <td>Estrildidae</td>\n      <td>Stagonopleura guttata</td>\n      <td>diamond firetail</td>\n      <td>(Shaw, 1796)</td>\n      <td>V</td>\n      <td>Y</td>\n      <td>Vulnerable</td>\n      <td>Intranational</td>\n      <td>NaN</td>\n    </tr>\n    <tr>\n      <th>...</th>\n      <td>...</td>\n      <td>...</td>\n      <td>...</td>\n      <td>...</td>\n      <td>...</td>\n      <td>...</td>\n      <td>...</td>\n      <td>...</td>\n      <td>...</td>\n      <td>...</td>\n      <td>...</td>\n      <td>...</td>\n    </tr>\n    <tr>\n      <th>947</th>\n      <td>41354</td>\n      <td>Plantae</td>\n      <td>Equisetopsida</td>\n      <td>Thelypteridaceae</td>\n      <td>Amblovenatum tildeniae</td>\n      <td>NaN</td>\n      <td>(Holttum) T.E.Almeida &amp; A.R.Field</td>\n      <td>CR</td>\n      <td>Y</td>\n      <td>Critically Endangered</td>\n      <td>Queensland Endemic</td>\n      <td>NaN</td>\n    </tr>\n    <tr>\n      <th>948</th>\n      <td>9553</td>\n      <td>Plantae</td>\n      <td>Equisetopsida</td>\n      <td>Thelypteridaceae</td>\n      <td>Chingia australis</td>\n      <td>NaN</td>\n      <td>Holttum</td>\n      <td>E</td>\n      <td>Y</td>\n      <td>Endangered</td>\n      <td>Queensland Endemic</td>\n      <td>Endangered</td>\n    </tr>\n    <tr>\n      <th>949</th>\n      <td>11646</td>\n      <td>Plantae</td>\n      <td>Equisetopsida</td>\n      <td>Thelypteridaceae</td>\n      <td>Plesioneuron tuberculatum</td>\n      <td>NaN</td>\n      <td>(Ces.) Holttum</td>\n      <td>E</td>\n      <td>Y</td>\n      <td>Endangered</td>\n      <td>Regional Endemic</td>\n      <td>Endangered</td>\n    </tr>\n    <tr>\n      <th>950</th>\n      <td>11699</td>\n      <td>Plantae</td>\n      <td>Equisetopsida</td>\n      <td>Thelypteridaceae</td>\n      <td>Pneumatopteris costata</td>\n      <td>NaN</td>\n      <td>(Brack.) Holttum</td>\n      <td>NT</td>\n      <td>Y</td>\n      <td>Near Threatened</td>\n      <td>Regional Endemic</td>\n      <td>NaN</td>\n    </tr>\n    <tr>\n      <th>953</th>\n      <td>8185</td>\n      <td>Plantae</td>\n      <td>Equisetopsida</td>\n      <td>Proteaceae</td>\n      <td>Macadamia jansenii</td>\n      <td>NaN</td>\n      <td>C.L.Gross &amp; P.H.Weston</td>\n      <td>CR</td>\n      <td>Y</td>\n      <td>Critically Endangered</td>\n      <td>Queensland Endemic</td>\n      <td>Endangered</td>\n    </tr>\n  </tbody>\n</table>\n<p>612 rows × 12 columns</p>\n</div>"
     },
     "execution_count": 28,
     "metadata": {},
     "output_type": "execute_result"
    }
   ],
   "source": [
    "newtemplate = pd.DataFrame(columns=['Taxon Name','Status','Authority','IUCN equivalent','Description',\n",
    "                                    'iNaturalist Place ID','url','Taxon Geoprivacy','Username','taxon_id'])\n",
    "# newtemplate['Taxon Name'] = taxonnew['scientificName']\n",
    "# newtemplate['Status'] = taxonnew['scientificName']\n",
    "# newtemplate['Authority'] = taxonnew['scientificName']\n",
    "# newtemplate['IUCN equivalent'] = taxonnew['scientificName']\n",
    "# newtemplate['Description'] = taxonnew['scientificName']\n",
    "# newtemplate['iNaturalist Place ID'] = taxonnew['scientificName']\n",
    "# newtemplate['url'] = taxonnew['scientificName']\n",
    "# newtemplate['Taxon Geoprivacy'] = taxonnew['scientificName']\n",
    "# newtemplate['Username'] = taxonnew['scientificName']\n",
    "# newtemplate['taxon_id'] = taxonnew['scientificName']"
   ],
   "metadata": {
    "collapsed": false,
    "pycharm": {
     "name": "#%%\n"
    }
   }
  },
  {
   "cell_type": "markdown",
   "source": [
    "### Records for Update- needs\n",
    "* Set status to standard terms\n",
    "* Compare status for sensitive vs iNat\n",
    "* Write Update template if update required"
   ],
   "metadata": {
    "collapsed": false,
    "pycharm": {
     "name": "#%% md\n"
    }
   }
  },
  {
   "cell_type": "code",
   "execution_count": null,
   "outputs": [],
   "source": [
    "updatetemplate = pd.DataFrame(columns=['action', 'taxon_name', 'taxon_id', 'status', 'iucn equivalent',\n",
    "                                    'authority','url', 'geoprivacy', 'place_id', 'username'])\n"
   ],
   "metadata": {
    "collapsed": false,
    "pycharm": {
     "name": "#%%\n"
    }
   }
  }
 ],
 "metadata": {
  "kernelspec": {
   "display_name": "Python 3",
   "language": "python",
   "name": "python3"
  },
  "language_info": {
   "codemirror_mode": {
    "name": "ipython",
    "version": 2
   },
   "file_extension": ".py",
   "mimetype": "text/x-python",
   "name": "python",
   "nbconvert_exporter": "python",
   "pygments_lexer": "ipython2",
   "version": "2.7.6"
  }
 },
 "nbformat": 4,
 "nbformat_minor": 0
}