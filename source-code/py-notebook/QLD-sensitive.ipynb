{
 "cells": [
  {
   "cell_type": "markdown",
   "metadata": {
    "collapsed": true,
    "pycharm": {
     "name": "#%% md\n"
    }
   },
   "source": [
    "# Update QLD Conservation and Sensitive Lists\n",
    "\n",
    "### Sources\n",
    "Queensland Nature Conservation Act 1992\n",
    "\n",
    "**Conservation**\n",
    "[Metadata - Qld Species (Open Data Portal)](https://www.data.qld.gov.au/dataset/conservation-status-of-queensland-wildlife)\n",
    "[Data](https://apps.des.qld.gov.au/data-sets/wildlife/wildnet/species.csv)\n",
    "\n",
    "**Sensitive**\n",
    "[Metadata - Queensland Confidential Species (Open Data Portal)](https://www.data.qld.gov.au/dataset/queensland-confidential-species)\n",
    "[Data](https://apps.des.qld.gov.au/data-sets/wildlife/wildnet/qld-confidential-species.csv)\n",
    "\n",
    "**Codes**\n",
    "[Metadata - Qld Species codes](https://www.data.qld.gov.au/dataset/conservation-status-of-queensland-wildlife/resource/6344ea93-cadf-4e0c-9ff4-12dfb18d5f14)\n",
    "[Data](https://apps.des.qld.gov.au/data-sets/wildlife/wildnet/species-status-codes.csv)"
   ]
  },
  {
   "cell_type": "code",
   "execution_count": null,
   "outputs": [],
   "source": [
    "# import essential libraries\n",
    "import pandas as pd\n",
    "# import numpy as np\n",
    "import requests\n",
    "import io\n",
    "from ftfy import fix_encoding\n",
    "\n",
    "# top level directory\n",
    "projectdir = \"/Users/oco115/PycharmProjects/authoritative-lists/\"\n",
    "# projectdir = \"/Users/new330/IdeaProjects/authoritative-lists/\""
   ],
   "metadata": {
    "collapsed": false,
    "pycharm": {
     "name": "#%%\n"
    }
   }
  },
  {
   "cell_type": "markdown",
   "source": [
    "## Sensitive List"
   ],
   "metadata": {
    "collapsed": false,
    "pycharm": {
     "name": "#%% md\n"
    }
   }
  },
  {
   "cell_type": "code",
   "execution_count": null,
   "outputs": [],
   "source": [
    "#Species List and Species codes URLS\n",
    "listurl = \"https://apps.des.qld.gov.au/data-sets/wildlife/wildnet/qld-confidential-species.csv\"\n",
    "codesurl =  \"https://apps.des.qld.gov.au/data-sets/wildlife/wildnet/species-status-codes.csv\""
   ],
   "metadata": {
    "collapsed": false,
    "pycharm": {
     "name": "#%%\n"
    }
   }
  },
  {
   "cell_type": "code",
   "execution_count": null,
   "outputs": [],
   "source": [
    "print(\"Downloading Qld Species Status Codes\")\n",
    "response = requests.get(codesurl)\n",
    "# Remove bad encoding\n",
    "rtext = fix_encoding(response.text)\n",
    "speciescodes = pd.read_csv(io.StringIO(rtext))"
   ],
   "metadata": {
    "collapsed": false,
    "pycharm": {
     "name": "#%%\n"
    }
   }
  },
  {
   "cell_type": "markdown",
   "source": [
    "Firstly, some minimal changes to some Qld Nature Conservation Act codes so that they are consistent with other states"
   ],
   "metadata": {
    "collapsed": false,
    "pycharm": {
     "name": "#%% md\n"
    }
   }
  },
  {
   "cell_type": "code",
   "execution_count": null,
   "outputs": [],
   "source": [
    "ncastatuscodes = speciescodes[speciescodes['Field'] == \"NCA_status\"][['Code', 'Code_description']]\n",
    "ncastatuscodes['Code_description'] = ncastatuscodes['Code_description'].str.replace(\" wildlife\", \"\")\n",
    "ncastatuscodes.loc[\n",
    "ncastatuscodes['Code_description'] == \"Critically endangered\", 'Code_description'] = \"Critically Endangered\"\n",
    "ncastatuscodes.loc[ncastatuscodes['Code_description'] == \"Near threatened\", 'Code_description'] = \"Near Threatened\"\n",
    "endemicitycodes = speciescodes[speciescodes['Field'] == \"Endemicity\"][['Code', 'Code_description']]\n",
    "# ebpc codes\n",
    "epbccodes = speciescodes[speciescodes['Field'] == \"EPBC_status\"][['Code', 'Code_description']]"
   ],
   "metadata": {
    "collapsed": false,
    "pycharm": {
     "name": "#%%\n"
    }
   }
  },
  {
   "cell_type": "code",
   "execution_count": null,
   "outputs": [],
   "source": [
    "print(\"Downloading Qld Sensitive List\")\n",
    "response = requests.get(listurl)\n",
    "# Remove bad encoding\n",
    "rtext = fix_encoding(response.text)\n",
    "confidentiallist = pd.read_csv(io.StringIO(rtext))\n",
    "confidentiallist"
   ],
   "metadata": {
    "collapsed": false,
    "pycharm": {
     "name": "#%%\n"
    }
   }
  },
  {
   "cell_type": "markdown",
   "source": [
    "Read in the Conservation list and join to get the code descriptions. Change the field names to sourceStatus and status as required by the ALA’s conservation list processing."
   ],
   "metadata": {
    "collapsed": false,
    "pycharm": {
     "name": "#%% md\n"
    }
   }
  },
  {
   "cell_type": "code",
   "execution_count": null,
   "outputs": [],
   "source": [
    "# join to get the codes\n",
    "# nca status\n",
    "confidentiallist = pd.merge(confidentiallist,ncastatuscodes,left_on=['NCA status'],right_on=['Code'],how=\"left\")\n",
    "confidentiallist.drop(['Code'],axis=1,inplace=True)\n",
    "confidentiallist = confidentiallist.rename(columns={'NCA status':'sourceStatus','Code_description':'status'})\n",
    "# endemicity\n",
    "confidentiallist = pd.merge(confidentiallist,endemicitycodes,left_on=['Endemicity'],right_on=['Code'],how=\"left\")\n",
    "confidentiallist.drop(['Code','Endemicity'],axis=1,inplace=True)\n",
    "confidentiallist = confidentiallist.rename(columns={'Code_description':'endemicity'})\n",
    "# epbc\n",
    "confidentiallist = pd.merge(confidentiallist,epbccodes,left_on=['EPBC status'],right_on=['Code'],how=\"left\")\n",
    "confidentiallist.drop(['Code','EPBC status'],axis=1,inplace=True)\n",
    "confidentiallist = confidentiallist.rename(columns={'Code_description':'epbcStatus'})\n",
    "# rename fields\n",
    "confidentiallist = confidentiallist.rename(columns=\n",
    "{\n",
    "    'Taxon Id':'taxonID',\n",
    "    'Kingdom':'kingdom',\n",
    "    'Class':'class',\n",
    "    'Family':'family',\n",
    "    'Scientific name':'scientificName',\n",
    "    'Common name': 'vernacularName',\n",
    "    'Taxon author':'scientificNameAuthorship',\n",
    "    'Confidential':'confidential',\n",
    "    'Significant':'significant'\n",
    "})\n",
    "confidentiallist"
   ],
   "metadata": {
    "collapsed": false,
    "pycharm": {
     "name": "#%%\n"
    }
   }
  },
  {
   "cell_type": "code",
   "execution_count": 105,
   "outputs": [
    {
     "data": {
      "text/plain": "kingdom   class         \nAnimalia  Actinopterygii      7\n          Amphibia           22\n          Arachnida           3\n          Aves               24\n          Insecta             7\n          Malacostraca        4\n          Mammalia            1\n          Reptilia           30\nPlantae   Equisetopsida     865\ndtype: int64"
     },
     "execution_count": 105,
     "metadata": {},
     "output_type": "execute_result"
    }
   ],
   "source": [
    "confidentiallist.groupby([\"kingdom\",\"class\"]).size()\n",
    "# Replace kingdom and class values with scientific terms\n",
    "confidentiallist.loc[confidentiallist[\"kingdom\"] == \"animals\", \"kingdom\"] = \"Animalia\"\n",
    "confidentiallist.loc[confidentiallist[\"kingdom\"] == \"plants\", \"kingdom\"] = \"Plantae\"\n",
    "confidentiallist.loc[confidentiallist[\"class\"] == \"land plants\", \"class\"] = \"Equisetopsida\"\n",
    "confidentiallist.loc[confidentiallist[\"class\"] == \"amphibians\", \"class\"] = \"Amphibia\"\n",
    "confidentiallist.loc[confidentiallist[\"class\"] == \"birds\", \"class\"] = \"Aves\"\n",
    "confidentiallist.loc[confidentiallist[\"class\"] == \"cartilaginous fishes\", \"class\"] = \"Chondrichthyes\"\n",
    "confidentiallist.loc[confidentiallist[\"class\"] == \"insects\", \"class\"] = \"Insecta\"\n",
    "confidentiallist.loc[confidentiallist[\"class\"] == \"malacostracans\", \"class\"] = \"Malacostraca\"\n",
    "confidentiallist.loc[confidentiallist[\"class\"] == \"mammals\", \"class\"] = \"Mammalia\"\n",
    "confidentiallist.loc[confidentiallist[\"class\"] == \"ray-finned fishes\", \"class\"] = \"Actinopterygii\"\n",
    "confidentiallist.loc[confidentiallist[\"class\"] == \"reptiles\", \"class\"] = \"Reptilia\"\n",
    "confidentiallist.loc[confidentiallist[\"class\"] == \"snails\", \"class\"] = \"Gastropoda\"\n",
    "confidentiallist.loc[confidentiallist[\"class\"] == \"arachnids\", \"class\"] = \"Arachnida\"\n",
    "\n",
    "confidentiallist.groupby([\"kingdom\",\"class\"]).size()"
   ],
   "metadata": {
    "collapsed": false,
    "pycharm": {
     "name": "#%%\n"
    }
   }
  },
  {
   "cell_type": "code",
   "execution_count": 106,
   "outputs": [],
   "source": [
    "#Write to CSV\n",
    "print(\"Writing to CSV\")\n",
    "confidentiallist.to_csv(projectdir + \"current-lists/sensitive-lists/QLD-sensitive-2022-10.csv\",encoding=\"UTF-8\",index=False)\n",
    "print(\"Processing finished\")"
   ],
   "metadata": {
    "collapsed": false,
    "pycharm": {
     "name": "#%%\n"
    }
   }
  },
  {
   "cell_type": "markdown",
   "source": [],
   "metadata": {
    "collapsed": false,
    "pycharm": {
     "name": "#%% md\n"
    }
   }
  }
 ],
 "metadata": {
  "kernelspec": {
   "display_name": "Python 3",
   "language": "python",
   "name": "python3"
  },
  "language_info": {
   "codemirror_mode": {
    "name": "ipython",
    "version": 2
   },
   "file_extension": ".py",
   "mimetype": "text/x-python",
   "name": "python",
   "nbconvert_exporter": "python",
   "pygments_lexer": "ipython2",
   "version": "2.7.6"
  }
 },
 "nbformat": 4,
 "nbformat_minor": 0
}