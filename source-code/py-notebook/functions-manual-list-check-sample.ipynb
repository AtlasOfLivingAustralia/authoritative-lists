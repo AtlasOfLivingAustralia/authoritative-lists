{
 "cells": [
  {
   "cell_type": "markdown",
   "source": [
    "# Sample code\n",
    "\n",
    "Call python functions from a file in another directory\n",
    "\n",
    "The functions definition file can be named anything you like.\n",
    "If there are multiple definition files they can be included in one command, for example:\n",
    "\n",
    "                 from includes import functions1, functions2\n",
    "\n",
    "Note: Python imports in Jupyter with relative paths are a pain. So you will see Unresolved reference 'functions'. This is because Jupyter notebook doesn't understand where the includes directory is. The %cd .. command prior to the import fixes this. You'll still see the message but the function definitions are right to go"
   ],
   "metadata": {
    "collapsed": false,
    "pycharm": {
     "name": "#%% md\n"
    }
   }
  },
  {
   "cell_type": "markdown",
   "source": [],
   "metadata": {
    "collapsed": false,
    "pycharm": {
     "name": "#%% md\n"
    }
   }
  },
  {
   "cell_type": "code",
   "execution_count": 4,
   "outputs": [
    {
     "name": "stdout",
     "output_type": "stream",
     "text": [
      "C:\\Users\\oco115\\PycharmProjects\\authoritative-lists\n"
     ]
    }
   ],
   "source": [
    "%cd ..\n",
    "from includes import functions"
   ],
   "metadata": {
    "collapsed": false,
    "pycharm": {
     "name": "#%%\n"
    }
   }
  },
  {
   "cell_type": "code",
   "execution_count": 2,
   "outputs": [
    {
     "name": "stdout",
     "output_type": "stream",
     "text": [
      "testout value 66\n"
     ]
    }
   ],
   "source": [
    "fname = \"/Users/oco115/PycharmProjects/dr1097-VBA/test.csv\"\n",
    "df = functions.testout('66', fname)"
   ],
   "metadata": {
    "collapsed": false,
    "pycharm": {
     "name": "#%%\n"
    }
   }
  },
  {
   "cell_type": "code",
   "execution_count": 3,
   "outputs": [],
   "source": [
    "projectDir = \"/Users/oco115/Jupyter-Functions-Sample/output/\"\n",
    "filename = \"QLD-conservation.csv\"\n",
    "prodListUrl = \"https://lists.ala.org.au/ws/speciesListItems/\" + \"dr652\" + \"?max=10000&includeKVP=true\"\n",
    "testListUrl = \"https://lists-test.ala.org.au/ws/speciesListItems/\" + \"dr652\" + \"?max=10000&includeKVP=true\"\n",
    "changelist = functions.get_changelist(testListUrl, prodListUrl)\n",
    "# changelist"
   ],
   "metadata": {
    "collapsed": false,
    "pycharm": {
     "name": "#%%\n"
    }
   }
  },
  {
   "cell_type": "code",
   "execution_count": 5,
   "outputs": [],
   "source": [
    "# save the lists locally\n",
    "projectDir = \"/Users/oco115/Jupyter-Functions-Sample/output/\"\n"
   ],
   "metadata": {
    "collapsed": false,
    "pycharm": {
     "name": "#%%\n"
    }
   }
  },
  {
   "cell_type": "markdown",
   "source": [
    "changelist.to_csv(projectDir + \"analysis/change-log/\" + \"-\" + filename, encoding=\"UTF-8\", index=False)\n",
    "prodList = functions.download_ala_list(prodListUrl)  # save the prod list to the historical lists directory\n",
    "prodList = functions.kvp_to_columns(prodList)\n",
    "prodList.to_csv(projectDir + \"historical-lists/conservation/\" + filename, encoding=\"UTF-8\", index=False)\n",
    "changelist"
   ],
   "metadata": {
    "collapsed": false,
    "pycharm": {
     "name": "#%% md\n"
    }
   }
  }
 ],
 "metadata": {
  "kernelspec": {
   "display_name": "Python 3",
   "language": "python",
   "name": "python3"
  },
  "language_info": {
   "codemirror_mode": {
    "name": "ipython",
    "version": 3
   },
   "file_extension": ".py",
   "mimetype": "text/x-python",
   "name": "python",
   "nbconvert_exporter": "python",
   "pygments_lexer": "ipython3",
   "version": "3.8.8"
  }
 },
 "nbformat": 4,
 "nbformat_minor": 5
}