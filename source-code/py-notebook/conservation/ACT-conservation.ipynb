{
 "cells": [
  {
   "cell_type": "markdown",
   "source": [
    "# State Conservation Status Species Lists - ACT\n",
    "\n",
    "This notebook downloads the ACT lists from the ACT Government Open Data Portal and readies them for ingestion into the ALA Lists tool. It will save original lists to the source-data/ACT directory, process the lists and save them to current-lists. The lists can be loaded into the lists-test environment then reviewed by following the instructions below.\n",
    "\n",
    "## Lists in the ALA Species List tool\n",
    "Conservation list: [dr649](https://lists.ala.org.au/speciesListItem/list/dr649) ([dr649 in test](https://lists-test.ala.org.au/speciesListItem/list/dr649))\n",
    "Sensitive list: [dr2627](https://lists.ala.org.au/speciesListItem/list/dr2627) ([dr2627 in test](https://lists.ala.org.au/speciesListItem/list/dr2627))\n",
    "\n",
    "## Sources\n",
    "\n",
    "Source:\n",
    "Metadata: https://www.data.act.gov.au/Environment/ACT-Nature-Conservation-Threatened-Native-Species-/9ikf-qahj\n",
    "Data: https://www.data.act.gov.au/resource/9ikf-qahj.json\n",
    "\n",
    "***Metadata summary***\n",
    "ACT Nature Conservation Threatened Native Species List. Species list adheres to the Darwin Core Standard. A species is threatened if it is likely to become extinct in the foreseeable future. The Nature Conservation Act 2014 (ACT) establishes a formal process for the identification and protection of threatened species and ecological communities. Ngunnawal species names created and endorsed by the Winnagaay Ngunnawal Language Group.\n",
    "\n",
    "***URL***\n",
    "https://www.data.act.gov.au/Environment/ACT-Nature-Conservation-Threatened-Native-Species-/9ikf-qahj\n",
    "https://dev.socrata.com/foundry/www.data.act.gov.au/9ikf-qahj/\n",
    "\n"
   ],
   "metadata": {
    "collapsed": false,
    "pycharm": {
     "name": "#%% md\n"
    }
   }
  },
  {
   "cell_type": "code",
   "execution_count": 1,
   "outputs": [],
   "source": [
    "# set up\n",
    "import pandas as pd\n",
    "import json\n",
    "import datetime\n",
    "import urllib.request\n",
    "import certifi\n",
    "import ssl\n",
    "import os\n",
    "import os.path as path\n",
    "\n",
    "# top level directory\n",
    "projectDir = path.abspath(path.join(os.getcwd(),\"../../..\")) + \"/\"\n",
    "sourceDir = projectDir + \"source-data/ACT/\"\n",
    "statusDir = projectDir + \"source-data/status-codes/\"\n",
    "cdataDir = projectDir + \"current-lists/conservation-lists/\"\n",
    "\n",
    "monthStr = datetime.datetime.now().strftime('%Y%m')\n",
    "\n",
    "import sys\n",
    "import os\n",
    "sys.path.append(os.path.abspath(projectDir + \"source-code/includes\"))\n",
    "import list_functions as lf"
   ],
   "metadata": {
    "collapsed": false,
    "pycharm": {
     "name": "#%%\n"
    },
    "ExecuteTime": {
     "end_time": "2024-01-12T03:56:02.330059Z",
     "start_time": "2024-01-12T03:56:01.864457Z"
    }
   }
  },
  {
   "cell_type": "markdown",
   "source": [
    "# Conservation List"
   ],
   "metadata": {
    "collapsed": false,
    "pycharm": {
     "name": "#%% md\n"
    }
   }
  },
  {
   "cell_type": "code",
   "execution_count": 9,
   "outputs": [
    {
     "data": {
      "text/plain": "        category              scientificname  \\\n0           Bird         Anthochaera phrygia   \n1        Reptile       Aprasia parapulchella   \n2         Mammal          Bettongia gaimardi   \n3           Fish           Bidyanus bidyanus   \n4          Plant              Bossiaea grayi   \n..           ...                         ...   \n60         Plant             Swainsona recta   \n61  Invertebrate               Synemon plana   \n62         Plant            Thesium australe   \n63       Reptile      Tympanocryptis lineata   \n64       Reptile  Tympanocryptis pinguicolla   \n\n                       vernacularname taxonrank    taxonomicstatus   kingdom  \\\n0                   Regent Honeyeater   species           accepted  Animalia   \n1             Pink-tailed Worm-lizard   species           accepted  Animalia   \n2                     Eastern Bettong   species           accepted  Animalia   \n3                        Silver Perch   species           accepted  Animalia   \n4               Murrumbidgee Bossiaea   species           accepted   Plantae   \n..                                ...       ...                ...       ...   \n60                   Small Purple Pea   species           accepted   Plantae   \n61                    Golden Sun Moth   species           accepted  Animalia   \n62                   Austral Toadflax   species           accepted   Plantae   \n63  Canberra Grassland Earless Dragon   species           accepted  Animalia   \n64           Grassland Earless Dragon   species  homotypic synonym  Animalia   \n\n        phylum           class          order        family  \\\n0     Chordata            Aves  Passeriformes  Meliphagidae   \n1     Chordata        Reptilia       Squamata   Pygopodidae   \n2     Chordata        Mammalia  Diprotodontia    Potoroidae   \n3     Chordata  Actinopterygii    Perciformes  Terapontidae   \n4   Charophyta   Equisetopsida        Fabales      Fabaceae   \n..         ...             ...            ...           ...   \n60  Charophyta   Equisetopsida        Fabales      Fabaceae   \n61  Arthropoda         Insecta    Lepidoptera    Castniidae   \n62  Charophyta   Equisetopsida   Malpighiales   Santalaceae   \n63    Chordata        Reptilia       Squamata      Agamidae   \n64    Chordata        Reptilia       Squamata      Agamidae   \n\n                         sourcestatus                 status  \\\n0               Critically Endangered  Critically Endangered   \n1                          Vulnerable             Vulnerable   \n2   Regionally Conservation Dependent                    NaN   \n3                          Endangered             Endangered   \n4                          Endangered             Endangered   \n..                                ...                    ...   \n60                         Endangered             Endangered   \n61                         Vulnerable             Vulnerable   \n62                         Vulnerable             Vulnerable   \n63              Critically Endangered  Critically Endangered   \n64                                NaN             Endangered   \n\n                             authority  ngunnawal  \\\n0   Nature Conservation Act 2014 (ACT)        NaN   \n1   Nature Conservation Act 2014 (ACT)  Banburung   \n2   Nature Conservation Act 2014 (ACT)    Ngaluda   \n3   Nature Conservation Act 2014 (ACT)    Dhingur   \n4   Nature Conservation Act 2014 (ACT)        NaN   \n..                                 ...        ...   \n60  Nature Conservation Act 2014 (ACT)        NaN   \n61  Nature Conservation Act 2014 (ACT)        NaN   \n62  Nature Conservation Act 2014 (ACT)        NaN   \n63  Nature Conservation Act 2014 (ACT)  Bidjiwang   \n64  Nature Conservation Act 2014 (ACT)  Bidjiwang   \n\n                                       comments  \\\n0                                           NaN   \n1                                           NaN   \n2             Regionally Conservation Dependent   \n3                                           NaN   \n4                                           NaN   \n..                                          ...   \n60                                          NaN   \n61                                   NI2023-221   \n62                                          NaN   \n63                                   NI2023-218   \n64  Homotypic synonym of Tympanocryptis lineata   \n\n                                   taxonremarks  \n0                                           NaN  \n1                                           NaN  \n2                                           NaN  \n3                                           NaN  \n4                                           NaN  \n..                                          ...  \n60                                          NaN  \n61                                          NaN  \n62                                          NaN  \n63                                          NaN  \n64  Homotypic synonym of Tympanocryptis lineata  \n\n[65 rows x 16 columns]",
      "text/html": "<div>\n<style scoped>\n    .dataframe tbody tr th:only-of-type {\n        vertical-align: middle;\n    }\n\n    .dataframe tbody tr th {\n        vertical-align: top;\n    }\n\n    .dataframe thead th {\n        text-align: right;\n    }\n</style>\n<table border=\"1\" class=\"dataframe\">\n  <thead>\n    <tr style=\"text-align: right;\">\n      <th></th>\n      <th>category</th>\n      <th>scientificname</th>\n      <th>vernacularname</th>\n      <th>taxonrank</th>\n      <th>taxonomicstatus</th>\n      <th>kingdom</th>\n      <th>phylum</th>\n      <th>class</th>\n      <th>order</th>\n      <th>family</th>\n      <th>sourcestatus</th>\n      <th>status</th>\n      <th>authority</th>\n      <th>ngunnawal</th>\n      <th>comments</th>\n      <th>taxonremarks</th>\n    </tr>\n  </thead>\n  <tbody>\n    <tr>\n      <th>0</th>\n      <td>Bird</td>\n      <td>Anthochaera phrygia</td>\n      <td>Regent Honeyeater</td>\n      <td>species</td>\n      <td>accepted</td>\n      <td>Animalia</td>\n      <td>Chordata</td>\n      <td>Aves</td>\n      <td>Passeriformes</td>\n      <td>Meliphagidae</td>\n      <td>Critically Endangered</td>\n      <td>Critically Endangered</td>\n      <td>Nature Conservation Act 2014 (ACT)</td>\n      <td>NaN</td>\n      <td>NaN</td>\n      <td>NaN</td>\n    </tr>\n    <tr>\n      <th>1</th>\n      <td>Reptile</td>\n      <td>Aprasia parapulchella</td>\n      <td>Pink-tailed Worm-lizard</td>\n      <td>species</td>\n      <td>accepted</td>\n      <td>Animalia</td>\n      <td>Chordata</td>\n      <td>Reptilia</td>\n      <td>Squamata</td>\n      <td>Pygopodidae</td>\n      <td>Vulnerable</td>\n      <td>Vulnerable</td>\n      <td>Nature Conservation Act 2014 (ACT)</td>\n      <td>Banburung</td>\n      <td>NaN</td>\n      <td>NaN</td>\n    </tr>\n    <tr>\n      <th>2</th>\n      <td>Mammal</td>\n      <td>Bettongia gaimardi</td>\n      <td>Eastern Bettong</td>\n      <td>species</td>\n      <td>accepted</td>\n      <td>Animalia</td>\n      <td>Chordata</td>\n      <td>Mammalia</td>\n      <td>Diprotodontia</td>\n      <td>Potoroidae</td>\n      <td>Regionally Conservation Dependent</td>\n      <td>NaN</td>\n      <td>Nature Conservation Act 2014 (ACT)</td>\n      <td>Ngaluda</td>\n      <td>Regionally Conservation Dependent</td>\n      <td>NaN</td>\n    </tr>\n    <tr>\n      <th>3</th>\n      <td>Fish</td>\n      <td>Bidyanus bidyanus</td>\n      <td>Silver Perch</td>\n      <td>species</td>\n      <td>accepted</td>\n      <td>Animalia</td>\n      <td>Chordata</td>\n      <td>Actinopterygii</td>\n      <td>Perciformes</td>\n      <td>Terapontidae</td>\n      <td>Endangered</td>\n      <td>Endangered</td>\n      <td>Nature Conservation Act 2014 (ACT)</td>\n      <td>Dhingur</td>\n      <td>NaN</td>\n      <td>NaN</td>\n    </tr>\n    <tr>\n      <th>4</th>\n      <td>Plant</td>\n      <td>Bossiaea grayi</td>\n      <td>Murrumbidgee Bossiaea</td>\n      <td>species</td>\n      <td>accepted</td>\n      <td>Plantae</td>\n      <td>Charophyta</td>\n      <td>Equisetopsida</td>\n      <td>Fabales</td>\n      <td>Fabaceae</td>\n      <td>Endangered</td>\n      <td>Endangered</td>\n      <td>Nature Conservation Act 2014 (ACT)</td>\n      <td>NaN</td>\n      <td>NaN</td>\n      <td>NaN</td>\n    </tr>\n    <tr>\n      <th>...</th>\n      <td>...</td>\n      <td>...</td>\n      <td>...</td>\n      <td>...</td>\n      <td>...</td>\n      <td>...</td>\n      <td>...</td>\n      <td>...</td>\n      <td>...</td>\n      <td>...</td>\n      <td>...</td>\n      <td>...</td>\n      <td>...</td>\n      <td>...</td>\n      <td>...</td>\n      <td>...</td>\n    </tr>\n    <tr>\n      <th>60</th>\n      <td>Plant</td>\n      <td>Swainsona recta</td>\n      <td>Small Purple Pea</td>\n      <td>species</td>\n      <td>accepted</td>\n      <td>Plantae</td>\n      <td>Charophyta</td>\n      <td>Equisetopsida</td>\n      <td>Fabales</td>\n      <td>Fabaceae</td>\n      <td>Endangered</td>\n      <td>Endangered</td>\n      <td>Nature Conservation Act 2014 (ACT)</td>\n      <td>NaN</td>\n      <td>NaN</td>\n      <td>NaN</td>\n    </tr>\n    <tr>\n      <th>61</th>\n      <td>Invertebrate</td>\n      <td>Synemon plana</td>\n      <td>Golden Sun Moth</td>\n      <td>species</td>\n      <td>accepted</td>\n      <td>Animalia</td>\n      <td>Arthropoda</td>\n      <td>Insecta</td>\n      <td>Lepidoptera</td>\n      <td>Castniidae</td>\n      <td>Vulnerable</td>\n      <td>Vulnerable</td>\n      <td>Nature Conservation Act 2014 (ACT)</td>\n      <td>NaN</td>\n      <td>NI2023-221</td>\n      <td>NaN</td>\n    </tr>\n    <tr>\n      <th>62</th>\n      <td>Plant</td>\n      <td>Thesium australe</td>\n      <td>Austral Toadflax</td>\n      <td>species</td>\n      <td>accepted</td>\n      <td>Plantae</td>\n      <td>Charophyta</td>\n      <td>Equisetopsida</td>\n      <td>Malpighiales</td>\n      <td>Santalaceae</td>\n      <td>Vulnerable</td>\n      <td>Vulnerable</td>\n      <td>Nature Conservation Act 2014 (ACT)</td>\n      <td>NaN</td>\n      <td>NaN</td>\n      <td>NaN</td>\n    </tr>\n    <tr>\n      <th>63</th>\n      <td>Reptile</td>\n      <td>Tympanocryptis lineata</td>\n      <td>Canberra Grassland Earless Dragon</td>\n      <td>species</td>\n      <td>accepted</td>\n      <td>Animalia</td>\n      <td>Chordata</td>\n      <td>Reptilia</td>\n      <td>Squamata</td>\n      <td>Agamidae</td>\n      <td>Critically Endangered</td>\n      <td>Critically Endangered</td>\n      <td>Nature Conservation Act 2014 (ACT)</td>\n      <td>Bidjiwang</td>\n      <td>NI2023-218</td>\n      <td>NaN</td>\n    </tr>\n    <tr>\n      <th>64</th>\n      <td>Reptile</td>\n      <td>Tympanocryptis pinguicolla</td>\n      <td>Grassland Earless Dragon</td>\n      <td>species</td>\n      <td>homotypic synonym</td>\n      <td>Animalia</td>\n      <td>Chordata</td>\n      <td>Reptilia</td>\n      <td>Squamata</td>\n      <td>Agamidae</td>\n      <td>NaN</td>\n      <td>Endangered</td>\n      <td>Nature Conservation Act 2014 (ACT)</td>\n      <td>Bidjiwang</td>\n      <td>Homotypic synonym of Tympanocryptis lineata</td>\n      <td>Homotypic synonym of Tympanocryptis lineata</td>\n    </tr>\n  </tbody>\n</table>\n<p>65 rows × 16 columns</p>\n</div>"
     },
     "execution_count": 9,
     "metadata": {},
     "output_type": "execute_result"
    }
   ],
   "source": [
    "# %%script echo skipping # comment this line to download the files and save locally\n",
    "# download and save the conservation list locally\n",
    "with urllib.request.urlopen(\"https://www.data.act.gov.au/resource/9ikf-qahj.json\",context=ssl.create_default_context(cafile=certifi.where())) as url:\n",
    "    data = json.loads(url.read().decode())\n",
    "data = pd.json_normalize(data)\n",
    "data.to_csv(projectDir + sourceDir + 'ACT-conservation-' + monthStr + '.csv',  encoding=\"UTF-8\", index=False)\n",
    "data"
   ],
   "metadata": {
    "collapsed": false,
    "pycharm": {
     "name": "#%%\n"
    },
    "ExecuteTime": {
     "end_time": "2024-01-12T00:10:06.612475Z",
     "start_time": "2024-01-12T00:10:05.054575Z"
    }
   }
  },
  {
   "cell_type": "markdown",
   "source": [
    "## Check the status values"
   ],
   "metadata": {
    "collapsed": false,
    "pycharm": {
     "name": "#%% md\n"
    }
   }
  },
  {
   "cell_type": "code",
   "execution_count": 13,
   "outputs": [],
   "source": [
    "data.to_csv(sourceDir + 'ACT-conservation-' + monthStr + '.csv',  encoding=\"UTF-8\", index=False)"
   ],
   "metadata": {
    "collapsed": false,
    "pycharm": {
     "name": "#%%\n"
    },
    "ExecuteTime": {
     "end_time": "2024-01-12T00:13:59.620638Z",
     "start_time": "2024-01-12T00:13:59.614030Z"
    }
   }
  },
  {
   "cell_type": "code",
   "execution_count": 14,
   "outputs": [
    {
     "data": {
      "text/plain": "status                 sourcestatus                     \nVulnerable             Vulnerable                           32\nEndangered             Endangered                           23\nCritically Endangered  Critically Endangered                 8\nEndangered             NaN                                   1\nNaN                    Regionally Conservation Dependent     1\ndtype: int64"
     },
     "execution_count": 14,
     "metadata": {},
     "output_type": "execute_result"
    }
   ],
   "source": [
    "data.groupby([\"status\",\"sourcestatus\"],dropna=False).size().sort_values(ascending=False)"
   ],
   "metadata": {
    "collapsed": false,
    "pycharm": {
     "name": "#%%\n"
    },
    "ExecuteTime": {
     "end_time": "2024-01-12T00:14:14.511770Z",
     "start_time": "2024-01-12T00:14:14.502412Z"
    }
   }
  },
  {
   "cell_type": "markdown",
   "source": [
    "## Map statuses"
   ],
   "metadata": {
    "collapsed": false,
    "pycharm": {
     "name": "#%% md\n"
    }
   }
  },
  {
   "cell_type": "code",
   "execution_count": 15,
   "outputs": [
    {
     "data": {
      "text/plain": "        category              scientificname  \\\n0           Bird         Anthochaera phrygia   \n1        Reptile       Aprasia parapulchella   \n2         Mammal          Bettongia gaimardi   \n3           Fish           Bidyanus bidyanus   \n4          Plant              Bossiaea grayi   \n..           ...                         ...   \n59         Plant  Rutidosis leptorhynchoides   \n60         Plant             Swainsona recta   \n61  Invertebrate               Synemon plana   \n62         Plant            Thesium australe   \n63       Reptile      Tympanocryptis lineata   \n\n                       vernacularname taxonrank taxonomicstatus   kingdom  \\\n0                   Regent Honeyeater   species        accepted  Animalia   \n1             Pink-tailed Worm-lizard   species        accepted  Animalia   \n2                     Eastern Bettong   species        accepted  Animalia   \n3                        Silver Perch   species        accepted  Animalia   \n4               Murrumbidgee Bossiaea   species        accepted   Plantae   \n..                                ...       ...             ...       ...   \n59                 Button Wrinklewort   species        accepted   Plantae   \n60                   Small Purple Pea   species        accepted   Plantae   \n61                    Golden Sun Moth   species        accepted  Animalia   \n62                   Austral Toadflax   species        accepted   Plantae   \n63  Canberra Grassland Earless Dragon   species        accepted  Animalia   \n\n        phylum           class          order        family  \\\n0     Chordata            Aves  Passeriformes  Meliphagidae   \n1     Chordata        Reptilia       Squamata   Pygopodidae   \n2     Chordata        Mammalia  Diprotodontia    Potoroidae   \n3     Chordata  Actinopterygii    Perciformes  Terapontidae   \n4   Charophyta   Equisetopsida        Fabales      Fabaceae   \n..         ...             ...            ...           ...   \n59  Charophyta   Equisetopsida      Asterales    Asteraceae   \n60  Charophyta   Equisetopsida        Fabales      Fabaceae   \n61  Arthropoda         Insecta    Lepidoptera    Castniidae   \n62  Charophyta   Equisetopsida   Malpighiales   Santalaceae   \n63    Chordata        Reptilia       Squamata      Agamidae   \n\n                         sourceStatus                  status  \\\n0               Critically Endangered   Critically Endangered   \n1                          Vulnerable              Vulnerable   \n2   Regionally Conservation Dependent  Conservation Dependent   \n3                          Endangered              Endangered   \n4                          Endangered              Endangered   \n..                                ...                     ...   \n59                         Endangered              Endangered   \n60                         Endangered              Endangered   \n61                         Vulnerable              Vulnerable   \n62                         Vulnerable              Vulnerable   \n63              Critically Endangered   Critically Endangered   \n\n                             authority  ngunnawal  \\\n0   Nature Conservation Act 2014 (ACT)        NaN   \n1   Nature Conservation Act 2014 (ACT)  Banburung   \n2   Nature Conservation Act 2014 (ACT)    Ngaluda   \n3   Nature Conservation Act 2014 (ACT)    Dhingur   \n4   Nature Conservation Act 2014 (ACT)        NaN   \n..                                 ...        ...   \n59  Nature Conservation Act 2014 (ACT)        NaN   \n60  Nature Conservation Act 2014 (ACT)        NaN   \n61  Nature Conservation Act 2014 (ACT)        NaN   \n62  Nature Conservation Act 2014 (ACT)        NaN   \n63  Nature Conservation Act 2014 (ACT)  Bidjiwang   \n\n                             comments taxonremarks  \n0                                 NaN          NaN  \n1                                 NaN          NaN  \n2   Regionally Conservation Dependent          NaN  \n3                                 NaN          NaN  \n4                                 NaN          NaN  \n..                                ...          ...  \n59                                NaN          NaN  \n60                                NaN          NaN  \n61                         NI2023-221          NaN  \n62                                NaN          NaN  \n63                         NI2023-218          NaN  \n\n[64 rows x 16 columns]",
      "text/html": "<div>\n<style scoped>\n    .dataframe tbody tr th:only-of-type {\n        vertical-align: middle;\n    }\n\n    .dataframe tbody tr th {\n        vertical-align: top;\n    }\n\n    .dataframe thead th {\n        text-align: right;\n    }\n</style>\n<table border=\"1\" class=\"dataframe\">\n  <thead>\n    <tr style=\"text-align: right;\">\n      <th></th>\n      <th>category</th>\n      <th>scientificname</th>\n      <th>vernacularname</th>\n      <th>taxonrank</th>\n      <th>taxonomicstatus</th>\n      <th>kingdom</th>\n      <th>phylum</th>\n      <th>class</th>\n      <th>order</th>\n      <th>family</th>\n      <th>sourceStatus</th>\n      <th>status</th>\n      <th>authority</th>\n      <th>ngunnawal</th>\n      <th>comments</th>\n      <th>taxonremarks</th>\n    </tr>\n  </thead>\n  <tbody>\n    <tr>\n      <th>0</th>\n      <td>Bird</td>\n      <td>Anthochaera phrygia</td>\n      <td>Regent Honeyeater</td>\n      <td>species</td>\n      <td>accepted</td>\n      <td>Animalia</td>\n      <td>Chordata</td>\n      <td>Aves</td>\n      <td>Passeriformes</td>\n      <td>Meliphagidae</td>\n      <td>Critically Endangered</td>\n      <td>Critically Endangered</td>\n      <td>Nature Conservation Act 2014 (ACT)</td>\n      <td>NaN</td>\n      <td>NaN</td>\n      <td>NaN</td>\n    </tr>\n    <tr>\n      <th>1</th>\n      <td>Reptile</td>\n      <td>Aprasia parapulchella</td>\n      <td>Pink-tailed Worm-lizard</td>\n      <td>species</td>\n      <td>accepted</td>\n      <td>Animalia</td>\n      <td>Chordata</td>\n      <td>Reptilia</td>\n      <td>Squamata</td>\n      <td>Pygopodidae</td>\n      <td>Vulnerable</td>\n      <td>Vulnerable</td>\n      <td>Nature Conservation Act 2014 (ACT)</td>\n      <td>Banburung</td>\n      <td>NaN</td>\n      <td>NaN</td>\n    </tr>\n    <tr>\n      <th>2</th>\n      <td>Mammal</td>\n      <td>Bettongia gaimardi</td>\n      <td>Eastern Bettong</td>\n      <td>species</td>\n      <td>accepted</td>\n      <td>Animalia</td>\n      <td>Chordata</td>\n      <td>Mammalia</td>\n      <td>Diprotodontia</td>\n      <td>Potoroidae</td>\n      <td>Regionally Conservation Dependent</td>\n      <td>Conservation Dependent</td>\n      <td>Nature Conservation Act 2014 (ACT)</td>\n      <td>Ngaluda</td>\n      <td>Regionally Conservation Dependent</td>\n      <td>NaN</td>\n    </tr>\n    <tr>\n      <th>3</th>\n      <td>Fish</td>\n      <td>Bidyanus bidyanus</td>\n      <td>Silver Perch</td>\n      <td>species</td>\n      <td>accepted</td>\n      <td>Animalia</td>\n      <td>Chordata</td>\n      <td>Actinopterygii</td>\n      <td>Perciformes</td>\n      <td>Terapontidae</td>\n      <td>Endangered</td>\n      <td>Endangered</td>\n      <td>Nature Conservation Act 2014 (ACT)</td>\n      <td>Dhingur</td>\n      <td>NaN</td>\n      <td>NaN</td>\n    </tr>\n    <tr>\n      <th>4</th>\n      <td>Plant</td>\n      <td>Bossiaea grayi</td>\n      <td>Murrumbidgee Bossiaea</td>\n      <td>species</td>\n      <td>accepted</td>\n      <td>Plantae</td>\n      <td>Charophyta</td>\n      <td>Equisetopsida</td>\n      <td>Fabales</td>\n      <td>Fabaceae</td>\n      <td>Endangered</td>\n      <td>Endangered</td>\n      <td>Nature Conservation Act 2014 (ACT)</td>\n      <td>NaN</td>\n      <td>NaN</td>\n      <td>NaN</td>\n    </tr>\n    <tr>\n      <th>...</th>\n      <td>...</td>\n      <td>...</td>\n      <td>...</td>\n      <td>...</td>\n      <td>...</td>\n      <td>...</td>\n      <td>...</td>\n      <td>...</td>\n      <td>...</td>\n      <td>...</td>\n      <td>...</td>\n      <td>...</td>\n      <td>...</td>\n      <td>...</td>\n      <td>...</td>\n      <td>...</td>\n    </tr>\n    <tr>\n      <th>59</th>\n      <td>Plant</td>\n      <td>Rutidosis leptorhynchoides</td>\n      <td>Button Wrinklewort</td>\n      <td>species</td>\n      <td>accepted</td>\n      <td>Plantae</td>\n      <td>Charophyta</td>\n      <td>Equisetopsida</td>\n      <td>Asterales</td>\n      <td>Asteraceae</td>\n      <td>Endangered</td>\n      <td>Endangered</td>\n      <td>Nature Conservation Act 2014 (ACT)</td>\n      <td>NaN</td>\n      <td>NaN</td>\n      <td>NaN</td>\n    </tr>\n    <tr>\n      <th>60</th>\n      <td>Plant</td>\n      <td>Swainsona recta</td>\n      <td>Small Purple Pea</td>\n      <td>species</td>\n      <td>accepted</td>\n      <td>Plantae</td>\n      <td>Charophyta</td>\n      <td>Equisetopsida</td>\n      <td>Fabales</td>\n      <td>Fabaceae</td>\n      <td>Endangered</td>\n      <td>Endangered</td>\n      <td>Nature Conservation Act 2014 (ACT)</td>\n      <td>NaN</td>\n      <td>NaN</td>\n      <td>NaN</td>\n    </tr>\n    <tr>\n      <th>61</th>\n      <td>Invertebrate</td>\n      <td>Synemon plana</td>\n      <td>Golden Sun Moth</td>\n      <td>species</td>\n      <td>accepted</td>\n      <td>Animalia</td>\n      <td>Arthropoda</td>\n      <td>Insecta</td>\n      <td>Lepidoptera</td>\n      <td>Castniidae</td>\n      <td>Vulnerable</td>\n      <td>Vulnerable</td>\n      <td>Nature Conservation Act 2014 (ACT)</td>\n      <td>NaN</td>\n      <td>NI2023-221</td>\n      <td>NaN</td>\n    </tr>\n    <tr>\n      <th>62</th>\n      <td>Plant</td>\n      <td>Thesium australe</td>\n      <td>Austral Toadflax</td>\n      <td>species</td>\n      <td>accepted</td>\n      <td>Plantae</td>\n      <td>Charophyta</td>\n      <td>Equisetopsida</td>\n      <td>Malpighiales</td>\n      <td>Santalaceae</td>\n      <td>Vulnerable</td>\n      <td>Vulnerable</td>\n      <td>Nature Conservation Act 2014 (ACT)</td>\n      <td>NaN</td>\n      <td>NaN</td>\n      <td>NaN</td>\n    </tr>\n    <tr>\n      <th>63</th>\n      <td>Reptile</td>\n      <td>Tympanocryptis lineata</td>\n      <td>Canberra Grassland Earless Dragon</td>\n      <td>species</td>\n      <td>accepted</td>\n      <td>Animalia</td>\n      <td>Chordata</td>\n      <td>Reptilia</td>\n      <td>Squamata</td>\n      <td>Agamidae</td>\n      <td>Critically Endangered</td>\n      <td>Critically Endangered</td>\n      <td>Nature Conservation Act 2014 (ACT)</td>\n      <td>Bidjiwang</td>\n      <td>NI2023-218</td>\n      <td>NaN</td>\n    </tr>\n  </tbody>\n</table>\n<p>64 rows × 16 columns</p>\n</div>"
     },
     "execution_count": 15,
     "metadata": {},
     "output_type": "execute_result"
    }
   ],
   "source": [
    "## Map statuses\n",
    "state = 'ACT'\n",
    "fname = statusDir + state + \"-codes.csv\"\n",
    "data = lf.map_status(state, fname, data)\n",
    "data = data[((data['status'].notna()))]\n",
    "data['status'].unique()\n",
    "data"
   ],
   "metadata": {
    "collapsed": false,
    "pycharm": {
     "name": "#%%\n"
    },
    "ExecuteTime": {
     "end_time": "2024-01-12T00:17:57.239121Z",
     "start_time": "2024-01-12T00:17:57.231245Z"
    }
   }
  },
  {
   "cell_type": "code",
   "execution_count": 16,
   "outputs": [
    {
     "data": {
      "text/plain": "array(['Critically Endangered', 'Vulnerable', 'Conservation Dependent',\n       'Endangered'], dtype=object)"
     },
     "execution_count": 16,
     "metadata": {},
     "output_type": "execute_result"
    }
   ],
   "source": [
    "# ACT only - correct typo in sourceStatus\n",
    "# data['sourceStatus'] = data['sourceStatus'].replace({'Vulnernable': 'Vulnerable'})\n",
    "data['status'].unique()"
   ],
   "metadata": {
    "collapsed": false,
    "pycharm": {
     "name": "#%%\n"
    },
    "ExecuteTime": {
     "end_time": "2024-01-12T00:18:01.340821Z",
     "start_time": "2024-01-12T00:18:01.334963Z"
    }
   }
  },
  {
   "cell_type": "code",
   "execution_count": 19,
   "outputs": [
    {
     "data": {
      "text/plain": "                scientificName                     vernacularName  \\\n0          Anthochaera phrygia                  Regent Honeyeater   \n1        Aprasia parapulchella            Pink-tailed Worm-lizard   \n2           Bettongia gaimardi                    Eastern Bettong   \n3            Bidyanus bidyanus                       Silver Perch   \n4               Bossiaea grayi              Murrumbidgee Bossiaea   \n..                         ...                                ...   \n59  Rutidosis leptorhynchoides                 Button Wrinklewort   \n60             Swainsona recta                   Small Purple Pea   \n61               Synemon plana                    Golden Sun Moth   \n62            Thesium australe                   Austral Toadflax   \n63      Tympanocryptis lineata  Canberra Grassland Earless Dragon   \n\n          family                  status                       sourceStatus  \n0   Meliphagidae   Critically Endangered              Critically Endangered  \n1    Pygopodidae              Vulnerable                         Vulnerable  \n2     Potoroidae  Conservation Dependent  Regionally Conservation Dependent  \n3   Terapontidae              Endangered                         Endangered  \n4       Fabaceae              Endangered                         Endangered  \n..           ...                     ...                                ...  \n59    Asteraceae              Endangered                         Endangered  \n60      Fabaceae              Endangered                         Endangered  \n61    Castniidae              Vulnerable                         Vulnerable  \n62   Santalaceae              Vulnerable                         Vulnerable  \n63      Agamidae   Critically Endangered              Critically Endangered  \n\n[64 rows x 5 columns]",
      "text/html": "<div>\n<style scoped>\n    .dataframe tbody tr th:only-of-type {\n        vertical-align: middle;\n    }\n\n    .dataframe tbody tr th {\n        vertical-align: top;\n    }\n\n    .dataframe thead th {\n        text-align: right;\n    }\n</style>\n<table border=\"1\" class=\"dataframe\">\n  <thead>\n    <tr style=\"text-align: right;\">\n      <th></th>\n      <th>scientificName</th>\n      <th>vernacularName</th>\n      <th>family</th>\n      <th>status</th>\n      <th>sourceStatus</th>\n    </tr>\n  </thead>\n  <tbody>\n    <tr>\n      <th>0</th>\n      <td>Anthochaera phrygia</td>\n      <td>Regent Honeyeater</td>\n      <td>Meliphagidae</td>\n      <td>Critically Endangered</td>\n      <td>Critically Endangered</td>\n    </tr>\n    <tr>\n      <th>1</th>\n      <td>Aprasia parapulchella</td>\n      <td>Pink-tailed Worm-lizard</td>\n      <td>Pygopodidae</td>\n      <td>Vulnerable</td>\n      <td>Vulnerable</td>\n    </tr>\n    <tr>\n      <th>2</th>\n      <td>Bettongia gaimardi</td>\n      <td>Eastern Bettong</td>\n      <td>Potoroidae</td>\n      <td>Conservation Dependent</td>\n      <td>Regionally Conservation Dependent</td>\n    </tr>\n    <tr>\n      <th>3</th>\n      <td>Bidyanus bidyanus</td>\n      <td>Silver Perch</td>\n      <td>Terapontidae</td>\n      <td>Endangered</td>\n      <td>Endangered</td>\n    </tr>\n    <tr>\n      <th>4</th>\n      <td>Bossiaea grayi</td>\n      <td>Murrumbidgee Bossiaea</td>\n      <td>Fabaceae</td>\n      <td>Endangered</td>\n      <td>Endangered</td>\n    </tr>\n    <tr>\n      <th>...</th>\n      <td>...</td>\n      <td>...</td>\n      <td>...</td>\n      <td>...</td>\n      <td>...</td>\n    </tr>\n    <tr>\n      <th>59</th>\n      <td>Rutidosis leptorhynchoides</td>\n      <td>Button Wrinklewort</td>\n      <td>Asteraceae</td>\n      <td>Endangered</td>\n      <td>Endangered</td>\n    </tr>\n    <tr>\n      <th>60</th>\n      <td>Swainsona recta</td>\n      <td>Small Purple Pea</td>\n      <td>Fabaceae</td>\n      <td>Endangered</td>\n      <td>Endangered</td>\n    </tr>\n    <tr>\n      <th>61</th>\n      <td>Synemon plana</td>\n      <td>Golden Sun Moth</td>\n      <td>Castniidae</td>\n      <td>Vulnerable</td>\n      <td>Vulnerable</td>\n    </tr>\n    <tr>\n      <th>62</th>\n      <td>Thesium australe</td>\n      <td>Austral Toadflax</td>\n      <td>Santalaceae</td>\n      <td>Vulnerable</td>\n      <td>Vulnerable</td>\n    </tr>\n    <tr>\n      <th>63</th>\n      <td>Tympanocryptis lineata</td>\n      <td>Canberra Grassland Earless Dragon</td>\n      <td>Agamidae</td>\n      <td>Critically Endangered</td>\n      <td>Critically Endangered</td>\n    </tr>\n  </tbody>\n</table>\n<p>64 rows × 5 columns</p>\n</div>"
     },
     "execution_count": 19,
     "metadata": {},
     "output_type": "execute_result"
    }
   ],
   "source": [
    "consData = data.loc[:, ['scientificname', 'vernacularname', 'family', 'status', 'sourceStatus']]\n",
    "consData = consData.rename(columns={'scientificname': 'scientificName', 'vernacularname': 'vernacularName'})\n",
    "consData"
   ],
   "metadata": {
    "collapsed": false,
    "pycharm": {
     "name": "#%%\n"
    },
    "ExecuteTime": {
     "end_time": "2024-01-12T00:18:51.121725Z",
     "start_time": "2024-01-12T00:18:51.104689Z"
    }
   }
  },
  {
   "cell_type": "markdown",
   "source": [
    "## Write conservation list to CSV"
   ],
   "metadata": {
    "collapsed": false,
    "pycharm": {
     "name": "#%% md\n"
    }
   }
  },
  {
   "cell_type": "code",
   "execution_count": 22,
   "outputs": [],
   "source": [
    "dr = 'dr649'\n",
    "consData.to_csv(cdataDir + 'ACT-' + dr + '-conservation.csv',  encoding=\"UTF-8\", index=False)\n"
   ],
   "metadata": {
    "collapsed": false,
    "pycharm": {
     "name": "#%%\n"
    },
    "ExecuteTime": {
     "end_time": "2024-01-12T00:21:08.524560Z",
     "start_time": "2024-01-12T00:21:08.518772Z"
    }
   }
  },
  {
   "cell_type": "markdown",
   "source": [
    "## Manual List check\n",
    "### Instructions\n",
    "1. Load the list above into the lists-test tool for this data resource\n",
    "2. Unskip the below code and Run the reports below to compare to production. Send the changelog.csv to check. Correct any issues.\n",
    "3. Save the production list into the historical lists directory by uncommenting the code section below.\n",
    "4. Load the list from current lists into production"
   ],
   "metadata": {
    "collapsed": false
   }
  },
  {
   "cell_type": "markdown",
   "source": [
    "### Change Logs"
   ],
   "metadata": {
    "collapsed": false,
    "pycharm": {
     "name": "#%% md\n"
    }
   }
  },
  {
   "cell_type": "code",
   "execution_count": 2,
   "outputs": [],
   "source": [
    "ltype = \"C\"\n",
    "changeDir = projectDir + \"Monitoring/Change-logs/\"\n",
    "\n",
    "dr = \"dr649\"\n",
    "filename = \"ACT-conservation.csv\"\n",
    "testdr = \"dr649\"\n",
    "proddr = \"dr649\"\n",
    "changelist = lf.get_changelist(testdr, proddr, ltype)\n",
    "changelist.to_csv(changeDir + monthStr + \"-\" + filename, encoding=\"UTF-8\", index=False)\n",
    "changelist"
   ],
   "metadata": {
    "collapsed": false,
    "pycharm": {
     "name": "#%%\n"
    },
    "ExecuteTime": {
     "end_time": "2024-01-12T03:56:16.034890Z",
     "start_time": "2024-01-12T03:56:15.139972Z"
    }
   }
  },
  {
   "cell_type": "code",
   "execution_count": 3,
   "outputs": [
    {
     "name": "stdout",
     "output_type": "stream",
     "text": [
      "download_ala_list:  https://lists.ala.org.au/ws/speciesListItems/dr649?max=10000&includeKVP=true\n",
      "Index(['id', 'name', 'commonName', 'scientificName', 'lsid', 'dataResourceUid',\n",
      "       'kvpValues'],\n",
      "      dtype='object')\n",
      "Finished downloading conservation historical list\n"
     ]
    }
   ],
   "source": [
    "# Download historical lists from Production\n",
    "prodListUrl = \"https://lists.ala.org.au/ws/speciesListItems/\" + proddr + \"?max=10000&includeKVP=true\"\n",
    "prodList = lf.download_ala_specieslist(prodListUrl)  # save the prod list to the historical lists directory\n",
    "prodList = lf.kvp_to_columns(prodList)\n",
    "prodList.to_csv(projectDir + \"historical-lists/conservation/\" + filename, encoding=\"UTF-8\", index=False)\n",
    "print('Finished downloading conservation historical list')\n"
   ],
   "metadata": {
    "collapsed": false,
    "pycharm": {
     "name": "#%%\n"
    }
   }
  }
 ],
 "metadata": {
  "kernelspec": {
   "display_name": "Python 3",
   "language": "python",
   "name": "python3"
  },
  "language_info": {
   "codemirror_mode": {
    "name": "ipython",
    "version": 2
   },
   "file_extension": ".py",
   "mimetype": "text/x-python",
   "name": "python",
   "nbconvert_exporter": "python",
   "pygments_lexer": "ipython2",
   "version": "2.7.6"
  }
 },
 "nbformat": 4,
 "nbformat_minor": 0
}
