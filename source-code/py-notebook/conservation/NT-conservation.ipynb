{
 "cells": [
  {
   "cell_type": "markdown",
   "source": [
    "# NT Conservation List\n",
    "\n",
    "## List Identifiers\n",
    "* Conservation list: __[dr651](https://lists.ala.org.au/speciesListItem/list/dr651)__ (and [dr651 in test](https://lists-test.ala.org.au/speciesListItem/list/dr651))\n",
    "* Collection: __[dr651](https://collections.ala.org.au/public/show/dr651)__\n",
    "\n",
    "## Source Data\n",
    "*  __[Home Page](https://nt.gov.au/environment)__\n",
    "*  __[Fauna](https://nt.gov.au/environment/animals/threatened-animals)__\n",
    "*  __[Flora](https://nt.gov.au/environment/native-plants/threatened-plants)__\n",
    "\n",
    "**Note:** Data was manually copied from website. No API or files available for download. No indication of where to obtain Sensitive list data.\n",
    "\n",
    "**Metadata Description**\n",
    "Classification codes under the Territory Parks and Wildlife Conservation Act: Extinct in the Wild Critically Endangered Endangered Vulnerable Near threatened Data\n",
    "deficient.\n",
    "\n",
    "Learn more about the classifications used by the Department of Natural Resources, Environment, the Arts and Sports.\n",
    "\n",
    "**Note:** Under the Northern Territory Department of Environment and Natural Resources Sensitive Flora and Fauna Data Policy, there are currently no flora records classified as sensitive\n",
    "\n",
    "**Metadata URL**\n",
    "https://nt.gov.au/environment\n",
    "\n"
   ],
   "metadata": {
    "collapsed": false,
    "pycharm": {
     "name": "#%% md\n"
    }
   }
  },
  {
   "cell_type": "markdown",
   "source": [
    "Import libraries"
   ],
   "metadata": {
    "collapsed": false,
    "pycharm": {
     "name": "#%% md\n"
    }
   }
  },
  {
   "cell_type": "code",
   "execution_count": 19,
   "outputs": [],
   "source": [
    "import pandas as pd\n",
    "import datetime\n",
    "import sys\n",
    "import os\n",
    "\n",
    "projectDir = \"/Users/oco115/PycharmProjects/authoritative-lists/\"\n",
    "sourcedir = \"source-data/NT/\"\n",
    "statusDir = projectDir + \"source-data/status-codes/\"\n",
    "cdataDir = \"current-lists/conservation-lists/\"\n",
    "monthStr = datetime.datetime.now().strftime('%Y%m')\n",
    "\n",
    "sys.path.append(os.path.abspath(projectDir + \"source-code/includes\"))\n",
    "import list_functions as lf"
   ],
   "metadata": {
    "collapsed": false,
    "pycharm": {
     "name": "#%%\n"
    }
   }
  },
  {
   "cell_type": "markdown",
   "source": [
    "## Process Flora"
   ],
   "metadata": {
    "collapsed": false,
    "pycharm": {
     "name": "#%% md\n"
    }
   }
  },
  {
   "cell_type": "code",
   "execution_count": 8,
   "outputs": [
    {
     "data": {
      "text/plain": "        Plant family          scientificName                 status  \\\n0   Hymenophyllaceae    Abrodictyum obscurum             Endangered   \n1           Fabaceae    Acacia equisetifolia  Critically endangered   \n2           Fabaceae           Acacia latzii             Vulnerable   \n3           Fabaceae            Acacia peuce             Endangered   \n5           Fabaceae     Acacia praetermissa             Vulnerable   \n..               ...                     ...                    ...   \n79           Araceae       Typhonium taylori             Endangered   \n80  Lentibulariaceae  Utricularia dunstaniae             Vulnerable   \n81  Lentibulariaceae  Utricularia singeriana             Vulnerable   \n82        Annonaceae      Xylopia monosperma             Endangered   \n83       Orchidaceae         Zeuxine oblonga             Vulnerable   \n\n             sourceStatus  \n0              Endangered  \n1   Critically endangered  \n2              Vulnerable  \n3              Endangered  \n5              Vulnerable  \n..                    ...  \n79             Endangered  \n80             Vulnerable  \n81             Vulnerable  \n82             Endangered  \n83             Vulnerable  \n\n[78 rows x 4 columns]",
      "text/html": "<div>\n<style scoped>\n    .dataframe tbody tr th:only-of-type {\n        vertical-align: middle;\n    }\n\n    .dataframe tbody tr th {\n        vertical-align: top;\n    }\n\n    .dataframe thead th {\n        text-align: right;\n    }\n</style>\n<table border=\"1\" class=\"dataframe\">\n  <thead>\n    <tr style=\"text-align: right;\">\n      <th></th>\n      <th>Plant family</th>\n      <th>scientificName</th>\n      <th>status</th>\n      <th>sourceStatus</th>\n    </tr>\n  </thead>\n  <tbody>\n    <tr>\n      <th>0</th>\n      <td>Hymenophyllaceae</td>\n      <td>Abrodictyum obscurum</td>\n      <td>Endangered</td>\n      <td>Endangered</td>\n    </tr>\n    <tr>\n      <th>1</th>\n      <td>Fabaceae</td>\n      <td>Acacia equisetifolia</td>\n      <td>Critically endangered</td>\n      <td>Critically endangered</td>\n    </tr>\n    <tr>\n      <th>2</th>\n      <td>Fabaceae</td>\n      <td>Acacia latzii</td>\n      <td>Vulnerable</td>\n      <td>Vulnerable</td>\n    </tr>\n    <tr>\n      <th>3</th>\n      <td>Fabaceae</td>\n      <td>Acacia peuce</td>\n      <td>Endangered</td>\n      <td>Endangered</td>\n    </tr>\n    <tr>\n      <th>5</th>\n      <td>Fabaceae</td>\n      <td>Acacia praetermissa</td>\n      <td>Vulnerable</td>\n      <td>Vulnerable</td>\n    </tr>\n    <tr>\n      <th>...</th>\n      <td>...</td>\n      <td>...</td>\n      <td>...</td>\n      <td>...</td>\n    </tr>\n    <tr>\n      <th>79</th>\n      <td>Araceae</td>\n      <td>Typhonium taylori</td>\n      <td>Endangered</td>\n      <td>Endangered</td>\n    </tr>\n    <tr>\n      <th>80</th>\n      <td>Lentibulariaceae</td>\n      <td>Utricularia dunstaniae</td>\n      <td>Vulnerable</td>\n      <td>Vulnerable</td>\n    </tr>\n    <tr>\n      <th>81</th>\n      <td>Lentibulariaceae</td>\n      <td>Utricularia singeriana</td>\n      <td>Vulnerable</td>\n      <td>Vulnerable</td>\n    </tr>\n    <tr>\n      <th>82</th>\n      <td>Annonaceae</td>\n      <td>Xylopia monosperma</td>\n      <td>Endangered</td>\n      <td>Endangered</td>\n    </tr>\n    <tr>\n      <th>83</th>\n      <td>Orchidaceae</td>\n      <td>Zeuxine oblonga</td>\n      <td>Vulnerable</td>\n      <td>Vulnerable</td>\n    </tr>\n  </tbody>\n</table>\n<p>78 rows × 4 columns</p>\n</div>"
     },
     "execution_count": 8,
     "metadata": {},
     "output_type": "execute_result"
    }
   ],
   "source": [
    "# flora = pd.read_excel(projectDir + sourcedir + \"ntConservationStatusList-Plants.xlsx\")\n",
    "flora = pd.read_csv(projectDir + sourcedir + \"ntConservationStatusList-Plants.csv\")\n",
    "flora = flora.rename(columns={\"Scientific name\": \"scientificName\", \"Status\": \"status\"})\n",
    "flora = flora[((flora['status'].notna()))]\n",
    "flora = flora[flora['status'] != 'Listed nationally but not under NT legislation']\n",
    "flora['sourceStatus'] = flora['status']\n",
    "flora"
   ],
   "metadata": {
    "collapsed": false,
    "pycharm": {
     "name": "#%%\n"
    }
   }
  },
  {
   "cell_type": "code",
   "execution_count": 9,
   "outputs": [
    {
     "data": {
      "text/plain": "array(['Endangered', 'Critically endangered', 'Vulnerable'], dtype=object)"
     },
     "execution_count": 9,
     "metadata": {},
     "output_type": "execute_result"
    }
   ],
   "source": [
    "flora['status'].unique()"
   ],
   "metadata": {
    "collapsed": false,
    "pycharm": {
     "name": "#%%\n"
    }
   }
  },
  {
   "cell_type": "code",
   "execution_count": 10,
   "id": "00b66b5c",
   "metadata": {
    "pycharm": {
     "name": "#%%\n"
    }
   },
   "outputs": [],
   "source": [
    "flora = flora.loc[:, ['scientificName',  'status', 'sourceStatus']]"
   ]
  },
  {
   "cell_type": "code",
   "execution_count": 11,
   "outputs": [
    {
     "data": {
      "text/plain": "            scientificName                 status           sourceStatus\n0     Abrodictyum obscurum             Endangered             Endangered\n1     Acacia equisetifolia  Critically endangered  Critically endangered\n2            Acacia latzii             Vulnerable             Vulnerable\n3             Acacia peuce             Endangered             Endangered\n5      Acacia praetermissa             Vulnerable             Vulnerable\n..                     ...                    ...                    ...\n79       Typhonium taylori             Endangered             Endangered\n80  Utricularia dunstaniae             Vulnerable             Vulnerable\n81  Utricularia singeriana             Vulnerable             Vulnerable\n82      Xylopia monosperma             Endangered             Endangered\n83         Zeuxine oblonga             Vulnerable             Vulnerable\n\n[78 rows x 3 columns]",
      "text/html": "<div>\n<style scoped>\n    .dataframe tbody tr th:only-of-type {\n        vertical-align: middle;\n    }\n\n    .dataframe tbody tr th {\n        vertical-align: top;\n    }\n\n    .dataframe thead th {\n        text-align: right;\n    }\n</style>\n<table border=\"1\" class=\"dataframe\">\n  <thead>\n    <tr style=\"text-align: right;\">\n      <th></th>\n      <th>scientificName</th>\n      <th>status</th>\n      <th>sourceStatus</th>\n    </tr>\n  </thead>\n  <tbody>\n    <tr>\n      <th>0</th>\n      <td>Abrodictyum obscurum</td>\n      <td>Endangered</td>\n      <td>Endangered</td>\n    </tr>\n    <tr>\n      <th>1</th>\n      <td>Acacia equisetifolia</td>\n      <td>Critically endangered</td>\n      <td>Critically endangered</td>\n    </tr>\n    <tr>\n      <th>2</th>\n      <td>Acacia latzii</td>\n      <td>Vulnerable</td>\n      <td>Vulnerable</td>\n    </tr>\n    <tr>\n      <th>3</th>\n      <td>Acacia peuce</td>\n      <td>Endangered</td>\n      <td>Endangered</td>\n    </tr>\n    <tr>\n      <th>5</th>\n      <td>Acacia praetermissa</td>\n      <td>Vulnerable</td>\n      <td>Vulnerable</td>\n    </tr>\n    <tr>\n      <th>...</th>\n      <td>...</td>\n      <td>...</td>\n      <td>...</td>\n    </tr>\n    <tr>\n      <th>79</th>\n      <td>Typhonium taylori</td>\n      <td>Endangered</td>\n      <td>Endangered</td>\n    </tr>\n    <tr>\n      <th>80</th>\n      <td>Utricularia dunstaniae</td>\n      <td>Vulnerable</td>\n      <td>Vulnerable</td>\n    </tr>\n    <tr>\n      <th>81</th>\n      <td>Utricularia singeriana</td>\n      <td>Vulnerable</td>\n      <td>Vulnerable</td>\n    </tr>\n    <tr>\n      <th>82</th>\n      <td>Xylopia monosperma</td>\n      <td>Endangered</td>\n      <td>Endangered</td>\n    </tr>\n    <tr>\n      <th>83</th>\n      <td>Zeuxine oblonga</td>\n      <td>Vulnerable</td>\n      <td>Vulnerable</td>\n    </tr>\n  </tbody>\n</table>\n<p>78 rows × 3 columns</p>\n</div>"
     },
     "execution_count": 11,
     "metadata": {},
     "output_type": "execute_result"
    }
   ],
   "source": [
    "flora"
   ],
   "metadata": {
    "collapsed": false,
    "pycharm": {
     "name": "#%%\n"
    }
   }
  },
  {
   "cell_type": "markdown",
   "source": [
    "## Process Fauna"
   ],
   "metadata": {
    "collapsed": false,
    "pycharm": {
     "name": "#%% md\n"
    }
   }
  },
  {
   "cell_type": "code",
   "execution_count": 12,
   "outputs": [],
   "source": [
    "# fauna = pd.read_excel(projectDir + sourcedir + \"ntConservationStatusList-Animals.xlsx\")\n",
    "fauna = pd.read_csv(projectDir + sourcedir + \"ntConservationStatusList-Animals.csv\")"
   ],
   "metadata": {
    "collapsed": false,
    "pycharm": {
     "name": "#%%\n"
    }
   }
  },
  {
   "cell_type": "code",
   "execution_count": 13,
   "outputs": [
    {
     "data": {
      "text/plain": "                         Common name            Scientific name  \\\n0                      Abbot's booby           Papasula abbotti   \n1          Alice Springs squat snail         Semotrachia euzyga   \n2                  Angalarri grunter              Scortum neili   \n3           Arafura snake-eyed skink    Cryptoblepharus gurrmul   \n4           Arnhem land gorges skink          Bellatorias obiri   \n..                               ...                        ...   \n136                      Whale shark            Rhincodon typus   \n137        White-throated grasswren         Amytornis woodwardi   \n138  Yellow chat (Alligator Rivers)   Epthianura crocea tunneyi   \n139     Yellow-snouted ground gecko           Lucasium occultum   \n140          Yellow-spotted monitor            Varanus panoptes   \n\n                                             Status  Animal Group  \n0                                        Endangered          Bird  \n1                                        Endangered  Invertebrate  \n2                                        Vulnerable          Fish  \n3                                        Endangered       Reptile  \n4                                        Endangered       Reptile  \n..                                              ...           ...  \n136  Listed nationally but not under NT legislation          Fish  \n137                                      Vulnerable          Bird  \n138                                      Endangered          Bird  \n139                                      Vulnerable       Reptile  \n140                                      Vulnerable       Reptile  \n\n[141 rows x 4 columns]",
      "text/html": "<div>\n<style scoped>\n    .dataframe tbody tr th:only-of-type {\n        vertical-align: middle;\n    }\n\n    .dataframe tbody tr th {\n        vertical-align: top;\n    }\n\n    .dataframe thead th {\n        text-align: right;\n    }\n</style>\n<table border=\"1\" class=\"dataframe\">\n  <thead>\n    <tr style=\"text-align: right;\">\n      <th></th>\n      <th>Common name</th>\n      <th>Scientific name</th>\n      <th>Status</th>\n      <th>Animal Group</th>\n    </tr>\n  </thead>\n  <tbody>\n    <tr>\n      <th>0</th>\n      <td>Abbot's booby</td>\n      <td>Papasula abbotti</td>\n      <td>Endangered</td>\n      <td>Bird</td>\n    </tr>\n    <tr>\n      <th>1</th>\n      <td>Alice Springs squat snail</td>\n      <td>Semotrachia euzyga</td>\n      <td>Endangered</td>\n      <td>Invertebrate</td>\n    </tr>\n    <tr>\n      <th>2</th>\n      <td>Angalarri grunter</td>\n      <td>Scortum neili</td>\n      <td>Vulnerable</td>\n      <td>Fish</td>\n    </tr>\n    <tr>\n      <th>3</th>\n      <td>Arafura snake-eyed skink</td>\n      <td>Cryptoblepharus gurrmul</td>\n      <td>Endangered</td>\n      <td>Reptile</td>\n    </tr>\n    <tr>\n      <th>4</th>\n      <td>Arnhem land gorges skink</td>\n      <td>Bellatorias obiri</td>\n      <td>Endangered</td>\n      <td>Reptile</td>\n    </tr>\n    <tr>\n      <th>...</th>\n      <td>...</td>\n      <td>...</td>\n      <td>...</td>\n      <td>...</td>\n    </tr>\n    <tr>\n      <th>136</th>\n      <td>Whale shark</td>\n      <td>Rhincodon typus</td>\n      <td>Listed nationally but not under NT legislation</td>\n      <td>Fish</td>\n    </tr>\n    <tr>\n      <th>137</th>\n      <td>White-throated grasswren</td>\n      <td>Amytornis woodwardi</td>\n      <td>Vulnerable</td>\n      <td>Bird</td>\n    </tr>\n    <tr>\n      <th>138</th>\n      <td>Yellow chat (Alligator Rivers)</td>\n      <td>Epthianura crocea tunneyi</td>\n      <td>Endangered</td>\n      <td>Bird</td>\n    </tr>\n    <tr>\n      <th>139</th>\n      <td>Yellow-snouted ground gecko</td>\n      <td>Lucasium occultum</td>\n      <td>Vulnerable</td>\n      <td>Reptile</td>\n    </tr>\n    <tr>\n      <th>140</th>\n      <td>Yellow-spotted monitor</td>\n      <td>Varanus panoptes</td>\n      <td>Vulnerable</td>\n      <td>Reptile</td>\n    </tr>\n  </tbody>\n</table>\n<p>141 rows × 4 columns</p>\n</div>"
     },
     "execution_count": 13,
     "metadata": {},
     "output_type": "execute_result"
    }
   ],
   "source": [
    "fauna"
   ],
   "metadata": {
    "collapsed": false,
    "pycharm": {
     "name": "#%%\n"
    }
   }
  },
  {
   "cell_type": "code",
   "execution_count": 14,
   "outputs": [],
   "source": [
    "fauna = fauna.rename(columns={\"Common name\": \"vernacularName\", \"Scientific name\": \"scientificName\", \"Status\": \"status\"})\n",
    "fauna['sourceStatus'] = fauna['status']\n",
    "fauna['status'].unique()\n",
    "# Remove Least concern and not under NT legislation fauna\n",
    "fauna = fauna[~fauna['status'].str.contains('Least concern|not under NT legislation', case=False)]\n",
    "rstrings = {\n",
    "    '(extinct in the wild in NT)': '',\n",
    "    '(extinct in NT)': ''\n",
    "}\n",
    "fauna['status'] = fauna['status'].str.replace('(extinct in the wild in NT)', '', regex=False)\n",
    "fauna['status'] = fauna['status'].str.replace('(extinct in wild in NT)', '', regex=False)\n",
    "fauna['status'] = fauna['status'].str.replace('(extinct in NT)', '', regex=False)\n",
    "fauna['status'] = fauna['status'].str.replace('(possibly extinct)', '', regex=False)\n",
    "fauna['status'] = fauna['status'].str.strip()"
   ],
   "metadata": {
    "collapsed": false,
    "pycharm": {
     "name": "#%%\n"
    }
   }
  },
  {
   "cell_type": "code",
   "execution_count": 15,
   "outputs": [
    {
     "data": {
      "text/plain": "array(['Endangered', 'Vulnerable', 'Critically endangered', 'Extinct'],\n      dtype=object)"
     },
     "execution_count": 15,
     "metadata": {},
     "output_type": "execute_result"
    }
   ],
   "source": [
    "fauna['status'].unique()"
   ],
   "metadata": {
    "collapsed": false,
    "pycharm": {
     "name": "#%%\n"
    }
   }
  },
  {
   "cell_type": "code",
   "execution_count": 16,
   "outputs": [],
   "source": [
    "fauna = fauna.loc[:, ['scientificName', 'status', 'sourceStatus']]"
   ],
   "metadata": {
    "collapsed": false,
    "pycharm": {
     "name": "#%%\n"
    }
   }
  },
  {
   "cell_type": "markdown",
   "source": [
    "### Concatenate Fauna and Flora, remove line breaks in scientific names\n"
   ],
   "metadata": {
    "collapsed": false,
    "pycharm": {
     "name": "#%% md\n"
    }
   }
  },
  {
   "cell_type": "code",
   "execution_count": 17,
   "id": "2437c822",
   "metadata": {
    "pycharm": {
     "name": "#%%\n"
    }
   },
   "outputs": [
    {
     "data": {
      "text/plain": "                scientificName                 status  \\\n0         Abrodictyum obscurum             Endangered   \n1         Acacia equisetifolia  Critically endangered   \n2                Acacia latzii             Vulnerable   \n3                 Acacia peuce             Endangered   \n5          Acacia praetermissa             Vulnerable   \n..                         ...                    ...   \n135         Dasyurus geoffroii             Vulnerable   \n137        Amytornis woodwardi             Vulnerable   \n138  Epthianura crocea tunneyi             Endangered   \n139          Lucasium occultum             Vulnerable   \n140           Varanus panoptes             Vulnerable   \n\n                   sourceStatus  \n0                    Endangered  \n1         Critically endangered  \n2                    Vulnerable  \n3                    Endangered  \n5                    Vulnerable  \n..                          ...  \n135  Vulnerable (extinct in NT)  \n137                  Vulnerable  \n138                  Endangered  \n139                  Vulnerable  \n140                  Vulnerable  \n\n[204 rows x 3 columns]",
      "text/html": "<div>\n<style scoped>\n    .dataframe tbody tr th:only-of-type {\n        vertical-align: middle;\n    }\n\n    .dataframe tbody tr th {\n        vertical-align: top;\n    }\n\n    .dataframe thead th {\n        text-align: right;\n    }\n</style>\n<table border=\"1\" class=\"dataframe\">\n  <thead>\n    <tr style=\"text-align: right;\">\n      <th></th>\n      <th>scientificName</th>\n      <th>status</th>\n      <th>sourceStatus</th>\n    </tr>\n  </thead>\n  <tbody>\n    <tr>\n      <th>0</th>\n      <td>Abrodictyum obscurum</td>\n      <td>Endangered</td>\n      <td>Endangered</td>\n    </tr>\n    <tr>\n      <th>1</th>\n      <td>Acacia equisetifolia</td>\n      <td>Critically endangered</td>\n      <td>Critically endangered</td>\n    </tr>\n    <tr>\n      <th>2</th>\n      <td>Acacia latzii</td>\n      <td>Vulnerable</td>\n      <td>Vulnerable</td>\n    </tr>\n    <tr>\n      <th>3</th>\n      <td>Acacia peuce</td>\n      <td>Endangered</td>\n      <td>Endangered</td>\n    </tr>\n    <tr>\n      <th>5</th>\n      <td>Acacia praetermissa</td>\n      <td>Vulnerable</td>\n      <td>Vulnerable</td>\n    </tr>\n    <tr>\n      <th>...</th>\n      <td>...</td>\n      <td>...</td>\n      <td>...</td>\n    </tr>\n    <tr>\n      <th>135</th>\n      <td>Dasyurus geoffroii</td>\n      <td>Vulnerable</td>\n      <td>Vulnerable (extinct in NT)</td>\n    </tr>\n    <tr>\n      <th>137</th>\n      <td>Amytornis woodwardi</td>\n      <td>Vulnerable</td>\n      <td>Vulnerable</td>\n    </tr>\n    <tr>\n      <th>138</th>\n      <td>Epthianura crocea tunneyi</td>\n      <td>Endangered</td>\n      <td>Endangered</td>\n    </tr>\n    <tr>\n      <th>139</th>\n      <td>Lucasium occultum</td>\n      <td>Vulnerable</td>\n      <td>Vulnerable</td>\n    </tr>\n    <tr>\n      <th>140</th>\n      <td>Varanus panoptes</td>\n      <td>Vulnerable</td>\n      <td>Vulnerable</td>\n    </tr>\n  </tbody>\n</table>\n<p>204 rows × 3 columns</p>\n</div>"
     },
     "execution_count": 17,
     "metadata": {},
     "output_type": "execute_result"
    }
   ],
   "source": [
    "result = pd.concat([flora, fauna])\n",
    "result['scientificName'] = result['scientificName'].replace(r'\\n', '', regex=True)\n",
    "result"
   ]
  },
  {
   "cell_type": "markdown",
   "source": [
    "### Write dataframe to CSV - UTF-8 encoding"
   ],
   "metadata": {
    "collapsed": false,
    "pycharm": {
     "name": "#%% md\n"
    }
   }
  },
  {
   "cell_type": "code",
   "execution_count": null,
   "outputs": [],
   "source": [
    "result.to_csv(projectDir + cdataDir + 'NT-Conservation-20230601.csv',  encoding=\"UTF-8-sig\",index = False)\n",
    "print(\"Finished writing NT conservation listt\")"
   ],
   "metadata": {
    "collapsed": false,
    "pycharm": {
     "name": "#%%\n"
    }
   }
  },
  {
   "cell_type": "code",
   "execution_count": null,
   "outputs": [],
   "source": [
    "### Change logs"
   ],
   "metadata": {
    "collapsed": false,
    "pycharm": {
     "name": "#%%\n"
    }
   }
  },
  {
   "cell_type": "code",
   "execution_count": null,
   "outputs": [],
   "source": [
    "ltype = \"C\"\n",
    "changeDir = \"Monitoring/Change-logs/\"\n",
    "# NT Conservation\n",
    "print('NT conservation')\n",
    "filename = \"NT-conservation.csv\"\n",
    "testdr = \"dr651\"\n",
    "proddr = \"dr651\"\n",
    "changelist = lf.get_changelist(testdr, proddr, ltype)\n",
    "changelist.to_csv(projectDir + changeDir + monthStr + \"-\" + filename, encoding=\"UTF-8\", index=False)\n",
    "print('Finished NT conservation')"
   ],
   "metadata": {
    "collapsed": false,
    "pycharm": {
     "name": "#%%\n"
    }
   }
  },
  {
   "cell_type": "code",
   "execution_count": null,
   "outputs": [],
   "source": [
    "# Download historical lists from Production\n",
    "prodListUrl = \"https://lists.ala.org.au/ws/speciesListItems/\" + proddr + \"?max=10000&includeKVP=true\"\n",
    "prodList = lf.download_ala_specieslist(prodListUrl)  # save the prod list to the historical lists directory\n",
    "prodList = lf.kvp_to_columns(prodList)\n",
    "prodList.to_csv(projectDir + \"historical-lists/conservation/\" + filename, encoding=\"UTF-8\", index=False)\n",
    "print('Finished downloading conservation historical list')"
   ],
   "metadata": {
    "collapsed": false,
    "pycharm": {
     "name": "#%%\n"
    }
   }
  }
 ],
 "metadata": {
  "kernelspec": {
   "display_name": "Python 3",
   "language": "python",
   "name": "python3"
  },
  "language_info": {
   "codemirror_mode": {
    "name": "ipython",
    "version": 3
   },
   "file_extension": ".py",
   "mimetype": "text/x-python",
   "name": "python",
   "nbconvert_exporter": "python",
   "pygments_lexer": "ipython3",
   "version": "3.8.8"
  }
 },
 "nbformat": 4,
 "nbformat_minor": 5
}