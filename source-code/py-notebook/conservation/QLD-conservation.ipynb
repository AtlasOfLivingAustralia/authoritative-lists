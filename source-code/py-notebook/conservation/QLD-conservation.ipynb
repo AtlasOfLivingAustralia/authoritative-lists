{
 "cells": [
  {
   "cell_type": "markdown",
   "source": [
    "# QLD Conservation Status List\n",
    "\n",
    "This notebook downloads the Qld lists from the [Qld Government Open Data Portal](https://data.qld.gov.au) and formats them in Darwin Core for ingestion into the ALA Lists tool.\n",
    "It will save original lists to the `source-data/QLD` directory, process the lists and save them to `current-lists`.\n",
    "\n",
    "## Lists in the ALA Species List tool\n",
    "* Conservation list: __[dr652](https://lists.ala.org.au/speciesListItem/list/dr652)__ ([dr652 in test](https://lists-test.ala.org.au/speciesListItem/list/dr652))\n",
    "* Collection: __[dr652](https://collections.ala.org.au/public/show/dr652)__\n",
    "\n",
    "## Source Data\n",
    "Queensland Nature Conservation Act 1992\n",
    "\n",
    "* __[Conservation](https://apps.des.qld.gov.au/data-sets/wildlife/wildnet/species.csv)__\n",
    "* __[Species Codes](https://apps.des.qld.gov.au/data-sets/wildlife/wildnet/species-status-codes.csv)__\n",
    "\n",
    "**Metadata Description**\n",
    "\n",
    "**Conservation:** The list of taxa from the Department of Environment and Science’s WildNet database with their classification codes under the Nature Conservation Act 1992: Extinct (EX), Extinct in the wild (PE), Critically Endangered (CR), Endangered (E), Vulnerable (V), Near threatened (NT, Least concern (C), Special least concern (SL) and International (I). It is published weekly as the Conservation status of Queensland wildlife dataset in the Queensland Government Data portal.\n",
    "\n",
    "**Metadata URL**\n",
    "* Qld Species (Open Data Portal) https://www.data.qld.gov.au/dataset/conservation-status-of-queensland-wildlife\n",
    "* Queensland Confidential Species (Open Data Portal) https://www.data.qld.gov.au/dataset/queensland-confidential-species\n",
    "* Qld Species codes https://www.data.qld.gov.au/dataset/conservation-status-of-queensland-wildlife/resource/6344ea93-cadf-4e0c-9ff4-12dfb18d5f14"
   ],
   "metadata": {
    "collapsed": false,
    "pycharm": {
     "name": "#%% md\n"
    }
   }
  },
  {
   "cell_type": "markdown",
   "source": [],
   "metadata": {
    "collapsed": false,
    "pycharm": {
     "name": "#%% md\n"
    }
   }
  },
  {
   "cell_type": "code",
   "execution_count": 1,
   "outputs": [],
   "source": [
    "import datetime\n",
    "\n",
    "import pandas as pd\n",
    "import requests\n",
    "import io\n",
    "from ftfy import fix_encoding\n",
    "import urllib.request, json\n",
    "import certifi\n",
    "import ssl\n",
    "import os\n",
    "import sys\n",
    "\n",
    "#projectDir = \"/Users/oco115/PycharmProjects/authoritative-lists/\"\n",
    "projectDir = \"/Users/new330/IdeaProjects/authoritative-lists/\"\n",
    "sys.path.append(os.path.abspath(projectDir + \"source-code/includes\"))\n",
    "import list_functions as lf\n",
    "\n",
    "sourceDataDir = projectDir + \"source-data/QLD/\"\n",
    "statusDir = projectDir + \"source-data/status-codes/\"\n",
    "processedDataDir = projectDir + \"current-lists/\"\n",
    "state = 'QLD'\n",
    "monthStr = datetime.datetime.now().strftime('%Y%m')\n",
    "codesurl =  \"https://apps.des.qld.gov.au/data-sets/wildlife/wildnet/species-status-codes.csv\"\n",
    "listurl = \"https://apps.des.qld.gov.au/data-sets/wildlife/wildnet/species.csv\"\n",
    "\n",
    "testListDruid = \"dr652\"\n",
    "prodListDruid = \"dr652\""
   ],
   "metadata": {
    "collapsed": false,
    "pycharm": {
     "name": "#%%\n"
    }
   }
  },
  {
   "cell_type": "markdown",
   "source": [
    "## Download the raw files from data.qld.gov.au\n",
    "... save locally"
   ],
   "metadata": {
    "collapsed": false,
    "pycharm": {
     "name": "#%% md\n"
    }
   }
  },
  {
   "cell_type": "code",
   "execution_count": 2,
   "outputs": [],
   "source": [
    "# %%script echo skipping # comment this line to download dataset from API\n",
    "\n",
    "# Status codes\n",
    "response = requests.get(codesurl)\n",
    "rtext = fix_encoding(response.text)\n",
    "speciescodes = pd.read_csv(io.StringIO(rtext))\n",
    "speciescodes.to_csv(sourceDataDir + \"species-status-codes.csv\", index=False)\n",
    "\n",
    "# Conservation List\n",
    "response = requests.get(listurl)\n",
    "rtext = fix_encoding(response.text)\n",
    "conservationlist = pd.read_csv(io.StringIO(rtext))\n",
    "conservationlist.to_csv(sourceDataDir + \"species.csv\", index=False)"
   ],
   "metadata": {
    "collapsed": false,
    "pycharm": {
     "name": "#%%\n"
    }
   }
  },
  {
   "cell_type": "code",
   "execution_count": 19,
   "outputs": [],
   "source": [
    "\n"
   ],
   "metadata": {
    "collapsed": false,
    "pycharm": {
     "name": "#%%\n"
    }
   }
  },
  {
   "cell_type": "markdown",
   "source": [
    "## Standardise Status Codes\n",
    "Some minimal changes to some Qld Nature Conservation Act codes so that they are consistent with other states"
   ],
   "metadata": {
    "collapsed": false,
    "pycharm": {
     "name": "#%% md\n"
    }
   }
  },
  {
   "cell_type": "code",
   "execution_count": 22,
   "outputs": [
    {
     "data": {
      "text/plain": "   Code       Code_description\n20    C          Least concern\n21   CR  Critically Endangered\n22    E             Endangered\n23   EX                Extinct\n24    I          International\n25   NT        Near Threatened\n26    P             Prohibited\n27   PE    Extinct in the wild\n28   SL  Special least concern\n29    V             Vulnerable",
      "text/html": "<div>\n<style scoped>\n    .dataframe tbody tr th:only-of-type {\n        vertical-align: middle;\n    }\n\n    .dataframe tbody tr th {\n        vertical-align: top;\n    }\n\n    .dataframe thead th {\n        text-align: right;\n    }\n</style>\n<table border=\"1\" class=\"dataframe\">\n  <thead>\n    <tr style=\"text-align: right;\">\n      <th></th>\n      <th>Code</th>\n      <th>Code_description</th>\n    </tr>\n  </thead>\n  <tbody>\n    <tr>\n      <th>20</th>\n      <td>C</td>\n      <td>Least concern</td>\n    </tr>\n    <tr>\n      <th>21</th>\n      <td>CR</td>\n      <td>Critically Endangered</td>\n    </tr>\n    <tr>\n      <th>22</th>\n      <td>E</td>\n      <td>Endangered</td>\n    </tr>\n    <tr>\n      <th>23</th>\n      <td>EX</td>\n      <td>Extinct</td>\n    </tr>\n    <tr>\n      <th>24</th>\n      <td>I</td>\n      <td>International</td>\n    </tr>\n    <tr>\n      <th>25</th>\n      <td>NT</td>\n      <td>Near Threatened</td>\n    </tr>\n    <tr>\n      <th>26</th>\n      <td>P</td>\n      <td>Prohibited</td>\n    </tr>\n    <tr>\n      <th>27</th>\n      <td>PE</td>\n      <td>Extinct in the wild</td>\n    </tr>\n    <tr>\n      <th>28</th>\n      <td>SL</td>\n      <td>Special least concern</td>\n    </tr>\n    <tr>\n      <th>29</th>\n      <td>V</td>\n      <td>Vulnerable</td>\n    </tr>\n  </tbody>\n</table>\n</div>"
     },
     "execution_count": 22,
     "metadata": {},
     "output_type": "execute_result"
    }
   ],
   "source": [
    "speciescodes = pd.read_csv(sourceDataDir + \"species-status-codes.csv\")\n",
    "ncastatuscodes = speciescodes[speciescodes['Field'] == \"NCA_status\"][['Code', 'Code_description']]\n",
    "ncastatuscodes['Code_description'] = ncastatuscodes['Code_description'].str.replace(\" wildlife\", \"\")\n",
    "ncastatuscodes.loc[\n",
    "    ncastatuscodes['Code_description'] == \"Critically endangered\", 'Code_description'] = \"Critically Endangered\"\n",
    "ncastatuscodes.loc[ncastatuscodes['Code_description'] == \"Near threatened\", 'Code_description'] = \"Near Threatened\"\n",
    "ncastatuscodes"
   ],
   "metadata": {
    "collapsed": false,
    "pycharm": {
     "name": "#%%\n"
    }
   }
  },
  {
   "cell_type": "markdown",
   "source": [
    "## Conservation List\n",
    "* Join to the codes to expand the code descriptions.\n",
    "* Change the field names to `sourceStatus` and `status` as required by the ALA's conservation list processing.\n",
    "* Remove **Least concern**, **Special least concern** and **no status**\n",
    "* Expand the endemicity and epbc status codes\n",
    "* Map sourceStatus to status"
   ],
   "metadata": {
    "collapsed": false,
    "pycharm": {
     "name": "#%% md\n"
    }
   }
  },
  {
   "cell_type": "code",
   "execution_count": 32,
   "outputs": [
    {
     "data": {
      "text/plain": "              scientificName               vernacularName           family  \\\n0            Adelotus brevis                  tusked frog  Limnodynastidae   \n15      Philoria kundagungan  red-and-yellow mountainfrog  Limnodynastidae   \n19          Assa darlingtoni                 pouched frog   Myobatrachidae   \n25            Crinia tinnula               wallum froglet   Myobatrachidae   \n29          Mixophyes fleayi          Fleay's barred frog   Myobatrachidae   \n...                      ...                          ...              ...   \n21824  Macrozamia serpentina                          NaN        Zamiaceae   \n21825     Macrozamia viridis                          NaN        Zamiaceae   \n21830       Alpinia hylandii                          NaN    Zingiberaceae   \n21833  Amomum queenslandicum                          NaN    Zingiberaceae   \n21837       Globba marantina                          NaN    Zingiberaceae   \n\n       WildNetTaxonID                                            taxonID  \\\n0                 706  https://apps.des.qld.gov.au/species-search/det...   \n15                687  https://apps.des.qld.gov.au/species-search/det...   \n19                693  https://apps.des.qld.gov.au/species-search/det...   \n25                686  https://apps.des.qld.gov.au/species-search/det...   \n29                675  https://apps.des.qld.gov.au/species-search/det...   \n...               ...                                                ...   \n21824           27445  https://apps.des.qld.gov.au/species-search/det...   \n21825            6482  https://apps.des.qld.gov.au/species-search/det...   \n21830            8948  https://apps.des.qld.gov.au/species-search/det...   \n21833            8949  https://apps.des.qld.gov.au/species-search/det...   \n21837           12434  https://apps.des.qld.gov.au/species-search/det...   \n\n                status sourceStatus  \n0           Vulnerable            V  \n15          Endangered            E  \n19          Vulnerable            V  \n25          Vulnerable            V  \n29          Endangered            E  \n...                ...          ...  \n21824       Endangered            E  \n21825       Endangered            E  \n21830  Near Threatened           NT  \n21833       Vulnerable            V  \n21837       Vulnerable            V  \n\n[1339 rows x 7 columns]",
      "text/html": "<div>\n<style scoped>\n    .dataframe tbody tr th:only-of-type {\n        vertical-align: middle;\n    }\n\n    .dataframe tbody tr th {\n        vertical-align: top;\n    }\n\n    .dataframe thead th {\n        text-align: right;\n    }\n</style>\n<table border=\"1\" class=\"dataframe\">\n  <thead>\n    <tr style=\"text-align: right;\">\n      <th></th>\n      <th>scientificName</th>\n      <th>vernacularName</th>\n      <th>family</th>\n      <th>WildNetTaxonID</th>\n      <th>taxonID</th>\n      <th>status</th>\n      <th>sourceStatus</th>\n    </tr>\n  </thead>\n  <tbody>\n    <tr>\n      <th>0</th>\n      <td>Adelotus brevis</td>\n      <td>tusked frog</td>\n      <td>Limnodynastidae</td>\n      <td>706</td>\n      <td>https://apps.des.qld.gov.au/species-search/det...</td>\n      <td>Vulnerable</td>\n      <td>V</td>\n    </tr>\n    <tr>\n      <th>15</th>\n      <td>Philoria kundagungan</td>\n      <td>red-and-yellow mountainfrog</td>\n      <td>Limnodynastidae</td>\n      <td>687</td>\n      <td>https://apps.des.qld.gov.au/species-search/det...</td>\n      <td>Endangered</td>\n      <td>E</td>\n    </tr>\n    <tr>\n      <th>19</th>\n      <td>Assa darlingtoni</td>\n      <td>pouched frog</td>\n      <td>Myobatrachidae</td>\n      <td>693</td>\n      <td>https://apps.des.qld.gov.au/species-search/det...</td>\n      <td>Vulnerable</td>\n      <td>V</td>\n    </tr>\n    <tr>\n      <th>25</th>\n      <td>Crinia tinnula</td>\n      <td>wallum froglet</td>\n      <td>Myobatrachidae</td>\n      <td>686</td>\n      <td>https://apps.des.qld.gov.au/species-search/det...</td>\n      <td>Vulnerable</td>\n      <td>V</td>\n    </tr>\n    <tr>\n      <th>29</th>\n      <td>Mixophyes fleayi</td>\n      <td>Fleay's barred frog</td>\n      <td>Myobatrachidae</td>\n      <td>675</td>\n      <td>https://apps.des.qld.gov.au/species-search/det...</td>\n      <td>Endangered</td>\n      <td>E</td>\n    </tr>\n    <tr>\n      <th>...</th>\n      <td>...</td>\n      <td>...</td>\n      <td>...</td>\n      <td>...</td>\n      <td>...</td>\n      <td>...</td>\n      <td>...</td>\n    </tr>\n    <tr>\n      <th>21824</th>\n      <td>Macrozamia serpentina</td>\n      <td>NaN</td>\n      <td>Zamiaceae</td>\n      <td>27445</td>\n      <td>https://apps.des.qld.gov.au/species-search/det...</td>\n      <td>Endangered</td>\n      <td>E</td>\n    </tr>\n    <tr>\n      <th>21825</th>\n      <td>Macrozamia viridis</td>\n      <td>NaN</td>\n      <td>Zamiaceae</td>\n      <td>6482</td>\n      <td>https://apps.des.qld.gov.au/species-search/det...</td>\n      <td>Endangered</td>\n      <td>E</td>\n    </tr>\n    <tr>\n      <th>21830</th>\n      <td>Alpinia hylandii</td>\n      <td>NaN</td>\n      <td>Zingiberaceae</td>\n      <td>8948</td>\n      <td>https://apps.des.qld.gov.au/species-search/det...</td>\n      <td>Near Threatened</td>\n      <td>NT</td>\n    </tr>\n    <tr>\n      <th>21833</th>\n      <td>Amomum queenslandicum</td>\n      <td>NaN</td>\n      <td>Zingiberaceae</td>\n      <td>8949</td>\n      <td>https://apps.des.qld.gov.au/species-search/det...</td>\n      <td>Vulnerable</td>\n      <td>V</td>\n    </tr>\n    <tr>\n      <th>21837</th>\n      <td>Globba marantina</td>\n      <td>NaN</td>\n      <td>Zingiberaceae</td>\n      <td>12434</td>\n      <td>https://apps.des.qld.gov.au/species-search/det...</td>\n      <td>Vulnerable</td>\n      <td>V</td>\n    </tr>\n  </tbody>\n</table>\n<p>1339 rows × 7 columns</p>\n</div>"
     },
     "execution_count": 32,
     "metadata": {},
     "output_type": "execute_result"
    }
   ],
   "source": [
    "conservationlist = pd.read_csv(sourceDataDir + \"species.csv\")\n",
    "conservationlist = pd.merge(conservationlist,ncastatuscodes,left_on=['NCA_status'],right_on=['Code'],how=\"left\")\n",
    "\n",
    "conservationlist = conservationlist.rename(columns=\n",
    "{   'Scientific_name':'scientificName',\n",
    "    'Common_name': 'vernacularName',\n",
    "    'Taxon_author':'scientificNameAuthorship',\n",
    "    'Family': 'family',\n",
    "    'NCA_status':'sourceStatus',\n",
    "    'Code_description':'status',\n",
    "    'Taxon_Id':'WildNetTaxonID'\n",
    "})\n",
    "\n",
    "conservationlist['taxonID'] = 'https://apps.des.qld.gov.au/species-search/details/?id=' + conservationlist['WildNetTaxonID'].astype(str)\n",
    "\n",
    "# remove unwanted rows\n",
    "conservationlist = conservationlist[(conservationlist['status'].notna())]\n",
    "conservationlist = conservationlist[~conservationlist['status'].str.contains('Special least concern', case=False)]\n",
    "conservationlist = conservationlist[~conservationlist['status'].str.contains('Least concern', case=False)]\n",
    "# remove unwanted cols\n",
    "conservationlist = conservationlist.loc[:, ['scientificName', 'vernacularName', 'family', 'WildNetTaxonID','taxonID','status', 'sourceStatus']]\n",
    "# write to file\n",
    "conservationlist.to_csv(processedDataDir + 'conservation-lists/QLD-' + prodListDruid + '-conservation.csv',encoding=\"UTF-8\",index=False)\n",
    "conservationlist"
   ],
   "metadata": {
    "collapsed": false,
    "pycharm": {
     "name": "#%%\n"
    }
   }
  },
  {
   "cell_type": "code",
   "execution_count": 27,
   "outputs": [
    {
     "data": {
      "text/plain": "array(['Vulnerable', 'Endangered', 'Extinct in the wild',\n       'Near Threatened', 'Critically Endangered', 'Extinct'],\n      dtype=object)"
     },
     "execution_count": 27,
     "metadata": {},
     "output_type": "execute_result"
    }
   ],
   "source": [
    "conservationlist['status'].unique()"
   ],
   "metadata": {
    "collapsed": false,
    "pycharm": {
     "name": "#%%\n"
    }
   }
  },
  {
   "cell_type": "markdown",
   "source": [
    "### Change Logs\n",
    "Upload the file to the test environment before running the below cell to compare it to the list in production.\n",
    "- check record counts old vs new and verify count in change log\n",
    "- send to domain experts for verification"
   ],
   "metadata": {
    "collapsed": false,
    "pycharm": {
     "name": "#%% md\n"
    }
   }
  },
  {
   "cell_type": "code",
   "execution_count": 33,
   "outputs": [
    {
     "name": "stdout",
     "output_type": "stream",
     "text": [
      "get_changelist: Test -  dr652 Prod -  dr652\n",
      "download_ala_list:  https://lists.ala.org.au/ws/speciesListItems/dr652?max=10000&includeKVP=true\n",
      "Index(['id', 'name', 'commonName', 'scientificName', 'lsid', 'dataResourceUid',\n",
      "       'kvpValues'],\n",
      "      dtype='object')\n",
      "download_ala_list:  https://lists-test.ala.org.au/ws/speciesListItems/dr652?max=10000&includeKVP=true\n",
      "Index(['id', 'name', 'commonName', 'scientificName', 'lsid', 'dataResourceUid',\n",
      "       'kvpValues'],\n",
      "      dtype='object')\n"
     ]
    },
    {
     "data": {
      "text/plain": "                                             name scientificName_old  \\\n773                        Aggreflorum luehmannii                NaN   \n774                          Aggreflorum pallidum                NaN   \n810                              Gaudium venustum                NaN   \n896                           Anacolosa australis                NaN   \n1170                            Bergera crenulata                NaN   \n...                                           ...                ...   \n1315                      Pimelea leptospermoides                NaN   \n1318                            Pimelea umbratica                NaN   \n1321  Bubbia queenslandiana subsp. queenslandiana                NaN   \n1328                        Macrozamia longispina                NaN   \n1336                             Alpinia hylandii                NaN   \n\n                               scientificName_new commonName_old  \\\n773                                          None            NaN   \n774                                          None            NaN   \n810                                          None            NaN   \n896                                     Anacolosa            NaN   \n1170                                      Murraya            NaN   \n...                                           ...            ...   \n1315                      Pimelea leptospermoides            NaN   \n1318                            Pimelea umbratica            NaN   \n1321  Bubbia queenslandiana subsp. queenslandiana            NaN   \n1328                        Macrozamia longispina            NaN   \n1336                             Alpinia hylandii            NaN   \n\n     commonName_new       status_old       status_new     listUpdate  \n773            None              NaN       Vulnerable          added  \n774            None              NaN  Near Threatened          added  \n810            None              NaN       Vulnerable          added  \n896            None              NaN  Near Threatened          added  \n1170           None              NaN       Endangered          added  \n...             ...              ...              ...            ...  \n1315           None  Near threatened  Near Threatened  status change  \n1318           None  Near threatened  Near Threatened  status change  \n1321     Winterwood  Near threatened  Near Threatened  status change  \n1328           None  Near threatened  Near Threatened  status change  \n1336           None  Near threatened  Near Threatened  status change  \n\n[296 rows x 8 columns]",
      "text/html": "<div>\n<style scoped>\n    .dataframe tbody tr th:only-of-type {\n        vertical-align: middle;\n    }\n\n    .dataframe tbody tr th {\n        vertical-align: top;\n    }\n\n    .dataframe thead th {\n        text-align: right;\n    }\n</style>\n<table border=\"1\" class=\"dataframe\">\n  <thead>\n    <tr style=\"text-align: right;\">\n      <th></th>\n      <th>name</th>\n      <th>scientificName_old</th>\n      <th>scientificName_new</th>\n      <th>commonName_old</th>\n      <th>commonName_new</th>\n      <th>status_old</th>\n      <th>status_new</th>\n      <th>listUpdate</th>\n    </tr>\n  </thead>\n  <tbody>\n    <tr>\n      <th>773</th>\n      <td>Aggreflorum luehmannii</td>\n      <td>NaN</td>\n      <td>None</td>\n      <td>NaN</td>\n      <td>None</td>\n      <td>NaN</td>\n      <td>Vulnerable</td>\n      <td>added</td>\n    </tr>\n    <tr>\n      <th>774</th>\n      <td>Aggreflorum pallidum</td>\n      <td>NaN</td>\n      <td>None</td>\n      <td>NaN</td>\n      <td>None</td>\n      <td>NaN</td>\n      <td>Near Threatened</td>\n      <td>added</td>\n    </tr>\n    <tr>\n      <th>810</th>\n      <td>Gaudium venustum</td>\n      <td>NaN</td>\n      <td>None</td>\n      <td>NaN</td>\n      <td>None</td>\n      <td>NaN</td>\n      <td>Vulnerable</td>\n      <td>added</td>\n    </tr>\n    <tr>\n      <th>896</th>\n      <td>Anacolosa australis</td>\n      <td>NaN</td>\n      <td>Anacolosa</td>\n      <td>NaN</td>\n      <td>None</td>\n      <td>NaN</td>\n      <td>Near Threatened</td>\n      <td>added</td>\n    </tr>\n    <tr>\n      <th>1170</th>\n      <td>Bergera crenulata</td>\n      <td>NaN</td>\n      <td>Murraya</td>\n      <td>NaN</td>\n      <td>None</td>\n      <td>NaN</td>\n      <td>Endangered</td>\n      <td>added</td>\n    </tr>\n    <tr>\n      <th>...</th>\n      <td>...</td>\n      <td>...</td>\n      <td>...</td>\n      <td>...</td>\n      <td>...</td>\n      <td>...</td>\n      <td>...</td>\n      <td>...</td>\n    </tr>\n    <tr>\n      <th>1315</th>\n      <td>Pimelea leptospermoides</td>\n      <td>NaN</td>\n      <td>Pimelea leptospermoides</td>\n      <td>NaN</td>\n      <td>None</td>\n      <td>Near threatened</td>\n      <td>Near Threatened</td>\n      <td>status change</td>\n    </tr>\n    <tr>\n      <th>1318</th>\n      <td>Pimelea umbratica</td>\n      <td>NaN</td>\n      <td>Pimelea umbratica</td>\n      <td>NaN</td>\n      <td>None</td>\n      <td>Near threatened</td>\n      <td>Near Threatened</td>\n      <td>status change</td>\n    </tr>\n    <tr>\n      <th>1321</th>\n      <td>Bubbia queenslandiana subsp. queenslandiana</td>\n      <td>NaN</td>\n      <td>Bubbia queenslandiana subsp. queenslandiana</td>\n      <td>NaN</td>\n      <td>Winterwood</td>\n      <td>Near threatened</td>\n      <td>Near Threatened</td>\n      <td>status change</td>\n    </tr>\n    <tr>\n      <th>1328</th>\n      <td>Macrozamia longispina</td>\n      <td>NaN</td>\n      <td>Macrozamia longispina</td>\n      <td>NaN</td>\n      <td>None</td>\n      <td>Near threatened</td>\n      <td>Near Threatened</td>\n      <td>status change</td>\n    </tr>\n    <tr>\n      <th>1336</th>\n      <td>Alpinia hylandii</td>\n      <td>NaN</td>\n      <td>Alpinia hylandii</td>\n      <td>NaN</td>\n      <td>None</td>\n      <td>Near threatened</td>\n      <td>Near Threatened</td>\n      <td>status change</td>\n    </tr>\n  </tbody>\n</table>\n<p>296 rows × 8 columns</p>\n</div>"
     },
     "execution_count": 33,
     "metadata": {},
     "output_type": "execute_result"
    }
   ],
   "source": [
    "ltype = \"C\"\n",
    "changeDir = \"Monitoring/Change-logs/\"\n",
    "filename = \"QLD-conservation.csv\"\n",
    "changelist = lf.get_changelist(testListDruid, prodListDruid, ltype)\n",
    "changelist.to_csv(projectDir + changeDir + monthStr + \"-\" + filename, encoding=\"UTF-8\", index=False)\n",
    "changelist"
   ],
   "metadata": {
    "collapsed": false,
    "pycharm": {
     "name": "#%%\n"
    }
   }
  },
  {
   "cell_type": "code",
   "execution_count": 12,
   "outputs": [
    {
     "name": "stdout",
     "output_type": "stream",
     "text": [
      "download_ala_list:  https://lists.ala.org.au/ws/speciesListItems/dr652?max=10000&includeKVP=true\n",
      "Index(['id', 'name', 'commonName', 'scientificName', 'lsid', 'dataResourceUid',\n",
      "       'kvpValues'],\n",
      "      dtype='object')\n",
      "Finished downloading conservation historical list\n"
     ]
    }
   ],
   "source": [
    "# Download historical lists from Production\n",
    "prodListUrl = \"https://lists.ala.org.au/ws/speciesListItems/\" + proddr + \"?max=10000&includeKVP=true\"\n",
    "prodList = lf.download_ala_specieslist(prodListUrl)  # save the prod list to the historical lists directory\n",
    "prodList = lf.kvp_to_columns(prodList)\n",
    "prodList.to_csv(projectDir + \"historical-lists/conservation/\" + filename, encoding=\"UTF-8\", index=False)\n",
    "print('Finished downloading conservation historical list')"
   ],
   "metadata": {
    "collapsed": false,
    "pycharm": {
     "name": "#%%\n"
    }
   }
  }
 ],
 "metadata": {
  "kernelspec": {
   "display_name": "Python 3",
   "language": "python",
   "name": "python3"
  },
  "language_info": {
   "codemirror_mode": {
    "name": "ipython",
    "version": 2
   },
   "file_extension": ".py",
   "mimetype": "text/x-python",
   "name": "python",
   "nbconvert_exporter": "python",
   "pygments_lexer": "ipython2",
   "version": "2.7.6"
  }
 },
 "nbformat": 4,
 "nbformat_minor": 0
}