{
 "cells": [
  {
   "cell_type": "markdown",
   "source": [
    "# QLD Conservation Status List\n",
    "\n",
    "This notebook downloads the Qld lists from the [Qld Government Open Data Portal](https://data.qld.gov.au) and formats them in Darwin Core for ingestion into the ALA Lists tool.\n",
    "It will save original lists to the `source-data/QLD` directory, process the lists and save them to `current-lists`.\n",
    "\n",
    "## Lists in the ALA Species List tool\n",
    "* Conservation list: __[dr652](https://lists.ala.org.au/speciesListItem/list/dr652)__ ([dr652 in test](https://lists-test.ala.org.au/speciesListItem/list/dr652))\n",
    "* Collection: __[dr652](https://collections.ala.org.au/public/show/dr652)__\n",
    "\n",
    "## Source Data\n",
    "Queensland Nature Conservation Act 1992\n",
    "\n",
    "* __[Conservation](https://apps.des.qld.gov.au/data-sets/wildlife/wildnet/species.csv)__\n",
    "* __[Species Codes](https://apps.des.qld.gov.au/data-sets/wildlife/wildnet/species-status-codes.csv)__\n",
    "\n",
    "**Metadata Description**\n",
    "\n",
    "**Conservation:** The list of taxa from the Department of Environment and Science’s WildNet database with their classification codes under the Nature Conservation Act 1992: Extinct (EX), Extinct in the wild (PE), Critically Endangered (CR), Endangered (E), Vulnerable (V), Near threatened (NT, Least concern (C), Special least concern (SL) and International (I). It is published weekly as the Conservation status of Queensland wildlife dataset in the Queensland Government Data portal.\n",
    "\n",
    "**Metadata URL**\n",
    "* Qld Species (Open Data Portal) https://www.data.qld.gov.au/dataset/conservation-status-of-queensland-wildlife\n",
    "* Queensland Confidential Species (Open Data Portal) https://www.data.qld.gov.au/dataset/queensland-confidential-species\n",
    "* Qld Species codes https://www.data.qld.gov.au/dataset/conservation-status-of-queensland-wildlife/resource/6344ea93-cadf-4e0c-9ff4-12dfb18d5f14"
   ],
   "metadata": {
    "collapsed": false,
    "pycharm": {
     "name": "#%% md\n"
    }
   }
  },
  {
   "cell_type": "markdown",
   "source": [],
   "metadata": {
    "collapsed": false
   }
  },
  {
   "cell_type": "markdown",
   "source": [],
   "metadata": {
    "collapsed": false,
    "pycharm": {
     "name": "#%% md\n"
    }
   }
  },
  {
   "cell_type": "code",
   "execution_count": 3,
   "outputs": [],
   "source": [
    "import datetime\n",
    "\n",
    "import pandas as pd\n",
    "import requests\n",
    "import io\n",
    "from ftfy import fix_encoding\n",
    "import urllib.request, json\n",
    "import certifi\n",
    "import ssl\n",
    "import os\n",
    "import sys\n",
    "import os.path as path\n",
    "\n",
    "# top level directory\n",
    "projectDir = path.abspath(path.join(os.getcwd(),\"../../..\")) + \"/\"\n",
    "\n",
    "sys.path.append(os.path.abspath(projectDir + \"source-code/includes\"))\n",
    "import list_functions as lf\n",
    "\n",
    "sourceDataDir = projectDir + \"source-data/QLD/\"\n",
    "statusDir = projectDir + \"source-data/status-codes/\"\n",
    "processedDataDir = projectDir + \"current-lists/\"\n",
    "state = 'QLD'\n",
    "monthStr = datetime.datetime.now().strftime('%Y%m')\n",
    "codesurl =  \"https://apps.des.qld.gov.au/data-sets/wildlife/wildnet/species-status-codes.csv\"\n",
    "listurl = \"https://apps.des.qld.gov.au/data-sets/wildlife/wildnet/species.csv\"\n",
    "\n",
    "testListDruid = \"dr652\"\n",
    "prodListDruid = \"dr652\""
   ],
   "metadata": {
    "collapsed": false,
    "pycharm": {
     "name": "#%%\n"
    },
    "ExecuteTime": {
     "end_time": "2024-01-12T04:22:44.015397Z",
     "start_time": "2024-01-12T04:22:43.897114Z"
    }
   }
  },
  {
   "cell_type": "markdown",
   "source": [
    "## Download the raw files from data.qld.gov.au\n",
    "... save locally"
   ],
   "metadata": {
    "collapsed": false,
    "pycharm": {
     "name": "#%% md\n"
    }
   }
  },
  {
   "cell_type": "code",
   "execution_count": 4,
   "outputs": [],
   "source": [
    "# %%script echo skipping # comment this line to download dataset from API\n",
    "\n",
    "# Status codes\n",
    "response = requests.get(codesurl)\n",
    "rtext = fix_encoding(response.text)\n",
    "speciescodes = pd.read_csv(io.StringIO(rtext))\n",
    "speciescodes.to_csv(sourceDataDir + \"species-status-codes.csv\", index=False)\n",
    "\n",
    "# Conservation List\n",
    "response = requests.get(listurl)\n",
    "rtext = fix_encoding(response.text)\n",
    "conservationlist = pd.read_csv(io.StringIO(rtext))\n",
    "conservationlist.to_csv(sourceDataDir + \"species.csv\", index=False)"
   ],
   "metadata": {
    "collapsed": false,
    "pycharm": {
     "name": "#%%\n"
    },
    "ExecuteTime": {
     "end_time": "2024-01-12T04:22:54.243532Z",
     "start_time": "2024-01-12T04:22:51.574680Z"
    }
   }
  },
  {
   "cell_type": "code",
   "execution_count": 19,
   "outputs": [],
   "source": [
    "\n"
   ],
   "metadata": {
    "collapsed": false,
    "pycharm": {
     "name": "#%%\n"
    }
   }
  },
  {
   "cell_type": "markdown",
   "source": [
    "## Standardise Status Codes\n",
    "Some minimal changes to some Qld Nature Conservation Act codes so that they are consistent with other states"
   ],
   "metadata": {
    "collapsed": false,
    "pycharm": {
     "name": "#%% md\n"
    }
   }
  },
  {
   "cell_type": "code",
   "execution_count": 5,
   "outputs": [
    {
     "data": {
      "text/plain": "   Code       Code_description\n20    C          Least concern\n21   CR  Critically Endangered\n22    E             Endangered\n23   EX                Extinct\n24    I          International\n25   NT        Near Threatened\n26    P             Prohibited\n27   PE    Extinct in the wild\n28   SL  Special least concern\n29    V             Vulnerable",
      "text/html": "<div>\n<style scoped>\n    .dataframe tbody tr th:only-of-type {\n        vertical-align: middle;\n    }\n\n    .dataframe tbody tr th {\n        vertical-align: top;\n    }\n\n    .dataframe thead th {\n        text-align: right;\n    }\n</style>\n<table border=\"1\" class=\"dataframe\">\n  <thead>\n    <tr style=\"text-align: right;\">\n      <th></th>\n      <th>Code</th>\n      <th>Code_description</th>\n    </tr>\n  </thead>\n  <tbody>\n    <tr>\n      <th>20</th>\n      <td>C</td>\n      <td>Least concern</td>\n    </tr>\n    <tr>\n      <th>21</th>\n      <td>CR</td>\n      <td>Critically Endangered</td>\n    </tr>\n    <tr>\n      <th>22</th>\n      <td>E</td>\n      <td>Endangered</td>\n    </tr>\n    <tr>\n      <th>23</th>\n      <td>EX</td>\n      <td>Extinct</td>\n    </tr>\n    <tr>\n      <th>24</th>\n      <td>I</td>\n      <td>International</td>\n    </tr>\n    <tr>\n      <th>25</th>\n      <td>NT</td>\n      <td>Near Threatened</td>\n    </tr>\n    <tr>\n      <th>26</th>\n      <td>P</td>\n      <td>Prohibited</td>\n    </tr>\n    <tr>\n      <th>27</th>\n      <td>PE</td>\n      <td>Extinct in the wild</td>\n    </tr>\n    <tr>\n      <th>28</th>\n      <td>SL</td>\n      <td>Special least concern</td>\n    </tr>\n    <tr>\n      <th>29</th>\n      <td>V</td>\n      <td>Vulnerable</td>\n    </tr>\n  </tbody>\n</table>\n</div>"
     },
     "execution_count": 5,
     "metadata": {},
     "output_type": "execute_result"
    }
   ],
   "source": [
    "speciescodes = pd.read_csv(sourceDataDir + \"species-status-codes.csv\")\n",
    "ncastatuscodes = speciescodes[speciescodes['Field'] == \"NCA_status\"][['Code', 'Code_description']]\n",
    "ncastatuscodes['Code_description'] = ncastatuscodes['Code_description'].str.replace(\" wildlife\", \"\")\n",
    "ncastatuscodes.loc[\n",
    "    ncastatuscodes['Code_description'] == \"Critically endangered\", 'Code_description'] = \"Critically Endangered\"\n",
    "ncastatuscodes.loc[ncastatuscodes['Code_description'] == \"Near threatened\", 'Code_description'] = \"Near Threatened\"\n",
    "ncastatuscodes"
   ],
   "metadata": {
    "collapsed": false,
    "pycharm": {
     "name": "#%%\n"
    },
    "ExecuteTime": {
     "end_time": "2024-01-12T04:23:08.666352Z",
     "start_time": "2024-01-12T04:23:08.633778Z"
    }
   }
  },
  {
   "cell_type": "markdown",
   "source": [
    "## Conservation List\n",
    "* Join to the codes to expand the code descriptions.\n",
    "* Change the field names to `sourceStatus` and `status` as required by the ALA's conservation list processing.\n",
    "* Remove **Least concern**, **Special least concern** and **no status**\n",
    "* Expand the endemicity and epbc status codes\n",
    "* Map sourceStatus to status"
   ],
   "metadata": {
    "collapsed": false,
    "pycharm": {
     "name": "#%% md\n"
    }
   }
  },
  {
   "cell_type": "code",
   "execution_count": 6,
   "outputs": [
    {
     "data": {
      "text/plain": "              scientificName               vernacularName           family  \\\n0            Adelotus brevis                  tusked frog  Limnodynastidae   \n14         Philoria knowlesi      Mt Ballow mountain frog  Limnodynastidae   \n15      Philoria kundagungan  red-and-yellow mountainfrog  Limnodynastidae   \n19          Assa darlingtoni                 pouched frog   Myobatrachidae   \n25            Crinia tinnula               wallum froglet   Myobatrachidae   \n...                      ...                          ...              ...   \n21822  Macrozamia serpentina                          NaN        Zamiaceae   \n21823     Macrozamia viridis                          NaN        Zamiaceae   \n21828       Alpinia hylandii                          NaN    Zingiberaceae   \n21831  Amomum queenslandicum                          NaN    Zingiberaceae   \n21835       Globba marantina                          NaN    Zingiberaceae   \n\n       WildNetTaxonID                                            taxonID  \\\n0                 706  https://apps.des.qld.gov.au/species-search/det...   \n14              36765  https://apps.des.qld.gov.au/species-search/det...   \n15                687  https://apps.des.qld.gov.au/species-search/det...   \n19                693  https://apps.des.qld.gov.au/species-search/det...   \n25                686  https://apps.des.qld.gov.au/species-search/det...   \n...               ...                                                ...   \n21822           27445  https://apps.des.qld.gov.au/species-search/det...   \n21823            6482  https://apps.des.qld.gov.au/species-search/det...   \n21828            8948  https://apps.des.qld.gov.au/species-search/det...   \n21831            8949  https://apps.des.qld.gov.au/species-search/det...   \n21835           12434  https://apps.des.qld.gov.au/species-search/det...   \n\n                      status sourceStatus  \n0                 Vulnerable            V  \n14                Endangered            E  \n15                Endangered            E  \n19                Vulnerable            V  \n25                Vulnerable            V  \n...                      ...          ...  \n21822             Endangered            E  \n21823             Endangered            E  \n21828        Near Threatened           NT  \n21831  Critically Endangered           CR  \n21835             Vulnerable            V  \n\n[1348 rows x 7 columns]",
      "text/html": "<div>\n<style scoped>\n    .dataframe tbody tr th:only-of-type {\n        vertical-align: middle;\n    }\n\n    .dataframe tbody tr th {\n        vertical-align: top;\n    }\n\n    .dataframe thead th {\n        text-align: right;\n    }\n</style>\n<table border=\"1\" class=\"dataframe\">\n  <thead>\n    <tr style=\"text-align: right;\">\n      <th></th>\n      <th>scientificName</th>\n      <th>vernacularName</th>\n      <th>family</th>\n      <th>WildNetTaxonID</th>\n      <th>taxonID</th>\n      <th>status</th>\n      <th>sourceStatus</th>\n    </tr>\n  </thead>\n  <tbody>\n    <tr>\n      <th>0</th>\n      <td>Adelotus brevis</td>\n      <td>tusked frog</td>\n      <td>Limnodynastidae</td>\n      <td>706</td>\n      <td>https://apps.des.qld.gov.au/species-search/det...</td>\n      <td>Vulnerable</td>\n      <td>V</td>\n    </tr>\n    <tr>\n      <th>14</th>\n      <td>Philoria knowlesi</td>\n      <td>Mt Ballow mountain frog</td>\n      <td>Limnodynastidae</td>\n      <td>36765</td>\n      <td>https://apps.des.qld.gov.au/species-search/det...</td>\n      <td>Endangered</td>\n      <td>E</td>\n    </tr>\n    <tr>\n      <th>15</th>\n      <td>Philoria kundagungan</td>\n      <td>red-and-yellow mountainfrog</td>\n      <td>Limnodynastidae</td>\n      <td>687</td>\n      <td>https://apps.des.qld.gov.au/species-search/det...</td>\n      <td>Endangered</td>\n      <td>E</td>\n    </tr>\n    <tr>\n      <th>19</th>\n      <td>Assa darlingtoni</td>\n      <td>pouched frog</td>\n      <td>Myobatrachidae</td>\n      <td>693</td>\n      <td>https://apps.des.qld.gov.au/species-search/det...</td>\n      <td>Vulnerable</td>\n      <td>V</td>\n    </tr>\n    <tr>\n      <th>25</th>\n      <td>Crinia tinnula</td>\n      <td>wallum froglet</td>\n      <td>Myobatrachidae</td>\n      <td>686</td>\n      <td>https://apps.des.qld.gov.au/species-search/det...</td>\n      <td>Vulnerable</td>\n      <td>V</td>\n    </tr>\n    <tr>\n      <th>...</th>\n      <td>...</td>\n      <td>...</td>\n      <td>...</td>\n      <td>...</td>\n      <td>...</td>\n      <td>...</td>\n      <td>...</td>\n    </tr>\n    <tr>\n      <th>21822</th>\n      <td>Macrozamia serpentina</td>\n      <td>NaN</td>\n      <td>Zamiaceae</td>\n      <td>27445</td>\n      <td>https://apps.des.qld.gov.au/species-search/det...</td>\n      <td>Endangered</td>\n      <td>E</td>\n    </tr>\n    <tr>\n      <th>21823</th>\n      <td>Macrozamia viridis</td>\n      <td>NaN</td>\n      <td>Zamiaceae</td>\n      <td>6482</td>\n      <td>https://apps.des.qld.gov.au/species-search/det...</td>\n      <td>Endangered</td>\n      <td>E</td>\n    </tr>\n    <tr>\n      <th>21828</th>\n      <td>Alpinia hylandii</td>\n      <td>NaN</td>\n      <td>Zingiberaceae</td>\n      <td>8948</td>\n      <td>https://apps.des.qld.gov.au/species-search/det...</td>\n      <td>Near Threatened</td>\n      <td>NT</td>\n    </tr>\n    <tr>\n      <th>21831</th>\n      <td>Amomum queenslandicum</td>\n      <td>NaN</td>\n      <td>Zingiberaceae</td>\n      <td>8949</td>\n      <td>https://apps.des.qld.gov.au/species-search/det...</td>\n      <td>Critically Endangered</td>\n      <td>CR</td>\n    </tr>\n    <tr>\n      <th>21835</th>\n      <td>Globba marantina</td>\n      <td>NaN</td>\n      <td>Zingiberaceae</td>\n      <td>12434</td>\n      <td>https://apps.des.qld.gov.au/species-search/det...</td>\n      <td>Vulnerable</td>\n      <td>V</td>\n    </tr>\n  </tbody>\n</table>\n<p>1348 rows × 7 columns</p>\n</div>"
     },
     "execution_count": 6,
     "metadata": {},
     "output_type": "execute_result"
    }
   ],
   "source": [
    "conservationlist = pd.read_csv(sourceDataDir + \"species.csv\")\n",
    "conservationlist = pd.merge(conservationlist,ncastatuscodes,left_on=['NCA_status'],right_on=['Code'],how=\"left\")\n",
    "\n",
    "conservationlist = conservationlist.rename(columns=\n",
    "{   'Scientific_name':'scientificName',\n",
    "    'Common_name': 'vernacularName',\n",
    "    'Taxon_author':'scientificNameAuthorship',\n",
    "    'Family': 'family',\n",
    "    'NCA_status':'sourceStatus',\n",
    "    'Code_description':'status',\n",
    "    'Taxon_Id':'WildNetTaxonID'\n",
    "})\n",
    "\n",
    "conservationlist['taxonID'] = 'https://apps.des.qld.gov.au/species-search/details/?id=' + conservationlist['WildNetTaxonID'].astype(str)\n",
    "\n",
    "# remove unwanted rows\n",
    "conservationlist = conservationlist[(conservationlist['status'].notna())]\n",
    "conservationlist = conservationlist[~conservationlist['status'].str.contains('Special least concern', case=False)]\n",
    "conservationlist = conservationlist[~conservationlist['status'].str.contains('Least concern', case=False)]\n",
    "# remove unwanted cols\n",
    "conservationlist = conservationlist.loc[:, ['scientificName', 'vernacularName', 'family', 'WildNetTaxonID','taxonID','status', 'sourceStatus']]\n",
    "# write to file\n",
    "conservationlist.to_csv(processedDataDir + 'conservation-lists/QLD-' + prodListDruid + '-conservation.csv',encoding=\"UTF-8\",index=False)\n",
    "conservationlist"
   ],
   "metadata": {
    "collapsed": false,
    "pycharm": {
     "name": "#%%\n"
    },
    "ExecuteTime": {
     "end_time": "2024-01-12T04:23:32.088773Z",
     "start_time": "2024-01-12T04:23:32.019014Z"
    }
   }
  },
  {
   "cell_type": "code",
   "execution_count": 7,
   "outputs": [
    {
     "data": {
      "text/plain": "array(['Vulnerable', 'Endangered', 'Extinct in the wild', 'Extinct',\n       'Near Threatened', 'Critically Endangered'], dtype=object)"
     },
     "execution_count": 7,
     "metadata": {},
     "output_type": "execute_result"
    }
   ],
   "source": [
    "conservationlist['status'].unique()"
   ],
   "metadata": {
    "collapsed": false,
    "pycharm": {
     "name": "#%%\n"
    },
    "ExecuteTime": {
     "end_time": "2024-01-12T04:23:40.250551Z",
     "start_time": "2024-01-12T04:23:40.247088Z"
    }
   }
  },
  {
   "cell_type": "markdown",
   "source": [
    "## Manual List check\n",
    "### Instructions\n",
    "1. Load the list above into the lists-test tool for this data resource\n",
    "2. Unskip the below code and Run the reports below to compare to production. Send the changelog.csv to check. Correct any issues.\n",
    "3. Save the production list into the historical lists directory by uncommenting the code section below.\n",
    "4. Load the list from current lists into production"
   ],
   "metadata": {
    "collapsed": false,
    "pycharm": {
     "name": "#%% md\n"
    }
   }
  },
  {
   "cell_type": "code",
   "execution_count": 9,
   "outputs": [
    {
     "data": {
      "text/plain": "                                                name  \\\n694                            Acacia parvifoliolata   \n674                                   Acacia pedleyi   \n1009                                 Actephila bella   \n780                           Aggreflorum luehmannii   \n781                             Aggreflorum pallidum   \n...                                              ...   \n645                         Romnalda ophiopogonoides   \n858                             Sannantha brachypoda   \n1282                        Symplocos crassiramifera   \n413                             Tetramolopium ornans   \n409   Tetramolopium sp. (Mt Bowen D.G.Fell+ DGF1224)   \n\n                                      scientificName            commonName  \\\n694                            Acacia parvifoliolata                  None   \n674                                   Acacia pedleyi                  None   \n1009                                 Actephila bella                  None   \n780                                        Myrtaceae  Myrtle Family (part)   \n781                                        Myrtaceae  Myrtle Family (part)   \n...                                              ...                   ...   \n645                         Romnalda ophiopogonoides                  None   \n858                             Sannantha brachypoda                  None   \n1282                        Symplocos crassiramifera                  None   \n413                                    Tetramolopium                  None   \n409   Tetramolopium sp. Mt Bowen (D.G.Fell+ DGF1224)                  None   \n\n               status     listUpdate  status_old  \n694        Endangered          added         NaN  \n674        Endangered  status change  Vulnerable  \n1009       Endangered  status change  Vulnerable  \n780        Vulnerable          added         NaN  \n781   Near Threatened          added         NaN  \n...               ...            ...         ...  \n645        Endangered  status change  Vulnerable  \n858   Near Threatened  status change  Vulnerable  \n1282       Endangered  status change  Vulnerable  \n413        Vulnerable          added         NaN  \n409        Vulnerable        removed         NaN  \n\n[71 rows x 6 columns]",
      "text/html": "<div>\n<style scoped>\n    .dataframe tbody tr th:only-of-type {\n        vertical-align: middle;\n    }\n\n    .dataframe tbody tr th {\n        vertical-align: top;\n    }\n\n    .dataframe thead th {\n        text-align: right;\n    }\n</style>\n<table border=\"1\" class=\"dataframe\">\n  <thead>\n    <tr style=\"text-align: right;\">\n      <th></th>\n      <th>name</th>\n      <th>scientificName</th>\n      <th>commonName</th>\n      <th>status</th>\n      <th>listUpdate</th>\n      <th>status_old</th>\n    </tr>\n  </thead>\n  <tbody>\n    <tr>\n      <th>694</th>\n      <td>Acacia parvifoliolata</td>\n      <td>Acacia parvifoliolata</td>\n      <td>None</td>\n      <td>Endangered</td>\n      <td>added</td>\n      <td>NaN</td>\n    </tr>\n    <tr>\n      <th>674</th>\n      <td>Acacia pedleyi</td>\n      <td>Acacia pedleyi</td>\n      <td>None</td>\n      <td>Endangered</td>\n      <td>status change</td>\n      <td>Vulnerable</td>\n    </tr>\n    <tr>\n      <th>1009</th>\n      <td>Actephila bella</td>\n      <td>Actephila bella</td>\n      <td>None</td>\n      <td>Endangered</td>\n      <td>status change</td>\n      <td>Vulnerable</td>\n    </tr>\n    <tr>\n      <th>780</th>\n      <td>Aggreflorum luehmannii</td>\n      <td>Myrtaceae</td>\n      <td>Myrtle Family (part)</td>\n      <td>Vulnerable</td>\n      <td>added</td>\n      <td>NaN</td>\n    </tr>\n    <tr>\n      <th>781</th>\n      <td>Aggreflorum pallidum</td>\n      <td>Myrtaceae</td>\n      <td>Myrtle Family (part)</td>\n      <td>Near Threatened</td>\n      <td>added</td>\n      <td>NaN</td>\n    </tr>\n    <tr>\n      <th>...</th>\n      <td>...</td>\n      <td>...</td>\n      <td>...</td>\n      <td>...</td>\n      <td>...</td>\n      <td>...</td>\n    </tr>\n    <tr>\n      <th>645</th>\n      <td>Romnalda ophiopogonoides</td>\n      <td>Romnalda ophiopogonoides</td>\n      <td>None</td>\n      <td>Endangered</td>\n      <td>status change</td>\n      <td>Vulnerable</td>\n    </tr>\n    <tr>\n      <th>858</th>\n      <td>Sannantha brachypoda</td>\n      <td>Sannantha brachypoda</td>\n      <td>None</td>\n      <td>Near Threatened</td>\n      <td>status change</td>\n      <td>Vulnerable</td>\n    </tr>\n    <tr>\n      <th>1282</th>\n      <td>Symplocos crassiramifera</td>\n      <td>Symplocos crassiramifera</td>\n      <td>None</td>\n      <td>Endangered</td>\n      <td>status change</td>\n      <td>Vulnerable</td>\n    </tr>\n    <tr>\n      <th>413</th>\n      <td>Tetramolopium ornans</td>\n      <td>Tetramolopium</td>\n      <td>None</td>\n      <td>Vulnerable</td>\n      <td>added</td>\n      <td>NaN</td>\n    </tr>\n    <tr>\n      <th>409</th>\n      <td>Tetramolopium sp. (Mt Bowen D.G.Fell+ DGF1224)</td>\n      <td>Tetramolopium sp. Mt Bowen (D.G.Fell+ DGF1224)</td>\n      <td>None</td>\n      <td>Vulnerable</td>\n      <td>removed</td>\n      <td>NaN</td>\n    </tr>\n  </tbody>\n</table>\n<p>71 rows × 6 columns</p>\n</div>"
     },
     "execution_count": 9,
     "metadata": {},
     "output_type": "execute_result"
    }
   ],
   "source": [
    "ltype = \"C\"\n",
    "changeDir = \"Monitoring/Change-logs/\"\n",
    "filename = \"QLD-conservation.csv\"\n",
    "changelist = lf.get_changelist(testListDruid, prodListDruid, ltype)\n",
    "changelist.to_csv(projectDir + changeDir + monthStr + \"-\" + filename, encoding=\"UTF-8\", index=False)\n",
    "changelist"
   ],
   "metadata": {
    "collapsed": false,
    "pycharm": {
     "name": "#%%\n"
    },
    "ExecuteTime": {
     "end_time": "2024-01-12T04:34:40.821272Z",
     "start_time": "2024-01-12T04:34:33.781373Z"
    }
   }
  },
  {
   "cell_type": "code",
   "execution_count": 12,
   "outputs": [
    {
     "name": "stdout",
     "output_type": "stream",
     "text": [
      "download_ala_list:  https://lists.ala.org.au/ws/speciesListItems/dr652?max=10000&includeKVP=true\n",
      "Index(['id', 'name', 'commonName', 'scientificName', 'lsid', 'dataResourceUid',\n",
      "       'kvpValues'],\n",
      "      dtype='object')\n",
      "Finished downloading conservation historical list\n"
     ]
    }
   ],
   "source": [
    "# Download historical lists from Production\n",
    "prodListUrl = \"https://lists.ala.org.au/ws/speciesListItems/\" + proddr + \"?max=10000&includeKVP=true\"\n",
    "prodList = lf.download_ala_specieslist(prodListUrl)  # save the prod list to the historical lists directory\n",
    "prodList = lf.kvp_to_columns(prodList)\n",
    "prodList.to_csv(projectDir + \"historical-lists/conservation/\" + filename, encoding=\"UTF-8\", index=False)\n",
    "print('Finished downloading conservation historical list')"
   ],
   "metadata": {
    "collapsed": false,
    "pycharm": {
     "name": "#%%\n"
    }
   }
  }
 ],
 "metadata": {
  "kernelspec": {
   "display_name": "Python 3",
   "language": "python",
   "name": "python3"
  },
  "language_info": {
   "codemirror_mode": {
    "name": "ipython",
    "version": 2
   },
   "file_extension": ".py",
   "mimetype": "text/x-python",
   "name": "python",
   "nbconvert_exporter": "python",
   "pygments_lexer": "ipython2",
   "version": "2.7.6"
  }
 },
 "nbformat": 4,
 "nbformat_minor": 0
}
