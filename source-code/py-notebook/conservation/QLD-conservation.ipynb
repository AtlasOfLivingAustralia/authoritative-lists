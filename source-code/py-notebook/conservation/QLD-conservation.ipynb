{
 "cells": [
  {
   "cell_type": "markdown",
   "source": [
    "# QLD Conservation Status List\n",
    "\n",
    "This notebook downloads the Qld lists from the [Qld Government Open Data Portal](https://data.qld.gov.au) and formats them in Darwin Core for ingestion into the ALA Lists tool.\n",
    "It will save original lists to the `source-data/QLD` directory, process the lists and save them to `current-lists`.\n",
    "\n",
    "## Lists in the ALA Species List tool\n",
    "* Conservation list: __[dr652](https://lists.ala.org.au/speciesListItem/list/dr652)__ ([dr652 in test](https://lists-test.ala.org.au/speciesListItem/list/dr652))\n",
    "* Collection: __[dr652](https://collections.ala.org.au/public/show/dr652)__\n",
    "\n",
    "## Source Data\n",
    "Queensland Nature Conservation Act 1992\n",
    "\n",
    "* __[Conservation](https://apps.des.qld.gov.au/data-sets/wildlife/wildnet/species.csv)__\n",
    "* __[Species Codes](https://apps.des.qld.gov.au/data-sets/wildlife/wildnet/species-status-codes.csv)__\n",
    "\n",
    "**Metadata Description**\n",
    "\n",
    "**Conservation:** The list of taxa from the Department of Environment and Science’s WildNet database with their classification codes under the Nature Conservation Act 1992: Extinct (EX), Extinct in the wild (PE), Critically Endangered (CR), Endangered (E), Vulnerable (V), Near threatened (NT, Least concern (C), Special least concern (SL) and International (I). It is published weekly as the Conservation status of Queensland wildlife dataset in the Queensland Government Data portal.\n",
    "\n",
    "**Metadata URL**\n",
    "* Qld Species (Open Data Portal) https://www.data.qld.gov.au/dataset/conservation-status-of-queensland-wildlife\n",
    "* Queensland Confidential Species (Open Data Portal) https://www.data.qld.gov.au/dataset/queensland-confidential-species\n",
    "* Qld Species codes https://www.data.qld.gov.au/dataset/conservation-status-of-queensland-wildlife/resource/6344ea93-cadf-4e0c-9ff4-12dfb18d5f14"
   ],
   "metadata": {
    "collapsed": false,
    "pycharm": {
     "name": "#%% md\n"
    }
   }
  },
  {
   "cell_type": "markdown",
   "source": [],
   "metadata": {
    "collapsed": false
   }
  },
  {
   "cell_type": "markdown",
   "source": [],
   "metadata": {
    "collapsed": false,
    "pycharm": {
     "name": "#%% md\n"
    }
   }
  },
  {
   "cell_type": "code",
   "execution_count": 53,
   "outputs": [],
   "source": [
    "import datetime\n",
    "\n",
    "import pandas as pd\n",
    "import requests\n",
    "import io\n",
    "from ftfy import fix_encoding\n",
    "import urllib.request, json\n",
    "import certifi\n",
    "import ssl\n",
    "import os\n",
    "import sys\n",
    "import os.path as path\n",
    "\n",
    "# top level directory\n",
    "projectDir = path.abspath(path.join(os.getcwd(),\"../../..\")) + \"/\"\n",
    "\n",
    "sys.path.append(os.path.abspath(projectDir + \"source-code/includes\"))\n",
    "import list_functions as lf\n",
    "\n",
    "sourceDataDir = projectDir + \"source-data/QLD/\"\n",
    "statusDir = projectDir + \"source-data/status-codes/\"\n",
    "processedDataDir = projectDir + \"current-lists/\"\n",
    "state = 'QLD'\n",
    "monthStr = datetime.datetime.now().strftime('%Y%m')\n",
    "codesurl =  \"https://apps.des.qld.gov.au/data-sets/wildlife/wildnet/species-status-codes.csv\"\n",
    "listurl = \"https://apps.des.qld.gov.au/data-sets/wildlife/wildnet/species.csv\"\n",
    "\n",
    "testListDruid = \"dr652\"\n",
    "prodListDruid = \"dr652\""
   ],
   "metadata": {
    "collapsed": false,
    "pycharm": {
     "name": "#%%\n"
    },
    "ExecuteTime": {
     "end_time": "2024-01-17T06:35:04.083840Z",
     "start_time": "2024-01-17T06:35:04.074631Z"
    }
   }
  },
  {
   "cell_type": "markdown",
   "source": [
    "## Download the raw files from data.qld.gov.au\n",
    "... save locally"
   ],
   "metadata": {
    "collapsed": false,
    "pycharm": {
     "name": "#%% md\n"
    }
   }
  },
  {
   "cell_type": "code",
   "execution_count": 54,
   "outputs": [],
   "source": [
    "# %%script echo skipping # comment this line to download dataset from API\n",
    "\n",
    "# Status codes\n",
    "response = requests.get(codesurl)\n",
    "rtext = fix_encoding(response.text)\n",
    "speciescodes = pd.read_csv(io.StringIO(rtext))\n",
    "speciescodes.to_csv(sourceDataDir + \"species-status-codes.csv\", index=False)\n",
    "\n",
    "# Conservation List\n",
    "response = requests.get(listurl)\n",
    "rtext = fix_encoding(response.text)\n",
    "conservationlist = pd.read_csv(io.StringIO(rtext))\n",
    "conservationlist.to_csv(sourceDataDir + \"species.csv\", index=False)"
   ],
   "metadata": {
    "collapsed": false,
    "pycharm": {
     "name": "#%%\n"
    },
    "ExecuteTime": {
     "end_time": "2024-01-17T06:35:09.184655Z",
     "start_time": "2024-01-17T06:35:06.564495Z"
    }
   }
  },
  {
   "cell_type": "markdown",
   "source": [
    "## Standardise Status Codes\n",
    "Some minimal changes to some Qld Nature Conservation Act codes so that they are consistent with other states"
   ],
   "metadata": {
    "collapsed": false,
    "pycharm": {
     "name": "#%% md\n"
    }
   }
  },
  {
   "cell_type": "code",
   "execution_count": 55,
   "outputs": [
    {
     "data": {
      "text/plain": "   Code       Code_description\n20    C          Least concern\n21   CR  Critically Endangered\n22    E             Endangered\n23   EX                Extinct\n24    I          International\n25   NT        Near Threatened\n26    P             Prohibited\n27   PE    Extinct in the wild\n28   SL  Special least concern\n29    V             Vulnerable",
      "text/html": "<div>\n<style scoped>\n    .dataframe tbody tr th:only-of-type {\n        vertical-align: middle;\n    }\n\n    .dataframe tbody tr th {\n        vertical-align: top;\n    }\n\n    .dataframe thead th {\n        text-align: right;\n    }\n</style>\n<table border=\"1\" class=\"dataframe\">\n  <thead>\n    <tr style=\"text-align: right;\">\n      <th></th>\n      <th>Code</th>\n      <th>Code_description</th>\n    </tr>\n  </thead>\n  <tbody>\n    <tr>\n      <th>20</th>\n      <td>C</td>\n      <td>Least concern</td>\n    </tr>\n    <tr>\n      <th>21</th>\n      <td>CR</td>\n      <td>Critically Endangered</td>\n    </tr>\n    <tr>\n      <th>22</th>\n      <td>E</td>\n      <td>Endangered</td>\n    </tr>\n    <tr>\n      <th>23</th>\n      <td>EX</td>\n      <td>Extinct</td>\n    </tr>\n    <tr>\n      <th>24</th>\n      <td>I</td>\n      <td>International</td>\n    </tr>\n    <tr>\n      <th>25</th>\n      <td>NT</td>\n      <td>Near Threatened</td>\n    </tr>\n    <tr>\n      <th>26</th>\n      <td>P</td>\n      <td>Prohibited</td>\n    </tr>\n    <tr>\n      <th>27</th>\n      <td>PE</td>\n      <td>Extinct in the wild</td>\n    </tr>\n    <tr>\n      <th>28</th>\n      <td>SL</td>\n      <td>Special least concern</td>\n    </tr>\n    <tr>\n      <th>29</th>\n      <td>V</td>\n      <td>Vulnerable</td>\n    </tr>\n  </tbody>\n</table>\n</div>"
     },
     "execution_count": 55,
     "metadata": {},
     "output_type": "execute_result"
    }
   ],
   "source": [
    "speciescodes = pd.read_csv(sourceDataDir + \"species-status-codes.csv\")\n",
    "ncastatuscodes = speciescodes[speciescodes['Field'] == \"NCA_status\"][['Code', 'Code_description']]\n",
    "ncastatuscodes['Code_description'] = ncastatuscodes['Code_description'].str.replace(\" wildlife\", \"\")\n",
    "ncastatuscodes.loc[\n",
    "    ncastatuscodes['Code_description'] == \"Critically endangered\", 'Code_description'] = \"Critically Endangered\"\n",
    "ncastatuscodes.loc[ncastatuscodes['Code_description'] == \"Near threatened\", 'Code_description'] = \"Near Threatened\"\n",
    "ncastatuscodes"
   ],
   "metadata": {
    "collapsed": false,
    "pycharm": {
     "name": "#%%\n"
    },
    "ExecuteTime": {
     "end_time": "2024-01-17T06:35:14.589415Z",
     "start_time": "2024-01-17T06:35:14.551622Z"
    }
   }
  },
  {
   "cell_type": "markdown",
   "source": [
    "## Conservation List\n",
    "* Join to the codes to expand the code descriptions.\n",
    "* Change the field names to `sourceStatus` and `status` as required by the ALA's conservation list processing.\n",
    "* Remove **Least concern**, **Special least concern** and **no status**\n",
    "* Expand the endemicity and epbc status codes\n",
    "* Map sourceStatus to status"
   ],
   "metadata": {
    "collapsed": false,
    "pycharm": {
     "name": "#%% md\n"
    }
   }
  },
  {
   "cell_type": "code",
   "execution_count": 56,
   "outputs": [
    {
     "data": {
      "text/plain": "status\nCritically Endangered    146\nEndangered               311\nExtinct                    6\nExtinct in the wild       26\nNear Threatened          280\nVulnerable               579\nName: scientificName, dtype: int64"
     },
     "execution_count": 56,
     "metadata": {},
     "output_type": "execute_result"
    }
   ],
   "source": [
    "conservationlist = pd.read_csv(sourceDataDir + \"species.csv\")\n",
    "conservationlist = pd.merge(conservationlist,ncastatuscodes,left_on=['NCA_status'],right_on=['Code'],how=\"left\")\n",
    "\n",
    "conservationlist = conservationlist.rename(columns=\n",
    "{   'Scientific_name':'scientificName',\n",
    "    'Common_name': 'vernacularName',\n",
    "    'Taxon_author':'scientificNameAuthorship',\n",
    "    'Family': 'family',\n",
    "    'NCA_status':'sourceStatus',\n",
    "    'Code_description':'status',\n",
    "    'Taxon_Id':'WildNetTaxonID'\n",
    "})\n",
    "\n",
    "conservationlist['taxonID'] = 'https://apps.des.qld.gov.au/species-search/details/?id=' + conservationlist['WildNetTaxonID'].astype(str)\n",
    "\n",
    "# remove unwanted rows\n",
    "conservationlist = conservationlist[(conservationlist['status'].notna())]\n",
    "conservationlist = conservationlist[~conservationlist['status'].str.contains('Special least concern', case=False)]\n",
    "conservationlist = conservationlist[~conservationlist['status'].str.contains('Least concern', case=False)]\n",
    "# remove unwanted cols\n",
    "conservationlist = conservationlist.loc[:, ['scientificName', 'vernacularName', 'family', 'WildNetTaxonID','taxonID','status', 'sourceStatus']]\n",
    "conservationlist.groupby('status')['scientificName'].count()"
   ],
   "metadata": {
    "collapsed": false,
    "pycharm": {
     "name": "#%%\n"
    },
    "ExecuteTime": {
     "end_time": "2024-01-17T06:35:22.701298Z",
     "start_time": "2024-01-17T06:35:22.629830Z"
    }
   }
  },
  {
   "cell_type": "markdown",
   "source": [
    "## Manual Additions"
   ],
   "metadata": {
    "collapsed": false
   }
  },
  {
   "cell_type": "code",
   "execution_count": 57,
   "outputs": [
    {
     "data": {
      "text/plain": "status\nCritically Endangered    146\nEndangered               312\nExtinct                    6\nExtinct in the wild       26\nNear Threatened          280\nVulnerable               581\nName: scientificName, dtype: int64"
     },
     "execution_count": 57,
     "metadata": {},
     "output_type": "execute_result"
    }
   ],
   "source": [
    "# recommended manual adds\n",
    "adds = conservationlist[conservationlist['scientificName'].isin(['Cacatua leadbeateri leadbeateri','Eclectus polychloros macgillivrayi'])]\n",
    "adds.loc[adds['scientificName'] == \"Cacatua leadbeateri leadbeateri\",'scientificName'] = \"Cacatua leadbeateri\"\n",
    "adds.loc[adds['scientificName'] == \"Eclectus polychloros macgillivrayi\",'scientificName'] = \"Eclectus polychloros\"\n",
    "conservationlist = pd.concat([conservationlist,adds])\n",
    "conservationlist.loc[len(conservationlist)] = [\"Eclectus roratus\",\"\",\"Psittaculidae\",\"1168\",\"https://apps.des.qld.gov.au/species-search/details/?id=1168\",\"Vulnerable\",\"V\"]\n",
    "conservationlist.groupby('status')['scientificName'].count()"
   ],
   "metadata": {
    "collapsed": false,
    "ExecuteTime": {
     "end_time": "2024-01-17T06:35:27.508050Z",
     "start_time": "2024-01-17T06:35:27.500932Z"
    }
   }
  },
  {
   "cell_type": "code",
   "execution_count": 58,
   "outputs": [],
   "source": [
    "# write to file\n",
    "conservationlist.to_csv(processedDataDir + 'conservation-lists/QLD-' + prodListDruid + '-conservation.csv',encoding=\"UTF-8\",index=False)"
   ],
   "metadata": {
    "collapsed": false,
    "ExecuteTime": {
     "end_time": "2024-01-17T06:35:35.199031Z",
     "start_time": "2024-01-17T06:35:35.190917Z"
    }
   }
  },
  {
   "cell_type": "markdown",
   "source": [
    "## Manual List check\n",
    "### Instructions\n",
    "1. Load the list above into the lists-test tool for this data resource\n",
    "2. Unskip the below code and Run the reports below to compare to production. Send the changelog.csv to check. Correct any issues.\n",
    "3. Save the production list into the historical lists directory by uncommenting the code section below.\n",
    "4. Load the list from current lists into production"
   ],
   "metadata": {
    "collapsed": false,
    "pycharm": {
     "name": "#%% md\n"
    }
   }
  },
  {
   "cell_type": "code",
   "execution_count": 59,
   "outputs": [
    {
     "data": {
      "text/plain": "                                                name  \\\n694                            Acacia parvifoliolata   \n674                                   Acacia pedleyi   \n1009                                 Actephila bella   \n1323                           Amomum queenslandicum   \n375                               Argophyllum curtum   \n...                                              ...   \n645                         Romnalda ophiopogonoides   \n858                             Sannantha brachypoda   \n1282                        Symplocos crassiramifera   \n413                             Tetramolopium ornans   \n409   Tetramolopium sp. (Mt Bowen D.G.Fell+ DGF1224)   \n\n                                      scientificName commonName  \\\n694                            Acacia parvifoliolata       None   \n674                                   Acacia pedleyi       None   \n1009                                 Actephila bella       None   \n1323                           Amomum queenslandicum       None   \n375                               Argophyllum curtum       None   \n...                                              ...        ...   \n645                         Romnalda ophiopogonoides       None   \n858                             Sannantha brachypoda       None   \n1282                        Symplocos crassiramifera       None   \n413                                    Tetramolopium       None   \n409   Tetramolopium sp. Mt Bowen (D.G.Fell+ DGF1224)       None   \n\n                     status     listUpdate  status_old  \n694              Endangered          added         NaN  \n674              Endangered  status change  Vulnerable  \n1009             Endangered  status change  Vulnerable  \n1323  Critically Endangered  status change  Vulnerable  \n375         Near Threatened          added         NaN  \n...                     ...            ...         ...  \n645              Endangered  status change  Vulnerable  \n858         Near Threatened  status change  Vulnerable  \n1282             Endangered  status change  Vulnerable  \n413              Vulnerable          added         NaN  \n409              Vulnerable        removed         NaN  \n\n[64 rows x 6 columns]",
      "text/html": "<div>\n<style scoped>\n    .dataframe tbody tr th:only-of-type {\n        vertical-align: middle;\n    }\n\n    .dataframe tbody tr th {\n        vertical-align: top;\n    }\n\n    .dataframe thead th {\n        text-align: right;\n    }\n</style>\n<table border=\"1\" class=\"dataframe\">\n  <thead>\n    <tr style=\"text-align: right;\">\n      <th></th>\n      <th>name</th>\n      <th>scientificName</th>\n      <th>commonName</th>\n      <th>status</th>\n      <th>listUpdate</th>\n      <th>status_old</th>\n    </tr>\n  </thead>\n  <tbody>\n    <tr>\n      <th>694</th>\n      <td>Acacia parvifoliolata</td>\n      <td>Acacia parvifoliolata</td>\n      <td>None</td>\n      <td>Endangered</td>\n      <td>added</td>\n      <td>NaN</td>\n    </tr>\n    <tr>\n      <th>674</th>\n      <td>Acacia pedleyi</td>\n      <td>Acacia pedleyi</td>\n      <td>None</td>\n      <td>Endangered</td>\n      <td>status change</td>\n      <td>Vulnerable</td>\n    </tr>\n    <tr>\n      <th>1009</th>\n      <td>Actephila bella</td>\n      <td>Actephila bella</td>\n      <td>None</td>\n      <td>Endangered</td>\n      <td>status change</td>\n      <td>Vulnerable</td>\n    </tr>\n    <tr>\n      <th>1323</th>\n      <td>Amomum queenslandicum</td>\n      <td>Amomum queenslandicum</td>\n      <td>None</td>\n      <td>Critically Endangered</td>\n      <td>status change</td>\n      <td>Vulnerable</td>\n    </tr>\n    <tr>\n      <th>375</th>\n      <td>Argophyllum curtum</td>\n      <td>Argophyllum curtum</td>\n      <td>None</td>\n      <td>Near Threatened</td>\n      <td>added</td>\n      <td>NaN</td>\n    </tr>\n    <tr>\n      <th>...</th>\n      <td>...</td>\n      <td>...</td>\n      <td>...</td>\n      <td>...</td>\n      <td>...</td>\n      <td>...</td>\n    </tr>\n    <tr>\n      <th>645</th>\n      <td>Romnalda ophiopogonoides</td>\n      <td>Romnalda ophiopogonoides</td>\n      <td>None</td>\n      <td>Endangered</td>\n      <td>status change</td>\n      <td>Vulnerable</td>\n    </tr>\n    <tr>\n      <th>858</th>\n      <td>Sannantha brachypoda</td>\n      <td>Sannantha brachypoda</td>\n      <td>None</td>\n      <td>Near Threatened</td>\n      <td>status change</td>\n      <td>Vulnerable</td>\n    </tr>\n    <tr>\n      <th>1282</th>\n      <td>Symplocos crassiramifera</td>\n      <td>Symplocos crassiramifera</td>\n      <td>None</td>\n      <td>Endangered</td>\n      <td>status change</td>\n      <td>Vulnerable</td>\n    </tr>\n    <tr>\n      <th>413</th>\n      <td>Tetramolopium ornans</td>\n      <td>Tetramolopium</td>\n      <td>None</td>\n      <td>Vulnerable</td>\n      <td>added</td>\n      <td>NaN</td>\n    </tr>\n    <tr>\n      <th>409</th>\n      <td>Tetramolopium sp. (Mt Bowen D.G.Fell+ DGF1224)</td>\n      <td>Tetramolopium sp. Mt Bowen (D.G.Fell+ DGF1224)</td>\n      <td>None</td>\n      <td>Vulnerable</td>\n      <td>removed</td>\n      <td>NaN</td>\n    </tr>\n  </tbody>\n</table>\n<p>64 rows × 6 columns</p>\n</div>"
     },
     "execution_count": 59,
     "metadata": {},
     "output_type": "execute_result"
    }
   ],
   "source": [
    "ltype = \"C\"\n",
    "changeDir = \"Monitoring/Change-logs/\"\n",
    "filename = \"QLD-conservation.csv\"\n",
    "changelist = lf.get_changelist(testListDruid, prodListDruid, ltype)\n",
    "changelist.to_csv(projectDir + changeDir + monthStr + \"-\" + filename, encoding=\"UTF-8\", index=False)\n",
    "changelist"
   ],
   "metadata": {
    "collapsed": false,
    "pycharm": {
     "name": "#%%\n"
    },
    "ExecuteTime": {
     "end_time": "2024-01-17T06:40:54.903940Z",
     "start_time": "2024-01-17T06:40:48.088089Z"
    }
   }
  },
  {
   "cell_type": "code",
   "execution_count": 60,
   "outputs": [],
   "source": [
    "# Download historical lists from Production\n",
    "prodListUrl = \"https://lists.ala.org.au/ws/speciesListItems/\" + prodListDruid + \"?max=10000&includeKVP=true\"\n",
    "prodList = lf.download_ala_specieslist(prodListUrl)  # save the prod list to the historical lists directory\n",
    "prodList = lf.kvp_to_columns(prodList)\n",
    "prodList.to_csv(projectDir + \"historical-lists/conservation/\" + filename, encoding=\"UTF-8\", index=False)"
   ],
   "metadata": {
    "collapsed": false,
    "pycharm": {
     "name": "#%%\n"
    },
    "ExecuteTime": {
     "end_time": "2024-01-18T05:03:13.546439Z",
     "start_time": "2024-01-18T05:03:10.897198Z"
    }
   }
  }
 ],
 "metadata": {
  "kernelspec": {
   "display_name": "Python 3",
   "language": "python",
   "name": "python3"
  },
  "language_info": {
   "codemirror_mode": {
    "name": "ipython",
    "version": 2
   },
   "file_extension": ".py",
   "mimetype": "text/x-python",
   "name": "python",
   "nbconvert_exporter": "python",
   "pygments_lexer": "ipython2",
   "version": "2.7.6"
  }
 },
 "nbformat": 4,
 "nbformat_minor": 0
}
