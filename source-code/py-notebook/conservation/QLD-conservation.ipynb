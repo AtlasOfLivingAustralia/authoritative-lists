{
 "cells": [
  {
   "cell_type": "markdown",
   "source": [
    "# QLD Conservation Status and Sensitive Species Lists\n",
    "\n",
    "This notebook downloads the Qld lists from the [Qld Government Open Data Portal](https://data.qld.gov.au) and formats them in Darwin Core for ingestion into the ALA Lists tool.\n",
    "It will save original lists to the `source-data/QLD` directory, process the lists and save them to `current-lists`.\n",
    "\n",
    "\n",
    "## Lists in the ALA Species List tool\n",
    "* Conservation list: __[dr652](https://lists.ala.org.au/speciesListItem/list/dr652)__ ([dr652 in test](https://lists-test.ala.org.au/speciesListItem/list/dr652))\n",
    "* Collection: __[dr652](https://collections.ala.org.au/public/show/dr652)__\n",
    "\n",
    "## Source Data\n",
    "Queensland Nature Conservation Act 1992\n",
    "\n",
    "* __[Conservation](https://apps.des.qld.gov.au/data-sets/wildlife/wildnet/species.csv)__\n",
    "* __[Species Codes](https://apps.des.qld.gov.au/data-sets/wildlife/wildnet/species-status-codes.csv)__\n",
    "\n",
    "**Metadata Description**\n",
    "\n",
    "**Conservation:** The list of taxa from the Department of Environment and Science’s WildNet database with their classification codes under the Nature Conservation Act 1992: Extinct (EX), Extinct in the wild (PE), Critically Endangered (CR), Endangered (E), Vulnerable (V), Near threatened (NT, Least concern (C), Special least concern (SL) and International (I). It is published weekly as the Conservation status of Queensland wildlife dataset in the Queensland Government Data portal. Learn more about the classifications used by the Department of Environment and Science from Listing and changing the conservation status of Queensland species.\n",
    "\n",
    "\n",
    "**Metadata URL**\n",
    "* Qld Species (Open Data Portal) https://www.data.qld.gov.au/dataset/conservation-status-of-queensland-wildlife\n",
    "* Queensland Confidential Species (Open Data Portal) https://www.data.qld.gov.au/dataset/queensland-confidential-species\n",
    "* Qld Species codes https://www.data.qld.gov.au/dataset/conservation-status-of-queensland-wildlife/resource/6344ea93-cadf-4e0c-9ff4-12dfb18d5f14"
   ],
   "metadata": {
    "collapsed": false,
    "pycharm": {
     "name": "#%% md\n"
    }
   }
  },
  {
   "cell_type": "markdown",
   "source": [],
   "metadata": {
    "collapsed": false,
    "pycharm": {
     "name": "#%% md\n"
    }
   }
  },
  {
   "cell_type": "markdown",
   "source": [
    "\n",
    "# Setup\n",
    "* Import libraries\n",
    "* Set Project directory\n",
    "* Set URLs"
   ],
   "metadata": {
    "collapsed": false,
    "pycharm": {
     "name": "#%% md\n"
    }
   }
  },
  {
   "cell_type": "code",
   "execution_count": 10,
   "outputs": [],
   "source": [
    "import datetime\n",
    "\n",
    "import pandas as pd\n",
    "import requests\n",
    "import io\n",
    "from ftfy import fix_encoding\n",
    "import urllib.request, json\n",
    "import certifi\n",
    "import ssl\n",
    "import os\n",
    "import sys\n",
    "\n",
    "projectDir = \"/Users/oco115/PycharmProjects/authoritative-lists/\"\n",
    "# projectDir = \"/Users/new330/IdeaProjects/authoritative-lists/\"\n",
    "sys.path.append(os.path.abspath(projectDir + \"source-code/includes\"))\n",
    "import list_functions as lf\n",
    "\n",
    "sourceDataDir = projectDir + \"source-data/QLD/\"\n",
    "statusDir = projectDir + \"source-data/status-codes/\"\n",
    "processedDataDir = projectDir + \"current-lists/\"\n",
    "state = 'QLD'\n",
    "monthStr = datetime.datetime.now().strftime('%Y%m')\n",
    "codesfile = statusDir + state + \"-codes.csv\"\n",
    "codesurl =  \"https://apps.des.qld.gov.au/data-sets/wildlife/wildnet/species-status-codes.csv\"\n",
    "listurl = \"https://apps.des.qld.gov.au/data-sets/wildlife/wildnet/species.csv\"\n"
   ],
   "metadata": {
    "collapsed": false,
    "pycharm": {
     "name": "#%%\n"
    }
   }
  },
  {
   "cell_type": "markdown",
   "source": [
    "## Download the raw files from data.qld.gov.au\n",
    "... save locally"
   ],
   "metadata": {
    "collapsed": false,
    "pycharm": {
     "name": "#%% md\n"
    }
   }
  },
  {
   "cell_type": "code",
   "execution_count": 11,
   "outputs": [],
   "source": [
    "# %%script echo skipping # comment this line to download dataset from API\n",
    "\n",
    "# Status codes\n",
    "response = requests.get(codesurl)\n",
    "rtext = fix_encoding(response.text)\n",
    "speciescodes = pd.read_csv(io.StringIO(rtext))\n",
    "speciescodes.to_csv(sourceDataDir + \"species-status-codes.csv\", index=False)\n",
    "\n",
    "# Conservation List\n",
    "response = requests.get(listurl)\n",
    "rtext = fix_encoding(response.text)\n",
    "conservationlist = pd.read_csv(io.StringIO(rtext))\n",
    "conservationlist.to_csv(sourceDataDir + \"species.csv\", index=False)\n"
   ],
   "metadata": {
    "collapsed": false,
    "pycharm": {
     "name": "#%%\n"
    }
   }
  },
  {
   "cell_type": "markdown",
   "source": [
    "## Standardise Status Codes\n",
    "Some minimal changes to some Qld Nature Conservation Act codes so that they are consistent with other states"
   ],
   "metadata": {
    "collapsed": false,
    "pycharm": {
     "name": "#%% md\n"
    }
   }
  },
  {
   "cell_type": "code",
   "execution_count": null,
   "outputs": [],
   "source": [
    "# speciescodes = pd.read_csv(sourceDataDir + \"species-status-codes.csv\")"
   ],
   "metadata": {
    "collapsed": false,
    "pycharm": {
     "name": "#%%\n"
    }
   }
  },
  {
   "cell_type": "markdown",
   "source": [
    "## Conservation List\n",
    "* Read in the Conservation list\n",
    "* Join to the codes to expand the code descriptions.\n",
    "* Change the field names to `sourceStatus` and `status` as required by the ALA's conservation list processing.\n",
    "* Remove **Least concern**, **Special least concern** and **no status**\n",
    "* Expand the endemicity and epbc status codes\n",
    "* Map sourceStatus to status"
   ],
   "metadata": {
    "collapsed": false,
    "pycharm": {
     "name": "#%% md\n"
    }
   }
  },
  {
   "cell_type": "markdown",
   "source": [
    "## Option to read from local files for subsequent runs"
   ],
   "metadata": {
    "collapsed": false,
    "pycharm": {
     "name": "#%% md\n"
    }
   }
  },
  {
   "cell_type": "code",
   "execution_count": null,
   "outputs": [],
   "source": [
    "# conservationlist = pd.read_csv(sourceDataDir + \"species.csv\")\n"
   ],
   "metadata": {
    "collapsed": false,
    "pycharm": {
     "name": "#%%\n"
    }
   }
  },
  {
   "cell_type": "code",
   "execution_count": 3,
   "outputs": [
    {
     "data": {
      "text/plain": "       Taxon_Id     Kingdom        Class           Family  \\\n0           706     animals   amphibians  Limnodynastidae   \n1           690     animals   amphibians  Limnodynastidae   \n2           677     animals   amphibians  Limnodynastidae   \n3           678     animals   amphibians  Limnodynastidae   \n4           679     animals   amphibians  Limnodynastidae   \n...         ...         ...          ...              ...   \n21889     25858  protozoans  slime molds      Physaraceae   \n21890     34854  protozoans  slime molds  Stemonitidaceae   \n21891     27732  protozoans  slime molds  Stemonitidaceae   \n21892     41204  protozoans  slime molds       Trichiidae   \n21893     34033  protozoans  slime molds     Tubiferaceae   \n\n                    Scientific_name              Common_name  \\\n0                   Adelotus brevis              tusked frog   \n1              Lechriodus fletcheri         black soled frog   \n2      Limnodynastes convexiusculus             marbled frog   \n3           Limnodynastes dumerilii  grey bellied pobblebonk   \n4           Limnodynastes fletcheri             barking frog   \n...                             ...                      ...   \n21889                Fuligo septica                      NaN   \n21890          Comatricha pulchella                      NaN   \n21891          Stemonitis splendens                      NaN   \n21892           Hemitrichia serpula                      NaN   \n21893           Lycogala epidendrum                      NaN   \n\n            Taxon_author NCA_status EPBC_status Significant Confidential  \\\n0        (Günther, 1863)          V         NaN           Y            N   \n1      (Boulenger, 1890)          C         NaN           N            N   \n2        (MacLeay, 1877)          C         NaN           N            N   \n3           Peters, 1863          C         NaN           N            N   \n4        Boulenger, 1888          C         NaN           N            N   \n...                  ...        ...         ...         ...          ...   \n21889     (L.) F.H.Wigg.          C         NaN           N            N   \n21890     (Bab.) Rostaf.          C         NaN           N            N   \n21891            Rostaf.          C         NaN           N            N   \n21892    (Scop.) Rostaf.          C         NaN           N            N   \n21893           (L.) Fr.          C         NaN           N            N   \n\n      Endemicity  \n0             QA  \n1             QA  \n2            QAI  \n3             QA  \n4             QA  \n...          ...  \n21889          Q  \n21890          Q  \n21891          Q  \n21892          Q  \n21893          Q  \n\n[21894 rows x 12 columns]",
      "text/html": "<div>\n<style scoped>\n    .dataframe tbody tr th:only-of-type {\n        vertical-align: middle;\n    }\n\n    .dataframe tbody tr th {\n        vertical-align: top;\n    }\n\n    .dataframe thead th {\n        text-align: right;\n    }\n</style>\n<table border=\"1\" class=\"dataframe\">\n  <thead>\n    <tr style=\"text-align: right;\">\n      <th></th>\n      <th>Taxon_Id</th>\n      <th>Kingdom</th>\n      <th>Class</th>\n      <th>Family</th>\n      <th>Scientific_name</th>\n      <th>Common_name</th>\n      <th>Taxon_author</th>\n      <th>NCA_status</th>\n      <th>EPBC_status</th>\n      <th>Significant</th>\n      <th>Confidential</th>\n      <th>Endemicity</th>\n    </tr>\n  </thead>\n  <tbody>\n    <tr>\n      <th>0</th>\n      <td>706</td>\n      <td>animals</td>\n      <td>amphibians</td>\n      <td>Limnodynastidae</td>\n      <td>Adelotus brevis</td>\n      <td>tusked frog</td>\n      <td>(Günther, 1863)</td>\n      <td>V</td>\n      <td>NaN</td>\n      <td>Y</td>\n      <td>N</td>\n      <td>QA</td>\n    </tr>\n    <tr>\n      <th>1</th>\n      <td>690</td>\n      <td>animals</td>\n      <td>amphibians</td>\n      <td>Limnodynastidae</td>\n      <td>Lechriodus fletcheri</td>\n      <td>black soled frog</td>\n      <td>(Boulenger, 1890)</td>\n      <td>C</td>\n      <td>NaN</td>\n      <td>N</td>\n      <td>N</td>\n      <td>QA</td>\n    </tr>\n    <tr>\n      <th>2</th>\n      <td>677</td>\n      <td>animals</td>\n      <td>amphibians</td>\n      <td>Limnodynastidae</td>\n      <td>Limnodynastes convexiusculus</td>\n      <td>marbled frog</td>\n      <td>(MacLeay, 1877)</td>\n      <td>C</td>\n      <td>NaN</td>\n      <td>N</td>\n      <td>N</td>\n      <td>QAI</td>\n    </tr>\n    <tr>\n      <th>3</th>\n      <td>678</td>\n      <td>animals</td>\n      <td>amphibians</td>\n      <td>Limnodynastidae</td>\n      <td>Limnodynastes dumerilii</td>\n      <td>grey bellied pobblebonk</td>\n      <td>Peters, 1863</td>\n      <td>C</td>\n      <td>NaN</td>\n      <td>N</td>\n      <td>N</td>\n      <td>QA</td>\n    </tr>\n    <tr>\n      <th>4</th>\n      <td>679</td>\n      <td>animals</td>\n      <td>amphibians</td>\n      <td>Limnodynastidae</td>\n      <td>Limnodynastes fletcheri</td>\n      <td>barking frog</td>\n      <td>Boulenger, 1888</td>\n      <td>C</td>\n      <td>NaN</td>\n      <td>N</td>\n      <td>N</td>\n      <td>QA</td>\n    </tr>\n    <tr>\n      <th>...</th>\n      <td>...</td>\n      <td>...</td>\n      <td>...</td>\n      <td>...</td>\n      <td>...</td>\n      <td>...</td>\n      <td>...</td>\n      <td>...</td>\n      <td>...</td>\n      <td>...</td>\n      <td>...</td>\n      <td>...</td>\n    </tr>\n    <tr>\n      <th>21889</th>\n      <td>25858</td>\n      <td>protozoans</td>\n      <td>slime molds</td>\n      <td>Physaraceae</td>\n      <td>Fuligo septica</td>\n      <td>NaN</td>\n      <td>(L.) F.H.Wigg.</td>\n      <td>C</td>\n      <td>NaN</td>\n      <td>N</td>\n      <td>N</td>\n      <td>Q</td>\n    </tr>\n    <tr>\n      <th>21890</th>\n      <td>34854</td>\n      <td>protozoans</td>\n      <td>slime molds</td>\n      <td>Stemonitidaceae</td>\n      <td>Comatricha pulchella</td>\n      <td>NaN</td>\n      <td>(Bab.) Rostaf.</td>\n      <td>C</td>\n      <td>NaN</td>\n      <td>N</td>\n      <td>N</td>\n      <td>Q</td>\n    </tr>\n    <tr>\n      <th>21891</th>\n      <td>27732</td>\n      <td>protozoans</td>\n      <td>slime molds</td>\n      <td>Stemonitidaceae</td>\n      <td>Stemonitis splendens</td>\n      <td>NaN</td>\n      <td>Rostaf.</td>\n      <td>C</td>\n      <td>NaN</td>\n      <td>N</td>\n      <td>N</td>\n      <td>Q</td>\n    </tr>\n    <tr>\n      <th>21892</th>\n      <td>41204</td>\n      <td>protozoans</td>\n      <td>slime molds</td>\n      <td>Trichiidae</td>\n      <td>Hemitrichia serpula</td>\n      <td>NaN</td>\n      <td>(Scop.) Rostaf.</td>\n      <td>C</td>\n      <td>NaN</td>\n      <td>N</td>\n      <td>N</td>\n      <td>Q</td>\n    </tr>\n    <tr>\n      <th>21893</th>\n      <td>34033</td>\n      <td>protozoans</td>\n      <td>slime molds</td>\n      <td>Tubiferaceae</td>\n      <td>Lycogala epidendrum</td>\n      <td>NaN</td>\n      <td>(L.) Fr.</td>\n      <td>C</td>\n      <td>NaN</td>\n      <td>N</td>\n      <td>N</td>\n      <td>Q</td>\n    </tr>\n  </tbody>\n</table>\n<p>21894 rows × 12 columns</p>\n</div>"
     },
     "execution_count": 3,
     "metadata": {},
     "output_type": "execute_result"
    }
   ],
   "source": [
    "conservationlist"
   ],
   "metadata": {
    "collapsed": false,
    "pycharm": {
     "name": "#%%\n"
    }
   }
  },
  {
   "cell_type": "code",
   "execution_count": 4,
   "outputs": [],
   "source": [
    "conservationlist = conservationlist.rename(columns=\n",
    "{   'Scientific_name':'scientificName',\n",
    "    'Common_name': 'vernacularName',\n",
    "    'Taxon_author':'scientificNameAuthorship',\n",
    "    'Family': 'family',\n",
    "    'NCA_status':'sourceStatus'\n",
    "})"
   ],
   "metadata": {
    "collapsed": false,
    "pycharm": {
     "name": "#%%\n"
    }
   }
  },
  {
   "cell_type": "code",
   "execution_count": 5,
   "outputs": [
    {
     "data": {
      "text/plain": "Index(['Taxon_Id', 'Kingdom', 'Class', 'family', 'scientificName',\n       'vernacularName', 'scientificNameAuthorship', 'sourceStatus',\n       'EPBC_status', 'Significant', 'Confidential', 'Endemicity'],\n      dtype='object')"
     },
     "execution_count": 5,
     "metadata": {},
     "output_type": "execute_result"
    }
   ],
   "source": [
    "conservationlist.columns"
   ],
   "metadata": {
    "collapsed": false,
    "pycharm": {
     "name": "#%%\n"
    }
   }
  },
  {
   "cell_type": "markdown",
   "source": [
    "## Map status codes\n",
    "* Map to codes in provided state based codes file\n",
    "* Remove records with statuses of:\n",
    "  * Special least concern\n",
    "  * Least concert\n",
    "  * null/na"
   ],
   "metadata": {
    "collapsed": false,
    "pycharm": {
     "name": "#%% md\n"
    }
   }
  },
  {
   "cell_type": "code",
   "execution_count": 6,
   "outputs": [
    {
     "data": {
      "text/plain": "       Taxon_Id     Kingdom        Class           family  \\\n0           706     animals   amphibians  Limnodynastidae   \n1           690     animals   amphibians  Limnodynastidae   \n2           677     animals   amphibians  Limnodynastidae   \n3           678     animals   amphibians  Limnodynastidae   \n4           679     animals   amphibians  Limnodynastidae   \n...         ...         ...          ...              ...   \n21889     25858  protozoans  slime molds      Physaraceae   \n21890     34854  protozoans  slime molds  Stemonitidaceae   \n21891     27732  protozoans  slime molds  Stemonitidaceae   \n21892     41204  protozoans  slime molds       Trichiidae   \n21893     34033  protozoans  slime molds     Tubiferaceae   \n\n                     scientificName           vernacularName  \\\n0                   Adelotus brevis              tusked frog   \n1              Lechriodus fletcheri         black soled frog   \n2      Limnodynastes convexiusculus             marbled frog   \n3           Limnodynastes dumerilii  grey bellied pobblebonk   \n4           Limnodynastes fletcheri             barking frog   \n...                             ...                      ...   \n21889                Fuligo septica                      NaN   \n21890          Comatricha pulchella                      NaN   \n21891          Stemonitis splendens                      NaN   \n21892           Hemitrichia serpula                      NaN   \n21893           Lycogala epidendrum                      NaN   \n\n      scientificNameAuthorship sourceStatus EPBC_status Significant  \\\n0              (Günther, 1863)            V         NaN           Y   \n1            (Boulenger, 1890)            C         NaN           N   \n2              (MacLeay, 1877)            C         NaN           N   \n3                 Peters, 1863            C         NaN           N   \n4              Boulenger, 1888            C         NaN           N   \n...                        ...          ...         ...         ...   \n21889           (L.) F.H.Wigg.            C         NaN           N   \n21890           (Bab.) Rostaf.            C         NaN           N   \n21891                  Rostaf.            C         NaN           N   \n21892          (Scop.) Rostaf.            C         NaN           N   \n21893                 (L.) Fr.            C         NaN           N   \n\n      Confidential Endemicity         status  \n0                N         QA     Vulnerable  \n1                N         QA  Least concern  \n2                N        QAI  Least concern  \n3                N         QA  Least concern  \n4                N         QA  Least concern  \n...            ...        ...            ...  \n21889            N          Q  Least concern  \n21890            N          Q  Least concern  \n21891            N          Q  Least concern  \n21892            N          Q  Least concern  \n21893            N          Q  Least concern  \n\n[21894 rows x 13 columns]",
      "text/html": "<div>\n<style scoped>\n    .dataframe tbody tr th:only-of-type {\n        vertical-align: middle;\n    }\n\n    .dataframe tbody tr th {\n        vertical-align: top;\n    }\n\n    .dataframe thead th {\n        text-align: right;\n    }\n</style>\n<table border=\"1\" class=\"dataframe\">\n  <thead>\n    <tr style=\"text-align: right;\">\n      <th></th>\n      <th>Taxon_Id</th>\n      <th>Kingdom</th>\n      <th>Class</th>\n      <th>family</th>\n      <th>scientificName</th>\n      <th>vernacularName</th>\n      <th>scientificNameAuthorship</th>\n      <th>sourceStatus</th>\n      <th>EPBC_status</th>\n      <th>Significant</th>\n      <th>Confidential</th>\n      <th>Endemicity</th>\n      <th>status</th>\n    </tr>\n  </thead>\n  <tbody>\n    <tr>\n      <th>0</th>\n      <td>706</td>\n      <td>animals</td>\n      <td>amphibians</td>\n      <td>Limnodynastidae</td>\n      <td>Adelotus brevis</td>\n      <td>tusked frog</td>\n      <td>(Günther, 1863)</td>\n      <td>V</td>\n      <td>NaN</td>\n      <td>Y</td>\n      <td>N</td>\n      <td>QA</td>\n      <td>Vulnerable</td>\n    </tr>\n    <tr>\n      <th>1</th>\n      <td>690</td>\n      <td>animals</td>\n      <td>amphibians</td>\n      <td>Limnodynastidae</td>\n      <td>Lechriodus fletcheri</td>\n      <td>black soled frog</td>\n      <td>(Boulenger, 1890)</td>\n      <td>C</td>\n      <td>NaN</td>\n      <td>N</td>\n      <td>N</td>\n      <td>QA</td>\n      <td>Least concern</td>\n    </tr>\n    <tr>\n      <th>2</th>\n      <td>677</td>\n      <td>animals</td>\n      <td>amphibians</td>\n      <td>Limnodynastidae</td>\n      <td>Limnodynastes convexiusculus</td>\n      <td>marbled frog</td>\n      <td>(MacLeay, 1877)</td>\n      <td>C</td>\n      <td>NaN</td>\n      <td>N</td>\n      <td>N</td>\n      <td>QAI</td>\n      <td>Least concern</td>\n    </tr>\n    <tr>\n      <th>3</th>\n      <td>678</td>\n      <td>animals</td>\n      <td>amphibians</td>\n      <td>Limnodynastidae</td>\n      <td>Limnodynastes dumerilii</td>\n      <td>grey bellied pobblebonk</td>\n      <td>Peters, 1863</td>\n      <td>C</td>\n      <td>NaN</td>\n      <td>N</td>\n      <td>N</td>\n      <td>QA</td>\n      <td>Least concern</td>\n    </tr>\n    <tr>\n      <th>4</th>\n      <td>679</td>\n      <td>animals</td>\n      <td>amphibians</td>\n      <td>Limnodynastidae</td>\n      <td>Limnodynastes fletcheri</td>\n      <td>barking frog</td>\n      <td>Boulenger, 1888</td>\n      <td>C</td>\n      <td>NaN</td>\n      <td>N</td>\n      <td>N</td>\n      <td>QA</td>\n      <td>Least concern</td>\n    </tr>\n    <tr>\n      <th>...</th>\n      <td>...</td>\n      <td>...</td>\n      <td>...</td>\n      <td>...</td>\n      <td>...</td>\n      <td>...</td>\n      <td>...</td>\n      <td>...</td>\n      <td>...</td>\n      <td>...</td>\n      <td>...</td>\n      <td>...</td>\n      <td>...</td>\n    </tr>\n    <tr>\n      <th>21889</th>\n      <td>25858</td>\n      <td>protozoans</td>\n      <td>slime molds</td>\n      <td>Physaraceae</td>\n      <td>Fuligo septica</td>\n      <td>NaN</td>\n      <td>(L.) F.H.Wigg.</td>\n      <td>C</td>\n      <td>NaN</td>\n      <td>N</td>\n      <td>N</td>\n      <td>Q</td>\n      <td>Least concern</td>\n    </tr>\n    <tr>\n      <th>21890</th>\n      <td>34854</td>\n      <td>protozoans</td>\n      <td>slime molds</td>\n      <td>Stemonitidaceae</td>\n      <td>Comatricha pulchella</td>\n      <td>NaN</td>\n      <td>(Bab.) Rostaf.</td>\n      <td>C</td>\n      <td>NaN</td>\n      <td>N</td>\n      <td>N</td>\n      <td>Q</td>\n      <td>Least concern</td>\n    </tr>\n    <tr>\n      <th>21891</th>\n      <td>27732</td>\n      <td>protozoans</td>\n      <td>slime molds</td>\n      <td>Stemonitidaceae</td>\n      <td>Stemonitis splendens</td>\n      <td>NaN</td>\n      <td>Rostaf.</td>\n      <td>C</td>\n      <td>NaN</td>\n      <td>N</td>\n      <td>N</td>\n      <td>Q</td>\n      <td>Least concern</td>\n    </tr>\n    <tr>\n      <th>21892</th>\n      <td>41204</td>\n      <td>protozoans</td>\n      <td>slime molds</td>\n      <td>Trichiidae</td>\n      <td>Hemitrichia serpula</td>\n      <td>NaN</td>\n      <td>(Scop.) Rostaf.</td>\n      <td>C</td>\n      <td>NaN</td>\n      <td>N</td>\n      <td>N</td>\n      <td>Q</td>\n      <td>Least concern</td>\n    </tr>\n    <tr>\n      <th>21893</th>\n      <td>34033</td>\n      <td>protozoans</td>\n      <td>slime molds</td>\n      <td>Tubiferaceae</td>\n      <td>Lycogala epidendrum</td>\n      <td>NaN</td>\n      <td>(L.) Fr.</td>\n      <td>C</td>\n      <td>NaN</td>\n      <td>N</td>\n      <td>N</td>\n      <td>Q</td>\n      <td>Least concern</td>\n    </tr>\n  </tbody>\n</table>\n<p>21894 rows × 13 columns</p>\n</div>"
     },
     "execution_count": 6,
     "metadata": {},
     "output_type": "execute_result"
    }
   ],
   "source": [
    "conservationlist = lf.map_status(state, codesfile, conservationlist)\n",
    "conservationlist"
   ],
   "metadata": {
    "collapsed": false,
    "pycharm": {
     "name": "#%%\n"
    }
   }
  },
  {
   "cell_type": "code",
   "execution_count": 7,
   "outputs": [
    {
     "data": {
      "text/plain": "       Taxon_Id  Kingdom        Class           family         scientificName  \\\n0           706  animals   amphibians  Limnodynastidae        Adelotus brevis   \n15          687  animals   amphibians  Limnodynastidae   Philoria kundagungan   \n25          686  animals   amphibians   Myobatrachidae         Crinia tinnula   \n29          675  animals   amphibians   Myobatrachidae       Mixophyes fleayi   \n30          676  animals   amphibians   Myobatrachidae     Mixophyes iteratus   \n...         ...      ...          ...              ...                    ...   \n21799     27445   plants  land plants        Zamiaceae  Macrozamia serpentina   \n21800      6482   plants  land plants        Zamiaceae     Macrozamia viridis   \n21805      8948   plants  land plants    Zingiberaceae       Alpinia hylandii   \n21808      8949   plants  land plants    Zingiberaceae  Amomum queenslandicum   \n21812     12434   plants  land plants    Zingiberaceae       Globba marantina   \n\n                    vernacularName scientificNameAuthorship sourceStatus  \\\n0                      tusked frog          (Günther, 1863)            V   \n15     red-and-yellow mountainfrog  (Ingram & Corben, 1975)            E   \n25                  wallum froglet   Straughan & Main, 1966            V   \n29             Fleay's barred frog    Corben & Ingram, 1987            E   \n30               giant barred frog          Straughan, 1968            V   \n...                            ...                      ...          ...   \n21799                          NaN   D.L.Jones & P.I.Forst.            E   \n21800                          NaN   D.L.Jones & P.I.Forst.            E   \n21805                          NaN                  R.M.Sm.           NT   \n21808                          NaN                  R.M.Sm.            V   \n21812                          NaN                       L.            V   \n\n      EPBC_status Significant Confidential Endemicity           status  \n0             NaN           Y            N         QA       Vulnerable  \n15              E           Y            Y         QA       Endangered  \n25            NaN           Y            N         QA       Vulnerable  \n29              E           Y            Y         QA       Endangered  \n30              V           Y            Y         QA       Vulnerable  \n...           ...         ...          ...        ...              ...  \n21799         NaN           Y            Y          Q       Endangered  \n21800         NaN           Y            Y         QA       Endangered  \n21805         NaN           Y            N          Q  Near threatened  \n21808         NaN           Y            N          Q       Vulnerable  \n21812         NaN           Y            N         QI       Vulnerable  \n\n[1335 rows x 13 columns]",
      "text/html": "<div>\n<style scoped>\n    .dataframe tbody tr th:only-of-type {\n        vertical-align: middle;\n    }\n\n    .dataframe tbody tr th {\n        vertical-align: top;\n    }\n\n    .dataframe thead th {\n        text-align: right;\n    }\n</style>\n<table border=\"1\" class=\"dataframe\">\n  <thead>\n    <tr style=\"text-align: right;\">\n      <th></th>\n      <th>Taxon_Id</th>\n      <th>Kingdom</th>\n      <th>Class</th>\n      <th>family</th>\n      <th>scientificName</th>\n      <th>vernacularName</th>\n      <th>scientificNameAuthorship</th>\n      <th>sourceStatus</th>\n      <th>EPBC_status</th>\n      <th>Significant</th>\n      <th>Confidential</th>\n      <th>Endemicity</th>\n      <th>status</th>\n    </tr>\n  </thead>\n  <tbody>\n    <tr>\n      <th>0</th>\n      <td>706</td>\n      <td>animals</td>\n      <td>amphibians</td>\n      <td>Limnodynastidae</td>\n      <td>Adelotus brevis</td>\n      <td>tusked frog</td>\n      <td>(Günther, 1863)</td>\n      <td>V</td>\n      <td>NaN</td>\n      <td>Y</td>\n      <td>N</td>\n      <td>QA</td>\n      <td>Vulnerable</td>\n    </tr>\n    <tr>\n      <th>15</th>\n      <td>687</td>\n      <td>animals</td>\n      <td>amphibians</td>\n      <td>Limnodynastidae</td>\n      <td>Philoria kundagungan</td>\n      <td>red-and-yellow mountainfrog</td>\n      <td>(Ingram &amp; Corben, 1975)</td>\n      <td>E</td>\n      <td>E</td>\n      <td>Y</td>\n      <td>Y</td>\n      <td>QA</td>\n      <td>Endangered</td>\n    </tr>\n    <tr>\n      <th>25</th>\n      <td>686</td>\n      <td>animals</td>\n      <td>amphibians</td>\n      <td>Myobatrachidae</td>\n      <td>Crinia tinnula</td>\n      <td>wallum froglet</td>\n      <td>Straughan &amp; Main, 1966</td>\n      <td>V</td>\n      <td>NaN</td>\n      <td>Y</td>\n      <td>N</td>\n      <td>QA</td>\n      <td>Vulnerable</td>\n    </tr>\n    <tr>\n      <th>29</th>\n      <td>675</td>\n      <td>animals</td>\n      <td>amphibians</td>\n      <td>Myobatrachidae</td>\n      <td>Mixophyes fleayi</td>\n      <td>Fleay's barred frog</td>\n      <td>Corben &amp; Ingram, 1987</td>\n      <td>E</td>\n      <td>E</td>\n      <td>Y</td>\n      <td>Y</td>\n      <td>QA</td>\n      <td>Endangered</td>\n    </tr>\n    <tr>\n      <th>30</th>\n      <td>676</td>\n      <td>animals</td>\n      <td>amphibians</td>\n      <td>Myobatrachidae</td>\n      <td>Mixophyes iteratus</td>\n      <td>giant barred frog</td>\n      <td>Straughan, 1968</td>\n      <td>V</td>\n      <td>V</td>\n      <td>Y</td>\n      <td>Y</td>\n      <td>QA</td>\n      <td>Vulnerable</td>\n    </tr>\n    <tr>\n      <th>...</th>\n      <td>...</td>\n      <td>...</td>\n      <td>...</td>\n      <td>...</td>\n      <td>...</td>\n      <td>...</td>\n      <td>...</td>\n      <td>...</td>\n      <td>...</td>\n      <td>...</td>\n      <td>...</td>\n      <td>...</td>\n      <td>...</td>\n    </tr>\n    <tr>\n      <th>21799</th>\n      <td>27445</td>\n      <td>plants</td>\n      <td>land plants</td>\n      <td>Zamiaceae</td>\n      <td>Macrozamia serpentina</td>\n      <td>NaN</td>\n      <td>D.L.Jones &amp; P.I.Forst.</td>\n      <td>E</td>\n      <td>NaN</td>\n      <td>Y</td>\n      <td>Y</td>\n      <td>Q</td>\n      <td>Endangered</td>\n    </tr>\n    <tr>\n      <th>21800</th>\n      <td>6482</td>\n      <td>plants</td>\n      <td>land plants</td>\n      <td>Zamiaceae</td>\n      <td>Macrozamia viridis</td>\n      <td>NaN</td>\n      <td>D.L.Jones &amp; P.I.Forst.</td>\n      <td>E</td>\n      <td>NaN</td>\n      <td>Y</td>\n      <td>Y</td>\n      <td>QA</td>\n      <td>Endangered</td>\n    </tr>\n    <tr>\n      <th>21805</th>\n      <td>8948</td>\n      <td>plants</td>\n      <td>land plants</td>\n      <td>Zingiberaceae</td>\n      <td>Alpinia hylandii</td>\n      <td>NaN</td>\n      <td>R.M.Sm.</td>\n      <td>NT</td>\n      <td>NaN</td>\n      <td>Y</td>\n      <td>N</td>\n      <td>Q</td>\n      <td>Near threatened</td>\n    </tr>\n    <tr>\n      <th>21808</th>\n      <td>8949</td>\n      <td>plants</td>\n      <td>land plants</td>\n      <td>Zingiberaceae</td>\n      <td>Amomum queenslandicum</td>\n      <td>NaN</td>\n      <td>R.M.Sm.</td>\n      <td>V</td>\n      <td>NaN</td>\n      <td>Y</td>\n      <td>N</td>\n      <td>Q</td>\n      <td>Vulnerable</td>\n    </tr>\n    <tr>\n      <th>21812</th>\n      <td>12434</td>\n      <td>plants</td>\n      <td>land plants</td>\n      <td>Zingiberaceae</td>\n      <td>Globba marantina</td>\n      <td>NaN</td>\n      <td>L.</td>\n      <td>V</td>\n      <td>NaN</td>\n      <td>Y</td>\n      <td>N</td>\n      <td>QI</td>\n      <td>Vulnerable</td>\n    </tr>\n  </tbody>\n</table>\n<p>1335 rows × 13 columns</p>\n</div>"
     },
     "execution_count": 7,
     "metadata": {},
     "output_type": "execute_result"
    }
   ],
   "source": [
    "conservationlist = conservationlist[((conservationlist['status'].notna()))]\n",
    "conservationlist = conservationlist[~conservationlist['status'].str.contains('Special least concern', case=False)]\n",
    "conservationlist = conservationlist[~conservationlist['status'].str.contains('Least concern', case=False)]\n",
    "conservationlist"
   ],
   "metadata": {
    "collapsed": false,
    "pycharm": {
     "name": "#%%\n"
    }
   }
  },
  {
   "cell_type": "markdown",
   "source": [],
   "metadata": {
    "collapsed": false,
    "pycharm": {
     "name": "#%% md\n"
    }
   }
  },
  {
   "cell_type": "markdown",
   "source": [
    "**Tidy up**\n",
    "* rename fields to Darwin Core\n",
    "* replace kingdom/class values with scientific names"
   ],
   "metadata": {
    "collapsed": false,
    "pycharm": {
     "name": "#%% md\n"
    }
   }
  },
  {
   "cell_type": "code",
   "execution_count": 8,
   "outputs": [
    {
     "ename": "KeyError",
     "evalue": "\"['genus'] not in index\"",
     "output_type": "error",
     "traceback": [
      "\u001B[1;31m---------------------------------------------------------------------------\u001B[0m",
      "\u001B[1;31mKeyError\u001B[0m                                  Traceback (most recent call last)",
      "\u001B[1;32m~\\AppData\\Local\\Temp/ipykernel_60732/3242868040.py\u001B[0m in \u001B[0;36m<cell line: 1>\u001B[1;34m()\u001B[0m\n\u001B[1;32m----> 1\u001B[1;33m \u001B[0mconservationlist\u001B[0m \u001B[1;33m=\u001B[0m \u001B[0mconservationlist\u001B[0m\u001B[1;33m.\u001B[0m\u001B[0mloc\u001B[0m\u001B[1;33m[\u001B[0m\u001B[1;33m:\u001B[0m\u001B[1;33m,\u001B[0m \u001B[1;33m[\u001B[0m\u001B[1;34m'scientificName'\u001B[0m\u001B[1;33m,\u001B[0m \u001B[1;34m'vernacularName'\u001B[0m\u001B[1;33m,\u001B[0m \u001B[1;34m'family'\u001B[0m\u001B[1;33m,\u001B[0m \u001B[1;34m'genus'\u001B[0m\u001B[1;33m,\u001B[0m \u001B[1;34m'status'\u001B[0m\u001B[1;33m,\u001B[0m \u001B[1;34m'sourceStatus'\u001B[0m\u001B[1;33m]\u001B[0m\u001B[1;33m]\u001B[0m\u001B[1;33m\u001B[0m\u001B[1;33m\u001B[0m\u001B[0m\n\u001B[0m",
      "\u001B[1;32m~\\Anaconda3\\envs\\scientificProject\\lib\\site-packages\\pandas\\core\\indexing.py\u001B[0m in \u001B[0;36m__getitem__\u001B[1;34m(self, key)\u001B[0m\n\u001B[0;32m    923\u001B[0m                 \u001B[1;32mwith\u001B[0m \u001B[0msuppress\u001B[0m\u001B[1;33m(\u001B[0m\u001B[0mKeyError\u001B[0m\u001B[1;33m,\u001B[0m \u001B[0mIndexError\u001B[0m\u001B[1;33m)\u001B[0m\u001B[1;33m:\u001B[0m\u001B[1;33m\u001B[0m\u001B[1;33m\u001B[0m\u001B[0m\n\u001B[0;32m    924\u001B[0m                     \u001B[1;32mreturn\u001B[0m \u001B[0mself\u001B[0m\u001B[1;33m.\u001B[0m\u001B[0mobj\u001B[0m\u001B[1;33m.\u001B[0m\u001B[0m_get_value\u001B[0m\u001B[1;33m(\u001B[0m\u001B[1;33m*\u001B[0m\u001B[0mkey\u001B[0m\u001B[1;33m,\u001B[0m \u001B[0mtakeable\u001B[0m\u001B[1;33m=\u001B[0m\u001B[0mself\u001B[0m\u001B[1;33m.\u001B[0m\u001B[0m_takeable\u001B[0m\u001B[1;33m)\u001B[0m\u001B[1;33m\u001B[0m\u001B[1;33m\u001B[0m\u001B[0m\n\u001B[1;32m--> 925\u001B[1;33m             \u001B[1;32mreturn\u001B[0m \u001B[0mself\u001B[0m\u001B[1;33m.\u001B[0m\u001B[0m_getitem_tuple\u001B[0m\u001B[1;33m(\u001B[0m\u001B[0mkey\u001B[0m\u001B[1;33m)\u001B[0m\u001B[1;33m\u001B[0m\u001B[1;33m\u001B[0m\u001B[0m\n\u001B[0m\u001B[0;32m    926\u001B[0m         \u001B[1;32melse\u001B[0m\u001B[1;33m:\u001B[0m\u001B[1;33m\u001B[0m\u001B[1;33m\u001B[0m\u001B[0m\n\u001B[0;32m    927\u001B[0m             \u001B[1;31m# we by definition only have the 0th axis\u001B[0m\u001B[1;33m\u001B[0m\u001B[1;33m\u001B[0m\u001B[0m\n",
      "\u001B[1;32m~\\Anaconda3\\envs\\scientificProject\\lib\\site-packages\\pandas\\core\\indexing.py\u001B[0m in \u001B[0;36m_getitem_tuple\u001B[1;34m(self, tup)\u001B[0m\n\u001B[0;32m   1107\u001B[0m             \u001B[1;32mreturn\u001B[0m \u001B[0mself\u001B[0m\u001B[1;33m.\u001B[0m\u001B[0m_multi_take\u001B[0m\u001B[1;33m(\u001B[0m\u001B[0mtup\u001B[0m\u001B[1;33m)\u001B[0m\u001B[1;33m\u001B[0m\u001B[1;33m\u001B[0m\u001B[0m\n\u001B[0;32m   1108\u001B[0m \u001B[1;33m\u001B[0m\u001B[0m\n\u001B[1;32m-> 1109\u001B[1;33m         \u001B[1;32mreturn\u001B[0m \u001B[0mself\u001B[0m\u001B[1;33m.\u001B[0m\u001B[0m_getitem_tuple_same_dim\u001B[0m\u001B[1;33m(\u001B[0m\u001B[0mtup\u001B[0m\u001B[1;33m)\u001B[0m\u001B[1;33m\u001B[0m\u001B[1;33m\u001B[0m\u001B[0m\n\u001B[0m\u001B[0;32m   1110\u001B[0m \u001B[1;33m\u001B[0m\u001B[0m\n\u001B[0;32m   1111\u001B[0m     \u001B[1;32mdef\u001B[0m \u001B[0m_get_label\u001B[0m\u001B[1;33m(\u001B[0m\u001B[0mself\u001B[0m\u001B[1;33m,\u001B[0m \u001B[0mlabel\u001B[0m\u001B[1;33m,\u001B[0m \u001B[0maxis\u001B[0m\u001B[1;33m:\u001B[0m \u001B[0mint\u001B[0m\u001B[1;33m)\u001B[0m\u001B[1;33m:\u001B[0m\u001B[1;33m\u001B[0m\u001B[1;33m\u001B[0m\u001B[0m\n",
      "\u001B[1;32m~\\Anaconda3\\envs\\scientificProject\\lib\\site-packages\\pandas\\core\\indexing.py\u001B[0m in \u001B[0;36m_getitem_tuple_same_dim\u001B[1;34m(self, tup)\u001B[0m\n\u001B[0;32m    804\u001B[0m                 \u001B[1;32mcontinue\u001B[0m\u001B[1;33m\u001B[0m\u001B[1;33m\u001B[0m\u001B[0m\n\u001B[0;32m    805\u001B[0m \u001B[1;33m\u001B[0m\u001B[0m\n\u001B[1;32m--> 806\u001B[1;33m             \u001B[0mretval\u001B[0m \u001B[1;33m=\u001B[0m \u001B[0mgetattr\u001B[0m\u001B[1;33m(\u001B[0m\u001B[0mretval\u001B[0m\u001B[1;33m,\u001B[0m \u001B[0mself\u001B[0m\u001B[1;33m.\u001B[0m\u001B[0mname\u001B[0m\u001B[1;33m)\u001B[0m\u001B[1;33m.\u001B[0m\u001B[0m_getitem_axis\u001B[0m\u001B[1;33m(\u001B[0m\u001B[0mkey\u001B[0m\u001B[1;33m,\u001B[0m \u001B[0maxis\u001B[0m\u001B[1;33m=\u001B[0m\u001B[0mi\u001B[0m\u001B[1;33m)\u001B[0m\u001B[1;33m\u001B[0m\u001B[1;33m\u001B[0m\u001B[0m\n\u001B[0m\u001B[0;32m    807\u001B[0m             \u001B[1;31m# We should never have retval.ndim < self.ndim, as that should\u001B[0m\u001B[1;33m\u001B[0m\u001B[1;33m\u001B[0m\u001B[0m\n\u001B[0;32m    808\u001B[0m             \u001B[1;31m#  be handled by the _getitem_lowerdim call above.\u001B[0m\u001B[1;33m\u001B[0m\u001B[1;33m\u001B[0m\u001B[0m\n",
      "\u001B[1;32m~\\Anaconda3\\envs\\scientificProject\\lib\\site-packages\\pandas\\core\\indexing.py\u001B[0m in \u001B[0;36m_getitem_axis\u001B[1;34m(self, key, axis)\u001B[0m\n\u001B[0;32m   1151\u001B[0m                     \u001B[1;32mraise\u001B[0m \u001B[0mValueError\u001B[0m\u001B[1;33m(\u001B[0m\u001B[1;34m\"Cannot index with multidimensional key\"\u001B[0m\u001B[1;33m)\u001B[0m\u001B[1;33m\u001B[0m\u001B[1;33m\u001B[0m\u001B[0m\n\u001B[0;32m   1152\u001B[0m \u001B[1;33m\u001B[0m\u001B[0m\n\u001B[1;32m-> 1153\u001B[1;33m                 \u001B[1;32mreturn\u001B[0m \u001B[0mself\u001B[0m\u001B[1;33m.\u001B[0m\u001B[0m_getitem_iterable\u001B[0m\u001B[1;33m(\u001B[0m\u001B[0mkey\u001B[0m\u001B[1;33m,\u001B[0m \u001B[0maxis\u001B[0m\u001B[1;33m=\u001B[0m\u001B[0maxis\u001B[0m\u001B[1;33m)\u001B[0m\u001B[1;33m\u001B[0m\u001B[1;33m\u001B[0m\u001B[0m\n\u001B[0m\u001B[0;32m   1154\u001B[0m \u001B[1;33m\u001B[0m\u001B[0m\n\u001B[0;32m   1155\u001B[0m             \u001B[1;31m# nested tuple slicing\u001B[0m\u001B[1;33m\u001B[0m\u001B[1;33m\u001B[0m\u001B[0m\n",
      "\u001B[1;32m~\\Anaconda3\\envs\\scientificProject\\lib\\site-packages\\pandas\\core\\indexing.py\u001B[0m in \u001B[0;36m_getitem_iterable\u001B[1;34m(self, key, axis)\u001B[0m\n\u001B[0;32m   1091\u001B[0m \u001B[1;33m\u001B[0m\u001B[0m\n\u001B[0;32m   1092\u001B[0m         \u001B[1;31m# A collection of keys\u001B[0m\u001B[1;33m\u001B[0m\u001B[1;33m\u001B[0m\u001B[0m\n\u001B[1;32m-> 1093\u001B[1;33m         \u001B[0mkeyarr\u001B[0m\u001B[1;33m,\u001B[0m \u001B[0mindexer\u001B[0m \u001B[1;33m=\u001B[0m \u001B[0mself\u001B[0m\u001B[1;33m.\u001B[0m\u001B[0m_get_listlike_indexer\u001B[0m\u001B[1;33m(\u001B[0m\u001B[0mkey\u001B[0m\u001B[1;33m,\u001B[0m \u001B[0maxis\u001B[0m\u001B[1;33m)\u001B[0m\u001B[1;33m\u001B[0m\u001B[1;33m\u001B[0m\u001B[0m\n\u001B[0m\u001B[0;32m   1094\u001B[0m         return self.obj._reindex_with_indexers(\n\u001B[0;32m   1095\u001B[0m             \u001B[1;33m{\u001B[0m\u001B[0maxis\u001B[0m\u001B[1;33m:\u001B[0m \u001B[1;33m[\u001B[0m\u001B[0mkeyarr\u001B[0m\u001B[1;33m,\u001B[0m \u001B[0mindexer\u001B[0m\u001B[1;33m]\u001B[0m\u001B[1;33m}\u001B[0m\u001B[1;33m,\u001B[0m \u001B[0mcopy\u001B[0m\u001B[1;33m=\u001B[0m\u001B[1;32mTrue\u001B[0m\u001B[1;33m,\u001B[0m \u001B[0mallow_dups\u001B[0m\u001B[1;33m=\u001B[0m\u001B[1;32mTrue\u001B[0m\u001B[1;33m\u001B[0m\u001B[1;33m\u001B[0m\u001B[0m\n",
      "\u001B[1;32m~\\Anaconda3\\envs\\scientificProject\\lib\\site-packages\\pandas\\core\\indexing.py\u001B[0m in \u001B[0;36m_get_listlike_indexer\u001B[1;34m(self, key, axis)\u001B[0m\n\u001B[0;32m   1312\u001B[0m             \u001B[0mkeyarr\u001B[0m\u001B[1;33m,\u001B[0m \u001B[0mindexer\u001B[0m\u001B[1;33m,\u001B[0m \u001B[0mnew_indexer\u001B[0m \u001B[1;33m=\u001B[0m \u001B[0max\u001B[0m\u001B[1;33m.\u001B[0m\u001B[0m_reindex_non_unique\u001B[0m\u001B[1;33m(\u001B[0m\u001B[0mkeyarr\u001B[0m\u001B[1;33m)\u001B[0m\u001B[1;33m\u001B[0m\u001B[1;33m\u001B[0m\u001B[0m\n\u001B[0;32m   1313\u001B[0m \u001B[1;33m\u001B[0m\u001B[0m\n\u001B[1;32m-> 1314\u001B[1;33m         \u001B[0mself\u001B[0m\u001B[1;33m.\u001B[0m\u001B[0m_validate_read_indexer\u001B[0m\u001B[1;33m(\u001B[0m\u001B[0mkeyarr\u001B[0m\u001B[1;33m,\u001B[0m \u001B[0mindexer\u001B[0m\u001B[1;33m,\u001B[0m \u001B[0maxis\u001B[0m\u001B[1;33m)\u001B[0m\u001B[1;33m\u001B[0m\u001B[1;33m\u001B[0m\u001B[0m\n\u001B[0m\u001B[0;32m   1315\u001B[0m \u001B[1;33m\u001B[0m\u001B[0m\n\u001B[0;32m   1316\u001B[0m         if needs_i8_conversion(ax.dtype) or isinstance(\n",
      "\u001B[1;32m~\\Anaconda3\\envs\\scientificProject\\lib\\site-packages\\pandas\\core\\indexing.py\u001B[0m in \u001B[0;36m_validate_read_indexer\u001B[1;34m(self, key, indexer, axis)\u001B[0m\n\u001B[0;32m   1375\u001B[0m \u001B[1;33m\u001B[0m\u001B[0m\n\u001B[0;32m   1376\u001B[0m             \u001B[0mnot_found\u001B[0m \u001B[1;33m=\u001B[0m \u001B[0mlist\u001B[0m\u001B[1;33m(\u001B[0m\u001B[0mensure_index\u001B[0m\u001B[1;33m(\u001B[0m\u001B[0mkey\u001B[0m\u001B[1;33m)\u001B[0m\u001B[1;33m[\u001B[0m\u001B[0mmissing_mask\u001B[0m\u001B[1;33m.\u001B[0m\u001B[0mnonzero\u001B[0m\u001B[1;33m(\u001B[0m\u001B[1;33m)\u001B[0m\u001B[1;33m[\u001B[0m\u001B[1;36m0\u001B[0m\u001B[1;33m]\u001B[0m\u001B[1;33m]\u001B[0m\u001B[1;33m.\u001B[0m\u001B[0munique\u001B[0m\u001B[1;33m(\u001B[0m\u001B[1;33m)\u001B[0m\u001B[1;33m)\u001B[0m\u001B[1;33m\u001B[0m\u001B[1;33m\u001B[0m\u001B[0m\n\u001B[1;32m-> 1377\u001B[1;33m             \u001B[1;32mraise\u001B[0m \u001B[0mKeyError\u001B[0m\u001B[1;33m(\u001B[0m\u001B[1;34mf\"{not_found} not in index\"\u001B[0m\u001B[1;33m)\u001B[0m\u001B[1;33m\u001B[0m\u001B[1;33m\u001B[0m\u001B[0m\n\u001B[0m\u001B[0;32m   1378\u001B[0m \u001B[1;33m\u001B[0m\u001B[0m\n\u001B[0;32m   1379\u001B[0m \u001B[1;33m\u001B[0m\u001B[0m\n",
      "\u001B[1;31mKeyError\u001B[0m: \"['genus'] not in index\""
     ]
    }
   ],
   "source": [
    "conservationlist = conservationlist.loc[:, ['scientificName', 'vernacularName', 'family', 'status', 'sourceStatus']]"
   ],
   "metadata": {
    "collapsed": false,
    "pycharm": {
     "name": "#%%\n"
    }
   }
  },
  {
   "cell_type": "markdown",
   "source": [
    "Write dataframe to CSV - UTF-8 encoding"
   ],
   "metadata": {
    "collapsed": false,
    "pycharm": {
     "name": "#%% md\n"
    }
   }
  },
  {
   "cell_type": "code",
   "execution_count": null,
   "outputs": [],
   "source": [
    "conservationlist.to_csv(processedDataDir + \"conservation-lists/QLD-conservation-20230601.csv\",encoding=\"UTF-8\",index=False)\n",
    "print(\"Finished writing QLD conservation list\")"
   ],
   "metadata": {
    "collapsed": false,
    "pycharm": {
     "name": "#%%\n"
    }
   }
  },
  {
   "cell_type": "code",
   "execution_count": null,
   "outputs": [],
   "source": [
    "### Change logs"
   ],
   "metadata": {
    "collapsed": false,
    "pycharm": {
     "name": "#%%\n"
    }
   }
  },
  {
   "cell_type": "code",
   "execution_count": null,
   "outputs": [],
   "source": [
    "ltype = \"C\"\n",
    "changeDir = \"Monitoring/Change-logs/\"\n",
    "# Qld Conservation\n",
    "print('QLD conservation')\n",
    "filename = \"QLD-conservation.csv\"\n",
    "testdr = \"dr652\"\n",
    "proddr = \"dr652\"\n",
    "changelist = lf.get_changelist(testdr, proddr, ltype)\n",
    "changelist.to_csv(projectDir + changeDir + monthStr + \"-\" + filename, encoding=\"UTF-8\", index=False)\n",
    "print('Finished QLD conservation')"
   ],
   "metadata": {
    "collapsed": false,
    "pycharm": {
     "name": "#%%\n"
    }
   }
  },
  {
   "cell_type": "code",
   "execution_count": null,
   "outputs": [],
   "source": [
    "# Download historical lists from Production\n",
    "prodListUrl = \"https://lists.ala.org.au/ws/speciesListItems/\" + proddr + \"?max=10000&includeKVP=true\"\n",
    "prodList = lf.download_ala_specieslist(prodListUrl)  # save the prod list to the historical lists directory\n",
    "prodList = lf.kvp_to_columns(prodList)\n",
    "prodList.to_csv(projectDir + \"historical-lists/conservation/\" + filename, encoding=\"UTF-8\", index=False)\n",
    "print('Finished downloading conservation historical list')"
   ],
   "metadata": {
    "collapsed": false,
    "pycharm": {
     "name": "#%%\n"
    }
   }
  }
 ],
 "metadata": {
  "kernelspec": {
   "display_name": "Python 3",
   "language": "python",
   "name": "python3"
  },
  "language_info": {
   "codemirror_mode": {
    "name": "ipython",
    "version": 2
   },
   "file_extension": ".py",
   "mimetype": "text/x-python",
   "name": "python",
   "nbconvert_exporter": "python",
   "pygments_lexer": "ipython2",
   "version": "2.7.6"
  }
 },
 "nbformat": 4,
 "nbformat_minor": 0
}