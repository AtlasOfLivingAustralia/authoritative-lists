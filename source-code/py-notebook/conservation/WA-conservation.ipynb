{
 "cells": [
  {
   "cell_type": "markdown",
   "source": [
    "\n",
    "# WA Conservation List\n",
    "\n",
    "### List Identifiers\n",
    "* Conservation list: __[dr2201](https://lists.ala.org.au/speciesListItem/list/dr2201)__ (and [dr2201 in test](https://lists-test.ala.org.au/speciesListItem/list/dr2201))\n",
    "\n",
    "### Source Data\n",
    "\n",
    "* __[WA Dept of Biodiversity, Conservation and Attractions, Parks and Wildlife, Threatened Species Information](https://www.dpaw.wa.gov.au/plants-and-animals/threatened-species-and-communities)__\n",
    "* __[Threatened and Priority Fauna List 7 October 2022.xlsx](https://www.dpaw.wa.gov.au/images/Threatened%20and%20Priority%20Fauna%20List%207%20October%202022.xlsx)__\n",
    "* __[Threatened and Priority Flora List 6 October 2022.xlsx](https://www.dpaw.wa.gov.au/images/documents/plants-animals/threatened-species/Listings/Threatened%20and%20Priority%20Flora%20List_6%20October%202022.xlsx)__\n",
    "* __[Conservation Codes Listing](https://www.dpaw.wa.gov.au/images/Conservation%20codes%20for%20Western%20Australian%20Flora%20and%20Fauna%20179KB.pdf)__\n",
    "\n",
    "**Metadata Description**\n",
    "The Biodiversity Conservation Act 2016 provides for the listing of threatened native plants (flora), threatened native animals (fauna) and threatened ecological communities that need protection as critically endangered, endangered or vulnerable species or ecological communities because they are under identifiable threat of extinction (species) or collapse (ecological communities).\n",
    "\n",
    "The Western Australian Threatened Species Scientific Committee and the Threatened Ecological Communities Scientific Committee review nominations to list, delist or change the threat status of threatened species and ecological communities, and use the International Union for Conservation of Nature Red List criteria for assigning species and communities to threat categories.\n",
    "\n",
    "This list is a concatenation of the WA flora and fauna state lists which have been downloaded from https://www.dpaw.wa.gov.au/images/documents/plants-animals/threatened-species/Listings/Threatened%20and%20Priority%20Flora%20List_6%20October%202022.xlsx and https://www.dpaw.wa.gov.au/images/Threatened%20and%20Priority%20Fauna%20List%207%20October%202022.xlsx and parsed for use in the Atlas of Living Australia.\n",
    "\n",
    "**Metadata URL**\n",
    "https://www.dpaw.wa.gov.au/plants-and-animals/threatened-species-and-communities\n",
    "\n",
    "**Note:**\n",
    "* WA uses the same data files for both conservation and sensitive lists.\n",
    "* Fauna and Flora are in separate files and have different formats. The files are processed separately and then concatenated into a single file.\n",
    "\n",
    "## 1. Prep\n",
    "Import libraries\n",
    "Set project directories\n",
    "Download files if necessary"
   ],
   "metadata": {
    "collapsed": false,
    "pycharm": {
     "name": "#%% md\n"
    }
   }
  },
  {
   "cell_type": "code",
   "execution_count": 1,
   "outputs": [],
   "source": [
    "import pandas as pd\n",
    "import numpy as np\n",
    "import requests\n",
    "import datetime\n",
    "\n",
    "# projectDir = \"/Users/new330/IdeaProjects/authoritative-lists/\"\n",
    "projectDir = \"/Users/oco115/PycharmProjects/authoritative-lists/\"\n",
    "sourceDataDir = projectDir + \"source-data/WA/\"\n",
    "processedDataDir = projectDir + \"current-lists/conservation-lists/\"\n",
    "statusDir = projectDir + \"source-data/status-codes/\"\n",
    "monthStr = datetime.datetime.now().strftime('%Y%m')\n",
    "\n",
    "import sys\n",
    "import os\n",
    "sys.path.append(os.path.abspath(projectDir + \"source-code/includes\"))\n",
    "import list_functions as lf\n",
    "\n",
    "STABSfilename = sourceDataDir + \"STABS_6July2023.xlsx\"\n"
   ],
   "metadata": {
    "collapsed": false,
    "pycharm": {
     "name": "#%%\n"
    }
   }
  },
  {
   "cell_type": "code",
   "execution_count": 27,
   "outputs": [
    {
     "data": {
      "text/plain": "                                                Taxon WA Conservation code  \\\n0                             Abildgaardia pachyptera                   P1   \n1              Abutilon sp. Hamelin (A.M. Ashby 2196)                   P2   \n2         Abutilon sp. Onslow (F. Smith s.n. 10/9/61)                   P3   \n3     Abutilon sp. Pritzelianum (S. van Leeuwen 5095)                   P3   \n4                Abutilon sp. Quobba (H. Demarz 3858)                   P2   \n...                                               ...                  ...   \n6120                    Zoothera lunulata halmaturina                   EN   \n6121                            Zosterops albogularis                   EX   \n6122                               Zosterops strenuus                   EX   \n6123                                    Zyzomys maini                   VU   \n6124                                Zyzomys palatalis                   EN   \n\n     Source Comment                     Species and Communities name  \\\n0     Flora     NaN                          Abildgaardia pachyptera   \n1     Flora     NaN           Abutilon sp. Hamelin (A.M. Ashby 2196)   \n2     Flora     NaN      Abutilon sp. Onslow (F. Smith s.n. 10/9/61)   \n3     Flora     NaN  Abutilon sp. Pritzelianum (S. van Leeuwen 5095)   \n4     Flora     NaN             Abutilon sp. Quobba (H. Demarz 3858)   \n...     ...     ...                                              ...   \n6120   EPBC     NaN                                              NaN   \n6121   EPBC     NaN                                              NaN   \n6122   EPBC     NaN                                              NaN   \n6123   EPBC     NaN                                              NaN   \n6124   EPBC     NaN                                              NaN   \n\n                                            Common Name  \n0                                                   NaN  \n1                                                   NaN  \n2                                                   NaN  \n3                                                   NaN  \n4                                                   NaN  \n...                                                 ...  \n6120  South Australian Bassian Thrush, Western Bassi...  \n6121    Whitechested Whiteeye, Norfolk Island Silvereye  \n6122                                    Robust Whiteeye  \n6123      Arnhem Rockrat, Arnhem Land Rockrat, Kodjperr  \n6124                Carpentarian Rockrat, Aywalirroomoo  \n\n[6125 rows x 6 columns]",
      "text/html": "<div>\n<style scoped>\n    .dataframe tbody tr th:only-of-type {\n        vertical-align: middle;\n    }\n\n    .dataframe tbody tr th {\n        vertical-align: top;\n    }\n\n    .dataframe thead th {\n        text-align: right;\n    }\n</style>\n<table border=\"1\" class=\"dataframe\">\n  <thead>\n    <tr style=\"text-align: right;\">\n      <th></th>\n      <th>Taxon</th>\n      <th>WA Conservation code</th>\n      <th>Source</th>\n      <th>Comment</th>\n      <th>Species and Communities name</th>\n      <th>Common Name</th>\n    </tr>\n  </thead>\n  <tbody>\n    <tr>\n      <th>0</th>\n      <td>Abildgaardia pachyptera</td>\n      <td>P1</td>\n      <td>Flora</td>\n      <td>NaN</td>\n      <td>Abildgaardia pachyptera</td>\n      <td>NaN</td>\n    </tr>\n    <tr>\n      <th>1</th>\n      <td>Abutilon sp. Hamelin (A.M. Ashby 2196)</td>\n      <td>P2</td>\n      <td>Flora</td>\n      <td>NaN</td>\n      <td>Abutilon sp. Hamelin (A.M. Ashby 2196)</td>\n      <td>NaN</td>\n    </tr>\n    <tr>\n      <th>2</th>\n      <td>Abutilon sp. Onslow (F. Smith s.n. 10/9/61)</td>\n      <td>P3</td>\n      <td>Flora</td>\n      <td>NaN</td>\n      <td>Abutilon sp. Onslow (F. Smith s.n. 10/9/61)</td>\n      <td>NaN</td>\n    </tr>\n    <tr>\n      <th>3</th>\n      <td>Abutilon sp. Pritzelianum (S. van Leeuwen 5095)</td>\n      <td>P3</td>\n      <td>Flora</td>\n      <td>NaN</td>\n      <td>Abutilon sp. Pritzelianum (S. van Leeuwen 5095)</td>\n      <td>NaN</td>\n    </tr>\n    <tr>\n      <th>4</th>\n      <td>Abutilon sp. Quobba (H. Demarz 3858)</td>\n      <td>P2</td>\n      <td>Flora</td>\n      <td>NaN</td>\n      <td>Abutilon sp. Quobba (H. Demarz 3858)</td>\n      <td>NaN</td>\n    </tr>\n    <tr>\n      <th>...</th>\n      <td>...</td>\n      <td>...</td>\n      <td>...</td>\n      <td>...</td>\n      <td>...</td>\n      <td>...</td>\n    </tr>\n    <tr>\n      <th>6120</th>\n      <td>Zoothera lunulata halmaturina</td>\n      <td>EN</td>\n      <td>EPBC</td>\n      <td>NaN</td>\n      <td>NaN</td>\n      <td>South Australian Bassian Thrush, Western Bassi...</td>\n    </tr>\n    <tr>\n      <th>6121</th>\n      <td>Zosterops albogularis</td>\n      <td>EX</td>\n      <td>EPBC</td>\n      <td>NaN</td>\n      <td>NaN</td>\n      <td>Whitechested Whiteeye, Norfolk Island Silvereye</td>\n    </tr>\n    <tr>\n      <th>6122</th>\n      <td>Zosterops strenuus</td>\n      <td>EX</td>\n      <td>EPBC</td>\n      <td>NaN</td>\n      <td>NaN</td>\n      <td>Robust Whiteeye</td>\n    </tr>\n    <tr>\n      <th>6123</th>\n      <td>Zyzomys maini</td>\n      <td>VU</td>\n      <td>EPBC</td>\n      <td>NaN</td>\n      <td>NaN</td>\n      <td>Arnhem Rockrat, Arnhem Land Rockrat, Kodjperr</td>\n    </tr>\n    <tr>\n      <th>6124</th>\n      <td>Zyzomys palatalis</td>\n      <td>EN</td>\n      <td>EPBC</td>\n      <td>NaN</td>\n      <td>NaN</td>\n      <td>Carpentarian Rockrat, Aywalirroomoo</td>\n    </tr>\n  </tbody>\n</table>\n<p>6125 rows × 6 columns</p>\n</div>"
     },
     "execution_count": 27,
     "metadata": {},
     "output_type": "execute_result"
    }
   ],
   "source": [
    "# New file from STABS - combines Fauna and Flora\n",
    "data = pd.read_excel(STABSfilename, dtype=str)\n",
    "data"
   ],
   "metadata": {
    "collapsed": false,
    "pycharm": {
     "name": "#%%\n"
    }
   }
  },
  {
   "cell_type": "code",
   "execution_count": 28,
   "outputs": [
    {
     "data": {
      "text/plain": "1393"
     },
     "execution_count": 28,
     "metadata": {},
     "output_type": "execute_result"
    }
   ],
   "source": [
    "count = data['Source'].value_counts()['EPBC']\n",
    "count"
   ],
   "metadata": {
    "collapsed": false,
    "pycharm": {
     "name": "#%%\n"
    }
   }
  },
  {
   "cell_type": "code",
   "execution_count": 29,
   "outputs": [
    {
     "data": {
      "text/plain": "114"
     },
     "execution_count": 29,
     "metadata": {},
     "output_type": "execute_result"
    }
   ],
   "source": [
    "count = data['WA Conservation code'].value_counts()['SPLIT']\n",
    "count"
   ],
   "metadata": {
    "collapsed": false,
    "pycharm": {
     "name": "#%%\n"
    }
   }
  },
  {
   "cell_type": "code",
   "execution_count": 30,
   "outputs": [
    {
     "data": {
      "text/plain": "1"
     },
     "execution_count": 30,
     "metadata": {},
     "output_type": "execute_result"
    }
   ],
   "source": [
    "count = data['WA Conservation code'].value_counts()['SUBSP']\n",
    "count"
   ],
   "metadata": {
    "collapsed": false,
    "pycharm": {
     "name": "#%%\n"
    }
   }
  },
  {
   "cell_type": "code",
   "execution_count": 31,
   "outputs": [
    {
     "data": {
      "text/plain": "13"
     },
     "execution_count": 31,
     "metadata": {},
     "output_type": "execute_result"
    }
   ],
   "source": [
    "count = data['WA Conservation code'].isna().sum()\n",
    "count"
   ],
   "metadata": {
    "collapsed": false,
    "pycharm": {
     "name": "#%%\n"
    }
   }
  },
  {
   "cell_type": "code",
   "execution_count": 32,
   "outputs": [
    {
     "data": {
      "text/plain": "array(['Flora', 'Fauna', 'EPBC'], dtype=object)"
     },
     "execution_count": 32,
     "metadata": {},
     "output_type": "execute_result"
    }
   ],
   "source": [
    "data['Source'].unique()"
   ],
   "metadata": {
    "collapsed": false,
    "pycharm": {
     "name": "#%%\n"
    }
   }
  },
  {
   "cell_type": "markdown",
   "source": [
    "- Drop EPBC data\n",
    "- Drop rows where WA Conservation code = 'SPLIT'\n",
    "- Drop rows where WA Conservation code = 'SUBSP'\n",
    "- Remove text 'Subsp. of ' and 'Subsp of '\n"
   ],
   "metadata": {
    "collapsed": false,
    "pycharm": {
     "name": "#%% md\n"
    }
   }
  },
  {
   "cell_type": "code",
   "execution_count": 35,
   "outputs": [],
   "source": [
    "data = data[~((data['WA Conservation code'] == 'SPLIT') |\n",
    "               (data['WA Conservation code'] == 'SUBSP') |\n",
    "               (data['Source'] == 'EPBC'))].copy()\n"
   ],
   "metadata": {
    "collapsed": false,
    "pycharm": {
     "name": "#%%\n"
    }
   }
  },
  {
   "cell_type": "code",
   "execution_count": 36,
   "outputs": [
    {
     "data": {
      "text/plain": "                                                Taxon WA Conservation code  \\\n0                             Abildgaardia pachyptera                   P1   \n1              Abutilon sp. Hamelin (A.M. Ashby 2196)                   P2   \n2         Abutilon sp. Onslow (F. Smith s.n. 10/9/61)                   P3   \n3     Abutilon sp. Pritzelianum (S. van Leeuwen 5095)                   P3   \n4                Abutilon sp. Quobba (H. Demarz 3858)                   P2   \n...                                               ...                  ...   \n4727                             Zephyrarchaea mainae                   VU   \n4728                              Zephyrarchaea marki                   VU   \n4729                           Zephyrarchaea melindae                   VU   \n4730                            Zephyrarchaea robinsi                   VU   \n4731                             Zyzomys pedunculatus                   CR   \n\n     Source Comment                     Species and Communities name  \\\n0     Flora     NaN                          Abildgaardia pachyptera   \n1     Flora     NaN           Abutilon sp. Hamelin (A.M. Ashby 2196)   \n2     Flora     NaN      Abutilon sp. Onslow (F. Smith s.n. 10/9/61)   \n3     Flora     NaN  Abutilon sp. Pritzelianum (S. van Leeuwen 5095)   \n4     Flora     NaN             Abutilon sp. Quobba (H. Demarz 3858)   \n...     ...     ...                                              ...   \n4727  Fauna     NaN                             Zephyrarchaea mainae   \n4728  Fauna     NaN                              Zephyrarchaea marki   \n4729  Fauna     NaN                           Zephyrarchaea melindae   \n4730  Fauna     NaN                            Zephyrarchaea robinsi   \n4731  Fauna     NaN                             Zyzomys pedunculatus   \n\n                         Common Name  \n0                                NaN  \n1                                NaN  \n2                                NaN  \n3                                NaN  \n4                                NaN  \n...                              ...  \n4727           Main's assasin spider  \n4728   Cape Le Grand Assassin Spider  \n4729      Toolbrunup Assassin Spider  \n4730  Eastern Massif Assassin Spider  \n4731        Central Rock-rat, Antina  \n\n[4604 rows x 6 columns]",
      "text/html": "<div>\n<style scoped>\n    .dataframe tbody tr th:only-of-type {\n        vertical-align: middle;\n    }\n\n    .dataframe tbody tr th {\n        vertical-align: top;\n    }\n\n    .dataframe thead th {\n        text-align: right;\n    }\n</style>\n<table border=\"1\" class=\"dataframe\">\n  <thead>\n    <tr style=\"text-align: right;\">\n      <th></th>\n      <th>Taxon</th>\n      <th>WA Conservation code</th>\n      <th>Source</th>\n      <th>Comment</th>\n      <th>Species and Communities name</th>\n      <th>Common Name</th>\n    </tr>\n  </thead>\n  <tbody>\n    <tr>\n      <th>0</th>\n      <td>Abildgaardia pachyptera</td>\n      <td>P1</td>\n      <td>Flora</td>\n      <td>NaN</td>\n      <td>Abildgaardia pachyptera</td>\n      <td>NaN</td>\n    </tr>\n    <tr>\n      <th>1</th>\n      <td>Abutilon sp. Hamelin (A.M. Ashby 2196)</td>\n      <td>P2</td>\n      <td>Flora</td>\n      <td>NaN</td>\n      <td>Abutilon sp. Hamelin (A.M. Ashby 2196)</td>\n      <td>NaN</td>\n    </tr>\n    <tr>\n      <th>2</th>\n      <td>Abutilon sp. Onslow (F. Smith s.n. 10/9/61)</td>\n      <td>P3</td>\n      <td>Flora</td>\n      <td>NaN</td>\n      <td>Abutilon sp. Onslow (F. Smith s.n. 10/9/61)</td>\n      <td>NaN</td>\n    </tr>\n    <tr>\n      <th>3</th>\n      <td>Abutilon sp. Pritzelianum (S. van Leeuwen 5095)</td>\n      <td>P3</td>\n      <td>Flora</td>\n      <td>NaN</td>\n      <td>Abutilon sp. Pritzelianum (S. van Leeuwen 5095)</td>\n      <td>NaN</td>\n    </tr>\n    <tr>\n      <th>4</th>\n      <td>Abutilon sp. Quobba (H. Demarz 3858)</td>\n      <td>P2</td>\n      <td>Flora</td>\n      <td>NaN</td>\n      <td>Abutilon sp. Quobba (H. Demarz 3858)</td>\n      <td>NaN</td>\n    </tr>\n    <tr>\n      <th>...</th>\n      <td>...</td>\n      <td>...</td>\n      <td>...</td>\n      <td>...</td>\n      <td>...</td>\n      <td>...</td>\n    </tr>\n    <tr>\n      <th>4727</th>\n      <td>Zephyrarchaea mainae</td>\n      <td>VU</td>\n      <td>Fauna</td>\n      <td>NaN</td>\n      <td>Zephyrarchaea mainae</td>\n      <td>Main's assasin spider</td>\n    </tr>\n    <tr>\n      <th>4728</th>\n      <td>Zephyrarchaea marki</td>\n      <td>VU</td>\n      <td>Fauna</td>\n      <td>NaN</td>\n      <td>Zephyrarchaea marki</td>\n      <td>Cape Le Grand Assassin Spider</td>\n    </tr>\n    <tr>\n      <th>4729</th>\n      <td>Zephyrarchaea melindae</td>\n      <td>VU</td>\n      <td>Fauna</td>\n      <td>NaN</td>\n      <td>Zephyrarchaea melindae</td>\n      <td>Toolbrunup Assassin Spider</td>\n    </tr>\n    <tr>\n      <th>4730</th>\n      <td>Zephyrarchaea robinsi</td>\n      <td>VU</td>\n      <td>Fauna</td>\n      <td>NaN</td>\n      <td>Zephyrarchaea robinsi</td>\n      <td>Eastern Massif Assassin Spider</td>\n    </tr>\n    <tr>\n      <th>4731</th>\n      <td>Zyzomys pedunculatus</td>\n      <td>CR</td>\n      <td>Fauna</td>\n      <td>NaN</td>\n      <td>Zyzomys pedunculatus</td>\n      <td>Central Rock-rat, Antina</td>\n    </tr>\n  </tbody>\n</table>\n<p>4604 rows × 6 columns</p>\n</div>"
     },
     "execution_count": 36,
     "metadata": {},
     "output_type": "execute_result"
    }
   ],
   "source": [
    "data = data.dropna(subset=['WA Conservation code'])\n",
    "data"
   ],
   "metadata": {
    "collapsed": false,
    "pycharm": {
     "name": "#%%\n"
    }
   }
  },
  {
   "cell_type": "code",
   "execution_count": 37,
   "outputs": [
    {
     "name": "stderr",
     "output_type": "stream",
     "text": [
      "C:\\Users\\oco115\\AppData\\Local\\Temp/ipykernel_22576/3553788571.py:2: FutureWarning: The default value of regex will change from True to False in a future version.\n",
      "  data['WA Conservation code'] = data['WA Conservation code'].str.replace('Subsp. of ', '').str.replace('Subsp of ', '')\n"
     ]
    }
   ],
   "source": [
    "data['sourceStatus'] = data['WA Conservation code']\n",
    "data['WA Conservation code'] = data['WA Conservation code'].str.replace('Subsp. of ', '').str.replace('Subsp of ', '')"
   ],
   "metadata": {
    "collapsed": false,
    "pycharm": {
     "name": "#%%\n"
    }
   }
  },
  {
   "cell_type": "code",
   "execution_count": 38,
   "outputs": [
    {
     "data": {
      "text/plain": "array(['P1', 'P2', 'P3', 'P4', 'VU', 'CR', 'EN', 'EX', 'MI', 'OS', 'CD',\n       'IA', 'CD & MI', 'P4 & MI', 'MI & P4', 'MI & P1', 'MI & P3'],\n      dtype=object)"
     },
     "execution_count": 38,
     "metadata": {},
     "output_type": "execute_result"
    }
   ],
   "source": [
    "data['WA Conservation code'].unique()"
   ],
   "metadata": {
    "collapsed": false,
    "pycharm": {
     "name": "#%%\n"
    }
   }
  },
  {
   "cell_type": "markdown",
   "source": [
    "### Map status values"
   ],
   "metadata": {
    "collapsed": false,
    "pycharm": {
     "name": "#%% md\n"
    }
   }
  },
  {
   "cell_type": "code",
   "execution_count": 39,
   "outputs": [
    {
     "data": {
      "text/plain": "                                       scientificName  \\\n0                             Abildgaardia pachyptera   \n1              Abutilon sp. Hamelin (A.M. Ashby 2196)   \n2         Abutilon sp. Onslow (F. Smith s.n. 10/9/61)   \n3     Abutilon sp. Pritzelianum (S. van Leeuwen 5095)   \n4                Abutilon sp. Quobba (H. Demarz 3858)   \n...                                               ...   \n4727                             Zephyrarchaea mainae   \n4728                              Zephyrarchaea marki   \n4729                           Zephyrarchaea melindae   \n4730                            Zephyrarchaea robinsi   \n4731                             Zyzomys pedunculatus   \n\n                         Common Name sourceStatus  \\\n0                                NaN           P1   \n1                                NaN           P2   \n2                                NaN           P3   \n3                                NaN           P3   \n4                                NaN           P2   \n...                              ...          ...   \n4727           Main's assasin spider           VU   \n4728   Cape Le Grand Assassin Spider           VU   \n4729      Toolbrunup Assassin Spider           VU   \n4730  Eastern Massif Assassin Spider           VU   \n4731        Central Rock-rat, Antina           CR   \n\n                                status  \n0     Priority 1: Poorly-known species  \n1     Priority 2: Poorly-known species  \n2     Priority 3: Poorly-known species  \n3     Priority 3: Poorly-known species  \n4     Priority 2: Poorly-known species  \n...                                ...  \n4727                        Vulnerable  \n4728                        Vulnerable  \n4729                        Vulnerable  \n4730                        Vulnerable  \n4731             Critically Endangered  \n\n[4604 rows x 4 columns]",
      "text/html": "<div>\n<style scoped>\n    .dataframe tbody tr th:only-of-type {\n        vertical-align: middle;\n    }\n\n    .dataframe tbody tr th {\n        vertical-align: top;\n    }\n\n    .dataframe thead th {\n        text-align: right;\n    }\n</style>\n<table border=\"1\" class=\"dataframe\">\n  <thead>\n    <tr style=\"text-align: right;\">\n      <th></th>\n      <th>scientificName</th>\n      <th>Common Name</th>\n      <th>sourceStatus</th>\n      <th>status</th>\n    </tr>\n  </thead>\n  <tbody>\n    <tr>\n      <th>0</th>\n      <td>Abildgaardia pachyptera</td>\n      <td>NaN</td>\n      <td>P1</td>\n      <td>Priority 1: Poorly-known species</td>\n    </tr>\n    <tr>\n      <th>1</th>\n      <td>Abutilon sp. Hamelin (A.M. Ashby 2196)</td>\n      <td>NaN</td>\n      <td>P2</td>\n      <td>Priority 2: Poorly-known species</td>\n    </tr>\n    <tr>\n      <th>2</th>\n      <td>Abutilon sp. Onslow (F. Smith s.n. 10/9/61)</td>\n      <td>NaN</td>\n      <td>P3</td>\n      <td>Priority 3: Poorly-known species</td>\n    </tr>\n    <tr>\n      <th>3</th>\n      <td>Abutilon sp. Pritzelianum (S. van Leeuwen 5095)</td>\n      <td>NaN</td>\n      <td>P3</td>\n      <td>Priority 3: Poorly-known species</td>\n    </tr>\n    <tr>\n      <th>4</th>\n      <td>Abutilon sp. Quobba (H. Demarz 3858)</td>\n      <td>NaN</td>\n      <td>P2</td>\n      <td>Priority 2: Poorly-known species</td>\n    </tr>\n    <tr>\n      <th>...</th>\n      <td>...</td>\n      <td>...</td>\n      <td>...</td>\n      <td>...</td>\n    </tr>\n    <tr>\n      <th>4727</th>\n      <td>Zephyrarchaea mainae</td>\n      <td>Main's assasin spider</td>\n      <td>VU</td>\n      <td>Vulnerable</td>\n    </tr>\n    <tr>\n      <th>4728</th>\n      <td>Zephyrarchaea marki</td>\n      <td>Cape Le Grand Assassin Spider</td>\n      <td>VU</td>\n      <td>Vulnerable</td>\n    </tr>\n    <tr>\n      <th>4729</th>\n      <td>Zephyrarchaea melindae</td>\n      <td>Toolbrunup Assassin Spider</td>\n      <td>VU</td>\n      <td>Vulnerable</td>\n    </tr>\n    <tr>\n      <th>4730</th>\n      <td>Zephyrarchaea robinsi</td>\n      <td>Eastern Massif Assassin Spider</td>\n      <td>VU</td>\n      <td>Vulnerable</td>\n    </tr>\n    <tr>\n      <th>4731</th>\n      <td>Zyzomys pedunculatus</td>\n      <td>Central Rock-rat, Antina</td>\n      <td>CR</td>\n      <td>Critically Endangered</td>\n    </tr>\n  </tbody>\n</table>\n<p>4604 rows × 4 columns</p>\n</div>"
     },
     "execution_count": 39,
     "metadata": {},
     "output_type": "execute_result"
    }
   ],
   "source": [
    "conservationCodesMapping = {\n",
    "    'CR':'Critically Endangered',\n",
    "    'EN':'Endangered',\n",
    "    'VU':'Vulnerable',\n",
    "    'EX':'Extinct',\n",
    "    'EW':'Extinct in the Wild',\n",
    "    'SP':'Specially Protected',\n",
    "    'MI':'Migratory',\n",
    "    'CD':'Conservation Dependent',\n",
    "    'CD & MI':'Conservation Dependent',\n",
    "    'OS':'Other Specially Protected',\n",
    "    'P1':'Priority 1: Poorly-known species',\n",
    "    'P2':'Priority 2: Poorly-known species',\n",
    "    'P3':'Priority 3: Poorly-known species',\n",
    "    'P4':'Priority 4: Rare, Near Threatened',\n",
    "    'MI & P1':'Priority 1: Poorly-known species',\n",
    "    'MI & P3':'Priority 2: Poorly-known species',\n",
    "    'MI & P4':'Priority 4: Rare, Near Threatened'\n",
    "}\n",
    "data['status'] = data['WA Conservation code'].str.strip().map(conservationCodesMapping).fillna(data['WA Conservation code'])\n",
    "data = data.rename(columns=\n",
    "        {'Taxon': 'scientificName',\n",
    "         'Common ame': 'vernacularName'\n",
    "         # 'WA Conservation code': 'status'\n",
    "        })\n",
    "coldrop = ['Source', 'Comment','Species and Communities name', 'WA Conservation code']\n",
    "data = data.drop(columns=coldrop)\n",
    "data"
   ],
   "metadata": {
    "collapsed": false,
    "pycharm": {
     "name": "#%%\n"
    }
   }
  },
  {
   "cell_type": "code",
   "execution_count": 40,
   "outputs": [
    {
     "data": {
      "text/plain": "array(['P1', 'P2', 'P3', 'P4', 'VU', 'CR', 'EN', 'EX', 'MI',\n       'Subsp of MI', 'Subsp. of MI', 'OS', 'Subsp of EN', 'CD',\n       'Subsp. of EN', 'Subsp. of EX', 'Subsp. of VU', 'Subsp of VU',\n       'IA', 'Subsp. of OS', 'CD & MI', 'Subsp. of CD & MI', 'P4 & MI',\n       'MI & P4', 'MI & P1', 'MI & P3', 'Subsp. of MI & P4'], dtype=object)"
     },
     "execution_count": 40,
     "metadata": {},
     "output_type": "execute_result"
    }
   ],
   "source": [
    "data['sourceStatus'].unique()"
   ],
   "metadata": {
    "collapsed": false,
    "pycharm": {
     "name": "#%%\n"
    }
   }
  },
  {
   "cell_type": "code",
   "execution_count": 41,
   "outputs": [
    {
     "name": "stdout",
     "output_type": "stream",
     "text": [
      "Finished writing WA conservation list\n"
     ]
    }
   ],
   "source": [
    "#Write to CSV\n",
    "data.to_csv(processedDataDir + \"WA-conservation-20230724.csv\",  encoding=\"UTF-8\", index=False)\n",
    "print(\"Finished writing WA conservation list\")"
   ],
   "metadata": {
    "collapsed": false,
    "pycharm": {
     "name": "#%%\n"
    }
   }
  },
  {
   "cell_type": "markdown",
   "source": [
    "Write dataframe to both conservation and sensitive CSV files - UTF-8 encoding"
   ],
   "metadata": {
    "collapsed": false,
    "pycharm": {
     "name": "#%% md\n"
    }
   }
  },
  {
   "cell_type": "markdown",
   "source": [
    "### Change logs\n"
   ],
   "metadata": {
    "collapsed": false,
    "pycharm": {
     "name": "#%% md\n"
    }
   }
  },
  {
   "cell_type": "code",
   "execution_count": 42,
   "outputs": [
    {
     "name": "stdout",
     "output_type": "stream",
     "text": [
      "WA conservation\n",
      "get_changelist: Test -  dr2201 Prod -  dr2201\n",
      "download_ala_list:  https://lists.ala.org.au/ws/speciesListItems/dr2201?max=10000&includeKVP=true\n",
      "Index(['id', 'name', 'commonName', 'scientificName', 'lsid', 'dataResourceUid',\n",
      "       'kvpValues'],\n",
      "      dtype='object')\n",
      "download_ala_list:  https://lists-test.ala.org.au/ws/speciesListItems/dr2201?max=10000&includeKVP=true\n",
      "Index(['id', 'name', 'commonName', 'scientificName', 'lsid', 'dataResourceUid',\n",
      "       'kvpValues'],\n",
      "      dtype='object')\n",
      "Finished WA conservation\n"
     ]
    }
   ],
   "source": [
    "ltype = \"C\"\n",
    "changeDir = \"Monitoring/Change-logs/\"\n",
    "# WA Conservation\n",
    "print('WA conservation')\n",
    "filename = \"WA-conservation.csv\"\n",
    "testdr = \"dr2201\"\n",
    "proddr = \"dr2201\"\n",
    "changelist = lf.get_changelist(testdr, proddr, ltype)\n",
    "changelist.to_csv(projectDir + changeDir + monthStr + \"-\" + filename, encoding=\"UTF-8\", index=False)\n",
    "print('Finished WA conservation')"
   ],
   "metadata": {
    "collapsed": false,
    "pycharm": {
     "name": "#%%\n"
    }
   }
  },
  {
   "cell_type": "code",
   "execution_count": 43,
   "outputs": [
    {
     "name": "stdout",
     "output_type": "stream",
     "text": [
      "download_ala_list:  https://lists.ala.org.au/ws/speciesListItems/dr2201?max=10000&includeKVP=true\n",
      "Index(['id', 'name', 'commonName', 'scientificName', 'lsid', 'dataResourceUid',\n",
      "       'kvpValues'],\n",
      "      dtype='object')\n",
      "Finished downloading conservation historical list\n"
     ]
    }
   ],
   "source": [
    "# Download historical lists from Production\n",
    "prodListUrl = \"https://lists.ala.org.au/ws/speciesListItems/\" + proddr + \"?max=10000&includeKVP=true\"\n",
    "prodList = lf.download_ala_specieslist(prodListUrl)  # save the prod list to the historical lists directory\n",
    "prodList = lf.kvp_to_columns(prodList)\n",
    "prodList.to_csv(projectDir + \"historical-lists/conservation/\" + filename, encoding=\"UTF-8\", index=False)\n",
    "print('Finished downloading conservation historical list')"
   ],
   "metadata": {
    "collapsed": false,
    "pycharm": {
     "name": "#%%\n"
    }
   }
  }
 ],
 "metadata": {
  "kernelspec": {
   "display_name": "Python 3",
   "language": "python",
   "name": "python3"
  },
  "language_info": {
   "codemirror_mode": {
    "name": "ipython",
    "version": 2
   },
   "file_extension": ".py",
   "mimetype": "text/x-python",
   "name": "python",
   "nbconvert_exporter": "python",
   "pygments_lexer": "ipython2",
   "version": "2.7.6"
  }
 },
 "nbformat": 4,
 "nbformat_minor": 0
}