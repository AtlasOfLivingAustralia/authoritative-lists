{
 "cells": [
  {
   "cell_type": "markdown",
   "source": [
    "# EPBC Conservation List\n",
    "\n",
    "### List Identifiers\n",
    "* EPBC Conservation list: __[dr656](https://lists.ala.org.au/speciesListItem/list/dr656)__ (and [dr656 in test](https://lists-test.ala.org.au/speciesListItem/list/dr656))\n",
    "* BONN Conservation list: __[dr18987](https://lists.ala.org.au/speciesListItem/list/dr18987)__\n",
    "* CAMBA Conservation list: __[dr18989](https://lists.ala.org.au/speciesListItem/list/dr18989)__\n",
    "* JAMBA Conservation list: __[dr18988](https://lists.ala.org.au/speciesListItem/list/dr18988)__\n",
    "* ROKAMBA Conservation list: __[dr18990](https://lists.ala.org.au/speciesListItem/list/dr18990)__\n",
    "\n",
    "### Collections:\n",
    "* EPBC:  __[dr656](https://collections.ala.org.au/public/show/dr656)__\n",
    "* BONN:  __[dr18987](https://collections.ala.org.au/public/show/dr18987)__\n",
    "* CAMBA:  __[dr18989](https://collections.ala.org.au/public/show/dr18989)__\n",
    "* JAMBA:  __[dr18988](https://collections.ala.org.au/public/show/dr18988)__\n",
    "* ROKAMBA:  __[dr18990](https://collections.ala.org.au/public/show/dr18990)__\n",
    "\n",
    "## Source Data\n",
    "* __[Threatened Species and Ecological Communities of National Environmental Significance (on data.gov.au)](https://data.gov.au/data/dataset/threatened-species-state-lists)__\n",
    "* __[Dataset landing page](https://data.gov.au/data/dataset/threatened-species-state-lists/resource/78401dce-1f40-49d3-92c4-3713d6e34974)__\n",
    "* __[Direct data download](https://data.gov.au/data/dataset/ae652011-f39e-4c6c-91b8-1dc2d2dfee8f/resource/78401dce-1f40-49d3-92c4-3713d6e34974/download/20221005spcs.csv)__\n",
    "* __[API](https://data.gov.au/data/api/1/util/snippet/api_info.html?resource_id=78401dce-1f40-49d3-92c4-3713d6e34974)__\n",
    "\n",
    "\n",
    "**Metadata URL**\n",
    "https://data.gov.au/data/dataset/threatened-species-state-lists\n",
    "\n",
    "**Metadata Description**\n",
    "\n",
    "**EPBC**\n",
    "\n",
    "This dataset contains information about species of national environmental significance as listed in the Environment Protection and Biodiversity Conservation Act 1999 (EPBC Act). Data provided includes:\n",
    "- species names and threatened status\n",
    "- indicative occurrence within each state, territory and marine area\n",
    "- links to further information in the Species Profile and Threats Database (SPRAT).\n",
    "\n",
    "Threatened species currently listed under the Environment Protection and Biodiversity Conservation Act 1999 (EPBC Act) sourced from the Department of Agriculture, Water and the Environment's Species Profiles and Threats database (SPRAT). Data includes: - Status of EPBC Act threatened, migratory, marine and cetacean species. - Available species recovery documents for EPBC Act species (recovery plan and conservation advice). - Species' taxonomy. - Status of State and Territory Government threatened species (indicative only). Please verify with relevant State and Territory Government agencies. - Species presence within State's, mainland Territory's, external Territory's and the Commonwealth marine area (indicative only). The report presents the current taxonomic understanding of a species. Every effort is made to maintain the accuracy of data that is used in this list. If a species is listed more than once on a statutory list (as a result of taxonomic change), it will be given more than one status in the status column (i.e. \"status 1, status 2\"). The status and presence of State and Territory Government threatened species should be verified with relevant agencies. Further details available at: https://www.environment.gov.au/cgi-bin/sprat/public/sprat.pl\n",
    "\n",
    "**BONN**\n",
    "\n",
    "The Bonn Convention appendices identify migratory taxa at and below the species level, as well as some whole families in Appendix II. The convention definition of migratory species is ‘the entire population or any geographically separate part of the population of any species or lower taxon of wild animals, a significant proportion of whose members cyclically and predictably cross one or more national jurisdictional boundaries’. This definition has been adopted in the EPBC Act. The family listings in Appendix II of the Bonn Convention do not explicitly include all members of each family and, for the purposes of the EPBC Act, the family listings include only those species which are native to Australia and are known to be cyclical and predictable migrants into and out of Australia. The taxonomy of families used in the Bonn Convention appendices is not regularly updated. The following codes are used in the Bonn Convention appendices: A1: species listed explicitly in Appendix 1; A2S: species listed explicitly in Appendix 2; A2H: species is member of a family listed in Appendix 2; and A2S*: species listed as a result of a recent taxonomic revision of a species listed explicitly in Appendix 2. More information is available at https://www.environment.gov.au/cgi-bin/sprat/public/publicshowmigratory.pl\n",
    "\n",
    "**CAMBA**\n",
    "\n",
    "This list of migratory species established under section 209 of the EPBC Act includes migratory species included in annexes established under the China-Australia Migratory Bird Agreement (CAMBA).\n",
    "\n",
    "**JAMBA**\n",
    "\n",
    "This list of migratory species established under section 209 of the EPBC Act includes migratory species included in annexes established under the Japan-Australia Migratory Bird Agreement (JAMBA).\n",
    "\n",
    "**ROKAMBA**\n",
    "This list of migratory species established under section 209 of the EPBC Act includes native, migratory species identified in a list established under, or an instrument made under, an international agreement approved by the Minister, such as the Republic of Korea-Australia Migratory Bird Agreement (ROKAMBA). See http://www.austlii.edu.au/au/other/dfat/treaties/2007/24.html\n",
    "\n"
   ],
   "metadata": {
    "collapsed": false,
    "pycharm": {
     "name": "#%% md\n"
    }
   }
  },
  {
   "cell_type": "markdown",
   "source": [
    "## Setup"
   ],
   "metadata": {
    "collapsed": false,
    "pycharm": {
     "name": "#%% md\n"
    }
   }
  },
  {
   "cell_type": "code",
   "execution_count": 10,
   "outputs": [],
   "source": [
    "import pandas as pd\n",
    "import os\n",
    "import sys\n",
    "import datetime\n",
    "\n",
    "projectDir = \"/Users/oco115/PycharmProjects/authoritative-lists/\"\n",
    "# projectDir = \"/Users/new330/IdeaProjects/authoritative-lists/\"\n",
    "sys.path.append(os.path.abspath(projectDir + \"source-code/includes\"))\n",
    "import list_functions as lf\n",
    "\n",
    "sourceDataDir = projectDir + \"source-data/EPBC/\"\n",
    "statusDir = projectDir + \"source-data/status-codes/\"\n",
    "processedDataDir = projectDir + \"current-lists/conservation-lists/\"\n",
    "\n",
    "# listURL = \"https://data.gov.au/data/dataset/ae652011-f39e-4c6c-91b8-1dc2d2dfee8f/resource/78401dce-1f40-49d3-92c4-3713d6e34974/download/20221005spcs.csv\"\n",
    "# Download current CSV file\n",
    "listURL = \"https://data.gov.au/data/dataset/ae652011-f39e-4c6c-91b8-1dc2d2dfee8f/resource/78401dce-1f40-49d3-92c4-3713d6e34974/download\"\n",
    "monthStr = datetime.datetime.now().strftime('%Y%m')\n",
    "filename = \"EPBC-\" + monthStr + \".csv\"\n",
    "listToolURL = \"https://lists.ala.org.au/speciesListItem/list/dr656\""
   ],
   "metadata": {
    "collapsed": false,
    "pycharm": {
     "name": "#%%\n"
    }
   }
  },
  {
   "cell_type": "markdown",
   "source": [
    "## Download file\n",
    "... or read from cached version"
   ],
   "metadata": {
    "collapsed": false,
    "pycharm": {
     "name": "#%% md\n"
    }
   }
  },
  {
   "cell_type": "code",
   "execution_count": 11,
   "outputs": [],
   "source": [
    "# %%script echo skipping # comment this line to download dataset from API\n",
    "\n",
    "import urllib.request, json\n",
    "import certifi\n",
    "import ssl\n",
    "\n",
    "with urllib.request.urlopen(listURL,context=ssl.create_default_context(cafile=certifi.where())) as url:\n",
    " conservationlist = pd.read_csv(url)"
   ],
   "metadata": {
    "collapsed": false,
    "pycharm": {
     "name": "#%%\n"
    }
   }
  },
  {
   "cell_type": "code",
   "execution_count": 12,
   "outputs": [
    {
     "data": {
      "text/plain": "Index(['Scientific Name', 'Common Name', 'Current Scientific Name',\n       'Threatened status', 'ACT', 'NSW', 'NT', 'QLD', 'SA', 'TAS', 'VIC',\n       'WA', 'ACI', 'CKI', 'CI', 'CSI', 'JBT', 'NFI', 'HMI', 'AAT', 'CMA',\n       'Listed SPRAT TaxonID', 'Current SPRAT TaxonID', 'Kingdom', 'Class',\n       'Profile', 'Date extracted', 'NSL Name', 'Family', 'Genus', 'Species',\n       'Infraspecific Rank', 'Infraspecies', 'Species Author',\n       'Infraspecies Author'],\n      dtype='object')"
     },
     "execution_count": 12,
     "metadata": {},
     "output_type": "execute_result"
    }
   ],
   "source": [
    " conservationlist.columns"
   ],
   "metadata": {
    "collapsed": false,
    "pycharm": {
     "name": "#%%\n"
    }
   }
  },
  {
   "cell_type": "markdown",
   "source": [
    "## Check Statuses"
   ],
   "metadata": {
    "collapsed": false,
    "pycharm": {
     "name": "#%% md\n"
    }
   }
  },
  {
   "cell_type": "code",
   "execution_count": 13,
   "outputs": [
    {
     "data": {
      "text/plain": "array(['Critically Endangered', 'Vulnerable', 'Endangered', 'Extinct',\n       'Conservation Dependent', 'Extinct in the wild'], dtype=object)"
     },
     "execution_count": 13,
     "metadata": {},
     "output_type": "execute_result"
    }
   ],
   "source": [
    "conservationlist['Threatened status'].unique()"
   ],
   "metadata": {
    "collapsed": false,
    "pycharm": {
     "name": "#%%\n"
    }
   }
  },
  {
   "cell_type": "code",
   "execution_count": 14,
   "outputs": [],
   "source": [
    "conservationlist = conservationlist.loc[:, ['Scientific Name', 'Common Name', 'Family', 'Genus', 'Threatened status']]\n",
    "conservationlist = conservationlist.rename(columns={'Threatened status': 'sourceStatus', 'Scientific Name': 'scientificName',\n",
    "                                                    'Common Name':'vernacularName', 'Family':'family', 'Genus':'genus'})\n",
    "conservationlist['status'] = conservationlist['sourceStatus'].str.strip()\n",
    "conservationlist = conservationlist[((conservationlist['status'].notna()))]\n",
    "conservationlist.to_csv(sourceDataDir + filename,encoding=\"UTF-8\",index=False)"
   ],
   "metadata": {
    "collapsed": false,
    "pycharm": {
     "name": "#%%\n"
    }
   }
  },
  {
   "cell_type": "code",
   "execution_count": 15,
   "outputs": [
    {
     "data": {
      "text/plain": "      scientificName                         vernacularName     family  \\\n0  Abutilon julianae                Norfolk Island Abutilon  Malvaceae   \n1   Acacia ammophila                                      -   Fabaceae   \n2     Acacia anomala  Grass Wattle, Chittering Grass Wattle   Fabaceae   \n3     Acacia aphylla                   Leafless Rock Wattle   Fabaceae   \n4      Acacia aprica                           Blunt Wattle   Fabaceae   \n\n      genus           sourceStatus                 status  \n0  Abutilon  Critically Endangered  Critically Endangered  \n1    Acacia             Vulnerable             Vulnerable  \n2    Acacia             Vulnerable             Vulnerable  \n3    Acacia             Vulnerable             Vulnerable  \n4    Acacia             Endangered             Endangered  ",
      "text/html": "<div>\n<style scoped>\n    .dataframe tbody tr th:only-of-type {\n        vertical-align: middle;\n    }\n\n    .dataframe tbody tr th {\n        vertical-align: top;\n    }\n\n    .dataframe thead th {\n        text-align: right;\n    }\n</style>\n<table border=\"1\" class=\"dataframe\">\n  <thead>\n    <tr style=\"text-align: right;\">\n      <th></th>\n      <th>scientificName</th>\n      <th>vernacularName</th>\n      <th>family</th>\n      <th>genus</th>\n      <th>sourceStatus</th>\n      <th>status</th>\n    </tr>\n  </thead>\n  <tbody>\n    <tr>\n      <th>0</th>\n      <td>Abutilon julianae</td>\n      <td>Norfolk Island Abutilon</td>\n      <td>Malvaceae</td>\n      <td>Abutilon</td>\n      <td>Critically Endangered</td>\n      <td>Critically Endangered</td>\n    </tr>\n    <tr>\n      <th>1</th>\n      <td>Acacia ammophila</td>\n      <td>-</td>\n      <td>Fabaceae</td>\n      <td>Acacia</td>\n      <td>Vulnerable</td>\n      <td>Vulnerable</td>\n    </tr>\n    <tr>\n      <th>2</th>\n      <td>Acacia anomala</td>\n      <td>Grass Wattle, Chittering Grass Wattle</td>\n      <td>Fabaceae</td>\n      <td>Acacia</td>\n      <td>Vulnerable</td>\n      <td>Vulnerable</td>\n    </tr>\n    <tr>\n      <th>3</th>\n      <td>Acacia aphylla</td>\n      <td>Leafless Rock Wattle</td>\n      <td>Fabaceae</td>\n      <td>Acacia</td>\n      <td>Vulnerable</td>\n      <td>Vulnerable</td>\n    </tr>\n    <tr>\n      <th>4</th>\n      <td>Acacia aprica</td>\n      <td>Blunt Wattle</td>\n      <td>Fabaceae</td>\n      <td>Acacia</td>\n      <td>Endangered</td>\n      <td>Endangered</td>\n    </tr>\n  </tbody>\n</table>\n</div>"
     },
     "execution_count": 15,
     "metadata": {},
     "output_type": "execute_result"
    }
   ],
   "source": [
    "epbcreport = pd.read_csv(sourceDataDir + filename,skiprows=0)\n",
    "epbcreport.head(5)"
   ],
   "metadata": {
    "collapsed": false,
    "pycharm": {
     "name": "#%%\n"
    }
   }
  },
  {
   "cell_type": "markdown",
   "source": [
    "## Check values"
   ],
   "metadata": {
    "collapsed": false,
    "pycharm": {
     "name": "#%% md\n"
    }
   }
  },
  {
   "cell_type": "code",
   "execution_count": 33,
   "outputs": [
    {
     "data": {
      "text/plain": "Threatened status\nVulnerable                795\nEndangered                756\nCritically Endangered     348\nExtinct                   103\nConservation Dependent      8\nExtinct in the wild         1\ndtype: int64"
     },
     "execution_count": 33,
     "metadata": {},
     "output_type": "execute_result"
    }
   ],
   "source": [
    "# epbcreport.groupby(\"status\").size().sort_values(ascending=False)"
   ],
   "metadata": {
    "collapsed": false,
    "pycharm": {
     "name": "#%%\n"
    }
   }
  },
  {
   "cell_type": "markdown",
   "source": [
    "## Check values"
   ],
   "metadata": {
    "collapsed": false,
    "pycharm": {
     "name": "#%% md\n"
    }
   }
  },
  {
   "cell_type": "code",
   "execution_count": 37,
   "outputs": [
    {
     "data": {
      "text/plain": "status\nVulnerable                795\nEndangered                756\nCritically Endangered     348\nExtinct                   103\nConservation Dependent      8\nExtinct in the wild         1\ndtype: int64"
     },
     "execution_count": 37,
     "metadata": {},
     "output_type": "execute_result"
    }
   ],
   "source": [
    "# epbcreport.groupby(\"status\").size().sort_values(ascending=False)"
   ],
   "metadata": {
    "collapsed": false,
    "pycharm": {
     "name": "#%%\n"
    }
   }
  },
  {
   "cell_type": "code",
   "execution_count": 8,
   "outputs": [
    {
     "ename": "KeyError",
     "evalue": "\"['scientificName', 'vernacularName'] not in index\"",
     "output_type": "error",
     "traceback": [
      "\u001B[1;31m---------------------------------------------------------------------------\u001B[0m",
      "\u001B[1;31mKeyError\u001B[0m                                  Traceback (most recent call last)",
      "\u001B[1;32m~\\AppData\\Local\\Temp/ipykernel_31204/107063992.py\u001B[0m in \u001B[0;36m<cell line: 1>\u001B[1;34m()\u001B[0m\n\u001B[1;32m----> 1\u001B[1;33m \u001B[0mepbcreport\u001B[0m \u001B[1;33m=\u001B[0m \u001B[0mepbcreport\u001B[0m\u001B[1;33m.\u001B[0m\u001B[0mloc\u001B[0m\u001B[1;33m[\u001B[0m\u001B[1;33m:\u001B[0m\u001B[1;33m,\u001B[0m \u001B[1;33m[\u001B[0m\u001B[1;34m'scientificName'\u001B[0m\u001B[1;33m,\u001B[0m \u001B[1;34m'vernacularName'\u001B[0m\u001B[1;33m,\u001B[0m \u001B[1;34m'Family'\u001B[0m\u001B[1;33m,\u001B[0m \u001B[1;34m'Genus'\u001B[0m\u001B[1;33m,\u001B[0m \u001B[1;34m'status'\u001B[0m\u001B[1;33m,\u001B[0m \u001B[1;34m'sourceStatus'\u001B[0m\u001B[1;33m]\u001B[0m\u001B[1;33m]\u001B[0m\u001B[1;33m\u001B[0m\u001B[1;33m\u001B[0m\u001B[0m\n\u001B[0m\u001B[0;32m      2\u001B[0m \u001B[1;33m\u001B[0m\u001B[0m\n",
      "\u001B[1;32m~\\Anaconda3\\envs\\scientificProject\\lib\\site-packages\\pandas\\core\\indexing.py\u001B[0m in \u001B[0;36m__getitem__\u001B[1;34m(self, key)\u001B[0m\n\u001B[0;32m    923\u001B[0m                 \u001B[1;32mwith\u001B[0m \u001B[0msuppress\u001B[0m\u001B[1;33m(\u001B[0m\u001B[0mKeyError\u001B[0m\u001B[1;33m,\u001B[0m \u001B[0mIndexError\u001B[0m\u001B[1;33m)\u001B[0m\u001B[1;33m:\u001B[0m\u001B[1;33m\u001B[0m\u001B[1;33m\u001B[0m\u001B[0m\n\u001B[0;32m    924\u001B[0m                     \u001B[1;32mreturn\u001B[0m \u001B[0mself\u001B[0m\u001B[1;33m.\u001B[0m\u001B[0mobj\u001B[0m\u001B[1;33m.\u001B[0m\u001B[0m_get_value\u001B[0m\u001B[1;33m(\u001B[0m\u001B[1;33m*\u001B[0m\u001B[0mkey\u001B[0m\u001B[1;33m,\u001B[0m \u001B[0mtakeable\u001B[0m\u001B[1;33m=\u001B[0m\u001B[0mself\u001B[0m\u001B[1;33m.\u001B[0m\u001B[0m_takeable\u001B[0m\u001B[1;33m)\u001B[0m\u001B[1;33m\u001B[0m\u001B[1;33m\u001B[0m\u001B[0m\n\u001B[1;32m--> 925\u001B[1;33m             \u001B[1;32mreturn\u001B[0m \u001B[0mself\u001B[0m\u001B[1;33m.\u001B[0m\u001B[0m_getitem_tuple\u001B[0m\u001B[1;33m(\u001B[0m\u001B[0mkey\u001B[0m\u001B[1;33m)\u001B[0m\u001B[1;33m\u001B[0m\u001B[1;33m\u001B[0m\u001B[0m\n\u001B[0m\u001B[0;32m    926\u001B[0m         \u001B[1;32melse\u001B[0m\u001B[1;33m:\u001B[0m\u001B[1;33m\u001B[0m\u001B[1;33m\u001B[0m\u001B[0m\n\u001B[0;32m    927\u001B[0m             \u001B[1;31m# we by definition only have the 0th axis\u001B[0m\u001B[1;33m\u001B[0m\u001B[1;33m\u001B[0m\u001B[0m\n",
      "\u001B[1;32m~\\Anaconda3\\envs\\scientificProject\\lib\\site-packages\\pandas\\core\\indexing.py\u001B[0m in \u001B[0;36m_getitem_tuple\u001B[1;34m(self, tup)\u001B[0m\n\u001B[0;32m   1107\u001B[0m             \u001B[1;32mreturn\u001B[0m \u001B[0mself\u001B[0m\u001B[1;33m.\u001B[0m\u001B[0m_multi_take\u001B[0m\u001B[1;33m(\u001B[0m\u001B[0mtup\u001B[0m\u001B[1;33m)\u001B[0m\u001B[1;33m\u001B[0m\u001B[1;33m\u001B[0m\u001B[0m\n\u001B[0;32m   1108\u001B[0m \u001B[1;33m\u001B[0m\u001B[0m\n\u001B[1;32m-> 1109\u001B[1;33m         \u001B[1;32mreturn\u001B[0m \u001B[0mself\u001B[0m\u001B[1;33m.\u001B[0m\u001B[0m_getitem_tuple_same_dim\u001B[0m\u001B[1;33m(\u001B[0m\u001B[0mtup\u001B[0m\u001B[1;33m)\u001B[0m\u001B[1;33m\u001B[0m\u001B[1;33m\u001B[0m\u001B[0m\n\u001B[0m\u001B[0;32m   1110\u001B[0m \u001B[1;33m\u001B[0m\u001B[0m\n\u001B[0;32m   1111\u001B[0m     \u001B[1;32mdef\u001B[0m \u001B[0m_get_label\u001B[0m\u001B[1;33m(\u001B[0m\u001B[0mself\u001B[0m\u001B[1;33m,\u001B[0m \u001B[0mlabel\u001B[0m\u001B[1;33m,\u001B[0m \u001B[0maxis\u001B[0m\u001B[1;33m:\u001B[0m \u001B[0mint\u001B[0m\u001B[1;33m)\u001B[0m\u001B[1;33m:\u001B[0m\u001B[1;33m\u001B[0m\u001B[1;33m\u001B[0m\u001B[0m\n",
      "\u001B[1;32m~\\Anaconda3\\envs\\scientificProject\\lib\\site-packages\\pandas\\core\\indexing.py\u001B[0m in \u001B[0;36m_getitem_tuple_same_dim\u001B[1;34m(self, tup)\u001B[0m\n\u001B[0;32m    804\u001B[0m                 \u001B[1;32mcontinue\u001B[0m\u001B[1;33m\u001B[0m\u001B[1;33m\u001B[0m\u001B[0m\n\u001B[0;32m    805\u001B[0m \u001B[1;33m\u001B[0m\u001B[0m\n\u001B[1;32m--> 806\u001B[1;33m             \u001B[0mretval\u001B[0m \u001B[1;33m=\u001B[0m \u001B[0mgetattr\u001B[0m\u001B[1;33m(\u001B[0m\u001B[0mretval\u001B[0m\u001B[1;33m,\u001B[0m \u001B[0mself\u001B[0m\u001B[1;33m.\u001B[0m\u001B[0mname\u001B[0m\u001B[1;33m)\u001B[0m\u001B[1;33m.\u001B[0m\u001B[0m_getitem_axis\u001B[0m\u001B[1;33m(\u001B[0m\u001B[0mkey\u001B[0m\u001B[1;33m,\u001B[0m \u001B[0maxis\u001B[0m\u001B[1;33m=\u001B[0m\u001B[0mi\u001B[0m\u001B[1;33m)\u001B[0m\u001B[1;33m\u001B[0m\u001B[1;33m\u001B[0m\u001B[0m\n\u001B[0m\u001B[0;32m    807\u001B[0m             \u001B[1;31m# We should never have retval.ndim < self.ndim, as that should\u001B[0m\u001B[1;33m\u001B[0m\u001B[1;33m\u001B[0m\u001B[0m\n\u001B[0;32m    808\u001B[0m             \u001B[1;31m#  be handled by the _getitem_lowerdim call above.\u001B[0m\u001B[1;33m\u001B[0m\u001B[1;33m\u001B[0m\u001B[0m\n",
      "\u001B[1;32m~\\Anaconda3\\envs\\scientificProject\\lib\\site-packages\\pandas\\core\\indexing.py\u001B[0m in \u001B[0;36m_getitem_axis\u001B[1;34m(self, key, axis)\u001B[0m\n\u001B[0;32m   1151\u001B[0m                     \u001B[1;32mraise\u001B[0m \u001B[0mValueError\u001B[0m\u001B[1;33m(\u001B[0m\u001B[1;34m\"Cannot index with multidimensional key\"\u001B[0m\u001B[1;33m)\u001B[0m\u001B[1;33m\u001B[0m\u001B[1;33m\u001B[0m\u001B[0m\n\u001B[0;32m   1152\u001B[0m \u001B[1;33m\u001B[0m\u001B[0m\n\u001B[1;32m-> 1153\u001B[1;33m                 \u001B[1;32mreturn\u001B[0m \u001B[0mself\u001B[0m\u001B[1;33m.\u001B[0m\u001B[0m_getitem_iterable\u001B[0m\u001B[1;33m(\u001B[0m\u001B[0mkey\u001B[0m\u001B[1;33m,\u001B[0m \u001B[0maxis\u001B[0m\u001B[1;33m=\u001B[0m\u001B[0maxis\u001B[0m\u001B[1;33m)\u001B[0m\u001B[1;33m\u001B[0m\u001B[1;33m\u001B[0m\u001B[0m\n\u001B[0m\u001B[0;32m   1154\u001B[0m \u001B[1;33m\u001B[0m\u001B[0m\n\u001B[0;32m   1155\u001B[0m             \u001B[1;31m# nested tuple slicing\u001B[0m\u001B[1;33m\u001B[0m\u001B[1;33m\u001B[0m\u001B[0m\n",
      "\u001B[1;32m~\\Anaconda3\\envs\\scientificProject\\lib\\site-packages\\pandas\\core\\indexing.py\u001B[0m in \u001B[0;36m_getitem_iterable\u001B[1;34m(self, key, axis)\u001B[0m\n\u001B[0;32m   1091\u001B[0m \u001B[1;33m\u001B[0m\u001B[0m\n\u001B[0;32m   1092\u001B[0m         \u001B[1;31m# A collection of keys\u001B[0m\u001B[1;33m\u001B[0m\u001B[1;33m\u001B[0m\u001B[0m\n\u001B[1;32m-> 1093\u001B[1;33m         \u001B[0mkeyarr\u001B[0m\u001B[1;33m,\u001B[0m \u001B[0mindexer\u001B[0m \u001B[1;33m=\u001B[0m \u001B[0mself\u001B[0m\u001B[1;33m.\u001B[0m\u001B[0m_get_listlike_indexer\u001B[0m\u001B[1;33m(\u001B[0m\u001B[0mkey\u001B[0m\u001B[1;33m,\u001B[0m \u001B[0maxis\u001B[0m\u001B[1;33m)\u001B[0m\u001B[1;33m\u001B[0m\u001B[1;33m\u001B[0m\u001B[0m\n\u001B[0m\u001B[0;32m   1094\u001B[0m         return self.obj._reindex_with_indexers(\n\u001B[0;32m   1095\u001B[0m             \u001B[1;33m{\u001B[0m\u001B[0maxis\u001B[0m\u001B[1;33m:\u001B[0m \u001B[1;33m[\u001B[0m\u001B[0mkeyarr\u001B[0m\u001B[1;33m,\u001B[0m \u001B[0mindexer\u001B[0m\u001B[1;33m]\u001B[0m\u001B[1;33m}\u001B[0m\u001B[1;33m,\u001B[0m \u001B[0mcopy\u001B[0m\u001B[1;33m=\u001B[0m\u001B[1;32mTrue\u001B[0m\u001B[1;33m,\u001B[0m \u001B[0mallow_dups\u001B[0m\u001B[1;33m=\u001B[0m\u001B[1;32mTrue\u001B[0m\u001B[1;33m\u001B[0m\u001B[1;33m\u001B[0m\u001B[0m\n",
      "\u001B[1;32m~\\Anaconda3\\envs\\scientificProject\\lib\\site-packages\\pandas\\core\\indexing.py\u001B[0m in \u001B[0;36m_get_listlike_indexer\u001B[1;34m(self, key, axis)\u001B[0m\n\u001B[0;32m   1312\u001B[0m             \u001B[0mkeyarr\u001B[0m\u001B[1;33m,\u001B[0m \u001B[0mindexer\u001B[0m\u001B[1;33m,\u001B[0m \u001B[0mnew_indexer\u001B[0m \u001B[1;33m=\u001B[0m \u001B[0max\u001B[0m\u001B[1;33m.\u001B[0m\u001B[0m_reindex_non_unique\u001B[0m\u001B[1;33m(\u001B[0m\u001B[0mkeyarr\u001B[0m\u001B[1;33m)\u001B[0m\u001B[1;33m\u001B[0m\u001B[1;33m\u001B[0m\u001B[0m\n\u001B[0;32m   1313\u001B[0m \u001B[1;33m\u001B[0m\u001B[0m\n\u001B[1;32m-> 1314\u001B[1;33m         \u001B[0mself\u001B[0m\u001B[1;33m.\u001B[0m\u001B[0m_validate_read_indexer\u001B[0m\u001B[1;33m(\u001B[0m\u001B[0mkeyarr\u001B[0m\u001B[1;33m,\u001B[0m \u001B[0mindexer\u001B[0m\u001B[1;33m,\u001B[0m \u001B[0maxis\u001B[0m\u001B[1;33m)\u001B[0m\u001B[1;33m\u001B[0m\u001B[1;33m\u001B[0m\u001B[0m\n\u001B[0m\u001B[0;32m   1315\u001B[0m \u001B[1;33m\u001B[0m\u001B[0m\n\u001B[0;32m   1316\u001B[0m         if needs_i8_conversion(ax.dtype) or isinstance(\n",
      "\u001B[1;32m~\\Anaconda3\\envs\\scientificProject\\lib\\site-packages\\pandas\\core\\indexing.py\u001B[0m in \u001B[0;36m_validate_read_indexer\u001B[1;34m(self, key, indexer, axis)\u001B[0m\n\u001B[0;32m   1375\u001B[0m \u001B[1;33m\u001B[0m\u001B[0m\n\u001B[0;32m   1376\u001B[0m             \u001B[0mnot_found\u001B[0m \u001B[1;33m=\u001B[0m \u001B[0mlist\u001B[0m\u001B[1;33m(\u001B[0m\u001B[0mensure_index\u001B[0m\u001B[1;33m(\u001B[0m\u001B[0mkey\u001B[0m\u001B[1;33m)\u001B[0m\u001B[1;33m[\u001B[0m\u001B[0mmissing_mask\u001B[0m\u001B[1;33m.\u001B[0m\u001B[0mnonzero\u001B[0m\u001B[1;33m(\u001B[0m\u001B[1;33m)\u001B[0m\u001B[1;33m[\u001B[0m\u001B[1;36m0\u001B[0m\u001B[1;33m]\u001B[0m\u001B[1;33m]\u001B[0m\u001B[1;33m.\u001B[0m\u001B[0munique\u001B[0m\u001B[1;33m(\u001B[0m\u001B[1;33m)\u001B[0m\u001B[1;33m)\u001B[0m\u001B[1;33m\u001B[0m\u001B[1;33m\u001B[0m\u001B[0m\n\u001B[1;32m-> 1377\u001B[1;33m             \u001B[1;32mraise\u001B[0m \u001B[0mKeyError\u001B[0m\u001B[1;33m(\u001B[0m\u001B[1;34mf\"{not_found} not in index\"\u001B[0m\u001B[1;33m)\u001B[0m\u001B[1;33m\u001B[0m\u001B[1;33m\u001B[0m\u001B[0m\n\u001B[0m\u001B[0;32m   1378\u001B[0m \u001B[1;33m\u001B[0m\u001B[0m\n\u001B[0;32m   1379\u001B[0m \u001B[1;33m\u001B[0m\u001B[0m\n",
      "\u001B[1;31mKeyError\u001B[0m: \"['scientificName', 'vernacularName'] not in index\""
     ]
    }
   ],
   "source": [
    "# epbcreport = epbcreport.loc[:, ['scientificName', 'vernacularName', 'family', 'genus', 'status', 'sourceStatus']]\n"
   ],
   "metadata": {
    "collapsed": false,
    "pycharm": {
     "name": "#%%\n"
    }
   }
  },
  {
   "cell_type": "markdown",
   "source": [
    "## Write to CSV"
   ],
   "metadata": {
    "collapsed": false,
    "pycharm": {
     "name": "#%% md\n"
    }
   }
  },
  {
   "cell_type": "code",
   "execution_count": 17,
   "outputs": [],
   "source": [
    "epbcreport.to_csv(processedDataDir + \"EPBC-conservation-20230601.csv\",encoding=\"UTF-8\",index=False)"
   ],
   "metadata": {
    "collapsed": false,
    "pycharm": {
     "name": "#%%\n"
    }
   }
  },
  {
   "cell_type": "markdown",
   "source": [
    "# Manual List check\n",
    "\n",
    "**Instructions**\n",
    "1. Load the list above into the lists-test tool for this data resource\n",
    "2. Unskip the below code and Run the reports below to compare to production. Send the changelog.csv to check. Correct any issues.\n",
    "3. Save the production list into the `historical lists` directory by uncommenting the code section below.\n",
    "4. Load the list from `current lists` into production"
   ],
   "metadata": {
    "collapsed": false,
    "pycharm": {
     "name": "#%% md\n"
    }
   }
  },
  {
   "cell_type": "markdown",
   "source": [
    "### Conservation List - Download old and new and compare"
   ],
   "metadata": {
    "collapsed": false,
    "pycharm": {
     "name": "#%% md\n"
    }
   }
  },
  {
   "cell_type": "code",
   "execution_count": 11,
   "outputs": [
    {
     "data": {
      "text/plain": "                                             name  \\\n82                   Acanthiza pusilla archibaldi   \n139                        Androcalva perkinsiana   \n179                              Asplenium wildii   \n182   Asterolasia asteriscophora subsp. albiflora   \n238         Bertya sp. Clouds Creek (M. Fatemi 4)   \n...                                           ...   \n1895                        Vincetoxicum forsteri   \n1896                        Vincetoxicum rupicola   \n1897                        Vincetoxicum woollsii   \n1923                               Zanda baudinii   \n1924                            Zanda latirostris   \n\n                   commonName_new  \\\n82    King Island Brown Thornbill   \n139                          None   \n179                          None   \n182               White Star-bush   \n238                          None   \n...                           ...   \n1895                          NaN   \n1896                          NaN   \n1897                          NaN   \n1923                          NaN   \n1924                          NaN   \n\n                               scientificName_new             status_new  \\\n82                   Acanthiza pusilla archibaldi             Endangered   \n139                        Androcalva perkinsiana  Critically Endangered   \n179                              Asplenium wildii             Vulnerable   \n182   Asterolasia asteriscophora subsp. albiflora  Critically Endangered   \n238          Bertya sp. Clouds Creek (M.Fatemi 4)             Endangered   \n...                                           ...                    ...   \n1895                                          NaN                    NaN   \n1896                                          NaN                    NaN   \n1897                                          NaN                    NaN   \n1923                                          NaN                    NaN   \n1924                                          NaN                    NaN   \n\n     listUpdate               commonName_old     scientificName_old  \\\n82        added                          NaN                    NaN   \n139       added                          NaN                    NaN   \n179       added                          NaN                    NaN   \n182       added                          NaN                    NaN   \n238       added                          NaN                    NaN   \n...         ...                          ...                    ...   \n1895    removed                         None  Vincetoxicum forsteri   \n1896    removed                         None  Vincetoxicum rupicola   \n1897    removed        Cryptic Forest Twiner     Tylophora woollsii   \n1923    removed      Baudin's Black-cockatoo         Zanda baudinii   \n1924    removed  Short-billed Black-cockatoo      Zanda latirostris   \n\n      status_old  \n82           NaN  \n139          NaN  \n179          NaN  \n182          NaN  \n238          NaN  \n...          ...  \n1895  Endangered  \n1896  Endangered  \n1897  Endangered  \n1923  Endangered  \n1924  Endangered  \n\n[71 rows x 8 columns]",
      "text/html": "<div>\n<style scoped>\n    .dataframe tbody tr th:only-of-type {\n        vertical-align: middle;\n    }\n\n    .dataframe tbody tr th {\n        vertical-align: top;\n    }\n\n    .dataframe thead th {\n        text-align: right;\n    }\n</style>\n<table border=\"1\" class=\"dataframe\">\n  <thead>\n    <tr style=\"text-align: right;\">\n      <th></th>\n      <th>name</th>\n      <th>commonName_new</th>\n      <th>scientificName_new</th>\n      <th>status_new</th>\n      <th>listUpdate</th>\n      <th>commonName_old</th>\n      <th>scientificName_old</th>\n      <th>status_old</th>\n    </tr>\n  </thead>\n  <tbody>\n    <tr>\n      <th>82</th>\n      <td>Acanthiza pusilla archibaldi</td>\n      <td>King Island Brown Thornbill</td>\n      <td>Acanthiza pusilla archibaldi</td>\n      <td>Endangered</td>\n      <td>added</td>\n      <td>NaN</td>\n      <td>NaN</td>\n      <td>NaN</td>\n    </tr>\n    <tr>\n      <th>139</th>\n      <td>Androcalva perkinsiana</td>\n      <td>None</td>\n      <td>Androcalva perkinsiana</td>\n      <td>Critically Endangered</td>\n      <td>added</td>\n      <td>NaN</td>\n      <td>NaN</td>\n      <td>NaN</td>\n    </tr>\n    <tr>\n      <th>179</th>\n      <td>Asplenium wildii</td>\n      <td>None</td>\n      <td>Asplenium wildii</td>\n      <td>Vulnerable</td>\n      <td>added</td>\n      <td>NaN</td>\n      <td>NaN</td>\n      <td>NaN</td>\n    </tr>\n    <tr>\n      <th>182</th>\n      <td>Asterolasia asteriscophora subsp. albiflora</td>\n      <td>White Star-bush</td>\n      <td>Asterolasia asteriscophora subsp. albiflora</td>\n      <td>Critically Endangered</td>\n      <td>added</td>\n      <td>NaN</td>\n      <td>NaN</td>\n      <td>NaN</td>\n    </tr>\n    <tr>\n      <th>238</th>\n      <td>Bertya sp. Clouds Creek (M. Fatemi 4)</td>\n      <td>None</td>\n      <td>Bertya sp. Clouds Creek (M.Fatemi 4)</td>\n      <td>Endangered</td>\n      <td>added</td>\n      <td>NaN</td>\n      <td>NaN</td>\n      <td>NaN</td>\n    </tr>\n    <tr>\n      <th>...</th>\n      <td>...</td>\n      <td>...</td>\n      <td>...</td>\n      <td>...</td>\n      <td>...</td>\n      <td>...</td>\n      <td>...</td>\n      <td>...</td>\n    </tr>\n    <tr>\n      <th>1895</th>\n      <td>Vincetoxicum forsteri</td>\n      <td>NaN</td>\n      <td>NaN</td>\n      <td>NaN</td>\n      <td>removed</td>\n      <td>None</td>\n      <td>Vincetoxicum forsteri</td>\n      <td>Endangered</td>\n    </tr>\n    <tr>\n      <th>1896</th>\n      <td>Vincetoxicum rupicola</td>\n      <td>NaN</td>\n      <td>NaN</td>\n      <td>NaN</td>\n      <td>removed</td>\n      <td>None</td>\n      <td>Vincetoxicum rupicola</td>\n      <td>Endangered</td>\n    </tr>\n    <tr>\n      <th>1897</th>\n      <td>Vincetoxicum woollsii</td>\n      <td>NaN</td>\n      <td>NaN</td>\n      <td>NaN</td>\n      <td>removed</td>\n      <td>Cryptic Forest Twiner</td>\n      <td>Tylophora woollsii</td>\n      <td>Endangered</td>\n    </tr>\n    <tr>\n      <th>1923</th>\n      <td>Zanda baudinii</td>\n      <td>NaN</td>\n      <td>NaN</td>\n      <td>NaN</td>\n      <td>removed</td>\n      <td>Baudin's Black-cockatoo</td>\n      <td>Zanda baudinii</td>\n      <td>Endangered</td>\n    </tr>\n    <tr>\n      <th>1924</th>\n      <td>Zanda latirostris</td>\n      <td>NaN</td>\n      <td>NaN</td>\n      <td>NaN</td>\n      <td>removed</td>\n      <td>Short-billed Black-cockatoo</td>\n      <td>Zanda latirostris</td>\n      <td>Endangered</td>\n    </tr>\n  </tbody>\n</table>\n<p>71 rows × 8 columns</p>\n</div>"
     },
     "execution_count": 11,
     "metadata": {},
     "output_type": "execute_result"
    }
   ],
   "source": [
    "%%script echo skipping # comment this line to run this code\n",
    "\n",
    "import datetime\n",
    "monthStr = datetime.datetime.now().strftime('%Y%m')\n",
    "ltype =\"C\"\n",
    "# conservation\n",
    "filename = \"NT-conservation.csv\"\n",
    "prodListUrl = \"https://lists.ala.org.au/ws/speciesListItems/\" + \"dr656\" + \"?max=10000&includeKVP=true\"\n",
    "testListUrl = \"https://lists-test.ala.org.au/ws/speciesListItems/\" + \"dr656\" + \"?max=10000&includeKVP=true\"\n",
    "changelist = lf.get_changelist(testListUrl, prodListUrl, ltype)\n",
    "# save the lists locally\n",
    "changelist.to_csv(projectDir + \"analysis/change-log/\" + monthStr + \"-\" + filename, encoding=\"UTF-8\", index=False)\n",
    "\n",
    "changelist"
   ],
   "metadata": {
    "collapsed": false,
    "pycharm": {
     "name": "#%%\n"
    }
   }
  },
  {
   "cell_type": "markdown",
   "source": [
    "### Old code in next cell requires check against new code above"
   ],
   "metadata": {
    "collapsed": false,
    "pycharm": {
     "name": "#%% md\n"
    }
   }
  },
  {
   "cell_type": "code",
   "execution_count": 12,
   "outputs": [],
   "source": [
    "#### Old code requires check against new\n",
    "\n",
    "# def download_ala_list(url:str):\n",
    "#  with urllib.request.urlopen(url,context=ssl.create_default_context(cafile=certifi.where())) as url:\n",
    "#   data = json.loads(url.read().decode())\n",
    "#   data = pd.json_normalize(data)\n",
    "#   return data\n",
    "#\n",
    "# # download the prod list\n",
    "# prodListUrl = \"https://lists.ala.org.au/ws/speciesListItems/dr656?max=10000\"\n",
    "# prodList = download_ala_list(prodListUrl)\n",
    "# testListUrl = \"https://lists-test.ala.org.au/ws/speciesListItems/dr656?max=10000\"\n",
    "# testList = download_ala_list(testListUrl)\n",
    "#\n",
    "# # new names\n",
    "# testvsprod = pd.merge(testList,prodList,how='left',on='name')\n",
    "# testvsprod = testvsprod[testvsprod['scientificName_y'].isna()][['name','commonName_x','scientificName_x']]\n",
    "# testvsprod['status'] = 'added'\n",
    "# # old names\n",
    "# prodvstest = pd.merge(prodList,testList,how='left',on='name')\n",
    "# prodvstest = prodvstest[prodvstest['scientificName_y'].isna()][['name','commonName_y','scientificName_y']]\n",
    "# prodvstest['status'] = 'removed'\n",
    "# # union and display in alphabetical order\n",
    "# changelist = pd.concat([testvsprod,prodvstest])\n",
    "#\n",
    "# # save the prod list to the historical lists directory\n",
    "# prodList.to_csv(projectDir + \"historical-lists/conservation/EPBC_Act_Threatened_Species.csv\",encoding=\"UTF-8\",index=False)\n",
    "# # save the change log\n",
    "# changelist.to_csv(projectDir + \"analysis/change-log/202211-EPBC-conservation.csv\",encoding=\"UTF-8\",index=False)\n"
   ],
   "metadata": {
    "collapsed": false,
    "pycharm": {
     "name": "#%%\n"
    }
   }
  },
  {
   "cell_type": "code",
   "execution_count": 13,
   "outputs": [],
   "source": [
    "# changelist[['status','name','scientificName_x','commonName_x']].sort_values('name')"
   ],
   "metadata": {
    "collapsed": false,
    "pycharm": {
     "name": "#%%\n"
    }
   }
  },
  {
   "cell_type": "markdown",
   "source": [
    "### Download Production lists to Historical Lists directory"
   ],
   "metadata": {
    "collapsed": false,
    "pycharm": {
     "name": "#%% md\n"
    }
   }
  },
  {
   "cell_type": "code",
   "execution_count": 14,
   "outputs": [
    {
     "name": "stdout",
     "output_type": "stream",
     "text": [
      "Finished downloading historical list\n"
     ]
    }
   ],
   "source": [
    "%%script echo skipping # comment this line to download the files and save locally\n",
    "\n",
    "prodList = lf.download_ala_list(prodListUrl)  # save the prod list to the historical lists directory\n",
    "prodList = lf.kvp_to_columns(prodList)\n",
    "prodList.to_csv(projectDir + \"historical-lists/conservation/\" + filename, encoding=\"UTF-8\", index=False)\n",
    "print('Finished downloading historical list')"
   ],
   "metadata": {
    "collapsed": false,
    "pycharm": {
     "name": "#%%\n"
    }
   }
  }
 ],
 "metadata": {
  "kernelspec": {
   "display_name": "Python 3",
   "language": "python",
   "name": "python3"
  },
  "language_info": {
   "codemirror_mode": {
    "name": "ipython",
    "version": 2
   },
   "file_extension": ".py",
   "mimetype": "text/x-python",
   "name": "python",
   "nbconvert_exporter": "python",
   "pygments_lexer": "ipython2",
   "version": "2.7.6"
  }
 },
 "nbformat": 4,
 "nbformat_minor": 0
}