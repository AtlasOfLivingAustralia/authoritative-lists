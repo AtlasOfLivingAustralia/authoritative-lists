{
 "cells": [
  {
   "cell_type": "markdown",
   "source": [
    "# EPBC Conservation List\n",
    "\n",
    "### List Identifiers\n",
    "* EPBC Conservation list: __[dr656](https://lists.ala.org.au/speciesListItem/list/dr656)__ (and [dr656 in test](https://lists-test.ala.org.au/speciesListItem/list/dr656))\n",
    "* BONN Conservation list: __[dr18987](https://lists.ala.org.au/speciesListItem/list/dr18987)__\n",
    "* CAMBA Conservation list: __[dr18989](https://lists.ala.org.au/speciesListItem/list/dr18989)__\n",
    "* JAMBA Conservation list: __[dr18988](https://lists.ala.org.au/speciesListItem/list/dr18988)__\n",
    "* ROKAMBA Conservation list: __[dr18990](https://lists.ala.org.au/speciesListItem/list/dr18990)__\n",
    "\n",
    "### Collections:\n",
    "* EPBC:  __[dr656](https://collections.ala.org.au/public/show/dr656)__\n",
    "* BONN:  __[dr18987](https://collections.ala.org.au/public/show/dr18987)__\n",
    "* CAMBA:  __[dr18989](https://collections.ala.org.au/public/show/dr18989)__\n",
    "* JAMBA:  __[dr18988](https://collections.ala.org.au/public/show/dr18988)__\n",
    "* ROKAMBA:  __[dr18990](https://collections.ala.org.au/public/show/dr18990)__\n",
    "\n",
    "## Source Data\n",
    "* __[Threatened Species and Ecological Communities of National Environmental Significance (on data.gov.au)](https://data.gov.au/data/dataset/threatened-species-state-lists)__\n",
    "* __[Dataset landing page](https://data.gov.au/data/dataset/threatened-species-state-lists/resource/78401dce-1f40-49d3-92c4-3713d6e34974)__\n",
    "* __[Direct data download](https://data.gov.au/data/dataset/ae652011-f39e-4c6c-91b8-1dc2d2dfee8f/resource/78401dce-1f40-49d3-92c4-3713d6e34974/download/20221005spcs.csv)__\n",
    "* __[API](https://data.gov.au/data/api/1/util/snippet/api_info.html?resource_id=78401dce-1f40-49d3-92c4-3713d6e34974)__\n",
    "\n",
    "\n",
    "**Metadata URL**\n",
    "https://data.gov.au/data/dataset/threatened-species-state-lists\n",
    "\n",
    "**Metadata Description**\n",
    "\n",
    "**EPBC**\n",
    "\n",
    "This dataset contains information about species of national environmental significance as listed in the Environment Protection and Biodiversity Conservation Act 1999 (EPBC Act). Data provided includes:\n",
    "- species names and threatened status\n",
    "- indicative occurrence within each state, territory and marine area\n",
    "- links to further information in the Species Profile and Threats Database (SPRAT).\n",
    "\n",
    "Threatened species currently listed under the Environment Protection and Biodiversity Conservation Act 1999 (EPBC Act) sourced from the Department of Agriculture, Water and the Environment's Species Profiles and Threats database (SPRAT). Data includes: - Status of EPBC Act threatened, migratory, marine and cetacean species. - Available species recovery documents for EPBC Act species (recovery plan and conservation advice). - Species' taxonomy. - Status of State and Territory Government threatened species (indicative only). Please verify with relevant State and Territory Government agencies. - Species presence within State's, mainland Territory's, external Territory's and the Commonwealth marine area (indicative only). The report presents the current taxonomic understanding of a species. Every effort is made to maintain the accuracy of data that is used in this list. If a species is listed more than once on a statutory list (as a result of taxonomic change), it will be given more than one status in the status column (i.e. \"status 1, status 2\"). The status and presence of State and Territory Government threatened species should be verified with relevant agencies. Further details available at: https://www.environment.gov.au/cgi-bin/sprat/public/sprat.pl\n",
    "\n",
    "**BONN**\n",
    "\n",
    "The Bonn Convention appendices identify migratory taxa at and below the species level, as well as some whole families in Appendix II. The convention definition of migratory species is ‘the entire population or any geographically separate part of the population of any species or lower taxon of wild animals, a significant proportion of whose members cyclically and predictably cross one or more national jurisdictional boundaries’. This definition has been adopted in the EPBC Act. The family listings in Appendix II of the Bonn Convention do not explicitly include all members of each family and, for the purposes of the EPBC Act, the family listings include only those species which are native to Australia and are known to be cyclical and predictable migrants into and out of Australia. The taxonomy of families used in the Bonn Convention appendices is not regularly updated. The following codes are used in the Bonn Convention appendices: A1: species listed explicitly in Appendix 1; A2S: species listed explicitly in Appendix 2; A2H: species is member of a family listed in Appendix 2; and A2S*: species listed as a result of a recent taxonomic revision of a species listed explicitly in Appendix 2. More information is available at https://www.environment.gov.au/cgi-bin/sprat/public/publicshowmigratory.pl\n",
    "\n",
    "**CAMBA**\n",
    "\n",
    "This list of migratory species established under section 209 of the EPBC Act includes migratory species included in annexes established under the China-Australia Migratory Bird Agreement (CAMBA).\n",
    "\n",
    "**JAMBA**\n",
    "\n",
    "This list of migratory species established under section 209 of the EPBC Act includes migratory species included in annexes established under the Japan-Australia Migratory Bird Agreement (JAMBA).\n",
    "\n",
    "**ROKAMBA**\n",
    "This list of migratory species established under section 209 of the EPBC Act includes native, migratory species identified in a list established under, or an instrument made under, an international agreement approved by the Minister, such as the Republic of Korea-Australia Migratory Bird Agreement (ROKAMBA). See http://www.austlii.edu.au/au/other/dfat/treaties/2007/24.html\n",
    "\n"
   ],
   "metadata": {
    "collapsed": false,
    "pycharm": {
     "name": "#%% md\n"
    }
   }
  },
  {
   "cell_type": "markdown",
   "source": [
    "## Setup"
   ],
   "metadata": {
    "collapsed": false,
    "pycharm": {
     "name": "#%% md\n"
    }
   }
  },
  {
   "cell_type": "code",
   "execution_count": 1,
   "outputs": [],
   "source": [
    "import pandas as pd\n",
    "import os\n",
    "import sys\n",
    "import datetime\n",
    "\n",
    "projectDir = \"/Users/oco115/PycharmProjects/authoritative-lists/\"\n",
    "# projectDir = \"/Users/new330/IdeaProjects/authoritative-lists/\"\n",
    "sys.path.append(os.path.abspath(projectDir + \"source-code/includes\"))\n",
    "import list_functions as lf\n",
    "\n",
    "sourceDataDir = projectDir + \"source-data/EPBC/\"\n",
    "statusDir = projectDir + \"source-data/status-codes/\"\n",
    "processedDataDir = projectDir + \"current-lists/conservation-lists/\"\n",
    "\n",
    "# listURL = \"https://data.gov.au/data/dataset/ae652011-f39e-4c6c-91b8-1dc2d2dfee8f/resource/78401dce-1f40-49d3-92c4-3713d6e34974/download/20221005spcs.csv\"\n",
    "# Download current CSV file\n",
    "listURL = \"https://data.gov.au/data/dataset/ae652011-f39e-4c6c-91b8-1dc2d2dfee8f/resource/78401dce-1f40-49d3-92c4-3713d6e34974/download\"\n",
    "monthStr = datetime.datetime.now().strftime('%Y%m')\n",
    "filename = \"EPBC-\" + monthStr + \".csv\"\n",
    "listToolURL = \"https://lists.ala.org.au/speciesListItem/list/dr656\""
   ],
   "metadata": {
    "collapsed": false,
    "pycharm": {
     "name": "#%%\n"
    }
   }
  },
  {
   "cell_type": "markdown",
   "source": [
    "## Download file\n",
    "... or read from cached version"
   ],
   "metadata": {
    "collapsed": false,
    "pycharm": {
     "name": "#%% md\n"
    }
   }
  },
  {
   "cell_type": "code",
   "execution_count": 21,
   "outputs": [],
   "source": [
    "# %%script echo skipping # comment this line to download dataset from API\n",
    "\n",
    "import urllib.request, json\n",
    "import certifi\n",
    "import ssl\n",
    "\n",
    "with urllib.request.urlopen(listURL,context=ssl.create_default_context(cafile=certifi.where())) as url:\n",
    " conservationlist = pd.read_csv(url)"
   ],
   "metadata": {
    "collapsed": false,
    "pycharm": {
     "name": "#%%\n"
    }
   }
  },
  {
   "cell_type": "code",
   "execution_count": 22,
   "outputs": [
    {
     "data": {
      "text/plain": "Index(['Scientific Name', 'Common Name', 'Current Scientific Name',\n       'Threatened status', 'ACT', 'NSW', 'NT', 'QLD', 'SA', 'TAS', 'VIC',\n       'WA', 'ACI', 'CKI', 'CI', 'CSI', 'JBT', 'NFI', 'HMI', 'AAT', 'CMA',\n       'Listed SPRAT TaxonID', 'Current SPRAT TaxonID', 'Kingdom', 'Class',\n       'Profile', 'Date extracted', 'NSL Name', 'Family', 'Genus', 'Species',\n       'Infraspecific Rank', 'Infraspecies', 'Species Author',\n       'Infraspecies Author'],\n      dtype='object')"
     },
     "execution_count": 22,
     "metadata": {},
     "output_type": "execute_result"
    }
   ],
   "source": [
    " conservationlist.columns"
   ],
   "metadata": {
    "collapsed": false,
    "pycharm": {
     "name": "#%%\n"
    }
   }
  },
  {
   "cell_type": "markdown",
   "source": [
    "## Check Statuses"
   ],
   "metadata": {
    "collapsed": false,
    "pycharm": {
     "name": "#%% md\n"
    }
   }
  },
  {
   "cell_type": "code",
   "execution_count": 23,
   "outputs": [
    {
     "data": {
      "text/plain": "            Scientific Name  \\\n0         Abutilon julianae   \n1          Acacia ammophila   \n2            Acacia anomala   \n3            Acacia aphylla   \n4             Acacia aprica   \n...                     ...   \n2059  Zosterops albogularis   \n2060     Zosterops strenuus   \n2061          Zyzomys maini   \n2062      Zyzomys palatalis   \n2063   Zyzomys pedunculatus   \n\n                                            Common Name  \\\n0                               Norfolk Island Abutilon   \n1                                                     -   \n2                 Grass Wattle, Chittering Grass Wattle   \n3                                  Leafless Rock Wattle   \n4                                          Blunt Wattle   \n...                                                 ...   \n2059  White-chested White-eye, Norfolk Island Silvereye   \n2060                                   Robust White-eye   \n2061    Arnhem Rock-rat, Arnhem Land Rock-rat, Kodjperr   \n2062               Carpentarian Rock-rat, Aywalirroomoo   \n2063                           Central Rock-rat, Antina   \n\n     Current Scientific Name      Threatened status ACT  NSW   NT  QLD SA TAS  \\\n0                          -  Critically Endangered   -    -    -    -  -   -   \n1                          -             Vulnerable   -    -    -  Yes  -   -   \n2                          -             Vulnerable   -    -    -    -  -   -   \n3                          -             Vulnerable   -    -    -    -  -   -   \n4                          -             Endangered   -    -    -    -  -   -   \n...                      ...                    ...  ..  ...  ...  ... ..  ..   \n2059                       -                Extinct   -    -    -    -  -   -   \n2060                       -                Extinct   -  Yes    -    -  -   -   \n2061                       -             Vulnerable   -    -  Yes    -  -   -   \n2062                       -             Endangered   -    -  Yes    -  -   -   \n2063                       -  Critically Endangered   -    -  Yes    -  -   -   \n\n      ...                                            Profile Date extracted  \\\n0     ...  http://www.environment.gov.au/cgi-bin/sprat/pu...    2023-Sep-08   \n1     ...  http://www.environment.gov.au/cgi-bin/sprat/pu...    2023-Sep-08   \n2     ...  http://www.environment.gov.au/cgi-bin/sprat/pu...    2023-Sep-08   \n3     ...  http://www.environment.gov.au/cgi-bin/sprat/pu...    2023-Sep-08   \n4     ...  http://www.environment.gov.au/cgi-bin/sprat/pu...    2023-Sep-08   \n...   ...                                                ...            ...   \n2059  ...  http://www.environment.gov.au/cgi-bin/sprat/pu...    2023-Sep-08   \n2060  ...  http://www.environment.gov.au/cgi-bin/sprat/pu...    2023-Sep-08   \n2061  ...  http://www.environment.gov.au/cgi-bin/sprat/pu...    2023-Sep-08   \n2062  ...  http://www.environment.gov.au/cgi-bin/sprat/pu...    2023-Sep-08   \n2063  ...  http://www.environment.gov.au/cgi-bin/sprat/pu...    2023-Sep-08   \n\n                                             NSL Name        Family  \\\n0      https://id.biodiversity.org.au/name/apni/56543     Malvaceae   \n1      https://id.biodiversity.org.au/name/apni/58340      Fabaceae   \n2      https://id.biodiversity.org.au/name/apni/58556      Fabaceae   \n3      https://id.biodiversity.org.au/name/apni/58565      Fabaceae   \n4     https://id.biodiversity.org.au/name/apni/149911      Fabaceae   \n...                                               ...           ...   \n2059                                                -  Zosteropidae   \n2060                                                -  Zosteropidae   \n2061                                                -       Muridae   \n2062                                                -       Muridae   \n2063                                                -       Muridae   \n\n          Genus       Species Infraspecific Rank Infraspecies  \\\n0      Abutilon      julianae                  -            -   \n1        Acacia     ammophila                  -            -   \n2        Acacia       anomala                  -            -   \n3        Acacia       aphylla                  -            -   \n4        Acacia        aprica                  -            -   \n...         ...           ...                ...          ...   \n2059  Zosterops   albogularis                  -            -   \n2060  Zosterops      strenuus                  -            -   \n2061    Zyzomys         maini                  -            -   \n2062    Zyzomys     palatalis                  -            -   \n2063    Zyzomys  pedunculatus                  -            -   \n\n            Species Author Infraspecies Author  \n0                    Endl.                   -  \n1                   Pedley                   -  \n2     C.A.Gardner ex Court                   -  \n3                   Maslin                   -  \n4      Maslin  A.R.Chapman                   -  \n...                    ...                 ...  \n2059           Gould, 1837                   -  \n2060           Gould, 1855                   -  \n2061        Kitchener,1989                   -  \n2062        Kitchener,1989                   -  \n2063          (Waite,1896)                   -  \n\n[2064 rows x 35 columns]",
      "text/html": "<div>\n<style scoped>\n    .dataframe tbody tr th:only-of-type {\n        vertical-align: middle;\n    }\n\n    .dataframe tbody tr th {\n        vertical-align: top;\n    }\n\n    .dataframe thead th {\n        text-align: right;\n    }\n</style>\n<table border=\"1\" class=\"dataframe\">\n  <thead>\n    <tr style=\"text-align: right;\">\n      <th></th>\n      <th>Scientific Name</th>\n      <th>Common Name</th>\n      <th>Current Scientific Name</th>\n      <th>Threatened status</th>\n      <th>ACT</th>\n      <th>NSW</th>\n      <th>NT</th>\n      <th>QLD</th>\n      <th>SA</th>\n      <th>TAS</th>\n      <th>...</th>\n      <th>Profile</th>\n      <th>Date extracted</th>\n      <th>NSL Name</th>\n      <th>Family</th>\n      <th>Genus</th>\n      <th>Species</th>\n      <th>Infraspecific Rank</th>\n      <th>Infraspecies</th>\n      <th>Species Author</th>\n      <th>Infraspecies Author</th>\n    </tr>\n  </thead>\n  <tbody>\n    <tr>\n      <th>0</th>\n      <td>Abutilon julianae</td>\n      <td>Norfolk Island Abutilon</td>\n      <td>-</td>\n      <td>Critically Endangered</td>\n      <td>-</td>\n      <td>-</td>\n      <td>-</td>\n      <td>-</td>\n      <td>-</td>\n      <td>-</td>\n      <td>...</td>\n      <td>http://www.environment.gov.au/cgi-bin/sprat/pu...</td>\n      <td>2023-Sep-08</td>\n      <td>https://id.biodiversity.org.au/name/apni/56543</td>\n      <td>Malvaceae</td>\n      <td>Abutilon</td>\n      <td>julianae</td>\n      <td>-</td>\n      <td>-</td>\n      <td>Endl.</td>\n      <td>-</td>\n    </tr>\n    <tr>\n      <th>1</th>\n      <td>Acacia ammophila</td>\n      <td>-</td>\n      <td>-</td>\n      <td>Vulnerable</td>\n      <td>-</td>\n      <td>-</td>\n      <td>-</td>\n      <td>Yes</td>\n      <td>-</td>\n      <td>-</td>\n      <td>...</td>\n      <td>http://www.environment.gov.au/cgi-bin/sprat/pu...</td>\n      <td>2023-Sep-08</td>\n      <td>https://id.biodiversity.org.au/name/apni/58340</td>\n      <td>Fabaceae</td>\n      <td>Acacia</td>\n      <td>ammophila</td>\n      <td>-</td>\n      <td>-</td>\n      <td>Pedley</td>\n      <td>-</td>\n    </tr>\n    <tr>\n      <th>2</th>\n      <td>Acacia anomala</td>\n      <td>Grass Wattle, Chittering Grass Wattle</td>\n      <td>-</td>\n      <td>Vulnerable</td>\n      <td>-</td>\n      <td>-</td>\n      <td>-</td>\n      <td>-</td>\n      <td>-</td>\n      <td>-</td>\n      <td>...</td>\n      <td>http://www.environment.gov.au/cgi-bin/sprat/pu...</td>\n      <td>2023-Sep-08</td>\n      <td>https://id.biodiversity.org.au/name/apni/58556</td>\n      <td>Fabaceae</td>\n      <td>Acacia</td>\n      <td>anomala</td>\n      <td>-</td>\n      <td>-</td>\n      <td>C.A.Gardner ex Court</td>\n      <td>-</td>\n    </tr>\n    <tr>\n      <th>3</th>\n      <td>Acacia aphylla</td>\n      <td>Leafless Rock Wattle</td>\n      <td>-</td>\n      <td>Vulnerable</td>\n      <td>-</td>\n      <td>-</td>\n      <td>-</td>\n      <td>-</td>\n      <td>-</td>\n      <td>-</td>\n      <td>...</td>\n      <td>http://www.environment.gov.au/cgi-bin/sprat/pu...</td>\n      <td>2023-Sep-08</td>\n      <td>https://id.biodiversity.org.au/name/apni/58565</td>\n      <td>Fabaceae</td>\n      <td>Acacia</td>\n      <td>aphylla</td>\n      <td>-</td>\n      <td>-</td>\n      <td>Maslin</td>\n      <td>-</td>\n    </tr>\n    <tr>\n      <th>4</th>\n      <td>Acacia aprica</td>\n      <td>Blunt Wattle</td>\n      <td>-</td>\n      <td>Endangered</td>\n      <td>-</td>\n      <td>-</td>\n      <td>-</td>\n      <td>-</td>\n      <td>-</td>\n      <td>-</td>\n      <td>...</td>\n      <td>http://www.environment.gov.au/cgi-bin/sprat/pu...</td>\n      <td>2023-Sep-08</td>\n      <td>https://id.biodiversity.org.au/name/apni/149911</td>\n      <td>Fabaceae</td>\n      <td>Acacia</td>\n      <td>aprica</td>\n      <td>-</td>\n      <td>-</td>\n      <td>Maslin  A.R.Chapman</td>\n      <td>-</td>\n    </tr>\n    <tr>\n      <th>...</th>\n      <td>...</td>\n      <td>...</td>\n      <td>...</td>\n      <td>...</td>\n      <td>...</td>\n      <td>...</td>\n      <td>...</td>\n      <td>...</td>\n      <td>...</td>\n      <td>...</td>\n      <td>...</td>\n      <td>...</td>\n      <td>...</td>\n      <td>...</td>\n      <td>...</td>\n      <td>...</td>\n      <td>...</td>\n      <td>...</td>\n      <td>...</td>\n      <td>...</td>\n      <td>...</td>\n    </tr>\n    <tr>\n      <th>2059</th>\n      <td>Zosterops albogularis</td>\n      <td>White-chested White-eye, Norfolk Island Silvereye</td>\n      <td>-</td>\n      <td>Extinct</td>\n      <td>-</td>\n      <td>-</td>\n      <td>-</td>\n      <td>-</td>\n      <td>-</td>\n      <td>-</td>\n      <td>...</td>\n      <td>http://www.environment.gov.au/cgi-bin/sprat/pu...</td>\n      <td>2023-Sep-08</td>\n      <td>-</td>\n      <td>Zosteropidae</td>\n      <td>Zosterops</td>\n      <td>albogularis</td>\n      <td>-</td>\n      <td>-</td>\n      <td>Gould, 1837</td>\n      <td>-</td>\n    </tr>\n    <tr>\n      <th>2060</th>\n      <td>Zosterops strenuus</td>\n      <td>Robust White-eye</td>\n      <td>-</td>\n      <td>Extinct</td>\n      <td>-</td>\n      <td>Yes</td>\n      <td>-</td>\n      <td>-</td>\n      <td>-</td>\n      <td>-</td>\n      <td>...</td>\n      <td>http://www.environment.gov.au/cgi-bin/sprat/pu...</td>\n      <td>2023-Sep-08</td>\n      <td>-</td>\n      <td>Zosteropidae</td>\n      <td>Zosterops</td>\n      <td>strenuus</td>\n      <td>-</td>\n      <td>-</td>\n      <td>Gould, 1855</td>\n      <td>-</td>\n    </tr>\n    <tr>\n      <th>2061</th>\n      <td>Zyzomys maini</td>\n      <td>Arnhem Rock-rat, Arnhem Land Rock-rat, Kodjperr</td>\n      <td>-</td>\n      <td>Vulnerable</td>\n      <td>-</td>\n      <td>-</td>\n      <td>Yes</td>\n      <td>-</td>\n      <td>-</td>\n      <td>-</td>\n      <td>...</td>\n      <td>http://www.environment.gov.au/cgi-bin/sprat/pu...</td>\n      <td>2023-Sep-08</td>\n      <td>-</td>\n      <td>Muridae</td>\n      <td>Zyzomys</td>\n      <td>maini</td>\n      <td>-</td>\n      <td>-</td>\n      <td>Kitchener,1989</td>\n      <td>-</td>\n    </tr>\n    <tr>\n      <th>2062</th>\n      <td>Zyzomys palatalis</td>\n      <td>Carpentarian Rock-rat, Aywalirroomoo</td>\n      <td>-</td>\n      <td>Endangered</td>\n      <td>-</td>\n      <td>-</td>\n      <td>Yes</td>\n      <td>-</td>\n      <td>-</td>\n      <td>-</td>\n      <td>...</td>\n      <td>http://www.environment.gov.au/cgi-bin/sprat/pu...</td>\n      <td>2023-Sep-08</td>\n      <td>-</td>\n      <td>Muridae</td>\n      <td>Zyzomys</td>\n      <td>palatalis</td>\n      <td>-</td>\n      <td>-</td>\n      <td>Kitchener,1989</td>\n      <td>-</td>\n    </tr>\n    <tr>\n      <th>2063</th>\n      <td>Zyzomys pedunculatus</td>\n      <td>Central Rock-rat, Antina</td>\n      <td>-</td>\n      <td>Critically Endangered</td>\n      <td>-</td>\n      <td>-</td>\n      <td>Yes</td>\n      <td>-</td>\n      <td>-</td>\n      <td>-</td>\n      <td>...</td>\n      <td>http://www.environment.gov.au/cgi-bin/sprat/pu...</td>\n      <td>2023-Sep-08</td>\n      <td>-</td>\n      <td>Muridae</td>\n      <td>Zyzomys</td>\n      <td>pedunculatus</td>\n      <td>-</td>\n      <td>-</td>\n      <td>(Waite,1896)</td>\n      <td>-</td>\n    </tr>\n  </tbody>\n</table>\n<p>2064 rows × 35 columns</p>\n</div>"
     },
     "execution_count": 23,
     "metadata": {},
     "output_type": "execute_result"
    }
   ],
   "source": [
    "# conservationlist.to_csv(projectDir + \"current-lists/conservation-lists/EPBC-raw-20230615.csv\", encoding=\"UTF-8\", index=False)\n",
    "conservationlist\n"
   ],
   "metadata": {
    "collapsed": false,
    "pycharm": {
     "name": "#%%\n"
    }
   }
  },
  {
   "cell_type": "code",
   "execution_count": 24,
   "outputs": [
    {
     "data": {
      "text/plain": "array(['Critically Endangered', 'Vulnerable', 'Endangered', 'Extinct',\n       'Conservation Dependent', 'Extinct in the wild'], dtype=object)"
     },
     "execution_count": 24,
     "metadata": {},
     "output_type": "execute_result"
    }
   ],
   "source": [
    "conservationlist['Threatened status'].unique()"
   ],
   "metadata": {
    "collapsed": false,
    "pycharm": {
     "name": "#%%\n"
    }
   }
  },
  {
   "cell_type": "code",
   "execution_count": 26,
   "outputs": [],
   "source": [
    "conservationlist = conservationlist.loc[:, ['Scientific Name', 'Common Name', 'Family', 'Genus', 'Threatened status',\n",
    "                                            'Listed SPRAT TaxonID', 'Current SPRAT TaxonID']]\n",
    "conservationlist = conservationlist.rename(columns={'Threatened status': 'sourceStatus', 'Scientific Name': 'scientificName',\n",
    "                                                    'Common Name':'vernacularName', 'Family':'family', 'Genus':'genus',\n",
    "                                                    'Listed SPRAT TaxonID':'listedSpratTaxonId', 'Current SPRAT TaxonID':'currentSpratTaxonId'})\n",
    "conservationlist['status'] = conservationlist['sourceStatus'].str.strip()\n",
    "conservationlist[['listedSpratTaxonId', 'currentSpratTaxonId']] = conservationlist[['listedSpratTaxonId', 'currentSpratTaxonId']].astype(str).replace('-', '', regex=True)\n",
    "\n",
    "conservationlist = conservationlist[((conservationlist['status'].notna()))]\n",
    "conservationlist.to_csv(sourceDataDir + filename,encoding=\"UTF-8\",index=False)"
   ],
   "metadata": {
    "collapsed": false,
    "pycharm": {
     "name": "#%%\n"
    }
   }
  },
  {
   "cell_type": "code",
   "execution_count": 27,
   "outputs": [
    {
     "data": {
      "text/plain": "      scientificName                         vernacularName     family  \\\n0  Abutilon julianae                Norfolk Island Abutilon  Malvaceae   \n1   Acacia ammophila                                      -   Fabaceae   \n2     Acacia anomala  Grass Wattle, Chittering Grass Wattle   Fabaceae   \n3     Acacia aphylla                   Leafless Rock Wattle   Fabaceae   \n4      Acacia aprica                           Blunt Wattle   Fabaceae   \n\n      genus           sourceStatus  listedSpratTaxonId  currentSpratTaxonId  \\\n0  Abutilon  Critically Endangered               27797                  NaN   \n1    Acacia             Vulnerable                3763                  NaN   \n2    Acacia             Vulnerable                8153                  NaN   \n3    Acacia             Vulnerable               13553                  NaN   \n4    Acacia             Endangered               64821                  NaN   \n\n                  status  \n0  Critically Endangered  \n1             Vulnerable  \n2             Vulnerable  \n3             Vulnerable  \n4             Endangered  ",
      "text/html": "<div>\n<style scoped>\n    .dataframe tbody tr th:only-of-type {\n        vertical-align: middle;\n    }\n\n    .dataframe tbody tr th {\n        vertical-align: top;\n    }\n\n    .dataframe thead th {\n        text-align: right;\n    }\n</style>\n<table border=\"1\" class=\"dataframe\">\n  <thead>\n    <tr style=\"text-align: right;\">\n      <th></th>\n      <th>scientificName</th>\n      <th>vernacularName</th>\n      <th>family</th>\n      <th>genus</th>\n      <th>sourceStatus</th>\n      <th>listedSpratTaxonId</th>\n      <th>currentSpratTaxonId</th>\n      <th>status</th>\n    </tr>\n  </thead>\n  <tbody>\n    <tr>\n      <th>0</th>\n      <td>Abutilon julianae</td>\n      <td>Norfolk Island Abutilon</td>\n      <td>Malvaceae</td>\n      <td>Abutilon</td>\n      <td>Critically Endangered</td>\n      <td>27797</td>\n      <td>NaN</td>\n      <td>Critically Endangered</td>\n    </tr>\n    <tr>\n      <th>1</th>\n      <td>Acacia ammophila</td>\n      <td>-</td>\n      <td>Fabaceae</td>\n      <td>Acacia</td>\n      <td>Vulnerable</td>\n      <td>3763</td>\n      <td>NaN</td>\n      <td>Vulnerable</td>\n    </tr>\n    <tr>\n      <th>2</th>\n      <td>Acacia anomala</td>\n      <td>Grass Wattle, Chittering Grass Wattle</td>\n      <td>Fabaceae</td>\n      <td>Acacia</td>\n      <td>Vulnerable</td>\n      <td>8153</td>\n      <td>NaN</td>\n      <td>Vulnerable</td>\n    </tr>\n    <tr>\n      <th>3</th>\n      <td>Acacia aphylla</td>\n      <td>Leafless Rock Wattle</td>\n      <td>Fabaceae</td>\n      <td>Acacia</td>\n      <td>Vulnerable</td>\n      <td>13553</td>\n      <td>NaN</td>\n      <td>Vulnerable</td>\n    </tr>\n    <tr>\n      <th>4</th>\n      <td>Acacia aprica</td>\n      <td>Blunt Wattle</td>\n      <td>Fabaceae</td>\n      <td>Acacia</td>\n      <td>Endangered</td>\n      <td>64821</td>\n      <td>NaN</td>\n      <td>Endangered</td>\n    </tr>\n  </tbody>\n</table>\n</div>"
     },
     "execution_count": 27,
     "metadata": {},
     "output_type": "execute_result"
    }
   ],
   "source": [
    "epbcreport = pd.read_csv(sourceDataDir + filename,skiprows=0)\n",
    "epbcreport.head(5)"
   ],
   "metadata": {
    "collapsed": false,
    "pycharm": {
     "name": "#%%\n"
    }
   }
  },
  {
   "cell_type": "markdown",
   "source": [
    "## Check values"
   ],
   "metadata": {
    "collapsed": false,
    "pycharm": {
     "name": "#%% md\n"
    }
   }
  },
  {
   "cell_type": "code",
   "execution_count": 33,
   "outputs": [
    {
     "data": {
      "text/plain": "Threatened status\nVulnerable                795\nEndangered                756\nCritically Endangered     348\nExtinct                   103\nConservation Dependent      8\nExtinct in the wild         1\ndtype: int64"
     },
     "execution_count": 33,
     "metadata": {},
     "output_type": "execute_result"
    }
   ],
   "source": [
    "# epbcreport.groupby(\"status\").size().sort_values(ascending=False)"
   ],
   "metadata": {
    "collapsed": false,
    "pycharm": {
     "name": "#%%\n"
    }
   }
  },
  {
   "cell_type": "markdown",
   "source": [
    "## Check values"
   ],
   "metadata": {
    "collapsed": false,
    "pycharm": {
     "name": "#%% md\n"
    }
   }
  },
  {
   "cell_type": "code",
   "execution_count": 37,
   "outputs": [
    {
     "data": {
      "text/plain": "status\nVulnerable                795\nEndangered                756\nCritically Endangered     348\nExtinct                   103\nConservation Dependent      8\nExtinct in the wild         1\ndtype: int64"
     },
     "execution_count": 37,
     "metadata": {},
     "output_type": "execute_result"
    }
   ],
   "source": [
    "# epbcreport.groupby(\"status\").size().sort_values(ascending=False)"
   ],
   "metadata": {
    "collapsed": false,
    "pycharm": {
     "name": "#%%\n"
    }
   }
  },
  {
   "cell_type": "code",
   "execution_count": 8,
   "outputs": [
    {
     "ename": "KeyError",
     "evalue": "\"['scientificName', 'vernacularName'] not in index\"",
     "output_type": "error",
     "traceback": [
      "\u001B[1;31m---------------------------------------------------------------------------\u001B[0m",
      "\u001B[1;31mKeyError\u001B[0m                                  Traceback (most recent call last)",
      "\u001B[1;32m~\\AppData\\Local\\Temp/ipykernel_31204/107063992.py\u001B[0m in \u001B[0;36m<cell line: 1>\u001B[1;34m()\u001B[0m\n\u001B[1;32m----> 1\u001B[1;33m \u001B[0mepbcreport\u001B[0m \u001B[1;33m=\u001B[0m \u001B[0mepbcreport\u001B[0m\u001B[1;33m.\u001B[0m\u001B[0mloc\u001B[0m\u001B[1;33m[\u001B[0m\u001B[1;33m:\u001B[0m\u001B[1;33m,\u001B[0m \u001B[1;33m[\u001B[0m\u001B[1;34m'scientificName'\u001B[0m\u001B[1;33m,\u001B[0m \u001B[1;34m'vernacularName'\u001B[0m\u001B[1;33m,\u001B[0m \u001B[1;34m'Family'\u001B[0m\u001B[1;33m,\u001B[0m \u001B[1;34m'Genus'\u001B[0m\u001B[1;33m,\u001B[0m \u001B[1;34m'status'\u001B[0m\u001B[1;33m,\u001B[0m \u001B[1;34m'sourceStatus'\u001B[0m\u001B[1;33m]\u001B[0m\u001B[1;33m]\u001B[0m\u001B[1;33m\u001B[0m\u001B[1;33m\u001B[0m\u001B[0m\n\u001B[0m\u001B[0;32m      2\u001B[0m \u001B[1;33m\u001B[0m\u001B[0m\n",
      "\u001B[1;32m~\\Anaconda3\\envs\\scientificProject\\lib\\site-packages\\pandas\\core\\indexing.py\u001B[0m in \u001B[0;36m__getitem__\u001B[1;34m(self, key)\u001B[0m\n\u001B[0;32m    923\u001B[0m                 \u001B[1;32mwith\u001B[0m \u001B[0msuppress\u001B[0m\u001B[1;33m(\u001B[0m\u001B[0mKeyError\u001B[0m\u001B[1;33m,\u001B[0m \u001B[0mIndexError\u001B[0m\u001B[1;33m)\u001B[0m\u001B[1;33m:\u001B[0m\u001B[1;33m\u001B[0m\u001B[1;33m\u001B[0m\u001B[0m\n\u001B[0;32m    924\u001B[0m                     \u001B[1;32mreturn\u001B[0m \u001B[0mself\u001B[0m\u001B[1;33m.\u001B[0m\u001B[0mobj\u001B[0m\u001B[1;33m.\u001B[0m\u001B[0m_get_value\u001B[0m\u001B[1;33m(\u001B[0m\u001B[1;33m*\u001B[0m\u001B[0mkey\u001B[0m\u001B[1;33m,\u001B[0m \u001B[0mtakeable\u001B[0m\u001B[1;33m=\u001B[0m\u001B[0mself\u001B[0m\u001B[1;33m.\u001B[0m\u001B[0m_takeable\u001B[0m\u001B[1;33m)\u001B[0m\u001B[1;33m\u001B[0m\u001B[1;33m\u001B[0m\u001B[0m\n\u001B[1;32m--> 925\u001B[1;33m             \u001B[1;32mreturn\u001B[0m \u001B[0mself\u001B[0m\u001B[1;33m.\u001B[0m\u001B[0m_getitem_tuple\u001B[0m\u001B[1;33m(\u001B[0m\u001B[0mkey\u001B[0m\u001B[1;33m)\u001B[0m\u001B[1;33m\u001B[0m\u001B[1;33m\u001B[0m\u001B[0m\n\u001B[0m\u001B[0;32m    926\u001B[0m         \u001B[1;32melse\u001B[0m\u001B[1;33m:\u001B[0m\u001B[1;33m\u001B[0m\u001B[1;33m\u001B[0m\u001B[0m\n\u001B[0;32m    927\u001B[0m             \u001B[1;31m# we by definition only have the 0th axis\u001B[0m\u001B[1;33m\u001B[0m\u001B[1;33m\u001B[0m\u001B[0m\n",
      "\u001B[1;32m~\\Anaconda3\\envs\\scientificProject\\lib\\site-packages\\pandas\\core\\indexing.py\u001B[0m in \u001B[0;36m_getitem_tuple\u001B[1;34m(self, tup)\u001B[0m\n\u001B[0;32m   1107\u001B[0m             \u001B[1;32mreturn\u001B[0m \u001B[0mself\u001B[0m\u001B[1;33m.\u001B[0m\u001B[0m_multi_take\u001B[0m\u001B[1;33m(\u001B[0m\u001B[0mtup\u001B[0m\u001B[1;33m)\u001B[0m\u001B[1;33m\u001B[0m\u001B[1;33m\u001B[0m\u001B[0m\n\u001B[0;32m   1108\u001B[0m \u001B[1;33m\u001B[0m\u001B[0m\n\u001B[1;32m-> 1109\u001B[1;33m         \u001B[1;32mreturn\u001B[0m \u001B[0mself\u001B[0m\u001B[1;33m.\u001B[0m\u001B[0m_getitem_tuple_same_dim\u001B[0m\u001B[1;33m(\u001B[0m\u001B[0mtup\u001B[0m\u001B[1;33m)\u001B[0m\u001B[1;33m\u001B[0m\u001B[1;33m\u001B[0m\u001B[0m\n\u001B[0m\u001B[0;32m   1110\u001B[0m \u001B[1;33m\u001B[0m\u001B[0m\n\u001B[0;32m   1111\u001B[0m     \u001B[1;32mdef\u001B[0m \u001B[0m_get_label\u001B[0m\u001B[1;33m(\u001B[0m\u001B[0mself\u001B[0m\u001B[1;33m,\u001B[0m \u001B[0mlabel\u001B[0m\u001B[1;33m,\u001B[0m \u001B[0maxis\u001B[0m\u001B[1;33m:\u001B[0m \u001B[0mint\u001B[0m\u001B[1;33m)\u001B[0m\u001B[1;33m:\u001B[0m\u001B[1;33m\u001B[0m\u001B[1;33m\u001B[0m\u001B[0m\n",
      "\u001B[1;32m~\\Anaconda3\\envs\\scientificProject\\lib\\site-packages\\pandas\\core\\indexing.py\u001B[0m in \u001B[0;36m_getitem_tuple_same_dim\u001B[1;34m(self, tup)\u001B[0m\n\u001B[0;32m    804\u001B[0m                 \u001B[1;32mcontinue\u001B[0m\u001B[1;33m\u001B[0m\u001B[1;33m\u001B[0m\u001B[0m\n\u001B[0;32m    805\u001B[0m \u001B[1;33m\u001B[0m\u001B[0m\n\u001B[1;32m--> 806\u001B[1;33m             \u001B[0mretval\u001B[0m \u001B[1;33m=\u001B[0m \u001B[0mgetattr\u001B[0m\u001B[1;33m(\u001B[0m\u001B[0mretval\u001B[0m\u001B[1;33m,\u001B[0m \u001B[0mself\u001B[0m\u001B[1;33m.\u001B[0m\u001B[0mname\u001B[0m\u001B[1;33m)\u001B[0m\u001B[1;33m.\u001B[0m\u001B[0m_getitem_axis\u001B[0m\u001B[1;33m(\u001B[0m\u001B[0mkey\u001B[0m\u001B[1;33m,\u001B[0m \u001B[0maxis\u001B[0m\u001B[1;33m=\u001B[0m\u001B[0mi\u001B[0m\u001B[1;33m)\u001B[0m\u001B[1;33m\u001B[0m\u001B[1;33m\u001B[0m\u001B[0m\n\u001B[0m\u001B[0;32m    807\u001B[0m             \u001B[1;31m# We should never have retval.ndim < self.ndim, as that should\u001B[0m\u001B[1;33m\u001B[0m\u001B[1;33m\u001B[0m\u001B[0m\n\u001B[0;32m    808\u001B[0m             \u001B[1;31m#  be handled by the _getitem_lowerdim call above.\u001B[0m\u001B[1;33m\u001B[0m\u001B[1;33m\u001B[0m\u001B[0m\n",
      "\u001B[1;32m~\\Anaconda3\\envs\\scientificProject\\lib\\site-packages\\pandas\\core\\indexing.py\u001B[0m in \u001B[0;36m_getitem_axis\u001B[1;34m(self, key, axis)\u001B[0m\n\u001B[0;32m   1151\u001B[0m                     \u001B[1;32mraise\u001B[0m \u001B[0mValueError\u001B[0m\u001B[1;33m(\u001B[0m\u001B[1;34m\"Cannot index with multidimensional key\"\u001B[0m\u001B[1;33m)\u001B[0m\u001B[1;33m\u001B[0m\u001B[1;33m\u001B[0m\u001B[0m\n\u001B[0;32m   1152\u001B[0m \u001B[1;33m\u001B[0m\u001B[0m\n\u001B[1;32m-> 1153\u001B[1;33m                 \u001B[1;32mreturn\u001B[0m \u001B[0mself\u001B[0m\u001B[1;33m.\u001B[0m\u001B[0m_getitem_iterable\u001B[0m\u001B[1;33m(\u001B[0m\u001B[0mkey\u001B[0m\u001B[1;33m,\u001B[0m \u001B[0maxis\u001B[0m\u001B[1;33m=\u001B[0m\u001B[0maxis\u001B[0m\u001B[1;33m)\u001B[0m\u001B[1;33m\u001B[0m\u001B[1;33m\u001B[0m\u001B[0m\n\u001B[0m\u001B[0;32m   1154\u001B[0m \u001B[1;33m\u001B[0m\u001B[0m\n\u001B[0;32m   1155\u001B[0m             \u001B[1;31m# nested tuple slicing\u001B[0m\u001B[1;33m\u001B[0m\u001B[1;33m\u001B[0m\u001B[0m\n",
      "\u001B[1;32m~\\Anaconda3\\envs\\scientificProject\\lib\\site-packages\\pandas\\core\\indexing.py\u001B[0m in \u001B[0;36m_getitem_iterable\u001B[1;34m(self, key, axis)\u001B[0m\n\u001B[0;32m   1091\u001B[0m \u001B[1;33m\u001B[0m\u001B[0m\n\u001B[0;32m   1092\u001B[0m         \u001B[1;31m# A collection of keys\u001B[0m\u001B[1;33m\u001B[0m\u001B[1;33m\u001B[0m\u001B[0m\n\u001B[1;32m-> 1093\u001B[1;33m         \u001B[0mkeyarr\u001B[0m\u001B[1;33m,\u001B[0m \u001B[0mindexer\u001B[0m \u001B[1;33m=\u001B[0m \u001B[0mself\u001B[0m\u001B[1;33m.\u001B[0m\u001B[0m_get_listlike_indexer\u001B[0m\u001B[1;33m(\u001B[0m\u001B[0mkey\u001B[0m\u001B[1;33m,\u001B[0m \u001B[0maxis\u001B[0m\u001B[1;33m)\u001B[0m\u001B[1;33m\u001B[0m\u001B[1;33m\u001B[0m\u001B[0m\n\u001B[0m\u001B[0;32m   1094\u001B[0m         return self.obj._reindex_with_indexers(\n\u001B[0;32m   1095\u001B[0m             \u001B[1;33m{\u001B[0m\u001B[0maxis\u001B[0m\u001B[1;33m:\u001B[0m \u001B[1;33m[\u001B[0m\u001B[0mkeyarr\u001B[0m\u001B[1;33m,\u001B[0m \u001B[0mindexer\u001B[0m\u001B[1;33m]\u001B[0m\u001B[1;33m}\u001B[0m\u001B[1;33m,\u001B[0m \u001B[0mcopy\u001B[0m\u001B[1;33m=\u001B[0m\u001B[1;32mTrue\u001B[0m\u001B[1;33m,\u001B[0m \u001B[0mallow_dups\u001B[0m\u001B[1;33m=\u001B[0m\u001B[1;32mTrue\u001B[0m\u001B[1;33m\u001B[0m\u001B[1;33m\u001B[0m\u001B[0m\n",
      "\u001B[1;32m~\\Anaconda3\\envs\\scientificProject\\lib\\site-packages\\pandas\\core\\indexing.py\u001B[0m in \u001B[0;36m_get_listlike_indexer\u001B[1;34m(self, key, axis)\u001B[0m\n\u001B[0;32m   1312\u001B[0m             \u001B[0mkeyarr\u001B[0m\u001B[1;33m,\u001B[0m \u001B[0mindexer\u001B[0m\u001B[1;33m,\u001B[0m \u001B[0mnew_indexer\u001B[0m \u001B[1;33m=\u001B[0m \u001B[0max\u001B[0m\u001B[1;33m.\u001B[0m\u001B[0m_reindex_non_unique\u001B[0m\u001B[1;33m(\u001B[0m\u001B[0mkeyarr\u001B[0m\u001B[1;33m)\u001B[0m\u001B[1;33m\u001B[0m\u001B[1;33m\u001B[0m\u001B[0m\n\u001B[0;32m   1313\u001B[0m \u001B[1;33m\u001B[0m\u001B[0m\n\u001B[1;32m-> 1314\u001B[1;33m         \u001B[0mself\u001B[0m\u001B[1;33m.\u001B[0m\u001B[0m_validate_read_indexer\u001B[0m\u001B[1;33m(\u001B[0m\u001B[0mkeyarr\u001B[0m\u001B[1;33m,\u001B[0m \u001B[0mindexer\u001B[0m\u001B[1;33m,\u001B[0m \u001B[0maxis\u001B[0m\u001B[1;33m)\u001B[0m\u001B[1;33m\u001B[0m\u001B[1;33m\u001B[0m\u001B[0m\n\u001B[0m\u001B[0;32m   1315\u001B[0m \u001B[1;33m\u001B[0m\u001B[0m\n\u001B[0;32m   1316\u001B[0m         if needs_i8_conversion(ax.dtype) or isinstance(\n",
      "\u001B[1;32m~\\Anaconda3\\envs\\scientificProject\\lib\\site-packages\\pandas\\core\\indexing.py\u001B[0m in \u001B[0;36m_validate_read_indexer\u001B[1;34m(self, key, indexer, axis)\u001B[0m\n\u001B[0;32m   1375\u001B[0m \u001B[1;33m\u001B[0m\u001B[0m\n\u001B[0;32m   1376\u001B[0m             \u001B[0mnot_found\u001B[0m \u001B[1;33m=\u001B[0m \u001B[0mlist\u001B[0m\u001B[1;33m(\u001B[0m\u001B[0mensure_index\u001B[0m\u001B[1;33m(\u001B[0m\u001B[0mkey\u001B[0m\u001B[1;33m)\u001B[0m\u001B[1;33m[\u001B[0m\u001B[0mmissing_mask\u001B[0m\u001B[1;33m.\u001B[0m\u001B[0mnonzero\u001B[0m\u001B[1;33m(\u001B[0m\u001B[1;33m)\u001B[0m\u001B[1;33m[\u001B[0m\u001B[1;36m0\u001B[0m\u001B[1;33m]\u001B[0m\u001B[1;33m]\u001B[0m\u001B[1;33m.\u001B[0m\u001B[0munique\u001B[0m\u001B[1;33m(\u001B[0m\u001B[1;33m)\u001B[0m\u001B[1;33m)\u001B[0m\u001B[1;33m\u001B[0m\u001B[1;33m\u001B[0m\u001B[0m\n\u001B[1;32m-> 1377\u001B[1;33m             \u001B[1;32mraise\u001B[0m \u001B[0mKeyError\u001B[0m\u001B[1;33m(\u001B[0m\u001B[1;34mf\"{not_found} not in index\"\u001B[0m\u001B[1;33m)\u001B[0m\u001B[1;33m\u001B[0m\u001B[1;33m\u001B[0m\u001B[0m\n\u001B[0m\u001B[0;32m   1378\u001B[0m \u001B[1;33m\u001B[0m\u001B[0m\n\u001B[0;32m   1379\u001B[0m \u001B[1;33m\u001B[0m\u001B[0m\n",
      "\u001B[1;31mKeyError\u001B[0m: \"['scientificName', 'vernacularName'] not in index\""
     ]
    }
   ],
   "source": [
    "# epbcreport = epbcreport.loc[:, ['scientificName', 'vernacularName', 'family', 'genus', 'status', 'sourceStatus']]\n"
   ],
   "metadata": {
    "collapsed": false,
    "pycharm": {
     "name": "#%%\n"
    }
   }
  },
  {
   "cell_type": "markdown",
   "source": [
    "## Write to CSV"
   ],
   "metadata": {
    "collapsed": false,
    "pycharm": {
     "name": "#%% md\n"
    }
   }
  },
  {
   "cell_type": "code",
   "execution_count": 29,
   "outputs": [],
   "source": [
    "dr = 'dr656'\n",
    "epbcreport.to_csv(processedDataDir + 'EPBC-' + dr + '-conservation.csv',encoding=\"UTF-8\",index=False)"
   ],
   "metadata": {
    "collapsed": false,
    "pycharm": {
     "name": "#%%\n"
    }
   }
  },
  {
   "cell_type": "markdown",
   "source": [
    "# Manual List check\n",
    "\n",
    "**Instructions**\n",
    "1. Load the list above into the lists-test tool for this data resource\n",
    "2. Unskip the below code and Run the reports below to compare to production. Send the changelog.csv to check. Correct any issues.\n",
    "3. Save the production list into the `historical lists` directory by uncommenting the code section below.\n",
    "4. Load the list from `current lists` into production"
   ],
   "metadata": {
    "collapsed": false,
    "pycharm": {
     "name": "#%% md\n"
    }
   }
  },
  {
   "cell_type": "markdown",
   "source": [
    "### Conservation List - Download old and new and compare"
   ],
   "metadata": {
    "collapsed": false,
    "pycharm": {
     "name": "#%% md\n"
    }
   }
  },
  {
   "cell_type": "code",
   "execution_count": 32,
   "outputs": [
    {
     "name": "stdout",
     "output_type": "stream",
     "text": [
      "get_changelist: Test -  https://lists-test.ala.org.au/ws/speciesListItems/dr656?max=10000&includeKVP=true Prod -  https://lists.ala.org.au/ws/speciesListItems/dr656?max=10000&includeKVP=true\n",
      "download_ala_list:  https://lists.ala.org.au/ws/speciesListItems/https://lists.ala.org.au/ws/speciesListItems/dr656?max=10000&includeKVP=true?max=10000&includeKVP=true\n"
     ]
    },
    {
     "ename": "HTTPError",
     "evalue": "HTTP Error 404: ",
     "output_type": "error",
     "traceback": [
      "\u001B[1;31m---------------------------------------------------------------------------\u001B[0m",
      "\u001B[1;31mHTTPError\u001B[0m                                 Traceback (most recent call last)",
      "\u001B[1;32m~\\AppData\\Local\\Temp/ipykernel_9620/3132634496.py\u001B[0m in \u001B[0;36m<cell line: 10>\u001B[1;34m()\u001B[0m\n\u001B[0;32m      8\u001B[0m \u001B[0mprodListUrl\u001B[0m \u001B[1;33m=\u001B[0m \u001B[1;34m\"https://lists.ala.org.au/ws/speciesListItems/\"\u001B[0m \u001B[1;33m+\u001B[0m \u001B[1;34m\"dr656\"\u001B[0m \u001B[1;33m+\u001B[0m \u001B[1;34m\"?max=10000&includeKVP=true\"\u001B[0m\u001B[1;33m\u001B[0m\u001B[1;33m\u001B[0m\u001B[0m\n\u001B[0;32m      9\u001B[0m \u001B[0mtestListUrl\u001B[0m \u001B[1;33m=\u001B[0m \u001B[1;34m\"https://lists-test.ala.org.au/ws/speciesListItems/\"\u001B[0m \u001B[1;33m+\u001B[0m \u001B[1;34m\"dr656\"\u001B[0m \u001B[1;33m+\u001B[0m \u001B[1;34m\"?max=10000&includeKVP=true\"\u001B[0m\u001B[1;33m\u001B[0m\u001B[1;33m\u001B[0m\u001B[0m\n\u001B[1;32m---> 10\u001B[1;33m \u001B[0mchangelist\u001B[0m \u001B[1;33m=\u001B[0m \u001B[0mlf\u001B[0m\u001B[1;33m.\u001B[0m\u001B[0mget_changelist\u001B[0m\u001B[1;33m(\u001B[0m\u001B[0mtestListUrl\u001B[0m\u001B[1;33m,\u001B[0m \u001B[0mprodListUrl\u001B[0m\u001B[1;33m,\u001B[0m \u001B[0mltype\u001B[0m\u001B[1;33m)\u001B[0m\u001B[1;33m\u001B[0m\u001B[1;33m\u001B[0m\u001B[0m\n\u001B[0m\u001B[0;32m     11\u001B[0m \u001B[1;31m# save the lists locally\u001B[0m\u001B[1;33m\u001B[0m\u001B[1;33m\u001B[0m\u001B[0m\n\u001B[0;32m     12\u001B[0m \u001B[0mchangelist\u001B[0m\u001B[1;33m.\u001B[0m\u001B[0mto_csv\u001B[0m\u001B[1;33m(\u001B[0m\u001B[0mprojectDir\u001B[0m \u001B[1;33m+\u001B[0m \u001B[1;34m\"analysis/change-log/\"\u001B[0m \u001B[1;33m+\u001B[0m \u001B[0mmonthStr\u001B[0m \u001B[1;33m+\u001B[0m \u001B[1;34m\"-\"\u001B[0m \u001B[1;33m+\u001B[0m \u001B[0mfilename\u001B[0m\u001B[1;33m,\u001B[0m \u001B[0mencoding\u001B[0m\u001B[1;33m=\u001B[0m\u001B[1;34m\"UTF-8\"\u001B[0m\u001B[1;33m,\u001B[0m \u001B[0mindex\u001B[0m\u001B[1;33m=\u001B[0m\u001B[1;32mFalse\u001B[0m\u001B[1;33m)\u001B[0m\u001B[1;33m\u001B[0m\u001B[1;33m\u001B[0m\u001B[0m\n",
      "\u001B[1;32m~\\PycharmProjects\\authoritative-lists\\source-code\\includes\\list_functions.py\u001B[0m in \u001B[0;36mget_changelist\u001B[1;34m(testdr, proddr, ltype)\u001B[0m\n\u001B[0;32m     48\u001B[0m     \u001B[0mnewListUrl\u001B[0m \u001B[1;33m=\u001B[0m \u001B[0mnewListPref\u001B[0m \u001B[1;33m+\u001B[0m \u001B[0mtestdr\u001B[0m \u001B[1;33m+\u001B[0m \u001B[0murlSuffix\u001B[0m\u001B[1;33m\u001B[0m\u001B[1;33m\u001B[0m\u001B[0m\n\u001B[0;32m     49\u001B[0m \u001B[1;33m\u001B[0m\u001B[0m\n\u001B[1;32m---> 50\u001B[1;33m     \u001B[0moldList\u001B[0m \u001B[1;33m=\u001B[0m \u001B[0mdownload_ala_specieslist\u001B[0m\u001B[1;33m(\u001B[0m\u001B[0moldListUrl\u001B[0m\u001B[1;33m)\u001B[0m\u001B[1;33m\u001B[0m\u001B[1;33m\u001B[0m\u001B[0m\n\u001B[0m\u001B[0;32m     51\u001B[0m     \u001B[0moldList\u001B[0m \u001B[1;33m=\u001B[0m \u001B[0mkvp_to_columns\u001B[0m\u001B[1;33m(\u001B[0m\u001B[0moldList\u001B[0m\u001B[1;33m)\u001B[0m\u001B[1;33m\u001B[0m\u001B[1;33m\u001B[0m\u001B[0m\n\u001B[0;32m     52\u001B[0m     \u001B[0mnewList\u001B[0m \u001B[1;33m=\u001B[0m \u001B[0mdownload_ala_specieslist\u001B[0m\u001B[1;33m(\u001B[0m\u001B[0mnewListUrl\u001B[0m\u001B[1;33m)\u001B[0m\u001B[1;33m\u001B[0m\u001B[1;33m\u001B[0m\u001B[0m\n",
      "\u001B[1;32m~\\PycharmProjects\\authoritative-lists\\source-code\\includes\\list_functions.py\u001B[0m in \u001B[0;36mdownload_ala_specieslist\u001B[1;34m(url)\u001B[0m\n\u001B[0;32m     12\u001B[0m \u001B[1;32mdef\u001B[0m \u001B[0mdownload_ala_specieslist\u001B[0m\u001B[1;33m(\u001B[0m\u001B[0murl\u001B[0m\u001B[1;33m:\u001B[0m \u001B[0mstr\u001B[0m\u001B[1;33m)\u001B[0m\u001B[1;33m:\u001B[0m\u001B[1;33m\u001B[0m\u001B[1;33m\u001B[0m\u001B[0m\n\u001B[0;32m     13\u001B[0m     \u001B[0mprint\u001B[0m\u001B[1;33m(\u001B[0m\u001B[1;34m\"download_ala_list: \"\u001B[0m\u001B[1;33m,\u001B[0m \u001B[0murl\u001B[0m\u001B[1;33m)\u001B[0m\u001B[1;33m\u001B[0m\u001B[1;33m\u001B[0m\u001B[0m\n\u001B[1;32m---> 14\u001B[1;33m     \u001B[1;32mwith\u001B[0m \u001B[0murllib\u001B[0m\u001B[1;33m.\u001B[0m\u001B[0mrequest\u001B[0m\u001B[1;33m.\u001B[0m\u001B[0murlopen\u001B[0m\u001B[1;33m(\u001B[0m\u001B[0murl\u001B[0m\u001B[1;33m,\u001B[0m \u001B[0mcontext\u001B[0m\u001B[1;33m=\u001B[0m\u001B[0mssl\u001B[0m\u001B[1;33m.\u001B[0m\u001B[0mcreate_default_context\u001B[0m\u001B[1;33m(\u001B[0m\u001B[0mcafile\u001B[0m\u001B[1;33m=\u001B[0m\u001B[0mcertifi\u001B[0m\u001B[1;33m.\u001B[0m\u001B[0mwhere\u001B[0m\u001B[1;33m(\u001B[0m\u001B[1;33m)\u001B[0m\u001B[1;33m)\u001B[0m\u001B[1;33m)\u001B[0m \u001B[1;32mas\u001B[0m \u001B[0murl\u001B[0m\u001B[1;33m:\u001B[0m\u001B[1;33m\u001B[0m\u001B[1;33m\u001B[0m\u001B[0m\n\u001B[0m\u001B[0;32m     15\u001B[0m         \u001B[1;32mif\u001B[0m \u001B[0murl\u001B[0m\u001B[1;33m.\u001B[0m\u001B[0mstatus\u001B[0m \u001B[1;33m==\u001B[0m \u001B[1;36m200\u001B[0m\u001B[1;33m:\u001B[0m\u001B[1;33m\u001B[0m\u001B[1;33m\u001B[0m\u001B[0m\n\u001B[0;32m     16\u001B[0m             \u001B[0mdata\u001B[0m \u001B[1;33m=\u001B[0m \u001B[0mjson\u001B[0m\u001B[1;33m.\u001B[0m\u001B[0mloads\u001B[0m\u001B[1;33m(\u001B[0m\u001B[0murl\u001B[0m\u001B[1;33m.\u001B[0m\u001B[0mread\u001B[0m\u001B[1;33m(\u001B[0m\u001B[1;33m)\u001B[0m\u001B[1;33m.\u001B[0m\u001B[0mdecode\u001B[0m\u001B[1;33m(\u001B[0m\u001B[1;33m)\u001B[0m\u001B[1;33m)\u001B[0m\u001B[1;33m\u001B[0m\u001B[1;33m\u001B[0m\u001B[0m\n",
      "\u001B[1;32m~\\Anaconda3\\envs\\scientificProject\\lib\\urllib\\request.py\u001B[0m in \u001B[0;36murlopen\u001B[1;34m(url, data, timeout, cafile, capath, cadefault, context)\u001B[0m\n\u001B[0;32m    212\u001B[0m     \u001B[1;32melse\u001B[0m\u001B[1;33m:\u001B[0m\u001B[1;33m\u001B[0m\u001B[1;33m\u001B[0m\u001B[0m\n\u001B[0;32m    213\u001B[0m         \u001B[0mopener\u001B[0m \u001B[1;33m=\u001B[0m \u001B[0m_opener\u001B[0m\u001B[1;33m\u001B[0m\u001B[1;33m\u001B[0m\u001B[0m\n\u001B[1;32m--> 214\u001B[1;33m     \u001B[1;32mreturn\u001B[0m \u001B[0mopener\u001B[0m\u001B[1;33m.\u001B[0m\u001B[0mopen\u001B[0m\u001B[1;33m(\u001B[0m\u001B[0murl\u001B[0m\u001B[1;33m,\u001B[0m \u001B[0mdata\u001B[0m\u001B[1;33m,\u001B[0m \u001B[0mtimeout\u001B[0m\u001B[1;33m)\u001B[0m\u001B[1;33m\u001B[0m\u001B[1;33m\u001B[0m\u001B[0m\n\u001B[0m\u001B[0;32m    215\u001B[0m \u001B[1;33m\u001B[0m\u001B[0m\n\u001B[0;32m    216\u001B[0m \u001B[1;32mdef\u001B[0m \u001B[0minstall_opener\u001B[0m\u001B[1;33m(\u001B[0m\u001B[0mopener\u001B[0m\u001B[1;33m)\u001B[0m\u001B[1;33m:\u001B[0m\u001B[1;33m\u001B[0m\u001B[1;33m\u001B[0m\u001B[0m\n",
      "\u001B[1;32m~\\Anaconda3\\envs\\scientificProject\\lib\\urllib\\request.py\u001B[0m in \u001B[0;36mopen\u001B[1;34m(self, fullurl, data, timeout)\u001B[0m\n\u001B[0;32m    521\u001B[0m         \u001B[1;32mfor\u001B[0m \u001B[0mprocessor\u001B[0m \u001B[1;32min\u001B[0m \u001B[0mself\u001B[0m\u001B[1;33m.\u001B[0m\u001B[0mprocess_response\u001B[0m\u001B[1;33m.\u001B[0m\u001B[0mget\u001B[0m\u001B[1;33m(\u001B[0m\u001B[0mprotocol\u001B[0m\u001B[1;33m,\u001B[0m \u001B[1;33m[\u001B[0m\u001B[1;33m]\u001B[0m\u001B[1;33m)\u001B[0m\u001B[1;33m:\u001B[0m\u001B[1;33m\u001B[0m\u001B[1;33m\u001B[0m\u001B[0m\n\u001B[0;32m    522\u001B[0m             \u001B[0mmeth\u001B[0m \u001B[1;33m=\u001B[0m \u001B[0mgetattr\u001B[0m\u001B[1;33m(\u001B[0m\u001B[0mprocessor\u001B[0m\u001B[1;33m,\u001B[0m \u001B[0mmeth_name\u001B[0m\u001B[1;33m)\u001B[0m\u001B[1;33m\u001B[0m\u001B[1;33m\u001B[0m\u001B[0m\n\u001B[1;32m--> 523\u001B[1;33m             \u001B[0mresponse\u001B[0m \u001B[1;33m=\u001B[0m \u001B[0mmeth\u001B[0m\u001B[1;33m(\u001B[0m\u001B[0mreq\u001B[0m\u001B[1;33m,\u001B[0m \u001B[0mresponse\u001B[0m\u001B[1;33m)\u001B[0m\u001B[1;33m\u001B[0m\u001B[1;33m\u001B[0m\u001B[0m\n\u001B[0m\u001B[0;32m    524\u001B[0m \u001B[1;33m\u001B[0m\u001B[0m\n\u001B[0;32m    525\u001B[0m         \u001B[1;32mreturn\u001B[0m \u001B[0mresponse\u001B[0m\u001B[1;33m\u001B[0m\u001B[1;33m\u001B[0m\u001B[0m\n",
      "\u001B[1;32m~\\Anaconda3\\envs\\scientificProject\\lib\\urllib\\request.py\u001B[0m in \u001B[0;36mhttp_response\u001B[1;34m(self, request, response)\u001B[0m\n\u001B[0;32m    630\u001B[0m         \u001B[1;31m# request was successfully received, understood, and accepted.\u001B[0m\u001B[1;33m\u001B[0m\u001B[1;33m\u001B[0m\u001B[0m\n\u001B[0;32m    631\u001B[0m         \u001B[1;32mif\u001B[0m \u001B[1;32mnot\u001B[0m \u001B[1;33m(\u001B[0m\u001B[1;36m200\u001B[0m \u001B[1;33m<=\u001B[0m \u001B[0mcode\u001B[0m \u001B[1;33m<\u001B[0m \u001B[1;36m300\u001B[0m\u001B[1;33m)\u001B[0m\u001B[1;33m:\u001B[0m\u001B[1;33m\u001B[0m\u001B[1;33m\u001B[0m\u001B[0m\n\u001B[1;32m--> 632\u001B[1;33m             response = self.parent.error(\n\u001B[0m\u001B[0;32m    633\u001B[0m                 'http', request, response, code, msg, hdrs)\n\u001B[0;32m    634\u001B[0m \u001B[1;33m\u001B[0m\u001B[0m\n",
      "\u001B[1;32m~\\Anaconda3\\envs\\scientificProject\\lib\\urllib\\request.py\u001B[0m in \u001B[0;36merror\u001B[1;34m(self, proto, *args)\u001B[0m\n\u001B[0;32m    559\u001B[0m         \u001B[1;32mif\u001B[0m \u001B[0mhttp_err\u001B[0m\u001B[1;33m:\u001B[0m\u001B[1;33m\u001B[0m\u001B[1;33m\u001B[0m\u001B[0m\n\u001B[0;32m    560\u001B[0m             \u001B[0margs\u001B[0m \u001B[1;33m=\u001B[0m \u001B[1;33m(\u001B[0m\u001B[0mdict\u001B[0m\u001B[1;33m,\u001B[0m \u001B[1;34m'default'\u001B[0m\u001B[1;33m,\u001B[0m \u001B[1;34m'http_error_default'\u001B[0m\u001B[1;33m)\u001B[0m \u001B[1;33m+\u001B[0m \u001B[0morig_args\u001B[0m\u001B[1;33m\u001B[0m\u001B[1;33m\u001B[0m\u001B[0m\n\u001B[1;32m--> 561\u001B[1;33m             \u001B[1;32mreturn\u001B[0m \u001B[0mself\u001B[0m\u001B[1;33m.\u001B[0m\u001B[0m_call_chain\u001B[0m\u001B[1;33m(\u001B[0m\u001B[1;33m*\u001B[0m\u001B[0margs\u001B[0m\u001B[1;33m)\u001B[0m\u001B[1;33m\u001B[0m\u001B[1;33m\u001B[0m\u001B[0m\n\u001B[0m\u001B[0;32m    562\u001B[0m \u001B[1;33m\u001B[0m\u001B[0m\n\u001B[0;32m    563\u001B[0m \u001B[1;31m# XXX probably also want an abstract factory that knows when it makes\u001B[0m\u001B[1;33m\u001B[0m\u001B[1;33m\u001B[0m\u001B[0m\n",
      "\u001B[1;32m~\\Anaconda3\\envs\\scientificProject\\lib\\urllib\\request.py\u001B[0m in \u001B[0;36m_call_chain\u001B[1;34m(self, chain, kind, meth_name, *args)\u001B[0m\n\u001B[0;32m    492\u001B[0m         \u001B[1;32mfor\u001B[0m \u001B[0mhandler\u001B[0m \u001B[1;32min\u001B[0m \u001B[0mhandlers\u001B[0m\u001B[1;33m:\u001B[0m\u001B[1;33m\u001B[0m\u001B[1;33m\u001B[0m\u001B[0m\n\u001B[0;32m    493\u001B[0m             \u001B[0mfunc\u001B[0m \u001B[1;33m=\u001B[0m \u001B[0mgetattr\u001B[0m\u001B[1;33m(\u001B[0m\u001B[0mhandler\u001B[0m\u001B[1;33m,\u001B[0m \u001B[0mmeth_name\u001B[0m\u001B[1;33m)\u001B[0m\u001B[1;33m\u001B[0m\u001B[1;33m\u001B[0m\u001B[0m\n\u001B[1;32m--> 494\u001B[1;33m             \u001B[0mresult\u001B[0m \u001B[1;33m=\u001B[0m \u001B[0mfunc\u001B[0m\u001B[1;33m(\u001B[0m\u001B[1;33m*\u001B[0m\u001B[0margs\u001B[0m\u001B[1;33m)\u001B[0m\u001B[1;33m\u001B[0m\u001B[1;33m\u001B[0m\u001B[0m\n\u001B[0m\u001B[0;32m    495\u001B[0m             \u001B[1;32mif\u001B[0m \u001B[0mresult\u001B[0m \u001B[1;32mis\u001B[0m \u001B[1;32mnot\u001B[0m \u001B[1;32mNone\u001B[0m\u001B[1;33m:\u001B[0m\u001B[1;33m\u001B[0m\u001B[1;33m\u001B[0m\u001B[0m\n\u001B[0;32m    496\u001B[0m                 \u001B[1;32mreturn\u001B[0m \u001B[0mresult\u001B[0m\u001B[1;33m\u001B[0m\u001B[1;33m\u001B[0m\u001B[0m\n",
      "\u001B[1;32m~\\Anaconda3\\envs\\scientificProject\\lib\\urllib\\request.py\u001B[0m in \u001B[0;36mhttp_error_default\u001B[1;34m(self, req, fp, code, msg, hdrs)\u001B[0m\n\u001B[0;32m    639\u001B[0m \u001B[1;32mclass\u001B[0m \u001B[0mHTTPDefaultErrorHandler\u001B[0m\u001B[1;33m(\u001B[0m\u001B[0mBaseHandler\u001B[0m\u001B[1;33m)\u001B[0m\u001B[1;33m:\u001B[0m\u001B[1;33m\u001B[0m\u001B[1;33m\u001B[0m\u001B[0m\n\u001B[0;32m    640\u001B[0m     \u001B[1;32mdef\u001B[0m \u001B[0mhttp_error_default\u001B[0m\u001B[1;33m(\u001B[0m\u001B[0mself\u001B[0m\u001B[1;33m,\u001B[0m \u001B[0mreq\u001B[0m\u001B[1;33m,\u001B[0m \u001B[0mfp\u001B[0m\u001B[1;33m,\u001B[0m \u001B[0mcode\u001B[0m\u001B[1;33m,\u001B[0m \u001B[0mmsg\u001B[0m\u001B[1;33m,\u001B[0m \u001B[0mhdrs\u001B[0m\u001B[1;33m)\u001B[0m\u001B[1;33m:\u001B[0m\u001B[1;33m\u001B[0m\u001B[1;33m\u001B[0m\u001B[0m\n\u001B[1;32m--> 641\u001B[1;33m         \u001B[1;32mraise\u001B[0m \u001B[0mHTTPError\u001B[0m\u001B[1;33m(\u001B[0m\u001B[0mreq\u001B[0m\u001B[1;33m.\u001B[0m\u001B[0mfull_url\u001B[0m\u001B[1;33m,\u001B[0m \u001B[0mcode\u001B[0m\u001B[1;33m,\u001B[0m \u001B[0mmsg\u001B[0m\u001B[1;33m,\u001B[0m \u001B[0mhdrs\u001B[0m\u001B[1;33m,\u001B[0m \u001B[0mfp\u001B[0m\u001B[1;33m)\u001B[0m\u001B[1;33m\u001B[0m\u001B[1;33m\u001B[0m\u001B[0m\n\u001B[0m\u001B[0;32m    642\u001B[0m \u001B[1;33m\u001B[0m\u001B[0m\n\u001B[0;32m    643\u001B[0m \u001B[1;32mclass\u001B[0m \u001B[0mHTTPRedirectHandler\u001B[0m\u001B[1;33m(\u001B[0m\u001B[0mBaseHandler\u001B[0m\u001B[1;33m)\u001B[0m\u001B[1;33m:\u001B[0m\u001B[1;33m\u001B[0m\u001B[1;33m\u001B[0m\u001B[0m\n",
      "\u001B[1;31mHTTPError\u001B[0m: HTTP Error 404: "
     ]
    }
   ],
   "source": [
    "# %%script echo skipping # comment this line to run this code\n",
    "\n",
    "import datetime\n",
    "monthStr = datetime.datetime.now().strftime('%Y%m')\n",
    "ltype =\"C\"\n",
    "# conservation\n",
    "filename = \"NT-conservation.csv\"\n",
    "prodListUrl = \"https://lists.ala.org.au/ws/speciesListItems/\" + \"dr656\" + \"?max=10000&includeKVP=true\"\n",
    "testListUrl = \"https://lists-test.ala.org.au/ws/speciesListItems/\" + \"dr656\" + \"?max=10000&includeKVP=true\"\n",
    "changelist = lf.get_changelist(testListUrl, prodListUrl, ltype)\n",
    "# save the lists locally\n",
    "changelist.to_csv(projectDir + \"analysis/change-log/\" + monthStr + \"-\" + filename, encoding=\"UTF-8\", index=False)\n",
    "\n",
    "changelist"
   ],
   "metadata": {
    "collapsed": false,
    "pycharm": {
     "name": "#%%\n"
    }
   }
  },
  {
   "cell_type": "markdown",
   "source": [
    "### Old code in next cell requires check against new code above"
   ],
   "metadata": {
    "collapsed": false,
    "pycharm": {
     "name": "#%% md\n"
    }
   }
  },
  {
   "cell_type": "code",
   "execution_count": 12,
   "outputs": [],
   "source": [
    "#### Old code requires check against new\n",
    "\n",
    "# def download_ala_specieslist(url:str):\n",
    "#  with urllib.request.urlopen(url,context=ssl.create_default_context(cafile=certifi.where())) as url:\n",
    "#   data = json.loads(url.read().decode())\n",
    "#   data = pd.json_normalize(data)\n",
    "#   return data\n",
    "#\n",
    "# # download the prod list\n",
    "# prodListUrl = \"https://lists.ala.org.au/ws/speciesListItems/dr656?max=10000\"\n",
    "# prodList = download_ala_specieslist(prodListUrl)\n",
    "# testListUrl = \"https://lists-test.ala.org.au/ws/speciesListItems/dr656?max=10000\"\n",
    "# testList = download_ala_specieslist(testListUrl)\n",
    "#\n",
    "# # new names\n",
    "# testvsprod = pd.merge(testList,prodList,how='left',on='name')\n",
    "# testvsprod = testvsprod[testvsprod['scientificName_y'].isna()][['name','commonName_x','scientificName_x']]\n",
    "# testvsprod['status'] = 'added'\n",
    "# # old names\n",
    "# prodvstest = pd.merge(prodList,testList,how='left',on='name')\n",
    "# prodvstest = prodvstest[prodvstest['scientificName_y'].isna()][['name','commonName_y','scientificName_y']]\n",
    "# prodvstest['status'] = 'removed'\n",
    "# # union and display in alphabetical order\n",
    "# changelist = pd.concat([testvsprod,prodvstest])\n",
    "#\n",
    "# # save the prod list to the historical lists directory\n",
    "# prodList.to_csv(projectDir + \"historical-lists/conservation/EPBC_Act_Threatened_Species.csv\",encoding=\"UTF-8\",index=False)\n",
    "# # save the change log\n",
    "# changelist.to_csv(projectDir + \"analysis/change-log/202211-EPBC-conservation.csv\",encoding=\"UTF-8\",index=False)\n"
   ],
   "metadata": {
    "collapsed": false,
    "pycharm": {
     "name": "#%%\n"
    }
   }
  },
  {
   "cell_type": "code",
   "execution_count": 13,
   "outputs": [],
   "source": [
    "# changelist[['status','name','scientificName_x','commonName_x']].sort_values('name')"
   ],
   "metadata": {
    "collapsed": false,
    "pycharm": {
     "name": "#%%\n"
    }
   }
  },
  {
   "cell_type": "markdown",
   "source": [
    "### Download Production lists to Historical Lists directory"
   ],
   "metadata": {
    "collapsed": false,
    "pycharm": {
     "name": "#%% md\n"
    }
   }
  },
  {
   "cell_type": "code",
   "execution_count": null,
   "outputs": [],
   "source": [
    "### Change logs"
   ],
   "metadata": {
    "collapsed": false,
    "pycharm": {
     "name": "#%%\n"
    }
   }
  },
  {
   "cell_type": "code",
   "execution_count": null,
   "outputs": [],
   "source": [
    "# EPBC Conservation\n",
    "changeDir = \"Monitoring/Change-logs/\"\n",
    "print('EPBC conservation')\n",
    "filename = \"EPBC-conservation.csv\"\n",
    "testdr = \"dr656\"\n",
    "proddr = \"dr656\"\n",
    "changelist = lf.get_changelist(testdr, proddr, ltype)\n",
    "changelist.to_csv(projectDir + changeDir + monthStr + \"-\" + filename, encoding=\"UTF-8\", index=False)\n",
    "print('Finished EPBC conservation')"
   ],
   "metadata": {
    "collapsed": false,
    "pycharm": {
     "name": "#%%\n"
    }
   }
  },
  {
   "cell_type": "code",
   "execution_count": null,
   "outputs": [],
   "source": [
    "# Download historical lists from Production\n",
    "prodListUrl = \"https://lists.ala.org.au/ws/speciesListItems/\" + proddr + \"?max=10000&includeKVP=true\"\n",
    "prodList = lf.download_ala_specieslist(prodListUrl)  # save the prod list to the historical lists directory\n",
    "prodList = lf.kvp_to_columns(prodList)\n",
    "prodList.to_csv(projectDir + \"historical-lists/conservation/\" + filename, encoding=\"UTF-8\", index=False)\n",
    "print('Finished downloading conservation historical list')"
   ],
   "metadata": {
    "collapsed": false,
    "pycharm": {
     "name": "#%%\n"
    }
   }
  }
 ],
 "metadata": {
  "kernelspec": {
   "display_name": "Python 3",
   "language": "python",
   "name": "python3"
  },
  "language_info": {
   "codemirror_mode": {
    "name": "ipython",
    "version": 2
   },
   "file_extension": ".py",
   "mimetype": "text/x-python",
   "name": "python",
   "nbconvert_exporter": "python",
   "pygments_lexer": "ipython2",
   "version": "2.7.6"
  }
 },
 "nbformat": 4,
 "nbformat_minor": 0
}