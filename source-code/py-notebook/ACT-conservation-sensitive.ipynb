{
 "cells": [
  {
   "cell_type": "markdown",
   "source": [
    "# State Conservation Status Species Lists - ACT\n",
    "\n",
    "This notebook downloads the ACT lists from the ACT Government Open Data Portal and readies them for ingestion into the ALA Lists tool. It will save original lists to the source-data/ACT directory, process the lists and save them to current-lists. The lists can be loaded into the lists-test environment then reviewed by following the instructions below.\n",
    "\n",
    "## Lists in the ALA Species List tool\n",
    "Conservation list: [dr649](https://lists.ala.org.au/speciesListItem/list/dr649) ([in test](https://lists-test.ala.org.au/speciesListItem/list/dr649))\n",
    "Sensitive list: [dr2627](https://lists.ala.org.au/speciesListItem/list/dr649) ([in test](https://lists.ala.org.au/speciesListItem/list/dr2627))\n",
    "\n",
    "## Sources\n",
    "\n",
    "Source:\n",
    "Metadata: https://www.data.act.gov.au/Environment/ACT-Nature-Conservation-Threatened-Native-Species-/9ikf-qahj\n",
    "Data: https://www.data.act.gov.au/resource/9ikf-qahj.json\n",
    "\n",
    "***Metadata summary***\n",
    "ACT Nature Conservation Threatened Native Species List. Species list adheres to the Darwin Core Standard. A species is threatened if it is likely to become extinct in the foreseeable future. The Nature Conservation Act 2014 (ACT) establishes a formal process for the identification and protection of threatened species and ecological communities. Ngunnawal species names created and endorsed by the Winnagaay Ngunnawal Language Group.\n",
    "\n",
    "***URL***\n",
    "https://www.data.act.gov.au/Environment/ACT-Nature-Conservation-Threatened-Native-Species-/9ikf-qahj\n",
    "https://dev.socrata.com/foundry/www.data.act.gov.au/9ikf-qahj/\n",
    "\n"
   ],
   "metadata": {
    "collapsed": false,
    "pycharm": {
     "name": "#%% md\n"
    }
   }
  },
  {
   "cell_type": "code",
   "execution_count": 1,
   "outputs": [],
   "source": [
    "# set up\n",
    "import pandas as pd\n",
    "import json\n",
    "import urllib.request\n",
    "import certifi\n",
    "import ssl\n",
    "\n",
    "# top level directory\n",
    "# projectDir = \"/Users/new330/IdeaProjects/authoritative-lists/\"\n",
    "projectDir = \"/Users/oco115/PycharmProjects/authoritative-lists/\"\n",
    "sourceDir = projectDir + \"source-data/act/\"\n",
    "cdataDir = \"current-lists/conservation-lists/\"\n",
    "sdataDir = \"current-lists/sensitive-lists/\"\n",
    "\n",
    "import pandas as pd\n",
    "import sys\n",
    "import os\n",
    "sys.path.append(os.path.abspath(projectDir + \"source-code/includes\"))\n",
    "import list_functions as lf"
   ],
   "metadata": {
    "collapsed": false,
    "pycharm": {
     "name": "#%%\n"
    }
   }
  },
  {
   "cell_type": "markdown",
   "source": [
    "# Conservation List"
   ],
   "metadata": {
    "collapsed": false,
    "pycharm": {
     "name": "#%% md\n"
    }
   }
  },
  {
   "cell_type": "code",
   "execution_count": 2,
   "outputs": [
    {
     "data": {
      "text/plain": "        category                   scientificname              vernacularname  \\\n0           Bird              Anthochaera phrygia           Regent Honeyeater   \n1        Reptile            Aprasia parapulchella     Pink-tailed Worm-lizard   \n2         Mammal               Bettongia gaimardi             Eastern Bettong   \n3           Fish                Bidyanus bidyanus                Silver Perch   \n4          Plant                   Bossiaea grayi       Murrumbidgee Bossiaea   \n5           Bird           Botaurus poiciloptilus        Australasian Bittern   \n6          Plant               Caladenia actensis      Canberra Spider Orchid   \n7           Bird  Calyptorhynchus lathami lathami       Glossy Black-cockatoo   \n8           Bird   Climacteris picumnus victoriae           Brown Treecreeper   \n9          Plant              Corunastylis ectopa    Brindabella Midge Orchid   \n10          Bird        Daphoenositta chrysoptera             Varied Sittella   \n11        Mammal     Dasyurus maculatus maculatus        Spotted-tailed Quoll   \n12        Mammal              Dasyurus viverrinus               Eastern Quoll   \n13       Reptile                      Delma impar      Striped Legless Lizard   \n14          Fish                Euastacus armatus       Murray River Crayfish   \n15         Plant             Eucalyptus aggregata                   Black Gum   \n16          Fish              Gadopsis bispinosus        Two-spined Blackfish   \n17         Plant             Gentiana baeuerlenii         Baeuerlen's Gentian   \n18          Bird                 Grantiella picta          Painted Honeyeater   \n19          Bird           Hieraaetus morphnoides                Little Eagle   \n20          Bird            Hirundapus caudacutus   White-throated Needletail   \n21        Mammal        Isoodon obesulus obesulus    Southern Brown Bandicoot   \n22          Bird                  Lalage tricolor        White-winged Triller   \n23          Bird                Lathamus discolor                Swift Parrot   \n24         Plant          Lepidium ginninderrense     Ginninderra Peppercress   \n25          Frog                    Litoria aurea  Green and Golden Bell Frog   \n26          Frog                 Litoria castanea    Yellow-spotted Bell Frog   \n27          Frog               Litoria raniformis          Southern Bell Frog   \n28          Frog        Litoria verreauxii alpina            Alpine Tree Frog   \n29          Fish     Maccullochella macquariensis                   Trout Cod   \n30          Fish           Macquaria australasica             Macquarie Perch   \n31        Mammal       Mastacomys fuscus mordicus           Broad-toothed Rat   \n32          Bird  Melanodryas cucullata cucullata                Hooded Robin   \n33         Plant        Muehlenbeckia tuggeranong          Tuggeranong Lignum   \n34  Invertebrate                 Perunga ochracea         Perunga Grasshopper   \n35        Mammal               Petauroides volans              Greater Glider   \n36        Mammal            Petrogale penicillata   Brush-tailed Rock-wallaby   \n37          Bird                 Petroica boodang               Scarlet Robin   \n38        Mammal           Phascolarctos cinereus                       Koala   \n39          Bird             Polytelis swainsonii               Superb Parrot   \n40         Plant               Pomaderris pallida             Pale Pomaderris   \n41         Plant             Prasophyllum petilum         Tarengo Leek Orchid   \n42        Mammal                 Pseudomys fumeus                 Smoky Mouse   \n43        Mammal        Pseudomys novaehollandiae           New Holland Mouse   \n44          Frog          Pseudophryne pengilleyi    Northern Corroboree Frog   \n45        Mammal           Pteropus poliocephalus      Grey-headed Flying-fox   \n46         Plant            Pterostylis oreophila           Kiandra Greenhood   \n47          Bird             Rostratula australis    Australian Painted Snipe   \n48         Plant       Rutidosis leptorhynchoides          Button Wrinklewort   \n49         Plant                  Swainsona recta            Small Purple Pea   \n50  Invertebrate                    Synemon plana             Golden Sun Moth   \n51         Plant                 Thesium australe            Austral Toadflax   \n52       Reptile           Tympanocryptis lineata    Grassland Earless Dragon   \n53       Reptile       Tympanocryptis pinguicolla    Grassland Earless Dragon   \n\n     taxonrank    taxonomicstatus   kingdom      phylum           class  \\\n0      species           accepted  Animalia    Chordata            Aves   \n1      species           accepted  Animalia    Chordata        Reptilia   \n2      species           accepted  Animalia    Chordata        Mammalia   \n3      species           accepted  Animalia    Chordata  Actinopterygii   \n4      species           accepted   Plantae  Charophyta   Equisetopsida   \n5      species           accepted  Animalia    Chordata            Aves   \n6      species           accepted   Plantae  Charophyta   Equisetopsida   \n7   subspecies           accepted  Animalia    Chordata            Aves   \n8   subspecies           accepted  Animalia    Chordata            Aves   \n9      species           accepted   Plantae  Charophyta   Equisetopsida   \n10     species           accepted  Animalia    Chordata            Aves   \n11  subspecies           accepted  Animalia    Chordata        Mammalia   \n12     species           accepted  Animalia    Chordata        Mammalia   \n13     species           accepted  Animalia    Chordata        Reptilia   \n14     species           accepted  Animalia  Arthropoda    Malacostraca   \n15     species           accepted   Plantae  Charophyta   Equisetopsida   \n16     species           accepted  Animalia    Chordata  Actinopterygii   \n17     species           accepted   Plantae  Charophyta   Equisetopsida   \n18     species           accepted  Animalia    Chordata            Aves   \n19     species           accepted  Animalia    Chordata            Aves   \n20     species           accepted  Animalia    Chordata            Aves   \n21  subspecies           accepted  Animalia    Chordata        Mammalia   \n22     species           accepted  Animalia    Chordata            Aves   \n23     species           accepted  Animalia    Chordata            Aves   \n24     species           accepted   Plantae  Charophyta   Equisetopsida   \n25     species           accepted  Animalia    Chordata        Amphibia   \n26     species           accepted  Animalia    Chordata        Amphibia   \n27     species           accepted  Animalia    Chordata        Amphibia   \n28  subspecies           accepted  Animalia    Chordata        Amphibia   \n29     species           accepted  Animalia    Chordata  Actinopterygii   \n30     species           accepted  Animalia    Chordata  Actinopterygii   \n31  subspecies           accepted  Animalia    Chordata        Mammalia   \n32  subspecies           accepted  Animalia    Chordata            Aves   \n33     species           accepted   Plantae  Charophyta   Equisetopsida   \n34     species           accepted  Animalia  Arthropoda   invertibratea   \n35     species           accepted  Animalia    Chordata        Mammalia   \n36     species           accepted  Animalia    Chordata        Mammalia   \n37     species           accepted  Animalia    Chordata            Aves   \n38     species           accepted  Animalia    Chordata        Mammalia   \n39     species           accepted  Animalia    Chordata            Aves   \n40     species           accepted   Plantae  Charophyta   Equisetopsida   \n41     species           accepted   Plantae  Charophyta   Equisetopsida   \n42     species           accepted  Animalia    Chordata        Mammalia   \n43     species           accepted  Animalia    Chordata        Mammalia   \n44     species           accepted  Animalia    Chordata        Amphibia   \n45     species           accepted  Animalia    Chordata        Mammalia   \n46     species           accepted   Plantae  Charophyta   Equisetopsida   \n47     species           accepted  Animalia    Chordata            Aves   \n48     species           accepted   Plantae  Charophyta   Equisetopsida   \n49     species           accepted   Plantae  Charophyta   Equisetopsida   \n50     species           accepted  Animalia  Arthropoda   invertibratea   \n51     species           accepted   Plantae  Charophyta   Equisetopsida   \n52     species           accepted  Animalia    Chordata        Reptilia   \n53     species  homotypic synonym  Animalia    Chordata        Reptilia   \n\n              order           family                       sourcestatus  \\\n0     Passeriformes     Meliphagidae              Critically Endangered   \n1          Squamata      Pygopodidae                        Vulnernable   \n2     Diprotodontia       Potoroidae  Regionally Conservation Dependent   \n3       Perciformes     Terapontidae                         Endangered   \n4           Fabales         Fabaceae                         Endangered   \n5     Ciconiiformes         Ardeidae                         Endangered   \n6       Asparagales      Orchidaceae              Critically Endangered   \n7    Psittaciformes       Cacatuidae                        Vulnernable   \n8     Passeriformes    Climacteridae                        Vulnernable   \n9       Asparagales      Orchidaceae              Critically Endangered   \n10    Passeriformes      Neosittidae                        Vulnernable   \n11   Dasyuromorphia       Dasyuridae                        Vulnernable   \n12   Dasyuromorphia       dasyuridae                         Endangered   \n13         Squamata      Pygopodidae                        Vulnernable   \n14         Decapoda     Parastacidae                        Vulnernable   \n15         Myrtales        Myrtaceae                        Vulnernable   \n16      Perciformes   Percichthyidae                        Vulnernable   \n17      Gentianales     Gentianaceae                         Endangered   \n18    Passeriformes     Meliphagidae                        Vulnernable   \n19    Falconiformes     Accipitridae                        Vulnernable   \n20      Apodiformes         Apodidae                        Vulnernable   \n21  Peramelemorphia      Peramelidae                         Endangered   \n22    Passeriformes    Campephagidae                        Vulnernable   \n23   Psittaciformes      Psittacidae              Critically Endangered   \n24      Brassicales     Brassicaceae                         Endangered   \n25            Anura          Hylidae                        Vulnernable   \n26            Anura          Hylidae              Critically Endangered   \n27            Anura          Hylidae                        Vulnernable   \n28            Anura          Hylidae                        Vulnernable   \n29      Perciformes   Percichthyidae                         Endangered   \n30      Perciformes   Percichthyidae                         Endangered   \n31         Rodentia          Muridae                        Vulnernable   \n32    Passeriformes      Petroicidae                        Vulnernable   \n33   Caryophyllales     Polygonaceae                         Endangered   \n34       Orthoptera        Acrididae                        Vulnernable   \n35    Diprotodontia  Pseudocheiridae                        Vulnernable   \n36    Diprotodontia     Macropodidae                         Endangered   \n37    Passeriformes      Petroicidae                        Vulnernable   \n38    Diprotodontia  Phascolarctidae                        Vulnernable   \n39   Psittaciformes      Psittacidae                        Vulnernable   \n40          Rosales       Rhamnaceae                        Vulnernable   \n41      Asparagales      Orchidaceae                         Endangered   \n42         Rodentia          Muridae                         Endangered   \n43         Rodentia          Muridae                        Vulnernable   \n44            Anura   Myobatrachidae              Critically Endangered   \n45       Chiroptera     Pteropodidae                        Vulnernable   \n46      Asparagales      Orchidaceae              Critically Endangered   \n47  Charadriiformes    Rostratulidae                         Endangered   \n48        Asterales       Asteraceae                         Endangered   \n49          Fabales         Fabaceae                         Endangered   \n50      Lepidoptera       Castniidae                         Endangered   \n51     Malpighiales      Santalaceae                        Vulnernable   \n52         Squamata         Agamidae                         Endangered   \n53         Squamata         Agamidae                         Endangered   \n\n                   status                           authority  \\\n0   Critically Endangered  Nature Conservation Act 2014 (ACT)   \n1             Vulnernable  Nature Conservation Act 2014 (ACT)   \n2                     NaN  Nature Conservation Act 2014 (ACT)   \n3              Endangered  Nature Conservation Act 2014 (ACT)   \n4              Endangered  Nature Conservation Act 2014 (ACT)   \n5              Endangered  Nature Conservation Act 2014 (ACT)   \n6   Critically Endangered  Nature Conservation Act 2014 (ACT)   \n7             Vulnernable  Nature Conservation Act 2014 (ACT)   \n8             Vulnernable  Nature Conservation Act 2014 (ACT)   \n9   Critically Endangered  Nature Conservation Act 2014 (ACT)   \n10            Vulnernable  Nature Conservation Act 2014 (ACT)   \n11            Vulnernable  Nature Conservation Act 2014 (ACT)   \n12             Endangered  Nature Conservation Act 2014 (ACT)   \n13            Vulnernable  Nature Conservation Act 2014 (ACT)   \n14            Vulnernable  Nature Conservation Act 2014 (ACT)   \n15            Vulnernable  Nature Conservation Act 2014 (ACT)   \n16            Vulnernable  Nature Conservation Act 2014 (ACT)   \n17             Endangered  Nature Conservation Act 2014 (ACT)   \n18            Vulnernable  Nature Conservation Act 2014 (ACT)   \n19            Vulnernable  Nature Conservation Act 2014 (ACT)   \n20            Vulnernable  Nature Conservation Act 2014 (ACT)   \n21             Endangered  Nature Conservation Act 2014 (ACT)   \n22            Vulnernable  Nature Conservation Act 2014 (ACT)   \n23  Critically Endangered  Nature Conservation Act 2014 (ACT)   \n24             Endangered  Nature Conservation Act 2014 (ACT)   \n25            Vulnernable  Nature Conservation Act 2014 (ACT)   \n26  Critically Endangered  Nature Conservation Act 2014 (ACT)   \n27            Vulnernable  Nature Conservation Act 2014 (ACT)   \n28            Vulnernable  Nature Conservation Act 2014 (ACT)   \n29             Endangered  Nature Conservation Act 2014 (ACT)   \n30             Endangered  Nature Conservation Act 2014 (ACT)   \n31            Vulnernable  Nature Conservation Act 2014 (ACT)   \n32            Vulnernable  Nature Conservation Act 2014 (ACT)   \n33             Endangered  Nature Conservation Act 2014 (ACT)   \n34            Vulnernable  Nature Conservation Act 2014 (ACT)   \n35            Vulnernable  Nature Conservation Act 2014 (ACT)   \n36             Endangered  Nature Conservation Act 2014 (ACT)   \n37            Vulnernable  Nature Conservation Act 2014 (ACT)   \n38            Vulnernable  Nature Conservation Act 2014 (ACT)   \n39            Vulnernable  Nature Conservation Act 2014 (ACT)   \n40            Vulnernable  Nature Conservation Act 2014 (ACT)   \n41             Endangered  Nature Conservation Act 2014 (ACT)   \n42             Endangered  Nature Conservation Act 2014 (ACT)   \n43            Vulnernable  Nature Conservation Act 2014 (ACT)   \n44  Critically Endangered  Nature Conservation Act 2014 (ACT)   \n45            Vulnernable  Nature Conservation Act 2014 (ACT)   \n46  Critically Endangered  Nature Conservation Act 2014 (ACT)   \n47             Endangered  Nature Conservation Act 2014 (ACT)   \n48             Endangered  Nature Conservation Act 2014 (ACT)   \n49             Endangered  Nature Conservation Act 2014 (ACT)   \n50             Endangered  Nature Conservation Act 2014 (ACT)   \n51            Vulnernable  Nature Conservation Act 2014 (ACT)   \n52             Endangered  Nature Conservation Act 2014 (ACT)   \n53             Endangered  Nature Conservation Act 2014 (ACT)   \n\n          ngunnawal                                           comments  \\\n0               NaN                                                NaN   \n1         Banburung                                                NaN   \n2           Ngaluda                  Regionally Conservation Dependent   \n3           Dhingur                                                NaN   \n4               NaN                                                NaN   \n5               NaN      included in ACT Migratory Species Action Plan   \n6               NaN                                                NaN   \n7               NaN  Calyptorhynchus lathami species rank considere...   \n8               NaN                                                NaN   \n9               NaN                                                NaN   \n10              NaN                                                NaN   \n11        Murunguny                                                NaN   \n12        Murunguny                                                NaN   \n13  Narung or Gandi                                                NaN   \n14         Murunung                                                NaN   \n15              NaN                                                NaN   \n16            Wagar                                                NaN   \n17              NaN                                                NaN   \n18              NaN                                                NaN   \n19              NaN                                                NaN   \n20              NaN                                                NaN   \n21        Mandawari                                                NaN   \n22              NaN                                                NaN   \n23              NaN                                                NaN   \n24              NaN                                                NaN   \n25              NaN                                    Locally extinct   \n26              NaN                                    Locally extinct   \n27              NaN                                    Locally extinct   \n28              NaN                                                NaN   \n29             Gudu                                                NaN   \n30            Gubay                                                NaN   \n31             Luda                                                NaN   \n32              NaN                                                NaN   \n33              NaN                                                NaN   \n34           Baaman                                                NaN   \n35           Banguu                                                NaN   \n36            Baray                                                NaN   \n37              NaN                                                NaN   \n38             Gula                                                NaN   \n39              NaN                                                NaN   \n40              NaN                                                NaN   \n41              NaN                                                NaN   \n42         Ganimang                                                NaN   \n43              NaN                                                NaN   \n44        Galaangga                                                NaN   \n45              NaN                                                NaN   \n46              NaN                                                NaN   \n47              NaN      included in ACT Migratory Species Action Plan   \n48              NaN                                                NaN   \n49              NaN                                                NaN   \n50              NaN                                                NaN   \n51              NaN                                                NaN   \n52        Bidjiwang  Recent taxonomic changes to the species, from ...   \n53        Bidjiwang        Homotypic synonym of Tympanocryptis lineata   \n\n                       synonym                                 taxonremarks  \n0                          NaN                                          NaN  \n1                          NaN                                          NaN  \n2                          NaN                                          NaN  \n3                          NaN                                          NaN  \n4                          NaN                                          NaN  \n5                          NaN                                          NaN  \n6        Arachnorchis actensis                                          NaN  \n7                          NaN                                          NaN  \n8                          NaN                                          NaN  \n9                          NaN                                          NaN  \n10                         NaN                                          NaN  \n11                         NaN                                          NaN  \n12                         NaN                                          NaN  \n13                         NaN                                          NaN  \n14                         NaN                                          NaN  \n15                         NaN                                          NaN  \n16                         NaN                                          NaN  \n17                         NaN                                          NaN  \n18                         NaN                                          NaN  \n19                         NaN                                          NaN  \n20                         NaN                                          NaN  \n21                         NaN                                          NaN  \n22                         NaN                                          NaN  \n23                         NaN                                          NaN  \n24                         NaN                                          NaN  \n25                         NaN                                          NaN  \n26                         NaN                                          NaN  \n27                         NaN                                          NaN  \n28                         NaN                                          NaN  \n29                         NaN                                          NaN  \n30                         NaN                                          NaN  \n31                         NaN                                          NaN  \n32                         NaN                                          NaN  \n33                         NaN                                          NaN  \n34                         NaN                                          NaN  \n35                         NaN                                          NaN  \n36                         NaN                                          NaN  \n37                         NaN                                          NaN  \n38                         NaN                                          NaN  \n39                         NaN                                          NaN  \n40                         NaN                                          NaN  \n41                         NaN                                          NaN  \n42                         NaN                                          NaN  \n43                         NaN                                          NaN  \n44                         NaN                                          NaN  \n45                         NaN                                          NaN  \n46                         NaN                                          NaN  \n47                         NaN                                          NaN  \n48                         NaN                                          NaN  \n49                         NaN                                          NaN  \n50                         NaN                                          NaN  \n51                         NaN                                          NaN  \n52  Tympanocryptis pinguicolla                                          NaN  \n53      Tympanocryptis lineata  Homotypic synonym of Tympanocryptis lineata  ",
      "text/html": "<div>\n<style scoped>\n    .dataframe tbody tr th:only-of-type {\n        vertical-align: middle;\n    }\n\n    .dataframe tbody tr th {\n        vertical-align: top;\n    }\n\n    .dataframe thead th {\n        text-align: right;\n    }\n</style>\n<table border=\"1\" class=\"dataframe\">\n  <thead>\n    <tr style=\"text-align: right;\">\n      <th></th>\n      <th>category</th>\n      <th>scientificname</th>\n      <th>vernacularname</th>\n      <th>taxonrank</th>\n      <th>taxonomicstatus</th>\n      <th>kingdom</th>\n      <th>phylum</th>\n      <th>class</th>\n      <th>order</th>\n      <th>family</th>\n      <th>sourcestatus</th>\n      <th>status</th>\n      <th>authority</th>\n      <th>ngunnawal</th>\n      <th>comments</th>\n      <th>synonym</th>\n      <th>taxonremarks</th>\n    </tr>\n  </thead>\n  <tbody>\n    <tr>\n      <th>0</th>\n      <td>Bird</td>\n      <td>Anthochaera phrygia</td>\n      <td>Regent Honeyeater</td>\n      <td>species</td>\n      <td>accepted</td>\n      <td>Animalia</td>\n      <td>Chordata</td>\n      <td>Aves</td>\n      <td>Passeriformes</td>\n      <td>Meliphagidae</td>\n      <td>Critically Endangered</td>\n      <td>Critically Endangered</td>\n      <td>Nature Conservation Act 2014 (ACT)</td>\n      <td>NaN</td>\n      <td>NaN</td>\n      <td>NaN</td>\n      <td>NaN</td>\n    </tr>\n    <tr>\n      <th>1</th>\n      <td>Reptile</td>\n      <td>Aprasia parapulchella</td>\n      <td>Pink-tailed Worm-lizard</td>\n      <td>species</td>\n      <td>accepted</td>\n      <td>Animalia</td>\n      <td>Chordata</td>\n      <td>Reptilia</td>\n      <td>Squamata</td>\n      <td>Pygopodidae</td>\n      <td>Vulnernable</td>\n      <td>Vulnernable</td>\n      <td>Nature Conservation Act 2014 (ACT)</td>\n      <td>Banburung</td>\n      <td>NaN</td>\n      <td>NaN</td>\n      <td>NaN</td>\n    </tr>\n    <tr>\n      <th>2</th>\n      <td>Mammal</td>\n      <td>Bettongia gaimardi</td>\n      <td>Eastern Bettong</td>\n      <td>species</td>\n      <td>accepted</td>\n      <td>Animalia</td>\n      <td>Chordata</td>\n      <td>Mammalia</td>\n      <td>Diprotodontia</td>\n      <td>Potoroidae</td>\n      <td>Regionally Conservation Dependent</td>\n      <td>NaN</td>\n      <td>Nature Conservation Act 2014 (ACT)</td>\n      <td>Ngaluda</td>\n      <td>Regionally Conservation Dependent</td>\n      <td>NaN</td>\n      <td>NaN</td>\n    </tr>\n    <tr>\n      <th>3</th>\n      <td>Fish</td>\n      <td>Bidyanus bidyanus</td>\n      <td>Silver Perch</td>\n      <td>species</td>\n      <td>accepted</td>\n      <td>Animalia</td>\n      <td>Chordata</td>\n      <td>Actinopterygii</td>\n      <td>Perciformes</td>\n      <td>Terapontidae</td>\n      <td>Endangered</td>\n      <td>Endangered</td>\n      <td>Nature Conservation Act 2014 (ACT)</td>\n      <td>Dhingur</td>\n      <td>NaN</td>\n      <td>NaN</td>\n      <td>NaN</td>\n    </tr>\n    <tr>\n      <th>4</th>\n      <td>Plant</td>\n      <td>Bossiaea grayi</td>\n      <td>Murrumbidgee Bossiaea</td>\n      <td>species</td>\n      <td>accepted</td>\n      <td>Plantae</td>\n      <td>Charophyta</td>\n      <td>Equisetopsida</td>\n      <td>Fabales</td>\n      <td>Fabaceae</td>\n      <td>Endangered</td>\n      <td>Endangered</td>\n      <td>Nature Conservation Act 2014 (ACT)</td>\n      <td>NaN</td>\n      <td>NaN</td>\n      <td>NaN</td>\n      <td>NaN</td>\n    </tr>\n    <tr>\n      <th>5</th>\n      <td>Bird</td>\n      <td>Botaurus poiciloptilus</td>\n      <td>Australasian Bittern</td>\n      <td>species</td>\n      <td>accepted</td>\n      <td>Animalia</td>\n      <td>Chordata</td>\n      <td>Aves</td>\n      <td>Ciconiiformes</td>\n      <td>Ardeidae</td>\n      <td>Endangered</td>\n      <td>Endangered</td>\n      <td>Nature Conservation Act 2014 (ACT)</td>\n      <td>NaN</td>\n      <td>included in ACT Migratory Species Action Plan</td>\n      <td>NaN</td>\n      <td>NaN</td>\n    </tr>\n    <tr>\n      <th>6</th>\n      <td>Plant</td>\n      <td>Caladenia actensis</td>\n      <td>Canberra Spider Orchid</td>\n      <td>species</td>\n      <td>accepted</td>\n      <td>Plantae</td>\n      <td>Charophyta</td>\n      <td>Equisetopsida</td>\n      <td>Asparagales</td>\n      <td>Orchidaceae</td>\n      <td>Critically Endangered</td>\n      <td>Critically Endangered</td>\n      <td>Nature Conservation Act 2014 (ACT)</td>\n      <td>NaN</td>\n      <td>NaN</td>\n      <td>Arachnorchis actensis</td>\n      <td>NaN</td>\n    </tr>\n    <tr>\n      <th>7</th>\n      <td>Bird</td>\n      <td>Calyptorhynchus lathami lathami</td>\n      <td>Glossy Black-cockatoo</td>\n      <td>subspecies</td>\n      <td>accepted</td>\n      <td>Animalia</td>\n      <td>Chordata</td>\n      <td>Aves</td>\n      <td>Psittaciformes</td>\n      <td>Cacatuidae</td>\n      <td>Vulnernable</td>\n      <td>Vulnernable</td>\n      <td>Nature Conservation Act 2014 (ACT)</td>\n      <td>NaN</td>\n      <td>Calyptorhynchus lathami species rank considere...</td>\n      <td>NaN</td>\n      <td>NaN</td>\n    </tr>\n    <tr>\n      <th>8</th>\n      <td>Bird</td>\n      <td>Climacteris picumnus victoriae</td>\n      <td>Brown Treecreeper</td>\n      <td>subspecies</td>\n      <td>accepted</td>\n      <td>Animalia</td>\n      <td>Chordata</td>\n      <td>Aves</td>\n      <td>Passeriformes</td>\n      <td>Climacteridae</td>\n      <td>Vulnernable</td>\n      <td>Vulnernable</td>\n      <td>Nature Conservation Act 2014 (ACT)</td>\n      <td>NaN</td>\n      <td>NaN</td>\n      <td>NaN</td>\n      <td>NaN</td>\n    </tr>\n    <tr>\n      <th>9</th>\n      <td>Plant</td>\n      <td>Corunastylis ectopa</td>\n      <td>Brindabella Midge Orchid</td>\n      <td>species</td>\n      <td>accepted</td>\n      <td>Plantae</td>\n      <td>Charophyta</td>\n      <td>Equisetopsida</td>\n      <td>Asparagales</td>\n      <td>Orchidaceae</td>\n      <td>Critically Endangered</td>\n      <td>Critically Endangered</td>\n      <td>Nature Conservation Act 2014 (ACT)</td>\n      <td>NaN</td>\n      <td>NaN</td>\n      <td>NaN</td>\n      <td>NaN</td>\n    </tr>\n    <tr>\n      <th>10</th>\n      <td>Bird</td>\n      <td>Daphoenositta chrysoptera</td>\n      <td>Varied Sittella</td>\n      <td>species</td>\n      <td>accepted</td>\n      <td>Animalia</td>\n      <td>Chordata</td>\n      <td>Aves</td>\n      <td>Passeriformes</td>\n      <td>Neosittidae</td>\n      <td>Vulnernable</td>\n      <td>Vulnernable</td>\n      <td>Nature Conservation Act 2014 (ACT)</td>\n      <td>NaN</td>\n      <td>NaN</td>\n      <td>NaN</td>\n      <td>NaN</td>\n    </tr>\n    <tr>\n      <th>11</th>\n      <td>Mammal</td>\n      <td>Dasyurus maculatus maculatus</td>\n      <td>Spotted-tailed Quoll</td>\n      <td>subspecies</td>\n      <td>accepted</td>\n      <td>Animalia</td>\n      <td>Chordata</td>\n      <td>Mammalia</td>\n      <td>Dasyuromorphia</td>\n      <td>Dasyuridae</td>\n      <td>Vulnernable</td>\n      <td>Vulnernable</td>\n      <td>Nature Conservation Act 2014 (ACT)</td>\n      <td>Murunguny</td>\n      <td>NaN</td>\n      <td>NaN</td>\n      <td>NaN</td>\n    </tr>\n    <tr>\n      <th>12</th>\n      <td>Mammal</td>\n      <td>Dasyurus viverrinus</td>\n      <td>Eastern Quoll</td>\n      <td>species</td>\n      <td>accepted</td>\n      <td>Animalia</td>\n      <td>Chordata</td>\n      <td>Mammalia</td>\n      <td>Dasyuromorphia</td>\n      <td>dasyuridae</td>\n      <td>Endangered</td>\n      <td>Endangered</td>\n      <td>Nature Conservation Act 2014 (ACT)</td>\n      <td>Murunguny</td>\n      <td>NaN</td>\n      <td>NaN</td>\n      <td>NaN</td>\n    </tr>\n    <tr>\n      <th>13</th>\n      <td>Reptile</td>\n      <td>Delma impar</td>\n      <td>Striped Legless Lizard</td>\n      <td>species</td>\n      <td>accepted</td>\n      <td>Animalia</td>\n      <td>Chordata</td>\n      <td>Reptilia</td>\n      <td>Squamata</td>\n      <td>Pygopodidae</td>\n      <td>Vulnernable</td>\n      <td>Vulnernable</td>\n      <td>Nature Conservation Act 2014 (ACT)</td>\n      <td>Narung or Gandi</td>\n      <td>NaN</td>\n      <td>NaN</td>\n      <td>NaN</td>\n    </tr>\n    <tr>\n      <th>14</th>\n      <td>Fish</td>\n      <td>Euastacus armatus</td>\n      <td>Murray River Crayfish</td>\n      <td>species</td>\n      <td>accepted</td>\n      <td>Animalia</td>\n      <td>Arthropoda</td>\n      <td>Malacostraca</td>\n      <td>Decapoda</td>\n      <td>Parastacidae</td>\n      <td>Vulnernable</td>\n      <td>Vulnernable</td>\n      <td>Nature Conservation Act 2014 (ACT)</td>\n      <td>Murunung</td>\n      <td>NaN</td>\n      <td>NaN</td>\n      <td>NaN</td>\n    </tr>\n    <tr>\n      <th>15</th>\n      <td>Plant</td>\n      <td>Eucalyptus aggregata</td>\n      <td>Black Gum</td>\n      <td>species</td>\n      <td>accepted</td>\n      <td>Plantae</td>\n      <td>Charophyta</td>\n      <td>Equisetopsida</td>\n      <td>Myrtales</td>\n      <td>Myrtaceae</td>\n      <td>Vulnernable</td>\n      <td>Vulnernable</td>\n      <td>Nature Conservation Act 2014 (ACT)</td>\n      <td>NaN</td>\n      <td>NaN</td>\n      <td>NaN</td>\n      <td>NaN</td>\n    </tr>\n    <tr>\n      <th>16</th>\n      <td>Fish</td>\n      <td>Gadopsis bispinosus</td>\n      <td>Two-spined Blackfish</td>\n      <td>species</td>\n      <td>accepted</td>\n      <td>Animalia</td>\n      <td>Chordata</td>\n      <td>Actinopterygii</td>\n      <td>Perciformes</td>\n      <td>Percichthyidae</td>\n      <td>Vulnernable</td>\n      <td>Vulnernable</td>\n      <td>Nature Conservation Act 2014 (ACT)</td>\n      <td>Wagar</td>\n      <td>NaN</td>\n      <td>NaN</td>\n      <td>NaN</td>\n    </tr>\n    <tr>\n      <th>17</th>\n      <td>Plant</td>\n      <td>Gentiana baeuerlenii</td>\n      <td>Baeuerlen's Gentian</td>\n      <td>species</td>\n      <td>accepted</td>\n      <td>Plantae</td>\n      <td>Charophyta</td>\n      <td>Equisetopsida</td>\n      <td>Gentianales</td>\n      <td>Gentianaceae</td>\n      <td>Endangered</td>\n      <td>Endangered</td>\n      <td>Nature Conservation Act 2014 (ACT)</td>\n      <td>NaN</td>\n      <td>NaN</td>\n      <td>NaN</td>\n      <td>NaN</td>\n    </tr>\n    <tr>\n      <th>18</th>\n      <td>Bird</td>\n      <td>Grantiella picta</td>\n      <td>Painted Honeyeater</td>\n      <td>species</td>\n      <td>accepted</td>\n      <td>Animalia</td>\n      <td>Chordata</td>\n      <td>Aves</td>\n      <td>Passeriformes</td>\n      <td>Meliphagidae</td>\n      <td>Vulnernable</td>\n      <td>Vulnernable</td>\n      <td>Nature Conservation Act 2014 (ACT)</td>\n      <td>NaN</td>\n      <td>NaN</td>\n      <td>NaN</td>\n      <td>NaN</td>\n    </tr>\n    <tr>\n      <th>19</th>\n      <td>Bird</td>\n      <td>Hieraaetus morphnoides</td>\n      <td>Little Eagle</td>\n      <td>species</td>\n      <td>accepted</td>\n      <td>Animalia</td>\n      <td>Chordata</td>\n      <td>Aves</td>\n      <td>Falconiformes</td>\n      <td>Accipitridae</td>\n      <td>Vulnernable</td>\n      <td>Vulnernable</td>\n      <td>Nature Conservation Act 2014 (ACT)</td>\n      <td>NaN</td>\n      <td>NaN</td>\n      <td>NaN</td>\n      <td>NaN</td>\n    </tr>\n    <tr>\n      <th>20</th>\n      <td>Bird</td>\n      <td>Hirundapus caudacutus</td>\n      <td>White-throated Needletail</td>\n      <td>species</td>\n      <td>accepted</td>\n      <td>Animalia</td>\n      <td>Chordata</td>\n      <td>Aves</td>\n      <td>Apodiformes</td>\n      <td>Apodidae</td>\n      <td>Vulnernable</td>\n      <td>Vulnernable</td>\n      <td>Nature Conservation Act 2014 (ACT)</td>\n      <td>NaN</td>\n      <td>NaN</td>\n      <td>NaN</td>\n      <td>NaN</td>\n    </tr>\n    <tr>\n      <th>21</th>\n      <td>Mammal</td>\n      <td>Isoodon obesulus obesulus</td>\n      <td>Southern Brown Bandicoot</td>\n      <td>subspecies</td>\n      <td>accepted</td>\n      <td>Animalia</td>\n      <td>Chordata</td>\n      <td>Mammalia</td>\n      <td>Peramelemorphia</td>\n      <td>Peramelidae</td>\n      <td>Endangered</td>\n      <td>Endangered</td>\n      <td>Nature Conservation Act 2014 (ACT)</td>\n      <td>Mandawari</td>\n      <td>NaN</td>\n      <td>NaN</td>\n      <td>NaN</td>\n    </tr>\n    <tr>\n      <th>22</th>\n      <td>Bird</td>\n      <td>Lalage tricolor</td>\n      <td>White-winged Triller</td>\n      <td>species</td>\n      <td>accepted</td>\n      <td>Animalia</td>\n      <td>Chordata</td>\n      <td>Aves</td>\n      <td>Passeriformes</td>\n      <td>Campephagidae</td>\n      <td>Vulnernable</td>\n      <td>Vulnernable</td>\n      <td>Nature Conservation Act 2014 (ACT)</td>\n      <td>NaN</td>\n      <td>NaN</td>\n      <td>NaN</td>\n      <td>NaN</td>\n    </tr>\n    <tr>\n      <th>23</th>\n      <td>Bird</td>\n      <td>Lathamus discolor</td>\n      <td>Swift Parrot</td>\n      <td>species</td>\n      <td>accepted</td>\n      <td>Animalia</td>\n      <td>Chordata</td>\n      <td>Aves</td>\n      <td>Psittaciformes</td>\n      <td>Psittacidae</td>\n      <td>Critically Endangered</td>\n      <td>Critically Endangered</td>\n      <td>Nature Conservation Act 2014 (ACT)</td>\n      <td>NaN</td>\n      <td>NaN</td>\n      <td>NaN</td>\n      <td>NaN</td>\n    </tr>\n    <tr>\n      <th>24</th>\n      <td>Plant</td>\n      <td>Lepidium ginninderrense</td>\n      <td>Ginninderra Peppercress</td>\n      <td>species</td>\n      <td>accepted</td>\n      <td>Plantae</td>\n      <td>Charophyta</td>\n      <td>Equisetopsida</td>\n      <td>Brassicales</td>\n      <td>Brassicaceae</td>\n      <td>Endangered</td>\n      <td>Endangered</td>\n      <td>Nature Conservation Act 2014 (ACT)</td>\n      <td>NaN</td>\n      <td>NaN</td>\n      <td>NaN</td>\n      <td>NaN</td>\n    </tr>\n    <tr>\n      <th>25</th>\n      <td>Frog</td>\n      <td>Litoria aurea</td>\n      <td>Green and Golden Bell Frog</td>\n      <td>species</td>\n      <td>accepted</td>\n      <td>Animalia</td>\n      <td>Chordata</td>\n      <td>Amphibia</td>\n      <td>Anura</td>\n      <td>Hylidae</td>\n      <td>Vulnernable</td>\n      <td>Vulnernable</td>\n      <td>Nature Conservation Act 2014 (ACT)</td>\n      <td>NaN</td>\n      <td>Locally extinct</td>\n      <td>NaN</td>\n      <td>NaN</td>\n    </tr>\n    <tr>\n      <th>26</th>\n      <td>Frog</td>\n      <td>Litoria castanea</td>\n      <td>Yellow-spotted Bell Frog</td>\n      <td>species</td>\n      <td>accepted</td>\n      <td>Animalia</td>\n      <td>Chordata</td>\n      <td>Amphibia</td>\n      <td>Anura</td>\n      <td>Hylidae</td>\n      <td>Critically Endangered</td>\n      <td>Critically Endangered</td>\n      <td>Nature Conservation Act 2014 (ACT)</td>\n      <td>NaN</td>\n      <td>Locally extinct</td>\n      <td>NaN</td>\n      <td>NaN</td>\n    </tr>\n    <tr>\n      <th>27</th>\n      <td>Frog</td>\n      <td>Litoria raniformis</td>\n      <td>Southern Bell Frog</td>\n      <td>species</td>\n      <td>accepted</td>\n      <td>Animalia</td>\n      <td>Chordata</td>\n      <td>Amphibia</td>\n      <td>Anura</td>\n      <td>Hylidae</td>\n      <td>Vulnernable</td>\n      <td>Vulnernable</td>\n      <td>Nature Conservation Act 2014 (ACT)</td>\n      <td>NaN</td>\n      <td>Locally extinct</td>\n      <td>NaN</td>\n      <td>NaN</td>\n    </tr>\n    <tr>\n      <th>28</th>\n      <td>Frog</td>\n      <td>Litoria verreauxii alpina</td>\n      <td>Alpine Tree Frog</td>\n      <td>subspecies</td>\n      <td>accepted</td>\n      <td>Animalia</td>\n      <td>Chordata</td>\n      <td>Amphibia</td>\n      <td>Anura</td>\n      <td>Hylidae</td>\n      <td>Vulnernable</td>\n      <td>Vulnernable</td>\n      <td>Nature Conservation Act 2014 (ACT)</td>\n      <td>NaN</td>\n      <td>NaN</td>\n      <td>NaN</td>\n      <td>NaN</td>\n    </tr>\n    <tr>\n      <th>29</th>\n      <td>Fish</td>\n      <td>Maccullochella macquariensis</td>\n      <td>Trout Cod</td>\n      <td>species</td>\n      <td>accepted</td>\n      <td>Animalia</td>\n      <td>Chordata</td>\n      <td>Actinopterygii</td>\n      <td>Perciformes</td>\n      <td>Percichthyidae</td>\n      <td>Endangered</td>\n      <td>Endangered</td>\n      <td>Nature Conservation Act 2014 (ACT)</td>\n      <td>Gudu</td>\n      <td>NaN</td>\n      <td>NaN</td>\n      <td>NaN</td>\n    </tr>\n    <tr>\n      <th>30</th>\n      <td>Fish</td>\n      <td>Macquaria australasica</td>\n      <td>Macquarie Perch</td>\n      <td>species</td>\n      <td>accepted</td>\n      <td>Animalia</td>\n      <td>Chordata</td>\n      <td>Actinopterygii</td>\n      <td>Perciformes</td>\n      <td>Percichthyidae</td>\n      <td>Endangered</td>\n      <td>Endangered</td>\n      <td>Nature Conservation Act 2014 (ACT)</td>\n      <td>Gubay</td>\n      <td>NaN</td>\n      <td>NaN</td>\n      <td>NaN</td>\n    </tr>\n    <tr>\n      <th>31</th>\n      <td>Mammal</td>\n      <td>Mastacomys fuscus mordicus</td>\n      <td>Broad-toothed Rat</td>\n      <td>subspecies</td>\n      <td>accepted</td>\n      <td>Animalia</td>\n      <td>Chordata</td>\n      <td>Mammalia</td>\n      <td>Rodentia</td>\n      <td>Muridae</td>\n      <td>Vulnernable</td>\n      <td>Vulnernable</td>\n      <td>Nature Conservation Act 2014 (ACT)</td>\n      <td>Luda</td>\n      <td>NaN</td>\n      <td>NaN</td>\n      <td>NaN</td>\n    </tr>\n    <tr>\n      <th>32</th>\n      <td>Bird</td>\n      <td>Melanodryas cucullata cucullata</td>\n      <td>Hooded Robin</td>\n      <td>subspecies</td>\n      <td>accepted</td>\n      <td>Animalia</td>\n      <td>Chordata</td>\n      <td>Aves</td>\n      <td>Passeriformes</td>\n      <td>Petroicidae</td>\n      <td>Vulnernable</td>\n      <td>Vulnernable</td>\n      <td>Nature Conservation Act 2014 (ACT)</td>\n      <td>NaN</td>\n      <td>NaN</td>\n      <td>NaN</td>\n      <td>NaN</td>\n    </tr>\n    <tr>\n      <th>33</th>\n      <td>Plant</td>\n      <td>Muehlenbeckia tuggeranong</td>\n      <td>Tuggeranong Lignum</td>\n      <td>species</td>\n      <td>accepted</td>\n      <td>Plantae</td>\n      <td>Charophyta</td>\n      <td>Equisetopsida</td>\n      <td>Caryophyllales</td>\n      <td>Polygonaceae</td>\n      <td>Endangered</td>\n      <td>Endangered</td>\n      <td>Nature Conservation Act 2014 (ACT)</td>\n      <td>NaN</td>\n      <td>NaN</td>\n      <td>NaN</td>\n      <td>NaN</td>\n    </tr>\n    <tr>\n      <th>34</th>\n      <td>Invertebrate</td>\n      <td>Perunga ochracea</td>\n      <td>Perunga Grasshopper</td>\n      <td>species</td>\n      <td>accepted</td>\n      <td>Animalia</td>\n      <td>Arthropoda</td>\n      <td>invertibratea</td>\n      <td>Orthoptera</td>\n      <td>Acrididae</td>\n      <td>Vulnernable</td>\n      <td>Vulnernable</td>\n      <td>Nature Conservation Act 2014 (ACT)</td>\n      <td>Baaman</td>\n      <td>NaN</td>\n      <td>NaN</td>\n      <td>NaN</td>\n    </tr>\n    <tr>\n      <th>35</th>\n      <td>Mammal</td>\n      <td>Petauroides volans</td>\n      <td>Greater Glider</td>\n      <td>species</td>\n      <td>accepted</td>\n      <td>Animalia</td>\n      <td>Chordata</td>\n      <td>Mammalia</td>\n      <td>Diprotodontia</td>\n      <td>Pseudocheiridae</td>\n      <td>Vulnernable</td>\n      <td>Vulnernable</td>\n      <td>Nature Conservation Act 2014 (ACT)</td>\n      <td>Banguu</td>\n      <td>NaN</td>\n      <td>NaN</td>\n      <td>NaN</td>\n    </tr>\n    <tr>\n      <th>36</th>\n      <td>Mammal</td>\n      <td>Petrogale penicillata</td>\n      <td>Brush-tailed Rock-wallaby</td>\n      <td>species</td>\n      <td>accepted</td>\n      <td>Animalia</td>\n      <td>Chordata</td>\n      <td>Mammalia</td>\n      <td>Diprotodontia</td>\n      <td>Macropodidae</td>\n      <td>Endangered</td>\n      <td>Endangered</td>\n      <td>Nature Conservation Act 2014 (ACT)</td>\n      <td>Baray</td>\n      <td>NaN</td>\n      <td>NaN</td>\n      <td>NaN</td>\n    </tr>\n    <tr>\n      <th>37</th>\n      <td>Bird</td>\n      <td>Petroica boodang</td>\n      <td>Scarlet Robin</td>\n      <td>species</td>\n      <td>accepted</td>\n      <td>Animalia</td>\n      <td>Chordata</td>\n      <td>Aves</td>\n      <td>Passeriformes</td>\n      <td>Petroicidae</td>\n      <td>Vulnernable</td>\n      <td>Vulnernable</td>\n      <td>Nature Conservation Act 2014 (ACT)</td>\n      <td>NaN</td>\n      <td>NaN</td>\n      <td>NaN</td>\n      <td>NaN</td>\n    </tr>\n    <tr>\n      <th>38</th>\n      <td>Mammal</td>\n      <td>Phascolarctos cinereus</td>\n      <td>Koala</td>\n      <td>species</td>\n      <td>accepted</td>\n      <td>Animalia</td>\n      <td>Chordata</td>\n      <td>Mammalia</td>\n      <td>Diprotodontia</td>\n      <td>Phascolarctidae</td>\n      <td>Vulnernable</td>\n      <td>Vulnernable</td>\n      <td>Nature Conservation Act 2014 (ACT)</td>\n      <td>Gula</td>\n      <td>NaN</td>\n      <td>NaN</td>\n      <td>NaN</td>\n    </tr>\n    <tr>\n      <th>39</th>\n      <td>Bird</td>\n      <td>Polytelis swainsonii</td>\n      <td>Superb Parrot</td>\n      <td>species</td>\n      <td>accepted</td>\n      <td>Animalia</td>\n      <td>Chordata</td>\n      <td>Aves</td>\n      <td>Psittaciformes</td>\n      <td>Psittacidae</td>\n      <td>Vulnernable</td>\n      <td>Vulnernable</td>\n      <td>Nature Conservation Act 2014 (ACT)</td>\n      <td>NaN</td>\n      <td>NaN</td>\n      <td>NaN</td>\n      <td>NaN</td>\n    </tr>\n    <tr>\n      <th>40</th>\n      <td>Plant</td>\n      <td>Pomaderris pallida</td>\n      <td>Pale Pomaderris</td>\n      <td>species</td>\n      <td>accepted</td>\n      <td>Plantae</td>\n      <td>Charophyta</td>\n      <td>Equisetopsida</td>\n      <td>Rosales</td>\n      <td>Rhamnaceae</td>\n      <td>Vulnernable</td>\n      <td>Vulnernable</td>\n      <td>Nature Conservation Act 2014 (ACT)</td>\n      <td>NaN</td>\n      <td>NaN</td>\n      <td>NaN</td>\n      <td>NaN</td>\n    </tr>\n    <tr>\n      <th>41</th>\n      <td>Plant</td>\n      <td>Prasophyllum petilum</td>\n      <td>Tarengo Leek Orchid</td>\n      <td>species</td>\n      <td>accepted</td>\n      <td>Plantae</td>\n      <td>Charophyta</td>\n      <td>Equisetopsida</td>\n      <td>Asparagales</td>\n      <td>Orchidaceae</td>\n      <td>Endangered</td>\n      <td>Endangered</td>\n      <td>Nature Conservation Act 2014 (ACT)</td>\n      <td>NaN</td>\n      <td>NaN</td>\n      <td>NaN</td>\n      <td>NaN</td>\n    </tr>\n    <tr>\n      <th>42</th>\n      <td>Mammal</td>\n      <td>Pseudomys fumeus</td>\n      <td>Smoky Mouse</td>\n      <td>species</td>\n      <td>accepted</td>\n      <td>Animalia</td>\n      <td>Chordata</td>\n      <td>Mammalia</td>\n      <td>Rodentia</td>\n      <td>Muridae</td>\n      <td>Endangered</td>\n      <td>Endangered</td>\n      <td>Nature Conservation Act 2014 (ACT)</td>\n      <td>Ganimang</td>\n      <td>NaN</td>\n      <td>NaN</td>\n      <td>NaN</td>\n    </tr>\n    <tr>\n      <th>43</th>\n      <td>Mammal</td>\n      <td>Pseudomys novaehollandiae</td>\n      <td>New Holland Mouse</td>\n      <td>species</td>\n      <td>accepted</td>\n      <td>Animalia</td>\n      <td>Chordata</td>\n      <td>Mammalia</td>\n      <td>Rodentia</td>\n      <td>Muridae</td>\n      <td>Vulnernable</td>\n      <td>Vulnernable</td>\n      <td>Nature Conservation Act 2014 (ACT)</td>\n      <td>NaN</td>\n      <td>NaN</td>\n      <td>NaN</td>\n      <td>NaN</td>\n    </tr>\n    <tr>\n      <th>44</th>\n      <td>Frog</td>\n      <td>Pseudophryne pengilleyi</td>\n      <td>Northern Corroboree Frog</td>\n      <td>species</td>\n      <td>accepted</td>\n      <td>Animalia</td>\n      <td>Chordata</td>\n      <td>Amphibia</td>\n      <td>Anura</td>\n      <td>Myobatrachidae</td>\n      <td>Critically Endangered</td>\n      <td>Critically Endangered</td>\n      <td>Nature Conservation Act 2014 (ACT)</td>\n      <td>Galaangga</td>\n      <td>NaN</td>\n      <td>NaN</td>\n      <td>NaN</td>\n    </tr>\n    <tr>\n      <th>45</th>\n      <td>Mammal</td>\n      <td>Pteropus poliocephalus</td>\n      <td>Grey-headed Flying-fox</td>\n      <td>species</td>\n      <td>accepted</td>\n      <td>Animalia</td>\n      <td>Chordata</td>\n      <td>Mammalia</td>\n      <td>Chiroptera</td>\n      <td>Pteropodidae</td>\n      <td>Vulnernable</td>\n      <td>Vulnernable</td>\n      <td>Nature Conservation Act 2014 (ACT)</td>\n      <td>NaN</td>\n      <td>NaN</td>\n      <td>NaN</td>\n      <td>NaN</td>\n    </tr>\n    <tr>\n      <th>46</th>\n      <td>Plant</td>\n      <td>Pterostylis oreophila</td>\n      <td>Kiandra Greenhood</td>\n      <td>species</td>\n      <td>accepted</td>\n      <td>Plantae</td>\n      <td>Charophyta</td>\n      <td>Equisetopsida</td>\n      <td>Asparagales</td>\n      <td>Orchidaceae</td>\n      <td>Critically Endangered</td>\n      <td>Critically Endangered</td>\n      <td>Nature Conservation Act 2014 (ACT)</td>\n      <td>NaN</td>\n      <td>NaN</td>\n      <td>NaN</td>\n      <td>NaN</td>\n    </tr>\n    <tr>\n      <th>47</th>\n      <td>Bird</td>\n      <td>Rostratula australis</td>\n      <td>Australian Painted Snipe</td>\n      <td>species</td>\n      <td>accepted</td>\n      <td>Animalia</td>\n      <td>Chordata</td>\n      <td>Aves</td>\n      <td>Charadriiformes</td>\n      <td>Rostratulidae</td>\n      <td>Endangered</td>\n      <td>Endangered</td>\n      <td>Nature Conservation Act 2014 (ACT)</td>\n      <td>NaN</td>\n      <td>included in ACT Migratory Species Action Plan</td>\n      <td>NaN</td>\n      <td>NaN</td>\n    </tr>\n    <tr>\n      <th>48</th>\n      <td>Plant</td>\n      <td>Rutidosis leptorhynchoides</td>\n      <td>Button Wrinklewort</td>\n      <td>species</td>\n      <td>accepted</td>\n      <td>Plantae</td>\n      <td>Charophyta</td>\n      <td>Equisetopsida</td>\n      <td>Asterales</td>\n      <td>Asteraceae</td>\n      <td>Endangered</td>\n      <td>Endangered</td>\n      <td>Nature Conservation Act 2014 (ACT)</td>\n      <td>NaN</td>\n      <td>NaN</td>\n      <td>NaN</td>\n      <td>NaN</td>\n    </tr>\n    <tr>\n      <th>49</th>\n      <td>Plant</td>\n      <td>Swainsona recta</td>\n      <td>Small Purple Pea</td>\n      <td>species</td>\n      <td>accepted</td>\n      <td>Plantae</td>\n      <td>Charophyta</td>\n      <td>Equisetopsida</td>\n      <td>Fabales</td>\n      <td>Fabaceae</td>\n      <td>Endangered</td>\n      <td>Endangered</td>\n      <td>Nature Conservation Act 2014 (ACT)</td>\n      <td>NaN</td>\n      <td>NaN</td>\n      <td>NaN</td>\n      <td>NaN</td>\n    </tr>\n    <tr>\n      <th>50</th>\n      <td>Invertebrate</td>\n      <td>Synemon plana</td>\n      <td>Golden Sun Moth</td>\n      <td>species</td>\n      <td>accepted</td>\n      <td>Animalia</td>\n      <td>Arthropoda</td>\n      <td>invertibratea</td>\n      <td>Lepidoptera</td>\n      <td>Castniidae</td>\n      <td>Endangered</td>\n      <td>Endangered</td>\n      <td>Nature Conservation Act 2014 (ACT)</td>\n      <td>NaN</td>\n      <td>NaN</td>\n      <td>NaN</td>\n      <td>NaN</td>\n    </tr>\n    <tr>\n      <th>51</th>\n      <td>Plant</td>\n      <td>Thesium australe</td>\n      <td>Austral Toadflax</td>\n      <td>species</td>\n      <td>accepted</td>\n      <td>Plantae</td>\n      <td>Charophyta</td>\n      <td>Equisetopsida</td>\n      <td>Malpighiales</td>\n      <td>Santalaceae</td>\n      <td>Vulnernable</td>\n      <td>Vulnernable</td>\n      <td>Nature Conservation Act 2014 (ACT)</td>\n      <td>NaN</td>\n      <td>NaN</td>\n      <td>NaN</td>\n      <td>NaN</td>\n    </tr>\n    <tr>\n      <th>52</th>\n      <td>Reptile</td>\n      <td>Tympanocryptis lineata</td>\n      <td>Grassland Earless Dragon</td>\n      <td>species</td>\n      <td>accepted</td>\n      <td>Animalia</td>\n      <td>Chordata</td>\n      <td>Reptilia</td>\n      <td>Squamata</td>\n      <td>Agamidae</td>\n      <td>Endangered</td>\n      <td>Endangered</td>\n      <td>Nature Conservation Act 2014 (ACT)</td>\n      <td>Bidjiwang</td>\n      <td>Recent taxonomic changes to the species, from ...</td>\n      <td>Tympanocryptis pinguicolla</td>\n      <td>NaN</td>\n    </tr>\n    <tr>\n      <th>53</th>\n      <td>Reptile</td>\n      <td>Tympanocryptis pinguicolla</td>\n      <td>Grassland Earless Dragon</td>\n      <td>species</td>\n      <td>homotypic synonym</td>\n      <td>Animalia</td>\n      <td>Chordata</td>\n      <td>Reptilia</td>\n      <td>Squamata</td>\n      <td>Agamidae</td>\n      <td>Endangered</td>\n      <td>Endangered</td>\n      <td>Nature Conservation Act 2014 (ACT)</td>\n      <td>Bidjiwang</td>\n      <td>Homotypic synonym of Tympanocryptis lineata</td>\n      <td>Tympanocryptis lineata</td>\n      <td>Homotypic synonym of Tympanocryptis lineata</td>\n    </tr>\n  </tbody>\n</table>\n</div>"
     },
     "execution_count": 2,
     "metadata": {},
     "output_type": "execute_result"
    }
   ],
   "source": [
    "# download and save the conservation list locally\n",
    "with urllib.request.urlopen(\"https://www.data.act.gov.au/resource/9ikf-qahj.json\",context=ssl.create_default_context(cafile=certifi.where())) as url:\n",
    "    data = json.loads(url.read().decode())\n",
    "data = pd.json_normalize(data)\n",
    "data"
   ],
   "metadata": {
    "collapsed": false,
    "pycharm": {
     "name": "#%%\n"
    }
   }
  },
  {
   "cell_type": "markdown",
   "source": [
    "## Check the status values"
   ],
   "metadata": {
    "collapsed": false,
    "pycharm": {
     "name": "#%% md\n"
    }
   }
  },
  {
   "cell_type": "code",
   "execution_count": 3,
   "outputs": [
    {
     "data": {
      "text/plain": "status                 sourcestatus                     \nVulnernable            Vulnernable                          27\nEndangered             Endangered                           19\nCritically Endangered  Critically Endangered                 7\nNaN                    Regionally Conservation Dependent     1\ndtype: int64"
     },
     "execution_count": 3,
     "metadata": {},
     "output_type": "execute_result"
    }
   ],
   "source": [
    "data.groupby([\"status\",\"sourcestatus\"],dropna=False).size().sort_values(ascending=False)"
   ],
   "metadata": {
    "collapsed": false,
    "pycharm": {
     "name": "#%%\n"
    }
   }
  },
  {
   "cell_type": "code",
   "execution_count": 4,
   "outputs": [],
   "source": [
    "data['status'] = data['sourcestatus']"
   ],
   "metadata": {
    "collapsed": false,
    "pycharm": {
     "name": "#%%\n"
    }
   }
  },
  {
   "cell_type": "code",
   "execution_count": 5,
   "outputs": [
    {
     "data": {
      "text/plain": "54"
     },
     "execution_count": 5,
     "metadata": {},
     "output_type": "execute_result"
    }
   ],
   "source": [
    "len(data.index)"
   ],
   "metadata": {
    "collapsed": false,
    "pycharm": {
     "name": "#%%\n"
    }
   }
  },
  {
   "cell_type": "code",
   "execution_count": 6,
   "outputs": [],
   "source": [
    "data.to_csv(projectDir + cdataDir + 'ACT-conservation.csv',  encoding=\"UTF-8\", index=False)"
   ],
   "metadata": {
    "collapsed": false,
    "pycharm": {
     "name": "#%%\n"
    }
   }
  },
  {
   "cell_type": "markdown",
   "source": [],
   "metadata": {
    "collapsed": false,
    "pycharm": {
     "name": "#%% md\n"
    }
   }
  },
  {
   "cell_type": "markdown",
   "source": [
    "# Sensitive List"
   ],
   "metadata": {
    "collapsed": false,
    "pycharm": {
     "name": "#%% md\n"
    }
   }
  },
  {
   "cell_type": "code",
   "execution_count": 2,
   "outputs": [
    {
     "data": {
      "text/plain": "    ACTTAXA_ID category subcategory                   scientificName  \\\n0          NaN     Bird         NaN              Anthochaera phrygia   \n1          NaN     Bird         NaN           Botaurus poiciloptilus   \n2          NaN     Bird         NaN         Callocephalon fimbriatum   \n3          NaN     Bird         NaN  Calyptorhynchus lathami lathami   \n4          NaN     Bird         NaN   Climacteris picumnus victoriae   \n..         ...      ...         ...                              ...   \n198        NaN  Reptile         NaN            Aprasia parapulchella   \n199        NaN  Reptile         NaN                      Delma impar   \n200        NaN  Reptile         NaN           Tympanocryptis lineata   \n201        NaN  Reptile         NaN       Tympanocryptis pinguicolla   \n202        NaN  Reptile         NaN               Varanus rosenbergi   \n\n    scientificNameAuthorship                     vernacularName  \\\n0               (Shaw, 1794)                  Regent Honeyeater   \n1             (Wagler, 1827)               Australasian Bittern   \n2              (Grant, 1803)                 Gang-gang Cockatoo   \n3           (Temminck, 1807)              Glossy Black-cockatoo   \n4              Mathews, 1912  Brown Treecreeper (south-eastern)   \n..                       ...                                ...   \n198              Kluge, 1974            Pink-tailed Worm-lizard   \n199          (Fischer, 1882)             Striped Legless Lizard   \n200             Peters, 1863  Canberra Grassland Earless Dragon   \n201           Mitchell, 1948           Grassland Earless Dragon   \n202            Mertens, 1957                Rosenberg's Monitor   \n\n       ngunnawalName                     synonym  \\\n0                NaN                         NaN   \n1                NaN                         NaN   \n2                NaN                         NaN   \n3                NaN     Calyptorhynchus lathami   \n4                NaN        Climacteris picumnus   \n..               ...                         ...   \n198        Banburung                         NaN   \n199  Narung or Gandi                         NaN   \n200        Bidjiwang  Tympanocryptis pinguicolla   \n201              NaN                         NaN   \n202              NaN                         NaN   \n\n                                     acceptedNameUsage speciesSensitivity  \\\n0                     Anthochaera (Xanthomyza) phrygia            Extreme   \n1                               Botaurus poiciloptilus          Sensitive   \n2                             Callocephalon fimbriatum          Sensitive   \n3    Calyptorhynchus (Calyptorhynchus) lathami lathami          Sensitive   \n4         Climacteris (Climacteris) picumnus victoriae          Sensitive   \n..                                                 ...                ...   \n198                              Aprasia parapulchella          Sensitive   \n199                                        Delma impar          Sensitive   \n200                             Tympanocryptis lineata            Extreme   \n201                             Tympanocryptis lineata            Extreme   \n202                                 Varanus rosenbergi          Sensitive   \n\n     ...           order         family            genus  \\\n0    ...   Passeriformes   Meliphagidae      Anthochaera   \n1    ...   Ciconiiformes       Ardeidae         Botaurus   \n2    ...  Psittaciformes     Cacatuidae    Callocephalon   \n3    ...  Psittaciformes     Cacatuidae  Calyptorhynchus   \n4    ...   Passeriformes  Climacteridae      Climacteris   \n..   ...             ...            ...              ...   \n198  ...        Squamata    Pygopodidae          Aprasia   \n199  ...        Squamata    Pygopodidae            Delma   \n200  ...        Squamata       Agamidae   Tympanocryptis   \n201  ...        Squamata       Agamidae   Tympanocryptis   \n202  ...        Squamata      Varanidae          Varanus   \n\n                                          taxonRemarks  conservationStatusACT  \\\n0                                                  NaN  Critically Endangered   \n1                                                  NaN             Endangered   \n2                                                  NaN                    NaN   \n3             only subspecies in ACT is subsp. lathami             Vulnerable   \n4           only subspecies in ACT is subsp. victoriae             Vulnerable   \n..                                                 ...                    ...   \n198                                                NaN             Vulnerable   \n199                                                NaN             Vulnerable   \n200  Recent taxonomic changes to the species, from ...             Endangered   \n201  in the ACT, Tympanocryptis pinguicolla is a ho...             Endangered   \n202                                                NaN                    NaN   \n\n     conservationStatusAUS                     authority  \\\n0    Critically Endangered  Nature Conservation Act 2014   \n1               Endangered  Nature Conservation Act 2014   \n2               Endangered                           NaN   \n3               Vulnerable  Nature Conservation Act 2014   \n4                      NaN  Nature Conservation Act 2014   \n..                     ...                           ...   \n198             Vulnerable  Nature Conservation Act 2014   \n199             Vulnerable  Nature Conservation Act 2014   \n200             Endangered  Nature Conservation Act 2014   \n201             Endangered  Nature Conservation Act 2014   \n202                    NaN                           NaN   \n\n                statusComment lastTaxaCheck invasive  \n0                         NaN     4/10/2022      NaN  \n1       ACT Migratory Species     4/10/2022      NaN  \n2    Protected Native Species     4/10/2022      NaN  \n3                         NaN     4/10/2022      NaN  \n4                         NaN     4/10/2022      NaN  \n..                        ...           ...      ...  \n198                       NaN     4/10/2022      NaN  \n199                       NaN     4/10/2022      NaN  \n200                       NaN     4/10/2022      NaN  \n201                       NaN     4/10/2022      NaN  \n202                       NaN     4/10/2022      NaN  \n\n[203 rows x 27 columns]",
      "text/html": "<div>\n<style scoped>\n    .dataframe tbody tr th:only-of-type {\n        vertical-align: middle;\n    }\n\n    .dataframe tbody tr th {\n        vertical-align: top;\n    }\n\n    .dataframe thead th {\n        text-align: right;\n    }\n</style>\n<table border=\"1\" class=\"dataframe\">\n  <thead>\n    <tr style=\"text-align: right;\">\n      <th></th>\n      <th>ACTTAXA_ID</th>\n      <th>category</th>\n      <th>subcategory</th>\n      <th>scientificName</th>\n      <th>scientificNameAuthorship</th>\n      <th>vernacularName</th>\n      <th>ngunnawalName</th>\n      <th>synonym</th>\n      <th>acceptedNameUsage</th>\n      <th>speciesSensitivity</th>\n      <th>...</th>\n      <th>order</th>\n      <th>family</th>\n      <th>genus</th>\n      <th>taxonRemarks</th>\n      <th>conservationStatusACT</th>\n      <th>conservationStatusAUS</th>\n      <th>authority</th>\n      <th>statusComment</th>\n      <th>lastTaxaCheck</th>\n      <th>invasive</th>\n    </tr>\n  </thead>\n  <tbody>\n    <tr>\n      <th>0</th>\n      <td>NaN</td>\n      <td>Bird</td>\n      <td>NaN</td>\n      <td>Anthochaera phrygia</td>\n      <td>(Shaw, 1794)</td>\n      <td>Regent Honeyeater</td>\n      <td>NaN</td>\n      <td>NaN</td>\n      <td>Anthochaera (Xanthomyza) phrygia</td>\n      <td>Extreme</td>\n      <td>...</td>\n      <td>Passeriformes</td>\n      <td>Meliphagidae</td>\n      <td>Anthochaera</td>\n      <td>NaN</td>\n      <td>Critically Endangered</td>\n      <td>Critically Endangered</td>\n      <td>Nature Conservation Act 2014</td>\n      <td>NaN</td>\n      <td>4/10/2022</td>\n      <td>NaN</td>\n    </tr>\n    <tr>\n      <th>1</th>\n      <td>NaN</td>\n      <td>Bird</td>\n      <td>NaN</td>\n      <td>Botaurus poiciloptilus</td>\n      <td>(Wagler, 1827)</td>\n      <td>Australasian Bittern</td>\n      <td>NaN</td>\n      <td>NaN</td>\n      <td>Botaurus poiciloptilus</td>\n      <td>Sensitive</td>\n      <td>...</td>\n      <td>Ciconiiformes</td>\n      <td>Ardeidae</td>\n      <td>Botaurus</td>\n      <td>NaN</td>\n      <td>Endangered</td>\n      <td>Endangered</td>\n      <td>Nature Conservation Act 2014</td>\n      <td>ACT Migratory Species</td>\n      <td>4/10/2022</td>\n      <td>NaN</td>\n    </tr>\n    <tr>\n      <th>2</th>\n      <td>NaN</td>\n      <td>Bird</td>\n      <td>NaN</td>\n      <td>Callocephalon fimbriatum</td>\n      <td>(Grant, 1803)</td>\n      <td>Gang-gang Cockatoo</td>\n      <td>NaN</td>\n      <td>NaN</td>\n      <td>Callocephalon fimbriatum</td>\n      <td>Sensitive</td>\n      <td>...</td>\n      <td>Psittaciformes</td>\n      <td>Cacatuidae</td>\n      <td>Callocephalon</td>\n      <td>NaN</td>\n      <td>NaN</td>\n      <td>Endangered</td>\n      <td>NaN</td>\n      <td>Protected Native Species</td>\n      <td>4/10/2022</td>\n      <td>NaN</td>\n    </tr>\n    <tr>\n      <th>3</th>\n      <td>NaN</td>\n      <td>Bird</td>\n      <td>NaN</td>\n      <td>Calyptorhynchus lathami lathami</td>\n      <td>(Temminck, 1807)</td>\n      <td>Glossy Black-cockatoo</td>\n      <td>NaN</td>\n      <td>Calyptorhynchus lathami</td>\n      <td>Calyptorhynchus (Calyptorhynchus) lathami lathami</td>\n      <td>Sensitive</td>\n      <td>...</td>\n      <td>Psittaciformes</td>\n      <td>Cacatuidae</td>\n      <td>Calyptorhynchus</td>\n      <td>only subspecies in ACT is subsp. lathami</td>\n      <td>Vulnerable</td>\n      <td>Vulnerable</td>\n      <td>Nature Conservation Act 2014</td>\n      <td>NaN</td>\n      <td>4/10/2022</td>\n      <td>NaN</td>\n    </tr>\n    <tr>\n      <th>4</th>\n      <td>NaN</td>\n      <td>Bird</td>\n      <td>NaN</td>\n      <td>Climacteris picumnus victoriae</td>\n      <td>Mathews, 1912</td>\n      <td>Brown Treecreeper (south-eastern)</td>\n      <td>NaN</td>\n      <td>Climacteris picumnus</td>\n      <td>Climacteris (Climacteris) picumnus victoriae</td>\n      <td>Sensitive</td>\n      <td>...</td>\n      <td>Passeriformes</td>\n      <td>Climacteridae</td>\n      <td>Climacteris</td>\n      <td>only subspecies in ACT is subsp. victoriae</td>\n      <td>Vulnerable</td>\n      <td>NaN</td>\n      <td>Nature Conservation Act 2014</td>\n      <td>NaN</td>\n      <td>4/10/2022</td>\n      <td>NaN</td>\n    </tr>\n    <tr>\n      <th>...</th>\n      <td>...</td>\n      <td>...</td>\n      <td>...</td>\n      <td>...</td>\n      <td>...</td>\n      <td>...</td>\n      <td>...</td>\n      <td>...</td>\n      <td>...</td>\n      <td>...</td>\n      <td>...</td>\n      <td>...</td>\n      <td>...</td>\n      <td>...</td>\n      <td>...</td>\n      <td>...</td>\n      <td>...</td>\n      <td>...</td>\n      <td>...</td>\n      <td>...</td>\n      <td>...</td>\n    </tr>\n    <tr>\n      <th>198</th>\n      <td>NaN</td>\n      <td>Reptile</td>\n      <td>NaN</td>\n      <td>Aprasia parapulchella</td>\n      <td>Kluge, 1974</td>\n      <td>Pink-tailed Worm-lizard</td>\n      <td>Banburung</td>\n      <td>NaN</td>\n      <td>Aprasia parapulchella</td>\n      <td>Sensitive</td>\n      <td>...</td>\n      <td>Squamata</td>\n      <td>Pygopodidae</td>\n      <td>Aprasia</td>\n      <td>NaN</td>\n      <td>Vulnerable</td>\n      <td>Vulnerable</td>\n      <td>Nature Conservation Act 2014</td>\n      <td>NaN</td>\n      <td>4/10/2022</td>\n      <td>NaN</td>\n    </tr>\n    <tr>\n      <th>199</th>\n      <td>NaN</td>\n      <td>Reptile</td>\n      <td>NaN</td>\n      <td>Delma impar</td>\n      <td>(Fischer, 1882)</td>\n      <td>Striped Legless Lizard</td>\n      <td>Narung or Gandi</td>\n      <td>NaN</td>\n      <td>Delma impar</td>\n      <td>Sensitive</td>\n      <td>...</td>\n      <td>Squamata</td>\n      <td>Pygopodidae</td>\n      <td>Delma</td>\n      <td>NaN</td>\n      <td>Vulnerable</td>\n      <td>Vulnerable</td>\n      <td>Nature Conservation Act 2014</td>\n      <td>NaN</td>\n      <td>4/10/2022</td>\n      <td>NaN</td>\n    </tr>\n    <tr>\n      <th>200</th>\n      <td>NaN</td>\n      <td>Reptile</td>\n      <td>NaN</td>\n      <td>Tympanocryptis lineata</td>\n      <td>Peters, 1863</td>\n      <td>Canberra Grassland Earless Dragon</td>\n      <td>Bidjiwang</td>\n      <td>Tympanocryptis pinguicolla</td>\n      <td>Tympanocryptis lineata</td>\n      <td>Extreme</td>\n      <td>...</td>\n      <td>Squamata</td>\n      <td>Agamidae</td>\n      <td>Tympanocryptis</td>\n      <td>Recent taxonomic changes to the species, from ...</td>\n      <td>Endangered</td>\n      <td>Endangered</td>\n      <td>Nature Conservation Act 2014</td>\n      <td>NaN</td>\n      <td>4/10/2022</td>\n      <td>NaN</td>\n    </tr>\n    <tr>\n      <th>201</th>\n      <td>NaN</td>\n      <td>Reptile</td>\n      <td>NaN</td>\n      <td>Tympanocryptis pinguicolla</td>\n      <td>Mitchell, 1948</td>\n      <td>Grassland Earless Dragon</td>\n      <td>NaN</td>\n      <td>NaN</td>\n      <td>Tympanocryptis lineata</td>\n      <td>Extreme</td>\n      <td>...</td>\n      <td>Squamata</td>\n      <td>Agamidae</td>\n      <td>Tympanocryptis</td>\n      <td>in the ACT, Tympanocryptis pinguicolla is a ho...</td>\n      <td>Endangered</td>\n      <td>Endangered</td>\n      <td>Nature Conservation Act 2014</td>\n      <td>NaN</td>\n      <td>4/10/2022</td>\n      <td>NaN</td>\n    </tr>\n    <tr>\n      <th>202</th>\n      <td>NaN</td>\n      <td>Reptile</td>\n      <td>NaN</td>\n      <td>Varanus rosenbergi</td>\n      <td>Mertens, 1957</td>\n      <td>Rosenberg's Monitor</td>\n      <td>NaN</td>\n      <td>NaN</td>\n      <td>Varanus rosenbergi</td>\n      <td>Sensitive</td>\n      <td>...</td>\n      <td>Squamata</td>\n      <td>Varanidae</td>\n      <td>Varanus</td>\n      <td>NaN</td>\n      <td>NaN</td>\n      <td>NaN</td>\n      <td>NaN</td>\n      <td>NaN</td>\n      <td>4/10/2022</td>\n      <td>NaN</td>\n    </tr>\n  </tbody>\n</table>\n<p>203 rows × 27 columns</p>\n</div>"
     },
     "execution_count": 2,
     "metadata": {},
     "output_type": "execute_result"
    }
   ],
   "source": [
    "actsensitive = pd.read_csv(sourceDir + \"ACT_SensitiveSpecies_List_05102022.csv\", dtype=str)\n",
    "actsensitive"
   ],
   "metadata": {
    "collapsed": false,
    "pycharm": {
     "name": "#%%\n"
    }
   }
  },
  {
   "cell_type": "code",
   "execution_count": 3,
   "outputs": [
    {
     "data": {
      "text/plain": "Index(['ACTTAXA_ID', 'category', 'subcategory', 'scientificName',\n       'scientificNameAuthorship', 'vernacularName', 'ngunnawalName',\n       'synonym', 'acceptedNameUsage', 'speciesSensitivity', 'generalisation',\n       'sensitivityReason', 'taxonomicStatus', 'taxonRank', 'kingdom',\n       'phylum', 'classs', 'order', 'family', 'genus', 'taxonRemarks',\n       'conservationStatusACT', 'conservationStatusAUS', 'authority',\n       'statusComment', 'lastTaxaCheck', 'invasive'],\n      dtype='object')"
     },
     "execution_count": 3,
     "metadata": {},
     "output_type": "execute_result"
    }
   ],
   "source": [
    "actsensitive.columns"
   ],
   "metadata": {
    "collapsed": false,
    "pycharm": {
     "name": "#%%\n"
    }
   }
  },
  {
   "cell_type": "code",
   "execution_count": 4,
   "outputs": [],
   "source": [
    "# Column management\n",
    "actsensitive = actsensitive.rename(columns={\"category\": \"group\", \"subCategory\": \"subGroup\"})\n",
    "actsensitive = actsensitive.drop(['ACTTAXA_ID','lastTaxaCheck'], axis=1)"
   ],
   "metadata": {
    "collapsed": false,
    "pycharm": {
     "name": "#%%\n"
    }
   }
  },
  {
   "cell_type": "code",
   "execution_count": 5,
   "outputs": [
    {
     "data": {
      "text/plain": "Index(['group', 'subcategory', 'scientificName', 'scientificNameAuthorship',\n       'vernacularName', 'ngunnawalName', 'synonym', 'acceptedNameUsage',\n       'speciesSensitivity', 'generalisation', 'sensitivityReason',\n       'taxonomicStatus', 'taxonRank', 'kingdom', 'phylum', 'classs', 'order',\n       'family', 'genus', 'taxonRemarks', 'conservationStatusACT',\n       'conservationStatusAUS', 'authority', 'statusComment', 'invasive'],\n      dtype='object')"
     },
     "execution_count": 5,
     "metadata": {},
     "output_type": "execute_result"
    }
   ],
   "source": [
    "actsensitive.columns"
   ],
   "metadata": {
    "collapsed": false,
    "pycharm": {
     "name": "#%%\n"
    }
   }
  },
  {
   "cell_type": "code",
   "execution_count": 6,
   "outputs": [
    {
     "name": "stdout",
     "output_type": "stream",
     "text": [
      "Finished processing Sensitive\n"
     ]
    }
   ],
   "source": [
    "actsensitive.to_csv(projectDir + sdataDir + 'ACT-sensitive.csv', encoding=\"UTF-8\", index=False)\n",
    "print('Finished processing Sensitive')"
   ],
   "metadata": {
    "collapsed": false,
    "pycharm": {
     "name": "#%%\n"
    }
   }
  },
  {
   "cell_type": "markdown",
   "source": [
    "# Manual List check\n",
    "\n",
    "**Instructions**\n",
    "1. Load the lists above into the lists-test tool\n",
    "2. Check the list name matching score and the text appearance on species pages\n",
    "3. Unskip the below code and Run the reports below to compare to production. Send the changelog.csv to check. Correct any issues.\n",
    "4. Save the production list into the `historical lists` directory by uncommenting the code section below.\n",
    "5. Load the lists into production"
   ],
   "metadata": {
    "collapsed": false,
    "pycharm": {
     "name": "#%% md\n"
    }
   }
  },
  {
   "cell_type": "markdown",
   "source": [
    "### Conservation List - Download old and new and compare"
   ],
   "metadata": {
    "collapsed": false,
    "pycharm": {
     "name": "#%% md\n"
    }
   }
  },
  {
   "cell_type": "code",
   "execution_count": null,
   "outputs": [],
   "source": [
    "# %%script echo skipping # comment this line to run this code\n",
    "\n",
    "import datetime\n",
    "monthStr = datetime.datetime.now().strftime('%Y%m')\n",
    "ltype = \"C\"\n",
    "# conservation\n",
    "filename = \"ACT-conservation.csv\"\n",
    "prodListUrl = \"https://lists.ala.org.au/ws/speciesListItems/\" + \"dr649\" + \"?max=10000&includeKVP=true\"\n",
    "testListUrl = \"https://lists-test.ala.org.au/ws/speciesListItems/\" + \"dr649\" + \"?max=10000&includeKVP=true\"\n",
    "changelist = lf.get_changelist(testListUrl, prodListUrl, ltype)\n",
    "# save the lists locally\n",
    "changelist.to_csv(projectDir + \"analysis/change-log/\" + monthStr + \"-\" + filename, encoding=\"UTF-8\", index=False)\n",
    "\n",
    "changelist"
   ],
   "metadata": {
    "collapsed": false,
    "pycharm": {
     "name": "#%%\n"
    }
   }
  },
  {
   "cell_type": "markdown",
   "source": [
    "### Download Production lists to Historical Lists directory"
   ],
   "metadata": {
    "collapsed": false,
    "pycharm": {
     "name": "#%% md\n"
    }
   }
  },
  {
   "cell_type": "code",
   "execution_count": null,
   "outputs": [],
   "source": [
    "prodList = lf.download_ala_list(prodListUrl)  # save the prod list to the historical lists directory\n",
    "prodList = lf.kvp_to_columns(prodList)\n",
    "prodList.to_csv(projectDir + \"historical-lists/conservation/\" + filename, encoding=\"UTF-8\", index=False)\n",
    "print('Finished downloading historical list')"
   ],
   "metadata": {
    "collapsed": false,
    "pycharm": {
     "name": "#%%\n"
    }
   }
  },
  {
   "cell_type": "markdown",
   "source": [
    "### Sensitive List - Download old and new and compare"
   ],
   "metadata": {
    "collapsed": false,
    "pycharm": {
     "name": "#%% md\n"
    }
   }
  },
  {
   "cell_type": "code",
   "execution_count": null,
   "outputs": [],
   "source": [
    "%%script echo skipping # comment this line to run this code\n",
    "\n",
    "import datetime\n",
    "monthStr = datetime.datetime.now().strftime('%Y%m')\n",
    "ltype = \"S\"\n",
    "# conservation\n",
    "filename = \"ACT-sensitive.csv\"\n",
    "prodListUrl = \"https://lists.ala.org.au/ws/speciesListItems/\" + \"dr2627\" + \"?max=10000&includeKVP=true\"\n",
    "testListUrl = \"https://lists-test.ala.org.au/ws/speciesListItems/\" + \"dr2627\" + \"?max=10000&includeKVP=true\"\n",
    "changelist = lf.get_changelist(testListUrl, prodListUrl, ltype)\n",
    "# save the lists locally\n",
    "changelist.to_csv(projectDir + \"analysis/change-log/\" + monthStr + \"-\" + filename, encoding=\"UTF-8\", index=False)\n",
    "\n",
    "changelist"
   ],
   "metadata": {
    "collapsed": false,
    "pycharm": {
     "name": "#%%\n"
    }
   }
  },
  {
   "cell_type": "markdown",
   "source": [
    "### Download Production lists to Historical Lists directory"
   ],
   "metadata": {
    "collapsed": false,
    "pycharm": {
     "name": "#%% md\n"
    }
   }
  },
  {
   "cell_type": "code",
   "execution_count": null,
   "outputs": [],
   "source": [
    "prodList = lf.download_ala_list(prodListUrl)  # save the prod list to the historical lists directory\n",
    "prodList = lf.kvp_to_columns(prodList)\n",
    "prodList.to_csv(projectDir + \"historical-lists/sensitive/\" + filename, encoding=\"UTF-8\", index=False)\n",
    "print('Finished downloading historical list')"
   ],
   "metadata": {
    "collapsed": false,
    "pycharm": {
     "name": "#%%\n"
    }
   }
  }
 ],
 "metadata": {
  "kernelspec": {
   "display_name": "Python 3",
   "language": "python",
   "name": "python3"
  },
  "language_info": {
   "codemirror_mode": {
    "name": "ipython",
    "version": 2
   },
   "file_extension": ".py",
   "mimetype": "text/x-python",
   "name": "python",
   "nbconvert_exporter": "python",
   "pygments_lexer": "ipython2",
   "version": "2.7.6"
  }
 },
 "nbformat": 4,
 "nbformat_minor": 0
}