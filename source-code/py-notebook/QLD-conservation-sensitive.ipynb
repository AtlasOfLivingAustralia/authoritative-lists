{
 "cells": [
  {
   "cell_type": "markdown",
   "source": [
    "\n",
    "# QLD Sensitive List\n",
    "\n",
    "## List Identifiers\n",
    "* Conservation list: __[dr652](https://lists.ala.org.au/speciesListItem/list/dr652)__\n",
    "* Sensitive list: __[dr493](https://lists.ala.org.au/speciesListItem/list/dr493)__\n",
    "\n",
    "### Sources\n",
    "Queensland Nature Conservation Act 1992\n",
    "\n",
    "## Conservation\n",
    "* __[Metadata - Qld Species (Open Data Portal)](https://www.data.qld.gov.au/dataset/conservation-status-of-queensland-wildlife)__\n",
    "* __[Data](https://apps.des.qld.gov.au/data-sets/wildlife/wildnet/species.csv)__\n",
    "\n",
    "## Sensitive\n",
    "* __[Metadata - Queensland Confidential Species (Open Data Portal)](https://www.data.qld.gov.au/dataset/queensland-confidential-species)__\n",
    "* __[Data](https://apps.des.qld.gov.au/data-sets/wildlife/wildnet/qld-confidential-species.csv)__\n",
    "\n",
    "## Codes\n",
    "* __[Metadata - Qld Species codes](https://www.data.qld.gov.au/dataset/conservation-status-of-queensland-wildlife/resource/6344ea93-cadf-4e0c-9ff4-12dfb18d5f14)__\n",
    "* __[Data](https://apps.des.qld.gov.au/data-sets/wildlife/wildnet/species-status-codes.csv)__\n"
   ],
   "metadata": {
    "collapsed": false,
    "pycharm": {
     "name": "#%% md\n"
    }
   }
  },
  {
   "cell_type": "markdown",
   "source": [
    "Import libraries\n",
    "Set Project directory"
   ],
   "metadata": {
    "collapsed": false,
    "pycharm": {
     "name": "#%% md\n"
    }
   }
  },
  {
   "cell_type": "code",
   "execution_count": null,
   "outputs": [],
   "source": [
    "import pandas as pd\n",
    "import requests\n",
    "import io\n",
    "from ftfy import fix_encoding\n",
    "\n",
    "projectdir = \"/Users/oco115/PycharmProjects/authoritative-lists/\""
   ],
   "metadata": {
    "collapsed": false,
    "pycharm": {
     "name": "#%%\n"
    }
   }
  },
  {
   "cell_type": "markdown",
   "source": [
    "## Download Qld Species Status Codes"
   ],
   "metadata": {
    "collapsed": false,
    "pycharm": {
     "name": "#%% md\n"
    }
   }
  },
  {
   "cell_type": "code",
   "execution_count": null,
   "outputs": [],
   "source": [
    "codesurl =  \"https://apps.des.qld.gov.au/data-sets/wildlife/wildnet/species-status-codes.csv\"\n",
    "print(\"Downloading Qld Species Status Codes\")\n",
    "response = requests.get(codesurl)\n",
    "rtext = fix_encoding(response.text)\n",
    "speciescodes = pd.read_csv(io.StringIO(rtext))"
   ],
   "metadata": {
    "collapsed": false,
    "pycharm": {
     "name": "#%%\n"
    }
   }
  },
  {
   "cell_type": "markdown",
   "source": [
    "Firstly, some minimal changes to some Qld Nature Conservation Act codes so that they are consistent with other states"
   ],
   "metadata": {
    "collapsed": false,
    "pycharm": {
     "name": "#%% md\n"
    }
   },
   "outputs": []
  },
  {
   "cell_type": "code",
   "execution_count": null,
   "outputs": [],
   "source": [
    "ncastatuscodes = speciescodes[speciescodes['Field'] == \"NCA_status\"][['Code', 'Code_description']]\n",
    "ncastatuscodes['Code_description'] = ncastatuscodes['Code_description'].str.replace(\" wildlife\", \"\")\n",
    "ncastatuscodes.loc[\n",
    "ncastatuscodes['Code_description'] == \"Critically endangered\", 'Code_description'] = \"Critically Endangered\"\n",
    "ncastatuscodes.loc[ncastatuscodes['Code_description'] == \"Near threatened\", 'Code_description'] = \"Near Threatened\"\n",
    "endemicitycodes = speciescodes[speciescodes['Field'] == \"Endemicity\"][['Code', 'Code_description']]\n",
    "# ebpc codes\n",
    "epbccodes = speciescodes[speciescodes['Field'] == \"EPBC_status\"][['Code', 'Code_description']]"
   ],
   "metadata": {
    "collapsed": false,
    "pycharm": {
     "name": "#%%\n"
    }
   }
  },
  {
   "cell_type": "markdown",
   "source": [
    "## Process Conservation List"
   ],
   "metadata": {
    "collapsed": false,
    "pycharm": {
     "name": "#%% md\n"
    }
   }
  },
  {
   "cell_type": "markdown",
   "source": [
    "Set species list CSV file URLs"
   ],
   "metadata": {
    "collapsed": false,
    "pycharm": {
     "name": "#%% md\n"
    }
   }
  },
  {
   "cell_type": "code",
   "execution_count": null,
   "outputs": [],
   "source": [
    "listurl = \"https://apps.des.qld.gov.au/data-sets/wildlife/wildnet/species.csv\""
   ],
   "metadata": {
    "collapsed": false,
    "pycharm": {
     "name": "#%%\n"
    }
   }
  },
  {
   "cell_type": "markdown",
   "source": [
    "Files had encoding errors that require update\n",
    "Read in the Sensitive list and join to get the code descriptions.\n",
    "Change the field names to sourceStatus and status as required by the ALA’s list processing."
   ],
   "metadata": {
    "collapsed": false,
    "pycharm": {
     "name": "#%% md\n"
    }
   }
  },
  {
   "cell_type": "code",
   "execution_count": null,
   "outputs": [],
   "source": [
    "print(\"Downloading Qld Conservation List\")\n",
    "response = requests.get(listurl)\n",
    "# Remove bad encoding\n",
    "rtext = fix_encoding(response.text)"
   ],
   "metadata": {
    "collapsed": false,
    "pycharm": {
     "name": "#%%\n"
    }
   }
  },
  {
   "cell_type": "markdown",
   "source": [
    "Read in the Conservation list and join to get the code descriptions.\n",
    "Change the field names to `sourceStatus` and `status` as required by the ALA's conservation list processing."
   ],
   "metadata": {
    "collapsed": false,
    "pycharm": {
     "name": "#%% md\n"
    }
   }
  },
  {
   "cell_type": "code",
   "execution_count": null,
   "outputs": [],
   "source": [
    "conservationlist = pd.read_csv(io.StringIO(rtext))\n",
    "conservationlist = pd.merge(conservationlist,ncastatuscodes,left_on=['NCA_status'],right_on=['Code'],how=\"left\")\n",
    "conservationlist.drop(['Code'],axis=1,inplace=True)\n",
    "conservationlist = conservationlist.rename(columns={'NCA_status':'sourceStatus','Code_description':'status'})\n",
    "conservationlist"
   ],
   "metadata": {
    "collapsed": false,
    "pycharm": {
     "name": "#%%\n"
    }
   }
  },
  {
   "cell_type": "code",
   "execution_count": null,
   "outputs": [],
   "source": [
    "endemicitycodes = speciescodes[speciescodes['Field'] == \"Endemicity\"][['Code','Code_description']]\n",
    "endemicitycodes"
   ],
   "metadata": {
    "collapsed": false,
    "pycharm": {
     "name": "#%%\n"
    }
   }
  },
  {
   "cell_type": "code",
   "execution_count": null,
   "outputs": [],
   "source": [
    "endemicitycodes = speciescodes[speciescodes['Field'] == \"Endemicity\"][['Code','Code_description']]\n",
    "conservationlist = pd.merge(conservationlist,endemicitycodes,left_on=['Endemicity'],right_on=['Code'],how=\"left\")\n",
    "conservationlist.drop(['Code'],axis=1,inplace=True)\n",
    "conservationlist = conservationlist.rename(columns={'Code_description':'Endemicity_description'})\n",
    "conservationlist"
   ],
   "metadata": {
    "collapsed": false,
    "pycharm": {
     "name": "#%%\n"
    }
   }
  },
  {
   "cell_type": "markdown",
   "source": [
    "Expand EPBC codes and merge data"
   ],
   "metadata": {
    "collapsed": false,
    "pycharm": {
     "name": "#%% md\n"
    }
   }
  },
  {
   "cell_type": "code",
   "execution_count": null,
   "outputs": [],
   "source": [
    "epbccodes = speciescodes[speciescodes['Field'] == \"EPBC_status\"][['Code','Code_description']]\n",
    "conservationlist = pd.merge(conservationlist,epbccodes,left_on=['EPBC_status'],right_on=['Code'],how=\"left\")\n",
    "conservationlist.drop(['Code'],axis=1,inplace=True)\n",
    "conservationlist = conservationlist.rename(columns={'Code_description':'EPBC_status_description'})\n",
    "conservationlist.drop(['EPBC_status'],axis=1,inplace=True)"
   ],
   "metadata": {
    "collapsed": false,
    "pycharm": {
     "name": "#%%\n"
    }
   }
  },
  {
   "cell_type": "markdown",
   "source": [
    "**Species without a status?**"
   ],
   "metadata": {
    "collapsed": false,
    "pycharm": {
     "name": "#%% md\n"
    }
   }
  },
  {
   "cell_type": "code",
   "execution_count": null,
   "outputs": [],
   "source": [
    "conservationlist[conservationlist['status'].isna()].groupby([\"Class\",\"Endemicity_description\"]).size()"
   ],
   "metadata": {
    "collapsed": false,
    "pycharm": {
     "name": "#%%\n"
    }
   }
  },
  {
   "cell_type": "markdown",
   "source": [
    "**Tidy up**\n",
    "* rename fields to Darwin Core\n",
    "* remove records with no status or Least Concern\n",
    "* replace kingdom/class values with scientific names"
   ],
   "metadata": {
    "collapsed": false,
    "pycharm": {
     "name": "#%% md\n"
    }
   }
  },
  {
   "cell_type": "code",
   "execution_count": null,
   "outputs": [],
   "source": [
    "conservationlist = conservationlist.rename(columns=\n",
    "{\n",
    "    'Taxon_Id':'taxonID',\n",
    "    'Kingdom':'kingdom',\n",
    "    'Class':'class',\n",
    "    'Family':'family',\n",
    "    'Scientific_name':'scientificName',\n",
    "    'Common_name': 'vernacularName',\n",
    "    'Taxon_author':'scientificNameAuthorship',\n",
    "    'NCA_status':'sourceStatus',\n",
    "    'EPBC_status_description':'epbcStatus',\n",
    "    'Endemicity_description':'endemicity',\n",
    "    'Significant':'significant',\n",
    "    'Confidential':'confidential'\n",
    "})\n",
    "# remove empty or Least Concern status records\n",
    "conservationlist = conservationlist[((conservationlist['status'] != \"Least concern\") & (conservationlist['status'].notna()))]\n",
    "\n",
    "# Replace kingdom and class values with scientific terms\n",
    "conservationlist.loc[conservationlist[\"kingdom\"] == \"animals\", \"kingdom\"] = \"Animalia\"\n",
    "conservationlist.loc[conservationlist[\"kingdom\"] == \"plants\", \"kingdom\"] = \"Plantae\"\n",
    "conservationlist.loc[conservationlist[\"class\"] == \"land plants\", \"class\"] = \"Equisetopsida\"\n",
    "conservationlist.loc[conservationlist[\"class\"] == \"amphibians\", \"class\"] = \"Amphibia\"\n",
    "conservationlist.loc[conservationlist[\"class\"] == \"birds\", \"class\"] = \"Aves\"\n",
    "conservationlist.loc[conservationlist[\"class\"] == \"cartilaginous fishes\", \"class\"] = \"Chondrichthyes\"\n",
    "conservationlist.loc[conservationlist[\"class\"] == \"insects\", \"class\"] = \"Insecta\"\n",
    "conservationlist.loc[conservationlist[\"class\"] == \"malacostracans\", \"class\"] = \"Malacostraca\"\n",
    "conservationlist.loc[conservationlist[\"class\"] == \"mammals\", \"class\"] = \"Mammalia\"\n",
    "conservationlist.loc[conservationlist[\"class\"] == \"ray-finned fishes\", \"class\"] = \"Actinopterygii\"\n",
    "conservationlist.loc[conservationlist[\"class\"] == \"reptiles\", \"class\"] = \"Reptilia\"\n",
    "conservationlist.loc[conservationlist[\"class\"] == \"snails\", \"class\"] = \"Gastropoda\"\n",
    "conservationlist.loc[conservationlist[\"class\"] == \"arachnids\", \"class\"] = \"Arachnida\"\n",
    "conservationlist.groupby([\"kingdom\",\"class\"]).size()"
   ],
   "metadata": {
    "collapsed": false,
    "pycharm": {
     "name": "#%%\n"
    }
   }
  },
  {
   "cell_type": "markdown",
   "source": [
    "Write dataframe to CSV - UTF-8 encoding"
   ],
   "metadata": {
    "collapsed": false,
    "pycharm": {
     "name": "#%% md\n"
    }
   }
  },
  {
   "cell_type": "code",
   "execution_count": null,
   "outputs": [],
   "source": [
    "print(\"Writing to CSV\")\n",
    "conservationlist.to_csv(projectdir + \"current-lists/conservation-lists/QLD-conservation-2022-10.csv\",encoding=\"UTF-8\",index=False)\n",
    "print(\"Processing finished\")"
   ],
   "metadata": {
    "collapsed": false,
    "pycharm": {
     "name": "#%%\n"
    }
   }
  },
  {
   "cell_type": "markdown",
   "source": [
    "## Process Sensitive List"
   ],
   "metadata": {
    "collapsed": false,
    "pycharm": {
     "name": "#%% md\n"
    }
   }
  },
  {
   "cell_type": "markdown",
   "source": [
    "Set species list CSV file URLs"
   ],
   "metadata": {
    "collapsed": false,
    "pycharm": {
     "name": "#%% md\n"
    }
   }
  },
  {
   "cell_type": "code",
   "execution_count": null,
   "outputs": [],
   "source": [
    "#Species List and Species codes URLS\n",
    "listurl = \"https://apps.des.qld.gov.au/data-sets/wildlife/wildnet/qld-confidential-species.csv\"\n"
   ],
   "metadata": {
    "collapsed": false,
    "pycharm": {
     "name": "#%%\n"
    }
   }
  },
  {
   "cell_type": "markdown",
   "source": [
    "Files had encoding errors that require update\n",
    "Read in the Sensitive list and join to get the code descriptions.\n",
    "Change the field names to sourceStatus and status as required by the ALA’s list processing."
   ],
   "metadata": {
    "collapsed": false,
    "pycharm": {
     "name": "#%% md\n"
    }
   }
  },
  {
   "cell_type": "code",
   "execution_count": null,
   "outputs": [],
   "source": [
    "print(\"Downloading Qld Sensitive List\")\n",
    "response = requests.get(listurl)\n",
    "rtext = fix_encoding(response.text)\n",
    "confidentiallist = pd.read_csv(io.StringIO(rtext))\n",
    "confidentiallist"
   ],
   "metadata": {
    "collapsed": false,
    "pycharm": {
     "name": "#%%\n"
    }
   }
  },
  {
   "cell_type": "code",
   "execution_count": null,
   "outputs": [],
   "source": [
    "# nca status\n",
    "confidentiallist = pd.merge(confidentiallist,ncastatuscodes,left_on=['NCA status'],right_on=['Code'],how=\"left\")\n",
    "confidentiallist.drop(['Code'],axis=1,inplace=True)\n",
    "confidentiallist = confidentiallist.rename(columns={'NCA status':'sourceStatus','Code_description':'status'})\n",
    "# endemicity\n",
    "confidentiallist = pd.merge(confidentiallist,endemicitycodes,left_on=['Endemicity'],right_on=['Code'],how=\"left\")\n",
    "confidentiallist.drop(['Code','Endemicity'],axis=1,inplace=True)\n",
    "confidentiallist = confidentiallist.rename(columns={'Code_description':'endemicity'})\n",
    "# epbc\n",
    "confidentiallist = pd.merge(confidentiallist,epbccodes,left_on=['EPBC status'],right_on=['Code'],how=\"left\")\n",
    "confidentiallist.drop(['Code','EPBC status'],axis=1,inplace=True)\n",
    "confidentiallist = confidentiallist.rename(columns={'Code_description':'epbcStatus'})\n",
    "# rename fields\n",
    "confidentiallist = confidentiallist.rename(columns=\n",
    "{\n",
    "    'Taxon Id':'taxonID',\n",
    "    'Kingdom':'kingdom',\n",
    "    'Class':'class',\n",
    "    'Family':'family',\n",
    "    'Scientific name':'scientificName',\n",
    "    'Common name': 'vernacularName',\n",
    "    'Taxon author':'scientificNameAuthorship',\n",
    "    'Confidential':'confidential',\n",
    "    'Significant':'significant'\n",
    "})\n",
    "confidentiallist"
   ],
   "metadata": {
    "collapsed": false,
    "pycharm": {
     "name": "#%%\n"
    }
   }
  },
  {
   "cell_type": "markdown",
   "source": [
    "Replace kingdom and class values with scientific terms"
   ],
   "metadata": {
    "collapsed": false,
    "pycharm": {
     "name": "#%% md\n"
    }
   }
  },
  {
   "cell_type": "code",
   "execution_count": null,
   "outputs": [],
   "source": [
    "confidentiallist.groupby([\"kingdom\",\"class\"]).size()\n",
    "\n",
    "confidentiallist.loc[confidentiallist[\"kingdom\"] == \"animals\", \"kingdom\"] = \"Animalia\"\n",
    "confidentiallist.loc[confidentiallist[\"kingdom\"] == \"plants\", \"kingdom\"] = \"Plantae\"\n",
    "confidentiallist.loc[confidentiallist[\"class\"] == \"land plants\", \"class\"] = \"Equisetopsida\"\n",
    "confidentiallist.loc[confidentiallist[\"class\"] == \"amphibians\", \"class\"] = \"Amphibia\"\n",
    "confidentiallist.loc[confidentiallist[\"class\"] == \"birds\", \"class\"] = \"Aves\"\n",
    "confidentiallist.loc[confidentiallist[\"class\"] == \"cartilaginous fishes\", \"class\"] = \"Chondrichthyes\"\n",
    "confidentiallist.loc[confidentiallist[\"class\"] == \"insects\", \"class\"] = \"Insecta\"\n",
    "confidentiallist.loc[confidentiallist[\"class\"] == \"malacostracans\", \"class\"] = \"Malacostraca\"\n",
    "confidentiallist.loc[confidentiallist[\"class\"] == \"mammals\", \"class\"] = \"Mammalia\"\n",
    "confidentiallist.loc[confidentiallist[\"class\"] == \"ray-finned fishes\", \"class\"] = \"Actinopterygii\"\n",
    "confidentiallist.loc[confidentiallist[\"class\"] == \"reptiles\", \"class\"] = \"Reptilia\"\n",
    "confidentiallist.loc[confidentiallist[\"class\"] == \"snails\", \"class\"] = \"Gastropoda\"\n",
    "confidentiallist.loc[confidentiallist[\"class\"] == \"arachnids\", \"class\"] = \"Arachnida\"\n",
    "\n",
    "confidentiallist.groupby([\"kingdom\",\"class\"]).size()"
   ],
   "metadata": {
    "collapsed": false,
    "pycharm": {
     "name": "#%%\n"
    }
   }
  },
  {
   "cell_type": "markdown",
   "source": [
    "Write dataframe to CSV - UTF-8 encoding"
   ],
   "metadata": {
    "collapsed": false,
    "pycharm": {
     "name": "#%% md\n"
    }
   }
  },
  {
   "cell_type": "code",
   "execution_count": null,
   "outputs": [],
   "source": [
    "#Write to CSV\n",
    "print(\"Writing to CSV\")\n",
    "confidentiallist.to_csv(projectdir + \"current-lists/sensitive-lists/QLD-sensitive-2022-10.csv\",encoding=\"UTF-8\",index=False)\n",
    "print(\"Processing finished\")"
   ],
   "metadata": {
    "collapsed": false,
    "pycharm": {
     "name": "#%%\n"
    }
   }
  },
  {
   "cell_type": "markdown",
   "source": [],
   "metadata": {
    "collapsed": false,
    "pycharm": {
     "name": "#%% md\n"
    }
   }
  }
 ],
 "metadata": {
  "kernelspec": {
   "display_name": "Python 3",
   "language": "python",
   "name": "python3"
  },
  "language_info": {
   "codemirror_mode": {
    "name": "ipython",
    "version": 2
   },
   "file_extension": ".py",
   "mimetype": "text/x-python",
   "name": "python",
   "nbconvert_exporter": "python",
   "pygments_lexer": "ipython2",
   "version": "2.7.6"
  }
 },
 "nbformat": 4,
 "nbformat_minor": 0
}