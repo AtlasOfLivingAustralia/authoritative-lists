{
 "cells": [
  {
   "cell_type": "markdown",
   "source": [
    "# QLD Conservation Status and Sensitive Species Lists\n",
    "\n",
    "This notebook downloads the Qld lists from the [Qld Government Open Data Portal](https://data.qld.gov.au) and formats them in Darwin Core for ingestion into the ALA Lists tool.\n",
    "It will save original lists to the `source-data/QLD` directory, process the lists and save them to `current-lists`.\n",
    "\n",
    "\n",
    "## Lists in the ALA Species List tool\n",
    "* Conservation list: __[dr652](https://lists.ala.org.au/speciesListItem/list/dr652)__ ([dr652 in test](https://lists-test.ala.org.au/speciesListItem/list/dr652))\n",
    "* Sensitive list: __[dr493](https://lists.ala.org.au/speciesListItem/list/dr493)__ ([dr18404 in test](https://lists-test.ala.org.au/speciesListItem/list/dr18404))\n",
    "* Collection: __[dr652](https://collections.ala.org.au/public/show/dr652)__  __[dr493 in test](https://collections.ala.org.au/public/show/dr493)__\n",
    "\n",
    "## Source Data\n",
    "Queensland Nature Conservation Act 1992\n",
    "\n",
    "* __[Conservation](https://apps.des.qld.gov.au/data-sets/wildlife/wildnet/species.csv)__\n",
    "* __[Sensitive](https://apps.des.qld.gov.au/data-sets/wildlife/wildnet/qld-confidential-species.csv)__\n",
    "* __[Species Codes](https://apps.des.qld.gov.au/data-sets/wildlife/wildnet/species-status-codes.csv)__\n",
    "\n",
    "**Metadata Description**\n",
    "\n",
    "**Conservation:** The list of taxa from the Department of Environment and Science’s WildNet database with their classification codes under the Nature Conservation Act 1992: Extinct (EX), Extinct in the wild (PE), Critically Endangered (CR), Endangered (E), Vulnerable (V), Near threatened (NT, Least concern (C), Special least concern (SL) and International (I). It is published weekly as the Conservation status of Queensland wildlife dataset in the Queensland Government Data portal. Learn more about the classifications used by the Department of Environment and Science from Listing and changing the conservation status of Queensland species.\n",
    "\n",
    "**Sensitive:** A list of confidential species for Queensland or \"sensitive species\" supplied directly by the Queensland Department of Environment and Science. It is published weekly as the Queensland Confidential Species dataset in the Queensland Government Data portal. The Atlas of Living Australia generalises all latitude and longitude values in occurrence records of sensitive species in Queensland to one decimal place. This rule is applied to all Queensland occurrence records regardless of source.\n",
    "\n",
    "**Metadata URL**\n",
    "* Qld Species (Open Data Portal) https://www.data.qld.gov.au/dataset/conservation-status-of-queensland-wildlife\n",
    "* Queensland Confidential Species (Open Data Portal) https://www.data.qld.gov.au/dataset/queensland-confidential-species\n",
    "* Qld Species codes https://www.data.qld.gov.au/dataset/conservation-status-of-queensland-wildlife/resource/6344ea93-cadf-4e0c-9ff4-12dfb18d5f14"
   ],
   "metadata": {
    "collapsed": false,
    "pycharm": {
     "name": "#%% md\n"
    }
   }
  },
  {
   "cell_type": "markdown",
   "source": [],
   "metadata": {
    "collapsed": false,
    "pycharm": {
     "name": "#%% md\n"
    }
   }
  },
  {
   "cell_type": "markdown",
   "source": [
    "\n",
    "# Setup\n",
    "* Import libraries\n",
    "* Set Project directory\n",
    "* Set URLs"
   ],
   "metadata": {
    "collapsed": false,
    "pycharm": {
     "name": "#%% md\n"
    }
   }
  },
  {
   "cell_type": "code",
   "execution_count": 1,
   "outputs": [],
   "source": [
    "import datetime\n",
    "\n",
    "import pandas as pd\n",
    "import requests\n",
    "import io\n",
    "from ftfy import fix_encoding\n",
    "import urllib.request, json\n",
    "import certifi\n",
    "import ssl\n",
    "import os\n",
    "import sys\n",
    "\n",
    "projectDir = \"/Users/oco115/PycharmProjects/authoritative-lists/\"\n",
    "# projectDir = \"/Users/new330/IdeaProjects/authoritative-lists/\"\n",
    "sys.path.append(os.path.abspath(projectDir + \"source-code/includes\"))\n",
    "import list_functions as lf\n",
    "\n",
    "sourceDataDir = projectDir + \"source-data/QLD/\"\n",
    "processedDataDir = projectDir + \"current-lists/\"\n",
    "\n",
    "codesurl =  \"https://apps.des.qld.gov.au/data-sets/wildlife/wildnet/species-status-codes.csv\"\n",
    "listurl = \"https://apps.des.qld.gov.au/data-sets/wildlife/wildnet/species.csv\"\n",
    "confidentiallisturl = \"https://apps.des.qld.gov.au/data-sets/wildlife/wildnet/qld-confidential-species.csv\""
   ],
   "metadata": {
    "collapsed": false,
    "pycharm": {
     "name": "#%%\n"
    }
   }
  },
  {
   "cell_type": "markdown",
   "source": [
    "## Download the raw files from data.qld.gov.au\n",
    "... save locally"
   ],
   "metadata": {
    "collapsed": false,
    "pycharm": {
     "name": "#%% md\n"
    }
   }
  },
  {
   "cell_type": "code",
   "execution_count": 2,
   "outputs": [],
   "source": [
    "# %%script echo skipping # comment this line to download dataset from API\n",
    "\n",
    "response = requests.get(codesurl)\n",
    "rtext = fix_encoding(response.text)\n",
    "speciescodes = pd.read_csv(io.StringIO(rtext))\n",
    "speciescodes.to_csv(sourceDataDir + \"species-status-codes.csv\")\n",
    "\n",
    "response = requests.get(listurl)\n",
    "rtext = fix_encoding(response.text)\n",
    "conservationlist = pd.read_csv(io.StringIO(rtext))\n",
    "conservationlist.to_csv(sourceDataDir + \"species.csv\")\n",
    "\n",
    "response = requests.get(confidentiallisturl)\n",
    "rtext = fix_encoding(response.text)\n",
    "confidentiallist = pd.read_csv(io.StringIO(rtext))\n",
    "confidentiallist.to_csv(sourceDataDir + \"qld-confidential-species.csv\")"
   ],
   "metadata": {
    "collapsed": false,
    "pycharm": {
     "name": "#%%\n"
    }
   }
  },
  {
   "cell_type": "markdown",
   "source": [
    "## Standardise Status Codes\n",
    "Some minimal changes to some Qld Nature Conservation Act codes so that they are consistent with other states"
   ],
   "metadata": {
    "collapsed": false,
    "pycharm": {
     "name": "#%% md\n"
    }
   }
  },
  {
   "cell_type": "code",
   "execution_count": 3,
   "outputs": [
    {
     "data": {
      "text/plain": "   Code       Code_description\n17    C          Least concern\n18   CR  Critically Endangered\n19    E             Endangered\n20   EX                Extinct\n21    I          International\n22   NT        Near Threatened\n23   PE    Extinct in the wild\n24   SL  Special least concern\n25    V             Vulnerable",
      "text/html": "<div>\n<style scoped>\n    .dataframe tbody tr th:only-of-type {\n        vertical-align: middle;\n    }\n\n    .dataframe tbody tr th {\n        vertical-align: top;\n    }\n\n    .dataframe thead th {\n        text-align: right;\n    }\n</style>\n<table border=\"1\" class=\"dataframe\">\n  <thead>\n    <tr style=\"text-align: right;\">\n      <th></th>\n      <th>Code</th>\n      <th>Code_description</th>\n    </tr>\n  </thead>\n  <tbody>\n    <tr>\n      <th>17</th>\n      <td>C</td>\n      <td>Least concern</td>\n    </tr>\n    <tr>\n      <th>18</th>\n      <td>CR</td>\n      <td>Critically Endangered</td>\n    </tr>\n    <tr>\n      <th>19</th>\n      <td>E</td>\n      <td>Endangered</td>\n    </tr>\n    <tr>\n      <th>20</th>\n      <td>EX</td>\n      <td>Extinct</td>\n    </tr>\n    <tr>\n      <th>21</th>\n      <td>I</td>\n      <td>International</td>\n    </tr>\n    <tr>\n      <th>22</th>\n      <td>NT</td>\n      <td>Near Threatened</td>\n    </tr>\n    <tr>\n      <th>23</th>\n      <td>PE</td>\n      <td>Extinct in the wild</td>\n    </tr>\n    <tr>\n      <th>24</th>\n      <td>SL</td>\n      <td>Special least concern</td>\n    </tr>\n    <tr>\n      <th>25</th>\n      <td>V</td>\n      <td>Vulnerable</td>\n    </tr>\n  </tbody>\n</table>\n</div>"
     },
     "execution_count": 3,
     "metadata": {},
     "output_type": "execute_result"
    }
   ],
   "source": [
    "speciescodes = pd.read_csv(sourceDataDir + \"species-status-codes.csv\")\n",
    "ncastatuscodes = speciescodes[speciescodes['Field'] == \"NCA_status\"][['Code', 'Code_description']]\n",
    "ncastatuscodes['Code_description'] = ncastatuscodes['Code_description'].str.replace(\" wildlife\", \"\")\n",
    "ncastatuscodes.loc[\n",
    "    ncastatuscodes['Code_description'] == \"Critically endangered\", 'Code_description'] = \"Critically Endangered\"\n",
    "ncastatuscodes.loc[ncastatuscodes['Code_description'] == \"Near threatened\", 'Code_description'] = \"Near Threatened\"\n",
    "endemicitycodes = speciescodes[speciescodes['Field'] == \"Endemicity\"][['Code', 'Code_description']]\n",
    "# ebpc codes\n",
    "epbccodes = speciescodes[speciescodes['Field'] == \"EPBC_status\"][['Code', 'Code_description']]\n",
    "ncastatuscodes"
   ],
   "metadata": {
    "collapsed": false,
    "pycharm": {
     "name": "#%%\n"
    }
   }
  },
  {
   "cell_type": "markdown",
   "source": [
    "## Conservation List\n",
    "* Read in the Conservation list\n",
    "* Join to the codes to expand the code descriptions.\n",
    "* Change the field names to `sourceStatus` and `status` as required by the ALA's conservation list processing.\n",
    "* Remove **Least concern** and no status\n",
    "* Expand the endemicity and epbc status codes"
   ],
   "metadata": {
    "collapsed": false,
    "pycharm": {
     "name": "#%% md\n"
    }
   }
  },
  {
   "cell_type": "code",
   "execution_count": 4,
   "outputs": [
    {
     "data": {
      "text/plain": "      Taxon_Id  Kingdom        Class           Family        Scientific_name  \\\n0          706  animals   amphibians  Limnodynastidae        Adelotus brevis   \n1          687  animals   amphibians  Limnodynastidae   Philoria kundagungan   \n2          686  animals   amphibians   Myobatrachidae         Crinia tinnula   \n3          675  animals   amphibians   Myobatrachidae       Mixophyes fleayi   \n4          676  animals   amphibians   Myobatrachidae     Mixophyes iteratus   \n...        ...      ...          ...              ...                    ...   \n2239      6482   plants  land plants        Zamiaceae     Macrozamia viridis   \n2240      8948   plants  land plants    Zingiberaceae       Alpinia hylandii   \n2241      8949   plants  land plants    Zingiberaceae  Amomum queenslandicum   \n2242     12434   plants  land plants    Zingiberaceae       Globba marantina   \n2243     14130   plants  land plants      Zosteraceae     Zostera capricorni   \n\n                      Common_name             Taxon_author sourceStatus  \\\n0                     tusked frog          (Günther, 1863)            V   \n1     red-and-yellow mountainfrog  (Ingram & Corben, 1975)            E   \n2                  wallum froglet   Straughan & Main, 1966            V   \n3             Fleay's barred frog    Corben & Ingram, 1987            E   \n4               giant barred frog          Straughan, 1968            V   \n...                           ...                      ...          ...   \n2239                          NaN   D.L.Jones & P.I.Forst.            E   \n2240                          NaN                  R.M.Sm.           NT   \n2241                          NaN                  R.M.Sm.            V   \n2242                          NaN                       L.            V   \n2243                     eelgrass                    Asch.           SL   \n\n     Significant Confidential                 status          Endemicity  \\\n0              Y            N             Vulnerable       Intranational   \n1              Y            Y             Endangered       Intranational   \n2              Y            N             Vulnerable       Intranational   \n3              Y            Y             Endangered       Intranational   \n4              Y            Y             Vulnerable       Intranational   \n...          ...          ...                    ...                 ...   \n2239           Y            Y             Endangered       Intranational   \n2240           Y            N        Near Threatened  Queensland Endemic   \n2241           Y            N             Vulnerable  Queensland Endemic   \n2242           Y            N             Vulnerable    Regional Endemic   \n2243           Y            N  Special least concern       Intranational   \n\n     EPBC Status  \n0            NaN  \n1     Endangered  \n2            NaN  \n3     Endangered  \n4     Vulnerable  \n...          ...  \n2239         NaN  \n2240         NaN  \n2241         NaN  \n2242         NaN  \n2243         NaN  \n\n[2244 rows x 13 columns]",
      "text/html": "<div>\n<style scoped>\n    .dataframe tbody tr th:only-of-type {\n        vertical-align: middle;\n    }\n\n    .dataframe tbody tr th {\n        vertical-align: top;\n    }\n\n    .dataframe thead th {\n        text-align: right;\n    }\n</style>\n<table border=\"1\" class=\"dataframe\">\n  <thead>\n    <tr style=\"text-align: right;\">\n      <th></th>\n      <th>Taxon_Id</th>\n      <th>Kingdom</th>\n      <th>Class</th>\n      <th>Family</th>\n      <th>Scientific_name</th>\n      <th>Common_name</th>\n      <th>Taxon_author</th>\n      <th>sourceStatus</th>\n      <th>Significant</th>\n      <th>Confidential</th>\n      <th>status</th>\n      <th>Endemicity</th>\n      <th>EPBC Status</th>\n    </tr>\n  </thead>\n  <tbody>\n    <tr>\n      <th>0</th>\n      <td>706</td>\n      <td>animals</td>\n      <td>amphibians</td>\n      <td>Limnodynastidae</td>\n      <td>Adelotus brevis</td>\n      <td>tusked frog</td>\n      <td>(Günther, 1863)</td>\n      <td>V</td>\n      <td>Y</td>\n      <td>N</td>\n      <td>Vulnerable</td>\n      <td>Intranational</td>\n      <td>NaN</td>\n    </tr>\n    <tr>\n      <th>1</th>\n      <td>687</td>\n      <td>animals</td>\n      <td>amphibians</td>\n      <td>Limnodynastidae</td>\n      <td>Philoria kundagungan</td>\n      <td>red-and-yellow mountainfrog</td>\n      <td>(Ingram &amp; Corben, 1975)</td>\n      <td>E</td>\n      <td>Y</td>\n      <td>Y</td>\n      <td>Endangered</td>\n      <td>Intranational</td>\n      <td>Endangered</td>\n    </tr>\n    <tr>\n      <th>2</th>\n      <td>686</td>\n      <td>animals</td>\n      <td>amphibians</td>\n      <td>Myobatrachidae</td>\n      <td>Crinia tinnula</td>\n      <td>wallum froglet</td>\n      <td>Straughan &amp; Main, 1966</td>\n      <td>V</td>\n      <td>Y</td>\n      <td>N</td>\n      <td>Vulnerable</td>\n      <td>Intranational</td>\n      <td>NaN</td>\n    </tr>\n    <tr>\n      <th>3</th>\n      <td>675</td>\n      <td>animals</td>\n      <td>amphibians</td>\n      <td>Myobatrachidae</td>\n      <td>Mixophyes fleayi</td>\n      <td>Fleay's barred frog</td>\n      <td>Corben &amp; Ingram, 1987</td>\n      <td>E</td>\n      <td>Y</td>\n      <td>Y</td>\n      <td>Endangered</td>\n      <td>Intranational</td>\n      <td>Endangered</td>\n    </tr>\n    <tr>\n      <th>4</th>\n      <td>676</td>\n      <td>animals</td>\n      <td>amphibians</td>\n      <td>Myobatrachidae</td>\n      <td>Mixophyes iteratus</td>\n      <td>giant barred frog</td>\n      <td>Straughan, 1968</td>\n      <td>V</td>\n      <td>Y</td>\n      <td>Y</td>\n      <td>Vulnerable</td>\n      <td>Intranational</td>\n      <td>Vulnerable</td>\n    </tr>\n    <tr>\n      <th>...</th>\n      <td>...</td>\n      <td>...</td>\n      <td>...</td>\n      <td>...</td>\n      <td>...</td>\n      <td>...</td>\n      <td>...</td>\n      <td>...</td>\n      <td>...</td>\n      <td>...</td>\n      <td>...</td>\n      <td>...</td>\n      <td>...</td>\n    </tr>\n    <tr>\n      <th>2239</th>\n      <td>6482</td>\n      <td>plants</td>\n      <td>land plants</td>\n      <td>Zamiaceae</td>\n      <td>Macrozamia viridis</td>\n      <td>NaN</td>\n      <td>D.L.Jones &amp; P.I.Forst.</td>\n      <td>E</td>\n      <td>Y</td>\n      <td>Y</td>\n      <td>Endangered</td>\n      <td>Intranational</td>\n      <td>NaN</td>\n    </tr>\n    <tr>\n      <th>2240</th>\n      <td>8948</td>\n      <td>plants</td>\n      <td>land plants</td>\n      <td>Zingiberaceae</td>\n      <td>Alpinia hylandii</td>\n      <td>NaN</td>\n      <td>R.M.Sm.</td>\n      <td>NT</td>\n      <td>Y</td>\n      <td>N</td>\n      <td>Near Threatened</td>\n      <td>Queensland Endemic</td>\n      <td>NaN</td>\n    </tr>\n    <tr>\n      <th>2241</th>\n      <td>8949</td>\n      <td>plants</td>\n      <td>land plants</td>\n      <td>Zingiberaceae</td>\n      <td>Amomum queenslandicum</td>\n      <td>NaN</td>\n      <td>R.M.Sm.</td>\n      <td>V</td>\n      <td>Y</td>\n      <td>N</td>\n      <td>Vulnerable</td>\n      <td>Queensland Endemic</td>\n      <td>NaN</td>\n    </tr>\n    <tr>\n      <th>2242</th>\n      <td>12434</td>\n      <td>plants</td>\n      <td>land plants</td>\n      <td>Zingiberaceae</td>\n      <td>Globba marantina</td>\n      <td>NaN</td>\n      <td>L.</td>\n      <td>V</td>\n      <td>Y</td>\n      <td>N</td>\n      <td>Vulnerable</td>\n      <td>Regional Endemic</td>\n      <td>NaN</td>\n    </tr>\n    <tr>\n      <th>2243</th>\n      <td>14130</td>\n      <td>plants</td>\n      <td>land plants</td>\n      <td>Zosteraceae</td>\n      <td>Zostera capricorni</td>\n      <td>eelgrass</td>\n      <td>Asch.</td>\n      <td>SL</td>\n      <td>Y</td>\n      <td>N</td>\n      <td>Special least concern</td>\n      <td>Intranational</td>\n      <td>NaN</td>\n    </tr>\n  </tbody>\n</table>\n<p>2244 rows × 13 columns</p>\n</div>"
     },
     "execution_count": 4,
     "metadata": {},
     "output_type": "execute_result"
    }
   ],
   "source": [
    "conservationlist = pd.read_csv(sourceDataDir + \"species.csv\")\n",
    "conservationlist = pd.merge(conservationlist,ncastatuscodes,left_on=['NCA_status'],right_on=['Code'],how=\"left\")\n",
    "conservationlist.drop(['Code'],axis=1,inplace=True)\n",
    "conservationlist = conservationlist.rename(columns={'NCA_status':'sourceStatus','Code_description':'status'})\n",
    "\n",
    "# remove empty or Least Concern status records\n",
    "conservationlist = conservationlist[((conservationlist['status'] != \"Least concern\") & (conservationlist['status'].notna()))]\n",
    "\n",
    "# expand endemicity\n",
    "endemicitycodes = speciescodes[speciescodes['Field'] == \"Endemicity\"][['Code', 'Code_description']]\n",
    "conservationlist = pd.merge(conservationlist, endemicitycodes, left_on=['Endemicity'], right_on=['Code'], how=\"left\")\n",
    "conservationlist.drop(['Code','Endemicity'], axis=1, inplace=True)\n",
    "conservationlist = conservationlist.rename(columns={'Code_description': 'Endemicity'})\n",
    "\n",
    "# expand epbc\n",
    "epbccodes = speciescodes[speciescodes['Field'] == \"EPBC_status\"][['Code','Code_description']]\n",
    "conservationlist = pd.merge(conservationlist,epbccodes,left_on=['EPBC_status'],right_on=['Code'],how=\"left\")\n",
    "conservationlist.drop(['Code','EPBC_status'],axis=1,inplace=True)\n",
    "conservationlist = conservationlist.rename(columns={'Code_description':'EPBC Status'})\n",
    "#conservationlist.drop(['EPBC_status'],axis=1,inplace=True)\n",
    "conservationlist.drop(['Unnamed: 0'],axis=1,inplace=True)\n",
    "conservationlist"
   ],
   "metadata": {
    "collapsed": false,
    "pycharm": {
     "name": "#%%\n"
    }
   }
  },
  {
   "cell_type": "markdown",
   "source": [
    "**Tidy up**\n",
    "* rename fields to Darwin Core\n",
    "* replace kingdom/class values with scientific names"
   ],
   "metadata": {
    "collapsed": false,
    "pycharm": {
     "name": "#%% md\n"
    }
   }
  },
  {
   "cell_type": "code",
   "execution_count": 5,
   "outputs": [
    {
     "data": {
      "text/plain": "      taxonID   kingdom          class           family  \\\n0         706  Animalia       Amphibia  Limnodynastidae   \n1         687  Animalia       Amphibia  Limnodynastidae   \n2         686  Animalia       Amphibia   Myobatrachidae   \n3         675  Animalia       Amphibia   Myobatrachidae   \n4         676  Animalia       Amphibia   Myobatrachidae   \n...       ...       ...            ...              ...   \n2239     6482   Plantae  Equisetopsida        Zamiaceae   \n2240     8948   Plantae  Equisetopsida    Zingiberaceae   \n2241     8949   Plantae  Equisetopsida    Zingiberaceae   \n2242    12434   Plantae  Equisetopsida    Zingiberaceae   \n2243    14130   Plantae  Equisetopsida      Zosteraceae   \n\n             scientificName               vernacularName  \\\n0           Adelotus brevis                  tusked frog   \n1      Philoria kundagungan  red-and-yellow mountainfrog   \n2            Crinia tinnula               wallum froglet   \n3          Mixophyes fleayi          Fleay's barred frog   \n4        Mixophyes iteratus            giant barred frog   \n...                     ...                          ...   \n2239     Macrozamia viridis                          NaN   \n2240       Alpinia hylandii                          NaN   \n2241  Amomum queenslandicum                          NaN   \n2242       Globba marantina                          NaN   \n2243     Zostera capricorni                     eelgrass   \n\n     scientificNameAuthorship sourceStatus Significant Confidential  \\\n0             (Günther, 1863)            V           Y            N   \n1     (Ingram & Corben, 1975)            E           Y            Y   \n2      Straughan & Main, 1966            V           Y            N   \n3       Corben & Ingram, 1987            E           Y            Y   \n4             Straughan, 1968            V           Y            Y   \n...                       ...          ...         ...          ...   \n2239   D.L.Jones & P.I.Forst.            E           Y            Y   \n2240                  R.M.Sm.           NT           Y            N   \n2241                  R.M.Sm.            V           Y            N   \n2242                       L.            V           Y            N   \n2243                    Asch.           SL           Y            N   \n\n                     status          Endemicity EPBC Status  \n0                Vulnerable       Intranational         NaN  \n1                Endangered       Intranational  Endangered  \n2                Vulnerable       Intranational         NaN  \n3                Endangered       Intranational  Endangered  \n4                Vulnerable       Intranational  Vulnerable  \n...                     ...                 ...         ...  \n2239             Endangered       Intranational         NaN  \n2240        Near Threatened  Queensland Endemic         NaN  \n2241             Vulnerable  Queensland Endemic         NaN  \n2242             Vulnerable    Regional Endemic         NaN  \n2243  Special least concern       Intranational         NaN  \n\n[2244 rows x 13 columns]",
      "text/html": "<div>\n<style scoped>\n    .dataframe tbody tr th:only-of-type {\n        vertical-align: middle;\n    }\n\n    .dataframe tbody tr th {\n        vertical-align: top;\n    }\n\n    .dataframe thead th {\n        text-align: right;\n    }\n</style>\n<table border=\"1\" class=\"dataframe\">\n  <thead>\n    <tr style=\"text-align: right;\">\n      <th></th>\n      <th>taxonID</th>\n      <th>kingdom</th>\n      <th>class</th>\n      <th>family</th>\n      <th>scientificName</th>\n      <th>vernacularName</th>\n      <th>scientificNameAuthorship</th>\n      <th>sourceStatus</th>\n      <th>Significant</th>\n      <th>Confidential</th>\n      <th>status</th>\n      <th>Endemicity</th>\n      <th>EPBC Status</th>\n    </tr>\n  </thead>\n  <tbody>\n    <tr>\n      <th>0</th>\n      <td>706</td>\n      <td>Animalia</td>\n      <td>Amphibia</td>\n      <td>Limnodynastidae</td>\n      <td>Adelotus brevis</td>\n      <td>tusked frog</td>\n      <td>(Günther, 1863)</td>\n      <td>V</td>\n      <td>Y</td>\n      <td>N</td>\n      <td>Vulnerable</td>\n      <td>Intranational</td>\n      <td>NaN</td>\n    </tr>\n    <tr>\n      <th>1</th>\n      <td>687</td>\n      <td>Animalia</td>\n      <td>Amphibia</td>\n      <td>Limnodynastidae</td>\n      <td>Philoria kundagungan</td>\n      <td>red-and-yellow mountainfrog</td>\n      <td>(Ingram &amp; Corben, 1975)</td>\n      <td>E</td>\n      <td>Y</td>\n      <td>Y</td>\n      <td>Endangered</td>\n      <td>Intranational</td>\n      <td>Endangered</td>\n    </tr>\n    <tr>\n      <th>2</th>\n      <td>686</td>\n      <td>Animalia</td>\n      <td>Amphibia</td>\n      <td>Myobatrachidae</td>\n      <td>Crinia tinnula</td>\n      <td>wallum froglet</td>\n      <td>Straughan &amp; Main, 1966</td>\n      <td>V</td>\n      <td>Y</td>\n      <td>N</td>\n      <td>Vulnerable</td>\n      <td>Intranational</td>\n      <td>NaN</td>\n    </tr>\n    <tr>\n      <th>3</th>\n      <td>675</td>\n      <td>Animalia</td>\n      <td>Amphibia</td>\n      <td>Myobatrachidae</td>\n      <td>Mixophyes fleayi</td>\n      <td>Fleay's barred frog</td>\n      <td>Corben &amp; Ingram, 1987</td>\n      <td>E</td>\n      <td>Y</td>\n      <td>Y</td>\n      <td>Endangered</td>\n      <td>Intranational</td>\n      <td>Endangered</td>\n    </tr>\n    <tr>\n      <th>4</th>\n      <td>676</td>\n      <td>Animalia</td>\n      <td>Amphibia</td>\n      <td>Myobatrachidae</td>\n      <td>Mixophyes iteratus</td>\n      <td>giant barred frog</td>\n      <td>Straughan, 1968</td>\n      <td>V</td>\n      <td>Y</td>\n      <td>Y</td>\n      <td>Vulnerable</td>\n      <td>Intranational</td>\n      <td>Vulnerable</td>\n    </tr>\n    <tr>\n      <th>...</th>\n      <td>...</td>\n      <td>...</td>\n      <td>...</td>\n      <td>...</td>\n      <td>...</td>\n      <td>...</td>\n      <td>...</td>\n      <td>...</td>\n      <td>...</td>\n      <td>...</td>\n      <td>...</td>\n      <td>...</td>\n      <td>...</td>\n    </tr>\n    <tr>\n      <th>2239</th>\n      <td>6482</td>\n      <td>Plantae</td>\n      <td>Equisetopsida</td>\n      <td>Zamiaceae</td>\n      <td>Macrozamia viridis</td>\n      <td>NaN</td>\n      <td>D.L.Jones &amp; P.I.Forst.</td>\n      <td>E</td>\n      <td>Y</td>\n      <td>Y</td>\n      <td>Endangered</td>\n      <td>Intranational</td>\n      <td>NaN</td>\n    </tr>\n    <tr>\n      <th>2240</th>\n      <td>8948</td>\n      <td>Plantae</td>\n      <td>Equisetopsida</td>\n      <td>Zingiberaceae</td>\n      <td>Alpinia hylandii</td>\n      <td>NaN</td>\n      <td>R.M.Sm.</td>\n      <td>NT</td>\n      <td>Y</td>\n      <td>N</td>\n      <td>Near Threatened</td>\n      <td>Queensland Endemic</td>\n      <td>NaN</td>\n    </tr>\n    <tr>\n      <th>2241</th>\n      <td>8949</td>\n      <td>Plantae</td>\n      <td>Equisetopsida</td>\n      <td>Zingiberaceae</td>\n      <td>Amomum queenslandicum</td>\n      <td>NaN</td>\n      <td>R.M.Sm.</td>\n      <td>V</td>\n      <td>Y</td>\n      <td>N</td>\n      <td>Vulnerable</td>\n      <td>Queensland Endemic</td>\n      <td>NaN</td>\n    </tr>\n    <tr>\n      <th>2242</th>\n      <td>12434</td>\n      <td>Plantae</td>\n      <td>Equisetopsida</td>\n      <td>Zingiberaceae</td>\n      <td>Globba marantina</td>\n      <td>NaN</td>\n      <td>L.</td>\n      <td>V</td>\n      <td>Y</td>\n      <td>N</td>\n      <td>Vulnerable</td>\n      <td>Regional Endemic</td>\n      <td>NaN</td>\n    </tr>\n    <tr>\n      <th>2243</th>\n      <td>14130</td>\n      <td>Plantae</td>\n      <td>Equisetopsida</td>\n      <td>Zosteraceae</td>\n      <td>Zostera capricorni</td>\n      <td>eelgrass</td>\n      <td>Asch.</td>\n      <td>SL</td>\n      <td>Y</td>\n      <td>N</td>\n      <td>Special least concern</td>\n      <td>Intranational</td>\n      <td>NaN</td>\n    </tr>\n  </tbody>\n</table>\n<p>2244 rows × 13 columns</p>\n</div>"
     },
     "execution_count": 5,
     "metadata": {},
     "output_type": "execute_result"
    }
   ],
   "source": [
    "conservationlist = conservationlist.rename(columns=\n",
    "{\n",
    "    'Taxon_Id':'taxonID',\n",
    "    'Kingdom':'kingdom',\n",
    "    'Class':'class',\n",
    "    'Family':'family',\n",
    "    'Scientific_name':'scientificName',\n",
    "    'Common_name': 'vernacularName',\n",
    "    'Taxon_author':'scientificNameAuthorship',\n",
    "    'NCA_status':'sourceStatus'\n",
    "})\n",
    "\n",
    "# Replace kingdom and class values with scientific terms\n",
    "conservationlist.loc[conservationlist[\"kingdom\"] == \"animals\", \"kingdom\"] = \"Animalia\"\n",
    "conservationlist.loc[conservationlist[\"kingdom\"] == \"plants\", \"kingdom\"] = \"Plantae\"\n",
    "conservationlist.loc[conservationlist[\"class\"] == \"land plants\", \"class\"] = \"Equisetopsida\"\n",
    "conservationlist.loc[conservationlist[\"class\"] == \"amphibians\", \"class\"] = \"Amphibia\"\n",
    "conservationlist.loc[conservationlist[\"class\"] == \"birds\", \"class\"] = \"Aves\"\n",
    "conservationlist.loc[conservationlist[\"class\"] == \"cartilaginous fishes\", \"class\"] = \"Chondrichthyes\"\n",
    "conservationlist.loc[conservationlist[\"class\"] == \"insects\", \"class\"] = \"Insecta\"\n",
    "conservationlist.loc[conservationlist[\"class\"] == \"malacostracans\", \"class\"] = \"Malacostraca\"\n",
    "conservationlist.loc[conservationlist[\"class\"] == \"mammals\", \"class\"] = \"Mammalia\"\n",
    "conservationlist.loc[conservationlist[\"class\"] == \"ray-finned fishes\", \"class\"] = \"Actinopterygii\"\n",
    "conservationlist.loc[conservationlist[\"class\"] == \"reptiles\", \"class\"] = \"Reptilia\"\n",
    "conservationlist.loc[conservationlist[\"class\"] == \"snails\", \"class\"] = \"Gastropoda\"\n",
    "conservationlist.loc[conservationlist[\"class\"] == \"arachnids\", \"class\"] = \"Arachnida\"\n",
    "conservationlist"
   ],
   "metadata": {
    "collapsed": false,
    "pycharm": {
     "name": "#%%\n"
    }
   }
  },
  {
   "cell_type": "code",
   "execution_count": 6,
   "outputs": [
    {
     "data": {
      "text/plain": "kingdom   class         \nPlantae   Equisetopsida     1868\nAnimalia  Aves               158\n          Reptilia            73\n          Mammalia            68\n          Amphibia            41\n          Actinopterygii      11\n          Malacostraca        11\n          Insecta              8\n          Gastropoda           3\n          Chondrichthyes       2\nPlantae   Charophyceae         1\ndtype: int64"
     },
     "execution_count": 6,
     "metadata": {},
     "output_type": "execute_result"
    }
   ],
   "source": [
    "conservationlist.groupby([\"kingdom\",\"class\"]).size().sort_values(ascending=False)"
   ],
   "metadata": {
    "collapsed": false,
    "pycharm": {
     "name": "#%%\n"
    }
   }
  },
  {
   "cell_type": "code",
   "execution_count": 7,
   "outputs": [
    {
     "data": {
      "text/plain": "2244"
     },
     "execution_count": 7,
     "metadata": {},
     "output_type": "execute_result"
    }
   ],
   "source": [
    "len(conservationlist.index)"
   ],
   "metadata": {
    "collapsed": false,
    "pycharm": {
     "name": "#%%\n"
    }
   }
  },
  {
   "cell_type": "markdown",
   "source": [
    "Write dataframe to CSV - UTF-8 encoding"
   ],
   "metadata": {
    "collapsed": false,
    "pycharm": {
     "name": "#%% md\n"
    }
   }
  },
  {
   "cell_type": "code",
   "execution_count": 8,
   "outputs": [],
   "source": [
    "conservationlist.to_csv(processedDataDir + \"conservation-lists/QLD-conservation.csv\",encoding=\"UTF-8\",index=False)"
   ],
   "metadata": {
    "collapsed": false,
    "pycharm": {
     "name": "#%%\n"
    }
   }
  },
  {
   "cell_type": "markdown",
   "source": [
    "## Sensitive - Qld Confidential list\n",
    "* Read in the Confidential list\n",
    "* Expand the nca status, endemicity and epbc status codes\n",
    "* Rename fields to DwC terms\n",
    "* Replace kingdom and class values with scientific terms\n"
   ],
   "metadata": {
    "collapsed": false,
    "pycharm": {
     "name": "#%% md\n"
    }
   }
  },
  {
   "cell_type": "code",
   "execution_count": null,
   "outputs": [],
   "source": [
    "confidentiallist = pd.read_csv(sourceDataDir + \"qld-confidential-species.csv\")\n",
    "# nca status\n",
    "confidentiallist = pd.merge(confidentiallist,ncastatuscodes,left_on=['NCA status'],right_on=['Code'],how=\"left\")\n",
    "confidentiallist.drop(['Code'],axis=1,inplace=True)\n",
    "confidentiallist = confidentiallist.rename(columns={'NCA status':'sourceStatus','Code_description':'status'})\n",
    "# endemicity\n",
    "confidentiallist = pd.merge(confidentiallist,endemicitycodes,left_on=['Endemicity'],right_on=['Code'],how=\"left\")\n",
    "confidentiallist.drop(['Code','Endemicity'],axis=1,inplace=True)\n",
    "confidentiallist = confidentiallist.rename(columns={'Code_description':'Endemicity'})\n",
    "# epbc\n",
    "confidentiallist = pd.merge(confidentiallist,epbccodes,left_on=['EPBC status'],right_on=['Code'],how=\"left\")\n",
    "confidentiallist.drop(['Code','EPBC status','Unnamed: 0'],axis=1,inplace=True)\n",
    "confidentiallist = confidentiallist.rename(columns={'Code_description':'EPBC Status'})\n",
    "\n",
    "# rename fields\n",
    "confidentiallist = confidentiallist.rename(columns=\n",
    "{\n",
    "    # 'status':'category',\n",
    "    'Taxon Id':'taxonID',\n",
    "    'Kingdom':'kingdom',\n",
    "    'Class':'class',\n",
    "    'Family':'family',\n",
    "    'Scientific name':'scientificName',\n",
    "    'Common name': 'vernacularName',\n",
    "    'Taxon author':'scientificNameAuthorship'\n",
    "})\n",
    "\n",
    "# map sourceStatus to category\n",
    "confidentiallist['category'] = confidentiallist['sourceStatus']\n",
    "confidentiallist.loc[confidentiallist[\"category\"] == \"C\"] = \"LC\"\n",
    "confidentiallist.loc[confidentiallist[\"category\"] == \"CR\"] = \"CR\"\n",
    "confidentiallist.loc[confidentiallist[\"category\"] == \"E\"] = \"EN\"\n",
    "confidentiallist.loc[confidentiallist[\"category\"] == \"NT\"] = \"NT\"\n",
    "confidentiallist.loc[confidentiallist[\"category\"] == \"PE\"] = \"EW\"\n",
    "confidentiallist.loc[confidentiallist[\"category\"] == \"SL\"] = \"SL\"\n",
    "confidentiallist.loc[confidentiallist[\"category\"] == \"V\"] = \"VU\"\n",
    "\n",
    "#confidentiallist.groupby([\"kingdom\",\"class\"]).size()\n",
    "\n",
    "confidentiallist.loc[confidentiallist[\"kingdom\"] == \"animals\", \"kingdom\"] = \"Animalia\"\n",
    "confidentiallist.loc[confidentiallist[\"kingdom\"] == \"plants\", \"kingdom\"] = \"Plantae\"\n",
    "confidentiallist.loc[confidentiallist[\"class\"] == \"land plants\", \"class\"] = \"Equisetopsida\"\n",
    "confidentiallist.loc[confidentiallist[\"class\"] == \"amphibians\", \"class\"] = \"Amphibia\"\n",
    "confidentiallist.loc[confidentiallist[\"class\"] == \"birds\", \"class\"] = \"Aves\"\n",
    "confidentiallist.loc[confidentiallist[\"class\"] == \"cartilaginous fishes\", \"class\"] = \"Chondrichthyes\"\n",
    "confidentiallist.loc[confidentiallist[\"class\"] == \"insects\", \"class\"] = \"Insecta\"\n",
    "confidentiallist.loc[confidentiallist[\"class\"] == \"malacostracans\", \"class\"] = \"Malacostraca\"\n",
    "confidentiallist.loc[confidentiallist[\"class\"] == \"mammals\", \"class\"] = \"Mammalia\"\n",
    "confidentiallist.loc[confidentiallist[\"class\"] == \"ray-finned fishes\", \"class\"] = \"Actinopterygii\"\n",
    "confidentiallist.loc[confidentiallist[\"class\"] == \"reptiles\", \"class\"] = \"Reptilia\"\n",
    "confidentiallist.loc[confidentiallist[\"class\"] == \"snails\", \"class\"] = \"Gastropoda\"\n",
    "confidentiallist.loc[confidentiallist[\"class\"] == \"arachnids\", \"class\"] = \"Arachnida\"\n",
    "confidentiallist"
   ],
   "metadata": {
    "collapsed": false,
    "pycharm": {
     "name": "#%%\n"
    }
   }
  },
  {
   "cell_type": "markdown",
   "source": [],
   "metadata": {
    "collapsed": false,
    "pycharm": {
     "name": "#%% md\n"
    }
   }
  },
  {
   "cell_type": "code",
   "execution_count": 10,
   "outputs": [
    {
     "data": {
      "text/plain": "kingdom   class         \nPlantae   Equisetopsida     851\nAnimalia  Reptilia           30\n          Aves               24\n          Amphibia           22\n          Malacostraca       10\n          Actinopterygii      7\n          Insecta             7\n          Arachnida           3\n          Mammalia            1\ndtype: int64"
     },
     "execution_count": 10,
     "metadata": {},
     "output_type": "execute_result"
    }
   ],
   "source": [
    "confidentiallist.groupby([\"kingdom\",\"class\"]).size().sort_values(ascending=False)"
   ],
   "metadata": {
    "collapsed": false,
    "pycharm": {
     "name": "#%%\n"
    }
   }
  },
  {
   "cell_type": "code",
   "execution_count": 11,
   "outputs": [
    {
     "data": {
      "text/plain": "955"
     },
     "execution_count": 11,
     "metadata": {},
     "output_type": "execute_result"
    }
   ],
   "source": [
    "len(confidentiallist.index)"
   ],
   "metadata": {
    "collapsed": false,
    "pycharm": {
     "name": "#%%\n"
    }
   }
  },
  {
   "cell_type": "markdown",
   "source": [
    "## Write to CSV"
   ],
   "metadata": {
    "collapsed": false,
    "pycharm": {
     "name": "#%% md\n"
    }
   }
  },
  {
   "cell_type": "code",
   "execution_count": 12,
   "outputs": [],
   "source": [
    "confidentiallist.to_csv(processedDataDir + \"sensitive-lists/QLD-sensitive.csv\",encoding=\"UTF-8\",index=False)"
   ],
   "metadata": {
    "collapsed": false,
    "pycharm": {
     "name": "#%%\n"
    }
   }
  },
  {
   "cell_type": "markdown",
   "source": [],
   "metadata": {
    "collapsed": false,
    "pycharm": {
     "name": "#%% md\n"
    }
   }
  },
  {
   "cell_type": "markdown",
   "source": [
    "# Manual List check\n",
    "\n",
    "**Instructions**\n",
    "1. Load the lists above into the lists-test tool\n",
    "2. Check the list name matching score and the text appearance on species pages\n",
    "3. Unskip the below code and Run the reports below to compare to production. Send the changelog.csv to check. Correct any issues.\n",
    "4. Save the production list into the `historical lists` directory by uncommenting the code section below.\n",
    "5. Load the lists into production"
   ],
   "metadata": {
    "collapsed": false,
    "pycharm": {
     "name": "#%% md\n"
    }
   }
  },
  {
   "cell_type": "code",
   "execution_count": null,
   "outputs": [],
   "source": [],
   "metadata": {
    "collapsed": false,
    "pycharm": {
     "name": "#%%\n"
    }
   }
  },
  {
   "cell_type": "markdown",
   "source": [
    "### Define functions"
   ],
   "metadata": {
    "collapsed": false,
    "pycharm": {
     "name": "#%% md\n"
    }
   }
  },
  {
   "cell_type": "code",
   "execution_count": 1,
   "outputs": [
    {
     "name": "stdout",
     "output_type": "stream",
     "text": [
      "Couldn't find program: 'echo'\n"
     ]
    }
   ],
   "source": [
    "%%script echo skipping # comment this line to run this code\n",
    "# prep\n",
    "import sys\n",
    "import os\n",
    "sys.path.append(os.path.abspath(projectDir + \"source-code/includes\"))\n",
    "import list_functions as lf\n",
    "import datetime\n",
    "monthStr = datetime.datetime.now().strftime('%Y%m')\n"
   ],
   "metadata": {
    "collapsed": false,
    "pycharm": {
     "name": "#%%\n"
    }
   }
  },
  {
   "cell_type": "code",
   "execution_count": null,
   "outputs": [],
   "source": [
    "%%script echo skipping # comment this line to run this code\n",
    "ltype = \"C\"\n",
    "# conservation\n",
    "filename = \"QLD-conservation.csv\"\n",
    "prodListUrl = \"https://lists.ala.org.au/ws/speciesListItems/\" + \"dr652\" + \"?max=10000&includeKVP=true\"\n",
    "testListUrl = \"https://lists-test.ala.org.au/ws/speciesListItems/\" + \"dr652\" + \"?max=10000&includeKVP=true\"\n",
    "changelist = lf.get_changelist(testListUrl, prodListUrl, ltype)\n",
    "# save the lists locally\n",
    "changelist.to_csv(projectDir + \"analysis/change-log/\" + monthStr + \"-\" + filename, encoding=\"UTF-8\", index=False)\n",
    "changelist"
   ],
   "metadata": {
    "collapsed": false,
    "pycharm": {
     "name": "#%%\n"
    }
   }
  },
  {
   "cell_type": "markdown",
   "source": [
    "### Download Production lists to Historical Lists directory"
   ],
   "metadata": {
    "collapsed": false,
    "pycharm": {
     "name": "#%% md\n"
    }
   }
  },
  {
   "cell_type": "code",
   "execution_count": null,
   "outputs": [],
   "source": [
    "%%script echo skipping # comment this line to run this code\n",
    "prodList = lf.download_ala_list(prodListUrl)  # save the prod list to the historical lists directory\n",
    "prodList = lf.kvp_to_columns(prodList)\n",
    "prodList.to_csv(projectDir + \"historical-lists/conservation/\" + filename, encoding=\"UTF-8\", index=False)\n",
    "print('Finished downloading historical list')"
   ],
   "metadata": {
    "collapsed": false,
    "pycharm": {
     "name": "#%%\n"
    }
   }
  },
  {
   "cell_type": "markdown",
   "source": [
    "### Sensitive List - Download old and new and compare"
   ],
   "metadata": {
    "collapsed": false,
    "pycharm": {
     "name": "#%% md\n"
    }
   }
  },
  {
   "cell_type": "code",
   "execution_count": null,
   "outputs": [],
   "source": [
    "%%script echo skipping # comment this line to run this code\n",
    "ltype = \"S\"\n",
    "filename = \"QLD-sensitive.csv\"\n",
    "prodListUrl = \"https://lists.ala.org.au/ws/speciesListItems/\" + \"dr493\" + \"?max=10000&includeKVP=true\"\n",
    "testListUrl = \"https://lists-test.ala.org.au/ws/speciesListItems/\" + \"dr18404\" + \"?max=10000&includeKVP=true\"\n",
    "changelist = lf.get_changelist(testListUrl, prodListUrl, ltype )\n",
    "# save the lists locally\n",
    "changelist.to_csv(projectDir + \"analysis/change-log/\" + monthStr + \"-\" + filename, encoding=\"UTF-8\", index=False)\n",
    "changelist"
   ],
   "metadata": {
    "collapsed": false,
    "pycharm": {
     "name": "#%%\n"
    }
   }
  },
  {
   "cell_type": "markdown",
   "source": [
    "### Download Production lists to Historical Lists directory"
   ],
   "metadata": {
    "collapsed": false,
    "pycharm": {
     "name": "#%% md\n"
    }
   }
  },
  {
   "cell_type": "code",
   "execution_count": null,
   "outputs": [],
   "source": [
    "%%script echo skipping # comment this line to run this code\n",
    "prodList = lf.download_ala_list(prodListUrl)  # save the prod list to the historical lists directory\n",
    "prodList = lf.kvp_to_columns(prodList)\n",
    "prodList.to_csv(projectDir + \"historical-lists/sensitive/\" + filename, encoding=\"UTF-8\", index=False)\n",
    "print('Finished downloading historical list')"
   ],
   "metadata": {
    "collapsed": false,
    "pycharm": {
     "name": "#%%\n"
    }
   }
  }
 ],
 "metadata": {
  "kernelspec": {
   "display_name": "Python 3",
   "language": "python",
   "name": "python3"
  },
  "language_info": {
   "codemirror_mode": {
    "name": "ipython",
    "version": 2
   },
   "file_extension": ".py",
   "mimetype": "text/x-python",
   "name": "python",
   "nbconvert_exporter": "python",
   "pygments_lexer": "ipython2",
   "version": "2.7.6"
  }
 },
 "nbformat": 4,
 "nbformat_minor": 0
}