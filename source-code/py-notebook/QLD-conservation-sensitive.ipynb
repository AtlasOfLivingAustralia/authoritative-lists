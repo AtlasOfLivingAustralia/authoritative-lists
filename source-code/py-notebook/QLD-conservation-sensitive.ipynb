{
 "cells": [
  {
   "cell_type": "markdown",
   "source": [
    "# QLD Conservation Status and Sensitive Species Lists\n",
    "\n",
    "This notebook downloads the Qld lists from the [Qld Government Open Data Portal](https://data.qld.gov.au) and formats them in Darwin Core for ingestion into the ALA Lists tool.\n",
    "It will save original lists to the `source-data/QLD` directory, process the lists and save them to `current-lists`.\n",
    "\n",
    "\n",
    "## Lists in the ALA Species List tool\n",
    "* Conservation list: __[dr652](https://lists.ala.org.au/speciesListItem/list/dr652)__ (in [test](https://lists-test.ala.org.au/speciesListItem/list/dr652))\n",
    "* Sensitive list: __[dr493](https://lists.ala.org.au/speciesListItem/list/dr493)__ (in [test](https://lists-test.ala.org.au/speciesListItem/list/dr18404))\n",
    "\n",
    "\n",
    "## Sources\n",
    "Queensland Nature Conservation Act 1992\n",
    "\n",
    "### Conservation\n",
    "* __[Metadata - Qld Species (Open Data Portal)](https://www.data.qld.gov.au/dataset/conservation-status-of-queensland-wildlife)__\n",
    "* __[Data](https://apps.des.qld.gov.au/data-sets/wildlife/wildnet/species.csv)__\n",
    "\n",
    "### Sensitive\n",
    "* __[Metadata - Queensland Confidential Species (Open Data Portal)](https://www.data.qld.gov.au/dataset/queensland-confidential-species)__\n",
    "* __[Data](https://apps.des.qld.gov.au/data-sets/wildlife/wildnet/qld-confidential-species.csv)__\n",
    "\n",
    "### Codes\n",
    "* __[Metadata - Qld Species codes](https://www.data.qld.gov.au/dataset/conservation-status-of-queensland-wildlife/resource/6344ea93-cadf-4e0c-9ff4-12dfb18d5f14)__\n",
    "* __[Data](https://apps.des.qld.gov.au/data-sets/wildlife/wildnet/species-status-codes.csv)__\n"
   ],
   "metadata": {
    "collapsed": false,
    "pycharm": {
     "name": "#%% md\n"
    }
   }
  },
  {
   "cell_type": "markdown",
   "source": [
    "\n",
    "# Setup\n",
    "* Import libraries\n",
    "* Set Project directory\n",
    "* Set URLs"
   ],
   "metadata": {
    "collapsed": false,
    "pycharm": {
     "name": "#%% md\n"
    }
   }
  },
  {
   "cell_type": "code",
   "execution_count": 1,
   "outputs": [],
   "source": [
    "import datetime\n",
    "\n",
    "import pandas as pd\n",
    "import requests\n",
    "import io\n",
    "from ftfy import fix_encoding\n",
    "import urllib.request, json\n",
    "import certifi\n",
    "import ssl\n",
    "\n",
    "projectDir = \"/Users/new330/IdeaProjects/authoritative-lists/\"\n",
    "sourceDataDir = projectDir + \"source-data/QLD/\"\n",
    "processedDataDir = projectDir + \"current-lists/\"\n",
    "\n",
    "codesurl =  \"https://apps.des.qld.gov.au/data-sets/wildlife/wildnet/species-status-codes.csv\"\n",
    "listurl = \"https://apps.des.qld.gov.au/data-sets/wildlife/wildnet/species.csv\"\n",
    "confidentiallisturl = \"https://apps.des.qld.gov.au/data-sets/wildlife/wildnet/qld-confidential-species.csv\""
   ],
   "metadata": {
    "collapsed": false,
    "pycharm": {
     "name": "#%%\n"
    }
   }
  },
  {
   "cell_type": "markdown",
   "source": [
    "## Download the raw files from data.qld.gov.au\n",
    "... save locally"
   ],
   "metadata": {
    "collapsed": false
   }
  },
  {
   "cell_type": "code",
   "execution_count": 2,
   "outputs": [],
   "source": [
    "# %%script echo skipping # comment this line to download dataset from API\n",
    "\n",
    "response = requests.get(codesurl)\n",
    "rtext = fix_encoding(response.text)\n",
    "speciescodes = pd.read_csv(io.StringIO(rtext))\n",
    "speciescodes.to_csv(sourceDataDir + \"species-status-codes.csv\")\n",
    "\n",
    "response = requests.get(listurl)\n",
    "rtext = fix_encoding(response.text)\n",
    "conservationlist = pd.read_csv(io.StringIO(rtext))\n",
    "conservationlist.to_csv(sourceDataDir + \"species.csv\")\n",
    "\n",
    "response = requests.get(confidentiallisturl)\n",
    "rtext = fix_encoding(response.text)\n",
    "confidentiallist = pd.read_csv(io.StringIO(rtext))\n",
    "confidentiallist.to_csv(sourceDataDir + \"qld-confidential-species.csv\")"
   ],
   "metadata": {
    "collapsed": false,
    "pycharm": {
     "name": "#%%\n"
    }
   }
  },
  {
   "cell_type": "markdown",
   "source": [
    "## Standardise Status Codes\n",
    "Some minimal changes to some Qld Nature Conservation Act codes so that they are consistent with other states"
   ],
   "metadata": {
    "collapsed": false,
    "pycharm": {
     "name": "#%% md\n"
    }
   }
  },
  {
   "cell_type": "code",
   "execution_count": 3,
   "outputs": [
    {
     "data": {
      "text/plain": "   Code       Code_description\n17    C          Least concern\n18   CR  Critically Endangered\n19    E             Endangered\n20   EX                Extinct\n21    I          International\n22   NT        Near Threatened\n23   PE    Extinct in the wild\n24   SL  Special least concern\n25    V             Vulnerable",
      "text/html": "<div>\n<style scoped>\n    .dataframe tbody tr th:only-of-type {\n        vertical-align: middle;\n    }\n\n    .dataframe tbody tr th {\n        vertical-align: top;\n    }\n\n    .dataframe thead th {\n        text-align: right;\n    }\n</style>\n<table border=\"1\" class=\"dataframe\">\n  <thead>\n    <tr style=\"text-align: right;\">\n      <th></th>\n      <th>Code</th>\n      <th>Code_description</th>\n    </tr>\n  </thead>\n  <tbody>\n    <tr>\n      <th>17</th>\n      <td>C</td>\n      <td>Least concern</td>\n    </tr>\n    <tr>\n      <th>18</th>\n      <td>CR</td>\n      <td>Critically Endangered</td>\n    </tr>\n    <tr>\n      <th>19</th>\n      <td>E</td>\n      <td>Endangered</td>\n    </tr>\n    <tr>\n      <th>20</th>\n      <td>EX</td>\n      <td>Extinct</td>\n    </tr>\n    <tr>\n      <th>21</th>\n      <td>I</td>\n      <td>International</td>\n    </tr>\n    <tr>\n      <th>22</th>\n      <td>NT</td>\n      <td>Near Threatened</td>\n    </tr>\n    <tr>\n      <th>23</th>\n      <td>PE</td>\n      <td>Extinct in the wild</td>\n    </tr>\n    <tr>\n      <th>24</th>\n      <td>SL</td>\n      <td>Special least concern</td>\n    </tr>\n    <tr>\n      <th>25</th>\n      <td>V</td>\n      <td>Vulnerable</td>\n    </tr>\n  </tbody>\n</table>\n</div>"
     },
     "execution_count": 3,
     "metadata": {},
     "output_type": "execute_result"
    }
   ],
   "source": [
    "speciescodes = pd.read_csv(sourceDataDir + \"species-status-codes.csv\")\n",
    "ncastatuscodes = speciescodes[speciescodes['Field'] == \"NCA_status\"][['Code', 'Code_description']]\n",
    "ncastatuscodes['Code_description'] = ncastatuscodes['Code_description'].str.replace(\" wildlife\", \"\")\n",
    "ncastatuscodes.loc[\n",
    "    ncastatuscodes['Code_description'] == \"Critically endangered\", 'Code_description'] = \"Critically Endangered\"\n",
    "ncastatuscodes.loc[ncastatuscodes['Code_description'] == \"Near threatened\", 'Code_description'] = \"Near Threatened\"\n",
    "endemicitycodes = speciescodes[speciescodes['Field'] == \"Endemicity\"][['Code', 'Code_description']]\n",
    "# ebpc codes\n",
    "epbccodes = speciescodes[speciescodes['Field'] == \"EPBC_status\"][['Code', 'Code_description']]\n",
    "ncastatuscodes"
   ],
   "metadata": {
    "collapsed": false,
    "pycharm": {
     "name": "#%%\n"
    }
   }
  },
  {
   "cell_type": "markdown",
   "source": [
    "## Conservation List\n",
    "* Read in the Conservation list\n",
    "* Join to the codes to expand the code descriptions.\n",
    "* Change the field names to `sourceStatus` and `status` as required by the ALA's conservation list processing.\n",
    "* Remove **Least concern** and no status\n",
    "* Expand the endemicity and epbc status codes"
   ],
   "metadata": {
    "collapsed": false,
    "pycharm": {
     "name": "#%% md\n"
    }
   }
  },
  {
   "cell_type": "code",
   "execution_count": 4,
   "outputs": [
    {
     "data": {
      "text/plain": "      Taxon_Id  Kingdom        Class           Family        Scientific_name  \\\n0          706  animals   amphibians  Limnodynastidae        Adelotus brevis   \n1          687  animals   amphibians  Limnodynastidae   Philoria kundagungan   \n2          686  animals   amphibians   Myobatrachidae         Crinia tinnula   \n3          675  animals   amphibians   Myobatrachidae       Mixophyes fleayi   \n4          676  animals   amphibians   Myobatrachidae     Mixophyes iteratus   \n...        ...      ...          ...              ...                    ...   \n2239      6482   plants  land plants        Zamiaceae     Macrozamia viridis   \n2240      8948   plants  land plants    Zingiberaceae       Alpinia hylandii   \n2241      8949   plants  land plants    Zingiberaceae  Amomum queenslandicum   \n2242     12434   plants  land plants    Zingiberaceae       Globba marantina   \n2243     14130   plants  land plants      Zosteraceae     Zostera capricorni   \n\n                      Common_name             Taxon_author sourceStatus  \\\n0                     tusked frog          (Günther, 1863)            V   \n1     red-and-yellow mountainfrog  (Ingram & Corben, 1975)            E   \n2                  wallum froglet   Straughan & Main, 1966            V   \n3             Fleay's barred frog    Corben & Ingram, 1987            E   \n4               giant barred frog          Straughan, 1968            V   \n...                           ...                      ...          ...   \n2239                          NaN   D.L.Jones & P.I.Forst.            E   \n2240                          NaN                  R.M.Sm.           NT   \n2241                          NaN                  R.M.Sm.            V   \n2242                          NaN                       L.            V   \n2243                     eelgrass                    Asch.           SL   \n\n     Significant Confidential                 status          Endemicity  \\\n0              Y            N             Vulnerable       Intranational   \n1              Y            Y             Endangered       Intranational   \n2              Y            N             Vulnerable       Intranational   \n3              Y            Y             Endangered       Intranational   \n4              Y            Y             Vulnerable       Intranational   \n...          ...          ...                    ...                 ...   \n2239           Y            Y             Endangered       Intranational   \n2240           Y            N        Near Threatened  Queensland Endemic   \n2241           Y            N             Vulnerable  Queensland Endemic   \n2242           Y            N             Vulnerable    Regional Endemic   \n2243           Y            N  Special least concern       Intranational   \n\n     EPBC Status  \n0            NaN  \n1     Endangered  \n2            NaN  \n3     Endangered  \n4     Vulnerable  \n...          ...  \n2239         NaN  \n2240         NaN  \n2241         NaN  \n2242         NaN  \n2243         NaN  \n\n[2244 rows x 13 columns]",
      "text/html": "<div>\n<style scoped>\n    .dataframe tbody tr th:only-of-type {\n        vertical-align: middle;\n    }\n\n    .dataframe tbody tr th {\n        vertical-align: top;\n    }\n\n    .dataframe thead th {\n        text-align: right;\n    }\n</style>\n<table border=\"1\" class=\"dataframe\">\n  <thead>\n    <tr style=\"text-align: right;\">\n      <th></th>\n      <th>Taxon_Id</th>\n      <th>Kingdom</th>\n      <th>Class</th>\n      <th>Family</th>\n      <th>Scientific_name</th>\n      <th>Common_name</th>\n      <th>Taxon_author</th>\n      <th>sourceStatus</th>\n      <th>Significant</th>\n      <th>Confidential</th>\n      <th>status</th>\n      <th>Endemicity</th>\n      <th>EPBC Status</th>\n    </tr>\n  </thead>\n  <tbody>\n    <tr>\n      <th>0</th>\n      <td>706</td>\n      <td>animals</td>\n      <td>amphibians</td>\n      <td>Limnodynastidae</td>\n      <td>Adelotus brevis</td>\n      <td>tusked frog</td>\n      <td>(Günther, 1863)</td>\n      <td>V</td>\n      <td>Y</td>\n      <td>N</td>\n      <td>Vulnerable</td>\n      <td>Intranational</td>\n      <td>NaN</td>\n    </tr>\n    <tr>\n      <th>1</th>\n      <td>687</td>\n      <td>animals</td>\n      <td>amphibians</td>\n      <td>Limnodynastidae</td>\n      <td>Philoria kundagungan</td>\n      <td>red-and-yellow mountainfrog</td>\n      <td>(Ingram &amp; Corben, 1975)</td>\n      <td>E</td>\n      <td>Y</td>\n      <td>Y</td>\n      <td>Endangered</td>\n      <td>Intranational</td>\n      <td>Endangered</td>\n    </tr>\n    <tr>\n      <th>2</th>\n      <td>686</td>\n      <td>animals</td>\n      <td>amphibians</td>\n      <td>Myobatrachidae</td>\n      <td>Crinia tinnula</td>\n      <td>wallum froglet</td>\n      <td>Straughan &amp; Main, 1966</td>\n      <td>V</td>\n      <td>Y</td>\n      <td>N</td>\n      <td>Vulnerable</td>\n      <td>Intranational</td>\n      <td>NaN</td>\n    </tr>\n    <tr>\n      <th>3</th>\n      <td>675</td>\n      <td>animals</td>\n      <td>amphibians</td>\n      <td>Myobatrachidae</td>\n      <td>Mixophyes fleayi</td>\n      <td>Fleay's barred frog</td>\n      <td>Corben &amp; Ingram, 1987</td>\n      <td>E</td>\n      <td>Y</td>\n      <td>Y</td>\n      <td>Endangered</td>\n      <td>Intranational</td>\n      <td>Endangered</td>\n    </tr>\n    <tr>\n      <th>4</th>\n      <td>676</td>\n      <td>animals</td>\n      <td>amphibians</td>\n      <td>Myobatrachidae</td>\n      <td>Mixophyes iteratus</td>\n      <td>giant barred frog</td>\n      <td>Straughan, 1968</td>\n      <td>V</td>\n      <td>Y</td>\n      <td>Y</td>\n      <td>Vulnerable</td>\n      <td>Intranational</td>\n      <td>Vulnerable</td>\n    </tr>\n    <tr>\n      <th>...</th>\n      <td>...</td>\n      <td>...</td>\n      <td>...</td>\n      <td>...</td>\n      <td>...</td>\n      <td>...</td>\n      <td>...</td>\n      <td>...</td>\n      <td>...</td>\n      <td>...</td>\n      <td>...</td>\n      <td>...</td>\n      <td>...</td>\n    </tr>\n    <tr>\n      <th>2239</th>\n      <td>6482</td>\n      <td>plants</td>\n      <td>land plants</td>\n      <td>Zamiaceae</td>\n      <td>Macrozamia viridis</td>\n      <td>NaN</td>\n      <td>D.L.Jones &amp; P.I.Forst.</td>\n      <td>E</td>\n      <td>Y</td>\n      <td>Y</td>\n      <td>Endangered</td>\n      <td>Intranational</td>\n      <td>NaN</td>\n    </tr>\n    <tr>\n      <th>2240</th>\n      <td>8948</td>\n      <td>plants</td>\n      <td>land plants</td>\n      <td>Zingiberaceae</td>\n      <td>Alpinia hylandii</td>\n      <td>NaN</td>\n      <td>R.M.Sm.</td>\n      <td>NT</td>\n      <td>Y</td>\n      <td>N</td>\n      <td>Near Threatened</td>\n      <td>Queensland Endemic</td>\n      <td>NaN</td>\n    </tr>\n    <tr>\n      <th>2241</th>\n      <td>8949</td>\n      <td>plants</td>\n      <td>land plants</td>\n      <td>Zingiberaceae</td>\n      <td>Amomum queenslandicum</td>\n      <td>NaN</td>\n      <td>R.M.Sm.</td>\n      <td>V</td>\n      <td>Y</td>\n      <td>N</td>\n      <td>Vulnerable</td>\n      <td>Queensland Endemic</td>\n      <td>NaN</td>\n    </tr>\n    <tr>\n      <th>2242</th>\n      <td>12434</td>\n      <td>plants</td>\n      <td>land plants</td>\n      <td>Zingiberaceae</td>\n      <td>Globba marantina</td>\n      <td>NaN</td>\n      <td>L.</td>\n      <td>V</td>\n      <td>Y</td>\n      <td>N</td>\n      <td>Vulnerable</td>\n      <td>Regional Endemic</td>\n      <td>NaN</td>\n    </tr>\n    <tr>\n      <th>2243</th>\n      <td>14130</td>\n      <td>plants</td>\n      <td>land plants</td>\n      <td>Zosteraceae</td>\n      <td>Zostera capricorni</td>\n      <td>eelgrass</td>\n      <td>Asch.</td>\n      <td>SL</td>\n      <td>Y</td>\n      <td>N</td>\n      <td>Special least concern</td>\n      <td>Intranational</td>\n      <td>NaN</td>\n    </tr>\n  </tbody>\n</table>\n<p>2244 rows × 13 columns</p>\n</div>"
     },
     "execution_count": 4,
     "metadata": {},
     "output_type": "execute_result"
    }
   ],
   "source": [
    "conservationlist = pd.read_csv(sourceDataDir + \"species.csv\")\n",
    "conservationlist = pd.merge(conservationlist,ncastatuscodes,left_on=['NCA_status'],right_on=['Code'],how=\"left\")\n",
    "conservationlist.drop(['Code'],axis=1,inplace=True)\n",
    "conservationlist = conservationlist.rename(columns={'NCA_status':'sourceStatus','Code_description':'status'})\n",
    "\n",
    "# remove empty or Least Concern status records\n",
    "conservationlist = conservationlist[((conservationlist['status'] != \"Least concern\") & (conservationlist['status'].notna()))]\n",
    "\n",
    "# expand endemicity\n",
    "endemicitycodes = speciescodes[speciescodes['Field'] == \"Endemicity\"][['Code', 'Code_description']]\n",
    "conservationlist = pd.merge(conservationlist, endemicitycodes, left_on=['Endemicity'], right_on=['Code'], how=\"left\")\n",
    "conservationlist.drop(['Code','Endemicity'], axis=1, inplace=True)\n",
    "conservationlist = conservationlist.rename(columns={'Code_description': 'Endemicity'})\n",
    "\n",
    "# expand epbc\n",
    "epbccodes = speciescodes[speciescodes['Field'] == \"EPBC_status\"][['Code','Code_description']]\n",
    "conservationlist = pd.merge(conservationlist,epbccodes,left_on=['EPBC_status'],right_on=['Code'],how=\"left\")\n",
    "conservationlist.drop(['Code','EPBC_status'],axis=1,inplace=True)\n",
    "conservationlist = conservationlist.rename(columns={'Code_description':'EPBC Status'})\n",
    "#conservationlist.drop(['EPBC_status'],axis=1,inplace=True)\n",
    "conservationlist.drop(['Unnamed: 0'],axis=1,inplace=True)\n",
    "conservationlist"
   ],
   "metadata": {
    "collapsed": false,
    "pycharm": {
     "name": "#%%\n"
    }
   }
  },
  {
   "cell_type": "markdown",
   "source": [
    "**Tidy up**\n",
    "* rename fields to Darwin Core\n",
    "* replace kingdom/class values with scientific names"
   ],
   "metadata": {
    "collapsed": false,
    "pycharm": {
     "name": "#%% md\n"
    }
   }
  },
  {
   "cell_type": "code",
   "execution_count": 5,
   "outputs": [
    {
     "data": {
      "text/plain": "      taxonID   kingdom          class           family  \\\n0         706  Animalia       Amphibia  Limnodynastidae   \n1         687  Animalia       Amphibia  Limnodynastidae   \n2         686  Animalia       Amphibia   Myobatrachidae   \n3         675  Animalia       Amphibia   Myobatrachidae   \n4         676  Animalia       Amphibia   Myobatrachidae   \n...       ...       ...            ...              ...   \n2239     6482   Plantae  Equisetopsida        Zamiaceae   \n2240     8948   Plantae  Equisetopsida    Zingiberaceae   \n2241     8949   Plantae  Equisetopsida    Zingiberaceae   \n2242    12434   Plantae  Equisetopsida    Zingiberaceae   \n2243    14130   Plantae  Equisetopsida      Zosteraceae   \n\n             scientificName               vernacularName  \\\n0           Adelotus brevis                  tusked frog   \n1      Philoria kundagungan  red-and-yellow mountainfrog   \n2            Crinia tinnula               wallum froglet   \n3          Mixophyes fleayi          Fleay's barred frog   \n4        Mixophyes iteratus            giant barred frog   \n...                     ...                          ...   \n2239     Macrozamia viridis                          NaN   \n2240       Alpinia hylandii                          NaN   \n2241  Amomum queenslandicum                          NaN   \n2242       Globba marantina                          NaN   \n2243     Zostera capricorni                     eelgrass   \n\n     scientificNameAuthorship sourceStatus Significant Confidential  \\\n0             (Günther, 1863)            V           Y            N   \n1     (Ingram & Corben, 1975)            E           Y            Y   \n2      Straughan & Main, 1966            V           Y            N   \n3       Corben & Ingram, 1987            E           Y            Y   \n4             Straughan, 1968            V           Y            Y   \n...                       ...          ...         ...          ...   \n2239   D.L.Jones & P.I.Forst.            E           Y            Y   \n2240                  R.M.Sm.           NT           Y            N   \n2241                  R.M.Sm.            V           Y            N   \n2242                       L.            V           Y            N   \n2243                    Asch.           SL           Y            N   \n\n                     status          Endemicity EPBC Status  \n0                Vulnerable       Intranational         NaN  \n1                Endangered       Intranational  Endangered  \n2                Vulnerable       Intranational         NaN  \n3                Endangered       Intranational  Endangered  \n4                Vulnerable       Intranational  Vulnerable  \n...                     ...                 ...         ...  \n2239             Endangered       Intranational         NaN  \n2240        Near Threatened  Queensland Endemic         NaN  \n2241             Vulnerable  Queensland Endemic         NaN  \n2242             Vulnerable    Regional Endemic         NaN  \n2243  Special least concern       Intranational         NaN  \n\n[2244 rows x 13 columns]",
      "text/html": "<div>\n<style scoped>\n    .dataframe tbody tr th:only-of-type {\n        vertical-align: middle;\n    }\n\n    .dataframe tbody tr th {\n        vertical-align: top;\n    }\n\n    .dataframe thead th {\n        text-align: right;\n    }\n</style>\n<table border=\"1\" class=\"dataframe\">\n  <thead>\n    <tr style=\"text-align: right;\">\n      <th></th>\n      <th>taxonID</th>\n      <th>kingdom</th>\n      <th>class</th>\n      <th>family</th>\n      <th>scientificName</th>\n      <th>vernacularName</th>\n      <th>scientificNameAuthorship</th>\n      <th>sourceStatus</th>\n      <th>Significant</th>\n      <th>Confidential</th>\n      <th>status</th>\n      <th>Endemicity</th>\n      <th>EPBC Status</th>\n    </tr>\n  </thead>\n  <tbody>\n    <tr>\n      <th>0</th>\n      <td>706</td>\n      <td>Animalia</td>\n      <td>Amphibia</td>\n      <td>Limnodynastidae</td>\n      <td>Adelotus brevis</td>\n      <td>tusked frog</td>\n      <td>(Günther, 1863)</td>\n      <td>V</td>\n      <td>Y</td>\n      <td>N</td>\n      <td>Vulnerable</td>\n      <td>Intranational</td>\n      <td>NaN</td>\n    </tr>\n    <tr>\n      <th>1</th>\n      <td>687</td>\n      <td>Animalia</td>\n      <td>Amphibia</td>\n      <td>Limnodynastidae</td>\n      <td>Philoria kundagungan</td>\n      <td>red-and-yellow mountainfrog</td>\n      <td>(Ingram &amp; Corben, 1975)</td>\n      <td>E</td>\n      <td>Y</td>\n      <td>Y</td>\n      <td>Endangered</td>\n      <td>Intranational</td>\n      <td>Endangered</td>\n    </tr>\n    <tr>\n      <th>2</th>\n      <td>686</td>\n      <td>Animalia</td>\n      <td>Amphibia</td>\n      <td>Myobatrachidae</td>\n      <td>Crinia tinnula</td>\n      <td>wallum froglet</td>\n      <td>Straughan &amp; Main, 1966</td>\n      <td>V</td>\n      <td>Y</td>\n      <td>N</td>\n      <td>Vulnerable</td>\n      <td>Intranational</td>\n      <td>NaN</td>\n    </tr>\n    <tr>\n      <th>3</th>\n      <td>675</td>\n      <td>Animalia</td>\n      <td>Amphibia</td>\n      <td>Myobatrachidae</td>\n      <td>Mixophyes fleayi</td>\n      <td>Fleay's barred frog</td>\n      <td>Corben &amp; Ingram, 1987</td>\n      <td>E</td>\n      <td>Y</td>\n      <td>Y</td>\n      <td>Endangered</td>\n      <td>Intranational</td>\n      <td>Endangered</td>\n    </tr>\n    <tr>\n      <th>4</th>\n      <td>676</td>\n      <td>Animalia</td>\n      <td>Amphibia</td>\n      <td>Myobatrachidae</td>\n      <td>Mixophyes iteratus</td>\n      <td>giant barred frog</td>\n      <td>Straughan, 1968</td>\n      <td>V</td>\n      <td>Y</td>\n      <td>Y</td>\n      <td>Vulnerable</td>\n      <td>Intranational</td>\n      <td>Vulnerable</td>\n    </tr>\n    <tr>\n      <th>...</th>\n      <td>...</td>\n      <td>...</td>\n      <td>...</td>\n      <td>...</td>\n      <td>...</td>\n      <td>...</td>\n      <td>...</td>\n      <td>...</td>\n      <td>...</td>\n      <td>...</td>\n      <td>...</td>\n      <td>...</td>\n      <td>...</td>\n    </tr>\n    <tr>\n      <th>2239</th>\n      <td>6482</td>\n      <td>Plantae</td>\n      <td>Equisetopsida</td>\n      <td>Zamiaceae</td>\n      <td>Macrozamia viridis</td>\n      <td>NaN</td>\n      <td>D.L.Jones &amp; P.I.Forst.</td>\n      <td>E</td>\n      <td>Y</td>\n      <td>Y</td>\n      <td>Endangered</td>\n      <td>Intranational</td>\n      <td>NaN</td>\n    </tr>\n    <tr>\n      <th>2240</th>\n      <td>8948</td>\n      <td>Plantae</td>\n      <td>Equisetopsida</td>\n      <td>Zingiberaceae</td>\n      <td>Alpinia hylandii</td>\n      <td>NaN</td>\n      <td>R.M.Sm.</td>\n      <td>NT</td>\n      <td>Y</td>\n      <td>N</td>\n      <td>Near Threatened</td>\n      <td>Queensland Endemic</td>\n      <td>NaN</td>\n    </tr>\n    <tr>\n      <th>2241</th>\n      <td>8949</td>\n      <td>Plantae</td>\n      <td>Equisetopsida</td>\n      <td>Zingiberaceae</td>\n      <td>Amomum queenslandicum</td>\n      <td>NaN</td>\n      <td>R.M.Sm.</td>\n      <td>V</td>\n      <td>Y</td>\n      <td>N</td>\n      <td>Vulnerable</td>\n      <td>Queensland Endemic</td>\n      <td>NaN</td>\n    </tr>\n    <tr>\n      <th>2242</th>\n      <td>12434</td>\n      <td>Plantae</td>\n      <td>Equisetopsida</td>\n      <td>Zingiberaceae</td>\n      <td>Globba marantina</td>\n      <td>NaN</td>\n      <td>L.</td>\n      <td>V</td>\n      <td>Y</td>\n      <td>N</td>\n      <td>Vulnerable</td>\n      <td>Regional Endemic</td>\n      <td>NaN</td>\n    </tr>\n    <tr>\n      <th>2243</th>\n      <td>14130</td>\n      <td>Plantae</td>\n      <td>Equisetopsida</td>\n      <td>Zosteraceae</td>\n      <td>Zostera capricorni</td>\n      <td>eelgrass</td>\n      <td>Asch.</td>\n      <td>SL</td>\n      <td>Y</td>\n      <td>N</td>\n      <td>Special least concern</td>\n      <td>Intranational</td>\n      <td>NaN</td>\n    </tr>\n  </tbody>\n</table>\n<p>2244 rows × 13 columns</p>\n</div>"
     },
     "execution_count": 5,
     "metadata": {},
     "output_type": "execute_result"
    }
   ],
   "source": [
    "conservationlist = conservationlist.rename(columns=\n",
    "{\n",
    "    'Taxon_Id':'taxonID',\n",
    "    'Kingdom':'kingdom',\n",
    "    'Class':'class',\n",
    "    'Family':'family',\n",
    "    'Scientific_name':'scientificName',\n",
    "    'Common_name': 'vernacularName',\n",
    "    'Taxon_author':'scientificNameAuthorship',\n",
    "    'NCA_status':'sourceStatus'\n",
    "})\n",
    "\n",
    "# Replace kingdom and class values with scientific terms\n",
    "conservationlist.loc[conservationlist[\"kingdom\"] == \"animals\", \"kingdom\"] = \"Animalia\"\n",
    "conservationlist.loc[conservationlist[\"kingdom\"] == \"plants\", \"kingdom\"] = \"Plantae\"\n",
    "conservationlist.loc[conservationlist[\"class\"] == \"land plants\", \"class\"] = \"Equisetopsida\"\n",
    "conservationlist.loc[conservationlist[\"class\"] == \"amphibians\", \"class\"] = \"Amphibia\"\n",
    "conservationlist.loc[conservationlist[\"class\"] == \"birds\", \"class\"] = \"Aves\"\n",
    "conservationlist.loc[conservationlist[\"class\"] == \"cartilaginous fishes\", \"class\"] = \"Chondrichthyes\"\n",
    "conservationlist.loc[conservationlist[\"class\"] == \"insects\", \"class\"] = \"Insecta\"\n",
    "conservationlist.loc[conservationlist[\"class\"] == \"malacostracans\", \"class\"] = \"Malacostraca\"\n",
    "conservationlist.loc[conservationlist[\"class\"] == \"mammals\", \"class\"] = \"Mammalia\"\n",
    "conservationlist.loc[conservationlist[\"class\"] == \"ray-finned fishes\", \"class\"] = \"Actinopterygii\"\n",
    "conservationlist.loc[conservationlist[\"class\"] == \"reptiles\", \"class\"] = \"Reptilia\"\n",
    "conservationlist.loc[conservationlist[\"class\"] == \"snails\", \"class\"] = \"Gastropoda\"\n",
    "conservationlist.loc[conservationlist[\"class\"] == \"arachnids\", \"class\"] = \"Arachnida\"\n",
    "conservationlist"
   ],
   "metadata": {
    "collapsed": false,
    "pycharm": {
     "name": "#%%\n"
    }
   }
  },
  {
   "cell_type": "code",
   "execution_count": 6,
   "outputs": [
    {
     "data": {
      "text/plain": "kingdom   class         \nPlantae   Equisetopsida     1868\nAnimalia  Aves               158\n          Reptilia            73\n          Mammalia            68\n          Amphibia            41\n          Actinopterygii      11\n          Malacostraca        11\n          Insecta              8\n          Gastropoda           3\n          Chondrichthyes       2\nPlantae   Charophyceae         1\ndtype: int64"
     },
     "execution_count": 6,
     "metadata": {},
     "output_type": "execute_result"
    }
   ],
   "source": [
    "conservationlist.groupby([\"kingdom\",\"class\"]).size().sort_values(ascending=False)"
   ],
   "metadata": {
    "collapsed": false,
    "pycharm": {
     "name": "#%%\n"
    }
   }
  },
  {
   "cell_type": "code",
   "execution_count": 7,
   "outputs": [
    {
     "data": {
      "text/plain": "2244"
     },
     "execution_count": 7,
     "metadata": {},
     "output_type": "execute_result"
    }
   ],
   "source": [
    "len(conservationlist.index)"
   ],
   "metadata": {
    "collapsed": false,
    "pycharm": {
     "name": "#%%\n"
    }
   }
  },
  {
   "cell_type": "markdown",
   "source": [
    "Write dataframe to CSV - UTF-8 encoding"
   ],
   "metadata": {
    "collapsed": false,
    "pycharm": {
     "name": "#%% md\n"
    }
   }
  },
  {
   "cell_type": "code",
   "execution_count": 8,
   "outputs": [],
   "source": [
    "conservationlist.to_csv(processedDataDir + \"conservation-lists/QLD-conservation.csv\",encoding=\"UTF-8\",index=False)"
   ],
   "metadata": {
    "collapsed": false,
    "pycharm": {
     "name": "#%%\n"
    }
   }
  },
  {
   "cell_type": "markdown",
   "source": [
    "## Sensitive - Qld Confidential list\n",
    "* Read in the Confidential list\n",
    "* Expand the nca status, endemicity and epbc status codes\n",
    "* Rename fields to DwC terms\n",
    "* Replace kingdom and class values with scientific terms\n"
   ],
   "metadata": {
    "collapsed": false,
    "pycharm": {
     "name": "#%% md\n"
    }
   }
  },
  {
   "cell_type": "code",
   "execution_count": 9,
   "outputs": [
    {
     "data": {
      "text/plain": "     taxonID   kingdom          class            family  \\\n0        969  Animalia       Mammalia     Rhinolophidae   \n1       1376  Animalia           Aves       Estrildidae   \n2       1378  Animalia           Aves       Estrildidae   \n3       1370  Animalia           Aves       Estrildidae   \n4       1365  Animalia           Aves       Estrildidae   \n..       ...       ...            ...               ...   \n950    11699   Plantae  Equisetopsida  Thelypteridaceae   \n951    11700   Plantae  Equisetopsida  Thelypteridaceae   \n952    16042   Plantae  Equisetopsida  Thelypteridaceae   \n953     8185   Plantae  Equisetopsida        Proteaceae   \n954     8486   Plantae  Equisetopsida       Psilotaceae   \n\n                   scientificName  \\\n0      Rhinolophus philippinensis   \n1               Chloebia gouldiae   \n2              Erythrura trichroa   \n3    Neochmia phaeton evangelinae   \n4          Poephila cincta cincta   \n..                            ...   \n950        Pneumatopteris costata   \n951      Pneumatopteris pennigera   \n952         Thelypteris confluens   \n953            Macadamia jansenii   \n954        Tmesipteris lanceolata   \n\n                                     vernacularName  \\\n0                 greater large-eared horseshoe bat   \n1                                    Gouldian finch   \n2                           blue-faced parrot-finch   \n3          crimson finch (white-bellied subspecies)   \n4    black-throated finch (white-rumped subspecies)   \n..                                              ...   \n950                                             NaN   \n951                                       lime fern   \n952                                             NaN   \n953                                             NaN   \n954                                             NaN   \n\n        scientificNameAuthorship sourceStatus Significant  \\\n0               Waterhouse, 1843            E           Y   \n1                  (Gould, 1844)            E           Y   \n2               (Kittlitz, 1835)           NT           Y   \n3    (Hombron & Jacquinot, 1841)            E           Y   \n4                    Gould, 1837            E           Y   \n..                           ...          ...         ...   \n950             (Brack.) Holttum           NT           Y   \n951           (G.Forst.) Holttum            E           Y   \n952          (Thunb.) C.V.Morton            V           Y   \n953       C.L.Gross & P.H.Weston           CR           Y   \n954                    P.A.Dang.           PE           Y   \n\n                    status                Endemicity EPBC Status  \n0               Endangered          Regional Endemic  Vulnerable  \n1               Endangered             Intranational  Endangered  \n2          Near Threatened  Not Endemic to Australia         NaN  \n3               Endangered          Regional Endemic  Endangered  \n4               Endangered             Intranational  Endangered  \n..                     ...                       ...         ...  \n950        Near Threatened          Regional Endemic         NaN  \n951             Endangered  Not Endemic to Australia         NaN  \n952             Vulnerable  Not Endemic to Australia         NaN  \n953  Critically Endangered        Queensland Endemic  Endangered  \n954    Extinct in the wild        Queensland Endemic     Extinct  \n\n[955 rows x 12 columns]",
      "text/html": "<div>\n<style scoped>\n    .dataframe tbody tr th:only-of-type {\n        vertical-align: middle;\n    }\n\n    .dataframe tbody tr th {\n        vertical-align: top;\n    }\n\n    .dataframe thead th {\n        text-align: right;\n    }\n</style>\n<table border=\"1\" class=\"dataframe\">\n  <thead>\n    <tr style=\"text-align: right;\">\n      <th></th>\n      <th>taxonID</th>\n      <th>kingdom</th>\n      <th>class</th>\n      <th>family</th>\n      <th>scientificName</th>\n      <th>vernacularName</th>\n      <th>scientificNameAuthorship</th>\n      <th>sourceStatus</th>\n      <th>Significant</th>\n      <th>status</th>\n      <th>Endemicity</th>\n      <th>EPBC Status</th>\n    </tr>\n  </thead>\n  <tbody>\n    <tr>\n      <th>0</th>\n      <td>969</td>\n      <td>Animalia</td>\n      <td>Mammalia</td>\n      <td>Rhinolophidae</td>\n      <td>Rhinolophus philippinensis</td>\n      <td>greater large-eared horseshoe bat</td>\n      <td>Waterhouse, 1843</td>\n      <td>E</td>\n      <td>Y</td>\n      <td>Endangered</td>\n      <td>Regional Endemic</td>\n      <td>Vulnerable</td>\n    </tr>\n    <tr>\n      <th>1</th>\n      <td>1376</td>\n      <td>Animalia</td>\n      <td>Aves</td>\n      <td>Estrildidae</td>\n      <td>Chloebia gouldiae</td>\n      <td>Gouldian finch</td>\n      <td>(Gould, 1844)</td>\n      <td>E</td>\n      <td>Y</td>\n      <td>Endangered</td>\n      <td>Intranational</td>\n      <td>Endangered</td>\n    </tr>\n    <tr>\n      <th>2</th>\n      <td>1378</td>\n      <td>Animalia</td>\n      <td>Aves</td>\n      <td>Estrildidae</td>\n      <td>Erythrura trichroa</td>\n      <td>blue-faced parrot-finch</td>\n      <td>(Kittlitz, 1835)</td>\n      <td>NT</td>\n      <td>Y</td>\n      <td>Near Threatened</td>\n      <td>Not Endemic to Australia</td>\n      <td>NaN</td>\n    </tr>\n    <tr>\n      <th>3</th>\n      <td>1370</td>\n      <td>Animalia</td>\n      <td>Aves</td>\n      <td>Estrildidae</td>\n      <td>Neochmia phaeton evangelinae</td>\n      <td>crimson finch (white-bellied subspecies)</td>\n      <td>(Hombron &amp; Jacquinot, 1841)</td>\n      <td>E</td>\n      <td>Y</td>\n      <td>Endangered</td>\n      <td>Regional Endemic</td>\n      <td>Endangered</td>\n    </tr>\n    <tr>\n      <th>4</th>\n      <td>1365</td>\n      <td>Animalia</td>\n      <td>Aves</td>\n      <td>Estrildidae</td>\n      <td>Poephila cincta cincta</td>\n      <td>black-throated finch (white-rumped subspecies)</td>\n      <td>Gould, 1837</td>\n      <td>E</td>\n      <td>Y</td>\n      <td>Endangered</td>\n      <td>Intranational</td>\n      <td>Endangered</td>\n    </tr>\n    <tr>\n      <th>...</th>\n      <td>...</td>\n      <td>...</td>\n      <td>...</td>\n      <td>...</td>\n      <td>...</td>\n      <td>...</td>\n      <td>...</td>\n      <td>...</td>\n      <td>...</td>\n      <td>...</td>\n      <td>...</td>\n      <td>...</td>\n    </tr>\n    <tr>\n      <th>950</th>\n      <td>11699</td>\n      <td>Plantae</td>\n      <td>Equisetopsida</td>\n      <td>Thelypteridaceae</td>\n      <td>Pneumatopteris costata</td>\n      <td>NaN</td>\n      <td>(Brack.) Holttum</td>\n      <td>NT</td>\n      <td>Y</td>\n      <td>Near Threatened</td>\n      <td>Regional Endemic</td>\n      <td>NaN</td>\n    </tr>\n    <tr>\n      <th>951</th>\n      <td>11700</td>\n      <td>Plantae</td>\n      <td>Equisetopsida</td>\n      <td>Thelypteridaceae</td>\n      <td>Pneumatopteris pennigera</td>\n      <td>lime fern</td>\n      <td>(G.Forst.) Holttum</td>\n      <td>E</td>\n      <td>Y</td>\n      <td>Endangered</td>\n      <td>Not Endemic to Australia</td>\n      <td>NaN</td>\n    </tr>\n    <tr>\n      <th>952</th>\n      <td>16042</td>\n      <td>Plantae</td>\n      <td>Equisetopsida</td>\n      <td>Thelypteridaceae</td>\n      <td>Thelypteris confluens</td>\n      <td>NaN</td>\n      <td>(Thunb.) C.V.Morton</td>\n      <td>V</td>\n      <td>Y</td>\n      <td>Vulnerable</td>\n      <td>Not Endemic to Australia</td>\n      <td>NaN</td>\n    </tr>\n    <tr>\n      <th>953</th>\n      <td>8185</td>\n      <td>Plantae</td>\n      <td>Equisetopsida</td>\n      <td>Proteaceae</td>\n      <td>Macadamia jansenii</td>\n      <td>NaN</td>\n      <td>C.L.Gross &amp; P.H.Weston</td>\n      <td>CR</td>\n      <td>Y</td>\n      <td>Critically Endangered</td>\n      <td>Queensland Endemic</td>\n      <td>Endangered</td>\n    </tr>\n    <tr>\n      <th>954</th>\n      <td>8486</td>\n      <td>Plantae</td>\n      <td>Equisetopsida</td>\n      <td>Psilotaceae</td>\n      <td>Tmesipteris lanceolata</td>\n      <td>NaN</td>\n      <td>P.A.Dang.</td>\n      <td>PE</td>\n      <td>Y</td>\n      <td>Extinct in the wild</td>\n      <td>Queensland Endemic</td>\n      <td>Extinct</td>\n    </tr>\n  </tbody>\n</table>\n<p>955 rows × 12 columns</p>\n</div>"
     },
     "execution_count": 9,
     "metadata": {},
     "output_type": "execute_result"
    }
   ],
   "source": [
    "confidentiallist = pd.read_csv(sourceDataDir + \"qld-confidential-species.csv\")\n",
    "# nca status\n",
    "confidentiallist = pd.merge(confidentiallist,ncastatuscodes,left_on=['NCA status'],right_on=['Code'],how=\"left\")\n",
    "confidentiallist.drop(['Code'],axis=1,inplace=True)\n",
    "confidentiallist = confidentiallist.rename(columns={'NCA status':'sourceStatus','Code_description':'status'})\n",
    "# endemicity\n",
    "confidentiallist = pd.merge(confidentiallist,endemicitycodes,left_on=['Endemicity'],right_on=['Code'],how=\"left\")\n",
    "confidentiallist.drop(['Code','Endemicity'],axis=1,inplace=True)\n",
    "confidentiallist = confidentiallist.rename(columns={'Code_description':'Endemicity'})\n",
    "# epbc\n",
    "confidentiallist = pd.merge(confidentiallist,epbccodes,left_on=['EPBC status'],right_on=['Code'],how=\"left\")\n",
    "confidentiallist.drop(['Code','EPBC status','Unnamed: 0'],axis=1,inplace=True)\n",
    "confidentiallist = confidentiallist.rename(columns={'Code_description':'EPBC Status'})\n",
    "\n",
    "# rename fields\n",
    "confidentiallist = confidentiallist.rename(columns=\n",
    "{\n",
    "    'Taxon Id':'taxonID',\n",
    "    'Kingdom':'kingdom',\n",
    "    'Class':'class',\n",
    "    'Family':'family',\n",
    "    'Scientific name':'scientificName',\n",
    "    'Common name': 'vernacularName',\n",
    "    'Taxon author':'scientificNameAuthorship'\n",
    "})\n",
    "\n",
    "#confidentiallist.groupby([\"kingdom\",\"class\"]).size()\n",
    "\n",
    "confidentiallist.loc[confidentiallist[\"kingdom\"] == \"animals\", \"kingdom\"] = \"Animalia\"\n",
    "confidentiallist.loc[confidentiallist[\"kingdom\"] == \"plants\", \"kingdom\"] = \"Plantae\"\n",
    "confidentiallist.loc[confidentiallist[\"class\"] == \"land plants\", \"class\"] = \"Equisetopsida\"\n",
    "confidentiallist.loc[confidentiallist[\"class\"] == \"amphibians\", \"class\"] = \"Amphibia\"\n",
    "confidentiallist.loc[confidentiallist[\"class\"] == \"birds\", \"class\"] = \"Aves\"\n",
    "confidentiallist.loc[confidentiallist[\"class\"] == \"cartilaginous fishes\", \"class\"] = \"Chondrichthyes\"\n",
    "confidentiallist.loc[confidentiallist[\"class\"] == \"insects\", \"class\"] = \"Insecta\"\n",
    "confidentiallist.loc[confidentiallist[\"class\"] == \"malacostracans\", \"class\"] = \"Malacostraca\"\n",
    "confidentiallist.loc[confidentiallist[\"class\"] == \"mammals\", \"class\"] = \"Mammalia\"\n",
    "confidentiallist.loc[confidentiallist[\"class\"] == \"ray-finned fishes\", \"class\"] = \"Actinopterygii\"\n",
    "confidentiallist.loc[confidentiallist[\"class\"] == \"reptiles\", \"class\"] = \"Reptilia\"\n",
    "confidentiallist.loc[confidentiallist[\"class\"] == \"snails\", \"class\"] = \"Gastropoda\"\n",
    "confidentiallist.loc[confidentiallist[\"class\"] == \"arachnids\", \"class\"] = \"Arachnida\"\n",
    "confidentiallist"
   ],
   "metadata": {
    "collapsed": false,
    "pycharm": {
     "name": "#%%\n"
    }
   }
  },
  {
   "cell_type": "markdown",
   "source": [],
   "metadata": {
    "collapsed": false,
    "pycharm": {
     "name": "#%% md\n"
    }
   }
  },
  {
   "cell_type": "code",
   "execution_count": 10,
   "outputs": [
    {
     "data": {
      "text/plain": "kingdom   class         \nPlantae   Equisetopsida     851\nAnimalia  Reptilia           30\n          Aves               24\n          Amphibia           22\n          Malacostraca       10\n          Actinopterygii      7\n          Insecta             7\n          Arachnida           3\n          Mammalia            1\ndtype: int64"
     },
     "execution_count": 10,
     "metadata": {},
     "output_type": "execute_result"
    }
   ],
   "source": [
    "confidentiallist.groupby([\"kingdom\",\"class\"]).size().sort_values(ascending=False)"
   ],
   "metadata": {
    "collapsed": false,
    "pycharm": {
     "name": "#%%\n"
    }
   }
  },
  {
   "cell_type": "code",
   "execution_count": 11,
   "outputs": [
    {
     "data": {
      "text/plain": "955"
     },
     "execution_count": 11,
     "metadata": {},
     "output_type": "execute_result"
    }
   ],
   "source": [
    "len(confidentiallist.index)"
   ],
   "metadata": {
    "collapsed": false,
    "pycharm": {
     "name": "#%%\n"
    }
   }
  },
  {
   "cell_type": "markdown",
   "source": [
    "## Write to CSV"
   ],
   "metadata": {
    "collapsed": false,
    "pycharm": {
     "name": "#%% md\n"
    }
   }
  },
  {
   "cell_type": "code",
   "execution_count": 12,
   "outputs": [],
   "source": [
    "confidentiallist.to_csv(processedDataDir + \"sensitive-lists/QLD-sensitive.csv\",encoding=\"UTF-8\",index=False)"
   ],
   "metadata": {
    "collapsed": false,
    "pycharm": {
     "name": "#%%\n"
    }
   }
  },
  {
   "cell_type": "markdown",
   "source": [],
   "metadata": {
    "collapsed": false,
    "pycharm": {
     "name": "#%% md\n"
    }
   }
  },
  {
   "cell_type": "markdown",
   "source": [
    "# Manual List check\n",
    "\n",
    "**Instructions**\n",
    "1. Load the lists above into the lists-test tool\n",
    "2. Check the list name matching score and the text appearance on species pages\n",
    "3. Unskip the below code and Run the reports below to compare to production. Send the changelog.csv to check. Correct any issues.\n",
    "4. Save the production list into the `historical lists` directory by uncommenting the code section below.\n",
    "5. Load the lists into production"
   ],
   "metadata": {
    "collapsed": false,
    "pycharm": {
     "name": "#%% md\n"
    }
   }
  },
  {
   "cell_type": "markdown",
   "source": [
    "### Define functions"
   ],
   "metadata": {
    "collapsed": false
   }
  },
  {
   "cell_type": "code",
   "execution_count": 22,
   "outputs": [],
   "source": [
    "def download_ala_list(url: str):\n",
    "    with urllib.request.urlopen(url, context=ssl.create_default_context(cafile=certifi.where())) as url:\n",
    "        data = json.loads(url.read().decode())\n",
    "        data = pd.json_normalize(data)\n",
    "        return data\n",
    "\n",
    "def kvp_to_columns(df):\n",
    "    d0 = pd.DataFrame()\n",
    "    for i in df.index:\n",
    "        kvpdf = pd.json_normalize(df.kvpValues[i])\n",
    "        kvpdf = kvpdf.transpose()\n",
    "        kvpdf.columns = kvpdf.loc['key'] #rename columns to the keys\n",
    "        kvpdf.drop(['key'], inplace=True) #drop the keys row\n",
    "        kvpdf['id'] = df.id[i]\n",
    "        kvpdf = pd.merge(df,kvpdf,\"inner\",on=\"id\")\n",
    "        d0 = pd.concat([d0,kvpdf])\n",
    "    return d0\n",
    "\n",
    "def get_changelist(newListUrl: str, oldListUrl: str):\n",
    "    oldList = download_ala_list(oldListUrl)\n",
    "    oldList = kvp_to_columns(oldList)\n",
    "    newList = download_ala_list(newListUrl)\n",
    "    newList = kvp_to_columns(newList)\n",
    "    # new names\n",
    "    newVsOld = pd.merge(newList, oldList, how='left', on='name', suffixes=('_new','_old'))\n",
    "    newVsOld = newVsOld[newVsOld['scientificName_old'].isna()][['name', 'commonName_new', 'scientificName_new','status_new']]\n",
    "    newVsOld['listUpdate'] = 'added'\n",
    "    # removed names\n",
    "    oldVsNew = pd.merge(oldList, newList, how='left', on='name', suffixes=('_old','_new'))\n",
    "    oldVsNew = oldVsNew[oldVsNew['scientificName_new'].isna()][['name', 'commonName_old', 'scientificName_old','status_old']]\n",
    "    oldVsNew['listUpdate'] = 'removed'\n",
    "    # status changes\n",
    "    statusChanges = pd.merge(newList, oldList, how='left', on='name', suffixes=('_new','_old'))\n",
    "    statusChanges = statusChanges[statusChanges['status_new'] != statusChanges['status_old']][['name','commonName_new','scientificName_new','status_new','status_old']]\n",
    "    statusChanges['listUpdate'] = 'status change'\n",
    "    # union and display in alphabetical order and save locally\n",
    "    changeList = pd.concat([newVsOld, oldVsNew])\n",
    "    #changeList = changeList[['listUpdate','name','scientificName_x','commonName_x','status_x','status_y']].sort_values('name')\n",
    "    return changeList"
   ],
   "metadata": {
    "collapsed": false,
    "pycharm": {
     "name": "#%%\n"
    }
   }
  },
  {
   "cell_type": "markdown",
   "source": [
    "### Conservation List - Download old and new and compare"
   ],
   "metadata": {
    "collapsed": false
   }
  },
  {
   "cell_type": "code",
   "execution_count": 23,
   "outputs": [
    {
     "data": {
      "text/plain": "                                          name  \\\n147         Lophochroa leadbeateri leadbeateri   \n153                       Neophema chrysostoma   \n164             Climacteris picumnus victoriae   \n173                    Aphelocephala leucopsis   \n186            Melanodryas cucullata cucullata   \n195                      Stagonopleura guttata   \n212                        Euastacus dalagarbe   \n240                    Hemibelideus lemuroides   \n288            Melanotaenia sp. nov. 'Malanda'   \n289      Melanotaenia sp. nov. 'Running River'   \n330                           Varanus mertensi   \n331                          Varanus mitchelli   \n349                          Lerista colliveri   \n352                      Lerista rochfordensis   \n361              Tiliqua scincoides intermedia   \n449                       Aponogeton elongatus   \n498                           Leuzea australis   \n539                         Blechnum neglectum   \n547                        Blechnum spinulosum   \n562                       Canarium acutifolium   \n574                          Kayea larnachiana   \n646                     Corynocarpus rupestris   \n710                           Hibbertia advena   \n1024                  Heliodendron xanthoxylon   \n1121                         Ficus melinocarpa   \n1342                   Bulbophyllum weinthalii   \n1686                  Sarcochilus tricalliatus   \n1769                       Digitaria basaltica   \n1771                    Digitaria veldkampiana   \n1999                   Philotheca obovatifolia   \n2023                           Xylosma craynii   \n147                     Lophochroa leadbeateri   \n335                               Lerista alia   \n341                          Lerista parameles   \n342                             Lerista storri   \n498                       Rhaponticum australe   \n620                          Mesua larnachiana   \n673                        Halodule tridentata   \n699   Hibbertia sp. (Taravale J.E.Kemp+ 20074)   \n823                      Myriophyllum artesium   \n1000               Archidendropsis xanthoxylon   \n1857                           Helicia recurva   \n2005  Xylosma sp. (Mt Lewis G.Sankowsky+ 1108)   \n\n                              commonName_new  \\\n147                                     None   \n153                       Blue-winged Parrot   \n164   Brown Treecreeper (eastern Subspecies)   \n173                        Western Whiteface   \n186        Hooded Robin (south-eastern Form)   \n195                         Diamond Firetail   \n212                Freshwater Crayfish/yabby   \n240                 Lemuroid Ringtail Possum   \n288                                     None   \n289                                     None   \n330                   Mertens' Water Monitor   \n331                 Mitchell's Water Monitor   \n349               Nubbined Fine-lined Slider   \n352                                     None   \n361              Northern Blue-tongued Skink   \n449                                   Gabirr   \n498                       Austral Cornflower   \n539                                     None   \n547                          Small Rasp-fern   \n562                                     None   \n574                                Lace Wood   \n646                          Glenugie Karaka   \n710                           Guinea Flowers   \n1024                                    None   \n1121                                    None   \n1342                   Blotched Bulbophyllum   \n1686                                    None   \n1769                                    None   \n1771                                    None   \n1999                                    None   \n2023                                    None   \n147                                      NaN   \n335                                      NaN   \n341                                      NaN   \n342                                      NaN   \n498                                      NaN   \n620                                      NaN   \n673                                      NaN   \n699                                      NaN   \n823                                      NaN   \n1000                                     NaN   \n1857                                     NaN   \n2005                                     NaN   \n\n                                 scientificName_new             status_new  \\\n147              Lophochroa leadbeateri leadbeateri             Endangered   \n153               Neophema (Neonanodes) chrysostoma             Vulnerable   \n164    Climacteris (Climacteris) picumnus victoriae             Vulnerable   \n173                         Aphelocephala leucopsis             Vulnerable   \n186   Melanodryas (Melanodryas) cucullata cucullata             Endangered   \n195           Stagonopleura (Stagonopleura) guttata             Vulnerable   \n212                             Euastacus dalagarbe  Critically Endangered   \n240                         Hemibelideus lemuroides  Critically Endangered   \n288                                    Melanotaenia  Critically Endangered   \n289                                    Melanotaenia  Critically Endangered   \n330                                Varanus mertensi             Endangered   \n331                               Varanus mitchelli  Critically Endangered   \n349                               Lerista colliveri             Endangered   \n352                           Lerista rochfordensis             Endangered   \n361                   Tiliqua scincoides intermedia  Critically Endangered   \n449                            Aponogeton elongatus        Near Threatened   \n498                            Rhaponticum australe             Vulnerable   \n539                              Blechnum neglectum  Special least concern   \n547                               Blechnum rupestre  Special least concern   \n562                            Canarium acutifolium             Vulnerable   \n574                               Mesua larnachiana             Vulnerable   \n646                          Corynocarpus rupestris             Vulnerable   \n710                                       Hibbertia             Endangered   \n1024                                       Fabaceae        Near Threatened   \n1121                              Ficus melinocarpa        Near Threatened   \n1342                        Bulbophyllum weinthalii             Vulnerable   \n1686                         Sarcochilus minutiflos  Special least concern   \n1769                            Digitaria basaltica  Critically Endangered   \n1771                         Digitaria veldkampiana  Critically Endangered   \n1999                        Philotheca obovatifolia             Vulnerable   \n2023                                        Xylosma             Vulnerable   \n147                                             NaN                    NaN   \n335                                             NaN                    NaN   \n341                                             NaN                    NaN   \n342                                             NaN                    NaN   \n498                                             NaN                    NaN   \n620                                             NaN                    NaN   \n673                                             NaN                    NaN   \n699                                             NaN                    NaN   \n823                                             NaN                    NaN   \n1000                                            NaN                    NaN   \n1857                                            NaN                    NaN   \n2005                                            NaN                    NaN   \n\n     listUpdate                commonName_old  \\\n147       added                           NaN   \n153       added                           NaN   \n164       added                           NaN   \n173       added                           NaN   \n186       added                           NaN   \n195       added                           NaN   \n212       added                           NaN   \n240       added                           NaN   \n288       added                           NaN   \n289       added                           NaN   \n330       added                           NaN   \n331       added                           NaN   \n349       added                           NaN   \n352       added                           NaN   \n361       added                           NaN   \n449       added                           NaN   \n498       added                           NaN   \n539       added                           NaN   \n547       added                           NaN   \n562       added                           NaN   \n574       added                           NaN   \n646       added                           NaN   \n710       added                           NaN   \n1024      added                           NaN   \n1121      added                           NaN   \n1342      added                           NaN   \n1686      added                           NaN   \n1769      added                           NaN   \n1771      added                           NaN   \n1999      added                           NaN   \n2023      added                           NaN   \n147     removed     Major Mitchell's Cockatoo   \n335     removed  Bulleringa Fine-lined Slider   \n341     removed   Chillagoe Fine-lined Slider   \n342     removed   Chillagoe Fine-lined Slider   \n498     removed            Austral Cornflower   \n620     removed                     Lace Wood   \n673     removed                          None   \n699     removed                          None   \n823     removed                          None   \n1000    removed                      Flindosy   \n1857    removed                          None   \n2005    removed                          None   \n\n                            scientificName_old             status_old  \n147                                        NaN                    NaN  \n153                                        NaN                    NaN  \n164                                        NaN                    NaN  \n173                                        NaN                    NaN  \n186                                        NaN                    NaN  \n195                                        NaN                    NaN  \n212                                        NaN                    NaN  \n240                                        NaN                    NaN  \n288                                        NaN                    NaN  \n289                                        NaN                    NaN  \n330                                        NaN                    NaN  \n331                                        NaN                    NaN  \n349                                        NaN                    NaN  \n352                                        NaN                    NaN  \n361                                        NaN                    NaN  \n449                                        NaN                    NaN  \n498                                        NaN                    NaN  \n539                                        NaN                    NaN  \n547                                        NaN                    NaN  \n562                                        NaN                    NaN  \n574                                        NaN                    NaN  \n646                                        NaN                    NaN  \n710                                        NaN                    NaN  \n1024                                       NaN                    NaN  \n1121                                       NaN                    NaN  \n1342                                       NaN                    NaN  \n1686                                       NaN                    NaN  \n1769                                       NaN                    NaN  \n1771                                       NaN                    NaN  \n1999                                       NaN                    NaN  \n2023                                       NaN                    NaN  \n147                     Lophochroa leadbeateri             Vulnerable  \n335                               Lerista alia             Vulnerable  \n341                          Lerista parameles             Vulnerable  \n342                             Lerista storri             Vulnerable  \n498                       Rhaponticum australe             Vulnerable  \n620                          Mesua larnachiana             Vulnerable  \n673                        Halodule tridentata  Special least concern  \n699   Hibbertia sp. (Taravale J.E.Kemp+ 20074)             Endangered  \n823                      Myriophyllum artesium             Endangered  \n1000               Archidendropsis xanthoxylon        Near Threatened  \n1857                           Helicia recurva        Near Threatened  \n2005  Xylosma sp. Mt Lewis (G.Sankowsky+ 1108)             Vulnerable  ",
      "text/html": "<div>\n<style scoped>\n    .dataframe tbody tr th:only-of-type {\n        vertical-align: middle;\n    }\n\n    .dataframe tbody tr th {\n        vertical-align: top;\n    }\n\n    .dataframe thead th {\n        text-align: right;\n    }\n</style>\n<table border=\"1\" class=\"dataframe\">\n  <thead>\n    <tr style=\"text-align: right;\">\n      <th></th>\n      <th>name</th>\n      <th>commonName_new</th>\n      <th>scientificName_new</th>\n      <th>status_new</th>\n      <th>listUpdate</th>\n      <th>commonName_old</th>\n      <th>scientificName_old</th>\n      <th>status_old</th>\n    </tr>\n  </thead>\n  <tbody>\n    <tr>\n      <th>147</th>\n      <td>Lophochroa leadbeateri leadbeateri</td>\n      <td>None</td>\n      <td>Lophochroa leadbeateri leadbeateri</td>\n      <td>Endangered</td>\n      <td>added</td>\n      <td>NaN</td>\n      <td>NaN</td>\n      <td>NaN</td>\n    </tr>\n    <tr>\n      <th>153</th>\n      <td>Neophema chrysostoma</td>\n      <td>Blue-winged Parrot</td>\n      <td>Neophema (Neonanodes) chrysostoma</td>\n      <td>Vulnerable</td>\n      <td>added</td>\n      <td>NaN</td>\n      <td>NaN</td>\n      <td>NaN</td>\n    </tr>\n    <tr>\n      <th>164</th>\n      <td>Climacteris picumnus victoriae</td>\n      <td>Brown Treecreeper (eastern Subspecies)</td>\n      <td>Climacteris (Climacteris) picumnus victoriae</td>\n      <td>Vulnerable</td>\n      <td>added</td>\n      <td>NaN</td>\n      <td>NaN</td>\n      <td>NaN</td>\n    </tr>\n    <tr>\n      <th>173</th>\n      <td>Aphelocephala leucopsis</td>\n      <td>Western Whiteface</td>\n      <td>Aphelocephala leucopsis</td>\n      <td>Vulnerable</td>\n      <td>added</td>\n      <td>NaN</td>\n      <td>NaN</td>\n      <td>NaN</td>\n    </tr>\n    <tr>\n      <th>186</th>\n      <td>Melanodryas cucullata cucullata</td>\n      <td>Hooded Robin (south-eastern Form)</td>\n      <td>Melanodryas (Melanodryas) cucullata cucullata</td>\n      <td>Endangered</td>\n      <td>added</td>\n      <td>NaN</td>\n      <td>NaN</td>\n      <td>NaN</td>\n    </tr>\n    <tr>\n      <th>195</th>\n      <td>Stagonopleura guttata</td>\n      <td>Diamond Firetail</td>\n      <td>Stagonopleura (Stagonopleura) guttata</td>\n      <td>Vulnerable</td>\n      <td>added</td>\n      <td>NaN</td>\n      <td>NaN</td>\n      <td>NaN</td>\n    </tr>\n    <tr>\n      <th>212</th>\n      <td>Euastacus dalagarbe</td>\n      <td>Freshwater Crayfish/yabby</td>\n      <td>Euastacus dalagarbe</td>\n      <td>Critically Endangered</td>\n      <td>added</td>\n      <td>NaN</td>\n      <td>NaN</td>\n      <td>NaN</td>\n    </tr>\n    <tr>\n      <th>240</th>\n      <td>Hemibelideus lemuroides</td>\n      <td>Lemuroid Ringtail Possum</td>\n      <td>Hemibelideus lemuroides</td>\n      <td>Critically Endangered</td>\n      <td>added</td>\n      <td>NaN</td>\n      <td>NaN</td>\n      <td>NaN</td>\n    </tr>\n    <tr>\n      <th>288</th>\n      <td>Melanotaenia sp. nov. 'Malanda'</td>\n      <td>None</td>\n      <td>Melanotaenia</td>\n      <td>Critically Endangered</td>\n      <td>added</td>\n      <td>NaN</td>\n      <td>NaN</td>\n      <td>NaN</td>\n    </tr>\n    <tr>\n      <th>289</th>\n      <td>Melanotaenia sp. nov. 'Running River'</td>\n      <td>None</td>\n      <td>Melanotaenia</td>\n      <td>Critically Endangered</td>\n      <td>added</td>\n      <td>NaN</td>\n      <td>NaN</td>\n      <td>NaN</td>\n    </tr>\n    <tr>\n      <th>330</th>\n      <td>Varanus mertensi</td>\n      <td>Mertens' Water Monitor</td>\n      <td>Varanus mertensi</td>\n      <td>Endangered</td>\n      <td>added</td>\n      <td>NaN</td>\n      <td>NaN</td>\n      <td>NaN</td>\n    </tr>\n    <tr>\n      <th>331</th>\n      <td>Varanus mitchelli</td>\n      <td>Mitchell's Water Monitor</td>\n      <td>Varanus mitchelli</td>\n      <td>Critically Endangered</td>\n      <td>added</td>\n      <td>NaN</td>\n      <td>NaN</td>\n      <td>NaN</td>\n    </tr>\n    <tr>\n      <th>349</th>\n      <td>Lerista colliveri</td>\n      <td>Nubbined Fine-lined Slider</td>\n      <td>Lerista colliveri</td>\n      <td>Endangered</td>\n      <td>added</td>\n      <td>NaN</td>\n      <td>NaN</td>\n      <td>NaN</td>\n    </tr>\n    <tr>\n      <th>352</th>\n      <td>Lerista rochfordensis</td>\n      <td>None</td>\n      <td>Lerista rochfordensis</td>\n      <td>Endangered</td>\n      <td>added</td>\n      <td>NaN</td>\n      <td>NaN</td>\n      <td>NaN</td>\n    </tr>\n    <tr>\n      <th>361</th>\n      <td>Tiliqua scincoides intermedia</td>\n      <td>Northern Blue-tongued Skink</td>\n      <td>Tiliqua scincoides intermedia</td>\n      <td>Critically Endangered</td>\n      <td>added</td>\n      <td>NaN</td>\n      <td>NaN</td>\n      <td>NaN</td>\n    </tr>\n    <tr>\n      <th>449</th>\n      <td>Aponogeton elongatus</td>\n      <td>Gabirr</td>\n      <td>Aponogeton elongatus</td>\n      <td>Near Threatened</td>\n      <td>added</td>\n      <td>NaN</td>\n      <td>NaN</td>\n      <td>NaN</td>\n    </tr>\n    <tr>\n      <th>498</th>\n      <td>Leuzea australis</td>\n      <td>Austral Cornflower</td>\n      <td>Rhaponticum australe</td>\n      <td>Vulnerable</td>\n      <td>added</td>\n      <td>NaN</td>\n      <td>NaN</td>\n      <td>NaN</td>\n    </tr>\n    <tr>\n      <th>539</th>\n      <td>Blechnum neglectum</td>\n      <td>None</td>\n      <td>Blechnum neglectum</td>\n      <td>Special least concern</td>\n      <td>added</td>\n      <td>NaN</td>\n      <td>NaN</td>\n      <td>NaN</td>\n    </tr>\n    <tr>\n      <th>547</th>\n      <td>Blechnum spinulosum</td>\n      <td>Small Rasp-fern</td>\n      <td>Blechnum rupestre</td>\n      <td>Special least concern</td>\n      <td>added</td>\n      <td>NaN</td>\n      <td>NaN</td>\n      <td>NaN</td>\n    </tr>\n    <tr>\n      <th>562</th>\n      <td>Canarium acutifolium</td>\n      <td>None</td>\n      <td>Canarium acutifolium</td>\n      <td>Vulnerable</td>\n      <td>added</td>\n      <td>NaN</td>\n      <td>NaN</td>\n      <td>NaN</td>\n    </tr>\n    <tr>\n      <th>574</th>\n      <td>Kayea larnachiana</td>\n      <td>Lace Wood</td>\n      <td>Mesua larnachiana</td>\n      <td>Vulnerable</td>\n      <td>added</td>\n      <td>NaN</td>\n      <td>NaN</td>\n      <td>NaN</td>\n    </tr>\n    <tr>\n      <th>646</th>\n      <td>Corynocarpus rupestris</td>\n      <td>Glenugie Karaka</td>\n      <td>Corynocarpus rupestris</td>\n      <td>Vulnerable</td>\n      <td>added</td>\n      <td>NaN</td>\n      <td>NaN</td>\n      <td>NaN</td>\n    </tr>\n    <tr>\n      <th>710</th>\n      <td>Hibbertia advena</td>\n      <td>Guinea Flowers</td>\n      <td>Hibbertia</td>\n      <td>Endangered</td>\n      <td>added</td>\n      <td>NaN</td>\n      <td>NaN</td>\n      <td>NaN</td>\n    </tr>\n    <tr>\n      <th>1024</th>\n      <td>Heliodendron xanthoxylon</td>\n      <td>None</td>\n      <td>Fabaceae</td>\n      <td>Near Threatened</td>\n      <td>added</td>\n      <td>NaN</td>\n      <td>NaN</td>\n      <td>NaN</td>\n    </tr>\n    <tr>\n      <th>1121</th>\n      <td>Ficus melinocarpa</td>\n      <td>None</td>\n      <td>Ficus melinocarpa</td>\n      <td>Near Threatened</td>\n      <td>added</td>\n      <td>NaN</td>\n      <td>NaN</td>\n      <td>NaN</td>\n    </tr>\n    <tr>\n      <th>1342</th>\n      <td>Bulbophyllum weinthalii</td>\n      <td>Blotched Bulbophyllum</td>\n      <td>Bulbophyllum weinthalii</td>\n      <td>Vulnerable</td>\n      <td>added</td>\n      <td>NaN</td>\n      <td>NaN</td>\n      <td>NaN</td>\n    </tr>\n    <tr>\n      <th>1686</th>\n      <td>Sarcochilus tricalliatus</td>\n      <td>None</td>\n      <td>Sarcochilus minutiflos</td>\n      <td>Special least concern</td>\n      <td>added</td>\n      <td>NaN</td>\n      <td>NaN</td>\n      <td>NaN</td>\n    </tr>\n    <tr>\n      <th>1769</th>\n      <td>Digitaria basaltica</td>\n      <td>None</td>\n      <td>Digitaria basaltica</td>\n      <td>Critically Endangered</td>\n      <td>added</td>\n      <td>NaN</td>\n      <td>NaN</td>\n      <td>NaN</td>\n    </tr>\n    <tr>\n      <th>1771</th>\n      <td>Digitaria veldkampiana</td>\n      <td>None</td>\n      <td>Digitaria veldkampiana</td>\n      <td>Critically Endangered</td>\n      <td>added</td>\n      <td>NaN</td>\n      <td>NaN</td>\n      <td>NaN</td>\n    </tr>\n    <tr>\n      <th>1999</th>\n      <td>Philotheca obovatifolia</td>\n      <td>None</td>\n      <td>Philotheca obovatifolia</td>\n      <td>Vulnerable</td>\n      <td>added</td>\n      <td>NaN</td>\n      <td>NaN</td>\n      <td>NaN</td>\n    </tr>\n    <tr>\n      <th>2023</th>\n      <td>Xylosma craynii</td>\n      <td>None</td>\n      <td>Xylosma</td>\n      <td>Vulnerable</td>\n      <td>added</td>\n      <td>NaN</td>\n      <td>NaN</td>\n      <td>NaN</td>\n    </tr>\n    <tr>\n      <th>147</th>\n      <td>Lophochroa leadbeateri</td>\n      <td>NaN</td>\n      <td>NaN</td>\n      <td>NaN</td>\n      <td>removed</td>\n      <td>Major Mitchell's Cockatoo</td>\n      <td>Lophochroa leadbeateri</td>\n      <td>Vulnerable</td>\n    </tr>\n    <tr>\n      <th>335</th>\n      <td>Lerista alia</td>\n      <td>NaN</td>\n      <td>NaN</td>\n      <td>NaN</td>\n      <td>removed</td>\n      <td>Bulleringa Fine-lined Slider</td>\n      <td>Lerista alia</td>\n      <td>Vulnerable</td>\n    </tr>\n    <tr>\n      <th>341</th>\n      <td>Lerista parameles</td>\n      <td>NaN</td>\n      <td>NaN</td>\n      <td>NaN</td>\n      <td>removed</td>\n      <td>Chillagoe Fine-lined Slider</td>\n      <td>Lerista parameles</td>\n      <td>Vulnerable</td>\n    </tr>\n    <tr>\n      <th>342</th>\n      <td>Lerista storri</td>\n      <td>NaN</td>\n      <td>NaN</td>\n      <td>NaN</td>\n      <td>removed</td>\n      <td>Chillagoe Fine-lined Slider</td>\n      <td>Lerista storri</td>\n      <td>Vulnerable</td>\n    </tr>\n    <tr>\n      <th>498</th>\n      <td>Rhaponticum australe</td>\n      <td>NaN</td>\n      <td>NaN</td>\n      <td>NaN</td>\n      <td>removed</td>\n      <td>Austral Cornflower</td>\n      <td>Rhaponticum australe</td>\n      <td>Vulnerable</td>\n    </tr>\n    <tr>\n      <th>620</th>\n      <td>Mesua larnachiana</td>\n      <td>NaN</td>\n      <td>NaN</td>\n      <td>NaN</td>\n      <td>removed</td>\n      <td>Lace Wood</td>\n      <td>Mesua larnachiana</td>\n      <td>Vulnerable</td>\n    </tr>\n    <tr>\n      <th>673</th>\n      <td>Halodule tridentata</td>\n      <td>NaN</td>\n      <td>NaN</td>\n      <td>NaN</td>\n      <td>removed</td>\n      <td>None</td>\n      <td>Halodule tridentata</td>\n      <td>Special least concern</td>\n    </tr>\n    <tr>\n      <th>699</th>\n      <td>Hibbertia sp. (Taravale J.E.Kemp+ 20074)</td>\n      <td>NaN</td>\n      <td>NaN</td>\n      <td>NaN</td>\n      <td>removed</td>\n      <td>None</td>\n      <td>Hibbertia sp. (Taravale J.E.Kemp+ 20074)</td>\n      <td>Endangered</td>\n    </tr>\n    <tr>\n      <th>823</th>\n      <td>Myriophyllum artesium</td>\n      <td>NaN</td>\n      <td>NaN</td>\n      <td>NaN</td>\n      <td>removed</td>\n      <td>None</td>\n      <td>Myriophyllum artesium</td>\n      <td>Endangered</td>\n    </tr>\n    <tr>\n      <th>1000</th>\n      <td>Archidendropsis xanthoxylon</td>\n      <td>NaN</td>\n      <td>NaN</td>\n      <td>NaN</td>\n      <td>removed</td>\n      <td>Flindosy</td>\n      <td>Archidendropsis xanthoxylon</td>\n      <td>Near Threatened</td>\n    </tr>\n    <tr>\n      <th>1857</th>\n      <td>Helicia recurva</td>\n      <td>NaN</td>\n      <td>NaN</td>\n      <td>NaN</td>\n      <td>removed</td>\n      <td>None</td>\n      <td>Helicia recurva</td>\n      <td>Near Threatened</td>\n    </tr>\n    <tr>\n      <th>2005</th>\n      <td>Xylosma sp. (Mt Lewis G.Sankowsky+ 1108)</td>\n      <td>NaN</td>\n      <td>NaN</td>\n      <td>NaN</td>\n      <td>removed</td>\n      <td>None</td>\n      <td>Xylosma sp. Mt Lewis (G.Sankowsky+ 1108)</td>\n      <td>Vulnerable</td>\n    </tr>\n  </tbody>\n</table>\n</div>"
     },
     "execution_count": 23,
     "metadata": {},
     "output_type": "execute_result"
    }
   ],
   "source": [
    "%%script echo skipping # comment this line to run this code\n",
    "\n",
    "import datetime\n",
    "monthStr = datetime.datetime.now().strftime('%Y%m')\n",
    "\n",
    "# conservation\n",
    "filename = \"QLD-conservation.csv\"\n",
    "prodListUrl = \"https://lists.ala.org.au/ws/speciesListItems/\" + \"dr652\" + \"?max=10000&includeKVP=true\"\n",
    "testListUrl = \"https://lists-test.ala.org.au/ws/speciesListItems/\" + \"dr652\" + \"?max=10000&includeKVP=true\"\n",
    "changelist = get_changelist(testListUrl, prodListUrl)\n",
    "# save the lists locally\n",
    "changelist.to_csv(projectDir + \"analysis/change-log/\" + monthStr + \"-\" + filename, encoding=\"UTF-8\", index=False)\n",
    "prodList = download_ala_list(prodListUrl) # save the prod list to the historical lists directory\n",
    "prodList = kvp_to_columns(prodList)\n",
    "prodList.to_csv(projectDir + \"historical-lists/conservation/\" + filename, encoding=\"UTF-8\", index=False)\n",
    "changelist"
   ],
   "metadata": {
    "collapsed": false,
    "pycharm": {
     "name": "#%%\n"
    }
   }
  },
  {
   "cell_type": "markdown",
   "source": [
    "### Sensitive List - Download old and new and compare"
   ],
   "metadata": {
    "collapsed": false
   }
  },
  {
   "cell_type": "code",
   "execution_count": 26,
   "outputs": [
    {
     "data": {
      "text/plain": "                                          name                commonName_new  \\\n28                    Calorodius thorntonensis                          None   \n91                             Cherax robustus  Freshwater Crayfish Or Yabby   \n93                         Euastacus binzayedi                          None   \n94                          Euastacus eungella  Freshwater Crayfish Or Yabby   \n95                       Euastacus hystricosus  Freshwater Crayfish Or Yabby   \n99                          Euastacus robertsi  Freshwater Crayfish Or Yabby   \n100                 Tenuibranchiurus glypticus                Swamp Crayfish   \n276                                 Cooktownia                          None   \n299                                    Corybas                Helmet Orchids   \n322                                  Cymbidium           Boat-lipped Orchids   \n417                                   Dipodium              Hyacinth Orchids   \n533                                    Liparis                Sphinx Orchids   \n538                                     Luisia                          None   \n546                                   Microtis                  Onion Orchid   \n573                                 Orthoceras                Horned Orchids   \n575                                 Pachystoma                          None   \n590                               Phalaenopsis                          None   \n592                                  Pholidota                       Orchids   \n891                            Striga asiatica                          None   \n28                    Calyptotis thorntonensis                           NaN   \n224  Caladenia sp. (Kilcoy Creek R.Crane 1286)                           NaN   \n250                    Cestichis condylobulbon                           NaN   \n390    Dendrobium speciosum var. capricornicum                           NaN   \n563                         Oberonia rimachila                           NaN   \n593                             Pinalia kingii                           NaN   \n677                   Rhinerrhizopsis matutina                           NaN   \n706                         Sarcochilus roseus                           NaN   \n804                           Cyathea celebica                           NaN   \n805                       Cyathea cunninghamii                           NaN   \n874   Hydnophytum moseleyanum var. moseleyanum                           NaN   \n902                   Phlegmariurus filiformis                           NaN   \n924                 Pteridoblechnum acuminatum                           NaN   \n937                    Ctenopteris blechnoides                           NaN   \n939                       Grammitis albosetosa                           NaN   \n940                      Grammitis reinwardtii                           NaN   \n\n             scientificName_new             status_new listUpdate  \\\n28                    SCINCIDAE          Least concern      added   \n91              Cherax robustus             Vulnerable      added   \n93          Euastacus binzayedi  Critically Endangered      added   \n94           Euastacus eungella             Endangered      added   \n95        Euastacus hystricosus             Endangered      added   \n99           Euastacus robertsi             Endangered      added   \n100  Tenuibranchiurus glypticus             Endangered      added   \n276                  Cooktownia          Least concern      added   \n299                     Corybas                    NaN      added   \n322                   Cymbidium                    NaN      added   \n417                    Dipodium                    NaN      added   \n533                     Liparis                    NaN      added   \n538                      Luisia                    NaN      added   \n546                    Microtis                    NaN      added   \n573                  Orthoceras                    NaN      added   \n575                  Pachystoma          Least concern      added   \n590                Phalaenopsis          Least concern      added   \n592                 Orchidaceae          Least concern      added   \n891             Striga asiatica                    NaN      added   \n28                          NaN                    NaN    removed   \n224                         NaN                    NaN    removed   \n250                         NaN                    NaN    removed   \n390                         NaN                    NaN    removed   \n563                         NaN                    NaN    removed   \n593                         NaN                    NaN    removed   \n677                         NaN                    NaN    removed   \n706                         NaN                    NaN    removed   \n804                         NaN                    NaN    removed   \n805                         NaN                    NaN    removed   \n874                         NaN                    NaN    removed   \n902                         NaN                    NaN    removed   \n924                         NaN                    NaN    removed   \n937                         NaN                    NaN    removed   \n939                         NaN                    NaN    removed   \n940                         NaN                    NaN    removed   \n\n               commonName_old  \\\n28                        NaN   \n91                        NaN   \n93                        NaN   \n94                        NaN   \n95                        NaN   \n99                        NaN   \n100                       NaN   \n276                       NaN   \n299                       NaN   \n322                       NaN   \n417                       NaN   \n533                       NaN   \n538                       NaN   \n546                       NaN   \n573                       NaN   \n575                       NaN   \n590                       NaN   \n592                       NaN   \n891                       NaN   \n28   Thornton Peak Calyptotis   \n224                      None   \n250                      None   \n390                      None   \n563                      None   \n593                      None   \n677                      None   \n706               Fairy Bells   \n804                      None   \n805                     Ponga   \n874                      None   \n902    Rat's Tail Tassel-fern   \n924                      None   \n937                      None   \n939                      None   \n940                      None   \n\n                                    scientificName_old     status_old  \n28                                                 NaN            NaN  \n91                                                 NaN            NaN  \n93                                                 NaN            NaN  \n94                                                 NaN            NaN  \n95                                                 NaN            NaN  \n99                                                 NaN            NaN  \n100                                                NaN            NaN  \n276                                                NaN            NaN  \n299                                                NaN            NaN  \n322                                                NaN            NaN  \n417                                                NaN            NaN  \n533                                                NaN            NaN  \n538                                                NaN            NaN  \n546                                                NaN            NaN  \n573                                                NaN            NaN  \n575                                                NaN            NaN  \n590                                                NaN            NaN  \n592                                                NaN            NaN  \n891                                                NaN            NaN  \n28                            Calyptotis thorntonensis  Least concern  \n224  Caladenia sp. Kilcoy Creek (R.Crane 1286) Qld ...  Least concern  \n250                              Liparis condylobulbon            NaN  \n390          Dendrobium speciosum subsp. capricornicum            NaN  \n563                                 Oberonia palmicola            NaN  \n593                                        Eria kingii  Least concern  \n677                           Rhinerrhizopsis matutina     Vulnerable  \n706                               Sarcochilus ceciliae            NaN  \n804                                   Cyathea celebica            NaN  \n805                               Cyathea cunninghamii            NaN  \n874           Hydnophytum moseleyanum var. moseleyanum  Least concern  \n902                           Phlegmariurus filiformis            NaN  \n924                               Blechnum reticulatum            NaN  \n937                          Ctenopterella blechnoides            NaN  \n939                           Oreogrammitis albosetosa            NaN  \n940                          Oreogrammitis reinwardtii            NaN  ",
      "text/html": "<div>\n<style scoped>\n    .dataframe tbody tr th:only-of-type {\n        vertical-align: middle;\n    }\n\n    .dataframe tbody tr th {\n        vertical-align: top;\n    }\n\n    .dataframe thead th {\n        text-align: right;\n    }\n</style>\n<table border=\"1\" class=\"dataframe\">\n  <thead>\n    <tr style=\"text-align: right;\">\n      <th></th>\n      <th>name</th>\n      <th>commonName_new</th>\n      <th>scientificName_new</th>\n      <th>status_new</th>\n      <th>listUpdate</th>\n      <th>commonName_old</th>\n      <th>scientificName_old</th>\n      <th>status_old</th>\n    </tr>\n  </thead>\n  <tbody>\n    <tr>\n      <th>28</th>\n      <td>Calorodius thorntonensis</td>\n      <td>None</td>\n      <td>SCINCIDAE</td>\n      <td>Least concern</td>\n      <td>added</td>\n      <td>NaN</td>\n      <td>NaN</td>\n      <td>NaN</td>\n    </tr>\n    <tr>\n      <th>91</th>\n      <td>Cherax robustus</td>\n      <td>Freshwater Crayfish Or Yabby</td>\n      <td>Cherax robustus</td>\n      <td>Vulnerable</td>\n      <td>added</td>\n      <td>NaN</td>\n      <td>NaN</td>\n      <td>NaN</td>\n    </tr>\n    <tr>\n      <th>93</th>\n      <td>Euastacus binzayedi</td>\n      <td>None</td>\n      <td>Euastacus binzayedi</td>\n      <td>Critically Endangered</td>\n      <td>added</td>\n      <td>NaN</td>\n      <td>NaN</td>\n      <td>NaN</td>\n    </tr>\n    <tr>\n      <th>94</th>\n      <td>Euastacus eungella</td>\n      <td>Freshwater Crayfish Or Yabby</td>\n      <td>Euastacus eungella</td>\n      <td>Endangered</td>\n      <td>added</td>\n      <td>NaN</td>\n      <td>NaN</td>\n      <td>NaN</td>\n    </tr>\n    <tr>\n      <th>95</th>\n      <td>Euastacus hystricosus</td>\n      <td>Freshwater Crayfish Or Yabby</td>\n      <td>Euastacus hystricosus</td>\n      <td>Endangered</td>\n      <td>added</td>\n      <td>NaN</td>\n      <td>NaN</td>\n      <td>NaN</td>\n    </tr>\n    <tr>\n      <th>99</th>\n      <td>Euastacus robertsi</td>\n      <td>Freshwater Crayfish Or Yabby</td>\n      <td>Euastacus robertsi</td>\n      <td>Endangered</td>\n      <td>added</td>\n      <td>NaN</td>\n      <td>NaN</td>\n      <td>NaN</td>\n    </tr>\n    <tr>\n      <th>100</th>\n      <td>Tenuibranchiurus glypticus</td>\n      <td>Swamp Crayfish</td>\n      <td>Tenuibranchiurus glypticus</td>\n      <td>Endangered</td>\n      <td>added</td>\n      <td>NaN</td>\n      <td>NaN</td>\n      <td>NaN</td>\n    </tr>\n    <tr>\n      <th>276</th>\n      <td>Cooktownia</td>\n      <td>None</td>\n      <td>Cooktownia</td>\n      <td>Least concern</td>\n      <td>added</td>\n      <td>NaN</td>\n      <td>NaN</td>\n      <td>NaN</td>\n    </tr>\n    <tr>\n      <th>299</th>\n      <td>Corybas</td>\n      <td>Helmet Orchids</td>\n      <td>Corybas</td>\n      <td>NaN</td>\n      <td>added</td>\n      <td>NaN</td>\n      <td>NaN</td>\n      <td>NaN</td>\n    </tr>\n    <tr>\n      <th>322</th>\n      <td>Cymbidium</td>\n      <td>Boat-lipped Orchids</td>\n      <td>Cymbidium</td>\n      <td>NaN</td>\n      <td>added</td>\n      <td>NaN</td>\n      <td>NaN</td>\n      <td>NaN</td>\n    </tr>\n    <tr>\n      <th>417</th>\n      <td>Dipodium</td>\n      <td>Hyacinth Orchids</td>\n      <td>Dipodium</td>\n      <td>NaN</td>\n      <td>added</td>\n      <td>NaN</td>\n      <td>NaN</td>\n      <td>NaN</td>\n    </tr>\n    <tr>\n      <th>533</th>\n      <td>Liparis</td>\n      <td>Sphinx Orchids</td>\n      <td>Liparis</td>\n      <td>NaN</td>\n      <td>added</td>\n      <td>NaN</td>\n      <td>NaN</td>\n      <td>NaN</td>\n    </tr>\n    <tr>\n      <th>538</th>\n      <td>Luisia</td>\n      <td>None</td>\n      <td>Luisia</td>\n      <td>NaN</td>\n      <td>added</td>\n      <td>NaN</td>\n      <td>NaN</td>\n      <td>NaN</td>\n    </tr>\n    <tr>\n      <th>546</th>\n      <td>Microtis</td>\n      <td>Onion Orchid</td>\n      <td>Microtis</td>\n      <td>NaN</td>\n      <td>added</td>\n      <td>NaN</td>\n      <td>NaN</td>\n      <td>NaN</td>\n    </tr>\n    <tr>\n      <th>573</th>\n      <td>Orthoceras</td>\n      <td>Horned Orchids</td>\n      <td>Orthoceras</td>\n      <td>NaN</td>\n      <td>added</td>\n      <td>NaN</td>\n      <td>NaN</td>\n      <td>NaN</td>\n    </tr>\n    <tr>\n      <th>575</th>\n      <td>Pachystoma</td>\n      <td>None</td>\n      <td>Pachystoma</td>\n      <td>Least concern</td>\n      <td>added</td>\n      <td>NaN</td>\n      <td>NaN</td>\n      <td>NaN</td>\n    </tr>\n    <tr>\n      <th>590</th>\n      <td>Phalaenopsis</td>\n      <td>None</td>\n      <td>Phalaenopsis</td>\n      <td>Least concern</td>\n      <td>added</td>\n      <td>NaN</td>\n      <td>NaN</td>\n      <td>NaN</td>\n    </tr>\n    <tr>\n      <th>592</th>\n      <td>Pholidota</td>\n      <td>Orchids</td>\n      <td>Orchidaceae</td>\n      <td>Least concern</td>\n      <td>added</td>\n      <td>NaN</td>\n      <td>NaN</td>\n      <td>NaN</td>\n    </tr>\n    <tr>\n      <th>891</th>\n      <td>Striga asiatica</td>\n      <td>None</td>\n      <td>Striga asiatica</td>\n      <td>NaN</td>\n      <td>added</td>\n      <td>NaN</td>\n      <td>NaN</td>\n      <td>NaN</td>\n    </tr>\n    <tr>\n      <th>28</th>\n      <td>Calyptotis thorntonensis</td>\n      <td>NaN</td>\n      <td>NaN</td>\n      <td>NaN</td>\n      <td>removed</td>\n      <td>Thornton Peak Calyptotis</td>\n      <td>Calyptotis thorntonensis</td>\n      <td>Least concern</td>\n    </tr>\n    <tr>\n      <th>224</th>\n      <td>Caladenia sp. (Kilcoy Creek R.Crane 1286)</td>\n      <td>NaN</td>\n      <td>NaN</td>\n      <td>NaN</td>\n      <td>removed</td>\n      <td>None</td>\n      <td>Caladenia sp. Kilcoy Creek (R.Crane 1286) Qld ...</td>\n      <td>Least concern</td>\n    </tr>\n    <tr>\n      <th>250</th>\n      <td>Cestichis condylobulbon</td>\n      <td>NaN</td>\n      <td>NaN</td>\n      <td>NaN</td>\n      <td>removed</td>\n      <td>None</td>\n      <td>Liparis condylobulbon</td>\n      <td>NaN</td>\n    </tr>\n    <tr>\n      <th>390</th>\n      <td>Dendrobium speciosum var. capricornicum</td>\n      <td>NaN</td>\n      <td>NaN</td>\n      <td>NaN</td>\n      <td>removed</td>\n      <td>None</td>\n      <td>Dendrobium speciosum subsp. capricornicum</td>\n      <td>NaN</td>\n    </tr>\n    <tr>\n      <th>563</th>\n      <td>Oberonia rimachila</td>\n      <td>NaN</td>\n      <td>NaN</td>\n      <td>NaN</td>\n      <td>removed</td>\n      <td>None</td>\n      <td>Oberonia palmicola</td>\n      <td>NaN</td>\n    </tr>\n    <tr>\n      <th>593</th>\n      <td>Pinalia kingii</td>\n      <td>NaN</td>\n      <td>NaN</td>\n      <td>NaN</td>\n      <td>removed</td>\n      <td>None</td>\n      <td>Eria kingii</td>\n      <td>Least concern</td>\n    </tr>\n    <tr>\n      <th>677</th>\n      <td>Rhinerrhizopsis matutina</td>\n      <td>NaN</td>\n      <td>NaN</td>\n      <td>NaN</td>\n      <td>removed</td>\n      <td>None</td>\n      <td>Rhinerrhizopsis matutina</td>\n      <td>Vulnerable</td>\n    </tr>\n    <tr>\n      <th>706</th>\n      <td>Sarcochilus roseus</td>\n      <td>NaN</td>\n      <td>NaN</td>\n      <td>NaN</td>\n      <td>removed</td>\n      <td>Fairy Bells</td>\n      <td>Sarcochilus ceciliae</td>\n      <td>NaN</td>\n    </tr>\n    <tr>\n      <th>804</th>\n      <td>Cyathea celebica</td>\n      <td>NaN</td>\n      <td>NaN</td>\n      <td>NaN</td>\n      <td>removed</td>\n      <td>None</td>\n      <td>Cyathea celebica</td>\n      <td>NaN</td>\n    </tr>\n    <tr>\n      <th>805</th>\n      <td>Cyathea cunninghamii</td>\n      <td>NaN</td>\n      <td>NaN</td>\n      <td>NaN</td>\n      <td>removed</td>\n      <td>Ponga</td>\n      <td>Cyathea cunninghamii</td>\n      <td>NaN</td>\n    </tr>\n    <tr>\n      <th>874</th>\n      <td>Hydnophytum moseleyanum var. moseleyanum</td>\n      <td>NaN</td>\n      <td>NaN</td>\n      <td>NaN</td>\n      <td>removed</td>\n      <td>None</td>\n      <td>Hydnophytum moseleyanum var. moseleyanum</td>\n      <td>Least concern</td>\n    </tr>\n    <tr>\n      <th>902</th>\n      <td>Phlegmariurus filiformis</td>\n      <td>NaN</td>\n      <td>NaN</td>\n      <td>NaN</td>\n      <td>removed</td>\n      <td>Rat's Tail Tassel-fern</td>\n      <td>Phlegmariurus filiformis</td>\n      <td>NaN</td>\n    </tr>\n    <tr>\n      <th>924</th>\n      <td>Pteridoblechnum acuminatum</td>\n      <td>NaN</td>\n      <td>NaN</td>\n      <td>NaN</td>\n      <td>removed</td>\n      <td>None</td>\n      <td>Blechnum reticulatum</td>\n      <td>NaN</td>\n    </tr>\n    <tr>\n      <th>937</th>\n      <td>Ctenopteris blechnoides</td>\n      <td>NaN</td>\n      <td>NaN</td>\n      <td>NaN</td>\n      <td>removed</td>\n      <td>None</td>\n      <td>Ctenopterella blechnoides</td>\n      <td>NaN</td>\n    </tr>\n    <tr>\n      <th>939</th>\n      <td>Grammitis albosetosa</td>\n      <td>NaN</td>\n      <td>NaN</td>\n      <td>NaN</td>\n      <td>removed</td>\n      <td>None</td>\n      <td>Oreogrammitis albosetosa</td>\n      <td>NaN</td>\n    </tr>\n    <tr>\n      <th>940</th>\n      <td>Grammitis reinwardtii</td>\n      <td>NaN</td>\n      <td>NaN</td>\n      <td>NaN</td>\n      <td>removed</td>\n      <td>None</td>\n      <td>Oreogrammitis reinwardtii</td>\n      <td>NaN</td>\n    </tr>\n  </tbody>\n</table>\n</div>"
     },
     "execution_count": 26,
     "metadata": {},
     "output_type": "execute_result"
    }
   ],
   "source": [
    "%%script echo skipping # comment this line to run this code\n",
    "filename = \"QLD-sensitive.csv\"\n",
    "prodListUrl = \"https://lists.ala.org.au/ws/speciesListItems/\" + \"dr493\" + \"?max=10000&includeKVP=true\"\n",
    "testListUrl = \"https://lists-test.ala.org.au/ws/speciesListItems/\" + \"dr18404\" + \"?max=10000&includeKVP=true\"\n",
    "changelist = get_changelist(testListUrl, prodListUrl )\n",
    "# save the lists locally\n",
    "changelist.to_csv(projectDir + \"analysis/change-log/\" + monthStr + \"-\" + filename, encoding=\"UTF-8\", index=False)\n",
    "prodList = download_ala_list(prodListUrl) # save the prod list to the historical lists directory\n",
    "prodList = kvp_to_columns(prodList)\n",
    "prodList.to_csv(projectDir + \"historical-lists/sensitive/\" + filename, encoding=\"UTF-8\", index=False)\n",
    "changelist"
   ],
   "metadata": {
    "collapsed": false,
    "pycharm": {
     "name": "#%%\n"
    }
   }
  }
 ],
 "metadata": {
  "kernelspec": {
   "display_name": "Python 3",
   "language": "python",
   "name": "python3"
  },
  "language_info": {
   "codemirror_mode": {
    "name": "ipython",
    "version": 2
   },
   "file_extension": ".py",
   "mimetype": "text/x-python",
   "name": "python",
   "nbconvert_exporter": "python",
   "pygments_lexer": "ipython2",
   "version": "2.7.6"
  }
 },
 "nbformat": 4,
 "nbformat_minor": 0
}