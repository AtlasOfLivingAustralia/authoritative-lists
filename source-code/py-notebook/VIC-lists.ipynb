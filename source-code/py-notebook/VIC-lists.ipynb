{
 "cells": [
  {
   "cell_type": "markdown",
   "metadata": {
    "collapsed": true,
    "pycharm": {
     "name": "#%% md\n"
    }
   },
   "source": [
    "# Victoria Conservation and Sensitive Lists\n",
    "Preparing lists for upload into the ALA's lists tool\n",
    "Conservation list source: https://vba.dse.vic.gov.au/vba/downloadVSC.do"
   ]
  },
  {
   "cell_type": "code",
   "execution_count": 9,
   "outputs": [
    {
     "data": {
      "text/plain": "       TAXON_ID           SCIENTIFIC_NAME           COMMON_NAME  \\\n0          5016  Acanthogobius flavimanus        Yellowfin Goby   \n1          4917   Acanthopagrus australis      Yellow-fin Bream   \n2          4918    Acanthopagrus butcheri           Black Bream   \n3          5018   Afurcagobius tamarensis            Tamar Goby   \n4          4736           Alabes dorsalis      Common Shore-eel   \n...         ...                       ...                   ...   \n28482     10574       Zosterops lateralis             Silvereye   \n28483    521416     Zyganisus caliginosus  Australian Goat Moth   \n28484    521417     Zyganisus fulvicollis        carpenter moth   \n28485    521418        Zyganisus propedia        carpenter moth   \n28486    518907    Zygometis xanthogaster           crab spider   \n\n                          AUTHORITY PRIMARY_DISCIPLINE ALL_DISCIPLINE_CODES  \\\n0      (Temmninck & Schlegel, 1845)      Aquatic fauna     [tf][ma][ai][af]   \n1                   (Günther, 1859)      Aquatic fauna     [ma][ai][af][tf]   \n2                     (Munro, 1949)      Aquatic fauna     [ai][ma][tf][af]   \n3                  (Johnston, 1883)      Aquatic fauna         [af][ai][tf]   \n4                (Richardson, 1845)      Aquatic fauna                 [af]   \n...                             ...                ...                  ...   \n28482                           NaN  Terrestrial fauna                 [tf]   \n28483                (Walker, 1856)  Terrestrial fauna                 [tf]   \n28484                 (Gaede, 1933)  Terrestrial fauna                 [tf]   \n28485        Kallies & Hilton, 2012  Terrestrial fauna                 [tf]   \n28486                  (Koch, 1875)  Terrestrial fauna                 [tf]   \n\n           ORIGIN TREATIES SHORT_NAME TAXON_LEVEL_CDE  ...  NVIS_GROWTHFORM  \\\n0      Introduced      NaN   aca flav            spec  ...              NaN   \n1             NaN      NaN    aca aus            spec  ...              NaN   \n2             NaN      NaN    aca but            spec  ...              NaN   \n3             NaN      NaN    afu tam            spec  ...              NaN   \n4             NaN      NaN        NaN            spec  ...              NaN   \n...           ...      ...        ...             ...  ...              ...   \n28482         NaN      NaN        NaN            spec  ...              NaN   \n28483         NaN      NaN        NaN            spec  ...              NaN   \n28484         NaN      NaN        NaN            spec  ...              NaN   \n28485         NaN      NaN        NaN            spec  ...              NaN   \n28486         NaN      NaN        NaN            spec  ...              NaN   \n\n      FFG_ACT_STATUS EPBC_ACT_STATUS VIC_ADVISORY_STATUS  \\\n0                NaN             NaN                 NaN   \n1                NaN             NaN                 NaN   \n2                NaN             NaN                 NaN   \n3                NaN             NaN                 NaN   \n4                NaN             NaN                 NaN   \n...              ...             ...                 ...   \n28482            NaN             NaN                 NaN   \n28483            NaN             NaN                 NaN   \n28484            NaN             NaN                 NaN   \n28485            NaN             NaN                 NaN   \n28486            NaN             NaN                 NaN   \n\n                     SCIENTIFIC_NME_SYNONYM  \\\n0                         Gobius flavimanus   \n1                     Chrysophrys australis   \n2                            Mylio butcheri   \n3      Gobius tamarensis, Gobius tasmanicus   \n4                                       NaN   \n...                                     ...   \n28482                                   NaN   \n28483                                   NaN   \n28484                                   NaN   \n28485                                   NaN   \n28486                                   NaN   \n\n                                      COMMON_NME_SYNONYM RESTRICTED_FLAG  \\\n0                           Japanese Goby, Oriental Goby             NaN   \n1      Silver Bream, Common Bream, Australian Seabrea...             NaN   \n2      Blue Nose Bream, Yellowfin Bream, Bream, Silve...             NaN   \n3                                Tamar Goby, Tasman Goby             NaN   \n4                                                    NaN             NaN   \n...                                                  ...             ...   \n28482                                                NaN             NaN   \n28483                                                NaN             NaN   \n28484                                                NaN             NaN   \n28485                                                NaN             NaN   \n28486                                                NaN             NaN   \n\n      PRINT_ORDER_NUM    LAST_MOD EXTRACT_DATE  \n0                 NaN  16/09/2013   06/05/2022  \n1                 NaN  05/05/2017   06/05/2022  \n2                 NaN  16/08/2012   06/05/2022  \n3                 NaN  16/08/2012   06/05/2022  \n4                 NaN  16/09/2010   06/05/2022  \n...               ...         ...          ...  \n28482             NaN  02/12/2010   06/05/2022  \n28483             NaN  02/08/2016   06/05/2022  \n28484             NaN  02/08/2016   06/05/2022  \n28485             NaN  02/08/2016   06/05/2022  \n28486             NaN  01/07/2016   06/05/2022  \n\n[28487 rows x 23 columns]",
      "text/html": "<div>\n<style scoped>\n    .dataframe tbody tr th:only-of-type {\n        vertical-align: middle;\n    }\n\n    .dataframe tbody tr th {\n        vertical-align: top;\n    }\n\n    .dataframe thead th {\n        text-align: right;\n    }\n</style>\n<table border=\"1\" class=\"dataframe\">\n  <thead>\n    <tr style=\"text-align: right;\">\n      <th></th>\n      <th>TAXON_ID</th>\n      <th>SCIENTIFIC_NAME</th>\n      <th>COMMON_NAME</th>\n      <th>AUTHORITY</th>\n      <th>PRIMARY_DISCIPLINE</th>\n      <th>ALL_DISCIPLINE_CODES</th>\n      <th>ORIGIN</th>\n      <th>TREATIES</th>\n      <th>SHORT_NAME</th>\n      <th>TAXON_LEVEL_CDE</th>\n      <th>...</th>\n      <th>NVIS_GROWTHFORM</th>\n      <th>FFG_ACT_STATUS</th>\n      <th>EPBC_ACT_STATUS</th>\n      <th>VIC_ADVISORY_STATUS</th>\n      <th>SCIENTIFIC_NME_SYNONYM</th>\n      <th>COMMON_NME_SYNONYM</th>\n      <th>RESTRICTED_FLAG</th>\n      <th>PRINT_ORDER_NUM</th>\n      <th>LAST_MOD</th>\n      <th>EXTRACT_DATE</th>\n    </tr>\n  </thead>\n  <tbody>\n    <tr>\n      <th>0</th>\n      <td>5016</td>\n      <td>Acanthogobius flavimanus</td>\n      <td>Yellowfin Goby</td>\n      <td>(Temmninck &amp; Schlegel, 1845)</td>\n      <td>Aquatic fauna</td>\n      <td>[tf][ma][ai][af]</td>\n      <td>Introduced</td>\n      <td>NaN</td>\n      <td>aca flav</td>\n      <td>spec</td>\n      <td>...</td>\n      <td>NaN</td>\n      <td>NaN</td>\n      <td>NaN</td>\n      <td>NaN</td>\n      <td>Gobius flavimanus</td>\n      <td>Japanese Goby, Oriental Goby</td>\n      <td>NaN</td>\n      <td>NaN</td>\n      <td>16/09/2013</td>\n      <td>06/05/2022</td>\n    </tr>\n    <tr>\n      <th>1</th>\n      <td>4917</td>\n      <td>Acanthopagrus australis</td>\n      <td>Yellow-fin Bream</td>\n      <td>(Günther, 1859)</td>\n      <td>Aquatic fauna</td>\n      <td>[ma][ai][af][tf]</td>\n      <td>NaN</td>\n      <td>NaN</td>\n      <td>aca aus</td>\n      <td>spec</td>\n      <td>...</td>\n      <td>NaN</td>\n      <td>NaN</td>\n      <td>NaN</td>\n      <td>NaN</td>\n      <td>Chrysophrys australis</td>\n      <td>Silver Bream, Common Bream, Australian Seabrea...</td>\n      <td>NaN</td>\n      <td>NaN</td>\n      <td>05/05/2017</td>\n      <td>06/05/2022</td>\n    </tr>\n    <tr>\n      <th>2</th>\n      <td>4918</td>\n      <td>Acanthopagrus butcheri</td>\n      <td>Black Bream</td>\n      <td>(Munro, 1949)</td>\n      <td>Aquatic fauna</td>\n      <td>[ai][ma][tf][af]</td>\n      <td>NaN</td>\n      <td>NaN</td>\n      <td>aca but</td>\n      <td>spec</td>\n      <td>...</td>\n      <td>NaN</td>\n      <td>NaN</td>\n      <td>NaN</td>\n      <td>NaN</td>\n      <td>Mylio butcheri</td>\n      <td>Blue Nose Bream, Yellowfin Bream, Bream, Silve...</td>\n      <td>NaN</td>\n      <td>NaN</td>\n      <td>16/08/2012</td>\n      <td>06/05/2022</td>\n    </tr>\n    <tr>\n      <th>3</th>\n      <td>5018</td>\n      <td>Afurcagobius tamarensis</td>\n      <td>Tamar Goby</td>\n      <td>(Johnston, 1883)</td>\n      <td>Aquatic fauna</td>\n      <td>[af][ai][tf]</td>\n      <td>NaN</td>\n      <td>NaN</td>\n      <td>afu tam</td>\n      <td>spec</td>\n      <td>...</td>\n      <td>NaN</td>\n      <td>NaN</td>\n      <td>NaN</td>\n      <td>NaN</td>\n      <td>Gobius tamarensis, Gobius tasmanicus</td>\n      <td>Tamar Goby, Tasman Goby</td>\n      <td>NaN</td>\n      <td>NaN</td>\n      <td>16/08/2012</td>\n      <td>06/05/2022</td>\n    </tr>\n    <tr>\n      <th>4</th>\n      <td>4736</td>\n      <td>Alabes dorsalis</td>\n      <td>Common Shore-eel</td>\n      <td>(Richardson, 1845)</td>\n      <td>Aquatic fauna</td>\n      <td>[af]</td>\n      <td>NaN</td>\n      <td>NaN</td>\n      <td>NaN</td>\n      <td>spec</td>\n      <td>...</td>\n      <td>NaN</td>\n      <td>NaN</td>\n      <td>NaN</td>\n      <td>NaN</td>\n      <td>NaN</td>\n      <td>NaN</td>\n      <td>NaN</td>\n      <td>NaN</td>\n      <td>16/09/2010</td>\n      <td>06/05/2022</td>\n    </tr>\n    <tr>\n      <th>...</th>\n      <td>...</td>\n      <td>...</td>\n      <td>...</td>\n      <td>...</td>\n      <td>...</td>\n      <td>...</td>\n      <td>...</td>\n      <td>...</td>\n      <td>...</td>\n      <td>...</td>\n      <td>...</td>\n      <td>...</td>\n      <td>...</td>\n      <td>...</td>\n      <td>...</td>\n      <td>...</td>\n      <td>...</td>\n      <td>...</td>\n      <td>...</td>\n      <td>...</td>\n      <td>...</td>\n    </tr>\n    <tr>\n      <th>28482</th>\n      <td>10574</td>\n      <td>Zosterops lateralis</td>\n      <td>Silvereye</td>\n      <td>NaN</td>\n      <td>Terrestrial fauna</td>\n      <td>[tf]</td>\n      <td>NaN</td>\n      <td>NaN</td>\n      <td>NaN</td>\n      <td>spec</td>\n      <td>...</td>\n      <td>NaN</td>\n      <td>NaN</td>\n      <td>NaN</td>\n      <td>NaN</td>\n      <td>NaN</td>\n      <td>NaN</td>\n      <td>NaN</td>\n      <td>NaN</td>\n      <td>02/12/2010</td>\n      <td>06/05/2022</td>\n    </tr>\n    <tr>\n      <th>28483</th>\n      <td>521416</td>\n      <td>Zyganisus caliginosus</td>\n      <td>Australian Goat Moth</td>\n      <td>(Walker, 1856)</td>\n      <td>Terrestrial fauna</td>\n      <td>[tf]</td>\n      <td>NaN</td>\n      <td>NaN</td>\n      <td>NaN</td>\n      <td>spec</td>\n      <td>...</td>\n      <td>NaN</td>\n      <td>NaN</td>\n      <td>NaN</td>\n      <td>NaN</td>\n      <td>NaN</td>\n      <td>NaN</td>\n      <td>NaN</td>\n      <td>NaN</td>\n      <td>02/08/2016</td>\n      <td>06/05/2022</td>\n    </tr>\n    <tr>\n      <th>28484</th>\n      <td>521417</td>\n      <td>Zyganisus fulvicollis</td>\n      <td>carpenter moth</td>\n      <td>(Gaede, 1933)</td>\n      <td>Terrestrial fauna</td>\n      <td>[tf]</td>\n      <td>NaN</td>\n      <td>NaN</td>\n      <td>NaN</td>\n      <td>spec</td>\n      <td>...</td>\n      <td>NaN</td>\n      <td>NaN</td>\n      <td>NaN</td>\n      <td>NaN</td>\n      <td>NaN</td>\n      <td>NaN</td>\n      <td>NaN</td>\n      <td>NaN</td>\n      <td>02/08/2016</td>\n      <td>06/05/2022</td>\n    </tr>\n    <tr>\n      <th>28485</th>\n      <td>521418</td>\n      <td>Zyganisus propedia</td>\n      <td>carpenter moth</td>\n      <td>Kallies &amp; Hilton, 2012</td>\n      <td>Terrestrial fauna</td>\n      <td>[tf]</td>\n      <td>NaN</td>\n      <td>NaN</td>\n      <td>NaN</td>\n      <td>spec</td>\n      <td>...</td>\n      <td>NaN</td>\n      <td>NaN</td>\n      <td>NaN</td>\n      <td>NaN</td>\n      <td>NaN</td>\n      <td>NaN</td>\n      <td>NaN</td>\n      <td>NaN</td>\n      <td>02/08/2016</td>\n      <td>06/05/2022</td>\n    </tr>\n    <tr>\n      <th>28486</th>\n      <td>518907</td>\n      <td>Zygometis xanthogaster</td>\n      <td>crab spider</td>\n      <td>(Koch, 1875)</td>\n      <td>Terrestrial fauna</td>\n      <td>[tf]</td>\n      <td>NaN</td>\n      <td>NaN</td>\n      <td>NaN</td>\n      <td>spec</td>\n      <td>...</td>\n      <td>NaN</td>\n      <td>NaN</td>\n      <td>NaN</td>\n      <td>NaN</td>\n      <td>NaN</td>\n      <td>NaN</td>\n      <td>NaN</td>\n      <td>NaN</td>\n      <td>01/07/2016</td>\n      <td>06/05/2022</td>\n    </tr>\n  </tbody>\n</table>\n<p>28487 rows × 23 columns</p>\n</div>"
     },
     "execution_count": 9,
     "metadata": {},
     "output_type": "execute_result"
    }
   ],
   "source": [
    "import pandas as pd\n",
    "# top level directory\n",
    "# projectDir = \"/Users/new330/IdeaProjects/authoritative-lists/\"\n",
    "projectDir = \"/Users/oco115/PycharmProjects/authoritative-lists/\"\n",
    "dataDir = \"current-lists/conservation-lists/\"\n",
    "conservationlisturl = \"https://vba.dse.vic.gov.au/vba/downloadVSC.do\" # gets a csv\n",
    "conservationList = pd.read_csv(projectDir + \"source-data/VIC/Species-Checklist.csv\",encoding='cp1252')\n",
    "conservationList"
   ],
   "metadata": {
    "collapsed": false,
    "pycharm": {
     "name": "#%%\n"
    }
   }
  },
  {
   "cell_type": "code",
   "execution_count": 11,
   "outputs": [
    {
     "data": {
      "text/plain": "Index(['TAXON_ID', 'SCIENTIFIC_NAME', 'COMMON_NAME', 'AUTHORITY',\n       'PRIMARY_DISCIPLINE', 'ALL_DISCIPLINE_CODES', 'ORIGIN', 'TREATIES',\n       'SHORT_NAME', 'TAXON_LEVEL_CDE', 'PARENT_TAXON_ID',\n       'PARENT_TAXON_LEVEL_CDE', 'TAXON_TYPE', 'NVIS_GROWTHFORM',\n       'FFG_ACT_STATUS', 'EPBC_ACT_STATUS', 'VIC_ADVISORY_STATUS',\n       'SCIENTIFIC_NME_SYNONYM', 'COMMON_NME_SYNONYM', 'RESTRICTED_FLAG',\n       'PRINT_ORDER_NUM', 'LAST_MOD', 'EXTRACT_DATE'],\n      dtype='object')"
     },
     "execution_count": 11,
     "metadata": {},
     "output_type": "execute_result"
    }
   ],
   "source": [
    "conservationList.columns"
   ],
   "metadata": {
    "collapsed": false,
    "pycharm": {
     "name": "#%%\n"
    }
   }
  },
  {
   "cell_type": "code",
   "execution_count": 10,
   "outputs": [
    {
     "data": {
      "text/plain": "Index(['taxonID', 'scientificName', 'vernacularName',\n       'scientificNameAuthority', 'primaryDiscipline', 'establishmentMeans',\n       'taxonRank', 'speciesGroup', 'status', 'epbcactStatus',\n       'vicadvisorystatus', 'restrictedFlag', 'modified', 'extractDate'],\n      dtype='object')"
     },
     "execution_count": 10,
     "metadata": {},
     "output_type": "execute_result"
    }
   ],
   "source": [
    "# Drop columns\n",
    "conservationList = conservationList.drop(['PARENT_TAXON_LEVEL_CDE','PARENT_TAXON_ID','ALL_DISCIPLINE_CODES',\n",
    "                                          'TREATIES','SHORT_NAME','NVIS_GROWTHFORM','SCIENTIFIC_NME_SYNONYM',\n",
    "                                          'COMMON_NME_SYNONYM','PRINT_ORDER_NUM'],axis=1)\n",
    "# Rename columns\n",
    "conservationList = conservationList.rename(columns=\n",
    "{\n",
    "    'TAXON_ID':'taxonID',\n",
    "    'SCIENTIFIC_NAME':'scientificName',\n",
    "    'VIC_ADVISORY_STATUS':'vicadvisorystatus',\n",
    "    'TAXON_TYPE':'speciesGroup',\n",
    "    'FFG_ACT_STATUS':'ffgactstatus',\n",
    "    'EPBC_ACT_STATUS': 'epbcactStatus',\n",
    "    'TAXON_LEVEL_CDE': 'taxonRank',\n",
    "    'ORIGIN': 'establishmentMeans',\n",
    "    'COMMON_NME_SYNONYM': 'taxonRemarks',\n",
    "    'COMMON_NAME':'vernacularName',\n",
    "    'AUTHORITY':'scientificNameAuthority',\n",
    "    'PRIMARY_DISCIPLINE': 'primaryDiscipline',\n",
    "    'RESTRICTED_FLAG' : 'restrictedFlag',\n",
    "    'EXTRACT_DATE': 'extractDate',\n",
    "    'LAST_MOD':'modified'\n",
    "})\n",
    "conservationList['taxonRank'] = 'species'\n",
    "conservationList['status'] = conservationList['ffgactstatus']\n",
    "conservationList['sourceStatus'] = conservationList['ffgactstatus']\n",
    "# conservationList.columns = conservationList.columns.str.replace(r\"[().: ]\", \"\", regex=True) # remove all spaces and : () from column names\n",
    "# conservationList.columns = conservationList.columns.str.replace(r\"[_ ]\", \"\", regex=True) # remove all spaces and : () from column names\n",
    "# conservationList=conservationList.drop(['Unnamed65'],axis=1)\n",
    "conservationList.columns"
   ],
   "metadata": {
    "collapsed": false,
    "pycharm": {
     "name": "#%%\n"
    }
   }
  },
  {
   "cell_type": "code",
   "execution_count": 11,
   "outputs": [
    {
     "data": {
      "text/plain": "Index(['taxonID', 'scientificName', 'vernacularName',\n       'scientificNameAuthority', 'primaryDiscipline', 'establishmentMeans',\n       'taxonRank', 'speciesGroup', 'status', 'epbcactStatus',\n       'vicadvisorystatus', 'restrictedFlag', 'modified', 'extractDate'],\n      dtype='object')"
     },
     "execution_count": 11,
     "metadata": {},
     "output_type": "execute_result"
    }
   ],
   "source": [
    "\n",
    "conservationList.columns"
   ],
   "metadata": {
    "collapsed": false,
    "pycharm": {
     "name": "#%%\n"
    }
   }
  },
  {
   "cell_type": "code",
   "execution_count": 12,
   "outputs": [
    {
     "data": {
      "text/plain": "9        2022-06-05\n28       2022-06-05\n37       2022-06-05\n48       2022-06-05\n58       2022-06-05\n            ...    \n28362    2022-06-05\n28383    2022-06-05\n28392    2022-06-05\n28426    2022-06-05\n28430    2022-06-05\nName: extractDate, Length: 1996, dtype: object"
     },
     "execution_count": 12,
     "metadata": {},
     "output_type": "execute_result"
    }
   ],
   "source": [
    "conservationList = conservationList[conservationList[\"status\"].notna()]\n",
    "# reformat date\n",
    "conservationList['extractDate'] = pd.to_datetime(conservationList['extractDate'])\n",
    "conservationList['extractDate'] = conservationList['extractDate'].dt.strftime('%Y-%m-%d')\n",
    "conservationList['extractDate']"
   ],
   "metadata": {
    "collapsed": false,
    "pycharm": {
     "name": "#%%\n"
    }
   }
  },
  {
   "cell_type": "code",
   "execution_count": 11,
   "outputs": [],
   "source": [
    "\n",
    "\n",
    "conservationList.to_csv(projectDir + dataDir + \"VIC-new-conservation.csv\",index=False)\n"
   ],
   "metadata": {
    "collapsed": false,
    "pycharm": {
     "name": "#%%\n"
    }
   }
  }
 ],
 "metadata": {
  "kernelspec": {
   "display_name": "Python 3",
   "language": "python",
   "name": "python3"
  },
  "language_info": {
   "codemirror_mode": {
    "name": "ipython",
    "version": 2
   },
   "file_extension": ".py",
   "mimetype": "text/x-python",
   "name": "python",
   "nbconvert_exporter": "python",
   "pygments_lexer": "ipython2",
   "version": "2.7.6"
  }
 },
 "nbformat": 4,
 "nbformat_minor": 0
}