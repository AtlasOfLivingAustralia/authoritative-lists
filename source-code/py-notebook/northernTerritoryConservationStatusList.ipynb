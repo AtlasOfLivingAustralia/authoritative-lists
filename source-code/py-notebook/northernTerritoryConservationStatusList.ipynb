{
 "cells": [
  {
   "cell_type": "code",
   "execution_count": 1,
   "id": "776f75ec",
   "metadata": {},
   "outputs": [],
   "source": [
    "#import essential libraries \n",
    "import pandas as pd\n",
    "import numpy as np\n",
    "import dateutil.parser as parser\n",
    "import json as json"
   ]
  },
  {
   "cell_type": "code",
   "execution_count": 2,
   "id": "871b5ff6",
   "metadata": {},
   "outputs": [],
   "source": [
    "data = pd.read_excel(\"/Users/cha801/Documents/UpdateLists/Excels/northernTerritoryConservationStatusList-Plants.xlsx\")"
   ]
  },
  {
   "cell_type": "code",
   "execution_count": 3,
   "id": "64f2960e",
   "metadata": {},
   "outputs": [],
   "source": [
    "#rename the DwC terms\n",
    "data = data.rename(columns=\n",
    "{\n",
    "#'Scientific name':'scientificName',\n",
    "'Plant family':'family',\n",
    "'Status':'status',\n",
    "#'Animal Group':'taxonRemarks'\n",
    "})"
   ]
  },
  {
   "cell_type": "code",
   "execution_count": 4,
   "id": "6dfe07ec",
   "metadata": {},
   "outputs": [
    {
     "data": {
      "text/html": [
       "<div>\n",
       "<style scoped>\n",
       "    .dataframe tbody tr th:only-of-type {\n",
       "        vertical-align: middle;\n",
       "    }\n",
       "\n",
       "    .dataframe tbody tr th {\n",
       "        vertical-align: top;\n",
       "    }\n",
       "\n",
       "    .dataframe thead th {\n",
       "        text-align: right;\n",
       "    }\n",
       "</style>\n",
       "<table border=\"1\" class=\"dataframe\">\n",
       "  <thead>\n",
       "    <tr style=\"text-align: right;\">\n",
       "      <th></th>\n",
       "      <th>family</th>\n",
       "      <th>Scientific name</th>\n",
       "      <th>status</th>\n",
       "    </tr>\n",
       "  </thead>\n",
       "  <tbody>\n",
       "    <tr>\n",
       "      <th>0</th>\n",
       "      <td>Hymenophyllaceae</td>\n",
       "      <td>Abrodictyum obscurum</td>\n",
       "      <td>Endangered</td>\n",
       "    </tr>\n",
       "    <tr>\n",
       "      <th>1</th>\n",
       "      <td>Fabaceae</td>\n",
       "      <td>Acacia equisetifolia</td>\n",
       "      <td>Critically endangered</td>\n",
       "    </tr>\n",
       "    <tr>\n",
       "      <th>2</th>\n",
       "      <td>Fabaceae</td>\n",
       "      <td>Acacia latzii \\nLatz's wattle</td>\n",
       "      <td>Vulnerable</td>\n",
       "    </tr>\n",
       "    <tr>\n",
       "      <th>3</th>\n",
       "      <td>Fabaceae</td>\n",
       "      <td>Acacia peuce\\nWaddy-wood</td>\n",
       "      <td>Endangered</td>\n",
       "    </tr>\n",
       "    <tr>\n",
       "      <th>4</th>\n",
       "      <td>Fabaceae</td>\n",
       "      <td>Acacia pickardii\\nBirds nest wattle</td>\n",
       "      <td>Listed nationally but not under NT legislation</td>\n",
       "    </tr>\n",
       "    <tr>\n",
       "      <th>...</th>\n",
       "      <td>...</td>\n",
       "      <td>...</td>\n",
       "      <td>...</td>\n",
       "    </tr>\n",
       "    <tr>\n",
       "      <th>79</th>\n",
       "      <td>Araceae</td>\n",
       "      <td>Typhonium taylori</td>\n",
       "      <td>Endangered</td>\n",
       "    </tr>\n",
       "    <tr>\n",
       "      <th>80</th>\n",
       "      <td>Lentibulariaceae</td>\n",
       "      <td>Utricularia dunstaniae</td>\n",
       "      <td>Vulnerable</td>\n",
       "    </tr>\n",
       "    <tr>\n",
       "      <th>81</th>\n",
       "      <td>Lentibulariaceae</td>\n",
       "      <td>Utricularia singeriana</td>\n",
       "      <td>Vulnerable</td>\n",
       "    </tr>\n",
       "    <tr>\n",
       "      <th>82</th>\n",
       "      <td>Annonaceae</td>\n",
       "      <td>Xylopia monosperma</td>\n",
       "      <td>Endangered</td>\n",
       "    </tr>\n",
       "    <tr>\n",
       "      <th>83</th>\n",
       "      <td>Orchidaceae</td>\n",
       "      <td>Zeuxine oblonga</td>\n",
       "      <td>Vulnerable</td>\n",
       "    </tr>\n",
       "  </tbody>\n",
       "</table>\n",
       "<p>84 rows × 3 columns</p>\n",
       "</div>"
      ],
      "text/plain": [
       "              family                      Scientific name  \\\n",
       "0   Hymenophyllaceae                 Abrodictyum obscurum   \n",
       "1           Fabaceae                 Acacia equisetifolia   \n",
       "2           Fabaceae        Acacia latzii \\nLatz's wattle   \n",
       "3           Fabaceae             Acacia peuce\\nWaddy-wood   \n",
       "4           Fabaceae  Acacia pickardii\\nBirds nest wattle   \n",
       "..               ...                                  ...   \n",
       "79           Araceae                    Typhonium taylori   \n",
       "80  Lentibulariaceae               Utricularia dunstaniae   \n",
       "81  Lentibulariaceae               Utricularia singeriana   \n",
       "82        Annonaceae                   Xylopia monosperma   \n",
       "83       Orchidaceae                      Zeuxine oblonga   \n",
       "\n",
       "                                            status  \n",
       "0                                       Endangered  \n",
       "1                            Critically endangered  \n",
       "2                                       Vulnerable  \n",
       "3                                       Endangered  \n",
       "4   Listed nationally but not under NT legislation  \n",
       "..                                             ...  \n",
       "79                                      Endangered  \n",
       "80                                      Vulnerable  \n",
       "81                                      Vulnerable  \n",
       "82                                      Endangered  \n",
       "83                                      Vulnerable  \n",
       "\n",
       "[84 rows x 3 columns]"
      ]
     },
     "execution_count": 4,
     "metadata": {},
     "output_type": "execute_result"
    }
   ],
   "source": [
    "data"
   ]
  },
  {
   "cell_type": "code",
   "execution_count": 5,
   "id": "6a518373",
   "metadata": {},
   "outputs": [],
   "source": [
    "data['sourceStatus'] = data['status'].copy()"
   ]
  },
  {
   "cell_type": "code",
   "execution_count": 6,
   "id": "ea8c097e",
   "metadata": {},
   "outputs": [],
   "source": [
    "data['status'] = data['status'].str.split('(').str[0]"
   ]
  },
  {
   "cell_type": "code",
   "execution_count": 7,
   "id": "00b66b5c",
   "metadata": {},
   "outputs": [],
   "source": [
    "data['vernacularName'] = data['Scientific name'].str.split('\\n').str[1]"
   ]
  },
  {
   "cell_type": "code",
   "execution_count": 8,
   "id": "f109fbe8",
   "metadata": {},
   "outputs": [],
   "source": [
    "data['scientificName'] = data['Scientific name'].str.split('\\n').str[0]"
   ]
  },
  {
   "cell_type": "code",
   "execution_count": 9,
   "id": "269535c8",
   "metadata": {},
   "outputs": [],
   "source": [
    "data = data.drop(['Scientific name'], axis=1)"
   ]
  },
  {
   "cell_type": "code",
   "execution_count": 10,
   "id": "c9da2e29",
   "metadata": {},
   "outputs": [],
   "source": [
    "#data.to_csv('/northernTerritoryConservationStatusList-Plants.csv',index = False,encoding='utf-8-sig')"
   ]
  },
  {
   "cell_type": "code",
   "execution_count": 11,
   "id": "c52c67e3",
   "metadata": {},
   "outputs": [],
   "source": [
    "data1 = pd.read_csv(\"/northernTerritoryConservationStatusList-Animals.csv\")"
   ]
  },
  {
   "cell_type": "code",
   "execution_count": 12,
   "id": "99484c30",
   "metadata": {},
   "outputs": [
    {
     "name": "stdout",
     "output_type": "stream",
     "text": [
      "data is  (84, 5)\n",
      "data 1 is  (141, 5)\n"
     ]
    }
   ],
   "source": [
    "print (\"data is \",data.shape)\n",
    "print (\"data 1 is \",data1.shape)"
   ]
  },
  {
   "cell_type": "code",
   "execution_count": 13,
   "id": "bb031394",
   "metadata": {},
   "outputs": [],
   "source": [
    "result = pd.concat([data, data1])"
   ]
  },
  {
   "cell_type": "code",
   "execution_count": 14,
   "id": "2437c822",
   "metadata": {},
   "outputs": [
    {
     "name": "stdout",
     "output_type": "stream",
     "text": [
      "data 1 is  (225, 6)\n"
     ]
    }
   ],
   "source": [
    "print (\"data 1 is \",result.shape)"
   ]
  },
  {
   "cell_type": "code",
   "execution_count": 15,
   "id": "8aee5661",
   "metadata": {},
   "outputs": [
    {
     "data": {
      "text/html": [
       "<div>\n",
       "<style scoped>\n",
       "    .dataframe tbody tr th:only-of-type {\n",
       "        vertical-align: middle;\n",
       "    }\n",
       "\n",
       "    .dataframe tbody tr th {\n",
       "        vertical-align: top;\n",
       "    }\n",
       "\n",
       "    .dataframe thead th {\n",
       "        text-align: right;\n",
       "    }\n",
       "</style>\n",
       "<table border=\"1\" class=\"dataframe\">\n",
       "  <thead>\n",
       "    <tr style=\"text-align: right;\">\n",
       "      <th></th>\n",
       "      <th>family</th>\n",
       "      <th>status</th>\n",
       "      <th>sourceStatus</th>\n",
       "      <th>vernacularName</th>\n",
       "      <th>scientificName</th>\n",
       "      <th>taxonRemarks</th>\n",
       "    </tr>\n",
       "  </thead>\n",
       "  <tbody>\n",
       "    <tr>\n",
       "      <th>0</th>\n",
       "      <td>Hymenophyllaceae</td>\n",
       "      <td>Endangered</td>\n",
       "      <td>Endangered</td>\n",
       "      <td>NaN</td>\n",
       "      <td>Abrodictyum obscurum</td>\n",
       "      <td>NaN</td>\n",
       "    </tr>\n",
       "    <tr>\n",
       "      <th>1</th>\n",
       "      <td>Fabaceae</td>\n",
       "      <td>Critically endangered</td>\n",
       "      <td>Critically endangered</td>\n",
       "      <td>NaN</td>\n",
       "      <td>Acacia equisetifolia</td>\n",
       "      <td>NaN</td>\n",
       "    </tr>\n",
       "    <tr>\n",
       "      <th>2</th>\n",
       "      <td>Fabaceae</td>\n",
       "      <td>Vulnerable</td>\n",
       "      <td>Vulnerable</td>\n",
       "      <td>Latz's wattle</td>\n",
       "      <td>Acacia latzii</td>\n",
       "      <td>NaN</td>\n",
       "    </tr>\n",
       "    <tr>\n",
       "      <th>3</th>\n",
       "      <td>Fabaceae</td>\n",
       "      <td>Endangered</td>\n",
       "      <td>Endangered</td>\n",
       "      <td>Waddy-wood</td>\n",
       "      <td>Acacia peuce</td>\n",
       "      <td>NaN</td>\n",
       "    </tr>\n",
       "    <tr>\n",
       "      <th>4</th>\n",
       "      <td>Fabaceae</td>\n",
       "      <td>Listed nationally but not under NT legislation</td>\n",
       "      <td>Listed nationally but not under NT legislation</td>\n",
       "      <td>Birds nest wattle</td>\n",
       "      <td>Acacia pickardii</td>\n",
       "      <td>NaN</td>\n",
       "    </tr>\n",
       "    <tr>\n",
       "      <th>...</th>\n",
       "      <td>...</td>\n",
       "      <td>...</td>\n",
       "      <td>...</td>\n",
       "      <td>...</td>\n",
       "      <td>...</td>\n",
       "      <td>...</td>\n",
       "    </tr>\n",
       "    <tr>\n",
       "      <th>136</th>\n",
       "      <td>NaN</td>\n",
       "      <td>Listed nationally but not under NT legislation</td>\n",
       "      <td>Listed nationally but not under NT legislation</td>\n",
       "      <td>Whale shark</td>\n",
       "      <td>Rhincodon typus</td>\n",
       "      <td>Fish</td>\n",
       "    </tr>\n",
       "    <tr>\n",
       "      <th>137</th>\n",
       "      <td>NaN</td>\n",
       "      <td>Vulnerable</td>\n",
       "      <td>Vulnerable</td>\n",
       "      <td>White-throated grasswren</td>\n",
       "      <td>Amytornis woodwardi</td>\n",
       "      <td>Bird</td>\n",
       "    </tr>\n",
       "    <tr>\n",
       "      <th>138</th>\n",
       "      <td>NaN</td>\n",
       "      <td>Endangered</td>\n",
       "      <td>Endangered</td>\n",
       "      <td>Yellow chat (Alligator Rivers)</td>\n",
       "      <td>Epthianura crocea tunneyi</td>\n",
       "      <td>Bird</td>\n",
       "    </tr>\n",
       "    <tr>\n",
       "      <th>139</th>\n",
       "      <td>NaN</td>\n",
       "      <td>Vulnerable</td>\n",
       "      <td>Vulnerable</td>\n",
       "      <td>Yellow-snouted ground gecko</td>\n",
       "      <td>Lucasium occultum</td>\n",
       "      <td>Reptile</td>\n",
       "    </tr>\n",
       "    <tr>\n",
       "      <th>140</th>\n",
       "      <td>NaN</td>\n",
       "      <td>Vulnerable</td>\n",
       "      <td>Vulnerable</td>\n",
       "      <td>Yellow-spotted monitor</td>\n",
       "      <td>Varanus panoptes</td>\n",
       "      <td>Reptile</td>\n",
       "    </tr>\n",
       "  </tbody>\n",
       "</table>\n",
       "<p>225 rows × 6 columns</p>\n",
       "</div>"
      ],
      "text/plain": [
       "               family                                          status  \\\n",
       "0    Hymenophyllaceae                                      Endangered   \n",
       "1            Fabaceae                           Critically endangered   \n",
       "2            Fabaceae                                      Vulnerable   \n",
       "3            Fabaceae                                      Endangered   \n",
       "4            Fabaceae  Listed nationally but not under NT legislation   \n",
       "..                ...                                             ...   \n",
       "136               NaN  Listed nationally but not under NT legislation   \n",
       "137               NaN                                      Vulnerable   \n",
       "138               NaN                                      Endangered   \n",
       "139               NaN                                      Vulnerable   \n",
       "140               NaN                                      Vulnerable   \n",
       "\n",
       "                                       sourceStatus  \\\n",
       "0                                        Endangered   \n",
       "1                             Critically endangered   \n",
       "2                                        Vulnerable   \n",
       "3                                        Endangered   \n",
       "4    Listed nationally but not under NT legislation   \n",
       "..                                              ...   \n",
       "136  Listed nationally but not under NT legislation   \n",
       "137                                      Vulnerable   \n",
       "138                                      Endangered   \n",
       "139                                      Vulnerable   \n",
       "140                                      Vulnerable   \n",
       "\n",
       "                      vernacularName             scientificName taxonRemarks  \n",
       "0                                NaN       Abrodictyum obscurum          NaN  \n",
       "1                                NaN       Acacia equisetifolia          NaN  \n",
       "2                      Latz's wattle             Acacia latzii           NaN  \n",
       "3                         Waddy-wood               Acacia peuce          NaN  \n",
       "4                  Birds nest wattle           Acacia pickardii          NaN  \n",
       "..                               ...                        ...          ...  \n",
       "136                      Whale shark            Rhincodon typus         Fish  \n",
       "137        White-throated grasswren         Amytornis woodwardi         Bird  \n",
       "138  Yellow chat (Alligator Rivers)   Epthianura crocea tunneyi         Bird  \n",
       "139     Yellow-snouted ground gecko           Lucasium occultum      Reptile  \n",
       "140          Yellow-spotted monitor            Varanus panoptes      Reptile  \n",
       "\n",
       "[225 rows x 6 columns]"
      ]
     },
     "execution_count": 15,
     "metadata": {},
     "output_type": "execute_result"
    }
   ],
   "source": [
    "result"
   ]
  },
  {
   "cell_type": "code",
   "execution_count": 17,
   "id": "249fe09d",
   "metadata": {},
   "outputs": [],
   "source": [
    "result.to_csv('/northernTerritoryConservationStatusList.csv',index = False,encoding='utf-8-sig')"
   ]
  },
  {
   "cell_type": "code",
   "execution_count": null,
   "id": "8e2a39b6",
   "metadata": {},
   "outputs": [],
   "source": []
  }
 ],
 "metadata": {
  "kernelspec": {
   "display_name": "Python 3",
   "language": "python",
   "name": "python3"
  },
  "language_info": {
   "codemirror_mode": {
    "name": "ipython",
    "version": 3
   },
   "file_extension": ".py",
   "mimetype": "text/x-python",
   "name": "python",
   "nbconvert_exporter": "python",
   "pygments_lexer": "ipython3",
   "version": "3.8.8"
  }
 },
 "nbformat": 4,
 "nbformat_minor": 5
}
