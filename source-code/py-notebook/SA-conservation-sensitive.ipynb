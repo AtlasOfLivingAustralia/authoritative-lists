{
 "cells": [
  {
   "cell_type": "markdown",
   "source": [
    "# SA Conservation and Sensitive Lists\n",
    "Import fauna and vascular plants taxonomies from BDBSA and export lists for use in the ALA\n",
    "\n",
    "## List Identifiers\n",
    "* Conservation list: __[dr653](https://lists.ala.org.au/speciesListItem/list/dr653)__\n",
    "* Sensitive list: __[dr884](https://lists.ala.org.au/speciesListItem/list/dr884)__"
   ],
   "metadata": {
    "collapsed": false,
    "pycharm": {
     "name": "#%% md\n"
    }
   }
  },
  {
   "cell_type": "code",
   "execution_count": 1,
   "outputs": [],
   "source": [
    "#import essential libraries\n",
    "import pandas as pd\n",
    "import numpy as np"
   ],
   "metadata": {
    "collapsed": false,
    "pycharm": {
     "name": "#%%\n"
    }
   }
  },
  {
   "cell_type": "markdown",
   "source": [
    "## Conservation list\n",
    "Read Excel files into dataframes from these sources:\n",
    " Fauna: [metadata](https://www.environment.sa.gov.au/topics/science/information-and-data/census-of-sa-vertebrates) and [BDBSA taxonomy](https://data.environment.sa.gov.au/Content/Publications/fauna-bdbsa-taxonomy.xlsx)\n",
    " Flora: [metadata](https://www.environment.sa.gov.au/topics/science/information-and-data/census-of-sa-plants-algae-fungi) and [BDBSA taxonomy](https://data.environment.sa.gov.au/Content/Publications/vascular-plants-bdbsa-taxonomy.xlsx)"
   ],
   "metadata": {
    "collapsed": false,
    "pycharm": {
     "name": "#%% md\n"
    }
   }
  },
  {
   "cell_type": "markdown",
   "source": [
    "## Fauna"
   ],
   "metadata": {
    "collapsed": false,
    "pycharm": {
     "name": "#%% md\n"
    }
   }
  },
  {
   "cell_type": "code",
   "execution_count": 79,
   "outputs": [
    {
     "data": {
      "text/plain": "     NOTE:Fish taxonomy is under review. The fish species are not complete and taxonomic order unchecked  (species listed in blue).  \\\n0     Invertebrate taxonomy is now being included as...                                                                               \n1     Over recent years many bird subspecies have be...                                                                               \n2                        TEMPORARY TAXONOMIC SORT ORDER                                                                               \n3                                                     1                                                                               \n4                                                     2                                                                               \n...                                                 ...                                                                               \n4036                                               4034                                                                               \n4037                                               4035                                                                               \n4038                                               4036                                                                               \n4039                                               4037                                                                               \n4040                                               4038                                                                               \n\n       Unnamed: 1                          Unnamed: 2    Unnamed: 3  \\\n0             NaN                                 NaN           NaN   \n1             NaN                                 NaN           NaN   \n2     SPECIESTYPE  CLASSNAME (CLASSGROUP for Inverts)     ORDERNAME   \n3               M                            MAMMALIA   MONOTREMATA   \n4               M                            MAMMALIA   MONOTREMATA   \n...           ...                                 ...           ...   \n4036            I                       INVERTEBRATES   HYMENOPTERA   \n4037            I                       INVERTEBRATES   HYMENOPTERA   \n4038            I                       INVERTEBRATES    SCORPIONES   \n4039            I                       INVERTEBRATES  MESOSTIGMATA   \n4040            I                       INVERTEBRATES   SPONGILLIDA   \n\n                Unnamed: 4          Unnamed: 5 Unnamed: 6       Unnamed: 7  \\\n0                      NaN                 NaN        NaN              NaN   \n1                      NaN                 NaN        NaN              NaN   \n2               FAMILYNAME         COMMON NAME    NSXCODE            GENUS   \n3        ORNITHORHYNCHIDAE            Platypus     S01001  Ornithorhynchus   \n4        ORNITHORHYNCHIDAE                 NaN     E10510  Ornithorhynchus   \n...                    ...                 ...        ...              ...   \n4036            FORMICIDAE       Genus of ants     Y11508      Zasphinctus   \n4037   HYMENOPTERA (ORDER)                 NaN     U11238      HYMENOPTERA   \n4038    SCORPIONES (ORDER)           Scorpions     G15147       SCORPIONES   \n4039  MESOSTIGMATA (ORDER)   an order of mites     K11189     MESOSTIGMATA   \n4040          SPONGILLIDAE  Freshwater Sponges     G15171     SPONGILLIDAE   \n\n     Unnamed: 8                Unnamed: 9 Unnamed: 10     Unnamed: 11  \\\n0           NaN                       NaN         NaN             NaN   \n1           NaN                       NaN         NaN             NaN   \n2            SP           SCIENTIFIC NAME  INTRODUCED  NPW ACT STATUS   \n3      anatinus  Ornithorhynchus anatinus         NaN               E   \n4           sp.       Ornithorhynchus sp.         NaN             NaN   \n...         ...                       ...         ...             ...   \n4036        sp.           Zasphinctus sp.         NaN             NaN   \n4037        sp.           HYMENOPTERA sp.         NaN             NaN   \n4038        sp.            SCORPIONES sp.         NaN             NaN   \n4039        sp.          MESOSTIGMATA sp.         NaN             NaN   \n4040        sp.          SPONGILLIDAE sp.         NaN             NaN   \n\n                  Unnamed: 12      Unnamed: 13               Unnamed: 14  \\\n0                         NaN              NaN                       NaN   \n1                         NaN              NaN                       NaN   \n2     NPW ACT STATUS COMMENTS  EPBC ACT STATUS  EPBC ACT STATUS COMMENTS   \n3                         NaN              NaN                       NaN   \n4                         NaN              NaN                       NaN   \n...                       ...              ...                       ...   \n4036                      NaN              NaN                       NaN   \n4037                      NaN              NaN                       NaN   \n4038                      NaN              NaN                       NaN   \n4039                      NaN              NaN                       NaN   \n4040                      NaN              NaN                       NaN   \n\n                                            Unnamed: 15  \\\n0                                                   NaN   \n1                                                   NaN   \n2                             OFFICIAL SPECIES COMMENTS   \n3     Introduced to Kangaroo Island (1928-1946, exta...   \n4                                                   NaN   \n...                                                 ...   \n4036                                                NaN   \n4037                                                NaN   \n4038                                                NaN   \n4039                                                NaN   \n4040                                                NaN   \n\n                Unnamed: 16                      Unnamed: 17     Unnamed: 18  \\\n0                       NaN                              NaN             NaN   \n1                       NaN                              NaN             NaN   \n2     DATE CREATED IN BDBSA  DATE TAXONOMY MODIFIED IN BDBSA  SPECIES AUTHOR   \n3                     32933                            37561    (Shaw, 1799)   \n4                     32933                            37561             NaN   \n...                     ...                              ...             ...   \n4036    2021-07-23 00:00:00                              NaN             NaN   \n4037    2019-05-07 00:00:00                              NaN  (Meigen, 1826)   \n4038    2018-08-24 00:00:00                              NaN             NaN   \n4039    2018-09-07 00:00:00                              NaN             NaN   \n4040    2019-04-01 00:00:00                              NaN      Gray, 1867   \n\n            Unnamed: 19  \n0                   NaN  \n1                   NaN  \n2     SUBSPECIES AUTHOR  \n3                   NaN  \n4                   NaN  \n...                 ...  \n4036                NaN  \n4037                NaN  \n4038                NaN  \n4039                NaN  \n4040                NaN  \n\n[4041 rows x 20 columns]",
      "text/html": "<div>\n<style scoped>\n    .dataframe tbody tr th:only-of-type {\n        vertical-align: middle;\n    }\n\n    .dataframe tbody tr th {\n        vertical-align: top;\n    }\n\n    .dataframe thead th {\n        text-align: right;\n    }\n</style>\n<table border=\"1\" class=\"dataframe\">\n  <thead>\n    <tr style=\"text-align: right;\">\n      <th></th>\n      <th>NOTE:Fish taxonomy is under review. The fish species are not complete and taxonomic order unchecked  (species listed in blue).</th>\n      <th>Unnamed: 1</th>\n      <th>Unnamed: 2</th>\n      <th>Unnamed: 3</th>\n      <th>Unnamed: 4</th>\n      <th>Unnamed: 5</th>\n      <th>Unnamed: 6</th>\n      <th>Unnamed: 7</th>\n      <th>Unnamed: 8</th>\n      <th>Unnamed: 9</th>\n      <th>Unnamed: 10</th>\n      <th>Unnamed: 11</th>\n      <th>Unnamed: 12</th>\n      <th>Unnamed: 13</th>\n      <th>Unnamed: 14</th>\n      <th>Unnamed: 15</th>\n      <th>Unnamed: 16</th>\n      <th>Unnamed: 17</th>\n      <th>Unnamed: 18</th>\n      <th>Unnamed: 19</th>\n    </tr>\n  </thead>\n  <tbody>\n    <tr>\n      <th>0</th>\n      <td>Invertebrate taxonomy is now being included as...</td>\n      <td>NaN</td>\n      <td>NaN</td>\n      <td>NaN</td>\n      <td>NaN</td>\n      <td>NaN</td>\n      <td>NaN</td>\n      <td>NaN</td>\n      <td>NaN</td>\n      <td>NaN</td>\n      <td>NaN</td>\n      <td>NaN</td>\n      <td>NaN</td>\n      <td>NaN</td>\n      <td>NaN</td>\n      <td>NaN</td>\n      <td>NaN</td>\n      <td>NaN</td>\n      <td>NaN</td>\n      <td>NaN</td>\n    </tr>\n    <tr>\n      <th>1</th>\n      <td>Over recent years many bird subspecies have be...</td>\n      <td>NaN</td>\n      <td>NaN</td>\n      <td>NaN</td>\n      <td>NaN</td>\n      <td>NaN</td>\n      <td>NaN</td>\n      <td>NaN</td>\n      <td>NaN</td>\n      <td>NaN</td>\n      <td>NaN</td>\n      <td>NaN</td>\n      <td>NaN</td>\n      <td>NaN</td>\n      <td>NaN</td>\n      <td>NaN</td>\n      <td>NaN</td>\n      <td>NaN</td>\n      <td>NaN</td>\n      <td>NaN</td>\n    </tr>\n    <tr>\n      <th>2</th>\n      <td>TEMPORARY TAXONOMIC SORT ORDER</td>\n      <td>SPECIESTYPE</td>\n      <td>CLASSNAME (CLASSGROUP for Inverts)</td>\n      <td>ORDERNAME</td>\n      <td>FAMILYNAME</td>\n      <td>COMMON NAME</td>\n      <td>NSXCODE</td>\n      <td>GENUS</td>\n      <td>SP</td>\n      <td>SCIENTIFIC NAME</td>\n      <td>INTRODUCED</td>\n      <td>NPW ACT STATUS</td>\n      <td>NPW ACT STATUS COMMENTS</td>\n      <td>EPBC ACT STATUS</td>\n      <td>EPBC ACT STATUS COMMENTS</td>\n      <td>OFFICIAL SPECIES COMMENTS</td>\n      <td>DATE CREATED IN BDBSA</td>\n      <td>DATE TAXONOMY MODIFIED IN BDBSA</td>\n      <td>SPECIES AUTHOR</td>\n      <td>SUBSPECIES AUTHOR</td>\n    </tr>\n    <tr>\n      <th>3</th>\n      <td>1</td>\n      <td>M</td>\n      <td>MAMMALIA</td>\n      <td>MONOTREMATA</td>\n      <td>ORNITHORHYNCHIDAE</td>\n      <td>Platypus</td>\n      <td>S01001</td>\n      <td>Ornithorhynchus</td>\n      <td>anatinus</td>\n      <td>Ornithorhynchus anatinus</td>\n      <td>NaN</td>\n      <td>E</td>\n      <td>NaN</td>\n      <td>NaN</td>\n      <td>NaN</td>\n      <td>Introduced to Kangaroo Island (1928-1946, exta...</td>\n      <td>32933</td>\n      <td>37561</td>\n      <td>(Shaw, 1799)</td>\n      <td>NaN</td>\n    </tr>\n    <tr>\n      <th>4</th>\n      <td>2</td>\n      <td>M</td>\n      <td>MAMMALIA</td>\n      <td>MONOTREMATA</td>\n      <td>ORNITHORHYNCHIDAE</td>\n      <td>NaN</td>\n      <td>E10510</td>\n      <td>Ornithorhynchus</td>\n      <td>sp.</td>\n      <td>Ornithorhynchus sp.</td>\n      <td>NaN</td>\n      <td>NaN</td>\n      <td>NaN</td>\n      <td>NaN</td>\n      <td>NaN</td>\n      <td>NaN</td>\n      <td>32933</td>\n      <td>37561</td>\n      <td>NaN</td>\n      <td>NaN</td>\n    </tr>\n    <tr>\n      <th>...</th>\n      <td>...</td>\n      <td>...</td>\n      <td>...</td>\n      <td>...</td>\n      <td>...</td>\n      <td>...</td>\n      <td>...</td>\n      <td>...</td>\n      <td>...</td>\n      <td>...</td>\n      <td>...</td>\n      <td>...</td>\n      <td>...</td>\n      <td>...</td>\n      <td>...</td>\n      <td>...</td>\n      <td>...</td>\n      <td>...</td>\n      <td>...</td>\n      <td>...</td>\n    </tr>\n    <tr>\n      <th>4036</th>\n      <td>4034</td>\n      <td>I</td>\n      <td>INVERTEBRATES</td>\n      <td>HYMENOPTERA</td>\n      <td>FORMICIDAE</td>\n      <td>Genus of ants</td>\n      <td>Y11508</td>\n      <td>Zasphinctus</td>\n      <td>sp.</td>\n      <td>Zasphinctus sp.</td>\n      <td>NaN</td>\n      <td>NaN</td>\n      <td>NaN</td>\n      <td>NaN</td>\n      <td>NaN</td>\n      <td>NaN</td>\n      <td>2021-07-23 00:00:00</td>\n      <td>NaN</td>\n      <td>NaN</td>\n      <td>NaN</td>\n    </tr>\n    <tr>\n      <th>4037</th>\n      <td>4035</td>\n      <td>I</td>\n      <td>INVERTEBRATES</td>\n      <td>HYMENOPTERA</td>\n      <td>HYMENOPTERA (ORDER)</td>\n      <td>NaN</td>\n      <td>U11238</td>\n      <td>HYMENOPTERA</td>\n      <td>sp.</td>\n      <td>HYMENOPTERA sp.</td>\n      <td>NaN</td>\n      <td>NaN</td>\n      <td>NaN</td>\n      <td>NaN</td>\n      <td>NaN</td>\n      <td>NaN</td>\n      <td>2019-05-07 00:00:00</td>\n      <td>NaN</td>\n      <td>(Meigen, 1826)</td>\n      <td>NaN</td>\n    </tr>\n    <tr>\n      <th>4038</th>\n      <td>4036</td>\n      <td>I</td>\n      <td>INVERTEBRATES</td>\n      <td>SCORPIONES</td>\n      <td>SCORPIONES (ORDER)</td>\n      <td>Scorpions</td>\n      <td>G15147</td>\n      <td>SCORPIONES</td>\n      <td>sp.</td>\n      <td>SCORPIONES sp.</td>\n      <td>NaN</td>\n      <td>NaN</td>\n      <td>NaN</td>\n      <td>NaN</td>\n      <td>NaN</td>\n      <td>NaN</td>\n      <td>2018-08-24 00:00:00</td>\n      <td>NaN</td>\n      <td>NaN</td>\n      <td>NaN</td>\n    </tr>\n    <tr>\n      <th>4039</th>\n      <td>4037</td>\n      <td>I</td>\n      <td>INVERTEBRATES</td>\n      <td>MESOSTIGMATA</td>\n      <td>MESOSTIGMATA (ORDER)</td>\n      <td>an order of mites</td>\n      <td>K11189</td>\n      <td>MESOSTIGMATA</td>\n      <td>sp.</td>\n      <td>MESOSTIGMATA sp.</td>\n      <td>NaN</td>\n      <td>NaN</td>\n      <td>NaN</td>\n      <td>NaN</td>\n      <td>NaN</td>\n      <td>NaN</td>\n      <td>2018-09-07 00:00:00</td>\n      <td>NaN</td>\n      <td>NaN</td>\n      <td>NaN</td>\n    </tr>\n    <tr>\n      <th>4040</th>\n      <td>4038</td>\n      <td>I</td>\n      <td>INVERTEBRATES</td>\n      <td>SPONGILLIDA</td>\n      <td>SPONGILLIDAE</td>\n      <td>Freshwater Sponges</td>\n      <td>G15171</td>\n      <td>SPONGILLIDAE</td>\n      <td>sp.</td>\n      <td>SPONGILLIDAE sp.</td>\n      <td>NaN</td>\n      <td>NaN</td>\n      <td>NaN</td>\n      <td>NaN</td>\n      <td>NaN</td>\n      <td>NaN</td>\n      <td>2019-04-01 00:00:00</td>\n      <td>NaN</td>\n      <td>Gray, 1867</td>\n      <td>NaN</td>\n    </tr>\n  </tbody>\n</table>\n<p>4041 rows × 20 columns</p>\n</div>"
     },
     "execution_count": 79,
     "metadata": {},
     "output_type": "execute_result"
    }
   ],
   "source": [
    "fauna = pd.read_excel(\"~/IdeaProjects/authoritative-lists/source-data/South Australia/fauna-bdbsa-taxonomy.xlsx\",sheet_name=\"Taxonomic List\")\n",
    "fauna"
   ],
   "metadata": {
    "collapsed": false,
    "pycharm": {
     "name": "#%%\n"
    }
   }
  },
  {
   "cell_type": "markdown",
   "source": [
    "Fixes to fauna file:\n",
    "* set dataframe names to line 2\n",
    "* remove first 3 lines\n",
    "* filter by NPW ACT Status is one of : E, V or R. Expand this value to the status field\n",
    "* rename the columns to DwC friendly names\n",
    "* remove some unwanted columns"
   ],
   "metadata": {
    "collapsed": false,
    "pycharm": {
     "name": "#%% md\n"
    }
   }
  },
  {
   "cell_type": "markdown",
   "source": [],
   "metadata": {
    "collapsed": false,
    "pycharm": {
     "name": "#%% md\n"
    }
   }
  },
  {
   "cell_type": "code",
   "execution_count": 1,
   "outputs": [
    {
     "ename": "NameError",
     "evalue": "name 'fauna' is not defined",
     "output_type": "error",
     "traceback": [
      "\u001B[1;31m---------------------------------------------------------------------------\u001B[0m",
      "\u001B[1;31mNameError\u001B[0m                                 Traceback (most recent call last)",
      "Input \u001B[1;32mIn [1]\u001B[0m, in \u001B[0;36m<cell line: 1>\u001B[1;34m()\u001B[0m\n\u001B[1;32m----> 1\u001B[0m fauna\u001B[38;5;241m.\u001B[39mcolumns \u001B[38;5;241m=\u001B[39m \u001B[43mfauna\u001B[49m\u001B[38;5;241m.\u001B[39miloc[\u001B[38;5;241m2\u001B[39m]\n\u001B[0;32m      2\u001B[0m fauna \u001B[38;5;241m=\u001B[39m fauna[\u001B[38;5;241m3\u001B[39m:]\n\u001B[0;32m      3\u001B[0m fauna \u001B[38;5;241m=\u001B[39m fauna[fauna[\u001B[38;5;124m'\u001B[39m\u001B[38;5;124mNPW ACT STATUS\u001B[39m\u001B[38;5;124m'\u001B[39m]\u001B[38;5;241m.\u001B[39misin([\u001B[38;5;124m'\u001B[39m\u001B[38;5;124mR\u001B[39m\u001B[38;5;124m'\u001B[39m,\u001B[38;5;124m'\u001B[39m\u001B[38;5;124mV\u001B[39m\u001B[38;5;124m'\u001B[39m,\u001B[38;5;124m'\u001B[39m\u001B[38;5;124mE\u001B[39m\u001B[38;5;124m'\u001B[39m])]\n",
      "\u001B[1;31mNameError\u001B[0m: name 'fauna' is not defined"
     ]
    }
   ],
   "source": [
    "fauna.columns = fauna.iloc[2]\n",
    "fauna = fauna[3:]\n",
    "fauna = fauna[fauna['NPW ACT STATUS'].isin(['R','V','E'])]\n",
    "fauna[\"status\"] = np.where(fauna['NPW ACT STATUS'] == \"E\",'Endangered',\n",
    "                           np.where(fauna['NPW ACT STATUS'] == \"R\",'Rare',\n",
    "                                    np.where(fauna['NPW ACT STATUS'] == \"V\",'Vulnerable','UNK')))\n",
    "fauna = fauna.rename(columns=\n",
    "{\n",
    "    'CLASSNAME (CLASSGROUP for Inverts)':'class',\n",
    "    'ORDERNAME':'order',\n",
    "    'FAMILYNAME':'family',\n",
    "    'COMMON NAME':'vernacularName',\n",
    "    'NSXCODE':'taxonID',\n",
    "    'GENUS':'genus',\n",
    "    'SP':'species',\n",
    "    'SCIENTIFIC NAME':'scientificName',\n",
    "    'NPW ACT STATUS':'sourceStatus',\n",
    "    'NPW ACT STATUS COMMENTS':'npwActStatusComments',\n",
    "    'EPBC ACT STATUS':'epbcStatus',\n",
    "    'EPBC ACT STATUS COMMENTS':'epbcActStatusComments',\n",
    "    'OFFICIAL SPECIES COMMENTS':'taxonRemarks',\n",
    "    'DATE CREATED IN BDBSA':'bdbsaCreatedDate',\n",
    "    'DATE TAXONOMY MODIFIED IN BDBSA':'bdbsaModifiedDate',\n",
    "    'SPECIES AUTHOR':'scientificNameAuthorship',\n",
    "    'SUBSPECIES AUTHOR':'subspeciesAuthor'\n",
    "})\n",
    "fauna.drop(['TEMPORARY TAXONOMIC SORT ORDER','SPECIESTYPE','INTRODUCED'],axis=1,inplace=True)\n",
    "fauna"
   ],
   "metadata": {
    "collapsed": false,
    "pycharm": {
     "name": "#%%\n"
    }
   }
  },
  {
   "cell_type": "markdown",
   "source": [
    "## Flora"
   ],
   "metadata": {
    "collapsed": false,
    "pycharm": {
     "name": "#%% md\n"
    }
   }
  },
  {
   "cell_type": "code",
   "execution_count": 94,
   "outputs": [
    {
     "data": {
      "text/plain": "      TEMPORARY TAXONOMIC SORT ORDER   MAJOR GROUP     FAMILYNAME  \\\n0                                  1  Pteridophyta    PSILOTACEAE   \n1                                  2  Pteridophyta  LYCOPODIACEAE   \n2                                  3  Pteridophyta  LYCOPODIACEAE   \n3                                  4  Pteridophyta  LYCOPODIACEAE   \n4                                  5  Pteridophyta  LYCOPODIACEAE   \n...                              ...           ...            ...   \n6163                            6164  Angiospermae    ORCHIDACEAE   \n6164                            6165  Angiospermae    ORCHIDACEAE   \n6165                            6166  Angiospermae    ORCHIDACEAE   \n6166                            6167  Angiospermae    ORCHIDACEAE   \n6167                            6168  Angiospermae    ORCHIDACEAE   \n\n               COMMON NAME NSXCODE          GENUS             SP SUBSPECIES  \\\n0       Skeleton Fork-fern  U05218       Psilotum          nudum              \n1          Clubmoss Family  Y15092  Lycopodiaceae            sp.              \n2         Slender Clubmoss  Y00020   Lycopodiella      lateralis              \n3             Bog Clubmoss  K00021   Lycopodiella     serpentina              \n4                 Clubmoss  W10607   Lycopodiella            sp.              \n...                    ...     ...            ...            ...        ...   \n6163  Brilliant Sun-orchid  G00867     Thelymitra  x mackibbinii              \n6164    Crimson Sun-orchid  Y00868     Thelymitra    macmillanii              \n6165                   NaN  Y03672     Thelymitra      merraniae              \n6166     Hybrid Sun-orchid  C04797     Thelymitra       truncata              \n6167                   NaN  Q04388    Glossadenia       tutelata              \n\n               SCIENTIFIC NAME INTRODUCED NPWSA ACT STATUS  \\\n0               Psilotum nudum        NaN                E   \n1            Lycopodiaceae sp.        NaN              NaN   \n2       Lycopodiella lateralis        NaN                R   \n3      Lycopodiella serpentina        NaN                E   \n4             Lycopodiella sp.        NaN              NaN   \n...                        ...        ...              ...   \n6163  Thelymitra x mackibbinii        NaN              NaN   \n6164  Thelymitra X macmillanii        NaN              NaN   \n6165    Thelymitra X merraniae        NaN                E   \n6166     Thelymitra X truncata        NaN              NaN   \n6167    X Glossadenia tutelata        NaN              NaN   \n\n                 NPWSA ACT STATUS COMMENT EPBC ACT STATUS  \\\n0     Currently Extinct in the wild in SA             NaN   \n1                                     NaN             NaN   \n2                                     NaN             NaN   \n3                                     NaN             NaN   \n4                                     NaN             NaN   \n...                                   ...             ...   \n6163                                  NaN             NaN   \n6164                                  NaN             NaN   \n6165    EN D, updated null to E, Apr 2007             NaN   \n6166                                  NaN             NaN   \n6167                                  NaN             NaN   \n\n     EPBC ACT STATUS COMMENT Weed of National Significance  \\\n0                        NaN                           NaN   \n1                        NaN                           NaN   \n2                        NaN                           NaN   \n3                        NaN                           NaN   \n4                        NaN                           NaN   \n...                      ...                           ...   \n6163                     NaN                           NaN   \n6164                     NaN                           NaN   \n6165                     NaN                           NaN   \n6166                     NaN                           NaN   \n6167                     NaN                           NaN   \n\n     NRM ACT Weed Status CREATIONDATE MODIFIEDDATE  \\\n0                    NaN   1992-11-13          NaT   \n1                    NaN   1990-10-02          NaT   \n2                    NaN   1990-10-02   1992-11-13   \n3                    NaN   1990-10-02   1992-11-13   \n4                    NaN   1990-10-02   1993-11-30   \n...                  ...          ...          ...   \n6163                 NaN   1990-10-02   1995-02-10   \n6164                 NaN   1990-10-02   2005-11-29   \n6165                 NaN   1990-10-02   2005-05-10   \n6166                 NaN   1990-10-02   2005-11-29   \n6167                 NaN   1990-10-02   2008-05-21   \n\n                                SPECIES with AUTHOR  \n0                       Psilotum nudum (L.)P.Beauv.  \n1                                 Lycopodiaceae sp.  \n2             Lycopodiella lateralis (R.Br.)B.Ollg.  \n3            Lycopodiella serpentina (Kunze)B.Ollg.  \n4                                  Lycopodiella sp.  \n...                                             ...  \n6163              Thelymitra x mackibbinii F.Muell.  \n6164              Thelymitra X macmillanii F.Muell.  \n6165                Thelymitra X merraniae Nicholls  \n6166               Thelymitra X truncata R.S.Rogers  \n6167  X Glossadenia tutelata (R.S.Rogers)Kellermann  \n\n[6168 rows x 19 columns]",
      "text/html": "<div>\n<style scoped>\n    .dataframe tbody tr th:only-of-type {\n        vertical-align: middle;\n    }\n\n    .dataframe tbody tr th {\n        vertical-align: top;\n    }\n\n    .dataframe thead th {\n        text-align: right;\n    }\n</style>\n<table border=\"1\" class=\"dataframe\">\n  <thead>\n    <tr style=\"text-align: right;\">\n      <th></th>\n      <th>TEMPORARY TAXONOMIC SORT ORDER</th>\n      <th>MAJOR GROUP</th>\n      <th>FAMILYNAME</th>\n      <th>COMMON NAME</th>\n      <th>NSXCODE</th>\n      <th>GENUS</th>\n      <th>SP</th>\n      <th>SUBSPECIES</th>\n      <th>SCIENTIFIC NAME</th>\n      <th>INTRODUCED</th>\n      <th>NPWSA ACT STATUS</th>\n      <th>NPWSA ACT STATUS COMMENT</th>\n      <th>EPBC ACT STATUS</th>\n      <th>EPBC ACT STATUS COMMENT</th>\n      <th>Weed of National Significance</th>\n      <th>NRM ACT Weed Status</th>\n      <th>CREATIONDATE</th>\n      <th>MODIFIEDDATE</th>\n      <th>SPECIES with AUTHOR</th>\n    </tr>\n  </thead>\n  <tbody>\n    <tr>\n      <th>0</th>\n      <td>1</td>\n      <td>Pteridophyta</td>\n      <td>PSILOTACEAE</td>\n      <td>Skeleton Fork-fern</td>\n      <td>U05218</td>\n      <td>Psilotum</td>\n      <td>nudum</td>\n      <td></td>\n      <td>Psilotum nudum</td>\n      <td>NaN</td>\n      <td>E</td>\n      <td>Currently Extinct in the wild in SA</td>\n      <td>NaN</td>\n      <td>NaN</td>\n      <td>NaN</td>\n      <td>NaN</td>\n      <td>1992-11-13</td>\n      <td>NaT</td>\n      <td>Psilotum nudum (L.)P.Beauv.</td>\n    </tr>\n    <tr>\n      <th>1</th>\n      <td>2</td>\n      <td>Pteridophyta</td>\n      <td>LYCOPODIACEAE</td>\n      <td>Clubmoss Family</td>\n      <td>Y15092</td>\n      <td>Lycopodiaceae</td>\n      <td>sp.</td>\n      <td></td>\n      <td>Lycopodiaceae sp.</td>\n      <td>NaN</td>\n      <td>NaN</td>\n      <td>NaN</td>\n      <td>NaN</td>\n      <td>NaN</td>\n      <td>NaN</td>\n      <td>NaN</td>\n      <td>1990-10-02</td>\n      <td>NaT</td>\n      <td>Lycopodiaceae sp.</td>\n    </tr>\n    <tr>\n      <th>2</th>\n      <td>3</td>\n      <td>Pteridophyta</td>\n      <td>LYCOPODIACEAE</td>\n      <td>Slender Clubmoss</td>\n      <td>Y00020</td>\n      <td>Lycopodiella</td>\n      <td>lateralis</td>\n      <td></td>\n      <td>Lycopodiella lateralis</td>\n      <td>NaN</td>\n      <td>R</td>\n      <td>NaN</td>\n      <td>NaN</td>\n      <td>NaN</td>\n      <td>NaN</td>\n      <td>NaN</td>\n      <td>1990-10-02</td>\n      <td>1992-11-13</td>\n      <td>Lycopodiella lateralis (R.Br.)B.Ollg.</td>\n    </tr>\n    <tr>\n      <th>3</th>\n      <td>4</td>\n      <td>Pteridophyta</td>\n      <td>LYCOPODIACEAE</td>\n      <td>Bog Clubmoss</td>\n      <td>K00021</td>\n      <td>Lycopodiella</td>\n      <td>serpentina</td>\n      <td></td>\n      <td>Lycopodiella serpentina</td>\n      <td>NaN</td>\n      <td>E</td>\n      <td>NaN</td>\n      <td>NaN</td>\n      <td>NaN</td>\n      <td>NaN</td>\n      <td>NaN</td>\n      <td>1990-10-02</td>\n      <td>1992-11-13</td>\n      <td>Lycopodiella serpentina (Kunze)B.Ollg.</td>\n    </tr>\n    <tr>\n      <th>4</th>\n      <td>5</td>\n      <td>Pteridophyta</td>\n      <td>LYCOPODIACEAE</td>\n      <td>Clubmoss</td>\n      <td>W10607</td>\n      <td>Lycopodiella</td>\n      <td>sp.</td>\n      <td></td>\n      <td>Lycopodiella sp.</td>\n      <td>NaN</td>\n      <td>NaN</td>\n      <td>NaN</td>\n      <td>NaN</td>\n      <td>NaN</td>\n      <td>NaN</td>\n      <td>NaN</td>\n      <td>1990-10-02</td>\n      <td>1993-11-30</td>\n      <td>Lycopodiella sp.</td>\n    </tr>\n    <tr>\n      <th>...</th>\n      <td>...</td>\n      <td>...</td>\n      <td>...</td>\n      <td>...</td>\n      <td>...</td>\n      <td>...</td>\n      <td>...</td>\n      <td>...</td>\n      <td>...</td>\n      <td>...</td>\n      <td>...</td>\n      <td>...</td>\n      <td>...</td>\n      <td>...</td>\n      <td>...</td>\n      <td>...</td>\n      <td>...</td>\n      <td>...</td>\n      <td>...</td>\n    </tr>\n    <tr>\n      <th>6163</th>\n      <td>6164</td>\n      <td>Angiospermae</td>\n      <td>ORCHIDACEAE</td>\n      <td>Brilliant Sun-orchid</td>\n      <td>G00867</td>\n      <td>Thelymitra</td>\n      <td>x mackibbinii</td>\n      <td></td>\n      <td>Thelymitra x mackibbinii</td>\n      <td>NaN</td>\n      <td>NaN</td>\n      <td>NaN</td>\n      <td>NaN</td>\n      <td>NaN</td>\n      <td>NaN</td>\n      <td>NaN</td>\n      <td>1990-10-02</td>\n      <td>1995-02-10</td>\n      <td>Thelymitra x mackibbinii F.Muell.</td>\n    </tr>\n    <tr>\n      <th>6164</th>\n      <td>6165</td>\n      <td>Angiospermae</td>\n      <td>ORCHIDACEAE</td>\n      <td>Crimson Sun-orchid</td>\n      <td>Y00868</td>\n      <td>Thelymitra</td>\n      <td>macmillanii</td>\n      <td></td>\n      <td>Thelymitra X macmillanii</td>\n      <td>NaN</td>\n      <td>NaN</td>\n      <td>NaN</td>\n      <td>NaN</td>\n      <td>NaN</td>\n      <td>NaN</td>\n      <td>NaN</td>\n      <td>1990-10-02</td>\n      <td>2005-11-29</td>\n      <td>Thelymitra X macmillanii F.Muell.</td>\n    </tr>\n    <tr>\n      <th>6165</th>\n      <td>6166</td>\n      <td>Angiospermae</td>\n      <td>ORCHIDACEAE</td>\n      <td>NaN</td>\n      <td>Y03672</td>\n      <td>Thelymitra</td>\n      <td>merraniae</td>\n      <td></td>\n      <td>Thelymitra X merraniae</td>\n      <td>NaN</td>\n      <td>E</td>\n      <td>EN D, updated null to E, Apr 2007</td>\n      <td>NaN</td>\n      <td>NaN</td>\n      <td>NaN</td>\n      <td>NaN</td>\n      <td>1990-10-02</td>\n      <td>2005-05-10</td>\n      <td>Thelymitra X merraniae Nicholls</td>\n    </tr>\n    <tr>\n      <th>6166</th>\n      <td>6167</td>\n      <td>Angiospermae</td>\n      <td>ORCHIDACEAE</td>\n      <td>Hybrid Sun-orchid</td>\n      <td>C04797</td>\n      <td>Thelymitra</td>\n      <td>truncata</td>\n      <td></td>\n      <td>Thelymitra X truncata</td>\n      <td>NaN</td>\n      <td>NaN</td>\n      <td>NaN</td>\n      <td>NaN</td>\n      <td>NaN</td>\n      <td>NaN</td>\n      <td>NaN</td>\n      <td>1990-10-02</td>\n      <td>2005-11-29</td>\n      <td>Thelymitra X truncata R.S.Rogers</td>\n    </tr>\n    <tr>\n      <th>6167</th>\n      <td>6168</td>\n      <td>Angiospermae</td>\n      <td>ORCHIDACEAE</td>\n      <td>NaN</td>\n      <td>Q04388</td>\n      <td>Glossadenia</td>\n      <td>tutelata</td>\n      <td></td>\n      <td>X Glossadenia tutelata</td>\n      <td>NaN</td>\n      <td>NaN</td>\n      <td>NaN</td>\n      <td>NaN</td>\n      <td>NaN</td>\n      <td>NaN</td>\n      <td>NaN</td>\n      <td>1990-10-02</td>\n      <td>2008-05-21</td>\n      <td>X Glossadenia tutelata (R.S.Rogers)Kellermann</td>\n    </tr>\n  </tbody>\n</table>\n<p>6168 rows × 19 columns</p>\n</div>"
     },
     "execution_count": 94,
     "metadata": {},
     "output_type": "execute_result"
    }
   ],
   "source": [
    "flora = pd.read_excel(\"~/IdeaProjects/authoritative-lists/source-data/South Australia/vascular-plants-bdbsa-taxonomy.xlsx\",sheet_name=\"Taxonomic list\")\n",
    "flora"
   ],
   "metadata": {
    "collapsed": false,
    "pycharm": {
     "name": "#%%\n"
    }
   }
  },
  {
   "cell_type": "markdown",
   "source": [
    "Fixes to flora file:\n",
    "* filter by NPW ACT Status is one of : E, V or R. Expand this value to the status field\n",
    "* rename the columns to DwC friendly names\n",
    "* remove some unwanted columns"
   ],
   "metadata": {
    "collapsed": false,
    "pycharm": {
     "name": "#%% md\n"
    }
   }
  },
  {
   "cell_type": "code",
   "execution_count": 95,
   "outputs": [
    {
     "name": "stderr",
     "output_type": "stream",
     "text": [
      "/var/folders/x5/g4flwxsd17z0b8vxsj8kcpyw00j52j/T/ipykernel_54274/3176920643.py:2: SettingWithCopyWarning: \n",
      "A value is trying to be set on a copy of a slice from a DataFrame.\n",
      "Try using .loc[row_indexer,col_indexer] = value instead\n",
      "\n",
      "See the caveats in the documentation: https://pandas.pydata.org/pandas-docs/stable/user_guide/indexing.html#returning-a-view-versus-a-copy\n",
      "  flora[\"status\"] = np.where(flora['NPWSA ACT STATUS'].str.startswith('E'),'Endangered',\n"
     ]
    },
    {
     "data": {
      "text/plain": "        majorGroup         family        vernacularName taxonID  \\\n0     Pteridophyta    PSILOTACEAE    Skeleton Fork-fern  U05218   \n2     Pteridophyta  LYCOPODIACEAE      Slender Clubmoss  Y00020   \n3     Pteridophyta  LYCOPODIACEAE          Bog Clubmoss  K00021   \n5     Pteridophyta  LYCOPODIACEAE        Bushy Clubmoss  W00019   \n6     Pteridophyta  LYCOPODIACEAE        Pigmy Clubmoss  M00022   \n...            ...            ...                   ...     ...   \n6145  Angiospermae    ORCHIDACEAE     Spiral Sun-orchid  K00869   \n6151  Angiospermae    ORCHIDACEAE      Azure Sun-orchid  S06033   \n6153  Angiospermae    ORCHIDACEAE       Plum Sun-orchid  K32213   \n6157  Angiospermae    ORCHIDACEAE  Blue Star Sun-orchid  S32209   \n6165  Angiospermae    ORCHIDACEAE                   NaN  Y03672   \n\n              genus        species subSpecies            scientificName  \\\n0          Psilotum          nudum                       Psilotum nudum   \n2      Lycopodiella      lateralis               Lycopodiella lateralis   \n3      Lycopodiella     serpentina              Lycopodiella serpentina   \n5        Lycopodium  deuterodensum             Lycopodium deuterodensum   \n6     Phylloglossum     drummondii             Phylloglossum drummondii   \n...             ...            ...        ...                       ...   \n6145     Thelymitra     matthewsii                Thelymitra matthewsii   \n6151     Thelymitra   occidentalis              Thelymitra occidentalis   \n6153     Thelymitra     orientalis                Thelymitra orientalis   \n6157     Thelymitra     peniculata                Thelymitra peniculata   \n6165     Thelymitra      merraniae               Thelymitra X merraniae   \n\n     sourceStatus                               npwActStatusComments  \\\n0               E                Currently Extinct in the wild in SA   \n2               R                                                NaN   \n3               E                                                NaN   \n5               E                                                NaN   \n6               R                                                NaN   \n...           ...                                                ...   \n6145            E                                                NaN   \n6151            R                                            RA d(i)   \n6153            R                                                NaN   \n6157            V  Warning: Conservation status data auto-copied ...   \n6165            E                  EN D, updated null to E, Apr 2007   \n\n     epbcStatus epbcActStatusComments weedOfNationalSignificance  \\\n0           NaN                   NaN                        NaN   \n2           NaN                   NaN                        NaN   \n3           NaN                   NaN                        NaN   \n5           NaN                   NaN                        NaN   \n6           NaN                   NaN                        NaN   \n...         ...                   ...                        ...   \n6145         VU   2000-07-16 00:00:00                        NaN   \n6151        NaN                   NaN                        NaN   \n6153        NaN                   NaN                        NaN   \n6157        NaN                   NaN                        NaN   \n6165        NaN                   NaN                        NaN   \n\n     nrmActWeedStatus bdbsaCreatedDate bdbsaModifiedDate  \\\n0                 NaN       1992-11-13               NaT   \n2                 NaN       1990-10-02        1992-11-13   \n3                 NaN       1990-10-02        1992-11-13   \n5                 NaN       1990-10-02               NaT   \n6                 NaN       1990-10-02               NaT   \n...               ...              ...               ...   \n6145              NaN       1990-10-02               NaT   \n6151              NaN       2005-05-10               NaT   \n6153              NaN       2011-02-03               NaT   \n6157              NaN       2011-02-02               NaT   \n6165              NaN       1990-10-02        2005-05-10   \n\n                    scientificNameAuthorship      status  \n0                Psilotum nudum (L.)P.Beauv.  Endangered  \n2      Lycopodiella lateralis (R.Br.)B.Ollg.        Rare  \n3     Lycopodiella serpentina (Kunze)B.Ollg.  Endangered  \n5            Lycopodium deuterodensum Herter  Endangered  \n6             Phylloglossum drummondii Kunze        Rare  \n...                                      ...         ...  \n6145         Thelymitra matthewsii Cheeseman  Endangered  \n6151          Thelymitra occidentalis Jeanes        Rare  \n6153         Thelymitra orientalis R.J.Bates        Rare  \n6157            Thelymitra peniculata Jeanes  Vulnerable  \n6165         Thelymitra X merraniae Nicholls  Endangered  \n\n[840 rows x 18 columns]",
      "text/html": "<div>\n<style scoped>\n    .dataframe tbody tr th:only-of-type {\n        vertical-align: middle;\n    }\n\n    .dataframe tbody tr th {\n        vertical-align: top;\n    }\n\n    .dataframe thead th {\n        text-align: right;\n    }\n</style>\n<table border=\"1\" class=\"dataframe\">\n  <thead>\n    <tr style=\"text-align: right;\">\n      <th></th>\n      <th>majorGroup</th>\n      <th>family</th>\n      <th>vernacularName</th>\n      <th>taxonID</th>\n      <th>genus</th>\n      <th>species</th>\n      <th>subSpecies</th>\n      <th>scientificName</th>\n      <th>sourceStatus</th>\n      <th>npwActStatusComments</th>\n      <th>epbcStatus</th>\n      <th>epbcActStatusComments</th>\n      <th>weedOfNationalSignificance</th>\n      <th>nrmActWeedStatus</th>\n      <th>bdbsaCreatedDate</th>\n      <th>bdbsaModifiedDate</th>\n      <th>scientificNameAuthorship</th>\n      <th>status</th>\n    </tr>\n  </thead>\n  <tbody>\n    <tr>\n      <th>0</th>\n      <td>Pteridophyta</td>\n      <td>PSILOTACEAE</td>\n      <td>Skeleton Fork-fern</td>\n      <td>U05218</td>\n      <td>Psilotum</td>\n      <td>nudum</td>\n      <td></td>\n      <td>Psilotum nudum</td>\n      <td>E</td>\n      <td>Currently Extinct in the wild in SA</td>\n      <td>NaN</td>\n      <td>NaN</td>\n      <td>NaN</td>\n      <td>NaN</td>\n      <td>1992-11-13</td>\n      <td>NaT</td>\n      <td>Psilotum nudum (L.)P.Beauv.</td>\n      <td>Endangered</td>\n    </tr>\n    <tr>\n      <th>2</th>\n      <td>Pteridophyta</td>\n      <td>LYCOPODIACEAE</td>\n      <td>Slender Clubmoss</td>\n      <td>Y00020</td>\n      <td>Lycopodiella</td>\n      <td>lateralis</td>\n      <td></td>\n      <td>Lycopodiella lateralis</td>\n      <td>R</td>\n      <td>NaN</td>\n      <td>NaN</td>\n      <td>NaN</td>\n      <td>NaN</td>\n      <td>NaN</td>\n      <td>1990-10-02</td>\n      <td>1992-11-13</td>\n      <td>Lycopodiella lateralis (R.Br.)B.Ollg.</td>\n      <td>Rare</td>\n    </tr>\n    <tr>\n      <th>3</th>\n      <td>Pteridophyta</td>\n      <td>LYCOPODIACEAE</td>\n      <td>Bog Clubmoss</td>\n      <td>K00021</td>\n      <td>Lycopodiella</td>\n      <td>serpentina</td>\n      <td></td>\n      <td>Lycopodiella serpentina</td>\n      <td>E</td>\n      <td>NaN</td>\n      <td>NaN</td>\n      <td>NaN</td>\n      <td>NaN</td>\n      <td>NaN</td>\n      <td>1990-10-02</td>\n      <td>1992-11-13</td>\n      <td>Lycopodiella serpentina (Kunze)B.Ollg.</td>\n      <td>Endangered</td>\n    </tr>\n    <tr>\n      <th>5</th>\n      <td>Pteridophyta</td>\n      <td>LYCOPODIACEAE</td>\n      <td>Bushy Clubmoss</td>\n      <td>W00019</td>\n      <td>Lycopodium</td>\n      <td>deuterodensum</td>\n      <td></td>\n      <td>Lycopodium deuterodensum</td>\n      <td>E</td>\n      <td>NaN</td>\n      <td>NaN</td>\n      <td>NaN</td>\n      <td>NaN</td>\n      <td>NaN</td>\n      <td>1990-10-02</td>\n      <td>NaT</td>\n      <td>Lycopodium deuterodensum Herter</td>\n      <td>Endangered</td>\n    </tr>\n    <tr>\n      <th>6</th>\n      <td>Pteridophyta</td>\n      <td>LYCOPODIACEAE</td>\n      <td>Pigmy Clubmoss</td>\n      <td>M00022</td>\n      <td>Phylloglossum</td>\n      <td>drummondii</td>\n      <td></td>\n      <td>Phylloglossum drummondii</td>\n      <td>R</td>\n      <td>NaN</td>\n      <td>NaN</td>\n      <td>NaN</td>\n      <td>NaN</td>\n      <td>NaN</td>\n      <td>1990-10-02</td>\n      <td>NaT</td>\n      <td>Phylloglossum drummondii Kunze</td>\n      <td>Rare</td>\n    </tr>\n    <tr>\n      <th>...</th>\n      <td>...</td>\n      <td>...</td>\n      <td>...</td>\n      <td>...</td>\n      <td>...</td>\n      <td>...</td>\n      <td>...</td>\n      <td>...</td>\n      <td>...</td>\n      <td>...</td>\n      <td>...</td>\n      <td>...</td>\n      <td>...</td>\n      <td>...</td>\n      <td>...</td>\n      <td>...</td>\n      <td>...</td>\n      <td>...</td>\n    </tr>\n    <tr>\n      <th>6145</th>\n      <td>Angiospermae</td>\n      <td>ORCHIDACEAE</td>\n      <td>Spiral Sun-orchid</td>\n      <td>K00869</td>\n      <td>Thelymitra</td>\n      <td>matthewsii</td>\n      <td></td>\n      <td>Thelymitra matthewsii</td>\n      <td>E</td>\n      <td>NaN</td>\n      <td>VU</td>\n      <td>2000-07-16 00:00:00</td>\n      <td>NaN</td>\n      <td>NaN</td>\n      <td>1990-10-02</td>\n      <td>NaT</td>\n      <td>Thelymitra matthewsii Cheeseman</td>\n      <td>Endangered</td>\n    </tr>\n    <tr>\n      <th>6151</th>\n      <td>Angiospermae</td>\n      <td>ORCHIDACEAE</td>\n      <td>Azure Sun-orchid</td>\n      <td>S06033</td>\n      <td>Thelymitra</td>\n      <td>occidentalis</td>\n      <td></td>\n      <td>Thelymitra occidentalis</td>\n      <td>R</td>\n      <td>RA d(i)</td>\n      <td>NaN</td>\n      <td>NaN</td>\n      <td>NaN</td>\n      <td>NaN</td>\n      <td>2005-05-10</td>\n      <td>NaT</td>\n      <td>Thelymitra occidentalis Jeanes</td>\n      <td>Rare</td>\n    </tr>\n    <tr>\n      <th>6153</th>\n      <td>Angiospermae</td>\n      <td>ORCHIDACEAE</td>\n      <td>Plum Sun-orchid</td>\n      <td>K32213</td>\n      <td>Thelymitra</td>\n      <td>orientalis</td>\n      <td></td>\n      <td>Thelymitra orientalis</td>\n      <td>R</td>\n      <td>NaN</td>\n      <td>NaN</td>\n      <td>NaN</td>\n      <td>NaN</td>\n      <td>NaN</td>\n      <td>2011-02-03</td>\n      <td>NaT</td>\n      <td>Thelymitra orientalis R.J.Bates</td>\n      <td>Rare</td>\n    </tr>\n    <tr>\n      <th>6157</th>\n      <td>Angiospermae</td>\n      <td>ORCHIDACEAE</td>\n      <td>Blue Star Sun-orchid</td>\n      <td>S32209</td>\n      <td>Thelymitra</td>\n      <td>peniculata</td>\n      <td></td>\n      <td>Thelymitra peniculata</td>\n      <td>V</td>\n      <td>Warning: Conservation status data auto-copied ...</td>\n      <td>NaN</td>\n      <td>NaN</td>\n      <td>NaN</td>\n      <td>NaN</td>\n      <td>2011-02-02</td>\n      <td>NaT</td>\n      <td>Thelymitra peniculata Jeanes</td>\n      <td>Vulnerable</td>\n    </tr>\n    <tr>\n      <th>6165</th>\n      <td>Angiospermae</td>\n      <td>ORCHIDACEAE</td>\n      <td>NaN</td>\n      <td>Y03672</td>\n      <td>Thelymitra</td>\n      <td>merraniae</td>\n      <td></td>\n      <td>Thelymitra X merraniae</td>\n      <td>E</td>\n      <td>EN D, updated null to E, Apr 2007</td>\n      <td>NaN</td>\n      <td>NaN</td>\n      <td>NaN</td>\n      <td>NaN</td>\n      <td>1990-10-02</td>\n      <td>2005-05-10</td>\n      <td>Thelymitra X merraniae Nicholls</td>\n      <td>Endangered</td>\n    </tr>\n  </tbody>\n</table>\n<p>840 rows × 18 columns</p>\n</div>"
     },
     "execution_count": 95,
     "metadata": {},
     "output_type": "execute_result"
    }
   ],
   "source": [
    "flora = flora[flora['NPWSA ACT STATUS'].isin(['R','V','E','R*','V*','E*'])]\n",
    "flora[\"status\"] = np.where(flora['NPWSA ACT STATUS'].str.startswith('E'),'Endangered',\n",
    "                           np.where(flora['NPWSA ACT STATUS'].str.startswith('R'),'Rare',\n",
    "                                    np.where(flora['NPWSA ACT STATUS'].str.startswith('V'),'Vulnerable','UNK')))\n",
    "flora = flora.rename(columns=\n",
    "{\n",
    "    'MAJOR GROUP':'majorGroup',\n",
    "    'FAMILYNAME':'family',\n",
    "    'COMMON NAME':'vernacularName',\n",
    "    'NSXCODE':'taxonID',\n",
    "    'GENUS':'genus',\n",
    "    'SP':'species',\n",
    "    'SUBSPECIES':'subSpecies',\n",
    "    'SCIENTIFIC NAME':'scientificName',\n",
    "    'NPWSA ACT STATUS':'sourceStatus',\n",
    "    'NPWSA ACT STATUS COMMENT':'npwActStatusComments',\n",
    "    'EPBC ACT STATUS':'epbcStatus',\n",
    "    'EPBC ACT STATUS COMMENT':'epbcActStatusComments',\n",
    "    'Weed of National Significance':'weedOfNationalSignificance',\n",
    "    'NRM ACT Weed Status':'nrmActWeedStatus',\n",
    "    'CREATIONDATE':'bdbsaCreatedDate',\n",
    "    'MODIFIEDDATE':'bdbsaModifiedDate',\n",
    "    'SPECIES with AUTHOR':'scientificNameAuthorship'\n",
    "})\n",
    "flora.drop(['TEMPORARY TAXONOMIC SORT ORDER','INTRODUCED'],axis=1,inplace=True)\n",
    "flora"
   ],
   "metadata": {
    "collapsed": false,
    "pycharm": {
     "name": "#%%\n"
    }
   }
  },
  {
   "cell_type": "code",
   "execution_count": 96,
   "outputs": [
    {
     "data": {
      "text/plain": "Index(['class', 'order', 'family', 'vernacularName', 'taxonID', 'genus',\n       'species', 'scientificName', 'sourceStatus', 'npwActStatusComments',\n       'epbcStatus', 'epbcActStatusComments', 'taxonRemarks',\n       'bdbsaCreatedDate', 'bdbsaModifiedDate', 'scientificNameAuthorship',\n       'subspeciesAuthor', 'status'],\n      dtype='object', name=2)"
     },
     "execution_count": 96,
     "metadata": {},
     "output_type": "execute_result"
    }
   ],
   "source": [
    "fauna.columns\n"
   ],
   "metadata": {
    "collapsed": false,
    "pycharm": {
     "name": "#%%\n"
    }
   }
  },
  {
   "cell_type": "code",
   "execution_count": 97,
   "outputs": [
    {
     "data": {
      "text/plain": "Index(['majorGroup', 'family', 'vernacularName', 'taxonID', 'genus', 'species',\n       'subSpecies', 'scientificName', 'sourceStatus', 'npwActStatusComments',\n       'epbcStatus', 'epbcActStatusComments', 'weedOfNationalSignificance',\n       'nrmActWeedStatus', 'bdbsaCreatedDate', 'bdbsaModifiedDate',\n       'scientificNameAuthorship', 'status'],\n      dtype='object')"
     },
     "execution_count": 97,
     "metadata": {},
     "output_type": "execute_result"
    }
   ],
   "source": [
    "flora.columns"
   ],
   "metadata": {
    "collapsed": false,
    "pycharm": {
     "name": "#%%\n"
    }
   }
  },
  {
   "cell_type": "code",
   "execution_count": 98,
   "outputs": [
    {
     "data": {
      "text/plain": "         class           order             family  \\\n3     MAMMALIA     MONOTREMATA  ORNITHORHYNCHIDAE   \n7     MAMMALIA     MONOTREMATA     TACHYGLOSSIDAE   \n13    MAMMALIA  DASYUROMORPHIA      MYRMECOBIIDAE   \n15    MAMMALIA  DASYUROMORPHIA         DASYURIDAE   \n18    MAMMALIA  DASYUROMORPHIA         DASYURIDAE   \n...        ...             ...                ...   \n6145       NaN             NaN        ORCHIDACEAE   \n6151       NaN             NaN        ORCHIDACEAE   \n6153       NaN             NaN        ORCHIDACEAE   \n6157       NaN             NaN        ORCHIDACEAE   \n6165       NaN             NaN        ORCHIDACEAE   \n\n                              vernacularName taxonID            genus  \\\n3                                   Platypus  S01001  Ornithorhynchus   \n7     Short-beaked Echidna (Kangaroo Island)  C21009     Tachyglossus   \n13                                    Numbat  M01086      Myrmecobius   \n15            Brush-tailed Mulgara (Mulgara)  C04277       Dasycercus   \n18                                    Kowari  C01021      Dasyuroides   \n...                                      ...     ...              ...   \n6145                       Spiral Sun-orchid  K00869       Thelymitra   \n6151                        Azure Sun-orchid  S06033       Thelymitra   \n6153                         Plum Sun-orchid  K32213       Thelymitra   \n6157                    Blue Star Sun-orchid  S32209       Thelymitra   \n6165                                     NaN  Y03672       Thelymitra   \n\n                       species                         scientificName  \\\n3                     anatinus               Ornithorhynchus anatinus   \n7     aculeatus multiaculeatus  Tachyglossus aculeatus multiaculeatus   \n13                   fasciatus                  Myrmecobius fasciatus   \n15                      blythi                      Dasycercus blythi   \n18                      byrnei                     Dasyuroides byrnei   \n...                        ...                                    ...   \n6145                matthewsii                  Thelymitra matthewsii   \n6151              occidentalis                Thelymitra occidentalis   \n6153                orientalis                  Thelymitra orientalis   \n6157                peniculata                  Thelymitra peniculata   \n6165                 merraniae                 Thelymitra X merraniae   \n\n     sourceStatus                               npwActStatusComments  ...  \\\n3               E                                                NaN  ...   \n7               E                Listing official as off 1/Jan/2020.  ...   \n13              E                                         Introduced  ...   \n15              E                                                NaN  ...   \n18              E                    Changed from V to E 1/Jan/2020.  ...   \n...           ...                                                ...  ...   \n6145            E                                                NaN  ...   \n6151            R                                            RA d(i)  ...   \n6153            R                                                NaN  ...   \n6157            V  Warning: Conservation status data auto-copied ...  ...   \n6165            E                  EN D, updated null to E, Apr 2007  ...   \n\n                                           taxonRemarks     bdbsaCreatedDate  \\\n3     Introduced to Kangaroo Island (1928-1946, exta...                32933   \n7                                                   NaN                42188   \n13    Original populations extinct in SA. Western Au...  1990-03-01 00:00:00   \n15    There has been recent taxonomic revision of th...  2000-08-01 00:00:00   \n18    The Vertebrates of South Australia (Robinson e...  1990-03-01 00:00:00   \n...                                                 ...                  ...   \n6145                                                NaN  1990-10-02 00:00:00   \n6151                                                NaN  2005-05-10 00:00:00   \n6153                                                NaN  2011-02-03 00:00:00   \n6157                                                NaN  2011-02-02 00:00:00   \n6165                                                NaN  1990-10-02 00:00:00   \n\n        bdbsaModifiedDate         scientificNameAuthorship subspeciesAuthor  \\\n3                   37561                     (Shaw, 1799)              NaN   \n7                   43066               (Rothschild, 1905)              NaN   \n13    2002-11-01 00:00:00                 Waterhouse, 1836              NaN   \n15    2012-03-23 00:00:00                   (Krefft, 1867)              NaN   \n18    2012-08-28 00:00:00                  (Spencer, 1896)              NaN   \n...                   ...                              ...              ...   \n6145                  NaT  Thelymitra matthewsii Cheeseman              NaN   \n6151                  NaT   Thelymitra occidentalis Jeanes              NaN   \n6153                  NaT  Thelymitra orientalis R.J.Bates              NaN   \n6157                  NaT     Thelymitra peniculata Jeanes              NaN   \n6165  2005-05-10 00:00:00  Thelymitra X merraniae Nicholls              NaN   \n\n          status    majorGroup subSpecies weedOfNationalSignificance  \\\n3     Endangered           NaN        NaN                        NaN   \n7     Endangered           NaN        NaN                        NaN   \n13    Endangered           NaN        NaN                        NaN   \n15    Endangered           NaN        NaN                        NaN   \n18    Endangered           NaN        NaN                        NaN   \n...          ...           ...        ...                        ...   \n6145  Endangered  Angiospermae                                   NaN   \n6151        Rare  Angiospermae                                   NaN   \n6153        Rare  Angiospermae                                   NaN   \n6157  Vulnerable  Angiospermae                                   NaN   \n6165  Endangered  Angiospermae                                   NaN   \n\n     nrmActWeedStatus  \n3                 NaN  \n7                 NaN  \n13                NaN  \n15                NaN  \n18                NaN  \n...               ...  \n6145              NaN  \n6151              NaN  \n6153              NaN  \n6157              NaN  \n6165              NaN  \n\n[1172 rows x 22 columns]",
      "text/html": "<div>\n<style scoped>\n    .dataframe tbody tr th:only-of-type {\n        vertical-align: middle;\n    }\n\n    .dataframe tbody tr th {\n        vertical-align: top;\n    }\n\n    .dataframe thead th {\n        text-align: right;\n    }\n</style>\n<table border=\"1\" class=\"dataframe\">\n  <thead>\n    <tr style=\"text-align: right;\">\n      <th></th>\n      <th>class</th>\n      <th>order</th>\n      <th>family</th>\n      <th>vernacularName</th>\n      <th>taxonID</th>\n      <th>genus</th>\n      <th>species</th>\n      <th>scientificName</th>\n      <th>sourceStatus</th>\n      <th>npwActStatusComments</th>\n      <th>...</th>\n      <th>taxonRemarks</th>\n      <th>bdbsaCreatedDate</th>\n      <th>bdbsaModifiedDate</th>\n      <th>scientificNameAuthorship</th>\n      <th>subspeciesAuthor</th>\n      <th>status</th>\n      <th>majorGroup</th>\n      <th>subSpecies</th>\n      <th>weedOfNationalSignificance</th>\n      <th>nrmActWeedStatus</th>\n    </tr>\n  </thead>\n  <tbody>\n    <tr>\n      <th>3</th>\n      <td>MAMMALIA</td>\n      <td>MONOTREMATA</td>\n      <td>ORNITHORHYNCHIDAE</td>\n      <td>Platypus</td>\n      <td>S01001</td>\n      <td>Ornithorhynchus</td>\n      <td>anatinus</td>\n      <td>Ornithorhynchus anatinus</td>\n      <td>E</td>\n      <td>NaN</td>\n      <td>...</td>\n      <td>Introduced to Kangaroo Island (1928-1946, exta...</td>\n      <td>32933</td>\n      <td>37561</td>\n      <td>(Shaw, 1799)</td>\n      <td>NaN</td>\n      <td>Endangered</td>\n      <td>NaN</td>\n      <td>NaN</td>\n      <td>NaN</td>\n      <td>NaN</td>\n    </tr>\n    <tr>\n      <th>7</th>\n      <td>MAMMALIA</td>\n      <td>MONOTREMATA</td>\n      <td>TACHYGLOSSIDAE</td>\n      <td>Short-beaked Echidna (Kangaroo Island)</td>\n      <td>C21009</td>\n      <td>Tachyglossus</td>\n      <td>aculeatus multiaculeatus</td>\n      <td>Tachyglossus aculeatus multiaculeatus</td>\n      <td>E</td>\n      <td>Listing official as off 1/Jan/2020.</td>\n      <td>...</td>\n      <td>NaN</td>\n      <td>42188</td>\n      <td>43066</td>\n      <td>(Rothschild, 1905)</td>\n      <td>NaN</td>\n      <td>Endangered</td>\n      <td>NaN</td>\n      <td>NaN</td>\n      <td>NaN</td>\n      <td>NaN</td>\n    </tr>\n    <tr>\n      <th>13</th>\n      <td>MAMMALIA</td>\n      <td>DASYUROMORPHIA</td>\n      <td>MYRMECOBIIDAE</td>\n      <td>Numbat</td>\n      <td>M01086</td>\n      <td>Myrmecobius</td>\n      <td>fasciatus</td>\n      <td>Myrmecobius fasciatus</td>\n      <td>E</td>\n      <td>Introduced</td>\n      <td>...</td>\n      <td>Original populations extinct in SA. Western Au...</td>\n      <td>1990-03-01 00:00:00</td>\n      <td>2002-11-01 00:00:00</td>\n      <td>Waterhouse, 1836</td>\n      <td>NaN</td>\n      <td>Endangered</td>\n      <td>NaN</td>\n      <td>NaN</td>\n      <td>NaN</td>\n      <td>NaN</td>\n    </tr>\n    <tr>\n      <th>15</th>\n      <td>MAMMALIA</td>\n      <td>DASYUROMORPHIA</td>\n      <td>DASYURIDAE</td>\n      <td>Brush-tailed Mulgara (Mulgara)</td>\n      <td>C04277</td>\n      <td>Dasycercus</td>\n      <td>blythi</td>\n      <td>Dasycercus blythi</td>\n      <td>E</td>\n      <td>NaN</td>\n      <td>...</td>\n      <td>There has been recent taxonomic revision of th...</td>\n      <td>2000-08-01 00:00:00</td>\n      <td>2012-03-23 00:00:00</td>\n      <td>(Krefft, 1867)</td>\n      <td>NaN</td>\n      <td>Endangered</td>\n      <td>NaN</td>\n      <td>NaN</td>\n      <td>NaN</td>\n      <td>NaN</td>\n    </tr>\n    <tr>\n      <th>18</th>\n      <td>MAMMALIA</td>\n      <td>DASYUROMORPHIA</td>\n      <td>DASYURIDAE</td>\n      <td>Kowari</td>\n      <td>C01021</td>\n      <td>Dasyuroides</td>\n      <td>byrnei</td>\n      <td>Dasyuroides byrnei</td>\n      <td>E</td>\n      <td>Changed from V to E 1/Jan/2020.</td>\n      <td>...</td>\n      <td>The Vertebrates of South Australia (Robinson e...</td>\n      <td>1990-03-01 00:00:00</td>\n      <td>2012-08-28 00:00:00</td>\n      <td>(Spencer, 1896)</td>\n      <td>NaN</td>\n      <td>Endangered</td>\n      <td>NaN</td>\n      <td>NaN</td>\n      <td>NaN</td>\n      <td>NaN</td>\n    </tr>\n    <tr>\n      <th>...</th>\n      <td>...</td>\n      <td>...</td>\n      <td>...</td>\n      <td>...</td>\n      <td>...</td>\n      <td>...</td>\n      <td>...</td>\n      <td>...</td>\n      <td>...</td>\n      <td>...</td>\n      <td>...</td>\n      <td>...</td>\n      <td>...</td>\n      <td>...</td>\n      <td>...</td>\n      <td>...</td>\n      <td>...</td>\n      <td>...</td>\n      <td>...</td>\n      <td>...</td>\n      <td>...</td>\n    </tr>\n    <tr>\n      <th>6145</th>\n      <td>NaN</td>\n      <td>NaN</td>\n      <td>ORCHIDACEAE</td>\n      <td>Spiral Sun-orchid</td>\n      <td>K00869</td>\n      <td>Thelymitra</td>\n      <td>matthewsii</td>\n      <td>Thelymitra matthewsii</td>\n      <td>E</td>\n      <td>NaN</td>\n      <td>...</td>\n      <td>NaN</td>\n      <td>1990-10-02 00:00:00</td>\n      <td>NaT</td>\n      <td>Thelymitra matthewsii Cheeseman</td>\n      <td>NaN</td>\n      <td>Endangered</td>\n      <td>Angiospermae</td>\n      <td></td>\n      <td>NaN</td>\n      <td>NaN</td>\n    </tr>\n    <tr>\n      <th>6151</th>\n      <td>NaN</td>\n      <td>NaN</td>\n      <td>ORCHIDACEAE</td>\n      <td>Azure Sun-orchid</td>\n      <td>S06033</td>\n      <td>Thelymitra</td>\n      <td>occidentalis</td>\n      <td>Thelymitra occidentalis</td>\n      <td>R</td>\n      <td>RA d(i)</td>\n      <td>...</td>\n      <td>NaN</td>\n      <td>2005-05-10 00:00:00</td>\n      <td>NaT</td>\n      <td>Thelymitra occidentalis Jeanes</td>\n      <td>NaN</td>\n      <td>Rare</td>\n      <td>Angiospermae</td>\n      <td></td>\n      <td>NaN</td>\n      <td>NaN</td>\n    </tr>\n    <tr>\n      <th>6153</th>\n      <td>NaN</td>\n      <td>NaN</td>\n      <td>ORCHIDACEAE</td>\n      <td>Plum Sun-orchid</td>\n      <td>K32213</td>\n      <td>Thelymitra</td>\n      <td>orientalis</td>\n      <td>Thelymitra orientalis</td>\n      <td>R</td>\n      <td>NaN</td>\n      <td>...</td>\n      <td>NaN</td>\n      <td>2011-02-03 00:00:00</td>\n      <td>NaT</td>\n      <td>Thelymitra orientalis R.J.Bates</td>\n      <td>NaN</td>\n      <td>Rare</td>\n      <td>Angiospermae</td>\n      <td></td>\n      <td>NaN</td>\n      <td>NaN</td>\n    </tr>\n    <tr>\n      <th>6157</th>\n      <td>NaN</td>\n      <td>NaN</td>\n      <td>ORCHIDACEAE</td>\n      <td>Blue Star Sun-orchid</td>\n      <td>S32209</td>\n      <td>Thelymitra</td>\n      <td>peniculata</td>\n      <td>Thelymitra peniculata</td>\n      <td>V</td>\n      <td>Warning: Conservation status data auto-copied ...</td>\n      <td>...</td>\n      <td>NaN</td>\n      <td>2011-02-02 00:00:00</td>\n      <td>NaT</td>\n      <td>Thelymitra peniculata Jeanes</td>\n      <td>NaN</td>\n      <td>Vulnerable</td>\n      <td>Angiospermae</td>\n      <td></td>\n      <td>NaN</td>\n      <td>NaN</td>\n    </tr>\n    <tr>\n      <th>6165</th>\n      <td>NaN</td>\n      <td>NaN</td>\n      <td>ORCHIDACEAE</td>\n      <td>NaN</td>\n      <td>Y03672</td>\n      <td>Thelymitra</td>\n      <td>merraniae</td>\n      <td>Thelymitra X merraniae</td>\n      <td>E</td>\n      <td>EN D, updated null to E, Apr 2007</td>\n      <td>...</td>\n      <td>NaN</td>\n      <td>1990-10-02 00:00:00</td>\n      <td>2005-05-10 00:00:00</td>\n      <td>Thelymitra X merraniae Nicholls</td>\n      <td>NaN</td>\n      <td>Endangered</td>\n      <td>Angiospermae</td>\n      <td></td>\n      <td>NaN</td>\n      <td>NaN</td>\n    </tr>\n  </tbody>\n</table>\n<p>1172 rows × 22 columns</p>\n</div>"
     },
     "execution_count": 98,
     "metadata": {},
     "output_type": "execute_result"
    }
   ],
   "source": [
    "saList = pd.concat([fauna,flora])\n",
    "saList"
   ],
   "metadata": {
    "collapsed": false,
    "pycharm": {
     "name": "#%%\n"
    }
   }
  },
  {
   "cell_type": "markdown",
   "source": [
    "Write dataframe to CSV"
   ],
   "metadata": {
    "collapsed": false,
    "pycharm": {
     "name": "#%% md\n"
    }
   }
  },
  {
   "cell_type": "code",
   "execution_count": null,
   "outputs": [],
   "source": [
    "saList.to_csv(\"~/IdeaProjects/authoritative-lists/current-lists/conservation-lists/SA_Census_conservation.csv\",index=False)"
   ],
   "metadata": {
    "collapsed": false,
    "pycharm": {
     "name": "#%%\n"
    }
   }
  },
  {
   "cell_type": "markdown",
   "source": [
    "## Sensitive List"
   ],
   "metadata": {
    "collapsed": false,
    "pycharm": {
     "name": "#%% md\n"
    }
   }
  },
  {
   "cell_type": "code",
   "execution_count": 4,
   "outputs": [
    {
     "data": {
      "text/plain": "    Date Listed Fauna/Flora SPECIESTYPE  \\\n0      Mar 2021       Fauna       Birds   \n1      Dec 2018       Fauna       Birds   \n2      Apr 2021       Fauna       Birds   \n3      May 2021       Fauna       Birds   \n4      Jun 2021       Fauna       Birds   \n..          ...         ...         ...   \n203    May 2013       Flora      Plants   \n204    May 2013       Flora      Plants   \n205    May 2013       Flora      Plants   \n206    May 2013       Flora      Plants   \n207    May 2013       Flora      Plants   \n\n                                          Sub Grouping  \\\n0                                                  NaN   \n1                                                  NaN   \n2                                                  NaN   \n3                                                  NaN   \n4                                                  NaN   \n..                                                 ...   \n203                                           Aquatics   \n204                                           Aquatics   \n205  Garden Trade -Other Ornamental Horticulture pl...   \n206                                           Aquatics   \n207  Garden Trade -Other Ornamental Horticulture pl...   \n\n    SA Species Code (NSXCODE)                                 SPECIES  \\\n0                      A21180                Amytornis striatus howei   \n1                      C00513       Amytornis striatus striatus  (NC)   \n2                      M11286                  Amytornis whitei  (NC)   \n3                      C21181                Amytornis whitei aenigma   \n4                      E21182                  Amytornis whitei oweni   \n..                        ...                                     ...   \n203                    Q05400                Utricularia beaugleholei   \n204                    Q02760                 Utricularia lateriflora   \n205                    Z02151  Viola betonicifolia ssp. betonicifolia   \n206                    G05475           Wurmbea dioica ssp. lacunaria   \n207                    E04894           Xanthorrhoea minor ssp. lutea   \n\n                     COMMON NAME    Clarifier  \n0             Striated Grasswren  all records  \n1             Striated Grasswren  all records  \n2               Rufous Grasswren  all records  \n3    Yellabinna Rufous Grasswren  all records  \n4      Sandhill Rufous Grasswren  all records  \n..                           ...          ...  \n203    Beauglehole's Bladderwort  all records  \n204            Small Bladderwort  all records  \n205                 Showy Violet  all records  \n206                 Lagoon Nancy  all records  \n207                 Little Yacca  all records  \n\n[208 rows x 8 columns]",
      "text/html": "<div>\n<style scoped>\n    .dataframe tbody tr th:only-of-type {\n        vertical-align: middle;\n    }\n\n    .dataframe tbody tr th {\n        vertical-align: top;\n    }\n\n    .dataframe thead th {\n        text-align: right;\n    }\n</style>\n<table border=\"1\" class=\"dataframe\">\n  <thead>\n    <tr style=\"text-align: right;\">\n      <th></th>\n      <th>Date Listed</th>\n      <th>Fauna/Flora</th>\n      <th>SPECIESTYPE</th>\n      <th>Sub Grouping</th>\n      <th>SA Species Code (NSXCODE)</th>\n      <th>SPECIES</th>\n      <th>COMMON NAME</th>\n      <th>Clarifier</th>\n    </tr>\n  </thead>\n  <tbody>\n    <tr>\n      <th>0</th>\n      <td>Mar 2021</td>\n      <td>Fauna</td>\n      <td>Birds</td>\n      <td>NaN</td>\n      <td>A21180</td>\n      <td>Amytornis striatus howei</td>\n      <td>Striated Grasswren</td>\n      <td>all records</td>\n    </tr>\n    <tr>\n      <th>1</th>\n      <td>Dec 2018</td>\n      <td>Fauna</td>\n      <td>Birds</td>\n      <td>NaN</td>\n      <td>C00513</td>\n      <td>Amytornis striatus striatus  (NC)</td>\n      <td>Striated Grasswren</td>\n      <td>all records</td>\n    </tr>\n    <tr>\n      <th>2</th>\n      <td>Apr 2021</td>\n      <td>Fauna</td>\n      <td>Birds</td>\n      <td>NaN</td>\n      <td>M11286</td>\n      <td>Amytornis whitei  (NC)</td>\n      <td>Rufous Grasswren</td>\n      <td>all records</td>\n    </tr>\n    <tr>\n      <th>3</th>\n      <td>May 2021</td>\n      <td>Fauna</td>\n      <td>Birds</td>\n      <td>NaN</td>\n      <td>C21181</td>\n      <td>Amytornis whitei aenigma</td>\n      <td>Yellabinna Rufous Grasswren</td>\n      <td>all records</td>\n    </tr>\n    <tr>\n      <th>4</th>\n      <td>Jun 2021</td>\n      <td>Fauna</td>\n      <td>Birds</td>\n      <td>NaN</td>\n      <td>E21182</td>\n      <td>Amytornis whitei oweni</td>\n      <td>Sandhill Rufous Grasswren</td>\n      <td>all records</td>\n    </tr>\n    <tr>\n      <th>...</th>\n      <td>...</td>\n      <td>...</td>\n      <td>...</td>\n      <td>...</td>\n      <td>...</td>\n      <td>...</td>\n      <td>...</td>\n      <td>...</td>\n    </tr>\n    <tr>\n      <th>203</th>\n      <td>May 2013</td>\n      <td>Flora</td>\n      <td>Plants</td>\n      <td>Aquatics</td>\n      <td>Q05400</td>\n      <td>Utricularia beaugleholei</td>\n      <td>Beauglehole's Bladderwort</td>\n      <td>all records</td>\n    </tr>\n    <tr>\n      <th>204</th>\n      <td>May 2013</td>\n      <td>Flora</td>\n      <td>Plants</td>\n      <td>Aquatics</td>\n      <td>Q02760</td>\n      <td>Utricularia lateriflora</td>\n      <td>Small Bladderwort</td>\n      <td>all records</td>\n    </tr>\n    <tr>\n      <th>205</th>\n      <td>May 2013</td>\n      <td>Flora</td>\n      <td>Plants</td>\n      <td>Garden Trade -Other Ornamental Horticulture pl...</td>\n      <td>Z02151</td>\n      <td>Viola betonicifolia ssp. betonicifolia</td>\n      <td>Showy Violet</td>\n      <td>all records</td>\n    </tr>\n    <tr>\n      <th>206</th>\n      <td>May 2013</td>\n      <td>Flora</td>\n      <td>Plants</td>\n      <td>Aquatics</td>\n      <td>G05475</td>\n      <td>Wurmbea dioica ssp. lacunaria</td>\n      <td>Lagoon Nancy</td>\n      <td>all records</td>\n    </tr>\n    <tr>\n      <th>207</th>\n      <td>May 2013</td>\n      <td>Flora</td>\n      <td>Plants</td>\n      <td>Garden Trade -Other Ornamental Horticulture pl...</td>\n      <td>E04894</td>\n      <td>Xanthorrhoea minor ssp. lutea</td>\n      <td>Little Yacca</td>\n      <td>all records</td>\n    </tr>\n  </tbody>\n</table>\n<p>208 rows × 8 columns</p>\n</div>"
     },
     "execution_count": 4,
     "metadata": {},
     "output_type": "execute_result"
    }
   ],
   "source": [
    "import xlrd\n",
    "sasensitive = pd.read_excel(\"~/IdeaProjects/authoritative-lists/source-data/SA/DEW_SAEnvironmentallySensitiveDataREGISTER.xls\")\n",
    "sasensitive"
   ],
   "metadata": {
    "collapsed": false,
    "pycharm": {
     "name": "#%%\n"
    }
   }
  },
  {
   "cell_type": "code",
   "execution_count": 5,
   "outputs": [
    {
     "data": {
      "text/plain": "    dateListed faunaFlora speciesType  \\\n0     Mar 2021      Fauna       Birds   \n1     Dec 2018      Fauna       Birds   \n2     Apr 2021      Fauna       Birds   \n3     May 2021      Fauna       Birds   \n4     Jun 2021      Fauna       Birds   \n..         ...        ...         ...   \n203   May 2013      Flora      Plants   \n204   May 2013      Flora      Plants   \n205   May 2013      Flora      Plants   \n206   May 2013      Flora      Plants   \n207   May 2013      Flora      Plants   \n\n                                          Sub Grouping saSpeciesCode  \\\n0                                                  NaN        A21180   \n1                                                  NaN        C00513   \n2                                                  NaN        M11286   \n3                                                  NaN        C21181   \n4                                                  NaN        E21182   \n..                                                 ...           ...   \n203                                           Aquatics        Q05400   \n204                                           Aquatics        Q02760   \n205  Garden Trade -Other Ornamental Horticulture pl...        Z02151   \n206                                           Aquatics        G05475   \n207  Garden Trade -Other Ornamental Horticulture pl...        E04894   \n\n                             scientificName               vernacularName  \\\n0                  Amytornis striatus howei           Striated Grasswren   \n1         Amytornis striatus striatus  (NC)           Striated Grasswren   \n2                    Amytornis whitei  (NC)             Rufous Grasswren   \n3                  Amytornis whitei aenigma  Yellabinna Rufous Grasswren   \n4                    Amytornis whitei oweni    Sandhill Rufous Grasswren   \n..                                      ...                          ...   \n203                Utricularia beaugleholei    Beauglehole's Bladderwort   \n204                 Utricularia lateriflora            Small Bladderwort   \n205  Viola betonicifolia ssp. betonicifolia                 Showy Violet   \n206           Wurmbea dioica ssp. lacunaria                 Lagoon Nancy   \n207           Xanthorrhoea minor ssp. lutea                 Little Yacca   \n\n       clarifier  \n0    all records  \n1    all records  \n2    all records  \n3    all records  \n4    all records  \n..           ...  \n203  all records  \n204  all records  \n205  all records  \n206  all records  \n207  all records  \n\n[208 rows x 8 columns]",
      "text/html": "<div>\n<style scoped>\n    .dataframe tbody tr th:only-of-type {\n        vertical-align: middle;\n    }\n\n    .dataframe tbody tr th {\n        vertical-align: top;\n    }\n\n    .dataframe thead th {\n        text-align: right;\n    }\n</style>\n<table border=\"1\" class=\"dataframe\">\n  <thead>\n    <tr style=\"text-align: right;\">\n      <th></th>\n      <th>dateListed</th>\n      <th>faunaFlora</th>\n      <th>speciesType</th>\n      <th>Sub Grouping</th>\n      <th>saSpeciesCode</th>\n      <th>scientificName</th>\n      <th>vernacularName</th>\n      <th>clarifier</th>\n    </tr>\n  </thead>\n  <tbody>\n    <tr>\n      <th>0</th>\n      <td>Mar 2021</td>\n      <td>Fauna</td>\n      <td>Birds</td>\n      <td>NaN</td>\n      <td>A21180</td>\n      <td>Amytornis striatus howei</td>\n      <td>Striated Grasswren</td>\n      <td>all records</td>\n    </tr>\n    <tr>\n      <th>1</th>\n      <td>Dec 2018</td>\n      <td>Fauna</td>\n      <td>Birds</td>\n      <td>NaN</td>\n      <td>C00513</td>\n      <td>Amytornis striatus striatus  (NC)</td>\n      <td>Striated Grasswren</td>\n      <td>all records</td>\n    </tr>\n    <tr>\n      <th>2</th>\n      <td>Apr 2021</td>\n      <td>Fauna</td>\n      <td>Birds</td>\n      <td>NaN</td>\n      <td>M11286</td>\n      <td>Amytornis whitei  (NC)</td>\n      <td>Rufous Grasswren</td>\n      <td>all records</td>\n    </tr>\n    <tr>\n      <th>3</th>\n      <td>May 2021</td>\n      <td>Fauna</td>\n      <td>Birds</td>\n      <td>NaN</td>\n      <td>C21181</td>\n      <td>Amytornis whitei aenigma</td>\n      <td>Yellabinna Rufous Grasswren</td>\n      <td>all records</td>\n    </tr>\n    <tr>\n      <th>4</th>\n      <td>Jun 2021</td>\n      <td>Fauna</td>\n      <td>Birds</td>\n      <td>NaN</td>\n      <td>E21182</td>\n      <td>Amytornis whitei oweni</td>\n      <td>Sandhill Rufous Grasswren</td>\n      <td>all records</td>\n    </tr>\n    <tr>\n      <th>...</th>\n      <td>...</td>\n      <td>...</td>\n      <td>...</td>\n      <td>...</td>\n      <td>...</td>\n      <td>...</td>\n      <td>...</td>\n      <td>...</td>\n    </tr>\n    <tr>\n      <th>203</th>\n      <td>May 2013</td>\n      <td>Flora</td>\n      <td>Plants</td>\n      <td>Aquatics</td>\n      <td>Q05400</td>\n      <td>Utricularia beaugleholei</td>\n      <td>Beauglehole's Bladderwort</td>\n      <td>all records</td>\n    </tr>\n    <tr>\n      <th>204</th>\n      <td>May 2013</td>\n      <td>Flora</td>\n      <td>Plants</td>\n      <td>Aquatics</td>\n      <td>Q02760</td>\n      <td>Utricularia lateriflora</td>\n      <td>Small Bladderwort</td>\n      <td>all records</td>\n    </tr>\n    <tr>\n      <th>205</th>\n      <td>May 2013</td>\n      <td>Flora</td>\n      <td>Plants</td>\n      <td>Garden Trade -Other Ornamental Horticulture pl...</td>\n      <td>Z02151</td>\n      <td>Viola betonicifolia ssp. betonicifolia</td>\n      <td>Showy Violet</td>\n      <td>all records</td>\n    </tr>\n    <tr>\n      <th>206</th>\n      <td>May 2013</td>\n      <td>Flora</td>\n      <td>Plants</td>\n      <td>Aquatics</td>\n      <td>G05475</td>\n      <td>Wurmbea dioica ssp. lacunaria</td>\n      <td>Lagoon Nancy</td>\n      <td>all records</td>\n    </tr>\n    <tr>\n      <th>207</th>\n      <td>May 2013</td>\n      <td>Flora</td>\n      <td>Plants</td>\n      <td>Garden Trade -Other Ornamental Horticulture pl...</td>\n      <td>E04894</td>\n      <td>Xanthorrhoea minor ssp. lutea</td>\n      <td>Little Yacca</td>\n      <td>all records</td>\n    </tr>\n  </tbody>\n</table>\n<p>208 rows × 8 columns</p>\n</div>"
     },
     "execution_count": 5,
     "metadata": {},
     "output_type": "execute_result"
    }
   ],
   "source": [
    "sasensitive = sasensitive.rename(columns=\n",
    "{\n",
    "    'Date Listed':'dateListed',\n",
    "    'Fauna/Flora':'faunaFlora',\n",
    "    'SPECIESTYPE':'speciesType',\n",
    "    'SA Species Code (NSXCODE)':'saSpeciesCode',\n",
    "    'SPECIES':'scientificName',\n",
    "    'COMMON NAME':'vernacularName',\n",
    "    'Clarifier':'clarifier'\n",
    "})\n",
    "sasensitive"
   ],
   "metadata": {
    "collapsed": false,
    "pycharm": {
     "name": "#%%\n"
    }
   }
  },
  {
   "cell_type": "markdown",
   "source": [
    "Write dataframe to CSV"
   ],
   "metadata": {
    "collapsed": false,
    "pycharm": {
     "name": "#%% md\n"
    }
   }
  },
  {
   "cell_type": "code",
   "execution_count": null,
   "outputs": [],
   "source": [
    "sasensitive.to_csv(\"~/IdeaProjects/authoritative-lists/current-lists/sensitive-lists/SA-sensitive.csv\",encoding=\"UTF-8\",index=False)"
   ],
   "metadata": {
    "collapsed": false,
    "pycharm": {
     "name": "#%%\n"
    }
   }
  }
 ],
 "metadata": {
  "kernelspec": {
   "display_name": "Python 3",
   "language": "python",
   "name": "python3"
  },
  "language_info": {
   "codemirror_mode": {
    "name": "ipython",
    "version": 2
   },
   "file_extension": ".py",
   "mimetype": "text/x-python",
   "name": "python",
   "nbconvert_exporter": "python",
   "pygments_lexer": "ipython2",
   "version": "2.7.6"
  }
 },
 "nbformat": 4,
 "nbformat_minor": 0
}