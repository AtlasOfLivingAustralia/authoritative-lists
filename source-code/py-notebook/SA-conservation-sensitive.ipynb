{
 "cells": [
  {
   "cell_type": "markdown",
   "source": [
    "# SA Conservation and Sensitive Lists\n",
    "Import fauna and vascular plants taxonomies from BDBSA and export lists for use in the ALA\n",
    "\n",
    "## List Identifiers\n",
    "* Conservation list: __[dr653](https://lists.ala.org.au/speciesListItem/list/dr653)__\n",
    "* Sensitive list: __[dr884](https://lists.ala.org.au/speciesListItem/list/dr884)__ (in test  __[dr18706](https://lists-test.ala.org.au/speciesListItem/list/dr18706)__)\n",
    "* Collection: __[dr653](https://collections.ala.org.au/public/show/dr653)__ __[dr884](https://collections.ala.org.au/public/show/dr884)__\n",
    "\n",
    "### Source Data\n",
    "**Conservation lists**\n",
    "* [Fauna](https://data.environment.sa.gov.au/Content/Publications/fauna-bdbsa-taxonomy.xlsx)\n",
    "* [Flora](https://data.environment.sa.gov.au/Content/Publications/vascular-plants-bdbsa-taxonomy.xlsx)\n",
    "\n",
    "**Sensitive List**\n",
    "* Source Data: https://data.environment.sa.gov.au/Content/Publications/DEW_SAEnvironmentallySensitiveDataREGISTER.xls\n",
    "\n",
    "**Metadata Description**\n",
    "\n",
    "South Australia Classification codes under the National Parks and Wildlife Act 1972: Endangered or extinct Vulnerable Rare Learn more about the classifications used by the Department of Environment and Natural Resources. Information on currently accepted flora and fauna taxonomy in South Australia including conservation status information. The following resources provide machine readable data on currently accepted flora and fauna taxonomy: vascular plants taxonomy (918kb xls) used in conjunction with vascular plants metadata (39kb pdf) vertebrate taxonomy (244kb xls) used in conjunction with vertebrates metadata (26kb pdf).\n",
    "\n",
    "\n",
    "**Metadata URL**\n",
    "\n",
    "* Fauna: https://www.environment.sa.gov.au/topics/science/information-and-data/census-of-sa-vertebrates\n",
    "* Flora: https://www.environment.sa.gov.au/topics/science/information-and-data/census-of-sa-plants-algae-fungi"
   ],
   "metadata": {
    "collapsed": false,
    "pycharm": {
     "name": "#%% md\n"
    }
   }
  },
  {
   "cell_type": "code",
   "execution_count": 5,
   "outputs": [],
   "source": [
    "#import essential libraries\n",
    "import pandas as pd\n",
    "import numpy as np\n",
    "import os\n",
    "import sys\n",
    "\n",
    "projectDir = \"/Users/oco115/PycharmProjects/authoritative-lists/\"\n",
    "cdataDir = \"current-lists/conservation-lists/\"\n",
    "sdataDir = \"current-lists/sensitive-lists/\"\n",
    "sourceData = \"source-data/SA/\"\n",
    "statusDir = projectDir + \"source-data/status-codes/\"\n",
    "\n",
    "# projectDir = \"/Users/new330/IdeaProjects/authoritative-lists/\"\n",
    "sys.path.append(os.path.abspath(projectDir + \"source-code/includes\"))\n",
    "import list_functions as lf"
   ],
   "metadata": {
    "collapsed": false,
    "pycharm": {
     "name": "#%%\n"
    }
   }
  },
  {
   "cell_type": "code",
   "execution_count": null,
   "outputs": [],
   "source": [
    "# %%script echo skipping # comment this line to do a list check between test and production and save the changelog\n",
    "\n",
    "## Conservation list\n",
    "# Download the Excel files first. Data is in multiple sheets and has to have first few rows removed also.\n",
    "# Read Excel files into dataframes from these sources:\n",
    "#  Fauna: [metadata](https://www.environment.sa.gov.au/topics/science/information-and-data/census-of-sa-vertebrates) and [BDBSA taxonomy](https://data.environment.sa.gov.au/Content/Publications/fauna-bdbsa-taxonomy.xlsx)\n",
    "#  Flora: [metadata](https://www.environment.sa.gov.au/topics/science/information-and-data/census-of-sa-plants-algae-fungi) and [BDBSA taxonomy](https://data.environment.sa.gov.au/Content/Publications/vascular-plants-bdbsa-taxonomy.xlsx)"
   ],
   "metadata": {
    "collapsed": false,
    "pycharm": {
     "name": "#%%\n"
    }
   }
  },
  {
   "cell_type": "markdown",
   "source": [
    "## Fauna"
   ],
   "metadata": {
    "collapsed": false,
    "pycharm": {
     "name": "#%% md\n"
    }
   }
  },
  {
   "cell_type": "code",
   "execution_count": 2,
   "outputs": [
    {
     "data": {
      "text/plain": "     NOTE:Fish taxonomy is under review. The fish species are not complete and taxonomic order unchecked  (species listed in blue).  \\\n0     Invertebrate taxonomy is now being included as...                                                                               \n1                        TEMPORARY TAXONOMIC SORT ORDER                                                                               \n2                                                     1                                                                               \n3                                                     2                                                                               \n4                                                     3                                                                               \n...                                                 ...                                                                               \n4136                                               4135                                                                               \n4137                                               4136                                                                               \n4138                                               4137                                                                               \n4139                                               4138                                                                               \n4140                                               4139                                                                               \n\n       Unnamed: 1     Unnamed: 2    Unnamed: 3            Unnamed: 4  \\\n0             NaN            NaN           NaN                   NaN   \n1     SPECIESTYPE      CLASSNAME     ORDERNAME            FAMILYNAME   \n2               M       MAMMALIA   MONOTREMATA     ORNITHORHYNCHIDAE   \n3               M       MAMMALIA   MONOTREMATA     ORNITHORHYNCHIDAE   \n4               M       MAMMALIA   MONOTREMATA        TACHYGLOSSIDAE   \n...           ...            ...           ...                   ...   \n4136            I  INVERTEBRATES   HYMENOPTERA            FORMICIDAE   \n4137            I  INVERTEBRATES   HYMENOPTERA   HYMENOPTERA (ORDER)   \n4138            I  INVERTEBRATES    SCORPIONES    SCORPIONES (ORDER)   \n4139            I  INVERTEBRATES  MESOSTIGMATA  MESOSTIGMATA (ORDER)   \n4140            I  INVERTEBRATES   SPONGILLIDA          SPONGILLIDAE   \n\n                    Unnamed: 5 Unnamed: 6       Unnamed: 7 Unnamed: 8  \\\n0                          NaN        NaN              NaN        NaN   \n1                  COMMON NAME    NSXCODE            GENUS         SP   \n2                     Platypus     S01001  Ornithorhynchus   anatinus   \n3                          NaN     E10510  Ornithorhynchus        sp.   \n4     Echidna from Pleistocene     S05461    Megalibgwilia    ramsayi   \n...                        ...        ...              ...        ...   \n4136             genus of ants     Y11508      Zasphinctus        sp.   \n4137                       NaN     U11238      HYMENOPTERA        sp.   \n4138                 Scorpions     G15147       SCORPIONES        sp.   \n4139            order of mites     K11189     MESOSTIGMATA        sp.   \n4140        Freshwater Sponges     G15171     SPONGILLIDAE        sp.   \n\n                    Unnamed: 9 Unnamed: 10     Unnamed: 11  \\\n0                          NaN         NaN             NaN   \n1              SCIENTIFIC NAME  INTRODUCED  NPW ACT STATUS   \n2     Ornithorhynchus anatinus         NaN               E   \n3          Ornithorhynchus sp.         NaN             NaN   \n4        Megalibgwilia ramsayi         NaN             NaN   \n...                        ...         ...             ...   \n4136           Zasphinctus sp.         NaN             NaN   \n4137           HYMENOPTERA sp.         NaN             NaN   \n4138            SCORPIONES sp.         NaN             NaN   \n4139          MESOSTIGMATA sp.         NaN             NaN   \n4140          SPONGILLIDAE sp.         NaN             NaN   \n\n                  Unnamed: 12      Unnamed: 13               Unnamed: 14  \\\n0                         NaN              NaN                       NaN   \n1     NPW ACT STATUS COMMENTS  EPBC ACT STATUS  EPBC ACT STATUS COMMENTS   \n2                         NaN              NaN                       NaN   \n3                         NaN              NaN                       NaN   \n4                         NaN              NaN                       NaN   \n...                       ...              ...                       ...   \n4136                      NaN              NaN                       NaN   \n4137                      NaN              NaN                       NaN   \n4138                      NaN              NaN                       NaN   \n4139                      NaN              NaN                       NaN   \n4140                      NaN              NaN                       NaN   \n\n                                            Unnamed: 15  \\\n0                                                   NaN   \n1                             OFFICIAL SPECIES COMMENTS   \n2     Introduced to Kangaroo Island (1928-1946, exta...   \n3                                                   NaN   \n4     Not included in the SA Census. This species in...   \n...                                                 ...   \n4136                                                NaN   \n4137                                                NaN   \n4138                                                NaN   \n4139                                                NaN   \n4140                                                NaN   \n\n                Unnamed: 16                      Unnamed: 17     Unnamed: 18  \\\n0                       NaN                              NaN             NaN   \n1     DATE CREATED IN BDBSA  DATE TAXONOMY MODIFIED IN BDBSA  SPECIES AUTHOR   \n2       1990-03-01 00:00:00                            37561    (Shaw, 1799)   \n3       1990-03-01 00:00:00                            37561             NaN   \n4       2016-01-12 00:00:00                              NaN       Owen 1884   \n...                     ...                              ...             ...   \n4136    2021-07-23 00:00:00                              NaN             NaN   \n4137    2019-05-07 00:00:00                              NaN  (Meigen, 1826)   \n4138    2018-08-24 00:00:00                              NaN             NaN   \n4139    2018-09-07 00:00:00                              NaN             NaN   \n4140    2019-04-01 00:00:00                              NaN      Gray, 1867   \n\n            Unnamed: 19  \n0                   NaN  \n1     SUBSPECIES AUTHOR  \n2                   NaN  \n3                   NaN  \n4                   NaN  \n...                 ...  \n4136                NaN  \n4137                NaN  \n4138                NaN  \n4139                NaN  \n4140                NaN  \n\n[4141 rows x 20 columns]",
      "text/html": "<div>\n<style scoped>\n    .dataframe tbody tr th:only-of-type {\n        vertical-align: middle;\n    }\n\n    .dataframe tbody tr th {\n        vertical-align: top;\n    }\n\n    .dataframe thead th {\n        text-align: right;\n    }\n</style>\n<table border=\"1\" class=\"dataframe\">\n  <thead>\n    <tr style=\"text-align: right;\">\n      <th></th>\n      <th>NOTE:Fish taxonomy is under review. The fish species are not complete and taxonomic order unchecked  (species listed in blue).</th>\n      <th>Unnamed: 1</th>\n      <th>Unnamed: 2</th>\n      <th>Unnamed: 3</th>\n      <th>Unnamed: 4</th>\n      <th>Unnamed: 5</th>\n      <th>Unnamed: 6</th>\n      <th>Unnamed: 7</th>\n      <th>Unnamed: 8</th>\n      <th>Unnamed: 9</th>\n      <th>Unnamed: 10</th>\n      <th>Unnamed: 11</th>\n      <th>Unnamed: 12</th>\n      <th>Unnamed: 13</th>\n      <th>Unnamed: 14</th>\n      <th>Unnamed: 15</th>\n      <th>Unnamed: 16</th>\n      <th>Unnamed: 17</th>\n      <th>Unnamed: 18</th>\n      <th>Unnamed: 19</th>\n    </tr>\n  </thead>\n  <tbody>\n    <tr>\n      <th>0</th>\n      <td>Invertebrate taxonomy is now being included as...</td>\n      <td>NaN</td>\n      <td>NaN</td>\n      <td>NaN</td>\n      <td>NaN</td>\n      <td>NaN</td>\n      <td>NaN</td>\n      <td>NaN</td>\n      <td>NaN</td>\n      <td>NaN</td>\n      <td>NaN</td>\n      <td>NaN</td>\n      <td>NaN</td>\n      <td>NaN</td>\n      <td>NaN</td>\n      <td>NaN</td>\n      <td>NaN</td>\n      <td>NaN</td>\n      <td>NaN</td>\n      <td>NaN</td>\n    </tr>\n    <tr>\n      <th>1</th>\n      <td>TEMPORARY TAXONOMIC SORT ORDER</td>\n      <td>SPECIESTYPE</td>\n      <td>CLASSNAME</td>\n      <td>ORDERNAME</td>\n      <td>FAMILYNAME</td>\n      <td>COMMON NAME</td>\n      <td>NSXCODE</td>\n      <td>GENUS</td>\n      <td>SP</td>\n      <td>SCIENTIFIC NAME</td>\n      <td>INTRODUCED</td>\n      <td>NPW ACT STATUS</td>\n      <td>NPW ACT STATUS COMMENTS</td>\n      <td>EPBC ACT STATUS</td>\n      <td>EPBC ACT STATUS COMMENTS</td>\n      <td>OFFICIAL SPECIES COMMENTS</td>\n      <td>DATE CREATED IN BDBSA</td>\n      <td>DATE TAXONOMY MODIFIED IN BDBSA</td>\n      <td>SPECIES AUTHOR</td>\n      <td>SUBSPECIES AUTHOR</td>\n    </tr>\n    <tr>\n      <th>2</th>\n      <td>1</td>\n      <td>M</td>\n      <td>MAMMALIA</td>\n      <td>MONOTREMATA</td>\n      <td>ORNITHORHYNCHIDAE</td>\n      <td>Platypus</td>\n      <td>S01001</td>\n      <td>Ornithorhynchus</td>\n      <td>anatinus</td>\n      <td>Ornithorhynchus anatinus</td>\n      <td>NaN</td>\n      <td>E</td>\n      <td>NaN</td>\n      <td>NaN</td>\n      <td>NaN</td>\n      <td>Introduced to Kangaroo Island (1928-1946, exta...</td>\n      <td>1990-03-01 00:00:00</td>\n      <td>37561</td>\n      <td>(Shaw, 1799)</td>\n      <td>NaN</td>\n    </tr>\n    <tr>\n      <th>3</th>\n      <td>2</td>\n      <td>M</td>\n      <td>MAMMALIA</td>\n      <td>MONOTREMATA</td>\n      <td>ORNITHORHYNCHIDAE</td>\n      <td>NaN</td>\n      <td>E10510</td>\n      <td>Ornithorhynchus</td>\n      <td>sp.</td>\n      <td>Ornithorhynchus sp.</td>\n      <td>NaN</td>\n      <td>NaN</td>\n      <td>NaN</td>\n      <td>NaN</td>\n      <td>NaN</td>\n      <td>NaN</td>\n      <td>1990-03-01 00:00:00</td>\n      <td>37561</td>\n      <td>NaN</td>\n      <td>NaN</td>\n    </tr>\n    <tr>\n      <th>4</th>\n      <td>3</td>\n      <td>M</td>\n      <td>MAMMALIA</td>\n      <td>MONOTREMATA</td>\n      <td>TACHYGLOSSIDAE</td>\n      <td>Echidna from Pleistocene</td>\n      <td>S05461</td>\n      <td>Megalibgwilia</td>\n      <td>ramsayi</td>\n      <td>Megalibgwilia ramsayi</td>\n      <td>NaN</td>\n      <td>NaN</td>\n      <td>NaN</td>\n      <td>NaN</td>\n      <td>NaN</td>\n      <td>Not included in the SA Census. This species in...</td>\n      <td>2016-01-12 00:00:00</td>\n      <td>NaN</td>\n      <td>Owen 1884</td>\n      <td>NaN</td>\n    </tr>\n    <tr>\n      <th>...</th>\n      <td>...</td>\n      <td>...</td>\n      <td>...</td>\n      <td>...</td>\n      <td>...</td>\n      <td>...</td>\n      <td>...</td>\n      <td>...</td>\n      <td>...</td>\n      <td>...</td>\n      <td>...</td>\n      <td>...</td>\n      <td>...</td>\n      <td>...</td>\n      <td>...</td>\n      <td>...</td>\n      <td>...</td>\n      <td>...</td>\n      <td>...</td>\n      <td>...</td>\n    </tr>\n    <tr>\n      <th>4136</th>\n      <td>4135</td>\n      <td>I</td>\n      <td>INVERTEBRATES</td>\n      <td>HYMENOPTERA</td>\n      <td>FORMICIDAE</td>\n      <td>genus of ants</td>\n      <td>Y11508</td>\n      <td>Zasphinctus</td>\n      <td>sp.</td>\n      <td>Zasphinctus sp.</td>\n      <td>NaN</td>\n      <td>NaN</td>\n      <td>NaN</td>\n      <td>NaN</td>\n      <td>NaN</td>\n      <td>NaN</td>\n      <td>2021-07-23 00:00:00</td>\n      <td>NaN</td>\n      <td>NaN</td>\n      <td>NaN</td>\n    </tr>\n    <tr>\n      <th>4137</th>\n      <td>4136</td>\n      <td>I</td>\n      <td>INVERTEBRATES</td>\n      <td>HYMENOPTERA</td>\n      <td>HYMENOPTERA (ORDER)</td>\n      <td>NaN</td>\n      <td>U11238</td>\n      <td>HYMENOPTERA</td>\n      <td>sp.</td>\n      <td>HYMENOPTERA sp.</td>\n      <td>NaN</td>\n      <td>NaN</td>\n      <td>NaN</td>\n      <td>NaN</td>\n      <td>NaN</td>\n      <td>NaN</td>\n      <td>2019-05-07 00:00:00</td>\n      <td>NaN</td>\n      <td>(Meigen, 1826)</td>\n      <td>NaN</td>\n    </tr>\n    <tr>\n      <th>4138</th>\n      <td>4137</td>\n      <td>I</td>\n      <td>INVERTEBRATES</td>\n      <td>SCORPIONES</td>\n      <td>SCORPIONES (ORDER)</td>\n      <td>Scorpions</td>\n      <td>G15147</td>\n      <td>SCORPIONES</td>\n      <td>sp.</td>\n      <td>SCORPIONES sp.</td>\n      <td>NaN</td>\n      <td>NaN</td>\n      <td>NaN</td>\n      <td>NaN</td>\n      <td>NaN</td>\n      <td>NaN</td>\n      <td>2018-08-24 00:00:00</td>\n      <td>NaN</td>\n      <td>NaN</td>\n      <td>NaN</td>\n    </tr>\n    <tr>\n      <th>4139</th>\n      <td>4138</td>\n      <td>I</td>\n      <td>INVERTEBRATES</td>\n      <td>MESOSTIGMATA</td>\n      <td>MESOSTIGMATA (ORDER)</td>\n      <td>order of mites</td>\n      <td>K11189</td>\n      <td>MESOSTIGMATA</td>\n      <td>sp.</td>\n      <td>MESOSTIGMATA sp.</td>\n      <td>NaN</td>\n      <td>NaN</td>\n      <td>NaN</td>\n      <td>NaN</td>\n      <td>NaN</td>\n      <td>NaN</td>\n      <td>2018-09-07 00:00:00</td>\n      <td>NaN</td>\n      <td>NaN</td>\n      <td>NaN</td>\n    </tr>\n    <tr>\n      <th>4140</th>\n      <td>4139</td>\n      <td>I</td>\n      <td>INVERTEBRATES</td>\n      <td>SPONGILLIDA</td>\n      <td>SPONGILLIDAE</td>\n      <td>Freshwater Sponges</td>\n      <td>G15171</td>\n      <td>SPONGILLIDAE</td>\n      <td>sp.</td>\n      <td>SPONGILLIDAE sp.</td>\n      <td>NaN</td>\n      <td>NaN</td>\n      <td>NaN</td>\n      <td>NaN</td>\n      <td>NaN</td>\n      <td>NaN</td>\n      <td>2019-04-01 00:00:00</td>\n      <td>NaN</td>\n      <td>Gray, 1867</td>\n      <td>NaN</td>\n    </tr>\n  </tbody>\n</table>\n<p>4141 rows × 20 columns</p>\n</div>"
     },
     "execution_count": 2,
     "metadata": {},
     "output_type": "execute_result"
    }
   ],
   "source": [
    "fauna = pd.read_excel(projectDir + sourceData + \"fauna-bdbsa-taxonomy.xlsx\",sheet_name=\"Taxonomic List\")\n",
    "fauna"
   ],
   "metadata": {
    "collapsed": false,
    "pycharm": {
     "name": "#%%\n"
    }
   }
  },
  {
   "cell_type": "markdown",
   "source": [],
   "metadata": {
    "collapsed": false,
    "pycharm": {
     "name": "#%% md\n"
    }
   }
  },
  {
   "cell_type": "markdown",
   "source": [],
   "metadata": {
    "collapsed": false,
    "pycharm": {
     "name": "#%% md\n"
    }
   }
  },
  {
   "cell_type": "code",
   "execution_count": 3,
   "outputs": [
    {
     "data": {
      "text/plain": "Index(['TEMPORARY TAXONOMIC SORT ORDER', 'SPECIESTYPE', 'CLASSNAME',\n       'ORDERNAME', 'FAMILYNAME', 'COMMON NAME', 'NSXCODE', 'GENUS', 'SP',\n       'SCIENTIFIC NAME', 'INTRODUCED', 'NPW ACT STATUS',\n       'NPW ACT STATUS COMMENTS', 'EPBC ACT STATUS',\n       'EPBC ACT STATUS COMMENTS', 'OFFICIAL SPECIES COMMENTS',\n       'DATE CREATED IN BDBSA', 'DATE TAXONOMY MODIFIED IN BDBSA',\n       'SPECIES AUTHOR', 'SUBSPECIES AUTHOR'],\n      dtype='object', name=1)"
     },
     "execution_count": 3,
     "metadata": {},
     "output_type": "execute_result"
    }
   ],
   "source": [
    "fauna.columns = fauna.iloc[1]\n",
    "fauna.columns"
   ],
   "metadata": {
    "collapsed": false,
    "pycharm": {
     "name": "#%%\n"
    }
   }
  },
  {
   "cell_type": "code",
   "execution_count": 4,
   "outputs": [
    {
     "data": {
      "text/plain": "1    TEMPORARY TAXONOMIC SORT ORDER SPECIESTYPE      CLASSNAME     ORDERNAME  \\\n2                                 1           M       MAMMALIA   MONOTREMATA   \n3                                 2           M       MAMMALIA   MONOTREMATA   \n4                                 3           M       MAMMALIA   MONOTREMATA   \n5                                 4           M       MAMMALIA   MONOTREMATA   \n6                                 5           M       MAMMALIA   MONOTREMATA   \n...                             ...         ...            ...           ...   \n4136                           4135           I  INVERTEBRATES   HYMENOPTERA   \n4137                           4136           I  INVERTEBRATES   HYMENOPTERA   \n4138                           4137           I  INVERTEBRATES    SCORPIONES   \n4139                           4138           I  INVERTEBRATES  MESOSTIGMATA   \n4140                           4139           I  INVERTEBRATES   SPONGILLIDA   \n\n1               FAMILYNAME                             COMMON NAME NSXCODE  \\\n2        ORNITHORHYNCHIDAE                                Platypus  S01001   \n3        ORNITHORHYNCHIDAE                                     NaN  E10510   \n4           TACHYGLOSSIDAE                Echidna from Pleistocene  S05461   \n5           TACHYGLOSSIDAE                    Short-beaked Echidna  W01003   \n6           TACHYGLOSSIDAE  Short-beaked Echidna (Kangaroo Island)  C21009   \n...                    ...                                     ...     ...   \n4136            FORMICIDAE                           genus of ants  Y11508   \n4137   HYMENOPTERA (ORDER)                                     NaN  U11238   \n4138    SCORPIONES (ORDER)                               Scorpions  G15147   \n4139  MESOSTIGMATA (ORDER)                          order of mites  K11189   \n4140          SPONGILLIDAE                      Freshwater Sponges  G15171   \n\n1               GENUS                        SP  \\\n2     Ornithorhynchus                  anatinus   \n3     Ornithorhynchus                       sp.   \n4       Megalibgwilia                   ramsayi   \n5        Tachyglossus                 aculeatus   \n6        Tachyglossus  aculeatus multiaculeatus   \n...               ...                       ...   \n4136      Zasphinctus                       sp.   \n4137      HYMENOPTERA                       sp.   \n4138       SCORPIONES                       sp.   \n4139     MESOSTIGMATA                       sp.   \n4140     SPONGILLIDAE                       sp.   \n\n1                           SCIENTIFIC NAME INTRODUCED NPW ACT STATUS  \\\n2                  Ornithorhynchus anatinus        NaN              E   \n3                       Ornithorhynchus sp.        NaN            NaN   \n4                     Megalibgwilia ramsayi        NaN            NaN   \n5                    Tachyglossus aculeatus        NaN            ssp   \n6     Tachyglossus aculeatus multiaculeatus        NaN              E   \n...                                     ...        ...            ...   \n4136                        Zasphinctus sp.        NaN            NaN   \n4137                        HYMENOPTERA sp.        NaN            NaN   \n4138                         SCORPIONES sp.        NaN            NaN   \n4139                       MESOSTIGMATA sp.        NaN            NaN   \n4140                       SPONGILLIDAE sp.        NaN            NaN   \n\n1                 NPW ACT STATUS COMMENTS EPBC ACT STATUS  \\\n2                                     NaN             NaN   \n3                                     NaN             NaN   \n4                                     NaN             NaN   \n5                 KI subspecies is rated.             ssp   \n6     Listing official as off 1/Jan/2020.              EN   \n...                                   ...             ...   \n4136                                  NaN             NaN   \n4137                                  NaN             NaN   \n4138                                  NaN             NaN   \n4139                                  NaN             NaN   \n4140                                  NaN             NaN   \n\n1    EPBC ACT STATUS COMMENTS  \\\n2                         NaN   \n3                         NaN   \n4                         NaN   \n5       ammended 18 June 2015   \n6                         NaN   \n...                       ...   \n4136                      NaN   \n4137                      NaN   \n4138                      NaN   \n4139                      NaN   \n4140                      NaN   \n\n1                             OFFICIAL SPECIES COMMENTS DATE CREATED IN BDBSA  \\\n2     Introduced to Kangaroo Island (1928-1946, exta...   1990-03-01 00:00:00   \n3                                                   NaN   1990-03-01 00:00:00   \n4     Not included in the SA Census. This species in...   2016-01-12 00:00:00   \n5                                                   NaN   1990-03-01 00:00:00   \n6                                                   NaN   2015-07-03 00:00:00   \n...                                                 ...                   ...   \n4136                                                NaN   2021-07-23 00:00:00   \n4137                                                NaN   2019-05-07 00:00:00   \n4138                                                NaN   2018-08-24 00:00:00   \n4139                                                NaN   2018-09-07 00:00:00   \n4140                                                NaN   2019-04-01 00:00:00   \n\n1    DATE TAXONOMY MODIFIED IN BDBSA      SPECIES AUTHOR SUBSPECIES AUTHOR  \n2                              37561        (Shaw, 1799)               NaN  \n3                              37561                 NaN               NaN  \n4                                NaN           Owen 1884               NaN  \n5                              37561        (Shaw, 1792)               NaN  \n6                              43066  (Rothschild, 1905)               NaN  \n...                              ...                 ...               ...  \n4136                             NaN                 NaN               NaN  \n4137                             NaN      (Meigen, 1826)               NaN  \n4138                             NaN                 NaN               NaN  \n4139                             NaN                 NaN               NaN  \n4140                             NaN          Gray, 1867               NaN  \n\n[4139 rows x 20 columns]",
      "text/html": "<div>\n<style scoped>\n    .dataframe tbody tr th:only-of-type {\n        vertical-align: middle;\n    }\n\n    .dataframe tbody tr th {\n        vertical-align: top;\n    }\n\n    .dataframe thead th {\n        text-align: right;\n    }\n</style>\n<table border=\"1\" class=\"dataframe\">\n  <thead>\n    <tr style=\"text-align: right;\">\n      <th>1</th>\n      <th>TEMPORARY TAXONOMIC SORT ORDER</th>\n      <th>SPECIESTYPE</th>\n      <th>CLASSNAME</th>\n      <th>ORDERNAME</th>\n      <th>FAMILYNAME</th>\n      <th>COMMON NAME</th>\n      <th>NSXCODE</th>\n      <th>GENUS</th>\n      <th>SP</th>\n      <th>SCIENTIFIC NAME</th>\n      <th>INTRODUCED</th>\n      <th>NPW ACT STATUS</th>\n      <th>NPW ACT STATUS COMMENTS</th>\n      <th>EPBC ACT STATUS</th>\n      <th>EPBC ACT STATUS COMMENTS</th>\n      <th>OFFICIAL SPECIES COMMENTS</th>\n      <th>DATE CREATED IN BDBSA</th>\n      <th>DATE TAXONOMY MODIFIED IN BDBSA</th>\n      <th>SPECIES AUTHOR</th>\n      <th>SUBSPECIES AUTHOR</th>\n    </tr>\n  </thead>\n  <tbody>\n    <tr>\n      <th>2</th>\n      <td>1</td>\n      <td>M</td>\n      <td>MAMMALIA</td>\n      <td>MONOTREMATA</td>\n      <td>ORNITHORHYNCHIDAE</td>\n      <td>Platypus</td>\n      <td>S01001</td>\n      <td>Ornithorhynchus</td>\n      <td>anatinus</td>\n      <td>Ornithorhynchus anatinus</td>\n      <td>NaN</td>\n      <td>E</td>\n      <td>NaN</td>\n      <td>NaN</td>\n      <td>NaN</td>\n      <td>Introduced to Kangaroo Island (1928-1946, exta...</td>\n      <td>1990-03-01 00:00:00</td>\n      <td>37561</td>\n      <td>(Shaw, 1799)</td>\n      <td>NaN</td>\n    </tr>\n    <tr>\n      <th>3</th>\n      <td>2</td>\n      <td>M</td>\n      <td>MAMMALIA</td>\n      <td>MONOTREMATA</td>\n      <td>ORNITHORHYNCHIDAE</td>\n      <td>NaN</td>\n      <td>E10510</td>\n      <td>Ornithorhynchus</td>\n      <td>sp.</td>\n      <td>Ornithorhynchus sp.</td>\n      <td>NaN</td>\n      <td>NaN</td>\n      <td>NaN</td>\n      <td>NaN</td>\n      <td>NaN</td>\n      <td>NaN</td>\n      <td>1990-03-01 00:00:00</td>\n      <td>37561</td>\n      <td>NaN</td>\n      <td>NaN</td>\n    </tr>\n    <tr>\n      <th>4</th>\n      <td>3</td>\n      <td>M</td>\n      <td>MAMMALIA</td>\n      <td>MONOTREMATA</td>\n      <td>TACHYGLOSSIDAE</td>\n      <td>Echidna from Pleistocene</td>\n      <td>S05461</td>\n      <td>Megalibgwilia</td>\n      <td>ramsayi</td>\n      <td>Megalibgwilia ramsayi</td>\n      <td>NaN</td>\n      <td>NaN</td>\n      <td>NaN</td>\n      <td>NaN</td>\n      <td>NaN</td>\n      <td>Not included in the SA Census. This species in...</td>\n      <td>2016-01-12 00:00:00</td>\n      <td>NaN</td>\n      <td>Owen 1884</td>\n      <td>NaN</td>\n    </tr>\n    <tr>\n      <th>5</th>\n      <td>4</td>\n      <td>M</td>\n      <td>MAMMALIA</td>\n      <td>MONOTREMATA</td>\n      <td>TACHYGLOSSIDAE</td>\n      <td>Short-beaked Echidna</td>\n      <td>W01003</td>\n      <td>Tachyglossus</td>\n      <td>aculeatus</td>\n      <td>Tachyglossus aculeatus</td>\n      <td>NaN</td>\n      <td>ssp</td>\n      <td>KI subspecies is rated.</td>\n      <td>ssp</td>\n      <td>ammended 18 June 2015</td>\n      <td>NaN</td>\n      <td>1990-03-01 00:00:00</td>\n      <td>37561</td>\n      <td>(Shaw, 1792)</td>\n      <td>NaN</td>\n    </tr>\n    <tr>\n      <th>6</th>\n      <td>5</td>\n      <td>M</td>\n      <td>MAMMALIA</td>\n      <td>MONOTREMATA</td>\n      <td>TACHYGLOSSIDAE</td>\n      <td>Short-beaked Echidna (Kangaroo Island)</td>\n      <td>C21009</td>\n      <td>Tachyglossus</td>\n      <td>aculeatus multiaculeatus</td>\n      <td>Tachyglossus aculeatus multiaculeatus</td>\n      <td>NaN</td>\n      <td>E</td>\n      <td>Listing official as off 1/Jan/2020.</td>\n      <td>EN</td>\n      <td>NaN</td>\n      <td>NaN</td>\n      <td>2015-07-03 00:00:00</td>\n      <td>43066</td>\n      <td>(Rothschild, 1905)</td>\n      <td>NaN</td>\n    </tr>\n    <tr>\n      <th>...</th>\n      <td>...</td>\n      <td>...</td>\n      <td>...</td>\n      <td>...</td>\n      <td>...</td>\n      <td>...</td>\n      <td>...</td>\n      <td>...</td>\n      <td>...</td>\n      <td>...</td>\n      <td>...</td>\n      <td>...</td>\n      <td>...</td>\n      <td>...</td>\n      <td>...</td>\n      <td>...</td>\n      <td>...</td>\n      <td>...</td>\n      <td>...</td>\n      <td>...</td>\n    </tr>\n    <tr>\n      <th>4136</th>\n      <td>4135</td>\n      <td>I</td>\n      <td>INVERTEBRATES</td>\n      <td>HYMENOPTERA</td>\n      <td>FORMICIDAE</td>\n      <td>genus of ants</td>\n      <td>Y11508</td>\n      <td>Zasphinctus</td>\n      <td>sp.</td>\n      <td>Zasphinctus sp.</td>\n      <td>NaN</td>\n      <td>NaN</td>\n      <td>NaN</td>\n      <td>NaN</td>\n      <td>NaN</td>\n      <td>NaN</td>\n      <td>2021-07-23 00:00:00</td>\n      <td>NaN</td>\n      <td>NaN</td>\n      <td>NaN</td>\n    </tr>\n    <tr>\n      <th>4137</th>\n      <td>4136</td>\n      <td>I</td>\n      <td>INVERTEBRATES</td>\n      <td>HYMENOPTERA</td>\n      <td>HYMENOPTERA (ORDER)</td>\n      <td>NaN</td>\n      <td>U11238</td>\n      <td>HYMENOPTERA</td>\n      <td>sp.</td>\n      <td>HYMENOPTERA sp.</td>\n      <td>NaN</td>\n      <td>NaN</td>\n      <td>NaN</td>\n      <td>NaN</td>\n      <td>NaN</td>\n      <td>NaN</td>\n      <td>2019-05-07 00:00:00</td>\n      <td>NaN</td>\n      <td>(Meigen, 1826)</td>\n      <td>NaN</td>\n    </tr>\n    <tr>\n      <th>4138</th>\n      <td>4137</td>\n      <td>I</td>\n      <td>INVERTEBRATES</td>\n      <td>SCORPIONES</td>\n      <td>SCORPIONES (ORDER)</td>\n      <td>Scorpions</td>\n      <td>G15147</td>\n      <td>SCORPIONES</td>\n      <td>sp.</td>\n      <td>SCORPIONES sp.</td>\n      <td>NaN</td>\n      <td>NaN</td>\n      <td>NaN</td>\n      <td>NaN</td>\n      <td>NaN</td>\n      <td>NaN</td>\n      <td>2018-08-24 00:00:00</td>\n      <td>NaN</td>\n      <td>NaN</td>\n      <td>NaN</td>\n    </tr>\n    <tr>\n      <th>4139</th>\n      <td>4138</td>\n      <td>I</td>\n      <td>INVERTEBRATES</td>\n      <td>MESOSTIGMATA</td>\n      <td>MESOSTIGMATA (ORDER)</td>\n      <td>order of mites</td>\n      <td>K11189</td>\n      <td>MESOSTIGMATA</td>\n      <td>sp.</td>\n      <td>MESOSTIGMATA sp.</td>\n      <td>NaN</td>\n      <td>NaN</td>\n      <td>NaN</td>\n      <td>NaN</td>\n      <td>NaN</td>\n      <td>NaN</td>\n      <td>2018-09-07 00:00:00</td>\n      <td>NaN</td>\n      <td>NaN</td>\n      <td>NaN</td>\n    </tr>\n    <tr>\n      <th>4140</th>\n      <td>4139</td>\n      <td>I</td>\n      <td>INVERTEBRATES</td>\n      <td>SPONGILLIDA</td>\n      <td>SPONGILLIDAE</td>\n      <td>Freshwater Sponges</td>\n      <td>G15171</td>\n      <td>SPONGILLIDAE</td>\n      <td>sp.</td>\n      <td>SPONGILLIDAE sp.</td>\n      <td>NaN</td>\n      <td>NaN</td>\n      <td>NaN</td>\n      <td>NaN</td>\n      <td>NaN</td>\n      <td>NaN</td>\n      <td>2019-04-01 00:00:00</td>\n      <td>NaN</td>\n      <td>Gray, 1867</td>\n      <td>NaN</td>\n    </tr>\n  </tbody>\n</table>\n<p>4139 rows × 20 columns</p>\n</div>"
     },
     "execution_count": 4,
     "metadata": {},
     "output_type": "execute_result"
    }
   ],
   "source": [
    "fauna = fauna[2:]\n",
    "fauna"
   ],
   "metadata": {
    "collapsed": false,
    "pycharm": {
     "name": "#%%\n"
    }
   }
  },
  {
   "cell_type": "code",
   "execution_count": 5,
   "outputs": [
    {
     "data": {
      "text/plain": "1    TEMPORARY TAXONOMIC SORT ORDER SPECIESTYPE CLASSNAME       ORDERNAME  \\\n2                                 1           M  MAMMALIA     MONOTREMATA   \n6                                 5           M  MAMMALIA     MONOTREMATA   \n12                               11           M  MAMMALIA  DASYUROMORPHIA   \n14                               13           M  MAMMALIA  DASYUROMORPHIA   \n17                               16           M  MAMMALIA  DASYUROMORPHIA   \n...                             ...         ...       ...             ...   \n1499                           1498           A  AMPHIBIA           ANURA   \n1501                           1500           A  AMPHIBIA           ANURA   \n1502                           1501           A  AMPHIBIA           ANURA   \n1503                           1502           A  AMPHIBIA           ANURA   \n1505                           1504           A  AMPHIBIA           ANURA   \n\n1            FAMILYNAME                             COMMON NAME NSXCODE  \\\n2     ORNITHORHYNCHIDAE                                Platypus  S01001   \n6        TACHYGLOSSIDAE  Short-beaked Echidna (Kangaroo Island)  C21009   \n12        MYRMECOBIIDAE                                  Numbat  M01086   \n14           DASYURIDAE          Brush-tailed Mulgara (Mulgara)  C04277   \n17           DASYURIDAE                                  Kowari  C01021   \n...                 ...                                     ...     ...   \n1499     MYOBATRACHIDAE                          Shoemaker Frog  W03087   \n1501     MYOBATRACHIDAE                           Brown Toadlet  C03117   \n1502     MYOBATRACHIDAE                  Everard Ranges Toadlet  A03124   \n1503     MYOBATRACHIDAE                         Marbled Toadlet  C03125   \n1505     MYOBATRACHIDAE                    Small-headed Toadlet  K03013   \n\n1               GENUS                        SP  \\\n2     Ornithorhynchus                  anatinus   \n6        Tachyglossus  aculeatus multiaculeatus   \n12        Myrmecobius                 fasciatus   \n14         Dasycercus                    blythi   \n17        Dasyuroides                    byrnei   \n...               ...                       ...   \n1499     Neobatrachus                     sutor   \n1501     Pseudophryne                  bibronii   \n1502     Pseudophryne                 robinsoni   \n1503     Pseudophryne             semimarmorata   \n1505        Uperoleia                    rugosa   \n\n1                           SCIENTIFIC NAME INTRODUCED NPW ACT STATUS  \\\n2                  Ornithorhynchus anatinus        NaN              E   \n6     Tachyglossus aculeatus multiaculeatus        NaN              E   \n12                    Myrmecobius fasciatus        NaN              E   \n14                        Dasycercus blythi        NaN              E   \n17                       Dasyuroides byrnei        NaN              E   \n...                                     ...        ...            ...   \n1499                     Neobatrachus sutor        NaN              V   \n1501                  Pseudophryne bibronii        NaN              R   \n1502                 Pseudophryne robinsoni        NaN              V   \n1503             Pseudophryne semimarmorata        NaN              V   \n1505                       Uperoleia rugosa        NaN              R   \n\n1                 NPW ACT STATUS COMMENTS EPBC ACT STATUS  \\\n2                                     NaN             NaN   \n6     Listing official as off 1/Jan/2020.              EN   \n12                             Introduced              EN   \n14                                    NaN             NaN   \n17        Changed from V to E 1/Jan/2020.              VU   \n...                                   ...             ...   \n1499                                  NaN             NaN   \n1501                                  NaN             NaN   \n1502                                  NaN             NaN   \n1503                                  NaN             NaN   \n1505                                  NaN             NaN   \n\n1                              EPBC ACT STATUS COMMENTS  \\\n2                                                   NaN   \n6                                                   NaN   \n12    Introduced to South Australia. Changed from VU...   \n14                                                  NaN   \n17                                                  NaN   \n...                                                 ...   \n1499                                                NaN   \n1501                                                NaN   \n1502                                                NaN   \n1503                                                NaN   \n1505                                                NaN   \n\n1                             OFFICIAL SPECIES COMMENTS DATE CREATED IN BDBSA  \\\n2     Introduced to Kangaroo Island (1928-1946, exta...   1990-03-01 00:00:00   \n6                                                   NaN   2015-07-03 00:00:00   \n12    Original populations extinct in SA. Western Au...   1990-03-01 00:00:00   \n14    There has been recent taxonomic revision of th...   2000-08-01 00:00:00   \n17    The Vertebrates of South Australia (Robinson e...   1990-03-01 00:00:00   \n...                                                 ...                   ...   \n1499                                                NaN   1997-07-21 00:00:00   \n1501                                                NaN   1997-07-21 00:00:00   \n1502                                                NaN   1997-07-21 00:00:00   \n1503                                                NaN   1997-07-21 00:00:00   \n1505                                                NaN   1997-11-04 00:00:00   \n\n1    DATE TAXONOMY MODIFIED IN BDBSA                      SPECIES AUTHOR  \\\n2                              37561                        (Shaw, 1799)   \n6                              43066                  (Rothschild, 1905)   \n12               2002-11-01 00:00:00                    Waterhouse, 1836   \n14               2012-03-23 00:00:00                      (Krefft, 1867)   \n17               2012-08-28 00:00:00                     (Spencer, 1896)   \n...                              ...                                 ...   \n1499                           37561                          Main, 1957   \n1501                           38646                       Gunther, 1858   \n1502                           41319  Donellan, Mahoney & Bertozzi, 2012   \n1503                           37561                         Lucas, 1892   \n1505                           44215                      (Parker, 1940)   \n\n1    SUBSPECIES AUTHOR  \n2                  NaN  \n6                  NaN  \n12                 NaN  \n14                 NaN  \n17                 NaN  \n...                ...  \n1499               NaN  \n1501               NaN  \n1502               NaN  \n1503               NaN  \n1505               NaN  \n\n[329 rows x 20 columns]",
      "text/html": "<div>\n<style scoped>\n    .dataframe tbody tr th:only-of-type {\n        vertical-align: middle;\n    }\n\n    .dataframe tbody tr th {\n        vertical-align: top;\n    }\n\n    .dataframe thead th {\n        text-align: right;\n    }\n</style>\n<table border=\"1\" class=\"dataframe\">\n  <thead>\n    <tr style=\"text-align: right;\">\n      <th>1</th>\n      <th>TEMPORARY TAXONOMIC SORT ORDER</th>\n      <th>SPECIESTYPE</th>\n      <th>CLASSNAME</th>\n      <th>ORDERNAME</th>\n      <th>FAMILYNAME</th>\n      <th>COMMON NAME</th>\n      <th>NSXCODE</th>\n      <th>GENUS</th>\n      <th>SP</th>\n      <th>SCIENTIFIC NAME</th>\n      <th>INTRODUCED</th>\n      <th>NPW ACT STATUS</th>\n      <th>NPW ACT STATUS COMMENTS</th>\n      <th>EPBC ACT STATUS</th>\n      <th>EPBC ACT STATUS COMMENTS</th>\n      <th>OFFICIAL SPECIES COMMENTS</th>\n      <th>DATE CREATED IN BDBSA</th>\n      <th>DATE TAXONOMY MODIFIED IN BDBSA</th>\n      <th>SPECIES AUTHOR</th>\n      <th>SUBSPECIES AUTHOR</th>\n    </tr>\n  </thead>\n  <tbody>\n    <tr>\n      <th>2</th>\n      <td>1</td>\n      <td>M</td>\n      <td>MAMMALIA</td>\n      <td>MONOTREMATA</td>\n      <td>ORNITHORHYNCHIDAE</td>\n      <td>Platypus</td>\n      <td>S01001</td>\n      <td>Ornithorhynchus</td>\n      <td>anatinus</td>\n      <td>Ornithorhynchus anatinus</td>\n      <td>NaN</td>\n      <td>E</td>\n      <td>NaN</td>\n      <td>NaN</td>\n      <td>NaN</td>\n      <td>Introduced to Kangaroo Island (1928-1946, exta...</td>\n      <td>1990-03-01 00:00:00</td>\n      <td>37561</td>\n      <td>(Shaw, 1799)</td>\n      <td>NaN</td>\n    </tr>\n    <tr>\n      <th>6</th>\n      <td>5</td>\n      <td>M</td>\n      <td>MAMMALIA</td>\n      <td>MONOTREMATA</td>\n      <td>TACHYGLOSSIDAE</td>\n      <td>Short-beaked Echidna (Kangaroo Island)</td>\n      <td>C21009</td>\n      <td>Tachyglossus</td>\n      <td>aculeatus multiaculeatus</td>\n      <td>Tachyglossus aculeatus multiaculeatus</td>\n      <td>NaN</td>\n      <td>E</td>\n      <td>Listing official as off 1/Jan/2020.</td>\n      <td>EN</td>\n      <td>NaN</td>\n      <td>NaN</td>\n      <td>2015-07-03 00:00:00</td>\n      <td>43066</td>\n      <td>(Rothschild, 1905)</td>\n      <td>NaN</td>\n    </tr>\n    <tr>\n      <th>12</th>\n      <td>11</td>\n      <td>M</td>\n      <td>MAMMALIA</td>\n      <td>DASYUROMORPHIA</td>\n      <td>MYRMECOBIIDAE</td>\n      <td>Numbat</td>\n      <td>M01086</td>\n      <td>Myrmecobius</td>\n      <td>fasciatus</td>\n      <td>Myrmecobius fasciatus</td>\n      <td>NaN</td>\n      <td>E</td>\n      <td>Introduced</td>\n      <td>EN</td>\n      <td>Introduced to South Australia. Changed from VU...</td>\n      <td>Original populations extinct in SA. Western Au...</td>\n      <td>1990-03-01 00:00:00</td>\n      <td>2002-11-01 00:00:00</td>\n      <td>Waterhouse, 1836</td>\n      <td>NaN</td>\n    </tr>\n    <tr>\n      <th>14</th>\n      <td>13</td>\n      <td>M</td>\n      <td>MAMMALIA</td>\n      <td>DASYUROMORPHIA</td>\n      <td>DASYURIDAE</td>\n      <td>Brush-tailed Mulgara (Mulgara)</td>\n      <td>C04277</td>\n      <td>Dasycercus</td>\n      <td>blythi</td>\n      <td>Dasycercus blythi</td>\n      <td>NaN</td>\n      <td>E</td>\n      <td>NaN</td>\n      <td>NaN</td>\n      <td>NaN</td>\n      <td>There has been recent taxonomic revision of th...</td>\n      <td>2000-08-01 00:00:00</td>\n      <td>2012-03-23 00:00:00</td>\n      <td>(Krefft, 1867)</td>\n      <td>NaN</td>\n    </tr>\n    <tr>\n      <th>17</th>\n      <td>16</td>\n      <td>M</td>\n      <td>MAMMALIA</td>\n      <td>DASYUROMORPHIA</td>\n      <td>DASYURIDAE</td>\n      <td>Kowari</td>\n      <td>C01021</td>\n      <td>Dasyuroides</td>\n      <td>byrnei</td>\n      <td>Dasyuroides byrnei</td>\n      <td>NaN</td>\n      <td>E</td>\n      <td>Changed from V to E 1/Jan/2020.</td>\n      <td>VU</td>\n      <td>NaN</td>\n      <td>The Vertebrates of South Australia (Robinson e...</td>\n      <td>1990-03-01 00:00:00</td>\n      <td>2012-08-28 00:00:00</td>\n      <td>(Spencer, 1896)</td>\n      <td>NaN</td>\n    </tr>\n    <tr>\n      <th>...</th>\n      <td>...</td>\n      <td>...</td>\n      <td>...</td>\n      <td>...</td>\n      <td>...</td>\n      <td>...</td>\n      <td>...</td>\n      <td>...</td>\n      <td>...</td>\n      <td>...</td>\n      <td>...</td>\n      <td>...</td>\n      <td>...</td>\n      <td>...</td>\n      <td>...</td>\n      <td>...</td>\n      <td>...</td>\n      <td>...</td>\n      <td>...</td>\n      <td>...</td>\n    </tr>\n    <tr>\n      <th>1499</th>\n      <td>1498</td>\n      <td>A</td>\n      <td>AMPHIBIA</td>\n      <td>ANURA</td>\n      <td>MYOBATRACHIDAE</td>\n      <td>Shoemaker Frog</td>\n      <td>W03087</td>\n      <td>Neobatrachus</td>\n      <td>sutor</td>\n      <td>Neobatrachus sutor</td>\n      <td>NaN</td>\n      <td>V</td>\n      <td>NaN</td>\n      <td>NaN</td>\n      <td>NaN</td>\n      <td>NaN</td>\n      <td>1997-07-21 00:00:00</td>\n      <td>37561</td>\n      <td>Main, 1957</td>\n      <td>NaN</td>\n    </tr>\n    <tr>\n      <th>1501</th>\n      <td>1500</td>\n      <td>A</td>\n      <td>AMPHIBIA</td>\n      <td>ANURA</td>\n      <td>MYOBATRACHIDAE</td>\n      <td>Brown Toadlet</td>\n      <td>C03117</td>\n      <td>Pseudophryne</td>\n      <td>bibronii</td>\n      <td>Pseudophryne bibronii</td>\n      <td>NaN</td>\n      <td>R</td>\n      <td>NaN</td>\n      <td>NaN</td>\n      <td>NaN</td>\n      <td>NaN</td>\n      <td>1997-07-21 00:00:00</td>\n      <td>38646</td>\n      <td>Gunther, 1858</td>\n      <td>NaN</td>\n    </tr>\n    <tr>\n      <th>1502</th>\n      <td>1501</td>\n      <td>A</td>\n      <td>AMPHIBIA</td>\n      <td>ANURA</td>\n      <td>MYOBATRACHIDAE</td>\n      <td>Everard Ranges Toadlet</td>\n      <td>A03124</td>\n      <td>Pseudophryne</td>\n      <td>robinsoni</td>\n      <td>Pseudophryne robinsoni</td>\n      <td>NaN</td>\n      <td>V</td>\n      <td>NaN</td>\n      <td>NaN</td>\n      <td>NaN</td>\n      <td>NaN</td>\n      <td>1997-07-21 00:00:00</td>\n      <td>41319</td>\n      <td>Donellan, Mahoney &amp; Bertozzi, 2012</td>\n      <td>NaN</td>\n    </tr>\n    <tr>\n      <th>1503</th>\n      <td>1502</td>\n      <td>A</td>\n      <td>AMPHIBIA</td>\n      <td>ANURA</td>\n      <td>MYOBATRACHIDAE</td>\n      <td>Marbled Toadlet</td>\n      <td>C03125</td>\n      <td>Pseudophryne</td>\n      <td>semimarmorata</td>\n      <td>Pseudophryne semimarmorata</td>\n      <td>NaN</td>\n      <td>V</td>\n      <td>NaN</td>\n      <td>NaN</td>\n      <td>NaN</td>\n      <td>NaN</td>\n      <td>1997-07-21 00:00:00</td>\n      <td>37561</td>\n      <td>Lucas, 1892</td>\n      <td>NaN</td>\n    </tr>\n    <tr>\n      <th>1505</th>\n      <td>1504</td>\n      <td>A</td>\n      <td>AMPHIBIA</td>\n      <td>ANURA</td>\n      <td>MYOBATRACHIDAE</td>\n      <td>Small-headed Toadlet</td>\n      <td>K03013</td>\n      <td>Uperoleia</td>\n      <td>rugosa</td>\n      <td>Uperoleia rugosa</td>\n      <td>NaN</td>\n      <td>R</td>\n      <td>NaN</td>\n      <td>NaN</td>\n      <td>NaN</td>\n      <td>NaN</td>\n      <td>1997-11-04 00:00:00</td>\n      <td>44215</td>\n      <td>(Parker, 1940)</td>\n      <td>NaN</td>\n    </tr>\n  </tbody>\n</table>\n<p>329 rows × 20 columns</p>\n</div>"
     },
     "execution_count": 5,
     "metadata": {},
     "output_type": "execute_result"
    }
   ],
   "source": [
    "fauna = fauna[fauna['NPW ACT STATUS'].isin(['R','V','E'])]\n",
    "fauna"
   ],
   "metadata": {
    "collapsed": false,
    "pycharm": {
     "name": "#%%\n"
    }
   }
  },
  {
   "cell_type": "code",
   "execution_count": 6,
   "outputs": [
    {
     "data": {
      "text/plain": "array(['E', 'V', 'R'], dtype=object)"
     },
     "execution_count": 6,
     "metadata": {},
     "output_type": "execute_result"
    }
   ],
   "source": [
    "fauna['NPW ACT STATUS'].unique()"
   ],
   "metadata": {
    "collapsed": false,
    "pycharm": {
     "name": "#%%\n"
    }
   }
  },
  {
   "cell_type": "code",
   "execution_count": 7,
   "outputs": [
    {
     "name": "stderr",
     "output_type": "stream",
     "text": [
      "C:\\Users\\oco115\\AppData\\Local\\Temp/ipykernel_37028/3356100932.py:6: SettingWithCopyWarning: \n",
      "A value is trying to be set on a copy of a slice from a DataFrame.\n",
      "Try using .loc[row_indexer,col_indexer] = value instead\n",
      "\n",
      "See the caveats in the documentation: https://pandas.pydata.org/pandas-docs/stable/user_guide/indexing.html#returning-a-view-versus-a-copy\n",
      "  fauna['status'] = fauna['NPW ACT STATUS'].str.strip().map(conservationCodesMapping).fillna(fauna['NPW ACT STATUS'])\n"
     ]
    },
    {
     "data": {
      "text/plain": "1    TEMPORARY TAXONOMIC SORT ORDER SPECIESTYPE CLASSNAME       ORDERNAME  \\\n2                                 1           M  MAMMALIA     MONOTREMATA   \n6                                 5           M  MAMMALIA     MONOTREMATA   \n12                               11           M  MAMMALIA  DASYUROMORPHIA   \n14                               13           M  MAMMALIA  DASYUROMORPHIA   \n17                               16           M  MAMMALIA  DASYUROMORPHIA   \n...                             ...         ...       ...             ...   \n1499                           1498           A  AMPHIBIA           ANURA   \n1501                           1500           A  AMPHIBIA           ANURA   \n1502                           1501           A  AMPHIBIA           ANURA   \n1503                           1502           A  AMPHIBIA           ANURA   \n1505                           1504           A  AMPHIBIA           ANURA   \n\n1            FAMILYNAME                             COMMON NAME NSXCODE  \\\n2     ORNITHORHYNCHIDAE                                Platypus  S01001   \n6        TACHYGLOSSIDAE  Short-beaked Echidna (Kangaroo Island)  C21009   \n12        MYRMECOBIIDAE                                  Numbat  M01086   \n14           DASYURIDAE          Brush-tailed Mulgara (Mulgara)  C04277   \n17           DASYURIDAE                                  Kowari  C01021   \n...                 ...                                     ...     ...   \n1499     MYOBATRACHIDAE                          Shoemaker Frog  W03087   \n1501     MYOBATRACHIDAE                           Brown Toadlet  C03117   \n1502     MYOBATRACHIDAE                  Everard Ranges Toadlet  A03124   \n1503     MYOBATRACHIDAE                         Marbled Toadlet  C03125   \n1505     MYOBATRACHIDAE                    Small-headed Toadlet  K03013   \n\n1               GENUS                        SP  \\\n2     Ornithorhynchus                  anatinus   \n6        Tachyglossus  aculeatus multiaculeatus   \n12        Myrmecobius                 fasciatus   \n14         Dasycercus                    blythi   \n17        Dasyuroides                    byrnei   \n...               ...                       ...   \n1499     Neobatrachus                     sutor   \n1501     Pseudophryne                  bibronii   \n1502     Pseudophryne                 robinsoni   \n1503     Pseudophryne             semimarmorata   \n1505        Uperoleia                    rugosa   \n\n1                           SCIENTIFIC NAME  ... NPW ACT STATUS  \\\n2                  Ornithorhynchus anatinus  ...              E   \n6     Tachyglossus aculeatus multiaculeatus  ...              E   \n12                    Myrmecobius fasciatus  ...              E   \n14                        Dasycercus blythi  ...              E   \n17                       Dasyuroides byrnei  ...              E   \n...                                     ...  ...            ...   \n1499                     Neobatrachus sutor  ...              V   \n1501                  Pseudophryne bibronii  ...              R   \n1502                 Pseudophryne robinsoni  ...              V   \n1503             Pseudophryne semimarmorata  ...              V   \n1505                       Uperoleia rugosa  ...              R   \n\n1                 NPW ACT STATUS COMMENTS EPBC ACT STATUS  \\\n2                                     NaN             NaN   \n6     Listing official as off 1/Jan/2020.              EN   \n12                             Introduced              EN   \n14                                    NaN             NaN   \n17        Changed from V to E 1/Jan/2020.              VU   \n...                                   ...             ...   \n1499                                  NaN             NaN   \n1501                                  NaN             NaN   \n1502                                  NaN             NaN   \n1503                                  NaN             NaN   \n1505                                  NaN             NaN   \n\n1                              EPBC ACT STATUS COMMENTS  \\\n2                                                   NaN   \n6                                                   NaN   \n12    Introduced to South Australia. Changed from VU...   \n14                                                  NaN   \n17                                                  NaN   \n...                                                 ...   \n1499                                                NaN   \n1501                                                NaN   \n1502                                                NaN   \n1503                                                NaN   \n1505                                                NaN   \n\n1                             OFFICIAL SPECIES COMMENTS DATE CREATED IN BDBSA  \\\n2     Introduced to Kangaroo Island (1928-1946, exta...   1990-03-01 00:00:00   \n6                                                   NaN   2015-07-03 00:00:00   \n12    Original populations extinct in SA. Western Au...   1990-03-01 00:00:00   \n14    There has been recent taxonomic revision of th...   2000-08-01 00:00:00   \n17    The Vertebrates of South Australia (Robinson e...   1990-03-01 00:00:00   \n...                                                 ...                   ...   \n1499                                                NaN   1997-07-21 00:00:00   \n1501                                                NaN   1997-07-21 00:00:00   \n1502                                                NaN   1997-07-21 00:00:00   \n1503                                                NaN   1997-07-21 00:00:00   \n1505                                                NaN   1997-11-04 00:00:00   \n\n1    DATE TAXONOMY MODIFIED IN BDBSA                      SPECIES AUTHOR  \\\n2                              37561                        (Shaw, 1799)   \n6                              43066                  (Rothschild, 1905)   \n12               2002-11-01 00:00:00                    Waterhouse, 1836   \n14               2012-03-23 00:00:00                      (Krefft, 1867)   \n17               2012-08-28 00:00:00                     (Spencer, 1896)   \n...                              ...                                 ...   \n1499                           37561                          Main, 1957   \n1501                           38646                       Gunther, 1858   \n1502                           41319  Donellan, Mahoney & Bertozzi, 2012   \n1503                           37561                         Lucas, 1892   \n1505                           44215                      (Parker, 1940)   \n\n1    SUBSPECIES AUTHOR      status  \n2                  NaN  Endangered  \n6                  NaN  Endangered  \n12                 NaN  Endangered  \n14                 NaN  Endangered  \n17                 NaN  Endangered  \n...                ...         ...  \n1499               NaN  Vulnerable  \n1501               NaN        Rare  \n1502               NaN  Vulnerable  \n1503               NaN  Vulnerable  \n1505               NaN        Rare  \n\n[329 rows x 21 columns]",
      "text/html": "<div>\n<style scoped>\n    .dataframe tbody tr th:only-of-type {\n        vertical-align: middle;\n    }\n\n    .dataframe tbody tr th {\n        vertical-align: top;\n    }\n\n    .dataframe thead th {\n        text-align: right;\n    }\n</style>\n<table border=\"1\" class=\"dataframe\">\n  <thead>\n    <tr style=\"text-align: right;\">\n      <th>1</th>\n      <th>TEMPORARY TAXONOMIC SORT ORDER</th>\n      <th>SPECIESTYPE</th>\n      <th>CLASSNAME</th>\n      <th>ORDERNAME</th>\n      <th>FAMILYNAME</th>\n      <th>COMMON NAME</th>\n      <th>NSXCODE</th>\n      <th>GENUS</th>\n      <th>SP</th>\n      <th>SCIENTIFIC NAME</th>\n      <th>...</th>\n      <th>NPW ACT STATUS</th>\n      <th>NPW ACT STATUS COMMENTS</th>\n      <th>EPBC ACT STATUS</th>\n      <th>EPBC ACT STATUS COMMENTS</th>\n      <th>OFFICIAL SPECIES COMMENTS</th>\n      <th>DATE CREATED IN BDBSA</th>\n      <th>DATE TAXONOMY MODIFIED IN BDBSA</th>\n      <th>SPECIES AUTHOR</th>\n      <th>SUBSPECIES AUTHOR</th>\n      <th>status</th>\n    </tr>\n  </thead>\n  <tbody>\n    <tr>\n      <th>2</th>\n      <td>1</td>\n      <td>M</td>\n      <td>MAMMALIA</td>\n      <td>MONOTREMATA</td>\n      <td>ORNITHORHYNCHIDAE</td>\n      <td>Platypus</td>\n      <td>S01001</td>\n      <td>Ornithorhynchus</td>\n      <td>anatinus</td>\n      <td>Ornithorhynchus anatinus</td>\n      <td>...</td>\n      <td>E</td>\n      <td>NaN</td>\n      <td>NaN</td>\n      <td>NaN</td>\n      <td>Introduced to Kangaroo Island (1928-1946, exta...</td>\n      <td>1990-03-01 00:00:00</td>\n      <td>37561</td>\n      <td>(Shaw, 1799)</td>\n      <td>NaN</td>\n      <td>Endangered</td>\n    </tr>\n    <tr>\n      <th>6</th>\n      <td>5</td>\n      <td>M</td>\n      <td>MAMMALIA</td>\n      <td>MONOTREMATA</td>\n      <td>TACHYGLOSSIDAE</td>\n      <td>Short-beaked Echidna (Kangaroo Island)</td>\n      <td>C21009</td>\n      <td>Tachyglossus</td>\n      <td>aculeatus multiaculeatus</td>\n      <td>Tachyglossus aculeatus multiaculeatus</td>\n      <td>...</td>\n      <td>E</td>\n      <td>Listing official as off 1/Jan/2020.</td>\n      <td>EN</td>\n      <td>NaN</td>\n      <td>NaN</td>\n      <td>2015-07-03 00:00:00</td>\n      <td>43066</td>\n      <td>(Rothschild, 1905)</td>\n      <td>NaN</td>\n      <td>Endangered</td>\n    </tr>\n    <tr>\n      <th>12</th>\n      <td>11</td>\n      <td>M</td>\n      <td>MAMMALIA</td>\n      <td>DASYUROMORPHIA</td>\n      <td>MYRMECOBIIDAE</td>\n      <td>Numbat</td>\n      <td>M01086</td>\n      <td>Myrmecobius</td>\n      <td>fasciatus</td>\n      <td>Myrmecobius fasciatus</td>\n      <td>...</td>\n      <td>E</td>\n      <td>Introduced</td>\n      <td>EN</td>\n      <td>Introduced to South Australia. Changed from VU...</td>\n      <td>Original populations extinct in SA. Western Au...</td>\n      <td>1990-03-01 00:00:00</td>\n      <td>2002-11-01 00:00:00</td>\n      <td>Waterhouse, 1836</td>\n      <td>NaN</td>\n      <td>Endangered</td>\n    </tr>\n    <tr>\n      <th>14</th>\n      <td>13</td>\n      <td>M</td>\n      <td>MAMMALIA</td>\n      <td>DASYUROMORPHIA</td>\n      <td>DASYURIDAE</td>\n      <td>Brush-tailed Mulgara (Mulgara)</td>\n      <td>C04277</td>\n      <td>Dasycercus</td>\n      <td>blythi</td>\n      <td>Dasycercus blythi</td>\n      <td>...</td>\n      <td>E</td>\n      <td>NaN</td>\n      <td>NaN</td>\n      <td>NaN</td>\n      <td>There has been recent taxonomic revision of th...</td>\n      <td>2000-08-01 00:00:00</td>\n      <td>2012-03-23 00:00:00</td>\n      <td>(Krefft, 1867)</td>\n      <td>NaN</td>\n      <td>Endangered</td>\n    </tr>\n    <tr>\n      <th>17</th>\n      <td>16</td>\n      <td>M</td>\n      <td>MAMMALIA</td>\n      <td>DASYUROMORPHIA</td>\n      <td>DASYURIDAE</td>\n      <td>Kowari</td>\n      <td>C01021</td>\n      <td>Dasyuroides</td>\n      <td>byrnei</td>\n      <td>Dasyuroides byrnei</td>\n      <td>...</td>\n      <td>E</td>\n      <td>Changed from V to E 1/Jan/2020.</td>\n      <td>VU</td>\n      <td>NaN</td>\n      <td>The Vertebrates of South Australia (Robinson e...</td>\n      <td>1990-03-01 00:00:00</td>\n      <td>2012-08-28 00:00:00</td>\n      <td>(Spencer, 1896)</td>\n      <td>NaN</td>\n      <td>Endangered</td>\n    </tr>\n    <tr>\n      <th>...</th>\n      <td>...</td>\n      <td>...</td>\n      <td>...</td>\n      <td>...</td>\n      <td>...</td>\n      <td>...</td>\n      <td>...</td>\n      <td>...</td>\n      <td>...</td>\n      <td>...</td>\n      <td>...</td>\n      <td>...</td>\n      <td>...</td>\n      <td>...</td>\n      <td>...</td>\n      <td>...</td>\n      <td>...</td>\n      <td>...</td>\n      <td>...</td>\n      <td>...</td>\n      <td>...</td>\n    </tr>\n    <tr>\n      <th>1499</th>\n      <td>1498</td>\n      <td>A</td>\n      <td>AMPHIBIA</td>\n      <td>ANURA</td>\n      <td>MYOBATRACHIDAE</td>\n      <td>Shoemaker Frog</td>\n      <td>W03087</td>\n      <td>Neobatrachus</td>\n      <td>sutor</td>\n      <td>Neobatrachus sutor</td>\n      <td>...</td>\n      <td>V</td>\n      <td>NaN</td>\n      <td>NaN</td>\n      <td>NaN</td>\n      <td>NaN</td>\n      <td>1997-07-21 00:00:00</td>\n      <td>37561</td>\n      <td>Main, 1957</td>\n      <td>NaN</td>\n      <td>Vulnerable</td>\n    </tr>\n    <tr>\n      <th>1501</th>\n      <td>1500</td>\n      <td>A</td>\n      <td>AMPHIBIA</td>\n      <td>ANURA</td>\n      <td>MYOBATRACHIDAE</td>\n      <td>Brown Toadlet</td>\n      <td>C03117</td>\n      <td>Pseudophryne</td>\n      <td>bibronii</td>\n      <td>Pseudophryne bibronii</td>\n      <td>...</td>\n      <td>R</td>\n      <td>NaN</td>\n      <td>NaN</td>\n      <td>NaN</td>\n      <td>NaN</td>\n      <td>1997-07-21 00:00:00</td>\n      <td>38646</td>\n      <td>Gunther, 1858</td>\n      <td>NaN</td>\n      <td>Rare</td>\n    </tr>\n    <tr>\n      <th>1502</th>\n      <td>1501</td>\n      <td>A</td>\n      <td>AMPHIBIA</td>\n      <td>ANURA</td>\n      <td>MYOBATRACHIDAE</td>\n      <td>Everard Ranges Toadlet</td>\n      <td>A03124</td>\n      <td>Pseudophryne</td>\n      <td>robinsoni</td>\n      <td>Pseudophryne robinsoni</td>\n      <td>...</td>\n      <td>V</td>\n      <td>NaN</td>\n      <td>NaN</td>\n      <td>NaN</td>\n      <td>NaN</td>\n      <td>1997-07-21 00:00:00</td>\n      <td>41319</td>\n      <td>Donellan, Mahoney &amp; Bertozzi, 2012</td>\n      <td>NaN</td>\n      <td>Vulnerable</td>\n    </tr>\n    <tr>\n      <th>1503</th>\n      <td>1502</td>\n      <td>A</td>\n      <td>AMPHIBIA</td>\n      <td>ANURA</td>\n      <td>MYOBATRACHIDAE</td>\n      <td>Marbled Toadlet</td>\n      <td>C03125</td>\n      <td>Pseudophryne</td>\n      <td>semimarmorata</td>\n      <td>Pseudophryne semimarmorata</td>\n      <td>...</td>\n      <td>V</td>\n      <td>NaN</td>\n      <td>NaN</td>\n      <td>NaN</td>\n      <td>NaN</td>\n      <td>1997-07-21 00:00:00</td>\n      <td>37561</td>\n      <td>Lucas, 1892</td>\n      <td>NaN</td>\n      <td>Vulnerable</td>\n    </tr>\n    <tr>\n      <th>1505</th>\n      <td>1504</td>\n      <td>A</td>\n      <td>AMPHIBIA</td>\n      <td>ANURA</td>\n      <td>MYOBATRACHIDAE</td>\n      <td>Small-headed Toadlet</td>\n      <td>K03013</td>\n      <td>Uperoleia</td>\n      <td>rugosa</td>\n      <td>Uperoleia rugosa</td>\n      <td>...</td>\n      <td>R</td>\n      <td>NaN</td>\n      <td>NaN</td>\n      <td>NaN</td>\n      <td>NaN</td>\n      <td>1997-11-04 00:00:00</td>\n      <td>44215</td>\n      <td>(Parker, 1940)</td>\n      <td>NaN</td>\n      <td>Rare</td>\n    </tr>\n  </tbody>\n</table>\n<p>329 rows × 21 columns</p>\n</div>"
     },
     "execution_count": 7,
     "metadata": {},
     "output_type": "execute_result"
    }
   ],
   "source": [
    "conservationCodesMapping = {\n",
    "    'E':'Endangered',\n",
    "    'R':'Rare',\n",
    "    'V':'Vulnerable'\n",
    "}\n",
    "fauna['status'] = fauna['NPW ACT STATUS'].str.strip().map(conservationCodesMapping).fillna(fauna['NPW ACT STATUS'])\n",
    "fauna"
   ],
   "metadata": {
    "collapsed": false,
    "pycharm": {
     "name": "#%%\n"
    }
   }
  },
  {
   "cell_type": "code",
   "execution_count": 9,
   "outputs": [
    {
     "data": {
      "text/plain": "1                            scientificName  \\\n2                  Ornithorhynchus anatinus   \n6     Tachyglossus aculeatus multiaculeatus   \n12                    Myrmecobius fasciatus   \n14                        Dasycercus blythi   \n17                       Dasyuroides byrnei   \n...                                     ...   \n1499                     Neobatrachus sutor   \n1501                  Pseudophryne bibronii   \n1502                 Pseudophryne robinsoni   \n1503             Pseudophryne semimarmorata   \n1505                       Uperoleia rugosa   \n\n1                             vernacularName      status sourceStatus  \n2                                   Platypus  Endangered            E  \n6     Short-beaked Echidna (Kangaroo Island)  Endangered            E  \n12                                    Numbat  Endangered            E  \n14            Brush-tailed Mulgara (Mulgara)  Endangered            E  \n17                                    Kowari  Endangered            E  \n...                                      ...         ...          ...  \n1499                          Shoemaker Frog  Vulnerable            V  \n1501                           Brown Toadlet        Rare            R  \n1502                  Everard Ranges Toadlet  Vulnerable            V  \n1503                         Marbled Toadlet  Vulnerable            V  \n1505                    Small-headed Toadlet        Rare            R  \n\n[329 rows x 4 columns]",
      "text/html": "<div>\n<style scoped>\n    .dataframe tbody tr th:only-of-type {\n        vertical-align: middle;\n    }\n\n    .dataframe tbody tr th {\n        vertical-align: top;\n    }\n\n    .dataframe thead th {\n        text-align: right;\n    }\n</style>\n<table border=\"1\" class=\"dataframe\">\n  <thead>\n    <tr style=\"text-align: right;\">\n      <th>1</th>\n      <th>scientificName</th>\n      <th>vernacularName</th>\n      <th>status</th>\n      <th>sourceStatus</th>\n    </tr>\n  </thead>\n  <tbody>\n    <tr>\n      <th>2</th>\n      <td>Ornithorhynchus anatinus</td>\n      <td>Platypus</td>\n      <td>Endangered</td>\n      <td>E</td>\n    </tr>\n    <tr>\n      <th>6</th>\n      <td>Tachyglossus aculeatus multiaculeatus</td>\n      <td>Short-beaked Echidna (Kangaroo Island)</td>\n      <td>Endangered</td>\n      <td>E</td>\n    </tr>\n    <tr>\n      <th>12</th>\n      <td>Myrmecobius fasciatus</td>\n      <td>Numbat</td>\n      <td>Endangered</td>\n      <td>E</td>\n    </tr>\n    <tr>\n      <th>14</th>\n      <td>Dasycercus blythi</td>\n      <td>Brush-tailed Mulgara (Mulgara)</td>\n      <td>Endangered</td>\n      <td>E</td>\n    </tr>\n    <tr>\n      <th>17</th>\n      <td>Dasyuroides byrnei</td>\n      <td>Kowari</td>\n      <td>Endangered</td>\n      <td>E</td>\n    </tr>\n    <tr>\n      <th>...</th>\n      <td>...</td>\n      <td>...</td>\n      <td>...</td>\n      <td>...</td>\n    </tr>\n    <tr>\n      <th>1499</th>\n      <td>Neobatrachus sutor</td>\n      <td>Shoemaker Frog</td>\n      <td>Vulnerable</td>\n      <td>V</td>\n    </tr>\n    <tr>\n      <th>1501</th>\n      <td>Pseudophryne bibronii</td>\n      <td>Brown Toadlet</td>\n      <td>Rare</td>\n      <td>R</td>\n    </tr>\n    <tr>\n      <th>1502</th>\n      <td>Pseudophryne robinsoni</td>\n      <td>Everard Ranges Toadlet</td>\n      <td>Vulnerable</td>\n      <td>V</td>\n    </tr>\n    <tr>\n      <th>1503</th>\n      <td>Pseudophryne semimarmorata</td>\n      <td>Marbled Toadlet</td>\n      <td>Vulnerable</td>\n      <td>V</td>\n    </tr>\n    <tr>\n      <th>1505</th>\n      <td>Uperoleia rugosa</td>\n      <td>Small-headed Toadlet</td>\n      <td>Rare</td>\n      <td>R</td>\n    </tr>\n  </tbody>\n</table>\n<p>329 rows × 4 columns</p>\n</div>"
     },
     "execution_count": 9,
     "metadata": {},
     "output_type": "execute_result"
    }
   ],
   "source": [
    "fauna = fauna.rename(columns=\n",
    "{   'COMMON NAME':'vernacularName',\n",
    "    'SCIENTIFIC NAME':'scientificName',\n",
    "    'NPW ACT STATUS':'sourceStatus'\n",
    "})\n",
    "fauna = fauna.loc[:, ['scientificName', 'vernacularName', 'status', 'sourceStatus']]\n",
    "# fauna.drop(['TEMPORARY TAXONOMIC SORT ORDER','SPECIESTYPE','INTRODUCED'],axis=1,inplace=True)\n",
    "fauna"
   ],
   "metadata": {
    "collapsed": false,
    "pycharm": {
     "name": "#%%\n"
    }
   }
  },
  {
   "cell_type": "markdown",
   "source": [
    "## Flora"
   ],
   "metadata": {
    "collapsed": false,
    "pycharm": {
     "name": "#%% md\n"
    }
   }
  },
  {
   "cell_type": "code",
   "execution_count": 17,
   "outputs": [],
   "source": [
    "flora= pd.read_excel(projectDir + sourceData + \"vascular-plants-bdbsa-taxonomy.xlsx\",sheet_name=\"Taxonomic list\")"
   ],
   "metadata": {
    "collapsed": false,
    "pycharm": {
     "name": "#%%\n"
    }
   }
  },
  {
   "cell_type": "code",
   "execution_count": 11,
   "outputs": [
    {
     "data": {
      "text/plain": "array(['E', nan, 'R', 'V', 'E*', 'R*', 'V*'], dtype=object)"
     },
     "execution_count": 11,
     "metadata": {},
     "output_type": "execute_result"
    }
   ],
   "source": [
    "flora['NPW ACT STATUS'].unique()"
   ],
   "metadata": {
    "collapsed": false,
    "pycharm": {
     "name": "#%%\n"
    }
   }
  },
  {
   "cell_type": "markdown",
   "source": [
    "Fixes to flora file:\n",
    "* filter by NPW ACT Status is one of : E, V or R. Expand this value to the status field\n",
    "* rename the columns to DwC friendly names\n",
    "* remove some unwanted columns"
   ],
   "metadata": {
    "collapsed": false,
    "pycharm": {
     "name": "#%% md\n"
    }
   }
  },
  {
   "cell_type": "code",
   "execution_count": 8,
   "outputs": [
    {
     "data": {
      "text/plain": "Index(['TEMPORARY TAXONOMIC SORT ORDER', 'MAJOR GROUP', 'FAMILYNAME',\n       'COMMON NAME', 'NSXCODE', 'GENUS', 'SP', 'SUBSPECIES',\n       'SCIENTIFIC NAME', 'INTRODUCED', 'NPW ACT STATUS',\n       'NPW ACT STATUS COMMENT', 'EPBC ACT STATUS', 'EPBC ACT STATUS COMMENT',\n       'WEED OF NATIONAL SIGNIFICANCE', 'LANDSCAPE ACT Weed Status',\n       'DATE CREATED IN BDBSA', 'DATE TAXONOMY MODIFIED IN BDBSA',\n       'SPECIES with AUTHOR'],\n      dtype='object')"
     },
     "execution_count": 8,
     "metadata": {},
     "output_type": "execute_result"
    }
   ],
   "source": [
    "flora.columns\n"
   ],
   "metadata": {
    "collapsed": false,
    "pycharm": {
     "name": "#%%\n"
    }
   }
  },
  {
   "cell_type": "code",
   "execution_count": 18,
   "outputs": [
    {
     "data": {
      "text/plain": "      TEMPORARY TAXONOMIC SORT ORDER   MAJOR GROUP     FAMILYNAME  \\\n0                                  1  Pteridophyta    PSILOTACEAE   \n2                                  3  Pteridophyta  LYCOPODIACEAE   \n3                                  4  Pteridophyta  LYCOPODIACEAE   \n5                                  6  Pteridophyta  LYCOPODIACEAE   \n6                                  7  Pteridophyta  LYCOPODIACEAE   \n...                              ...           ...            ...   \n6148                            6149  Angiospermae    ORCHIDACEAE   \n6154                            6155  Angiospermae    ORCHIDACEAE   \n6156                            6157  Angiospermae    ORCHIDACEAE   \n6160                            6161  Angiospermae    ORCHIDACEAE   \n6167                            6168  Angiospermae    ORCHIDACEAE   \n\n               COMMON NAME NSXCODE          GENUS             SP SUBSPECIES  \\\n0       Skeleton Fork-fern  U05218       Psilotum          nudum              \n2         Slender Clubmoss  Y00020   Lycopodiella      lateralis              \n3             Bog Clubmoss  K00021   Lycopodiella     serpentina              \n5           Bushy Clubmoss  W00019     Lycopodium  deuterodensum              \n6           Pigmy Clubmoss  M00022  Phylloglossum     drummondii              \n...                    ...     ...            ...            ...        ...   \n6148     Spiral Sun-orchid  K00869     Thelymitra     matthewsii              \n6154      Azure Sun-orchid  S06033     Thelymitra   occidentalis              \n6156       Plum Sun-orchid  K32213     Thelymitra     orientalis              \n6160  Blue Star Sun-orchid  S32209     Thelymitra     peniculata              \n6167                   NaN  Y03672     Thelymitra      merraniae              \n\n               SCIENTIFIC NAME INTRODUCED NPW ACT STATUS  \\\n0               Psilotum nudum        NaN              E   \n2       Lycopodiella lateralis        NaN              R   \n3      Lycopodiella serpentina        NaN              E   \n5     Lycopodium deuterodensum        NaN              E   \n6     Phylloglossum drummondii        NaN              R   \n...                        ...        ...            ...   \n6148     Thelymitra matthewsii        NaN              E   \n6154   Thelymitra occidentalis        NaN              R   \n6156     Thelymitra orientalis        NaN              R   \n6160     Thelymitra peniculata        NaN              V   \n6167    Thelymitra X merraniae        NaN              E   \n\n                                 NPW ACT STATUS COMMENT EPBC ACT STATUS  \\\n0                   Currently Extinct in the wild in SA             NaN   \n2                                                   NaN             NaN   \n3                                                   NaN             NaN   \n5                                                   NaN             NaN   \n6                                                   NaN             NaN   \n...                                                 ...             ...   \n6148                                                NaN              VU   \n6154                                            RA d(i)             NaN   \n6156                                                NaN             NaN   \n6160  Warning: Conservation status data auto-copied ...             NaN   \n6167                  EN D, updated null to E, Apr 2007             NaN   \n\n     EPBC ACT STATUS COMMENT WEED OF NATIONAL SIGNIFICANCE  \\\n0                        NaN                           NaN   \n2                        NaN                           NaN   \n3                        NaN                           NaN   \n5                        NaN                           NaN   \n6                        NaN                           NaN   \n...                      ...                           ...   \n6148     2000-07-16 00:00:00                           NaN   \n6154                     NaN                           NaN   \n6156                     NaN                           NaN   \n6160                     NaN                           NaN   \n6167                     NaN                           NaN   \n\n     LANDSCAPE ACT Weed Status DATE CREATED IN BDBSA  \\\n0                          NaN            1992-11-13   \n2                          NaN            1990-10-02   \n3                          NaN            1990-10-02   \n5                          NaN            1990-10-02   \n6                          NaN            1990-10-02   \n...                        ...                   ...   \n6148                       NaN            1990-10-02   \n6154                       NaN            2005-05-10   \n6156                       NaN            2011-02-03   \n6160                       NaN            2011-02-02   \n6167                       NaN            1990-10-02   \n\n     DATE TAXONOMY MODIFIED IN BDBSA                     SPECIES with AUTHOR  \n0                                NaT             Psilotum nudum (L.)P.Beauv.  \n2                         1992-11-13   Lycopodiella lateralis (R.Br.)B.Ollg.  \n3                         1992-11-13  Lycopodiella serpentina (Kunze)B.Ollg.  \n5                                NaT         Lycopodium deuterodensum Herter  \n6                                NaT          Phylloglossum drummondii Kunze  \n...                              ...                                     ...  \n6148                             NaT         Thelymitra matthewsii Cheeseman  \n6154                             NaT          Thelymitra occidentalis Jeanes  \n6156                             NaT         Thelymitra orientalis R.J.Bates  \n6160                             NaT            Thelymitra peniculata Jeanes  \n6167                      2005-05-10         Thelymitra X merraniae Nicholls  \n\n[791 rows x 19 columns]",
      "text/html": "<div>\n<style scoped>\n    .dataframe tbody tr th:only-of-type {\n        vertical-align: middle;\n    }\n\n    .dataframe tbody tr th {\n        vertical-align: top;\n    }\n\n    .dataframe thead th {\n        text-align: right;\n    }\n</style>\n<table border=\"1\" class=\"dataframe\">\n  <thead>\n    <tr style=\"text-align: right;\">\n      <th></th>\n      <th>TEMPORARY TAXONOMIC SORT ORDER</th>\n      <th>MAJOR GROUP</th>\n      <th>FAMILYNAME</th>\n      <th>COMMON NAME</th>\n      <th>NSXCODE</th>\n      <th>GENUS</th>\n      <th>SP</th>\n      <th>SUBSPECIES</th>\n      <th>SCIENTIFIC NAME</th>\n      <th>INTRODUCED</th>\n      <th>NPW ACT STATUS</th>\n      <th>NPW ACT STATUS COMMENT</th>\n      <th>EPBC ACT STATUS</th>\n      <th>EPBC ACT STATUS COMMENT</th>\n      <th>WEED OF NATIONAL SIGNIFICANCE</th>\n      <th>LANDSCAPE ACT Weed Status</th>\n      <th>DATE CREATED IN BDBSA</th>\n      <th>DATE TAXONOMY MODIFIED IN BDBSA</th>\n      <th>SPECIES with AUTHOR</th>\n    </tr>\n  </thead>\n  <tbody>\n    <tr>\n      <th>0</th>\n      <td>1</td>\n      <td>Pteridophyta</td>\n      <td>PSILOTACEAE</td>\n      <td>Skeleton Fork-fern</td>\n      <td>U05218</td>\n      <td>Psilotum</td>\n      <td>nudum</td>\n      <td></td>\n      <td>Psilotum nudum</td>\n      <td>NaN</td>\n      <td>E</td>\n      <td>Currently Extinct in the wild in SA</td>\n      <td>NaN</td>\n      <td>NaN</td>\n      <td>NaN</td>\n      <td>NaN</td>\n      <td>1992-11-13</td>\n      <td>NaT</td>\n      <td>Psilotum nudum (L.)P.Beauv.</td>\n    </tr>\n    <tr>\n      <th>2</th>\n      <td>3</td>\n      <td>Pteridophyta</td>\n      <td>LYCOPODIACEAE</td>\n      <td>Slender Clubmoss</td>\n      <td>Y00020</td>\n      <td>Lycopodiella</td>\n      <td>lateralis</td>\n      <td></td>\n      <td>Lycopodiella lateralis</td>\n      <td>NaN</td>\n      <td>R</td>\n      <td>NaN</td>\n      <td>NaN</td>\n      <td>NaN</td>\n      <td>NaN</td>\n      <td>NaN</td>\n      <td>1990-10-02</td>\n      <td>1992-11-13</td>\n      <td>Lycopodiella lateralis (R.Br.)B.Ollg.</td>\n    </tr>\n    <tr>\n      <th>3</th>\n      <td>4</td>\n      <td>Pteridophyta</td>\n      <td>LYCOPODIACEAE</td>\n      <td>Bog Clubmoss</td>\n      <td>K00021</td>\n      <td>Lycopodiella</td>\n      <td>serpentina</td>\n      <td></td>\n      <td>Lycopodiella serpentina</td>\n      <td>NaN</td>\n      <td>E</td>\n      <td>NaN</td>\n      <td>NaN</td>\n      <td>NaN</td>\n      <td>NaN</td>\n      <td>NaN</td>\n      <td>1990-10-02</td>\n      <td>1992-11-13</td>\n      <td>Lycopodiella serpentina (Kunze)B.Ollg.</td>\n    </tr>\n    <tr>\n      <th>5</th>\n      <td>6</td>\n      <td>Pteridophyta</td>\n      <td>LYCOPODIACEAE</td>\n      <td>Bushy Clubmoss</td>\n      <td>W00019</td>\n      <td>Lycopodium</td>\n      <td>deuterodensum</td>\n      <td></td>\n      <td>Lycopodium deuterodensum</td>\n      <td>NaN</td>\n      <td>E</td>\n      <td>NaN</td>\n      <td>NaN</td>\n      <td>NaN</td>\n      <td>NaN</td>\n      <td>NaN</td>\n      <td>1990-10-02</td>\n      <td>NaT</td>\n      <td>Lycopodium deuterodensum Herter</td>\n    </tr>\n    <tr>\n      <th>6</th>\n      <td>7</td>\n      <td>Pteridophyta</td>\n      <td>LYCOPODIACEAE</td>\n      <td>Pigmy Clubmoss</td>\n      <td>M00022</td>\n      <td>Phylloglossum</td>\n      <td>drummondii</td>\n      <td></td>\n      <td>Phylloglossum drummondii</td>\n      <td>NaN</td>\n      <td>R</td>\n      <td>NaN</td>\n      <td>NaN</td>\n      <td>NaN</td>\n      <td>NaN</td>\n      <td>NaN</td>\n      <td>1990-10-02</td>\n      <td>NaT</td>\n      <td>Phylloglossum drummondii Kunze</td>\n    </tr>\n    <tr>\n      <th>...</th>\n      <td>...</td>\n      <td>...</td>\n      <td>...</td>\n      <td>...</td>\n      <td>...</td>\n      <td>...</td>\n      <td>...</td>\n      <td>...</td>\n      <td>...</td>\n      <td>...</td>\n      <td>...</td>\n      <td>...</td>\n      <td>...</td>\n      <td>...</td>\n      <td>...</td>\n      <td>...</td>\n      <td>...</td>\n      <td>...</td>\n      <td>...</td>\n    </tr>\n    <tr>\n      <th>6148</th>\n      <td>6149</td>\n      <td>Angiospermae</td>\n      <td>ORCHIDACEAE</td>\n      <td>Spiral Sun-orchid</td>\n      <td>K00869</td>\n      <td>Thelymitra</td>\n      <td>matthewsii</td>\n      <td></td>\n      <td>Thelymitra matthewsii</td>\n      <td>NaN</td>\n      <td>E</td>\n      <td>NaN</td>\n      <td>VU</td>\n      <td>2000-07-16 00:00:00</td>\n      <td>NaN</td>\n      <td>NaN</td>\n      <td>1990-10-02</td>\n      <td>NaT</td>\n      <td>Thelymitra matthewsii Cheeseman</td>\n    </tr>\n    <tr>\n      <th>6154</th>\n      <td>6155</td>\n      <td>Angiospermae</td>\n      <td>ORCHIDACEAE</td>\n      <td>Azure Sun-orchid</td>\n      <td>S06033</td>\n      <td>Thelymitra</td>\n      <td>occidentalis</td>\n      <td></td>\n      <td>Thelymitra occidentalis</td>\n      <td>NaN</td>\n      <td>R</td>\n      <td>RA d(i)</td>\n      <td>NaN</td>\n      <td>NaN</td>\n      <td>NaN</td>\n      <td>NaN</td>\n      <td>2005-05-10</td>\n      <td>NaT</td>\n      <td>Thelymitra occidentalis Jeanes</td>\n    </tr>\n    <tr>\n      <th>6156</th>\n      <td>6157</td>\n      <td>Angiospermae</td>\n      <td>ORCHIDACEAE</td>\n      <td>Plum Sun-orchid</td>\n      <td>K32213</td>\n      <td>Thelymitra</td>\n      <td>orientalis</td>\n      <td></td>\n      <td>Thelymitra orientalis</td>\n      <td>NaN</td>\n      <td>R</td>\n      <td>NaN</td>\n      <td>NaN</td>\n      <td>NaN</td>\n      <td>NaN</td>\n      <td>NaN</td>\n      <td>2011-02-03</td>\n      <td>NaT</td>\n      <td>Thelymitra orientalis R.J.Bates</td>\n    </tr>\n    <tr>\n      <th>6160</th>\n      <td>6161</td>\n      <td>Angiospermae</td>\n      <td>ORCHIDACEAE</td>\n      <td>Blue Star Sun-orchid</td>\n      <td>S32209</td>\n      <td>Thelymitra</td>\n      <td>peniculata</td>\n      <td></td>\n      <td>Thelymitra peniculata</td>\n      <td>NaN</td>\n      <td>V</td>\n      <td>Warning: Conservation status data auto-copied ...</td>\n      <td>NaN</td>\n      <td>NaN</td>\n      <td>NaN</td>\n      <td>NaN</td>\n      <td>2011-02-02</td>\n      <td>NaT</td>\n      <td>Thelymitra peniculata Jeanes</td>\n    </tr>\n    <tr>\n      <th>6167</th>\n      <td>6168</td>\n      <td>Angiospermae</td>\n      <td>ORCHIDACEAE</td>\n      <td>NaN</td>\n      <td>Y03672</td>\n      <td>Thelymitra</td>\n      <td>merraniae</td>\n      <td></td>\n      <td>Thelymitra X merraniae</td>\n      <td>NaN</td>\n      <td>E</td>\n      <td>EN D, updated null to E, Apr 2007</td>\n      <td>NaN</td>\n      <td>NaN</td>\n      <td>NaN</td>\n      <td>NaN</td>\n      <td>1990-10-02</td>\n      <td>2005-05-10</td>\n      <td>Thelymitra X merraniae Nicholls</td>\n    </tr>\n  </tbody>\n</table>\n<p>791 rows × 19 columns</p>\n</div>"
     },
     "execution_count": 18,
     "metadata": {},
     "output_type": "execute_result"
    }
   ],
   "source": [
    "# flora = flora[flora['NPW ACT STATUS'].isin(['R','V','E','R*','V*','E*'])]\n",
    "# flora[\"status\"] = np.where(flora['NPW ACT STATUS'].str.startswith('E'),'Endangered',\n",
    "#                            np.where(flora['NPW ACT STATUS'].str.startswith('R'),'Rare',\n",
    "#                                     np.where(flora['NPW ACT STATUS'].str.startswith('V'),'Vulnerable','UNK')))\n",
    "flora = flora[flora['NPW ACT STATUS'].isin(['R','V','E'])]\n",
    "flora"
   ],
   "metadata": {
    "collapsed": false,
    "pycharm": {
     "name": "#%%\n"
    }
   }
  },
  {
   "cell_type": "code",
   "execution_count": 19,
   "outputs": [
    {
     "data": {
      "text/plain": "array(['E', 'R', 'V'], dtype=object)"
     },
     "execution_count": 19,
     "metadata": {},
     "output_type": "execute_result"
    }
   ],
   "source": [
    "flora['NPW ACT STATUS'].unique()\n"
   ],
   "metadata": {
    "collapsed": false,
    "pycharm": {
     "name": "#%%\n"
    }
   }
  },
  {
   "cell_type": "code",
   "execution_count": 20,
   "outputs": [
    {
     "data": {
      "text/plain": "      TEMPORARY TAXONOMIC SORT ORDER   MAJOR GROUP     FAMILYNAME  \\\n0                                  1  Pteridophyta    PSILOTACEAE   \n2                                  3  Pteridophyta  LYCOPODIACEAE   \n3                                  4  Pteridophyta  LYCOPODIACEAE   \n5                                  6  Pteridophyta  LYCOPODIACEAE   \n6                                  7  Pteridophyta  LYCOPODIACEAE   \n...                              ...           ...            ...   \n6148                            6149  Angiospermae    ORCHIDACEAE   \n6154                            6155  Angiospermae    ORCHIDACEAE   \n6156                            6157  Angiospermae    ORCHIDACEAE   \n6160                            6161  Angiospermae    ORCHIDACEAE   \n6167                            6168  Angiospermae    ORCHIDACEAE   \n\n               COMMON NAME NSXCODE          GENUS             SP SUBSPECIES  \\\n0       Skeleton Fork-fern  U05218       Psilotum          nudum              \n2         Slender Clubmoss  Y00020   Lycopodiella      lateralis              \n3             Bog Clubmoss  K00021   Lycopodiella     serpentina              \n5           Bushy Clubmoss  W00019     Lycopodium  deuterodensum              \n6           Pigmy Clubmoss  M00022  Phylloglossum     drummondii              \n...                    ...     ...            ...            ...        ...   \n6148     Spiral Sun-orchid  K00869     Thelymitra     matthewsii              \n6154      Azure Sun-orchid  S06033     Thelymitra   occidentalis              \n6156       Plum Sun-orchid  K32213     Thelymitra     orientalis              \n6160  Blue Star Sun-orchid  S32209     Thelymitra     peniculata              \n6167                   NaN  Y03672     Thelymitra      merraniae              \n\n               SCIENTIFIC NAME INTRODUCED NPW ACT STATUS  \\\n0               Psilotum nudum        NaN              E   \n2       Lycopodiella lateralis        NaN              R   \n3      Lycopodiella serpentina        NaN              E   \n5     Lycopodium deuterodensum        NaN              E   \n6     Phylloglossum drummondii        NaN              R   \n...                        ...        ...            ...   \n6148     Thelymitra matthewsii        NaN              E   \n6154   Thelymitra occidentalis        NaN              R   \n6156     Thelymitra orientalis        NaN              R   \n6160     Thelymitra peniculata        NaN              V   \n6167    Thelymitra X merraniae        NaN              E   \n\n                                 NPW ACT STATUS COMMENT EPBC ACT STATUS  \\\n0                   Currently Extinct in the wild in SA             NaN   \n2                                                   NaN             NaN   \n3                                                   NaN             NaN   \n5                                                   NaN             NaN   \n6                                                   NaN             NaN   \n...                                                 ...             ...   \n6148                                                NaN              VU   \n6154                                            RA d(i)             NaN   \n6156                                                NaN             NaN   \n6160  Warning: Conservation status data auto-copied ...             NaN   \n6167                  EN D, updated null to E, Apr 2007             NaN   \n\n     EPBC ACT STATUS COMMENT WEED OF NATIONAL SIGNIFICANCE  \\\n0                        NaN                           NaN   \n2                        NaN                           NaN   \n3                        NaN                           NaN   \n5                        NaN                           NaN   \n6                        NaN                           NaN   \n...                      ...                           ...   \n6148     2000-07-16 00:00:00                           NaN   \n6154                     NaN                           NaN   \n6156                     NaN                           NaN   \n6160                     NaN                           NaN   \n6167                     NaN                           NaN   \n\n     LANDSCAPE ACT Weed Status DATE CREATED IN BDBSA  \\\n0                          NaN            1992-11-13   \n2                          NaN            1990-10-02   \n3                          NaN            1990-10-02   \n5                          NaN            1990-10-02   \n6                          NaN            1990-10-02   \n...                        ...                   ...   \n6148                       NaN            1990-10-02   \n6154                       NaN            2005-05-10   \n6156                       NaN            2011-02-03   \n6160                       NaN            2011-02-02   \n6167                       NaN            1990-10-02   \n\n     DATE TAXONOMY MODIFIED IN BDBSA                     SPECIES with AUTHOR  \\\n0                                NaT             Psilotum nudum (L.)P.Beauv.   \n2                         1992-11-13   Lycopodiella lateralis (R.Br.)B.Ollg.   \n3                         1992-11-13  Lycopodiella serpentina (Kunze)B.Ollg.   \n5                                NaT         Lycopodium deuterodensum Herter   \n6                                NaT          Phylloglossum drummondii Kunze   \n...                              ...                                     ...   \n6148                             NaT         Thelymitra matthewsii Cheeseman   \n6154                             NaT          Thelymitra occidentalis Jeanes   \n6156                             NaT         Thelymitra orientalis R.J.Bates   \n6160                             NaT            Thelymitra peniculata Jeanes   \n6167                      2005-05-10         Thelymitra X merraniae Nicholls   \n\n          status  \n0     Endangered  \n2           Rare  \n3     Endangered  \n5     Endangered  \n6           Rare  \n...          ...  \n6148  Endangered  \n6154        Rare  \n6156        Rare  \n6160  Vulnerable  \n6167  Endangered  \n\n[791 rows x 20 columns]",
      "text/html": "<div>\n<style scoped>\n    .dataframe tbody tr th:only-of-type {\n        vertical-align: middle;\n    }\n\n    .dataframe tbody tr th {\n        vertical-align: top;\n    }\n\n    .dataframe thead th {\n        text-align: right;\n    }\n</style>\n<table border=\"1\" class=\"dataframe\">\n  <thead>\n    <tr style=\"text-align: right;\">\n      <th></th>\n      <th>TEMPORARY TAXONOMIC SORT ORDER</th>\n      <th>MAJOR GROUP</th>\n      <th>FAMILYNAME</th>\n      <th>COMMON NAME</th>\n      <th>NSXCODE</th>\n      <th>GENUS</th>\n      <th>SP</th>\n      <th>SUBSPECIES</th>\n      <th>SCIENTIFIC NAME</th>\n      <th>INTRODUCED</th>\n      <th>NPW ACT STATUS</th>\n      <th>NPW ACT STATUS COMMENT</th>\n      <th>EPBC ACT STATUS</th>\n      <th>EPBC ACT STATUS COMMENT</th>\n      <th>WEED OF NATIONAL SIGNIFICANCE</th>\n      <th>LANDSCAPE ACT Weed Status</th>\n      <th>DATE CREATED IN BDBSA</th>\n      <th>DATE TAXONOMY MODIFIED IN BDBSA</th>\n      <th>SPECIES with AUTHOR</th>\n      <th>status</th>\n    </tr>\n  </thead>\n  <tbody>\n    <tr>\n      <th>0</th>\n      <td>1</td>\n      <td>Pteridophyta</td>\n      <td>PSILOTACEAE</td>\n      <td>Skeleton Fork-fern</td>\n      <td>U05218</td>\n      <td>Psilotum</td>\n      <td>nudum</td>\n      <td></td>\n      <td>Psilotum nudum</td>\n      <td>NaN</td>\n      <td>E</td>\n      <td>Currently Extinct in the wild in SA</td>\n      <td>NaN</td>\n      <td>NaN</td>\n      <td>NaN</td>\n      <td>NaN</td>\n      <td>1992-11-13</td>\n      <td>NaT</td>\n      <td>Psilotum nudum (L.)P.Beauv.</td>\n      <td>Endangered</td>\n    </tr>\n    <tr>\n      <th>2</th>\n      <td>3</td>\n      <td>Pteridophyta</td>\n      <td>LYCOPODIACEAE</td>\n      <td>Slender Clubmoss</td>\n      <td>Y00020</td>\n      <td>Lycopodiella</td>\n      <td>lateralis</td>\n      <td></td>\n      <td>Lycopodiella lateralis</td>\n      <td>NaN</td>\n      <td>R</td>\n      <td>NaN</td>\n      <td>NaN</td>\n      <td>NaN</td>\n      <td>NaN</td>\n      <td>NaN</td>\n      <td>1990-10-02</td>\n      <td>1992-11-13</td>\n      <td>Lycopodiella lateralis (R.Br.)B.Ollg.</td>\n      <td>Rare</td>\n    </tr>\n    <tr>\n      <th>3</th>\n      <td>4</td>\n      <td>Pteridophyta</td>\n      <td>LYCOPODIACEAE</td>\n      <td>Bog Clubmoss</td>\n      <td>K00021</td>\n      <td>Lycopodiella</td>\n      <td>serpentina</td>\n      <td></td>\n      <td>Lycopodiella serpentina</td>\n      <td>NaN</td>\n      <td>E</td>\n      <td>NaN</td>\n      <td>NaN</td>\n      <td>NaN</td>\n      <td>NaN</td>\n      <td>NaN</td>\n      <td>1990-10-02</td>\n      <td>1992-11-13</td>\n      <td>Lycopodiella serpentina (Kunze)B.Ollg.</td>\n      <td>Endangered</td>\n    </tr>\n    <tr>\n      <th>5</th>\n      <td>6</td>\n      <td>Pteridophyta</td>\n      <td>LYCOPODIACEAE</td>\n      <td>Bushy Clubmoss</td>\n      <td>W00019</td>\n      <td>Lycopodium</td>\n      <td>deuterodensum</td>\n      <td></td>\n      <td>Lycopodium deuterodensum</td>\n      <td>NaN</td>\n      <td>E</td>\n      <td>NaN</td>\n      <td>NaN</td>\n      <td>NaN</td>\n      <td>NaN</td>\n      <td>NaN</td>\n      <td>1990-10-02</td>\n      <td>NaT</td>\n      <td>Lycopodium deuterodensum Herter</td>\n      <td>Endangered</td>\n    </tr>\n    <tr>\n      <th>6</th>\n      <td>7</td>\n      <td>Pteridophyta</td>\n      <td>LYCOPODIACEAE</td>\n      <td>Pigmy Clubmoss</td>\n      <td>M00022</td>\n      <td>Phylloglossum</td>\n      <td>drummondii</td>\n      <td></td>\n      <td>Phylloglossum drummondii</td>\n      <td>NaN</td>\n      <td>R</td>\n      <td>NaN</td>\n      <td>NaN</td>\n      <td>NaN</td>\n      <td>NaN</td>\n      <td>NaN</td>\n      <td>1990-10-02</td>\n      <td>NaT</td>\n      <td>Phylloglossum drummondii Kunze</td>\n      <td>Rare</td>\n    </tr>\n    <tr>\n      <th>...</th>\n      <td>...</td>\n      <td>...</td>\n      <td>...</td>\n      <td>...</td>\n      <td>...</td>\n      <td>...</td>\n      <td>...</td>\n      <td>...</td>\n      <td>...</td>\n      <td>...</td>\n      <td>...</td>\n      <td>...</td>\n      <td>...</td>\n      <td>...</td>\n      <td>...</td>\n      <td>...</td>\n      <td>...</td>\n      <td>...</td>\n      <td>...</td>\n      <td>...</td>\n    </tr>\n    <tr>\n      <th>6148</th>\n      <td>6149</td>\n      <td>Angiospermae</td>\n      <td>ORCHIDACEAE</td>\n      <td>Spiral Sun-orchid</td>\n      <td>K00869</td>\n      <td>Thelymitra</td>\n      <td>matthewsii</td>\n      <td></td>\n      <td>Thelymitra matthewsii</td>\n      <td>NaN</td>\n      <td>E</td>\n      <td>NaN</td>\n      <td>VU</td>\n      <td>2000-07-16 00:00:00</td>\n      <td>NaN</td>\n      <td>NaN</td>\n      <td>1990-10-02</td>\n      <td>NaT</td>\n      <td>Thelymitra matthewsii Cheeseman</td>\n      <td>Endangered</td>\n    </tr>\n    <tr>\n      <th>6154</th>\n      <td>6155</td>\n      <td>Angiospermae</td>\n      <td>ORCHIDACEAE</td>\n      <td>Azure Sun-orchid</td>\n      <td>S06033</td>\n      <td>Thelymitra</td>\n      <td>occidentalis</td>\n      <td></td>\n      <td>Thelymitra occidentalis</td>\n      <td>NaN</td>\n      <td>R</td>\n      <td>RA d(i)</td>\n      <td>NaN</td>\n      <td>NaN</td>\n      <td>NaN</td>\n      <td>NaN</td>\n      <td>2005-05-10</td>\n      <td>NaT</td>\n      <td>Thelymitra occidentalis Jeanes</td>\n      <td>Rare</td>\n    </tr>\n    <tr>\n      <th>6156</th>\n      <td>6157</td>\n      <td>Angiospermae</td>\n      <td>ORCHIDACEAE</td>\n      <td>Plum Sun-orchid</td>\n      <td>K32213</td>\n      <td>Thelymitra</td>\n      <td>orientalis</td>\n      <td></td>\n      <td>Thelymitra orientalis</td>\n      <td>NaN</td>\n      <td>R</td>\n      <td>NaN</td>\n      <td>NaN</td>\n      <td>NaN</td>\n      <td>NaN</td>\n      <td>NaN</td>\n      <td>2011-02-03</td>\n      <td>NaT</td>\n      <td>Thelymitra orientalis R.J.Bates</td>\n      <td>Rare</td>\n    </tr>\n    <tr>\n      <th>6160</th>\n      <td>6161</td>\n      <td>Angiospermae</td>\n      <td>ORCHIDACEAE</td>\n      <td>Blue Star Sun-orchid</td>\n      <td>S32209</td>\n      <td>Thelymitra</td>\n      <td>peniculata</td>\n      <td></td>\n      <td>Thelymitra peniculata</td>\n      <td>NaN</td>\n      <td>V</td>\n      <td>Warning: Conservation status data auto-copied ...</td>\n      <td>NaN</td>\n      <td>NaN</td>\n      <td>NaN</td>\n      <td>NaN</td>\n      <td>2011-02-02</td>\n      <td>NaT</td>\n      <td>Thelymitra peniculata Jeanes</td>\n      <td>Vulnerable</td>\n    </tr>\n    <tr>\n      <th>6167</th>\n      <td>6168</td>\n      <td>Angiospermae</td>\n      <td>ORCHIDACEAE</td>\n      <td>NaN</td>\n      <td>Y03672</td>\n      <td>Thelymitra</td>\n      <td>merraniae</td>\n      <td></td>\n      <td>Thelymitra X merraniae</td>\n      <td>NaN</td>\n      <td>E</td>\n      <td>EN D, updated null to E, Apr 2007</td>\n      <td>NaN</td>\n      <td>NaN</td>\n      <td>NaN</td>\n      <td>NaN</td>\n      <td>1990-10-02</td>\n      <td>2005-05-10</td>\n      <td>Thelymitra X merraniae Nicholls</td>\n      <td>Endangered</td>\n    </tr>\n  </tbody>\n</table>\n<p>791 rows × 20 columns</p>\n</div>"
     },
     "execution_count": 20,
     "metadata": {},
     "output_type": "execute_result"
    }
   ],
   "source": [
    "conservationCodesMapping = {\n",
    "    'E':'Endangered',\n",
    "    'R':'Rare',\n",
    "    'V':'Vulnerable'\n",
    "}\n",
    "flora['status'] = flora['NPW ACT STATUS'].str.strip().map(conservationCodesMapping).fillna(flora['NPW ACT STATUS'])\n",
    "flora"
   ],
   "metadata": {
    "collapsed": false,
    "pycharm": {
     "name": "#%%\n"
    }
   }
  },
  {
   "cell_type": "code",
   "execution_count": 21,
   "outputs": [
    {
     "data": {
      "text/plain": "array(['Endangered', 'Rare', 'Vulnerable'], dtype=object)"
     },
     "execution_count": 21,
     "metadata": {},
     "output_type": "execute_result"
    }
   ],
   "source": [
    "flora['status'].unique()"
   ],
   "metadata": {
    "collapsed": false,
    "pycharm": {
     "name": "#%%\n"
    }
   }
  },
  {
   "cell_type": "code",
   "execution_count": 22,
   "outputs": [
    {
     "data": {
      "text/plain": "                scientificName        vernacularName      status sourceStatus\n0               Psilotum nudum    Skeleton Fork-fern  Endangered            E\n2       Lycopodiella lateralis      Slender Clubmoss        Rare            R\n3      Lycopodiella serpentina          Bog Clubmoss  Endangered            E\n5     Lycopodium deuterodensum        Bushy Clubmoss  Endangered            E\n6     Phylloglossum drummondii        Pigmy Clubmoss        Rare            R\n...                        ...                   ...         ...          ...\n6148     Thelymitra matthewsii     Spiral Sun-orchid  Endangered            E\n6154   Thelymitra occidentalis      Azure Sun-orchid        Rare            R\n6156     Thelymitra orientalis       Plum Sun-orchid        Rare            R\n6160     Thelymitra peniculata  Blue Star Sun-orchid  Vulnerable            V\n6167    Thelymitra X merraniae                   NaN  Endangered            E\n\n[791 rows x 4 columns]",
      "text/html": "<div>\n<style scoped>\n    .dataframe tbody tr th:only-of-type {\n        vertical-align: middle;\n    }\n\n    .dataframe tbody tr th {\n        vertical-align: top;\n    }\n\n    .dataframe thead th {\n        text-align: right;\n    }\n</style>\n<table border=\"1\" class=\"dataframe\">\n  <thead>\n    <tr style=\"text-align: right;\">\n      <th></th>\n      <th>scientificName</th>\n      <th>vernacularName</th>\n      <th>status</th>\n      <th>sourceStatus</th>\n    </tr>\n  </thead>\n  <tbody>\n    <tr>\n      <th>0</th>\n      <td>Psilotum nudum</td>\n      <td>Skeleton Fork-fern</td>\n      <td>Endangered</td>\n      <td>E</td>\n    </tr>\n    <tr>\n      <th>2</th>\n      <td>Lycopodiella lateralis</td>\n      <td>Slender Clubmoss</td>\n      <td>Rare</td>\n      <td>R</td>\n    </tr>\n    <tr>\n      <th>3</th>\n      <td>Lycopodiella serpentina</td>\n      <td>Bog Clubmoss</td>\n      <td>Endangered</td>\n      <td>E</td>\n    </tr>\n    <tr>\n      <th>5</th>\n      <td>Lycopodium deuterodensum</td>\n      <td>Bushy Clubmoss</td>\n      <td>Endangered</td>\n      <td>E</td>\n    </tr>\n    <tr>\n      <th>6</th>\n      <td>Phylloglossum drummondii</td>\n      <td>Pigmy Clubmoss</td>\n      <td>Rare</td>\n      <td>R</td>\n    </tr>\n    <tr>\n      <th>...</th>\n      <td>...</td>\n      <td>...</td>\n      <td>...</td>\n      <td>...</td>\n    </tr>\n    <tr>\n      <th>6148</th>\n      <td>Thelymitra matthewsii</td>\n      <td>Spiral Sun-orchid</td>\n      <td>Endangered</td>\n      <td>E</td>\n    </tr>\n    <tr>\n      <th>6154</th>\n      <td>Thelymitra occidentalis</td>\n      <td>Azure Sun-orchid</td>\n      <td>Rare</td>\n      <td>R</td>\n    </tr>\n    <tr>\n      <th>6156</th>\n      <td>Thelymitra orientalis</td>\n      <td>Plum Sun-orchid</td>\n      <td>Rare</td>\n      <td>R</td>\n    </tr>\n    <tr>\n      <th>6160</th>\n      <td>Thelymitra peniculata</td>\n      <td>Blue Star Sun-orchid</td>\n      <td>Vulnerable</td>\n      <td>V</td>\n    </tr>\n    <tr>\n      <th>6167</th>\n      <td>Thelymitra X merraniae</td>\n      <td>NaN</td>\n      <td>Endangered</td>\n      <td>E</td>\n    </tr>\n  </tbody>\n</table>\n<p>791 rows × 4 columns</p>\n</div>"
     },
     "execution_count": 22,
     "metadata": {},
     "output_type": "execute_result"
    }
   ],
   "source": [
    "flora = flora.rename(columns=\n",
    "{   'COMMON NAME':'vernacularName',\n",
    "    'SCIENTIFIC NAME':'scientificName',\n",
    "    'NPW ACT STATUS':'sourceStatus'\n",
    "})\n",
    "flora = flora.loc[:, ['scientificName', 'vernacularName', 'status', 'sourceStatus']]\n",
    "flora"
   ],
   "metadata": {
    "collapsed": false,
    "pycharm": {
     "name": "#%%\n"
    }
   }
  },
  {
   "cell_type": "code",
   "execution_count": 23,
   "outputs": [
    {
     "data": {
      "text/plain": "Index(['scientificName', 'vernacularName', 'status', 'sourceStatus'], dtype='object')"
     },
     "execution_count": 23,
     "metadata": {},
     "output_type": "execute_result"
    }
   ],
   "source": [
    "flora.columns\n"
   ],
   "metadata": {
    "collapsed": false,
    "pycharm": {
     "name": "#%%\n"
    }
   }
  },
  {
   "cell_type": "markdown",
   "source": [
    "### Concatenate Fauna and Flora, remove null statuses"
   ],
   "metadata": {
    "collapsed": false,
    "pycharm": {
     "name": "#%% md\n"
    }
   }
  },
  {
   "cell_type": "code",
   "execution_count": null,
   "outputs": [],
   "source": [
    "conservationlist= pd.concat([fauna,flora])\n",
    "conservationlist = conservationlist[((conservationlist['status'].notna()))]\n",
    "conservationlist"
   ],
   "metadata": {
    "collapsed": false,
    "pycharm": {
     "name": "#%%\n"
    }
   }
  },
  {
   "cell_type": "markdown",
   "source": [
    "### Map statuses of merged file - if required"
   ],
   "metadata": {
    "collapsed": false,
    "pycharm": {
     "name": "#%% md\n"
    }
   }
  },
  {
   "cell_type": "code",
   "execution_count": 25,
   "outputs": [
    {
     "data": {
      "text/plain": "array(['Endangered', 'Vulnerable', 'Rare'], dtype=object)"
     },
     "execution_count": 25,
     "metadata": {},
     "output_type": "execute_result"
    }
   ],
   "source": [
    "# state = 'SA'\n",
    "# fname = statusDir + state + \"-codes.csv\"\n",
    "# saconservation = lf.map_status(state, fname, saconservation)\n",
    "conservationlist['status'].unique()"
   ],
   "metadata": {
    "collapsed": false,
    "pycharm": {
     "name": "#%%\n"
    }
   }
  },
  {
   "cell_type": "markdown",
   "source": [
    "### Write dataframe to CSV"
   ],
   "metadata": {
    "collapsed": false,
    "pycharm": {
     "name": "#%% md\n"
    }
   }
  },
  {
   "cell_type": "code",
   "execution_count": 27,
   "outputs": [],
   "source": [
    "conservationlist.to_csv(projectDir + cdataDir + \"SA-conservation-20230505.csv\",  encoding=\"UTF-8\", index=False)"
   ],
   "metadata": {
    "collapsed": false,
    "pycharm": {
     "name": "#%%\n"
    }
   }
  },
  {
   "cell_type": "markdown",
   "source": [
    "## Sensitive List\n",
    "Source Data: https://data.environment.sa.gov.au/Content/Publications/DEW_SAEnvironmentallySensitiveDataREGISTER.xls"
   ],
   "metadata": {
    "collapsed": false,
    "pycharm": {
     "name": "#%% md\n"
    }
   }
  },
  {
   "cell_type": "code",
   "execution_count": 13,
   "outputs": [
    {
     "data": {
      "text/plain": "    Date Listed Fauna/Flora SPECIESTYPE Sub Grouping  \\\n0      May 2013       Fauna       Birds     Cockatoo   \n1      May 2013       Fauna       Birds     Cockatoo   \n2      Feb 2021       Fauna       Birds     Cockatoo   \n3      Feb 2021       Fauna       Birds     Cockatoo   \n4      May 2013       Fauna       Birds     Cockatoo   \n..          ...         ...         ...          ...   \n217         NaN         NaN         NaN          NaN   \n218         NaN         NaN         NaN          NaN   \n219         NaN         NaN         NaN          NaN   \n220         NaN         NaN         NaN          NaN   \n221         NaN         NaN         NaN          NaN   \n\n    SA Species Code (NSXCODE)                               SPECIES  \\\n0                      Y09312    Calyptorhynchus banksii graptogyne   \n1                      C00265  Calyptorhynchus lathami halmaturinus   \n2                      S21049    Lophochroa leadbeateri leadbeateri   \n3                      E21050         Lophochroa leadbeateri mollis   \n4                      G00267                 Zanda funerea whiteae   \n..                        ...                                   ...   \n217                       NaN                                   NaN   \n218                       NaN                                   NaN   \n219                       NaN                                   NaN   \n220                       NaN                                   NaN   \n221                       NaN                                   NaN   \n\n                                           COMMON NAME  \\\n0               Red-tailed Black Cockatoo (south-east)   \n1    Glossy Black-Cockatoo (Kangaroo Island subspec...   \n2                  Major Mitchell's Cockatoo (LNE, MM)   \n3                   Major Mitchell's Cockatoo (NW, EP)   \n4                         Yellow-tailed Black Cockatoo   \n..                                                 ...   \n217                                                NaN   \n218                                                NaN   \n219                                                NaN   \n220                                                NaN   \n221                                                NaN   \n\n                   Clarifier  \n0    nesting related records  \n1    nesting related records  \n2    nesting related records  \n3    nesting related records  \n4    nesting related records  \n..                       ...  \n217                      NaN  \n218                      NaN  \n219                      NaN  \n220                      NaN  \n221                      NaN  \n\n[222 rows x 8 columns]",
      "text/html": "<div>\n<style scoped>\n    .dataframe tbody tr th:only-of-type {\n        vertical-align: middle;\n    }\n\n    .dataframe tbody tr th {\n        vertical-align: top;\n    }\n\n    .dataframe thead th {\n        text-align: right;\n    }\n</style>\n<table border=\"1\" class=\"dataframe\">\n  <thead>\n    <tr style=\"text-align: right;\">\n      <th></th>\n      <th>Date Listed</th>\n      <th>Fauna/Flora</th>\n      <th>SPECIESTYPE</th>\n      <th>Sub Grouping</th>\n      <th>SA Species Code (NSXCODE)</th>\n      <th>SPECIES</th>\n      <th>COMMON NAME</th>\n      <th>Clarifier</th>\n    </tr>\n  </thead>\n  <tbody>\n    <tr>\n      <th>0</th>\n      <td>May 2013</td>\n      <td>Fauna</td>\n      <td>Birds</td>\n      <td>Cockatoo</td>\n      <td>Y09312</td>\n      <td>Calyptorhynchus banksii graptogyne</td>\n      <td>Red-tailed Black Cockatoo (south-east)</td>\n      <td>nesting related records</td>\n    </tr>\n    <tr>\n      <th>1</th>\n      <td>May 2013</td>\n      <td>Fauna</td>\n      <td>Birds</td>\n      <td>Cockatoo</td>\n      <td>C00265</td>\n      <td>Calyptorhynchus lathami halmaturinus</td>\n      <td>Glossy Black-Cockatoo (Kangaroo Island subspec...</td>\n      <td>nesting related records</td>\n    </tr>\n    <tr>\n      <th>2</th>\n      <td>Feb 2021</td>\n      <td>Fauna</td>\n      <td>Birds</td>\n      <td>Cockatoo</td>\n      <td>S21049</td>\n      <td>Lophochroa leadbeateri leadbeateri</td>\n      <td>Major Mitchell's Cockatoo (LNE, MM)</td>\n      <td>nesting related records</td>\n    </tr>\n    <tr>\n      <th>3</th>\n      <td>Feb 2021</td>\n      <td>Fauna</td>\n      <td>Birds</td>\n      <td>Cockatoo</td>\n      <td>E21050</td>\n      <td>Lophochroa leadbeateri mollis</td>\n      <td>Major Mitchell's Cockatoo (NW, EP)</td>\n      <td>nesting related records</td>\n    </tr>\n    <tr>\n      <th>4</th>\n      <td>May 2013</td>\n      <td>Fauna</td>\n      <td>Birds</td>\n      <td>Cockatoo</td>\n      <td>G00267</td>\n      <td>Zanda funerea whiteae</td>\n      <td>Yellow-tailed Black Cockatoo</td>\n      <td>nesting related records</td>\n    </tr>\n    <tr>\n      <th>...</th>\n      <td>...</td>\n      <td>...</td>\n      <td>...</td>\n      <td>...</td>\n      <td>...</td>\n      <td>...</td>\n      <td>...</td>\n      <td>...</td>\n    </tr>\n    <tr>\n      <th>217</th>\n      <td>NaN</td>\n      <td>NaN</td>\n      <td>NaN</td>\n      <td>NaN</td>\n      <td>NaN</td>\n      <td>NaN</td>\n      <td>NaN</td>\n      <td>NaN</td>\n    </tr>\n    <tr>\n      <th>218</th>\n      <td>NaN</td>\n      <td>NaN</td>\n      <td>NaN</td>\n      <td>NaN</td>\n      <td>NaN</td>\n      <td>NaN</td>\n      <td>NaN</td>\n      <td>NaN</td>\n    </tr>\n    <tr>\n      <th>219</th>\n      <td>NaN</td>\n      <td>NaN</td>\n      <td>NaN</td>\n      <td>NaN</td>\n      <td>NaN</td>\n      <td>NaN</td>\n      <td>NaN</td>\n      <td>NaN</td>\n    </tr>\n    <tr>\n      <th>220</th>\n      <td>NaN</td>\n      <td>NaN</td>\n      <td>NaN</td>\n      <td>NaN</td>\n      <td>NaN</td>\n      <td>NaN</td>\n      <td>NaN</td>\n      <td>NaN</td>\n    </tr>\n    <tr>\n      <th>221</th>\n      <td>NaN</td>\n      <td>NaN</td>\n      <td>NaN</td>\n      <td>NaN</td>\n      <td>NaN</td>\n      <td>NaN</td>\n      <td>NaN</td>\n      <td>NaN</td>\n    </tr>\n  </tbody>\n</table>\n<p>222 rows × 8 columns</p>\n</div>"
     },
     "execution_count": 13,
     "metadata": {},
     "output_type": "execute_result"
    }
   ],
   "source": [
    "import xlrd\n",
    "# sasensitive = pd.read_excel(\"~/IdeaProjects/authoritative-lists/source-data/SA/DEW_SAEnvironmentallySensitiveDataREGISTER.xls\")\n",
    "\n",
    "# Edit record changed date:\n",
    "# from May2018 to May 2018 to be consistent for conversion\n",
    "# from Feb-2020 to Feb 2020 to be consistent for conversion\n",
    "\n",
    "# sensitivelist = pd.read_excel(projectDir + sourceData + \"DEW_SAEnvironmentallySensitiveDataREGISTER.xls\")\n",
    "sensitivelist = pd.read_csv(projectDir + sourceData + \"DEW_SAEnvironmentallySensitiveDataREGISTER.csv\", dtype=\"str\")\n",
    "sensitivelist"
   ],
   "metadata": {
    "collapsed": false,
    "pycharm": {
     "name": "#%%\n"
    }
   }
  },
  {
   "cell_type": "code",
   "execution_count": 14,
   "outputs": [],
   "source": [
    "sensitivelist = sensitivelist[['SPECIES', 'COMMON NAME']]"
   ],
   "metadata": {
    "collapsed": false,
    "pycharm": {
     "name": "#%%\n"
    }
   }
  },
  {
   "cell_type": "code",
   "execution_count": 15,
   "outputs": [
    {
     "data": {
      "text/plain": "                           scientificName  \\\n0      Calyptorhynchus banksii graptogyne   \n1    Calyptorhynchus lathami halmaturinus   \n2      Lophochroa leadbeateri leadbeateri   \n3           Lophochroa leadbeateri mollis   \n4                   Zanda funerea whiteae   \n..                                    ...   \n217                                   NaN   \n218                                   NaN   \n219                                   NaN   \n220                                   NaN   \n221                                   NaN   \n\n                                        vernacularName generalisation  \n0               Red-tailed Black Cockatoo (south-east)          10 km  \n1    Glossy Black-Cockatoo (Kangaroo Island subspec...          10 km  \n2                  Major Mitchell's Cockatoo (LNE, MM)          10 km  \n3                   Major Mitchell's Cockatoo (NW, EP)          10 km  \n4                         Yellow-tailed Black Cockatoo          10 km  \n..                                                 ...            ...  \n217                                                NaN          10 km  \n218                                                NaN          10 km  \n219                                                NaN          10 km  \n220                                                NaN          10 km  \n221                                                NaN          10 km  \n\n[222 rows x 3 columns]",
      "text/html": "<div>\n<style scoped>\n    .dataframe tbody tr th:only-of-type {\n        vertical-align: middle;\n    }\n\n    .dataframe tbody tr th {\n        vertical-align: top;\n    }\n\n    .dataframe thead th {\n        text-align: right;\n    }\n</style>\n<table border=\"1\" class=\"dataframe\">\n  <thead>\n    <tr style=\"text-align: right;\">\n      <th></th>\n      <th>scientificName</th>\n      <th>vernacularName</th>\n      <th>generalisation</th>\n    </tr>\n  </thead>\n  <tbody>\n    <tr>\n      <th>0</th>\n      <td>Calyptorhynchus banksii graptogyne</td>\n      <td>Red-tailed Black Cockatoo (south-east)</td>\n      <td>10 km</td>\n    </tr>\n    <tr>\n      <th>1</th>\n      <td>Calyptorhynchus lathami halmaturinus</td>\n      <td>Glossy Black-Cockatoo (Kangaroo Island subspec...</td>\n      <td>10 km</td>\n    </tr>\n    <tr>\n      <th>2</th>\n      <td>Lophochroa leadbeateri leadbeateri</td>\n      <td>Major Mitchell's Cockatoo (LNE, MM)</td>\n      <td>10 km</td>\n    </tr>\n    <tr>\n      <th>3</th>\n      <td>Lophochroa leadbeateri mollis</td>\n      <td>Major Mitchell's Cockatoo (NW, EP)</td>\n      <td>10 km</td>\n    </tr>\n    <tr>\n      <th>4</th>\n      <td>Zanda funerea whiteae</td>\n      <td>Yellow-tailed Black Cockatoo</td>\n      <td>10 km</td>\n    </tr>\n    <tr>\n      <th>...</th>\n      <td>...</td>\n      <td>...</td>\n      <td>...</td>\n    </tr>\n    <tr>\n      <th>217</th>\n      <td>NaN</td>\n      <td>NaN</td>\n      <td>10 km</td>\n    </tr>\n    <tr>\n      <th>218</th>\n      <td>NaN</td>\n      <td>NaN</td>\n      <td>10 km</td>\n    </tr>\n    <tr>\n      <th>219</th>\n      <td>NaN</td>\n      <td>NaN</td>\n      <td>10 km</td>\n    </tr>\n    <tr>\n      <th>220</th>\n      <td>NaN</td>\n      <td>NaN</td>\n      <td>10 km</td>\n    </tr>\n    <tr>\n      <th>221</th>\n      <td>NaN</td>\n      <td>NaN</td>\n      <td>10 km</td>\n    </tr>\n  </tbody>\n</table>\n<p>222 rows × 3 columns</p>\n</div>"
     },
     "execution_count": 15,
     "metadata": {},
     "output_type": "execute_result"
    }
   ],
   "source": [
    "sensitivelist = sensitivelist.rename(columns=\n",
    "{\n",
    "    'SPECIES':'scientificName',\n",
    "    'COMMON NAME':'vernacularName',\n",
    "})\n",
    "sensitivelist['generalisation'] =\"10 km\"\n",
    "\n",
    "sensitivelist"
   ],
   "metadata": {
    "collapsed": false,
    "pycharm": {
     "name": "#%%\n"
    }
   }
  },
  {
   "cell_type": "markdown",
   "source": [
    "Write dataframe to CSV"
   ],
   "metadata": {
    "collapsed": false,
    "pycharm": {
     "name": "#%% md\n"
    }
   }
  },
  {
   "cell_type": "code",
   "execution_count": 16,
   "outputs": [],
   "source": [
    "# sasensitive.to_csv(\"~/IdeaProjects/authoritative-lists/current-lists/sensitive-lists/SA-sensitive.csv\",encoding=\"UTF-8\",index=False)\n",
    "sensitivelist.to_csv(projectDir + sdataDir + \"SA-sensitive.csv\", encoding=\"UTF-8\", index=False)\n"
   ],
   "metadata": {
    "collapsed": false,
    "pycharm": {
     "name": "#%%\n"
    }
   }
  },
  {
   "cell_type": "markdown",
   "source": [],
   "metadata": {
    "collapsed": false,
    "pycharm": {
     "name": "#%% md\n"
    }
   }
  },
  {
   "cell_type": "markdown",
   "source": [
    "# Manual List check\n",
    "\n",
    "**Instructions**\n",
    "1. Load the lists above into the lists-test tool\n",
    "2. Check the list name matching score and the text appearance on species pages\n",
    "3. Unskip the code below and Run the reports below to compare to production. Send the changelog.csv to check. Correct any issues.\n",
    "4. Save the production list into the `historical lists` directory by uncommenting the code section below.\n",
    "5. Load the lists into production"
   ],
   "metadata": {
    "collapsed": false,
    "pycharm": {
     "name": "#%% md\n"
    }
   }
  },
  {
   "cell_type": "markdown",
   "source": [
    "### Conservation List - Download old and new and compare"
   ],
   "metadata": {
    "collapsed": false,
    "pycharm": {
     "name": "#%% md\n"
    }
   }
  },
  {
   "cell_type": "code",
   "execution_count": null,
   "outputs": [],
   "source": [
    "%%script echo skipping # comment this line to run this code\n",
    "import datetime\n",
    "monthStr = datetime.datetime.now().strftime('%Y%m')"
   ],
   "metadata": {
    "collapsed": false,
    "pycharm": {
     "name": "#%%\n"
    }
   }
  },
  {
   "cell_type": "code",
   "execution_count": null,
   "outputs": [],
   "source": [
    "%%script echo skipping # comment this line to do a list check between test and production and save the changelog\n",
    "\n",
    "ltype = \"C\"\n",
    "# conservation\n",
    "filename = \"SA-conservation.csv\"\n",
    "prodListUrl = lf.build_list_url(\"dr653\")\n",
    "testListUrl = lf.build_list_url(\"dr653\")\n",
    "\n",
    "changelist = lf.get_changelist(testListUrl, prodListUrl, ltype)\n",
    "# save the lists locally\n",
    "changelist.to_csv(projectDir + \"analysis/change-log/\" + monthStr + \"-\" + filename, encoding=\"UTF-8\", index=False)\n",
    "changelist"
   ],
   "metadata": {
    "collapsed": false,
    "pycharm": {
     "name": "#%%\n"
    }
   }
  },
  {
   "cell_type": "markdown",
   "source": [
    "### Download Production lists to Historical Lists directory"
   ],
   "metadata": {
    "collapsed": false,
    "pycharm": {
     "name": "#%% md\n"
    }
   }
  },
  {
   "cell_type": "code",
   "execution_count": null,
   "outputs": [],
   "source": [
    "%%script echo skipping # comment this line to do a list check between test and production and save the changelog\n",
    "\n",
    "prodList = lf.download_ala_list(prodListUrl)  # save the prod list to the historical lists directory\n",
    "prodList = lf.kvp_to_columns(prodList)\n",
    "prodList.to_csv(projectDir + \"historical-lists/conservation/\" + filename, encoding=\"UTF-8\", index=False)\n",
    "print('Finished downloading historical list')"
   ],
   "metadata": {
    "collapsed": false,
    "pycharm": {
     "name": "#%%\n"
    }
   }
  },
  {
   "cell_type": "markdown",
   "source": [
    "### Sensitive List - Download old and new and compare"
   ],
   "metadata": {
    "collapsed": false,
    "pycharm": {
     "name": "#%% md\n"
    }
   }
  },
  {
   "cell_type": "code",
   "execution_count": 3,
   "outputs": [
    {
     "data": {
      "text/plain": "                                        name  \\\n1       Calyptorhynchus lathami halmaturinus   \n7                     Lophochroa leadbeateri   \n9                         Neophema splendida   \n10               Pandion haliaetus cristatus   \n13                     Zanda funerea whiteae   \n..                                       ...   \n245              Diuris behrii subsp. behrii   \n246    Ixodia achillaeoides subsp. arenicola   \n247  Asplenium bulbiferum subsp. gracillimum   \n248                     Asplenium bulbiferum   \n251                    Polytelis anthopeplus   \n\n                                        commonName_new  \\\n1    Glossy Black-cockatoo (kangaroo Island Subspec...   \n7                            Major Mitchell's Cockatoo   \n9                               Scarlet-chested Parrot   \n10                                           Fish Hawk   \n13                        Yellow-tailed Black Cockatoo   \n..                                                 ...   \n245                                                NaN   \n246                                                NaN   \n247                                                NaN   \n248                                                NaN   \n251                                                NaN   \n\n                                    scientificName_new listUpdate  \\\n1    Calyptorhynchus (Calyptorhynchus) lathami halm...      added   \n7                               Lophochroa leadbeateri      added   \n9                        Neophema (Neophema) splendida      added   \n10                         Pandion haliaetus cristatus      added   \n13                               Zanda funerea whiteae      added   \n..                                                 ...        ...   \n245                                                NaN    removed   \n246                                                NaN    removed   \n247                                                NaN    removed   \n248                                                NaN    removed   \n251                                                NaN    removed   \n\n        commonName_old                       scientificName_old  \n1                  NaN                                      NaN  \n7                  NaN                                      NaN  \n9                  NaN                                      NaN  \n10                 NaN                                      NaN  \n13                 NaN                                      NaN  \n..                 ...                                      ...  \n245               None              Diuris behrii subsp. behrii  \n246               None    Ixodia achillaeoides subsp. arenicola  \n247  Mother Spleenwort  Asplenium bulbiferum subsp. gracillimum  \n248   Hen And Chickens                     Asplenium bulbiferum  \n251      Regent Parrot                    Polytelis anthopeplus  \n\n[83 rows x 6 columns]",
      "text/html": "<div>\n<style scoped>\n    .dataframe tbody tr th:only-of-type {\n        vertical-align: middle;\n    }\n\n    .dataframe tbody tr th {\n        vertical-align: top;\n    }\n\n    .dataframe thead th {\n        text-align: right;\n    }\n</style>\n<table border=\"1\" class=\"dataframe\">\n  <thead>\n    <tr style=\"text-align: right;\">\n      <th></th>\n      <th>name</th>\n      <th>commonName_new</th>\n      <th>scientificName_new</th>\n      <th>listUpdate</th>\n      <th>commonName_old</th>\n      <th>scientificName_old</th>\n    </tr>\n  </thead>\n  <tbody>\n    <tr>\n      <th>1</th>\n      <td>Calyptorhynchus lathami halmaturinus</td>\n      <td>Glossy Black-cockatoo (kangaroo Island Subspec...</td>\n      <td>Calyptorhynchus (Calyptorhynchus) lathami halm...</td>\n      <td>added</td>\n      <td>NaN</td>\n      <td>NaN</td>\n    </tr>\n    <tr>\n      <th>7</th>\n      <td>Lophochroa leadbeateri</td>\n      <td>Major Mitchell's Cockatoo</td>\n      <td>Lophochroa leadbeateri</td>\n      <td>added</td>\n      <td>NaN</td>\n      <td>NaN</td>\n    </tr>\n    <tr>\n      <th>9</th>\n      <td>Neophema splendida</td>\n      <td>Scarlet-chested Parrot</td>\n      <td>Neophema (Neophema) splendida</td>\n      <td>added</td>\n      <td>NaN</td>\n      <td>NaN</td>\n    </tr>\n    <tr>\n      <th>10</th>\n      <td>Pandion haliaetus cristatus</td>\n      <td>Fish Hawk</td>\n      <td>Pandion haliaetus cristatus</td>\n      <td>added</td>\n      <td>NaN</td>\n      <td>NaN</td>\n    </tr>\n    <tr>\n      <th>13</th>\n      <td>Zanda funerea whiteae</td>\n      <td>Yellow-tailed Black Cockatoo</td>\n      <td>Zanda funerea whiteae</td>\n      <td>added</td>\n      <td>NaN</td>\n      <td>NaN</td>\n    </tr>\n    <tr>\n      <th>...</th>\n      <td>...</td>\n      <td>...</td>\n      <td>...</td>\n      <td>...</td>\n      <td>...</td>\n      <td>...</td>\n    </tr>\n    <tr>\n      <th>245</th>\n      <td>Diuris behrii subsp. behrii</td>\n      <td>NaN</td>\n      <td>NaN</td>\n      <td>removed</td>\n      <td>None</td>\n      <td>Diuris behrii subsp. behrii</td>\n    </tr>\n    <tr>\n      <th>246</th>\n      <td>Ixodia achillaeoides subsp. arenicola</td>\n      <td>NaN</td>\n      <td>NaN</td>\n      <td>removed</td>\n      <td>None</td>\n      <td>Ixodia achillaeoides subsp. arenicola</td>\n    </tr>\n    <tr>\n      <th>247</th>\n      <td>Asplenium bulbiferum subsp. gracillimum</td>\n      <td>NaN</td>\n      <td>NaN</td>\n      <td>removed</td>\n      <td>Mother Spleenwort</td>\n      <td>Asplenium bulbiferum subsp. gracillimum</td>\n    </tr>\n    <tr>\n      <th>248</th>\n      <td>Asplenium bulbiferum</td>\n      <td>NaN</td>\n      <td>NaN</td>\n      <td>removed</td>\n      <td>Hen And Chickens</td>\n      <td>Asplenium bulbiferum</td>\n    </tr>\n    <tr>\n      <th>251</th>\n      <td>Polytelis anthopeplus</td>\n      <td>NaN</td>\n      <td>NaN</td>\n      <td>removed</td>\n      <td>Regent Parrot</td>\n      <td>Polytelis anthopeplus</td>\n    </tr>\n  </tbody>\n</table>\n<p>83 rows × 6 columns</p>\n</div>"
     },
     "execution_count": 3,
     "metadata": {},
     "output_type": "execute_result"
    }
   ],
   "source": [
    "# %%script echo skipping # comment this line to run this code\n",
    "ltype = \"S\"\n",
    "filename = \"SA-sensitive.csv\"\n",
    "prodListUrl = lf.build_list_url(\"dr884\")\n",
    "testListUrl = lf.build_list_url(\"dr18706\")\n",
    "changelist = lf.get_changelist(testListUrl, prodListUrl, ltype)\n",
    "# save the lists locally\n",
    "changelist.to_csv(projectDir + \"analysis/change-log/\" + monthStr + \"-\" + filename, encoding=\"UTF-8\", index=False)\n",
    "changelist"
   ],
   "metadata": {
    "collapsed": false,
    "pycharm": {
     "name": "#%%\n"
    }
   }
  },
  {
   "cell_type": "markdown",
   "source": [
    "### Download Production lists to Historical Lists directory"
   ],
   "metadata": {
    "collapsed": false,
    "pycharm": {
     "name": "#%% md\n"
    }
   }
  },
  {
   "cell_type": "code",
   "execution_count": null,
   "outputs": [],
   "source": [
    "%%script echo skipping # comment this line to do a list check between test and production and save the changelog\n",
    "\n",
    "prodList = lf.download_ala_list(prodListUrl) # save the prod list to the historical lists directory\n",
    "prodList = lf.kvp_to_columns(prodList)\n",
    "prodList.to_csv(projectDir + \"historical-lists/sensitive/\" + filename, encoding=\"UTF-8\", index=False)\n",
    "print('Finished downloading historical list')"
   ],
   "metadata": {
    "collapsed": false,
    "pycharm": {
     "name": "#%%\n"
    }
   }
  }
 ],
 "metadata": {
  "kernelspec": {
   "display_name": "Python 3",
   "language": "python",
   "name": "python3"
  },
  "language_info": {
   "codemirror_mode": {
    "name": "ipython",
    "version": 2
   },
   "file_extension": ".py",
   "mimetype": "text/x-python",
   "name": "python",
   "nbconvert_exporter": "python",
   "pygments_lexer": "ipython2",
   "version": "2.7.6"
  }
 },
 "nbformat": 4,
 "nbformat_minor": 0
}