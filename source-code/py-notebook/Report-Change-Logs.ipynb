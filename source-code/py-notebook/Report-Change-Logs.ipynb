{
 "cells": [
  {
   "cell_type": "markdown",
   "source": [
    "# Change Log Report - Manual List check\n",
    "\n",
    "**Instructions**\n",
    "\n",
    "1. Load the lists above into the lists-test tool\n",
    "2. Check the list name matching score and the text appearance on species pages\n",
    "3. Unskip the below code and Run the reports below to compare to production. Send the changelog.csv to check. Correct any issues.\n",
    "4. Save the production list into the `historical lists` directory by uncommenting the code section below.\n",
    "5. Load the lists into production\n",
    "\n",
    "Compare Test and Production data for:\n",
    "\n",
    "    1. Conservation lists\n",
    "    2. Sensitive lists\n",
    "\n",
    "Output change log files to : ..\\authoritative-lists\\analysis\\change-log\n",
    "\n"
   ],
   "metadata": {
    "collapsed": false,
    "pycharm": {
     "name": "#%% md\n"
    }
   }
  },
  {
   "cell_type": "code",
   "execution_count": 5,
   "outputs": [],
   "source": [
    "projectdir = \"/Users/oco115/PycharmProjects/authoritative-lists/\"\n",
    "changedir = \"analysis/change-log/\"\n",
    "import datetime\n",
    "import os\n",
    "import sys\n",
    "sys.path.append(os.path.abspath(projectdir + \"source-code/includes\"))\n",
    "monthStr = datetime.datetime.now().strftime('%Y%m%d')\n",
    "import list_functions as lf"
   ],
   "metadata": {
    "collapsed": false,
    "pycharm": {
     "name": "#%%\n"
    }
   }
  },
  {
   "cell_type": "markdown",
   "source": [
    "## Conservation Lists"
   ],
   "metadata": {
    "collapsed": false,
    "pycharm": {
     "name": "#%% md\n"
    }
   }
  },
  {
   "cell_type": "code",
   "execution_count": 3,
   "outputs": [],
   "source": [
    "ltype=\"C\""
   ],
   "metadata": {
    "collapsed": false,
    "pycharm": {
     "name": "#%%\n"
    }
   }
  },
  {
   "cell_type": "code",
   "execution_count": null,
   "outputs": [],
   "source": [
    "# ACT Conservation\n",
    "filename = \"ACT-conservation.csv\"\n",
    "testdr = \"dr649\"\n",
    "proddr = \"dr649\"\n",
    "changelist = lf.get_changelist(testdr, proddr, ltype)\n",
    "changelist.to_csv(projectdir + changedir + monthStr + \"-\" + filename, encoding=\"UTF-8\", index=False)\n",
    "changelist"
   ],
   "metadata": {
    "collapsed": false,
    "pycharm": {
     "name": "#%%\n"
    }
   }
  },
  {
   "cell_type": "code",
   "execution_count": 6,
   "outputs": [
    {
     "name": "stdout",
     "output_type": "stream",
     "text": [
      "get_changelist: Test -  dr656 Prod -  dr656\n",
      "download_ala_list:  https://lists.ala.org.au/ws/speciesListItems/dr656?max=10000&includeKVP=true\n",
      "Index(['id', 'name', 'commonName', 'scientificName', 'lsid', 'dataResourceUid',\n",
      "       'kvpValues'],\n",
      "      dtype='object')\n",
      "download_ala_list:  https://lists-test.ala.org.au/ws/speciesListItems/dr656?max=10000&includeKVP=true\n",
      "Index(['id', 'name', 'commonName', 'scientificName', 'lsid', 'dataResourceUid',\n",
      "       'kvpValues'],\n",
      "      dtype='object')\n"
     ]
    },
    {
     "data": {
      "text/plain": "                                             name  \\\n82                   Acanthiza pusilla archibaldi   \n139                        Androcalva perkinsiana   \n179                              Asplenium wildii   \n182   Asterolasia asteriscophora subsp. albiflora   \n238         Bertya sp. Clouds Creek (M. Fatemi 4)   \n...                                           ...   \n1895                        Vincetoxicum forsteri   \n1896                        Vincetoxicum rupicola   \n1897                        Vincetoxicum woollsii   \n1923                               Zanda baudinii   \n1924                            Zanda latirostris   \n\n                   commonName_new  \\\n82    King Island Brown Thornbill   \n139                          None   \n179                          None   \n182               White Star-bush   \n238                          None   \n...                           ...   \n1895                          NaN   \n1896                          NaN   \n1897                          NaN   \n1923                          NaN   \n1924                          NaN   \n\n                               scientificName_new             status_new  \\\n82                   Acanthiza pusilla archibaldi             Endangered   \n139                        Androcalva perkinsiana  Critically Endangered   \n179                              Asplenium wildii             Vulnerable   \n182   Asterolasia asteriscophora subsp. albiflora  Critically Endangered   \n238          Bertya sp. Clouds Creek (M.Fatemi 4)             Endangered   \n...                                           ...                    ...   \n1895                                          NaN                    NaN   \n1896                                          NaN                    NaN   \n1897                                          NaN                    NaN   \n1923                                          NaN                    NaN   \n1924                                          NaN                    NaN   \n\n     listUpdate               commonName_old     scientificName_old  \\\n82        added                          NaN                    NaN   \n139       added                          NaN                    NaN   \n179       added                          NaN                    NaN   \n182       added                          NaN                    NaN   \n238       added                          NaN                    NaN   \n...         ...                          ...                    ...   \n1895    removed                         None  Vincetoxicum forsteri   \n1896    removed                         None  Vincetoxicum rupicola   \n1897    removed        Cryptic Forest Twiner     Tylophora woollsii   \n1923    removed      Baudin's Black-cockatoo         Zanda baudinii   \n1924    removed  Short-billed Black-cockatoo      Zanda latirostris   \n\n      status_old  \n82           NaN  \n139          NaN  \n179          NaN  \n182          NaN  \n238          NaN  \n...          ...  \n1895  Endangered  \n1896  Endangered  \n1897  Endangered  \n1923  Endangered  \n1924  Endangered  \n\n[71 rows x 8 columns]",
      "text/html": "<div>\n<style scoped>\n    .dataframe tbody tr th:only-of-type {\n        vertical-align: middle;\n    }\n\n    .dataframe tbody tr th {\n        vertical-align: top;\n    }\n\n    .dataframe thead th {\n        text-align: right;\n    }\n</style>\n<table border=\"1\" class=\"dataframe\">\n  <thead>\n    <tr style=\"text-align: right;\">\n      <th></th>\n      <th>name</th>\n      <th>commonName_new</th>\n      <th>scientificName_new</th>\n      <th>status_new</th>\n      <th>listUpdate</th>\n      <th>commonName_old</th>\n      <th>scientificName_old</th>\n      <th>status_old</th>\n    </tr>\n  </thead>\n  <tbody>\n    <tr>\n      <th>82</th>\n      <td>Acanthiza pusilla archibaldi</td>\n      <td>King Island Brown Thornbill</td>\n      <td>Acanthiza pusilla archibaldi</td>\n      <td>Endangered</td>\n      <td>added</td>\n      <td>NaN</td>\n      <td>NaN</td>\n      <td>NaN</td>\n    </tr>\n    <tr>\n      <th>139</th>\n      <td>Androcalva perkinsiana</td>\n      <td>None</td>\n      <td>Androcalva perkinsiana</td>\n      <td>Critically Endangered</td>\n      <td>added</td>\n      <td>NaN</td>\n      <td>NaN</td>\n      <td>NaN</td>\n    </tr>\n    <tr>\n      <th>179</th>\n      <td>Asplenium wildii</td>\n      <td>None</td>\n      <td>Asplenium wildii</td>\n      <td>Vulnerable</td>\n      <td>added</td>\n      <td>NaN</td>\n      <td>NaN</td>\n      <td>NaN</td>\n    </tr>\n    <tr>\n      <th>182</th>\n      <td>Asterolasia asteriscophora subsp. albiflora</td>\n      <td>White Star-bush</td>\n      <td>Asterolasia asteriscophora subsp. albiflora</td>\n      <td>Critically Endangered</td>\n      <td>added</td>\n      <td>NaN</td>\n      <td>NaN</td>\n      <td>NaN</td>\n    </tr>\n    <tr>\n      <th>238</th>\n      <td>Bertya sp. Clouds Creek (M. Fatemi 4)</td>\n      <td>None</td>\n      <td>Bertya sp. Clouds Creek (M.Fatemi 4)</td>\n      <td>Endangered</td>\n      <td>added</td>\n      <td>NaN</td>\n      <td>NaN</td>\n      <td>NaN</td>\n    </tr>\n    <tr>\n      <th>...</th>\n      <td>...</td>\n      <td>...</td>\n      <td>...</td>\n      <td>...</td>\n      <td>...</td>\n      <td>...</td>\n      <td>...</td>\n      <td>...</td>\n    </tr>\n    <tr>\n      <th>1895</th>\n      <td>Vincetoxicum forsteri</td>\n      <td>NaN</td>\n      <td>NaN</td>\n      <td>NaN</td>\n      <td>removed</td>\n      <td>None</td>\n      <td>Vincetoxicum forsteri</td>\n      <td>Endangered</td>\n    </tr>\n    <tr>\n      <th>1896</th>\n      <td>Vincetoxicum rupicola</td>\n      <td>NaN</td>\n      <td>NaN</td>\n      <td>NaN</td>\n      <td>removed</td>\n      <td>None</td>\n      <td>Vincetoxicum rupicola</td>\n      <td>Endangered</td>\n    </tr>\n    <tr>\n      <th>1897</th>\n      <td>Vincetoxicum woollsii</td>\n      <td>NaN</td>\n      <td>NaN</td>\n      <td>NaN</td>\n      <td>removed</td>\n      <td>Cryptic Forest Twiner</td>\n      <td>Tylophora woollsii</td>\n      <td>Endangered</td>\n    </tr>\n    <tr>\n      <th>1923</th>\n      <td>Zanda baudinii</td>\n      <td>NaN</td>\n      <td>NaN</td>\n      <td>NaN</td>\n      <td>removed</td>\n      <td>Baudin's Black-cockatoo</td>\n      <td>Zanda baudinii</td>\n      <td>Endangered</td>\n    </tr>\n    <tr>\n      <th>1924</th>\n      <td>Zanda latirostris</td>\n      <td>NaN</td>\n      <td>NaN</td>\n      <td>NaN</td>\n      <td>removed</td>\n      <td>Short-billed Black-cockatoo</td>\n      <td>Zanda latirostris</td>\n      <td>Endangered</td>\n    </tr>\n  </tbody>\n</table>\n<p>71 rows × 8 columns</p>\n</div>"
     },
     "execution_count": 6,
     "metadata": {},
     "output_type": "execute_result"
    }
   ],
   "source": [
    "# EPBC Conservation\n",
    "filename = \"EPBC-conservation.csv\"\n",
    "testdr = \"dr656\"\n",
    "proddr = \"dr656\"\n",
    "changelist = lf.get_changelist(testdr, proddr, ltype)\n",
    "changelist.to_csv(projectdir + changedir + monthStr + \"-\" + filename, encoding=\"UTF-8\", index=False)\n",
    "changelist"
   ],
   "metadata": {
    "collapsed": false,
    "pycharm": {
     "name": "#%%\n"
    }
   }
  },
  {
   "cell_type": "code",
   "execution_count": null,
   "outputs": [],
   "source": [
    "# NSW conservation\n",
    "filename = \"NSW-conservation.csv\"\n",
    "testdr = \"dr650\"\n",
    "proddr = \"dr650\"\n",
    "changelist = lf.get_changelist(testdr, proddr, ltype)\n",
    "changelist.to_csv(projectdir + changedir + monthStr + \"-\" + filename, encoding=\"UTF-8\", index=False)\n",
    "changelist"
   ],
   "metadata": {
    "collapsed": false,
    "pycharm": {
     "name": "#%%\n"
    }
   }
  },
  {
   "cell_type": "code",
   "execution_count": null,
   "outputs": [],
   "source": [
    "# NT Conservation\n",
    "filename = \"NT-conservation.csv\"\n",
    "testdr = \"dr651\"\n",
    "proddr = \"dr651\"\n",
    "changelist = lf.get_changelist(testdr, proddr, ltype)\n",
    "changelist.to_csv(projectdir + changedir + monthStr + \"-\" + filename, encoding=\"UTF-8\", index=False)\n",
    "changelist"
   ],
   "metadata": {
    "collapsed": false,
    "pycharm": {
     "name": "#%%\n"
    }
   }
  },
  {
   "cell_type": "code",
   "execution_count": null,
   "outputs": [],
   "source": [
    "#Qld Conservation\n",
    "filename = \"QLD-conservation.csv\"\n",
    "testdr = \"dr652\"\n",
    "proddr = \"dr652\"\n",
    "changelist = lf.get_changelist(testdr, proddr, ltype)\n",
    "changelist.to_csv(projectdir + changedir + monthStr + \"-\" + filename, encoding=\"UTF-8\", index=False)\n",
    "changelist"
   ],
   "metadata": {
    "collapsed": false,
    "pycharm": {
     "name": "#%%\n"
    }
   }
  },
  {
   "cell_type": "code",
   "execution_count": null,
   "outputs": [],
   "source": [
    "#SA Conservation\n",
    "filename = \"SA-conservation.csv\"\n",
    "testdr = \"dr653\"\n",
    "proddr = \"dr653\"\n",
    "changelist = lf.get_changelist(testdr, proddr, ltype)\n",
    "changelist.to_csv(projectdir + changedir + monthStr + \"-\" + filename, encoding=\"UTF-8\", index=False)\n",
    "changelist"
   ],
   "metadata": {
    "collapsed": false,
    "pycharm": {
     "name": "#%%\n"
    }
   }
  },
  {
   "cell_type": "code",
   "execution_count": null,
   "outputs": [],
   "source": [
    "#TAS Conservation\n",
    "filename = \"TAS-conservation.csv\"\n",
    "testdr = \"dr654\"\n",
    "proddr = \"dr654\"\n",
    "changelist = lf.get_changelist(testdr, proddr, ltype)\n",
    "changelist.to_csv(projectdir + changedir + monthStr + \"-\" + filename, encoding=\"UTF-8\", index=False)\n",
    "changelist"
   ],
   "metadata": {
    "collapsed": false,
    "pycharm": {
     "name": "#%%\n"
    }
   }
  },
  {
   "cell_type": "code",
   "execution_count": null,
   "outputs": [],
   "source": [
    "#VIC Conservation\n",
    "filename = \"VIC-conservation.csv\"\n",
    "testdr = \"dr655\"\n",
    "proddr = \"dr655\"\n",
    "changelist = lf.get_changelist(testdr, proddr, ltype)\n",
    "changelist.to_csv(projectdir + changedir + monthStr + \"-\" + filename, encoding=\"UTF-8\", index=False)\n",
    "changelist"
   ],
   "metadata": {
    "collapsed": false,
    "pycharm": {
     "name": "#%%\n"
    }
   }
  },
  {
   "cell_type": "code",
   "execution_count": null,
   "outputs": [],
   "source": [
    "#WA Conservation\n",
    "filename = \"WA-conservation.csv\"\n",
    "testdr = \"dr2201\"\n",
    "proddr = \"dr2201\"\n",
    "changelist = lf.get_changelist(testdr, proddr, ltype)\n",
    "changelist.to_csv(projectdir + changedir + monthStr + \"-\" + filename, encoding=\"UTF-8\", index=False)\n",
    "changelist"
   ],
   "metadata": {
    "collapsed": false,
    "pycharm": {
     "name": "#%%\n"
    }
   }
  },
  {
   "cell_type": "markdown",
   "source": [
    "# Sensitive"
   ],
   "metadata": {
    "collapsed": false,
    "pycharm": {
     "name": "#%% md\n"
    }
   }
  },
  {
   "cell_type": "code",
   "execution_count": null,
   "outputs": [],
   "source": [
    "ltype=\"S\""
   ],
   "metadata": {
    "collapsed": false,
    "pycharm": {
     "name": "#%%\n"
    }
   }
  },
  {
   "cell_type": "code",
   "execution_count": null,
   "outputs": [],
   "source": [
    "# ACT Sensitive\n",
    "filename = \"ACT-sensitive.csv\"\n",
    "testdr = \"dr2627\"\n",
    "proddr = \"dr2627\"\n",
    "changelist = lf.get_changelist(testdr, proddr, ltype)\n",
    "changelist.to_csv(projectdir + changedir + monthStr + \"-\" + filename, encoding=\"UTF-8\", index=False)\n",
    "changelist"
   ],
   "metadata": {
    "collapsed": false,
    "pycharm": {
     "name": "#%%\n"
    }
   }
  },
  {
   "cell_type": "code",
   "execution_count": null,
   "outputs": [],
   "source": [
    "# NSW Sensitive\n",
    "filename = \"NSW-sensitive.csv\"\n",
    "testdr = \"dr18457\"\n",
    "proddr = \"dr487\"\n",
    "changelist = lf.get_changelist(testdr, proddr, ltype)\n",
    "changelist.to_csv(projectdir + changedir + monthStr + \"-\" + filename, encoding=\"UTF-8\", index=False)\n",
    "changelist"
   ],
   "metadata": {
    "collapsed": false,
    "pycharm": {
     "name": "#%%\n"
    }
   }
  },
  {
   "cell_type": "code",
   "execution_count": null,
   "outputs": [],
   "source": [
    "# NT Sensitive\n",
    "filename = \"NT-sensitive.csv\"\n",
    "testdr = \"dr492\"\n",
    "proddr = \"dr492\"\n",
    "changelist = lf.get_changelist(testdr, proddr, ltype)\n",
    "changelist.to_csv(projectdir + changedir + monthStr + \"-\" + filename, encoding=\"UTF-8\", index=False)\n",
    "changelist"
   ],
   "metadata": {
    "collapsed": false,
    "pycharm": {
     "name": "#%%\n"
    }
   }
  },
  {
   "cell_type": "code",
   "execution_count": null,
   "outputs": [],
   "source": [
    "#Qld Sensitive\n",
    "filename = \"QLD-sensitive.csv\"\n",
    "testdr = \"dr18404\"\n",
    "proddr = \"dr493\"\n",
    "changelist = lf.get_changelist(testdr, proddr, ltype)\n",
    "changelist.to_csv(projectdir + changedir + monthStr + \"-\" + filename, encoding=\"UTF-8\", index=False)\n",
    "changelist"
   ],
   "metadata": {
    "collapsed": false,
    "pycharm": {
     "name": "#%%\n"
    }
   }
  },
  {
   "cell_type": "code",
   "execution_count": null,
   "outputs": [],
   "source": [
    "#SA Sensitive\n",
    "filename = \"SA-sensitive.csv\"\n",
    "testdr = \"dr18706\"\n",
    "proddr = \"dr884\"\n",
    "changelist = lf.get_changelist(testdr, proddr, ltype)\n",
    "changelist.to_csv(projectdir + changedir + monthStr + \"-\" + filename, encoding=\"UTF-8\", index=False)\n",
    "changelist"
   ],
   "metadata": {
    "collapsed": false,
    "pycharm": {
     "name": "#%%\n"
    }
   }
  },
  {
   "cell_type": "code",
   "execution_count": null,
   "outputs": [],
   "source": [
    "#TAS Sensitive - not currently in Test\n",
    "# filename = \"TAS-sensitive.csv\"\n",
    "# testdr = \"NA\"\n",
    "# proddr = \"dr491\"\n",
    "# changelist = lf.get_changelist(testdr, proddr, ltype)\n",
    "# changelist.to_csv(projectdir + changedir + monthStr + \"-\" + filename, encoding=\"UTF-8\", index=False)\n",
    "# changelist"
   ],
   "metadata": {
    "collapsed": false,
    "pycharm": {
     "name": "#%%\n"
    }
   }
  },
  {
   "cell_type": "code",
   "execution_count": null,
   "outputs": [],
   "source": [
    "#VIC Sensitive\n",
    "filename = \"VIC-sensitive.csv\"\n",
    "testdr = \"dr18669\"\n",
    "proddr = \"dr490\"\n",
    "changelist = lf.get_changelist(testdr, proddr, ltype)\n",
    "changelist.to_csv(projectdir + changedir + monthStr + \"-\" + filename, encoding=\"UTF-8\", index=False)\n",
    "changelist"
   ],
   "metadata": {
    "collapsed": false,
    "pycharm": {
     "name": "#%%\n"
    }
   }
  },
  {
   "cell_type": "code",
   "execution_count": null,
   "outputs": [],
   "source": [
    "#WA Sensitive\n",
    "filename = \"WA-sensitive.csv\"\n",
    "testdr = \"dr18406\"\n",
    "proddr = \"dr467\"\n",
    "changelist = lf.get_changelist(testdr, proddr, ltype)\n",
    "changelist.to_csv(projectdir + changedir + monthStr + \"-\" + filename, encoding=\"UTF-8\", index=False)\n",
    "changelist"
   ],
   "metadata": {
    "collapsed": false,
    "pycharm": {
     "name": "#%%\n"
    }
   }
  },
  {
   "cell_type": "markdown",
   "source": [
    "### Download Production list to Historical Lists directory"
   ],
   "metadata": {
    "collapsed": false,
    "pycharm": {
     "name": "#%% md\n"
    }
   }
  },
  {
   "cell_type": "code",
   "execution_count": null,
   "outputs": [],
   "source": [
    "drList = {\"ACT\":\"dr649\", \"NSW\":\"dr650\", \"NT\":\"dr651\", \"QLD\":\"dr652\", \"SA\":\"dr653\", \"TAS\":\"dr654\", \"VIC\":\"dr655\", \"EPBC\":\"dr656\", \"WA\":\"dr2201\"}\n",
    "# Conservation lists\n",
    "for state, dr in drList.items():\n",
    "    filename = state + \"-\" + dr + \"-conservation.csv\"\n",
    "    print(dr)\n",
    "    prodListUrl = \"https://lists.ala.org.au/ws/speciesListItems/\" + dr + \"?max=10000&includeKVP=true\"\n",
    "    prodList = lf.download_ala_list(prodListUrl)  # save the prod list to the historical lists directory\n",
    "    prodList = lf.kvp_to_columns(prodList)\n",
    "    prodList.to_csv(projectdir + \"historical-lists/conservation/\" + filename, encoding=\"UTF-8\", index=False)\n",
    "print('Finished downloading conservation historical list')"
   ],
   "metadata": {
    "collapsed": false,
    "pycharm": {
     "name": "#%%\n"
    }
   }
  },
  {
   "cell_type": "code",
   "execution_count": 2,
   "outputs": [
    {
     "name": "stdout",
     "output_type": "stream",
     "text": [
      "dr491\n",
      "download_ala_list:  https://lists.ala.org.au/ws/speciesListItems/dr491?max=10000&includeKVP=true\n",
      "Index(['id', 'name', 'commonName', 'scientificName', 'lsid', 'dataResourceUid',\n",
      "       'kvpValues'],\n",
      "      dtype='object')\n",
      "kvpValues empty\n",
      "Finished downloading sensitive historical list\n"
     ]
    }
   ],
   "source": [
    "# Sensitive Lists\n",
    "drList = {\"TAS\":\"dr491\"}  # Notebook is dying on empty kvpValues when in Jupyter notebook. runs fine in py script\n",
    "# drList = {\"ACT\":\"dr2627\", \"NSW\":\"dr487\", \"NT\":\"dr492\", \"QLD\":\"dr493\", \"SA\":\"dr884\",\"TAS\":\"dr491\", \"VIC\":\"dr490\", \"WA\":\"dr467\"}\n",
    "# drList = {\"ACT\":\"dr2627\", \"NSW\":\"dr487\", \"NT\":\"dr492\", \"QLD\":\"dr493\", \"SA\":\"dr884\", \"VIC\":\"dr490\", \"WA\":\"dr467\"}\n",
    "for state, dr in drList.items():\n",
    "    filename = state + \"-\" + dr + \"-sensitive.csv\"\n",
    "    print(dr)\n",
    "    prodListUrl = \"https://lists.ala.org.au/ws/speciesListItems/\" + dr + \"?max=10000&includeKVP=true\"\n",
    "    prodList = lf.download_ala_list(prodListUrl)  # save the prod list to the historical lists directory\n",
    "    prodList = lf.kvp_to_columns(prodList)\n",
    "    prodList.to_csv(projectdir + \"historical-lists/sensitive/\" + filename, encoding=\"UTF-8\", index=False)\n",
    "print('Finished downloading sensitive historical list')"
   ],
   "metadata": {
    "collapsed": false,
    "pycharm": {
     "name": "#%%\n"
    }
   }
  }
 ],
 "metadata": {
  "kernelspec": {
   "display_name": "Python 3",
   "language": "python",
   "name": "python3"
  },
  "language_info": {
   "codemirror_mode": {
    "name": "ipython",
    "version": 3
   },
   "file_extension": ".py",
   "mimetype": "text/x-python",
   "name": "python",
   "nbconvert_exporter": "python",
   "pygments_lexer": "ipython3",
   "version": "3.8.8"
  }
 },
 "nbformat": 4,
 "nbformat_minor": 5
}