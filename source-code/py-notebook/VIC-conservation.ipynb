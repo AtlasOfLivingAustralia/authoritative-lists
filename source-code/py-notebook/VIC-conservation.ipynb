{
 "cells": [
  {
   "cell_type": "markdown",
   "metadata": {
    "collapsed": true,
    "pycharm": {
     "name": "#%% md\n"
    }
   },
   "source": [
    "# Victoria Conservation and Sensitive Lists\n",
    "Preparing lists for upload into the ALA's lists tool\n",
    "Conservation list source: https://vba.dse.vic.gov.au/vba/downloadVSC.do"
   ]
  },
  {
   "cell_type": "code",
   "execution_count": 2,
   "outputs": [],
   "source": [
    "import pandas as pd\n",
    "\n",
    "projectDir = \"/Users/oco115/PycharmProjects/authoritative-lists/\"\n",
    "dataDir = \"current-lists/conservation-lists/\"\n",
    "conservationlisturl = \"https://vba.dse.vic.gov.au/vba/downloadVSC.do\" # gets a csv\n",
    "conservationList = pd.read_csv(projectDir + \"source-data/VIC/Species-Checklist.csv\",encoding='cp1252')\n"
   ],
   "metadata": {
    "collapsed": false,
    "pycharm": {
     "name": "#%%\n"
    }
   }
  },
  {
   "cell_type": "code",
   "execution_count": 3,
   "outputs": [
    {
     "data": {
      "text/plain": "Index(['TAXON_ID', 'SCIENTIFIC_NAME', 'COMMON_NAME', 'AUTHORITY',\n       'PRIMARY_DISCIPLINE', 'ALL_DISCIPLINE_CODES', 'ORIGIN', 'TREATIES',\n       'SHORT_NAME', 'TAXON_LEVEL_CDE', 'PARENT_TAXON_ID',\n       'PARENT_TAXON_LEVEL_CDE', 'TAXON_TYPE', 'NVIS_GROWTHFORM',\n       'FFG_ACT_STATUS', 'EPBC_ACT_STATUS', 'VIC_ADVISORY_STATUS',\n       'SCIENTIFIC_NME_SYNONYM', 'COMMON_NME_SYNONYM', 'RESTRICTED_FLAG',\n       'PRINT_ORDER_NUM', 'LAST_MOD', 'EXTRACT_DATE'],\n      dtype='object')"
     },
     "execution_count": 3,
     "metadata": {},
     "output_type": "execute_result"
    }
   ],
   "source": [
    "conservationList.columns"
   ],
   "metadata": {
    "collapsed": false,
    "pycharm": {
     "name": "#%%\n"
    }
   }
  },
  {
   "cell_type": "code",
   "execution_count": 4,
   "outputs": [
    {
     "data": {
      "text/plain": "Index(['taxonID', 'scientificName', 'vernacularName',\n       'scientificNameAuthority', 'primaryDiscipline', 'establishmentMeans',\n       'taxonRank', 'speciesGroup', 'ffgactstatus', 'epbcactStatus',\n       'vicadvisorystatus', 'restrictedFlag', 'modified', 'extractDate',\n       'status', 'sourceStatus'],\n      dtype='object')"
     },
     "execution_count": 4,
     "metadata": {},
     "output_type": "execute_result"
    }
   ],
   "source": [
    "# Drop columns\n",
    "conservationList = conservationList.drop(['PARENT_TAXON_LEVEL_CDE','PARENT_TAXON_ID','ALL_DISCIPLINE_CODES',\n",
    "                                          'TREATIES','SHORT_NAME','NVIS_GROWTHFORM','SCIENTIFIC_NME_SYNONYM',\n",
    "                                          'COMMON_NME_SYNONYM','PRINT_ORDER_NUM'],axis=1)\n",
    "# Rename columns\n",
    "conservationList = conservationList.rename(columns=\n",
    "{\n",
    "    'TAXON_ID':'taxonID',\n",
    "    'SCIENTIFIC_NAME':'scientificName',\n",
    "    'VIC_ADVISORY_STATUS':'vicadvisorystatus',\n",
    "    'TAXON_TYPE':'speciesGroup',\n",
    "    'FFG_ACT_STATUS':'ffgactstatus',\n",
    "    'EPBC_ACT_STATUS': 'epbcactStatus',\n",
    "    'TAXON_LEVEL_CDE': 'taxonRank',\n",
    "    'ORIGIN': 'establishmentMeans',\n",
    "    'COMMON_NME_SYNONYM': 'taxonRemarks',\n",
    "    'COMMON_NAME':'vernacularName',\n",
    "    'AUTHORITY':'scientificNameAuthority',\n",
    "    'PRIMARY_DISCIPLINE': 'primaryDiscipline',\n",
    "    'RESTRICTED_FLAG' : 'restrictedFlag',\n",
    "    'EXTRACT_DATE': 'extractDate',\n",
    "    'LAST_MOD':'modified'\n",
    "})\n",
    "conservationList['taxonRank'] = 'species'\n",
    "conservationList['status'] = conservationList['ffgactstatus']\n",
    "conservationList['sourceStatus'] = conservationList['ffgactstatus']\n",
    "# conservationList.columns = conservationList.columns.str.replace(r\"[().: ]\", \"\", regex=True) # remove all spaces and : () from column names\n",
    "# conservationList.columns = conservationList.columns.str.replace(r\"[_ ]\", \"\", regex=True) # remove all spaces and : () from column names\n",
    "# conservationList=conservationList.drop(['Unnamed65'],axis=1)\n",
    "conservationList.columns"
   ],
   "metadata": {
    "collapsed": false,
    "pycharm": {
     "name": "#%%\n"
    }
   }
  },
  {
   "cell_type": "code",
   "execution_count": null,
   "outputs": [],
   "source": [
    "conservationList = conservationList[conservationList[\"status\"].notna()]\n",
    "# reformat date\n",
    "print('Reformat date')\n",
    "conservationList['extractDate'] = pd.to_datetime(conservationList['extractDate'])\n",
    "conservationList['extractDate'] = conservationList['extractDate'].dt.strftime('%Y-%m-%d')\n",
    "conservationList['modified'] = pd.to_datetime(conservationList['modified'])\n",
    "conservationList['modified'] = conservationList['modified'].dt.strftime('%Y-%m-%d')"
   ],
   "metadata": {
    "collapsed": false,
    "pycharm": {
     "name": "#%%\n"
    }
   }
  },
  {
   "cell_type": "code",
   "execution_count": 6,
   "outputs": [
    {
     "data": {
      "text/plain": "9        2022-06-05\n28       2022-06-05\n37       2022-06-05\n48       2022-06-05\n58       2022-06-05\n            ...    \n28362    2022-06-05\n28383    2022-06-05\n28392    2022-06-05\n28426    2022-06-05\n28430    2022-06-05\nName: extractDate, Length: 1996, dtype: object"
     },
     "execution_count": 6,
     "metadata": {},
     "output_type": "execute_result"
    }
   ],
   "source": [
    "conservationList['extractDate']"
   ],
   "metadata": {
    "collapsed": false,
    "pycharm": {
     "name": "#%%\n"
    }
   }
  },
  {
   "cell_type": "code",
   "execution_count": 11,
   "outputs": [],
   "source": [
    "#Write to CSV\n",
    "conservationList.to_csv(projectDir + dataDir + \"VIC-new-conservation.csv\",index=False)\n",
    "print('Finished processing')"
   ],
   "metadata": {
    "collapsed": false,
    "pycharm": {
     "name": "#%%\n"
    }
   }
  }
 ],
 "metadata": {
  "kernelspec": {
   "display_name": "Python 3",
   "language": "python",
   "name": "python3"
  },
  "language_info": {
   "codemirror_mode": {
    "name": "ipython",
    "version": 2
   },
   "file_extension": ".py",
   "mimetype": "text/x-python",
   "name": "python",
   "nbconvert_exporter": "python",
   "pygments_lexer": "ipython2",
   "version": "2.7.6"
  }
 },
 "nbformat": 4,
 "nbformat_minor": 0
}