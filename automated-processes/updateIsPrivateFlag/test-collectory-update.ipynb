{
 "cells": [
  {
   "cell_type": "markdown",
   "id": "dce0635911eb2b2",
   "metadata": {
    "collapsed": false,
    "pycharm": {
     "name": "#%% md\n"
    }
   },
   "source": [
    "### Test collectory update of isPrivate flag"
   ]
  },
  {
   "cell_type": "code",
   "execution_count": 1,
   "id": "267f7969",
   "metadata": {},
   "outputs": [],
   "source": [
    "import json\n",
    "from pathlib import Path\n",
    "import pandas as pd\n",
    "import requests\n",
    "\n",
    "cwd = Path.cwd()\n",
    "colfile = cwd / 'data/lists.test-collectory-metadata.csv'\n",
    "# functions\n",
    "\n",
    "def get_collectory_metadata(druid, collectory_url, headers):\n",
    "    metadata = \"\"\n",
    "    metadata_df = pd.DataFrame()\n",
    "    response = requests.get(collectory_url, headers)\n",
    "    if response.status_code == 200:\n",
    "        metadata = response.json()\n",
    "        print(f\"{druid} -  Collectory metadata extracted for: {collectory_url}\")\n",
    "    else:\n",
    "        print(\n",
    "            f\"{druid} - Collectory metadata request for failed with status code {response.status_code}, {collectory_url}\"\n",
    "        )\n",
    "    metadata_df = pd.DataFrame([metadata])\n",
    "    return metadata_df\n",
    "\n",
    "\n",
    "def update_collectory_dr(row, collectory_url, authorization) -> str:\n",
    "    \"\"\"\n",
    "    Update list - set isPrivate flag in collectory DR\n",
    "\n",
    "    :param row: list information from dataframe\n",
    "    :return str: Update request response code\n",
    "    \"\"\"\n",
    "\n",
    "    # drID = row['dataResourceUid']\n",
    "    jstr = row.to_dict()\n",
    "    print(\"POST to %s\", collectory_url)\n",
    "    headers = {\n",
    "        \"Content-Type\": \"application/json\",\n",
    "        \"Accept\": \"application/json\",\n",
    "        \"Authorization\": authorization\n",
    "    }\n",
    "    try:\n",
    "        with requests.post(collectory_url, json=jstr, headers=headers) as response:\n",
    "            if response.status_code == 200 or response.status_code == 201:\n",
    "                return str(response.status_code)\n",
    "            else:\n",
    "                response.raise_for_status()\n",
    "    except Exception as e:\n",
    "        print(\"Error in creating %s: %s for %s\", collectory_url, jstr, e)\n",
    "        response.raise_for_status()\n"
   ]
  },
  {
   "cell_type": "code",
   "execution_count": 12,
   "id": "7462cc05",
   "metadata": {},
   "outputs": [
    {
     "name": "stdout",
     "output_type": "stream",
     "text": [
      "dr22810 -  Collectory metadata extracted for: https://collections.test.ala.org.au/ws/dataResource/dr22810\n"
     ]
    },
    {
     "data": {
      "application/vnd.microsoft.datawrangler.viewer.v0+json": {
       "columns": [
        {
         "name": "index",
         "rawType": "int64",
         "type": "integer"
        },
        {
         "name": "name",
         "rawType": "object",
         "type": "string"
        },
        {
         "name": "acronym",
         "rawType": "object",
         "type": "unknown"
        },
        {
         "name": "uid",
         "rawType": "object",
         "type": "string"
        },
        {
         "name": "guid",
         "rawType": "object",
         "type": "unknown"
        },
        {
         "name": "address",
         "rawType": "object",
         "type": "unknown"
        },
        {
         "name": "phone",
         "rawType": "object",
         "type": "unknown"
        },
        {
         "name": "email",
         "rawType": "object",
         "type": "unknown"
        },
        {
         "name": "pubShortDescription",
         "rawType": "object",
         "type": "unknown"
        },
        {
         "name": "pubDescription",
         "rawType": "object",
         "type": "string"
        },
        {
         "name": "techDescription",
         "rawType": "object",
         "type": "string"
        },
        {
         "name": "dataCollectionProtocolName",
         "rawType": "object",
         "type": "unknown"
        },
        {
         "name": "dataCollectionProtocolDoc",
         "rawType": "object",
         "type": "unknown"
        },
        {
         "name": "suitableFor",
         "rawType": "object",
         "type": "unknown"
        },
        {
         "name": "suitableForOtherDetail",
         "rawType": "object",
         "type": "unknown"
        },
        {
         "name": "focus",
         "rawType": "object",
         "type": "unknown"
        },
        {
         "name": "latitude",
         "rawType": "object",
         "type": "unknown"
        },
        {
         "name": "longitude",
         "rawType": "object",
         "type": "unknown"
        },
        {
         "name": "state",
         "rawType": "object",
         "type": "unknown"
        },
        {
         "name": "websiteUrl",
         "rawType": "object",
         "type": "string"
        },
        {
         "name": "alaPublicUrl",
         "rawType": "object",
         "type": "string"
        },
        {
         "name": "networkMembership",
         "rawType": "object",
         "type": "unknown"
        },
        {
         "name": "hubMembership",
         "rawType": "object",
         "type": "unknown"
        },
        {
         "name": "taxonomyCoverageHints",
         "rawType": "object",
         "type": "unknown"
        },
        {
         "name": "attributions",
         "rawType": "object",
         "type": "unknown"
        },
        {
         "name": "dateCreated",
         "rawType": "object",
         "type": "string"
        },
        {
         "name": "lastUpdated",
         "rawType": "object",
         "type": "string"
        },
        {
         "name": "userLastModified",
         "rawType": "object",
         "type": "string"
        },
        {
         "name": "rights",
         "rawType": "object",
         "type": "unknown"
        },
        {
         "name": "licenseType",
         "rawType": "object",
         "type": "string"
        },
        {
         "name": "licenseVersion",
         "rawType": "object",
         "type": "unknown"
        },
        {
         "name": "citation",
         "rawType": "object",
         "type": "unknown"
        },
        {
         "name": "resourceType",
         "rawType": "object",
         "type": "string"
        },
        {
         "name": "dataGeneralizations",
         "rawType": "object",
         "type": "unknown"
        },
        {
         "name": "informationWithheld",
         "rawType": "object",
         "type": "unknown"
        },
        {
         "name": "permissionsDocument",
         "rawType": "object",
         "type": "unknown"
        },
        {
         "name": "permissionsDocumentType",
         "rawType": "object",
         "type": "string"
        },
        {
         "name": "contentTypes",
         "rawType": "object",
         "type": "unknown"
        },
        {
         "name": "hasMappedCollections",
         "rawType": "bool",
         "type": "boolean"
        },
        {
         "name": "status",
         "rawType": "object",
         "type": "string"
        },
        {
         "name": "provenance",
         "rawType": "object",
         "type": "unknown"
        },
        {
         "name": "harvestFrequency",
         "rawType": "int64",
         "type": "integer"
        },
        {
         "name": "lastChecked",
         "rawType": "object",
         "type": "unknown"
        },
        {
         "name": "dataCurrency",
         "rawType": "object",
         "type": "unknown"
        },
        {
         "name": "harvestingNotes",
         "rawType": "object",
         "type": "unknown"
        },
        {
         "name": "publicArchiveAvailable",
         "rawType": "bool",
         "type": "boolean"
        },
        {
         "name": "publicArchiveUrl",
         "rawType": "object",
         "type": "string"
        },
        {
         "name": "gbifArchiveUrl",
         "rawType": "object",
         "type": "string"
        },
        {
         "name": "downloadLimit",
         "rawType": "int64",
         "type": "integer"
        },
        {
         "name": "gbifDataset",
         "rawType": "bool",
         "type": "boolean"
        },
        {
         "name": "isShareableWithGBIF",
         "rawType": "bool",
         "type": "boolean"
        },
        {
         "name": "verified",
         "rawType": "bool",
         "type": "boolean"
        },
        {
         "name": "gbifRegistryKey",
         "rawType": "object",
         "type": "unknown"
        },
        {
         "name": "doi",
         "rawType": "object",
         "type": "unknown"
        },
        {
         "name": "repatriationCountry",
         "rawType": "object",
         "type": "unknown"
        },
        {
         "name": "createdByID",
         "rawType": "object",
         "type": "unknown"
        }
       ],
       "ref": "7e2036e7-b213-4883-8347-b5f98d1a3d84",
       "rows": [
        [
         "0",
         "00 - dr22810 Rose Test - DR-List",
         null,
         "dr22810",
         null,
         null,
         null,
         null,
         null,
         "",
         "This list was first uploaded by Rosemary O'Connor on the Fri Aug 30 10:47:35 AEST 2024.It contains [totalRecords:37, successfulItems:37] taxa.",
         null,
         null,
         null,
         null,
         null,
         null,
         null,
         null,
         "https://lists-test.ala.org.au/speciesListItem/list/dr22810?max=10",
         "https://collections.test.ala.org.au/public/show/dr22810",
         null,
         "[]",
         "[]",
         "[]",
         "2024-08-30T00:47:35Z",
         "2025-10-23T05:14:33Z",
         "Rosemary OConnor",
         null,
         "other",
         null,
         null,
         "species-list",
         null,
         null,
         null,
         "Other",
         "['species list']",
         "False",
         "dataAvailable",
         null,
         "0",
         null,
         null,
         null,
         "False",
         "https://biocache.ala.org.au/archives/gbif/dr22810/dr22810.zip",
         "https://biocache.ala.org.au/archives/gbif/dr22810/dr22810.zip",
         "0",
         "False",
         "True",
         "False",
         null,
         null,
         null,
         null
        ]
       ],
       "shape": {
        "columns": 55,
        "rows": 1
       }
      },
      "text/html": [
       "<div>\n",
       "<style scoped>\n",
       "    .dataframe tbody tr th:only-of-type {\n",
       "        vertical-align: middle;\n",
       "    }\n",
       "\n",
       "    .dataframe tbody tr th {\n",
       "        vertical-align: top;\n",
       "    }\n",
       "\n",
       "    .dataframe thead th {\n",
       "        text-align: right;\n",
       "    }\n",
       "</style>\n",
       "<table border=\"1\" class=\"dataframe\">\n",
       "  <thead>\n",
       "    <tr style=\"text-align: right;\">\n",
       "      <th></th>\n",
       "      <th>name</th>\n",
       "      <th>acronym</th>\n",
       "      <th>uid</th>\n",
       "      <th>guid</th>\n",
       "      <th>address</th>\n",
       "      <th>phone</th>\n",
       "      <th>email</th>\n",
       "      <th>pubShortDescription</th>\n",
       "      <th>pubDescription</th>\n",
       "      <th>techDescription</th>\n",
       "      <th>...</th>\n",
       "      <th>publicArchiveUrl</th>\n",
       "      <th>gbifArchiveUrl</th>\n",
       "      <th>downloadLimit</th>\n",
       "      <th>gbifDataset</th>\n",
       "      <th>isShareableWithGBIF</th>\n",
       "      <th>verified</th>\n",
       "      <th>gbifRegistryKey</th>\n",
       "      <th>doi</th>\n",
       "      <th>repatriationCountry</th>\n",
       "      <th>createdByID</th>\n",
       "    </tr>\n",
       "  </thead>\n",
       "  <tbody>\n",
       "    <tr>\n",
       "      <th>0</th>\n",
       "      <td>00 - dr22810 Rose Test - DR-List</td>\n",
       "      <td>None</td>\n",
       "      <td>dr22810</td>\n",
       "      <td>None</td>\n",
       "      <td>None</td>\n",
       "      <td>None</td>\n",
       "      <td>None</td>\n",
       "      <td>None</td>\n",
       "      <td></td>\n",
       "      <td>This list was first uploaded by Rosemary O'Con...</td>\n",
       "      <td>...</td>\n",
       "      <td>https://biocache.ala.org.au/archives/gbif/dr22...</td>\n",
       "      <td>https://biocache.ala.org.au/archives/gbif/dr22...</td>\n",
       "      <td>0</td>\n",
       "      <td>False</td>\n",
       "      <td>True</td>\n",
       "      <td>False</td>\n",
       "      <td>None</td>\n",
       "      <td>None</td>\n",
       "      <td>None</td>\n",
       "      <td>None</td>\n",
       "    </tr>\n",
       "  </tbody>\n",
       "</table>\n",
       "<p>1 rows × 55 columns</p>\n",
       "</div>"
      ],
      "text/plain": [
       "                               name acronym      uid  guid address phone  \\\n",
       "0  00 - dr22810 Rose Test - DR-List    None  dr22810  None    None  None   \n",
       "\n",
       "  email pubShortDescription pubDescription  \\\n",
       "0  None                None                  \n",
       "\n",
       "                                     techDescription  ...  \\\n",
       "0  This list was first uploaded by Rosemary O'Con...  ...   \n",
       "\n",
       "                                    publicArchiveUrl  \\\n",
       "0  https://biocache.ala.org.au/archives/gbif/dr22...   \n",
       "\n",
       "                                      gbifArchiveUrl downloadLimit  \\\n",
       "0  https://biocache.ala.org.au/archives/gbif/dr22...             0   \n",
       "\n",
       "  gbifDataset isShareableWithGBIF verified gbifRegistryKey   doi  \\\n",
       "0       False                True    False            None  None   \n",
       "\n",
       "  repatriationCountry createdByID  \n",
       "0                None        None  \n",
       "\n",
       "[1 rows x 55 columns]"
      ]
     },
     "execution_count": 12,
     "metadata": {},
     "output_type": "execute_result"
    }
   ],
   "source": [
    "# Set dataresource to retrieve\n",
    "druid = 'dr21322'\n",
    "druid = 'dr22810'\n",
    "\n",
    "# Set collectory base URL\n",
    "# collectory_url = \"https://collections-test.ala.org.au/ws/dataResource/\" + druid\n",
    "collectory_url = \"https://collections.test.ala.org.au/ws/dataResource/\" + druid\n",
    "\n",
    "# Collectory  api-key\n",
    "authorization_api = \"dba60c96-380f-4793-90c8-5dbc4764ca4b\"    \n",
    "\n",
    "# Collectory JWT Token\n",
    "JWTToken = 'eyJraWQiOiI2UEpOaFwvdU5EYlBIWlk4Y2xmTHJvMnBKUnJhTFRXTnpaU0tOcVdka3Y0az0iLCJhbGciOiJSUzI1NiJ9.eyJzdWIiOiI1MDJkYmE3Yy00YWFjLTQ2ZWMtOGY4Ni0xM2JkZGMxNzgyYjYiLCJjb2duaXRvOmdyb3VwcyI6WyJjb2xsZWN0aW9uX2FkbWluIiwidXNlciIsImNvbGxlY3RvcnNfYWRtaW4iLCJhZG1pbiIsImRhdGFfcHVibGlzaGVyIl0sImlzcyI6Imh0dHBzOlwvXC9jb2duaXRvLWlkcC5hcC1zb3V0aGVhc3QtMi5hbWF6b25hd3MuY29tXC9hcC1zb3V0aGVhc3QtMl9PT1hVOUdXMzkiLCJ2ZXJzaW9uIjoyLCJjbGllbnRfaWQiOiI0NjFodDJjOHBxdnVzMGVyNzNmcDBkMWlrMiIsIm9yaWdpbl9qdGkiOiJkMzdkNTZlMy01Mjc1LTQxM2EtYTI2Ny00NzNmNjQyNDdhYTIiLCJ0b2tlbl91c2UiOiJhY2Nlc3MiLCJzY29wZSI6ImFsYVwvcm9sZXMgb3BlbmlkIHByb2ZpbGUgZW1haWwiLCJhdXRoX3RpbWUiOjE3NjExOTgxMDYsImV4cCI6MTc2MTI4NDUwNiwiaWF0IjoxNzYxMTk4MTA2LCJqdGkiOiI1OWZiNTcxNy04YmMxLTRlNDQtOTgxNi0yNjk1ODhjOWE2ZjciLCJ1c2VybmFtZSI6IjU2NTkyIn0.v9yNSV3_XXgOTPf1vVfXnXmcDEkqTp4p6Dz4sbFkUPUiW_B5DfPAly14_ab7cAH9Cma2sSbCzZuQ2J-mvecdZXJTwBvXEcqoZS_phPfkF2MLA6_9stjlUFR0bmjFtcDLJ1MPZcz79GQK5UVAsLrUBU16a091dFJFkLX4_KCbLtNTRah5pTzbP9skEcWaB53e94TzZmUn4U-Lpa7tRx2h2PwlFDSFBPHBTg2LYCYh7THAZFUZS7xKqx8UqbIgH0JdpRFlf15PN75YBP0EltnKhh6v6JBOZ5dj6aW9uug-2n2PKsZ__EA_KzNoJ8sIQDy3BAmOHdL6VXlmdHxvMcfFMg'\n",
    "authorization_jwt = f\"Bearer {JWTToken}\"\n",
    "\n",
    "header_noauth = {\n",
    "    \"Content-Type\": \"application/json\",\n",
    "    \"Accept\": \"application/json\",\n",
    "}\n",
    "meta_df = get_collectory_metadata(druid, collectory_url, header_noauth)\n",
    "# Modify metadata\n",
    "# meta_df['isPrivate'] = 'True'\n",
    "meta_df"
   ]
  },
  {
   "cell_type": "code",
   "execution_count": null,
   "id": "e21f9837",
   "metadata": {},
   "outputs": [],
   "source": [
    "# Update collectory metadata\n",
    "\n",
    "# Update using api-key\n",
    "# meta_df['name'] = 'api-' + meta_df['name']\n",
    "# meta_df['cUpdStatus-api'] = meta_df.apply(lambda row: update_collectory_dr(row, collectory_url, authorization_api), axis=1)\n",
    "# meta_df"
   ]
  },
  {
   "cell_type": "code",
   "execution_count": 14,
   "id": "bec41159",
   "metadata": {},
   "outputs": [
    {
     "name": "stdout",
     "output_type": "stream",
     "text": [
      "POST to %s https://collections.test.ala.org.au/ws/dataResource/dr22810\n"
     ]
    },
    {
     "data": {
      "application/vnd.microsoft.datawrangler.viewer.v0+json": {
       "columns": [
        {
         "name": "index",
         "rawType": "int64",
         "type": "integer"
        },
        {
         "name": "name",
         "rawType": "object",
         "type": "string"
        },
        {
         "name": "acronym",
         "rawType": "object",
         "type": "unknown"
        },
        {
         "name": "uid",
         "rawType": "object",
         "type": "string"
        },
        {
         "name": "guid",
         "rawType": "object",
         "type": "unknown"
        },
        {
         "name": "address",
         "rawType": "object",
         "type": "unknown"
        },
        {
         "name": "phone",
         "rawType": "object",
         "type": "unknown"
        },
        {
         "name": "email",
         "rawType": "object",
         "type": "unknown"
        },
        {
         "name": "pubShortDescription",
         "rawType": "object",
         "type": "unknown"
        },
        {
         "name": "pubDescription",
         "rawType": "object",
         "type": "string"
        },
        {
         "name": "techDescription",
         "rawType": "object",
         "type": "string"
        },
        {
         "name": "dataCollectionProtocolName",
         "rawType": "object",
         "type": "unknown"
        },
        {
         "name": "dataCollectionProtocolDoc",
         "rawType": "object",
         "type": "unknown"
        },
        {
         "name": "suitableFor",
         "rawType": "object",
         "type": "unknown"
        },
        {
         "name": "suitableForOtherDetail",
         "rawType": "object",
         "type": "unknown"
        },
        {
         "name": "focus",
         "rawType": "object",
         "type": "unknown"
        },
        {
         "name": "latitude",
         "rawType": "object",
         "type": "unknown"
        },
        {
         "name": "longitude",
         "rawType": "object",
         "type": "unknown"
        },
        {
         "name": "state",
         "rawType": "object",
         "type": "unknown"
        },
        {
         "name": "websiteUrl",
         "rawType": "object",
         "type": "string"
        },
        {
         "name": "alaPublicUrl",
         "rawType": "object",
         "type": "string"
        },
        {
         "name": "networkMembership",
         "rawType": "object",
         "type": "unknown"
        },
        {
         "name": "hubMembership",
         "rawType": "object",
         "type": "unknown"
        },
        {
         "name": "taxonomyCoverageHints",
         "rawType": "object",
         "type": "unknown"
        },
        {
         "name": "attributions",
         "rawType": "object",
         "type": "unknown"
        },
        {
         "name": "dateCreated",
         "rawType": "object",
         "type": "string"
        },
        {
         "name": "lastUpdated",
         "rawType": "object",
         "type": "string"
        },
        {
         "name": "userLastModified",
         "rawType": "object",
         "type": "string"
        },
        {
         "name": "rights",
         "rawType": "object",
         "type": "unknown"
        },
        {
         "name": "licenseType",
         "rawType": "object",
         "type": "string"
        },
        {
         "name": "licenseVersion",
         "rawType": "object",
         "type": "unknown"
        },
        {
         "name": "citation",
         "rawType": "object",
         "type": "unknown"
        },
        {
         "name": "resourceType",
         "rawType": "object",
         "type": "string"
        },
        {
         "name": "dataGeneralizations",
         "rawType": "object",
         "type": "unknown"
        },
        {
         "name": "informationWithheld",
         "rawType": "object",
         "type": "unknown"
        },
        {
         "name": "permissionsDocument",
         "rawType": "object",
         "type": "unknown"
        },
        {
         "name": "permissionsDocumentType",
         "rawType": "object",
         "type": "string"
        },
        {
         "name": "contentTypes",
         "rawType": "object",
         "type": "unknown"
        },
        {
         "name": "hasMappedCollections",
         "rawType": "bool",
         "type": "boolean"
        },
        {
         "name": "status",
         "rawType": "object",
         "type": "string"
        },
        {
         "name": "provenance",
         "rawType": "object",
         "type": "unknown"
        },
        {
         "name": "harvestFrequency",
         "rawType": "int64",
         "type": "integer"
        },
        {
         "name": "lastChecked",
         "rawType": "object",
         "type": "unknown"
        },
        {
         "name": "dataCurrency",
         "rawType": "object",
         "type": "unknown"
        },
        {
         "name": "harvestingNotes",
         "rawType": "object",
         "type": "unknown"
        },
        {
         "name": "publicArchiveAvailable",
         "rawType": "bool",
         "type": "boolean"
        },
        {
         "name": "publicArchiveUrl",
         "rawType": "object",
         "type": "string"
        },
        {
         "name": "gbifArchiveUrl",
         "rawType": "object",
         "type": "string"
        },
        {
         "name": "downloadLimit",
         "rawType": "int64",
         "type": "integer"
        },
        {
         "name": "gbifDataset",
         "rawType": "bool",
         "type": "boolean"
        },
        {
         "name": "isShareableWithGBIF",
         "rawType": "bool",
         "type": "boolean"
        },
        {
         "name": "verified",
         "rawType": "bool",
         "type": "boolean"
        },
        {
         "name": "gbifRegistryKey",
         "rawType": "object",
         "type": "unknown"
        },
        {
         "name": "doi",
         "rawType": "object",
         "type": "unknown"
        },
        {
         "name": "repatriationCountry",
         "rawType": "object",
         "type": "unknown"
        },
        {
         "name": "createdByID",
         "rawType": "object",
         "type": "unknown"
        },
        {
         "name": "cUpdStatus-jwt",
         "rawType": "object",
         "type": "string"
        }
       ],
       "ref": "5fb6e80b-468d-4aa0-9dac-8c1d15d1f00f",
       "rows": [
        [
         "0",
         "api-00 - dr22810 Rose Test - DR-List-jwt",
         null,
         "dr22810",
         null,
         null,
         null,
         null,
         null,
         "",
         "This list was first uploaded by Rosemary O'Connor on the Fri Aug 30 10:47:35 AEST 2024.It contains [totalRecords:37, successfulItems:37] taxa.",
         null,
         null,
         null,
         null,
         null,
         null,
         null,
         null,
         "https://lists-test.ala.org.au/speciesListItem/list/dr22810?max=10",
         "https://collections.test.ala.org.au/public/show/dr22810",
         null,
         "[]",
         "[]",
         "[]",
         "2024-08-30T00:47:35Z",
         "2025-10-23T05:14:33Z",
         "Rosemary OConnor",
         null,
         "other",
         null,
         null,
         "species-list",
         null,
         null,
         null,
         "Other",
         "['species list']",
         "False",
         "dataAvailable",
         null,
         "0",
         null,
         null,
         null,
         "False",
         "https://biocache.ala.org.au/archives/gbif/dr22810/dr22810.zip",
         "https://biocache.ala.org.au/archives/gbif/dr22810/dr22810.zip",
         "0",
         "False",
         "True",
         "False",
         null,
         null,
         null,
         null,
         "200"
        ]
       ],
       "shape": {
        "columns": 56,
        "rows": 1
       }
      },
      "text/html": [
       "<div>\n",
       "<style scoped>\n",
       "    .dataframe tbody tr th:only-of-type {\n",
       "        vertical-align: middle;\n",
       "    }\n",
       "\n",
       "    .dataframe tbody tr th {\n",
       "        vertical-align: top;\n",
       "    }\n",
       "\n",
       "    .dataframe thead th {\n",
       "        text-align: right;\n",
       "    }\n",
       "</style>\n",
       "<table border=\"1\" class=\"dataframe\">\n",
       "  <thead>\n",
       "    <tr style=\"text-align: right;\">\n",
       "      <th></th>\n",
       "      <th>name</th>\n",
       "      <th>acronym</th>\n",
       "      <th>uid</th>\n",
       "      <th>guid</th>\n",
       "      <th>address</th>\n",
       "      <th>phone</th>\n",
       "      <th>email</th>\n",
       "      <th>pubShortDescription</th>\n",
       "      <th>pubDescription</th>\n",
       "      <th>techDescription</th>\n",
       "      <th>...</th>\n",
       "      <th>gbifArchiveUrl</th>\n",
       "      <th>downloadLimit</th>\n",
       "      <th>gbifDataset</th>\n",
       "      <th>isShareableWithGBIF</th>\n",
       "      <th>verified</th>\n",
       "      <th>gbifRegistryKey</th>\n",
       "      <th>doi</th>\n",
       "      <th>repatriationCountry</th>\n",
       "      <th>createdByID</th>\n",
       "      <th>cUpdStatus-jwt</th>\n",
       "    </tr>\n",
       "  </thead>\n",
       "  <tbody>\n",
       "    <tr>\n",
       "      <th>0</th>\n",
       "      <td>api-00 - dr22810 Rose Test - DR-List-jwt</td>\n",
       "      <td>None</td>\n",
       "      <td>dr22810</td>\n",
       "      <td>None</td>\n",
       "      <td>None</td>\n",
       "      <td>None</td>\n",
       "      <td>None</td>\n",
       "      <td>None</td>\n",
       "      <td></td>\n",
       "      <td>This list was first uploaded by Rosemary O'Con...</td>\n",
       "      <td>...</td>\n",
       "      <td>https://biocache.ala.org.au/archives/gbif/dr22...</td>\n",
       "      <td>0</td>\n",
       "      <td>False</td>\n",
       "      <td>True</td>\n",
       "      <td>False</td>\n",
       "      <td>None</td>\n",
       "      <td>None</td>\n",
       "      <td>None</td>\n",
       "      <td>None</td>\n",
       "      <td>200</td>\n",
       "    </tr>\n",
       "  </tbody>\n",
       "</table>\n",
       "<p>1 rows × 56 columns</p>\n",
       "</div>"
      ],
      "text/plain": [
       "                                       name acronym      uid  guid address  \\\n",
       "0  api-00 - dr22810 Rose Test - DR-List-jwt    None  dr22810  None    None   \n",
       "\n",
       "  phone email pubShortDescription pubDescription  \\\n",
       "0  None  None                None                  \n",
       "\n",
       "                                     techDescription  ...  \\\n",
       "0  This list was first uploaded by Rosemary O'Con...  ...   \n",
       "\n",
       "                                      gbifArchiveUrl downloadLimit  \\\n",
       "0  https://biocache.ala.org.au/archives/gbif/dr22...             0   \n",
       "\n",
       "  gbifDataset isShareableWithGBIF verified gbifRegistryKey   doi  \\\n",
       "0       False                True    False            None  None   \n",
       "\n",
       "  repatriationCountry createdByID cUpdStatus-jwt  \n",
       "0                None        None            200  \n",
       "\n",
       "[1 rows x 56 columns]"
      ]
     },
     "execution_count": 14,
     "metadata": {},
     "output_type": "execute_result"
    }
   ],
   "source": [
    "# Update using jwt\n",
    "meta_df['name'] = meta_df['name'] + \"-jwt\"\n",
    "meta_df['cUpdStatus-jwt'] = meta_df.apply(lambda row: update_collectory_dr(row, collectory_url, authorization_jwt), axis=1)\n",
    "meta_df"
   ]
  }
 ],
 "metadata": {
  "kernelspec": {
   "display_name": "Python 3",
   "language": "python",
   "name": "python3"
  },
  "language_info": {
   "codemirror_mode": {
    "name": "ipython",
    "version": 3
   },
   "file_extension": ".py",
   "mimetype": "text/x-python",
   "name": "python",
   "nbconvert_exporter": "python",
   "pygments_lexer": "ipython3",
   "version": "3.12.10"
  }
 },
 "nbformat": 4,
 "nbformat_minor": 5
}
