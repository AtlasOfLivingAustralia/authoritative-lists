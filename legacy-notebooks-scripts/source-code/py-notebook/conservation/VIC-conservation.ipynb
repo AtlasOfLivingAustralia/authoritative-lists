{
 "cells": [
  {
   "cell_type": "markdown",
   "source": [
    "# State Conservation List - VIC\n",
    "\n",
    "This notebook downloads the VIC lists from the [Victorian Government Open Data Portal](https://vba.dse.vic.gov.au/vba/downloadVSC.do) and formats them in Darwin Core for ingestion into the ALA Lists tool.\n",
    "It will save original lists to the `source-data/VIC` directory, process the lists and save them to `current-lists`.\n",
    "The lists can be loaded into the lists-test environment then reviewed by following the instructions below.\n",
    "\n",
    "## Lists in the ALA Species List tool\n",
    "* Conservation list: __[dr655](https://lists.ala.org.au/speciesListItem/list/dr655)__ (dr655 in [test](https://lists-test.ala.org.au/speciesListItem/list/dr655))\n",
    "\n",
    "* Collection: __[dr655](https://collections.ala.org.au/public/show/dr655)__\n",
    "## Sources\n",
    "Victorian Biodivesity Atlas - Victoria Department of Environment, Land, Water and Planning\n",
    "See https://vba.biodiversity.vic.gov.au/vba\n",
    "\n",
    "* __[Metadata (Open Data Portal)](https://discover.data.vic.gov.au/dataset/victorian-biodiversity-atlas-vba-taxa-list1)__\n",
    "* __[VBA Metadata](https://vba.dse.vic.gov.au/vba/index.jsp)__ (requires sign in)\n",
    "* __[Data](https://vba.dse.vic.gov.au/vba/downloadVSC.do)__\n",
    "\n",
    "**Metadata Description**\n",
    "This list is generated from the subset of species listed in the Victorian Biodiversity Atlas (VBA) Taxa List downloaded from https://vba.dse.vic.gov.au/vba/downloadVSC.do which have a conservation status attributed to them.\n",
    "\n",
    "After the review of the Flora and Fauna Guarantee Act (FFG Act) all previously listed species under the three different legislations and policy have been re-assessed. The VBA has been updated to reflect the gazetted and published FFG Threatened List. The Conservation Status is now only EPBC and FFG. Vic Advisory Lists are now redundant but retained for your information as 'Old Advisory List'. This is the interim measure before the national Single Operational List is finalised, which will replace the 3 different lists previously held in Victoria. The FFG categories are the nationally agreed IUCN Red list terms plus the EPBC Conservation Dependent category.\n",
    "\n",
    "The main attributes in this table are the current VBA taxon_id, scientific name, common name, authority, family (where relevant), conservation status, origin and taxon type. Where possible, taxon id's have been included that provide a match to the obsolete Atlas of Victorian Wildlife taxaid, and the Flora Infromation System.\n",
    "\n",
    "**URL**\n",
    "https://discover.data.vic.gov.au/dataset/victorian-biodiversity-atlas-vba-taxa-list1\n",
    "\n",
    "Prerequisite: Data file has been downloaded into `source-data/VIC/Species-Checklist.csv`\n"
   ],
   "metadata": {
    "collapsed": false,
    "pycharm": {
     "name": "#%% md\n"
    }
   }
  },
  {
   "cell_type": "code",
   "execution_count": 6,
   "outputs": [
    {
     "name": "stderr",
     "output_type": "stream",
     "text": [
      "/Library/Frameworks/Python.framework/Versions/3.11/lib/python3.11/site-packages/urllib3/connectionpool.py:1099: InsecureRequestWarning: Unverified HTTPS request is being made to host 'vba.dse.vic.gov.au'. Adding certificate verification is strongly advised. See: https://urllib3.readthedocs.io/en/latest/advanced-usage.html#tls-warnings\n",
      "  warnings.warn(\n"
     ]
    }
   ],
   "source": [
    "import pandas as pd\n",
    "import sys\n",
    "import os\n",
    "import datetime\n",
    "import os.path as path\n",
    "import requests\n",
    "\n",
    "# top level directory\n",
    "projectDir = path.abspath(path.join(os.getcwd(),\"../../..\")) + \"/\"\n",
    "statusDir = projectDir + \"source-data/status-codes/\"\n",
    "monthStr = datetime.datetime.now().strftime('%Y%m')\n",
    "\n",
    "sys.path.append(os.path.abspath(projectDir + \"source-code/includes\"))\n",
    "import list_functions as lf\n",
    "\n",
    "vicchecklisturl = \"https://vba.dse.vic.gov.au/vba/downloadVSC.do\" # gets a csv\n",
    "response = requests.get(vicchecklisturl,verify=False)\n",
    "with open(projectDir + \"source-data/VIC/Species-Checklist.csv\",mode=\"wb\") as file:\n",
    "    file.write(response.content)"
   ],
   "metadata": {
    "collapsed": false,
    "pycharm": {
     "name": "#%%\n"
    },
    "ExecuteTime": {
     "end_time": "2024-09-30T02:48:27.900902Z",
     "start_time": "2024-09-30T02:48:19.937595Z"
    }
   }
  },
  {
   "cell_type": "markdown",
   "source": [
    "# Extract and format initial list\n",
    "1. Drop non-required columns\n",
    "2. Rename columns for Darwin Core list terms\n",
    "3. Assign additional required list fields"
   ],
   "metadata": {
    "collapsed": false,
    "pycharm": {
     "name": "#%% md\n"
    }
   }
  },
  {
   "cell_type": "code",
   "source": [
    "vicchecklist = pd.read_csv(projectDir + \"source-data/VIC/Species-Checklist.csv\",encoding='cp1252')\n",
    "vicchecklist['LAST_MOD'].drop_duplicates().sort_values()"
   ],
   "metadata": {
    "collapsed": false,
    "pycharm": {
     "name": "#%%\n"
    },
    "ExecuteTime": {
     "end_time": "2024-09-30T02:48:35.333473Z",
     "start_time": "2024-09-30T02:48:35.231654Z"
    }
   },
   "execution_count": 7,
   "outputs": [
    {
     "data": {
      "text/plain": "22265    01/01/2010\n10469    01/02/2012\n11305    01/02/2018\n12537    01/02/2021\n18373    01/03/2017\n            ...    \n10167    31/10/2014\n13157    31/10/2016\n163      31/10/2017\n10538    31/10/2018\n11246    31/10/2020\nName: LAST_MOD, Length: 1015, dtype: object"
     },
     "execution_count": 7,
     "metadata": {},
     "output_type": "execute_result"
    }
   ]
  },
  {
   "cell_type": "code",
   "execution_count": 8,
   "outputs": [],
   "source": [
    "# Drop columns\n",
    "vicchecklist = vicchecklist.drop(['PARENT_TAXON_LEVEL_CDE','PARENT_TAXON_ID','ALL_DISCIPLINE_CODES',\n",
    "                                          'TREATIES','SHORT_NAME','NVIS_GROWTHFORM','SCIENTIFIC_NME_SYNONYM',\n",
    "                                          'COMMON_NME_SYNONYM','PRINT_ORDER_NUM', 'VIC_ADVISORY_STATUS', 'ORIGIN'],axis=1)\n",
    "# Rename columns\n",
    "vicchecklist = vicchecklist.rename(columns=\n",
    "{\n",
    "    'SCIENTIFIC_NAME':'scientificName',\n",
    "    'FFG_ACT_STATUS':'ffgactstatus',\n",
    "    'EPBC_ACT_STATUS': 'epbcactStatus',\n",
    "    'TAXON_LEVEL_CDE': 'taxonRank',\n",
    "    'ORIGIN': 'establishmentMeans',\n",
    "    'COMMON_NME_SYNONYM': 'taxonRemarks',\n",
    "    'COMMON_NAME':'vernacularName',\n",
    "    'AUTHORITY':'scientificNameAuthority',\n",
    "    'PRIMARY_DISCIPLINE': 'primaryDiscipline',\n",
    "    'RESTRICTED_FLAG' : 'restrictedFlag',\n",
    "    'EXTRACT_DATE': 'extractDate',\n",
    "    'LAST_MOD':'modified'\n",
    "})\n",
    "vicchecklist['status'] = vicchecklist['ffgactstatus'].str.replace('(Extinct in Victoria)', '',  regex=False)\n",
    "vicchecklist['taxonRank'] = 'species'\n",
    "vicchecklist['status'] = vicchecklist['ffgactstatus']\n",
    "vicchecklist['sourceStatus'] = vicchecklist['ffgactstatus']\n",
    "\n",
    "# reformat date\n",
    "vicchecklist['extractDate'] = pd.to_datetime(vicchecklist['extractDate'], format='%d/%m/%Y')\n",
    "vicchecklist['extractDate'] = vicchecklist['extractDate'].dt.strftime('%Y-%m-%d')\n",
    "vicchecklist['modified'] = pd.to_datetime(vicchecklist['modified'], format='%d/%m/%Y')\n",
    "vicchecklist['modified'] = vicchecklist['modified'].dt.strftime('%Y-%m-%d')"
   ],
   "metadata": {
    "collapsed": false,
    "pycharm": {
     "name": "#%%\n"
    },
    "ExecuteTime": {
     "end_time": "2024-09-30T02:49:21.973949Z",
     "start_time": "2024-09-30T02:49:21.931207Z"
    }
   }
  },
  {
   "cell_type": "code",
   "execution_count": 9,
   "outputs": [
    {
     "data": {
      "text/plain": "array([nan, 'Extinct', 'Endangered', 'Critically Endangered',\n       'Vulnerable', 'Threatened', 'Conservation Dependent',\n       'Endangered (Extinct in Victoria)'], dtype=object)"
     },
     "execution_count": 9,
     "metadata": {},
     "output_type": "execute_result"
    }
   ],
   "source": [
    "vicchecklist['status'].unique()"
   ],
   "metadata": {
    "collapsed": false,
    "pycharm": {
     "name": "#%%\n"
    },
    "ExecuteTime": {
     "end_time": "2024-09-30T02:49:25.272573Z",
     "start_time": "2024-09-30T02:49:25.233383Z"
    }
   }
  },
  {
   "cell_type": "code",
   "execution_count": 11,
   "outputs": [
    {
     "data": {
      "text/plain": "status\nConservation Dependent                 3\nCritically Endangered                555\nEndangered                          1081\nEndangered (Extinct in Victoria)       1\nExtinct                               53\nThreatened                             4\nVulnerable                           307\ndtype: int64"
     },
     "execution_count": 11,
     "metadata": {},
     "output_type": "execute_result"
    }
   ],
   "source": [
    "vicchecklist.groupby(['status']).size()"
   ],
   "metadata": {
    "collapsed": false,
    "ExecuteTime": {
     "end_time": "2024-09-30T02:50:45.306368Z",
     "start_time": "2024-09-30T02:50:45.298334Z"
    }
   }
  },
  {
   "cell_type": "code",
   "execution_count": 12,
   "outputs": [],
   "source": [
    "vicchecklist['status'] = vicchecklist['status'].str.replace('(Extinct in Victoria)', '',  regex=False)\n",
    "vicchecklist['status'] = vicchecklist['status'].str.strip()"
   ],
   "metadata": {
    "collapsed": false,
    "pycharm": {
     "name": "#%%\n"
    },
    "ExecuteTime": {
     "end_time": "2024-09-30T02:51:04.239295Z",
     "start_time": "2024-09-30T02:51:04.233651Z"
    }
   }
  },
  {
   "cell_type": "markdown",
   "source": [
    "# Split out conservation list"
   ],
   "metadata": {
    "collapsed": false,
    "pycharm": {
     "name": "#%% md\n"
    }
   }
  },
  {
   "cell_type": "code",
   "execution_count": 13,
   "outputs": [
    {
     "data": {
      "text/plain": "                            0\nconservation list count  2004",
      "text/html": "<div>\n<style scoped>\n    .dataframe tbody tr th:only-of-type {\n        vertical-align: middle;\n    }\n\n    .dataframe tbody tr th {\n        vertical-align: top;\n    }\n\n    .dataframe thead th {\n        text-align: right;\n    }\n</style>\n<table border=\"1\" class=\"dataframe\">\n  <thead>\n    <tr style=\"text-align: right;\">\n      <th></th>\n      <th>0</th>\n    </tr>\n  </thead>\n  <tbody>\n    <tr>\n      <th>conservation list count</th>\n      <td>2004</td>\n    </tr>\n  </tbody>\n</table>\n</div>"
     },
     "execution_count": 13,
     "metadata": {},
     "output_type": "execute_result"
    }
   ],
   "source": [
    "conservationList = vicchecklist[vicchecklist[\"status\"].notna()]\n",
    "\n",
    "c = [len(conservationList.index)]\n",
    "d = {'conservation list count':[len(conservationList.index)]}\n",
    "pd.DataFrame(d).transpose()"
   ],
   "metadata": {
    "collapsed": false,
    "pycharm": {
     "name": "#%%\n"
    },
    "ExecuteTime": {
     "end_time": "2024-09-30T02:51:13.707024Z",
     "start_time": "2024-09-30T02:51:13.694817Z"
    }
   }
  },
  {
   "cell_type": "markdown",
   "source": [
    "## Process Conservation list"
   ],
   "metadata": {
    "collapsed": false,
    "pycharm": {
     "name": "#%% md\n"
    }
   }
  },
  {
   "cell_type": "code",
   "execution_count": 14,
   "outputs": [
    {
     "data": {
      "text/plain": "array(['Extinct', 'Endangered', 'Critically Endangered', 'Vulnerable',\n       'Threatened', 'Conservation Dependent'], dtype=object)"
     },
     "execution_count": 14,
     "metadata": {},
     "output_type": "execute_result"
    }
   ],
   "source": [
    "conservationList['status'].unique()"
   ],
   "metadata": {
    "collapsed": false,
    "pycharm": {
     "name": "#%%\n"
    },
    "ExecuteTime": {
     "end_time": "2024-09-30T02:51:18.943564Z",
     "start_time": "2024-09-30T02:51:18.934558Z"
    }
   }
  },
  {
   "cell_type": "code",
   "execution_count": 15,
   "outputs": [
    {
     "data": {
      "text/plain": "Index(['TAXON_ID', 'scientificName', 'vernacularName',\n       'scientificNameAuthority', 'primaryDiscipline', 'taxonRank',\n       'TAXON_TYPE', 'ffgactstatus', 'epbcactStatus', 'restrictedFlag',\n       'modified', 'extractDate', 'status', 'sourceStatus'],\n      dtype='object')"
     },
     "execution_count": 15,
     "metadata": {},
     "output_type": "execute_result"
    }
   ],
   "source": [
    "conservationList.columns"
   ],
   "metadata": {
    "collapsed": false,
    "pycharm": {
     "name": "#%%\n"
    },
    "ExecuteTime": {
     "end_time": "2024-09-30T02:51:24.070095Z",
     "start_time": "2024-09-30T02:51:24.060611Z"
    }
   }
  },
  {
   "cell_type": "code",
   "execution_count": 16,
   "outputs": [],
   "source": [
    "conservationList= conservationList.loc[:, ['scientificName', 'vernacularName', 'status', 'sourceStatus']]"
   ],
   "metadata": {
    "collapsed": false,
    "pycharm": {
     "name": "#%%\n"
    },
    "ExecuteTime": {
     "end_time": "2024-09-30T02:51:38.017096Z",
     "start_time": "2024-09-30T02:51:38.008424Z"
    }
   }
  },
  {
   "cell_type": "code",
   "execution_count": 19,
   "outputs": [],
   "source": [
    "#Write to CSV\n",
    "dr = 'dr655'\n",
    "conservationList.to_csv(projectDir + \"source-data/publication-ready-lists/current-lists/conservation-lists/VIC-\" + dr + \"-conservation.csv\",  encoding=\"UTF-8\", index=False)"
   ],
   "metadata": {
    "collapsed": false,
    "pycharm": {
     "name": "#%%\n"
    },
    "ExecuteTime": {
     "end_time": "2024-09-30T02:58:57.640842Z",
     "start_time": "2024-09-30T02:58:57.620367Z"
    }
   }
  },
  {
   "cell_type": "code",
   "execution_count": null,
   "outputs": [],
   "source": [
    "### Change logs"
   ],
   "metadata": {
    "collapsed": false,
    "pycharm": {
     "name": "#%%\n"
    }
   }
  },
  {
   "cell_type": "code",
   "execution_count": null,
   "outputs": [],
   "source": [
    "ltype = \"C\"\n",
    "changeDir = \"Monitoring/Change-logs/\"\n",
    "# VIC Conservation\n",
    "print('VIC conservation')\n",
    "filename = \"VIC-conservation.csv\"\n",
    "testdr = \"dr655\"\n",
    "proddr = \"dr655\"\n",
    "changelist = lf.get_changelist(testdr, proddr, ltype)\n",
    "changelist.to_csv(projectDir + changeDir + monthStr + \"-\" + filename, encoding=\"UTF-8\", index=False)\n",
    "print('Finished VIC conservation')\n"
   ],
   "metadata": {
    "collapsed": false,
    "pycharm": {
     "name": "#%%\n"
    }
   }
  },
  {
   "cell_type": "code",
   "execution_count": null,
   "outputs": [],
   "source": [
    "# Download historical lists from Production\n",
    "prodListUrl = \"https://lists.ala.org.au/ws/speciesListItems/\" + proddr + \"?max=10000&includeKVP=true\"\n",
    "prodList = lf.download_ala_specieslist(prodListUrl)  # save the prod list to the historical lists directory\n",
    "prodList = lf.kvp_to_columns(prodList)\n",
    "prodList.to_csv(projectDir + \"historical-lists/conservation/\" + filename, encoding=\"UTF-8\", index=False)\n",
    "print('Finished downloading conservation historical list')"
   ],
   "metadata": {
    "collapsed": false,
    "pycharm": {
     "name": "#%%\n"
    }
   }
  }
 ],
 "metadata": {
  "kernelspec": {
   "display_name": "Python 3",
   "language": "python",
   "name": "python3"
  },
  "language_info": {
   "codemirror_mode": {
    "name": "ipython",
    "version": 2
   },
   "file_extension": ".py",
   "mimetype": "text/x-python",
   "name": "python",
   "nbconvert_exporter": "python",
   "pygments_lexer": "ipython2",
   "version": "2.7.6"
  }
 },
 "nbformat": 4,
 "nbformat_minor": 0
}
