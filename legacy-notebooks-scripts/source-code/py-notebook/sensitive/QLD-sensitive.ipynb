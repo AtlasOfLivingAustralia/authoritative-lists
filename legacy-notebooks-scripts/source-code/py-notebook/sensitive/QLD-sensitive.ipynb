{
 "cells": [
  {
   "cell_type": "markdown",
   "source": [],
   "metadata": {
    "collapsed": false,
    "pycharm": {
     "name": "#%% md\n"
    }
   }
  },
  {
   "cell_type": "code",
   "execution_count": 11,
   "outputs": [],
   "source": [
    "import pandas as pd\n",
    "import requests\n",
    "import io\n",
    "from ftfy import fix_encoding\n",
    "import os\n",
    "import sys\n",
    "import datetime\n",
    "import os.path as path\n",
    "\n",
    "# top level directory\n",
    "projectDir = path.abspath(path.join(os.getcwd(),\"../../..\")) + \"/\"\n",
    "sys.path.append(os.path.abspath(projectDir + \"source-code/includes\"))\n",
    "import list_functions as lf\n",
    "\n",
    "sourceDataDir = projectDir + \"source-data/QLD/\"\n",
    "statusDir = projectDir + \"source-data/status-codes/\"\n",
    "processedDataDir = projectDir + \"current-lists/\"\n",
    "state = 'QLD'\n",
    "monthStr = datetime.datetime.now().strftime('%Y%m')\n",
    "codesfile = statusDir + state + \"-codes.csv\"\n",
    "codesurl =  \"https://apps.des.qld.gov.au/data-sets/wildlife/wildnet/species-status-codes.csv\"\n",
    "sensitivelisturl = \"https://apps.des.qld.gov.au/data-sets/wildlife/wildnet/qld-confidential-species.csv\"\n",
    "prodListDruid = \"dr493\"\n",
    "testListDruid = \"dr18404\""
   ],
   "metadata": {
    "collapsed": false,
    "pycharm": {
     "name": "#%%\n"
    },
    "ExecuteTime": {
     "end_time": "2024-02-16T05:42:57.975728Z",
     "start_time": "2024-02-16T05:42:57.962033Z"
    }
   }
  },
  {
   "cell_type": "markdown",
   "source": [
    "## Download the raw files from data.qld.gov.au\n",
    "... save locally"
   ],
   "metadata": {
    "collapsed": false,
    "pycharm": {
     "name": "#%% md\n"
    }
   }
  },
  {
   "cell_type": "code",
   "execution_count": 2,
   "outputs": [],
   "source": [
    "# Status codes\n",
    "response = requests.get(codesurl)\n",
    "rtext = fix_encoding(response.text)\n",
    "speciescodes = pd.read_csv(io.StringIO(rtext))\n",
    "speciescodes.to_csv(sourceDataDir + \"species-status-codes.csv\", index=False)\n",
    "\n",
    "# Confidential/Sensitive List\n",
    "response = requests.get(sensitivelisturl)\n",
    "rtext = fix_encoding(response.text)\n",
    "sensitivelist = pd.read_csv(io.StringIO(rtext))\n",
    "sensitivelist.to_csv(sourceDataDir + \"qld-confidential-species.csv\", index=False)"
   ],
   "metadata": {
    "collapsed": false,
    "pycharm": {
     "name": "#%%\n"
    },
    "ExecuteTime": {
     "end_time": "2024-01-12T04:38:52.269420Z",
     "start_time": "2024-01-12T04:38:50.540276Z"
    }
   }
  },
  {
   "cell_type": "markdown",
   "source": [
    "... read local file"
   ],
   "metadata": {
    "collapsed": false
   }
  },
  {
   "cell_type": "code",
   "execution_count": 17,
   "outputs": [],
   "source": [
    "speciescodes = pd.read_csv(sourceDataDir + \"species-status-codes.csv\")\n",
    "sensitivelist = pd.read_csv(sourceDataDir + \"qld-confidential-species.csv\")"
   ],
   "metadata": {
    "collapsed": false,
    "pycharm": {
     "name": "#%%\n"
    },
    "ExecuteTime": {
     "end_time": "2024-02-16T06:00:07.829913Z",
     "start_time": "2024-02-16T06:00:07.797504Z"
    }
   }
  },
  {
   "cell_type": "markdown",
   "source": [],
   "metadata": {
    "collapsed": false,
    "pycharm": {
     "name": "#%% md\n"
    }
   }
  },
  {
   "cell_type": "code",
   "execution_count": 18,
   "outputs": [
    {
     "data": {
      "text/plain": "   Code       Code_description\n20    C          Least concern\n21   CR  Critically Endangered\n22    E             Endangered\n23   EX                Extinct\n24    I          International\n25   NT        Near Threatened\n26    P             Prohibited\n27   PE    Extinct in the wild\n28   SL  Special least concern\n29    V             Vulnerable",
      "text/html": "<div>\n<style scoped>\n    .dataframe tbody tr th:only-of-type {\n        vertical-align: middle;\n    }\n\n    .dataframe tbody tr th {\n        vertical-align: top;\n    }\n\n    .dataframe thead th {\n        text-align: right;\n    }\n</style>\n<table border=\"1\" class=\"dataframe\">\n  <thead>\n    <tr style=\"text-align: right;\">\n      <th></th>\n      <th>Code</th>\n      <th>Code_description</th>\n    </tr>\n  </thead>\n  <tbody>\n    <tr>\n      <th>20</th>\n      <td>C</td>\n      <td>Least concern</td>\n    </tr>\n    <tr>\n      <th>21</th>\n      <td>CR</td>\n      <td>Critically Endangered</td>\n    </tr>\n    <tr>\n      <th>22</th>\n      <td>E</td>\n      <td>Endangered</td>\n    </tr>\n    <tr>\n      <th>23</th>\n      <td>EX</td>\n      <td>Extinct</td>\n    </tr>\n    <tr>\n      <th>24</th>\n      <td>I</td>\n      <td>International</td>\n    </tr>\n    <tr>\n      <th>25</th>\n      <td>NT</td>\n      <td>Near Threatened</td>\n    </tr>\n    <tr>\n      <th>26</th>\n      <td>P</td>\n      <td>Prohibited</td>\n    </tr>\n    <tr>\n      <th>27</th>\n      <td>PE</td>\n      <td>Extinct in the wild</td>\n    </tr>\n    <tr>\n      <th>28</th>\n      <td>SL</td>\n      <td>Special least concern</td>\n    </tr>\n    <tr>\n      <th>29</th>\n      <td>V</td>\n      <td>Vulnerable</td>\n    </tr>\n  </tbody>\n</table>\n</div>"
     },
     "execution_count": 18,
     "metadata": {},
     "output_type": "execute_result"
    }
   ],
   "source": [
    "ncastatuscodes = speciescodes[speciescodes['Field'] == \"NCA_status\"][['Code', 'Code_description']]\n",
    "ncastatuscodes['Code_description'] = ncastatuscodes['Code_description'].str.replace(\" wildlife\", \"\")\n",
    "ncastatuscodes.loc[\n",
    "    ncastatuscodes['Code_description'] == \"Critically endangered\", 'Code_description'] = \"Critically Endangered\"\n",
    "ncastatuscodes.loc[ncastatuscodes['Code_description'] == \"Near threatened\", 'Code_description'] = \"Near Threatened\"\n",
    "ncastatuscodes"
   ],
   "metadata": {
    "collapsed": false,
    "pycharm": {
     "name": "#%%\n"
    },
    "ExecuteTime": {
     "end_time": "2024-02-16T06:00:12.869255Z",
     "start_time": "2024-02-16T06:00:12.847066Z"
    }
   }
  },
  {
   "cell_type": "markdown",
   "source": [
    "## List processing\n",
    "* Expand the nca status, endemicity and epbc status codes\n",
    "* Rename fields to DwC terms\n",
    "* Replace kingdom and class values with scientific terms"
   ],
   "metadata": {
    "collapsed": false,
    "pycharm": {
     "name": "#%% md\n"
    }
   }
  },
  {
   "cell_type": "code",
   "execution_count": 19,
   "outputs": [
    {
     "data": {
      "text/plain": "                   scientificName  \\\n0            Rhinolophus robertsi   \n1               Chloebia gouldiae   \n2              Erythrura trichroa   \n3    Neochmia phaeton evangelinae   \n4          Poephila cincta cincta   \n..                            ...   \n955      Pneumatopteris pennigera   \n956           Reholttumia costata   \n957         Thelypteris confluens   \n958            Macadamia jansenii   \n959        Tmesipteris lanceolata   \n\n                                     vernacularName category  WildNetTaxonID  \\\n0                 greater large-eared horseshoe bat       EN             969   \n1                                    Gouldian finch       EN            1376   \n2                           blue-faced parrot-finch       NT            1378   \n3          crimson finch (white-bellied subspecies)       LC            1370   \n4    black-throated finch (white-rumped subspecies)       EN            1365   \n..                                              ...      ...             ...   \n955                                       lime fern       UK           11700   \n956                                             NaN       NT           42079   \n957                                             NaN       VU           16042   \n958                                             NaN       CR            8185   \n959                                             NaN       EW            8486   \n\n                    status   kingdom            family generalisation  \n0               Endangered  Animalia     Rhinolophidae           2 km  \n1               Endangered  Animalia       Estrildidae           2 km  \n2          Near Threatened  Animalia       Estrildidae           2 km  \n3            Least concern  Animalia       Estrildidae           2 km  \n4               Endangered  Animalia       Estrildidae           2 km  \n..                     ...       ...               ...            ...  \n955                    NaN   Plantae  Thelypteridaceae           2 km  \n956        Near Threatened   Plantae  Thelypteridaceae           2 km  \n957             Vulnerable   Plantae  Thelypteridaceae           2 km  \n958  Critically Endangered   Plantae        Proteaceae           2 km  \n959    Extinct in the wild   Plantae       Psilotaceae           2 km  \n\n[960 rows x 8 columns]",
      "text/html": "<div>\n<style scoped>\n    .dataframe tbody tr th:only-of-type {\n        vertical-align: middle;\n    }\n\n    .dataframe tbody tr th {\n        vertical-align: top;\n    }\n\n    .dataframe thead th {\n        text-align: right;\n    }\n</style>\n<table border=\"1\" class=\"dataframe\">\n  <thead>\n    <tr style=\"text-align: right;\">\n      <th></th>\n      <th>scientificName</th>\n      <th>vernacularName</th>\n      <th>category</th>\n      <th>WildNetTaxonID</th>\n      <th>status</th>\n      <th>kingdom</th>\n      <th>family</th>\n      <th>generalisation</th>\n    </tr>\n  </thead>\n  <tbody>\n    <tr>\n      <th>0</th>\n      <td>Rhinolophus robertsi</td>\n      <td>greater large-eared horseshoe bat</td>\n      <td>EN</td>\n      <td>969</td>\n      <td>Endangered</td>\n      <td>Animalia</td>\n      <td>Rhinolophidae</td>\n      <td>2 km</td>\n    </tr>\n    <tr>\n      <th>1</th>\n      <td>Chloebia gouldiae</td>\n      <td>Gouldian finch</td>\n      <td>EN</td>\n      <td>1376</td>\n      <td>Endangered</td>\n      <td>Animalia</td>\n      <td>Estrildidae</td>\n      <td>2 km</td>\n    </tr>\n    <tr>\n      <th>2</th>\n      <td>Erythrura trichroa</td>\n      <td>blue-faced parrot-finch</td>\n      <td>NT</td>\n      <td>1378</td>\n      <td>Near Threatened</td>\n      <td>Animalia</td>\n      <td>Estrildidae</td>\n      <td>2 km</td>\n    </tr>\n    <tr>\n      <th>3</th>\n      <td>Neochmia phaeton evangelinae</td>\n      <td>crimson finch (white-bellied subspecies)</td>\n      <td>LC</td>\n      <td>1370</td>\n      <td>Least concern</td>\n      <td>Animalia</td>\n      <td>Estrildidae</td>\n      <td>2 km</td>\n    </tr>\n    <tr>\n      <th>4</th>\n      <td>Poephila cincta cincta</td>\n      <td>black-throated finch (white-rumped subspecies)</td>\n      <td>EN</td>\n      <td>1365</td>\n      <td>Endangered</td>\n      <td>Animalia</td>\n      <td>Estrildidae</td>\n      <td>2 km</td>\n    </tr>\n    <tr>\n      <th>...</th>\n      <td>...</td>\n      <td>...</td>\n      <td>...</td>\n      <td>...</td>\n      <td>...</td>\n      <td>...</td>\n      <td>...</td>\n      <td>...</td>\n    </tr>\n    <tr>\n      <th>955</th>\n      <td>Pneumatopteris pennigera</td>\n      <td>lime fern</td>\n      <td>UK</td>\n      <td>11700</td>\n      <td>NaN</td>\n      <td>Plantae</td>\n      <td>Thelypteridaceae</td>\n      <td>2 km</td>\n    </tr>\n    <tr>\n      <th>956</th>\n      <td>Reholttumia costata</td>\n      <td>NaN</td>\n      <td>NT</td>\n      <td>42079</td>\n      <td>Near Threatened</td>\n      <td>Plantae</td>\n      <td>Thelypteridaceae</td>\n      <td>2 km</td>\n    </tr>\n    <tr>\n      <th>957</th>\n      <td>Thelypteris confluens</td>\n      <td>NaN</td>\n      <td>VU</td>\n      <td>16042</td>\n      <td>Vulnerable</td>\n      <td>Plantae</td>\n      <td>Thelypteridaceae</td>\n      <td>2 km</td>\n    </tr>\n    <tr>\n      <th>958</th>\n      <td>Macadamia jansenii</td>\n      <td>NaN</td>\n      <td>CR</td>\n      <td>8185</td>\n      <td>Critically Endangered</td>\n      <td>Plantae</td>\n      <td>Proteaceae</td>\n      <td>2 km</td>\n    </tr>\n    <tr>\n      <th>959</th>\n      <td>Tmesipteris lanceolata</td>\n      <td>NaN</td>\n      <td>EW</td>\n      <td>8486</td>\n      <td>Extinct in the wild</td>\n      <td>Plantae</td>\n      <td>Psilotaceae</td>\n      <td>2 km</td>\n    </tr>\n  </tbody>\n</table>\n<p>960 rows × 8 columns</p>\n</div>"
     },
     "execution_count": 19,
     "metadata": {},
     "output_type": "execute_result"
    }
   ],
   "source": [
    "# nca status\n",
    "sensitivelist = pd.merge(sensitivelist,ncastatuscodes,left_on=['NCA status'],right_on=['Code'],how=\"left\")\n",
    "#sensitivelist = sensitivelist.rename(columns={'NCA status':'sourceStatus'})\n",
    "sensitivelist = sensitivelist[['Scientific name', 'Common name', 'NCA status','Taxon Id', 'Code_description','Kingdom','Family']]\n",
    "sensitivelist = sensitivelist.rename(columns= {'Scientific name':'scientificName',\n",
    "                                               'Common name': 'vernacularName',\n",
    "                                                'NCA status': 'category', \n",
    "                                                'Taxon Id':'WildNetTaxonID',\n",
    "                                               'Code_description':'status',\n",
    "                                               'Kingdom':'kingdom',\n",
    "                                               'Family':'family'})\n",
    "sensitivelist['generalisation'] = \"2 km\"\n",
    "# map sourceStatus to category\n",
    "codeMap = {'C': 'LC', 'CR': 'CR', 'E': 'EN',\n",
    "           'NT': 'NT','PE': 'EW', 'SL': 'SL',\n",
    "           'V': 'VU'}\n",
    "kingdomMap = {'animals':'Animalia','plants':'Plantae','fungi':'Fungi'}\n",
    "sensitivelist['kingdom'] = sensitivelist['kingdom'].replace(kingdomMap)\n",
    "sensitivelist['category'] = sensitivelist['category'].replace(codeMap)\n",
    "sensitivelist['category'] = sensitivelist['category'].fillna('UK')\n",
    "sensitivelist.to_csv(processedDataDir + 'sensitive-lists/QLD-' + prodListDruid + '-sensitive.csv',encoding=\"UTF-8\",index=False)\n",
    "sensitivelist"
   ],
   "metadata": {
    "collapsed": false,
    "pycharm": {
     "name": "#%%\n"
    },
    "ExecuteTime": {
     "end_time": "2024-02-16T06:00:16.790593Z",
     "start_time": "2024-02-16T06:00:16.776657Z"
    }
   }
  },
  {
   "cell_type": "code",
   "execution_count": null,
   "outputs": [],
   "source": [],
   "metadata": {
    "collapsed": false
   }
  },
  {
   "cell_type": "markdown",
   "source": [],
   "metadata": {
    "collapsed": false
   }
  },
  {
   "cell_type": "markdown",
   "source": [
    "### Change Logs\n",
    "Upload the file to the test environment before running the below cell to compare it to the list in production.\n",
    "- check record counts old vs new and verify count in change log\n",
    "- send to domain experts for verification"
   ],
   "metadata": {
    "collapsed": false,
    "pycharm": {
     "name": "#%% md\n"
    }
   }
  },
  {
   "cell_type": "code",
   "execution_count": 20,
   "outputs": [
    {
     "data": {
      "text/plain": "Empty DataFrame\nColumns: [name, scientificName, commonName, listUpdate]\nIndex: []",
      "text/html": "<div>\n<style scoped>\n    .dataframe tbody tr th:only-of-type {\n        vertical-align: middle;\n    }\n\n    .dataframe tbody tr th {\n        vertical-align: top;\n    }\n\n    .dataframe thead th {\n        text-align: right;\n    }\n</style>\n<table border=\"1\" class=\"dataframe\">\n  <thead>\n    <tr style=\"text-align: right;\">\n      <th></th>\n      <th>name</th>\n      <th>scientificName</th>\n      <th>commonName</th>\n      <th>listUpdate</th>\n    </tr>\n  </thead>\n  <tbody>\n  </tbody>\n</table>\n</div>"
     },
     "execution_count": 20,
     "metadata": {},
     "output_type": "execute_result"
    }
   ],
   "source": [
    "ltype = \"S\"\n",
    "changeDir = \"Monitoring/Change-logs/\"\n",
    "filename = \"QLD-sensitive.csv\"\n",
    "changelist = lf.get_changelist(testListDruid, prodListDruid, ltype)\n",
    "changelist.to_csv(projectDir + changeDir + monthStr + \"-\" + filename, encoding=\"UTF-8\", index=False)\n",
    "changelist"
   ],
   "metadata": {
    "collapsed": false,
    "pycharm": {
     "name": "#%%\n"
    },
    "ExecuteTime": {
     "end_time": "2024-02-16T06:00:32.520996Z",
     "start_time": "2024-02-16T06:00:28.417683Z"
    }
   }
  },
  {
   "cell_type": "markdown",
   "source": [
    "## Back up the list in production to `historical-lists`\n",
    "If all ok, run the following to keep a copy of the list in prod before overwriting it"
   ],
   "metadata": {
    "collapsed": false
   }
  },
  {
   "cell_type": "code",
   "execution_count": 16,
   "outputs": [],
   "source": [
    "filename = state + \"-\" + prodListDruid + \"-sensitive.csv\"\n",
    "prodListUrl = \"https://lists.ala.org.au/ws/speciesListItems/\" + prodListDruid + \"?max=10000&includeKVP=true\"\n",
    "prodList = lf.download_ala_specieslist(prodListUrl)\n",
    "prodList = lf.kvp_to_columns(prodList)\n",
    "prodList.to_csv(projectDir + \"historical-lists/sensitive/\" + filename, encoding=\"UTF-8\", index=False)"
   ],
   "metadata": {
    "collapsed": false,
    "pycharm": {
     "name": "#%%\n"
    },
    "ExecuteTime": {
     "end_time": "2024-02-16T05:44:00.122865Z",
     "start_time": "2024-02-16T05:43:58.208780Z"
    }
   }
  }
 ],
 "metadata": {
  "kernelspec": {
   "display_name": "Python 3",
   "language": "python",
   "name": "python3"
  },
  "language_info": {
   "codemirror_mode": {
    "name": "ipython",
    "version": 2
   },
   "file_extension": ".py",
   "mimetype": "text/x-python",
   "name": "python",
   "nbconvert_exporter": "python",
   "pygments_lexer": "ipython2",
   "version": "2.7.6"
  }
 },
 "nbformat": 4,
 "nbformat_minor": 0
}
