{
 "cells": [
  {
   "cell_type": "markdown",
   "metadata": {
    "collapsed": true,
    "pycharm": {
     "name": "#%% md\n"
    }
   },
   "source": [
    "# BirdLife International Taxonomic Checklist\n",
    "\n",
    "## v6b\n",
    "\n",
    "(v4 - Australian species only - below)\n",
    "\n",
    "**Metadata:** [http://datazone.birdlife.org/species/taxonomy](http://datazone.birdlife.org/species/taxonomy)\n",
    "**Data:** [http://datazone.birdlife.org/userfiles/file/Species/Taxonomy/HBW-BirdLife_Checklist_v6b_Jul22.zip](http://datazone.birdlife.org/userfiles/file/Species/Taxonomy/HBW-BirdLife_Checklist_v6b_Jul22.zip)\n"
   ]
  },
  {
   "cell_type": "code",
   "execution_count": 3,
   "outputs": [],
   "source": [
    "# setup\n",
    "import requests\n",
    "import pandas as pd\n",
    "import zipfile\n",
    "import shutil # to remove the unzipped files and not plonk them in github\n",
    "\n",
    "url = \"http://datazone.birdlife.org/userfiles/file/Species/Taxonomy/HBW-BirdLife_Checklist_v6b_Jul22.zip\"\n",
    "projectDir = \"/Users/new330/IdeaProjects/authoritative-lists/\"\n",
    "sourceDataDir = projectDir + \"source-data/birdlife/\"\n",
    "processedDataDir = projectDir + \"current-lists/birdlife/\""
   ],
   "metadata": {
    "collapsed": false,
    "pycharm": {
     "name": "#%%\n"
    }
   }
  },
  {
   "cell_type": "code",
   "execution_count": 4,
   "outputs": [
    {
     "name": "stdout",
     "output_type": "stream",
     "text": [
      "skipping # comment this line to download dataset from the web and save locally\n"
     ]
    }
   ],
   "source": [
    "%%script echo skipping # comment this line to download dataset from the web and save locally\n",
    "\n",
    "r = requests.get(url)\n",
    "with open(sourceDataDir + \"HBW-BirdLife_Checklist_v6b_Jul22.zip\", 'wb') as f:\n",
    "    f.write(r.content)"
   ],
   "metadata": {
    "collapsed": false,
    "pycharm": {
     "name": "#%%\n"
    }
   }
  },
  {
   "cell_type": "code",
   "execution_count": 5,
   "outputs": [
    {
     "data": {
      "text/plain": "['2022_1 Red List changes.xlsx',\n \"BirdLife's taxonomic approach 2021.docx\",\n 'Handbook of the Birds of the World and BirdLife International Digital Checklist of the birds of the world v6b.pdf',\n 'Handbook of the Birds of the World and BirdLife International Digital Checklist of the Birds of the World_Version_6b.xlsx',\n 'HBW and BirdLife International Digital Checklist of the Birds of the World_Version_6 Taxonomic Notes.xlsx']"
     },
     "execution_count": 5,
     "metadata": {},
     "output_type": "execute_result"
    }
   ],
   "source": [
    "z=zipfile.ZipFile(sourceDataDir + \"HBW-BirdLife_Checklist_v6b_Jul22.zip\")\n",
    "z.namelist()"
   ],
   "metadata": {
    "collapsed": false,
    "pycharm": {
     "name": "#%%\n"
    }
   }
  },
  {
   "cell_type": "code",
   "execution_count": 6,
   "outputs": [
    {
     "data": {
      "text/plain": "  Unnamed: 0   Unnamed: 1                                         Unnamed: 2  \\\n0        NaN          NaN  Citation: HBW and BirdLife International (2022...   \n1        NaN          NaN                                                NaN   \n2       Seq.  Subsp. Seq.                                              Order   \n3          1            0                                   STRUTHIONIFORMES   \n4          1            1                                                NaN   \n5          1            2                                                NaN   \n6          1            3                                                NaN   \n7          1            4                                                NaN   \n8          2            0                                   STRUTHIONIFORMES   \n9          3            0                                   STRUTHIONIFORMES   \n\n      Unnamed: 3 Unnamed: 4 Unnamed: 5 Unnamed: 6      Unnamed: 7  \\\n0            NaN        NaN        NaN        NaN             NaN   \n1            NaN        NaN        NaN        NaN             NaN   \n2    Family name     Family  Subfamily      Tribe     Common name   \n3  Struthionidae  Ostriches        NaN        NaN  Common Ostrich   \n4            NaN        NaN        NaN        NaN             NaN   \n5            NaN        NaN        NaN        NaN             NaN   \n6            NaN        NaN        NaN        NaN             NaN   \n7            NaN        NaN        NaN        NaN             NaN   \n8  Struthionidae  Ostriches        NaN        NaN  Somali Ostrich   \n9        Rheidae      Rheas        NaN        NaN    Greater Rhea   \n\n                   Unnamed: 8        Unnamed: 9  \\\n0                         NaN               NaN   \n1                         NaN               NaN   \n2             Scientific name         Authority   \n3            Struthio camelus    Linnaeus, 1758   \n4   Struthio camelus syriacus               NaN   \n5    Struthio camelus camelus               NaN   \n6  Struthio camelus massaicus               NaN   \n7  Struthio camelus australis               NaN   \n8      Struthio molybdophanes   Reichenow, 1883   \n9              Rhea americana  (Linnaeus, 1758)   \n\n                                         Unnamed: 10  \\\n0                                                NaN   \n1                                                NaN   \n2  BirdLife taxonomic treatment:\\nR = recognised ...   \n3                                                  R   \n4                                                NaN   \n5                                                NaN   \n6                                                NaN   \n7                                                NaN   \n8                                                  R   \n9                                                  R   \n\n                   Unnamed: 11 Unnamed: 12  \\\n0                          NaN         NaN   \n1                          NaN         NaN   \n2  2022 IUCN Red List category    Synonyms   \n3                           LC         NaN   \n4                          NaN         NaN   \n5                          NaN         NaN   \n6                          NaN         NaN   \n7                          NaN         NaN   \n8                           VU         NaN   \n9                           NT         NaN   \n\n                                 Unnamed: 13  \\\n0                                        NaN   \n1                                        NaN   \n2                   Alternative common names   \n3                                        NaN   \n4                                        NaN   \n5                                        NaN   \n6                                        NaN   \n7                                        NaN   \n8                                        NaN   \n9  Common Rhea, Avestruz, Ñandú, Ñandú Común   \n\n                                         Unnamed: 14  \\\n0                                                NaN   \n1                                                NaN   \n2                                Taxonomic source(s)   \n3  del Hoyo, J., Collar, N.J., Christie, D.A., El...   \n4                                                NaN   \n5                                                NaN   \n6                                                NaN   \n7                                                NaN   \n8  del Hoyo, J., Collar, N.J., Christie, D.A., El...   \n9  del Hoyo, J., Collar, N.J., Christie, D.A., El...   \n\n                                         Unnamed: 15  \\\n0                                                NaN   \n1                                                NaN   \n2  SISRecID\\n(unique value asigned to each taxono...   \n3                                           45020636   \n4                                                NaN   \n5                                                NaN   \n6                                                NaN   \n7                                                NaN   \n8                                           22732795   \n9                                           22678073   \n\n                                         Unnamed: 16 Unnamed: 17  \n0                                                NaN         NaN  \n1                                                NaN         NaN  \n2  SpcRecID\\n(used in previous versions of the ch...    SubsppID  \n3                                            1016860         NaN  \n4                                                NaN  45020636_1  \n5                                                NaN  45020636_2  \n6                                                NaN  45020636_3  \n7                                                NaN  45020636_4  \n8                                              31769         NaN  \n9                                                  2         NaN  ",
      "text/html": "<div>\n<style scoped>\n    .dataframe tbody tr th:only-of-type {\n        vertical-align: middle;\n    }\n\n    .dataframe tbody tr th {\n        vertical-align: top;\n    }\n\n    .dataframe thead th {\n        text-align: right;\n    }\n</style>\n<table border=\"1\" class=\"dataframe\">\n  <thead>\n    <tr style=\"text-align: right;\">\n      <th></th>\n      <th>Unnamed: 0</th>\n      <th>Unnamed: 1</th>\n      <th>Unnamed: 2</th>\n      <th>Unnamed: 3</th>\n      <th>Unnamed: 4</th>\n      <th>Unnamed: 5</th>\n      <th>Unnamed: 6</th>\n      <th>Unnamed: 7</th>\n      <th>Unnamed: 8</th>\n      <th>Unnamed: 9</th>\n      <th>Unnamed: 10</th>\n      <th>Unnamed: 11</th>\n      <th>Unnamed: 12</th>\n      <th>Unnamed: 13</th>\n      <th>Unnamed: 14</th>\n      <th>Unnamed: 15</th>\n      <th>Unnamed: 16</th>\n      <th>Unnamed: 17</th>\n    </tr>\n  </thead>\n  <tbody>\n    <tr>\n      <th>0</th>\n      <td>NaN</td>\n      <td>NaN</td>\n      <td>Citation: HBW and BirdLife International (2022...</td>\n      <td>NaN</td>\n      <td>NaN</td>\n      <td>NaN</td>\n      <td>NaN</td>\n      <td>NaN</td>\n      <td>NaN</td>\n      <td>NaN</td>\n      <td>NaN</td>\n      <td>NaN</td>\n      <td>NaN</td>\n      <td>NaN</td>\n      <td>NaN</td>\n      <td>NaN</td>\n      <td>NaN</td>\n      <td>NaN</td>\n    </tr>\n    <tr>\n      <th>1</th>\n      <td>NaN</td>\n      <td>NaN</td>\n      <td>NaN</td>\n      <td>NaN</td>\n      <td>NaN</td>\n      <td>NaN</td>\n      <td>NaN</td>\n      <td>NaN</td>\n      <td>NaN</td>\n      <td>NaN</td>\n      <td>NaN</td>\n      <td>NaN</td>\n      <td>NaN</td>\n      <td>NaN</td>\n      <td>NaN</td>\n      <td>NaN</td>\n      <td>NaN</td>\n      <td>NaN</td>\n    </tr>\n    <tr>\n      <th>2</th>\n      <td>Seq.</td>\n      <td>Subsp. Seq.</td>\n      <td>Order</td>\n      <td>Family name</td>\n      <td>Family</td>\n      <td>Subfamily</td>\n      <td>Tribe</td>\n      <td>Common name</td>\n      <td>Scientific name</td>\n      <td>Authority</td>\n      <td>BirdLife taxonomic treatment:\\nR = recognised ...</td>\n      <td>2022 IUCN Red List category</td>\n      <td>Synonyms</td>\n      <td>Alternative common names</td>\n      <td>Taxonomic source(s)</td>\n      <td>SISRecID\\n(unique value asigned to each taxono...</td>\n      <td>SpcRecID\\n(used in previous versions of the ch...</td>\n      <td>SubsppID</td>\n    </tr>\n    <tr>\n      <th>3</th>\n      <td>1</td>\n      <td>0</td>\n      <td>STRUTHIONIFORMES</td>\n      <td>Struthionidae</td>\n      <td>Ostriches</td>\n      <td>NaN</td>\n      <td>NaN</td>\n      <td>Common Ostrich</td>\n      <td>Struthio camelus</td>\n      <td>Linnaeus, 1758</td>\n      <td>R</td>\n      <td>LC</td>\n      <td>NaN</td>\n      <td>NaN</td>\n      <td>del Hoyo, J., Collar, N.J., Christie, D.A., El...</td>\n      <td>45020636</td>\n      <td>1016860</td>\n      <td>NaN</td>\n    </tr>\n    <tr>\n      <th>4</th>\n      <td>1</td>\n      <td>1</td>\n      <td>NaN</td>\n      <td>NaN</td>\n      <td>NaN</td>\n      <td>NaN</td>\n      <td>NaN</td>\n      <td>NaN</td>\n      <td>Struthio camelus syriacus</td>\n      <td>NaN</td>\n      <td>NaN</td>\n      <td>NaN</td>\n      <td>NaN</td>\n      <td>NaN</td>\n      <td>NaN</td>\n      <td>NaN</td>\n      <td>NaN</td>\n      <td>45020636_1</td>\n    </tr>\n    <tr>\n      <th>5</th>\n      <td>1</td>\n      <td>2</td>\n      <td>NaN</td>\n      <td>NaN</td>\n      <td>NaN</td>\n      <td>NaN</td>\n      <td>NaN</td>\n      <td>NaN</td>\n      <td>Struthio camelus camelus</td>\n      <td>NaN</td>\n      <td>NaN</td>\n      <td>NaN</td>\n      <td>NaN</td>\n      <td>NaN</td>\n      <td>NaN</td>\n      <td>NaN</td>\n      <td>NaN</td>\n      <td>45020636_2</td>\n    </tr>\n    <tr>\n      <th>6</th>\n      <td>1</td>\n      <td>3</td>\n      <td>NaN</td>\n      <td>NaN</td>\n      <td>NaN</td>\n      <td>NaN</td>\n      <td>NaN</td>\n      <td>NaN</td>\n      <td>Struthio camelus massaicus</td>\n      <td>NaN</td>\n      <td>NaN</td>\n      <td>NaN</td>\n      <td>NaN</td>\n      <td>NaN</td>\n      <td>NaN</td>\n      <td>NaN</td>\n      <td>NaN</td>\n      <td>45020636_3</td>\n    </tr>\n    <tr>\n      <th>7</th>\n      <td>1</td>\n      <td>4</td>\n      <td>NaN</td>\n      <td>NaN</td>\n      <td>NaN</td>\n      <td>NaN</td>\n      <td>NaN</td>\n      <td>NaN</td>\n      <td>Struthio camelus australis</td>\n      <td>NaN</td>\n      <td>NaN</td>\n      <td>NaN</td>\n      <td>NaN</td>\n      <td>NaN</td>\n      <td>NaN</td>\n      <td>NaN</td>\n      <td>NaN</td>\n      <td>45020636_4</td>\n    </tr>\n    <tr>\n      <th>8</th>\n      <td>2</td>\n      <td>0</td>\n      <td>STRUTHIONIFORMES</td>\n      <td>Struthionidae</td>\n      <td>Ostriches</td>\n      <td>NaN</td>\n      <td>NaN</td>\n      <td>Somali Ostrich</td>\n      <td>Struthio molybdophanes</td>\n      <td>Reichenow, 1883</td>\n      <td>R</td>\n      <td>VU</td>\n      <td>NaN</td>\n      <td>NaN</td>\n      <td>del Hoyo, J., Collar, N.J., Christie, D.A., El...</td>\n      <td>22732795</td>\n      <td>31769</td>\n      <td>NaN</td>\n    </tr>\n    <tr>\n      <th>9</th>\n      <td>3</td>\n      <td>0</td>\n      <td>STRUTHIONIFORMES</td>\n      <td>Rheidae</td>\n      <td>Rheas</td>\n      <td>NaN</td>\n      <td>NaN</td>\n      <td>Greater Rhea</td>\n      <td>Rhea americana</td>\n      <td>(Linnaeus, 1758)</td>\n      <td>R</td>\n      <td>NT</td>\n      <td>NaN</td>\n      <td>Common Rhea, Avestruz, Ñandú, Ñandú Común</td>\n      <td>del Hoyo, J., Collar, N.J., Christie, D.A., El...</td>\n      <td>22678073</td>\n      <td>2</td>\n      <td>NaN</td>\n    </tr>\n  </tbody>\n</table>\n</div>"
     },
     "execution_count": 6,
     "metadata": {},
     "output_type": "execute_result"
    }
   ],
   "source": [
    "with z.open(z.namelist()[3]) as from_archive:\n",
    "    bltaxa = pd.read_excel(from_archive)\n",
    "bltaxa.head(10)"
   ],
   "metadata": {
    "collapsed": false,
    "pycharm": {
     "name": "#%%\n"
    }
   }
  },
  {
   "cell_type": "markdown",
   "source": [
    "## Clean up"
   ],
   "metadata": {
    "collapsed": false,
    "pycharm": {
     "name": "#%% md\n"
    }
   }
  },
  {
   "cell_type": "code",
   "execution_count": 7,
   "outputs": [
    {
     "data": {
      "text/plain": "2  Sequence Subspecies Sequence             order         family  \\\n3         1                   0  STRUTHIONIFORMES  Struthionidae   \n4         1                   1               NaN            NaN   \n5         1                   2               NaN            NaN   \n6         1                   3               NaN            NaN   \n7         1                   4               NaN            NaN   \n8         2                   0  STRUTHIONIFORMES  Struthionidae   \n9         3                   0  STRUTHIONIFORMES        Rheidae   \n10        3                   1               NaN            NaN   \n11        3                   2               NaN            NaN   \n12        3                   3               NaN            NaN   \n\n2  Family Common Name subfamily tribe  vernacularName  \\\n3           Ostriches       NaN   NaN  Common Ostrich   \n4                 NaN       NaN   NaN             NaN   \n5                 NaN       NaN   NaN             NaN   \n6                 NaN       NaN   NaN             NaN   \n7                 NaN       NaN   NaN             NaN   \n8           Ostriches       NaN   NaN  Somali Ostrich   \n9               Rheas       NaN   NaN    Greater Rhea   \n10                NaN       NaN   NaN             NaN   \n11                NaN       NaN   NaN             NaN   \n12                NaN       NaN   NaN             NaN   \n\n2               scientificName scientificNameAuthorship  \\\n3             Struthio camelus           Linnaeus, 1758   \n4    Struthio camelus syriacus                      NaN   \n5     Struthio camelus camelus                      NaN   \n6   Struthio camelus massaicus                      NaN   \n7   Struthio camelus australis                      NaN   \n8       Struthio molybdophanes          Reichenow, 1883   \n9               Rhea americana         (Linnaeus, 1758)   \n10    Rhea americana araneipes                      NaN   \n11    Rhea americana albescens                      NaN   \n12      Rhea americana nobilis                      NaN   \n\n2  BirdLife taxonomic treatment 2022 IUCN Red List category Synonyms  \\\n3                             R                          LC      NaN   \n4                           NaN                         NaN      NaN   \n5                           NaN                         NaN      NaN   \n6                           NaN                         NaN      NaN   \n7                           NaN                         NaN      NaN   \n8                             R                          VU      NaN   \n9                             R                          NT      NaN   \n10                          NaN                         NaN      NaN   \n11                          NaN                         NaN      NaN   \n12                          NaN                         NaN      NaN   \n\n2                    Alternative common names  \\\n3                                         NaN   \n4                                         NaN   \n5                                         NaN   \n6                                         NaN   \n7                                         NaN   \n8                                         NaN   \n9   Common Rhea, Avestruz, Ñandú, Ñandú Común   \n10                                        NaN   \n11                                        NaN   \n12                                        NaN   \n\n2                                 Taxonomic source(s)  SISRecID SpcRecID  \\\n3   del Hoyo, J., Collar, N.J., Christie, D.A., El...  45020636  1016860   \n4                                                 NaN       NaN      NaN   \n5                                                 NaN       NaN      NaN   \n6                                                 NaN       NaN      NaN   \n7                                                 NaN       NaN      NaN   \n8   del Hoyo, J., Collar, N.J., Christie, D.A., El...  22732795    31769   \n9   del Hoyo, J., Collar, N.J., Christie, D.A., El...  22678073        2   \n10                                                NaN       NaN      NaN   \n11                                                NaN       NaN      NaN   \n12                                                NaN       NaN      NaN   \n\n2     SubsppID  \n3          NaN  \n4   45020636_1  \n5   45020636_2  \n6   45020636_3  \n7   45020636_4  \n8          NaN  \n9          NaN  \n10  22678073_1  \n11  22678073_2  \n12  22678073_3  ",
      "text/html": "<div>\n<style scoped>\n    .dataframe tbody tr th:only-of-type {\n        vertical-align: middle;\n    }\n\n    .dataframe tbody tr th {\n        vertical-align: top;\n    }\n\n    .dataframe thead th {\n        text-align: right;\n    }\n</style>\n<table border=\"1\" class=\"dataframe\">\n  <thead>\n    <tr style=\"text-align: right;\">\n      <th>2</th>\n      <th>Sequence</th>\n      <th>Subspecies Sequence</th>\n      <th>order</th>\n      <th>family</th>\n      <th>Family Common Name</th>\n      <th>subfamily</th>\n      <th>tribe</th>\n      <th>vernacularName</th>\n      <th>scientificName</th>\n      <th>scientificNameAuthorship</th>\n      <th>BirdLife taxonomic treatment</th>\n      <th>2022 IUCN Red List category</th>\n      <th>Synonyms</th>\n      <th>Alternative common names</th>\n      <th>Taxonomic source(s)</th>\n      <th>SISRecID</th>\n      <th>SpcRecID</th>\n      <th>SubsppID</th>\n    </tr>\n  </thead>\n  <tbody>\n    <tr>\n      <th>3</th>\n      <td>1</td>\n      <td>0</td>\n      <td>STRUTHIONIFORMES</td>\n      <td>Struthionidae</td>\n      <td>Ostriches</td>\n      <td>NaN</td>\n      <td>NaN</td>\n      <td>Common Ostrich</td>\n      <td>Struthio camelus</td>\n      <td>Linnaeus, 1758</td>\n      <td>R</td>\n      <td>LC</td>\n      <td>NaN</td>\n      <td>NaN</td>\n      <td>del Hoyo, J., Collar, N.J., Christie, D.A., El...</td>\n      <td>45020636</td>\n      <td>1016860</td>\n      <td>NaN</td>\n    </tr>\n    <tr>\n      <th>4</th>\n      <td>1</td>\n      <td>1</td>\n      <td>NaN</td>\n      <td>NaN</td>\n      <td>NaN</td>\n      <td>NaN</td>\n      <td>NaN</td>\n      <td>NaN</td>\n      <td>Struthio camelus syriacus</td>\n      <td>NaN</td>\n      <td>NaN</td>\n      <td>NaN</td>\n      <td>NaN</td>\n      <td>NaN</td>\n      <td>NaN</td>\n      <td>NaN</td>\n      <td>NaN</td>\n      <td>45020636_1</td>\n    </tr>\n    <tr>\n      <th>5</th>\n      <td>1</td>\n      <td>2</td>\n      <td>NaN</td>\n      <td>NaN</td>\n      <td>NaN</td>\n      <td>NaN</td>\n      <td>NaN</td>\n      <td>NaN</td>\n      <td>Struthio camelus camelus</td>\n      <td>NaN</td>\n      <td>NaN</td>\n      <td>NaN</td>\n      <td>NaN</td>\n      <td>NaN</td>\n      <td>NaN</td>\n      <td>NaN</td>\n      <td>NaN</td>\n      <td>45020636_2</td>\n    </tr>\n    <tr>\n      <th>6</th>\n      <td>1</td>\n      <td>3</td>\n      <td>NaN</td>\n      <td>NaN</td>\n      <td>NaN</td>\n      <td>NaN</td>\n      <td>NaN</td>\n      <td>NaN</td>\n      <td>Struthio camelus massaicus</td>\n      <td>NaN</td>\n      <td>NaN</td>\n      <td>NaN</td>\n      <td>NaN</td>\n      <td>NaN</td>\n      <td>NaN</td>\n      <td>NaN</td>\n      <td>NaN</td>\n      <td>45020636_3</td>\n    </tr>\n    <tr>\n      <th>7</th>\n      <td>1</td>\n      <td>4</td>\n      <td>NaN</td>\n      <td>NaN</td>\n      <td>NaN</td>\n      <td>NaN</td>\n      <td>NaN</td>\n      <td>NaN</td>\n      <td>Struthio camelus australis</td>\n      <td>NaN</td>\n      <td>NaN</td>\n      <td>NaN</td>\n      <td>NaN</td>\n      <td>NaN</td>\n      <td>NaN</td>\n      <td>NaN</td>\n      <td>NaN</td>\n      <td>45020636_4</td>\n    </tr>\n    <tr>\n      <th>8</th>\n      <td>2</td>\n      <td>0</td>\n      <td>STRUTHIONIFORMES</td>\n      <td>Struthionidae</td>\n      <td>Ostriches</td>\n      <td>NaN</td>\n      <td>NaN</td>\n      <td>Somali Ostrich</td>\n      <td>Struthio molybdophanes</td>\n      <td>Reichenow, 1883</td>\n      <td>R</td>\n      <td>VU</td>\n      <td>NaN</td>\n      <td>NaN</td>\n      <td>del Hoyo, J., Collar, N.J., Christie, D.A., El...</td>\n      <td>22732795</td>\n      <td>31769</td>\n      <td>NaN</td>\n    </tr>\n    <tr>\n      <th>9</th>\n      <td>3</td>\n      <td>0</td>\n      <td>STRUTHIONIFORMES</td>\n      <td>Rheidae</td>\n      <td>Rheas</td>\n      <td>NaN</td>\n      <td>NaN</td>\n      <td>Greater Rhea</td>\n      <td>Rhea americana</td>\n      <td>(Linnaeus, 1758)</td>\n      <td>R</td>\n      <td>NT</td>\n      <td>NaN</td>\n      <td>Common Rhea, Avestruz, Ñandú, Ñandú Común</td>\n      <td>del Hoyo, J., Collar, N.J., Christie, D.A., El...</td>\n      <td>22678073</td>\n      <td>2</td>\n      <td>NaN</td>\n    </tr>\n    <tr>\n      <th>10</th>\n      <td>3</td>\n      <td>1</td>\n      <td>NaN</td>\n      <td>NaN</td>\n      <td>NaN</td>\n      <td>NaN</td>\n      <td>NaN</td>\n      <td>NaN</td>\n      <td>Rhea americana araneipes</td>\n      <td>NaN</td>\n      <td>NaN</td>\n      <td>NaN</td>\n      <td>NaN</td>\n      <td>NaN</td>\n      <td>NaN</td>\n      <td>NaN</td>\n      <td>NaN</td>\n      <td>22678073_1</td>\n    </tr>\n    <tr>\n      <th>11</th>\n      <td>3</td>\n      <td>2</td>\n      <td>NaN</td>\n      <td>NaN</td>\n      <td>NaN</td>\n      <td>NaN</td>\n      <td>NaN</td>\n      <td>NaN</td>\n      <td>Rhea americana albescens</td>\n      <td>NaN</td>\n      <td>NaN</td>\n      <td>NaN</td>\n      <td>NaN</td>\n      <td>NaN</td>\n      <td>NaN</td>\n      <td>NaN</td>\n      <td>NaN</td>\n      <td>22678073_2</td>\n    </tr>\n    <tr>\n      <th>12</th>\n      <td>3</td>\n      <td>3</td>\n      <td>NaN</td>\n      <td>NaN</td>\n      <td>NaN</td>\n      <td>NaN</td>\n      <td>NaN</td>\n      <td>NaN</td>\n      <td>Rhea americana nobilis</td>\n      <td>NaN</td>\n      <td>NaN</td>\n      <td>NaN</td>\n      <td>NaN</td>\n      <td>NaN</td>\n      <td>NaN</td>\n      <td>NaN</td>\n      <td>NaN</td>\n      <td>22678073_3</td>\n    </tr>\n  </tbody>\n</table>\n</div>"
     },
     "execution_count": 7,
     "metadata": {},
     "output_type": "execute_result"
    }
   ],
   "source": [
    "# grab the citation to use in the list metadata before deleting from the list\n",
    "citation = bltaxa['Unnamed: 2'][0]\n",
    "# delete the first 2 lines and make the 3rd line the colnames\n",
    "bltaxa.columns = bltaxa.loc[2]\n",
    "bltaxa = bltaxa[bltaxa['Seq.'].notna()]\n",
    "bltaxa = bltaxa[bltaxa['Seq.']!= 'Seq.']\n",
    "#rename columns\n",
    "bltaxa = bltaxa.rename(columns=\n",
    "                       {'Seq.': 'Sequence',\n",
    "                        'Subsp. Seq.': 'Subspecies Sequence',\n",
    "                        'Order': 'order',\n",
    "                        'Family name': 'family',\n",
    "                        'Family': 'Family Common Name',\n",
    "                        'Subfamily': 'subfamily',\n",
    "                        'Tribe': 'tribe',\n",
    "                        'Common name': 'vernacularName',\n",
    "                        'Scientific name' : 'scientificName',\n",
    "                        'Authority' : 'scientificNameAuthorship',\n",
    "                        \"BirdLife taxonomic treatment:\\nR = recognised as a species;\\nNR = not recognised as a species\" : 'BirdLife taxonomic treatment',\n",
    "                        \"SISRecID\\n(unique value asigned to each taxonomic entity by IUCN/BirdLife. Use this to compare year to year changes from 2014 onwards)\": \"SISRecID\",\n",
    "                        \"SpcRecID\\n(used in previous versions of the checklist)\":\"SpcRecID\"})\n",
    "bltaxa.head(10)\n"
   ],
   "metadata": {
    "collapsed": false,
    "pycharm": {
     "name": "#%%\n"
    }
   }
  },
  {
   "cell_type": "code",
   "execution_count": 9,
   "outputs": [
    {
     "data": {
      "text/plain": "'Citation: HBW and BirdLife International (2022) Handbook of the Birds of the World and BirdLife International digital checklist of the birds of the world. Version 6b. Available at: http://datazone.birdlife.org/userfiles/file/Species/Taxonomy/HBW-BirdLife_Checklist_v6b_Jul22.zip\\n\\nFurther details and taxonomic notes for all species can be found on the BirdLife taxonomy page: http://datazone.birdlife.org/species/taxonomy'"
     },
     "execution_count": 9,
     "metadata": {},
     "output_type": "execute_result"
    }
   ],
   "source": [
    "# remove the other stuff\n",
    "#expandedZipPath = sourceDataDir + \"HBW-BirdLife_Checklist_v6b_Jul22\"\n",
    "#shutil.rmtree(expandedZipPath)\n",
    "\n",
    "# ready to go. save to csv. load into the lists tool\n",
    "bltaxa.to_csv(processedDataDir + \"HBW-BirdLife_Checklist_v6b_Jul22.csv\",index=False)\n",
    "citation"
   ],
   "metadata": {
    "collapsed": false,
    "pycharm": {
     "name": "#%%\n"
    }
   }
  },
  {
   "cell_type": "markdown",
   "source": [
    "## BirdLife Australia Working List v4"
   ],
   "metadata": {
    "collapsed": false,
    "pycharm": {
     "name": "#%% md\n"
    }
   }
  },
  {
   "cell_type": "code",
   "execution_count": 40,
   "outputs": [
    {
     "data": {
      "text/plain": "   TaxonSort UltrataxonID TaxonLevel  SpNo TaxonID           TaxonName  \\\n0          1                      sp   928     928             Ostrich   \n1          2            1        ssp   928    u928     Eastern Ostrich   \n2          3            1         sp     2      u2  Southern Cassowary   \n3          4                      sp     1       1                 Emu   \n4          5            1        ssp     1     u1a       Tasmanian Emu   \n\n                    TaxonScientificName      FamilyCommonName  \\\n0                      Struthio camelus             Ostriches   \n1            Struthio camelus massaicus             Ostriches   \n2                   Casuarius casuarius  Emus and Cassowaries   \n3              Dromaius novaehollandiae  Emus and Cassowaries   \n4  Dromaius novaehollandiae diemenensis  Emus and Cassowaries   \n\n  FamilyScientificName             Order        Population  \\\n0        Struthionidae  Struthioniformes        Introduced   \n1        Struthionidae  Struthioniformes        Introduced   \n2          Casuariidae  Struthioniformes        Australian   \n3          Casuariidae  Struthioniformes           Endemic   \n4          Casuariidae  Struthioniformes  Extinct, Endemic   \n\n  Australian IUCN RedListStatus_2020 Supplementary    ABD_Avibase ID  \n0                                                   avibase-2247CB05  \n1                                                   avibase-BF8ED7FA  \n2                      Least Concern                avibase-8B9D93D8  \n3                                                   avibase-2DB5A970  \n4                            Extinct                avibase-27CB32C8  ",
      "text/html": "<div>\n<style scoped>\n    .dataframe tbody tr th:only-of-type {\n        vertical-align: middle;\n    }\n\n    .dataframe tbody tr th {\n        vertical-align: top;\n    }\n\n    .dataframe thead th {\n        text-align: right;\n    }\n</style>\n<table border=\"1\" class=\"dataframe\">\n  <thead>\n    <tr style=\"text-align: right;\">\n      <th></th>\n      <th>TaxonSort</th>\n      <th>UltrataxonID</th>\n      <th>TaxonLevel</th>\n      <th>SpNo</th>\n      <th>TaxonID</th>\n      <th>TaxonName</th>\n      <th>TaxonScientificName</th>\n      <th>FamilyCommonName</th>\n      <th>FamilyScientificName</th>\n      <th>Order</th>\n      <th>Population</th>\n      <th>Australian IUCN RedListStatus_2020</th>\n      <th>Supplementary</th>\n      <th>ABD_Avibase ID</th>\n    </tr>\n  </thead>\n  <tbody>\n    <tr>\n      <th>0</th>\n      <td>1</td>\n      <td></td>\n      <td>sp</td>\n      <td>928</td>\n      <td>928</td>\n      <td>Ostrich</td>\n      <td>Struthio camelus</td>\n      <td>Ostriches</td>\n      <td>Struthionidae</td>\n      <td>Struthioniformes</td>\n      <td>Introduced</td>\n      <td></td>\n      <td></td>\n      <td>avibase-2247CB05</td>\n    </tr>\n    <tr>\n      <th>1</th>\n      <td>2</td>\n      <td>1</td>\n      <td>ssp</td>\n      <td>928</td>\n      <td>u928</td>\n      <td>Eastern Ostrich</td>\n      <td>Struthio camelus massaicus</td>\n      <td>Ostriches</td>\n      <td>Struthionidae</td>\n      <td>Struthioniformes</td>\n      <td>Introduced</td>\n      <td></td>\n      <td></td>\n      <td>avibase-BF8ED7FA</td>\n    </tr>\n    <tr>\n      <th>2</th>\n      <td>3</td>\n      <td>1</td>\n      <td>sp</td>\n      <td>2</td>\n      <td>u2</td>\n      <td>Southern Cassowary</td>\n      <td>Casuarius casuarius</td>\n      <td>Emus and Cassowaries</td>\n      <td>Casuariidae</td>\n      <td>Struthioniformes</td>\n      <td>Australian</td>\n      <td>Least Concern</td>\n      <td></td>\n      <td>avibase-8B9D93D8</td>\n    </tr>\n    <tr>\n      <th>3</th>\n      <td>4</td>\n      <td></td>\n      <td>sp</td>\n      <td>1</td>\n      <td>1</td>\n      <td>Emu</td>\n      <td>Dromaius novaehollandiae</td>\n      <td>Emus and Cassowaries</td>\n      <td>Casuariidae</td>\n      <td>Struthioniformes</td>\n      <td>Endemic</td>\n      <td></td>\n      <td></td>\n      <td>avibase-2DB5A970</td>\n    </tr>\n    <tr>\n      <th>4</th>\n      <td>5</td>\n      <td>1</td>\n      <td>ssp</td>\n      <td>1</td>\n      <td>u1a</td>\n      <td>Tasmanian Emu</td>\n      <td>Dromaius novaehollandiae diemenensis</td>\n      <td>Emus and Cassowaries</td>\n      <td>Casuariidae</td>\n      <td>Struthioniformes</td>\n      <td>Extinct, Endemic</td>\n      <td>Extinct</td>\n      <td></td>\n      <td>avibase-27CB32C8</td>\n    </tr>\n  </tbody>\n</table>\n</div>"
     },
     "execution_count": 40,
     "metadata": {},
     "output_type": "execute_result"
    }
   ],
   "source": [
    "bla4 = pd.read_excel(sourceDataDir+\"BWL-BirdLife_Australia_Working_List_v4.xlsx\",na_filter=False)\n",
    "bla4.head(5)"
   ],
   "metadata": {
    "collapsed": false,
    "pycharm": {
     "name": "#%%\n"
    }
   }
  },
  {
   "cell_type": "code",
   "execution_count": 41,
   "outputs": [
    {
     "data": {
      "text/plain": "   TaxonSort UltrataxonID   taxonRank  SpNo taxonID      vernacularName  \\\n0          1                  species   928     928             Ostrich   \n1          2            1  subspecies   928    u928     Eastern Ostrich   \n2          3            1     species     2      u2  Southern Cassowary   \n3          4                  species     1       1                 Emu   \n4          5            1  subspecies     1     u1a       Tasmanian Emu   \n\n                         scientificName      FamilyCommonName         family  \\\n0                      Struthio camelus             Ostriches  Struthionidae   \n1            Struthio camelus massaicus             Ostriches  Struthionidae   \n2                   Casuarius casuarius  Emus and Cassowaries    Casuariidae   \n3              Dromaius novaehollandiae  Emus and Cassowaries    Casuariidae   \n4  Dromaius novaehollandiae diemenensis  Emus and Cassowaries    Casuariidae   \n\n              order        Population Australian IUCN RedListStatus_2020  \\\n0  Struthioniformes        Introduced                                      \n1  Struthioniformes        Introduced                                      \n2  Struthioniformes        Australian                      Least Concern   \n3  Struthioniformes           Endemic                                      \n4  Struthioniformes  Extinct, Endemic                            Extinct   \n\n  Supplementary    ABD_Avibase ID  \n0                avibase-2247CB05  \n1                avibase-BF8ED7FA  \n2                avibase-8B9D93D8  \n3                avibase-2DB5A970  \n4                avibase-27CB32C8  ",
      "text/html": "<div>\n<style scoped>\n    .dataframe tbody tr th:only-of-type {\n        vertical-align: middle;\n    }\n\n    .dataframe tbody tr th {\n        vertical-align: top;\n    }\n\n    .dataframe thead th {\n        text-align: right;\n    }\n</style>\n<table border=\"1\" class=\"dataframe\">\n  <thead>\n    <tr style=\"text-align: right;\">\n      <th></th>\n      <th>TaxonSort</th>\n      <th>UltrataxonID</th>\n      <th>taxonRank</th>\n      <th>SpNo</th>\n      <th>taxonID</th>\n      <th>vernacularName</th>\n      <th>scientificName</th>\n      <th>FamilyCommonName</th>\n      <th>family</th>\n      <th>order</th>\n      <th>Population</th>\n      <th>Australian IUCN RedListStatus_2020</th>\n      <th>Supplementary</th>\n      <th>ABD_Avibase ID</th>\n    </tr>\n  </thead>\n  <tbody>\n    <tr>\n      <th>0</th>\n      <td>1</td>\n      <td></td>\n      <td>species</td>\n      <td>928</td>\n      <td>928</td>\n      <td>Ostrich</td>\n      <td>Struthio camelus</td>\n      <td>Ostriches</td>\n      <td>Struthionidae</td>\n      <td>Struthioniformes</td>\n      <td>Introduced</td>\n      <td></td>\n      <td></td>\n      <td>avibase-2247CB05</td>\n    </tr>\n    <tr>\n      <th>1</th>\n      <td>2</td>\n      <td>1</td>\n      <td>subspecies</td>\n      <td>928</td>\n      <td>u928</td>\n      <td>Eastern Ostrich</td>\n      <td>Struthio camelus massaicus</td>\n      <td>Ostriches</td>\n      <td>Struthionidae</td>\n      <td>Struthioniformes</td>\n      <td>Introduced</td>\n      <td></td>\n      <td></td>\n      <td>avibase-BF8ED7FA</td>\n    </tr>\n    <tr>\n      <th>2</th>\n      <td>3</td>\n      <td>1</td>\n      <td>species</td>\n      <td>2</td>\n      <td>u2</td>\n      <td>Southern Cassowary</td>\n      <td>Casuarius casuarius</td>\n      <td>Emus and Cassowaries</td>\n      <td>Casuariidae</td>\n      <td>Struthioniformes</td>\n      <td>Australian</td>\n      <td>Least Concern</td>\n      <td></td>\n      <td>avibase-8B9D93D8</td>\n    </tr>\n    <tr>\n      <th>3</th>\n      <td>4</td>\n      <td></td>\n      <td>species</td>\n      <td>1</td>\n      <td>1</td>\n      <td>Emu</td>\n      <td>Dromaius novaehollandiae</td>\n      <td>Emus and Cassowaries</td>\n      <td>Casuariidae</td>\n      <td>Struthioniformes</td>\n      <td>Endemic</td>\n      <td></td>\n      <td></td>\n      <td>avibase-2DB5A970</td>\n    </tr>\n    <tr>\n      <th>4</th>\n      <td>5</td>\n      <td>1</td>\n      <td>subspecies</td>\n      <td>1</td>\n      <td>u1a</td>\n      <td>Tasmanian Emu</td>\n      <td>Dromaius novaehollandiae diemenensis</td>\n      <td>Emus and Cassowaries</td>\n      <td>Casuariidae</td>\n      <td>Struthioniformes</td>\n      <td>Extinct, Endemic</td>\n      <td>Extinct</td>\n      <td></td>\n      <td>avibase-27CB32C8</td>\n    </tr>\n  </tbody>\n</table>\n</div>"
     },
     "execution_count": 41,
     "metadata": {},
     "output_type": "execute_result"
    }
   ],
   "source": [
    "bla4 = bla4.rename(columns=\n",
    "                       {'TaxonLevel': 'taxonRank',\n",
    "                        'TaxonID': 'taxonID',\n",
    "                        'TaxonName': 'vernacularName',\n",
    "                        'TaxonScientificName': 'scientificName',\n",
    "                        'FamilyScientificName': 'family',\n",
    "                        'Order': 'order'})\n",
    "# bla4.groupby('taxonRank').size()\n",
    "bla4['taxonRank'] = bla4['taxonRank'].replace(to_replace=\"ssp\", value=\"subspecies\") # bla4.groupby('taxonRank').size()\n",
    "bla4['taxonRank'] = bla4['taxonRank'].replace(to_replace={\"sp\",\"SP\"}, value=\"species\")\n",
    "bla4.head(5)"
   ],
   "metadata": {
    "collapsed": false,
    "pycharm": {
     "name": "#%%\n"
    }
   }
  },
  {
   "cell_type": "code",
   "execution_count": 42,
   "outputs": [],
   "source": [
    "bla4.to_csv(processedDataDir + \"BirdLife-Australia-Working-List-v4.csv\",index=False)"
   ],
   "metadata": {
    "collapsed": false,
    "pycharm": {
     "name": "#%%\n"
    }
   }
  }
 ],
 "metadata": {
  "kernelspec": {
   "display_name": "Python 3",
   "language": "python",
   "name": "python3"
  },
  "language_info": {
   "codemirror_mode": {
    "name": "ipython",
    "version": 2
   },
   "file_extension": ".py",
   "mimetype": "text/x-python",
   "name": "python",
   "nbconvert_exporter": "python",
   "pygments_lexer": "ipython2",
   "version": "2.7.6"
  }
 },
 "nbformat": 4,
 "nbformat_minor": 0
}