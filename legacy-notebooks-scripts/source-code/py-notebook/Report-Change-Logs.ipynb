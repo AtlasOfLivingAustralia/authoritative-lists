{
 "cells": [
  {
   "cell_type": "markdown",
   "source": [
    "# Change Log Report - Manual List check\n",
    "\n",
    "**Instructions**\n",
    "\n",
    "1. Load the lists above into the lists-test tool\n",
    "2. Check the list name matching score and the text appearance on species pages\n",
    "3. Unskip the below code and Run the reports below to compare to production. Send the changelog.csv to check. Correct any issues.\n",
    "4. Save the production list into the `historical lists` directory by uncommenting the code section below.\n",
    "5. Load the lists into production\n",
    "\n",
    "Compare Test and Production data for:\n",
    "\n",
    "    1. Conservation lists\n",
    "    2. Sensitive lists\n",
    "\n",
    "Output change log files to : ..\\authoritative-lists\\analysis\\change-log\n",
    "\n"
   ],
   "metadata": {
    "collapsed": false,
    "pycharm": {
     "name": "#%% md\n"
    }
   }
  },
  {
   "cell_type": "code",
   "execution_count": 1,
   "outputs": [],
   "source": [
    "projectdir = \"/Users/oco115/PycharmProjects/authoritative-lists/\"\n",
    "changedir = \"analysis/change-log/\"\n",
    "import datetime\n",
    "import os\n",
    "import sys\n",
    "sys.path.append(os.path.abspath(projectdir + \"source-code/includes\"))\n",
    "monthStr = datetime.datetime.now().strftime('%Y%m%d')\n",
    "import list_functions as lf"
   ],
   "metadata": {
    "collapsed": false,
    "pycharm": {
     "name": "#%%\n"
    }
   }
  },
  {
   "cell_type": "markdown",
   "source": [
    "## Conservation Lists"
   ],
   "metadata": {
    "collapsed": false,
    "pycharm": {
     "name": "#%% md\n"
    }
   }
  },
  {
   "cell_type": "code",
   "execution_count": 2,
   "outputs": [],
   "source": [
    "ltype=\"C\""
   ],
   "metadata": {
    "collapsed": false,
    "pycharm": {
     "name": "#%%\n"
    }
   }
  },
  {
   "cell_type": "code",
   "execution_count": 3,
   "outputs": [
    {
     "name": "stdout",
     "output_type": "stream",
     "text": [
      "get_changelist: Test -  dr649 Prod -  dr649\n",
      "download_ala_list:  https://lists.ala.org.au/ws/speciesListItems/dr649?max=10000&includeKVP=true\n",
      "Index(['id', 'name', 'commonName', 'scientificName', 'lsid', 'dataResourceUid',\n",
      "       'kvpValues'],\n",
      "      dtype='object')\n",
      "download_ala_list:  https://lists-test.ala.org.au/ws/speciesListItems/dr649?max=10000&includeKVP=true\n",
      "Index(['id', 'name', 'commonName', 'scientificName', 'lsid', 'dataResourceUid',\n",
      "       'kvpValues'],\n",
      "      dtype='object')\n"
     ]
    },
    {
     "data": {
      "text/plain": "Empty DataFrame\nColumns: [name, commonName_new, scientificName_new, status_new, listUpdate, commonName_old, scientificName_old, status_old]\nIndex: []",
      "text/html": "<div>\n<style scoped>\n    .dataframe tbody tr th:only-of-type {\n        vertical-align: middle;\n    }\n\n    .dataframe tbody tr th {\n        vertical-align: top;\n    }\n\n    .dataframe thead th {\n        text-align: right;\n    }\n</style>\n<table border=\"1\" class=\"dataframe\">\n  <thead>\n    <tr style=\"text-align: right;\">\n      <th></th>\n      <th>name</th>\n      <th>commonName_new</th>\n      <th>scientificName_new</th>\n      <th>status_new</th>\n      <th>listUpdate</th>\n      <th>commonName_old</th>\n      <th>scientificName_old</th>\n      <th>status_old</th>\n    </tr>\n  </thead>\n  <tbody>\n  </tbody>\n</table>\n</div>"
     },
     "execution_count": 3,
     "metadata": {},
     "output_type": "execute_result"
    }
   ],
   "source": [
    "# ACT Conservation\n",
    "filename = \"ACT-conservation.csv\"\n",
    "testdr = \"dr649\"\n",
    "proddr = \"dr649\"\n",
    "changelist = lf.get_changelist(testdr, proddr, ltype)\n",
    "changelist.to_csv(projectdir + changedir + monthStr + \"-\" + filename, encoding=\"UTF-8\", index=False)\n",
    "changelist"
   ],
   "metadata": {
    "collapsed": false,
    "pycharm": {
     "name": "#%%\n"
    }
   }
  },
  {
   "cell_type": "code",
   "execution_count": 4,
   "outputs": [
    {
     "name": "stdout",
     "output_type": "stream",
     "text": [
      "get_changelist: Test -  dr656 Prod -  dr656\n",
      "download_ala_list:  https://lists.ala.org.au/ws/speciesListItems/dr656?max=10000&includeKVP=true\n",
      "Index(['id', 'name', 'commonName', 'scientificName', 'lsid', 'dataResourceUid',\n",
      "       'kvpValues'],\n",
      "      dtype='object')\n",
      "download_ala_list:  https://lists-test.ala.org.au/ws/speciesListItems/dr656?max=10000&includeKVP=true\n",
      "Index(['id', 'name', 'commonName', 'scientificName', 'lsid', 'dataResourceUid',\n",
      "       'kvpValues'],\n",
      "      dtype='object')\n"
     ]
    },
    {
     "data": {
      "text/plain": "                              name               commonName_new  \\\n82    Acanthiza pusilla archibaldi  King Island Brown Thornbill   \n139         Androcalva perkinsiana                         None   \n147             Anilios insperatus        Fassifern Blind Snake   \n161        Aphelocephala leucopsis            Western Whiteface   \n181               Asplenium wildii                         None   \n...                            ...                          ...   \n1896         Vincetoxicum rupicola                          NaN   \n1897         Vincetoxicum woollsii                          NaN   \n1908             Wollumbinia belli                          NaN   \n1923                Zanda baudinii                          NaN   \n1924             Zanda latirostris                          NaN   \n\n                scientificName_new             status_new listUpdate  \\\n82    Acanthiza pusilla archibaldi             Endangered      added   \n139         Androcalva perkinsiana  Critically Endangered      added   \n147             Anilios insperatus  Critically Endangered      added   \n161        Aphelocephala leucopsis             Vulnerable      added   \n181               Asplenium wildii             Vulnerable      added   \n...                            ...                    ...        ...   \n1896                           NaN                    NaN    removed   \n1897                           NaN                    NaN    removed   \n1908                           NaN                    NaN    removed   \n1923                           NaN                    NaN    removed   \n1924                           NaN                    NaN    removed   \n\n                   commonName_old     scientificName_old  status_old  \n82                            NaN                    NaN         NaN  \n139                           NaN                    NaN         NaN  \n147                           NaN                    NaN         NaN  \n161                           NaN                    NaN         NaN  \n181                           NaN                    NaN         NaN  \n...                           ...                    ...         ...  \n1896                         None  Vincetoxicum rupicola  Endangered  \n1897        Cryptic Forest Twiner     Tylophora woollsii  Endangered  \n1908                Bell's Turtle      Wollumbinia belli  Vulnerable  \n1923      Baudin's Black-cockatoo         Zanda baudinii  Endangered  \n1924  Short-billed Black-cockatoo      Zanda latirostris  Endangered  \n\n[111 rows x 8 columns]",
      "text/html": "<div>\n<style scoped>\n    .dataframe tbody tr th:only-of-type {\n        vertical-align: middle;\n    }\n\n    .dataframe tbody tr th {\n        vertical-align: top;\n    }\n\n    .dataframe thead th {\n        text-align: right;\n    }\n</style>\n<table border=\"1\" class=\"dataframe\">\n  <thead>\n    <tr style=\"text-align: right;\">\n      <th></th>\n      <th>name</th>\n      <th>commonName_new</th>\n      <th>scientificName_new</th>\n      <th>status_new</th>\n      <th>listUpdate</th>\n      <th>commonName_old</th>\n      <th>scientificName_old</th>\n      <th>status_old</th>\n    </tr>\n  </thead>\n  <tbody>\n    <tr>\n      <th>82</th>\n      <td>Acanthiza pusilla archibaldi</td>\n      <td>King Island Brown Thornbill</td>\n      <td>Acanthiza pusilla archibaldi</td>\n      <td>Endangered</td>\n      <td>added</td>\n      <td>NaN</td>\n      <td>NaN</td>\n      <td>NaN</td>\n    </tr>\n    <tr>\n      <th>139</th>\n      <td>Androcalva perkinsiana</td>\n      <td>None</td>\n      <td>Androcalva perkinsiana</td>\n      <td>Critically Endangered</td>\n      <td>added</td>\n      <td>NaN</td>\n      <td>NaN</td>\n      <td>NaN</td>\n    </tr>\n    <tr>\n      <th>147</th>\n      <td>Anilios insperatus</td>\n      <td>Fassifern Blind Snake</td>\n      <td>Anilios insperatus</td>\n      <td>Critically Endangered</td>\n      <td>added</td>\n      <td>NaN</td>\n      <td>NaN</td>\n      <td>NaN</td>\n    </tr>\n    <tr>\n      <th>161</th>\n      <td>Aphelocephala leucopsis</td>\n      <td>Western Whiteface</td>\n      <td>Aphelocephala leucopsis</td>\n      <td>Vulnerable</td>\n      <td>added</td>\n      <td>NaN</td>\n      <td>NaN</td>\n      <td>NaN</td>\n    </tr>\n    <tr>\n      <th>181</th>\n      <td>Asplenium wildii</td>\n      <td>None</td>\n      <td>Asplenium wildii</td>\n      <td>Vulnerable</td>\n      <td>added</td>\n      <td>NaN</td>\n      <td>NaN</td>\n      <td>NaN</td>\n    </tr>\n    <tr>\n      <th>...</th>\n      <td>...</td>\n      <td>...</td>\n      <td>...</td>\n      <td>...</td>\n      <td>...</td>\n      <td>...</td>\n      <td>...</td>\n      <td>...</td>\n    </tr>\n    <tr>\n      <th>1896</th>\n      <td>Vincetoxicum rupicola</td>\n      <td>NaN</td>\n      <td>NaN</td>\n      <td>NaN</td>\n      <td>removed</td>\n      <td>None</td>\n      <td>Vincetoxicum rupicola</td>\n      <td>Endangered</td>\n    </tr>\n    <tr>\n      <th>1897</th>\n      <td>Vincetoxicum woollsii</td>\n      <td>NaN</td>\n      <td>NaN</td>\n      <td>NaN</td>\n      <td>removed</td>\n      <td>Cryptic Forest Twiner</td>\n      <td>Tylophora woollsii</td>\n      <td>Endangered</td>\n    </tr>\n    <tr>\n      <th>1908</th>\n      <td>Wollumbinia belli</td>\n      <td>NaN</td>\n      <td>NaN</td>\n      <td>NaN</td>\n      <td>removed</td>\n      <td>Bell's Turtle</td>\n      <td>Wollumbinia belli</td>\n      <td>Vulnerable</td>\n    </tr>\n    <tr>\n      <th>1923</th>\n      <td>Zanda baudinii</td>\n      <td>NaN</td>\n      <td>NaN</td>\n      <td>NaN</td>\n      <td>removed</td>\n      <td>Baudin's Black-cockatoo</td>\n      <td>Zanda baudinii</td>\n      <td>Endangered</td>\n    </tr>\n    <tr>\n      <th>1924</th>\n      <td>Zanda latirostris</td>\n      <td>NaN</td>\n      <td>NaN</td>\n      <td>NaN</td>\n      <td>removed</td>\n      <td>Short-billed Black-cockatoo</td>\n      <td>Zanda latirostris</td>\n      <td>Endangered</td>\n    </tr>\n  </tbody>\n</table>\n<p>111 rows × 8 columns</p>\n</div>"
     },
     "execution_count": 4,
     "metadata": {},
     "output_type": "execute_result"
    }
   ],
   "source": [
    "# EPBC Conservation\n",
    "filename = \"EPBC-conservation.csv\"\n",
    "testdr = \"dr656\"\n",
    "proddr = \"dr656\"\n",
    "changelist = lf.get_changelist(testdr, proddr, ltype)\n",
    "changelist.to_csv(projectdir + changedir + monthStr + \"-\" + filename, encoding=\"UTF-8\", index=False)\n",
    "changelist"
   ],
   "metadata": {
    "collapsed": false,
    "pycharm": {
     "name": "#%%\n"
    }
   }
  },
  {
   "cell_type": "code",
   "execution_count": 5,
   "outputs": [
    {
     "name": "stdout",
     "output_type": "stream",
     "text": [
      "get_changelist: Test -  dr650 Prod -  dr650\n",
      "download_ala_list:  https://lists.ala.org.au/ws/speciesListItems/dr650?max=10000&includeKVP=true\n",
      "Index(['id', 'name', 'commonName', 'scientificName', 'lsid', 'dataResourceUid',\n",
      "       'kvpValues'],\n",
      "      dtype='object')\n",
      "download_ala_list:  https://lists-test.ala.org.au/ws/speciesListItems/dr650?max=10000&includeKVP=true\n",
      "Index(['id', 'name', 'commonName', 'scientificName', 'lsid', 'dataResourceUid',\n",
      "       'kvpValues'],\n",
      "      dtype='object')\n"
     ]
    },
    {
     "data": {
      "text/plain": "                                       name  \\\n105                       Hemiaspis damelii   \n116                      Petauroides volans   \n176                  Tympanocryptis lineata   \n292                     Homoranthus floydii   \n463                  Persoonia oxycoccoides   \n839             Amytornis striatus striatus   \n1002        Antrophyum austroqueenslandicum   \n1020               Amytornis striatus howei   \n1021                       Cormodes darwini   \n1022                      Promethis sterrha   \n1023                        Litoria watsoni   \n1024                     Perameles fasciata   \n1025  Leucochrysum albicans subsp. tricolor   \n89                       Amytornis striatus   \n226                  Megaptera novaeangliae   \n878                    Boronia hapalophylla   \n902              Tympanocryptis pinguicolla   \n906         Perameles bougainville fasciata   \n\n                          commonName_new  \\\n105                           Grey Snake   \n116                       Greater Glider   \n176             Grassland Earless Dragon   \n292                                 None   \n463                                 None   \n839       Striated Grasswren (sandplain)   \n1002            Border Ranges Lined Fern   \n1020                  Striated Grasswren   \n1021                                None   \n1022                                None   \n1023                  Watson's Tree Frog   \n1024  Liverpool Plains Striped Bandicoot   \n1025                        White Sunray   \n89                                   NaN   \n226                                  NaN   \n878                                  NaN   \n902                                  NaN   \n906                                  NaN   \n\n                            scientificName_new             status_new  \\\n105                          Hemiaspis damelii             Endangered   \n116                         Petauroides volans             Endangered   \n176                     Tympanocryptis lineata  Critically Endangered   \n292                        Homoranthus floydii             Vulnerable   \n463                     Persoonia oxycoccoides             Endangered   \n839   Amytornis (Magnamytis) striatus striatus  Critically Endangered   \n1002           Antrophyum austroqueenslandicum  Critically Endangered   \n1020                  Amytornis striatus howei             Endangered   \n1021                          Cormodes darwini  Critically Endangered   \n1022                         Promethis sterrha  Critically Endangered   \n1023                           Litoria watsoni             Endangered   \n1024                        Perameles fasciata                Extinct   \n1025     Leucochrysum albicans subsp. tricolor             Endangered   \n89                                         NaN                    NaN   \n226                                        NaN                    NaN   \n878                                        NaN                    NaN   \n902                                        NaN                    NaN   \n906                                        NaN                    NaN   \n\n     listUpdate                       commonName_old  \\\n105       added                                  NaN   \n116       added                                  NaN   \n176       added                                  NaN   \n292       added                                  NaN   \n463       added                                  NaN   \n839       added                                  NaN   \n1002      added                                  NaN   \n1020      added                                  NaN   \n1021      added                                  NaN   \n1022      added                                  NaN   \n1023      added                                  NaN   \n1024      added                                  NaN   \n1025      added                                  NaN   \n89      removed                   Striated Grasswren   \n226     removed                       Humpback Whale   \n878     removed                Shannon Creek Boronia   \n902     removed             Grassland Earless Dragon   \n906     removed  Western Barred Bandicoot (mainland)   \n\n                   scientificName_old  status_old  \n105                               NaN         NaN  \n116                               NaN         NaN  \n176                               NaN         NaN  \n292                               NaN         NaN  \n463                               NaN         NaN  \n839                               NaN         NaN  \n1002                              NaN         NaN  \n1020                              NaN         NaN  \n1021                              NaN         NaN  \n1022                              NaN         NaN  \n1023                              NaN         NaN  \n1024                              NaN         NaN  \n1025                              NaN         NaN  \n89    Amytornis (Magnamytis) striatus  Vulnerable  \n226            Megaptera novaeangliae  Vulnerable  \n878              Boronia hapalophylla  Endangered  \n902        Tympanocryptis pinguicolla  Endangered  \n906   Perameles bougainville fasciata     Extinct  ",
      "text/html": "<div>\n<style scoped>\n    .dataframe tbody tr th:only-of-type {\n        vertical-align: middle;\n    }\n\n    .dataframe tbody tr th {\n        vertical-align: top;\n    }\n\n    .dataframe thead th {\n        text-align: right;\n    }\n</style>\n<table border=\"1\" class=\"dataframe\">\n  <thead>\n    <tr style=\"text-align: right;\">\n      <th></th>\n      <th>name</th>\n      <th>commonName_new</th>\n      <th>scientificName_new</th>\n      <th>status_new</th>\n      <th>listUpdate</th>\n      <th>commonName_old</th>\n      <th>scientificName_old</th>\n      <th>status_old</th>\n    </tr>\n  </thead>\n  <tbody>\n    <tr>\n      <th>105</th>\n      <td>Hemiaspis damelii</td>\n      <td>Grey Snake</td>\n      <td>Hemiaspis damelii</td>\n      <td>Endangered</td>\n      <td>added</td>\n      <td>NaN</td>\n      <td>NaN</td>\n      <td>NaN</td>\n    </tr>\n    <tr>\n      <th>116</th>\n      <td>Petauroides volans</td>\n      <td>Greater Glider</td>\n      <td>Petauroides volans</td>\n      <td>Endangered</td>\n      <td>added</td>\n      <td>NaN</td>\n      <td>NaN</td>\n      <td>NaN</td>\n    </tr>\n    <tr>\n      <th>176</th>\n      <td>Tympanocryptis lineata</td>\n      <td>Grassland Earless Dragon</td>\n      <td>Tympanocryptis lineata</td>\n      <td>Critically Endangered</td>\n      <td>added</td>\n      <td>NaN</td>\n      <td>NaN</td>\n      <td>NaN</td>\n    </tr>\n    <tr>\n      <th>292</th>\n      <td>Homoranthus floydii</td>\n      <td>None</td>\n      <td>Homoranthus floydii</td>\n      <td>Vulnerable</td>\n      <td>added</td>\n      <td>NaN</td>\n      <td>NaN</td>\n      <td>NaN</td>\n    </tr>\n    <tr>\n      <th>463</th>\n      <td>Persoonia oxycoccoides</td>\n      <td>None</td>\n      <td>Persoonia oxycoccoides</td>\n      <td>Endangered</td>\n      <td>added</td>\n      <td>NaN</td>\n      <td>NaN</td>\n      <td>NaN</td>\n    </tr>\n    <tr>\n      <th>839</th>\n      <td>Amytornis striatus striatus</td>\n      <td>Striated Grasswren (sandplain)</td>\n      <td>Amytornis (Magnamytis) striatus striatus</td>\n      <td>Critically Endangered</td>\n      <td>added</td>\n      <td>NaN</td>\n      <td>NaN</td>\n      <td>NaN</td>\n    </tr>\n    <tr>\n      <th>1002</th>\n      <td>Antrophyum austroqueenslandicum</td>\n      <td>Border Ranges Lined Fern</td>\n      <td>Antrophyum austroqueenslandicum</td>\n      <td>Critically Endangered</td>\n      <td>added</td>\n      <td>NaN</td>\n      <td>NaN</td>\n      <td>NaN</td>\n    </tr>\n    <tr>\n      <th>1020</th>\n      <td>Amytornis striatus howei</td>\n      <td>Striated Grasswren</td>\n      <td>Amytornis striatus howei</td>\n      <td>Endangered</td>\n      <td>added</td>\n      <td>NaN</td>\n      <td>NaN</td>\n      <td>NaN</td>\n    </tr>\n    <tr>\n      <th>1021</th>\n      <td>Cormodes darwini</td>\n      <td>None</td>\n      <td>Cormodes darwini</td>\n      <td>Critically Endangered</td>\n      <td>added</td>\n      <td>NaN</td>\n      <td>NaN</td>\n      <td>NaN</td>\n    </tr>\n    <tr>\n      <th>1022</th>\n      <td>Promethis sterrha</td>\n      <td>None</td>\n      <td>Promethis sterrha</td>\n      <td>Critically Endangered</td>\n      <td>added</td>\n      <td>NaN</td>\n      <td>NaN</td>\n      <td>NaN</td>\n    </tr>\n    <tr>\n      <th>1023</th>\n      <td>Litoria watsoni</td>\n      <td>Watson's Tree Frog</td>\n      <td>Litoria watsoni</td>\n      <td>Endangered</td>\n      <td>added</td>\n      <td>NaN</td>\n      <td>NaN</td>\n      <td>NaN</td>\n    </tr>\n    <tr>\n      <th>1024</th>\n      <td>Perameles fasciata</td>\n      <td>Liverpool Plains Striped Bandicoot</td>\n      <td>Perameles fasciata</td>\n      <td>Extinct</td>\n      <td>added</td>\n      <td>NaN</td>\n      <td>NaN</td>\n      <td>NaN</td>\n    </tr>\n    <tr>\n      <th>1025</th>\n      <td>Leucochrysum albicans subsp. tricolor</td>\n      <td>White Sunray</td>\n      <td>Leucochrysum albicans subsp. tricolor</td>\n      <td>Endangered</td>\n      <td>added</td>\n      <td>NaN</td>\n      <td>NaN</td>\n      <td>NaN</td>\n    </tr>\n    <tr>\n      <th>89</th>\n      <td>Amytornis striatus</td>\n      <td>NaN</td>\n      <td>NaN</td>\n      <td>NaN</td>\n      <td>removed</td>\n      <td>Striated Grasswren</td>\n      <td>Amytornis (Magnamytis) striatus</td>\n      <td>Vulnerable</td>\n    </tr>\n    <tr>\n      <th>226</th>\n      <td>Megaptera novaeangliae</td>\n      <td>NaN</td>\n      <td>NaN</td>\n      <td>NaN</td>\n      <td>removed</td>\n      <td>Humpback Whale</td>\n      <td>Megaptera novaeangliae</td>\n      <td>Vulnerable</td>\n    </tr>\n    <tr>\n      <th>878</th>\n      <td>Boronia hapalophylla</td>\n      <td>NaN</td>\n      <td>NaN</td>\n      <td>NaN</td>\n      <td>removed</td>\n      <td>Shannon Creek Boronia</td>\n      <td>Boronia hapalophylla</td>\n      <td>Endangered</td>\n    </tr>\n    <tr>\n      <th>902</th>\n      <td>Tympanocryptis pinguicolla</td>\n      <td>NaN</td>\n      <td>NaN</td>\n      <td>NaN</td>\n      <td>removed</td>\n      <td>Grassland Earless Dragon</td>\n      <td>Tympanocryptis pinguicolla</td>\n      <td>Endangered</td>\n    </tr>\n    <tr>\n      <th>906</th>\n      <td>Perameles bougainville fasciata</td>\n      <td>NaN</td>\n      <td>NaN</td>\n      <td>NaN</td>\n      <td>removed</td>\n      <td>Western Barred Bandicoot (mainland)</td>\n      <td>Perameles bougainville fasciata</td>\n      <td>Extinct</td>\n    </tr>\n  </tbody>\n</table>\n</div>"
     },
     "execution_count": 5,
     "metadata": {},
     "output_type": "execute_result"
    }
   ],
   "source": [
    "# NSW conservation\n",
    "filename = \"NSW-conservation.csv\"\n",
    "testdr = \"dr650\"\n",
    "proddr = \"dr650\"\n",
    "changelist = lf.get_changelist(testdr, proddr, ltype)\n",
    "changelist.to_csv(projectdir + changedir + monthStr + \"-\" + filename, encoding=\"UTF-8\", index=False)\n",
    "changelist"
   ],
   "metadata": {
    "collapsed": false,
    "pycharm": {
     "name": "#%%\n"
    }
   }
  },
  {
   "cell_type": "code",
   "execution_count": 6,
   "outputs": [
    {
     "name": "stdout",
     "output_type": "stream",
     "text": [
      "get_changelist: Test -  dr651 Prod -  dr651\n",
      "download_ala_list:  https://lists.ala.org.au/ws/speciesListItems/dr651?max=10000&includeKVP=true\n",
      "Index(['id', 'name', 'commonName', 'scientificName', 'lsid', 'dataResourceUid',\n",
      "       'kvpValues'],\n",
      "      dtype='object')\n",
      "download_ala_list:  https://lists-test.ala.org.au/ws/speciesListItems/dr651?max=10000&includeKVP=true\n",
      "Index(['id', 'name', 'commonName', 'scientificName', 'lsid', 'dataResourceUid',\n",
      "       'kvpValues'],\n",
      "      dtype='object')\n"
     ]
    },
    {
     "data": {
      "text/plain": "                                                  name  \\\n16                       Burmannia sp. Bathurst Island   \n30                  Erythroxylum sp. Cholmondely Creek   \n34                       Gleichenia sp. Victoria River   \n39                          Hibbertia sp. South Magela   \n43                     Hoya australis subsp. oramicola   \n47      Livistona mariae subsp. MariaeRed cabbage palm   \n68                             Triodia sp. Matt Wilson   \n72                              Typhonium sp. Sandover   \n90                        Mesembriomys gouldii gouldii   \n151  Lagorchestes hirsutus Central Australian subsp...   \n159                        Petrogale concinna concinna   \n171                           Geophaps smithii smithii   \n173                                Acanthophsis hawkei   \n27                       Gleichenia sp. Victoria River   \n30                          Hibbertia sp. South Magela   \n34                     Hoya australis subsp. oramicola   \n50                             Triodia sp. Matt Wilson   \n52                              Typhonium sp. Sandover   \n102                           Geophaps smithii smithii   \n103                                 Acanthophis hawkei   \n132  Lagorchestes hirsutus Central Australian subsp...   \n138                      Burmannia sp. Bathurst Island   \n140                 Erythroxylum sp. Cholmondely Creek   \n144                     Livistona mariae subsp. Mariae   \n162                       Mesembriomys gouldii gouldii   \n184                        Petrogale concinna concinna   \n\n                         commonName_new  \\\n16                                 None   \n30                                 None   \n34                                 None   \n39                                 None   \n43                                 None   \n47                                 None   \n68                                 None   \n72                                 None   \n90                         Djintamoonga   \n151                                Mala   \n159  Nabarlek (victoria River District)   \n171         Partridge Pidgeon (eastern)   \n173                                None   \n27                                  NaN   \n30                                  NaN   \n34                                  NaN   \n50                                  NaN   \n52                                  NaN   \n102                                 NaN   \n103                                 NaN   \n132                                 NaN   \n138                                 NaN   \n140                                 NaN   \n144                                 NaN   \n162                                 NaN   \n184                                 NaN   \n\n                                    scientificName_new             status_new  \\\n16                       Burmannia sp. Bathurst Island             Endangered   \n30                  Erythroxylum sp. Cholmondely Creek             Endangered   \n34                       Gleichenia sp. Victoria River             Vulnerable   \n39                          Hibbertia sp. South Magela             Vulnerable   \n43                     Hoya australis subsp. oramicola             Vulnerable   \n47                                                None             Endangered   \n68                             Triodia sp. Matt Wilson             Vulnerable   \n72                              Typhonium sp. Sandover             Vulnerable   \n90                        Mesembriomys gouldii gouldii             Endangered   \n151  Lagorchestes hirsutus Central Australian subsp...             Endangered   \n159                        Petrogale concinna concinna  Critically endangered   \n171                Geophaps (Geophaps) smithii smithii             Vulnerable   \n173                                               None             Vulnerable   \n27                                                 NaN                    NaN   \n30                                                 NaN                    NaN   \n34                                                 NaN                    NaN   \n50                                                 NaN                    NaN   \n52                                                 NaN                    NaN   \n102                                                NaN                    NaN   \n103                                                NaN                    NaN   \n132                                                NaN                    NaN   \n138                                                NaN                    NaN   \n140                                                NaN                    NaN   \n144                                                NaN                    NaN   \n162                                                NaN                    NaN   \n184                                                NaN                    NaN   \n\n    listUpdate                      commonName_old  \\\n16       added                                 NaN   \n30       added                                 NaN   \n34       added                                 NaN   \n39       added                                 NaN   \n43       added                                 NaN   \n47       added                                 NaN   \n68       added                                 NaN   \n72       added                                 NaN   \n90       added                                 NaN   \n151      added                                 NaN   \n159      added                                 NaN   \n171      added                                 NaN   \n173      added                                 NaN   \n27     removed                                None   \n30     removed                                None   \n34     removed                                None   \n50     removed                                None   \n52     removed                                None   \n102    removed         Partridge Pidgeon (eastern)   \n103    removed                  Plains Death Adder   \n132    removed                                Mala   \n138    removed                                None   \n140    removed                                None   \n144    removed                                None   \n162    removed                        Djintamoonga   \n184    removed  Nabarlek (victoria River District)   \n\n                                    scientificName_old             status_old  \n16                                                 NaN                    NaN  \n30                                                 NaN                    NaN  \n34                                                 NaN                    NaN  \n39                                                 NaN                    NaN  \n43                                                 NaN                    NaN  \n47                                                 NaN                    NaN  \n68                                                 NaN                    NaN  \n72                                                 NaN                    NaN  \n90                                                 NaN                    NaN  \n151                                                NaN                    NaN  \n159                                                NaN                    NaN  \n171                                                NaN                    NaN  \n173                                                NaN                    NaN  \n27                       Gleichenia sp. Victoria River             Vulnerable  \n30                          Hibbertia sp. South Magela             Vulnerable  \n34                     Hoya australis subsp. oramicola             Vulnerable  \n50                             Triodia sp. Matt Wilson             Vulnerable  \n52                              Typhonium sp. Sandover             Vulnerable  \n102                Geophaps (Geophaps) smithii smithii             Vulnerable  \n103                                 Acanthophis hawkei             Vulnerable  \n132  Lagorchestes hirsutus Central Australian subsp...             Endangered  \n138                      Burmannia sp. Bathurst Island             Endangered  \n140                 Erythroxylum sp. Cholmondely Creek             Endangered  \n144                     Livistona mariae subsp. mariae             Endangered  \n162                       Mesembriomys gouldii gouldii             Endangered  \n184                        Petrogale concinna concinna  Critically Endangered  ",
      "text/html": "<div>\n<style scoped>\n    .dataframe tbody tr th:only-of-type {\n        vertical-align: middle;\n    }\n\n    .dataframe tbody tr th {\n        vertical-align: top;\n    }\n\n    .dataframe thead th {\n        text-align: right;\n    }\n</style>\n<table border=\"1\" class=\"dataframe\">\n  <thead>\n    <tr style=\"text-align: right;\">\n      <th></th>\n      <th>name</th>\n      <th>commonName_new</th>\n      <th>scientificName_new</th>\n      <th>status_new</th>\n      <th>listUpdate</th>\n      <th>commonName_old</th>\n      <th>scientificName_old</th>\n      <th>status_old</th>\n    </tr>\n  </thead>\n  <tbody>\n    <tr>\n      <th>16</th>\n      <td>Burmannia sp. Bathurst Island</td>\n      <td>None</td>\n      <td>Burmannia sp. Bathurst Island</td>\n      <td>Endangered</td>\n      <td>added</td>\n      <td>NaN</td>\n      <td>NaN</td>\n      <td>NaN</td>\n    </tr>\n    <tr>\n      <th>30</th>\n      <td>Erythroxylum sp. Cholmondely Creek</td>\n      <td>None</td>\n      <td>Erythroxylum sp. Cholmondely Creek</td>\n      <td>Endangered</td>\n      <td>added</td>\n      <td>NaN</td>\n      <td>NaN</td>\n      <td>NaN</td>\n    </tr>\n    <tr>\n      <th>34</th>\n      <td>Gleichenia sp. Victoria River</td>\n      <td>None</td>\n      <td>Gleichenia sp. Victoria River</td>\n      <td>Vulnerable</td>\n      <td>added</td>\n      <td>NaN</td>\n      <td>NaN</td>\n      <td>NaN</td>\n    </tr>\n    <tr>\n      <th>39</th>\n      <td>Hibbertia sp. South Magela</td>\n      <td>None</td>\n      <td>Hibbertia sp. South Magela</td>\n      <td>Vulnerable</td>\n      <td>added</td>\n      <td>NaN</td>\n      <td>NaN</td>\n      <td>NaN</td>\n    </tr>\n    <tr>\n      <th>43</th>\n      <td>Hoya australis subsp. oramicola</td>\n      <td>None</td>\n      <td>Hoya australis subsp. oramicola</td>\n      <td>Vulnerable</td>\n      <td>added</td>\n      <td>NaN</td>\n      <td>NaN</td>\n      <td>NaN</td>\n    </tr>\n    <tr>\n      <th>47</th>\n      <td>Livistona mariae subsp. MariaeRed cabbage palm</td>\n      <td>None</td>\n      <td>None</td>\n      <td>Endangered</td>\n      <td>added</td>\n      <td>NaN</td>\n      <td>NaN</td>\n      <td>NaN</td>\n    </tr>\n    <tr>\n      <th>68</th>\n      <td>Triodia sp. Matt Wilson</td>\n      <td>None</td>\n      <td>Triodia sp. Matt Wilson</td>\n      <td>Vulnerable</td>\n      <td>added</td>\n      <td>NaN</td>\n      <td>NaN</td>\n      <td>NaN</td>\n    </tr>\n    <tr>\n      <th>72</th>\n      <td>Typhonium sp. Sandover</td>\n      <td>None</td>\n      <td>Typhonium sp. Sandover</td>\n      <td>Vulnerable</td>\n      <td>added</td>\n      <td>NaN</td>\n      <td>NaN</td>\n      <td>NaN</td>\n    </tr>\n    <tr>\n      <th>90</th>\n      <td>Mesembriomys gouldii gouldii</td>\n      <td>Djintamoonga</td>\n      <td>Mesembriomys gouldii gouldii</td>\n      <td>Endangered</td>\n      <td>added</td>\n      <td>NaN</td>\n      <td>NaN</td>\n      <td>NaN</td>\n    </tr>\n    <tr>\n      <th>151</th>\n      <td>Lagorchestes hirsutus Central Australian subsp...</td>\n      <td>Mala</td>\n      <td>Lagorchestes hirsutus Central Australian subsp...</td>\n      <td>Endangered</td>\n      <td>added</td>\n      <td>NaN</td>\n      <td>NaN</td>\n      <td>NaN</td>\n    </tr>\n    <tr>\n      <th>159</th>\n      <td>Petrogale concinna concinna</td>\n      <td>Nabarlek (victoria River District)</td>\n      <td>Petrogale concinna concinna</td>\n      <td>Critically endangered</td>\n      <td>added</td>\n      <td>NaN</td>\n      <td>NaN</td>\n      <td>NaN</td>\n    </tr>\n    <tr>\n      <th>171</th>\n      <td>Geophaps smithii smithii</td>\n      <td>Partridge Pidgeon (eastern)</td>\n      <td>Geophaps (Geophaps) smithii smithii</td>\n      <td>Vulnerable</td>\n      <td>added</td>\n      <td>NaN</td>\n      <td>NaN</td>\n      <td>NaN</td>\n    </tr>\n    <tr>\n      <th>173</th>\n      <td>Acanthophsis hawkei</td>\n      <td>None</td>\n      <td>None</td>\n      <td>Vulnerable</td>\n      <td>added</td>\n      <td>NaN</td>\n      <td>NaN</td>\n      <td>NaN</td>\n    </tr>\n    <tr>\n      <th>27</th>\n      <td>Gleichenia sp. Victoria River</td>\n      <td>NaN</td>\n      <td>NaN</td>\n      <td>NaN</td>\n      <td>removed</td>\n      <td>None</td>\n      <td>Gleichenia sp. Victoria River</td>\n      <td>Vulnerable</td>\n    </tr>\n    <tr>\n      <th>30</th>\n      <td>Hibbertia sp. South Magela</td>\n      <td>NaN</td>\n      <td>NaN</td>\n      <td>NaN</td>\n      <td>removed</td>\n      <td>None</td>\n      <td>Hibbertia sp. South Magela</td>\n      <td>Vulnerable</td>\n    </tr>\n    <tr>\n      <th>34</th>\n      <td>Hoya australis subsp. oramicola</td>\n      <td>NaN</td>\n      <td>NaN</td>\n      <td>NaN</td>\n      <td>removed</td>\n      <td>None</td>\n      <td>Hoya australis subsp. oramicola</td>\n      <td>Vulnerable</td>\n    </tr>\n    <tr>\n      <th>50</th>\n      <td>Triodia sp. Matt Wilson</td>\n      <td>NaN</td>\n      <td>NaN</td>\n      <td>NaN</td>\n      <td>removed</td>\n      <td>None</td>\n      <td>Triodia sp. Matt Wilson</td>\n      <td>Vulnerable</td>\n    </tr>\n    <tr>\n      <th>52</th>\n      <td>Typhonium sp. Sandover</td>\n      <td>NaN</td>\n      <td>NaN</td>\n      <td>NaN</td>\n      <td>removed</td>\n      <td>None</td>\n      <td>Typhonium sp. Sandover</td>\n      <td>Vulnerable</td>\n    </tr>\n    <tr>\n      <th>102</th>\n      <td>Geophaps smithii smithii</td>\n      <td>NaN</td>\n      <td>NaN</td>\n      <td>NaN</td>\n      <td>removed</td>\n      <td>Partridge Pidgeon (eastern)</td>\n      <td>Geophaps (Geophaps) smithii smithii</td>\n      <td>Vulnerable</td>\n    </tr>\n    <tr>\n      <th>103</th>\n      <td>Acanthophis hawkei</td>\n      <td>NaN</td>\n      <td>NaN</td>\n      <td>NaN</td>\n      <td>removed</td>\n      <td>Plains Death Adder</td>\n      <td>Acanthophis hawkei</td>\n      <td>Vulnerable</td>\n    </tr>\n    <tr>\n      <th>132</th>\n      <td>Lagorchestes hirsutus Central Australian subsp...</td>\n      <td>NaN</td>\n      <td>NaN</td>\n      <td>NaN</td>\n      <td>removed</td>\n      <td>Mala</td>\n      <td>Lagorchestes hirsutus Central Australian subsp...</td>\n      <td>Endangered</td>\n    </tr>\n    <tr>\n      <th>138</th>\n      <td>Burmannia sp. Bathurst Island</td>\n      <td>NaN</td>\n      <td>NaN</td>\n      <td>NaN</td>\n      <td>removed</td>\n      <td>None</td>\n      <td>Burmannia sp. Bathurst Island</td>\n      <td>Endangered</td>\n    </tr>\n    <tr>\n      <th>140</th>\n      <td>Erythroxylum sp. Cholmondely Creek</td>\n      <td>NaN</td>\n      <td>NaN</td>\n      <td>NaN</td>\n      <td>removed</td>\n      <td>None</td>\n      <td>Erythroxylum sp. Cholmondely Creek</td>\n      <td>Endangered</td>\n    </tr>\n    <tr>\n      <th>144</th>\n      <td>Livistona mariae subsp. Mariae</td>\n      <td>NaN</td>\n      <td>NaN</td>\n      <td>NaN</td>\n      <td>removed</td>\n      <td>None</td>\n      <td>Livistona mariae subsp. mariae</td>\n      <td>Endangered</td>\n    </tr>\n    <tr>\n      <th>162</th>\n      <td>Mesembriomys gouldii gouldii</td>\n      <td>NaN</td>\n      <td>NaN</td>\n      <td>NaN</td>\n      <td>removed</td>\n      <td>Djintamoonga</td>\n      <td>Mesembriomys gouldii gouldii</td>\n      <td>Endangered</td>\n    </tr>\n    <tr>\n      <th>184</th>\n      <td>Petrogale concinna concinna</td>\n      <td>NaN</td>\n      <td>NaN</td>\n      <td>NaN</td>\n      <td>removed</td>\n      <td>Nabarlek (victoria River District)</td>\n      <td>Petrogale concinna concinna</td>\n      <td>Critically Endangered</td>\n    </tr>\n  </tbody>\n</table>\n</div>"
     },
     "execution_count": 6,
     "metadata": {},
     "output_type": "execute_result"
    }
   ],
   "source": [
    "# NT Conservation\n",
    "filename = \"NT-conservation.csv\"\n",
    "testdr = \"dr651\"\n",
    "proddr = \"dr651\"\n",
    "changelist = lf.get_changelist(testdr, proddr, ltype)\n",
    "changelist.to_csv(projectdir + changedir + monthStr + \"-\" + filename, encoding=\"UTF-8\", index=False)\n",
    "changelist"
   ],
   "metadata": {
    "collapsed": false,
    "pycharm": {
     "name": "#%%\n"
    }
   }
  },
  {
   "cell_type": "code",
   "execution_count": 7,
   "outputs": [
    {
     "name": "stdout",
     "output_type": "stream",
     "text": [
      "get_changelist: Test -  dr652 Prod -  dr652\n",
      "download_ala_list:  https://lists.ala.org.au/ws/speciesListItems/dr652?max=10000&includeKVP=true\n",
      "Index(['id', 'name', 'commonName', 'scientificName', 'lsid', 'dataResourceUid',\n",
      "       'kvpValues'],\n",
      "      dtype='object')\n",
      "download_ala_list:  https://lists-test.ala.org.au/ws/speciesListItems/dr652?max=10000&includeKVP=true\n",
      "Index(['id', 'name', 'commonName', 'scientificName', 'lsid', 'dataResourceUid',\n",
      "       'kvpValues'],\n",
      "      dtype='object')\n"
     ]
    },
    {
     "data": {
      "text/plain": "                                 name commonName_new      scientificName_new  \\\n151   Sminthopsis leucopus janetzkiae           None                    None   \n699            Acacia torringtonensis           None  Acacia torringtonensis   \n756                Hypserpa polyandra           None      Hypserpa polyandra   \n846              Melaleuca williamsii           None     Callistemon pungens   \n1303                  Pakau pennigera           None                    None   \n...                               ...            ...                     ...   \n2230              Macrozamia macleayi            NaN                     NaN   \n2231              Macrozamia miquelii            NaN                     NaN   \n2232                Macrozamia moorei            NaN                     NaN   \n2233       Macrozamia mountperriensis            NaN                     NaN   \n2243               Zostera capricorni            NaN                     NaN   \n\n      status_new listUpdate commonName_old  \\\n151   Vulnerable      added            NaN   \n699   Vulnerable      added            NaN   \n756   Vulnerable      added            NaN   \n846   Vulnerable      added            NaN   \n1303  Endangered      added            NaN   \n...          ...        ...            ...   \n2230         NaN    removed           None   \n2231         NaN    removed     Zamia Palm   \n2232         NaN    removed     Zamia Palm   \n2233         NaN    removed           None   \n2243         NaN    removed           None   \n\n                      scientificName_old             status_old  \n151                                  NaN                    NaN  \n699                                  NaN                    NaN  \n756                                  NaN                    NaN  \n846                                  NaN                    NaN  \n1303                                 NaN                    NaN  \n...                                  ...                    ...  \n2230                 Macrozamia macleayi  Special least concern  \n2231                 Macrozamia miquelii  Special least concern  \n2232                   Macrozamia moorei  Special least concern  \n2233          Macrozamia mountperriensis  Special least concern  \n2243  Zostera muelleri subsp. capricorni  Special least concern  \n\n[927 rows x 8 columns]",
      "text/html": "<div>\n<style scoped>\n    .dataframe tbody tr th:only-of-type {\n        vertical-align: middle;\n    }\n\n    .dataframe tbody tr th {\n        vertical-align: top;\n    }\n\n    .dataframe thead th {\n        text-align: right;\n    }\n</style>\n<table border=\"1\" class=\"dataframe\">\n  <thead>\n    <tr style=\"text-align: right;\">\n      <th></th>\n      <th>name</th>\n      <th>commonName_new</th>\n      <th>scientificName_new</th>\n      <th>status_new</th>\n      <th>listUpdate</th>\n      <th>commonName_old</th>\n      <th>scientificName_old</th>\n      <th>status_old</th>\n    </tr>\n  </thead>\n  <tbody>\n    <tr>\n      <th>151</th>\n      <td>Sminthopsis leucopus janetzkiae</td>\n      <td>None</td>\n      <td>None</td>\n      <td>Vulnerable</td>\n      <td>added</td>\n      <td>NaN</td>\n      <td>NaN</td>\n      <td>NaN</td>\n    </tr>\n    <tr>\n      <th>699</th>\n      <td>Acacia torringtonensis</td>\n      <td>None</td>\n      <td>Acacia torringtonensis</td>\n      <td>Vulnerable</td>\n      <td>added</td>\n      <td>NaN</td>\n      <td>NaN</td>\n      <td>NaN</td>\n    </tr>\n    <tr>\n      <th>756</th>\n      <td>Hypserpa polyandra</td>\n      <td>None</td>\n      <td>Hypserpa polyandra</td>\n      <td>Vulnerable</td>\n      <td>added</td>\n      <td>NaN</td>\n      <td>NaN</td>\n      <td>NaN</td>\n    </tr>\n    <tr>\n      <th>846</th>\n      <td>Melaleuca williamsii</td>\n      <td>None</td>\n      <td>Callistemon pungens</td>\n      <td>Vulnerable</td>\n      <td>added</td>\n      <td>NaN</td>\n      <td>NaN</td>\n      <td>NaN</td>\n    </tr>\n    <tr>\n      <th>1303</th>\n      <td>Pakau pennigera</td>\n      <td>None</td>\n      <td>None</td>\n      <td>Endangered</td>\n      <td>added</td>\n      <td>NaN</td>\n      <td>NaN</td>\n      <td>NaN</td>\n    </tr>\n    <tr>\n      <th>...</th>\n      <td>...</td>\n      <td>...</td>\n      <td>...</td>\n      <td>...</td>\n      <td>...</td>\n      <td>...</td>\n      <td>...</td>\n      <td>...</td>\n    </tr>\n    <tr>\n      <th>2230</th>\n      <td>Macrozamia macleayi</td>\n      <td>NaN</td>\n      <td>NaN</td>\n      <td>NaN</td>\n      <td>removed</td>\n      <td>None</td>\n      <td>Macrozamia macleayi</td>\n      <td>Special least concern</td>\n    </tr>\n    <tr>\n      <th>2231</th>\n      <td>Macrozamia miquelii</td>\n      <td>NaN</td>\n      <td>NaN</td>\n      <td>NaN</td>\n      <td>removed</td>\n      <td>Zamia Palm</td>\n      <td>Macrozamia miquelii</td>\n      <td>Special least concern</td>\n    </tr>\n    <tr>\n      <th>2232</th>\n      <td>Macrozamia moorei</td>\n      <td>NaN</td>\n      <td>NaN</td>\n      <td>NaN</td>\n      <td>removed</td>\n      <td>Zamia Palm</td>\n      <td>Macrozamia moorei</td>\n      <td>Special least concern</td>\n    </tr>\n    <tr>\n      <th>2233</th>\n      <td>Macrozamia mountperriensis</td>\n      <td>NaN</td>\n      <td>NaN</td>\n      <td>NaN</td>\n      <td>removed</td>\n      <td>None</td>\n      <td>Macrozamia mountperriensis</td>\n      <td>Special least concern</td>\n    </tr>\n    <tr>\n      <th>2243</th>\n      <td>Zostera capricorni</td>\n      <td>NaN</td>\n      <td>NaN</td>\n      <td>NaN</td>\n      <td>removed</td>\n      <td>None</td>\n      <td>Zostera muelleri subsp. capricorni</td>\n      <td>Special least concern</td>\n    </tr>\n  </tbody>\n</table>\n<p>927 rows × 8 columns</p>\n</div>"
     },
     "execution_count": 7,
     "metadata": {},
     "output_type": "execute_result"
    }
   ],
   "source": [
    "#Qld Conservation\n",
    "filename = \"QLD-conservation.csv\"\n",
    "testdr = \"dr652\"\n",
    "proddr = \"dr652\"\n",
    "changelist = lf.get_changelist(testdr, proddr, ltype)\n",
    "changelist.to_csv(projectdir + changedir + monthStr + \"-\" + filename, encoding=\"UTF-8\", index=False)\n",
    "changelist"
   ],
   "metadata": {
    "collapsed": false,
    "pycharm": {
     "name": "#%%\n"
    }
   }
  },
  {
   "cell_type": "code",
   "execution_count": 8,
   "outputs": [
    {
     "name": "stdout",
     "output_type": "stream",
     "text": [
      "get_changelist: Test -  dr653 Prod -  dr653\n",
      "download_ala_list:  https://lists.ala.org.au/ws/speciesListItems/dr653?max=10000&includeKVP=true\n",
      "Index(['id', 'name', 'commonName', 'scientificName', 'lsid', 'dataResourceUid',\n",
      "       'kvpValues'],\n",
      "      dtype='object')\n",
      "download_ala_list:  https://lists-test.ala.org.au/ws/speciesListItems/dr653?max=10000&includeKVP=true\n",
      "Index(['id', 'name', 'commonName', 'scientificName', 'lsid', 'dataResourceUid',\n",
      "       'kvpValues'],\n",
      "      dtype='object')\n"
     ]
    },
    {
     "data": {
      "text/plain": "                                                   name commonName_new  \\\n552                                  Lysiandra calycina           None   \n329                        Maccullochella macquariensis            NaN   \n330                              Macquaria australasica            NaN   \n331                               Salvelinus fontinalis            NaN   \n357               Asplenium bulbiferum ssp. gracillimum            NaN   \n363                          Grevillea angustiloba ssp.            NaN   \n364              Grevillea angustiloba ssp. angustiloba            NaN   \n429                                Ptilotus semilanatus            NaN   \n455                              Lepidium monoplocoides            NaN   \n523                                     Daviesia devito            NaN   \n525                             Daviesia schwarzenegger            NaN   \n552                                   Swainsona sericea            NaN   \n563                               Phyllanthus calycinus            NaN   \n584                                 Phebalium calcicola            NaN   \n585               Phebalium glandulosum ssp. macrocalyx            NaN   \n604           Spyridium eriocephalum var. glabrisepalum            NaN   \n611   Abutilon oxycarpum ssp. Prostrate (A.A.Mitchel...            NaN   \n639               Eucalyptus conglobata ssp. conglobata            NaN   \n671                                  Meionectes brownii            NaN   \n684                            Neosciadium glochidiatum            NaN   \n687                             Trachymene thysanocarpa            NaN   \n700                               Gentianella clelandii            NaN   \n706        Asperula sp. A (A.B.Cashmore September 1933)            NaN   \n711                                   Galium propinquum            NaN   \n720                                 Mentha atrolilacina            NaN   \n742                                    Euphrasia scabra            NaN   \n795                                 Goodenia valdentata            NaN   \n820                              Brachyscome paludicola            NaN   \n841                               Lagenophora sublyrata            NaN   \n865                                 Podolepis decipiens            NaN   \n867                              Podolepis linearifolia            NaN   \n876                              Senecio helichrysoides            NaN   \n908               Thysanotus tuberosus ssp. parviflorus            NaN   \n950                              Austrostipa nullanulla            NaN   \n956                              Austrostipa vickeryana            NaN   \n968            Lachnagrostis semibarbata var. filifolia            NaN   \n969          Lachnagrostis semibarbata var. semibarbata            NaN   \n1007                                 Gahnia halmaturina            NaN   \n1016                                  Machaerina gunnii            NaN   \n1036                              Caladenia cruciformis            NaN   \n1049                                 Caladenia moschata            NaN   \n1060                Caladenia sp. Finniss (R.Bates 308)            NaN   \n1065                               Caladenia versicolor            NaN   \n1089                      Diuris punctata var. punctata            NaN   \n1112                              Prasophyllum litorale            NaN   \n1117                         Prasophyllum rotundiflorum            NaN   \n1120                              Prasophyllum tortilis            NaN   \n1132                             Pterostylis ferruginea            NaN   \n1134                                 Pterostylis lepida            NaN   \n1137                                 Pterostylis maxima            NaN   \n1139                              Pterostylis mirabilis            NaN   \n1143               Pterostylis sp. Hale (R.Bates 21725)            NaN   \n1151                                Thelymitra aristata            NaN   \n1164                                Thelymitra ixioides            NaN   \n\n     scientificName_new status_new listUpdate            commonName_old  \\\n552                None       Rare      added                       NaN   \n329                 NaN        NaN    removed                 Trout Cod   \n330                 NaN        NaN    removed                     Macca   \n331                 NaN        NaN    removed               Brook Trout   \n357                 NaN        NaN    removed         Mother Spleenwort   \n363                 NaN        NaN    removed                      None   \n364                 NaN        NaN    removed     Narrow-lobe Grevillea   \n429                 NaN        NaN    removed                      None   \n455                 NaN        NaN    removed        Winged Peppercress   \n523                 NaN        NaN    removed         Mallee Bitter-pea   \n525                 NaN        NaN    removed         Mallee Bitter-pea   \n552                 NaN        NaN    removed        Silky Swainson-pea   \n563                 NaN        NaN    removed             False Boronia   \n584                 NaN        NaN    removed       Limestone Phebalium   \n585                 NaN        NaN    removed       Glandular Phebalium   \n604                 NaN        NaN    removed    Macgillivray Spyridium   \n611                 NaN        NaN    removed                      None   \n639                 NaN        NaN    removed               Cong Mallee   \n671                 NaN        NaN    removed            Swamp Raspwort   \n684                 NaN        NaN    removed                      None   \n687                 NaN        NaN    removed         Mallee Trachymene   \n700                 NaN        NaN    removed                      None   \n706                 NaN        NaN    removed           Alpine Woodruff   \n711                 NaN        NaN    removed                      Māwe   \n720                 NaN        NaN    removed              Slender Mint   \n742                 NaN        NaN    removed          Yellow Eyebright   \n795                 NaN        NaN    removed  Davenport Range Goodenia   \n820                 NaN        NaN    removed               Swamp Daisy   \n841                 NaN        NaN    removed      Slender Bottle-daisy   \n865                 NaN        NaN    removed                      None   \n867                 NaN        NaN    removed          Basalt Podolepis   \n876                 NaN        NaN    removed           Woolly Fireweed   \n908                 NaN        NaN    removed         Tuber Fringe-lily   \n950                 NaN        NaN    removed          Club Spear-grass   \n956                 NaN        NaN    removed     Vickery's Spear-grass   \n968                 NaN        NaN    removed   Narrow-leaf Blown-grass   \n969                 NaN        NaN    removed        Purple Blown-grass   \n1007                NaN        NaN    removed                      None   \n1016                NaN        NaN    removed         Slender Twig-rush   \n1036                NaN        NaN    removed  Bordertown Spider-orchid   \n1049                NaN        NaN    removed           Musky Caladenia   \n1060                NaN        NaN    removed     Finniss Spider-orchid   \n1065                NaN        NaN    removed   Grampians Spider-orchid   \n1089                NaN        NaN    removed      Purple Donkey Orchid   \n1112                NaN        NaN    removed       Coastal Leek Orchid   \n1117                NaN        NaN    removed                      None   \n1120                NaN        NaN    removed    Goldsack's Leek-orchid   \n1132                NaN        NaN    removed         Bangham Rustyhood   \n1134                NaN        NaN    removed         Halbury Greenhood   \n1137                NaN        NaN    removed           Large Rustyhood   \n1139                NaN        NaN    removed  Mount Olinthus Greenhood   \n1143                NaN        NaN    removed            Hale Greenhood   \n1151                NaN        NaN    removed        Scented Sun Orchid   \n1164                NaN        NaN    removed         Dotted Sun Orchid   \n\n                                     scientificName_old  status_old  \n552                                                 NaN         NaN  \n329                        Maccullochella macquariensis  Endangered  \n330                              Macquaria australasica  Endangered  \n331                               Salvelinus fontinalis  Endangered  \n357               Asplenium bulbiferum ssp. gracillimum  Endangered  \n363                          Grevillea angustiloba ssp.  Endangered  \n364            Grevillea angustiloba subsp. angustiloba  Endangered  \n429                 Ptilotus nobilis subsp. semilanatus  Endangered  \n455                              Lepidium monoplocoides  Endangered  \n523                                     Daviesia devito        Rare  \n525                             Daviesia schwarzenegger        Rare  \n552                                   Swainsona sericea  Endangered  \n563                               Phyllanthus calycinus        Rare  \n584                                 Phebalium calcicola  Endangered  \n585               Phebalium glandulosum ssp. macrocalyx  Endangered  \n604           Spyridium eriocephalum var. glabrisepalum  Endangered  \n611   Abutilon oxycarpum subsp. Prostrate (A.A.Mitch...        Rare  \n639             Eucalyptus conglobata subsp. conglobata        Rare  \n671                                  Meionectes brownii        Rare  \n684                            Neosciadium glochidiatum        Rare  \n687                             Trachymene thysanocarpa        Rare  \n700                               Gentianella clelandii  Endangered  \n706       Asperula sp. A (A.B.Cashmore, September 1933)  Endangered  \n711                                   Galium propinquum  Endangered  \n720                                 Mentha atrolilacina        Rare  \n742                                    Euphrasia scabra  Endangered  \n795                                 Goodenia valdentata        Rare  \n820                              Brachyscome paludicola        Rare  \n841                               Lagenophora sublyrata  Vulnerable  \n865                                 Podolepis decipiens        Rare  \n867                              Podolepis linearifolia        Rare  \n876                              Senecio helichrysoides  Endangered  \n908               Thysanotus tuberosus ssp. parviflorus  Vulnerable  \n950                              Austrostipa nullanulla  Vulnerable  \n956                              Austrostipa vickeryana        Rare  \n968            Lachnagrostis semibarbata var. filifolia        Rare  \n969          Lachnagrostis semibarbata var. semibarbata        Rare  \n1007                                 Gahnia halmaturina        Rare  \n1016                                      Baumea gunnii        Rare  \n1036                              Caladenia cruciformis  Endangered  \n1049                                 Caladenia moschata  Endangered  \n1060                Caladenia sp. Finniss (R.Bates 308)  Endangered  \n1065                               Caladenia versicolor  Endangered  \n1089                      Diuris punctata var. punctata  Endangered  \n1112                              Prasophyllum litorale  Endangered  \n1117                         Prasophyllum rotundiflorum  Endangered  \n1120                              Prasophyllum tortilis  Endangered  \n1132                             Pterostylis ferruginea  Endangered  \n1134                                 Pterostylis lepida  Endangered  \n1137                                 Pterostylis maxima  Endangered  \n1139                              Pterostylis mirabilis  Vulnerable  \n1143               Pterostylis sp. Hale (R.Bates 21725)  Vulnerable  \n1151                                Thelymitra aristata  Endangered  \n1164                                Thelymitra ixioides  Endangered  ",
      "text/html": "<div>\n<style scoped>\n    .dataframe tbody tr th:only-of-type {\n        vertical-align: middle;\n    }\n\n    .dataframe tbody tr th {\n        vertical-align: top;\n    }\n\n    .dataframe thead th {\n        text-align: right;\n    }\n</style>\n<table border=\"1\" class=\"dataframe\">\n  <thead>\n    <tr style=\"text-align: right;\">\n      <th></th>\n      <th>name</th>\n      <th>commonName_new</th>\n      <th>scientificName_new</th>\n      <th>status_new</th>\n      <th>listUpdate</th>\n      <th>commonName_old</th>\n      <th>scientificName_old</th>\n      <th>status_old</th>\n    </tr>\n  </thead>\n  <tbody>\n    <tr>\n      <th>552</th>\n      <td>Lysiandra calycina</td>\n      <td>None</td>\n      <td>None</td>\n      <td>Rare</td>\n      <td>added</td>\n      <td>NaN</td>\n      <td>NaN</td>\n      <td>NaN</td>\n    </tr>\n    <tr>\n      <th>329</th>\n      <td>Maccullochella macquariensis</td>\n      <td>NaN</td>\n      <td>NaN</td>\n      <td>NaN</td>\n      <td>removed</td>\n      <td>Trout Cod</td>\n      <td>Maccullochella macquariensis</td>\n      <td>Endangered</td>\n    </tr>\n    <tr>\n      <th>330</th>\n      <td>Macquaria australasica</td>\n      <td>NaN</td>\n      <td>NaN</td>\n      <td>NaN</td>\n      <td>removed</td>\n      <td>Macca</td>\n      <td>Macquaria australasica</td>\n      <td>Endangered</td>\n    </tr>\n    <tr>\n      <th>331</th>\n      <td>Salvelinus fontinalis</td>\n      <td>NaN</td>\n      <td>NaN</td>\n      <td>NaN</td>\n      <td>removed</td>\n      <td>Brook Trout</td>\n      <td>Salvelinus fontinalis</td>\n      <td>Endangered</td>\n    </tr>\n    <tr>\n      <th>357</th>\n      <td>Asplenium bulbiferum ssp. gracillimum</td>\n      <td>NaN</td>\n      <td>NaN</td>\n      <td>NaN</td>\n      <td>removed</td>\n      <td>Mother Spleenwort</td>\n      <td>Asplenium bulbiferum ssp. gracillimum</td>\n      <td>Endangered</td>\n    </tr>\n    <tr>\n      <th>363</th>\n      <td>Grevillea angustiloba ssp.</td>\n      <td>NaN</td>\n      <td>NaN</td>\n      <td>NaN</td>\n      <td>removed</td>\n      <td>None</td>\n      <td>Grevillea angustiloba ssp.</td>\n      <td>Endangered</td>\n    </tr>\n    <tr>\n      <th>364</th>\n      <td>Grevillea angustiloba ssp. angustiloba</td>\n      <td>NaN</td>\n      <td>NaN</td>\n      <td>NaN</td>\n      <td>removed</td>\n      <td>Narrow-lobe Grevillea</td>\n      <td>Grevillea angustiloba subsp. angustiloba</td>\n      <td>Endangered</td>\n    </tr>\n    <tr>\n      <th>429</th>\n      <td>Ptilotus semilanatus</td>\n      <td>NaN</td>\n      <td>NaN</td>\n      <td>NaN</td>\n      <td>removed</td>\n      <td>None</td>\n      <td>Ptilotus nobilis subsp. semilanatus</td>\n      <td>Endangered</td>\n    </tr>\n    <tr>\n      <th>455</th>\n      <td>Lepidium monoplocoides</td>\n      <td>NaN</td>\n      <td>NaN</td>\n      <td>NaN</td>\n      <td>removed</td>\n      <td>Winged Peppercress</td>\n      <td>Lepidium monoplocoides</td>\n      <td>Endangered</td>\n    </tr>\n    <tr>\n      <th>523</th>\n      <td>Daviesia devito</td>\n      <td>NaN</td>\n      <td>NaN</td>\n      <td>NaN</td>\n      <td>removed</td>\n      <td>Mallee Bitter-pea</td>\n      <td>Daviesia devito</td>\n      <td>Rare</td>\n    </tr>\n    <tr>\n      <th>525</th>\n      <td>Daviesia schwarzenegger</td>\n      <td>NaN</td>\n      <td>NaN</td>\n      <td>NaN</td>\n      <td>removed</td>\n      <td>Mallee Bitter-pea</td>\n      <td>Daviesia schwarzenegger</td>\n      <td>Rare</td>\n    </tr>\n    <tr>\n      <th>552</th>\n      <td>Swainsona sericea</td>\n      <td>NaN</td>\n      <td>NaN</td>\n      <td>NaN</td>\n      <td>removed</td>\n      <td>Silky Swainson-pea</td>\n      <td>Swainsona sericea</td>\n      <td>Endangered</td>\n    </tr>\n    <tr>\n      <th>563</th>\n      <td>Phyllanthus calycinus</td>\n      <td>NaN</td>\n      <td>NaN</td>\n      <td>NaN</td>\n      <td>removed</td>\n      <td>False Boronia</td>\n      <td>Phyllanthus calycinus</td>\n      <td>Rare</td>\n    </tr>\n    <tr>\n      <th>584</th>\n      <td>Phebalium calcicola</td>\n      <td>NaN</td>\n      <td>NaN</td>\n      <td>NaN</td>\n      <td>removed</td>\n      <td>Limestone Phebalium</td>\n      <td>Phebalium calcicola</td>\n      <td>Endangered</td>\n    </tr>\n    <tr>\n      <th>585</th>\n      <td>Phebalium glandulosum ssp. macrocalyx</td>\n      <td>NaN</td>\n      <td>NaN</td>\n      <td>NaN</td>\n      <td>removed</td>\n      <td>Glandular Phebalium</td>\n      <td>Phebalium glandulosum ssp. macrocalyx</td>\n      <td>Endangered</td>\n    </tr>\n    <tr>\n      <th>604</th>\n      <td>Spyridium eriocephalum var. glabrisepalum</td>\n      <td>NaN</td>\n      <td>NaN</td>\n      <td>NaN</td>\n      <td>removed</td>\n      <td>Macgillivray Spyridium</td>\n      <td>Spyridium eriocephalum var. glabrisepalum</td>\n      <td>Endangered</td>\n    </tr>\n    <tr>\n      <th>611</th>\n      <td>Abutilon oxycarpum ssp. Prostrate (A.A.Mitchel...</td>\n      <td>NaN</td>\n      <td>NaN</td>\n      <td>NaN</td>\n      <td>removed</td>\n      <td>None</td>\n      <td>Abutilon oxycarpum subsp. Prostrate (A.A.Mitch...</td>\n      <td>Rare</td>\n    </tr>\n    <tr>\n      <th>639</th>\n      <td>Eucalyptus conglobata ssp. conglobata</td>\n      <td>NaN</td>\n      <td>NaN</td>\n      <td>NaN</td>\n      <td>removed</td>\n      <td>Cong Mallee</td>\n      <td>Eucalyptus conglobata subsp. conglobata</td>\n      <td>Rare</td>\n    </tr>\n    <tr>\n      <th>671</th>\n      <td>Meionectes brownii</td>\n      <td>NaN</td>\n      <td>NaN</td>\n      <td>NaN</td>\n      <td>removed</td>\n      <td>Swamp Raspwort</td>\n      <td>Meionectes brownii</td>\n      <td>Rare</td>\n    </tr>\n    <tr>\n      <th>684</th>\n      <td>Neosciadium glochidiatum</td>\n      <td>NaN</td>\n      <td>NaN</td>\n      <td>NaN</td>\n      <td>removed</td>\n      <td>None</td>\n      <td>Neosciadium glochidiatum</td>\n      <td>Rare</td>\n    </tr>\n    <tr>\n      <th>687</th>\n      <td>Trachymene thysanocarpa</td>\n      <td>NaN</td>\n      <td>NaN</td>\n      <td>NaN</td>\n      <td>removed</td>\n      <td>Mallee Trachymene</td>\n      <td>Trachymene thysanocarpa</td>\n      <td>Rare</td>\n    </tr>\n    <tr>\n      <th>700</th>\n      <td>Gentianella clelandii</td>\n      <td>NaN</td>\n      <td>NaN</td>\n      <td>NaN</td>\n      <td>removed</td>\n      <td>None</td>\n      <td>Gentianella clelandii</td>\n      <td>Endangered</td>\n    </tr>\n    <tr>\n      <th>706</th>\n      <td>Asperula sp. A (A.B.Cashmore September 1933)</td>\n      <td>NaN</td>\n      <td>NaN</td>\n      <td>NaN</td>\n      <td>removed</td>\n      <td>Alpine Woodruff</td>\n      <td>Asperula sp. A (A.B.Cashmore, September 1933)</td>\n      <td>Endangered</td>\n    </tr>\n    <tr>\n      <th>711</th>\n      <td>Galium propinquum</td>\n      <td>NaN</td>\n      <td>NaN</td>\n      <td>NaN</td>\n      <td>removed</td>\n      <td>Māwe</td>\n      <td>Galium propinquum</td>\n      <td>Endangered</td>\n    </tr>\n    <tr>\n      <th>720</th>\n      <td>Mentha atrolilacina</td>\n      <td>NaN</td>\n      <td>NaN</td>\n      <td>NaN</td>\n      <td>removed</td>\n      <td>Slender Mint</td>\n      <td>Mentha atrolilacina</td>\n      <td>Rare</td>\n    </tr>\n    <tr>\n      <th>742</th>\n      <td>Euphrasia scabra</td>\n      <td>NaN</td>\n      <td>NaN</td>\n      <td>NaN</td>\n      <td>removed</td>\n      <td>Yellow Eyebright</td>\n      <td>Euphrasia scabra</td>\n      <td>Endangered</td>\n    </tr>\n    <tr>\n      <th>795</th>\n      <td>Goodenia valdentata</td>\n      <td>NaN</td>\n      <td>NaN</td>\n      <td>NaN</td>\n      <td>removed</td>\n      <td>Davenport Range Goodenia</td>\n      <td>Goodenia valdentata</td>\n      <td>Rare</td>\n    </tr>\n    <tr>\n      <th>820</th>\n      <td>Brachyscome paludicola</td>\n      <td>NaN</td>\n      <td>NaN</td>\n      <td>NaN</td>\n      <td>removed</td>\n      <td>Swamp Daisy</td>\n      <td>Brachyscome paludicola</td>\n      <td>Rare</td>\n    </tr>\n    <tr>\n      <th>841</th>\n      <td>Lagenophora sublyrata</td>\n      <td>NaN</td>\n      <td>NaN</td>\n      <td>NaN</td>\n      <td>removed</td>\n      <td>Slender Bottle-daisy</td>\n      <td>Lagenophora sublyrata</td>\n      <td>Vulnerable</td>\n    </tr>\n    <tr>\n      <th>865</th>\n      <td>Podolepis decipiens</td>\n      <td>NaN</td>\n      <td>NaN</td>\n      <td>NaN</td>\n      <td>removed</td>\n      <td>None</td>\n      <td>Podolepis decipiens</td>\n      <td>Rare</td>\n    </tr>\n    <tr>\n      <th>867</th>\n      <td>Podolepis linearifolia</td>\n      <td>NaN</td>\n      <td>NaN</td>\n      <td>NaN</td>\n      <td>removed</td>\n      <td>Basalt Podolepis</td>\n      <td>Podolepis linearifolia</td>\n      <td>Rare</td>\n    </tr>\n    <tr>\n      <th>876</th>\n      <td>Senecio helichrysoides</td>\n      <td>NaN</td>\n      <td>NaN</td>\n      <td>NaN</td>\n      <td>removed</td>\n      <td>Woolly Fireweed</td>\n      <td>Senecio helichrysoides</td>\n      <td>Endangered</td>\n    </tr>\n    <tr>\n      <th>908</th>\n      <td>Thysanotus tuberosus ssp. parviflorus</td>\n      <td>NaN</td>\n      <td>NaN</td>\n      <td>NaN</td>\n      <td>removed</td>\n      <td>Tuber Fringe-lily</td>\n      <td>Thysanotus tuberosus ssp. parviflorus</td>\n      <td>Vulnerable</td>\n    </tr>\n    <tr>\n      <th>950</th>\n      <td>Austrostipa nullanulla</td>\n      <td>NaN</td>\n      <td>NaN</td>\n      <td>NaN</td>\n      <td>removed</td>\n      <td>Club Spear-grass</td>\n      <td>Austrostipa nullanulla</td>\n      <td>Vulnerable</td>\n    </tr>\n    <tr>\n      <th>956</th>\n      <td>Austrostipa vickeryana</td>\n      <td>NaN</td>\n      <td>NaN</td>\n      <td>NaN</td>\n      <td>removed</td>\n      <td>Vickery's Spear-grass</td>\n      <td>Austrostipa vickeryana</td>\n      <td>Rare</td>\n    </tr>\n    <tr>\n      <th>968</th>\n      <td>Lachnagrostis semibarbata var. filifolia</td>\n      <td>NaN</td>\n      <td>NaN</td>\n      <td>NaN</td>\n      <td>removed</td>\n      <td>Narrow-leaf Blown-grass</td>\n      <td>Lachnagrostis semibarbata var. filifolia</td>\n      <td>Rare</td>\n    </tr>\n    <tr>\n      <th>969</th>\n      <td>Lachnagrostis semibarbata var. semibarbata</td>\n      <td>NaN</td>\n      <td>NaN</td>\n      <td>NaN</td>\n      <td>removed</td>\n      <td>Purple Blown-grass</td>\n      <td>Lachnagrostis semibarbata var. semibarbata</td>\n      <td>Rare</td>\n    </tr>\n    <tr>\n      <th>1007</th>\n      <td>Gahnia halmaturina</td>\n      <td>NaN</td>\n      <td>NaN</td>\n      <td>NaN</td>\n      <td>removed</td>\n      <td>None</td>\n      <td>Gahnia halmaturina</td>\n      <td>Rare</td>\n    </tr>\n    <tr>\n      <th>1016</th>\n      <td>Machaerina gunnii</td>\n      <td>NaN</td>\n      <td>NaN</td>\n      <td>NaN</td>\n      <td>removed</td>\n      <td>Slender Twig-rush</td>\n      <td>Baumea gunnii</td>\n      <td>Rare</td>\n    </tr>\n    <tr>\n      <th>1036</th>\n      <td>Caladenia cruciformis</td>\n      <td>NaN</td>\n      <td>NaN</td>\n      <td>NaN</td>\n      <td>removed</td>\n      <td>Bordertown Spider-orchid</td>\n      <td>Caladenia cruciformis</td>\n      <td>Endangered</td>\n    </tr>\n    <tr>\n      <th>1049</th>\n      <td>Caladenia moschata</td>\n      <td>NaN</td>\n      <td>NaN</td>\n      <td>NaN</td>\n      <td>removed</td>\n      <td>Musky Caladenia</td>\n      <td>Caladenia moschata</td>\n      <td>Endangered</td>\n    </tr>\n    <tr>\n      <th>1060</th>\n      <td>Caladenia sp. Finniss (R.Bates 308)</td>\n      <td>NaN</td>\n      <td>NaN</td>\n      <td>NaN</td>\n      <td>removed</td>\n      <td>Finniss Spider-orchid</td>\n      <td>Caladenia sp. Finniss (R.Bates 308)</td>\n      <td>Endangered</td>\n    </tr>\n    <tr>\n      <th>1065</th>\n      <td>Caladenia versicolor</td>\n      <td>NaN</td>\n      <td>NaN</td>\n      <td>NaN</td>\n      <td>removed</td>\n      <td>Grampians Spider-orchid</td>\n      <td>Caladenia versicolor</td>\n      <td>Endangered</td>\n    </tr>\n    <tr>\n      <th>1089</th>\n      <td>Diuris punctata var. punctata</td>\n      <td>NaN</td>\n      <td>NaN</td>\n      <td>NaN</td>\n      <td>removed</td>\n      <td>Purple Donkey Orchid</td>\n      <td>Diuris punctata var. punctata</td>\n      <td>Endangered</td>\n    </tr>\n    <tr>\n      <th>1112</th>\n      <td>Prasophyllum litorale</td>\n      <td>NaN</td>\n      <td>NaN</td>\n      <td>NaN</td>\n      <td>removed</td>\n      <td>Coastal Leek Orchid</td>\n      <td>Prasophyllum litorale</td>\n      <td>Endangered</td>\n    </tr>\n    <tr>\n      <th>1117</th>\n      <td>Prasophyllum rotundiflorum</td>\n      <td>NaN</td>\n      <td>NaN</td>\n      <td>NaN</td>\n      <td>removed</td>\n      <td>None</td>\n      <td>Prasophyllum rotundiflorum</td>\n      <td>Endangered</td>\n    </tr>\n    <tr>\n      <th>1120</th>\n      <td>Prasophyllum tortilis</td>\n      <td>NaN</td>\n      <td>NaN</td>\n      <td>NaN</td>\n      <td>removed</td>\n      <td>Goldsack's Leek-orchid</td>\n      <td>Prasophyllum tortilis</td>\n      <td>Endangered</td>\n    </tr>\n    <tr>\n      <th>1132</th>\n      <td>Pterostylis ferruginea</td>\n      <td>NaN</td>\n      <td>NaN</td>\n      <td>NaN</td>\n      <td>removed</td>\n      <td>Bangham Rustyhood</td>\n      <td>Pterostylis ferruginea</td>\n      <td>Endangered</td>\n    </tr>\n    <tr>\n      <th>1134</th>\n      <td>Pterostylis lepida</td>\n      <td>NaN</td>\n      <td>NaN</td>\n      <td>NaN</td>\n      <td>removed</td>\n      <td>Halbury Greenhood</td>\n      <td>Pterostylis lepida</td>\n      <td>Endangered</td>\n    </tr>\n    <tr>\n      <th>1137</th>\n      <td>Pterostylis maxima</td>\n      <td>NaN</td>\n      <td>NaN</td>\n      <td>NaN</td>\n      <td>removed</td>\n      <td>Large Rustyhood</td>\n      <td>Pterostylis maxima</td>\n      <td>Endangered</td>\n    </tr>\n    <tr>\n      <th>1139</th>\n      <td>Pterostylis mirabilis</td>\n      <td>NaN</td>\n      <td>NaN</td>\n      <td>NaN</td>\n      <td>removed</td>\n      <td>Mount Olinthus Greenhood</td>\n      <td>Pterostylis mirabilis</td>\n      <td>Vulnerable</td>\n    </tr>\n    <tr>\n      <th>1143</th>\n      <td>Pterostylis sp. Hale (R.Bates 21725)</td>\n      <td>NaN</td>\n      <td>NaN</td>\n      <td>NaN</td>\n      <td>removed</td>\n      <td>Hale Greenhood</td>\n      <td>Pterostylis sp. Hale (R.Bates 21725)</td>\n      <td>Vulnerable</td>\n    </tr>\n    <tr>\n      <th>1151</th>\n      <td>Thelymitra aristata</td>\n      <td>NaN</td>\n      <td>NaN</td>\n      <td>NaN</td>\n      <td>removed</td>\n      <td>Scented Sun Orchid</td>\n      <td>Thelymitra aristata</td>\n      <td>Endangered</td>\n    </tr>\n    <tr>\n      <th>1164</th>\n      <td>Thelymitra ixioides</td>\n      <td>NaN</td>\n      <td>NaN</td>\n      <td>NaN</td>\n      <td>removed</td>\n      <td>Dotted Sun Orchid</td>\n      <td>Thelymitra ixioides</td>\n      <td>Endangered</td>\n    </tr>\n  </tbody>\n</table>\n</div>"
     },
     "execution_count": 8,
     "metadata": {},
     "output_type": "execute_result"
    }
   ],
   "source": [
    "#SA Conservation\n",
    "filename = \"SA-conservation.csv\"\n",
    "testdr = \"dr653\"\n",
    "proddr = \"dr653\"\n",
    "changelist = lf.get_changelist(testdr, proddr, ltype)\n",
    "changelist.to_csv(projectdir + changedir + monthStr + \"-\" + filename, encoding=\"UTF-8\", index=False)\n",
    "changelist"
   ],
   "metadata": {
    "collapsed": false,
    "pycharm": {
     "name": "#%%\n"
    }
   }
  },
  {
   "cell_type": "code",
   "execution_count": 9,
   "outputs": [
    {
     "name": "stdout",
     "output_type": "stream",
     "text": [
      "get_changelist: Test -  dr654 Prod -  dr654\n",
      "download_ala_list:  https://lists.ala.org.au/ws/speciesListItems/dr654?max=10000&includeKVP=true\n",
      "Index(['id', 'name', 'commonName', 'scientificName', 'lsid', 'dataResourceUid',\n",
      "       'kvpValues'],\n",
      "      dtype='object')\n",
      "download_ala_list:  https://lists-test.ala.org.au/ws/speciesListItems/dr654?max=10000&includeKVP=true\n",
      "Index(['id', 'name', 'commonName', 'scientificName', 'lsid', 'dataResourceUid',\n",
      "       'kvpValues'],\n",
      "      dtype='object')\n"
     ]
    },
    {
     "data": {
      "text/plain": "                                               name commonName_new  \\\n11                             Amphibromus fluitans            NaN   \n407                              Taraxacum cygnorum            NaN   \n478                     Pseudocephalozia paludicola            NaN   \n620                           Balaenoptera borealis            NaN   \n623                          Botaurus poiciloptilus            NaN   \n627                                Calidris canutus            NaN   \n628                             Calidris ferruginea            NaN   \n629                           Calidris tenuirostris            NaN   \n633                         Centrophorus harrissoni            NaN   \n634                           Centrophorus zeehaani            NaN   \n636                        Charadrius leschenaultii            NaN   \n637                             Charadrius mongolus            NaN   \n641                             Dasyurus viverrinus            NaN   \n643                         Diomedea amsterdamensis            NaN   \n644                           Diomedea antipodensis            NaN   \n645                   Diomedea antipodensis gibsoni            NaN   \n646             Diomedea epomophora (sensu stricto)            NaN   \n648                              Diomedea dabbenena            NaN   \n649                               Diomedea sanfordi            NaN   \n661                              Galeorhinus galeus            NaN   \n665                           Hirundapus caudacutus            NaN   \n666                         Hoplostethus atlanticus            NaN   \n670                         Limosa lapponica baueri            NaN   \n671                      Limosa lapponica menzbieri            NaN   \n686                        Perameles gunnii gunnii             NaN   \n698  Rexea solandri (eastern Australian population)            NaN   \n699                                 Rhincodon typus            NaN   \n701                                Seriolella brama            NaN   \n706                       Strepera fuliginosa colei            NaN   \n707                            Thalassarche bulleri            NaN   \n708                     Thalassarche bulleri platei            NaN   \n710                             Thalassarche steadi            NaN   \n712                            Thalassarche eremita            NaN   \n713                           Thalassarche impavida            NaN   \n715                            Thalassarche salvini            NaN   \n716              Thinornis rubricollis rubricollis             NaN   \n717                                Thunnus maccoyii            NaN   \n721                        Vombatus ursinus ursinus            NaN   \n\n    scientificName_new status_new listUpdate  \\\n11                 NaN        NaN    removed   \n407                NaN        NaN    removed   \n478                NaN        NaN    removed   \n620                NaN        NaN    removed   \n623                NaN        NaN    removed   \n627                NaN        NaN    removed   \n628                NaN        NaN    removed   \n629                NaN        NaN    removed   \n633                NaN        NaN    removed   \n634                NaN        NaN    removed   \n636                NaN        NaN    removed   \n637                NaN        NaN    removed   \n641                NaN        NaN    removed   \n643                NaN        NaN    removed   \n644                NaN        NaN    removed   \n645                NaN        NaN    removed   \n646                NaN        NaN    removed   \n648                NaN        NaN    removed   \n649                NaN        NaN    removed   \n661                NaN        NaN    removed   \n665                NaN        NaN    removed   \n666                NaN        NaN    removed   \n670                NaN        NaN    removed   \n671                NaN        NaN    removed   \n686                NaN        NaN    removed   \n698                NaN        NaN    removed   \n699                NaN        NaN    removed   \n701                NaN        NaN    removed   \n706                NaN        NaN    removed   \n707                NaN        NaN    removed   \n708                NaN        NaN    removed   \n710                NaN        NaN    removed   \n712                NaN        NaN    removed   \n713                NaN        NaN    removed   \n715                NaN        NaN    removed   \n716                NaN        NaN    removed   \n717                NaN        NaN    removed   \n721                NaN        NaN    removed   \n\n                            commonName_old  \\\n11            Floating Swamp Wallaby-grass   \n407                        Coast Dandelion   \n478                 Alpine Leafy Liverwort   \n620                              Sei Whale   \n623                   Australasian Bittern   \n627                               Red Knot   \n628                       Curlew Sandpiper   \n629                             Great Knot   \n633                      Dumb Gulper Shark   \n634                       Southern Dogfish   \n636                    Greater Sand Plover   \n637                     Lesser Sand Plover   \n641                          Eastern Quoll   \n643                    Amsterdam Albatross   \n644                   Antipodean Albatross   \n645                     Gibson's Albatross   \n646               Southern Royal Albatross   \n648                      Tristan Albatross   \n649               Northern Royal Albatross   \n661                           School Shark   \n665              White-throated Needletail   \n666                          Deepsea Perch   \n670              Eastern Bar-tailed Godwit   \n671  Bar-tailed Godwit (northern Siberian)   \n686    Eastern Barred Bandicoot (tasmania)   \n698                        Eastern Gemfish   \n699                            Whale Shark   \n701                           Blue Warehou   \n706                                   None   \n707                     Buller's Albatross   \n708                      Pacific Albatross   \n710                 White-capped Albatross   \n712                      Chatham Albatross   \n713                     Campbell Albatross   \n715                     Salvin's Albatross   \n716                          Hooded Plover   \n717                          Southern Tuna   \n721                                   None   \n\n                                 scientificName_old status_old  \n11                             Amphibromus fluitans        NaN  \n407                              Taraxacum cygnorum        NaN  \n478                     Pseudocephalozia paludicola        NaN  \n620                           Balaenoptera borealis        NaN  \n623                          Botaurus poiciloptilus        NaN  \n627                     Calidris (Calidris) canutus        NaN  \n628                    Calidris (Erolia) ferruginea        NaN  \n629                Calidris (Calidris) tenuirostris        NaN  \n633                         Centrophorus harrissoni        NaN  \n634                           Centrophorus zeehaani        NaN  \n636           Charadrius (Charadrius) leschenaultii        NaN  \n637       Charadrius (Charadrius) mongolus mongolus        NaN  \n641                             Dasyurus viverrinus        NaN  \n643                         Diomedea amsterdamensis          *  \n644                           Diomedea antipodensis          *  \n645                   Diomedea antipodensis gibsoni          *  \n646                             Diomedea epomophora        NaN  \n648                              Diomedea dabbenena          *  \n649                               Diomedea sanfordi        NaN  \n661                              Galeorhinus galeus        NaN  \n665                           Hirundapus caudacutus        NaN  \n666                         Hoplostethus atlanticus        NaN  \n670                         Limosa lapponica baueri        NaN  \n671                      Limosa lapponica menzbieri        NaN  \n686                         Perameles gunnii gunnii        NaN  \n698  Rexea solandri (eastern Australian population)        NaN  \n699                                 Rhincodon typus        NaN  \n701                                Seriolella brama        NaN  \n706            Strepera (Strepera) fuliginosa colei        NaN  \n707                            Thalassarche bulleri        NaN  \n708                     Thalassarche bulleri platei        NaN  \n710                             Thalassarche steadi          *  \n712                            Thalassarche eremita          *  \n713                           Thalassarche impavida          *  \n715                            Thalassarche salvini          *  \n716                           Thinornis rubricollis        NaN  \n717                                Thunnus maccoyii        NaN  \n721                        Vombatus ursinus ursinus        NaN  ",
      "text/html": "<div>\n<style scoped>\n    .dataframe tbody tr th:only-of-type {\n        vertical-align: middle;\n    }\n\n    .dataframe tbody tr th {\n        vertical-align: top;\n    }\n\n    .dataframe thead th {\n        text-align: right;\n    }\n</style>\n<table border=\"1\" class=\"dataframe\">\n  <thead>\n    <tr style=\"text-align: right;\">\n      <th></th>\n      <th>name</th>\n      <th>commonName_new</th>\n      <th>scientificName_new</th>\n      <th>status_new</th>\n      <th>listUpdate</th>\n      <th>commonName_old</th>\n      <th>scientificName_old</th>\n      <th>status_old</th>\n    </tr>\n  </thead>\n  <tbody>\n    <tr>\n      <th>11</th>\n      <td>Amphibromus fluitans</td>\n      <td>NaN</td>\n      <td>NaN</td>\n      <td>NaN</td>\n      <td>removed</td>\n      <td>Floating Swamp Wallaby-grass</td>\n      <td>Amphibromus fluitans</td>\n      <td>NaN</td>\n    </tr>\n    <tr>\n      <th>407</th>\n      <td>Taraxacum cygnorum</td>\n      <td>NaN</td>\n      <td>NaN</td>\n      <td>NaN</td>\n      <td>removed</td>\n      <td>Coast Dandelion</td>\n      <td>Taraxacum cygnorum</td>\n      <td>NaN</td>\n    </tr>\n    <tr>\n      <th>478</th>\n      <td>Pseudocephalozia paludicola</td>\n      <td>NaN</td>\n      <td>NaN</td>\n      <td>NaN</td>\n      <td>removed</td>\n      <td>Alpine Leafy Liverwort</td>\n      <td>Pseudocephalozia paludicola</td>\n      <td>NaN</td>\n    </tr>\n    <tr>\n      <th>620</th>\n      <td>Balaenoptera borealis</td>\n      <td>NaN</td>\n      <td>NaN</td>\n      <td>NaN</td>\n      <td>removed</td>\n      <td>Sei Whale</td>\n      <td>Balaenoptera borealis</td>\n      <td>NaN</td>\n    </tr>\n    <tr>\n      <th>623</th>\n      <td>Botaurus poiciloptilus</td>\n      <td>NaN</td>\n      <td>NaN</td>\n      <td>NaN</td>\n      <td>removed</td>\n      <td>Australasian Bittern</td>\n      <td>Botaurus poiciloptilus</td>\n      <td>NaN</td>\n    </tr>\n    <tr>\n      <th>627</th>\n      <td>Calidris canutus</td>\n      <td>NaN</td>\n      <td>NaN</td>\n      <td>NaN</td>\n      <td>removed</td>\n      <td>Red Knot</td>\n      <td>Calidris (Calidris) canutus</td>\n      <td>NaN</td>\n    </tr>\n    <tr>\n      <th>628</th>\n      <td>Calidris ferruginea</td>\n      <td>NaN</td>\n      <td>NaN</td>\n      <td>NaN</td>\n      <td>removed</td>\n      <td>Curlew Sandpiper</td>\n      <td>Calidris (Erolia) ferruginea</td>\n      <td>NaN</td>\n    </tr>\n    <tr>\n      <th>629</th>\n      <td>Calidris tenuirostris</td>\n      <td>NaN</td>\n      <td>NaN</td>\n      <td>NaN</td>\n      <td>removed</td>\n      <td>Great Knot</td>\n      <td>Calidris (Calidris) tenuirostris</td>\n      <td>NaN</td>\n    </tr>\n    <tr>\n      <th>633</th>\n      <td>Centrophorus harrissoni</td>\n      <td>NaN</td>\n      <td>NaN</td>\n      <td>NaN</td>\n      <td>removed</td>\n      <td>Dumb Gulper Shark</td>\n      <td>Centrophorus harrissoni</td>\n      <td>NaN</td>\n    </tr>\n    <tr>\n      <th>634</th>\n      <td>Centrophorus zeehaani</td>\n      <td>NaN</td>\n      <td>NaN</td>\n      <td>NaN</td>\n      <td>removed</td>\n      <td>Southern Dogfish</td>\n      <td>Centrophorus zeehaani</td>\n      <td>NaN</td>\n    </tr>\n    <tr>\n      <th>636</th>\n      <td>Charadrius leschenaultii</td>\n      <td>NaN</td>\n      <td>NaN</td>\n      <td>NaN</td>\n      <td>removed</td>\n      <td>Greater Sand Plover</td>\n      <td>Charadrius (Charadrius) leschenaultii</td>\n      <td>NaN</td>\n    </tr>\n    <tr>\n      <th>637</th>\n      <td>Charadrius mongolus</td>\n      <td>NaN</td>\n      <td>NaN</td>\n      <td>NaN</td>\n      <td>removed</td>\n      <td>Lesser Sand Plover</td>\n      <td>Charadrius (Charadrius) mongolus mongolus</td>\n      <td>NaN</td>\n    </tr>\n    <tr>\n      <th>641</th>\n      <td>Dasyurus viverrinus</td>\n      <td>NaN</td>\n      <td>NaN</td>\n      <td>NaN</td>\n      <td>removed</td>\n      <td>Eastern Quoll</td>\n      <td>Dasyurus viverrinus</td>\n      <td>NaN</td>\n    </tr>\n    <tr>\n      <th>643</th>\n      <td>Diomedea amsterdamensis</td>\n      <td>NaN</td>\n      <td>NaN</td>\n      <td>NaN</td>\n      <td>removed</td>\n      <td>Amsterdam Albatross</td>\n      <td>Diomedea amsterdamensis</td>\n      <td>*</td>\n    </tr>\n    <tr>\n      <th>644</th>\n      <td>Diomedea antipodensis</td>\n      <td>NaN</td>\n      <td>NaN</td>\n      <td>NaN</td>\n      <td>removed</td>\n      <td>Antipodean Albatross</td>\n      <td>Diomedea antipodensis</td>\n      <td>*</td>\n    </tr>\n    <tr>\n      <th>645</th>\n      <td>Diomedea antipodensis gibsoni</td>\n      <td>NaN</td>\n      <td>NaN</td>\n      <td>NaN</td>\n      <td>removed</td>\n      <td>Gibson's Albatross</td>\n      <td>Diomedea antipodensis gibsoni</td>\n      <td>*</td>\n    </tr>\n    <tr>\n      <th>646</th>\n      <td>Diomedea epomophora (sensu stricto)</td>\n      <td>NaN</td>\n      <td>NaN</td>\n      <td>NaN</td>\n      <td>removed</td>\n      <td>Southern Royal Albatross</td>\n      <td>Diomedea epomophora</td>\n      <td>NaN</td>\n    </tr>\n    <tr>\n      <th>648</th>\n      <td>Diomedea dabbenena</td>\n      <td>NaN</td>\n      <td>NaN</td>\n      <td>NaN</td>\n      <td>removed</td>\n      <td>Tristan Albatross</td>\n      <td>Diomedea dabbenena</td>\n      <td>*</td>\n    </tr>\n    <tr>\n      <th>649</th>\n      <td>Diomedea sanfordi</td>\n      <td>NaN</td>\n      <td>NaN</td>\n      <td>NaN</td>\n      <td>removed</td>\n      <td>Northern Royal Albatross</td>\n      <td>Diomedea sanfordi</td>\n      <td>NaN</td>\n    </tr>\n    <tr>\n      <th>661</th>\n      <td>Galeorhinus galeus</td>\n      <td>NaN</td>\n      <td>NaN</td>\n      <td>NaN</td>\n      <td>removed</td>\n      <td>School Shark</td>\n      <td>Galeorhinus galeus</td>\n      <td>NaN</td>\n    </tr>\n    <tr>\n      <th>665</th>\n      <td>Hirundapus caudacutus</td>\n      <td>NaN</td>\n      <td>NaN</td>\n      <td>NaN</td>\n      <td>removed</td>\n      <td>White-throated Needletail</td>\n      <td>Hirundapus caudacutus</td>\n      <td>NaN</td>\n    </tr>\n    <tr>\n      <th>666</th>\n      <td>Hoplostethus atlanticus</td>\n      <td>NaN</td>\n      <td>NaN</td>\n      <td>NaN</td>\n      <td>removed</td>\n      <td>Deepsea Perch</td>\n      <td>Hoplostethus atlanticus</td>\n      <td>NaN</td>\n    </tr>\n    <tr>\n      <th>670</th>\n      <td>Limosa lapponica baueri</td>\n      <td>NaN</td>\n      <td>NaN</td>\n      <td>NaN</td>\n      <td>removed</td>\n      <td>Eastern Bar-tailed Godwit</td>\n      <td>Limosa lapponica baueri</td>\n      <td>NaN</td>\n    </tr>\n    <tr>\n      <th>671</th>\n      <td>Limosa lapponica menzbieri</td>\n      <td>NaN</td>\n      <td>NaN</td>\n      <td>NaN</td>\n      <td>removed</td>\n      <td>Bar-tailed Godwit (northern Siberian)</td>\n      <td>Limosa lapponica menzbieri</td>\n      <td>NaN</td>\n    </tr>\n    <tr>\n      <th>686</th>\n      <td>Perameles gunnii gunnii</td>\n      <td>NaN</td>\n      <td>NaN</td>\n      <td>NaN</td>\n      <td>removed</td>\n      <td>Eastern Barred Bandicoot (tasmania)</td>\n      <td>Perameles gunnii gunnii</td>\n      <td>NaN</td>\n    </tr>\n    <tr>\n      <th>698</th>\n      <td>Rexea solandri (eastern Australian population)</td>\n      <td>NaN</td>\n      <td>NaN</td>\n      <td>NaN</td>\n      <td>removed</td>\n      <td>Eastern Gemfish</td>\n      <td>Rexea solandri (eastern Australian population)</td>\n      <td>NaN</td>\n    </tr>\n    <tr>\n      <th>699</th>\n      <td>Rhincodon typus</td>\n      <td>NaN</td>\n      <td>NaN</td>\n      <td>NaN</td>\n      <td>removed</td>\n      <td>Whale Shark</td>\n      <td>Rhincodon typus</td>\n      <td>NaN</td>\n    </tr>\n    <tr>\n      <th>701</th>\n      <td>Seriolella brama</td>\n      <td>NaN</td>\n      <td>NaN</td>\n      <td>NaN</td>\n      <td>removed</td>\n      <td>Blue Warehou</td>\n      <td>Seriolella brama</td>\n      <td>NaN</td>\n    </tr>\n    <tr>\n      <th>706</th>\n      <td>Strepera fuliginosa colei</td>\n      <td>NaN</td>\n      <td>NaN</td>\n      <td>NaN</td>\n      <td>removed</td>\n      <td>None</td>\n      <td>Strepera (Strepera) fuliginosa colei</td>\n      <td>NaN</td>\n    </tr>\n    <tr>\n      <th>707</th>\n      <td>Thalassarche bulleri</td>\n      <td>NaN</td>\n      <td>NaN</td>\n      <td>NaN</td>\n      <td>removed</td>\n      <td>Buller's Albatross</td>\n      <td>Thalassarche bulleri</td>\n      <td>NaN</td>\n    </tr>\n    <tr>\n      <th>708</th>\n      <td>Thalassarche bulleri platei</td>\n      <td>NaN</td>\n      <td>NaN</td>\n      <td>NaN</td>\n      <td>removed</td>\n      <td>Pacific Albatross</td>\n      <td>Thalassarche bulleri platei</td>\n      <td>NaN</td>\n    </tr>\n    <tr>\n      <th>710</th>\n      <td>Thalassarche steadi</td>\n      <td>NaN</td>\n      <td>NaN</td>\n      <td>NaN</td>\n      <td>removed</td>\n      <td>White-capped Albatross</td>\n      <td>Thalassarche steadi</td>\n      <td>*</td>\n    </tr>\n    <tr>\n      <th>712</th>\n      <td>Thalassarche eremita</td>\n      <td>NaN</td>\n      <td>NaN</td>\n      <td>NaN</td>\n      <td>removed</td>\n      <td>Chatham Albatross</td>\n      <td>Thalassarche eremita</td>\n      <td>*</td>\n    </tr>\n    <tr>\n      <th>713</th>\n      <td>Thalassarche impavida</td>\n      <td>NaN</td>\n      <td>NaN</td>\n      <td>NaN</td>\n      <td>removed</td>\n      <td>Campbell Albatross</td>\n      <td>Thalassarche impavida</td>\n      <td>*</td>\n    </tr>\n    <tr>\n      <th>715</th>\n      <td>Thalassarche salvini</td>\n      <td>NaN</td>\n      <td>NaN</td>\n      <td>NaN</td>\n      <td>removed</td>\n      <td>Salvin's Albatross</td>\n      <td>Thalassarche salvini</td>\n      <td>*</td>\n    </tr>\n    <tr>\n      <th>716</th>\n      <td>Thinornis rubricollis rubricollis</td>\n      <td>NaN</td>\n      <td>NaN</td>\n      <td>NaN</td>\n      <td>removed</td>\n      <td>Hooded Plover</td>\n      <td>Thinornis rubricollis</td>\n      <td>NaN</td>\n    </tr>\n    <tr>\n      <th>717</th>\n      <td>Thunnus maccoyii</td>\n      <td>NaN</td>\n      <td>NaN</td>\n      <td>NaN</td>\n      <td>removed</td>\n      <td>Southern Tuna</td>\n      <td>Thunnus maccoyii</td>\n      <td>NaN</td>\n    </tr>\n    <tr>\n      <th>721</th>\n      <td>Vombatus ursinus ursinus</td>\n      <td>NaN</td>\n      <td>NaN</td>\n      <td>NaN</td>\n      <td>removed</td>\n      <td>None</td>\n      <td>Vombatus ursinus ursinus</td>\n      <td>NaN</td>\n    </tr>\n  </tbody>\n</table>\n</div>"
     },
     "execution_count": 9,
     "metadata": {},
     "output_type": "execute_result"
    }
   ],
   "source": [
    "#TAS Conservation\n",
    "filename = \"TAS-conservation.csv\"\n",
    "testdr = \"dr654\"\n",
    "proddr = \"dr654\"\n",
    "changelist = lf.get_changelist(testdr, proddr, ltype)\n",
    "changelist.to_csv(projectdir + changedir + monthStr + \"-\" + filename, encoding=\"UTF-8\", index=False)\n",
    "changelist"
   ],
   "metadata": {
    "collapsed": false,
    "pycharm": {
     "name": "#%%\n"
    }
   }
  },
  {
   "cell_type": "code",
   "execution_count": 10,
   "outputs": [
    {
     "name": "stdout",
     "output_type": "stream",
     "text": [
      "get_changelist: Test -  dr655 Prod -  dr655\n",
      "download_ala_list:  https://lists.ala.org.au/ws/speciesListItems/dr655?max=10000&includeKVP=true\n",
      "Index(['id', 'name', 'commonName', 'scientificName', 'lsid', 'dataResourceUid',\n",
      "       'kvpValues'],\n",
      "      dtype='object')\n",
      "download_ala_list:  https://lists-test.ala.org.au/ws/speciesListItems/dr655?max=10000&includeKVP=true\n",
      "Index(['id', 'name', 'commonName', 'scientificName', 'lsid', 'dataResourceUid',\n",
      "       'kvpValues'],\n",
      "      dtype='object')\n"
     ]
    },
    {
     "data": {
      "text/plain": "                                  name     commonName_new  \\\n36                     Galaxias sp. 14               None   \n77      Hyridella (Hyridella) depressa  Freshwater Mussel   \n79             Hyridella narracanensis  Freshwater Mussel   \n985             Leichhardtia australis             Doubah   \n986            Leichhardtia flavescens               None   \n1148                Orianthera pusilla               None   \n1317    Prasophyllum sp. aff. montanum               None   \n1320     Prasophyllum sp. aff. validum               None   \n495               Coprosma X tadgellii                NaN   \n1039                   Logania pusilla                NaN   \n1060               Marsdenia australis                NaN   \n1061              Marsdenia flavescens                NaN   \n1314  Prasophyllum sp. aff. montanum A                NaN   \n1317   Prasophyllum sp. aff. validum A                NaN   \n\n                                scientificName_new             status_new  \\\n36                                            None  Critically Endangered   \n77                  Hyridella (Hyridella) depressa             Endangered   \n79             Hyridella (Hyridella) narracanensis             Endangered   \n985                            Marsdenia australis             Endangered   \n986                        Leichhardtia flavescens  Critically Endangered   \n1148                            Orianthera pusilla             Vulnerable   \n1317      Prasophyllum sp. montane (D.T.Rouse 180)             Endangered   \n1320  Prasophyllum sp. Woodlands (D.L.Jones 17707)             Endangered   \n495                                            NaN                    NaN   \n1039                                           NaN                    NaN   \n1060                                           NaN                    NaN   \n1061                                           NaN                    NaN   \n1314                                           NaN                    NaN   \n1317                                           NaN                    NaN   \n\n     listUpdate    commonName_old  \\\n36        added               NaN   \n77        added               NaN   \n79        added               NaN   \n985       added               NaN   \n986       added               NaN   \n1148      added               NaN   \n1317      added               NaN   \n1320      added               NaN   \n495     removed    Currant Bushes   \n1039    removed              None   \n1060    removed            Doubah   \n1061    removed  Yellow Milk-vine   \n1314    removed              None   \n1317    removed              None   \n\n                                scientificName_old             status_old  \n36                                             NaN                    NaN  \n77                                             NaN                    NaN  \n79                                             NaN                    NaN  \n985                                            NaN                    NaN  \n986                                            NaN                    NaN  \n1148                                           NaN                    NaN  \n1317                                           NaN                    NaN  \n1320                                           NaN                    NaN  \n495                                       Coprosma  Critically Endangered  \n1039                            Orianthera pusilla             Vulnerable  \n1060                           Marsdenia australis             Endangered  \n1061                          Marsdenia flavescens  Critically Endangered  \n1314      Prasophyllum sp. montane (D.T.Rouse 180)             Endangered  \n1317  Prasophyllum sp. Woodlands (D.L.Jones 17707)             Endangered  ",
      "text/html": "<div>\n<style scoped>\n    .dataframe tbody tr th:only-of-type {\n        vertical-align: middle;\n    }\n\n    .dataframe tbody tr th {\n        vertical-align: top;\n    }\n\n    .dataframe thead th {\n        text-align: right;\n    }\n</style>\n<table border=\"1\" class=\"dataframe\">\n  <thead>\n    <tr style=\"text-align: right;\">\n      <th></th>\n      <th>name</th>\n      <th>commonName_new</th>\n      <th>scientificName_new</th>\n      <th>status_new</th>\n      <th>listUpdate</th>\n      <th>commonName_old</th>\n      <th>scientificName_old</th>\n      <th>status_old</th>\n    </tr>\n  </thead>\n  <tbody>\n    <tr>\n      <th>36</th>\n      <td>Galaxias sp. 14</td>\n      <td>None</td>\n      <td>None</td>\n      <td>Critically Endangered</td>\n      <td>added</td>\n      <td>NaN</td>\n      <td>NaN</td>\n      <td>NaN</td>\n    </tr>\n    <tr>\n      <th>77</th>\n      <td>Hyridella (Hyridella) depressa</td>\n      <td>Freshwater Mussel</td>\n      <td>Hyridella (Hyridella) depressa</td>\n      <td>Endangered</td>\n      <td>added</td>\n      <td>NaN</td>\n      <td>NaN</td>\n      <td>NaN</td>\n    </tr>\n    <tr>\n      <th>79</th>\n      <td>Hyridella narracanensis</td>\n      <td>Freshwater Mussel</td>\n      <td>Hyridella (Hyridella) narracanensis</td>\n      <td>Endangered</td>\n      <td>added</td>\n      <td>NaN</td>\n      <td>NaN</td>\n      <td>NaN</td>\n    </tr>\n    <tr>\n      <th>985</th>\n      <td>Leichhardtia australis</td>\n      <td>Doubah</td>\n      <td>Marsdenia australis</td>\n      <td>Endangered</td>\n      <td>added</td>\n      <td>NaN</td>\n      <td>NaN</td>\n      <td>NaN</td>\n    </tr>\n    <tr>\n      <th>986</th>\n      <td>Leichhardtia flavescens</td>\n      <td>None</td>\n      <td>Leichhardtia flavescens</td>\n      <td>Critically Endangered</td>\n      <td>added</td>\n      <td>NaN</td>\n      <td>NaN</td>\n      <td>NaN</td>\n    </tr>\n    <tr>\n      <th>1148</th>\n      <td>Orianthera pusilla</td>\n      <td>None</td>\n      <td>Orianthera pusilla</td>\n      <td>Vulnerable</td>\n      <td>added</td>\n      <td>NaN</td>\n      <td>NaN</td>\n      <td>NaN</td>\n    </tr>\n    <tr>\n      <th>1317</th>\n      <td>Prasophyllum sp. aff. montanum</td>\n      <td>None</td>\n      <td>Prasophyllum sp. montane (D.T.Rouse 180)</td>\n      <td>Endangered</td>\n      <td>added</td>\n      <td>NaN</td>\n      <td>NaN</td>\n      <td>NaN</td>\n    </tr>\n    <tr>\n      <th>1320</th>\n      <td>Prasophyllum sp. aff. validum</td>\n      <td>None</td>\n      <td>Prasophyllum sp. Woodlands (D.L.Jones 17707)</td>\n      <td>Endangered</td>\n      <td>added</td>\n      <td>NaN</td>\n      <td>NaN</td>\n      <td>NaN</td>\n    </tr>\n    <tr>\n      <th>495</th>\n      <td>Coprosma X tadgellii</td>\n      <td>NaN</td>\n      <td>NaN</td>\n      <td>NaN</td>\n      <td>removed</td>\n      <td>Currant Bushes</td>\n      <td>Coprosma</td>\n      <td>Critically Endangered</td>\n    </tr>\n    <tr>\n      <th>1039</th>\n      <td>Logania pusilla</td>\n      <td>NaN</td>\n      <td>NaN</td>\n      <td>NaN</td>\n      <td>removed</td>\n      <td>None</td>\n      <td>Orianthera pusilla</td>\n      <td>Vulnerable</td>\n    </tr>\n    <tr>\n      <th>1060</th>\n      <td>Marsdenia australis</td>\n      <td>NaN</td>\n      <td>NaN</td>\n      <td>NaN</td>\n      <td>removed</td>\n      <td>Doubah</td>\n      <td>Marsdenia australis</td>\n      <td>Endangered</td>\n    </tr>\n    <tr>\n      <th>1061</th>\n      <td>Marsdenia flavescens</td>\n      <td>NaN</td>\n      <td>NaN</td>\n      <td>NaN</td>\n      <td>removed</td>\n      <td>Yellow Milk-vine</td>\n      <td>Marsdenia flavescens</td>\n      <td>Critically Endangered</td>\n    </tr>\n    <tr>\n      <th>1314</th>\n      <td>Prasophyllum sp. aff. montanum A</td>\n      <td>NaN</td>\n      <td>NaN</td>\n      <td>NaN</td>\n      <td>removed</td>\n      <td>None</td>\n      <td>Prasophyllum sp. montane (D.T.Rouse 180)</td>\n      <td>Endangered</td>\n    </tr>\n    <tr>\n      <th>1317</th>\n      <td>Prasophyllum sp. aff. validum A</td>\n      <td>NaN</td>\n      <td>NaN</td>\n      <td>NaN</td>\n      <td>removed</td>\n      <td>None</td>\n      <td>Prasophyllum sp. Woodlands (D.L.Jones 17707)</td>\n      <td>Endangered</td>\n    </tr>\n  </tbody>\n</table>\n</div>"
     },
     "execution_count": 10,
     "metadata": {},
     "output_type": "execute_result"
    }
   ],
   "source": [
    "#VIC Conservation\n",
    "filename = \"VIC-conservation.csv\"\n",
    "testdr = \"dr655\"\n",
    "proddr = \"dr655\"\n",
    "changelist = lf.get_changelist(testdr, proddr, ltype)\n",
    "changelist.to_csv(projectdir + changedir + monthStr + \"-\" + filename, encoding=\"UTF-8\", index=False)\n",
    "changelist"
   ],
   "metadata": {
    "collapsed": false,
    "pycharm": {
     "name": "#%%\n"
    }
   }
  },
  {
   "cell_type": "code",
   "execution_count": 11,
   "outputs": [
    {
     "name": "stdout",
     "output_type": "stream",
     "text": [
      "get_changelist: Test -  dr2201 Prod -  dr2201\n",
      "download_ala_list:  https://lists.ala.org.au/ws/speciesListItems/dr2201?max=10000&includeKVP=true\n",
      "Index(['id', 'name', 'commonName', 'scientificName', 'lsid', 'dataResourceUid',\n",
      "       'kvpValues'],\n",
      "      dtype='object')\n",
      "download_ala_list:  https://lists-test.ala.org.au/ws/speciesListItems/dr2201?max=10000&includeKVP=true\n",
      "Index(['id', 'name', 'commonName', 'scientificName', 'lsid', 'dataResourceUid',\n",
      "       'kvpValues'],\n",
      "      dtype='object')\n"
     ]
    },
    {
     "data": {
      "text/plain": "                                                   name  \\\n0                               Abildgaardia pachyptera   \n60                                       Acacia corusca   \n126                                      Acacia karinae   \n133                                  Acacia lachnocarpa   \n218           Acacia sp. Forrestania (D. Angus DA 3001)   \n...                                                 ...   \n4047                                 Latrobea colophona   \n4057       Hibbertia sp. Toolbrunup (J.R. Wheeler 2504)   \n4074  Leucopogon sp. Flynn (F. Hort, J. Hort & A. Lo...   \n4112           Cyphanthera odgersii subsp. occidentalis   \n4148              Teyl sp. (BY Main 1953/2683, 1984/13)   \n\n             commonName_new                        scientificName_new  \\\n0                      None                   Abildgaardia pachyptera   \n60           Shimmer Wattle                            Acacia corusca   \n126                    None                                      None   \n133   Woolly-fruited Wattle                        Acacia lachnocarpa   \n218                    None  Acacia sp. Forrestania (D.Angus DA 3001)   \n...                     ...                                       ...   \n4047                    NaN                                       NaN   \n4057                    NaN                                       NaN   \n4074                    NaN                                       NaN   \n4112                    NaN                                       NaN   \n4148                    NaN                                       NaN   \n\n                            status_new listUpdate             commonName_old  \\\n0     Priority 1: Poorly-known species      added                        NaN   \n60    Priority 1: Poorly-known species      added                        NaN   \n126   Priority 1: Poorly-known species      added                        NaN   \n133   Priority 1: Poorly-known species      added                        NaN   \n218   Priority 1: Poorly-known species      added                        NaN   \n...                                ...        ...                        ...   \n4047                               NaN    removed                       None   \n4057                               NaN    removed                       None   \n4074                               NaN    removed                       None   \n4112                               NaN    removed                       None   \n4148                               NaN    removed  Minnivale Trapdoor Spider   \n\n                                     scientificName_old             status_old  \n0                                                   NaN                    NaN  \n60                                                  NaN                    NaN  \n126                                                 NaN                    NaN  \n133                                                 NaN                    NaN  \n218                                                 NaN                    NaN  \n...                                                 ...                    ...  \n4047                                 Latrobea colophona  Critically Endangered  \n4057        Hibbertia sp. Toolbrunup (J.R.Wheeler 2504)  Critically Endangered  \n4074  Leucopogon sp. Flynn (F.Hort, J.Hort & A.Lowri...  Critically Endangered  \n4112           Cyphanthera odgersii subsp. occidentalis  Critically Endangered  \n4148              Teyl sp. (BY Main 1953/2683, 1984/13)  Critically Endangered  \n\n[815 rows x 8 columns]",
      "text/html": "<div>\n<style scoped>\n    .dataframe tbody tr th:only-of-type {\n        vertical-align: middle;\n    }\n\n    .dataframe tbody tr th {\n        vertical-align: top;\n    }\n\n    .dataframe thead th {\n        text-align: right;\n    }\n</style>\n<table border=\"1\" class=\"dataframe\">\n  <thead>\n    <tr style=\"text-align: right;\">\n      <th></th>\n      <th>name</th>\n      <th>commonName_new</th>\n      <th>scientificName_new</th>\n      <th>status_new</th>\n      <th>listUpdate</th>\n      <th>commonName_old</th>\n      <th>scientificName_old</th>\n      <th>status_old</th>\n    </tr>\n  </thead>\n  <tbody>\n    <tr>\n      <th>0</th>\n      <td>Abildgaardia pachyptera</td>\n      <td>None</td>\n      <td>Abildgaardia pachyptera</td>\n      <td>Priority 1: Poorly-known species</td>\n      <td>added</td>\n      <td>NaN</td>\n      <td>NaN</td>\n      <td>NaN</td>\n    </tr>\n    <tr>\n      <th>60</th>\n      <td>Acacia corusca</td>\n      <td>Shimmer Wattle</td>\n      <td>Acacia corusca</td>\n      <td>Priority 1: Poorly-known species</td>\n      <td>added</td>\n      <td>NaN</td>\n      <td>NaN</td>\n      <td>NaN</td>\n    </tr>\n    <tr>\n      <th>126</th>\n      <td>Acacia karinae</td>\n      <td>None</td>\n      <td>None</td>\n      <td>Priority 1: Poorly-known species</td>\n      <td>added</td>\n      <td>NaN</td>\n      <td>NaN</td>\n      <td>NaN</td>\n    </tr>\n    <tr>\n      <th>133</th>\n      <td>Acacia lachnocarpa</td>\n      <td>Woolly-fruited Wattle</td>\n      <td>Acacia lachnocarpa</td>\n      <td>Priority 1: Poorly-known species</td>\n      <td>added</td>\n      <td>NaN</td>\n      <td>NaN</td>\n      <td>NaN</td>\n    </tr>\n    <tr>\n      <th>218</th>\n      <td>Acacia sp. Forrestania (D. Angus DA 3001)</td>\n      <td>None</td>\n      <td>Acacia sp. Forrestania (D.Angus DA 3001)</td>\n      <td>Priority 1: Poorly-known species</td>\n      <td>added</td>\n      <td>NaN</td>\n      <td>NaN</td>\n      <td>NaN</td>\n    </tr>\n    <tr>\n      <th>...</th>\n      <td>...</td>\n      <td>...</td>\n      <td>...</td>\n      <td>...</td>\n      <td>...</td>\n      <td>...</td>\n      <td>...</td>\n      <td>...</td>\n    </tr>\n    <tr>\n      <th>4047</th>\n      <td>Latrobea colophona</td>\n      <td>NaN</td>\n      <td>NaN</td>\n      <td>NaN</td>\n      <td>removed</td>\n      <td>None</td>\n      <td>Latrobea colophona</td>\n      <td>Critically Endangered</td>\n    </tr>\n    <tr>\n      <th>4057</th>\n      <td>Hibbertia sp. Toolbrunup (J.R. Wheeler 2504)</td>\n      <td>NaN</td>\n      <td>NaN</td>\n      <td>NaN</td>\n      <td>removed</td>\n      <td>None</td>\n      <td>Hibbertia sp. Toolbrunup (J.R.Wheeler 2504)</td>\n      <td>Critically Endangered</td>\n    </tr>\n    <tr>\n      <th>4074</th>\n      <td>Leucopogon sp. Flynn (F. Hort, J. Hort &amp; A. Lo...</td>\n      <td>NaN</td>\n      <td>NaN</td>\n      <td>NaN</td>\n      <td>removed</td>\n      <td>None</td>\n      <td>Leucopogon sp. Flynn (F.Hort, J.Hort &amp; A.Lowri...</td>\n      <td>Critically Endangered</td>\n    </tr>\n    <tr>\n      <th>4112</th>\n      <td>Cyphanthera odgersii subsp. occidentalis</td>\n      <td>NaN</td>\n      <td>NaN</td>\n      <td>NaN</td>\n      <td>removed</td>\n      <td>None</td>\n      <td>Cyphanthera odgersii subsp. occidentalis</td>\n      <td>Critically Endangered</td>\n    </tr>\n    <tr>\n      <th>4148</th>\n      <td>Teyl sp. (BY Main 1953/2683, 1984/13)</td>\n      <td>NaN</td>\n      <td>NaN</td>\n      <td>NaN</td>\n      <td>removed</td>\n      <td>Minnivale Trapdoor Spider</td>\n      <td>Teyl sp. (BY Main 1953/2683, 1984/13)</td>\n      <td>Critically Endangered</td>\n    </tr>\n  </tbody>\n</table>\n<p>815 rows × 8 columns</p>\n</div>"
     },
     "execution_count": 11,
     "metadata": {},
     "output_type": "execute_result"
    }
   ],
   "source": [
    "#WA Conservation\n",
    "filename = \"WA-conservation.csv\"\n",
    "testdr = \"dr2201\"\n",
    "proddr = \"dr2201\"\n",
    "changelist = lf.get_changelist(testdr, proddr, ltype)\n",
    "changelist.to_csv(projectdir + changedir + monthStr + \"-\" + filename, encoding=\"UTF-8\", index=False)\n",
    "changelist"
   ],
   "metadata": {
    "collapsed": false,
    "pycharm": {
     "name": "#%%\n"
    }
   }
  },
  {
   "cell_type": "markdown",
   "source": [
    "# Sensitive"
   ],
   "metadata": {
    "collapsed": false,
    "pycharm": {
     "name": "#%% md\n"
    }
   }
  },
  {
   "cell_type": "code",
   "execution_count": 12,
   "outputs": [],
   "source": [
    "ltype=\"S\""
   ],
   "metadata": {
    "collapsed": false,
    "pycharm": {
     "name": "#%%\n"
    }
   }
  },
  {
   "cell_type": "code",
   "execution_count": 13,
   "outputs": [
    {
     "name": "stdout",
     "output_type": "stream",
     "text": [
      "get_changelist: Test -  dr2627 Prod -  dr2627\n",
      "download_ala_list:  https://lists.ala.org.au/ws/speciesListItems/dr2627?max=10000&includeKVP=true\n",
      "Index(['id', 'name', 'commonName', 'scientificName', 'lsid', 'dataResourceUid',\n",
      "       'kvpValues'],\n",
      "      dtype='object')\n",
      "download_ala_list:  https://lists-test.ala.org.au/ws/speciesListItems/dr2627?max=10000&includeKVP=true\n",
      "Index(['id', 'name', 'commonName', 'scientificName', 'lsid', 'dataResourceUid',\n",
      "       'kvpValues'],\n",
      "      dtype='object')\n"
     ]
    },
    {
     "data": {
      "text/plain": "Empty DataFrame\nColumns: [name, commonName_new, scientificName_new, listUpdate, commonName_old, scientificName_old]\nIndex: []",
      "text/html": "<div>\n<style scoped>\n    .dataframe tbody tr th:only-of-type {\n        vertical-align: middle;\n    }\n\n    .dataframe tbody tr th {\n        vertical-align: top;\n    }\n\n    .dataframe thead th {\n        text-align: right;\n    }\n</style>\n<table border=\"1\" class=\"dataframe\">\n  <thead>\n    <tr style=\"text-align: right;\">\n      <th></th>\n      <th>name</th>\n      <th>commonName_new</th>\n      <th>scientificName_new</th>\n      <th>listUpdate</th>\n      <th>commonName_old</th>\n      <th>scientificName_old</th>\n    </tr>\n  </thead>\n  <tbody>\n  </tbody>\n</table>\n</div>"
     },
     "execution_count": 13,
     "metadata": {},
     "output_type": "execute_result"
    }
   ],
   "source": [
    "# ACT Sensitive\n",
    "filename = \"ACT-sensitive.csv\"\n",
    "testdr = \"dr2627\"\n",
    "proddr = \"dr2627\"\n",
    "changelist = lf.get_changelist(testdr, proddr, ltype)\n",
    "changelist.to_csv(projectdir + changedir + monthStr + \"-\" + filename, encoding=\"UTF-8\", index=False)\n",
    "changelist"
   ],
   "metadata": {
    "collapsed": false,
    "pycharm": {
     "name": "#%%\n"
    }
   }
  },
  {
   "cell_type": "code",
   "execution_count": 14,
   "outputs": [
    {
     "name": "stdout",
     "output_type": "stream",
     "text": [
      "get_changelist: Test -  dr18457 Prod -  dr487\n",
      "download_ala_list:  https://lists.ala.org.au/ws/speciesListItems/dr487?max=10000&includeKVP=true\n",
      "Index(['id', 'name', 'commonName', 'scientificName', 'lsid', 'dataResourceUid',\n",
      "       'kvpValues'],\n",
      "      dtype='object')\n",
      "download_ala_list:  https://lists-test.ala.org.au/ws/speciesListItems/dr18457?max=10000&includeKVP=true\n",
      "Index(['id', 'name', 'commonName', 'scientificName', 'lsid', 'dataResourceUid',\n",
      "       'kvpValues'],\n",
      "      dtype='object')\n"
     ]
    },
    {
     "data": {
      "text/plain": "Empty DataFrame\nColumns: [name, commonName_new, scientificName_new, listUpdate, commonName_old, scientificName_old]\nIndex: []",
      "text/html": "<div>\n<style scoped>\n    .dataframe tbody tr th:only-of-type {\n        vertical-align: middle;\n    }\n\n    .dataframe tbody tr th {\n        vertical-align: top;\n    }\n\n    .dataframe thead th {\n        text-align: right;\n    }\n</style>\n<table border=\"1\" class=\"dataframe\">\n  <thead>\n    <tr style=\"text-align: right;\">\n      <th></th>\n      <th>name</th>\n      <th>commonName_new</th>\n      <th>scientificName_new</th>\n      <th>listUpdate</th>\n      <th>commonName_old</th>\n      <th>scientificName_old</th>\n    </tr>\n  </thead>\n  <tbody>\n  </tbody>\n</table>\n</div>"
     },
     "execution_count": 14,
     "metadata": {},
     "output_type": "execute_result"
    }
   ],
   "source": [
    "# NSW Sensitive\n",
    "filename = \"NSW-sensitive.csv\"\n",
    "testdr = \"dr18457\"\n",
    "proddr = \"dr487\"\n",
    "changelist = lf.get_changelist(testdr, proddr, ltype)\n",
    "changelist.to_csv(projectdir + changedir + monthStr + \"-\" + filename, encoding=\"UTF-8\", index=False)\n",
    "changelist"
   ],
   "metadata": {
    "collapsed": false,
    "pycharm": {
     "name": "#%%\n"
    }
   }
  },
  {
   "cell_type": "code",
   "execution_count": 15,
   "outputs": [
    {
     "name": "stdout",
     "output_type": "stream",
     "text": [
      "get_changelist: Test -  dr492 Prod -  dr492\n",
      "download_ala_list:  https://lists.ala.org.au/ws/speciesListItems/dr492?max=10000&includeKVP=true\n",
      "Index(['id', 'name', 'commonName', 'scientificName', 'lsid', 'dataResourceUid',\n",
      "       'kvpValues'],\n",
      "      dtype='object')\n",
      "download_ala_list:  https://lists-test.ala.org.au/ws/speciesListItems/dr492?max=10000&includeKVP=true\n",
      "Index([], dtype='object')\n"
     ]
    },
    {
     "ename": "KeyError",
     "evalue": "'name'",
     "output_type": "error",
     "traceback": [
      "\u001B[1;31m---------------------------------------------------------------------------\u001B[0m",
      "\u001B[1;31mKeyError\u001B[0m                                  Traceback (most recent call last)",
      "\u001B[1;32m~\\AppData\\Local\\Temp/ipykernel_28120/3550285492.py\u001B[0m in \u001B[0;36m<cell line: 5>\u001B[1;34m()\u001B[0m\n\u001B[0;32m      3\u001B[0m \u001B[0mtestdr\u001B[0m \u001B[1;33m=\u001B[0m \u001B[1;34m\"dr492\"\u001B[0m\u001B[1;33m\u001B[0m\u001B[1;33m\u001B[0m\u001B[0m\n\u001B[0;32m      4\u001B[0m \u001B[0mproddr\u001B[0m \u001B[1;33m=\u001B[0m \u001B[1;34m\"dr492\"\u001B[0m\u001B[1;33m\u001B[0m\u001B[1;33m\u001B[0m\u001B[0m\n\u001B[1;32m----> 5\u001B[1;33m \u001B[0mchangelist\u001B[0m \u001B[1;33m=\u001B[0m \u001B[0mlf\u001B[0m\u001B[1;33m.\u001B[0m\u001B[0mget_changelist\u001B[0m\u001B[1;33m(\u001B[0m\u001B[0mtestdr\u001B[0m\u001B[1;33m,\u001B[0m \u001B[0mproddr\u001B[0m\u001B[1;33m,\u001B[0m \u001B[0mltype\u001B[0m\u001B[1;33m)\u001B[0m\u001B[1;33m\u001B[0m\u001B[1;33m\u001B[0m\u001B[0m\n\u001B[0m\u001B[0;32m      6\u001B[0m \u001B[0mchangelist\u001B[0m\u001B[1;33m.\u001B[0m\u001B[0mto_csv\u001B[0m\u001B[1;33m(\u001B[0m\u001B[0mprojectdir\u001B[0m \u001B[1;33m+\u001B[0m \u001B[0mchangedir\u001B[0m \u001B[1;33m+\u001B[0m \u001B[0mmonthStr\u001B[0m \u001B[1;33m+\u001B[0m \u001B[1;34m\"-\"\u001B[0m \u001B[1;33m+\u001B[0m \u001B[0mfilename\u001B[0m\u001B[1;33m,\u001B[0m \u001B[0mencoding\u001B[0m\u001B[1;33m=\u001B[0m\u001B[1;34m\"UTF-8\"\u001B[0m\u001B[1;33m,\u001B[0m \u001B[0mindex\u001B[0m\u001B[1;33m=\u001B[0m\u001B[1;32mFalse\u001B[0m\u001B[1;33m)\u001B[0m\u001B[1;33m\u001B[0m\u001B[1;33m\u001B[0m\u001B[0m\n\u001B[0;32m      7\u001B[0m \u001B[0mchangelist\u001B[0m\u001B[1;33m\u001B[0m\u001B[1;33m\u001B[0m\u001B[0m\n",
      "\u001B[1;32m~\\PycharmProjects\\authoritative-lists\\source-code\\includes\\list_functions.py\u001B[0m in \u001B[0;36mget_changelist\u001B[1;34m(testdr, proddr, ltype)\u001B[0m\n\u001B[0;32m     66\u001B[0m \u001B[1;33m\u001B[0m\u001B[0m\n\u001B[0;32m     67\u001B[0m     \u001B[1;31m# new names\u001B[0m\u001B[1;33m\u001B[0m\u001B[1;33m\u001B[0m\u001B[0m\n\u001B[1;32m---> 68\u001B[1;33m     \u001B[0mnewVsOld\u001B[0m \u001B[1;33m=\u001B[0m \u001B[0mpd\u001B[0m\u001B[1;33m.\u001B[0m\u001B[0mmerge\u001B[0m\u001B[1;33m(\u001B[0m\u001B[0mnewList\u001B[0m\u001B[1;33m,\u001B[0m \u001B[0moldList\u001B[0m\u001B[1;33m,\u001B[0m \u001B[0mhow\u001B[0m\u001B[1;33m=\u001B[0m\u001B[1;34m'left'\u001B[0m\u001B[1;33m,\u001B[0m \u001B[0mon\u001B[0m\u001B[1;33m=\u001B[0m\u001B[1;34m'name'\u001B[0m\u001B[1;33m,\u001B[0m \u001B[0msuffixes\u001B[0m\u001B[1;33m=\u001B[0m\u001B[1;33m(\u001B[0m\u001B[1;34m'_new'\u001B[0m\u001B[1;33m,\u001B[0m \u001B[1;34m'_old'\u001B[0m\u001B[1;33m)\u001B[0m\u001B[1;33m)\u001B[0m\u001B[1;33m\u001B[0m\u001B[1;33m\u001B[0m\u001B[0m\n\u001B[0m\u001B[0;32m     69\u001B[0m     \u001B[0mnewVsOld\u001B[0m \u001B[1;33m=\u001B[0m \u001B[0mnewVsOld\u001B[0m\u001B[1;33m[\u001B[0m\u001B[0mnewVsOld\u001B[0m\u001B[1;33m[\u001B[0m\u001B[1;34m'scientificName_old'\u001B[0m\u001B[1;33m]\u001B[0m\u001B[1;33m.\u001B[0m\u001B[0misna\u001B[0m\u001B[1;33m(\u001B[0m\u001B[1;33m)\u001B[0m\u001B[1;33m]\u001B[0m\u001B[1;33m[\u001B[0m\u001B[0mcollist_new\u001B[0m\u001B[1;33m]\u001B[0m\u001B[1;33m\u001B[0m\u001B[1;33m\u001B[0m\u001B[0m\n\u001B[0;32m     70\u001B[0m     \u001B[0mnewVsOld\u001B[0m\u001B[1;33m[\u001B[0m\u001B[1;34m'listUpdate'\u001B[0m\u001B[1;33m]\u001B[0m \u001B[1;33m=\u001B[0m \u001B[1;34m'added'\u001B[0m\u001B[1;33m\u001B[0m\u001B[1;33m\u001B[0m\u001B[0m\n",
      "\u001B[1;32m~\\Anaconda3\\envs\\scientificProject\\lib\\site-packages\\pandas\\core\\reshape\\merge.py\u001B[0m in \u001B[0;36mmerge\u001B[1;34m(left, right, how, on, left_on, right_on, left_index, right_index, sort, suffixes, copy, indicator, validate)\u001B[0m\n\u001B[0;32m    104\u001B[0m     \u001B[0mvalidate\u001B[0m\u001B[1;33m:\u001B[0m \u001B[0mstr\u001B[0m \u001B[1;33m|\u001B[0m \u001B[1;32mNone\u001B[0m \u001B[1;33m=\u001B[0m \u001B[1;32mNone\u001B[0m\u001B[1;33m,\u001B[0m\u001B[1;33m\u001B[0m\u001B[1;33m\u001B[0m\u001B[0m\n\u001B[0;32m    105\u001B[0m ) -> DataFrame:\n\u001B[1;32m--> 106\u001B[1;33m     op = _MergeOperation(\n\u001B[0m\u001B[0;32m    107\u001B[0m         \u001B[0mleft\u001B[0m\u001B[1;33m,\u001B[0m\u001B[1;33m\u001B[0m\u001B[1;33m\u001B[0m\u001B[0m\n\u001B[0;32m    108\u001B[0m         \u001B[0mright\u001B[0m\u001B[1;33m,\u001B[0m\u001B[1;33m\u001B[0m\u001B[1;33m\u001B[0m\u001B[0m\n",
      "\u001B[1;32m~\\Anaconda3\\envs\\scientificProject\\lib\\site-packages\\pandas\\core\\reshape\\merge.py\u001B[0m in \u001B[0;36m__init__\u001B[1;34m(self, left, right, how, on, left_on, right_on, axis, left_index, right_index, sort, suffixes, copy, indicator, validate)\u001B[0m\n\u001B[0;32m    697\u001B[0m             \u001B[0mself\u001B[0m\u001B[1;33m.\u001B[0m\u001B[0mright_join_keys\u001B[0m\u001B[1;33m,\u001B[0m\u001B[1;33m\u001B[0m\u001B[1;33m\u001B[0m\u001B[0m\n\u001B[0;32m    698\u001B[0m             \u001B[0mself\u001B[0m\u001B[1;33m.\u001B[0m\u001B[0mjoin_names\u001B[0m\u001B[1;33m,\u001B[0m\u001B[1;33m\u001B[0m\u001B[1;33m\u001B[0m\u001B[0m\n\u001B[1;32m--> 699\u001B[1;33m         ) = self._get_merge_keys()\n\u001B[0m\u001B[0;32m    700\u001B[0m \u001B[1;33m\u001B[0m\u001B[0m\n\u001B[0;32m    701\u001B[0m         \u001B[1;31m# validate the merge keys dtypes. We may need to coerce\u001B[0m\u001B[1;33m\u001B[0m\u001B[1;33m\u001B[0m\u001B[0m\n",
      "\u001B[1;32m~\\Anaconda3\\envs\\scientificProject\\lib\\site-packages\\pandas\\core\\reshape\\merge.py\u001B[0m in \u001B[0;36m_get_merge_keys\u001B[1;34m(self)\u001B[0m\n\u001B[0;32m   1107\u001B[0m                         \u001B[0mright_keys\u001B[0m\u001B[1;33m.\u001B[0m\u001B[0mappend\u001B[0m\u001B[1;33m(\u001B[0m\u001B[0mrk\u001B[0m\u001B[1;33m)\u001B[0m\u001B[1;33m\u001B[0m\u001B[1;33m\u001B[0m\u001B[0m\n\u001B[0;32m   1108\u001B[0m                     \u001B[1;32mif\u001B[0m \u001B[0mlk\u001B[0m \u001B[1;32mis\u001B[0m \u001B[1;32mnot\u001B[0m \u001B[1;32mNone\u001B[0m\u001B[1;33m:\u001B[0m\u001B[1;33m\u001B[0m\u001B[1;33m\u001B[0m\u001B[0m\n\u001B[1;32m-> 1109\u001B[1;33m                         \u001B[0mleft_keys\u001B[0m\u001B[1;33m.\u001B[0m\u001B[0mappend\u001B[0m\u001B[1;33m(\u001B[0m\u001B[0mleft\u001B[0m\u001B[1;33m.\u001B[0m\u001B[0m_get_label_or_level_values\u001B[0m\u001B[1;33m(\u001B[0m\u001B[0mlk\u001B[0m\u001B[1;33m)\u001B[0m\u001B[1;33m)\u001B[0m\u001B[1;33m\u001B[0m\u001B[1;33m\u001B[0m\u001B[0m\n\u001B[0m\u001B[0;32m   1110\u001B[0m                         \u001B[0mjoin_names\u001B[0m\u001B[1;33m.\u001B[0m\u001B[0mappend\u001B[0m\u001B[1;33m(\u001B[0m\u001B[0mlk\u001B[0m\u001B[1;33m)\u001B[0m\u001B[1;33m\u001B[0m\u001B[1;33m\u001B[0m\u001B[0m\n\u001B[0;32m   1111\u001B[0m                     \u001B[1;32melse\u001B[0m\u001B[1;33m:\u001B[0m\u001B[1;33m\u001B[0m\u001B[1;33m\u001B[0m\u001B[0m\n",
      "\u001B[1;32m~\\Anaconda3\\envs\\scientificProject\\lib\\site-packages\\pandas\\core\\generic.py\u001B[0m in \u001B[0;36m_get_label_or_level_values\u001B[1;34m(self, key, axis)\u001B[0m\n\u001B[0;32m   1777\u001B[0m             \u001B[0mvalues\u001B[0m \u001B[1;33m=\u001B[0m \u001B[0mself\u001B[0m\u001B[1;33m.\u001B[0m\u001B[0maxes\u001B[0m\u001B[1;33m[\u001B[0m\u001B[0maxis\u001B[0m\u001B[1;33m]\u001B[0m\u001B[1;33m.\u001B[0m\u001B[0mget_level_values\u001B[0m\u001B[1;33m(\u001B[0m\u001B[0mkey\u001B[0m\u001B[1;33m)\u001B[0m\u001B[1;33m.\u001B[0m\u001B[0m_values\u001B[0m\u001B[1;33m\u001B[0m\u001B[1;33m\u001B[0m\u001B[0m\n\u001B[0;32m   1778\u001B[0m         \u001B[1;32melse\u001B[0m\u001B[1;33m:\u001B[0m\u001B[1;33m\u001B[0m\u001B[1;33m\u001B[0m\u001B[0m\n\u001B[1;32m-> 1779\u001B[1;33m             \u001B[1;32mraise\u001B[0m \u001B[0mKeyError\u001B[0m\u001B[1;33m(\u001B[0m\u001B[0mkey\u001B[0m\u001B[1;33m)\u001B[0m\u001B[1;33m\u001B[0m\u001B[1;33m\u001B[0m\u001B[0m\n\u001B[0m\u001B[0;32m   1780\u001B[0m \u001B[1;33m\u001B[0m\u001B[0m\n\u001B[0;32m   1781\u001B[0m         \u001B[1;31m# Check for duplicates\u001B[0m\u001B[1;33m\u001B[0m\u001B[1;33m\u001B[0m\u001B[0m\n",
      "\u001B[1;31mKeyError\u001B[0m: 'name'"
     ]
    }
   ],
   "source": [
    "# NT Sensitive\n",
    "filename = \"NT-sensitive.csv\"\n",
    "testdr = \"dr492\"\n",
    "proddr = \"dr492\"\n",
    "changelist = lf.get_changelist(testdr, proddr, ltype)\n",
    "changelist.to_csv(projectdir + changedir + monthStr + \"-\" + filename, encoding=\"UTF-8\", index=False)\n",
    "changelist"
   ],
   "metadata": {
    "collapsed": false,
    "pycharm": {
     "name": "#%%\n"
    }
   }
  },
  {
   "cell_type": "code",
   "execution_count": 16,
   "outputs": [
    {
     "name": "stdout",
     "output_type": "stream",
     "text": [
      "get_changelist: Test -  dr18404 Prod -  dr493\n",
      "download_ala_list:  https://lists.ala.org.au/ws/speciesListItems/dr493?max=10000&includeKVP=true\n",
      "Index(['id', 'name', 'commonName', 'scientificName', 'lsid', 'dataResourceUid',\n",
      "       'kvpValues'],\n",
      "      dtype='object')\n",
      "download_ala_list:  https://lists-test.ala.org.au/ws/speciesListItems/dr18404?max=10000&includeKVP=true\n",
      "Index(['id', 'name', 'commonName', 'scientificName', 'lsid', 'dataResourceUid',\n",
      "       'kvpValues'],\n",
      "      dtype='object')\n"
     ]
    },
    {
     "data": {
      "text/plain": "                         name commonName_new scientificName_new listUpdate  \\\n28   Calorodius thorntonensis           None               None      added   \n277                Cooktownia           None               None      added   \n300                   Corybas           None               None      added   \n323                 Cymbidium           None               None      added   \n418                  Dipodium           None               None      added   \n534                   Liparis           None               None      added   \n539                    Luisia           None               None      added   \n547                  Microtis           None               None      added   \n575                Orthoceras           None               None      added   \n577                Pachystoma           None               None      added   \n592              Phalaenopsis           None               None      added   \n594                 Pholidota           None               None      added   \n952           Pakau pennigera           None               None      added   \n955       Reholttumia costata           None               None      added   \n28   Calorodius thorntonensis            NaN                NaN    removed   \n76          Philoria knowlesi            NaN                NaN    removed   \n277                Cooktownia            NaN                NaN    removed   \n300                   Corybas            NaN                NaN    removed   \n323                 Cymbidium            NaN                NaN    removed   \n418                  Dipodium            NaN                NaN    removed   \n534                   Liparis            NaN                NaN    removed   \n539                    Luisia            NaN                NaN    removed   \n547                  Microtis            NaN                NaN    removed   \n575                Orthoceras            NaN                NaN    removed   \n577                Pachystoma            NaN                NaN    removed   \n592              Phalaenopsis            NaN                NaN    removed   \n594                 Pholidota            NaN                NaN    removed   \n953    Pneumatopteris costata            NaN                NaN    removed   \n\n    commonName_old      scientificName_old  \n28             NaN                     NaN  \n277            NaN                     NaN  \n300            NaN                     NaN  \n323            NaN                     NaN  \n418            NaN                     NaN  \n534            NaN                     NaN  \n539            NaN                     NaN  \n547            NaN                     NaN  \n575            NaN                     NaN  \n577            NaN                     NaN  \n592            NaN                     NaN  \n594            NaN                     NaN  \n952            NaN                     NaN  \n955            NaN                     NaN  \n28            None                    None  \n76            None                Philoria  \n277           None                    None  \n300           None                    None  \n323           None                    None  \n418           None                    None  \n534           None                    None  \n539           None                    None  \n547           None                    None  \n575           None                    None  \n577           None                    None  \n592           None                    None  \n594           None                    None  \n953           None  Pneumatopteris costata  ",
      "text/html": "<div>\n<style scoped>\n    .dataframe tbody tr th:only-of-type {\n        vertical-align: middle;\n    }\n\n    .dataframe tbody tr th {\n        vertical-align: top;\n    }\n\n    .dataframe thead th {\n        text-align: right;\n    }\n</style>\n<table border=\"1\" class=\"dataframe\">\n  <thead>\n    <tr style=\"text-align: right;\">\n      <th></th>\n      <th>name</th>\n      <th>commonName_new</th>\n      <th>scientificName_new</th>\n      <th>listUpdate</th>\n      <th>commonName_old</th>\n      <th>scientificName_old</th>\n    </tr>\n  </thead>\n  <tbody>\n    <tr>\n      <th>28</th>\n      <td>Calorodius thorntonensis</td>\n      <td>None</td>\n      <td>None</td>\n      <td>added</td>\n      <td>NaN</td>\n      <td>NaN</td>\n    </tr>\n    <tr>\n      <th>277</th>\n      <td>Cooktownia</td>\n      <td>None</td>\n      <td>None</td>\n      <td>added</td>\n      <td>NaN</td>\n      <td>NaN</td>\n    </tr>\n    <tr>\n      <th>300</th>\n      <td>Corybas</td>\n      <td>None</td>\n      <td>None</td>\n      <td>added</td>\n      <td>NaN</td>\n      <td>NaN</td>\n    </tr>\n    <tr>\n      <th>323</th>\n      <td>Cymbidium</td>\n      <td>None</td>\n      <td>None</td>\n      <td>added</td>\n      <td>NaN</td>\n      <td>NaN</td>\n    </tr>\n    <tr>\n      <th>418</th>\n      <td>Dipodium</td>\n      <td>None</td>\n      <td>None</td>\n      <td>added</td>\n      <td>NaN</td>\n      <td>NaN</td>\n    </tr>\n    <tr>\n      <th>534</th>\n      <td>Liparis</td>\n      <td>None</td>\n      <td>None</td>\n      <td>added</td>\n      <td>NaN</td>\n      <td>NaN</td>\n    </tr>\n    <tr>\n      <th>539</th>\n      <td>Luisia</td>\n      <td>None</td>\n      <td>None</td>\n      <td>added</td>\n      <td>NaN</td>\n      <td>NaN</td>\n    </tr>\n    <tr>\n      <th>547</th>\n      <td>Microtis</td>\n      <td>None</td>\n      <td>None</td>\n      <td>added</td>\n      <td>NaN</td>\n      <td>NaN</td>\n    </tr>\n    <tr>\n      <th>575</th>\n      <td>Orthoceras</td>\n      <td>None</td>\n      <td>None</td>\n      <td>added</td>\n      <td>NaN</td>\n      <td>NaN</td>\n    </tr>\n    <tr>\n      <th>577</th>\n      <td>Pachystoma</td>\n      <td>None</td>\n      <td>None</td>\n      <td>added</td>\n      <td>NaN</td>\n      <td>NaN</td>\n    </tr>\n    <tr>\n      <th>592</th>\n      <td>Phalaenopsis</td>\n      <td>None</td>\n      <td>None</td>\n      <td>added</td>\n      <td>NaN</td>\n      <td>NaN</td>\n    </tr>\n    <tr>\n      <th>594</th>\n      <td>Pholidota</td>\n      <td>None</td>\n      <td>None</td>\n      <td>added</td>\n      <td>NaN</td>\n      <td>NaN</td>\n    </tr>\n    <tr>\n      <th>952</th>\n      <td>Pakau pennigera</td>\n      <td>None</td>\n      <td>None</td>\n      <td>added</td>\n      <td>NaN</td>\n      <td>NaN</td>\n    </tr>\n    <tr>\n      <th>955</th>\n      <td>Reholttumia costata</td>\n      <td>None</td>\n      <td>None</td>\n      <td>added</td>\n      <td>NaN</td>\n      <td>NaN</td>\n    </tr>\n    <tr>\n      <th>28</th>\n      <td>Calorodius thorntonensis</td>\n      <td>NaN</td>\n      <td>NaN</td>\n      <td>removed</td>\n      <td>None</td>\n      <td>None</td>\n    </tr>\n    <tr>\n      <th>76</th>\n      <td>Philoria knowlesi</td>\n      <td>NaN</td>\n      <td>NaN</td>\n      <td>removed</td>\n      <td>None</td>\n      <td>Philoria</td>\n    </tr>\n    <tr>\n      <th>277</th>\n      <td>Cooktownia</td>\n      <td>NaN</td>\n      <td>NaN</td>\n      <td>removed</td>\n      <td>None</td>\n      <td>None</td>\n    </tr>\n    <tr>\n      <th>300</th>\n      <td>Corybas</td>\n      <td>NaN</td>\n      <td>NaN</td>\n      <td>removed</td>\n      <td>None</td>\n      <td>None</td>\n    </tr>\n    <tr>\n      <th>323</th>\n      <td>Cymbidium</td>\n      <td>NaN</td>\n      <td>NaN</td>\n      <td>removed</td>\n      <td>None</td>\n      <td>None</td>\n    </tr>\n    <tr>\n      <th>418</th>\n      <td>Dipodium</td>\n      <td>NaN</td>\n      <td>NaN</td>\n      <td>removed</td>\n      <td>None</td>\n      <td>None</td>\n    </tr>\n    <tr>\n      <th>534</th>\n      <td>Liparis</td>\n      <td>NaN</td>\n      <td>NaN</td>\n      <td>removed</td>\n      <td>None</td>\n      <td>None</td>\n    </tr>\n    <tr>\n      <th>539</th>\n      <td>Luisia</td>\n      <td>NaN</td>\n      <td>NaN</td>\n      <td>removed</td>\n      <td>None</td>\n      <td>None</td>\n    </tr>\n    <tr>\n      <th>547</th>\n      <td>Microtis</td>\n      <td>NaN</td>\n      <td>NaN</td>\n      <td>removed</td>\n      <td>None</td>\n      <td>None</td>\n    </tr>\n    <tr>\n      <th>575</th>\n      <td>Orthoceras</td>\n      <td>NaN</td>\n      <td>NaN</td>\n      <td>removed</td>\n      <td>None</td>\n      <td>None</td>\n    </tr>\n    <tr>\n      <th>577</th>\n      <td>Pachystoma</td>\n      <td>NaN</td>\n      <td>NaN</td>\n      <td>removed</td>\n      <td>None</td>\n      <td>None</td>\n    </tr>\n    <tr>\n      <th>592</th>\n      <td>Phalaenopsis</td>\n      <td>NaN</td>\n      <td>NaN</td>\n      <td>removed</td>\n      <td>None</td>\n      <td>None</td>\n    </tr>\n    <tr>\n      <th>594</th>\n      <td>Pholidota</td>\n      <td>NaN</td>\n      <td>NaN</td>\n      <td>removed</td>\n      <td>None</td>\n      <td>None</td>\n    </tr>\n    <tr>\n      <th>953</th>\n      <td>Pneumatopteris costata</td>\n      <td>NaN</td>\n      <td>NaN</td>\n      <td>removed</td>\n      <td>None</td>\n      <td>Pneumatopteris costata</td>\n    </tr>\n  </tbody>\n</table>\n</div>"
     },
     "execution_count": 16,
     "metadata": {},
     "output_type": "execute_result"
    }
   ],
   "source": [
    "#Qld Sensitive\n",
    "filename = \"QLD-sensitive.csv\"\n",
    "testdr = \"dr18404\"\n",
    "proddr = \"dr493\"\n",
    "changelist = lf.get_changelist(testdr, proddr, ltype)\n",
    "changelist.to_csv(projectdir + changedir + monthStr + \"-\" + filename, encoding=\"UTF-8\", index=False)\n",
    "changelist"
   ],
   "metadata": {
    "collapsed": false,
    "pycharm": {
     "name": "#%%\n"
    }
   }
  },
  {
   "cell_type": "code",
   "execution_count": null,
   "outputs": [],
   "source": [
    "#SA Sensitive\n",
    "filename = \"SA-sensitive.csv\"\n",
    "testdr = \"dr18706\"\n",
    "proddr = \"dr884\"\n",
    "changelist = lf.get_changelist(testdr, proddr, ltype)\n",
    "changelist.to_csv(projectdir + changedir + monthStr + \"-\" + filename, encoding=\"UTF-8\", index=False)\n",
    "changelist"
   ],
   "metadata": {
    "collapsed": false,
    "pycharm": {
     "name": "#%%\n"
    }
   }
  },
  {
   "cell_type": "code",
   "execution_count": null,
   "outputs": [],
   "source": [
    "#TAS Sensitive - not currently in Test\n",
    "# filename = \"TAS-sensitive.csv\"\n",
    "# testdr = \"NA\"\n",
    "# proddr = \"dr491\"\n",
    "# changelist = lf.get_changelist(testdr, proddr, ltype)\n",
    "# changelist.to_csv(projectdir + changedir + monthStr + \"-\" + filename, encoding=\"UTF-8\", index=False)\n",
    "# changelist"
   ],
   "metadata": {
    "collapsed": false,
    "pycharm": {
     "name": "#%%\n"
    }
   }
  },
  {
   "cell_type": "code",
   "execution_count": null,
   "outputs": [],
   "source": [
    "#VIC Sensitive\n",
    "filename = \"VIC-sensitive.csv\"\n",
    "testdr = \"dr18669\"\n",
    "proddr = \"dr490\"\n",
    "changelist = lf.get_changelist(testdr, proddr, ltype)\n",
    "changelist.to_csv(projectdir + changedir + monthStr + \"-\" + filename, encoding=\"UTF-8\", index=False)\n",
    "changelist"
   ],
   "metadata": {
    "collapsed": false,
    "pycharm": {
     "name": "#%%\n"
    }
   }
  },
  {
   "cell_type": "code",
   "execution_count": null,
   "outputs": [],
   "source": [
    "#WA Sensitive\n",
    "filename = \"WA-sensitive.csv\"\n",
    "testdr = \"dr18406\"\n",
    "proddr = \"dr467\"\n",
    "changelist = lf.get_changelist(testdr, proddr, ltype)\n",
    "changelist.to_csv(projectdir + changedir + monthStr + \"-\" + filename, encoding=\"UTF-8\", index=False)\n",
    "changelist"
   ],
   "metadata": {
    "collapsed": false,
    "pycharm": {
     "name": "#%%\n"
    }
   }
  },
  {
   "cell_type": "markdown",
   "source": [
    "### Download Production list to Historical Lists directory"
   ],
   "metadata": {
    "collapsed": false,
    "pycharm": {
     "name": "#%% md\n"
    }
   }
  },
  {
   "cell_type": "code",
   "execution_count": null,
   "outputs": [],
   "source": [
    "drList = {\"ACT\":\"dr649\", \"NSW\":\"dr650\", \"NT\":\"dr651\", \"QLD\":\"dr652\", \"SA\":\"dr653\", \"TAS\":\"dr654\", \"VIC\":\"dr655\", \"EPBC\":\"dr656\", \"WA\":\"dr2201\"}\n",
    "# Conservation lists\n",
    "for state, dr in drList.items():\n",
    "    filename = state + \"-\" + dr + \"-conservation.csv\"\n",
    "    print(dr)\n",
    "    prodListUrl = \"https://lists.ala.org.au/ws/speciesListItems/\" + dr + \"?max=10000&includeKVP=true\"\n",
    "    prodList = lf.download_ala_list(prodListUrl)  # save the prod list to the historical lists directory\n",
    "    prodList = lf.kvp_to_columns(prodList)\n",
    "    prodList.to_csv(projectdir + \"historical-lists/conservation/\" + filename, encoding=\"UTF-8\", index=False)\n",
    "print('Finished downloading conservation historical list')"
   ],
   "metadata": {
    "collapsed": false,
    "pycharm": {
     "name": "#%%\n"
    }
   }
  },
  {
   "cell_type": "code",
   "execution_count": 2,
   "outputs": [
    {
     "name": "stdout",
     "output_type": "stream",
     "text": [
      "dr491\n",
      "download_ala_list:  https://lists.ala.org.au/ws/speciesListItems/dr491?max=10000&includeKVP=true\n",
      "Index(['id', 'name', 'commonName', 'scientificName', 'lsid', 'dataResourceUid',\n",
      "       'kvpValues'],\n",
      "      dtype='object')\n",
      "kvpValues empty\n",
      "Finished downloading sensitive historical list\n"
     ]
    }
   ],
   "source": [
    "# Sensitive Lists\n",
    "drList = {\"TAS\":\"dr491\"}  # Notebook is dying on empty kvpValues when in Jupyter notebook. runs fine in py script\n",
    "# drList = {\"ACT\":\"dr2627\", \"NSW\":\"dr487\", \"NT\":\"dr492\", \"QLD\":\"dr493\", \"SA\":\"dr884\",\"TAS\":\"dr491\", \"VIC\":\"dr490\", \"WA\":\"dr467\"}\n",
    "# drList = {\"ACT\":\"dr2627\", \"NSW\":\"dr487\", \"NT\":\"dr492\", \"QLD\":\"dr493\", \"SA\":\"dr884\", \"VIC\":\"dr490\", \"WA\":\"dr467\"}\n",
    "for state, dr in drList.items():\n",
    "    filename = state + \"-\" + dr + \"-sensitive.csv\"\n",
    "    print(dr)\n",
    "    prodListUrl = \"https://lists.ala.org.au/ws/speciesListItems/\" + dr + \"?max=10000&includeKVP=true\"\n",
    "    prodList = lf.download_ala_list(prodListUrl)  # save the prod list to the historical lists directory\n",
    "    prodList = lf.kvp_to_columns(prodList)\n",
    "    prodList.to_csv(projectdir + \"historical-lists/sensitive/\" + filename, encoding=\"UTF-8\", index=False)\n",
    "print('Finished downloading sensitive historical list')"
   ],
   "metadata": {
    "collapsed": false,
    "pycharm": {
     "name": "#%%\n"
    }
   }
  }
 ],
 "metadata": {
  "kernelspec": {
   "display_name": "Python 3",
   "language": "python",
   "name": "python3"
  },
  "language_info": {
   "codemirror_mode": {
    "name": "ipython",
    "version": 3
   },
   "file_extension": ".py",
   "mimetype": "text/x-python",
   "name": "python",
   "nbconvert_exporter": "python",
   "pygments_lexer": "ipython3",
   "version": "3.8.8"
  }
 },
 "nbformat": 4,
 "nbformat_minor": 5
}