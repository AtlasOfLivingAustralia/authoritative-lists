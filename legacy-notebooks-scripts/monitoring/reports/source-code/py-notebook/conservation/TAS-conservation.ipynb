{
 "cells": [
  {
   "cell_type": "markdown",
   "source": [
    "# Tas Conservation List\n",
    "## List Identifiers\n",
    "* Conservation list: __[dr654](https://lists.ala.org.au/speciesListItem/list/dr654)__ (and [dr654 in test](https://lists-test.ala.org.au/speciesListItem/list/dr654))\n",
    "* Collection: __[dr654](https://collections.ala.org.au/public/show/dr654)__\n",
    "\n",
    "## Source Data\n",
    "\n",
    "* __[Home page](https://nre.tas.gov.au/conservation/threatened-species-and-communities/lists-of-threatened-species/full-list-of-threatened-species)__\n",
    "* __[Data](https://nre.tas.gov.au/Documents/TasThreatenedSpecies.XLS)__\n",
    "\n",
    "**Metadata Description**\n",
    "\n",
    "Sensitive List: A list of \"restricted species\" was supplied directly by the Tasmanian Department of Primary Industries, Parks, Water and Environment. It is not currently available on the Department's web site. The Atlas Of Living Australia withholds latitude and longitude values in occurrence records for sensitive Tasmanian species. This applies to all Tasmanian occurrence records regardless of source. Reviewed: 2/5/2013 Galaxias Fontanus removed from list 24/6/2013 on notification from DPIPWE\n",
    "\n",
    "**Metadata URL**\n",
    "https://nre.tas.gov.au/conservation/threatened-species-and-communities/lists-of-threatened-species/full-list-of-threatened-species\n"
   ],
   "metadata": {
    "collapsed": false,
    "pycharm": {
     "name": "#%% md\n"
    }
   }
  },
  {
   "cell_type": "markdown",
   "source": [
    "Import libraries\n",
    "Set Project directories"
   ],
   "metadata": {
    "collapsed": false,
    "pycharm": {
     "name": "#%% md\n"
    }
   }
  },
  {
   "cell_type": "code",
   "execution_count": 36,
   "outputs": [],
   "source": [
    "import pandas as pd\n",
    "import os\n",
    "import sys\n",
    "import datetime\n",
    "\n",
    "# top level directory\n",
    "projectDir = \"/Users/oco115/PycharmProjects/authoritative-lists/\"\n",
    "# projectDir = \"/Users/new330/IdeaProjects/authoritative-lists/\"\n",
    "statusDir = projectDir + \"source-data/status-codes/\"\n",
    "sys.path.append(os.path.abspath(projectDir + \"source-code/includes\"))\n",
    "monthStr = datetime.datetime.now().strftime('%Y%m')\n",
    "\n",
    "import list_functions as lf\n",
    "cdataDir = \"current-lists/conservation-lists/\""
   ],
   "metadata": {
    "collapsed": false,
    "pycharm": {
     "name": "#%%\n"
    }
   }
  },
  {
   "cell_type": "code",
   "execution_count": null,
   "outputs": [],
   "source": [
    "# update the encoding on the final file\n",
    "# fileurl = \"/Users/new330/IdeaProjects/authoritative-lists/current-lists/conservation-lists/TAS-conservation.csv\"\n",
    "# tas = pd.read_csv(fileurl,encoding='cp1252')\n",
    "# tas.to_csv(fileurl, encoding=\"UTF-8\",index=False)\n",
    "# tas"
   ],
   "metadata": {
    "collapsed": false,
    "pycharm": {
     "name": "#%%\n"
    }
   }
  },
  {
   "cell_type": "markdown",
   "source": [
    "Download CSV file"
   ],
   "metadata": {
    "collapsed": false,
    "pycharm": {
     "name": "#%% md\n"
    }
   }
  },
  {
   "cell_type": "code",
   "execution_count": 26,
   "outputs": [
    {
     "name": "stdout",
     "output_type": "stream",
     "text": [
      "Downloading TAS Conservation List\n",
      "Finished downloading\n"
     ]
    },
    {
     "data": {
      "text/plain": "    Origin                         Species            Authority  \\\n0      end                Acacia axillaris               Benth.   \n1      end               Acacia pataczekii           D.I.Morris   \n2                      Acacia siculiformis    A.Cunn. ex Benth.   \n3                        Acacia ulicifolia      (Salisb.) Court   \n4                         Acacia uncifolia  (J.M.Black) O'Leary   \n..     ...                             ...                  ...   \n718    end        Thylacinus cynocephalus                Harris   \n719    end             Thymichthys politus         (Richardson)   \n720    end  Tyto novaehollandiae castanops              (Gould)   \n721               Vombatus ursinus ursinus                        \n722    end                Zearaja maugeana      Last & Gledhill   \n\n            Common Name    Family          Group sch EPBCA Flora/Fauna  \\\n0       midlands wattle  Fabaceae  Dicotyledonae   v    VU       Flora   \n1         wallys wattle  Fabaceae  Dicotyledonae   r             Flora   \n2         dagger wattle  Fabaceae  Dicotyledonae   r             Flora   \n3        juniper wattle  Fabaceae  Dicotyledonae   r             Flora   \n4         coast wirilda  Fabaceae  Dicotyledonae   r             Flora   \n..                  ...       ...            ...  ..   ...         ...   \n718           Thylacine   Mammals    Vertebrates   x    EX       Fauna   \n719        Red Handfish      Fish    Vertebrates   e    CR       Fauna   \n720          Masked Owl     Birds    Vertebrates   e    VU       Fauna   \n721  Bass Strait Wombat   Mammals    Vertebrates        VU       Fauna   \n722       Maugean Skate      Fish    Vertebrates   e    EN       Fauna   \n\n    Classification  \n0         vascular  \n1         vascular  \n2         vascular  \n3         vascular  \n4         vascular  \n..             ...  \n718     vertebrate  \n719     vertebrate  \n720     vertebrate  \n721     vertebrate  \n722     vertebrate  \n\n[723 rows x 10 columns]",
      "text/html": "<div>\n<style scoped>\n    .dataframe tbody tr th:only-of-type {\n        vertical-align: middle;\n    }\n\n    .dataframe tbody tr th {\n        vertical-align: top;\n    }\n\n    .dataframe thead th {\n        text-align: right;\n    }\n</style>\n<table border=\"1\" class=\"dataframe\">\n  <thead>\n    <tr style=\"text-align: right;\">\n      <th></th>\n      <th>Origin</th>\n      <th>Species</th>\n      <th>Authority</th>\n      <th>Common Name</th>\n      <th>Family</th>\n      <th>Group</th>\n      <th>sch</th>\n      <th>EPBCA</th>\n      <th>Flora/Fauna</th>\n      <th>Classification</th>\n    </tr>\n  </thead>\n  <tbody>\n    <tr>\n      <th>0</th>\n      <td>end</td>\n      <td>Acacia axillaris</td>\n      <td>Benth.</td>\n      <td>midlands wattle</td>\n      <td>Fabaceae</td>\n      <td>Dicotyledonae</td>\n      <td>v</td>\n      <td>VU</td>\n      <td>Flora</td>\n      <td>vascular</td>\n    </tr>\n    <tr>\n      <th>1</th>\n      <td>end</td>\n      <td>Acacia pataczekii</td>\n      <td>D.I.Morris</td>\n      <td>wallys wattle</td>\n      <td>Fabaceae</td>\n      <td>Dicotyledonae</td>\n      <td>r</td>\n      <td></td>\n      <td>Flora</td>\n      <td>vascular</td>\n    </tr>\n    <tr>\n      <th>2</th>\n      <td></td>\n      <td>Acacia siculiformis</td>\n      <td>A.Cunn. ex Benth.</td>\n      <td>dagger wattle</td>\n      <td>Fabaceae</td>\n      <td>Dicotyledonae</td>\n      <td>r</td>\n      <td></td>\n      <td>Flora</td>\n      <td>vascular</td>\n    </tr>\n    <tr>\n      <th>3</th>\n      <td></td>\n      <td>Acacia ulicifolia</td>\n      <td>(Salisb.) Court</td>\n      <td>juniper wattle</td>\n      <td>Fabaceae</td>\n      <td>Dicotyledonae</td>\n      <td>r</td>\n      <td></td>\n      <td>Flora</td>\n      <td>vascular</td>\n    </tr>\n    <tr>\n      <th>4</th>\n      <td></td>\n      <td>Acacia uncifolia</td>\n      <td>(J.M.Black) O'Leary</td>\n      <td>coast wirilda</td>\n      <td>Fabaceae</td>\n      <td>Dicotyledonae</td>\n      <td>r</td>\n      <td></td>\n      <td>Flora</td>\n      <td>vascular</td>\n    </tr>\n    <tr>\n      <th>...</th>\n      <td>...</td>\n      <td>...</td>\n      <td>...</td>\n      <td>...</td>\n      <td>...</td>\n      <td>...</td>\n      <td>...</td>\n      <td>...</td>\n      <td>...</td>\n      <td>...</td>\n    </tr>\n    <tr>\n      <th>718</th>\n      <td>end</td>\n      <td>Thylacinus cynocephalus</td>\n      <td>Harris</td>\n      <td>Thylacine</td>\n      <td>Mammals</td>\n      <td>Vertebrates</td>\n      <td>x</td>\n      <td>EX</td>\n      <td>Fauna</td>\n      <td>vertebrate</td>\n    </tr>\n    <tr>\n      <th>719</th>\n      <td>end</td>\n      <td>Thymichthys politus</td>\n      <td>(Richardson)</td>\n      <td>Red Handfish</td>\n      <td>Fish</td>\n      <td>Vertebrates</td>\n      <td>e</td>\n      <td>CR</td>\n      <td>Fauna</td>\n      <td>vertebrate</td>\n    </tr>\n    <tr>\n      <th>720</th>\n      <td>end</td>\n      <td>Tyto novaehollandiae castanops</td>\n      <td>(Gould)</td>\n      <td>Masked Owl</td>\n      <td>Birds</td>\n      <td>Vertebrates</td>\n      <td>e</td>\n      <td>VU</td>\n      <td>Fauna</td>\n      <td>vertebrate</td>\n    </tr>\n    <tr>\n      <th>721</th>\n      <td></td>\n      <td>Vombatus ursinus ursinus</td>\n      <td></td>\n      <td>Bass Strait Wombat</td>\n      <td>Mammals</td>\n      <td>Vertebrates</td>\n      <td></td>\n      <td>VU</td>\n      <td>Fauna</td>\n      <td>vertebrate</td>\n    </tr>\n    <tr>\n      <th>722</th>\n      <td>end</td>\n      <td>Zearaja maugeana</td>\n      <td>Last &amp; Gledhill</td>\n      <td>Maugean Skate</td>\n      <td>Fish</td>\n      <td>Vertebrates</td>\n      <td>e</td>\n      <td>EN</td>\n      <td>Fauna</td>\n      <td>vertebrate</td>\n    </tr>\n  </tbody>\n</table>\n<p>723 rows × 10 columns</p>\n</div>"
     },
     "execution_count": 26,
     "metadata": {},
     "output_type": "execute_result"
    }
   ],
   "source": [
    "# %%script echo skipping # comment this line to do a list check between test and production and save the changelog\n",
    "\n",
    "print('Downloading TAS Conservation List')\n",
    "taslisturl = \"https://nre.tas.gov.au/Documents/TasThreatenedSpecies.XLS\"\n",
    "conservationlist = pd.read_excel(taslisturl, dtype=str, keep_default_na=False)\n",
    "print('Finished downloading')\n",
    "conservationlist"
   ],
   "metadata": {
    "collapsed": false,
    "pycharm": {
     "name": "#%%\n"
    }
   }
  },
  {
   "cell_type": "code",
   "execution_count": 27,
   "outputs": [
    {
     "data": {
      "text/plain": "array(['v', 'r', 'e', '', 'x', '*'], dtype=object)"
     },
     "execution_count": 27,
     "metadata": {},
     "output_type": "execute_result"
    }
   ],
   "source": [
    "conservationlist['sch'].unique()"
   ],
   "metadata": {
    "collapsed": false,
    "pycharm": {
     "name": "#%%\n"
    }
   }
  },
  {
   "cell_type": "code",
   "execution_count": 28,
   "outputs": [
    {
     "data": {
      "text/plain": "Index(['Origin', 'Species', 'Authority', 'Common Name', 'Family', 'Group',\n       'sch', 'EPBCA', 'Flora/Fauna', 'Classification'],\n      dtype='object')"
     },
     "execution_count": 28,
     "metadata": {},
     "output_type": "execute_result"
    }
   ],
   "source": [
    "conservationlist.columns"
   ],
   "metadata": {
    "collapsed": false,
    "pycharm": {
     "name": "#%%\n"
    }
   }
  },
  {
   "cell_type": "code",
   "execution_count": 29,
   "outputs": [
    {
     "data": {
      "text/plain": "    Origin                         Species            Authority  \\\n0      end                Acacia axillaris               Benth.   \n1      end               Acacia pataczekii           D.I.Morris   \n2                      Acacia siculiformis    A.Cunn. ex Benth.   \n3                        Acacia ulicifolia      (Salisb.) Court   \n4                         Acacia uncifolia  (J.M.Black) O'Leary   \n..     ...                             ...                  ...   \n718    end        Thylacinus cynocephalus                Harris   \n719    end             Thymichthys politus         (Richardson)   \n720    end  Tyto novaehollandiae castanops              (Gould)   \n721               Vombatus ursinus ursinus                        \n722    end                Zearaja maugeana      Last & Gledhill   \n\n            Common Name    Family          Group sch EPBCA Flora/Fauna  \\\n0       midlands wattle  Fabaceae  Dicotyledonae   v    VU       Flora   \n1         wallys wattle  Fabaceae  Dicotyledonae   r             Flora   \n2         dagger wattle  Fabaceae  Dicotyledonae   r             Flora   \n3        juniper wattle  Fabaceae  Dicotyledonae   r             Flora   \n4         coast wirilda  Fabaceae  Dicotyledonae   r             Flora   \n..                  ...       ...            ...  ..   ...         ...   \n718           Thylacine   Mammals    Vertebrates   x    EX       Fauna   \n719        Red Handfish      Fish    Vertebrates   e    CR       Fauna   \n720          Masked Owl     Birds    Vertebrates   e    VU       Fauna   \n721  Bass Strait Wombat   Mammals    Vertebrates        VU       Fauna   \n722       Maugean Skate      Fish    Vertebrates   e    EN       Fauna   \n\n    Classification  \n0         vascular  \n1         vascular  \n2         vascular  \n3         vascular  \n4         vascular  \n..             ...  \n718     vertebrate  \n719     vertebrate  \n720     vertebrate  \n721     vertebrate  \n722     vertebrate  \n\n[723 rows x 10 columns]",
      "text/html": "<div>\n<style scoped>\n    .dataframe tbody tr th:only-of-type {\n        vertical-align: middle;\n    }\n\n    .dataframe tbody tr th {\n        vertical-align: top;\n    }\n\n    .dataframe thead th {\n        text-align: right;\n    }\n</style>\n<table border=\"1\" class=\"dataframe\">\n  <thead>\n    <tr style=\"text-align: right;\">\n      <th></th>\n      <th>Origin</th>\n      <th>Species</th>\n      <th>Authority</th>\n      <th>Common Name</th>\n      <th>Family</th>\n      <th>Group</th>\n      <th>sch</th>\n      <th>EPBCA</th>\n      <th>Flora/Fauna</th>\n      <th>Classification</th>\n    </tr>\n  </thead>\n  <tbody>\n    <tr>\n      <th>0</th>\n      <td>end</td>\n      <td>Acacia axillaris</td>\n      <td>Benth.</td>\n      <td>midlands wattle</td>\n      <td>Fabaceae</td>\n      <td>Dicotyledonae</td>\n      <td>v</td>\n      <td>VU</td>\n      <td>Flora</td>\n      <td>vascular</td>\n    </tr>\n    <tr>\n      <th>1</th>\n      <td>end</td>\n      <td>Acacia pataczekii</td>\n      <td>D.I.Morris</td>\n      <td>wallys wattle</td>\n      <td>Fabaceae</td>\n      <td>Dicotyledonae</td>\n      <td>r</td>\n      <td></td>\n      <td>Flora</td>\n      <td>vascular</td>\n    </tr>\n    <tr>\n      <th>2</th>\n      <td></td>\n      <td>Acacia siculiformis</td>\n      <td>A.Cunn. ex Benth.</td>\n      <td>dagger wattle</td>\n      <td>Fabaceae</td>\n      <td>Dicotyledonae</td>\n      <td>r</td>\n      <td></td>\n      <td>Flora</td>\n      <td>vascular</td>\n    </tr>\n    <tr>\n      <th>3</th>\n      <td></td>\n      <td>Acacia ulicifolia</td>\n      <td>(Salisb.) Court</td>\n      <td>juniper wattle</td>\n      <td>Fabaceae</td>\n      <td>Dicotyledonae</td>\n      <td>r</td>\n      <td></td>\n      <td>Flora</td>\n      <td>vascular</td>\n    </tr>\n    <tr>\n      <th>4</th>\n      <td></td>\n      <td>Acacia uncifolia</td>\n      <td>(J.M.Black) O'Leary</td>\n      <td>coast wirilda</td>\n      <td>Fabaceae</td>\n      <td>Dicotyledonae</td>\n      <td>r</td>\n      <td></td>\n      <td>Flora</td>\n      <td>vascular</td>\n    </tr>\n    <tr>\n      <th>...</th>\n      <td>...</td>\n      <td>...</td>\n      <td>...</td>\n      <td>...</td>\n      <td>...</td>\n      <td>...</td>\n      <td>...</td>\n      <td>...</td>\n      <td>...</td>\n      <td>...</td>\n    </tr>\n    <tr>\n      <th>718</th>\n      <td>end</td>\n      <td>Thylacinus cynocephalus</td>\n      <td>Harris</td>\n      <td>Thylacine</td>\n      <td>Mammals</td>\n      <td>Vertebrates</td>\n      <td>x</td>\n      <td>EX</td>\n      <td>Fauna</td>\n      <td>vertebrate</td>\n    </tr>\n    <tr>\n      <th>719</th>\n      <td>end</td>\n      <td>Thymichthys politus</td>\n      <td>(Richardson)</td>\n      <td>Red Handfish</td>\n      <td>Fish</td>\n      <td>Vertebrates</td>\n      <td>e</td>\n      <td>CR</td>\n      <td>Fauna</td>\n      <td>vertebrate</td>\n    </tr>\n    <tr>\n      <th>720</th>\n      <td>end</td>\n      <td>Tyto novaehollandiae castanops</td>\n      <td>(Gould)</td>\n      <td>Masked Owl</td>\n      <td>Birds</td>\n      <td>Vertebrates</td>\n      <td>e</td>\n      <td>VU</td>\n      <td>Fauna</td>\n      <td>vertebrate</td>\n    </tr>\n    <tr>\n      <th>721</th>\n      <td></td>\n      <td>Vombatus ursinus ursinus</td>\n      <td></td>\n      <td>Bass Strait Wombat</td>\n      <td>Mammals</td>\n      <td>Vertebrates</td>\n      <td></td>\n      <td>VU</td>\n      <td>Fauna</td>\n      <td>vertebrate</td>\n    </tr>\n    <tr>\n      <th>722</th>\n      <td>end</td>\n      <td>Zearaja maugeana</td>\n      <td>Last &amp; Gledhill</td>\n      <td>Maugean Skate</td>\n      <td>Fish</td>\n      <td>Vertebrates</td>\n      <td>e</td>\n      <td>EN</td>\n      <td>Fauna</td>\n      <td>vertebrate</td>\n    </tr>\n  </tbody>\n</table>\n<p>723 rows × 10 columns</p>\n</div>"
     },
     "execution_count": 29,
     "metadata": {},
     "output_type": "execute_result"
    }
   ],
   "source": [
    "conservationlist\n"
   ],
   "metadata": {
    "collapsed": false,
    "pycharm": {
     "name": "#%%\n"
    }
   }
  },
  {
   "cell_type": "markdown",
   "source": [
    "Map DWC terms"
   ],
   "metadata": {
    "collapsed": false,
    "pycharm": {
     "name": "#%% md\n"
    }
   }
  },
  {
   "cell_type": "code",
   "execution_count": 30,
   "outputs": [],
   "source": [
    "conservationlist = conservationlist.rename(columns=\n",
    "{   'Species':'scientificName',\n",
    "    'Common Name':'vernacularName',\n",
    "    'Family':'family',\n",
    "    'sch': 'sourceStatus'\n",
    "})"
   ],
   "metadata": {
    "collapsed": false,
    "pycharm": {
     "name": "#%%\n"
    }
   }
  },
  {
   "cell_type": "code",
   "execution_count": 31,
   "outputs": [],
   "source": [
    "# ## Map statuses\n",
    "state = 'TAS'\n",
    "fname = statusDir + state + \"-codes.csv\"\n",
    "conservationlist = lf.map_status(state, fname, conservationlist)"
   ],
   "metadata": {
    "collapsed": false,
    "pycharm": {
     "name": "#%%\n"
    }
   }
  },
  {
   "cell_type": "code",
   "execution_count": 33,
   "outputs": [
    {
     "data": {
      "text/plain": "    Origin                  scientificName            Authority  \\\n0      end                Acacia axillaris               Benth.   \n1      end               Acacia pataczekii           D.I.Morris   \n2                      Acacia siculiformis    A.Cunn. ex Benth.   \n3                        Acacia ulicifolia      (Salisb.) Court   \n4                         Acacia uncifolia  (J.M.Black) O'Leary   \n..     ...                             ...                  ...   \n718    end        Thylacinus cynocephalus                Harris   \n719    end             Thymichthys politus         (Richardson)   \n720    end  Tyto novaehollandiae castanops              (Gould)   \n721               Vombatus ursinus ursinus                        \n722    end                Zearaja maugeana      Last & Gledhill   \n\n         vernacularName    family          Group sourceStatus EPBCA  \\\n0       midlands wattle  Fabaceae  Dicotyledonae            v    VU   \n1         wallys wattle  Fabaceae  Dicotyledonae            r         \n2         dagger wattle  Fabaceae  Dicotyledonae            r         \n3        juniper wattle  Fabaceae  Dicotyledonae            r         \n4         coast wirilda  Fabaceae  Dicotyledonae            r         \n..                  ...       ...            ...          ...   ...   \n718           Thylacine   Mammals    Vertebrates            x    EX   \n719        Red Handfish      Fish    Vertebrates            e    CR   \n720          Masked Owl     Birds    Vertebrates            e    VU   \n721  Bass Strait Wombat   Mammals    Vertebrates                 VU   \n722       Maugean Skate      Fish    Vertebrates            e    EN   \n\n    Flora/Fauna Classification      status  \n0         Flora       vascular  Vulnerable  \n1         Flora       vascular        Rare  \n2         Flora       vascular        Rare  \n3         Flora       vascular        Rare  \n4         Flora       vascular        Rare  \n..          ...            ...         ...  \n718       Fauna     vertebrate     Extinct  \n719       Fauna     vertebrate  Endangered  \n720       Fauna     vertebrate  Endangered  \n721       Fauna     vertebrate              \n722       Fauna     vertebrate  Endangered  \n\n[723 rows x 11 columns]",
      "text/html": "<div>\n<style scoped>\n    .dataframe tbody tr th:only-of-type {\n        vertical-align: middle;\n    }\n\n    .dataframe tbody tr th {\n        vertical-align: top;\n    }\n\n    .dataframe thead th {\n        text-align: right;\n    }\n</style>\n<table border=\"1\" class=\"dataframe\">\n  <thead>\n    <tr style=\"text-align: right;\">\n      <th></th>\n      <th>Origin</th>\n      <th>scientificName</th>\n      <th>Authority</th>\n      <th>vernacularName</th>\n      <th>family</th>\n      <th>Group</th>\n      <th>sourceStatus</th>\n      <th>EPBCA</th>\n      <th>Flora/Fauna</th>\n      <th>Classification</th>\n      <th>status</th>\n    </tr>\n  </thead>\n  <tbody>\n    <tr>\n      <th>0</th>\n      <td>end</td>\n      <td>Acacia axillaris</td>\n      <td>Benth.</td>\n      <td>midlands wattle</td>\n      <td>Fabaceae</td>\n      <td>Dicotyledonae</td>\n      <td>v</td>\n      <td>VU</td>\n      <td>Flora</td>\n      <td>vascular</td>\n      <td>Vulnerable</td>\n    </tr>\n    <tr>\n      <th>1</th>\n      <td>end</td>\n      <td>Acacia pataczekii</td>\n      <td>D.I.Morris</td>\n      <td>wallys wattle</td>\n      <td>Fabaceae</td>\n      <td>Dicotyledonae</td>\n      <td>r</td>\n      <td></td>\n      <td>Flora</td>\n      <td>vascular</td>\n      <td>Rare</td>\n    </tr>\n    <tr>\n      <th>2</th>\n      <td></td>\n      <td>Acacia siculiformis</td>\n      <td>A.Cunn. ex Benth.</td>\n      <td>dagger wattle</td>\n      <td>Fabaceae</td>\n      <td>Dicotyledonae</td>\n      <td>r</td>\n      <td></td>\n      <td>Flora</td>\n      <td>vascular</td>\n      <td>Rare</td>\n    </tr>\n    <tr>\n      <th>3</th>\n      <td></td>\n      <td>Acacia ulicifolia</td>\n      <td>(Salisb.) Court</td>\n      <td>juniper wattle</td>\n      <td>Fabaceae</td>\n      <td>Dicotyledonae</td>\n      <td>r</td>\n      <td></td>\n      <td>Flora</td>\n      <td>vascular</td>\n      <td>Rare</td>\n    </tr>\n    <tr>\n      <th>4</th>\n      <td></td>\n      <td>Acacia uncifolia</td>\n      <td>(J.M.Black) O'Leary</td>\n      <td>coast wirilda</td>\n      <td>Fabaceae</td>\n      <td>Dicotyledonae</td>\n      <td>r</td>\n      <td></td>\n      <td>Flora</td>\n      <td>vascular</td>\n      <td>Rare</td>\n    </tr>\n    <tr>\n      <th>...</th>\n      <td>...</td>\n      <td>...</td>\n      <td>...</td>\n      <td>...</td>\n      <td>...</td>\n      <td>...</td>\n      <td>...</td>\n      <td>...</td>\n      <td>...</td>\n      <td>...</td>\n      <td>...</td>\n    </tr>\n    <tr>\n      <th>718</th>\n      <td>end</td>\n      <td>Thylacinus cynocephalus</td>\n      <td>Harris</td>\n      <td>Thylacine</td>\n      <td>Mammals</td>\n      <td>Vertebrates</td>\n      <td>x</td>\n      <td>EX</td>\n      <td>Fauna</td>\n      <td>vertebrate</td>\n      <td>Extinct</td>\n    </tr>\n    <tr>\n      <th>719</th>\n      <td>end</td>\n      <td>Thymichthys politus</td>\n      <td>(Richardson)</td>\n      <td>Red Handfish</td>\n      <td>Fish</td>\n      <td>Vertebrates</td>\n      <td>e</td>\n      <td>CR</td>\n      <td>Fauna</td>\n      <td>vertebrate</td>\n      <td>Endangered</td>\n    </tr>\n    <tr>\n      <th>720</th>\n      <td>end</td>\n      <td>Tyto novaehollandiae castanops</td>\n      <td>(Gould)</td>\n      <td>Masked Owl</td>\n      <td>Birds</td>\n      <td>Vertebrates</td>\n      <td>e</td>\n      <td>VU</td>\n      <td>Fauna</td>\n      <td>vertebrate</td>\n      <td>Endangered</td>\n    </tr>\n    <tr>\n      <th>721</th>\n      <td></td>\n      <td>Vombatus ursinus ursinus</td>\n      <td></td>\n      <td>Bass Strait Wombat</td>\n      <td>Mammals</td>\n      <td>Vertebrates</td>\n      <td></td>\n      <td>VU</td>\n      <td>Fauna</td>\n      <td>vertebrate</td>\n      <td></td>\n    </tr>\n    <tr>\n      <th>722</th>\n      <td>end</td>\n      <td>Zearaja maugeana</td>\n      <td>Last &amp; Gledhill</td>\n      <td>Maugean Skate</td>\n      <td>Fish</td>\n      <td>Vertebrates</td>\n      <td>e</td>\n      <td>EN</td>\n      <td>Fauna</td>\n      <td>vertebrate</td>\n      <td>Endangered</td>\n    </tr>\n  </tbody>\n</table>\n<p>723 rows × 11 columns</p>\n</div>"
     },
     "execution_count": 33,
     "metadata": {},
     "output_type": "execute_result"
    }
   ],
   "source": [
    "# remove any with sourceStatus = *\n",
    "conservationlist['status'].fillna(' ', inplace=True)\n",
    "conservationlist = conservationlist[~conservationlist['status'].str.contains('*', regex=False)]\n",
    "conservationlist"
   ],
   "metadata": {
    "collapsed": false,
    "pycharm": {
     "name": "#%%\n"
    }
   }
  },
  {
   "cell_type": "code",
   "execution_count": 34,
   "outputs": [
    {
     "data": {
      "text/plain": "                     scientificName          vernacularName    family  \\\n0                  Acacia axillaris         midlands wattle  Fabaceae   \n1                 Acacia pataczekii           wallys wattle  Fabaceae   \n2               Acacia siculiformis           dagger wattle  Fabaceae   \n3                 Acacia ulicifolia          juniper wattle  Fabaceae   \n4                  Acacia uncifolia           coast wirilda  Fabaceae   \n..                              ...                     ...       ...   \n714        Thalassarche melanophris  Black-browed Albatross     Birds   \n718        Thylacinus cynocephalus                Thylacine   Mammals   \n719             Thymichthys politus            Red Handfish      Fish   \n720  Tyto novaehollandiae castanops              Masked Owl     Birds   \n722                Zearaja maugeana           Maugean Skate      Fish   \n\n         status sourceStatus  \n0    Vulnerable            v  \n1          Rare            r  \n2          Rare            r  \n3          Rare            r  \n4          Rare            r  \n..          ...          ...  \n714  Endangered            e  \n718     Extinct            x  \n719  Endangered            e  \n720  Endangered            e  \n722  Endangered            e  \n\n[685 rows x 5 columns]",
      "text/html": "<div>\n<style scoped>\n    .dataframe tbody tr th:only-of-type {\n        vertical-align: middle;\n    }\n\n    .dataframe tbody tr th {\n        vertical-align: top;\n    }\n\n    .dataframe thead th {\n        text-align: right;\n    }\n</style>\n<table border=\"1\" class=\"dataframe\">\n  <thead>\n    <tr style=\"text-align: right;\">\n      <th></th>\n      <th>scientificName</th>\n      <th>vernacularName</th>\n      <th>family</th>\n      <th>status</th>\n      <th>sourceStatus</th>\n    </tr>\n  </thead>\n  <tbody>\n    <tr>\n      <th>0</th>\n      <td>Acacia axillaris</td>\n      <td>midlands wattle</td>\n      <td>Fabaceae</td>\n      <td>Vulnerable</td>\n      <td>v</td>\n    </tr>\n    <tr>\n      <th>1</th>\n      <td>Acacia pataczekii</td>\n      <td>wallys wattle</td>\n      <td>Fabaceae</td>\n      <td>Rare</td>\n      <td>r</td>\n    </tr>\n    <tr>\n      <th>2</th>\n      <td>Acacia siculiformis</td>\n      <td>dagger wattle</td>\n      <td>Fabaceae</td>\n      <td>Rare</td>\n      <td>r</td>\n    </tr>\n    <tr>\n      <th>3</th>\n      <td>Acacia ulicifolia</td>\n      <td>juniper wattle</td>\n      <td>Fabaceae</td>\n      <td>Rare</td>\n      <td>r</td>\n    </tr>\n    <tr>\n      <th>4</th>\n      <td>Acacia uncifolia</td>\n      <td>coast wirilda</td>\n      <td>Fabaceae</td>\n      <td>Rare</td>\n      <td>r</td>\n    </tr>\n    <tr>\n      <th>...</th>\n      <td>...</td>\n      <td>...</td>\n      <td>...</td>\n      <td>...</td>\n      <td>...</td>\n    </tr>\n    <tr>\n      <th>714</th>\n      <td>Thalassarche melanophris</td>\n      <td>Black-browed Albatross</td>\n      <td>Birds</td>\n      <td>Endangered</td>\n      <td>e</td>\n    </tr>\n    <tr>\n      <th>718</th>\n      <td>Thylacinus cynocephalus</td>\n      <td>Thylacine</td>\n      <td>Mammals</td>\n      <td>Extinct</td>\n      <td>x</td>\n    </tr>\n    <tr>\n      <th>719</th>\n      <td>Thymichthys politus</td>\n      <td>Red Handfish</td>\n      <td>Fish</td>\n      <td>Endangered</td>\n      <td>e</td>\n    </tr>\n    <tr>\n      <th>720</th>\n      <td>Tyto novaehollandiae castanops</td>\n      <td>Masked Owl</td>\n      <td>Birds</td>\n      <td>Endangered</td>\n      <td>e</td>\n    </tr>\n    <tr>\n      <th>722</th>\n      <td>Zearaja maugeana</td>\n      <td>Maugean Skate</td>\n      <td>Fish</td>\n      <td>Endangered</td>\n      <td>e</td>\n    </tr>\n  </tbody>\n</table>\n<p>685 rows × 5 columns</p>\n</div>"
     },
     "execution_count": 34,
     "metadata": {},
     "output_type": "execute_result"
    }
   ],
   "source": [
    "conservationlist = conservationlist.loc[:, ['scientificName', 'vernacularName', 'family', 'status', 'sourceStatus']]\n",
    "conservationlist = conservationlist.dropna(subset=['status'])  # Remove NaN values\n",
    "conservationlist = conservationlist[conservationlist['status'].str.strip() != '']  # Remove whitespace values\n",
    "conservationlist"
   ],
   "metadata": {
    "collapsed": false,
    "pycharm": {
     "name": "#%%\n"
    }
   }
  },
  {
   "cell_type": "markdown",
   "source": [
    "Write dataframe to CSV - UTF-8 encoding"
   ],
   "metadata": {
    "collapsed": false,
    "pycharm": {
     "name": "#%% md\n"
    }
   }
  },
  {
   "cell_type": "code",
   "execution_count": null,
   "outputs": [],
   "source": [
    "print('Writing to CSV')\n",
    "dr = 'dr654'\n",
    "conservationlist.to_csv(projectDir + cdataDir + 'TAS-' + dr + '-conservation.csv', encoding=\"UTF-8\", index=False)\n",
    "print('Finished writing TAS conservation list')"
   ],
   "metadata": {
    "collapsed": false,
    "pycharm": {
     "name": "#%%\n"
    }
   }
  },
  {
   "cell_type": "code",
   "execution_count": null,
   "outputs": [],
   "source": [
    "### Change logs"
   ],
   "metadata": {
    "collapsed": false,
    "pycharm": {
     "name": "#%%\n"
    }
   }
  },
  {
   "cell_type": "code",
   "execution_count": null,
   "outputs": [],
   "source": [
    "ltype = \"C\"\n",
    "changeDir = \"Monitoring/Change-logs/\"\n",
    "# TAS Conservation\n",
    "print('TAS conservation')\n",
    "filename = \"TAS-conservation.csv\"\n",
    "testdr = \"dr654\"\n",
    "proddr = \"dr654\"\n",
    "changelist = lf.get_changelist(testdr, proddr, ltype)\n",
    "changelist.to_csv(projectDir + changeDir + monthStr + \"-\" + filename, encoding=\"UTF-8\", index=False)\n",
    "print('Finished TAS conservation')"
   ],
   "metadata": {
    "collapsed": false,
    "pycharm": {
     "name": "#%%\n"
    }
   }
  },
  {
   "cell_type": "code",
   "execution_count": null,
   "outputs": [],
   "source": [
    "# Download historical lists from Production\n",
    "prodListUrl = \"https://lists.ala.org.au/ws/speciesListItems/\" + proddr + \"?max=10000&includeKVP=true\"\n",
    "prodList = lf.download_ala_specieslist(prodListUrl)  # save the prod list to the historical lists directory\n",
    "prodList = lf.kvp_to_columns(prodList)\n",
    "prodList.to_csv(projectDir + \"historical-lists/conservation/\" + filename, encoding=\"UTF-8\", index=False)\n",
    "print('Finished downloading conservation historical list')"
   ],
   "metadata": {
    "collapsed": false,
    "pycharm": {
     "name": "#%%\n"
    }
   }
  }
 ],
 "metadata": {
  "kernelspec": {
   "display_name": "Python 3",
   "language": "python",
   "name": "python3"
  },
  "language_info": {
   "codemirror_mode": {
    "name": "ipython",
    "version": 2
   },
   "file_extension": ".py",
   "mimetype": "text/x-python",
   "name": "python",
   "nbconvert_exporter": "python",
   "pygments_lexer": "ipython2",
   "version": "2.7.6"
  }
 },
 "nbformat": 4,
 "nbformat_minor": 0
}