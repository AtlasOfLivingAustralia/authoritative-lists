{
 "cells": [
  {
   "cell_type": "markdown",
   "source": [
    "# Report SDS Metadata and record counts\n",
    "\n",
    "This notebook d\n",
    "\n",
    "\n"
   ],
   "metadata": {
    "collapsed": false,
    "pycharm": {
     "name": "#%% md\n"
    }
   }
  },
  {
   "cell_type": "code",
   "execution_count": 1,
   "outputs": [],
   "source": [
    "##############################################################################################\n",
    "#\n",
    "# SDS List Information Report\n",
    "# Extract SDS Information for each state\n",
    "# Output report\n",
    "# Output information files to : ..\\authoritative-lists\\analysis\\reports\n",
    "##############################################################################################\n",
    "#\n",
    "import sys\n",
    "import os\n",
    "import urllib.request\n",
    "import json\n",
    "import certifi\n",
    "import ssl\n",
    "import datetime\n",
    "import pandas as pd\n",
    "\n",
    "projectdir = \"/Users/oco115/PycharmProjects/authoritative-lists/\"\n",
    "outdir = projectdir + \"Monitoring/\"\n",
    "sys.path.append(os.path.abspath(projectdir + \"source-code/includes\"))\n",
    "import list_functions as lf\n",
    "import configuration as cfg\n",
    "monthStr = datetime.datetime.now().strftime('%Y%m%d')\n"
   ],
   "metadata": {
    "collapsed": false,
    "pycharm": {
     "name": "#%%\n"
    }
   }
  },
  {
   "cell_type": "code",
   "execution_count": 13,
   "outputs": [],
   "source": [
    "# species group count\n",
    "def download_url(url: str):\n",
    "    print(\"download from: \", url)\n",
    "    with urllib.request.urlopen(url, context=ssl.create_default_context(cafile=certifi.where())) as url:\n",
    "        if url.status == 200:\n",
    "            data = json.loads(url.read().decode())\n",
    "            data = pd.json_normalize(data)\n",
    "\n",
    "        else:\n",
    "            # Handle the error\n",
    "            print('Error in download_ala_list:', url.status)\n",
    "    return data\n",
    "urlsct = 'https://api.ala.org.au/occurrences/occurrences/facets?q=species_list_uid%3Adr2627&facets=species&flimit=1000'\n",
    "q=species_list_uid%3Adr2627&qualityProfile=ALA"
   ],
   "metadata": {
    "collapsed": false,
    "pycharm": {
     "name": "#%%\n"
    }
   }
  },
  {
   "cell_type": "code",
   "execution_count": 14,
   "outputs": [
    {
     "name": "stdout",
     "output_type": "stream",
     "text": [
      "download from:  https://api.ala.org.au/occurrences/occurrences/facets?q=species_list_uid%3Adr487&facets=species\n"
     ]
    },
    {
     "data": {
      "text/plain": "  fieldName                                        fieldResult  count\n0   species  [{'label': 'Callocephalon fimbriatum', 'i18nCo...    196",
      "text/html": "<div>\n<style scoped>\n    .dataframe tbody tr th:only-of-type {\n        vertical-align: middle;\n    }\n\n    .dataframe tbody tr th {\n        vertical-align: top;\n    }\n\n    .dataframe thead th {\n        text-align: right;\n    }\n</style>\n<table border=\"1\" class=\"dataframe\">\n  <thead>\n    <tr style=\"text-align: right;\">\n      <th></th>\n      <th>fieldName</th>\n      <th>fieldResult</th>\n      <th>count</th>\n    </tr>\n  </thead>\n  <tbody>\n    <tr>\n      <th>0</th>\n      <td>species</td>\n      <td>[{'label': 'Callocephalon fimbriatum', 'i18nCo...</td>\n      <td>196</td>\n    </tr>\n  </tbody>\n</table>\n</div>"
     },
     "execution_count": 14,
     "metadata": {},
     "output_type": "execute_result"
    }
   ],
   "source": [
    "sdata = download_url(urlsct)\n",
    "sdata"
   ],
   "metadata": {
    "collapsed": false,
    "pycharm": {
     "name": "#%%\n"
    }
   }
  },
  {
   "cell_type": "code",
   "execution_count": 9,
   "outputs": [],
   "source": [
    "spCt = sdata['count'][0]"
   ],
   "metadata": {
    "collapsed": false,
    "pycharm": {
     "name": "#%%\n"
    }
   }
  },
  {
   "cell_type": "code",
   "execution_count": 53,
   "outputs": [
    {
     "data": {
      "text/plain": "              name     count  speciesCount  level\n0      ALL_SPECIES  59901282        139228      0\n1          Animals  47977452         81821      1\n2          Mammals   2604795           599      2\n3            Birds  38536636          1934      2\n4         Reptiles    879198          1242      2\n5       Amphibians    721921           249      2\n6           Fishes   2043524          5292      2\n7         Molluscs    507830          9896      2\n8       Arthropods   2390775         52013      2\n9      Crustaceans    345302          7822      3\n10         Insects   1900310         37832      3\n11          Plants  11292812         42060      1\n12      Bryophytes         0             0      2\n13     Gymnosperms     66266           464      2\n14  FernsAndAllies    325691           878      2\n15     Angiosperms  10616921         36109      2\n16        Monocots   3392268          7399      3\n17          Dicots   7224653         29010      3\n18           Fungi    340603         14456      1\n19       Chromista    266788          1245      1\n20        Protozoa        42             9      1\n21        Bacteria      3411           484      1\n22           Algae    360836          2400      1",
      "text/html": "<div>\n<style scoped>\n    .dataframe tbody tr th:only-of-type {\n        vertical-align: middle;\n    }\n\n    .dataframe tbody tr th {\n        vertical-align: top;\n    }\n\n    .dataframe thead th {\n        text-align: right;\n    }\n</style>\n<table border=\"1\" class=\"dataframe\">\n  <thead>\n    <tr style=\"text-align: right;\">\n      <th></th>\n      <th>name</th>\n      <th>count</th>\n      <th>speciesCount</th>\n      <th>level</th>\n    </tr>\n  </thead>\n  <tbody>\n    <tr>\n      <th>0</th>\n      <td>ALL_SPECIES</td>\n      <td>59901282</td>\n      <td>139228</td>\n      <td>0</td>\n    </tr>\n    <tr>\n      <th>1</th>\n      <td>Animals</td>\n      <td>47977452</td>\n      <td>81821</td>\n      <td>1</td>\n    </tr>\n    <tr>\n      <th>2</th>\n      <td>Mammals</td>\n      <td>2604795</td>\n      <td>599</td>\n      <td>2</td>\n    </tr>\n    <tr>\n      <th>3</th>\n      <td>Birds</td>\n      <td>38536636</td>\n      <td>1934</td>\n      <td>2</td>\n    </tr>\n    <tr>\n      <th>4</th>\n      <td>Reptiles</td>\n      <td>879198</td>\n      <td>1242</td>\n      <td>2</td>\n    </tr>\n    <tr>\n      <th>5</th>\n      <td>Amphibians</td>\n      <td>721921</td>\n      <td>249</td>\n      <td>2</td>\n    </tr>\n    <tr>\n      <th>6</th>\n      <td>Fishes</td>\n      <td>2043524</td>\n      <td>5292</td>\n      <td>2</td>\n    </tr>\n    <tr>\n      <th>7</th>\n      <td>Molluscs</td>\n      <td>507830</td>\n      <td>9896</td>\n      <td>2</td>\n    </tr>\n    <tr>\n      <th>8</th>\n      <td>Arthropods</td>\n      <td>2390775</td>\n      <td>52013</td>\n      <td>2</td>\n    </tr>\n    <tr>\n      <th>9</th>\n      <td>Crustaceans</td>\n      <td>345302</td>\n      <td>7822</td>\n      <td>3</td>\n    </tr>\n    <tr>\n      <th>10</th>\n      <td>Insects</td>\n      <td>1900310</td>\n      <td>37832</td>\n      <td>3</td>\n    </tr>\n    <tr>\n      <th>11</th>\n      <td>Plants</td>\n      <td>11292812</td>\n      <td>42060</td>\n      <td>1</td>\n    </tr>\n    <tr>\n      <th>12</th>\n      <td>Bryophytes</td>\n      <td>0</td>\n      <td>0</td>\n      <td>2</td>\n    </tr>\n    <tr>\n      <th>13</th>\n      <td>Gymnosperms</td>\n      <td>66266</td>\n      <td>464</td>\n      <td>2</td>\n    </tr>\n    <tr>\n      <th>14</th>\n      <td>FernsAndAllies</td>\n      <td>325691</td>\n      <td>878</td>\n      <td>2</td>\n    </tr>\n    <tr>\n      <th>15</th>\n      <td>Angiosperms</td>\n      <td>10616921</td>\n      <td>36109</td>\n      <td>2</td>\n    </tr>\n    <tr>\n      <th>16</th>\n      <td>Monocots</td>\n      <td>3392268</td>\n      <td>7399</td>\n      <td>3</td>\n    </tr>\n    <tr>\n      <th>17</th>\n      <td>Dicots</td>\n      <td>7224653</td>\n      <td>29010</td>\n      <td>3</td>\n    </tr>\n    <tr>\n      <th>18</th>\n      <td>Fungi</td>\n      <td>340603</td>\n      <td>14456</td>\n      <td>1</td>\n    </tr>\n    <tr>\n      <th>19</th>\n      <td>Chromista</td>\n      <td>266788</td>\n      <td>1245</td>\n      <td>1</td>\n    </tr>\n    <tr>\n      <th>20</th>\n      <td>Protozoa</td>\n      <td>42</td>\n      <td>9</td>\n      <td>1</td>\n    </tr>\n    <tr>\n      <th>21</th>\n      <td>Bacteria</td>\n      <td>3411</td>\n      <td>484</td>\n      <td>1</td>\n    </tr>\n    <tr>\n      <th>22</th>\n      <td>Algae</td>\n      <td>360836</td>\n      <td>2400</td>\n      <td>1</td>\n    </tr>\n  </tbody>\n</table>\n</div>"
     },
     "execution_count": 53,
     "metadata": {},
     "output_type": "execute_result"
    }
   ],
   "source": [
    "# Species data count info\n",
    "sdata"
   ],
   "metadata": {
    "collapsed": false,
    "pycharm": {
     "name": "#%%\n"
    }
   }
  },
  {
   "cell_type": "code",
   "execution_count": 44,
   "outputs": [
    {
     "data": {
      "text/plain": "  State  ListID  Generalised  Already Generalised   Not Supplied  \\\n0   ACT  dr2627       125215                70871         740199   \n\n   Total Occurrences  Total Species  \n0             196086         139037  ",
      "text/html": "<div>\n<style scoped>\n    .dataframe tbody tr th:only-of-type {\n        vertical-align: middle;\n    }\n\n    .dataframe tbody tr th {\n        vertical-align: top;\n    }\n\n    .dataframe thead th {\n        text-align: right;\n    }\n</style>\n<table border=\"1\" class=\"dataframe\">\n  <thead>\n    <tr style=\"text-align: right;\">\n      <th></th>\n      <th>State</th>\n      <th>ListID</th>\n      <th>Generalised</th>\n      <th>Already Generalised</th>\n      <th>Not Supplied</th>\n      <th>Total Occurrences</th>\n      <th>Total Species</th>\n    </tr>\n  </thead>\n  <tbody>\n    <tr>\n      <th>0</th>\n      <td>ACT</td>\n      <td>dr2627</td>\n      <td>125215</td>\n      <td>70871</td>\n      <td>740199</td>\n      <td>196086</td>\n      <td>139037</td>\n    </tr>\n  </tbody>\n</table>\n</div>"
     },
     "execution_count": 44,
     "metadata": {},
     "output_type": "execute_result"
    }
   ],
   "source": [
    "# Summary data for list\n",
    "cols = ['State', 'ListID', 'Generalised', 'Already Generalised', ' Not Supplied', 'Total Occurrences', 'Total Species']\n",
    "values = [['ACT', 'dr2627', genCt, aGenCt, nsCt, totCt, spCt]]\n",
    "summarydf = pd.DataFrame(columns=cols)\n",
    "# summarydf = pd.DataFrame(values, columns=cols)\n",
    "summarydf = summarydf.append(pd.DataFrame(values, columns=column_headers), ignore_index=True)\n",
    "summarydf"
   ],
   "metadata": {
    "collapsed": false,
    "pycharm": {
     "name": "#%%\n"
    }
   }
  },
  {
   "cell_type": "markdown",
   "source": [],
   "metadata": {
    "collapsed": false,
    "pycharm": {
     "name": "#%% md\n"
    }
   }
  }
 ],
 "metadata": {
  "kernelspec": {
   "display_name": "Python 3",
   "language": "python",
   "name": "python3"
  },
  "language_info": {
   "codemirror_mode": {
    "name": "ipython",
    "version": 2
   },
   "file_extension": ".py",
   "mimetype": "text/x-python",
   "name": "python",
   "nbconvert_exporter": "python",
   "pygments_lexer": "ipython2",
   "version": "2.7.6"
  }
 },
 "nbformat": 4,
 "nbformat_minor": 0
}