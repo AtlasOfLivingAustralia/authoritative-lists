{
 "cells": [
  {
   "cell_type": "markdown",
   "metadata": {
    "collapsed": true,
    "pycharm": {
     "name": "#%% md\n"
    }
   },
   "source": [
    "# Migratory Bird Agreements\n",
    "These lists are downloaded from the [Species Profile and Threats Database](http://www.environment.gov.au/cgi-bin/sprat/public/sprat.pl) (SPRAT) database.\n",
    "\n",
    "See this link for further information: http://www.environment.gov.au/cgi-bin/sprat/public/publicshowmigratory.pl\n",
    "\n",
    "## Bonn Convention\n",
    "This list is comprised of migratory species which are native to Australia and are included in the appendices to the Bonn Convention (Convention on the Conservation of Migratory Species of Wild Animals Appendices I and II).\n",
    "\n",
    "The Bonn Convention appendices identify migratory taxa at and below the species level, as well as some whole families in Appendix II. The convention definition of migratory species is ‘the entire population or any geographically separate part of the population of any species or lower taxon of wild animals, a significant proportion of whose members cyclically and predictably cross one or more national jurisdictional boundaries’. This definition has been adopted in the EPBC Act.\n",
    "\n",
    "The family listings in Appendix II of the Bonn Convention do not explicitly include all members of each family and, for the purposes of the EPBC Act, the family listings include only those species which are native to Australia and are known to be cyclical and predictable migrants into and out of Australia. The taxonomy of families used in the Bonn Convention appendices is not regularly updated.\n",
    "\n",
    "The following codes are used in the Bonn Convention appendices:\n",
    "\n",
    "A1: species listed explicitly in Appendix 1;\n",
    "A2S: species listed explicitly in Appendix 2;\n",
    "A2H: species is member of a family listed in Appendix 2; and\n",
    "A2S*: species listed as a result of a recent taxonomic revision of a species listed explicitly in Appendix 2.\n",
    "\n",
    "This list is comprised of migratory species which are native to Australia and are included in the appendices to the Bonn Convention (Convention on the Conservation of Migratory Species of Wild Animals Appendices I and II);\n",
    "\n",
    "## JAMBA, CAMBA, and ROKAMBA\n",
    "\n",
    "These lists of migratory species established under section 209 of the EPBC Act include:\n",
    "\n",
    "* migratory species included in annexes established under the [Japan-Australia Migratory Bird Agreement](http://www.austlii.edu.au/au/other/dfat/treaties/1981/6.html) (JAMBA) and the [China-Australia Migratory Bird Agreement](http://www.austlii.edu.au/au/other/dfat/treaties/1988/22.html) (CAMBA);\n",
    "* native, migratory species identified in a list established under, or an instrument made under, an international agreement approved by the Minister, such as the [Republic of Korea-Australia Migratory Bird Agreement](http://www.austlii.edu.au/au/other/dfat/treaties/2007/24.html) (ROKAMBA)."
   ]
  },
  {
   "cell_type": "code",
   "execution_count": 1,
   "outputs": [],
   "source": [
    "import pandas as pd\n",
    "\n",
    "projectDir = \"/Users/new330/IdeaProjects/authoritative-lists/\"\n",
    "processedDataDir = projectDir + \"current-lists/conservation-lists/\""
   ],
   "metadata": {
    "collapsed": false,
    "pycharm": {
     "name": "#%%\n"
    }
   }
  },
  {
   "cell_type": "code",
   "execution_count": 2,
   "outputs": [
    {
     "data": {
      "text/plain": "   Taxon ID          Scientific Name                  Common Name  \\\n0     66785  Abebaioscia troglodytes  Pannikin Plains Cave Isopod   \n1      5547    Abelmoschus ficulneus                                \n2     92009     Abrodictyum caudatum          Jungle Bristle-fern   \n3     18340     Abrotanella nivigena                                \n4     81927    Abudefduf bengalensis              Bengal sergeant   \n\n  EPBC Threat Status EPBC Threatened Species Listed Name  \\\n0                NaN                                 NaN   \n1                NaN                                 NaN   \n2                NaN                                 NaN   \n3                NaN                                 NaN   \n4                NaN                                 NaN   \n\n  EPBC Threatened Species Date Effective EPBC Act Migratory Bonn  \\\n0                                    NaN                NaN  NaN   \n1                                    NaN                NaN  NaN   \n2                                    NaN                NaN  NaN   \n3                                    NaN                NaN  NaN   \n4                                    NaN                NaN  NaN   \n\n  Listed Name Bonn CAMBA  ... Ashmore and Cartier Islands  \\\n0              NaN   NaN  ...                         NaN   \n1              NaN   NaN  ...                         NaN   \n2              NaN   NaN  ...                         NaN   \n3              NaN   NaN  ...                         NaN   \n4              NaN   NaN  ...                         NaN   \n\n  Cocos (Keeling) Islands Christmas Island Coral Sea Islands  \\\n0                     NaN              NaN               NaN   \n1                     NaN              NaN               NaN   \n2                     NaN              NaN               NaN   \n3                     NaN              NaN               NaN   \n4                     NaN              NaN               NaN   \n\n  Jervis Bay Territory Norfolk Island Heard and McDonald Islands  \\\n0                  NaN            NaN                        NaN   \n1                  NaN            NaN                        NaN   \n2                  NaN            NaN                        NaN   \n3                  NaN            NaN                        NaN   \n4                  NaN            NaN                        NaN   \n\n  Australian Antarctic Territory Commonwealth Marine Area Unnamed: 65  \n0                            NaN                      NaN         NaN  \n1                            NaN                      NaN         NaN  \n2                            NaN                      NaN         NaN  \n3                            NaN                      NaN         NaN  \n4                            NaN                      NaN         NaN  \n\n[5 rows x 66 columns]",
      "text/html": "<div>\n<style scoped>\n    .dataframe tbody tr th:only-of-type {\n        vertical-align: middle;\n    }\n\n    .dataframe tbody tr th {\n        vertical-align: top;\n    }\n\n    .dataframe thead th {\n        text-align: right;\n    }\n</style>\n<table border=\"1\" class=\"dataframe\">\n  <thead>\n    <tr style=\"text-align: right;\">\n      <th></th>\n      <th>Taxon ID</th>\n      <th>Scientific Name</th>\n      <th>Common Name</th>\n      <th>EPBC Threat Status</th>\n      <th>EPBC Threatened Species Listed Name</th>\n      <th>EPBC Threatened Species Date Effective</th>\n      <th>EPBC Act Migratory</th>\n      <th>Bonn</th>\n      <th>Listed Name Bonn</th>\n      <th>CAMBA</th>\n      <th>...</th>\n      <th>Ashmore and Cartier Islands</th>\n      <th>Cocos (Keeling) Islands</th>\n      <th>Christmas Island</th>\n      <th>Coral Sea Islands</th>\n      <th>Jervis Bay Territory</th>\n      <th>Norfolk Island</th>\n      <th>Heard and McDonald Islands</th>\n      <th>Australian Antarctic Territory</th>\n      <th>Commonwealth Marine Area</th>\n      <th>Unnamed: 65</th>\n    </tr>\n  </thead>\n  <tbody>\n    <tr>\n      <th>0</th>\n      <td>66785</td>\n      <td>Abebaioscia troglodytes</td>\n      <td>Pannikin Plains Cave Isopod</td>\n      <td>NaN</td>\n      <td>NaN</td>\n      <td>NaN</td>\n      <td>NaN</td>\n      <td>NaN</td>\n      <td>NaN</td>\n      <td>NaN</td>\n      <td>...</td>\n      <td>NaN</td>\n      <td>NaN</td>\n      <td>NaN</td>\n      <td>NaN</td>\n      <td>NaN</td>\n      <td>NaN</td>\n      <td>NaN</td>\n      <td>NaN</td>\n      <td>NaN</td>\n      <td>NaN</td>\n    </tr>\n    <tr>\n      <th>1</th>\n      <td>5547</td>\n      <td>Abelmoschus ficulneus</td>\n      <td></td>\n      <td>NaN</td>\n      <td>NaN</td>\n      <td>NaN</td>\n      <td>NaN</td>\n      <td>NaN</td>\n      <td>NaN</td>\n      <td>NaN</td>\n      <td>...</td>\n      <td>NaN</td>\n      <td>NaN</td>\n      <td>NaN</td>\n      <td>NaN</td>\n      <td>NaN</td>\n      <td>NaN</td>\n      <td>NaN</td>\n      <td>NaN</td>\n      <td>NaN</td>\n      <td>NaN</td>\n    </tr>\n    <tr>\n      <th>2</th>\n      <td>92009</td>\n      <td>Abrodictyum caudatum</td>\n      <td>Jungle Bristle-fern</td>\n      <td>NaN</td>\n      <td>NaN</td>\n      <td>NaN</td>\n      <td>NaN</td>\n      <td>NaN</td>\n      <td>NaN</td>\n      <td>NaN</td>\n      <td>...</td>\n      <td>NaN</td>\n      <td>NaN</td>\n      <td>NaN</td>\n      <td>NaN</td>\n      <td>NaN</td>\n      <td>NaN</td>\n      <td>NaN</td>\n      <td>NaN</td>\n      <td>NaN</td>\n      <td>NaN</td>\n    </tr>\n    <tr>\n      <th>3</th>\n      <td>18340</td>\n      <td>Abrotanella nivigena</td>\n      <td></td>\n      <td>NaN</td>\n      <td>NaN</td>\n      <td>NaN</td>\n      <td>NaN</td>\n      <td>NaN</td>\n      <td>NaN</td>\n      <td>NaN</td>\n      <td>...</td>\n      <td>NaN</td>\n      <td>NaN</td>\n      <td>NaN</td>\n      <td>NaN</td>\n      <td>NaN</td>\n      <td>NaN</td>\n      <td>NaN</td>\n      <td>NaN</td>\n      <td>NaN</td>\n      <td>NaN</td>\n    </tr>\n    <tr>\n      <th>4</th>\n      <td>81927</td>\n      <td>Abudefduf bengalensis</td>\n      <td>Bengal sergeant</td>\n      <td>NaN</td>\n      <td>NaN</td>\n      <td>NaN</td>\n      <td>NaN</td>\n      <td>NaN</td>\n      <td>NaN</td>\n      <td>NaN</td>\n      <td>...</td>\n      <td>NaN</td>\n      <td>NaN</td>\n      <td>NaN</td>\n      <td>NaN</td>\n      <td>NaN</td>\n      <td>NaN</td>\n      <td>NaN</td>\n      <td>NaN</td>\n      <td>NaN</td>\n      <td>NaN</td>\n    </tr>\n  </tbody>\n</table>\n<p>5 rows × 66 columns</p>\n</div>"
     },
     "execution_count": 2,
     "metadata": {},
     "output_type": "execute_result"
    }
   ],
   "source": [
    "epbcreport = pd.read_csv(projectDir + \"source-data/EPBCA/10052022-123645-report.csv\",skiprows=1)\n",
    "epbcreport.head()\n"
   ],
   "metadata": {
    "collapsed": false,
    "pycharm": {
     "name": "#%%\n"
    }
   }
  },
  {
   "cell_type": "code",
   "execution_count": 3,
   "outputs": [
    {
     "data": {
      "text/plain": "   taxonID           scientificName               vernacularName status  \\\n0    66785  Abebaioscia troglodytes  Pannikin Plains Cave Isopod    NaN   \n1     5547    Abelmoschus ficulneus                                 NaN   \n2    92009     Abrodictyum caudatum          Jungle Bristle-fern    NaN   \n3    18340     Abrotanella nivigena                                 NaN   \n4    81927    Abudefduf bengalensis              Bengal sergeant    NaN   \n\n  Threatened Species Listed Name Threatened Species Date Effective  \\\n0                            NaN                               NaN   \n1                            NaN                               NaN   \n2                            NaN                               NaN   \n3                            NaN                               NaN   \n4                            NaN                               NaN   \n\n  Act Migratory Bonn Camba Jamba  ... Western Australia  \\\n0           NaN  NaN   NaN   NaN  ...           Present   \n1           NaN  NaN   NaN   NaN  ...               NaN   \n2           NaN  NaN   NaN   NaN  ...               NaN   \n3           NaN  NaN   NaN   NaN  ...               NaN   \n4           NaN  NaN   NaN   NaN  ...               NaN   \n\n  Ashmore and Cartier Islands Cocos  Keeling  Islands Christmas Island  \\\n0                         NaN                     NaN              NaN   \n1                         NaN                     NaN              NaN   \n2                         NaN                     NaN              NaN   \n3                         NaN                     NaN              NaN   \n4                         NaN                     NaN              NaN   \n\n  Coral Sea Islands Jervis Bay Territory Norfolk Island  \\\n0               NaN                  NaN            NaN   \n1               NaN                  NaN            NaN   \n2               NaN                  NaN            NaN   \n3               NaN                  NaN            NaN   \n4               NaN                  NaN            NaN   \n\n  Heard and McDonald Islands Australian Antarctic Territory  \\\n0                        NaN                            NaN   \n1                        NaN                            NaN   \n2                        NaN                            NaN   \n3                        NaN                            NaN   \n4                        NaN                            NaN   \n\n  Commonwealth Marine Area  \n0                      NaN  \n1                      NaN  \n2                      NaN  \n3                      NaN  \n4                      NaN  \n\n[5 rows x 45 columns]",
      "text/html": "<div>\n<style scoped>\n    .dataframe tbody tr th:only-of-type {\n        vertical-align: middle;\n    }\n\n    .dataframe tbody tr th {\n        vertical-align: top;\n    }\n\n    .dataframe thead th {\n        text-align: right;\n    }\n</style>\n<table border=\"1\" class=\"dataframe\">\n  <thead>\n    <tr style=\"text-align: right;\">\n      <th></th>\n      <th>taxonID</th>\n      <th>scientificName</th>\n      <th>vernacularName</th>\n      <th>status</th>\n      <th>Threatened Species Listed Name</th>\n      <th>Threatened Species Date Effective</th>\n      <th>Act Migratory</th>\n      <th>Bonn</th>\n      <th>Camba</th>\n      <th>Jamba</th>\n      <th>...</th>\n      <th>Western Australia</th>\n      <th>Ashmore and Cartier Islands</th>\n      <th>Cocos  Keeling  Islands</th>\n      <th>Christmas Island</th>\n      <th>Coral Sea Islands</th>\n      <th>Jervis Bay Territory</th>\n      <th>Norfolk Island</th>\n      <th>Heard and McDonald Islands</th>\n      <th>Australian Antarctic Territory</th>\n      <th>Commonwealth Marine Area</th>\n    </tr>\n  </thead>\n  <tbody>\n    <tr>\n      <th>0</th>\n      <td>66785</td>\n      <td>Abebaioscia troglodytes</td>\n      <td>Pannikin Plains Cave Isopod</td>\n      <td>NaN</td>\n      <td>NaN</td>\n      <td>NaN</td>\n      <td>NaN</td>\n      <td>NaN</td>\n      <td>NaN</td>\n      <td>NaN</td>\n      <td>...</td>\n      <td>Present</td>\n      <td>NaN</td>\n      <td>NaN</td>\n      <td>NaN</td>\n      <td>NaN</td>\n      <td>NaN</td>\n      <td>NaN</td>\n      <td>NaN</td>\n      <td>NaN</td>\n      <td>NaN</td>\n    </tr>\n    <tr>\n      <th>1</th>\n      <td>5547</td>\n      <td>Abelmoschus ficulneus</td>\n      <td></td>\n      <td>NaN</td>\n      <td>NaN</td>\n      <td>NaN</td>\n      <td>NaN</td>\n      <td>NaN</td>\n      <td>NaN</td>\n      <td>NaN</td>\n      <td>...</td>\n      <td>NaN</td>\n      <td>NaN</td>\n      <td>NaN</td>\n      <td>NaN</td>\n      <td>NaN</td>\n      <td>NaN</td>\n      <td>NaN</td>\n      <td>NaN</td>\n      <td>NaN</td>\n      <td>NaN</td>\n    </tr>\n    <tr>\n      <th>2</th>\n      <td>92009</td>\n      <td>Abrodictyum caudatum</td>\n      <td>Jungle Bristle-fern</td>\n      <td>NaN</td>\n      <td>NaN</td>\n      <td>NaN</td>\n      <td>NaN</td>\n      <td>NaN</td>\n      <td>NaN</td>\n      <td>NaN</td>\n      <td>...</td>\n      <td>NaN</td>\n      <td>NaN</td>\n      <td>NaN</td>\n      <td>NaN</td>\n      <td>NaN</td>\n      <td>NaN</td>\n      <td>NaN</td>\n      <td>NaN</td>\n      <td>NaN</td>\n      <td>NaN</td>\n    </tr>\n    <tr>\n      <th>3</th>\n      <td>18340</td>\n      <td>Abrotanella nivigena</td>\n      <td></td>\n      <td>NaN</td>\n      <td>NaN</td>\n      <td>NaN</td>\n      <td>NaN</td>\n      <td>NaN</td>\n      <td>NaN</td>\n      <td>NaN</td>\n      <td>...</td>\n      <td>NaN</td>\n      <td>NaN</td>\n      <td>NaN</td>\n      <td>NaN</td>\n      <td>NaN</td>\n      <td>NaN</td>\n      <td>NaN</td>\n      <td>NaN</td>\n      <td>NaN</td>\n      <td>NaN</td>\n    </tr>\n    <tr>\n      <th>4</th>\n      <td>81927</td>\n      <td>Abudefduf bengalensis</td>\n      <td>Bengal sergeant</td>\n      <td>NaN</td>\n      <td>NaN</td>\n      <td>NaN</td>\n      <td>NaN</td>\n      <td>NaN</td>\n      <td>NaN</td>\n      <td>NaN</td>\n      <td>...</td>\n      <td>NaN</td>\n      <td>NaN</td>\n      <td>NaN</td>\n      <td>NaN</td>\n      <td>NaN</td>\n      <td>NaN</td>\n      <td>NaN</td>\n      <td>NaN</td>\n      <td>NaN</td>\n      <td>NaN</td>\n    </tr>\n  </tbody>\n</table>\n<p>5 rows × 45 columns</p>\n</div>"
     },
     "execution_count": 3,
     "metadata": {},
     "output_type": "execute_result"
    }
   ],
   "source": [
    "epbcreport = epbcreport.rename(columns=\n",
    "{\n",
    "    'Taxon ID':'taxonID',\n",
    "    'TaxonGroup':'taxonRemarks',\n",
    "    'Scientific Name':'scientificName',\n",
    "    'Common Name':'vernacularName',\n",
    "    'EPBC Threat Status':'status',\n",
    "    'IUCN Red List': 'iucn Red List',\n",
    "    'IUCN Red List Listed Names' : 'iucn Red List Listed Names',\n",
    "    'CAMBA': 'Camba',\n",
    "    'JAMBA': 'Jamba',\n",
    "    'ROKAMBA': 'Rokamba',\n",
    "    'Kingdom':'kingdom',\n",
    "    'Phylum':'phylum',\n",
    "    'Class': 'class',\n",
    "    'Order': 'order',\n",
    "    'Family': 'family',\n",
    "    'Genus': 'genus'\n",
    "})\n",
    "epbcreport=epbcreport.drop(['Unnamed: 65',\n",
    "                            'Listed Name Bonn', 'Listed Name Camba',\n",
    "                            'Listed Name Jamba', 'Listed Name Rokamba',\n",
    "                            'ACT NC Act', 'Listed Name', 'NSW TSC Act and FM Act', 'Listed Name.1',\n",
    "                            'NT TPWC Act', 'Listed Name.2', 'Qld NC Act', 'Listed Name.3',\n",
    "                            'SA NPW Act', 'Listed Name.4', 'Tas. TSP Act', 'Listed Name.5',\n",
    "                            'Vic. FFG Act (Advisory Lists)', 'Listed Name.6', 'WA WC Act',\n",
    "                            'Listed Name.7',\n",
    "                            ],axis=1)\n",
    "epbcreport.columns = epbcreport.columns.str.replace(\"  \", \"\", regex=True) # remove multiple spacesfrom column names\n",
    "epbcreport.columns = epbcreport.columns.str.replace(r\"[().: ]\", \" \", regex=True) # remove : () from column names\n",
    "epbcreport.columns = epbcreport.columns.str.replace(\"EPBC\",\"\", regex=True)\n",
    "epbcreport.columns = epbcreport.columns.str.replace(\"FPAL\",\"\", regex=True)\n",
    "epbcreport.columns = epbcreport.columns.str.strip()\n",
    "epbcreport.head()"
   ],
   "metadata": {
    "collapsed": false,
    "pycharm": {
     "name": "#%%\n"
    }
   }
  },
  {
   "cell_type": "code",
   "execution_count": 4,
   "outputs": [
    {
     "data": {
      "text/plain": "       taxonID                                    scientificName  \\\n586      59570                           Acrocephalus orientalis   \n726      59309                                Actitis hypoleucos   \n1158     68448                            Anoxypristis cuspidata   \n1311       872                                Arenaria interpres   \n1630     67812                          Balaenoptera bonaerensis   \n...        ...                                               ...   \n12738      832                                  Tringa nebularia   \n12740      833                                Tringa stagnatilis   \n12741      835                                    Tringa totanus   \n12825    78900  Tursiops aduncus (Arafura/Timor Sea populations)   \n13252    59300                                    Xenus cinereus   \n\n                                          vernacularName  status  \\\n586                                Oriental Reed-Warbler  Listed   \n726                                     Common Sandpiper  Listed   \n1158                  Narrow Sawfish, Knifetooth Sawfish  Listed   \n1311                                     Ruddy Turnstone  Listed   \n1630    Antarctic Minke Whale, Dark-shoulder Minke Whale  Listed   \n...                                                  ...     ...   \n12738                      Common Greenshank, Greenshank  Listed   \n12740                 Marsh Sandpiper, Little Greenshank  Listed   \n12741                          Common Redshank, Redshank  Listed   \n12825  Spotted Bottlenose Dolphin (Arafura/Timor Sea ...  Listed   \n13252                                    Terek Sandpiper  Listed   \n\n      Threatened Species Listed Name Threatened Species Date Effective  \\\n586                              NaN                               NaN   \n726                              NaN                               NaN   \n1158                             NaN                               NaN   \n1311                             NaN                               NaN   \n1630                             NaN                               NaN   \n...                              ...                               ...   \n12738                            NaN                               NaN   \n12740                            NaN                               NaN   \n12741                            NaN                               NaN   \n12825                            NaN                               NaN   \n13252                            NaN                               NaN   \n\n      Act Migratory    Bonn   Camba   Jamba  ... Ashmore and Cartier Islands  \\\n586          Listed     B2C  Listed  Listed  ...                     Present   \n726          Listed     B2C  Listed  Listed  ...                         NaN   \n1158         Listed  B1, B2     NaN     NaN  ...                         NaN   \n1311         Listed     B2C  Listed  Listed  ...                         NaN   \n1630         Listed      B2     NaN     NaN  ...                     Present   \n...             ...     ...     ...     ...  ...                         ...   \n12738        Listed     B2C  Listed  Listed  ...                         NaN   \n12740        Listed     B2C  Listed  Listed  ...                         NaN   \n12741        Listed     B2C  Listed  Listed  ...                         NaN   \n12825        Listed      B2     NaN     NaN  ...                     Present   \n13252        Listed     B2C  Listed  Listed  ...                         NaN   \n\n      Cocos  Keeling  Islands Christmas Island Coral Sea Islands  \\\n586                       NaN              NaN               NaN   \n726                       NaN              NaN               NaN   \n1158                      NaN              NaN               NaN   \n1311                      NaN              NaN           Present   \n1630                  Present          Present           Present   \n...                       ...              ...               ...   \n12738                     NaN              NaN               NaN   \n12740                     NaN              NaN               NaN   \n12741                     NaN              NaN               NaN   \n12825                     NaN              NaN               NaN   \n13252                     NaN              NaN               NaN   \n\n      Jervis Bay Territory Norfolk Island Heard and McDonald Islands  \\\n586                    NaN            NaN                        NaN   \n726                    NaN            NaN                        NaN   \n1158                   NaN            NaN                        NaN   \n1311                   NaN            NaN                        NaN   \n1630                   NaN        Present                    Present   \n...                    ...            ...                        ...   \n12738                  NaN            NaN                        NaN   \n12740                  NaN            NaN                        NaN   \n12741                  NaN            NaN                        NaN   \n12825                  NaN            NaN                        NaN   \n13252                  NaN            NaN                        NaN   \n\n      Australian Antarctic Territory Commonwealth Marine Area sourceStatus  \n586                              NaN                      NaN       Listed  \n726                              NaN                      NaN       Listed  \n1158                             NaN                      NaN       Listed  \n1311                             NaN                  Present       Listed  \n1630                         Present                  Present       Listed  \n...                              ...                      ...          ...  \n12738                            NaN                      NaN       Listed  \n12740                            NaN                      NaN       Listed  \n12741                            NaN                      NaN       Listed  \n12825                            NaN                  Present       Listed  \n13252                            NaN                      NaN       Listed  \n\n[116 rows x 46 columns]",
      "text/html": "<div>\n<style scoped>\n    .dataframe tbody tr th:only-of-type {\n        vertical-align: middle;\n    }\n\n    .dataframe tbody tr th {\n        vertical-align: top;\n    }\n\n    .dataframe thead th {\n        text-align: right;\n    }\n</style>\n<table border=\"1\" class=\"dataframe\">\n  <thead>\n    <tr style=\"text-align: right;\">\n      <th></th>\n      <th>taxonID</th>\n      <th>scientificName</th>\n      <th>vernacularName</th>\n      <th>status</th>\n      <th>Threatened Species Listed Name</th>\n      <th>Threatened Species Date Effective</th>\n      <th>Act Migratory</th>\n      <th>Bonn</th>\n      <th>Camba</th>\n      <th>Jamba</th>\n      <th>...</th>\n      <th>Ashmore and Cartier Islands</th>\n      <th>Cocos  Keeling  Islands</th>\n      <th>Christmas Island</th>\n      <th>Coral Sea Islands</th>\n      <th>Jervis Bay Territory</th>\n      <th>Norfolk Island</th>\n      <th>Heard and McDonald Islands</th>\n      <th>Australian Antarctic Territory</th>\n      <th>Commonwealth Marine Area</th>\n      <th>sourceStatus</th>\n    </tr>\n  </thead>\n  <tbody>\n    <tr>\n      <th>586</th>\n      <td>59570</td>\n      <td>Acrocephalus orientalis</td>\n      <td>Oriental Reed-Warbler</td>\n      <td>Listed</td>\n      <td>NaN</td>\n      <td>NaN</td>\n      <td>Listed</td>\n      <td>B2C</td>\n      <td>Listed</td>\n      <td>Listed</td>\n      <td>...</td>\n      <td>Present</td>\n      <td>NaN</td>\n      <td>NaN</td>\n      <td>NaN</td>\n      <td>NaN</td>\n      <td>NaN</td>\n      <td>NaN</td>\n      <td>NaN</td>\n      <td>NaN</td>\n      <td>Listed</td>\n    </tr>\n    <tr>\n      <th>726</th>\n      <td>59309</td>\n      <td>Actitis hypoleucos</td>\n      <td>Common Sandpiper</td>\n      <td>Listed</td>\n      <td>NaN</td>\n      <td>NaN</td>\n      <td>Listed</td>\n      <td>B2C</td>\n      <td>Listed</td>\n      <td>Listed</td>\n      <td>...</td>\n      <td>NaN</td>\n      <td>NaN</td>\n      <td>NaN</td>\n      <td>NaN</td>\n      <td>NaN</td>\n      <td>NaN</td>\n      <td>NaN</td>\n      <td>NaN</td>\n      <td>NaN</td>\n      <td>Listed</td>\n    </tr>\n    <tr>\n      <th>1158</th>\n      <td>68448</td>\n      <td>Anoxypristis cuspidata</td>\n      <td>Narrow Sawfish, Knifetooth Sawfish</td>\n      <td>Listed</td>\n      <td>NaN</td>\n      <td>NaN</td>\n      <td>Listed</td>\n      <td>B1, B2</td>\n      <td>NaN</td>\n      <td>NaN</td>\n      <td>...</td>\n      <td>NaN</td>\n      <td>NaN</td>\n      <td>NaN</td>\n      <td>NaN</td>\n      <td>NaN</td>\n      <td>NaN</td>\n      <td>NaN</td>\n      <td>NaN</td>\n      <td>NaN</td>\n      <td>Listed</td>\n    </tr>\n    <tr>\n      <th>1311</th>\n      <td>872</td>\n      <td>Arenaria interpres</td>\n      <td>Ruddy Turnstone</td>\n      <td>Listed</td>\n      <td>NaN</td>\n      <td>NaN</td>\n      <td>Listed</td>\n      <td>B2C</td>\n      <td>Listed</td>\n      <td>Listed</td>\n      <td>...</td>\n      <td>NaN</td>\n      <td>NaN</td>\n      <td>NaN</td>\n      <td>Present</td>\n      <td>NaN</td>\n      <td>NaN</td>\n      <td>NaN</td>\n      <td>NaN</td>\n      <td>Present</td>\n      <td>Listed</td>\n    </tr>\n    <tr>\n      <th>1630</th>\n      <td>67812</td>\n      <td>Balaenoptera bonaerensis</td>\n      <td>Antarctic Minke Whale, Dark-shoulder Minke Whale</td>\n      <td>Listed</td>\n      <td>NaN</td>\n      <td>NaN</td>\n      <td>Listed</td>\n      <td>B2</td>\n      <td>NaN</td>\n      <td>NaN</td>\n      <td>...</td>\n      <td>Present</td>\n      <td>Present</td>\n      <td>Present</td>\n      <td>Present</td>\n      <td>NaN</td>\n      <td>Present</td>\n      <td>Present</td>\n      <td>Present</td>\n      <td>Present</td>\n      <td>Listed</td>\n    </tr>\n    <tr>\n      <th>...</th>\n      <td>...</td>\n      <td>...</td>\n      <td>...</td>\n      <td>...</td>\n      <td>...</td>\n      <td>...</td>\n      <td>...</td>\n      <td>...</td>\n      <td>...</td>\n      <td>...</td>\n      <td>...</td>\n      <td>...</td>\n      <td>...</td>\n      <td>...</td>\n      <td>...</td>\n      <td>...</td>\n      <td>...</td>\n      <td>...</td>\n      <td>...</td>\n      <td>...</td>\n      <td>...</td>\n    </tr>\n    <tr>\n      <th>12738</th>\n      <td>832</td>\n      <td>Tringa nebularia</td>\n      <td>Common Greenshank, Greenshank</td>\n      <td>Listed</td>\n      <td>NaN</td>\n      <td>NaN</td>\n      <td>Listed</td>\n      <td>B2C</td>\n      <td>Listed</td>\n      <td>Listed</td>\n      <td>...</td>\n      <td>NaN</td>\n      <td>NaN</td>\n      <td>NaN</td>\n      <td>NaN</td>\n      <td>NaN</td>\n      <td>NaN</td>\n      <td>NaN</td>\n      <td>NaN</td>\n      <td>NaN</td>\n      <td>Listed</td>\n    </tr>\n    <tr>\n      <th>12740</th>\n      <td>833</td>\n      <td>Tringa stagnatilis</td>\n      <td>Marsh Sandpiper, Little Greenshank</td>\n      <td>Listed</td>\n      <td>NaN</td>\n      <td>NaN</td>\n      <td>Listed</td>\n      <td>B2C</td>\n      <td>Listed</td>\n      <td>Listed</td>\n      <td>...</td>\n      <td>NaN</td>\n      <td>NaN</td>\n      <td>NaN</td>\n      <td>NaN</td>\n      <td>NaN</td>\n      <td>NaN</td>\n      <td>NaN</td>\n      <td>NaN</td>\n      <td>NaN</td>\n      <td>Listed</td>\n    </tr>\n    <tr>\n      <th>12741</th>\n      <td>835</td>\n      <td>Tringa totanus</td>\n      <td>Common Redshank, Redshank</td>\n      <td>Listed</td>\n      <td>NaN</td>\n      <td>NaN</td>\n      <td>Listed</td>\n      <td>B2C</td>\n      <td>Listed</td>\n      <td>Listed</td>\n      <td>...</td>\n      <td>NaN</td>\n      <td>NaN</td>\n      <td>NaN</td>\n      <td>NaN</td>\n      <td>NaN</td>\n      <td>NaN</td>\n      <td>NaN</td>\n      <td>NaN</td>\n      <td>NaN</td>\n      <td>Listed</td>\n    </tr>\n    <tr>\n      <th>12825</th>\n      <td>78900</td>\n      <td>Tursiops aduncus (Arafura/Timor Sea populations)</td>\n      <td>Spotted Bottlenose Dolphin (Arafura/Timor Sea ...</td>\n      <td>Listed</td>\n      <td>NaN</td>\n      <td>NaN</td>\n      <td>Listed</td>\n      <td>B2</td>\n      <td>NaN</td>\n      <td>NaN</td>\n      <td>...</td>\n      <td>Present</td>\n      <td>NaN</td>\n      <td>NaN</td>\n      <td>NaN</td>\n      <td>NaN</td>\n      <td>NaN</td>\n      <td>NaN</td>\n      <td>NaN</td>\n      <td>Present</td>\n      <td>Listed</td>\n    </tr>\n    <tr>\n      <th>13252</th>\n      <td>59300</td>\n      <td>Xenus cinereus</td>\n      <td>Terek Sandpiper</td>\n      <td>Listed</td>\n      <td>NaN</td>\n      <td>NaN</td>\n      <td>Listed</td>\n      <td>B2C</td>\n      <td>Listed</td>\n      <td>Listed</td>\n      <td>...</td>\n      <td>NaN</td>\n      <td>NaN</td>\n      <td>NaN</td>\n      <td>NaN</td>\n      <td>NaN</td>\n      <td>NaN</td>\n      <td>NaN</td>\n      <td>NaN</td>\n      <td>NaN</td>\n      <td>Listed</td>\n    </tr>\n  </tbody>\n</table>\n<p>116 rows × 46 columns</p>\n</div>"
     },
     "execution_count": 4,
     "metadata": {},
     "output_type": "execute_result"
    }
   ],
   "source": [
    "epbcreport.loc[epbcreport[\"Bonn\"].notna(),['status','sourceStatus']] = \"Listed\"\n",
    "bonn = epbcreport.loc[epbcreport[\"Bonn\"].notna()]\n",
    "bonn"
   ],
   "metadata": {
    "collapsed": false,
    "pycharm": {
     "name": "#%%\n"
    }
   }
  },
  {
   "cell_type": "code",
   "execution_count": 5,
   "outputs": [
    {
     "data": {
      "text/plain": "       taxonID           scientificName                      vernacularName  \\\n586      59570  Acrocephalus orientalis               Oriental Reed-Warbler   \n726      59309       Actitis hypoleucos                    Common Sandpiper   \n1155       825           Anous stolidus                        Common Noddy   \n1262       678           Apus pacificus                   Fork-tailed Swift   \n1307     82652     Ardenna tenuirostris             Short-tailed Shearwater   \n...        ...                      ...                                 ...   \n12736      829          Tringa glareola                      Wood Sandpiper   \n12738      832         Tringa nebularia       Common Greenshank, Greenshank   \n12740      833       Tringa stagnatilis  Marsh Sandpiper, Little Greenshank   \n12741      835           Tringa totanus           Common Redshank, Redshank   \n13252    59300           Xenus cinereus                     Terek Sandpiper   \n\n       status Threatened Species Listed Name  \\\n586    Listed                            NaN   \n726    Listed                            NaN   \n1155   Listed                            NaN   \n1262   Listed                            NaN   \n1307   Listed                            NaN   \n...       ...                            ...   \n12736  Listed                            NaN   \n12738  Listed                            NaN   \n12740  Listed                            NaN   \n12741  Listed                            NaN   \n13252  Listed                            NaN   \n\n      Threatened Species Date Effective Act Migratory Bonn   Camba   Jamba  \\\n586                                 NaN        Listed  B2C  Listed  Listed   \n726                                 NaN        Listed  B2C  Listed  Listed   \n1155                                NaN        Listed  NaN  Listed  Listed   \n1262                                NaN        Listed  NaN  Listed  Listed   \n1307                                NaN        Listed  NaN  Listed  Listed   \n...                                 ...           ...  ...     ...     ...   \n12736                               NaN        Listed  B2C  Listed  Listed   \n12738                               NaN        Listed  B2C  Listed  Listed   \n12740                               NaN        Listed  B2C  Listed  Listed   \n12741                               NaN        Listed  B2C  Listed  Listed   \n13252                               NaN        Listed  B2C  Listed  Listed   \n\n       ... Ashmore and Cartier Islands Cocos  Keeling  Islands  \\\n586    ...                     Present                     NaN   \n726    ...                         NaN                     NaN   \n1155   ...                     Present                     NaN   \n1262   ...                         NaN                     NaN   \n1307   ...                         NaN                     NaN   \n...    ...                         ...                     ...   \n12736  ...                         NaN                     NaN   \n12738  ...                         NaN                     NaN   \n12740  ...                         NaN                     NaN   \n12741  ...                         NaN                     NaN   \n13252  ...                         NaN                     NaN   \n\n      Christmas Island Coral Sea Islands Jervis Bay Territory Norfolk Island  \\\n586                NaN               NaN                  NaN            NaN   \n726                NaN               NaN                  NaN            NaN   \n1155               NaN           Present                  NaN            NaN   \n1262               NaN               NaN              Present            NaN   \n1307               NaN               NaN              Present            NaN   \n...                ...               ...                  ...            ...   \n12736              NaN               NaN                  NaN            NaN   \n12738              NaN               NaN                  NaN            NaN   \n12740              NaN               NaN                  NaN            NaN   \n12741              NaN               NaN                  NaN            NaN   \n13252              NaN               NaN                  NaN            NaN   \n\n      Heard and McDonald Islands Australian Antarctic Territory  \\\n586                          NaN                            NaN   \n726                          NaN                            NaN   \n1155                         NaN                            NaN   \n1262                         NaN                            NaN   \n1307                         NaN                            NaN   \n...                          ...                            ...   \n12736                        NaN                            NaN   \n12738                        NaN                            NaN   \n12740                        NaN                            NaN   \n12741                        NaN                            NaN   \n13252                        NaN                            NaN   \n\n      Commonwealth Marine Area sourceStatus  \n586                        NaN       Listed  \n726                        NaN       Listed  \n1155                   Present       Listed  \n1262                   Present       Listed  \n1307                   Present       Listed  \n...                        ...          ...  \n12736                      NaN       Listed  \n12738                      NaN       Listed  \n12740                      NaN       Listed  \n12741                      NaN       Listed  \n13252                      NaN       Listed  \n\n[63 rows x 46 columns]",
      "text/html": "<div>\n<style scoped>\n    .dataframe tbody tr th:only-of-type {\n        vertical-align: middle;\n    }\n\n    .dataframe tbody tr th {\n        vertical-align: top;\n    }\n\n    .dataframe thead th {\n        text-align: right;\n    }\n</style>\n<table border=\"1\" class=\"dataframe\">\n  <thead>\n    <tr style=\"text-align: right;\">\n      <th></th>\n      <th>taxonID</th>\n      <th>scientificName</th>\n      <th>vernacularName</th>\n      <th>status</th>\n      <th>Threatened Species Listed Name</th>\n      <th>Threatened Species Date Effective</th>\n      <th>Act Migratory</th>\n      <th>Bonn</th>\n      <th>Camba</th>\n      <th>Jamba</th>\n      <th>...</th>\n      <th>Ashmore and Cartier Islands</th>\n      <th>Cocos  Keeling  Islands</th>\n      <th>Christmas Island</th>\n      <th>Coral Sea Islands</th>\n      <th>Jervis Bay Territory</th>\n      <th>Norfolk Island</th>\n      <th>Heard and McDonald Islands</th>\n      <th>Australian Antarctic Territory</th>\n      <th>Commonwealth Marine Area</th>\n      <th>sourceStatus</th>\n    </tr>\n  </thead>\n  <tbody>\n    <tr>\n      <th>586</th>\n      <td>59570</td>\n      <td>Acrocephalus orientalis</td>\n      <td>Oriental Reed-Warbler</td>\n      <td>Listed</td>\n      <td>NaN</td>\n      <td>NaN</td>\n      <td>Listed</td>\n      <td>B2C</td>\n      <td>Listed</td>\n      <td>Listed</td>\n      <td>...</td>\n      <td>Present</td>\n      <td>NaN</td>\n      <td>NaN</td>\n      <td>NaN</td>\n      <td>NaN</td>\n      <td>NaN</td>\n      <td>NaN</td>\n      <td>NaN</td>\n      <td>NaN</td>\n      <td>Listed</td>\n    </tr>\n    <tr>\n      <th>726</th>\n      <td>59309</td>\n      <td>Actitis hypoleucos</td>\n      <td>Common Sandpiper</td>\n      <td>Listed</td>\n      <td>NaN</td>\n      <td>NaN</td>\n      <td>Listed</td>\n      <td>B2C</td>\n      <td>Listed</td>\n      <td>Listed</td>\n      <td>...</td>\n      <td>NaN</td>\n      <td>NaN</td>\n      <td>NaN</td>\n      <td>NaN</td>\n      <td>NaN</td>\n      <td>NaN</td>\n      <td>NaN</td>\n      <td>NaN</td>\n      <td>NaN</td>\n      <td>Listed</td>\n    </tr>\n    <tr>\n      <th>1155</th>\n      <td>825</td>\n      <td>Anous stolidus</td>\n      <td>Common Noddy</td>\n      <td>Listed</td>\n      <td>NaN</td>\n      <td>NaN</td>\n      <td>Listed</td>\n      <td>NaN</td>\n      <td>Listed</td>\n      <td>Listed</td>\n      <td>...</td>\n      <td>Present</td>\n      <td>NaN</td>\n      <td>NaN</td>\n      <td>Present</td>\n      <td>NaN</td>\n      <td>NaN</td>\n      <td>NaN</td>\n      <td>NaN</td>\n      <td>Present</td>\n      <td>Listed</td>\n    </tr>\n    <tr>\n      <th>1262</th>\n      <td>678</td>\n      <td>Apus pacificus</td>\n      <td>Fork-tailed Swift</td>\n      <td>Listed</td>\n      <td>NaN</td>\n      <td>NaN</td>\n      <td>Listed</td>\n      <td>NaN</td>\n      <td>Listed</td>\n      <td>Listed</td>\n      <td>...</td>\n      <td>NaN</td>\n      <td>NaN</td>\n      <td>NaN</td>\n      <td>NaN</td>\n      <td>Present</td>\n      <td>NaN</td>\n      <td>NaN</td>\n      <td>NaN</td>\n      <td>Present</td>\n      <td>Listed</td>\n    </tr>\n    <tr>\n      <th>1307</th>\n      <td>82652</td>\n      <td>Ardenna tenuirostris</td>\n      <td>Short-tailed Shearwater</td>\n      <td>Listed</td>\n      <td>NaN</td>\n      <td>NaN</td>\n      <td>Listed</td>\n      <td>NaN</td>\n      <td>Listed</td>\n      <td>Listed</td>\n      <td>...</td>\n      <td>NaN</td>\n      <td>NaN</td>\n      <td>NaN</td>\n      <td>NaN</td>\n      <td>Present</td>\n      <td>NaN</td>\n      <td>NaN</td>\n      <td>NaN</td>\n      <td>Present</td>\n      <td>Listed</td>\n    </tr>\n    <tr>\n      <th>...</th>\n      <td>...</td>\n      <td>...</td>\n      <td>...</td>\n      <td>...</td>\n      <td>...</td>\n      <td>...</td>\n      <td>...</td>\n      <td>...</td>\n      <td>...</td>\n      <td>...</td>\n      <td>...</td>\n      <td>...</td>\n      <td>...</td>\n      <td>...</td>\n      <td>...</td>\n      <td>...</td>\n      <td>...</td>\n      <td>...</td>\n      <td>...</td>\n      <td>...</td>\n      <td>...</td>\n    </tr>\n    <tr>\n      <th>12736</th>\n      <td>829</td>\n      <td>Tringa glareola</td>\n      <td>Wood Sandpiper</td>\n      <td>Listed</td>\n      <td>NaN</td>\n      <td>NaN</td>\n      <td>Listed</td>\n      <td>B2C</td>\n      <td>Listed</td>\n      <td>Listed</td>\n      <td>...</td>\n      <td>NaN</td>\n      <td>NaN</td>\n      <td>NaN</td>\n      <td>NaN</td>\n      <td>NaN</td>\n      <td>NaN</td>\n      <td>NaN</td>\n      <td>NaN</td>\n      <td>NaN</td>\n      <td>Listed</td>\n    </tr>\n    <tr>\n      <th>12738</th>\n      <td>832</td>\n      <td>Tringa nebularia</td>\n      <td>Common Greenshank, Greenshank</td>\n      <td>Listed</td>\n      <td>NaN</td>\n      <td>NaN</td>\n      <td>Listed</td>\n      <td>B2C</td>\n      <td>Listed</td>\n      <td>Listed</td>\n      <td>...</td>\n      <td>NaN</td>\n      <td>NaN</td>\n      <td>NaN</td>\n      <td>NaN</td>\n      <td>NaN</td>\n      <td>NaN</td>\n      <td>NaN</td>\n      <td>NaN</td>\n      <td>NaN</td>\n      <td>Listed</td>\n    </tr>\n    <tr>\n      <th>12740</th>\n      <td>833</td>\n      <td>Tringa stagnatilis</td>\n      <td>Marsh Sandpiper, Little Greenshank</td>\n      <td>Listed</td>\n      <td>NaN</td>\n      <td>NaN</td>\n      <td>Listed</td>\n      <td>B2C</td>\n      <td>Listed</td>\n      <td>Listed</td>\n      <td>...</td>\n      <td>NaN</td>\n      <td>NaN</td>\n      <td>NaN</td>\n      <td>NaN</td>\n      <td>NaN</td>\n      <td>NaN</td>\n      <td>NaN</td>\n      <td>NaN</td>\n      <td>NaN</td>\n      <td>Listed</td>\n    </tr>\n    <tr>\n      <th>12741</th>\n      <td>835</td>\n      <td>Tringa totanus</td>\n      <td>Common Redshank, Redshank</td>\n      <td>Listed</td>\n      <td>NaN</td>\n      <td>NaN</td>\n      <td>Listed</td>\n      <td>B2C</td>\n      <td>Listed</td>\n      <td>Listed</td>\n      <td>...</td>\n      <td>NaN</td>\n      <td>NaN</td>\n      <td>NaN</td>\n      <td>NaN</td>\n      <td>NaN</td>\n      <td>NaN</td>\n      <td>NaN</td>\n      <td>NaN</td>\n      <td>NaN</td>\n      <td>Listed</td>\n    </tr>\n    <tr>\n      <th>13252</th>\n      <td>59300</td>\n      <td>Xenus cinereus</td>\n      <td>Terek Sandpiper</td>\n      <td>Listed</td>\n      <td>NaN</td>\n      <td>NaN</td>\n      <td>Listed</td>\n      <td>B2C</td>\n      <td>Listed</td>\n      <td>Listed</td>\n      <td>...</td>\n      <td>NaN</td>\n      <td>NaN</td>\n      <td>NaN</td>\n      <td>NaN</td>\n      <td>NaN</td>\n      <td>NaN</td>\n      <td>NaN</td>\n      <td>NaN</td>\n      <td>NaN</td>\n      <td>Listed</td>\n    </tr>\n  </tbody>\n</table>\n<p>63 rows × 46 columns</p>\n</div>"
     },
     "execution_count": 5,
     "metadata": {},
     "output_type": "execute_result"
    }
   ],
   "source": [
    "epbcreport.loc[epbcreport[\"Camba\"]==\"Listed\",['status','sourceStatus']] = \"Listed\"\n",
    "camba = epbcreport.loc[epbcreport[\"Camba\"]==\"Listed\"]\n",
    "camba"
   ],
   "metadata": {
    "collapsed": false,
    "pycharm": {
     "name": "#%%\n"
    }
   }
  },
  {
   "cell_type": "code",
   "execution_count": 6,
   "outputs": [],
   "source": [
    "# set the status and sourceStatus values to Listed\n",
    "epbcreport.loc[epbcreport[\"Bonn\"].notna(),['status','sourceStatus']] = \"Listed\"\n",
    "epbcreport.loc[epbcreport[\"Camba\"]==\"Listed\",['status','sourceStatus']] = \"Listed\"\n",
    "epbcreport.loc[epbcreport[\"Jamba\"]==\"Listed\",['status','sourceStatus']] = \"Listed\"\n",
    "epbcreport.loc[epbcreport[\"Rokamba\"]==\"Listed\",['status','sourceStatus']] = \"Listed\"\n",
    "\n",
    "# create each separate list\n",
    "bonn = epbcreport.loc[epbcreport[\"Bonn\"].notna()]\n",
    "camba = epbcreport.loc[epbcreport[\"Camba\"]==\"Listed\"]\n",
    "jamba = epbcreport.loc[epbcreport[\"Jamba\"]==\"Listed\"]\n",
    "rokamba = epbcreport.loc[epbcreport[\"Rokamba\"]==\"Listed\"]\n",
    "\n",
    "# save to file\n",
    "bonn.to_csv(processedDataDir + \"BONN-conservation.csv\",index=False)\n",
    "camba.to_csv(processedDataDir + \"CAMBA-conservation.csv\",index=False)\n",
    "jamba.to_csv(processedDataDir + \"JAMBA-conservation.csv\",index=False)\n",
    "rokamba.to_csv(processedDataDir + \"ROKAMBA-conservation.csv\",index=False)"
   ],
   "metadata": {
    "collapsed": false,
    "pycharm": {
     "name": "#%%\n"
    }
   }
  },
  {
   "cell_type": "markdown",
   "source": [
    "## Record counts"
   ],
   "metadata": {
    "collapsed": false
   }
  },
  {
   "cell_type": "code",
   "execution_count": 7,
   "outputs": [
    {
     "data": {
      "text/plain": "      List  Record Count\n0     Bonn           116\n1    CAMBA            63\n2    JAMBA            74\n3  ROKAMBA            56",
      "text/html": "<div>\n<style scoped>\n    .dataframe tbody tr th:only-of-type {\n        vertical-align: middle;\n    }\n\n    .dataframe tbody tr th {\n        vertical-align: top;\n    }\n\n    .dataframe thead th {\n        text-align: right;\n    }\n</style>\n<table border=\"1\" class=\"dataframe\">\n  <thead>\n    <tr style=\"text-align: right;\">\n      <th></th>\n      <th>List</th>\n      <th>Record Count</th>\n    </tr>\n  </thead>\n  <tbody>\n    <tr>\n      <th>0</th>\n      <td>Bonn</td>\n      <td>116</td>\n    </tr>\n    <tr>\n      <th>1</th>\n      <td>CAMBA</td>\n      <td>63</td>\n    </tr>\n    <tr>\n      <th>2</th>\n      <td>JAMBA</td>\n      <td>74</td>\n    </tr>\n    <tr>\n      <th>3</th>\n      <td>ROKAMBA</td>\n      <td>56</td>\n    </tr>\n  </tbody>\n</table>\n</div>"
     },
     "execution_count": 7,
     "metadata": {},
     "output_type": "execute_result"
    }
   ],
   "source": [
    "table = [[\"Bonn\", len(bonn)]\n",
    "        ,[\"CAMBA\", len(camba)]\n",
    "        ,[\"JAMBA\", len(jamba)]\n",
    "        ,[\"ROKAMBA\",len(rokamba)]]\n",
    "pd.DataFrame(table, columns=[\"List\",\"Record Count\"])"
   ],
   "metadata": {
    "collapsed": false,
    "pycharm": {
     "name": "#%%\n"
    }
   }
  }
 ],
 "metadata": {
  "kernelspec": {
   "display_name": "Python 3",
   "language": "python",
   "name": "python3"
  },
  "language_info": {
   "codemirror_mode": {
    "name": "ipython",
    "version": 2
   },
   "file_extension": ".py",
   "mimetype": "text/x-python",
   "name": "python",
   "nbconvert_exporter": "python",
   "pygments_lexer": "ipython2",
   "version": "2.7.6"
  }
 },
 "nbformat": 4,
 "nbformat_minor": 0
}