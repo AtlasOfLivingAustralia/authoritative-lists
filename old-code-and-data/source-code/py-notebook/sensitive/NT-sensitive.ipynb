{
 "cells": [
  {
   "cell_type": "markdown",
   "source": [
    "# NT Sensitive List\n",
    "\n",
    "## List Identifiers\n",
    "* Sensitive list: __[dr492](https://lists.ala.org.au/speciesListItem/list/dr492)__ (and [dr18690 in test](https://lists-test.ala.org.au/speciesListItem/list/dr18690))\n",
    "\n",
    "## Source Data\n",
    "*  __[Home Page](https://nt.gov.au/environment)__\n",
    "*  __[Fauna](https://nt.gov.au/environment/animals/threatened-animals)__\n",
    "*  __[Flora](https://nt.gov.au/environment/native-plants/threatened-plants)__\n",
    "\n",
    "**Note:** Data was manually copied from website. No API or files available for download. No indication of where to obtain Sensitive list data.\n",
    "\n",
    "**Metadata Description**\n",
    "Classification codes under the Territory Parks and Wildlife Conservation Act: Extinct in the Wild Critically Endangered Endangered Vulnerable Near threatened Data deficient.\n",
    "\n",
    "Learn more about the classifications used by the Department of Natural Resources, Environment, the Arts and Sports.\n",
    "\n",
    "**Note:** Under the Northern Territory Department of Environment and Natural Resources Sensitive Flora and Fauna Data Policy, there are currently no flora records classified as sensitive\n",
    "\n",
    "**Metadata URL**\n",
    "https://nt.gov.au/environment\n",
    "\n"
   ],
   "metadata": {
    "collapsed": false,
    "pycharm": {
     "name": "#%% md\n"
    }
   }
  },
  {
   "cell_type": "code",
   "execution_count": 1,
   "outputs": [],
   "source": [
    "import pandas as pd\n",
    "import os\n",
    "import sys\n",
    "import datetime\n",
    "\n",
    "#projectDir = \"/Users/oco115/PycharmProjects/authoritative-lists/\"\n",
    "projectDir = \"/Users/new330/IdeaProjects/authoritative-lists/\"\n",
    "sourcedir = \"source-data/NT/\"\n",
    "statusDir = projectDir + \"source-data/status-codes/\"\n",
    "sdataDir = \"current-lists/sensitive-lists/\"\n",
    "monthStr = datetime.datetime.now().strftime('%Y%m')\n",
    "sys.path.append(os.path.abspath(projectDir + \"source-code/includes\"))\n",
    "import list_functions as lf\n",
    "prodListDruid = \"dr492\"\n",
    "testListDruid = \"dr18690\"\n",
    "prodListUrl = \"https://lists.ala.org.au/ws/speciesListItems/\" + prodListDruid + \"?max=10000&includeKVP=true\""
   ],
   "metadata": {
    "collapsed": false,
    "pycharm": {
     "name": "#%%\n"
    }
   }
  },
  {
   "cell_type": "markdown",
   "source": [
    "## Download prod list"
   ],
   "metadata": {
    "collapsed": false,
    "pycharm": {
     "name": "#%% md\n"
    }
   }
  },
  {
   "cell_type": "code",
   "execution_count": 2,
   "outputs": [
    {
     "name": "stdout",
     "output_type": "stream",
     "text": [
      "download_ala_list:  https://lists.ala.org.au/ws/speciesListItems/dr492?max=10000&includeKVP=true\n",
      "Index(['id', 'name', 'commonName', 'scientificName', 'lsid', 'dataResourceUid',\n",
      "       'kvpValues'],\n",
      "      dtype='object')\n"
     ]
    },
    {
     "data": {
      "text/plain": "                  scientificName generalisation category\n0               Macroderma gigas           10km       EN\n0          Hipposideros stenotis           10km       EN\n0         Hipposideros inornatus           10km       EN\n0         Pezoporus occidentalis          100km       EN\n0           Polytelis alexandrae           10km       EN\n0  Falco (Hierofalco) hypoleucos           10km       EN\n0              Bellatorias obiri           10km       EN\n0                  Attacus wardi           10km       EN\n0             Ogyris iphis doddi           10km       EN",
      "text/html": "<div>\n<style scoped>\n    .dataframe tbody tr th:only-of-type {\n        vertical-align: middle;\n    }\n\n    .dataframe tbody tr th {\n        vertical-align: top;\n    }\n\n    .dataframe thead th {\n        text-align: right;\n    }\n</style>\n<table border=\"1\" class=\"dataframe\">\n  <thead>\n    <tr style=\"text-align: right;\">\n      <th></th>\n      <th>scientificName</th>\n      <th>generalisation</th>\n      <th>category</th>\n    </tr>\n  </thead>\n  <tbody>\n    <tr>\n      <th>0</th>\n      <td>Macroderma gigas</td>\n      <td>10km</td>\n      <td>EN</td>\n    </tr>\n    <tr>\n      <th>0</th>\n      <td>Hipposideros stenotis</td>\n      <td>10km</td>\n      <td>EN</td>\n    </tr>\n    <tr>\n      <th>0</th>\n      <td>Hipposideros inornatus</td>\n      <td>10km</td>\n      <td>EN</td>\n    </tr>\n    <tr>\n      <th>0</th>\n      <td>Pezoporus occidentalis</td>\n      <td>100km</td>\n      <td>EN</td>\n    </tr>\n    <tr>\n      <th>0</th>\n      <td>Polytelis alexandrae</td>\n      <td>10km</td>\n      <td>EN</td>\n    </tr>\n    <tr>\n      <th>0</th>\n      <td>Falco (Hierofalco) hypoleucos</td>\n      <td>10km</td>\n      <td>EN</td>\n    </tr>\n    <tr>\n      <th>0</th>\n      <td>Bellatorias obiri</td>\n      <td>10km</td>\n      <td>EN</td>\n    </tr>\n    <tr>\n      <th>0</th>\n      <td>Attacus wardi</td>\n      <td>10km</td>\n      <td>EN</td>\n    </tr>\n    <tr>\n      <th>0</th>\n      <td>Ogyris iphis doddi</td>\n      <td>10km</td>\n      <td>EN</td>\n    </tr>\n  </tbody>\n</table>\n</div>"
     },
     "execution_count": 2,
     "metadata": {},
     "output_type": "execute_result"
    }
   ],
   "source": [
    "sensitivelist = lf.download_ala_specieslist(prodListUrl)\n",
    "sensitivelist = lf.kvp_to_columns(sensitivelist)\n",
    "sensitivelist = sensitivelist.drop(['kvpValues', 'dataResourceUid'], axis=1)\n",
    "sensitivelist = sensitivelist[['name', 'generalisation','category']]\n",
    "sensitivelist = sensitivelist.rename(columns= {'name':'scientificName'})\n",
    "sensitivelist"
   ],
   "metadata": {
    "collapsed": false,
    "pycharm": {
     "name": "#%%\n"
    }
   }
  },
  {
   "cell_type": "markdown",
   "source": [
    "# List update\n",
    "**Sept 2023 update** -  Add 2 species for WITHHOLD:\n",
    "Chromolaena odorata\n",
    "Parthenium hysterophorus"
   ],
   "metadata": {
    "collapsed": false
   }
  },
  {
   "cell_type": "code",
   "execution_count": 3,
   "outputs": [
    {
     "data": {
      "text/plain": "                   scientificName generalisation category\n0                Macroderma gigas           10km       EN\n1           Hipposideros stenotis           10km       EN\n2          Hipposideros inornatus           10km       EN\n3          Pezoporus occidentalis          100km       EN\n4            Polytelis alexandrae           10km       EN\n5   Falco (Hierofalco) hypoleucos           10km       EN\n6               Bellatorias obiri           10km       EN\n7                   Attacus wardi           10km       EN\n8              Ogyris iphis doddi           10km       EN\n9             Chromolaena odorata       WITHHOLD    PBC10\n10       Parthenium hysterophorus       WITHHOLD    PBC10",
      "text/html": "<div>\n<style scoped>\n    .dataframe tbody tr th:only-of-type {\n        vertical-align: middle;\n    }\n\n    .dataframe tbody tr th {\n        vertical-align: top;\n    }\n\n    .dataframe thead th {\n        text-align: right;\n    }\n</style>\n<table border=\"1\" class=\"dataframe\">\n  <thead>\n    <tr style=\"text-align: right;\">\n      <th></th>\n      <th>scientificName</th>\n      <th>generalisation</th>\n      <th>category</th>\n    </tr>\n  </thead>\n  <tbody>\n    <tr>\n      <th>0</th>\n      <td>Macroderma gigas</td>\n      <td>10km</td>\n      <td>EN</td>\n    </tr>\n    <tr>\n      <th>1</th>\n      <td>Hipposideros stenotis</td>\n      <td>10km</td>\n      <td>EN</td>\n    </tr>\n    <tr>\n      <th>2</th>\n      <td>Hipposideros inornatus</td>\n      <td>10km</td>\n      <td>EN</td>\n    </tr>\n    <tr>\n      <th>3</th>\n      <td>Pezoporus occidentalis</td>\n      <td>100km</td>\n      <td>EN</td>\n    </tr>\n    <tr>\n      <th>4</th>\n      <td>Polytelis alexandrae</td>\n      <td>10km</td>\n      <td>EN</td>\n    </tr>\n    <tr>\n      <th>5</th>\n      <td>Falco (Hierofalco) hypoleucos</td>\n      <td>10km</td>\n      <td>EN</td>\n    </tr>\n    <tr>\n      <th>6</th>\n      <td>Bellatorias obiri</td>\n      <td>10km</td>\n      <td>EN</td>\n    </tr>\n    <tr>\n      <th>7</th>\n      <td>Attacus wardi</td>\n      <td>10km</td>\n      <td>EN</td>\n    </tr>\n    <tr>\n      <th>8</th>\n      <td>Ogyris iphis doddi</td>\n      <td>10km</td>\n      <td>EN</td>\n    </tr>\n    <tr>\n      <th>9</th>\n      <td>Chromolaena odorata</td>\n      <td>WITHHOLD</td>\n      <td>PBC10</td>\n    </tr>\n    <tr>\n      <th>10</th>\n      <td>Parthenium hysterophorus</td>\n      <td>WITHHOLD</td>\n      <td>PBC10</td>\n    </tr>\n  </tbody>\n</table>\n</div>"
     },
     "execution_count": 3,
     "metadata": {},
     "output_type": "execute_result"
    }
   ],
   "source": [
    "newspecies= pd.DataFrame(data={'scientificName':['Chromolaena odorata','Parthenium hysterophorus'],'generalisation':['WITHHOLD','WITHHOLD'],'category':['PBC10','PBC10']})\n",
    "sensitivelist = pd.concat([sensitivelist,newspecies],ignore_index=True)\n",
    "sensitivelist.to_csv(projectDir + sdataDir + 'NT-' + prodListDruid + '-sensitive.csv', encoding=\"UTF-8\", index=False)\n",
    "sensitivelist"
   ],
   "metadata": {
    "collapsed": false,
    "pycharm": {
     "name": "#%%\n"
    }
   }
  },
  {
   "cell_type": "markdown",
   "source": [
    "### Change Logs\n",
    "Upload the file to the test environment before running the below cell to compare it to the list in production.\n",
    "- check record counts old vs new and verify count in change log\n",
    "- send to domain experts for verification"
   ],
   "metadata": {
    "collapsed": false,
    "pycharm": {
     "name": "#%% md\n"
    }
   }
  },
  {
   "cell_type": "code",
   "execution_count": 4,
   "outputs": [
    {
     "name": "stdout",
     "output_type": "stream",
     "text": [
      "get_changelist: Test -  dr18690 Prod -  dr492\n",
      "download_ala_list:  https://lists.ala.org.au/ws/speciesListItems/dr492?max=10000&includeKVP=true\n",
      "Index(['id', 'name', 'commonName', 'scientificName', 'lsid', 'dataResourceUid',\n",
      "       'kvpValues'],\n",
      "      dtype='object')\n",
      "download_ala_list:  https://lists-test.ala.org.au/ws/speciesListItems/dr18690?max=10000&includeKVP=true\n",
      "Index(['id', 'name', 'commonName', 'scientificName', 'lsid', 'dataResourceUid',\n",
      "       'kvpValues'],\n",
      "      dtype='object')\n"
     ]
    },
    {
     "data": {
      "text/plain": "                        name scientificName_old        scientificName_new  \\\n9        Chromolaena odorata                NaN       Chromolaena odorata   \n10  Parthenium hysterophorus                NaN  Parthenium hysterophorus   \n\n   commonName_old   commonName_new listUpdate  \n9             NaN        Siam Weed      added  \n10            NaN  Parthenium Weed      added  ",
      "text/html": "<div>\n<style scoped>\n    .dataframe tbody tr th:only-of-type {\n        vertical-align: middle;\n    }\n\n    .dataframe tbody tr th {\n        vertical-align: top;\n    }\n\n    .dataframe thead th {\n        text-align: right;\n    }\n</style>\n<table border=\"1\" class=\"dataframe\">\n  <thead>\n    <tr style=\"text-align: right;\">\n      <th></th>\n      <th>name</th>\n      <th>scientificName_old</th>\n      <th>scientificName_new</th>\n      <th>commonName_old</th>\n      <th>commonName_new</th>\n      <th>listUpdate</th>\n    </tr>\n  </thead>\n  <tbody>\n    <tr>\n      <th>9</th>\n      <td>Chromolaena odorata</td>\n      <td>NaN</td>\n      <td>Chromolaena odorata</td>\n      <td>NaN</td>\n      <td>Siam Weed</td>\n      <td>added</td>\n    </tr>\n    <tr>\n      <th>10</th>\n      <td>Parthenium hysterophorus</td>\n      <td>NaN</td>\n      <td>Parthenium hysterophorus</td>\n      <td>NaN</td>\n      <td>Parthenium Weed</td>\n      <td>added</td>\n    </tr>\n  </tbody>\n</table>\n</div>"
     },
     "execution_count": 4,
     "metadata": {},
     "output_type": "execute_result"
    }
   ],
   "source": [
    "ltype = \"S\"\n",
    "changeDir = \"Monitoring/Change-logs/\"\n",
    "filename = \"NT-sensitive.csv\"\n",
    "changelist = lf.get_changelist(testListDruid, prodListDruid, ltype)\n",
    "changelist.to_csv(projectDir + changeDir + monthStr + \"-\" + filename, encoding=\"UTF-8\", index=False)\n",
    "changelist"
   ],
   "metadata": {
    "collapsed": false,
    "pycharm": {
     "name": "#%%\n"
    }
   }
  },
  {
   "cell_type": "markdown",
   "source": [
    "## Back up the list in production to `historical-lists`\n",
    "If all ok, run the following to keep a copy of the list in prod before overwriting it"
   ],
   "metadata": {
    "collapsed": false
   }
  },
  {
   "cell_type": "code",
   "execution_count": 6,
   "outputs": [
    {
     "name": "stdout",
     "output_type": "stream",
     "text": [
      "download_ala_list:  https://lists.ala.org.au/ws/speciesListItems/dr492?max=10000&includeKVP=true\n",
      "Index(['id', 'name', 'commonName', 'scientificName', 'lsid', 'dataResourceUid',\n",
      "       'kvpValues'],\n",
      "      dtype='object')\n"
     ]
    }
   ],
   "source": [
    "state= \"NT\"\n",
    "filename = state + \"-\" + prodListDruid + \"-sensitive.csv\"\n",
    "prodList = lf.download_ala_specieslist(prodListUrl)\n",
    "prodList = lf.kvp_to_columns(prodList)\n",
    "prodList = prodList.drop(['kvpValues', 'dataResourceUid'], axis=1)\n",
    "prodList.to_csv(projectDir + \"historical-lists/sensitive/\" + filename, encoding=\"UTF-8\", index=False)"
   ],
   "metadata": {
    "collapsed": false,
    "pycharm": {
     "name": "#%%\n"
    }
   }
  }
 ],
 "metadata": {
  "kernelspec": {
   "display_name": "Python 3",
   "language": "python",
   "name": "python3"
  },
  "language_info": {
   "codemirror_mode": {
    "name": "ipython",
    "version": 3
   },
   "file_extension": ".py",
   "mimetype": "text/x-python",
   "name": "python",
   "nbconvert_exporter": "python",
   "pygments_lexer": "ipython3",
   "version": "3.8.8"
  }
 },
 "nbformat": 4,
 "nbformat_minor": 5
}