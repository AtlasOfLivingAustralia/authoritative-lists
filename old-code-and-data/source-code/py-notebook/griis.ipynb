{
 "cells": [
  {
   "cell_type": "markdown",
   "metadata": {
    "collapsed": true,
    "pycharm": {
     "name": "#%% md\n"
    }
   },
   "source": [
    "# Global Register of Introduced and Invasive Species - Australia (GRIIS)\n",
    "Import GRIIS list from [GBIF IPT](https://cloud.gbif.org/griis/resource?r=griis-australia)"
   ]
  },
  {
   "cell_type": "code",
   "execution_count": 4,
   "outputs": [],
   "source": [
    "#import essential libraries\n",
    "import pandas as pd\n",
    "import requests\n",
    "import os\n",
    "import zipfile\n",
    "from pathlib import Path"
   ],
   "metadata": {
    "collapsed": false,
    "pycharm": {
     "name": "#%%\n"
    }
   }
  },
  {
   "cell_type": "markdown",
   "source": [
    "Download the Darwin Core Archive and read the species list into a dataframe"
   ],
   "metadata": {
    "collapsed": false,
    "pycharm": {
     "name": "#%% md\n"
    }
   }
  },
  {
   "cell_type": "code",
   "execution_count": 14,
   "outputs": [
    {
     "name": "stdout",
     "output_type": "stream",
     "text": [
      "Downloading dwca\n"
     ]
    }
   ],
   "source": [
    "url = \"https://cloud.gbif.org/griis/archive.do?r=griis-australia&v=1.9\"\n",
    "basedir = \"/Users/oco115/PycharmProjects/authoritative-lists/\"\n",
    "sourcedir = basedir+\"source-data/griis/\"\n",
    "targetdir = basedir+\"current-lists/griis/\"\n",
    "print(\"Downloading dwca\")\n",
    "r = requests.get(url)"
   ],
   "metadata": {
    "collapsed": false,
    "pycharm": {
     "name": "#%%\n"
    }
   }
  },
  {
   "cell_type": "markdown",
   "source": [
    "Retrieve the filename from the headers. Download and unzip the file"
   ],
   "metadata": {
    "collapsed": false,
    "pycharm": {
     "name": "#%% md\n"
    }
   }
  },
  {
   "cell_type": "code",
   "execution_count": 15,
   "outputs": [],
   "source": [
    "#get the filename from the headers and create a directory holder for it\n",
    "basedir = \"/Users/oco115/PycharmProjects/authoritative-lists/\"\n",
    "sourcedir = basedir+\"source-data/griis/\"\n",
    "targetdir = basedir+\"current-lists/griis/\"\n",
    "dwca = sourcedir + r.headers['content-disposition'].split(\"=\")[1].replace('\"','')\n",
    "if Path(dwca).exists():\n",
    "  os.remove(dwca)\n",
    "unzipdirname = dwca[:-len(\".zip\")]\n",
    "if not Path(unzipdirname):\n",
    "  os.mkdir(unzipdirname)\n",
    "#downlaad\n",
    "with open(dwca, \"wb\") as output_file:\n",
    "    output_file.write(r.content)\n",
    "# unzip\n",
    "with zipfile.ZipFile(dwca, 'r') as z:\n",
    "   z.extractall(unzipdirname)"
   ],
   "metadata": {
    "collapsed": false,
    "pycharm": {
     "name": "#%%\n"
    }
   }
  },
  {
   "cell_type": "markdown",
   "source": [
    "Explore the list, looking especially for encoding issues."
   ],
   "metadata": {
    "collapsed": false,
    "pycharm": {
     "name": "#%% md\n"
    }
   }
  },
  {
   "cell_type": "code",
   "execution_count": 16,
   "outputs": [
    {
     "data": {
      "text/plain": "          id  taxonID                                 scientificName  \\\n0     151000   151000  Abelia ×grandiflora (Rovelli ex André) Rehder   \n1     151001   151001                Abelmoschus manihot (L.) Medik.   \n2     151002   151002                    Abutilon grandiflorum G.Don   \n3     151003   151003       Abutilon pictum (Gillies ex Hook.) Walp.   \n4     151004   151004                    Abutilon theophrasti Medik.   \n...      ...      ...                                            ...   \n2947  153979   153979                          Ziziphus jujuba Mill.   \n2948  153980   153980                       Ziziphus mauritiana Lam.   \n2949  153981   153981                      Ziziphus mucronata Willd.   \n2950  153982   153982              Ziziphus spina-christi (L.) Desf.   \n2951  153983   153983  Zoobotryon verticillatum (Delle Chiaje, 1822)   \n\n                                      acceptedNameUsage   kingdom  \\\n0                                                   NaN   Plantae   \n1                                                   NaN   Plantae   \n2                                                   NaN   Plantae   \n3     Callianthe picta (Gillies ex Hook. & Arn.) Don...   Plantae   \n4                                                   NaN   Plantae   \n...                                                 ...       ...   \n2947                                                NaN   Plantae   \n2948                                                NaN   Plantae   \n2949                                                NaN   Plantae   \n2950                                                NaN   Plantae   \n2951          Amathia verticillata (delle Chiaje, 1822)  Animalia   \n\n            phylum          class           order          family taxonRank  \\\n0     Tracheophyta  Magnoliopsida      Dipsacales  Caprifoliaceae   SPECIES   \n1     Tracheophyta  Magnoliopsida        Malvales       Malvaceae   SPECIES   \n2     Tracheophyta  Magnoliopsida        Malvales       Malvaceae   SPECIES   \n3     Tracheophyta  Magnoliopsida        Malvales       Malvaceae   SPECIES   \n4     Tracheophyta  Magnoliopsida        Malvales       Malvaceae   SPECIES   \n...            ...            ...             ...             ...       ...   \n2947  Tracheophyta  Magnoliopsida         Rosales      Rhamnaceae   SPECIES   \n2948  Tracheophyta  Magnoliopsida         Rosales      Rhamnaceae   SPECIES   \n2949  Tracheophyta  Magnoliopsida         Rosales      Rhamnaceae   SPECIES   \n2950  Tracheophyta  Magnoliopsida         Rosales      Rhamnaceae   SPECIES   \n2951       Bryozoa   Gymnolaemata  Ctenostomatida  Vesiculariidae   SPECIES   \n\n     taxonomicStatus  \n0           ACCEPTED  \n1           ACCEPTED  \n2           ACCEPTED  \n3            SYNONYM  \n4           ACCEPTED  \n...              ...  \n2947        ACCEPTED  \n2948        ACCEPTED  \n2949        ACCEPTED  \n2950        ACCEPTED  \n2951         SYNONYM  \n\n[2952 rows x 11 columns]",
      "text/html": "<div>\n<style scoped>\n    .dataframe tbody tr th:only-of-type {\n        vertical-align: middle;\n    }\n\n    .dataframe tbody tr th {\n        vertical-align: top;\n    }\n\n    .dataframe thead th {\n        text-align: right;\n    }\n</style>\n<table border=\"1\" class=\"dataframe\">\n  <thead>\n    <tr style=\"text-align: right;\">\n      <th></th>\n      <th>id</th>\n      <th>taxonID</th>\n      <th>scientificName</th>\n      <th>acceptedNameUsage</th>\n      <th>kingdom</th>\n      <th>phylum</th>\n      <th>class</th>\n      <th>order</th>\n      <th>family</th>\n      <th>taxonRank</th>\n      <th>taxonomicStatus</th>\n    </tr>\n  </thead>\n  <tbody>\n    <tr>\n      <th>0</th>\n      <td>151000</td>\n      <td>151000</td>\n      <td>Abelia ×grandiflora (Rovelli ex André) Rehder</td>\n      <td>NaN</td>\n      <td>Plantae</td>\n      <td>Tracheophyta</td>\n      <td>Magnoliopsida</td>\n      <td>Dipsacales</td>\n      <td>Caprifoliaceae</td>\n      <td>SPECIES</td>\n      <td>ACCEPTED</td>\n    </tr>\n    <tr>\n      <th>1</th>\n      <td>151001</td>\n      <td>151001</td>\n      <td>Abelmoschus manihot (L.) Medik.</td>\n      <td>NaN</td>\n      <td>Plantae</td>\n      <td>Tracheophyta</td>\n      <td>Magnoliopsida</td>\n      <td>Malvales</td>\n      <td>Malvaceae</td>\n      <td>SPECIES</td>\n      <td>ACCEPTED</td>\n    </tr>\n    <tr>\n      <th>2</th>\n      <td>151002</td>\n      <td>151002</td>\n      <td>Abutilon grandiflorum G.Don</td>\n      <td>NaN</td>\n      <td>Plantae</td>\n      <td>Tracheophyta</td>\n      <td>Magnoliopsida</td>\n      <td>Malvales</td>\n      <td>Malvaceae</td>\n      <td>SPECIES</td>\n      <td>ACCEPTED</td>\n    </tr>\n    <tr>\n      <th>3</th>\n      <td>151003</td>\n      <td>151003</td>\n      <td>Abutilon pictum (Gillies ex Hook.) Walp.</td>\n      <td>Callianthe picta (Gillies ex Hook. &amp; Arn.) Don...</td>\n      <td>Plantae</td>\n      <td>Tracheophyta</td>\n      <td>Magnoliopsida</td>\n      <td>Malvales</td>\n      <td>Malvaceae</td>\n      <td>SPECIES</td>\n      <td>SYNONYM</td>\n    </tr>\n    <tr>\n      <th>4</th>\n      <td>151004</td>\n      <td>151004</td>\n      <td>Abutilon theophrasti Medik.</td>\n      <td>NaN</td>\n      <td>Plantae</td>\n      <td>Tracheophyta</td>\n      <td>Magnoliopsida</td>\n      <td>Malvales</td>\n      <td>Malvaceae</td>\n      <td>SPECIES</td>\n      <td>ACCEPTED</td>\n    </tr>\n    <tr>\n      <th>...</th>\n      <td>...</td>\n      <td>...</td>\n      <td>...</td>\n      <td>...</td>\n      <td>...</td>\n      <td>...</td>\n      <td>...</td>\n      <td>...</td>\n      <td>...</td>\n      <td>...</td>\n      <td>...</td>\n    </tr>\n    <tr>\n      <th>2947</th>\n      <td>153979</td>\n      <td>153979</td>\n      <td>Ziziphus jujuba Mill.</td>\n      <td>NaN</td>\n      <td>Plantae</td>\n      <td>Tracheophyta</td>\n      <td>Magnoliopsida</td>\n      <td>Rosales</td>\n      <td>Rhamnaceae</td>\n      <td>SPECIES</td>\n      <td>ACCEPTED</td>\n    </tr>\n    <tr>\n      <th>2948</th>\n      <td>153980</td>\n      <td>153980</td>\n      <td>Ziziphus mauritiana Lam.</td>\n      <td>NaN</td>\n      <td>Plantae</td>\n      <td>Tracheophyta</td>\n      <td>Magnoliopsida</td>\n      <td>Rosales</td>\n      <td>Rhamnaceae</td>\n      <td>SPECIES</td>\n      <td>ACCEPTED</td>\n    </tr>\n    <tr>\n      <th>2949</th>\n      <td>153981</td>\n      <td>153981</td>\n      <td>Ziziphus mucronata Willd.</td>\n      <td>NaN</td>\n      <td>Plantae</td>\n      <td>Tracheophyta</td>\n      <td>Magnoliopsida</td>\n      <td>Rosales</td>\n      <td>Rhamnaceae</td>\n      <td>SPECIES</td>\n      <td>ACCEPTED</td>\n    </tr>\n    <tr>\n      <th>2950</th>\n      <td>153982</td>\n      <td>153982</td>\n      <td>Ziziphus spina-christi (L.) Desf.</td>\n      <td>NaN</td>\n      <td>Plantae</td>\n      <td>Tracheophyta</td>\n      <td>Magnoliopsida</td>\n      <td>Rosales</td>\n      <td>Rhamnaceae</td>\n      <td>SPECIES</td>\n      <td>ACCEPTED</td>\n    </tr>\n    <tr>\n      <th>2951</th>\n      <td>153983</td>\n      <td>153983</td>\n      <td>Zoobotryon verticillatum (Delle Chiaje, 1822)</td>\n      <td>Amathia verticillata (delle Chiaje, 1822)</td>\n      <td>Animalia</td>\n      <td>Bryozoa</td>\n      <td>Gymnolaemata</td>\n      <td>Ctenostomatida</td>\n      <td>Vesiculariidae</td>\n      <td>SPECIES</td>\n      <td>SYNONYM</td>\n    </tr>\n  </tbody>\n</table>\n<p>2952 rows × 11 columns</p>\n</div>"
     },
     "execution_count": 16,
     "metadata": {},
     "output_type": "execute_result"
    }
   ],
   "source": [
    "#explore\n",
    "taxondf = pd.read_csv(unzipdirname + os.sep + \"taxon.txt\",sep=\"\\t\",lineterminator=\"\\n\")\n",
    "taxondf"
   ],
   "metadata": {
    "collapsed": false,
    "pycharm": {
     "name": "#%%\n"
    }
   }
  },
  {
   "cell_type": "markdown",
   "source": [
    "Problem records found by eyeballing. The file specifies UTF-8 encoding but has been encoded in something else."
   ],
   "metadata": {
    "collapsed": false,
    "pycharm": {
     "name": "#%% md\n"
    }
   }
  },
  {
   "cell_type": "code",
   "execution_count": 17,
   "outputs": [
    {
     "data": {
      "text/plain": "      taxonID                                 scientificName\n0      151000  Abelia ×grandiflora (Rovelli ex André) Rehder\n154    151155        Amphilophus citrinellus (Günther, 1864)\n155    151156           Amphilophus labiatus (Günther, 1864)\n612    151617        Cichlasoma trimaculatum (Günther, 1867)\n629    151634              Cladophora prolifera (Roth) Kütz.\n1059   152066               Fallopia convolvulus (L.) Á.Löve\n2080   153106                     Pinus durangensis Martínez",
      "text/html": "<div>\n<style scoped>\n    .dataframe tbody tr th:only-of-type {\n        vertical-align: middle;\n    }\n\n    .dataframe tbody tr th {\n        vertical-align: top;\n    }\n\n    .dataframe thead th {\n        text-align: right;\n    }\n</style>\n<table border=\"1\" class=\"dataframe\">\n  <thead>\n    <tr style=\"text-align: right;\">\n      <th></th>\n      <th>taxonID</th>\n      <th>scientificName</th>\n    </tr>\n  </thead>\n  <tbody>\n    <tr>\n      <th>0</th>\n      <td>151000</td>\n      <td>Abelia ×grandiflora (Rovelli ex André) Rehder</td>\n    </tr>\n    <tr>\n      <th>154</th>\n      <td>151155</td>\n      <td>Amphilophus citrinellus (Günther, 1864)</td>\n    </tr>\n    <tr>\n      <th>155</th>\n      <td>151156</td>\n      <td>Amphilophus labiatus (Günther, 1864)</td>\n    </tr>\n    <tr>\n      <th>612</th>\n      <td>151617</td>\n      <td>Cichlasoma trimaculatum (Günther, 1867)</td>\n    </tr>\n    <tr>\n      <th>629</th>\n      <td>151634</td>\n      <td>Cladophora prolifera (Roth) Kütz.</td>\n    </tr>\n    <tr>\n      <th>1059</th>\n      <td>152066</td>\n      <td>Fallopia convolvulus (L.) Á.Löve</td>\n    </tr>\n    <tr>\n      <th>2080</th>\n      <td>153106</td>\n      <td>Pinus durangensis Martínez</td>\n    </tr>\n  </tbody>\n</table>\n</div>"
     },
     "execution_count": 17,
     "metadata": {},
     "output_type": "execute_result"
    }
   ],
   "source": [
    "taxondf.loc[taxondf['taxonID'].isin([151000,151155,151156,151617,151634,152066,153106])][['taxonID','scientificName']]"
   ],
   "metadata": {
    "collapsed": false,
    "pycharm": {
     "name": "#%%\n"
    }
   }
  },
  {
   "cell_type": "markdown",
   "source": [
    "These values should be:\n",
    "\n",
    "151000 Abelia x grandiflora (Rovelli ex André) Rehder\n",
    "151155 Amphilophus citrinellus (Günther, 1864)\n",
    "151156 Amphilophus labiatus (Günther, 1864)\n",
    "153106 Pinus durangensis Martínez\n",
    "\n",
    "There are many more though, just by searching for a single character:"
   ],
   "metadata": {
    "collapsed": false,
    "pycharm": {
     "name": "#%% md\n"
    }
   }
  },
  {
   "cell_type": "code",
   "execution_count": 18,
   "outputs": [
    {
     "data": {
      "text/plain": "          id  taxonID                                 scientificName  \\\n855   151862   151862               Dianella ensifolia (L.) RedoutÃ©   \n891   151898   151898            Dipolydora flava (ClaparÃ¨de, 1870)   \n1636  152656   152656              Manihot carthaginensis MÃ¼ll.Arg.   \n2253  153281   153281                     Quercus palustris MÃ¼nchh.   \n2444  153472   153472  Schoenoplectus californicus (C.A.Mey.) SojÃ¡k   \n\n     acceptedNameUsage   kingdom        phylum          class         order  \\\n855                NaN   Plantae  Tracheophyta     Liliopsida   Asparagales   \n891                NaN  Animalia      Annelida     Polychaeta      Spionida   \n1636               NaN   Plantae  Tracheophyta  Magnoliopsida  Malpighiales   \n2253               NaN   Plantae  Tracheophyta  Magnoliopsida       Fagales   \n2444               NaN   Plantae  Tracheophyta     Liliopsida        Poales   \n\n             family taxonRank taxonomicStatus  \n855   Asphodelaceae   SPECIES        ACCEPTED  \n891       Spionidae   SPECIES        ACCEPTED  \n1636  Euphorbiaceae   SPECIES        ACCEPTED  \n2253       Fagaceae   SPECIES        ACCEPTED  \n2444     Cyperaceae   SPECIES        ACCEPTED  ",
      "text/html": "<div>\n<style scoped>\n    .dataframe tbody tr th:only-of-type {\n        vertical-align: middle;\n    }\n\n    .dataframe tbody tr th {\n        vertical-align: top;\n    }\n\n    .dataframe thead th {\n        text-align: right;\n    }\n</style>\n<table border=\"1\" class=\"dataframe\">\n  <thead>\n    <tr style=\"text-align: right;\">\n      <th></th>\n      <th>id</th>\n      <th>taxonID</th>\n      <th>scientificName</th>\n      <th>acceptedNameUsage</th>\n      <th>kingdom</th>\n      <th>phylum</th>\n      <th>class</th>\n      <th>order</th>\n      <th>family</th>\n      <th>taxonRank</th>\n      <th>taxonomicStatus</th>\n    </tr>\n  </thead>\n  <tbody>\n    <tr>\n      <th>855</th>\n      <td>151862</td>\n      <td>151862</td>\n      <td>Dianella ensifolia (L.) RedoutÃ©</td>\n      <td>NaN</td>\n      <td>Plantae</td>\n      <td>Tracheophyta</td>\n      <td>Liliopsida</td>\n      <td>Asparagales</td>\n      <td>Asphodelaceae</td>\n      <td>SPECIES</td>\n      <td>ACCEPTED</td>\n    </tr>\n    <tr>\n      <th>891</th>\n      <td>151898</td>\n      <td>151898</td>\n      <td>Dipolydora flava (ClaparÃ¨de, 1870)</td>\n      <td>NaN</td>\n      <td>Animalia</td>\n      <td>Annelida</td>\n      <td>Polychaeta</td>\n      <td>Spionida</td>\n      <td>Spionidae</td>\n      <td>SPECIES</td>\n      <td>ACCEPTED</td>\n    </tr>\n    <tr>\n      <th>1636</th>\n      <td>152656</td>\n      <td>152656</td>\n      <td>Manihot carthaginensis MÃ¼ll.Arg.</td>\n      <td>NaN</td>\n      <td>Plantae</td>\n      <td>Tracheophyta</td>\n      <td>Magnoliopsida</td>\n      <td>Malpighiales</td>\n      <td>Euphorbiaceae</td>\n      <td>SPECIES</td>\n      <td>ACCEPTED</td>\n    </tr>\n    <tr>\n      <th>2253</th>\n      <td>153281</td>\n      <td>153281</td>\n      <td>Quercus palustris MÃ¼nchh.</td>\n      <td>NaN</td>\n      <td>Plantae</td>\n      <td>Tracheophyta</td>\n      <td>Magnoliopsida</td>\n      <td>Fagales</td>\n      <td>Fagaceae</td>\n      <td>SPECIES</td>\n      <td>ACCEPTED</td>\n    </tr>\n    <tr>\n      <th>2444</th>\n      <td>153472</td>\n      <td>153472</td>\n      <td>Schoenoplectus californicus (C.A.Mey.) SojÃ¡k</td>\n      <td>NaN</td>\n      <td>Plantae</td>\n      <td>Tracheophyta</td>\n      <td>Liliopsida</td>\n      <td>Poales</td>\n      <td>Cyperaceae</td>\n      <td>SPECIES</td>\n      <td>ACCEPTED</td>\n    </tr>\n  </tbody>\n</table>\n</div>"
     },
     "execution_count": 18,
     "metadata": {},
     "output_type": "execute_result"
    }
   ],
   "source": [
    "taxondf.loc[taxondf['scientificName'].str.contains('Ã')]"
   ],
   "metadata": {
    "collapsed": false,
    "pycharm": {
     "name": "#%%\n"
    }
   }
  },
  {
   "cell_type": "markdown",
   "source": [
    "ftfy (fixed that for you) library works magic on these"
   ],
   "metadata": {
    "collapsed": false,
    "pycharm": {
     "name": "#%% md\n"
    }
   }
  },
  {
   "cell_type": "code",
   "execution_count": 19,
   "outputs": [
    {
     "data": {
      "text/plain": "'Abelia ×grandiflora (Rovelli ex André) Rehder'"
     },
     "execution_count": 19,
     "metadata": {},
     "output_type": "execute_result"
    }
   ],
   "source": [
    "import ftfy\n",
    "from ftfy import fix_encoding\n",
    "sample = \"Abelia Ã—grandiflora (Rovelli ex AndrÃ©) Rehder\"\n",
    "fix_encoding(sample)"
   ],
   "metadata": {
    "collapsed": false,
    "pycharm": {
     "name": "#%%\n"
    }
   }
  },
  {
   "cell_type": "markdown",
   "source": [
    "Apply to the `scientificName` and `acceptedNameUsage` fields"
   ],
   "metadata": {
    "collapsed": false,
    "pycharm": {
     "name": "#%% md\n"
    }
   }
  },
  {
   "cell_type": "code",
   "execution_count": 22,
   "outputs": [
    {
     "data": {
      "text/plain": "      taxonID                                 scientificName  \\\n0      151000  Abelia ×grandiflora (Rovelli ex André) Rehder   \n1      151001                Abelmoschus manihot (L.) Medik.   \n2      151002                    Abutilon grandiflorum G.Don   \n3      151003       Abutilon pictum (Gillies ex Hook.) Walp.   \n4      151004                    Abutilon theophrasti Medik.   \n...       ...                                            ...   \n2947   153979                          Ziziphus jujuba Mill.   \n2948   153980                       Ziziphus mauritiana Lam.   \n2949   153981                      Ziziphus mucronata Willd.   \n2950   153982              Ziziphus spina-christi (L.) Desf.   \n2951   153983  Zoobotryon verticillatum (Delle Chiaje, 1822)   \n\n                                      acceptedNameUsage  \n0                                                   NaN  \n1                                                   NaN  \n2                                                   NaN  \n3     Callianthe picta (Gillies ex Hook. & Arn.) Don...  \n4                                                   NaN  \n...                                                 ...  \n2947                                                NaN  \n2948                                                NaN  \n2949                                                NaN  \n2950                                                NaN  \n2951          Amathia verticillata (delle Chiaje, 1822)  \n\n[2952 rows x 3 columns]",
      "text/html": "<div>\n<style scoped>\n    .dataframe tbody tr th:only-of-type {\n        vertical-align: middle;\n    }\n\n    .dataframe tbody tr th {\n        vertical-align: top;\n    }\n\n    .dataframe thead th {\n        text-align: right;\n    }\n</style>\n<table border=\"1\" class=\"dataframe\">\n  <thead>\n    <tr style=\"text-align: right;\">\n      <th></th>\n      <th>taxonID</th>\n      <th>scientificName</th>\n      <th>acceptedNameUsage</th>\n    </tr>\n  </thead>\n  <tbody>\n    <tr>\n      <th>0</th>\n      <td>151000</td>\n      <td>Abelia ×grandiflora (Rovelli ex André) Rehder</td>\n      <td>NaN</td>\n    </tr>\n    <tr>\n      <th>1</th>\n      <td>151001</td>\n      <td>Abelmoschus manihot (L.) Medik.</td>\n      <td>NaN</td>\n    </tr>\n    <tr>\n      <th>2</th>\n      <td>151002</td>\n      <td>Abutilon grandiflorum G.Don</td>\n      <td>NaN</td>\n    </tr>\n    <tr>\n      <th>3</th>\n      <td>151003</td>\n      <td>Abutilon pictum (Gillies ex Hook.) Walp.</td>\n      <td>Callianthe picta (Gillies ex Hook. &amp; Arn.) Don...</td>\n    </tr>\n    <tr>\n      <th>4</th>\n      <td>151004</td>\n      <td>Abutilon theophrasti Medik.</td>\n      <td>NaN</td>\n    </tr>\n    <tr>\n      <th>...</th>\n      <td>...</td>\n      <td>...</td>\n      <td>...</td>\n    </tr>\n    <tr>\n      <th>2947</th>\n      <td>153979</td>\n      <td>Ziziphus jujuba Mill.</td>\n      <td>NaN</td>\n    </tr>\n    <tr>\n      <th>2948</th>\n      <td>153980</td>\n      <td>Ziziphus mauritiana Lam.</td>\n      <td>NaN</td>\n    </tr>\n    <tr>\n      <th>2949</th>\n      <td>153981</td>\n      <td>Ziziphus mucronata Willd.</td>\n      <td>NaN</td>\n    </tr>\n    <tr>\n      <th>2950</th>\n      <td>153982</td>\n      <td>Ziziphus spina-christi (L.) Desf.</td>\n      <td>NaN</td>\n    </tr>\n    <tr>\n      <th>2951</th>\n      <td>153983</td>\n      <td>Zoobotryon verticillatum (Delle Chiaje, 1822)</td>\n      <td>Amathia verticillata (delle Chiaje, 1822)</td>\n    </tr>\n  </tbody>\n</table>\n<p>2952 rows × 3 columns</p>\n</div>"
     },
     "execution_count": 22,
     "metadata": {},
     "output_type": "execute_result"
    }
   ],
   "source": [
    "taxondf['scientificName'] = taxondf['scientificName'].apply(fix_encoding)\n",
    "taxondf[['taxonID','scientificName','acceptedNameUsage']]"
   ],
   "metadata": {
    "collapsed": false,
    "pycharm": {
     "name": "#%%\n"
    }
   }
  },
  {
   "cell_type": "markdown",
   "source": [
    "Write the file and remove the original zip download."
   ],
   "metadata": {
    "collapsed": false,
    "pycharm": {
     "name": "#%% md\n"
    }
   }
  },
  {
   "cell_type": "code",
   "execution_count": 24,
   "outputs": [],
   "source": [
    "taxondf.to_csv(targetdir+\"griis-1.9.csv\",index=False)\n",
    "# os.remove(dwca)"
   ],
   "metadata": {
    "collapsed": false,
    "pycharm": {
     "name": "#%%\n"
    }
   }
  }
 ],
 "metadata": {
  "kernelspec": {
   "display_name": "Python 3",
   "language": "python",
   "name": "python3"
  },
  "language_info": {
   "codemirror_mode": {
    "name": "ipython",
    "version": 2
   },
   "file_extension": ".py",
   "mimetype": "text/x-python",
   "name": "python",
   "nbconvert_exporter": "python",
   "pygments_lexer": "ipython2",
   "version": "2.7.6"
  }
 },
 "nbformat": 4,
 "nbformat_minor": 0
}